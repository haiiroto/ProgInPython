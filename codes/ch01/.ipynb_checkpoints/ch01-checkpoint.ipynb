{
 "cells": [
  {
   "cell_type": "markdown",
   "metadata": {},
   "source": [
    "* 목표: 숫자 5 맞추기 게임 개발\n",
    "\n",
    "* 목표를 달성하기 위해 프로그램을 작성해야 함.\n",
    "* 목표 프로그램을 어떻게 구현할 것인가?\n",
    "\n",
    "* 필요 요소\n",
    "    * 사용자로부터 입력 받아 저장하는 수단\n",
    "        * input 함수\n",
    "    * 두 개의 숫자를 비교하는 수단\n",
    "        * ==\n",
    "    * 판단을 하고 판단 결과에 따라 다른 일을 하도록 하는 수단\n",
    "        * if ... [else ...]\n",
    "    * 출력 수단\n",
    "        * print 함수"
   ]
  },
  {
   "cell_type": "code",
   "execution_count": 8,
   "metadata": {},
   "outputs": [
    {
     "name": "stdout",
     "output_type": "stream",
     "text": [
      "숫자를 입력하세요: abc\n"
     ]
    },
    {
     "ename": "TypeError",
     "evalue": "must be str, not int",
     "output_type": "error",
     "traceback": [
      "\u001b[1;31m---------------------------------------------------------------------------\u001b[0m",
      "\u001b[1;31mTypeError\u001b[0m                                 Traceback (most recent call last)",
      "\u001b[1;32m<ipython-input-8-7fc97f4dac84>\u001b[0m in \u001b[0;36m<module>\u001b[1;34m()\u001b[0m\n\u001b[0;32m      1\u001b[0m \u001b[1;31m# 사용자로부터 입력 받아 저장하는 수단: input 함수\u001b[0m\u001b[1;33m\u001b[0m\u001b[1;33m\u001b[0m\u001b[0m\n\u001b[0;32m      2\u001b[0m \u001b[0mg\u001b[0m \u001b[1;33m=\u001b[0m \u001b[0minput\u001b[0m\u001b[1;33m(\u001b[0m\u001b[1;34m\"숫자를 입력하세요: \"\u001b[0m\u001b[1;33m)\u001b[0m\u001b[1;33m\u001b[0m\u001b[0m\n\u001b[1;32m----> 3\u001b[1;33m \u001b[0mprint\u001b[0m\u001b[1;33m(\u001b[0m\u001b[0mg\u001b[0m\u001b[1;33m+\u001b[0m\u001b[1;36m1\u001b[0m\u001b[1;33m)\u001b[0m\u001b[1;33m\u001b[0m\u001b[0m\n\u001b[0m\u001b[0;32m      4\u001b[0m \u001b[1;33m\u001b[0m\u001b[0m\n\u001b[0;32m      5\u001b[0m \u001b[1;31m# 두 개의 숫자를 비교하는 수단: ==\u001b[0m\u001b[1;33m\u001b[0m\u001b[1;33m\u001b[0m\u001b[0m\n",
      "\u001b[1;31mTypeError\u001b[0m: must be str, not int"
     ]
    }
   ],
   "source": [
    "# 사용자로부터 입력 받아 저장하는 수단: input 함수\n",
    "# C언어의 경우: 변수에 자료형을 미리 선언해야 함\n",
    "# int guess 란 식으로 미리 선언해야 함\n",
    "# 반면에 파이썬에서는 않함\n",
    "\n",
    "g = input(\"숫자를 입력하세요: \")\n",
    "guess = int(g)\n",
    "\n",
    "\n",
    "# 두 개의 숫자를 비교하는 수단: ==\n",
    "\n",
    "# 판단을 하고 판단 결과에 따라 다른 일을 하도록 하는 수단: if ... [else ...]\n",
    "\n",
    "# 출력 수단:print 함수"
   ]
  },
  {
   "cell_type": "code",
   "execution_count": 10,
   "metadata": {},
   "outputs": [
    {
     "name": "stdout",
     "output_type": "stream",
     "text": [
      "Welcome!\n",
      "Guess the number: 3\n",
      "Too low\n",
      "Game over!\n"
     ]
    }
   ],
   "source": [
    "print(\"Welcome!\") \n",
    "g = input(\"Guess the number: \") \n",
    "guess = int(g) \n",
    "if guess == 5: \n",
    "    print(\"You win!\") \n",
    "else: \n",
    "    if guess > secret: \n",
    "        print(\"Too high\") \n",
    "    else: \n",
    "        print(\"Too low\") \n",
    "print(\"Game over!\")"
   ]
  },
  {
   "cell_type": "code",
   "execution_count": 8,
   "metadata": {},
   "outputs": [
    {
     "name": "stdout",
     "output_type": "stream",
     "text": [
      "Welcome!\n",
      "Guess the number: 4\n",
      "Too low\n",
      "Game over!\n"
     ]
    }
   ],
   "source": [
    "from random import randint \n",
    "secret = randint(1, 10) \n",
    "print(\"Welcome!\") \n",
    "g = input(\"Guess the number: \") \n",
    "guess = int(g) \n",
    "if guess == secret: \n",
    "    print(\"You win!\") \n",
    "else: \n",
    "    if guess > secret: \n",
    "        print(\"Too high\") \n",
    "    else: \n",
    "        print(\"Too low\") \n",
    "print(\"Game over!\")"
   ]
  },
  {
   "cell_type": "code",
   "execution_count": 1,
   "metadata": {},
   "outputs": [
    {
     "name": "stdout",
     "output_type": "stream",
     "text": [
      "Welcome!\n",
      "Guess the number: 7\n",
      "Too high\n",
      "Guess the number: 4\n",
      "Too low\n",
      "Guess the number: 6\n",
      "You win!\n",
      "Game over!\n"
     ]
    }
   ],
   "source": [
    "from random import randint \n",
    "secret = randint(1, 10) \n",
    "print(\"Welcome!\") \n",
    "guess = 0 \n",
    "while guess != secret: \n",
    "    g = input(\"Guess the number: \") \n",
    "    guess = int(g) \n",
    "    if guess == secret: \n",
    "        print(\"You win!\") \n",
    "    else: \n",
    "        if guess > secret: \n",
    "            print(\"Too high\") \n",
    "        else: \n",
    "            print(\"Too low\") \n",
    "print(\"Game over!\")"
   ]
  }
 ],
 "metadata": {
  "kernelspec": {
   "display_name": "Python 3",
   "language": "python",
   "name": "python3"
  },
  "language_info": {
   "codemirror_mode": {
    "name": "ipython",
    "version": 3
   },
   "file_extension": ".py",
   "mimetype": "text/x-python",
   "name": "python",
   "nbconvert_exporter": "python",
   "pygments_lexer": "ipython3",
   "version": "3.6.3"
  }
 },
 "nbformat": 4,
 "nbformat_minor": 2
}
