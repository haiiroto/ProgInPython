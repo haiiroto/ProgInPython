{
 "cells": [
  {
   "cell_type": "markdown",
   "metadata": {},
   "source": [
    "# 기본 자료형: 문자열"
   ]
  },
  {
   "cell_type": "markdown",
   "metadata": {},
   "source": [
    "_[Think Python의 8장](http://greenteapress.com/thinkpython2/html/thinkpython2009.html) \n",
    "내용을 요약 및 수정한 내용입니다._"
   ]
  },
  {
   "cell_type": "markdown",
   "metadata": {},
   "source": [
    "## 문자열이란?"
   ]
  },
  {
   "cell_type": "markdown",
   "metadata": {},
   "source": [
    "**문자열**은 문자들을 나열하여 하나로 묶은 대상을 가리킨다. \n",
    "쉽게 말해서 키보드를 이용하여 입력할 수 있는 모든 기호들의 조합이 문자열이다.\n",
    "문자열들의 자료형은 `str`이며 string(스트링)의 약어이다.\n",
    "문자열은 작은따옴표(`'`) 또는 큰따옴표(`\"`)로 감싸인다.\n",
    "문자열 자료형은 모든 프로그래밍 언어에서 기본으로 제공될 정도로, \n",
    "프로그래밍 언어의 핵심 요소이다.\n",
    "\n",
    "**주의:** \n",
    "작은따옴표와 큰따옴표를 혼합하여 문자열을 감싸면 오류가 발생한다.\n",
    "\n",
    "여러 개의 문자들을 나열했다는 의미에서, \n",
    "문자열 자료형을 **시퀀스**(sequence) 자료형의 일종으로 본다.\n",
    "또한 여러 개의 값을 하나로 묶어서 다룬다는 의미로 **모음**(collection) 자료형으로 \n",
    "불리기도 한다.\n",
    "\n",
    "**참고:**\n",
    "시퀀스 또는 모음 자료형에는 문자열 이외에 \n",
    "리스트(`list`), 튜플(`tuple`), 어레이(`array`) 자료형도 포함된다.\n",
    "반면에 사전(딕셔너리, dictionary) 자료형 `dict`는\n",
    "모음 자료형에 포함되지만 시퀀스 자료형은 아니다.\n",
    "이유는 시퀀스 자료형은 포함된 항목들 사이에 순서 개념이 있어야 하기 때문인데,\n",
    "파이썬의 사전 자료형에는 순서 개념이 없다."
   ]
  },
  {
   "cell_type": "markdown",
   "metadata": {},
   "source": [
    "## 특수 문자"
   ]
  },
  {
   "cell_type": "markdown",
   "metadata": {},
   "source": [
    "### 따옴표"
   ]
  },
  {
   "cell_type": "markdown",
   "metadata": {},
   "source": [
    "따옴표가 포함된 아래 문장을 문자열로 사용하고자 한다.\n",
    "\n",
    "    opentutorial's \"lectures\" are great.\n",
    "    \n",
    "그런데 위 문장을 작은따옴표나 큰따옴표로 감싸면 구문 오류(SyntaxError)가 발생한다."
   ]
  },
  {
   "cell_type": "code",
   "execution_count": 1,
   "metadata": {},
   "outputs": [
    {
     "ename": "SyntaxError",
     "evalue": "invalid syntax (<ipython-input-1-7d8bd4eacdbd>, line 1)",
     "output_type": "error",
     "traceback": [
      "\u001b[0;36m  File \u001b[0;32m\"<ipython-input-1-7d8bd4eacdbd>\"\u001b[0;36m, line \u001b[0;32m1\u001b[0m\n\u001b[0;31m    print(\"opentutorial's \"lectures\" are great.\")\u001b[0m\n\u001b[0m                                  ^\u001b[0m\n\u001b[0;31mSyntaxError\u001b[0m\u001b[0;31m:\u001b[0m invalid syntax\n"
     ]
    }
   ],
   "source": [
    "print(\"opentutorial's \"lectures\" are great.\")"
   ]
  },
  {
   "cell_type": "code",
   "execution_count": 2,
   "metadata": {},
   "outputs": [
    {
     "ename": "SyntaxError",
     "evalue": "invalid syntax (<ipython-input-2-b30999357a5a>, line 1)",
     "output_type": "error",
     "traceback": [
      "\u001b[0;36m  File \u001b[0;32m\"<ipython-input-2-b30999357a5a>\"\u001b[0;36m, line \u001b[0;32m1\u001b[0m\n\u001b[0;31m    print('opentutorial's \"lectures\" are great.')\u001b[0m\n\u001b[0m                        ^\u001b[0m\n\u001b[0;31mSyntaxError\u001b[0m\u001b[0;31m:\u001b[0m invalid syntax\n"
     ]
    }
   ],
   "source": [
    "print('opentutorial's \"lectures\" are great.')"
   ]
  },
  {
   "cell_type": "markdown",
   "metadata": {},
   "source": [
    "이유는 위 문장에 작은따옴표와 큰따옴표 모두 포함되어 있는데\n",
    "따옴표가 문자열 자료형을 만드는 특수한 역할을 수행하기 때문이다.\n",
    "해결책은 아래와 같이 따옴표 앞에 백슬래시(`\\`, backslash) 기호를 붙혀서 \n",
    "따옴표의 특수 역할을 해제(escape)하는 것이다.\n",
    "\n",
    "그런데 작은 또는 큰따옴표 중에 사용하는 것에 따라 백슬래시 사용이 조금씩 달라질 수 있다.\n",
    "예를 들어, 아래는 큰따옴표로 감싸기에 작은따옴표는 그냥 두어도 된다."
   ]
  },
  {
   "cell_type": "code",
   "execution_count": 3,
   "metadata": {},
   "outputs": [
    {
     "name": "stdout",
     "output_type": "stream",
     "text": [
      "opentutorial's \"lectures\" are great.\n"
     ]
    }
   ],
   "source": [
    "print(\"opentutorial's \\\"lectures\\\" are great.\")"
   ]
  },
  {
   "cell_type": "markdown",
   "metadata": {},
   "source": [
    "반면에 아래는 작은따옴표로 감싸기에 큰따옴표는 그냥 두어도 된다."
   ]
  },
  {
   "cell_type": "code",
   "execution_count": 4,
   "metadata": {},
   "outputs": [
    {
     "name": "stdout",
     "output_type": "stream",
     "text": [
      "opentutorial's \"lectures\" are great\n"
     ]
    }
   ],
   "source": [
    "print('opentutorial\\'s \"lectures\" are great.')"
   ]
  },
  {
   "cell_type": "markdown",
   "metadata": {},
   "source": [
    "물론 문자열에 포함된 모든 따옴표는 해제시키는 것이 다루기 편할 수도 있다."
   ]
  },
  {
   "cell_type": "code",
   "execution_count": 6,
   "metadata": {},
   "outputs": [
    {
     "name": "stdout",
     "output_type": "stream",
     "text": [
      "opentutorial's \"lectures\" are great.\n"
     ]
    }
   ],
   "source": [
    "print(\"opentutorial\\'s \\\"lectures\\\" are great.\")"
   ]
  },
  {
   "cell_type": "code",
   "execution_count": 5,
   "metadata": {},
   "outputs": [
    {
     "name": "stdout",
     "output_type": "stream",
     "text": [
      "opentutorial's \"lectures\" are great.\n"
     ]
    }
   ],
   "source": [
    "print('opentutorial\\'s \\\"lectures\\\" are great.')"
   ]
  },
  {
   "cell_type": "markdown",
   "metadata": {},
   "source": [
    "### 백슬래시의 특수 기능"
   ]
  },
  {
   "cell_type": "markdown",
   "metadata": {},
   "source": [
    "앞서 살펴보았듯이 백슬래시(`\\`) 또한 **특수 기능을 해제시키는 특수 기능**을 갖는다.\n",
    "이와 더불어 다른 특수기능도 갖고 있다.\n",
    "\n",
    "`'\\n'`은 줄바꿈을 의미한다."
   ]
  },
  {
   "cell_type": "code",
   "execution_count": 7,
   "metadata": {},
   "outputs": [
    {
     "name": "stdout",
     "output_type": "stream",
     "text": [
      "Hello\n",
      " World\n"
     ]
    }
   ],
   "source": [
    "print(\"Hello\\n World\")"
   ]
  },
  {
   "cell_type": "markdown",
   "metadata": {},
   "source": [
    "그리고 `'\\t'`은 탭(tab)키를 한 번 누른 것에 해당한다.\n",
    "탭 키 한 번은 보통 스페이스 키 네 번 또는 두 번 누른 것과 동일하며,\n",
    "사용하는 편집기에 따라 크기가 다를 수 있다."
   ]
  },
  {
   "cell_type": "code",
   "execution_count": 8,
   "metadata": {},
   "outputs": [
    {
     "name": "stdout",
     "output_type": "stream",
     "text": [
      "Hello\tWorld\n"
     ]
    }
   ],
   "source": [
    "print(\"Hello\\tWorld\")"
   ]
  },
  {
   "cell_type": "markdown",
   "metadata": {},
   "source": [
    "따라서 백슬래시 자체를 문자열에 포함하면 기대와 다르게 작동한다."
   ]
  },
  {
   "cell_type": "code",
   "execution_count": 9,
   "metadata": {},
   "outputs": [
    {
     "name": "stdout",
     "output_type": "stream",
     "text": [
      "Good\n",
      "ight\n"
     ]
    }
   ],
   "source": [
    "print(\"Good\\night\")"
   ]
  },
  {
   "cell_type": "markdown",
   "metadata": {},
   "source": [
    "따라서 백슬래시를 문자열에 포함시키려면 아래와 같이 해야 한다."
   ]
  },
  {
   "cell_type": "code",
   "execution_count": 10,
   "metadata": {},
   "outputs": [
    {
     "name": "stdout",
     "output_type": "stream",
     "text": [
      "Hello\\n World\n"
     ]
    }
   ],
   "source": [
    "print(\"Hello\\\\n World\")"
   ]
  },
  {
   "cell_type": "code",
   "execution_count": 11,
   "metadata": {},
   "outputs": [
    {
     "name": "stdout",
     "output_type": "stream",
     "text": [
      "Hello\\t World\n"
     ]
    }
   ],
   "source": [
    "print(\"Hello\\\\t World\")"
   ]
  },
  {
   "cell_type": "code",
   "execution_count": 12,
   "metadata": {},
   "outputs": [
    {
     "name": "stdout",
     "output_type": "stream",
     "text": [
      "Good\\night\n"
     ]
    }
   ],
   "source": [
    "print(\"Good\\\\night\")"
   ]
  },
  {
   "cell_type": "markdown",
   "metadata": {},
   "source": [
    "그런데 이렇게 하면 백슬래시를 경우에 따라 너무 많이 사용하게 되어\n",
    "혼라스러워질 수 있다.\n",
    "예를 들어, `'\\\\'`처럼 백슬래시 두 개를 연속을 출력하고 한다면 아래와 같이 해야 한다."
   ]
  },
  {
   "cell_type": "code",
   "execution_count": 13,
   "metadata": {},
   "outputs": [
    {
     "name": "stdout",
     "output_type": "stream",
     "text": [
      "\\\\\n"
     ]
    }
   ],
   "source": [
    "print(\"\\\\\\\\\")"
   ]
  },
  {
   "cell_type": "markdown",
   "metadata": {},
   "source": [
    "그리고 아래와 같은 경우는 오류가 자주 발생한다."
   ]
  },
  {
   "cell_type": "code",
   "execution_count": 14,
   "metadata": {},
   "outputs": [
    {
     "ename": "SyntaxError",
     "evalue": "EOL while scanning string literal (<ipython-input-14-7807bc3663f3>, line 1)",
     "output_type": "error",
     "traceback": [
      "\u001b[0;36m  File \u001b[0;32m\"<ipython-input-14-7807bc3663f3>\"\u001b[0;36m, line \u001b[0;32m1\u001b[0m\n\u001b[0;31m    print(\"\\\\\\\")\u001b[0m\n\u001b[0m                ^\u001b[0m\n\u001b[0;31mSyntaxError\u001b[0m\u001b[0;31m:\u001b[0m EOL while scanning string literal\n"
     ]
    }
   ],
   "source": [
    "print(\"\\\\\\\")"
   ]
  },
  {
   "cell_type": "markdown",
   "metadata": {},
   "source": [
    "### 순수 문자열(raw string)"
   ]
  },
  {
   "cell_type": "markdown",
   "metadata": {},
   "source": [
    "이런 혼란을 방지하면서 보다 쉽게 특수문자를 다루는 방법이 있다.\n",
    "바로 '가공되지 않은, 날 거의'의 의미를 갖는 'raw' 단어의 첫 글자인 'r'을 문자열 앞에 두면 특수 기능이 사라진다.\n",
    "이런 문자열을 특수 기능이 없는 문자들의 나열이라는 의미에서 **순수 문자열**(raw string)이라 부른다."
   ]
  },
  {
   "cell_type": "code",
   "execution_count": 15,
   "metadata": {},
   "outputs": [
    {
     "name": "stdout",
     "output_type": "stream",
     "text": [
      "Hello\\n World\n"
     ]
    }
   ],
   "source": [
    "print(r\"Hello\\n World\")"
   ]
  },
  {
   "cell_type": "code",
   "execution_count": 16,
   "metadata": {},
   "outputs": [
    {
     "name": "stdout",
     "output_type": "stream",
     "text": [
      "Hello\\t World\n"
     ]
    }
   ],
   "source": [
    "print(r\"Hello\\t World\")"
   ]
  },
  {
   "cell_type": "code",
   "execution_count": 17,
   "metadata": {},
   "outputs": [
    {
     "name": "stdout",
     "output_type": "stream",
     "text": [
      "Good\\night\n"
     ]
    }
   ],
   "source": [
    "print(r\"Good\\night\")"
   ]
  },
  {
   "cell_type": "code",
   "execution_count": 18,
   "metadata": {},
   "outputs": [
    {
     "name": "stdout",
     "output_type": "stream",
     "text": [
      "\\\\\n"
     ]
    }
   ],
   "source": [
    "print(r\"\\\\\")"
   ]
  },
  {
   "cell_type": "markdown",
   "metadata": {},
   "source": [
    "## 인덱스"
   ]
  },
  {
   "cell_type": "markdown",
   "metadata": {},
   "source": [
    "문자열에 포함된 모든 문자는 **인덱스**(index)라 불리는 고유번호를 부여받는다.\n",
    "일종의 순서 개념이며, 왼편에 위치한 문자가 오른편에 위치한 문자보다 빠른 번호를 부여받는다.\n",
    "\n",
    "인덱스는 문자열 왼편에서부터 0, 1, 2, 등으로 시작한다. \n",
    "즉, 문자열의 가장 왼편에 위치한 문자가 0번, 그 오른편이 1번, 그 다음 오른편 2번, 등등으로 진행한다.\n",
    "인덱스는 오른편에서부터 시작할 수도 있다.\n",
    "이때는, 문자열의 가장 오른편에 위치한 문자가 -1번, 그 왼편이 -2번, 그 다음 왼편이 -3번,\n",
    "등으로 진행한다.\n",
    "\n",
    "예를 들어, 아래 그림은 `'GEEKSFORGEEKS'` 문자열의 인덱스를 보여준다."
   ]
  },
  {
   "cell_type": "markdown",
   "metadata": {},
   "source": [
    "<p>\n",
    "<table cellspacing=\"20\">\n",
    "<tr>\n",
    "<td>\n",
    "<img src=\"images/strings.jpg\">\n",
    "</td>\n",
    "</tr>\n",
    "</table>\n",
    "</p>\n",
    "\n",
    "<문자열과 인덱스, \n",
    "출처: [GeeksforGeeks](https://www.geeksforgeeks.org/python-strings/)>"
   ]
  },
  {
   "cell_type": "markdown",
   "metadata": {},
   "source": [
    "**참조:** 인덱스는 어떤 기준으로부터 몇 번째에 해당하는가를 나타내는 \n",
    "**오프셋**(offset)이라는 컴퓨터 전문용어의 특수한 사례이다.\n",
    "여기서는 오프셋 개념이 다양한 경우에 사용된다는 점만 기억해두면 좋다."
   ]
  },
  {
   "cell_type": "markdown",
   "metadata": {},
   "source": [
    "### 인덱싱: 대괄호 연산자 `[]`"
   ]
  },
  {
   "cell_type": "markdown",
   "metadata": {},
   "source": [
    "특정 인덱스에 해당하는 문자에 접근하려면 대괄호(`[]`)를 이용한다."
   ]
  },
  {
   "cell_type": "code",
   "execution_count": 19,
   "metadata": {},
   "outputs": [],
   "source": [
    "fruit = 'orange'"
   ]
  },
  {
   "cell_type": "markdown",
   "metadata": {},
   "source": [
    "`fruit`에 할당된 문자열 `orange`의 첫째 문자는 `fruit[0]`이다."
   ]
  },
  {
   "cell_type": "code",
   "execution_count": 20,
   "metadata": {},
   "outputs": [
    {
     "name": "stdout",
     "output_type": "stream",
     "text": [
      "o\n"
     ]
    }
   ],
   "source": [
    "first_letter = fruit[0]\n",
    "print(first_letter)"
   ]
  },
  {
   "cell_type": "markdown",
   "metadata": {},
   "source": [
    "`'n'`은 왼편에서 넷 째 자리에 위치한다.\n",
    "따라서 인덱스는 3를 사용한다."
   ]
  },
  {
   "cell_type": "code",
   "execution_count": 21,
   "metadata": {},
   "outputs": [
    {
     "data": {
      "text/plain": [
       "'n'"
      ]
     },
     "execution_count": 21,
     "metadata": {},
     "output_type": "execute_result"
    }
   ],
   "source": [
    "fruit[3]"
   ]
  },
  {
   "cell_type": "markdown",
   "metadata": {},
   "source": [
    "**주의:** 정수만 인덱스로 사용될 수 있다.\n",
    "예를 들어, 1.5번 인덱스는 존재하지 않는다."
   ]
  },
  {
   "cell_type": "code",
   "execution_count": 22,
   "metadata": {
    "scrolled": true
   },
   "outputs": [
    {
     "ename": "TypeError",
     "evalue": "string indices must be integers",
     "output_type": "error",
     "traceback": [
      "\u001b[0;31m---------------------------------------------------------------------------\u001b[0m",
      "\u001b[0;31mTypeError\u001b[0m                                 Traceback (most recent call last)",
      "\u001b[0;32m<ipython-input-22-bb89ba6efbbd>\u001b[0m in \u001b[0;36m<module>\u001b[0;34m\u001b[0m\n\u001b[0;32m----> 1\u001b[0;31m \u001b[0mletter\u001b[0m \u001b[0;34m=\u001b[0m \u001b[0mfruit\u001b[0m\u001b[0;34m[\u001b[0m\u001b[0;36m1.5\u001b[0m\u001b[0;34m]\u001b[0m\u001b[0;34m\u001b[0m\u001b[0;34m\u001b[0m\u001b[0m\n\u001b[0m",
      "\u001b[0;31mTypeError\u001b[0m: string indices must be integers"
     ]
    }
   ],
   "source": [
    "letter = fruit[1.5]"
   ]
  },
  {
   "cell_type": "markdown",
   "metadata": {},
   "source": [
    "정수를 가리키는 모든 표현식을 인덱스로 사용할 수 있다."
   ]
  },
  {
   "cell_type": "code",
   "execution_count": 23,
   "metadata": {},
   "outputs": [
    {
     "data": {
      "text/plain": [
       "'a'"
      ]
     },
     "execution_count": 23,
     "metadata": {},
     "output_type": "execute_result"
    }
   ],
   "source": [
    "i = 2\n",
    "fruit[i]"
   ]
  },
  {
   "cell_type": "code",
   "execution_count": 24,
   "metadata": {},
   "outputs": [
    {
     "data": {
      "text/plain": [
       "'n'"
      ]
     },
     "execution_count": 24,
     "metadata": {},
     "output_type": "execute_result"
    }
   ],
   "source": [
    "fruit[i+1]"
   ]
  },
  {
   "cell_type": "markdown",
   "metadata": {},
   "source": [
    "인덱스를 거꾸로 세면 가장 오른편에 위차한 문자의 인덱스는 -1이다. "
   ]
  },
  {
   "cell_type": "code",
   "execution_count": 25,
   "metadata": {},
   "outputs": [
    {
     "data": {
      "text/plain": [
       "'e'"
      ]
     },
     "execution_count": 25,
     "metadata": {},
     "output_type": "execute_result"
    }
   ],
   "source": [
    "fruit[-1]"
   ]
  },
  {
   "cell_type": "code",
   "execution_count": 26,
   "metadata": {},
   "outputs": [
    {
     "data": {
      "text/plain": [
       "'g'"
      ]
     },
     "execution_count": 26,
     "metadata": {},
     "output_type": "execute_result"
    }
   ],
   "source": [
    "fruit[-2]"
   ]
  },
  {
   "cell_type": "markdown",
   "metadata": {},
   "source": [
    "## 문자열의 길이"
   ]
  },
  {
   "cell_type": "markdown",
   "metadata": {},
   "source": [
    "**문자열의 길이** 문자열에 포함된 항목의 개수를 의미하며,\n",
    "`len` 함수를 이용하여 구할 수 있다.\n",
    "\n",
    "예를 들어, `'orange'`는 6개의 문자를 포함한다."
   ]
  },
  {
   "cell_type": "code",
   "execution_count": 27,
   "metadata": {},
   "outputs": [
    {
     "data": {
      "text/plain": [
       "6"
      ]
     },
     "execution_count": 27,
     "metadata": {},
     "output_type": "execute_result"
    }
   ],
   "source": [
    "# fruit = 'orange'\n",
    "len(fruit)"
   ]
  },
  {
   "cell_type": "markdown",
   "metadata": {},
   "source": [
    "**주의:**\n",
    "`len` 함수는 문자열 자료형의 메서드가 아니며,\n",
    "리스트, 튜플 등 다른 시퀀스 자료형에도 활용할 수 있다."
   ]
  },
  {
   "cell_type": "markdown",
   "metadata": {},
   "source": [
    "#### 인덱스와 `len` 함수"
   ]
  },
  {
   "cell_type": "markdown",
   "metadata": {},
   "source": [
    "인덱스가 0부터 시작하기 때문에 문자열에 포함된 마지막 문자를 가리키는 인덱스는 \n",
    "`len` 함수가 되돌려 주는 값보다 1이 작다.\n",
    "\n",
    "예를 들어, `'orange'`의 마지막 알파벳인 `'e'`의 인덱스는 6이 아니라 5이다."
   ]
  },
  {
   "cell_type": "code",
   "execution_count": 28,
   "metadata": {},
   "outputs": [
    {
     "ename": "IndexError",
     "evalue": "string index out of range",
     "output_type": "error",
     "traceback": [
      "\u001b[0;31m---------------------------------------------------------------------------\u001b[0m",
      "\u001b[0;31mIndexError\u001b[0m                                Traceback (most recent call last)",
      "\u001b[0;32m<ipython-input-28-b9112e0ee62d>\u001b[0m in \u001b[0;36m<module>\u001b[0;34m\u001b[0m\n\u001b[1;32m      1\u001b[0m \u001b[0mlength\u001b[0m \u001b[0;34m=\u001b[0m \u001b[0mlen\u001b[0m\u001b[0;34m(\u001b[0m\u001b[0mfruit\u001b[0m\u001b[0;34m)\u001b[0m\u001b[0;34m\u001b[0m\u001b[0;34m\u001b[0m\u001b[0m\n\u001b[0;32m----> 2\u001b[0;31m \u001b[0;34m'orange'\u001b[0m\u001b[0;34m[\u001b[0m\u001b[0mlength\u001b[0m\u001b[0;34m]\u001b[0m\u001b[0;34m\u001b[0m\u001b[0;34m\u001b[0m\u001b[0m\n\u001b[0m",
      "\u001b[0;31mIndexError\u001b[0m: string index out of range"
     ]
    }
   ],
   "source": [
    "length = len(fruit)\n",
    "'orange'[length]"
   ]
  },
  {
   "cell_type": "markdown",
   "metadata": {},
   "source": [
    "대신에 다음과 같이 해야 한다."
   ]
  },
  {
   "cell_type": "code",
   "execution_count": 29,
   "metadata": {},
   "outputs": [
    {
     "data": {
      "text/plain": [
       "'e'"
      ]
     },
     "execution_count": 29,
     "metadata": {},
     "output_type": "execute_result"
    }
   ],
   "source": [
    "length = len(fruit)\n",
    "'orange'[length-1]"
   ]
  },
  {
   "cell_type": "markdown",
   "metadata": {},
   "source": [
    "## 슬라이싱"
   ]
  },
  {
   "cell_type": "markdown",
   "metadata": {},
   "source": [
    "문자열의 일부분을 선택하는 방법을 **슬라이싱**(slicing) 이라 부른다.\n",
    "\n",
    "예를 들어, `'파이썬 너무 좋아요'`라는 문자열에서 `'파이썬'`를 추출하려면 \n",
    "0번 인덱스부터 2번 인덱스까지 세 개의 문자를 추출하면 된다."
   ]
  },
  {
   "cell_type": "code",
   "execution_count": 30,
   "metadata": {},
   "outputs": [
    {
     "name": "stdout",
     "output_type": "stream",
     "text": [
      "파이썬\n"
     ]
    }
   ],
   "source": [
    "iLikePython = '파이썬 너무 좋아요'\n",
    "print(iLikePython[0:3])"
   ]
  },
  {
   "cell_type": "markdown",
   "metadata": {},
   "source": [
    "**주의:** \n",
    "`like_python[0:3]` 이 아님에 주의한다. \n",
    "슬라이싱의 구간을 적을 때 끝나는 인덱스는 마지막 문자의 인덱스보다 1이 큰 숫자를 사용한다.\n",
    "\n",
    "`'너무'`를 원한다면 4번, 5번 인덱스의 문자를 추출해야 한다.\n",
    "\n",
    "**주의:** `'파이썬'`과 `'너무'` 사이에 공백(스페이스)가 있으며, 공백 또한 하나의 문자로 취급된다."
   ]
  },
  {
   "cell_type": "code",
   "execution_count": 31,
   "metadata": {},
   "outputs": [
    {
     "name": "stdout",
     "output_type": "stream",
     "text": [
      "너무\n"
     ]
    }
   ],
   "source": [
    "print(iLikePython[4:6])"
   ]
  },
  {
   "cell_type": "markdown",
   "metadata": {},
   "source": [
    "### 슬라이싱 활용 예제"
   ]
  },
  {
   "cell_type": "markdown",
   "metadata": {},
   "source": [
    "콜론(`:`) 앞에 있는 첫째 인덱스를 생략하면, 슬라이스는 문자열의 처음부터 시작한다. "
   ]
  },
  {
   "cell_type": "code",
   "execution_count": 32,
   "metadata": {},
   "outputs": [
    {
     "name": "stdout",
     "output_type": "stream",
     "text": [
      "ora\n"
     ]
    }
   ],
   "source": [
    "print(fruit[:3])"
   ]
  },
  {
   "cell_type": "code",
   "execution_count": 33,
   "metadata": {},
   "outputs": [
    {
     "name": "stdout",
     "output_type": "stream",
     "text": [
      "파이썬 너\n"
     ]
    }
   ],
   "source": [
    "print(iLikePython[:5])"
   ]
  },
  {
   "cell_type": "markdown",
   "metadata": {},
   "source": [
    "반면에 콜론(`:`) 뒤에 있는 둘째 인덱스를 생략하면, 슬라이스는 문자열의 끝까지를 의미한다."
   ]
  },
  {
   "cell_type": "code",
   "execution_count": 34,
   "metadata": {},
   "outputs": [
    {
     "data": {
      "text/plain": [
       "'nge'"
      ]
     },
     "execution_count": 34,
     "metadata": {},
     "output_type": "execute_result"
    }
   ],
   "source": [
    "fruit[3:]"
   ]
  },
  {
   "cell_type": "code",
   "execution_count": 35,
   "metadata": {},
   "outputs": [
    {
     "name": "stdout",
     "output_type": "stream",
     "text": [
      "무 좋아요\n"
     ]
    }
   ],
   "source": [
    "print(iLikePython[5:])"
   ]
  },
  {
   "cell_type": "markdown",
   "metadata": {},
   "source": [
    "콜론(`:`)만 사용하면 문자열 전체를 가리킨다."
   ]
  },
  {
   "cell_type": "code",
   "execution_count": 36,
   "metadata": {},
   "outputs": [
    {
     "data": {
      "text/plain": [
       "'orange'"
      ]
     },
     "execution_count": 36,
     "metadata": {},
     "output_type": "execute_result"
    }
   ],
   "source": [
    "fruit[:]"
   ]
  },
  {
   "cell_type": "code",
   "execution_count": 37,
   "metadata": {},
   "outputs": [
    {
     "data": {
      "text/plain": [
       "'파이썬 너무 좋아요'"
      ]
     },
     "execution_count": 37,
     "metadata": {},
     "output_type": "execute_result"
    }
   ],
   "source": [
    "iLikePython[:]"
   ]
  },
  {
   "cell_type": "markdown",
   "metadata": {},
   "source": [
    "첫 번째 지수가 두 번째보다 크거나 같으면 결과는 빈 문자열(`''`)이 슬라이싱 된다."
   ]
  },
  {
   "cell_type": "code",
   "execution_count": 38,
   "metadata": {},
   "outputs": [
    {
     "data": {
      "text/plain": [
       "''"
      ]
     },
     "execution_count": 38,
     "metadata": {},
     "output_type": "execute_result"
    }
   ],
   "source": [
    "fruit[3:3]"
   ]
  },
  {
   "cell_type": "code",
   "execution_count": 39,
   "metadata": {},
   "outputs": [
    {
     "data": {
      "text/plain": [
       "''"
      ]
     },
     "execution_count": 39,
     "metadata": {},
     "output_type": "execute_result"
    }
   ],
   "source": [
    "iLikePython[6:2]"
   ]
  },
  {
   "cell_type": "markdown",
   "metadata": {},
   "source": [
    "### 스텝 슬라이싱"
   ]
  },
  {
   "cell_type": "markdown",
   "metadata": {},
   "source": [
    "슬라이싱인 지정한 구간 내에 포함된 모든 부분문자열을 추출한다. \n",
    "그런데 지정된 구간 내에서 일정한 거리를 두고 문자열을 추출할 수도 있다. \n",
    "두 항목 사이의 거리는 **스텝**(step)으로 지정하며,\n",
    "스텝은 둘째 콜론 다음에 위치한다.\n",
    "스텝의 기본값은 1이며, 스텝이 1이 스텝은 생략할 수 있다.\n",
    "\n",
    "예를 들어, 문자열 `'0123456789'`에서 짝수만 추출하고 할 때 다음과 같다."
   ]
  },
  {
   "cell_type": "code",
   "execution_count": 40,
   "metadata": {},
   "outputs": [
    {
     "data": {
      "text/plain": [
       "'02468'"
      ]
     },
     "execution_count": 40,
     "metadata": {},
     "output_type": "execute_result"
    }
   ],
   "source": [
    "numsUpTo10 = '0123456789'\n",
    "numsUpTo10[0:10:2]"
   ]
  },
  {
   "cell_type": "markdown",
   "metadata": {},
   "source": [
    "물론 다음과 같이 할 수도 있다. "
   ]
  },
  {
   "cell_type": "code",
   "execution_count": 41,
   "metadata": {},
   "outputs": [
    {
     "data": {
      "text/plain": [
       "'02468'"
      ]
     },
     "execution_count": 41,
     "metadata": {},
     "output_type": "execute_result"
    }
   ],
   "source": [
    "numsUpTo10[::2]"
   ]
  },
  {
   "cell_type": "markdown",
   "metadata": {},
   "source": [
    "이번엔 홀수만 추출해보자. 시작 인덱스를 0에서 1로 교체하면 된다."
   ]
  },
  {
   "cell_type": "code",
   "execution_count": 42,
   "metadata": {},
   "outputs": [
    {
     "data": {
      "text/plain": [
       "'13579'"
      ]
     },
     "execution_count": 42,
     "metadata": {},
     "output_type": "execute_result"
    }
   ],
   "source": [
    "numsUpTo10[1::2]"
   ]
  },
  {
   "cell_type": "markdown",
   "metadata": {},
   "source": [
    "3의 배수만 추출할 수도 있다."
   ]
  },
  {
   "cell_type": "code",
   "execution_count": 43,
   "metadata": {},
   "outputs": [
    {
     "data": {
      "text/plain": [
       "'0369'"
      ]
     },
     "execution_count": 43,
     "metadata": {},
     "output_type": "execute_result"
    }
   ],
   "source": [
    "numsUpTo10[::3]"
   ]
  },
  {
   "cell_type": "markdown",
   "metadata": {},
   "source": [
    "3보다 크면서 3으로 나눠 나머지가 2인 숫자들은?"
   ]
  },
  {
   "cell_type": "code",
   "execution_count": 44,
   "metadata": {},
   "outputs": [
    {
     "data": {
      "text/plain": [
       "'357'"
      ]
     },
     "execution_count": 44,
     "metadata": {},
     "output_type": "execute_result"
    }
   ],
   "source": [
    "numsUpTo10[3:9:2]"
   ]
  },
  {
   "cell_type": "markdown",
   "metadata": {},
   "source": [
    "아니면"
   ]
  },
  {
   "cell_type": "code",
   "execution_count": 45,
   "metadata": {},
   "outputs": [
    {
     "data": {
      "text/plain": [
       "'468'"
      ]
     },
     "execution_count": 45,
     "metadata": {},
     "output_type": "execute_result"
    }
   ],
   "source": [
    "numsUpTo10[4::2]"
   ]
  },
  {
   "cell_type": "markdown",
   "metadata": {},
   "source": [
    "역순으로 거리를 두면서 추출하는 것도 가능하다. \n",
    "예를 들어, 홀수들만 역순으로 추출해 보자."
   ]
  },
  {
   "cell_type": "code",
   "execution_count": 46,
   "metadata": {},
   "outputs": [
    {
     "data": {
      "text/plain": [
       "'97531'"
      ]
     },
     "execution_count": 46,
     "metadata": {},
     "output_type": "execute_result"
    }
   ],
   "source": [
    "numsUpTo10[-1:: -2]"
   ]
  },
  {
   "cell_type": "markdown",
   "metadata": {},
   "source": [
    "3과 7 사이의 짝수를 역순으로?"
   ]
  },
  {
   "cell_type": "code",
   "execution_count": 47,
   "metadata": {},
   "outputs": [
    {
     "data": {
      "text/plain": [
       "'753'"
      ]
     },
     "execution_count": 47,
     "metadata": {},
     "output_type": "execute_result"
    }
   ],
   "source": [
    "numsUpTo10[-3:2: -2]"
   ]
  },
  {
   "cell_type": "markdown",
   "metadata": {},
   "source": [
    "###  빈 문자열"
   ]
  },
  {
   "cell_type": "markdown",
   "metadata": {},
   "source": [
    "빈 문자열(`''`)은 문자를 전혀 포함하지 않은 특수한 문자열이다.\n",
    "\n",
    "빈 문자열(`''`)과 공백 문자 한 개로 이루어진 문자열(`' '`)은 서로 다름에 주의해야 한다.\n",
    "실제로, 빈 문자열의 길이는 0인 반면에, 공백 문자 한 개로 이루어진 문자열의 길이는 1이다."
   ]
  },
  {
   "cell_type": "code",
   "execution_count": 48,
   "metadata": {},
   "outputs": [
    {
     "data": {
      "text/plain": [
       "0"
      ]
     },
     "execution_count": 48,
     "metadata": {},
     "output_type": "execute_result"
    }
   ],
   "source": [
    "len('')"
   ]
  },
  {
   "cell_type": "code",
   "execution_count": 49,
   "metadata": {},
   "outputs": [
    {
     "data": {
      "text/plain": [
       "1"
      ]
     },
     "execution_count": 49,
     "metadata": {},
     "output_type": "execute_result"
    }
   ],
   "source": [
    "len(' ')"
   ]
  },
  {
   "cell_type": "markdown",
   "metadata": {},
   "source": [
    "## 문자열 다루기"
   ]
  },
  {
   "cell_type": "markdown",
   "metadata": {},
   "source": [
    "인터넷 상에 존재하는 수 많은 정보들 중에서 중요한 정보를\n",
    "적절한 형식으로 전달하는 일의 중요성을 누구나 인정할 것이다.\n",
    "\n",
    "그런데 인터넷 상의 정보는 기본적으로 모두 문자열로 구성된다.\n",
    "예를 들어, 검색할 때 문장(문자열)을 입력하면, \n",
    "구글, 다음, 네이버 등의 검색엔진은 인터넷 상에 있는 수 많은\n",
    "자료(문장, 즉 문자열, 사진, 동영상 등) 중에서 \n",
    "원하는 정보를 담고 있는 적절한 자료를 찾아\n",
    "전달한다. \n",
    "\n",
    "**참조:** 사진, 동영상 등도 숫자 기호를 사용하는 문자열들로\n",
    "이루어진 특수한 구조의 자료로 처리한다.\n",
    "\n",
    "따라서 문자열을 비교하고, 분석하고, 조작하는 기술은 매우 중요하다.\n",
    "앞서 다룬 인덱싱과 슬라이싱이 문자열을 다루는 가장 기본적인 함수들이다.\n",
    "아래에서 문자열 다루는 다양한 도구(함수)들과 연산자들을 살펴본다. "
   ]
  },
  {
   "cell_type": "markdown",
   "metadata": {},
   "source": [
    "### 문자열 이어붙이기"
   ]
  },
  {
   "cell_type": "markdown",
   "metadata": {},
   "source": [
    "문자열 두 개를 이어붙이려면 덧셈 기호를 사용한다."
   ]
  },
  {
   "cell_type": "code",
   "execution_count": 50,
   "metadata": {},
   "outputs": [
    {
     "data": {
      "text/plain": [
       "'hello, python'"
      ]
     },
     "execution_count": 50,
     "metadata": {},
     "output_type": "execute_result"
    }
   ],
   "source": [
    "'hello, ' + 'python'"
   ]
  },
  {
   "cell_type": "markdown",
   "metadata": {},
   "source": [
    "문자열을 복제하여 이어붙이려면 정수와의 곱셈을 사용한다."
   ]
  },
  {
   "cell_type": "code",
   "execution_count": 51,
   "metadata": {},
   "outputs": [
    {
     "data": {
      "text/plain": [
       "'hi!hi!hi!'"
      ]
     },
     "execution_count": 51,
     "metadata": {},
     "output_type": "execute_result"
    }
   ],
   "source": [
    "'hi!' * 3"
   ]
  },
  {
   "cell_type": "code",
   "execution_count": 52,
   "metadata": {},
   "outputs": [
    {
     "data": {
      "text/plain": [
       "'hi! hi! hi! '"
      ]
     },
     "execution_count": 52,
     "metadata": {},
     "output_type": "execute_result"
    }
   ],
   "source": [
    "3 * 'hi! '"
   ]
  },
  {
   "cell_type": "markdown",
   "metadata": {},
   "source": [
    "하지만 문자열 끼리의 곱셈은 정의되어 있지 않다.\n",
    "그리로 문자열과 관련한 나눗셈은 아예 없다."
   ]
  },
  {
   "cell_type": "code",
   "execution_count": 53,
   "metadata": {},
   "outputs": [
    {
     "ename": "TypeError",
     "evalue": "can't multiply sequence by non-int of type 'str'",
     "output_type": "error",
     "traceback": [
      "\u001b[0;31m---------------------------------------------------------------------------\u001b[0m",
      "\u001b[0;31mTypeError\u001b[0m                                 Traceback (most recent call last)",
      "\u001b[0;32m<ipython-input-53-a32575683651>\u001b[0m in \u001b[0;36m<module>\u001b[0;34m\u001b[0m\n\u001b[0;32m----> 1\u001b[0;31m \u001b[0;34m'hi'\u001b[0m \u001b[0;34m*\u001b[0m \u001b[0;34m'python'\u001b[0m\u001b[0;34m\u001b[0m\u001b[0;34m\u001b[0m\u001b[0m\n\u001b[0m",
      "\u001b[0;31mTypeError\u001b[0m: can't multiply sequence by non-int of type 'str'"
     ]
    }
   ],
   "source": [
    "'hi' * 'python'"
   ]
  },
  {
   "cell_type": "markdown",
   "metadata": {},
   "source": [
    "### `in` 연산자"
   ]
  },
  {
   "cell_type": "markdown",
   "metadata": {},
   "source": [
    "`in` 연산자는 부분문자열 여부를 판단한다.\n",
    "\n",
    "예를 들어, `'an'`은 `'orange'`의 부분문자열이다."
   ]
  },
  {
   "cell_type": "code",
   "execution_count": 54,
   "metadata": {},
   "outputs": [
    {
     "data": {
      "text/plain": [
       "True"
      ]
     },
     "execution_count": 54,
     "metadata": {},
     "output_type": "execute_result"
    }
   ],
   "source": [
    "'an' in 'orange'"
   ]
  },
  {
   "cell_type": "markdown",
   "metadata": {},
   "source": [
    "반면에 `'seed'`는 `'orange'`의 부분문자열이 아니다."
   ]
  },
  {
   "cell_type": "code",
   "execution_count": 55,
   "metadata": {},
   "outputs": [
    {
     "data": {
      "text/plain": [
       "False"
      ]
     },
     "execution_count": 55,
     "metadata": {},
     "output_type": "execute_result"
    }
   ],
   "source": [
    "'seed' in 'orange'"
   ]
  },
  {
   "cell_type": "markdown",
   "metadata": {},
   "source": [
    "###  동치성 비교"
   ]
  },
  {
   "cell_type": "markdown",
   "metadata": {},
   "source": [
    "임의의 두 값의 동치성 비교는 `==` 또는 `!=` 연산자를 사용하며, 문자열의 경우도 동일하다."
   ]
  },
  {
   "cell_type": "code",
   "execution_count": 56,
   "metadata": {},
   "outputs": [
    {
     "data": {
      "text/plain": [
       "False"
      ]
     },
     "execution_count": 56,
     "metadata": {},
     "output_type": "execute_result"
    }
   ],
   "source": [
    "'orange' == 'apple'"
   ]
  },
  {
   "cell_type": "code",
   "execution_count": 57,
   "metadata": {},
   "outputs": [
    {
     "data": {
      "text/plain": [
       "True"
      ]
     },
     "execution_count": 57,
     "metadata": {},
     "output_type": "execute_result"
    }
   ],
   "source": [
    "'orange' != 'apple'"
   ]
  },
  {
   "cell_type": "markdown",
   "metadata": {},
   "source": [
    "### 크기 비교"
   ]
  },
  {
   "cell_type": "markdown",
   "metadata": {},
   "source": [
    "문자열들 사이의 크기 비교는 산전식 순서를 따른다.\n",
    "즉, 알파벳 순서를 중요시 여긴다."
   ]
  },
  {
   "cell_type": "code",
   "execution_count": 58,
   "metadata": {},
   "outputs": [
    {
     "name": "stdout",
     "output_type": "stream",
     "text": [
      "Your word, banana, comes before orange.\n"
     ]
    }
   ],
   "source": [
    "word = 'banana'\n",
    "if word < 'orange':\n",
    "    print('Your word, ' + word + ', comes before orange.')\n",
    "elif word > 'orange':\n",
    "    print('Your word, ' + word + ', comes after orange.')\n",
    "else:\n",
    "    print('All right, oranges.')"
   ]
  },
  {
   "cell_type": "markdown",
   "metadata": {},
   "source": [
    "영어 알파벳의 경우 대문자가 소문자보다 작다고 판단한다. "
   ]
  },
  {
   "cell_type": "code",
   "execution_count": 59,
   "metadata": {},
   "outputs": [
    {
     "data": {
      "text/plain": [
       "True"
      ]
     },
     "execution_count": 59,
     "metadata": {},
     "output_type": "execute_result"
    }
   ],
   "source": [
    "'Pineapple' < 'orange'"
   ]
  },
  {
   "cell_type": "markdown",
   "metadata": {},
   "source": [
    "따라서 문자열을 다룰 때 소문자 또는 대문자로 통일시킨 후에 비교를 해야 사전식으로 제대로 정렬할 수 있다.\n",
    "문자열을 모두 소문자로 바꾸려면 `lower` 라는 문자열 메서드를 사용한다."
   ]
  },
  {
   "cell_type": "code",
   "execution_count": 60,
   "metadata": {},
   "outputs": [
    {
     "data": {
      "text/plain": [
       "False"
      ]
     },
     "execution_count": 60,
     "metadata": {},
     "output_type": "execute_result"
    }
   ],
   "source": [
    "'Pineapple'.lower() < 'orange'.lower()"
   ]
  },
  {
   "cell_type": "markdown",
   "metadata": {},
   "source": [
    "### 문자열 메서드"
   ]
  },
  {
   "cell_type": "markdown",
   "metadata": {},
   "source": [
    "메서드(method)는 특정 자료형에만 사용되는 함수이며, 사용 방식도 일반 함수와 다르다.\n",
    "\n",
    "예를 들어, 앞서 언급한 `lower` 메소드와는 정반대로\n",
    "`orange` 문자열로부터 `ORANGE` 처럼 모두 대문자로만 구성된 \n",
    "문자열을 생성하고자 한다면 `upper` 라는 메서드를 아래와 같이 사용한다. "
   ]
  },
  {
   "cell_type": "code",
   "execution_count": 61,
   "metadata": {},
   "outputs": [
    {
     "data": {
      "text/plain": [
       "'ORANGE'"
      ]
     },
     "execution_count": 61,
     "metadata": {},
     "output_type": "execute_result"
    }
   ],
   "source": [
    "'orange'.upper()"
   ]
  },
  {
   "cell_type": "markdown",
   "metadata": {},
   "source": [
    "`upper` 이외에 문자열과 관련된 메서드는 매우 많다. \n",
    "여기서는 가장 많이 사용되는 메서드 몇 개를 소개하고자 한다.\n",
    "\n",
    "* `strip`\n",
    "* `split`\n",
    "* `replace`\n",
    "* `upper`\n",
    "* `lower`\n",
    "* `capitalize`\n",
    "* `title`\n",
    "* `startswith`\n",
    "* `endswith`\n",
    "* `find`\n",
    "\n",
    "예제를 통해 각 메서드의 활용법을 간략하게 확인한다.\n",
    "먼저 `week_days` 변수에 요일들을 저장한다."
   ]
  },
  {
   "cell_type": "code",
   "execution_count": 62,
   "metadata": {},
   "outputs": [],
   "source": [
    "week_days = \" Mon, Tue, Wed, Thu, Fri, Sat, Sun. \""
   ]
  },
  {
   "cell_type": "markdown",
   "metadata": {},
   "source": [
    "#### `strip` 메서드\n",
    "\n",
    "메서드 인자로 임의의 문자열을 받는다. \n",
    "그러면 주어진 문자열의 양 끝에서 인자로 들어온 문자열에 포함된 모든 문자를 삭제한다.\n",
    "예를 들어, 문자열 양끝에 있는 스페이스를 삭제하고자 할 경우 아래와 같이 실행한다."
   ]
  },
  {
   "cell_type": "code",
   "execution_count": 63,
   "metadata": {},
   "outputs": [
    {
     "data": {
      "text/plain": [
       "'Mon, Tue, Wed, Thu, Fri, Sat, Sun.'"
      ]
     },
     "execution_count": 63,
     "metadata": {},
     "output_type": "execute_result"
    }
   ],
   "source": [
    "week_days.strip(\" \")"
   ]
  },
  {
   "cell_type": "markdown",
   "metadata": {},
   "source": [
    "이는 `strip()` 메서드를 인자 없이 호출하는 경우와 동일하다."
   ]
  },
  {
   "cell_type": "code",
   "execution_count": 64,
   "metadata": {},
   "outputs": [
    {
     "data": {
      "text/plain": [
       "'Mon, Tue, Wed, Thu, Fri, Sat, Sun.'"
      ]
     },
     "execution_count": 64,
     "metadata": {},
     "output_type": "execute_result"
    }
   ],
   "source": [
    "week_days.strip()"
   ]
  },
  {
   "cell_type": "markdown",
   "metadata": {},
   "source": [
    "그런데 점(`.`)까지 `Sun.`에서 삭제하려면 공백과 점으로 구성된 문자열 \n",
    "`'. '`를 인자로 사용해야 한다."
   ]
  },
  {
   "cell_type": "code",
   "execution_count": 65,
   "metadata": {},
   "outputs": [
    {
     "data": {
      "text/plain": [
       "'Mon, Tue, Wed, Thu, Fri, Sat, Sun'"
      ]
     },
     "execution_count": 65,
     "metadata": {},
     "output_type": "execute_result"
    }
   ],
   "source": [
    "week_days.strip(\" .\")"
   ]
  },
  {
   "cell_type": "markdown",
   "metadata": {},
   "source": [
    "`. nM`을 인자로 사용하면 다음처럼 작동하는 것을 이해할 수 있어야 한다."
   ]
  },
  {
   "cell_type": "code",
   "execution_count": 66,
   "metadata": {},
   "outputs": [
    {
     "data": {
      "text/plain": [
       "'on, Tue, Wed, Thu, Fri, Sat, Su'"
      ]
     },
     "execution_count": 66,
     "metadata": {},
     "output_type": "execute_result"
    }
   ],
   "source": [
    "week_days.strip(\". nM\")"
   ]
  },
  {
   "cell_type": "markdown",
   "metadata": {},
   "source": [
    "#### `split` 메서드\n",
    "\n",
    "지정된 부분문자열을 기준으로 문자열을 쪼개어 문자열들의 리스트로 반환한다.\n",
    "리스트 자료형은 여러 개의 값들을 리스트로 묶은 자료형이다. \n",
    "이후에 자세히 다룬다.\n",
    "\n",
    "아래 예제는 `\", \"`, 즉 콤마와 스페이스를 기준으로 문자열을 쪼갠다."
   ]
  },
  {
   "cell_type": "code",
   "execution_count": 67,
   "metadata": {},
   "outputs": [
    {
     "data": {
      "text/plain": [
       "[' Mon', 'Tue', 'Wed', 'Thu', 'Fri', 'Sat', 'Sun. ']"
      ]
     },
     "execution_count": 67,
     "metadata": {},
     "output_type": "execute_result"
    }
   ],
   "source": [
    "week_days.split(\", \")"
   ]
  },
  {
   "cell_type": "markdown",
   "metadata": {},
   "source": [
    "두 개 이상의 메서드를 조합해서 활용할 수도 있다.\n",
    "예를 들어, `strip()` 메서드를 먼저 실행한 다음에 그 결과에 `split()` 메서드를 실행하면\n",
    "좀 더 산뜻한 결과를 얻을 수 있다."
   ]
  },
  {
   "cell_type": "code",
   "execution_count": 68,
   "metadata": {},
   "outputs": [
    {
     "data": {
      "text/plain": [
       "['Mon', 'Tue', 'Wed', 'Thu', 'Fri', 'Sat', 'Sun']"
      ]
     },
     "execution_count": 68,
     "metadata": {},
     "output_type": "execute_result"
    }
   ],
   "source": [
    "week_days.strip(\". \").split(\", \")"
   ]
  },
  {
   "cell_type": "markdown",
   "metadata": {},
   "source": [
    "위는 아래와 동일한 일을 수행한 결과이다."
   ]
  },
  {
   "cell_type": "code",
   "execution_count": 69,
   "metadata": {},
   "outputs": [
    {
     "data": {
      "text/plain": [
       "['Mon', 'Tue', 'Wed', 'Thu', 'Fri', 'Sat', 'Sun']"
      ]
     },
     "execution_count": 69,
     "metadata": {},
     "output_type": "execute_result"
    }
   ],
   "source": [
    "stripped_week_days = week_days.strip('. ')\n",
    "stripped_week_days.split(', ')"
   ]
  },
  {
   "cell_type": "markdown",
   "metadata": {},
   "source": [
    "#### `replace` 메서드\n",
    "\n",
    "부분문자열을 다른 문자열로 대체한다.\n",
    "\n",
    "예를 들어, `\" Mon\"`을 `\"Mon\"`으로 대체할 경우 아래와 같이 실행한다."
   ]
  },
  {
   "cell_type": "code",
   "execution_count": 70,
   "metadata": {},
   "outputs": [
    {
     "data": {
      "text/plain": [
       "'Mon, Tue, Wed, Thu, Fri, Sat, Sun. '"
      ]
     },
     "execution_count": 70,
     "metadata": {},
     "output_type": "execute_result"
    }
   ],
   "source": [
    "week_days.replace(\" Mon\", \"Mon\")"
   ]
  },
  {
   "cell_type": "markdown",
   "metadata": {},
   "source": [
    "#### `upper` 메서드\n",
    "\n",
    "모든 문자를 대문자로 변환시킨다."
   ]
  },
  {
   "cell_type": "code",
   "execution_count": 71,
   "metadata": {},
   "outputs": [
    {
     "data": {
      "text/plain": [
       "' MON, TUE, WED, THU, FRI, SAT, SUN. '"
      ]
     },
     "execution_count": 71,
     "metadata": {},
     "output_type": "execute_result"
    }
   ],
   "source": [
    "week_days.upper()"
   ]
  },
  {
   "cell_type": "code",
   "execution_count": 72,
   "metadata": {},
   "outputs": [
    {
     "data": {
      "text/plain": [
       "'MON, TUE, WED, THU, FRI, SAT, SUN'"
      ]
     },
     "execution_count": 72,
     "metadata": {},
     "output_type": "execute_result"
    }
   ],
   "source": [
    "week_days.strip('. ').upper()"
   ]
  },
  {
   "cell_type": "markdown",
   "metadata": {},
   "source": [
    "#### `lower` 메서드\n",
    "\n",
    "모든 문자를 소문자로 변환시킨다."
   ]
  },
  {
   "cell_type": "code",
   "execution_count": 73,
   "metadata": {},
   "outputs": [
    {
     "data": {
      "text/plain": [
       "'mon, tue, wed, thu, fri, sat, sun'"
      ]
     },
     "execution_count": 73,
     "metadata": {},
     "output_type": "execute_result"
    }
   ],
   "source": [
    "week_days.strip('. ').lower()"
   ]
  },
  {
   "cell_type": "code",
   "execution_count": 74,
   "metadata": {},
   "outputs": [
    {
     "data": {
      "text/plain": [
       "['mon', 'tue', 'wed', 'thu', 'fri', 'sat', 'sun']"
      ]
     },
     "execution_count": 74,
     "metadata": {},
     "output_type": "execute_result"
    }
   ],
   "source": [
    "week_days.strip('. ').lower().split(\", \")"
   ]
  },
  {
   "cell_type": "markdown",
   "metadata": {},
   "source": [
    "#### `capitalize` 메서드\n",
    "\n",
    "제일 첫 문자는 대문자로, 나머지는 소문자로 변환시킨다.\n",
    "\n",
    "아래 예제는 모든 게 소문자로 변환되었다. 이유는 첫 문자가 스페이스이기 때문이다."
   ]
  },
  {
   "cell_type": "code",
   "execution_count": 75,
   "metadata": {},
   "outputs": [
    {
     "data": {
      "text/plain": [
       "' mon, tue, wed, thu, fri, sat, sun. '"
      ]
     },
     "execution_count": 75,
     "metadata": {},
     "output_type": "execute_result"
    }
   ],
   "source": [
    "week_days.capitalize()"
   ]
  },
  {
   "cell_type": "markdown",
   "metadata": {},
   "source": [
    "따라서 먼저 `strip`을 적용하면 첫 문자가 대문자로 바뀐다."
   ]
  },
  {
   "cell_type": "code",
   "execution_count": 76,
   "metadata": {},
   "outputs": [
    {
     "data": {
      "text/plain": [
       "'Mon, tue, wed, thu, fri, sat, sun.'"
      ]
     },
     "execution_count": 76,
     "metadata": {},
     "output_type": "execute_result"
    }
   ],
   "source": [
    "week_days.strip().capitalize()"
   ]
  },
  {
   "cell_type": "markdown",
   "metadata": {},
   "source": [
    "#### `title` 메서드\n",
    "\n",
    "각각의 단어의 첫 문자를 대문자로 변환시킨다.\n",
    "참조: 영문 책 제목의 타이틀에서 각 단어의 첫 알파벳이 대문자로 쓰여지는 경우가 많다."
   ]
  },
  {
   "cell_type": "code",
   "execution_count": 77,
   "metadata": {},
   "outputs": [
    {
     "data": {
      "text/plain": [
       "' Mon, Tue, Wed, Thu, Fri, Sat, Sun. '"
      ]
     },
     "execution_count": 77,
     "metadata": {},
     "output_type": "execute_result"
    }
   ],
   "source": [
    "week_days.title()"
   ]
  },
  {
   "cell_type": "code",
   "execution_count": 78,
   "metadata": {},
   "outputs": [
    {
     "data": {
      "text/plain": [
       "'Mon, Tue, Wed, Thu, Fri, Sat, Sun'"
      ]
     },
     "execution_count": 78,
     "metadata": {},
     "output_type": "execute_result"
    }
   ],
   "source": [
    "week_days.strip('. ').title()"
   ]
  },
  {
   "cell_type": "markdown",
   "metadata": {},
   "source": [
    "#### `startswith` 메서드\n",
    "\n",
    "문자열이 특정 문자열로 시작하는지 여부를 판단해준다."
   ]
  },
  {
   "cell_type": "code",
   "execution_count": 79,
   "metadata": {},
   "outputs": [
    {
     "data": {
      "text/plain": [
       "True"
      ]
     },
     "execution_count": 79,
     "metadata": {},
     "output_type": "execute_result"
    }
   ],
   "source": [
    "week_days.startswith(\" M\")"
   ]
  },
  {
   "cell_type": "code",
   "execution_count": 80,
   "metadata": {},
   "outputs": [
    {
     "data": {
      "text/plain": [
       "False"
      ]
     },
     "execution_count": 80,
     "metadata": {},
     "output_type": "execute_result"
    }
   ],
   "source": [
    "week_days.strip().startswith(\" M\")"
   ]
  },
  {
   "cell_type": "code",
   "execution_count": 81,
   "metadata": {},
   "outputs": [
    {
     "data": {
      "text/plain": [
       "True"
      ]
     },
     "execution_count": 81,
     "metadata": {},
     "output_type": "execute_result"
    }
   ],
   "source": [
    "week_days.strip().startswith(\"Mo\")"
   ]
  },
  {
   "cell_type": "markdown",
   "metadata": {},
   "source": [
    "#### `endswith` 메서드\n",
    "\n",
    "문자열이 특정 문자열로 끝나는지 여부를 판단해준다."
   ]
  },
  {
   "cell_type": "code",
   "execution_count": 82,
   "metadata": {},
   "outputs": [
    {
     "data": {
      "text/plain": [
       "True"
      ]
     },
     "execution_count": 82,
     "metadata": {},
     "output_type": "execute_result"
    }
   ],
   "source": [
    "week_days.endswith(\"un. \")"
   ]
  },
  {
   "cell_type": "code",
   "execution_count": 83,
   "metadata": {},
   "outputs": [
    {
     "data": {
      "text/plain": [
       "False"
      ]
     },
     "execution_count": 83,
     "metadata": {},
     "output_type": "execute_result"
    }
   ],
   "source": [
    "week_days.endswith(\"Son. \")"
   ]
  },
  {
   "cell_type": "markdown",
   "metadata": {},
   "source": [
    "#### `count` 메서드\n",
    "\n",
    "문자열을 입력받으면 해당 문자열이 몇 번 나타나는지를 확인해서 리턴한다.\n",
    "대소문자를 구분함에 주의하라."
   ]
  },
  {
   "cell_type": "code",
   "execution_count": 84,
   "metadata": {},
   "outputs": [
    {
     "data": {
      "text/plain": [
       "1"
      ]
     },
     "execution_count": 84,
     "metadata": {},
     "output_type": "execute_result"
    }
   ],
   "source": [
    "week_days.count('on')"
   ]
  },
  {
   "cell_type": "code",
   "execution_count": 85,
   "metadata": {},
   "outputs": [
    {
     "data": {
      "text/plain": [
       "2"
      ]
     },
     "execution_count": 85,
     "metadata": {},
     "output_type": "execute_result"
    }
   ],
   "source": [
    "week_days.count('T')"
   ]
  },
  {
   "cell_type": "code",
   "execution_count": 86,
   "metadata": {},
   "outputs": [
    {
     "data": {
      "text/plain": [
       "1"
      ]
     },
     "execution_count": 86,
     "metadata": {},
     "output_type": "execute_result"
    }
   ],
   "source": [
    "week_days.count('Fri')"
   ]
  },
  {
   "cell_type": "code",
   "execution_count": 87,
   "metadata": {},
   "outputs": [
    {
     "data": {
      "text/plain": [
       "6"
      ]
     },
     "execution_count": 87,
     "metadata": {},
     "output_type": "execute_result"
    }
   ],
   "source": [
    "week_days.count(', ')"
   ]
  },
  {
   "cell_type": "markdown",
   "metadata": {},
   "source": [
    "#### `find` 메서드\n",
    "\n",
    "부분문자열이 시작하는 위치, 즉 인덱스를 알려준다.\n",
    "부분문자열이 여러 군데 위치한다면 첫 위치의 인데를 내준다."
   ]
  },
  {
   "cell_type": "code",
   "execution_count": 88,
   "metadata": {},
   "outputs": [
    {
     "data": {
      "text/plain": [
       "4"
      ]
     },
     "execution_count": 88,
     "metadata": {},
     "output_type": "execute_result"
    }
   ],
   "source": [
    "week_days.find(', ')"
   ]
  },
  {
   "cell_type": "code",
   "execution_count": 89,
   "metadata": {},
   "outputs": [
    {
     "data": {
      "text/plain": [
       "3"
      ]
     },
     "execution_count": 89,
     "metadata": {},
     "output_type": "execute_result"
    }
   ],
   "source": [
    "week_days.find('n, ')"
   ]
  },
  {
   "cell_type": "markdown",
   "metadata": {},
   "source": [
    "부분문자열이 존재하지 않으면 -1을 내준다."
   ]
  },
  {
   "cell_type": "code",
   "execution_count": 90,
   "metadata": {},
   "outputs": [
    {
     "data": {
      "text/plain": [
       "-1"
      ]
     },
     "execution_count": 90,
     "metadata": {},
     "output_type": "execute_result"
    }
   ],
   "source": [
    "week_days.find('m, ')"
   ]
  },
  {
   "cell_type": "markdown",
   "metadata": {},
   "source": [
    "## 수정 불가능성"
   ]
  },
  {
   "cell_type": "markdown",
   "metadata": {},
   "source": [
    "파이썬의 문자열 자료형의 값들은 수정이 불가능하다. \n",
    "앞서  `week_days`에 할당된 문자열에 다양한 메서드를 적용하여 새로운 문자열을 생성하였지만\n",
    "`week_days`에 할당된 문자열 자체는 전혀 변하지 않았음을 아래와 같이 확인할 수 있다."
   ]
  },
  {
   "cell_type": "code",
   "execution_count": 91,
   "metadata": {},
   "outputs": [
    {
     "data": {
      "text/plain": [
       "' Mon, Tue, Wed, Thu, Fri, Sat, Sun. '"
      ]
     },
     "execution_count": 91,
     "metadata": {},
     "output_type": "execute_result"
    }
   ],
   "source": [
    "week_days"
   ]
  },
  {
   "cell_type": "markdown",
   "metadata": {},
   "source": [
    "따라서 주어진 문자열을 이용하여 새로운 문자열을 생성하고 활용하려면 \n",
    "새로운 변수에 저장하여 활용해야 한다."
   ]
  },
  {
   "cell_type": "code",
   "execution_count": 92,
   "metadata": {},
   "outputs": [],
   "source": [
    "stripped_week_days = week_days.strip(' .')"
   ]
  },
  {
   "cell_type": "code",
   "execution_count": 93,
   "metadata": {},
   "outputs": [
    {
     "data": {
      "text/plain": [
       "'Mon, Tue, Wed, Thu, Fri, Sat, Sun'"
      ]
     },
     "execution_count": 93,
     "metadata": {},
     "output_type": "execute_result"
    }
   ],
   "source": [
    "stripped_week_days"
   ]
  },
  {
   "cell_type": "markdown",
   "metadata": {},
   "source": [
    "물론 아래와 같이 지금까지 배운 기술을 (일부러 조금) 복잡하게 활용할 수도 있다."
   ]
  },
  {
   "cell_type": "code",
   "execution_count": 94,
   "metadata": {},
   "outputs": [
    {
     "name": "stdout",
     "output_type": "stream",
     "text": [
      "Mon, Tue, Wed, Thu, Fri, Sat, Sun\n"
     ]
    }
   ],
   "source": [
    "stripped_week_days = 'Mon, ' + week_days[6:-2]\n",
    "print(stripped_week_days)"
   ]
  },
  {
   "cell_type": "markdown",
   "metadata": {},
   "source": [
    "## 함수와 메서드"
   ]
  },
  {
   "cell_type": "markdown",
   "metadata": {},
   "source": [
    "### 함수"
   ]
  },
  {
   "cell_type": "markdown",
   "metadata": {},
   "source": [
    "함수가 하는 일은 기본적으로 매우 단순하다. \n",
    "어떤 값들이 주어지면 그 값들을 적절히 이용하여 특정 값을 내준다.\n",
    "아래 그림은 절댓값를 계산하는 함수 `abs`와 덧셈 함수 `add`를 예를 들어 \n",
    "함수가 작동하는 방식을 설명한다.\n",
    "즉, 왼쪽 입구를 통해 값을 받아들이고, 오른쪽 출구를 통해 값을 내주는 것이\n",
    "함수의 기본 기능이다.\n",
    "\n",
    "<p>\n",
    "<table cellspacing=\"20\">\n",
    "<tr>\n",
    "<td>\n",
    "<img src=\"images/fun_name.png\">\n",
    "</td>\n",
    "</tr>\n",
    "</table>\n",
    "</p>\n",
    "\n",
    "실제로 `abs`와 `add`함수의 활용은 다음과 같다."
   ]
  },
  {
   "cell_type": "code",
   "execution_count": 95,
   "metadata": {},
   "outputs": [
    {
     "data": {
      "text/plain": [
       "3"
      ]
     },
     "execution_count": 95,
     "metadata": {},
     "output_type": "execute_result"
    }
   ],
   "source": [
    "abs(-3)"
   ]
  },
  {
   "cell_type": "code",
   "execution_count": 96,
   "metadata": {},
   "outputs": [
    {
     "data": {
      "text/plain": [
       "0"
      ]
     },
     "execution_count": 96,
     "metadata": {},
     "output_type": "execute_result"
    }
   ],
   "source": [
    "# add는 operator 모듈에 포함된 함수임.\n",
    "from operator import add\n",
    "\n",
    "add(-3, abs(-3))"
   ]
  },
  {
   "cell_type": "markdown",
   "metadata": {},
   "source": [
    "### 메서드"
   ]
  },
  {
   "cell_type": "markdown",
   "metadata": {},
   "source": [
    "메서드는 특정 자료형에게만 사용되는 특별한 함수다.\n",
    "\n",
    "**참조:** 메서드 또한 함수이지만 메서드라고 불리면서 일반적인 함수와 용도가 다른 이유는 나중에 \n",
    "클래스(class)를 배울 때 설명될 것이다."
   ]
  },
  {
   "cell_type": "markdown",
   "metadata": {},
   "source": [
    "예를 들어, `upper` 메서드는 절대로 아래와 같이 호출하지 않는다.\n",
    "\n",
    "```python\n",
    "upper('orange')\n",
    "```\n",
    "\n",
    "위와 같이 `upper` 메서드를 호출하면 `upper`라는 함수를 모른다는 오류(`NameError`)가 발생한다."
   ]
  },
  {
   "cell_type": "code",
   "execution_count": 97,
   "metadata": {},
   "outputs": [
    {
     "ename": "NameError",
     "evalue": "name 'upper' is not defined",
     "output_type": "error",
     "traceback": [
      "\u001b[0;31m---------------------------------------------------------------------------\u001b[0m",
      "\u001b[0;31mNameError\u001b[0m                                 Traceback (most recent call last)",
      "\u001b[0;32m<ipython-input-97-7661345ceeed>\u001b[0m in \u001b[0;36m<module>\u001b[0;34m\u001b[0m\n\u001b[0;32m----> 1\u001b[0;31m \u001b[0mupper\u001b[0m\u001b[0;34m(\u001b[0m\u001b[0;34m'orange'\u001b[0m\u001b[0;34m)\u001b[0m\u001b[0;34m\u001b[0m\u001b[0;34m\u001b[0m\u001b[0m\n\u001b[0m",
      "\u001b[0;31mNameError\u001b[0m: name 'upper' is not defined"
     ]
    }
   ],
   "source": [
    "upper('orange')"
   ]
  },
  {
   "cell_type": "markdown",
   "metadata": {},
   "source": [
    "또한 `upper` 메서드는 문자열을 다룰 때만 사용되며, 다른 자료형에 사용하면 오류가 발생한다.    "
   ]
  },
  {
   "cell_type": "code",
   "execution_count": 98,
   "metadata": {},
   "outputs": [
    {
     "ename": "SyntaxError",
     "evalue": "invalid syntax (<ipython-input-98-72b1845651b0>, line 1)",
     "output_type": "error",
     "traceback": [
      "\u001b[0;36m  File \u001b[0;32m\"<ipython-input-98-72b1845651b0>\"\u001b[0;36m, line \u001b[0;32m1\u001b[0m\n\u001b[0;31m    117.upper()\u001b[0m\n\u001b[0m            ^\u001b[0m\n\u001b[0;31mSyntaxError\u001b[0m\u001b[0;31m:\u001b[0m invalid syntax\n"
     ]
    }
   ],
   "source": [
    "117.upper()"
   ]
  },
  {
   "cell_type": "markdown",
   "metadata": {},
   "source": [
    "### 함수와 매개변수"
   ]
  },
  {
   "cell_type": "markdown",
   "metadata": {},
   "source": [
    "함수의 정의는 아래 형식을 갖는다.\n",
    "\n",
    "```python\n",
    "def 함수이름(매개변수1, 매개변수2, ..., 매개변수n):\n",
    "    명령문\n",
    "    return 표현식\n",
    "```\n",
    "\n",
    "**주의:** 함수 본체 명령문은 들여쓴다.\n",
    "\n",
    "함수를 정의할 때 사용되는 **매개변수**는 특정 값을 함수 본체 명령에 값을 전달하는 역할을 수행한다.\n",
    "\n",
    "이제 `abs`, `add`와 동일하게 작동하는 `myAbs`, `myAdd` 함수를 아래와 같이 직접 정의할 수 있다.\n",
    "`myAbs`는 한 개의 값을 입력받아야 하기에 한 개의 매개변수가 필요하고,\n",
    "반면에 `myAdd`는 더해야 할 두 개의 값을 입력받아야 하기에 두 개의 매개변수가 필요하다."
   ]
  },
  {
   "cell_type": "code",
   "execution_count": 99,
   "metadata": {},
   "outputs": [],
   "source": [
    "def myAbs(x):\n",
    "    if x >= 0:\n",
    "        z = x\n",
    "    else:\n",
    "        z = -x\n",
    "    return z"
   ]
  },
  {
   "cell_type": "code",
   "execution_count": 100,
   "metadata": {},
   "outputs": [],
   "source": [
    "def myAdd(x, y):\n",
    "    z = x + y\n",
    "    return z"
   ]
  },
  {
   "cell_type": "code",
   "execution_count": 101,
   "metadata": {},
   "outputs": [
    {
     "data": {
      "text/plain": [
       "3"
      ]
     },
     "execution_count": 101,
     "metadata": {},
     "output_type": "execute_result"
    }
   ],
   "source": [
    "myAbs(-3)"
   ]
  },
  {
   "cell_type": "code",
   "execution_count": 102,
   "metadata": {},
   "outputs": [
    {
     "data": {
      "text/plain": [
       "0"
      ]
     },
     "execution_count": 102,
     "metadata": {},
     "output_type": "execute_result"
    }
   ],
   "source": [
    "myAdd(-3, myAbs(-3))"
   ]
  },
  {
   "cell_type": "markdown",
   "metadata": {},
   "source": [
    "### 함수호출과 인자"
   ]
  },
  {
   "cell_type": "markdown",
   "metadata": {},
   "source": [
    "함수 또는 메서드를 특정 값들과 함께 실행하는 것을 **함수호출 이라고 부르며, \n",
    "함수를 호출할 때 사용되는 값들을 **인자** 라고 부른다.\n",
    "\n",
    "* 함수를 호출할 때:\n",
    "        함수이름(인자1, 인자2, ..., 인자n)"
   ]
  },
  {
   "cell_type": "code",
   "execution_count": 103,
   "metadata": {},
   "outputs": [
    {
     "data": {
      "text/plain": [
       "10"
      ]
     },
     "execution_count": 103,
     "metadata": {},
     "output_type": "execute_result"
    }
   ],
   "source": [
    "len(iLikePython)"
   ]
  },
  {
   "cell_type": "markdown",
   "metadata": {},
   "source": [
    "* 메서드를 호출할 때:\n",
    "        특정자료형값.메서드이름(인자1, 인자2, ..., 인자n)"
   ]
  },
  {
   "cell_type": "code",
   "execution_count": 104,
   "metadata": {},
   "outputs": [
    {
     "data": {
      "text/plain": [
       "'파이썬 너무 좋아요'"
      ]
     },
     "execution_count": 104,
     "metadata": {},
     "output_type": "execute_result"
    }
   ],
   "source": [
    "iLikePython"
   ]
  },
  {
   "cell_type": "code",
   "execution_count": 105,
   "metadata": {},
   "outputs": [
    {
     "data": {
      "text/plain": [
       "'파이썬 최고로 좋아요'"
      ]
     },
     "execution_count": 105,
     "metadata": {},
     "output_type": "execute_result"
    }
   ],
   "source": [
    "iLikePython.replace('너무', '최고로')"
   ]
  },
  {
   "cell_type": "markdown",
   "metadata": {},
   "source": [
    "* 인자가 필요하지 않은 경우에는 빈 괄호를 사용한다. "
   ]
  },
  {
   "cell_type": "code",
   "execution_count": 106,
   "metadata": {},
   "outputs": [
    {
     "data": {
      "text/plain": [
       "['파이썬', '너무', '좋아요']"
      ]
     },
     "execution_count": 106,
     "metadata": {},
     "output_type": "execute_result"
    }
   ],
   "source": [
    "iLikePython.split()"
   ]
  },
  {
   "cell_type": "markdown",
   "metadata": {},
   "source": [
    "## 문자열과 반복 명령문"
   ]
  },
  {
   "cell_type": "markdown",
   "metadata": {},
   "source": [
    "문자열은 여러 개의 문자열들의 나열이라는 의미에서 모음 자료형의 값이라 부르기도 한다고\n",
    "앞서 설명하였다.\n",
    "즉, 여러 개의 값(문자)을 하나로 묶여 있는 것이 문자열이다.\n",
    "\n",
    "그런데 필요할 때는 항목으로 사용된 각각의 문자를 확인하여 활용할 수 있어야 한다.\n",
    "앞서, 인덱싱과 슬라이싱도 이런 용도로 사용되는 도구이지만,\n",
    "문자열의 길이가 엄청 길어지면\n",
    "인덱스와 슬라이싱 구간을 수동으로 지정하기 어려운 경우가 발생한다.\n",
    "즉, 자동화 측면에서의 기능 보충이 요구된다.\n",
    "\n",
    "`while`과 `for` 반복 명령문이 바로 자동화 기능을 지원한다.\n",
    "특히, 문자열, 리스트, 튜플, 어레이, 사전 등의 자료형과 함께 사용할 때\n",
    "두 반복문의 기능을 극대화할 수 있다.\n",
    "\n",
    "**참조:** 반복 명령문을 지원하지 않는 프로그래밍 언어는 용도가 매우 제한적이며,\n",
    "그런 프로그래밍 언어는 거의 사용되지 않는다."
   ]
  },
  {
   "cell_type": "markdown",
   "metadata": {},
   "source": [
    "### `while` 반복문"
   ]
  },
  {
   "cell_type": "markdown",
   "metadata": {},
   "source": [
    "문자열과 `while` 반복문을 함께 사용하려면 인덱스를 활용해야 한다.\n",
    "\n",
    "예를 들어, 문자열 `'banana'`에 사용된 항목들을 하나씩 차례대로 출력하려면 다음과 같이 한다."
   ]
  },
  {
   "cell_type": "code",
   "execution_count": 107,
   "metadata": {},
   "outputs": [
    {
     "name": "stdout",
     "output_type": "stream",
     "text": [
      "b\n",
      "a\n",
      "n\n",
      "a\n",
      "n\n",
      "a\n",
      "최종 index = 6\n"
     ]
    }
   ],
   "source": [
    "fruit = 'banana'\n",
    "\n",
    "idx = 0\n",
    "while idx < len(fruit):\n",
    "    letter = fruit[idx]\n",
    "    print(letter)\n",
    "    idx = idx + 1\n",
    "    \n",
    "print(\"최종 index =\", idx)"
   ]
  },
  {
   "cell_type": "markdown",
   "metadata": {},
   "source": [
    "위 코드 설명:\n",
    "* `while` 반복의 조건인 `idx < len(fruit)`가 거짓이 될 때까지 `idx`의 값이 0, 1, 2 등으로 변한다.\n",
    "* `idx`가 0, 1, ..., 5의 값을 가지면 해당 인덱스가 가리키는 위치의 문자를 출력한다. \n",
    "* `idx`에 할당된 값이 `len(fruit)`인 6이 되는 순간에 `while` 반복문을 벗어난다.\n",
    "    따라서 위 프로그램의 실행이 종료될 때 `idx`가 가리키는 값은 `banana` 문자열의 길이닌 6이 된다."
   ]
  },
  {
   "cell_type": "markdown",
   "metadata": {},
   "source": [
    "#### 예제\n",
    "\n",
    "주어진 문자열에 포함된 문자들을 역순으로 인쇄하는 프로그램은 다음과 같다."
   ]
  },
  {
   "cell_type": "code",
   "execution_count": 108,
   "metadata": {},
   "outputs": [
    {
     "name": "stdout",
     "output_type": "stream",
     "text": [
      "e\n",
      "l\n",
      "p\n",
      "p\n",
      "a\n"
     ]
    }
   ],
   "source": [
    "fruit = 'apple'\n",
    "\n",
    "idx = 1\n",
    "while idx < len(fruit) + 1:\n",
    "    letter = fruit[-idx]\n",
    "    print(letter)\n",
    "    idx = idx + 1"
   ]
  },
  {
   "cell_type": "markdown",
   "metadata": {},
   "source": [
    "그런데 `print` 함수가 출력할 때마다 줄바꿈이 사용된다.\n",
    "줄바꿈이 발생하지 않도록 하려면 다음과 같이 `print` 함수의 옵션 인자 설정 하나를 바꿔야 한다."
   ]
  },
  {
   "cell_type": "code",
   "execution_count": 109,
   "metadata": {},
   "outputs": [
    {
     "name": "stdout",
     "output_type": "stream",
     "text": [
      "elppa"
     ]
    }
   ],
   "source": [
    "fruit = 'apple'\n",
    "\n",
    "idx = 1\n",
    "while idx < len(fruit) + 1:\n",
    "    letter = fruit[-idx]\n",
    "    print(letter, end='')\n",
    "    idx = idx + 1"
   ]
  },
  {
   "cell_type": "markdown",
   "metadata": {},
   "source": [
    "파이썬에서 특정 함수는 옵션 매개변수를 여러 개 가질 수 있다. \n",
    "`print` 함수도 여러 개의 옵션 매개변수를 가지면, `end` 가 그중에 하나이다.\n",
    "`end`는 출력을 마친 후 실행하는 추가 옵션을 담당하며 기본 옵션값은 줄바꿈(`'\\n'`) 이다.\n",
    "위 프로그램에서는 `end` 옵션 매개변수에 할당된 인자를 아무 것도 하지 않는 것을 의미하는\n",
    "빈 문자열로 지정한 것이다. \n",
    "\n",
    "예를 들어, 항목들을 쉼표(콤마)로 구분하고 싶다면 다음가 같이 한다."
   ]
  },
  {
   "cell_type": "code",
   "execution_count": 110,
   "metadata": {},
   "outputs": [
    {
     "name": "stdout",
     "output_type": "stream",
     "text": [
      "e, l, p, p, a, "
     ]
    }
   ],
   "source": [
    "fruit = 'apple'\n",
    "\n",
    "idx = 1\n",
    "while idx < len(fruit) + 1:\n",
    "    letter = fruit[-idx]\n",
    "    print(letter, end=', ')\n",
    "    idx = idx + 1"
   ]
  },
  {
   "cell_type": "markdown",
   "metadata": {},
   "source": [
    "`print` 함수의 기타 옵션 매개변수 중에 `sep`도 중요하다. \n",
    "`sep` 옵션 매개변수에 대한 설명은 [코딩도장: 여러 값 출력하기](https://dojang.io/mod/page/view.php?id=1223)를 참조하면 좋다.\n",
    "\n",
    "위 프로그램은 슬라이싱을 사용하면 매우 간단하게 해결된다.\n",
    "스텝이 음수이면 역순으로 슬라이싱을 적용한다."
   ]
  },
  {
   "cell_type": "code",
   "execution_count": 111,
   "metadata": {},
   "outputs": [
    {
     "data": {
      "text/plain": [
       "'elppa'"
      ]
     },
     "execution_count": 111,
     "metadata": {},
     "output_type": "execute_result"
    }
   ],
   "source": [
    "fruit[::-1]"
   ]
  },
  {
   "cell_type": "markdown",
   "metadata": {},
   "source": [
    "**주의:** 항목들 사이에 쉼표 등을 삽입하는 기능은 슬라이싱이 제공하지 않는다."
   ]
  },
  {
   "cell_type": "markdown",
   "metadata": {},
   "source": [
    "#### 예제: 문자 검색함수"
   ]
  },
  {
   "cell_type": "markdown",
   "metadata": {},
   "source": [
    "인터넷 검색에서 가장 중요한 요소는 원하는 단어 또는 문장을 포함한 웹사이트, 문서 등을 찾는 일이다. \n",
    "여기서는 문자열에 특정 문자가 포함되어 있는지 여부를 판단하는 `findChar` 함수를\n",
    "기존 문자열 메서드를 전혀 사용하지 않으면서 구현해 본다.\n",
    "\n",
    "아래 정의된 `findChar` 함수는 입력된 문자열에 특정 문자가 포함되어 있으면 \n",
    "그 문자가 가장 먼저 나타나는 곳의 인덱스를 찾아주고, 그렇지 않으면 -1을 내준다."
   ]
  },
  {
   "cell_type": "code",
   "execution_count": 112,
   "metadata": {},
   "outputs": [],
   "source": [
    "def find(word, letter):\n",
    "    idx = 0\n",
    "    while idx < len(word):\n",
    "        if word[idx] == letter:\n",
    "            return idx\n",
    "        idx = idx + 1\n",
    "    return -1"
   ]
  },
  {
   "cell_type": "code",
   "execution_count": 113,
   "metadata": {},
   "outputs": [
    {
     "data": {
      "text/plain": [
       "1"
      ]
     },
     "execution_count": 113,
     "metadata": {},
     "output_type": "execute_result"
    }
   ],
   "source": [
    "find('banana', 'a')"
   ]
  },
  {
   "cell_type": "code",
   "execution_count": 114,
   "metadata": {},
   "outputs": [
    {
     "data": {
      "text/plain": [
       "2"
      ]
     },
     "execution_count": 114,
     "metadata": {},
     "output_type": "execute_result"
    }
   ],
   "source": [
    "find('banana', 'n')"
   ]
  },
  {
   "cell_type": "code",
   "execution_count": 115,
   "metadata": {},
   "outputs": [
    {
     "data": {
      "text/plain": [
       "-1"
      ]
     },
     "execution_count": 115,
     "metadata": {},
     "output_type": "execute_result"
    }
   ],
   "source": [
    "find('banana', 'o')"
   ]
  },
  {
   "cell_type": "markdown",
   "metadata": {},
   "source": [
    "### 문자열과 `for` 반복 명령문"
   ]
  },
  {
   "cell_type": "markdown",
   "metadata": {},
   "source": [
    "파이썬에서 문자열과 같은 모음 자료형은 `while` 반복문 보다\n",
    "`for` 반복문과 사용하는 게 보다 효율적이다.\n",
    "이유는 `for` 반복문 자체가 자동으로 인덱스를 1씩 키워주는 기능을 갖고 있기 때문이다.\n",
    "\n",
    "**주의:** C와 자바는 `for` 반복문이 이런 기능을 제공하지 않는다.\n",
    "\n",
    "따라서 앞서 `while` 반복문에서 인덱스가 1씩 커지는 것을 \n",
    "지원하는 `idx` 변수가 필요없게 된다. \n",
    "예를 들어, 아래 코드는 `fruit`에 할당된 문자열의 각 항목을 차례대로 출력한다."
   ]
  },
  {
   "cell_type": "code",
   "execution_count": 116,
   "metadata": {},
   "outputs": [
    {
     "name": "stdout",
     "output_type": "stream",
     "text": [
      "a\n",
      "p\n",
      "p\n",
      "l\n",
      "e\n"
     ]
    }
   ],
   "source": [
    "for letter in fruit:\n",
    "    print(letter)"
   ]
  },
  {
   "cell_type": "markdown",
   "metadata": {},
   "source": [
    "* `letter` 변수는 처음에 `a`를 가리킨다.\n",
    "* 다음 과정을 `letter` 변수가 더 이상 가리킬 값(문자)가 없을 때까지 위 과정을 반복한다.\n",
    "    * `for` 반복문의 본체를 실행한다.\n",
    "    * `letter` 변수가 가리키는 값을 오른편에 위치한 값으로 대체한다."
   ]
  },
  {
   "cell_type": "markdown",
   "metadata": {},
   "source": [
    "#### 예제\n",
    "\n",
    "* `for` 반복 명령문을 활용하여 특정 단어들을 생성하는 예제이다. \n",
    "* `JKLMNOPQ`에 포함된 문자를 하나씩 꺼내어 `ack`라는 문자열의 맨 앞에 붙힌 단어들을 생성한다. "
   ]
  },
  {
   "cell_type": "code",
   "execution_count": 117,
   "metadata": {},
   "outputs": [
    {
     "name": "stdout",
     "output_type": "stream",
     "text": [
      "Jack\n",
      "Kack\n",
      "Lack\n",
      "Mack\n",
      "Nack\n",
      "Oack\n",
      "Pack\n",
      "Qack\n"
     ]
    }
   ],
   "source": [
    "# 접두사\n",
    "prefixes = 'JKLMNOPQ'\n",
    "\n",
    "#접미사\n",
    "suffix = 'ack'\n",
    "\n",
    "for letter in prefixes:\n",
    "    print(letter + suffix)"
   ]
  },
  {
   "cell_type": "markdown",
   "metadata": {},
   "source": [
    "#### 예제\n",
    "\n",
    "`apple`과 `orange` 두 단어에 공동으로 포함된 알파벳을 출력하는 방법은 다음과 같다."
   ]
  },
  {
   "cell_type": "code",
   "execution_count": 118,
   "metadata": {},
   "outputs": [
    {
     "name": "stdout",
     "output_type": "stream",
     "text": [
      "a\n",
      "e\n"
     ]
    }
   ],
   "source": [
    "word1 = 'apple'\n",
    "word2 = 'orange'\n",
    "\n",
    "for letter in word1:\n",
    "    if letter in word2:\n",
    "        print(letter)"
   ]
  },
  {
   "cell_type": "markdown",
   "metadata": {},
   "source": [
    "두 개의 문자열에 공동으로 사용된 문자들을 모두 출력하는 함수 `inBoth`를 \n",
    "구현하려면 `word1`과 `word2`가 임의의 문자열을 가리킬 수 있도록 하면 된다.\n",
    "즉, 두 변수를 매개변수로 사용하는 함수를 아래와 같이 선언하면 된다."
   ]
  },
  {
   "cell_type": "code",
   "execution_count": 119,
   "metadata": {},
   "outputs": [],
   "source": [
    "def inBoth(word1, word2):\n",
    "    for letter in word1:\n",
    "        if letter in word2:\n",
    "            print(letter)"
   ]
  },
  {
   "cell_type": "code",
   "execution_count": 120,
   "metadata": {},
   "outputs": [
    {
     "name": "stdout",
     "output_type": "stream",
     "text": [
      "a\n",
      "e\n"
     ]
    }
   ],
   "source": [
    "inBoth('apple', 'orange')"
   ]
  },
  {
   "cell_type": "markdown",
   "metadata": {},
   "source": [
    "#### 예제: 집계하기\n",
    "\n",
    "다음 프로그램은 문자열에서 문자 `'a'`가 나타나는 횟수를 집계(카운팅, counting)할 수 있다."
   ]
  },
  {
   "cell_type": "code",
   "execution_count": 121,
   "metadata": {},
   "outputs": [
    {
     "name": "stdout",
     "output_type": "stream",
     "text": [
      "orange에서 알파벳 a가 1 번 사용되었어요.\n"
     ]
    }
   ],
   "source": [
    "word = 'orange'\n",
    "count = 0\n",
    "for letter in word:\n",
    "    if letter == 'a':\n",
    "        count = count + 1\n",
    "print(word + '에서' + \" 알파벳 a가\", count, '번 사용되었어요.')"
   ]
  },
  {
   "cell_type": "markdown",
   "metadata": {},
   "source": [
    "**주의:** `print` 함수의 인자들을 의도적으로 복잡하게 사용하였다."
   ]
  },
  {
   "cell_type": "markdown",
   "metadata": {},
   "source": [
    "## 디버깅 연습: 인덱스 활용\n",
    "\n",
    "아래의 `is_reverse` 함수는 인자로 입력된 두 문자열이 서로 뒤집어진 관계인지를 판단하는 기능을 갖도록 정의되었다. "
   ]
  },
  {
   "cell_type": "code",
   "execution_count": 122,
   "metadata": {},
   "outputs": [],
   "source": [
    "def is_reverse(word1, word2):\n",
    "    if len(word1) != len(word2):\n",
    "        return False\n",
    "\n",
    "    i = 0\n",
    "    j = len(word2)\n",
    "\n",
    "    while j > 0:\n",
    "        if word1[i] != word2[j]:\n",
    "            return False\n",
    "        i = i+1\n",
    "        j = j-1\n",
    "\n",
    "    return True"
   ]
  },
  {
   "cell_type": "markdown",
   "metadata": {},
   "source": [
    "코드 설명:\n",
    "\n",
    "* 첫 번째 `if` 명령문은 단어들의 길이가 같은지 검사하며, 즉시 `False`를 리턴하고 실행을 종료한다. \n",
    "* 두 단어의 길이가 같을 경우, 두 단어를 탐색하기 위해 두 개의 인덱스 지수인 `i`와 `j` 선언.\n",
    "* `while` 명령문\n",
    "    * `i`는 `word1`를 순방향으로 탐색\n",
    "    * `j`는 `word2`를 역방향으로 탐색\n",
    "    * 만약 두 글자가 다른 경우를 발견하면, 즉시 `False`를 리턴하고 실행 종료.\n",
    "* `while` 명령문이 끝난 경우\n",
    "    * 두 단어가 서로 뒤집힌 관계인을 의미\n",
    "    * 따라서 `True` 리턴하고 실행 종료."
   ]
  },
  {
   "cell_type": "markdown",
   "metadata": {},
   "source": [
    "그런데 위 함수는 잘못 정의되어 있다. \n",
    "`is_reverse` 함수의 정의가 문법상으로는 하자가 없지만 실행을 하다보면 오류가 발생한다.\n",
    "이와 같은 오류를 __실행시간 오류(runtime error)__ 라 부른다."
   ]
  },
  {
   "cell_type": "code",
   "execution_count": 123,
   "metadata": {},
   "outputs": [
    {
     "ename": "IndexError",
     "evalue": "string index out of range",
     "output_type": "error",
     "traceback": [
      "\u001b[0;31m---------------------------------------------------------------------------\u001b[0m",
      "\u001b[0;31mIndexError\u001b[0m                                Traceback (most recent call last)",
      "\u001b[0;32m<ipython-input-123-d368e6954e78>\u001b[0m in \u001b[0;36m<module>\u001b[0;34m\u001b[0m\n\u001b[0;32m----> 1\u001b[0;31m \u001b[0mis_reverse\u001b[0m\u001b[0;34m(\u001b[0m\u001b[0;34m'pots'\u001b[0m\u001b[0;34m,\u001b[0m \u001b[0;34m'stop'\u001b[0m\u001b[0;34m)\u001b[0m\u001b[0;34m\u001b[0m\u001b[0;34m\u001b[0m\u001b[0m\n\u001b[0m",
      "\u001b[0;32m<ipython-input-122-762d949ae797>\u001b[0m in \u001b[0;36mis_reverse\u001b[0;34m(word1, word2)\u001b[0m\n\u001b[1;32m      7\u001b[0m \u001b[0;34m\u001b[0m\u001b[0m\n\u001b[1;32m      8\u001b[0m     \u001b[0;32mwhile\u001b[0m \u001b[0mj\u001b[0m \u001b[0;34m>\u001b[0m \u001b[0;36m0\u001b[0m\u001b[0;34m:\u001b[0m\u001b[0;34m\u001b[0m\u001b[0;34m\u001b[0m\u001b[0m\n\u001b[0;32m----> 9\u001b[0;31m         \u001b[0;32mif\u001b[0m \u001b[0mword1\u001b[0m\u001b[0;34m[\u001b[0m\u001b[0mi\u001b[0m\u001b[0;34m]\u001b[0m \u001b[0;34m!=\u001b[0m \u001b[0mword2\u001b[0m\u001b[0;34m[\u001b[0m\u001b[0mj\u001b[0m\u001b[0;34m]\u001b[0m\u001b[0;34m:\u001b[0m\u001b[0;34m\u001b[0m\u001b[0;34m\u001b[0m\u001b[0m\n\u001b[0m\u001b[1;32m     10\u001b[0m             \u001b[0;32mreturn\u001b[0m \u001b[0;32mFalse\u001b[0m\u001b[0;34m\u001b[0m\u001b[0;34m\u001b[0m\u001b[0m\n\u001b[1;32m     11\u001b[0m         \u001b[0mi\u001b[0m \u001b[0;34m=\u001b[0m \u001b[0mi\u001b[0m\u001b[0;34m+\u001b[0m\u001b[0;36m1\u001b[0m\u001b[0;34m\u001b[0m\u001b[0;34m\u001b[0m\u001b[0m\n",
      "\u001b[0;31mIndexError\u001b[0m: string index out of range"
     ]
    }
   ],
   "source": [
    "is_reverse('pots', 'stop')"
   ]
  },
  {
   "cell_type": "markdown",
   "metadata": {},
   "source": [
    "이런 종류의 오류를 디버깅할 때 오류를 발생시킨 명령문 바로 앞줄에서 인덱스의 값을 인쇄해보는 것이다."
   ]
  },
  {
   "cell_type": "code",
   "execution_count": 124,
   "metadata": {},
   "outputs": [],
   "source": [
    "def is_reverse(word1, word2):\n",
    "    if len(word1) != len(word2):\n",
    "        return False\n",
    "\n",
    "    i = 0\n",
    "    j = len(word2)\n",
    "\n",
    "    while j > 0:\n",
    "        print('i =', i, 'j = ', j)                 # print 명령문 추가\n",
    "        if word1[i] != word2[j]:\n",
    "            return False\n",
    "        i = i+1\n",
    "        j = j-1\n",
    "\n",
    "    return True"
   ]
  },
  {
   "cell_type": "markdown",
   "metadata": {},
   "source": [
    "다시 실행하면 좀 더 많은 정보를 얻는다."
   ]
  },
  {
   "cell_type": "code",
   "execution_count": 125,
   "metadata": {},
   "outputs": [
    {
     "name": "stdout",
     "output_type": "stream",
     "text": [
      "i = 0 j =  4\n"
     ]
    },
    {
     "ename": "IndexError",
     "evalue": "string index out of range",
     "output_type": "error",
     "traceback": [
      "\u001b[0;31m---------------------------------------------------------------------------\u001b[0m",
      "\u001b[0;31mIndexError\u001b[0m                                Traceback (most recent call last)",
      "\u001b[0;32m<ipython-input-125-d368e6954e78>\u001b[0m in \u001b[0;36m<module>\u001b[0;34m\u001b[0m\n\u001b[0;32m----> 1\u001b[0;31m \u001b[0mis_reverse\u001b[0m\u001b[0;34m(\u001b[0m\u001b[0;34m'pots'\u001b[0m\u001b[0;34m,\u001b[0m \u001b[0;34m'stop'\u001b[0m\u001b[0;34m)\u001b[0m\u001b[0;34m\u001b[0m\u001b[0;34m\u001b[0m\u001b[0m\n\u001b[0m",
      "\u001b[0;32m<ipython-input-124-4b4176bb5753>\u001b[0m in \u001b[0;36mis_reverse\u001b[0;34m(word1, word2)\u001b[0m\n\u001b[1;32m      8\u001b[0m     \u001b[0;32mwhile\u001b[0m \u001b[0mj\u001b[0m \u001b[0;34m>\u001b[0m \u001b[0;36m0\u001b[0m\u001b[0;34m:\u001b[0m\u001b[0;34m\u001b[0m\u001b[0;34m\u001b[0m\u001b[0m\n\u001b[1;32m      9\u001b[0m         \u001b[0mprint\u001b[0m\u001b[0;34m(\u001b[0m\u001b[0;34m'i ='\u001b[0m\u001b[0;34m,\u001b[0m \u001b[0mi\u001b[0m\u001b[0;34m,\u001b[0m \u001b[0;34m'j = '\u001b[0m\u001b[0;34m,\u001b[0m \u001b[0mj\u001b[0m\u001b[0;34m)\u001b[0m                 \u001b[0;31m# print 명령문 추가\u001b[0m\u001b[0;34m\u001b[0m\u001b[0;34m\u001b[0m\u001b[0m\n\u001b[0;32m---> 10\u001b[0;31m         \u001b[0;32mif\u001b[0m \u001b[0mword1\u001b[0m\u001b[0;34m[\u001b[0m\u001b[0mi\u001b[0m\u001b[0;34m]\u001b[0m \u001b[0;34m!=\u001b[0m \u001b[0mword2\u001b[0m\u001b[0;34m[\u001b[0m\u001b[0mj\u001b[0m\u001b[0;34m]\u001b[0m\u001b[0;34m:\u001b[0m\u001b[0;34m\u001b[0m\u001b[0;34m\u001b[0m\u001b[0m\n\u001b[0m\u001b[1;32m     11\u001b[0m             \u001b[0;32mreturn\u001b[0m \u001b[0;32mFalse\u001b[0m\u001b[0;34m\u001b[0m\u001b[0;34m\u001b[0m\u001b[0m\n\u001b[1;32m     12\u001b[0m         \u001b[0mi\u001b[0m \u001b[0;34m=\u001b[0m \u001b[0mi\u001b[0m\u001b[0;34m+\u001b[0m\u001b[0;36m1\u001b[0m\u001b[0;34m\u001b[0m\u001b[0;34m\u001b[0m\u001b[0m\n",
      "\u001b[0;31mIndexError\u001b[0m: string index out of range"
     ]
    }
   ],
   "source": [
    "is_reverse('pots', 'stop')"
   ]
  },
  {
   "cell_type": "markdown",
   "metadata": {},
   "source": [
    "### 1차 수정\n",
    "`while` 명령문을 시작하면서 `i`와 `j`에 할당된 인덱스의 값을 출력한다. \n",
    "그런데 `j`의 값은 4인데, 문자열 'pots'의 범위를 벗어나기 때문에 오류가 발생한다. \n",
    "마지막 문자의 지수는 문자열의 길이에서 1을 빼야 하므로, `j`의 초기값은 `len(word2)-1`이어야 한다."
   ]
  },
  {
   "cell_type": "code",
   "execution_count": 126,
   "metadata": {},
   "outputs": [],
   "source": [
    "def is_reverse(word1, word2):\n",
    "    if len(word1) != len(word2):\n",
    "        return False\n",
    "\n",
    "    i = 0\n",
    "    j = len(word2) - 1                   # 1차 수정\n",
    "\n",
    "    while j > 0:\n",
    "        print('i =', i, 'j = ', j)       # print 명령문 추가\n",
    "        if word1[i] != word2[j]:\n",
    "            return False\n",
    "        i = i+1\n",
    "        j = j-1\n",
    "\n",
    "    return True"
   ]
  },
  {
   "cell_type": "code",
   "execution_count": 127,
   "metadata": {},
   "outputs": [
    {
     "name": "stdout",
     "output_type": "stream",
     "text": [
      "i = 0 j =  3\n",
      "i = 1 j =  2\n",
      "i = 2 j =  1\n"
     ]
    },
    {
     "data": {
      "text/plain": [
       "True"
      ]
     },
     "execution_count": 127,
     "metadata": {},
     "output_type": "execute_result"
    }
   ],
   "source": [
    "is_reverse('pots', 'stop')"
   ]
  },
  {
   "cell_type": "markdown",
   "metadata": {},
   "source": [
    "이번에는 답은 맞았지만 `while` 순환이 세 번만 실행된 것으로 확인된다. \n",
    "실제로 아래의 경우에는 오답을 리턴한다."
   ]
  },
  {
   "cell_type": "code",
   "execution_count": 128,
   "metadata": {},
   "outputs": [
    {
     "name": "stdout",
     "output_type": "stream",
     "text": [
      "i = 0 j =  3\n",
      "i = 1 j =  2\n",
      "i = 2 j =  1\n"
     ]
    },
    {
     "data": {
      "text/plain": [
       "True"
      ]
     },
     "execution_count": 128,
     "metadata": {},
     "output_type": "execute_result"
    }
   ],
   "source": [
    "is_reverse('pota', 'stop')"
   ]
  },
  {
   "cell_type": "markdown",
   "metadata": {},
   "source": [
    "### 2차 수정\n",
    "`while` 순환이 세 번만 실행되기에 `pota`의 마지막 문자인 `a`와 `stop`의 첫째 문자인 `s`의 \n",
    "비교는 실행되지 않기 때문이다.\n",
    "\n",
    "즉, `j`의 값이 0인 경우를 다루지 않는다. 따라서 코드를 아래와 같이 추가 수정해야 한다."
   ]
  },
  {
   "cell_type": "code",
   "execution_count": 129,
   "metadata": {},
   "outputs": [],
   "source": [
    "def is_reverse(word1, word2):\n",
    "    if len(word1) != len(word2):\n",
    "        return False\n",
    "\n",
    "    i = 0\n",
    "    j = len(word2) - 1                   # 1차 수정\n",
    "\n",
    "    while j >= 0:                        # 2차 수정\n",
    "        print('i =', i, 'j = ', j)       # print 명령문 추가\n",
    "        if word1[i] != word2[j]:\n",
    "            return False\n",
    "        i = i+1\n",
    "        j = j-1\n",
    "\n",
    "    return True"
   ]
  },
  {
   "cell_type": "code",
   "execution_count": 130,
   "metadata": {},
   "outputs": [
    {
     "name": "stdout",
     "output_type": "stream",
     "text": [
      "i = 0 j =  3\n",
      "i = 1 j =  2\n",
      "i = 2 j =  1\n",
      "i = 3 j =  0\n"
     ]
    },
    {
     "data": {
      "text/plain": [
       "False"
      ]
     },
     "execution_count": 130,
     "metadata": {},
     "output_type": "execute_result"
    }
   ],
   "source": [
    "is_reverse('pota', 'stop')"
   ]
  },
  {
   "cell_type": "markdown",
   "metadata": {},
   "source": [
    "이제 `is_reverse` 함수가 제대로 작동함을 확인하였다. \n",
    "따라서 디버깅을 위해 추가한 `print` 명령문을 이제는 삭제하는 게 좋다."
   ]
  },
  {
   "cell_type": "code",
   "execution_count": 131,
   "metadata": {},
   "outputs": [],
   "source": [
    "def is_reverse(word1, word2):\n",
    "    if len(word1) != len(word2):\n",
    "        return False\n",
    "\n",
    "    i = 0\n",
    "    j = len(word2) - 1\n",
    "\n",
    "    while j >= 0:\n",
    "        if word1[i] != word2[j]:\n",
    "            return False\n",
    "        i = i+1\n",
    "        j = j-1\n",
    "\n",
    "    return True"
   ]
  },
  {
   "cell_type": "code",
   "execution_count": 132,
   "metadata": {},
   "outputs": [
    {
     "data": {
      "text/plain": [
       "True"
      ]
     },
     "execution_count": 132,
     "metadata": {},
     "output_type": "execute_result"
    }
   ],
   "source": [
    "is_reverse('pots', 'stop')"
   ]
  },
  {
   "cell_type": "code",
   "execution_count": 133,
   "metadata": {},
   "outputs": [
    {
     "data": {
      "text/plain": [
       "False"
      ]
     },
     "execution_count": 133,
     "metadata": {},
     "output_type": "execute_result"
    }
   ],
   "source": [
    "is_reverse('pota', 'stop')"
   ]
  },
  {
   "cell_type": "markdown",
   "metadata": {},
   "source": [
    "## 연습문제"
   ]
  },
  {
   "cell_type": "markdown",
   "metadata": {},
   "source": [
    "1. 아래 코드를 수정하여 `Qack` 대신에 `Quack`가 출력되도록 하라.\n",
    "\n",
    "    ```python\n",
    "    prefixes = 'JKLMNOPQ'\n",
    "    suffix = 'ack'\n",
    "\n",
    "    for letter in prefixes:\n",
    "        print(letter + suffix)\n",
    "    ```\n",
    "    (힌트: `if ... else ...` 명령문을 활용할 수 있다.)\n",
    "    <br><br>\n",
    "1. 아래 코드는 앞서 살펴본 `findChar` 검색함수이다. \n",
    "    ```python\n",
    "    def findChar(word, letter):\n",
    "        idx = 0\n",
    "        while idx < len(word):\n",
    "            if word[idx] == letter:\n",
    "                return idx\n",
    "            idx = idx + 1\n",
    "        return -1\n",
    "    ```\n",
    "    아래 조건을 만족시키도록 `findChar` 함수를 수정하라. \n",
    "    * 인자를 세 개 받는다. 예를 들어, `word`와 `letter` 두 개의 매개변수와 더불어 \n",
    "        `position`이라는 매개변수를 하나 더 사용하도록 한다. \n",
    "    * `position` 매개변수는 정수를 입력값으로 기대한다.\n",
    "    * `position`을 통해 전달된 정수는 탐색을 시작할 위치를 나타낸다.\n",
    "        즉, 앞서 정의된 `findChar` 함수는 `position`이 0인 특수한 경우가 되도록 한다.\n",
    "<br><br>\n",
    "1. 문자열의 `find` 메서드에 대응하는 `find` 함수를 정의하라.\n",
    "    즉, 아래 조건을 만족하는 `find` 함수를 정의해야 한다.\n",
    "    * `word1`, `word2`, `position` 세 개의 인자를 받는다.\n",
    "    * `word1`, `word2`는 문자열을 입력값으로 기대한다.\n",
    "    * `position` 매개변수는 정수를 입력값으로 기대한다.\n",
    "    * `position`을 통해 전달된 정수는 탐색을 시작할 위치를 나타낸다.\n",
    "<br><br>\n",
    "1. 아래는 집계(counting)에 사용된 코드이다.\n",
    "    ```python\n",
    "    word = 'orange'\n",
    "    count = 0\n",
    "    for letter in word:\n",
    "        if letter == 'a':\n",
    "            count = count + 1\n",
    "    print(count)\n",
    "    ```\n",
    "    1. 위 코드를 이용하여 문자열과 문자를 인자로 받는 `counting`라는 이름의 함수를 선언하라. \n",
    "    즉, `counting('orange', 'a')` 형식으로 호출되면 `orange` 문자열에서 `a` 문자가 몇 번 나타나는지를 확인해주어야 한다.\n",
    "    1. 앞서 `find` 함수의 경우처럼 `counting` 함수를 인자를 하나 더 받아서 특정 인덱스 이후 지정한 문자가 몇 번 출현하는지를 집계하도록 수정하라.\n",
    "<br><br>\n",
    "1. `count`라는 문자열 메서드의 활용예제를 3개 들어라. \n",
    "<br><br>\n",
    "1. `strip`라는 문자열 메서드의 활용예제를 3개 들어라. \n",
    "    <br>\n",
    "    참조: https://www.dotnetperls.com/strip-python\n",
    "<br><br>\n",
    "1. `replace`라는 문자열 메서드의 활용예제를 3개 들어라. \n",
    "<br><br>\n",
    "1. 영어 단어 중에서 `radar`, `noon` 등과 같이 앞으로 읽으나 뒤로 읽으나 스펠링이 동일한 단어를 \n",
    "    회문(palindrome)이라 한다.\n",
    "    문자열이 회문이면 `True`를, 아니면 `False`를 리턴하는 함수 `is_palindrome`을 구현하라.\n",
    "    즉, 아래 코드에서 `pass` 부분을 적당한 코드로 구현하라. \n",
    "    ```python\n",
    "    def is_palindrome(word)\n",
    "        pass\n",
    "    ```\n",
    "1. 문자열 슬라이싱은 __간격(step)__ 의 크기를 지정하는 세 번째 값을 취할 수 있다.\n",
    "    스텝은 몇 개 건너 하나씩 문자를 선택할지를 지정할 때 사용한다. \n",
    "    예를 들어, 스텝이 2이면 하나 건너 한 글자씩, 3이면 두 개 건너 한 글자씩 취한다는 의미이다.\n",
    "    ```python\n",
    "    fruit = 'orange'\n",
    "    fruit[0:5:2]\n",
    "    'bnn'\n",
    "    ```\n",
    "    스텝이 -1이면 슬라이싱을 역순으로 한다는 의미이며, [::-1]을 사용하면 문자열을 뒤집어서 추출한다는 의미이다.\n",
    "    이제 앞선 문제에서 다룬 `is_palindrome` 함수를 스텝을 이용하여 구현하라.\n",
    "<br><br>    \n",
    "1. 다음 함수들은 모두 문자열이 소문자를 포함하고 있는지 여부를 조사하도록 구현되었지만 \n",
    "    일부는 제대로 작동하지 않는다. \n",
    "    각각의 함수마다, 함수가 실제로 무엇을 하는지 설명하라. (인자는 문자열이 들어오는 경우를 다룬다.)\n",
    "    ```python\n",
    "    def any_lowercase1(s):\n",
    "        for c in s:\n",
    "            if c.islower():\n",
    "                return True\n",
    "            else:\n",
    "                return False\n",
    "\n",
    "    def any_lowercase2(s):\n",
    "        for c in s:\n",
    "            if 'c'.islower():\n",
    "                return 'True'\n",
    "            else:\n",
    "                return 'False'\n",
    "\n",
    "    def any_lowercase3(s):\n",
    "        for c in s:\n",
    "            flag = c.islower()\n",
    "        return flag\n",
    "\n",
    "    def any_lowercase4(s):\n",
    "        flag = False\n",
    "        for c in s:\n",
    "            flag = flag or c.islower()\n",
    "        return flag\n",
    "\n",
    "    def any_lowercase5(s):\n",
    "        for c in s:\n",
    "            if not c.islower():\n",
    "                return False\n",
    "        return True\n",
    "    ```\n",
    "1. ROT13은 단어의 각 글자를 13자리만큼 회전 시키는 방식의 간단한 암호 법이다. \n",
    "    글자를 회전한다는 것은 알파벳 상의 위치를 이동한다는 뜻이다. \n",
    "    예를 들어, `'A'` 를 3만큼 이동하면 `'D'`가, `'Z'` 를 1만 큼 이동하면 `'A'`가 된다.\n",
    "    <br><br>\n",
    "    문자열과 정수를 매개변수로 받아들여서 원래 문자열을 요청한 양만큼 \"회전\"시킨 문자열을 \n",
    "    리턴하는 함수 `rotate_word`를 구현하라. \n",
    "    예를 들어, `'cheer'` 를 7만큼 회전시키면 `'jolly'` 이고 `'melon'` 을 -10만큼 \n",
    "    회전시키면 `'cubed'`가 되어야 한다.\n",
    "    #### 힌트:\n",
    "    문자를 숫자 코드로 형변환하는 `ord` 내장함수와 \n",
    "    숫자코드를 문자로 형변환 시키는 `chr` 내장함수를 이용할 수 있다.\n",
    "    아래 사이트에 가면 모범답안이 있다. 하지만 먼저 스스로 해결하도록 노력해 보아야 한다.\n",
    "    <br><br>\n",
    "    http://thinkpython.com/code/rotate.py\n",
    "    <br><br>\n",
    "    __내장함수란?__ 파이썬에서 이미 정의된 함수를 의미한다.\n",
    "    <br><br>\n",
    "1. 커피 원두 가격을 확인하여 가격과 확인 시간을 함께\n",
    "    아래와 같은 **한글** 형식으로 보여주는 프로그램을 작성하라.\n",
    "    \n",
    "        2020년 3월 17일, 화요일, 저녁 6시 21분, 5.17달러\n",
    "        \n",
    "    (힌트: 영 단어와 한국 단어들 사이의 연결관계를 먼저 구현한다.)\n",
    "    <br><br>\n",
    "1. 사용자가 \"지금 미국 뉴욕 현재시각 알려줘!\" 라고 물어보면 뉴욕의 현재시각을 알려주는 프로그램을 구현하라.\n",
    "    <br><br>\n",
    "    (힌트: 문자열을 메서드와 `time` 모듈의 메서드를 적절하게 활용하라.)"
   ]
  }
 ],
 "metadata": {
  "kernelspec": {
   "display_name": "Python 3",
   "language": "python",
   "name": "python3"
  },
  "language_info": {
   "codemirror_mode": {
    "name": "ipython",
    "version": 3
   },
   "file_extension": ".py",
   "mimetype": "text/x-python",
   "name": "python",
   "nbconvert_exporter": "python",
   "pygments_lexer": "ipython3",
   "version": "3.6.8"
  }
 },
 "nbformat": 4,
 "nbformat_minor": 2
}
