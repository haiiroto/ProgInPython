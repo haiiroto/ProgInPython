{
 "cells": [
  {
   "cell_type": "markdown",
   "metadata": {},
   "source": [
    "# 기본 자료형: 파일"
   ]
  },
  {
   "cell_type": "markdown",
   "metadata": {},
   "source": [
    "안내: [Think Python 14장](http://greenteapress.com/thinkpython2/html/thinkpython2015.html) 내용을 번역 및 요약수정한 내용입니다."
   ]
  },
  {
   "cell_type": "markdown",
   "metadata": {},
   "source": [
    "지금까지 실행한 프로그램은 데이터를 일시적으로 생성하여 활용한다. \n",
    "여기서 일시적이라 함은 프로그램이 종료되면 사용되었던 데이터가 사라진다는 의미다. \n",
    "따라서 프로그램을 새로 시작하면 데이터를 새로 생성하여 활용하고, 종료되면 역시 사용했던 모든 데이터는 사라진다.\n",
    "\n",
    "하지만 경우에 따라 사용할 또는 사용했던 데이터를 프로그램의 실행 및 종료에 상관 없이 오랫동안 보관하고자 할 필요가 있다.\n",
    "여기서는 파일에 저장된 데이터를 활용하거나 사용된/생성된 데이터를 파일에 저장하는 가장 기초적인 방법을 소개한다.  "
   ]
  },
  {
   "cell_type": "markdown",
   "metadata": {},
   "source": [
    "## 파일 읽기"
   ]
  },
  {
   "cell_type": "markdown",
   "metadata": {},
   "source": [
    "아래 링크에 있는 파일을 가지고 연습하고자 한다.\n",
    "먼저 아래 주소에 있는 파일을 다운 받아서 파이썬 코딩을 실습하는 폴더에 저장한다.\n",
    "\n",
    "http://thinkpython2.com/code/words.txt\n",
    "\n",
    "여기서는 `data`라는 하위폴더에 `words.txt`라는 파일로 저장하는 방식은 두 가지이다.\n",
    "\n",
    "* 첫째 방식: 위 링크를 눌러 해당 파일을 다운로드 한 후 현재 폴더에 위치한 `data` 폴더에 저장한다.\n",
    "* 둘째 방식: [인터넷에서 정보구하기](https://github.com/liganega/ProgInPython/blob/master/notebooks/PiPy02A-InfoFromInternet.ipynb)에서 사용했던 기법을 똑같이 사용할 수 있으며,\n",
    "    단순히 아래 코드를 실행하면 된다. \n",
    "    아래 코드에 사용된 명령문 설명은 이후 차차 설명될 것이다."
   ]
  },
  {
   "cell_type": "code",
   "execution_count": 1,
   "metadata": {},
   "outputs": [],
   "source": [
    "import urllib.request\n",
    "import os\n",
    "\n",
    "def myWget(dirPath, fileURL, fileName):\n",
    "    # dirPath 디렉토리 생성. 이미 존재하면 건너 뜀.\n",
    "    try:\n",
    "        os.mkdir(dirPath)\n",
    "    except FileExistsError:\n",
    "        pass\n",
    "\n",
    "    # 파일 저장 주소에서 파일 내용을 가져오기.\n",
    "    contents = urllib.request.urlopen(fileURL).read().decode(\"utf8\")\n",
    "\n",
    "    # 가져온 파일 내용을 텍스트 파일로 저장하기.\n",
    "    # words.txt 파일이 이미 존재할 경우 새파일로 생성됨.\n",
    "    # 즉, 기존 파일 내용을 덮어 씀.\n",
    "    with open(dirPath+'/'+fileName, 'w') as f_out:\n",
    "        for line in contents:\n",
    "            f_out.write(line)                "
   ]
  },
  {
   "cell_type": "code",
   "execution_count": 2,
   "metadata": {},
   "outputs": [],
   "source": [
    "path = './data'\n",
    "url = 'http://thinkpython2.com/code/words.txt'\n",
    "fName = 'words.txt'\n",
    "\n",
    "myWget(path, url, fName)"
   ]
  },
  {
   "cell_type": "markdown",
   "metadata": {},
   "source": [
    "위 파일에는 그레이디 워드(Grady Ward)가 수집한 낱말 113,809개가 담겨 있다. "
   ]
  },
  {
   "cell_type": "markdown",
   "metadata": {},
   "source": [
    "<p>\n",
    "<table cellspacing=\"20\">\n",
    "<tr>\n",
    "<td>\n",
    "<img src=\"images/words.png\">\n",
    "</td>\n",
    "</tr>\n",
    "</table>\n",
    "</p>"
   ]
  },
  {
   "cell_type": "markdown",
   "metadata": {},
   "source": [
    "`words.txt` 파일을 파이썬으로 읽어 오자.\n",
    "이를 위해 내장 함수인 `open` 함수를 아래와 같이 활용한다.\n",
    "\n",
    "**주의:** `./data/words.txt`에서 점(`.`)은 현재 폴더를 가리킨다.\n",
    "따라서 `./data`는 `data`가 현재 폴더의 하위폴더임을 의미한다."
   ]
  },
  {
   "cell_type": "code",
   "execution_count": 3,
   "metadata": {},
   "outputs": [],
   "source": [
    "f_in = open('./data/words.txt')"
   ]
  },
  {
   "cell_type": "markdown",
   "metadata": {},
   "source": [
    "`open` 함수는 컴퓨터에 저장된 파일의 경로를 문자열 인자로 사용하여 파일 내용 뿐만 아니라 \n",
    "파일과 관련된 모든 정보를 가져와서 리턴값으로 되돌려 준다.\n",
    "하지만 저장된 파일은 단순히 파일 내용 뿐만 아니라 파일의 크기, 작성 시간, 작성자, 수정 시간, \n",
    "사용자 권한 등 다양한 정보도 함께 포함한다는\n",
    "사실에 주의해야 한다.\n",
    "\n",
    "`open` 함수의 리턴값은 파일과 관련된 모든 정보를 저장한 `_io.TextIOWrapper`라는 파일 클래스의 객체이다. \n",
    "물론 클래스 이름을 기억할 필요는 없다."
   ]
  },
  {
   "cell_type": "code",
   "execution_count": 4,
   "metadata": {},
   "outputs": [
    {
     "data": {
      "text/plain": [
       "_io.TextIOWrapper"
      ]
     },
     "execution_count": 4,
     "metadata": {},
     "output_type": "execute_result"
    }
   ],
   "source": [
    "type(f_in)"
   ]
  },
  {
   "cell_type": "markdown",
   "metadata": {},
   "source": [
    "따라서 단순히 `print` 명령으로는 파일 내용을 확인할 수 없다."
   ]
  },
  {
   "cell_type": "code",
   "execution_count": 5,
   "metadata": {},
   "outputs": [
    {
     "name": "stdout",
     "output_type": "stream",
     "text": [
      "<_io.TextIOWrapper name='./data/words.txt' mode='r' encoding='UTF-8'>\n"
     ]
    }
   ],
   "source": [
    "print(f_in)"
   ]
  },
  {
   "cell_type": "markdown",
   "metadata": {},
   "source": [
    "* 모드(mode)의 'r'은 이 파일이 읽기전용(read only)으로 열렸다는 것을 나타냄.\n",
    "* 인코딩(encoding)이 `UTF-8` 방식을 사용했음 확인할 수 있음."
   ]
  },
  {
   "cell_type": "markdown",
   "metadata": {},
   "source": [
    "### 파일 내용 한 줄씩 읽기"
   ]
  },
  {
   "cell_type": "markdown",
   "metadata": {},
   "source": [
    "`f_in` 변수에 할당된 파일 객체의 내용을 `readline` 메소드를 활용하여 한 줄씩 확인할 수 있다. \n",
    "\n",
    "첫째줄은 아래와 같다."
   ]
  },
  {
   "cell_type": "code",
   "execution_count": 6,
   "metadata": {},
   "outputs": [
    {
     "data": {
      "text/plain": [
       "'aa\\n'"
      ]
     },
     "execution_count": 6,
     "metadata": {},
     "output_type": "execute_result"
    }
   ],
   "source": [
    "f_in.readline()"
   ]
  },
  {
   "cell_type": "markdown",
   "metadata": {},
   "source": [
    "마지막 문자인 `'\\n'`는 줄바꿈을 의미함에 주의하라.\n",
    "이 기호가 있기에 위 그림에서처럼 각 단어가 다른 줄에 위치하는 것이다.\n",
    "줄바꾸기 문자를 제거하면 보다 자연스럽게 출력할 수 있다.\n",
    "이를 위해 `strip` 이라는 문자열 메소드를 활용하면 된다."
   ]
  },
  {
   "cell_type": "code",
   "execution_count": 7,
   "metadata": {},
   "outputs": [
    {
     "name": "stdout",
     "output_type": "stream",
     "text": [
      "aah\n"
     ]
    }
   ],
   "source": [
    "print(f_in.readline().strip())"
   ]
  },
  {
   "cell_type": "markdown",
   "metadata": {},
   "source": [
    "`readline` 메서드는 실행될 때마다 이전에 읽어 준 다음 줄의 내용을 문자열로 내준다.\n",
    "즉, `readline` 메소드는 몇 번째 줄까지 읽었는가를 **오프셋**(offset)이란 장치에\n",
    "저장하는 방식으로 기억해둔다."
   ]
  },
  {
   "cell_type": "code",
   "execution_count": 8,
   "metadata": {},
   "outputs": [
    {
     "data": {
      "text/plain": [
       "'aahed\\n'"
      ]
     },
     "execution_count": 8,
     "metadata": {},
     "output_type": "execute_result"
    }
   ],
   "source": [
    "f_in.readline()"
   ]
  },
  {
   "cell_type": "code",
   "execution_count": 9,
   "metadata": {},
   "outputs": [
    {
     "data": {
      "text/plain": [
       "'aahing\\n'"
      ]
     },
     "execution_count": 9,
     "metadata": {},
     "output_type": "execute_result"
    }
   ],
   "source": [
    "f_in.readline()"
   ]
  },
  {
   "cell_type": "markdown",
   "metadata": {},
   "source": [
    "오프셋을 0으로 지정하면 다시 처음부터 읽는다.\n",
    "이를 위해 `seek` 메서를 활용한다."
   ]
  },
  {
   "cell_type": "code",
   "execution_count": 10,
   "metadata": {},
   "outputs": [
    {
     "data": {
      "text/plain": [
       "0"
      ]
     },
     "execution_count": 10,
     "metadata": {},
     "output_type": "execute_result"
    }
   ],
   "source": [
    "f_in.seek(0)"
   ]
  },
  {
   "cell_type": "markdown",
   "metadata": {},
   "source": [
    "이제 다시 처음부터 일기 시작해야 한다."
   ]
  },
  {
   "cell_type": "code",
   "execution_count": 11,
   "metadata": {},
   "outputs": [
    {
     "data": {
      "text/plain": [
       "'aa\\n'"
      ]
     },
     "execution_count": 11,
     "metadata": {},
     "output_type": "execute_result"
    }
   ],
   "source": [
    "f_in.readline()"
   ]
  },
  {
   "cell_type": "code",
   "execution_count": 12,
   "metadata": {},
   "outputs": [
    {
     "data": {
      "text/plain": [
       "'aah\\n'"
      ]
     },
     "execution_count": 12,
     "metadata": {},
     "output_type": "execute_result"
    }
   ],
   "source": [
    "f_in.readline()"
   ]
  },
  {
   "cell_type": "code",
   "execution_count": 13,
   "metadata": {},
   "outputs": [
    {
     "data": {
      "text/plain": [
       "'aahed\\n'"
      ]
     },
     "execution_count": 13,
     "metadata": {},
     "output_type": "execute_result"
    }
   ],
   "source": [
    "f_in.readline()"
   ]
  },
  {
   "cell_type": "markdown",
   "metadata": {},
   "source": [
    "### 파일 내용 전체 확인하기"
   ]
  },
  {
   "cell_type": "markdown",
   "metadata": {},
   "source": [
    "파일 내용을 `for` 반복문을 이용하여 확인할 수 있다.\n",
    "예를 들어, 아래 프로그램은 `words.txt` 파일에 저장된 모든 단어를 출력한다.\n",
    "\n",
    "**주의:** 아래 코드를 실행하게 되면 113,809개의 단어들이 출력된다.\n",
    "굳이 돌릴 것을 권하지는 않는다.\n",
    "\n",
    "```python\n",
    "f_in = open('./data/words.txt')\n",
    "\n",
    "for line in f_in:\n",
    "    word = line.strip()\n",
    "    print(word)\n",
    "\n",
    "f_in.close()\n",
    "```"
   ]
  },
  {
   "cell_type": "markdown",
   "metadata": {},
   "source": [
    "하지만 아래 코드와 같이 읽는 단어의 개수를 제한하는 방식으로 \n",
    "맨 앞에 있는 몇 개의 단어를 확인할 수는 있다.\n",
    "\n",
    "**주의:**\n",
    "* 아래 코드는 다시 첫 단어부터 출력한다.\n",
    "* 이유는 `words.txt` 파일을 다시 읽으면서 오프셋이 0으로 초기화되기 때문이다."
   ]
  },
  {
   "cell_type": "markdown",
   "metadata": {},
   "source": [
    "아래 코드는 첫 10개의 단어를 읽는다."
   ]
  },
  {
   "cell_type": "code",
   "execution_count": 14,
   "metadata": {},
   "outputs": [
    {
     "name": "stdout",
     "output_type": "stream",
     "text": [
      "aa\n",
      "aah\n",
      "aahed\n",
      "aahing\n",
      "aahs\n",
      "aal\n",
      "aalii\n",
      "aaliis\n",
      "aals\n",
      "aardvark\n"
     ]
    }
   ],
   "source": [
    "f_in = open('./data/words.txt')\n",
    "offsetNum = 0\n",
    "\n",
    "for line in f_in:\n",
    "    if offsetNum < 10:\n",
    "        print(line.strip())\n",
    "        offsetNum += 1\n",
    "    else:\n",
    "        break\n",
    "        \n",
    "f_in.close()"
   ]
  },
  {
   "cell_type": "markdown",
   "metadata": {},
   "source": [
    "줄번호를 표시하면 보다 알아보기 쉽다."
   ]
  },
  {
   "cell_type": "code",
   "execution_count": 15,
   "metadata": {},
   "outputs": [
    {
     "name": "stdout",
     "output_type": "stream",
     "text": [
      "0번: aa\n",
      "1번: aah\n",
      "2번: aahed\n",
      "3번: aahing\n",
      "4번: aahs\n",
      "5번: aal\n",
      "6번: aalii\n",
      "7번: aaliis\n",
      "8번: aals\n",
      "9번: aardvark\n"
     ]
    }
   ],
   "source": [
    "f_in = open('./data/words.txt')\n",
    "offsetNum = 0\n",
    "\n",
    "for line in f_in:\n",
    "    if offsetNum < 10:\n",
    "        print(f'{offsetNum}번: {line.strip()}')\n",
    "        offsetNum += 1\n",
    "    else:\n",
    "        break\n",
    "        \n",
    "f_in.close()"
   ]
  },
  {
   "cell_type": "markdown",
   "metadata": {},
   "source": [
    "### 파일 닫기"
   ]
  },
  {
   "cell_type": "markdown",
   "metadata": {},
   "source": [
    "마지막줄에서 사용된 `close` 메서드는 `open` 함수에 의해 열려진 파일을 닫는 역할을 수행한다.\n",
    "즉, 파일 내용을 더 이상 들여다 볼 수 없다.\n",
    "따라서 아래와 같이 다시 `readlines` 메서드를 실행하면 오류가 발생한다."
   ]
  },
  {
   "cell_type": "code",
   "execution_count": 16,
   "metadata": {},
   "outputs": [
    {
     "ename": "ValueError",
     "evalue": "I/O operation on closed file.",
     "output_type": "error",
     "traceback": [
      "\u001b[0;31m---------------------------------------------------------------------------\u001b[0m",
      "\u001b[0;31mValueError\u001b[0m                                Traceback (most recent call last)",
      "\u001b[0;32m<ipython-input-16-bc27a74c2b18>\u001b[0m in \u001b[0;36m<module>\u001b[0;34m\u001b[0m\n\u001b[0;32m----> 1\u001b[0;31m \u001b[0mf_in\u001b[0m\u001b[0;34m.\u001b[0m\u001b[0mreadlines\u001b[0m\u001b[0;34m(\u001b[0m\u001b[0;34m)\u001b[0m\u001b[0;34m\u001b[0m\u001b[0;34m\u001b[0m\u001b[0m\n\u001b[0m",
      "\u001b[0;31mValueError\u001b[0m: I/O operation on closed file."
     ]
    }
   ],
   "source": [
    "f_in.readlines()"
   ]
  },
  {
   "cell_type": "markdown",
   "metadata": {},
   "source": [
    "파일을 열어 사용했으면 닫아주어야 한다. \n",
    "그렇지 않으면 의도치 않게 파일이 손상될 수 있기 때문이다.\n",
    "따라서 애초부터 지정된 일을 마친 후에 자동으로 파일을 닫도록 하는 것이 권장된다.\n",
    "사용 방식은 다음과 같다. \n",
    "\n",
    "```python\n",
    "with open('파일이름') as 파일변수:\n",
    "    명령문\n",
    "```\n",
    "\n",
    "예를 들어, 위 코드를 아래와 같이 작성해도 동일하게 작동한다."
   ]
  },
  {
   "cell_type": "code",
   "execution_count": 17,
   "metadata": {},
   "outputs": [
    {
     "name": "stdout",
     "output_type": "stream",
     "text": [
      "0번: aa\n",
      "1번: aah\n",
      "2번: aahed\n",
      "3번: aahing\n",
      "4번: aahs\n",
      "5번: aal\n",
      "6번: aalii\n",
      "7번: aaliis\n",
      "8번: aals\n",
      "9번: aardvark\n"
     ]
    }
   ],
   "source": [
    "with open('./data/words.txt') as f_in:\n",
    "    offsetNum = 0\n",
    "\n",
    "    for line in f_in:\n",
    "        if offsetNum < 10:\n",
    "            print(f'{offsetNum}번: {line.strip()}')\n",
    "            offsetNum += 1\n",
    "        else:\n",
    "            break"
   ]
  },
  {
   "cell_type": "markdown",
   "metadata": {},
   "source": [
    "앞으로 위와 같은 방식을 선호해서 사용하고자 한다."
   ]
  },
  {
   "cell_type": "markdown",
   "metadata": {},
   "source": [
    "### 파일 내용 통째로 읽어오기"
   ]
  },
  {
   "cell_type": "markdown",
   "metadata": {},
   "source": [
    "파일 내용 전체를 통재로 읽어오는 두 가지 방식이 있다."
   ]
  },
  {
   "cell_type": "markdown",
   "metadata": {},
   "source": [
    "####  `readlines` 메소드"
   ]
  },
  {
   "cell_type": "markdown",
   "metadata": {},
   "source": [
    "파일 내용 전체를 리스트로 반환한다.\n",
    "리스트의 항목은 각각의 줄에 담겨 있는 문자열이다.\n",
    "\n",
    "예를 들어, `words.txt`의 경우 총 113,809개의 줄로 구성되어 있기에\n",
    "113,809 개의 문자열로 구성된 리스트를 생성한다.\n",
    "\n",
    "**주의:** `readlines` 메서드 역히 파일 내용을 한줄한줄 확인하면서\n",
    "어디까지 확인하였는가를 오프셋 장치에 저장한다. \n",
    "따라서 `readlines` 메서드의 실행이 종료되면 오프셋은 파일 내용의 끝을 가리킨다.\n",
    "결국 `readlines` 메서드를 다시 사용하려면 `seek` 메서드를 사용하여 \n",
    "오프셋이 파일의 처음을 가리키도록 해야 한다. "
   ]
  },
  {
   "cell_type": "code",
   "execution_count": 18,
   "metadata": {},
   "outputs": [
    {
     "name": "stdout",
     "output_type": "stream",
     "text": [
      "<class 'list'>\n",
      "113809\n",
      "<class 'str'>\n"
     ]
    }
   ],
   "source": [
    "with open('./data/words.txt') as f_in:\n",
    "    print(type(f_in.readlines()))\n",
    "    f_in.seek(0)\n",
    "    print(len(f_in.readlines()))\n",
    "    f_in.seek(0)\n",
    "    print(type(f_in.readlines()[0]))"
   ]
  },
  {
   "cell_type": "markdown",
   "metadata": {},
   "source": [
    "#### `read` 메소드"
   ]
  },
  {
   "cell_type": "markdown",
   "metadata": {},
   "source": [
    "파일에 저장된 내용 전체를 하나의 문자열로 리턴한다."
   ]
  },
  {
   "cell_type": "code",
   "execution_count": 19,
   "metadata": {},
   "outputs": [
    {
     "name": "stdout",
     "output_type": "stream",
     "text": [
      "<class 'str'>\n"
     ]
    }
   ],
   "source": [
    "with open('./data/words.txt') as f_in:\n",
    "    print(type(f_in.read()))"
   ]
  },
  {
   "cell_type": "markdown",
   "metadata": {},
   "source": [
    "파일 내용의 초반 내용 일부를 이용하기 위해 슬라이싱을 사용할 수 있다.\n",
    "예를 들어, 아래 명령문은 문자열 맨 앞의 100개의 문자를 보여준다.\n",
    "대략 처음 15줄에 해당한다."
   ]
  },
  {
   "cell_type": "code",
   "execution_count": 20,
   "metadata": {},
   "outputs": [
    {
     "name": "stdout",
     "output_type": "stream",
     "text": [
      "aa\n",
      "aah\n",
      "aahed\n",
      "aahing\n",
      "aahs\n",
      "aal\n",
      "aalii\n",
      "aaliis\n",
      "aals\n",
      "aardvark\n",
      "aardvarks\n",
      "aardwolf\n",
      "aardwolves\n",
      "aas\n",
      "aasvogel\n",
      "a\n"
     ]
    }
   ],
   "source": [
    "with open('./data/words.txt') as f_in:\n",
    "    print(f_in.read()[:100])"
   ]
  },
  {
   "cell_type": "markdown",
   "metadata": {},
   "source": [
    "파일 내용의 후반 내용 일부는 다음과 같다."
   ]
  },
  {
   "cell_type": "code",
   "execution_count": 21,
   "metadata": {},
   "outputs": [
    {
     "name": "stdout",
     "output_type": "stream",
     "text": [
      "s\n",
      "zymogen\n",
      "zymogene\n",
      "zymogenes\n",
      "zymogens\n",
      "zymologies\n",
      "zymology\n",
      "zymoses\n",
      "zymosis\n",
      "zymotic\n",
      "zymurgies\n",
      "zymurgy\n",
      "\n"
     ]
    }
   ],
   "source": [
    "with open('./data/words.txt') as f_in:\n",
    "    print(f_in.read()[-100:])"
   ]
  },
  {
   "cell_type": "markdown",
   "metadata": {},
   "source": [
    "## 새 파일 작성하기"
   ]
  },
  {
   "cell_type": "markdown",
   "metadata": {},
   "source": [
    "새 파일을 생성하여 내용을 넣으려면 `open` 함수를 쓰기 모드(w-모드)를 이용하여 아래 형식으로 호출하면 된다.\n",
    "\n",
    "```python\n",
    "파일변수 = open(\"경로명/파일이름\", 'w')\n",
    "```\n",
    "**주의:** 기존에 동일한 이름의 파일이 존재하는 경우 \n",
    "    해당 파일내용이 삭제됨에 주의해야 한다.\n",
    "\n",
    "이렇게 생성된 파일에 내용을 추가하려면 `write` 메소드를 아래 형식으로 활용한다.\n",
    "\n",
    "```python\n",
    "파일변수.write(\"추가내용\")\n",
    "```\n",
    "\n",
    "정리하면 다음과 같다.\n",
    "\n",
    "```python\n",
    "with open(\"경로명/파일이름\", 'w') as 파일변수:\n",
    "    파일변수.write(\"추가내용\")\n",
    "```"
   ]
  },
  {
   "cell_type": "markdown",
   "metadata": {},
   "source": [
    "### 예제"
   ]
  },
  {
   "cell_type": "markdown",
   "metadata": {},
   "source": [
    "현재 디렉토리의 하위 디렉토리인 `data`에 `words_no_vowels.txt` 라는 파일을 생성한 후에\n",
    "`words.txt` 파일에 포함된 단어 중에서 모음을 전혀 포함하지 않는 단어들만 저장하고자 한다."
   ]
  },
  {
   "cell_type": "markdown",
   "metadata": {},
   "source": [
    "먼저, 문자열에 모음이 사용되었는지 여부를 검사해야 한다.\n",
    "이를 위해 아래 기능을 갖는 `avoids` 함수를 구현하여 이용한다.\n",
    "* 두 개의 문자열 인자를 입력받는다.\n",
    "* 첫째 인자로 입력된 문자열에 둘째 인자로 입력된 문자열에 포함된 어떤 문자도 \n",
    "    포함되지 않았을 경우 `True`를 리턴한다."
   ]
  },
  {
   "cell_type": "code",
   "execution_count": 22,
   "metadata": {},
   "outputs": [],
   "source": [
    "def avoids(word, forbidden):\n",
    "    for letter in word:\n",
    "        if letter in forbidden:\n",
    "            return False\n",
    "    return True"
   ]
  },
  {
   "cell_type": "markdown",
   "metadata": {},
   "source": [
    "이제 `avoids` 함수를 이용하여 `words.txt` 파일에 포함된 단어들 중에서 \n",
    "모음(a, e, i, o, u)을 포함하지 않는 단어들만 `words_no_vowels.txt` 파일에 저장한다."
   ]
  },
  {
   "cell_type": "code",
   "execution_count": 23,
   "metadata": {},
   "outputs": [],
   "source": [
    "# words.txt 파일을 읽기 전용으로 열기\n",
    "f_in = open('./data/words.txt')\n",
    "\n",
    "# words_no_vowels.txt 파일 생성 (쓰기 기능 포함)\n",
    "f_out = open('./data/words_no_vowels.txt', 'w')\n",
    "\n",
    "# words.txt에 포함된 각 단어들 검사\n",
    "for line in f_in:\n",
    "    if avoids(line, 'aeiou'):   # 모음 포함 여부 판단\n",
    "        f_out.write(line)\n",
    "    else:\n",
    "        continue\n",
    "\n",
    "# 파일 내용 추가가 완료되면 닫아 주어야 한다.\n",
    "f_in.close()\n",
    "f_out.close()"
   ]
  },
  {
   "cell_type": "markdown",
   "metadata": {},
   "source": [
    "`with ... as ...`를 이용하여 여러 개의 파일을 아래와 같이 열 수 있다."
   ]
  },
  {
   "cell_type": "code",
   "execution_count": 24,
   "metadata": {},
   "outputs": [],
   "source": [
    "with open('./data/words.txt') as f_in, open('./data/words_no_vowels.txt', 'w') as f_out:\n",
    "    for line in f_in:\n",
    "        if avoids(line, 'aeiou'):\n",
    "            f_out.write(line)\n",
    "        else:\n",
    "            continue"
   ]
  },
  {
   "cell_type": "markdown",
   "metadata": {},
   "source": [
    "열어야 하는 파일이 많으면 다음과 같이 열 파일들을 줄바꿈을 이용하여\n",
    "구분하는 게 좋다."
   ]
  },
  {
   "cell_type": "code",
   "execution_count": 25,
   "metadata": {},
   "outputs": [],
   "source": [
    "with open('./data/words.txt') as f_in, \\\n",
    "        open('./data/words_no_vowels.txt', 'w') as f_out:\n",
    "    for line in f_in:\n",
    "        if avoids(line, 'aeiou'):\n",
    "            f_out.write(line)\n",
    "        else:\n",
    "            continue"
   ]
  },
  {
   "cell_type": "markdown",
   "metadata": {},
   "source": [
    "이제 모음을 포함하지 않은 단어들의 개수를 알아내기 위해\n",
    "`words_no_vowels.txt` 파일에 문자열을 추가할 때마다 카운트하는 기능을 추가하자."
   ]
  },
  {
   "cell_type": "code",
   "execution_count": 26,
   "metadata": {},
   "outputs": [
    {
     "name": "stdout",
     "output_type": "stream",
     "text": [
      "모음을 포함하지 않는 문자열은 총 107 개 이다.\n"
     ]
    }
   ],
   "source": [
    "with open('./data/words.txt') as f_in, \\\n",
    "        open('./data/words_no_vowels.txt', 'w') as f_out:\n",
    "    \n",
    "    count = 0\n",
    "\n",
    "    for line in f_in:\n",
    "        if avoids(line, 'aeiou'):\n",
    "            f_out.write(line)\n",
    "            count += 1\n",
    "        else:\n",
    "            continue\n",
    "    \n",
    "print(f\"모음을 포함하지 않는 문자열은 총 {count} 개 이다.\")"
   ]
  },
  {
   "cell_type": "markdown",
   "metadata": {},
   "source": [
    "## 기존 파일에 내용 추가하기"
   ]
  },
  {
   "cell_type": "markdown",
   "metadata": {},
   "source": [
    "기존에 존재하는 파일에 내용을 추가하고자 할 때는 추가하기 모드(a-모드)로 파일을 열어야 한다."
   ]
  },
  {
   "cell_type": "code",
   "execution_count": 27,
   "metadata": {},
   "outputs": [],
   "source": [
    "with open('./data/words_no_vowels.txt', 'a') as f_add:\n",
    "    f_add.write(\"한줄 추가하기\\n\")\n",
    "    f_add.write(\"한줄 더 추가하기\\n\")"
   ]
  },
  {
   "cell_type": "markdown",
   "metadata": {},
   "source": [
    "이제 `words_no_vowels.txt`에 마지막 5줄을 확인하면 다음과 같이,\n",
    "앞서 추가한 두 줄이 파일 끝에 추가되었음을 확인할 수 있다."
   ]
  },
  {
   "cell_type": "code",
   "execution_count": 28,
   "metadata": {},
   "outputs": [
    {
     "name": "stdout",
     "output_type": "stream",
     "text": [
      "['xylyls\\n', 'xyst\\n', 'xysts\\n', '한줄 추가하기\\n', '한줄 더 추가하기\\n']\n"
     ]
    }
   ],
   "source": [
    "with open('./data/words_no_vowels.txt') as f_in:\n",
    "    print(f_in.readlines()[-5:])"
   ]
  },
  {
   "cell_type": "markdown",
   "metadata": {},
   "source": [
    "## 파일명과 경로"
   ]
  },
  {
   "cell_type": "markdown",
   "metadata": {},
   "source": [
    "파일들은 디렉터리(폴더”라고도 부름) 안에 저장된다. \n",
    "\n",
    "또한 실행중인 모든 프로그램은 **현재 작업 디렉토리**, \n",
    "즉, 해당 프로그램이 실행되고 있는 디렉토리를 기억한다."
   ]
  },
  {
   "cell_type": "markdown",
   "metadata": {},
   "source": [
    "### 현재 작업 디렉토리 학인"
   ]
  },
  {
   "cell_type": "markdown",
   "metadata": {},
   "source": [
    "현재 작업 디렉토리의 위치에 대한 정보를 확인하려면 아래와 같이 한다.\n",
    "\n",
    "* `os`: 운영체제(operating system)의 줄임말\n",
    "* `cwd`: 현재 작업 디렉토리(current working directory)의 줄임말"
   ]
  },
  {
   "cell_type": "code",
   "execution_count": 29,
   "metadata": {},
   "outputs": [
    {
     "name": "stdout",
     "output_type": "stream",
     "text": [
      "/tf/GitHub/ProgInPython/notebooks\n"
     ]
    }
   ],
   "source": [
    "import os\n",
    "cwd = os.getcwd()\n",
    "print(cwd)"
   ]
  },
  {
   "cell_type": "markdown",
   "metadata": {},
   "source": [
    "즉, 파이썬이 현재 바로 위에 언급된 디렉토리를 기준으로 작업한다."
   ]
  },
  {
   "cell_type": "markdown",
   "metadata": {},
   "source": [
    "### 절대경로와 상대경로"
   ]
  },
  {
   "cell_type": "markdown",
   "metadata": {},
   "source": [
    "`cwd`처럼 파일이 저장된 디렉토리의 위치를 알려주는 정보를 **경로(path)**라고 부른다. \n",
    "\n",
    "경로를 설정하는 기준이 두 가지 있다.\n",
    "\n",
    "* 상대경로: 현재 작업 디렉토리를 기준으로 파일과 디렉토리의 위치 결정\n",
    "    * 예제: 앞서 사용한 `./data/words.txt`는 현재 작업토리를 기준으로 하여 정해진\n",
    "        상대경로이다. 즉, 현재 작업 디렉토리에 포함된 `data`라는 \n",
    "        디렉토리 안에 있는 `words.txt`를 가리킨다.\n",
    "    * 점(`.`)은 현재 작업 디렉토리를 가리킨다.\n",
    "    * 점 두개(`..`)의 현재 작업 디렉토리의 한 단계 상위 디렉토리를 가리킨다.\n",
    "    <br><br>\n",
    "* 절대경로: 사용하는 운영체제 파일 시스템 상에서 최상단 디렉토리를 \n",
    "    기준으로 파일과 디렉토리의 위치 결정\n",
    "    * 예제: `getcwd` 함수의 리턴값은 상대경로이다.\n",
    "        * 윈도우의 경우: `C:\\tf\\GitHub\\ProgInPython\\notebooks\\data\\words.txt`\n",
    "        * 맥 또는 리눅스 경우: `/tf/GitHub/ProgInPython/notebooks/data/words.txt`\n",
    "\n",
    "**주의:** 윈도우 운영체제에서 역슬래시('\\')는 원화기호('&#8361;')로 표시됨."
   ]
  },
  {
   "cell_type": "markdown",
   "metadata": {},
   "source": [
    "* `os.path.abspath`: 특정 파일의 절대경로를 찾기 위해 사용"
   ]
  },
  {
   "cell_type": "code",
   "execution_count": 30,
   "metadata": {},
   "outputs": [
    {
     "data": {
      "text/plain": [
       "'/tf/GitHub/ProgInPython/notebooks/data/words.txt'"
      ]
     },
     "execution_count": 30,
     "metadata": {},
     "output_type": "execute_result"
    }
   ],
   "source": [
    "os.path.abspath('./data/words.txt')"
   ]
  },
  {
   "cell_type": "markdown",
   "metadata": {},
   "source": [
    "* `os.path.exists`: 특정 파일 또는 디렉토리의 존재여부 확인\n",
    "    * 절대경로 또는 상대경로 이용"
   ]
  },
  {
   "cell_type": "code",
   "execution_count": 31,
   "metadata": {},
   "outputs": [
    {
     "data": {
      "text/plain": [
       "False"
      ]
     },
     "execution_count": 31,
     "metadata": {},
     "output_type": "execute_result"
    }
   ],
   "source": [
    "os.path.exists('words.txt')"
   ]
  },
  {
   "cell_type": "code",
   "execution_count": 32,
   "metadata": {},
   "outputs": [
    {
     "data": {
      "text/plain": [
       "True"
      ]
     },
     "execution_count": 32,
     "metadata": {},
     "output_type": "execute_result"
    }
   ],
   "source": [
    "os.path.exists('./data/words.txt')"
   ]
  },
  {
   "cell_type": "code",
   "execution_count": 33,
   "metadata": {},
   "outputs": [
    {
     "data": {
      "text/plain": [
       "True"
      ]
     },
     "execution_count": 33,
     "metadata": {},
     "output_type": "execute_result"
    }
   ],
   "source": [
    "os.path.exists('/tf/GitHub/ProgInPython/notebooks/data/words.txt')"
   ]
  },
  {
   "cell_type": "markdown",
   "metadata": {},
   "source": [
    "* `os.path.isdir`: 디렉토리 존재 확인\n",
    "    * 절대경로 또는 상대경로 이용"
   ]
  },
  {
   "cell_type": "code",
   "execution_count": 34,
   "metadata": {},
   "outputs": [
    {
     "data": {
      "text/plain": [
       "False"
      ]
     },
     "execution_count": 34,
     "metadata": {},
     "output_type": "execute_result"
    }
   ],
   "source": [
    "os.path.isdir('music')"
   ]
  },
  {
   "cell_type": "code",
   "execution_count": 35,
   "metadata": {},
   "outputs": [
    {
     "data": {
      "text/plain": [
       "True"
      ]
     },
     "execution_count": 35,
     "metadata": {},
     "output_type": "execute_result"
    }
   ],
   "source": [
    "os.path.isdir('./data')"
   ]
  },
  {
   "cell_type": "code",
   "execution_count": 36,
   "metadata": {},
   "outputs": [
    {
     "data": {
      "text/plain": [
       "True"
      ]
     },
     "execution_count": 36,
     "metadata": {},
     "output_type": "execute_result"
    }
   ],
   "source": [
    "os.path.isdir('/tf/GitHub/ProgInPython/notebooks/data')"
   ]
  },
  {
   "cell_type": "markdown",
   "metadata": {},
   "source": [
    "* `os.path.isfile`: 파일 존재 확인"
   ]
  },
  {
   "cell_type": "code",
   "execution_count": 37,
   "metadata": {},
   "outputs": [
    {
     "data": {
      "text/plain": [
       "True"
      ]
     },
     "execution_count": 37,
     "metadata": {},
     "output_type": "execute_result"
    }
   ],
   "source": [
    "os.path.isfile('./data/words.txt')"
   ]
  },
  {
   "cell_type": "code",
   "execution_count": 38,
   "metadata": {},
   "outputs": [
    {
     "data": {
      "text/plain": [
       "True"
      ]
     },
     "execution_count": 38,
     "metadata": {},
     "output_type": "execute_result"
    }
   ],
   "source": [
    "os.path.isfile('/tf/GitHub/ProgInPython/notebooks/data/words.txt')"
   ]
  },
  {
   "cell_type": "markdown",
   "metadata": {},
   "source": [
    "* `os.listdir`: 지정된 디렉토리에 포함된 파일 및 하위 디렉토리의 리스트를 리턴함"
   ]
  },
  {
   "cell_type": "code",
   "execution_count": 39,
   "metadata": {},
   "outputs": [
    {
     "data": {
      "text/plain": [
       "['PiPy02B-Strings.ipynb',\n",
       " '06b-ThinkPython-Modules.ipynb',\n",
       " '06-HFProgramming-ModuleAbstraction.ipynb',\n",
       " '08-ThinkPython-OOP_02-Class_and_Instance.ipynb',\n",
       " 'PiPy04D-ErrorsAndExceptions.ipynb',\n",
       " 'PiPy04C-Lists.ipynb',\n",
       " 'images',\n",
       " 'PiPy04B-Files.ipynb',\n",
       " 'PiPy05B-Dictionaries.ipynb',\n",
       " '07-ThinkPython-OOP_01-Introduction.ipynb',\n",
       " 'PiPy02D-StringFormat.ipynb',\n",
       " 'PiPy05A-AssociativeArrays.ipynb',\n",
       " '11-ThinkPython-OOP-GameProgramming.ipynb',\n",
       " 'PiPy02C-StringsAndLoops.ipynb',\n",
       " 'PiPy03A-FunctionAbstraction.ipynb',\n",
       " 'PiPy04A-DataSets.ipynb',\n",
       " 'PiPy03B-Functions.ipynb',\n",
       " '09-HFProgramming-GUI.ipynb',\n",
       " '07a-ThinkPython-Turtle-Java-Example.ipynb',\n",
       " 'PiPy01B-Variables_Expressions_Commands.ipynb',\n",
       " 'PiPy01A-ProgrammingStart.ipynb',\n",
       " '09-ThinkPython-OOP_03-Instance-Variables_and_Methods.ipynb',\n",
       " 'codes',\n",
       " '.ipynb_checkpoints',\n",
       " 'PiPy02A-InfoFromInternet.ipynb',\n",
       " 'data',\n",
       " '10-ThinkPython-OOP_04-Inheritance_MethodOverriding.ipynb']"
      ]
     },
     "execution_count": 39,
     "metadata": {},
     "output_type": "execute_result"
    }
   ],
   "source": [
    "os.listdir(cwd)"
   ]
  },
  {
   "cell_type": "markdown",
   "metadata": {},
   "source": [
    "### 예제: 디렉토리 탐색"
   ]
  },
  {
   "cell_type": "markdown",
   "metadata": {},
   "source": [
    "지정된 디렉터리와 모든 하위 디렉토리를 \"탐색(walk)\"하여 모든 파일들의 이름을 인쇄하는 함수를\n",
    "다음과 같이 재귀함수로 구현할 수 있다. \n",
    "재귀함수에 대한 설명은 \n",
    "[기본 자료형: 함수](https://github.com/liganega/ProgInPython/blob/master/notebooks/PiPy03B-Functions.ipynb)를 참조한다. "
   ]
  },
  {
   "cell_type": "markdown",
   "metadata": {},
   "source": [
    "* `os.path.join`: 디렉토리 경로와 파일 이름을 받아서 온전한 경로로 결합한다."
   ]
  },
  {
   "cell_type": "code",
   "execution_count": 43,
   "metadata": {},
   "outputs": [],
   "source": [
    "def walk(dirname):\n",
    "    for name in os.listdir(dirname):\n",
    "        path = os.path.join(dirname, name)\n",
    "\n",
    "        if os.path.isfile(path):\n",
    "            print(path)\n",
    "        else:\n",
    "            walk(path)                      # 재귀 호출"
   ]
  },
  {
   "cell_type": "markdown",
   "metadata": {},
   "source": [
    "현재 작업 디렉토리를 기준으로\n",
    "`walk` 함수를 실행한 결과는 다음과 같다.\n",
    "\n",
    "**주의:** 사용하는 컴퓨터마다 실행결과가 다를 수 있다."
   ]
  },
  {
   "cell_type": "code",
   "execution_count": 46,
   "metadata": {},
   "outputs": [
    {
     "name": "stdout",
     "output_type": "stream",
     "text": [
      "./PiPy02B-Strings.ipynb\n",
      "./06b-ThinkPython-Modules.ipynb\n",
      "./06-HFProgramming-ModuleAbstraction.ipynb\n",
      "./08-ThinkPython-OOP_02-Class_and_Instance.ipynb\n",
      "./PiPy04D-ErrorsAndExceptions.ipynb\n",
      "./PiPy04C-Lists.ipynb\n",
      "./images/fun_math1.png\n",
      "./images/fun_prog1.png\n",
      "./images/fun_prog2.png\n",
      "./images/local_var08.png\n",
      "./images/fun_call.png\n",
      "./images/transactions07.png\n",
      "./images/collatz01.png\n",
      "./images/transactions06.png\n",
      "./images/transactions04.png\n",
      "./images/fun_name.png\n",
      "./images/09-ThinkPython-OOP_03-Instance_Variables_and_Methods.ipynb\n",
      "./images/collatz02.jpg\n",
      "./images/transactions05.png\n",
      "./images/transactions01.png\n",
      "./images/how-to-think.jpg\n",
      "./images/turtle08.png\n",
      "./images/thinkpython001.png\n",
      "./images/transactions02.png\n",
      "./images/metacognition.jpg\n",
      "./images/gui09.png\n",
      "./images/gui08.png\n",
      "./images/thinkpython002.png\n",
      "./images/transactions03.png\n",
      "./images/gui05.png\n",
      "./images/pythontutor01.png\n",
      "./images/turtle07.png\n",
      "./images/turtle06.png\n",
      "./images/gui04.png\n",
      "./images/words.png\n",
      "./images/beans01.png\n",
      "./images/beans03.png\n",
      "./images/gui06.png\n",
      "./images/pythontutor02.png\n",
      "./images/turtle04.png\n",
      "./images/strings.jpg\n",
      "./images/turtle05.png\n",
      "./images/server-client.jpeg\n",
      "./images/pythontutor03.png\n",
      "./images/gui07.png\n",
      "./images/beans02.png\n",
      "./images/search-beans-page.png\n",
      "./images/transactions08.png\n",
      "./images/fun_print.png\n",
      "./images/gui03.png\n",
      "./images/turtle01.png\n",
      "./images/pythontutor06.png\n",
      "./images/gui02.png\n",
      "./images/transactions09.png\n",
      "./images/beans-loyal.png\n",
      "./images/pythontutor04.png\n",
      "./images/turtle02.png\n",
      "./images/turtle03.png\n",
      "./images/pythontutor05.png\n",
      "./images/gui01.png\n",
      "./images/turtle01a.png\n",
      "./images/local_var06.png\n",
      "./images/find-index.png\n",
      "./images/local_var07.png\n",
      "./images/while.jpg\n",
      "./images/turtle01b.png\n",
      "./images/local_var05.png\n",
      "./images/if-else.jpg\n",
      "./images/indexing01.png\n",
      "./images/local_var04.png\n",
      "./images/turtle01c.png\n",
      "./images/manual-index.png\n",
      "./images/interpreter.jpg\n",
      "./images/compiler.png\n",
      "./images/local_var01.png\n",
      "./images/coffee-beans05.jpg\n",
      "./images/turtle01d.png\n",
      "./images/local_var03.png\n",
      "./images/fun_pure.png\n",
      "./images/tiobe.png\n",
      "./images/local_var02.png\n",
      "./images/without-print.png\n",
      "./images/turtle01e.png\n",
      "./images/coffee-beans04.jpg\n",
      "./PiPy04B-Files.ipynb\n",
      "./PiPy05B-Dictionaries.ipynb\n",
      "./07-ThinkPython-OOP_01-Introduction.ipynb\n",
      "./PiPy02D-StringFormat.ipynb\n",
      "./PiPy05A-AssociativeArrays.ipynb\n",
      "./11-ThinkPython-OOP-GameProgramming.ipynb\n",
      "./PiPy02C-StringsAndLoops.ipynb\n",
      "./PiPy03A-FunctionAbstraction.ipynb\n",
      "./PiPy04A-DataSets.ipynb\n",
      "./PiPy03B-Functions.ipynb\n",
      "./09-HFProgramming-GUI.ipynb\n",
      "./07a-ThinkPython-Turtle-Java-Example.ipynb\n",
      "./PiPy01B-Variables_Expressions_Commands.ipynb\n",
      "./PiPy01A-ProgrammingStart.ipynb\n",
      "./09-ThinkPython-OOP_03-Instance-Variables_and_Methods.ipynb\n",
      "./codes/turtle_princeton/StdDraw_example.java\n",
      "./codes/turtle_princeton/Turtle.java\n",
      "./codes/turtle_princeton/No_Graphic.java\n",
      "./codes/turtle_princeton/Triangle.java\n",
      "./codes/turtle_princeton/__init__.py\n",
      "./codes/turtle_princeton/Rectangle.java\n",
      "./codes/turtle_princeton/Rect_Triangle.java\n",
      "./codes/turtle_princeton/StdDraw.java\n",
      "./codes/wc.py\n",
      "./codes/turtleWar/splash-screen.gif\n",
      "./codes/turtleWar/explosion.mp3\n",
      "./codes/turtleWar/original/turtle_space.py\n",
      "./codes/turtleWar/original/splash-screen.gif\n",
      "./codes/turtleWar/original/explosion.mp3\n",
      "./codes/turtleWar/original/turtle-space-review.py\n",
      "./codes/turtleWar/original/turtle_space-05.py\n",
      "./codes/turtleWar/original/enemybase.gif\n",
      "./codes/turtleWar/original/turtle_space-01.py\n",
      "./codes/turtleWar/original/turtle_space-10.py\n",
      "./codes/turtleWar/original/allybase.gif\n",
      "./codes/turtleWar/original/turtle_space-04.py\n",
      "./codes/turtleWar/original/laser.mp3\n",
      "./codes/turtleWar/original/turtle_space-03.py\n",
      "./codes/turtleWar/original/enemy.gif\n",
      "./codes/turtleWar/original/turtle_space-07.py\n",
      "./codes/turtleWar/original/turtle_space-06.py\n",
      "./codes/turtleWar/original/hyperspace.mp3\n",
      "./codes/turtleWar/original/starfield.gif\n",
      "./codes/turtleWar/original/turtle_space-02.py\n",
      "./codes/turtleWar/original/ally.gif\n",
      "./codes/turtleWar/original/turtle_space-09.py\n",
      "./codes/turtleWar/original/turtle_space-Demo.py\n",
      "./codes/turtleWar/original/missile.mp3\n",
      "./codes/turtleWar/original/turtle_space-08.py\n",
      "./codes/turtleWar/enemybase.gif\n",
      "./codes/turtleWar/turtleWar-03.py\n",
      "./codes/turtleWar/allybase.gif\n",
      "./codes/turtleWar/README\n",
      "./codes/turtleWar/turtleWar-02.py\n",
      "./codes/turtleWar/laser.mp3\n",
      "./codes/turtleWar/turtleWar-05.py\n",
      "./codes/turtleWar/enemy.gif\n",
      "./codes/turtleWar/turtleWar-01.py\n",
      "./codes/turtleWar/hyperspace.mp3\n",
      "./codes/turtleWar/starfield.gif\n",
      "./codes/turtleWar/turtleWar-01_test.py\n",
      "./codes/turtleWar/ally.gif\n",
      "./codes/turtleWar/turtleWar-04.py\n",
      "./codes/turtleWar/.ipynb_checkpoints/Untitled-checkpoint.ipynb\n",
      "./codes/turtleWar/enemybase.png\n",
      "./codes/turtleWar/missile.mp3\n",
      "./codes/transactions.py\n",
      "./codes/mypolygon1.py\n",
      "./codes/transactions.txt\n",
      "./codes/polygon.py\n",
      "./codes/turtle-recursion/maze.py\n",
      "./codes/turtle-recursion/maze2.txt\n",
      "./codes/__init__.py\n",
      "./codes/pie.py\n",
      "./codes/__pycache__/wc.cpython-36.pyc\n",
      "./codes/__pycache__/mypolygon.cpython-36.pyc\n",
      "./codes/__pycache__/special.cpython-36.pyc\n",
      "./codes/__pycache__/polygon.cpython-36.pyc\n",
      "./codes/__pycache__/transactions.cpython-36.pyc\n",
      "./codes/__pycache__/__init__.cpython-36.pyc\n",
      "./codes/mypolygon4.py\n",
      "./codes/mypolygon3.py\n",
      "./codes/HFProgramming_Ch07_GUI/__init__.py\n",
      "./codes/HFProgramming_Ch07_GUI/__pycache__/packTogether.cpython-36.pyc\n",
      "./codes/HFProgramming_Ch07_GUI/tvn.pyw\n",
      "./codes/HFProgramming_Ch07_GUI/sounds/carhorn.wav\n",
      "./codes/HFProgramming_Ch07_GUI/sounds/bee.wav\n",
      "./codes/HFProgramming_Ch07_GUI/sounds/sorry.wav\n",
      "./codes/HFProgramming_Ch07_GUI/sounds/buzz.wav\n",
      "./codes/HFProgramming_Ch07_GUI/sounds/claves.wav\n",
      "./codes/HFProgramming_Ch07_GUI/sounds/correct.wav\n",
      "./codes/HFProgramming_Ch07_GUI/sounds/wrong.wav\n",
      "./codes/HFProgramming_Ch07_GUI/sounds/buzzing.wav\n",
      "./codes/HFProgramming_Ch07_GUI/sounds/horse.wav\n",
      "./codes/HFProgramming_Ch07_GUI/sounds/fire.wav\n",
      "./codes/HFProgramming_Ch07_GUI/sounds/boom.wav\n",
      "./codes/HFProgramming_Ch07_GUI/sounds/klaxon.wav\n",
      "./codes/HFProgramming_Ch07_GUI/sounds/coyote.wav\n",
      "./codes/HFProgramming_Ch07_GUI/sounds/computer.wav\n",
      "./codes/HFProgramming_Ch07_GUI/sounds/chime.wav\n",
      "./codes/HFProgramming_Ch07_GUI/sounds/applause.wav\n",
      "./codes/HFProgramming_Ch07_GUI/sounds/ohno.wav\n",
      "./codes/HFProgramming_Ch07_GUI/sounds/cowbell.wav\n",
      "./codes/HFProgramming_Ch07_GUI/sounds/alarm.wav\n",
      "./codes/HFProgramming_Ch07_GUI/sounds/rooster.wav\n",
      "./codes/HFProgramming_Ch07_GUI/sounds/robot.wav\n",
      "./codes/HFProgramming_Ch07_GUI/sounds/hello.wav\n",
      "./codes/HFProgramming_Ch07_GUI/sounds/heartbeat.wav\n",
      "./codes/mypolygon2.py\n",
      "./codes/special.py\n",
      "./codes/flower.py\n",
      "./.ipynb_checkpoints/PiPy04B-Files-checkpoint.ipynb\n",
      "./PiPy02A-InfoFromInternet.ipynb\n",
      "./data/james2.txt\n",
      "./data/dialogues.txt\n",
      "./data/results10m.txt\n",
      "./data/populations.txt\n",
      "./data/words_no_vowels.txt\n",
      "./data/results5m.txt\n",
      "./data/julie2.txt\n",
      "./data/prices.html\n",
      "./data/words.txt\n",
      "./data/shakespeare.txt\n",
      "./data/surfing_data.csv\n",
      "./10-ThinkPython-OOP_04-Inheritance_MethodOverriding.ipynb\n"
     ]
    }
   ],
   "source": [
    "walk('.')"
   ]
  },
  {
   "cell_type": "markdown",
   "metadata": {},
   "source": [
    "### 예제\n",
    "\n",
    "`os` 모듈에 `walk`라는 함수가 이미 정의되어 있으며, 앞서 정의된 `walk` 함수보다\n",
    "많은 정보를 제공한다.\n",
    "\n",
    "예를 들어, 아래 함수 `walk2`는 `walk`와 동일한 일을 한다.\n",
    "대신에 `os.walk` 함수를 활용하였다."
   ]
  },
  {
   "cell_type": "code",
   "execution_count": 54,
   "metadata": {},
   "outputs": [
    {
     "name": "stdout",
     "output_type": "stream",
     "text": [
      "('./codes', ['turtle_princeton', 'turtleWar', 'turtle-recursion', '__pycache__', 'HFProgramming_Ch07_GUI'], ['wc.py', 'transactions.py', 'mypolygon1.py', 'transactions.txt', 'polygon.py', '__init__.py', 'pie.py', 'mypolygon4.py', 'mypolygon3.py', 'mypolygon2.py', 'special.py', 'flower.py']) \n",
      "\n",
      "('./codes/turtle_princeton', [], ['StdDraw_example.java', 'Turtle.java', 'No_Graphic.java', 'Triangle.java', '__init__.py', 'Rectangle.java', 'Rect_Triangle.java', 'StdDraw.java']) \n",
      "\n",
      "('./codes/turtleWar', ['original', '.ipynb_checkpoints'], ['splash-screen.gif', 'explosion.mp3', 'enemybase.gif', 'turtleWar-03.py', 'allybase.gif', 'README', 'turtleWar-02.py', 'laser.mp3', 'turtleWar-05.py', 'enemy.gif', 'turtleWar-01.py', 'hyperspace.mp3', 'starfield.gif', 'turtleWar-01_test.py', 'ally.gif', 'turtleWar-04.py', 'enemybase.png', 'missile.mp3']) \n",
      "\n",
      "('./codes/turtleWar/original', [], ['turtle_space.py', 'splash-screen.gif', 'explosion.mp3', 'turtle-space-review.py', 'turtle_space-05.py', 'enemybase.gif', 'turtle_space-01.py', 'turtle_space-10.py', 'allybase.gif', 'turtle_space-04.py', 'laser.mp3', 'turtle_space-03.py', 'enemy.gif', 'turtle_space-07.py', 'turtle_space-06.py', 'hyperspace.mp3', 'starfield.gif', 'turtle_space-02.py', 'ally.gif', 'turtle_space-09.py', 'turtle_space-Demo.py', 'missile.mp3', 'turtle_space-08.py']) \n",
      "\n",
      "('./codes/turtleWar/.ipynb_checkpoints', [], ['Untitled-checkpoint.ipynb']) \n",
      "\n",
      "('./codes/turtle-recursion', [], ['maze.py', 'maze2.txt']) \n",
      "\n",
      "('./codes/__pycache__', [], ['wc.cpython-36.pyc', 'mypolygon.cpython-36.pyc', 'special.cpython-36.pyc', 'polygon.cpython-36.pyc', 'transactions.cpython-36.pyc', '__init__.cpython-36.pyc']) \n",
      "\n",
      "('./codes/HFProgramming_Ch07_GUI', ['__pycache__', 'sounds'], ['__init__.py', 'tvn.pyw']) \n",
      "\n",
      "('./codes/HFProgramming_Ch07_GUI/__pycache__', [], ['packTogether.cpython-36.pyc']) \n",
      "\n",
      "('./codes/HFProgramming_Ch07_GUI/sounds', [], ['carhorn.wav', 'bee.wav', 'sorry.wav', 'buzz.wav', 'claves.wav', 'correct.wav', 'wrong.wav', 'buzzing.wav', 'horse.wav', 'fire.wav', 'boom.wav', 'klaxon.wav', 'coyote.wav', 'computer.wav', 'chime.wav', 'applause.wav', 'ohno.wav', 'cowbell.wav', 'alarm.wav', 'rooster.wav', 'robot.wav', 'hello.wav', 'heartbeat.wav']) \n",
      "\n"
     ]
    }
   ],
   "source": [
    "for item in os.walk('./codes'):\n",
    "    print(item,'\\n')"
   ]
  },
  {
   "cell_type": "code",
   "execution_count": 55,
   "metadata": {},
   "outputs": [],
   "source": [
    "def walk2(dirname):\n",
    "    for root, dirs, files in os.walk(dirname):    # 현재 디렉토리, 하위 디렉토리 리스트, 폴더 리스느\n",
    "        for filename in files:\n",
    "            print(os.path.join(root, filename))"
   ]
  },
  {
   "cell_type": "code",
   "execution_count": 57,
   "metadata": {},
   "outputs": [
    {
     "name": "stdout",
     "output_type": "stream",
     "text": [
      "./data/james2.txt\n",
      "./data/dialogues.txt\n",
      "./data/results10m.txt\n",
      "./data/populations.txt\n",
      "./data/words_no_vowels.txt\n",
      "./data/results5m.txt\n",
      "./data/julie2.txt\n",
      "./data/prices.html\n",
      "./data/words.txt\n",
      "./data/shakespeare.txt\n",
      "./data/surfing_data.csv\n"
     ]
    }
   ],
   "source": [
    "walk2('./data')"
   ]
  },
  {
   "cell_type": "markdown",
   "metadata": {},
   "source": [
    "## 예외 처리"
   ]
  },
  {
   "cell_type": "markdown",
   "metadata": {},
   "source": [
    "파일을 읽거나 작성하려고 할 때 종종 오류가 발생한다. \n",
    "\n",
    "* 'FileNotFoundError': 존재하지 않은 파일을 읽으려 할 때 발생\n",
    "\n",
    "* `PermissionError`: 접근 또는 수정 권한이 없는 파일을 다루고자 할 때 발생\n",
    "\n",
    "* `IsADirectoryError`: 디렉토리를 열려고 할 때\n",
    "\n",
    "이렇게 오류가 많이 발생할 수 있다는 점에 대해 대비하는 것이 필요하다.\n",
    "예를 들어, `try ... except ...` 명령문을 이용할 수 있으며, \n",
    "`if ... else ...` 명령문과 유사하게 실행된다.\n",
    "\n",
    "* `try` 구절을 먼저 실행한다.\n",
    "* 문제가 없다면 except 구절을 건너뛴다. \n",
    "* 만약 오류가 발생하면, except 구절을 실행한다.\n",
    "\n",
    "보다 자세한 설명은 \n",
    "[프로그래밍 기본 요소: 오류 및 예외 처리](https://github.com/liganega/ProgInPython/blob/master/notebooks/PiPy04D-ErrorsAndExceptions.ipynb)를\n",
    "참조하라."
   ]
  },
  {
   "cell_type": "markdown",
   "metadata": {},
   "source": [
    "### 예제 "
   ]
  },
  {
   "cell_type": "markdown",
   "metadata": {},
   "source": [
    "아래 코드는 존재하지 않은 파일을 열 때 오류가 발생할 것을 대비한 코드이다."
   ]
  },
  {
   "cell_type": "code",
   "execution_count": 1,
   "metadata": {},
   "outputs": [
    {
     "name": "stdout",
     "output_type": "stream",
     "text": [
      "파일을 열고자 할 때 문제가 있습니다.\n"
     ]
    }
   ],
   "source": [
    "try:\n",
    "    fin = open('bad_file')\n",
    "    for line in fin:\n",
    "        print(line)\n",
    "    fin.close()\n",
    "except:\n",
    "    print(\"파일을 열고자 할 때 문제가 있습니다.\")"
   ]
  },
  {
   "cell_type": "markdown",
   "metadata": {},
   "source": [
    "물론 아래도 가능하다."
   ]
  },
  {
   "cell_type": "code",
   "execution_count": 18,
   "metadata": {},
   "outputs": [
    {
     "name": "stdout",
     "output_type": "stream",
     "text": [
      "파일을 열고자 할 때 문제가 있습니다.\n"
     ]
    }
   ],
   "source": [
    "try:\n",
    "    with open('bad_file') as f_in:\n",
    "        for line in f_in:\n",
    "            print(line)\n",
    "except:\n",
    "    print(\"파일을 열고자 할 때 문제가 있습니다.\")"
   ]
  },
  {
   "cell_type": "markdown",
   "metadata": {},
   "source": [
    "## 예제: 파일 저장하기"
   ]
  },
  {
   "cell_type": "markdown",
   "metadata": {},
   "source": [
    "아래 내용을 `dialogues.txt` 파일에 저장하라.\n",
    "\n",
    "---\n",
    "```\n",
    "Man: Is this the right room for an argument?\n",
    "Other Man: I've told you once.\n",
    "Man: No you haven't!\n",
    "Other Man: Yes I have.\n",
    "Man: When?\n",
    "Other Man: Just now.\n",
    "Man: No you didn't!\n",
    "Other Man: Yes I did!\n",
    "Man: You didn't!\n",
    "Other Man: I'm telling you, I did!\n",
    "Man: Oh look, this isn't an argument!\n",
    "(pause)\n",
    "Other Man: Yes it is!\n",
    "Man: No it isn't!\n",
    "(pause)\n",
    "Man: It's just contradiction!\n",
    "Other Man: No it isn't!\n",
    "Man: It IS!\n",
    "Other Man: It is NOT!\n",
    "Man: (exasperated) Oh, this is futile!!\n",
    "(pause)\n",
    "Other Man: No it isn't!\n",
    "Man: Yes it is!\n",
    "```\n",
    "---\n",
    "\n",
    "이제 `dialogues.txt` 파일을 불러 들여서 각 역할 별 대사를 리스트로 저장하는 코드는 다음과 같다."
   ]
  },
  {
   "cell_type": "code",
   "execution_count": 2,
   "metadata": {},
   "outputs": [],
   "source": [
    "def role_words(file_name, role):\n",
    "    words = []\n",
    "\n",
    "    try:\n",
    "        with open(file_name) as data:\n",
    "            for each_line in data:\n",
    "                try:\n",
    "                    line = each_line.split(':', 1)\n",
    "                    line_spoken = line[1].strip()\n",
    "                    if line[0] == role :\n",
    "                        words.append(line_spoken)\n",
    "                except IndexError:\n",
    "                    pass\n",
    "            return words\n",
    "    except IOError as err:\n",
    "        print('File Error: ' + str(err))"
   ]
  },
  {
   "cell_type": "code",
   "execution_count": 3,
   "metadata": {},
   "outputs": [
    {
     "data": {
      "text/plain": [
       "['Is this the right room for an argument?',\n",
       " \"No you haven't!\",\n",
       " 'When?',\n",
       " \"No you didn't!\",\n",
       " \"You didn't!\",\n",
       " \"Oh look, this isn't an argument!\",\n",
       " \"No it isn't!\",\n",
       " \"It's just contradiction!\",\n",
       " 'It IS!',\n",
       " '(exasperated) Oh, this is futile!!',\n",
       " 'Yes it is!']"
      ]
     },
     "execution_count": 3,
     "metadata": {},
     "output_type": "execute_result"
    }
   ],
   "source": [
    "role_words(\"data/dialogues.txt\", \"Man\")"
   ]
  },
  {
   "cell_type": "code",
   "execution_count": 4,
   "metadata": {},
   "outputs": [
    {
     "data": {
      "text/plain": [
       "[\"I've told you once.\",\n",
       " 'Yes I have.',\n",
       " 'Just now.',\n",
       " 'Yes I did!',\n",
       " \"I'm telling you, I did!\",\n",
       " 'Yes it is!',\n",
       " \"No it isn't!\",\n",
       " 'It is NOT!',\n",
       " \"No it isn't!\"]"
      ]
     },
     "execution_count": 4,
     "metadata": {},
     "output_type": "execute_result"
    }
   ],
   "source": [
    "role_words(\"data/dialogues.txt\", \"Other Man\")"
   ]
  },
  {
   "cell_type": "markdown",
   "metadata": {},
   "source": [
    "## 연습문제"
   ]
  },
  {
   "cell_type": "markdown",
   "metadata": {},
   "source": [
    "1. `words.txt` 파일에 저장된 단어들 중에서 줄바꾸기 문자를 제외한 문자열의 길이가\n",
    "    20 이상인 단어들만 출력하는 프로그램을 작성하라.\n",
    "    <br><br>    \n",
    "1. 1. 아래 기능을 수행하는 함수 `has_no_e` 라는 함수를 구현하라.\n",
    "        * 하나의 문자열을 인자로 입력받는다.\n",
    "        * 인자로 입력된 영어 문자열에 알파벳 `e`가 포함되지 않았을 경우 `True`를 리턴한다.\n",
    "            <br><br>\n",
    "   1. `words.txt` 파일에 포함된 단어들 중에서\n",
    "    알파벳 `e`를 포함하지 않은 단어만 출력하는 프로그램을 작성하라.\n",
    "    <br><br>    \n",
    "1. 1. 본문에서 구현한 `avoids` 함수를 이용하여 다음 기능을 수행하는 프로그램을 구현하라.\n",
    "        * 사용자로부터 `input` 함수를 이용하여 영어 알파벳 문자열을 입력받는다.\n",
    "        * `words.txt` 파일에 포함된 단어들 중에서 사용자가 입력한 문자열에 포함된 어떠한 \n",
    "            알파벳도 사용하지 않는 문자열의 개수를 출력한다.\n",
    "            <br><br>\n",
    "   1. 앞 문제에서 구현한 프로그램이 가장 적은 수의 단어를 배척하도록 하는 문자열을 찾아라. \n",
    "       단, 길이가 5이어야 한다.\n",
    "   <br><br>\n",
    "1. 1. 아래 기능을 수행하는 함수 `uses_only` 함수를 구현하라.\n",
    "    * 두 개의 문자열 인자를 입력받는다.\n",
    "    * 첫째 인자로 입력된 문자열이 둘째 인자로 입력된 문자열에 포함된 문자만으로 \n",
    "        구성되었을 경우 `True`를 리턴한다.\n",
    "    <br><br>    \n",
    "   1. `words.txt` 파일에서 `acefhlo`에 포함된\n",
    "       문자들만 사용하는 단어를 출력하는 프로그램을 구현하라.\n",
    "    <br><br>       \n",
    "1. 1. 아래 기능을 수행하는 함수 `uses_all` 함수를 구현하라.\n",
    "    * 두 개의 문자열 인자를 입력받는다.\n",
    "    * 첫째 인자로 입력된 문자열이 둘째 인자로 입력된 문자열에 포함된 모든 문자가 \n",
    "        최소 한 번 이상 포함되었을 경우 `True`를 리턴한다.\n",
    "    <br><br>\n",
    "   1. `words.txt` 파일에 포함된 단어에서 `aeiou`에 포함된 모음을 모두 사용한 단어의 개수는?\n",
    "    <br><br>\n",
    "   1. `words.txt` 파일에 포함된 단어에서 `aeiouy`에 포함된 알파벳을 모두 사용한 단어의 개수는?   \n",
    "    <br>\n",
    "1. 아래 조건을 만족하는 `sed` 함수를 구현하라.\n",
    "    * 4개의 인자를 받는다.\n",
    "        * 첫째 인자: 문자열\n",
    "        * 둘째 인자: 문자열\n",
    "        * 셋째 인자: 파일 이름\n",
    "        * 넷째 인자: 파일 이름\n",
    "    * 첫째 파일의 내용 전체를 둘째 파일로 옮긴다.\n",
    "    * 단, 첫째 인자로 입력된 문자열은 모두 둘째 인자로 입력된 문자열로 대체되어야 한다.\n",
    "    * 파일을 열거나, 읽거나, 쓰거나, 닫을 때 오류가 발생하는 경우을 대비해서 \n",
    "        예외 처리를 사용한다. \n",
    "    <br>\n",
    "    견본답안: http://greenteapress.com/thinkpython2/code/sed.py\n",
    "    <br><br>\n",
    "1. 아래 문장들을 `sketch1.txt` 파일에 저장한다. \n",
    "```\n",
    "Man: Is this the right room for an argument? \n",
    "Other Man: Oh I'm sorry: or the full half hour? \n",
    "(pause)\n",
    "Man: Ah! Just the five minutes.\n",
    "```\n",
    "`sketch1.txt` 파일에 저장된 문장들을 읽어 들인 후 아래 처럼 출력하는\n",
    "함수 `role_words`를 구현하라.\n",
    "```\n",
    "Man said:  Is this the right room for an argument? \n",
    "Other Man said:  Oh I'm sorry: or the full half hour? \n",
    "Man said:  Ah! Just the five minutes.\n",
    "```\n",
    "    ##### 힌트\n",
    "    * 파일을 읽어 들이기 위해 open 함수 이용\n",
    "    * split 메소드 활용. 단, split 메소드 옵션에 주의한다.\n",
    "        (두 번째 줄 문장에 콜론(`':'`) 기호가 두 번 들어가 있음에 주의한다.\n",
    "        옵션을 1로 주어야 한다.)\n",
    "    * 셋째 줄은 \":\" 기호를 갖지 않음에 주의한다.\n",
    "        따라서 `split(':')`이 이 경우 에러를 발생시킨다.\n",
    "        이 경우를 대비해서 `try ..., except ...`  를 활용할 수 있다.\n",
    "    <br><br>\n",
    "1. 앞서 예제에서 다룬 `role_words` 함수를 수정하여 각 역할별 대사를 각각 \n",
    "    `dialogues_Man.txt`와 `dialogues_Other.txt` 파일에 \n",
    "    저장하는 함수인 `role_texts` 함수를 구현하라.    "
   ]
  }
 ],
 "metadata": {
  "kernelspec": {
   "display_name": "Python 3",
   "language": "python",
   "name": "python3"
  },
  "language_info": {
   "codemirror_mode": {
    "name": "ipython",
    "version": 3
   },
   "file_extension": ".py",
   "mimetype": "text/x-python",
   "name": "python",
   "nbconvert_exporter": "python",
   "pygments_lexer": "ipython3",
   "version": "3.6.8"
  }
 },
 "nbformat": 4,
 "nbformat_minor": 2
}
