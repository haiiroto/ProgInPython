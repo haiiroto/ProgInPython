{
 "cells": [
  {
   "cell_type": "markdown",
   "metadata": {},
   "source": [
    "# 파일 다루기"
   ]
  },
  {
   "cell_type": "markdown",
   "metadata": {},
   "source": [
    "안내: [Think Python 14장](http://greenteapress.com/thinkpython2/html/thinkpython2015.html) 내용을 번역 및 요약수정한 내용입니다."
   ]
  },
  {
   "cell_type": "markdown",
   "metadata": {},
   "source": [
    "## 데이터 보관하기"
   ]
  },
  {
   "cell_type": "markdown",
   "metadata": {},
   "source": [
    "지금까지 실행한 프로그램은 데이터를 일시적으로 생성하여 활용한다. \n",
    "여기서 일시적이라 함은 프로그램이 종료되면 사용되었던 데이터가 사라진다는 의미다. \n",
    "따라서 프로그램을 새로 시작하면 데이터를 새로 생성하여 활용하고, 종료되면 역시 사용했던 모든 데이터는 사라진다.\n",
    "\n",
    "하지만 경우에 따라 사용할 또는 사용했던 데이터를 프로그램의 실행 및 종료에 상관 없이 오랫동안 보관하고자 할 필요가 있다.\n",
    "\n",
    "여기서 파일에 저장된 데이터를 활용하거나 사용된/생성된 데이터를 파일에 저장하는 여러 방법을 소개한다.  "
   ]
  },
  {
   "cell_type": "markdown",
   "metadata": {},
   "source": [
    "## 파일 읽기"
   ]
  },
  {
   "cell_type": "markdown",
   "metadata": {},
   "source": [
    "아래 링크에 있는 파일을 가지고 연습하고자 한다.\n",
    "먼저 아래 파일을 다운 받아서 파이썬 코딩을 실습하는 폴더에 저장한다.\n",
    "여기서는 `data`라는 하위폴더에 `words.txt`라는 파일로 저장되었다고 가정한다.\n",
    "\n",
    "http://thinkpython2.com/code/words.txt\n",
    "\n",
    "위 파일에는 그레이디 워드(Grady Ward)가 수집한 113,809개 단어를 담고 있다. "
   ]
  },
  {
   "cell_type": "markdown",
   "metadata": {},
   "source": [
    "<p>\n",
    "<table cellspacing=\"20\">\n",
    "<tr>\n",
    "<td>\n",
    "<img src=\"images/words.png\" style=\"width:600px\">\n",
    "</td>\n",
    "</tr>\n",
    "</table>\n",
    "</p>"
   ]
  },
  {
   "cell_type": "markdown",
   "metadata": {},
   "source": [
    "이 파일은 일반 텍스트라서, 텍스트 편집기 뿐만 아니라, 파이썬으로 읽을 수 있다. \n",
    "이를 위해 내장 함수인 `open` 함수를 아래와 같이 활용한다."
   ]
  },
  {
   "cell_type": "code",
   "execution_count": 1,
   "metadata": {},
   "outputs": [],
   "source": [
    "f_in = open('data/words.txt')"
   ]
  },
  {
   "cell_type": "markdown",
   "metadata": {},
   "source": [
    "`open` 함수는 컴퓨터에 저장된 파일의 경로를 문자열 인자로 사용하여 파일 내용 뿐만 아니라 \n",
    "파일과 관련된 모든 정보를 가져와서 리턴값으로 되돌려 준다.\n",
    "하지만 저장된 파일은 단순히 파일 내용 뿐만 아니라 파일의 크기, 작성 시간, 작성자, 수정 시간, \n",
    "사용자 권한 등 다양한 정보도 함께 포함한다는\n",
    "사실에 주의해야 한다.\n",
    "\n",
    "`open` 함수의 리턴값은 파일과 관련된 모든 정보를 저장한 `_io.TextIOWrapper`라는 파일 클래스의 객체이다. \n",
    "\n",
    "* 주의: 클래스 이름을 기억할 필요는 없다."
   ]
  },
  {
   "cell_type": "code",
   "execution_count": 2,
   "metadata": {},
   "outputs": [
    {
     "data": {
      "text/plain": [
       "_io.TextIOWrapper"
      ]
     },
     "execution_count": 2,
     "metadata": {},
     "output_type": "execute_result"
    }
   ],
   "source": [
    "type(f_in)"
   ]
  },
  {
   "cell_type": "markdown",
   "metadata": {},
   "source": [
    "따라서 단순히 `print` 명령으로는 파일 내용을 확인할 수 없다."
   ]
  },
  {
   "cell_type": "code",
   "execution_count": 3,
   "metadata": {},
   "outputs": [
    {
     "name": "stdout",
     "output_type": "stream",
     "text": [
      "<_io.TextIOWrapper name='data/words.txt' mode='r' encoding='UTF-8'>\n"
     ]
    }
   ],
   "source": [
    "print(f_in)"
   ]
  },
  {
   "cell_type": "markdown",
   "metadata": {},
   "source": [
    "* 모드(mode)의 'r'은 이 파일이 읽기전용(read only)으로 열렸다는 것을 나타냄.\n",
    "* 인코딩(encoding)의 `UTF-8`은 텍스트 파일이 `UTF-8` 방식으로 인코딩되었음을 나타냄."
   ]
  },
  {
   "cell_type": "markdown",
   "metadata": {},
   "source": [
    "### 파일 내용 한 줄씩 읽기"
   ]
  },
  {
   "cell_type": "markdown",
   "metadata": {},
   "source": [
    "`f_in` 변수에 할당된 파일 객체의 내용을 `readline` 메소드를 활용하여 한 줄씩 확인할 수 있다. "
   ]
  },
  {
   "cell_type": "code",
   "execution_count": 4,
   "metadata": {},
   "outputs": [
    {
     "data": {
      "text/plain": [
       "'aa\\n'"
      ]
     },
     "execution_count": 4,
     "metadata": {},
     "output_type": "execute_result"
    }
   ],
   "source": [
    "f_in.readline()"
   ]
  },
  {
   "cell_type": "code",
   "execution_count": 5,
   "metadata": {},
   "outputs": [
    {
     "data": {
      "text/plain": [
       "'aah\\n'"
      ]
     },
     "execution_count": 5,
     "metadata": {},
     "output_type": "execute_result"
    }
   ],
   "source": [
    "f_in.readline()"
   ]
  },
  {
   "cell_type": "code",
   "execution_count": 6,
   "metadata": {},
   "outputs": [
    {
     "data": {
      "text/plain": [
       "'aahed\\n'"
      ]
     },
     "execution_count": 6,
     "metadata": {},
     "output_type": "execute_result"
    }
   ],
   "source": [
    "f_in.readline()"
   ]
  },
  {
   "cell_type": "markdown",
   "metadata": {},
   "source": [
    "`readline` 메소드는 몇 번째 줄까지 읽었는지 기억한다.\n",
    "* 몇 번째 줄까지 읽었는가는 오프셋(offset)이란 장치에 저장된다.\n",
    "* 줄의 끝은 줄바꾸기(newline)를 의미하는 문자 '\\n'의 존재여부로 확인한다.\n",
    "    * 줄바꾸기 기호는 엔터키를 누를 때 만들어지지만 보통의 문서 편집기는 보여주지 않는다.\n",
    "    * 하지만 사람 눈에 보이지 않을 뿐 컴퓨터에게는 엔터키가 눌렸다는 정보를 \n",
    "        줄바꾸기 기호로 표시해 둔다.\n",
    "* 위에서 모든 단어의 끝에 줄바꾸기 문자(`\\n`)가 존재함을 볼 수 있다."
   ]
  },
  {
   "cell_type": "markdown",
   "metadata": {},
   "source": [
    "줄바꾸기 문자를 제거하면 보다 자연스럽게 출력할 수 있다.\n",
    "이를 위해 `strip` 이라는 문자열 메소드를 활용하면 된다."
   ]
  },
  {
   "cell_type": "code",
   "execution_count": 7,
   "metadata": {},
   "outputs": [
    {
     "name": "stdout",
     "output_type": "stream",
     "text": [
      "aahing\n"
     ]
    }
   ],
   "source": [
    "line = f_in.readline()\n",
    "word = line.strip()\n",
    "print(word)"
   ]
  },
  {
   "cell_type": "markdown",
   "metadata": {},
   "source": [
    "파일 내용을 `for` 반복 명령문을 이용하여 확인할 수 있다.\n",
    "예를 들어, 아래 프로그램은 `words.txt` 파일에 저장된 모든 단어를 출력한다.\n",
    "\n",
    "**주의:** 아래 코드를 실행하게 되면 113,809개의 단어들이 출력된다.\n",
    "굳이 돌릴 것을 권하지는 않는다."
   ]
  },
  {
   "cell_type": "markdown",
   "metadata": {},
   "source": [
    "```python\n",
    "f_in = open('data/words.txt')\n",
    "for line in fin:\n",
    "    word = line.strip()\n",
    "    print(word)\n",
    "```"
   ]
  },
  {
   "cell_type": "markdown",
   "metadata": {},
   "source": [
    "하지만 아래 코드와 같이 맨 앞에 있는 몇 개의 단어를 확인할 수는 있다.\n",
    "\n",
    "**주의:**\n",
    "* 아래 코드는 다시 첫 단어부터 출력한다.\n",
    "* 이유는 `words.txt` 파일을 다시 읽으면서 오프셋이 0으로 초기화되기 때문이다."
   ]
  },
  {
   "cell_type": "code",
   "execution_count": 8,
   "metadata": {},
   "outputs": [
    {
     "name": "stdout",
     "output_type": "stream",
     "text": [
      "aa\n",
      "aah\n",
      "aahed\n",
      "aahing\n",
      "aahs\n",
      "aal\n",
      "aalii\n",
      "aaliis\n",
      "aals\n",
      "aardvark\n"
     ]
    }
   ],
   "source": [
    "f_in = open('data/words.txt')\n",
    "line_num = 0\n",
    "for line in f_in:\n",
    "    if line_num < 10:\n",
    "        word = line.strip()\n",
    "        print(word)\n",
    "        line_num += 1\n",
    "    else:\n",
    "        break"
   ]
  },
  {
   "cell_type": "markdown",
   "metadata": {},
   "source": [
    "### 파일 내용 한꺼번에 읽기"
   ]
  },
  {
   "cell_type": "markdown",
   "metadata": {},
   "source": [
    "파일 내용 전체를 한꺼번에 리턴하는 두 가지 메소드가 존재한다."
   ]
  },
  {
   "cell_type": "markdown",
   "metadata": {},
   "source": [
    "####  `readlines` 메소드\n",
    "파일에 저장된 내용의 각 줄을 항목으로 갖는 리스트를 리턴한다."
   ]
  },
  {
   "cell_type": "code",
   "execution_count": 9,
   "metadata": {},
   "outputs": [
    {
     "name": "stdout",
     "output_type": "stream",
     "text": [
      "<class 'list'>\n"
     ]
    }
   ],
   "source": [
    "f_in = open('data/words_no_vowels.txt')\n",
    "print(type(f_in.readlines()))\n",
    "f_in.close()"
   ]
  },
  {
   "cell_type": "code",
   "execution_count": 10,
   "metadata": {},
   "outputs": [
    {
     "name": "stdout",
     "output_type": "stream",
     "text": [
      "<class 'str'>\n"
     ]
    }
   ],
   "source": [
    "f_in = open('data/words_no_vowels.txt')\n",
    "print(type(f_in.readlines()[0]))\n",
    "f_in.close()"
   ]
  },
  {
   "cell_type": "code",
   "execution_count": 11,
   "metadata": {},
   "outputs": [
    {
     "name": "stdout",
     "output_type": "stream",
     "text": [
      "['by\\n', 'byrl\\n', 'byrls\\n', 'bys\\n', 'crwth\\n', 'crwths\\n', 'cry\\n', 'crypt\\n', 'crypts\\n', 'cwm\\n', 'cwms\\n', 'cyst\\n', 'cysts\\n', 'dry\\n', 'dryly\\n', 'drys\\n', 'fly\\n', 'flyby\\n', 'flybys\\n', 'flysch\\n', 'fry\\n', 'ghyll\\n', 'ghylls\\n', 'glycyl\\n', 'glycyls\\n', 'glyph\\n', 'glyphs\\n', 'gym\\n', 'gyms\\n', 'gyp\\n', 'gyps\\n', 'gypsy\\n', 'hymn\\n', 'hymns\\n', 'hyp\\n', 'hyps\\n', 'lymph\\n', 'lymphs\\n', 'lynch\\n', 'lynx\\n', 'my\\n', 'myrrh\\n', 'myrrhs\\n', 'myth\\n', 'myths\\n', 'nth\\n', 'nymph\\n', 'nymphs\\n', 'phpht\\n', 'pht\\n', 'ply\\n', 'pry\\n', 'psst\\n', 'psych\\n', 'psychs\\n', 'pygmy\\n', 'pyx\\n', 'rhythm\\n', 'rhythms\\n', 'rynd\\n', 'rynds\\n', 'sh\\n', 'shh\\n', 'shy\\n', 'shyly\\n', 'sky\\n', 'sly\\n', 'slyly\\n', 'spry\\n', 'spryly\\n', 'spy\\n', 'sty\\n', 'stymy\\n', 'sylph\\n', 'sylphs\\n', 'sylphy\\n', 'syn\\n', 'sync\\n', 'synch\\n', 'synchs\\n', 'syncs\\n', 'syzygy\\n', 'thy\\n', 'thymy\\n', 'try\\n', 'tryst\\n', 'trysts\\n', 'tsk\\n', 'tsks\\n', 'tsktsk\\n', 'tsktsks\\n', 'typp\\n', 'typps\\n', 'typy\\n', 'why\\n', 'whys\\n', 'wry\\n', 'wryly\\n', 'wych\\n', 'wynd\\n', 'wynds\\n', 'wynn\\n', 'wynns\\n', 'xylyl\\n', 'xylyls\\n', 'xyst\\n', 'xysts\\n', '한줄 추가하기\\n', '한줄 더 추가하기\\n']\n"
     ]
    }
   ],
   "source": [
    "f_in = open('data/words_no_vowels.txt')\n",
    "print(f_in.readlines())\n",
    "f_in.close()"
   ]
  },
  {
   "cell_type": "markdown",
   "metadata": {},
   "source": [
    "#### `read` 메소드\n",
    "파일에 저장된 내용 전체를 하나의 문자열로 리턴한다."
   ]
  },
  {
   "cell_type": "code",
   "execution_count": 12,
   "metadata": {},
   "outputs": [
    {
     "name": "stdout",
     "output_type": "stream",
     "text": [
      "<class 'str'>\n"
     ]
    }
   ],
   "source": [
    "f_in = open('data/words_no_vowels.txt')\n",
    "print(type(f_in.read()))\n",
    "f_in.close()"
   ]
  },
  {
   "cell_type": "code",
   "execution_count": 13,
   "metadata": {},
   "outputs": [
    {
     "name": "stdout",
     "output_type": "stream",
     "text": [
      "by\n",
      "byrl\n",
      "byrls\n",
      "bys\n",
      "crwth\n",
      "crwths\n",
      "cry\n",
      "crypt\n",
      "crypts\n",
      "cwm\n",
      "cwms\n",
      "cyst\n",
      "cysts\n",
      "dry\n",
      "dryly\n",
      "drys\n",
      "fly\n",
      "flyby\n",
      "flybys\n",
      "flysch\n",
      "fry\n",
      "ghyll\n",
      "ghylls\n",
      "glycyl\n",
      "glycyls\n",
      "glyph\n",
      "glyphs\n",
      "gym\n",
      "gyms\n",
      "gyp\n",
      "gyps\n",
      "gypsy\n",
      "hymn\n",
      "hymns\n",
      "hyp\n",
      "hyps\n",
      "lymph\n",
      "lymphs\n",
      "lynch\n",
      "lynx\n",
      "my\n",
      "myrrh\n",
      "myrrhs\n",
      "myth\n",
      "myths\n",
      "nth\n",
      "nymph\n",
      "nymphs\n",
      "phpht\n",
      "pht\n",
      "ply\n",
      "pry\n",
      "psst\n",
      "psych\n",
      "psychs\n",
      "pygmy\n",
      "pyx\n",
      "rhythm\n",
      "rhythms\n",
      "rynd\n",
      "rynds\n",
      "sh\n",
      "shh\n",
      "shy\n",
      "shyly\n",
      "sky\n",
      "sly\n",
      "slyly\n",
      "spry\n",
      "spryly\n",
      "spy\n",
      "sty\n",
      "stymy\n",
      "sylph\n",
      "sylphs\n",
      "sylphy\n",
      "syn\n",
      "sync\n",
      "synch\n",
      "synchs\n",
      "syncs\n",
      "syzygy\n",
      "thy\n",
      "thymy\n",
      "try\n",
      "tryst\n",
      "trysts\n",
      "tsk\n",
      "tsks\n",
      "tsktsk\n",
      "tsktsks\n",
      "typp\n",
      "typps\n",
      "typy\n",
      "why\n",
      "whys\n",
      "wry\n",
      "wryly\n",
      "wych\n",
      "wynd\n",
      "wynds\n",
      "wynn\n",
      "wynns\n",
      "xylyl\n",
      "xylyls\n",
      "xyst\n",
      "xysts\n",
      "한줄 추가하기\n",
      "한줄 더 추가하기\n",
      "\n"
     ]
    }
   ],
   "source": [
    "f_in = open('data/words_no_vowels.txt')\n",
    "print(f_in.read())\n",
    "f_in.close()"
   ]
  },
  {
   "cell_type": "markdown",
   "metadata": {},
   "source": [
    "`print` 함수는 `\\n` 과 같은 특수 문자를 보여주는 대신에 특수 문자의 기능을 수행하면서 문자열을 출력한다.\n",
    "특수 문자들의 기능을 제거한 채로 출력하기 위해 `repr` 함수를 용용하면 된다."
   ]
  },
  {
   "cell_type": "code",
   "execution_count": 14,
   "metadata": {},
   "outputs": [
    {
     "name": "stdout",
     "output_type": "stream",
     "text": [
      "'by\\nbyrl\\nbyrls\\nbys\\ncrwth\\ncrwths\\ncry\\ncrypt\\ncrypts\\ncwm\\ncwms\\ncyst\\ncysts\\ndry\\ndryly\\ndrys\\nfly\\nflyby\\nflybys\\nflysch\\nfry\\nghyll\\nghylls\\nglycyl\\nglycyls\\nglyph\\nglyphs\\ngym\\ngyms\\ngyp\\ngyps\\ngypsy\\nhymn\\nhymns\\nhyp\\nhyps\\nlymph\\nlymphs\\nlynch\\nlynx\\nmy\\nmyrrh\\nmyrrhs\\nmyth\\nmyths\\nnth\\nnymph\\nnymphs\\nphpht\\npht\\nply\\npry\\npsst\\npsych\\npsychs\\npygmy\\npyx\\nrhythm\\nrhythms\\nrynd\\nrynds\\nsh\\nshh\\nshy\\nshyly\\nsky\\nsly\\nslyly\\nspry\\nspryly\\nspy\\nsty\\nstymy\\nsylph\\nsylphs\\nsylphy\\nsyn\\nsync\\nsynch\\nsynchs\\nsyncs\\nsyzygy\\nthy\\nthymy\\ntry\\ntryst\\ntrysts\\ntsk\\ntsks\\ntsktsk\\ntsktsks\\ntypp\\ntypps\\ntypy\\nwhy\\nwhys\\nwry\\nwryly\\nwych\\nwynd\\nwynds\\nwynn\\nwynns\\nxylyl\\nxylyls\\nxyst\\nxysts\\n한줄 추가하기\\n한줄 더 추가하기\\n'\n"
     ]
    }
   ],
   "source": [
    "f_in = open('data/words_no_vowels.txt')\n",
    "print(repr(f_in.read()))"
   ]
  },
  {
   "cell_type": "markdown",
   "metadata": {},
   "source": [
    "## 새 파일에 쓰기"
   ]
  },
  {
   "cell_type": "markdown",
   "metadata": {},
   "source": [
    "* 새 파일을 생성한 후에 내용을 적어 넣으려면 `open` 함수를 쓰기 모드(w-모드)를 이용하여 아래 형식으로 호출하면 된다.\n",
    "```python\n",
    "open(\"파일경로를포함한파일이름\", 'w')\n",
    "```\n",
    "    * **주의:** 쓰기기능을 포함하여 `open` 함수를 호출할 때 기존에 있는 파일이름을 사용하면\n",
    "        해당 파일내용이 삭제됨에 주의해야 한다."
   ]
  },
  {
   "cell_type": "markdown",
   "metadata": {},
   "source": [
    "* 생성된 파일에 내용을 추가하려면 파일 클래스의 `write` 메소드를 아래 형식으로 활용한다.\n",
    "```python\n",
    "파일객체.write(추가내용)\n",
    "```"
   ]
  },
  {
   "cell_type": "markdown",
   "metadata": {},
   "source": [
    "* 생성된 파일에 내용추가하기가 종료되었으면 해당 파일객체를 닫아야 한다.\n",
    "    그렇지 않으면 다른 내용이 임의로 추가될 수 있다.\n",
    "```python\n",
    "파일객체.close()\n",
    "```"
   ]
  },
  {
   "cell_type": "markdown",
   "metadata": {},
   "source": [
    "### 예제\n",
    "\n",
    "현재 디렉토리의 하위 디렉토리인 `data`에 `words_no_vowels.txt` 라는 파일을 생성한 후에\n",
    "`words.txt` 파일에 포함된 단어 중에서 모음을 전혀 포함하지 않는 단어들만 저장하고자 한다."
   ]
  },
  {
   "cell_type": "markdown",
   "metadata": {},
   "source": [
    "먼저, 문자열에 모음이 사용되었는지 여부를 검사해야 한다.\n",
    "이를 위해 아래 기능을 갖는 `avoids` 함수를 구현하여 이용한다.\n",
    "* 두 개의 문자열 인자를 입력받는다.\n",
    "* 첫째 인자로 입력된 문자열에 둘째 인자로 입력된 문자열에 포함된 어떤 문자도 \n",
    "    포함되지 않았을 경우 `True`를 리턴한다."
   ]
  },
  {
   "cell_type": "code",
   "execution_count": 15,
   "metadata": {},
   "outputs": [],
   "source": [
    "def avoids(word, forbidden):\n",
    "    for letter in word:\n",
    "        if letter in forbidden:\n",
    "            return False\n",
    "    return True"
   ]
  },
  {
   "cell_type": "markdown",
   "metadata": {},
   "source": [
    "이제 `avoids` 함수를 이용하여 `words.txt` 파일에 포함된 단어들 중에서 \n",
    "모음을 포함하지 않는 단어들만 `words_no_vowels.txt` 파일에 저장한다.\n",
    "\n",
    "**힌트:**\n",
    "* `open` 함수의 리턴값인 파일 객체의 `write` 메소드를 활용한다."
   ]
  },
  {
   "cell_type": "code",
   "execution_count": 16,
   "metadata": {},
   "outputs": [],
   "source": [
    "# words.txt 파일을 읽기 전용으로 열기\n",
    "f_in = open('data/words.txt')\n",
    "\n",
    "# words_no_vowels.txt 파일 생성 (쓰기 기능 포함)\n",
    "f_out = open('data/words_no_vowels.txt', 'w')\n",
    "\n",
    "# words.txt에 포함된 각 단어들 검사\n",
    "for line in f_in:\n",
    "    if avoids(line, 'aeiou'):   # 모음 포함 여부 판단\n",
    "        f_out.write(line)\n",
    "    else:\n",
    "        continue\n",
    "\n",
    "# 파일 내용 추가가 완료되면 닫아 주어야 한다.\n",
    "f_in.close()\n",
    "f_out.close()"
   ]
  },
  {
   "cell_type": "markdown",
   "metadata": {},
   "source": [
    "모음을 포함하지 않은 단어들의 개수를 알아내기 위해 아래와 같이 코드를 약간 수정할 수 있다."
   ]
  },
  {
   "cell_type": "code",
   "execution_count": 17,
   "metadata": {},
   "outputs": [
    {
     "name": "stdout",
     "output_type": "stream",
     "text": [
      "모음을 포함하지 않는 단어의 개수: 107\n"
     ]
    }
   ],
   "source": [
    "f_in = open('data/words.txt')\n",
    "f_out = open('data/words_no_vowels.txt', 'w')\n",
    "\n",
    "# 모음 없는 단어 개수 세기\n",
    "count = 0\n",
    "for line in f_in:\n",
    "    if avoids(line, 'aeiou'):\n",
    "        f_out.write(line)\n",
    "        count += 1\n",
    "    else:\n",
    "        continue\n",
    "\n",
    "print(\"모음을 포함하지 않는 단어의 개수:\", count)\n",
    "f_in.close()\n",
    "f_out.close()"
   ]
  },
  {
   "cell_type": "markdown",
   "metadata": {},
   "source": [
    "## 기존 파일에 내용 추가하기"
   ]
  },
  {
   "cell_type": "markdown",
   "metadata": {},
   "source": [
    "기존에 존재하는 파일에 내용을 추가하고자 할 때는 추가하기 모드(a-모드)로 파일을 열어야 한다."
   ]
  },
  {
   "cell_type": "code",
   "execution_count": 18,
   "metadata": {},
   "outputs": [],
   "source": [
    "f_add = open('data/words_no_vowels.txt', 'a')\n",
    "f_add.write(\"한줄 추가하기\\n\")\n",
    "f_add.write(\"한줄 더 추가하기\\n\")\n",
    "f_add.close()"
   ]
  },
  {
   "cell_type": "markdown",
   "metadata": {},
   "source": [
    "## 파일명과 경로"
   ]
  },
  {
   "cell_type": "markdown",
   "metadata": {},
   "source": [
    "파일들은 디렉터리(폴더”라고도 부름) 안에 저장된다. \n",
    "또한 실행중인 모든 프로그램은 **현재 작업 디렉토리**를 가지며 경우에 따라\n",
    "현재 작업 디렉터리가 기본 옵션으로 사용된다. \n",
    "\n",
    "예제:\n",
    "* 파일을 다루어야 할 때 현재 작업 디렉토리를 기준으로 파일을 찾는다. "
   ]
  },
  {
   "cell_type": "markdown",
   "metadata": {},
   "source": [
    "### 디렉토리 다루기"
   ]
  },
  {
   "cell_type": "markdown",
   "metadata": {},
   "source": [
    "현재 작업 디렉토리의 위치에 대한 정보를 확인하거나 변경하고자 한다면 `os` 모듈에서 제공하는 다양한 함수들을 활용한다. \n",
    "\n",
    "* `os`는 운영체제(operating system)의 줄임말임.\n",
    "\n",
    "예를 들어, `getcwd`는 현재 작업 디렉터리의 이름을 문자열로 리턴한다.\n",
    "\n",
    "* `cwd`는 현재 작업 디렉토리(current working directory)의 줄임말임."
   ]
  },
  {
   "cell_type": "code",
   "execution_count": 19,
   "metadata": {},
   "outputs": [
    {
     "name": "stdout",
     "output_type": "stream",
     "text": [
      "/Users/gslee/Documents/GitHub/bpp/notes\n"
     ]
    }
   ],
   "source": [
    "import os\n",
    "cwd = os.getcwd()\n",
    "print(cwd)"
   ]
  },
  {
   "cell_type": "markdown",
   "metadata": {},
   "source": [
    "#### 절대경로와 상대경로"
   ]
  },
  {
   "cell_type": "markdown",
   "metadata": {},
   "source": [
    "`cwd`처럼 파일이 저장된 디렉토리의 위치를 알려주는 정보를 **경로(path)**라고 부른다. \n",
    "\n",
    "경로를 설정하는 기준이 두 가지 있다.\n",
    "\n",
    "* 상대경로: 현재 작업 디렉토리를 기준으로 파일과 디렉토리의 위치 결정\n",
    "    * 예제: 앞서 사용한 `data/words.txt`는 현재 작업토리를 기준으로 하여 정해진\n",
    "        상대경로이다. 즉, 현재 작업 디렉토리에 포함된 `data`라는 \n",
    "        디렉토리 안에 있는 `words.txt`를 가리킨다.\n",
    "    * 점(`.`)은 현재 작업 디렉토리를 가리킨다.\n",
    "    * 점 두개(`..`)의 현재 작업 디렉토리의 한 단계 상위 디렉토리를 가리킨다.\n",
    "    <br><br>\n",
    "* 절대경로: 사용하는 운영체제 파일 시스템 상에서 최상단 디렉토리를 \n",
    "    기준으로 파일과 디렉토리의 위치 결정\n",
    "    * 예제: `getcwd` 함수의 리턴값은 상대경로이다.\n",
    "        * 윈도우의 경우: `C:\\Users\\nega\\Documents\\GitHub\\bpp\\notes`\n",
    "        * 맥 또는 리눅스 경우: `/Users/gslee/Documents/GitHub/bpp/notes`\n",
    "\n",
    "**주의:** 윈도우 운영체제에서 역슬래시('\\')는 원화기호('&#8361;')로 표시됨."
   ]
  },
  {
   "cell_type": "markdown",
   "metadata": {},
   "source": [
    "#### 경로 확인하기"
   ]
  },
  {
   "cell_type": "markdown",
   "metadata": {},
   "source": [
    "* `os.path.abspath`: 특정 파일의 절대경로를 찾기 위해 사용"
   ]
  },
  {
   "cell_type": "code",
   "execution_count": 20,
   "metadata": {},
   "outputs": [
    {
     "data": {
      "text/plain": [
       "'/Users/gslee/Documents/GitHub/bpp/notes/data/words.txt'"
      ]
     },
     "execution_count": 20,
     "metadata": {},
     "output_type": "execute_result"
    }
   ],
   "source": [
    "os.path.abspath('data/words.txt')"
   ]
  },
  {
   "cell_type": "markdown",
   "metadata": {},
   "source": [
    "* `os.path.exists`: 특정 파일 또는 디렉토리의 존재여부 확인\n",
    "    * 절대경로 또는 상대경로 이용"
   ]
  },
  {
   "cell_type": "code",
   "execution_count": 21,
   "metadata": {},
   "outputs": [
    {
     "data": {
      "text/plain": [
       "False"
      ]
     },
     "execution_count": 21,
     "metadata": {},
     "output_type": "execute_result"
    }
   ],
   "source": [
    "os.path.exists('words.txt')"
   ]
  },
  {
   "cell_type": "code",
   "execution_count": 22,
   "metadata": {},
   "outputs": [
    {
     "data": {
      "text/plain": [
       "True"
      ]
     },
     "execution_count": 22,
     "metadata": {},
     "output_type": "execute_result"
    }
   ],
   "source": [
    "os.path.exists('data/words.txt')"
   ]
  },
  {
   "cell_type": "code",
   "execution_count": 23,
   "metadata": {},
   "outputs": [
    {
     "data": {
      "text/plain": [
       "True"
      ]
     },
     "execution_count": 23,
     "metadata": {},
     "output_type": "execute_result"
    }
   ],
   "source": [
    "os.path.exists('/Users/gslee/Documents/GitHub/bpp/notes/data/words.txt')"
   ]
  },
  {
   "cell_type": "markdown",
   "metadata": {},
   "source": [
    "* `os.path.isdir`: 디렉토리 존재 확인\n",
    "    * 절대경로 또는 상대경로 이용"
   ]
  },
  {
   "cell_type": "code",
   "execution_count": 24,
   "metadata": {},
   "outputs": [
    {
     "data": {
      "text/plain": [
       "False"
      ]
     },
     "execution_count": 24,
     "metadata": {},
     "output_type": "execute_result"
    }
   ],
   "source": [
    "os.path.isdir('music')"
   ]
  },
  {
   "cell_type": "code",
   "execution_count": 25,
   "metadata": {},
   "outputs": [
    {
     "data": {
      "text/plain": [
       "True"
      ]
     },
     "execution_count": 25,
     "metadata": {},
     "output_type": "execute_result"
    }
   ],
   "source": [
    "os.path.isdir('data')"
   ]
  },
  {
   "cell_type": "code",
   "execution_count": 26,
   "metadata": {},
   "outputs": [
    {
     "data": {
      "text/plain": [
       "True"
      ]
     },
     "execution_count": 26,
     "metadata": {},
     "output_type": "execute_result"
    }
   ],
   "source": [
    "os.path.isdir('/Users/gslee/Documents/GitHub/bpp/notes/data')"
   ]
  },
  {
   "cell_type": "markdown",
   "metadata": {},
   "source": [
    "* `os.path.isfile`: 파일 존재 확인"
   ]
  },
  {
   "cell_type": "code",
   "execution_count": 27,
   "metadata": {},
   "outputs": [
    {
     "data": {
      "text/plain": [
       "True"
      ]
     },
     "execution_count": 27,
     "metadata": {},
     "output_type": "execute_result"
    }
   ],
   "source": [
    "os.path.isfile('data/words.txt')"
   ]
  },
  {
   "cell_type": "code",
   "execution_count": 28,
   "metadata": {},
   "outputs": [
    {
     "data": {
      "text/plain": [
       "True"
      ]
     },
     "execution_count": 28,
     "metadata": {},
     "output_type": "execute_result"
    }
   ],
   "source": [
    "os.path.isfile('/Users/gslee/Documents/GitHub/bpp/notes/data/words.txt')"
   ]
  },
  {
   "cell_type": "markdown",
   "metadata": {},
   "source": [
    "* `os.listdir`: 지정된 디렉토리에 포함된 파일 및 하위 디렉토리의 리스트를 리턴함"
   ]
  },
  {
   "cell_type": "code",
   "execution_count": 29,
   "metadata": {},
   "outputs": [
    {
     "data": {
      "text/plain": [
       "['05-ThinkPython-Hashes.ipynb',\n",
       " '03-ThinkPython-Functions.ipynb',\n",
       " 'images',\n",
       " '02-ThinkPython-Strings.ipynb',\n",
       " '00-Introduction.ipynb',\n",
       " '02-HFProgramming-Textual-Data.ipynb',\n",
       " '05-hash_database.ipynb',\n",
       " '06-ThinkPython-Modules.ipynb',\n",
       " '04-ThinkPython-Lists_and_Tuples.ipynb',\n",
       " '04-ThinkPython-Files.ipynb',\n",
       " '04-HFProgramming-Data_in_Files_and_Arrays.ipynb',\n",
       " '01-ThinkPython-Variables_Expressions_Statements.ipynb',\n",
       " '.ipynb_checkpoints',\n",
       " '03-HFProgamming-Functions.ipynb',\n",
       " 'data',\n",
       " 'output.txt',\n",
       " '01-HFProgramming-Start-programming.ipynb']"
      ]
     },
     "execution_count": 29,
     "metadata": {},
     "output_type": "execute_result"
    }
   ],
   "source": [
    "os.listdir(cwd)"
   ]
  },
  {
   "cell_type": "markdown",
   "metadata": {},
   "source": [
    "이 함수들을 예시하기 위해, 다음 예는 디렉터리를 “탐색(walk)”하면서 모든 파일들의 이름을 인쇄하고, 모든 디렉터리들에 대해 재귀적으로 자신을 호출합니다.\n",
    "\n",
    "* `os.path.join`: 디렉토리 경로와 파일 이름을 받아서 온전한 경로로 결합한다."
   ]
  },
  {
   "cell_type": "code",
   "execution_count": 30,
   "metadata": {},
   "outputs": [],
   "source": [
    "def walk(dirname):\n",
    "    for name in os.listdir(dirname):\n",
    "        path = os.path.join(dirname, name)\n",
    "\n",
    "        if os.path.isfile(path):\n",
    "            print(path)\n",
    "        else:\n",
    "            walk(path)"
   ]
  },
  {
   "cell_type": "markdown",
   "metadata": {},
   "source": [
    "현재 작업 디렉토리에 포함된 파일이 하위 디렉토리 전체 내용은 다음과 같다."
   ]
  },
  {
   "cell_type": "code",
   "execution_count": 31,
   "metadata": {},
   "outputs": [
    {
     "name": "stdout",
     "output_type": "stream",
     "text": [
      "./05-ThinkPython-Hashes.ipynb\n",
      "./03-ThinkPython-Functions.ipynb\n",
      "./images/fun_call.png\n",
      "./images/fun_name.png\n",
      "./images/how-to-think.jpg\n",
      "./images/thinkpython001.png\n",
      "./images/metacognition.jpg\n",
      "./images/thinkpython002.png\n",
      "./images/pythontutor01.png\n",
      "./images/words.png\n",
      "./images/beans01.png\n",
      "./images/beans03.png\n",
      "./images/pythontutor02.png\n",
      "./images/pythontutor03.png\n",
      "./images/beans02.png\n",
      "./images/fun_print.png\n",
      "./images/pythontutor06.png\n",
      "./images/pythontutor04.png\n",
      "./images/pythontutor05.png\n",
      "./images/local_var06.png\n",
      "./images/local_var07.png\n",
      "./images/while.jpg\n",
      "./images/local_var05.png\n",
      "./images/if-else.jpg\n",
      "./images/local_var04.png\n",
      "./images/interpreter.jpg\n",
      "./images/compiler.png\n",
      "./images/local_var01.png\n",
      "./images/coffee-beans05.jpg\n",
      "./images/local_var03.png\n",
      "./images/fun_pure.png\n",
      "./images/tiobe.png\n",
      "./images/local_var02.png\n",
      "./images/coffee-beans04.jpg\n",
      "./02-ThinkPython-Strings.ipynb\n",
      "./00-Introduction.ipynb\n",
      "./02-HFProgramming-Textual-Data.ipynb\n",
      "./05-hash_database.ipynb\n",
      "./06-ThinkPython-Modules.ipynb\n",
      "./04-ThinkPython-Lists_and_Tuples.ipynb\n",
      "./04-ThinkPython-Files.ipynb\n",
      "./04-HFProgramming-Data_in_Files_and_Arrays.ipynb\n",
      "./01-ThinkPython-Variables_Expressions_Statements.ipynb\n",
      "./.ipynb_checkpoints/01-HFProgramming-Start-programming-checkpoint.ipynb\n",
      "./.ipynb_checkpoints/05-ThinkPython-Hashes-checkpoint.ipynb\n",
      "./.ipynb_checkpoints/04-HFProgramming-Data_in_Files_and_Arrays-checkpoint.ipynb\n",
      "./.ipynb_checkpoints/06-ThinkPython-Modules-checkpoint.ipynb\n",
      "./.ipynb_checkpoints/00-Introduction-checkpoint.ipynb\n",
      "./.ipynb_checkpoints/04-ThinkPython-Files-checkpoint.ipynb\n",
      "./.ipynb_checkpoints/02-ThinkPython-Strings-checkpoint.ipynb\n",
      "./.ipynb_checkpoints/02-HFProgramming-Textual-Data-checkpoint.ipynb\n",
      "./.ipynb_checkpoints/03-HFProgamming-Functions-checkpoint.ipynb\n",
      "./.ipynb_checkpoints/01-ThinkPython-Variables_Expressions_Statements-checkpoint.ipynb\n",
      "./.ipynb_checkpoints/03-ThinkPython-Functions-checkpoint.ipynb\n",
      "./.ipynb_checkpoints/04-ThinkPython-Lists_and_Tuples-checkpoint.ipynb\n",
      "./03-HFProgamming-Functions.ipynb\n",
      "./data/words_no_vowels.txt\n",
      "./data/words.txt\n",
      "./output.txt\n",
      "./01-HFProgramming-Start-programming.ipynb\n"
     ]
    }
   ],
   "source": [
    "walk('.')"
   ]
  },
  {
   "cell_type": "markdown",
   "metadata": {},
   "source": [
    "### 예제\n",
    "\n",
    "`os` 모듈에 `walk`라는 함수가 이미 정의되어 있으며, 앞서 정의된 `walk` 함수보다\n",
    "많은 정보를 제공한다.\n",
    "\n",
    "예를 들어, 아래 함수 `walk2`는 `walk`와 동일한 일을 한다.\n",
    "대신에 `os.walk` 함수를 활용하였다."
   ]
  },
  {
   "cell_type": "code",
   "execution_count": 32,
   "metadata": {},
   "outputs": [],
   "source": [
    "def walk2(dirname):\n",
    "    for root, dirs, files in os.walk(dirname):\n",
    "        for filename in files:\n",
    "            print(os.path.join(root, filename))"
   ]
  },
  {
   "cell_type": "code",
   "execution_count": 33,
   "metadata": {},
   "outputs": [
    {
     "name": "stdout",
     "output_type": "stream",
     "text": [
      "./05-ThinkPython-Hashes.ipynb\n",
      "./03-ThinkPython-Functions.ipynb\n",
      "./02-ThinkPython-Strings.ipynb\n",
      "./00-Introduction.ipynb\n",
      "./02-HFProgramming-Textual-Data.ipynb\n",
      "./05-hash_database.ipynb\n",
      "./06-ThinkPython-Modules.ipynb\n",
      "./04-ThinkPython-Lists_and_Tuples.ipynb\n",
      "./04-ThinkPython-Files.ipynb\n",
      "./04-HFProgramming-Data_in_Files_and_Arrays.ipynb\n",
      "./01-ThinkPython-Variables_Expressions_Statements.ipynb\n",
      "./03-HFProgamming-Functions.ipynb\n",
      "./output.txt\n",
      "./01-HFProgramming-Start-programming.ipynb\n",
      "./images/fun_call.png\n",
      "./images/fun_name.png\n",
      "./images/how-to-think.jpg\n",
      "./images/thinkpython001.png\n",
      "./images/metacognition.jpg\n",
      "./images/thinkpython002.png\n",
      "./images/pythontutor01.png\n",
      "./images/words.png\n",
      "./images/beans01.png\n",
      "./images/beans03.png\n",
      "./images/pythontutor02.png\n",
      "./images/pythontutor03.png\n",
      "./images/beans02.png\n",
      "./images/fun_print.png\n",
      "./images/pythontutor06.png\n",
      "./images/pythontutor04.png\n",
      "./images/pythontutor05.png\n",
      "./images/local_var06.png\n",
      "./images/local_var07.png\n",
      "./images/while.jpg\n",
      "./images/local_var05.png\n",
      "./images/if-else.jpg\n",
      "./images/local_var04.png\n",
      "./images/interpreter.jpg\n",
      "./images/compiler.png\n",
      "./images/local_var01.png\n",
      "./images/coffee-beans05.jpg\n",
      "./images/local_var03.png\n",
      "./images/fun_pure.png\n",
      "./images/tiobe.png\n",
      "./images/local_var02.png\n",
      "./images/coffee-beans04.jpg\n",
      "./.ipynb_checkpoints/01-HFProgramming-Start-programming-checkpoint.ipynb\n",
      "./.ipynb_checkpoints/05-ThinkPython-Hashes-checkpoint.ipynb\n",
      "./.ipynb_checkpoints/04-HFProgramming-Data_in_Files_and_Arrays-checkpoint.ipynb\n",
      "./.ipynb_checkpoints/06-ThinkPython-Modules-checkpoint.ipynb\n",
      "./.ipynb_checkpoints/00-Introduction-checkpoint.ipynb\n",
      "./.ipynb_checkpoints/04-ThinkPython-Files-checkpoint.ipynb\n",
      "./.ipynb_checkpoints/02-ThinkPython-Strings-checkpoint.ipynb\n",
      "./.ipynb_checkpoints/02-HFProgramming-Textual-Data-checkpoint.ipynb\n",
      "./.ipynb_checkpoints/03-HFProgamming-Functions-checkpoint.ipynb\n",
      "./.ipynb_checkpoints/01-ThinkPython-Variables_Expressions_Statements-checkpoint.ipynb\n",
      "./.ipynb_checkpoints/03-ThinkPython-Functions-checkpoint.ipynb\n",
      "./.ipynb_checkpoints/04-ThinkPython-Lists_and_Tuples-checkpoint.ipynb\n",
      "./data/words_no_vowels.txt\n",
      "./data/words.txt\n"
     ]
    }
   ],
   "source": [
    "walk2('.')"
   ]
  },
  {
   "cell_type": "markdown",
   "metadata": {},
   "source": [
    "## 예외 처리"
   ]
  },
  {
   "cell_type": "markdown",
   "metadata": {},
   "source": [
    "파일을 읽거나 작성하려고 할 때 종종 오류가 발생한다. \n",
    "\n",
    "* 'FileNotFoundError': 존재하지 않은 파일을 읽으려 할 때 발생"
   ]
  },
  {
   "cell_type": "code",
   "execution_count": 34,
   "metadata": {},
   "outputs": [
    {
     "ename": "FileNotFoundError",
     "evalue": "[Errno 2] No such file or directory: 'bad_file'",
     "output_type": "error",
     "traceback": [
      "\u001b[0;31m---------------------------------------------------------------------------\u001b[0m",
      "\u001b[0;31mFileNotFoundError\u001b[0m                         Traceback (most recent call last)",
      "\u001b[0;32m<ipython-input-34-a7d7d7ad396b>\u001b[0m in \u001b[0;36m<module>\u001b[0;34m()\u001b[0m\n\u001b[0;32m----> 1\u001b[0;31m \u001b[0mfin\u001b[0m \u001b[0;34m=\u001b[0m \u001b[0mopen\u001b[0m\u001b[0;34m(\u001b[0m\u001b[0;34m'bad_file'\u001b[0m\u001b[0;34m)\u001b[0m\u001b[0;34m\u001b[0m\u001b[0m\n\u001b[0m",
      "\u001b[0;31mFileNotFoundError\u001b[0m: [Errno 2] No such file or directory: 'bad_file'"
     ]
    }
   ],
   "source": [
    "fin = open('bad_file')"
   ]
  },
  {
   "cell_type": "markdown",
   "metadata": {},
   "source": [
    "* `PermissionError`: 접근 또는 수정 권한이 없는 파일을 다루고자 할 때 발생"
   ]
  },
  {
   "cell_type": "code",
   "execution_count": 35,
   "metadata": {},
   "outputs": [
    {
     "ename": "PermissionError",
     "evalue": "[Errno 13] Permission denied: '/etc/passwd'",
     "output_type": "error",
     "traceback": [
      "\u001b[0;31m---------------------------------------------------------------------------\u001b[0m",
      "\u001b[0;31mPermissionError\u001b[0m                           Traceback (most recent call last)",
      "\u001b[0;32m<ipython-input-35-8a9adb191927>\u001b[0m in \u001b[0;36m<module>\u001b[0;34m()\u001b[0m\n\u001b[0;32m----> 1\u001b[0;31m \u001b[0mfout\u001b[0m \u001b[0;34m=\u001b[0m \u001b[0mopen\u001b[0m\u001b[0;34m(\u001b[0m\u001b[0;34m'/etc/passwd'\u001b[0m\u001b[0;34m,\u001b[0m \u001b[0;34m'w'\u001b[0m\u001b[0;34m)\u001b[0m\u001b[0;34m\u001b[0m\u001b[0m\n\u001b[0m",
      "\u001b[0;31mPermissionError\u001b[0m: [Errno 13] Permission denied: '/etc/passwd'"
     ]
    }
   ],
   "source": [
    "fout = open('/etc/passwd', 'w')"
   ]
  },
  {
   "cell_type": "markdown",
   "metadata": {},
   "source": [
    "* `IsADirectoryError`: 디렉토리를 읽으려 할 때"
   ]
  },
  {
   "cell_type": "code",
   "execution_count": 36,
   "metadata": {},
   "outputs": [
    {
     "ename": "IsADirectoryError",
     "evalue": "[Errno 21] Is a directory: '.'",
     "output_type": "error",
     "traceback": [
      "\u001b[0;31m---------------------------------------------------------------------------\u001b[0m",
      "\u001b[0;31mIsADirectoryError\u001b[0m                         Traceback (most recent call last)",
      "\u001b[0;32m<ipython-input-36-e8d340216767>\u001b[0m in \u001b[0;36m<module>\u001b[0;34m()\u001b[0m\n\u001b[0;32m----> 1\u001b[0;31m \u001b[0mfin\u001b[0m \u001b[0;34m=\u001b[0m \u001b[0mopen\u001b[0m\u001b[0;34m(\u001b[0m\u001b[0;34m'.'\u001b[0m\u001b[0;34m)\u001b[0m\u001b[0;34m\u001b[0m\u001b[0m\n\u001b[0m",
      "\u001b[0;31mIsADirectoryError\u001b[0m: [Errno 21] Is a directory: '.'"
     ]
    }
   ],
   "source": [
    "fin = open('.')"
   ]
  },
  {
   "cell_type": "markdown",
   "metadata": {},
   "source": [
    "이렇게 오류가 많이 발생할 수 있다는 점에 대해 대비하는 것이 필요하다.\n",
    "예를 들어, `try ... except ...` 명령문을 이용할 수 있으며, \n",
    "`if ... else ...` 명령문과 유사하게 실행된다.\n",
    "\n",
    "* `try` 구절을 먼저 실행한다.\n",
    "* 문제가 없다면 except 구절을 건너뛴다. \n",
    "* 만약 오류가 발생하면, except 구절을 실행한다."
   ]
  },
  {
   "cell_type": "markdown",
   "metadata": {},
   "source": [
    "### 예제 \n",
    "아래 코드는 존재하지 않은 파일을 열 때 오류가 발생할 것을 대비한 코드이다."
   ]
  },
  {
   "cell_type": "code",
   "execution_count": 37,
   "metadata": {},
   "outputs": [
    {
     "name": "stdout",
     "output_type": "stream",
     "text": [
      "파일을 열고자 할 때 문제가 있습니다.\n"
     ]
    }
   ],
   "source": [
    "try:\n",
    "    fin = open('bad_file')\n",
    "    for line in fin:\n",
    "        print(line)\n",
    "    fin.close()\n",
    "except:\n",
    "    print(\"파일을 열고자 할 때 문제가 있습니다.\")"
   ]
  },
  {
   "cell_type": "markdown",
   "metadata": {},
   "source": [
    "## 연습문제"
   ]
  },
  {
   "cell_type": "markdown",
   "metadata": {},
   "source": [
    "1. `words.txt` 파일에 저장된 단어들 중에서 줄바꾸기 문자를 제외한 문자열의 길이가\n",
    "    20 이상인 단어들만 출력하는 프로그램을 작성하라.\n",
    "    <br><br>    \n",
    "1. 1. 아래 기능을 수행하는 함수 `has_no_e` 라는 함수를 구현하라.\n",
    "        * 하나의 문자열을 인자로 입력받는다.\n",
    "        * 인자로 입력된 영어 문자열에 알파벳 `e`가 포함되지 않았을 경우 `True`를 리턴한다.\n",
    "            <br><br>\n",
    "   1. `words.txt` 파일에 포함된 단어들 중에서\n",
    "    알파벳 `e`를 포함하지 않은 단어만 출력하는 프로그램을 작성하라.\n",
    "    <br><br>    \n",
    "1. 1. 본문에서 구현한 `avoids` 함수를 이용하여 다음 기능을 수행하는 프로그램을 구현하라.\n",
    "        * 사용자로부터 `input` 함수를 이용하여 영어 알파벳 문자열을 입력받는다.\n",
    "        * `words.txt` 파일에 포함된 단어들 중에서 사용자가 입력한 문자열에 포함된 어떠한 \n",
    "            알파벳도 사용하지 않는 문자열의 개수를 출력한다.\n",
    "            <br><br>\n",
    "   1. 앞 문제에서 구현한 프로그램이 가장 적은 수의 단어를 배척하도록 하는 문자열을 찾아라. \n",
    "       단, 길이가 5이어야 한다.\n",
    "   <br><br>\n",
    "1. 1. 아래 기능을 수행하는 함수 `uses_only` 라는 함수를 구현하라.\n",
    "    * 두 개의 문자열 인자를 입력받는다.\n",
    "    * 첫째 인자로 입력된 문자열이 둘째 인자로 입력된 문자열에 포함된 문자만으로 \n",
    "        구성되었을 경우 `True`를 리턴한다.\n",
    "    <br><br>    \n",
    "   1. `words.txt` 파일에서 `acefhlo`에 포함된\n",
    "       문자들만 사용하는 단어를 출력하는 프로그램을 구현하라.\n",
    "    <br><br>       \n",
    "1. 1. 아래 기능을 수행하는 함수 `uses_all` 라는 함수를 구현하라.\n",
    "    * 두 개의 문자열 인자를 입력받는다.\n",
    "    * 첫째 인자로 입력된 문자열이 둘째 인자로 입력된 문자열에 포함된 모든 문자가 \n",
    "        최소 한 번 이상 포함되었을 경우 `True`를 리턴한다.\n",
    "    <br><br>\n",
    "   1. `words.txt` 파일에 포함된 단어에서 `aeiou`에 포함된 모음을 모두 사용한 단어의 개수는?\n",
    "    <br><br>\n",
    "   1. `words.txt` 파일에 포함된 단어에서 `aeiouy`에 포함된 알파벳을 모두 사용한 단어의 개수는?   \n",
    "    <br>\n",
    "1. 아래 조건을 만족하는 `sed` 라는 함수를 구현하라.\n",
    "    * 4개의 인자를 받는다.\n",
    "        * 첫째 인자: 문자열\n",
    "        * 둘째 인자: 문자열\n",
    "        * 셋째 인자: 파일 이름\n",
    "        * 넷째 인자: 파일 이름\n",
    "    * 첫째 파일의 내용 전체를 둘째 파일로 옮긴다.\n",
    "    * 단, 첫째 인자로 입력된 문자열은 모두 둘째 인자로 입력된 문자열로 대체되어야 한다.\n",
    "    * 파일을 열거나, 읽거나, 쓰거나, 닫을 때 오류가 발생하는 경우을 대비해서 \n",
    "        예외처리를 사용한다. \n",
    "    <br>\n",
    "    견본답안: http://greenteapress.com/thinkpython2/code/sed.py"
   ]
  }
 ],
 "metadata": {
  "kernelspec": {
   "display_name": "Python 3",
   "language": "python",
   "name": "python3"
  },
  "language_info": {
   "codemirror_mode": {
    "name": "ipython",
    "version": 3
   },
   "file_extension": ".py",
   "mimetype": "text/x-python",
   "name": "python",
   "nbconvert_exporter": "python",
   "pygments_lexer": "ipython3",
   "version": "3.6.8"
  }
 },
 "nbformat": 4,
 "nbformat_minor": 2
}
