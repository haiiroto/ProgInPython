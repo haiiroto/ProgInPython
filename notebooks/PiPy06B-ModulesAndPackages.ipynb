{
 "cells": [
  {
   "cell_type": "markdown",
   "metadata": {},
   "source": [
    "# 모듈"
   ]
  },
  {
   "cell_type": "markdown",
   "metadata": {},
   "source": [
    "안내: [Think Python 14장](http://greenteapress.com/thinkpython2/html/thinkpython2015.html#sec173)\n",
    "내용의 일부를 번역 및 요약수정하여 정리한 내용입니다."
   ]
  },
  {
   "cell_type": "markdown",
   "metadata": {},
   "source": [
    "## 모듈 활용\n",
    "\n",
    "한 번 구현한 함수들을 여러 파일에서 공유하여 사용하면 프로그램을 보다 효율적으로 구현할 수 있다.\n",
    "이와 같이, 함수를 공유하기 위해 모듈을 활용한다."
   ]
  },
  {
   "cell_type": "markdown",
   "metadata": {},
   "source": [
    "## 모듈이란?"
   ]
  },
  {
   "cell_type": "markdown",
   "metadata": {},
   "source": [
    "파이썬 모듈은 파일명 확장자가 `py`이며 파이썬 코드를 담고 있는 파일이다.\n",
    "모듈은 언제든지 불러와서(import) 모듈에 포함된 내용을 활용할 수 있다."
   ]
  },
  {
   "cell_type": "markdown",
   "metadata": {},
   "source": [
    "## 파이썬 코드 파일 작성\n",
    "\n",
    "아래 코드를 담고 있는 `wc.py` 파일을 먼저 작성한다.\n",
    "\n",
    "**주의:** 파이썬 코드 파일은 IDLE, Spyder, Atom 등 파이썬 프로그래밍을 지원하는 편집기를 활용하여 작성한다.\n",
    "아래한글이나 워드 등은 가급적 사용하지 않는 것이 좋다.\n",
    "\n",
    "---\n",
    "```python\n",
    "def linecount(filename):\n",
    "    count = 0\n",
    "    for line in open(filename):\n",
    "        count += 1\n",
    "    return count\n",
    "\n",
    "print(linecount('./codes/wc.py'))\n",
    "```\n",
    "---"
   ]
  },
  {
   "cell_type": "markdown",
   "metadata": {},
   "source": [
    "## 내장 모듈 불러오기\n",
    "\n",
    "파일썬을 설치하면 다양한 모듈이 함께 설치되며, 그런 모듈을 내장 모듈(built-in modules)이라 부른다.\n",
    "\n",
    "지금까지 사용한 모듈은 `random`, `math`, `os`, `sys` 등이며, `import 모듈명` 형식으로 모듈을 불러왔다.\n",
    "단, `.py` 확장자는 생략한다."
   ]
  },
  {
   "cell_type": "markdown",
   "metadata": {},
   "source": [
    "## 사용자 정의 모듈 작성 및 불러오기"
   ]
  },
  {
   "cell_type": "markdown",
   "metadata": {},
   "source": [
    "`wc.py` 파일을 이용하여 사용자가 임의로 작성한 파이썬 코드 파일을 모듈로 활용하는 법을 설명한다.\n",
    "설명을 위해 `wc.py` 파일이 현재 작업 디렉토리의 하위 디렉토리인 `codes` 디렉토리에 저장되어 있다고 가정한다.\n",
    "만약에 현재 작업 디렉토리에 저장되어 있다면 코드 마지막 줄을 아래와 같이 작성해야 오류가 발생하지 않는다.\n",
    "    \n",
    "```python\n",
    "print(linecount('wc.py'))\n",
    "```"
   ]
  },
  {
   "cell_type": "markdown",
   "metadata": {},
   "source": [
    "### `__init__.py` 파일 작성\n",
    "\n",
    "현재 디렉토리가 아닌 다른 디렉토리에 포함된 모듈을 불러오려면 해당 디렉토리에 `__init__.py` 파일이 생성되어 있어야 한다.\n",
    "\n",
    "* `__init__.py` 파일은 아무 내용이 없는 빈 파일이어도 된다.\n",
    "* `__init__.py` 파일의 다른 용도는 여기서 다루지 않는다.\n",
    "    \n",
    "따라서 `codes` 라는 하위 디렉토리에 포함된 파일들의 리스를 확인하면 `wc.py` 와 `__init__.py` \n",
    "두 개의 파일이 포함되어 있어야 한다."
   ]
  },
  {
   "cell_type": "markdown",
   "metadata": {},
   "source": [
    "현재 작업 디렉토리(cwd, current working directory) 확인하기"
   ]
  },
  {
   "cell_type": "code",
   "execution_count": 1,
   "metadata": {},
   "outputs": [
    {
     "name": "stdout",
     "output_type": "stream",
     "text": [
      "/tf/GitHub/ProgInPython/notebooks\n"
     ]
    }
   ],
   "source": [
    "import os\n",
    "cwd = os.getcwd()\n",
    "print(cwd)"
   ]
  },
  {
   "cell_type": "markdown",
   "metadata": {},
   "source": [
    "현재 작업 디렉토리에 `codes`라는 디렉토리 포함여부 확인"
   ]
  },
  {
   "cell_type": "code",
   "execution_count": 4,
   "metadata": {},
   "outputs": [
    {
     "data": {
      "text/plain": [
       "True"
      ]
     },
     "execution_count": 4,
     "metadata": {},
     "output_type": "execute_result"
    }
   ],
   "source": [
    "'test' in os.listdir(cwd)"
   ]
  },
  {
   "cell_type": "markdown",
   "metadata": {},
   "source": [
    "`codes` 디렉토리에 포함된 파일들의 리스트 확인하면 `wc.py`와 `__init__.py` 두 파일이\n",
    "포함되어 있음을 볼 수 있다."
   ]
  },
  {
   "cell_type": "code",
   "execution_count": 6,
   "metadata": {},
   "outputs": [
    {
     "data": {
      "text/plain": [
       "['wc.py']"
      ]
     },
     "execution_count": 6,
     "metadata": {},
     "output_type": "execute_result"
    }
   ],
   "source": [
    "os.listdir(\"./test\")"
   ]
  },
  {
   "cell_type": "markdown",
   "metadata": {},
   "source": [
    "### 사용자 정의 모듈 불러오기(import)\n",
    "\n",
    "`wc.py` 모듈에 포함되어 있는 `linecount` 함수를 활용하기 위해서\n",
    "먼저 `wc.py` 모듈을 불러와야 한다.\n",
    "\n",
    "**주의:** 만약 `wc.py` 모듈이 현재 디렉토리에 포함되어 있다면 아래와 같이 불러오면 된다.\n",
    "\n",
    "```\n",
    "import wc\n",
    "```\n",
    "\n",
    "그런데 `wc.py` 모듈이 현재 디렉토리의 하위 디렉토리인 `codes` 에 포함되어 있기 때문에 \n",
    "불러오기 과정이 좀 더 복잡하다. \n",
    "단순히 `import wc` 명령어를 사용하면 모듈을 찾을 수 없다는 오류(`ModuleNotFoundError`)가 발생한다."
   ]
  },
  {
   "cell_type": "code",
   "execution_count": 8,
   "metadata": {},
   "outputs": [
    {
     "ename": "ModuleNotFoundError",
     "evalue": "No module named 'wc'",
     "output_type": "error",
     "traceback": [
      "\u001b[0;31m---------------------------------------------------------------------------\u001b[0m",
      "\u001b[0;31mModuleNotFoundError\u001b[0m                       Traceback (most recent call last)",
      "\u001b[0;32m<ipython-input-8-7068d0230b9c>\u001b[0m in \u001b[0;36m<module>\u001b[0;34m\u001b[0m\n\u001b[0;32m----> 1\u001b[0;31m \u001b[0;32mimport\u001b[0m \u001b[0mwc\u001b[0m\u001b[0;34m\u001b[0m\u001b[0;34m\u001b[0m\u001b[0m\n\u001b[0m",
      "\u001b[0;31mModuleNotFoundError\u001b[0m: No module named 'wc'"
     ]
    }
   ],
   "source": [
    "import wc"
   ]
  },
  {
   "cell_type": "markdown",
   "metadata": {},
   "source": [
    "이와 같이 현재 작업디렉토리가 아닌 곳에 포함된 사용자 정의 모듈은 다른 방식으로 불러와야 한다.\n",
    "다양한 방식이 있지만 여기서는 __라이브러리 경로(library path)__에 특정 디렉토리를 추가하는 방식을 사용한다.\n",
    "\n",
    "**주의:** 여기서 라이브러리 경로에 특정 경로를 추가하는 방식은 임시적이다.\n",
    "라이브러리 경로를 영구적으로 변경하려면 다른 방식을 따라야 한다."
   ]
  },
  {
   "cell_type": "markdown",
   "metadata": {},
   "source": [
    "#### 파이썬 라이브러리 경로 확인하기\n",
    "\n",
    "먼저 파이썬이 기본적으로 사용하는 라이브러리들의 경로를 확인해보자.\n",
    "`sys.path` 변수에 파이썬이 기본적으로 지원하는 라이브러리들의 경로가 리스트로 저장되어 있다."
   ]
  },
  {
   "cell_type": "code",
   "execution_count": 9,
   "metadata": {},
   "outputs": [
    {
     "data": {
      "text/plain": [
       "['/usr/lib/python36.zip',\n",
       " '/usr/lib/python3.6',\n",
       " '/usr/lib/python3.6/lib-dynload',\n",
       " '',\n",
       " '/usr/local/lib/python3.6/dist-packages',\n",
       " '/usr/lib/python3/dist-packages',\n",
       " '/usr/local/lib/python3.6/dist-packages/IPython/extensions',\n",
       " '/root/.ipython']"
      ]
     },
     "execution_count": 9,
     "metadata": {},
     "output_type": "execute_result"
    }
   ],
   "source": [
    "import sys\n",
    "sys.path"
   ]
  },
  {
   "cell_type": "markdown",
   "metadata": {},
   "source": [
    "#### 파이썬 라이브러리 경로에 임시 경로 추가하기\n",
    "\n",
    "`sys.path` 에 저장된 라이브러리들의 경로들의 리스트에 원하는 경로를 추가한다.\n",
    "\n",
    "여기서는 현재 작업디렉토리의 하위 폴더인 `codes`를 경로에 추가하며, \n",
    "리스트에 항목을 추가하는 `append` 메소드를 활용한다."
   ]
  },
  {
   "cell_type": "code",
   "execution_count": 10,
   "metadata": {},
   "outputs": [],
   "source": [
    "sys.path.append(cwd + \"/test\")"
   ]
  },
  {
   "cell_type": "markdown",
   "metadata": {},
   "source": [
    "이제 새로운 경로가 추가된 것을 확인할 수 있다."
   ]
  },
  {
   "cell_type": "code",
   "execution_count": 12,
   "metadata": {},
   "outputs": [
    {
     "data": {
      "text/plain": [
       "['/usr/lib/python36.zip',\n",
       " '/usr/lib/python3.6',\n",
       " '/usr/lib/python3.6/lib-dynload',\n",
       " '',\n",
       " '/usr/local/lib/python3.6/dist-packages',\n",
       " '/usr/lib/python3/dist-packages',\n",
       " '/usr/local/lib/python3.6/dist-packages/IPython/extensions',\n",
       " '/root/.ipython',\n",
       " '/tf/GitHub/ProgInPython/notebooks/test']"
      ]
     },
     "execution_count": 12,
     "metadata": {},
     "output_type": "execute_result"
    }
   ],
   "source": [
    "sys.path"
   ]
  },
  {
   "cell_type": "markdown",
   "metadata": {},
   "source": [
    "#### 라이브러리 경로에 포함된 디렉토리의 모듈 불러오기\n",
    "\n",
    "라이브러리 경로에 포함된 디렉토리의 모듈은 현재 디렉토리에 포함된 모듈을 불러오는 것처럼 하면 된다."
   ]
  },
  {
   "cell_type": "code",
   "execution_count": 14,
   "metadata": {},
   "outputs": [],
   "source": [
    "import wc"
   ]
  },
  {
   "cell_type": "markdown",
   "metadata": {},
   "source": [
    "이제 `wc`가 누군지를 물으면 아래와 같이 답한다."
   ]
  },
  {
   "cell_type": "code",
   "execution_count": 15,
   "metadata": {},
   "outputs": [
    {
     "data": {
      "text/plain": [
       "<module 'wc' from '/tf/GitHub/ProgInPython/notebooks/test/wc.py'>"
      ]
     },
     "execution_count": 15,
     "metadata": {},
     "output_type": "execute_result"
    }
   ],
   "source": [
    "wc"
   ]
  },
  {
   "cell_type": "markdown",
   "metadata": {},
   "source": [
    "즉, `wc`는 모듈이라는 정보와 `wc.py` 파일이 저장된 위치 정보를 보여준다."
   ]
  },
  {
   "cell_type": "markdown",
   "metadata": {},
   "source": [
    "#### `__name__` 속성 활용\n",
    "\n",
    "`wc.py` 모듈을 임포트할 때 앞서 `os`와 `sys` 모듈을 임포트할 때와는 달리 숫자 `7`을 출력한다.\n",
    "\n",
    "이유는 모듈을 임포트할 때 모듈 안에 포함된 코드가 실행되기 때문인데, \n",
    "`wc.py` 파일의 경우에는 마지막 줄에 있는 아래 명령어가 실행되기 때문이다.\n",
    "\n",
    "```python\n",
    "print(linecount('./codes/wc.py'))\n",
    "```\n",
    "\n",
    "즉, `wc.py` 파일에 포함된 내용이 몇 줄인가를 출력한다.\n",
    "\n",
    "**주의:** `linecount` 함수는 인자로 지정된 파일 내용의 줄(line) 수를 리턴한다.\n",
    "\n",
    "그런데 사실 `print(linecount('./codes/wc.py'))` 명령문은 `linecount` 함수가 \n",
    "제대로 작동하는가를 확인하는 용도로 작성된 코드이며, \n",
    "모듈을 불러와서 활용하기 위해서는 굳이 실행할 필요가 없다.\n",
    "\n",
    "이런 경우에 모듈의 `__name__` 속성을 이용하여 아래와 같이 작성하면 모듈을 임포트할 때 굳이 실행할 필요가 \n",
    "없는 코드를 모듈에 포함시킬 수 있다.\n",
    "\n",
    "```python\n",
    "if __name__ == '__main__':\n",
    "    print(linecount('./codes/wc.py'))\n",
    "```\n",
    "\n",
    "위와 같이 작성하면 `import wc`를 실행해도 `if __name__ == '__main__':`에 포함된 코드는 실행되지 않는다.\n",
    "반면에 터미널 실행창에서 `python wc.py` 형태로 `wc.py` 코드를 직접 실행하면 \n",
    "`if __name__ == '__main__'` 문에 포함된 코드가 실행된다.\n",
    "\n",
    "**주의:** \n",
    "* 윈도우의 터미널 실행창은 `cmd` 프로그램을 실행하면 된다.\n",
    "* 맥 또는 리눅스의 경우 배시(bash) 터미널을 이용한다.\n",
    "\n",
    "**주의:** 이미 불러온 모듈을 다시 임포트하면 모듈 내용을 다시 실행하지는 않는다."
   ]
  },
  {
   "cell_type": "code",
   "execution_count": 16,
   "metadata": {},
   "outputs": [],
   "source": [
    "import wc"
   ]
  },
  {
   "cell_type": "markdown",
   "metadata": {},
   "source": [
    "## 불러온 모듈 활용하기\n",
    "\n",
    "내장 모듈이든 불러온 모듈이든 한 번 불러온 모듈을 활용하는 방법은 동일하다.\n",
    "\n",
    "예를 들어, `math` 모듈에 포함되어 있는 제곱근 함수인 `sqrt`를 활용하는 방식은 다음과 같다."
   ]
  },
  {
   "cell_type": "code",
   "execution_count": 11,
   "metadata": {},
   "outputs": [
    {
     "name": "stdout",
     "output_type": "stream",
     "text": [
      "2.0\n"
     ]
    }
   ],
   "source": [
    "import math\n",
    "print(math.sqrt(4))"
   ]
  },
  {
   "cell_type": "markdown",
   "metadata": {},
   "source": [
    "우리가 작성하고 불러온 `wc` 모듈에 포함된 `linecount` 함수를 활용하는 방법도 동일하다.\n",
    "\n",
    "예를 들어, `wc.py` 파일에 포함된 코드의 줄의 수를 알고자 하면 아래와 같이 실행한다."
   ]
  },
  {
   "cell_type": "code",
   "execution_count": 12,
   "metadata": {},
   "outputs": [
    {
     "data": {
      "text/plain": [
       "7"
      ]
     },
     "execution_count": 12,
     "metadata": {},
     "output_type": "execute_result"
    }
   ],
   "source": [
    "wc.linecount('./codes/wc.py')"
   ]
  },
  {
   "cell_type": "markdown",
   "metadata": {},
   "source": [
    "반면에 `codes` 디렉토리에 포함된 `__init__.py` 파일은 비어있음을 아래와 같이 확인할 수 있다."
   ]
  },
  {
   "cell_type": "code",
   "execution_count": 13,
   "metadata": {},
   "outputs": [
    {
     "data": {
      "text/plain": [
       "0"
      ]
     },
     "execution_count": 13,
     "metadata": {},
     "output_type": "execute_result"
    }
   ],
   "source": [
    "wc.linecount('./codes/__init__.py')"
   ]
  },
  {
   "cell_type": "markdown",
   "metadata": {},
   "source": [
    "## 연습문제"
   ]
  },
  {
   "cell_type": "markdown",
   "metadata": {},
   "source": [
    "1. `wc.py` 모듈에 포함된 마지막 `print` 명령문을 아래와 같이 수정하라.\n",
    "    ```python\n",
    "    if __name__ == '__main__':\n",
    "        print(linecount('./codes/wc.py'))\n",
    "    ```\n",
    "    1. 이제 `import wc` 명령문을 실행한 결과를 확인하라.\n",
    "    1. 이번에는 터미널 명령창에서 `python wc.py` 명령을 실행한 결과를 확인하라.\n",
    "    <br><br>"
   ]
  }
 ],
 "metadata": {
  "kernelspec": {
   "display_name": "Python 3",
   "language": "python",
   "name": "python3"
  },
  "language_info": {
   "codemirror_mode": {
    "name": "ipython",
    "version": 3
   },
   "file_extension": ".py",
   "mimetype": "text/x-python",
   "name": "python",
   "nbconvert_exporter": "python",
   "pygments_lexer": "ipython3",
   "version": "3.6.8"
  }
 },
 "nbformat": 4,
 "nbformat_minor": 2
}
