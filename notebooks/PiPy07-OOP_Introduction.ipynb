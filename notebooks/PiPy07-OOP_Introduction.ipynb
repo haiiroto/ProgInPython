{
 "cells": [
  {
   "cell_type": "markdown",
   "metadata": {},
   "source": [
    "# 객체 지향 프로그래밍(OOP) 소개"
   ]
  },
  {
   "cell_type": "markdown",
   "metadata": {},
   "source": [
    "안내: [Think Python 4장](http://greenteapress.com/thinkpython2/html/thinkpython2005.html#sec42)과\n",
    "[How to Think Like a Computer Scientist: Learning with Python 3](http://openbookproject.net/thinkcs/python/english3e/hello_little_turtles.html)\n",
    "내용의 일부를 번역 및 수정하여 활용한 내용입니다."
   ]
  },
  {
   "cell_type": "markdown",
   "metadata": {},
   "source": [
    "## OOP 정의"
   ]
  },
  {
   "cell_type": "markdown",
   "metadata": {},
   "source": [
    "**객체 지향 프로그래밍**(Object-Oriented Programming)을 줄여서 보통 **OOP**라고 부른다. \n",
    "\n",
    "OOP는 프로그래밍 기법 중의 하나이며 OOP를 지원하는 언어를 **객체 지향 언어**라고 부른다. \n",
    "파이썬을 포함하여 자바, C++, C#, 루비, 자바스크립트 등 많은 컴퓨터 프로그래밍 언어가 객체 지향을 지원한다.\n",
    "\n",
    "OOP와 대비되는 개념으로 절차 지향 프로그래밍이 주로 언급된다. \n",
    "**절차 지향 프로그래밍**은 수행해야 할 일을 순차적으로 처리하는 과정을 묘사하는 것을 가장 중요하게 여기며 \n",
    "프로그램 전체가 유기적으로 연결되도록 만드는 프로그래밍 기법이다. \n",
    "C, HTML 등이 대표적인 절차 지향 프로그래밍언어이다. \n",
    "\n",
    "\"해야 할 일을 순차적으로 처리한다\"는 표현은 가장 기본적인 프로그래밍 기법이며,\n",
    "모든 프로그램은 원하는 결과를 얻기 위한 과정을 논리적이며 순차적으로 \n",
    "처리하도록 구현되어야 한다. \n",
    "\n",
    "OOP 역시 예외가 아니다. \n",
    "하지만 OOP는 구현해야 할 객체들을 선택하고 객체들 사이의 유기적인 관계를 논리적으로 묘사하는 데에\n",
    "보다 많은 방점을 둔다. \n",
    "즉, 프로그램 전체를 하나로 묶어서 구현하는 방식이 아니라 프로그램을 구성하는 객체들을 중심으로 해서\n",
    "구현해야 할 프로그램을 완성시키는 방식으로 프로그래밍을 진행한다."
   ]
  },
  {
   "cell_type": "markdown",
   "metadata": {},
   "source": [
    "## OOP와 객체 활용"
   ]
  },
  {
   "cell_type": "markdown",
   "metadata": {},
   "source": [
    "OOP를 이해하려면 스스로 아래 세 가지 질문에 답할 수 있어야 한다고 본다. \n",
    "\n",
    "1. 객체(object)란 무엇인가?\n",
    "1. 객체가 필요한 이유는?\n",
    "1. \"객체를 중심으로 프로그래밍 한다\" 라는 말의 의미는 무엇인가?\n",
    "\n",
    "위 질문들에 대한 직접적인 설명 대신에\n",
    "객체가 어떻게 활용되는가를 실전 예제를 통해 소개한다."
   ]
  },
  {
   "cell_type": "markdown",
   "metadata": {},
   "source": [
    "## `turtle` 모듈"
   ]
  },
  {
   "cell_type": "markdown",
   "metadata": {},
   "source": [
    "그림그리기와 관련된 도구를 담고 있는 `turtle` 모듈을 소개한다.\n",
    "`turtle` 모듈은 파이썬에 기본적으로 포함되어 있다.\n",
    "`turtle` 모듈에 대한 상세한 설명은 \n",
    "[이곳](http://yoo7577.tistory.com/312) 참조할 것을 추천한다.\n",
    "여기서는 간단한 예제를 통해 객체(인스턴스)를 클래스의 인스턴스로 \n",
    "구하는 과정을 보여주고자 한다.\n",
    "\n",
    "**주의:** `turtle` 모듈은 그래픽 도구를 요구한다. \n",
    "따라서 아래 코드를 파일로 작성하여 터미널 창에서 실행하는 것을 권유한다."
   ]
  },
  {
   "cell_type": "markdown",
   "metadata": {},
   "source": [
    "### 예제 1"
   ]
  },
  {
   "cell_type": "markdown",
   "metadata": {},
   "source": [
    "먼저 아래 코드를 `mypolygon1.py` 파일에 저장하고 실행해 보자.\n",
    "\n",
    "---\n",
    "```python\n",
    "import turtle\n",
    "\n",
    "wn = turtle.Screen()\n",
    "bob = turtle.Turtle()\n",
    "\n",
    "bob.forward(100)\n",
    "bob.left(90)\n",
    "bob.forward(100)\n",
    "bob.left(90)\n",
    "bob.forward(100)\n",
    "bob.left(90)\n",
    "bob.forward(100)\n",
    "bob.left(90)\n",
    "\n",
    "wn.mainloop()\n",
    "```\n",
    "---\n",
    "\n",
    "그러면 아래 이미지처럼 한 변의 길이가 100인 정사각형을 그리는 화살표의 움직임을 볼 수 있을 것이다.\n",
    "\n",
    "**주의:** 픽셀(pixel, 화소)은 컴퓨터 모니터 등과 같은 디지털 화면를 구성하는 기본 단위이다. \n",
    "소위 해상도란 바로 픽셀의 개수를 일컫는다. \n",
    "예를 들어, Full HD(FHD)의 해상도는 1920&times;1080으로 표시되는데 이는 \n",
    "화면을 가로 1920칸, 세로 1080칸의 격자무늬로 쪼갠 후에 각각의 격자에 하나의 색 정보가 입력되었을 의미한다.\n",
    "이런 격자 하나하나를 픽셀이라 부른다. \n",
    "해상도가 높아질 수록 픽셀 수가 많아지며 따라서 보다 선명한 색채구현히 가능해진다. "
   ]
  },
  {
   "cell_type": "markdown",
   "metadata": {},
   "source": [
    "<p>\n",
    "<table cellspacing=\"20\">\n",
    "<tr>\n",
    "<td>\n",
    "<img src=\"images/turtle01.png\" style=\"width:400px\">\n",
    "</td>\n",
    "</tr>\n",
    "</table>\n",
    "</p>"
   ]
  },
  {
   "cell_type": "markdown",
   "metadata": {},
   "source": [
    "이제 위 코드를 한 줄씩 살펴보자.\n",
    "\n",
    "* `turtle` 모듈을 불러온다.\n",
    "    ```python\n",
    "    import turtle\n",
    "    ```\n",
    "* `turtle` 모듈에 포함된 `Screen` 함수는 같은 모듈에 선언되어 있는 \n",
    "    `TurtleScreen` **클래스**의 **인스턴스(객체)**를 하나 생성해서 리턴값으로 내준다.\n",
    "    ```python\n",
    "    wn = turtle.Screen()\n",
    "    ```\n",
    "    **`TurtleScreen` 클래스의 인스턴스를 하나 생성한다**는 것은 \n",
    "    그림을 그릴 도화지(캔버스)를 한 장 준비한다는 의미이다. \n",
    "    즉, 위 그림에서처럼 정사각형를 그릴 도화지 역할을 수행하는 창을 하나 생성한다."
   ]
  },
  {
   "cell_type": "markdown",
   "metadata": {},
   "source": [
    "<p>\n",
    "<table cellspacing=\"20\">\n",
    "<tr>\n",
    "<td>\n",
    "<img src=\"images/turtle01a.png\" style=\"width:400px\">\n",
    "</td>\n",
    "</tr>\n",
    "</table>\n",
    "</p>"
   ]
  },
  {
   "cell_type": "markdown",
   "metadata": {},
   "source": [
    "* 도화지 속성 변경: 도화지 창에 이름을 지정할 수 있다. \n",
    "    기본값은 Python Turtle Graphics이며 `_title` 라는 (숨은) \n",
    "    속성에 저장되어 있다.\n",
    "    \n",
    "    **주의:** 밑줄(언더스코어, underscore)로 시작하는 변수는 숨겨진 변수를 가리킨다.\n",
    "    즉, 사용자가 일부러 선택하여 값을 지정하기 보다는 다른 도구를 활용하라는 의미이다.\n",
    "\n",
    "    도화지의 이름을 지정하려면 `title`이라는 함수를 아래와 같이 활용하면 된다.\n",
    "    예를 들어, 도화지의 이름을 'Hello, Turtle'로 지정하려면 아래와 같이 실행한다.\n",
    "    ```python\n",
    "    wn = title(\"Hello, Turtle!\")\n",
    "    ```    "
   ]
  },
  {
   "cell_type": "markdown",
   "metadata": {},
   "source": [
    "* `turtle` 모듈에서 정의되어 있는 `Turtle` 클래스의 인스턴스(객체)를 하나 생성해서 `bob` 변수에 할당한다.\n",
    "    ```python\n",
    "    bob = turtle.Turtle()\n",
    "    ```\n",
    "    **`Turtle` 클래스의 인스턴스를 하나 생성한다**는 것은 그림을 그리는 도구인 펜을 하나 준비한다는 의미이다. \n",
    "    즉, 아래 그림의 화살표 모양처럼 선을 그리는 펜 역할을 수행하는 도구를 하나 생성한다."
   ]
  },
  {
   "cell_type": "markdown",
   "metadata": {},
   "source": [
    "<p>\n",
    "<table cellspacing=\"20\">\n",
    "<tr>\n",
    "<td>\n",
    "<img src=\"images/turtle01b.png\" style=\"width:400px\">\n",
    "</td>\n",
    "</tr>\n",
    "</table>\n",
    "</p>"
   ]
  },
  {
   "cell_type": "markdown",
   "metadata": {},
   "source": [
    "* 펜을 전진시키면서 선 그리기\n",
    "    ```python\n",
    "    bob.forward(100)\n",
    "    ```\n",
    "    화살표 모양의 펜은 현재 동쪽을 가리키고 있으며 펜이 현재 가리키는 방향으로 \n",
    "    100픽셀만큼 펜을 전진시키면서 선을 긋도록 한다."
   ]
  },
  {
   "cell_type": "markdown",
   "metadata": {},
   "source": [
    "<p>\n",
    "<table cellspacing=\"20\">\n",
    "<tr>\n",
    "<td>\n",
    "<img src=\"images/turtle01c.png\" style=\"width:400px\">\n",
    "</td>\n",
    "</tr>\n",
    "</table>\n",
    "</p>"
   ]
  },
  {
   "cell_type": "markdown",
   "metadata": {},
   "source": [
    "* 왼쪽으로 회전시키기\n",
    "    ```python\n",
    "    bob.left(90)\n",
    "    ```\n",
    "    펜이 가리키는 방향을 왼편, 즉 시계 반대방향으로 90도 회전시킨다. \n",
    "    펜은 가리키는 방향만 바꿀뿐 이동하지는 않는다."
   ]
  },
  {
   "cell_type": "markdown",
   "metadata": {},
   "source": [
    "<p>\n",
    "<table cellspacing=\"20\">\n",
    "<tr>\n",
    "<td>\n",
    "<img src=\"images/turtle01d.png\" style=\"width:400px\">\n",
    "</td>\n",
    "</tr>\n",
    "</table>\n",
    "</p>"
   ]
  },
  {
   "cell_type": "markdown",
   "metadata": {},
   "source": [
    "* 전진과 회전을 3번 더 반복한다.    \n",
    "    ```python\n",
    "    bob.forward(100)\n",
    "    bob.left(90)\n",
    "    bob.forward(100)\n",
    "    bob.left(90)\n",
    "    bob.forward(100)\n",
    "    bob.left(90)\n",
    "    ```"
   ]
  },
  {
   "cell_type": "markdown",
   "metadata": {},
   "source": [
    "* 생성된 윈도우 창을 X 버튼이 눌릴 때까지 유지시킨다. \n",
    "    ```python\n",
    "    wn.mainloop()\n",
    "    ```"
   ]
  },
  {
   "cell_type": "markdown",
   "metadata": {},
   "source": [
    "<p>\n",
    "<table cellspacing=\"20\">\n",
    "<tr>\n",
    "<td>\n",
    "<img src=\"images/turtle01e.png\" style=\"width:400px\">\n",
    "</td>\n",
    "</tr>\n",
    "</table>\n",
    "</p>"
   ]
  },
  {
   "cell_type": "markdown",
   "metadata": {},
   "source": [
    "* 거북이 속성 변경: \n",
    "    그림 그릴 때 사용되는 펜의 색깔은 검은색은 `_pencolor` 라는 (숨은) 속성에 저장되어 있다. \n",
    "    아래와 같이 확인할 수 있다.\n",
    "    ```python\n",
    "    print(bob._pencolor)\n",
    "    ```\n",
    "    **주의:** `_pencolor` 또한 숨겨진 변수이다. \n",
    "    \n",
    "    펜의 색깔을 지정하려면 `pencolor` 라는 메서드를 아래와 같이 활용하면 된다.\n",
    "    예를 들어, 펜의 색깔을 빨강(red)로 지정하려면 아래와 같이 실행한다.\n",
    "    ```python\n",
    "    print(bob.pencolor(\"red\"))\n",
    "    ```"
   ]
  },
  {
   "cell_type": "markdown",
   "metadata": {},
   "source": [
    "## 클래스와 인스턴스"
   ]
  },
  {
   "cell_type": "markdown",
   "metadata": {},
   "source": [
    "아래 내용을 기억하고 있어야 한다.\n",
    "\n",
    "* 클래스에는 변수와 함수들이 선언되어 있다.\n",
    "* 하나의 클래스에 포함된 변수와 함수들은 특별한 성질의 객체를 묘사하고 다루기 위해 \n",
    "    필요한 속성과 도구를 저장한다.\n",
    "    \n",
    "클래스에서 선언된 변수와 함수들은 해당 클래스를 통하여 또는 해당 클래스의 인스턴스를 통하여 호출될 수 있다.\n",
    "\n",
    "* **속성**(attribute)\n",
    "    * 클래스에서 선언된 변수\n",
    "    * 생성되는 객체들이 사용하는 값 또는 특성값 저장\n",
    "* **메서드**(method)\n",
    "    * 클래스에서 선언된 함수\n",
    "    * 속성 정보를 이용하고 다룰 수 있는 도구\n",
    "\n",
    "특정 클래스의 **인스턴스**(instance)는 해당 클래스에서 선언된 속성과 기능을 모두 물려받는 대상을\n",
    "의미한다. **객체**(object)는 특정 클래스의 인스턴스를 부르는 보다 일반적인 표현이다."
   ]
  },
  {
   "cell_type": "markdown",
   "metadata": {},
   "source": [
    "**참고:** 파이썬에서 사용되는 모든 값은 특정 클래스의 인스턴스, 즉 객체로 선언된다.\n",
    "지금까지 사용해왔던 모든 자료형들도 모두 클래스로 정의되어 있다. \n",
    "심지어는 클래스 조차도 `type` 이라는 클래스의 객체이다. "
   ]
  },
  {
   "cell_type": "markdown",
   "metadata": {},
   "source": [
    "앞서 소개한 거북이 그래픽 예제에서 사용된 `turtle` 모듈과 관련된 프로그래밍 기본요소는 다음과 같다.\n",
    "\n",
    "* 모듈: `turtle`\n",
    "* 함수: `Screen`  (대문자로 시작하는 이름에 주의)\n",
    "* 클래스: `TurtleScreen`, `Turtle`\n",
    "* `TurtleScreen`클래스\n",
    "    * 인스턴스: `wn`\n",
    "    * 속성: `_title`\n",
    "    * 메서드: `title`\n",
    "\n",
    "* `Turtle` 클래스\n",
    "    * 인스턴스: `bob`\n",
    "    * 속성: `_pencolor`, `mainloop`\n",
    "    * 메서드: `pencolor`, `left`, `forward`\n",
    "    "
   ]
  },
  {
   "cell_type": "markdown",
   "metadata": {},
   "source": [
    "### `Screen` 함수의 리턴값"
   ]
  },
  {
   "cell_type": "markdown",
   "metadata": {},
   "source": [
    "`Screen` 함수의 리턴값은 `TurtleScreen`가 아닌\n",
    "자식 클래스인 `_Screen` 클래스의 인스턴스이다.\n",
    "하지만 사용된 밑줄에서 알 수 있듯이 숨겨진 클래스이기 때문에 부모 클래스인 `TurtleScreen`을 \n",
    "기본적으로 언급한다. \n",
    "\n",
    "또한 `Screen` 함수의 리턴값은 `_Screen` 클래스의 **싱글턴 객체**(singleton object)이다. \n",
    "싱글톤 객체라 함은 해당 클래스의 인스턴스가 하나 뿐이라는 말이며,\n",
    "따라서 프로그램을 실행할 때 도화지는 하나만 생성할 수 있다는 의미이다."
   ]
  },
  {
   "cell_type": "markdown",
   "metadata": {},
   "source": [
    "### 변수와 메서드 종류"
   ]
  },
  {
   "cell_type": "markdown",
   "metadata": {},
   "source": [
    "클래스에서 선언된 메서드와 변수를 사용법에 따라 여러 종류로 분류할 수 있다. \n",
    "\n",
    "* 변수 종류: 인스턴스 변수, 클래스 변수\n",
    "* 메서드 종류: 인스턴스 메서드, 클래스 메서드, 정적 메서드\n",
    "\n",
    "변수와 메서드의 다양한 종류에 대한 보다 상세한 이후에 다룬다."
   ]
  },
  {
   "cell_type": "markdown",
   "metadata": {},
   "source": [
    "### 예제 2\n",
    "아래 코드를 `mypolygon2.py` 파일에 저장하고 실행하면 두 개의 펜을 이용하여 사각형과 삼각형을 그린 결과를 얻을 것이다.\n",
    "`mypolygon.py`와는 달리 반복되는 코드를 `for ... in ...` 반복문으로 묶었다.\n",
    "\n",
    "아래 코드에서 `Turtle` 클래스의 인스턴스가 두 번 생성되었다. \n",
    "또한 `alice` 객체에 대해세만 아래 인스턴스 메서드가 추가로 사용되었다.\n",
    "\n",
    "* `shape`: 해당 인스턴스의 펜 모양을 지정된 모양으로 변경시킴\n",
    "* `color`: 해당 인스턴스의 선 색깔을 지정된 색깔로 변경시킴\n",
    "\n",
    "**주의:** 인스턴스 메서드는 소속된 인스턴스(객체)에 대해서만 영향을 미친다.\n",
    "따라서 `alice`의 속성을 변경한다 하더라도 `bob`의 속성은 전혀 변하지 않는다."
   ]
  },
  {
   "cell_type": "markdown",
   "metadata": {},
   "source": [
    "---\n",
    "```python\n",
    "import turtle\n",
    "\n",
    "wn = turtle.Screen()\n",
    "\n",
    "# bob 생성\n",
    "bob = turtle.Turtle()\n",
    "\n",
    "# alice 생성\n",
    "alice = turtle.Turtle()\n",
    "alice.shape(\"turtle\")       # 펜 모양을 거북이로 변경\n",
    "alice.color(\"red\")          # 선 색깔을 빨강으로 변경\n",
    "\n",
    "alice.penup()               # 펜 들기: 선 그리지 않음\n",
    "alice.backward(100)         # 뒤로 100픽셀 이동\n",
    "alice.pendown()             # 펜 내리기: 선 그리기 시작함\n",
    "\n",
    "# bob 으로 사각형 그리기\n",
    "for i in range(4):\n",
    "    bob.forward(100)\n",
    "    bob.left(90)\n",
    "\n",
    "# alice로 삼각형 그리기\n",
    "for i in range(3):\n",
    "    alice.forward(100)\n",
    "    alice.right(120)        # 시계방향으로 회전\n",
    "\n",
    "wn.mainloop()\n",
    "```\n",
    "---"
   ]
  },
  {
   "cell_type": "markdown",
   "metadata": {},
   "source": [
    "<p>\n",
    "<table cellspacing=\"20\">\n",
    "<tr>\n",
    "<td>\n",
    "<img src=\"images/turtle06.png\" style=\"width:400px\">\n",
    "</td>\n",
    "</tr>\n",
    "</table>\n",
    "</p>"
   ]
  },
  {
   "cell_type": "markdown",
   "metadata": {},
   "source": [
    "#### 예제 2에서 사용된 클래스와 인스턴스\n",
    "\n",
    "* `wn`: `Screen` 클래스의 인스턴스\n",
    "* `bob`: `Turtle` 클래스의 인스턴스\n",
    "* `alice`: `Turtle` 클래스의 인스턴스"
   ]
  },
  {
   "cell_type": "markdown",
   "metadata": {},
   "source": [
    "#### 주의사항\n",
    "\n",
    "`Screen` 클래스의 인스턴스는 하나만 만들 수 있다.\n",
    "인스턴스를 하나만 허용하는 클래스를 **싱글턴 클래스(singleton class)**라 부른다."
   ]
  },
  {
   "cell_type": "markdown",
   "metadata": {},
   "source": [
    "### 예제 3\n",
    "아래 코드를 `mypolygon3.py` 파일에 저장하고 실행하면\n",
    "이전 코드와는 달리 배경화면의 색깔과 그림 제목을 다르게 지정한 것을 확인 할 수 있다.\n",
    "\n",
    "* `bgcolor`: `Screen` 클래스의 인스턴스 메서드. 그림의 배경화면 색 지정\n",
    "* `title`: `Screen` 클래스의 인스턴스 메서드. 그림의 제목 지정"
   ]
  },
  {
   "cell_type": "markdown",
   "metadata": {},
   "source": [
    "---\n",
    "```python\n",
    "import turtle\n",
    "\n",
    "wn = turtle.Screen()\n",
    "wn.bgcolor(\"lightyellow\")               # 배경화면 색깔 정하기\n",
    "wn.title(\"Hello, Bob and Alice!\")       # 그래픽 제목 정하기\n",
    "\n",
    "# bob 생성\n",
    "bob = turtle.Turtle()\n",
    "\n",
    "# alice 생성\n",
    "alice = turtle.Turtle()\n",
    "alice.shape(\"turtle\")\n",
    "alice.color(\"red\")\n",
    "\n",
    "alice.penup()\n",
    "alice.backward(120)\n",
    "alice.pendown()\n",
    "\n",
    "# bob 으로 사각형 그리기\n",
    "for i in range(4):\n",
    "    bob.forward(100)\n",
    "    bob.left(90)\n",
    "\n",
    "# alice로 삼각형 그리기\n",
    "for i in range(3):\n",
    "    alice.forward(100)\n",
    "    alice.right(120)\n",
    "\n",
    "wn.mainloop()\n",
    "```\n",
    "---"
   ]
  },
  {
   "cell_type": "markdown",
   "metadata": {},
   "source": [
    "<p>\n",
    "<table cellspacing=\"20\">\n",
    "<tr>\n",
    "<td>\n",
    "<img src=\"images/turtle07.png\" style=\"width:400px\">\n",
    "</td>\n",
    "</tr>\n",
    "</table>\n",
    "</p>"
   ]
  },
  {
   "cell_type": "markdown",
   "metadata": {},
   "source": [
    "### 예제 4\n",
    "아래 코드를 `mypolygon4.py` 파일에 저장하고 실행하면\n",
    "회오리 모양으로 움직이면서 점차 가속도가 붙는 거북이를 확인할 수 있다.\n",
    "\n",
    "* `penup`: `Turtle` 클래스의 인스턴스 메서드. 도장 찍기."
   ]
  },
  {
   "cell_type": "markdown",
   "metadata": {},
   "source": [
    "---\n",
    "```python\n",
    "import turtle\n",
    "wn = turtle.Screen()\n",
    "wn.bgcolor(\"lightyellow\")\n",
    "bob = turtle.Turtle()\n",
    "bob.shape(\"turtle\")        # 화살표 대신 거북이 모양 선택\n",
    "bob.color(\"blue\")\n",
    "\n",
    "bob.penup()                # 펜 들기 (이동할 때 선을 그리지 않게 됨)\n",
    "size = 20\n",
    "for i in range(30):\n",
    "   bob.stamp()             # 거북이 모양 도장 찍기\n",
    "   size = size + 3         # 회전을 점차 크게 돌도록 만들기\n",
    "   bob.forward(size)       # size 크기만큼 전진하기\n",
    "   bob.right(24)           # 24도 우회전하기\n",
    "\n",
    "wn.mainloop()\n",
    "```\n",
    "---"
   ]
  },
  {
   "cell_type": "markdown",
   "metadata": {},
   "source": [
    "<p>\n",
    "<table cellspacing=\"20\">\n",
    "<tr>\n",
    "<td>\n",
    "<img src=\"images/turtle03.png\" style=\"width:400px\">\n",
    "</td>\n",
    "</tr>\n",
    "</table>\n",
    "</p>"
   ]
  },
  {
   "cell_type": "markdown",
   "metadata": {},
   "source": [
    "## 연습문제"
   ]
  },
  {
   "cell_type": "markdown",
   "metadata": {},
   "source": [
    "1. 아래 그림의 도형을 그리는 함수들을 구현하라.\n",
    "<p>\n",
    "<table cellspacing=\"20\">\n",
    "<tr>\n",
    "<td>\n",
    "<img src=\"images/turtle04.png\" style=\"width:400px\">\n",
    "</td>\n",
    "</tr>\n",
    "</table>\n",
    "</p>\n",
    "    힌트: 모범답안을 담고 있는 파이썬 코드가 \n",
    "    [여기](http://greenteapress.com/thinkpython2/code/pie.py)에 \n",
    "    있음.\n",
    "    <br><br>\n",
    "1. 아래 그림의 도형을 그리는 함수들을 구현하라.\n",
    "<p>\n",
    "<table cellspacing=\"20\">\n",
    "<tr>\n",
    "<td>\n",
    "<img src=\"images/turtle05.png\" style=\"width:450px\">\n",
    "</td>\n",
    "</tr>\n",
    "</table>\n",
    "</p>\n",
    "    힌트: 모범답안을 담고 있는 파이썬 코드가 \n",
    "    [여기](http://greenteapress.com/thinkpython2/code/letters.py)에 \n",
    "    있음. 단, 앞 링크에 있는 코드는 \n",
    "    [이곳](http://greenteapress.com/thinkpython2/code/polygon.py)의 \n",
    "    모듈을 불러와야 함."
   ]
  }
 ],
 "metadata": {
  "kernelspec": {
   "display_name": "Python 3",
   "language": "python",
   "name": "python3"
  },
  "language_info": {
   "codemirror_mode": {
    "name": "ipython",
    "version": 3
   },
   "file_extension": ".py",
   "mimetype": "text/x-python",
   "name": "python",
   "nbconvert_exporter": "python",
   "pygments_lexer": "ipython3",
   "version": "3.6.8"
  }
 },
 "nbformat": 4,
 "nbformat_minor": 2
}
