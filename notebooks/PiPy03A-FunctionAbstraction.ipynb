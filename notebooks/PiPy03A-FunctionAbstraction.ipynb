{
 "cells": [
  {
   "cell_type": "markdown",
   "metadata": {},
   "source": [
    "# 코드 추상화: 함수편"
   ]
  },
  {
   "cell_type": "markdown",
   "metadata": {},
   "source": [
    "**추상화**는 일반적으로 구체적인 사물들의 무리로부터 핵심적인 개념 또는 기능을 추출해 내는 것을 의미한다.\n",
    "대표적으로 수학에서 다루는 점, 선, 면이 추상화를 통해 생성된 개념이다.\n",
    "예를 들어, 삼각형은 점과 선이 각각 세 개로 구성되며, 면은 세 개의 선으로 제한된 영역을 의미하는데,\n",
    "이는 임의의 삼각형이 공통적으로 갖는 성질이다. \n",
    "\n",
    "프로그래밍 분야에서 다루는 구체적인 사물은 명령문(command)과 값(value)이다. \n",
    "따라서 프로그래밍 분야에서의 추상화는 특정 코드들의 무리를 대표하는 개념을 추출하거나,\n",
    "특정 값들의 속성을 대표하는 개념을 추출하는 것이다.\n",
    "\n",
    "특정 코드들을 대상으로 하는 추상화는 보통 코드의 구체적인 형태를 숨기면서\n",
    "코드의 기능을 효율적으로 지원하는 방식으로 이루어진다. \n",
    "대표적으로 함수, 모듈, 클래스가 있다.\n",
    "\n",
    "모듈과 클래스에 대해서는 나중에 다루며, 여기서는 함수를 이용한 추상화를\n",
    "예를 이용하여 설명한다."
   ]
  },
  {
   "cell_type": "markdown",
   "metadata": {},
   "source": [
    "## 함수 추상화"
   ]
  },
  {
   "cell_type": "markdown",
   "metadata": {},
   "source": [
    "코드가 길어질 수록 코드의 복잡도가 증가하며,\n",
    "경우에 따라 코드의 실행을 제대로 추적하지 못할 수도 있다.\n",
    "프로그램은 최대한 간단명료하게 구현해야 한다.\n",
    "\n",
    "**함수 추상화**가 프로그램의 논리적 구조를 보다 명확하게 드러나게 하며,\n",
    "일반적으로 아래 두 가지 형식으로 이루어진다.\n",
    "\n",
    "* 특정 코드에 이름을 주어 코드의 재사용성을 높히며,\n",
    "    코드의 전체적인 구조를 단순화시킨다.\n",
    "* 유사한 코드를 반복적으로 작성하는 대신 일반화된 코드를 재사용한다. \n",
    "\n",
    "함수 추상화의 구체적인 장점은 아래와 같다.\n",
    "\n",
    "* 중복된 코드 제거\n",
    "* 보다 쉬운 코드 이해\n",
    "* 보다 쉬운 코드 유지보수"
   ]
  },
  {
   "cell_type": "markdown",
   "metadata": {},
   "source": [
    "## 사용 예제: 커피 원두 가격 확인 프로그램 활용"
   ]
  },
  {
   "cell_type": "markdown",
   "metadata": {},
   "source": [
    "[인터넷에서 정보 구하기](./PiPy02A-InfoFromInternet.ipynb)에서 \n",
    "다룬 프로그램에 함수 추상화를 적용하여 업그레이드한다.\n",
    "\n",
    "구체적인 개선사항은 다음과 같다.\n",
    "\n",
    "* 커피 원두 가격을 확인할 때 바로 구입할지 여부에 따라 다른 일 하기\n",
    "* 코드의 중복사용을 피하기 위해 함수 활용하기\n",
    "* 지역변수와 전역변수의 활용 및 차이점 이해하기"
   ]
  },
  {
   "cell_type": "markdown",
   "metadata": {},
   "source": [
    "## 프로그램 업그레이드 1<a id='upgrade1'></a>"
   ]
  },
  {
   "cell_type": "markdown",
   "metadata": {},
   "source": [
    "아래 코드는 [충성고객을 위한 커피 원두 가격 웹페이지](http://beans.itcarlow.ie/prices-loyalty.html)에서 \n",
    "가격 정보를 4.8달러 이하로 떨어질 때까지 기다린 최종 가격을 알려준다."
   ]
  },
  {
   "cell_type": "code",
   "execution_count": 8,
   "metadata": {},
   "outputs": [
    {
     "name": "stdout",
     "output_type": "stream",
     "text": [
      "커피 원두 현재 가격이 4.44 달러입니다.\n"
     ]
    }
   ],
   "source": [
    "import urllib.request\n",
    "import time\n",
    "\n",
    "price_basis = 4.8\n",
    "bean_price = 5.0\n",
    "price_url = \"http://beans.itcarlow.ie/prices-loyalty.html\"\n",
    "\n",
    "while bean_price > price_basis:\n",
    "    time.sleep(1)\n",
    "\n",
    "    price_page = urllib.request.urlopen(price_url)\n",
    "    page_text = price_page.read().decode(\"utf8\")\n",
    "\n",
    "    price_location = page_text.find('>$') + 2\n",
    "    bean_price = float(page_text[price_location : price_location + 4])\n",
    "\n",
    "print(f\"커피 원두 현재 가격이 {bean_price} 달러입니다.\")"
   ]
  },
  {
   "cell_type": "markdown",
   "metadata": {},
   "source": [
    "### 구상하기"
   ]
  },
  {
   "cell_type": "markdown",
   "metadata": {},
   "source": [
    "이제 위 코드를 아래 조건을 만족하도록 개선하고자 한다.\n",
    "* 프로그램이 실행될 때 지금 당장 커피 원두콩을 구입할지 여부를 묻는다.\n",
    "* `Yes`로 대답할 경우 바로 시세 정보를 알려준다.\n",
    "* 기타 경우에는 이전 처럼 특정 가격 이하로 내려갈 때까지 기다린다. "
   ]
  },
  {
   "cell_type": "markdown",
   "metadata": {},
   "source": [
    "### 구현하기\n",
    "* `if ... else...` 명령문을 이용한다.\n",
    "* 각각의 경우에 웹사이트에 접속해서 시세 정보를 확인하는 코드를 활용한다."
   ]
  },
  {
   "cell_type": "markdown",
   "metadata": {},
   "source": [
    "예를 들어 아래와 같이 구현할 수 있다."
   ]
  },
  {
   "cell_type": "markdown",
   "metadata": {},
   "source": [
    "* `Yes`라 답을 하면 바로 가격을 알려준다."
   ]
  },
  {
   "cell_type": "code",
   "execution_count": 9,
   "metadata": {},
   "outputs": [
    {
     "name": "stdout",
     "output_type": "stream",
     "text": [
      "지금 살까요? Yes\n",
      "커피 원두 현재 가격이 4.44 달러입니다.\n"
     ]
    }
   ],
   "source": [
    "import urllib.request\n",
    "import time\n",
    "\n",
    "price_url = \"http://beans.itcarlow.ie/prices-loyalty.html\"\n",
    "\n",
    "answer = input(\"지금 살까요? \")    \n",
    "\n",
    "if answer == 'Yes':\n",
    "    price_page = urllib.request.urlopen(price_url)\n",
    "    page_text = price_page.read().decode(\"utf8\")\n",
    "    price_location = page_text.find('>$') + 2\n",
    "    bean_price = float(page_text[price_location : price_location + 4])\n",
    "else:     \n",
    "    price_basis = 4.8\n",
    "    bean_price = 5.0\n",
    "\n",
    "    while bean_price > price_basis:\n",
    "        time.sleep(1)\n",
    "\n",
    "        price_page = urllib.request.urlopen(price_url)\n",
    "        page_text = price_page.read().decode(\"utf8\")\n",
    "\n",
    "        price_location = page_text.find('>$') + 2\n",
    "        bean_price = float(page_text[price_location : price_location + 4])\n",
    "\n",
    "print(f\"커피 원두 현재 가격이 {bean_price} 달러입니다.\")"
   ]
  },
  {
   "cell_type": "markdown",
   "metadata": {},
   "source": [
    "* 다르게 답하면 가격이 4.8달러 이하일 때까지 기다린 후 가격을 알려준다."
   ]
  },
  {
   "cell_type": "code",
   "execution_count": 12,
   "metadata": {},
   "outputs": [
    {
     "name": "stdout",
     "output_type": "stream",
     "text": [
      "지금 살까요? No\n",
      "커피 원두 현재 가격이 4.18 달러입니다.\n"
     ]
    }
   ],
   "source": [
    "import urllib.request\n",
    "import time\n",
    "\n",
    "price_url = \"http://beans.itcarlow.ie/prices-loyalty.html\"\n",
    "\n",
    "answer = input(\"지금 살까요? \")    \n",
    "\n",
    "if answer == 'Yes':\n",
    "    price_page = urllib.request.urlopen(price_url)\n",
    "    page_text = price_page.read().decode(\"utf8\")\n",
    "    price_location = page_text.find('>$') + 2\n",
    "    bean_price = float(page_text[price_location : price_location + 4])\n",
    "else:     \n",
    "    price_basis = 4.8\n",
    "    bean_price = 5.0\n",
    "\n",
    "    while bean_price > price_basis:\n",
    "        time.sleep(1)\n",
    "\n",
    "        price_page = urllib.request.urlopen(price_url)\n",
    "        page_text = price_page.read().decode(\"utf8\")\n",
    "\n",
    "        price_location = page_text.find('>$') + 2\n",
    "        bean_price = float(page_text[price_location : price_location + 4])\n",
    "\n",
    "print(f\"커피 원두 현재 가격이 {bean_price} 달러입니다.\")"
   ]
  },
  {
   "cell_type": "markdown",
   "metadata": {},
   "source": [
    "## 프로그램 업그레이드 2<a id='upgrade2'></a>"
   ]
  },
  {
   "cell_type": "markdown",
   "metadata": {},
   "source": [
    "[프로그램 업그레이드 1](#upgrade1)에서 개선된 프로그램은 \n",
    "아래 코드를 중복사용하는 문제를 갖고 있다. \n",
    "\n",
    "```python\n",
    "price_page = urllib.request.urlopen(price_url)\n",
    "page_text = price_page.read().decode(\"utf8\")\n",
    "price_location = page_text.find('>$') + 2\n",
    "bean_price = float(page_text[price_location : price_location + 4])\n",
    "```\n",
    "\n",
    "이런 문제는 위 코드에 이름을 주는 방법으로 쉽게 해결할 수 있다.\n",
    "즉, 위 코드를 함수로 정의한다.\n",
    "\n",
    "예를 들어, 위 코드를 아래와 같이 `get_price` 라는 함수로 정의할 수 있다. \n",
    "\n",
    "```python\n",
    "def get_price():\n",
    "    price_page = urllib.request.urlopen(price_url)\n",
    "    page_text = price_page.read().decode(\"utf8\")\n",
    "    price_location = page_text.find('>$') + 2\n",
    "    bean_price = float(page_text[price_location : price_location + 4])\n",
    "```"
   ]
  },
  {
   "cell_type": "markdown",
   "metadata": {},
   "source": [
    "이제 중복되는 코드를 `get_price` 함수를 호출하는 것으로 단순하게 대체할 수 있다."
   ]
  },
  {
   "cell_type": "markdown",
   "metadata": {},
   "source": [
    "이제, 아래 코드를 실행하면서 Yes를 입력해 보자.\n",
    "\n",
    "**주의:** \n",
    "아래 코드를 주피터 노트북에서 실행하기 전에 커널(kernel)을 재시작해야 한다.\n",
    "그렇지 않으면 코드가 의도한 대로 작동하지 않는다.\n",
    "이유는 아래에서 설명."
   ]
  },
  {
   "cell_type": "code",
   "execution_count": 1,
   "metadata": {},
   "outputs": [
    {
     "name": "stdout",
     "output_type": "stream",
     "text": [
      "지금 살까요? Yes\n"
     ]
    },
    {
     "ename": "NameError",
     "evalue": "name 'bean_price' is not defined",
     "output_type": "error",
     "traceback": [
      "\u001b[0;31m---------------------------------------------------------------------------\u001b[0m",
      "\u001b[0;31mNameError\u001b[0m                                 Traceback (most recent call last)",
      "\u001b[0;32m<ipython-input-1-0fd625868ef8>\u001b[0m in \u001b[0;36m<module>\u001b[0;34m\u001b[0m\n\u001b[1;32m     21\u001b[0m         \u001b[0mtime\u001b[0m\u001b[0;34m.\u001b[0m\u001b[0msleep\u001b[0m\u001b[0;34m(\u001b[0m\u001b[0;36m1\u001b[0m\u001b[0;34m)\u001b[0m\u001b[0;34m\u001b[0m\u001b[0;34m\u001b[0m\u001b[0m\n\u001b[1;32m     22\u001b[0m         \u001b[0mget_price\u001b[0m\u001b[0;34m(\u001b[0m\u001b[0;34m)\u001b[0m\u001b[0;34m\u001b[0m\u001b[0;34m\u001b[0m\u001b[0m\n\u001b[0;32m---> 23\u001b[0;31m \u001b[0mprint\u001b[0m\u001b[0;34m(\u001b[0m\u001b[0;34mf\"커피 원두 현재 가격이 {bean_price} 달러입니다.\"\u001b[0m\u001b[0;34m)\u001b[0m\u001b[0;34m\u001b[0m\u001b[0;34m\u001b[0m\u001b[0m\n\u001b[0m",
      "\u001b[0;31mNameError\u001b[0m: name 'bean_price' is not defined"
     ]
    }
   ],
   "source": [
    "import urllib.request\n",
    "import time\n",
    "\n",
    "price_url = \"http://beans.itcarlow.ie/prices-loyalty.html\"\n",
    "\n",
    "def get_price():\n",
    "    price_page = urllib.request.urlopen(price_url)\n",
    "    page_text = price_page.read().decode(\"utf8\")\n",
    "    price_location = page_text.find('>$') + 2\n",
    "    bean_price = float(page_text[price_location : price_location + 4])\n",
    "    \n",
    "answer = input(\"지금 살까요? \")    \n",
    "\n",
    "if answer == 'Yes':\n",
    "    get_price()\n",
    "else:     \n",
    "    price_basis = 4.8\n",
    "    bean_price = 5.0\n",
    "\n",
    "    while bean_price > price_basis:\n",
    "        time.sleep(1)\n",
    "        get_price()\n",
    "print(f\"커피 원두 현재 가격이 {bean_price} 달러입니다.\")"
   ]
  },
  {
   "cell_type": "markdown",
   "metadata": {},
   "source": [
    "이제, 위 코드를 실행하면서 No를 입력해 보자.\n",
    "\n",
    "**주의:** \n",
    "Yes와 다르게 입력하면 실행이 멈추지 않고 무한루프에 빠진다.\n",
    "따라서 실행하고 잠시 뒤에 실행을 강제로 멈추어야 한다.\n",
    "\n",
    "프로그램 강제 종료 방법은 다음과 같다.\n",
    "\n",
    "* 주피터 노트북: 키보드에서 영어 알파벳 아이(I) 키를 두 번 연속 누를 것.\n",
    "* 기타 편집기 및 터미널: 일반적으로 Ctrl-C. 운영체제, 편집기에 따라 다를 수 있음."
   ]
  },
  {
   "cell_type": "code",
   "execution_count": 2,
   "metadata": {},
   "outputs": [
    {
     "name": "stdout",
     "output_type": "stream",
     "text": [
      "지금 살까요? No\n"
     ]
    },
    {
     "ename": "KeyboardInterrupt",
     "evalue": "",
     "output_type": "error",
     "traceback": [
      "\u001b[0;31m---------------------------------------------------------------------------\u001b[0m",
      "\u001b[0;31mKeyboardInterrupt\u001b[0m                         Traceback (most recent call last)",
      "\u001b[0;32m<ipython-input-2-0fd625868ef8>\u001b[0m in \u001b[0;36m<module>\u001b[0;34m\u001b[0m\n\u001b[1;32m     20\u001b[0m     \u001b[0;32mwhile\u001b[0m \u001b[0mbean_price\u001b[0m \u001b[0;34m>\u001b[0m \u001b[0mprice_basis\u001b[0m\u001b[0;34m:\u001b[0m\u001b[0;34m\u001b[0m\u001b[0;34m\u001b[0m\u001b[0m\n\u001b[1;32m     21\u001b[0m         \u001b[0mtime\u001b[0m\u001b[0;34m.\u001b[0m\u001b[0msleep\u001b[0m\u001b[0;34m(\u001b[0m\u001b[0;36m1\u001b[0m\u001b[0;34m)\u001b[0m\u001b[0;34m\u001b[0m\u001b[0;34m\u001b[0m\u001b[0m\n\u001b[0;32m---> 22\u001b[0;31m         \u001b[0mget_price\u001b[0m\u001b[0;34m(\u001b[0m\u001b[0;34m)\u001b[0m\u001b[0;34m\u001b[0m\u001b[0;34m\u001b[0m\u001b[0m\n\u001b[0m\u001b[1;32m     23\u001b[0m \u001b[0mprint\u001b[0m\u001b[0;34m(\u001b[0m\u001b[0;34mf\"커피 원두 현재 가격이 {bean_price} 달러입니다.\"\u001b[0m\u001b[0;34m)\u001b[0m\u001b[0;34m\u001b[0m\u001b[0;34m\u001b[0m\u001b[0m\n",
      "\u001b[0;32m<ipython-input-2-0fd625868ef8>\u001b[0m in \u001b[0;36mget_price\u001b[0;34m()\u001b[0m\n\u001b[1;32m      5\u001b[0m \u001b[0;34m\u001b[0m\u001b[0m\n\u001b[1;32m      6\u001b[0m \u001b[0;32mdef\u001b[0m \u001b[0mget_price\u001b[0m\u001b[0;34m(\u001b[0m\u001b[0;34m)\u001b[0m\u001b[0;34m:\u001b[0m\u001b[0;34m\u001b[0m\u001b[0;34m\u001b[0m\u001b[0m\n\u001b[0;32m----> 7\u001b[0;31m     \u001b[0mprice_page\u001b[0m \u001b[0;34m=\u001b[0m \u001b[0murllib\u001b[0m\u001b[0;34m.\u001b[0m\u001b[0mrequest\u001b[0m\u001b[0;34m.\u001b[0m\u001b[0murlopen\u001b[0m\u001b[0;34m(\u001b[0m\u001b[0mprice_url\u001b[0m\u001b[0;34m)\u001b[0m\u001b[0;34m\u001b[0m\u001b[0;34m\u001b[0m\u001b[0m\n\u001b[0m\u001b[1;32m      8\u001b[0m     \u001b[0mpage_text\u001b[0m \u001b[0;34m=\u001b[0m \u001b[0mprice_page\u001b[0m\u001b[0;34m.\u001b[0m\u001b[0mread\u001b[0m\u001b[0;34m(\u001b[0m\u001b[0;34m)\u001b[0m\u001b[0;34m.\u001b[0m\u001b[0mdecode\u001b[0m\u001b[0;34m(\u001b[0m\u001b[0;34m\"utf8\"\u001b[0m\u001b[0;34m)\u001b[0m\u001b[0;34m\u001b[0m\u001b[0;34m\u001b[0m\u001b[0m\n\u001b[1;32m      9\u001b[0m     \u001b[0mprice_location\u001b[0m \u001b[0;34m=\u001b[0m \u001b[0mpage_text\u001b[0m\u001b[0;34m.\u001b[0m\u001b[0mfind\u001b[0m\u001b[0;34m(\u001b[0m\u001b[0;34m'>$'\u001b[0m\u001b[0;34m)\u001b[0m \u001b[0;34m+\u001b[0m \u001b[0;36m2\u001b[0m\u001b[0;34m\u001b[0m\u001b[0;34m\u001b[0m\u001b[0m\n",
      "\u001b[0;32m/usr/lib/python3.6/urllib/request.py\u001b[0m in \u001b[0;36murlopen\u001b[0;34m(url, data, timeout, cafile, capath, cadefault, context)\u001b[0m\n\u001b[1;32m    221\u001b[0m     \u001b[0;32melse\u001b[0m\u001b[0;34m:\u001b[0m\u001b[0;34m\u001b[0m\u001b[0;34m\u001b[0m\u001b[0m\n\u001b[1;32m    222\u001b[0m         \u001b[0mopener\u001b[0m \u001b[0;34m=\u001b[0m \u001b[0m_opener\u001b[0m\u001b[0;34m\u001b[0m\u001b[0;34m\u001b[0m\u001b[0m\n\u001b[0;32m--> 223\u001b[0;31m     \u001b[0;32mreturn\u001b[0m \u001b[0mopener\u001b[0m\u001b[0;34m.\u001b[0m\u001b[0mopen\u001b[0m\u001b[0;34m(\u001b[0m\u001b[0murl\u001b[0m\u001b[0;34m,\u001b[0m \u001b[0mdata\u001b[0m\u001b[0;34m,\u001b[0m \u001b[0mtimeout\u001b[0m\u001b[0;34m)\u001b[0m\u001b[0;34m\u001b[0m\u001b[0;34m\u001b[0m\u001b[0m\n\u001b[0m\u001b[1;32m    224\u001b[0m \u001b[0;34m\u001b[0m\u001b[0m\n\u001b[1;32m    225\u001b[0m \u001b[0;32mdef\u001b[0m \u001b[0minstall_opener\u001b[0m\u001b[0;34m(\u001b[0m\u001b[0mopener\u001b[0m\u001b[0;34m)\u001b[0m\u001b[0;34m:\u001b[0m\u001b[0;34m\u001b[0m\u001b[0;34m\u001b[0m\u001b[0m\n",
      "\u001b[0;32m/usr/lib/python3.6/urllib/request.py\u001b[0m in \u001b[0;36mopen\u001b[0;34m(self, fullurl, data, timeout)\u001b[0m\n\u001b[1;32m    524\u001b[0m             \u001b[0mreq\u001b[0m \u001b[0;34m=\u001b[0m \u001b[0mmeth\u001b[0m\u001b[0;34m(\u001b[0m\u001b[0mreq\u001b[0m\u001b[0;34m)\u001b[0m\u001b[0;34m\u001b[0m\u001b[0;34m\u001b[0m\u001b[0m\n\u001b[1;32m    525\u001b[0m \u001b[0;34m\u001b[0m\u001b[0m\n\u001b[0;32m--> 526\u001b[0;31m         \u001b[0mresponse\u001b[0m \u001b[0;34m=\u001b[0m \u001b[0mself\u001b[0m\u001b[0;34m.\u001b[0m\u001b[0m_open\u001b[0m\u001b[0;34m(\u001b[0m\u001b[0mreq\u001b[0m\u001b[0;34m,\u001b[0m \u001b[0mdata\u001b[0m\u001b[0;34m)\u001b[0m\u001b[0;34m\u001b[0m\u001b[0;34m\u001b[0m\u001b[0m\n\u001b[0m\u001b[1;32m    527\u001b[0m \u001b[0;34m\u001b[0m\u001b[0m\n\u001b[1;32m    528\u001b[0m         \u001b[0;31m# post-process response\u001b[0m\u001b[0;34m\u001b[0m\u001b[0;34m\u001b[0m\u001b[0;34m\u001b[0m\u001b[0m\n",
      "\u001b[0;32m/usr/lib/python3.6/urllib/request.py\u001b[0m in \u001b[0;36m_open\u001b[0;34m(self, req, data)\u001b[0m\n\u001b[1;32m    542\u001b[0m         \u001b[0mprotocol\u001b[0m \u001b[0;34m=\u001b[0m \u001b[0mreq\u001b[0m\u001b[0;34m.\u001b[0m\u001b[0mtype\u001b[0m\u001b[0;34m\u001b[0m\u001b[0;34m\u001b[0m\u001b[0m\n\u001b[1;32m    543\u001b[0m         result = self._call_chain(self.handle_open, protocol, protocol +\n\u001b[0;32m--> 544\u001b[0;31m                                   '_open', req)\n\u001b[0m\u001b[1;32m    545\u001b[0m         \u001b[0;32mif\u001b[0m \u001b[0mresult\u001b[0m\u001b[0;34m:\u001b[0m\u001b[0;34m\u001b[0m\u001b[0;34m\u001b[0m\u001b[0m\n\u001b[1;32m    546\u001b[0m             \u001b[0;32mreturn\u001b[0m \u001b[0mresult\u001b[0m\u001b[0;34m\u001b[0m\u001b[0;34m\u001b[0m\u001b[0m\n",
      "\u001b[0;32m/usr/lib/python3.6/urllib/request.py\u001b[0m in \u001b[0;36m_call_chain\u001b[0;34m(self, chain, kind, meth_name, *args)\u001b[0m\n\u001b[1;32m    502\u001b[0m         \u001b[0;32mfor\u001b[0m \u001b[0mhandler\u001b[0m \u001b[0;32min\u001b[0m \u001b[0mhandlers\u001b[0m\u001b[0;34m:\u001b[0m\u001b[0;34m\u001b[0m\u001b[0;34m\u001b[0m\u001b[0m\n\u001b[1;32m    503\u001b[0m             \u001b[0mfunc\u001b[0m \u001b[0;34m=\u001b[0m \u001b[0mgetattr\u001b[0m\u001b[0;34m(\u001b[0m\u001b[0mhandler\u001b[0m\u001b[0;34m,\u001b[0m \u001b[0mmeth_name\u001b[0m\u001b[0;34m)\u001b[0m\u001b[0;34m\u001b[0m\u001b[0;34m\u001b[0m\u001b[0m\n\u001b[0;32m--> 504\u001b[0;31m             \u001b[0mresult\u001b[0m \u001b[0;34m=\u001b[0m \u001b[0mfunc\u001b[0m\u001b[0;34m(\u001b[0m\u001b[0;34m*\u001b[0m\u001b[0margs\u001b[0m\u001b[0;34m)\u001b[0m\u001b[0;34m\u001b[0m\u001b[0;34m\u001b[0m\u001b[0m\n\u001b[0m\u001b[1;32m    505\u001b[0m             \u001b[0;32mif\u001b[0m \u001b[0mresult\u001b[0m \u001b[0;32mis\u001b[0m \u001b[0;32mnot\u001b[0m \u001b[0;32mNone\u001b[0m\u001b[0;34m:\u001b[0m\u001b[0;34m\u001b[0m\u001b[0;34m\u001b[0m\u001b[0m\n\u001b[1;32m    506\u001b[0m                 \u001b[0;32mreturn\u001b[0m \u001b[0mresult\u001b[0m\u001b[0;34m\u001b[0m\u001b[0;34m\u001b[0m\u001b[0m\n",
      "\u001b[0;32m/usr/lib/python3.6/urllib/request.py\u001b[0m in \u001b[0;36mhttp_open\u001b[0;34m(self, req)\u001b[0m\n\u001b[1;32m   1344\u001b[0m \u001b[0;34m\u001b[0m\u001b[0m\n\u001b[1;32m   1345\u001b[0m     \u001b[0;32mdef\u001b[0m \u001b[0mhttp_open\u001b[0m\u001b[0;34m(\u001b[0m\u001b[0mself\u001b[0m\u001b[0;34m,\u001b[0m \u001b[0mreq\u001b[0m\u001b[0;34m)\u001b[0m\u001b[0;34m:\u001b[0m\u001b[0;34m\u001b[0m\u001b[0;34m\u001b[0m\u001b[0m\n\u001b[0;32m-> 1346\u001b[0;31m         \u001b[0;32mreturn\u001b[0m \u001b[0mself\u001b[0m\u001b[0;34m.\u001b[0m\u001b[0mdo_open\u001b[0m\u001b[0;34m(\u001b[0m\u001b[0mhttp\u001b[0m\u001b[0;34m.\u001b[0m\u001b[0mclient\u001b[0m\u001b[0;34m.\u001b[0m\u001b[0mHTTPConnection\u001b[0m\u001b[0;34m,\u001b[0m \u001b[0mreq\u001b[0m\u001b[0;34m)\u001b[0m\u001b[0;34m\u001b[0m\u001b[0;34m\u001b[0m\u001b[0m\n\u001b[0m\u001b[1;32m   1347\u001b[0m \u001b[0;34m\u001b[0m\u001b[0m\n\u001b[1;32m   1348\u001b[0m     \u001b[0mhttp_request\u001b[0m \u001b[0;34m=\u001b[0m \u001b[0mAbstractHTTPHandler\u001b[0m\u001b[0;34m.\u001b[0m\u001b[0mdo_request_\u001b[0m\u001b[0;34m\u001b[0m\u001b[0;34m\u001b[0m\u001b[0m\n",
      "\u001b[0;32m/usr/lib/python3.6/urllib/request.py\u001b[0m in \u001b[0;36mdo_open\u001b[0;34m(self, http_class, req, **http_conn_args)\u001b[0m\n\u001b[1;32m   1316\u001b[0m             \u001b[0;32mtry\u001b[0m\u001b[0;34m:\u001b[0m\u001b[0;34m\u001b[0m\u001b[0;34m\u001b[0m\u001b[0m\n\u001b[1;32m   1317\u001b[0m                 h.request(req.get_method(), req.selector, req.data, headers,\n\u001b[0;32m-> 1318\u001b[0;31m                           encode_chunked=req.has_header('Transfer-encoding'))\n\u001b[0m\u001b[1;32m   1319\u001b[0m             \u001b[0;32mexcept\u001b[0m \u001b[0mOSError\u001b[0m \u001b[0;32mas\u001b[0m \u001b[0merr\u001b[0m\u001b[0;34m:\u001b[0m \u001b[0;31m# timeout error\u001b[0m\u001b[0;34m\u001b[0m\u001b[0;34m\u001b[0m\u001b[0m\n\u001b[1;32m   1320\u001b[0m                 \u001b[0;32mraise\u001b[0m \u001b[0mURLError\u001b[0m\u001b[0;34m(\u001b[0m\u001b[0merr\u001b[0m\u001b[0;34m)\u001b[0m\u001b[0;34m\u001b[0m\u001b[0;34m\u001b[0m\u001b[0m\n",
      "\u001b[0;32m/usr/lib/python3.6/http/client.py\u001b[0m in \u001b[0;36mrequest\u001b[0;34m(self, method, url, body, headers, encode_chunked)\u001b[0m\n\u001b[1;32m   1252\u001b[0m                 encode_chunked=False):\n\u001b[1;32m   1253\u001b[0m         \u001b[0;34m\"\"\"Send a complete request to the server.\"\"\"\u001b[0m\u001b[0;34m\u001b[0m\u001b[0;34m\u001b[0m\u001b[0m\n\u001b[0;32m-> 1254\u001b[0;31m         \u001b[0mself\u001b[0m\u001b[0;34m.\u001b[0m\u001b[0m_send_request\u001b[0m\u001b[0;34m(\u001b[0m\u001b[0mmethod\u001b[0m\u001b[0;34m,\u001b[0m \u001b[0murl\u001b[0m\u001b[0;34m,\u001b[0m \u001b[0mbody\u001b[0m\u001b[0;34m,\u001b[0m \u001b[0mheaders\u001b[0m\u001b[0;34m,\u001b[0m \u001b[0mencode_chunked\u001b[0m\u001b[0;34m)\u001b[0m\u001b[0;34m\u001b[0m\u001b[0;34m\u001b[0m\u001b[0m\n\u001b[0m\u001b[1;32m   1255\u001b[0m \u001b[0;34m\u001b[0m\u001b[0m\n\u001b[1;32m   1256\u001b[0m     \u001b[0;32mdef\u001b[0m \u001b[0m_send_request\u001b[0m\u001b[0;34m(\u001b[0m\u001b[0mself\u001b[0m\u001b[0;34m,\u001b[0m \u001b[0mmethod\u001b[0m\u001b[0;34m,\u001b[0m \u001b[0murl\u001b[0m\u001b[0;34m,\u001b[0m \u001b[0mbody\u001b[0m\u001b[0;34m,\u001b[0m \u001b[0mheaders\u001b[0m\u001b[0;34m,\u001b[0m \u001b[0mencode_chunked\u001b[0m\u001b[0;34m)\u001b[0m\u001b[0;34m:\u001b[0m\u001b[0;34m\u001b[0m\u001b[0;34m\u001b[0m\u001b[0m\n",
      "\u001b[0;32m/usr/lib/python3.6/http/client.py\u001b[0m in \u001b[0;36m_send_request\u001b[0;34m(self, method, url, body, headers, encode_chunked)\u001b[0m\n\u001b[1;32m   1298\u001b[0m             \u001b[0;31m# default charset of iso-8859-1.\u001b[0m\u001b[0;34m\u001b[0m\u001b[0;34m\u001b[0m\u001b[0;34m\u001b[0m\u001b[0m\n\u001b[1;32m   1299\u001b[0m             \u001b[0mbody\u001b[0m \u001b[0;34m=\u001b[0m \u001b[0m_encode\u001b[0m\u001b[0;34m(\u001b[0m\u001b[0mbody\u001b[0m\u001b[0;34m,\u001b[0m \u001b[0;34m'body'\u001b[0m\u001b[0;34m)\u001b[0m\u001b[0;34m\u001b[0m\u001b[0;34m\u001b[0m\u001b[0m\n\u001b[0;32m-> 1300\u001b[0;31m         \u001b[0mself\u001b[0m\u001b[0;34m.\u001b[0m\u001b[0mendheaders\u001b[0m\u001b[0;34m(\u001b[0m\u001b[0mbody\u001b[0m\u001b[0;34m,\u001b[0m \u001b[0mencode_chunked\u001b[0m\u001b[0;34m=\u001b[0m\u001b[0mencode_chunked\u001b[0m\u001b[0;34m)\u001b[0m\u001b[0;34m\u001b[0m\u001b[0;34m\u001b[0m\u001b[0m\n\u001b[0m\u001b[1;32m   1301\u001b[0m \u001b[0;34m\u001b[0m\u001b[0m\n\u001b[1;32m   1302\u001b[0m     \u001b[0;32mdef\u001b[0m \u001b[0mgetresponse\u001b[0m\u001b[0;34m(\u001b[0m\u001b[0mself\u001b[0m\u001b[0;34m)\u001b[0m\u001b[0;34m:\u001b[0m\u001b[0;34m\u001b[0m\u001b[0;34m\u001b[0m\u001b[0m\n",
      "\u001b[0;32m/usr/lib/python3.6/http/client.py\u001b[0m in \u001b[0;36mendheaders\u001b[0;34m(self, message_body, encode_chunked)\u001b[0m\n\u001b[1;32m   1247\u001b[0m         \u001b[0;32melse\u001b[0m\u001b[0;34m:\u001b[0m\u001b[0;34m\u001b[0m\u001b[0;34m\u001b[0m\u001b[0m\n\u001b[1;32m   1248\u001b[0m             \u001b[0;32mraise\u001b[0m \u001b[0mCannotSendHeader\u001b[0m\u001b[0;34m(\u001b[0m\u001b[0;34m)\u001b[0m\u001b[0;34m\u001b[0m\u001b[0;34m\u001b[0m\u001b[0m\n\u001b[0;32m-> 1249\u001b[0;31m         \u001b[0mself\u001b[0m\u001b[0;34m.\u001b[0m\u001b[0m_send_output\u001b[0m\u001b[0;34m(\u001b[0m\u001b[0mmessage_body\u001b[0m\u001b[0;34m,\u001b[0m \u001b[0mencode_chunked\u001b[0m\u001b[0;34m=\u001b[0m\u001b[0mencode_chunked\u001b[0m\u001b[0;34m)\u001b[0m\u001b[0;34m\u001b[0m\u001b[0;34m\u001b[0m\u001b[0m\n\u001b[0m\u001b[1;32m   1250\u001b[0m \u001b[0;34m\u001b[0m\u001b[0m\n\u001b[1;32m   1251\u001b[0m     def request(self, method, url, body=None, headers={}, *,\n",
      "\u001b[0;32m/usr/lib/python3.6/http/client.py\u001b[0m in \u001b[0;36m_send_output\u001b[0;34m(self, message_body, encode_chunked)\u001b[0m\n\u001b[1;32m   1034\u001b[0m         \u001b[0mmsg\u001b[0m \u001b[0;34m=\u001b[0m \u001b[0;34mb\"\\r\\n\"\u001b[0m\u001b[0;34m.\u001b[0m\u001b[0mjoin\u001b[0m\u001b[0;34m(\u001b[0m\u001b[0mself\u001b[0m\u001b[0;34m.\u001b[0m\u001b[0m_buffer\u001b[0m\u001b[0;34m)\u001b[0m\u001b[0;34m\u001b[0m\u001b[0;34m\u001b[0m\u001b[0m\n\u001b[1;32m   1035\u001b[0m         \u001b[0;32mdel\u001b[0m \u001b[0mself\u001b[0m\u001b[0;34m.\u001b[0m\u001b[0m_buffer\u001b[0m\u001b[0;34m[\u001b[0m\u001b[0;34m:\u001b[0m\u001b[0;34m]\u001b[0m\u001b[0;34m\u001b[0m\u001b[0;34m\u001b[0m\u001b[0m\n\u001b[0;32m-> 1036\u001b[0;31m         \u001b[0mself\u001b[0m\u001b[0;34m.\u001b[0m\u001b[0msend\u001b[0m\u001b[0;34m(\u001b[0m\u001b[0mmsg\u001b[0m\u001b[0;34m)\u001b[0m\u001b[0;34m\u001b[0m\u001b[0;34m\u001b[0m\u001b[0m\n\u001b[0m\u001b[1;32m   1037\u001b[0m \u001b[0;34m\u001b[0m\u001b[0m\n\u001b[1;32m   1038\u001b[0m         \u001b[0;32mif\u001b[0m \u001b[0mmessage_body\u001b[0m \u001b[0;32mis\u001b[0m \u001b[0;32mnot\u001b[0m \u001b[0;32mNone\u001b[0m\u001b[0;34m:\u001b[0m\u001b[0;34m\u001b[0m\u001b[0;34m\u001b[0m\u001b[0m\n",
      "\u001b[0;32m/usr/lib/python3.6/http/client.py\u001b[0m in \u001b[0;36msend\u001b[0;34m(self, data)\u001b[0m\n\u001b[1;32m    972\u001b[0m         \u001b[0;32mif\u001b[0m \u001b[0mself\u001b[0m\u001b[0;34m.\u001b[0m\u001b[0msock\u001b[0m \u001b[0;32mis\u001b[0m \u001b[0;32mNone\u001b[0m\u001b[0;34m:\u001b[0m\u001b[0;34m\u001b[0m\u001b[0;34m\u001b[0m\u001b[0m\n\u001b[1;32m    973\u001b[0m             \u001b[0;32mif\u001b[0m \u001b[0mself\u001b[0m\u001b[0;34m.\u001b[0m\u001b[0mauto_open\u001b[0m\u001b[0;34m:\u001b[0m\u001b[0;34m\u001b[0m\u001b[0;34m\u001b[0m\u001b[0m\n\u001b[0;32m--> 974\u001b[0;31m                 \u001b[0mself\u001b[0m\u001b[0;34m.\u001b[0m\u001b[0mconnect\u001b[0m\u001b[0;34m(\u001b[0m\u001b[0;34m)\u001b[0m\u001b[0;34m\u001b[0m\u001b[0;34m\u001b[0m\u001b[0m\n\u001b[0m\u001b[1;32m    975\u001b[0m             \u001b[0;32melse\u001b[0m\u001b[0;34m:\u001b[0m\u001b[0;34m\u001b[0m\u001b[0;34m\u001b[0m\u001b[0m\n\u001b[1;32m    976\u001b[0m                 \u001b[0;32mraise\u001b[0m \u001b[0mNotConnected\u001b[0m\u001b[0;34m(\u001b[0m\u001b[0;34m)\u001b[0m\u001b[0;34m\u001b[0m\u001b[0;34m\u001b[0m\u001b[0m\n",
      "\u001b[0;32m/usr/lib/python3.6/http/client.py\u001b[0m in \u001b[0;36mconnect\u001b[0;34m(self)\u001b[0m\n\u001b[1;32m    944\u001b[0m         \u001b[0;34m\"\"\"Connect to the host and port specified in __init__.\"\"\"\u001b[0m\u001b[0;34m\u001b[0m\u001b[0;34m\u001b[0m\u001b[0m\n\u001b[1;32m    945\u001b[0m         self.sock = self._create_connection(\n\u001b[0;32m--> 946\u001b[0;31m             (self.host,self.port), self.timeout, self.source_address)\n\u001b[0m\u001b[1;32m    947\u001b[0m         \u001b[0mself\u001b[0m\u001b[0;34m.\u001b[0m\u001b[0msock\u001b[0m\u001b[0;34m.\u001b[0m\u001b[0msetsockopt\u001b[0m\u001b[0;34m(\u001b[0m\u001b[0msocket\u001b[0m\u001b[0;34m.\u001b[0m\u001b[0mIPPROTO_TCP\u001b[0m\u001b[0;34m,\u001b[0m \u001b[0msocket\u001b[0m\u001b[0;34m.\u001b[0m\u001b[0mTCP_NODELAY\u001b[0m\u001b[0;34m,\u001b[0m \u001b[0;36m1\u001b[0m\u001b[0;34m)\u001b[0m\u001b[0;34m\u001b[0m\u001b[0;34m\u001b[0m\u001b[0m\n\u001b[1;32m    948\u001b[0m \u001b[0;34m\u001b[0m\u001b[0m\n",
      "\u001b[0;32m/usr/lib/python3.6/socket.py\u001b[0m in \u001b[0;36mcreate_connection\u001b[0;34m(address, timeout, source_address)\u001b[0m\n\u001b[1;32m    711\u001b[0m             \u001b[0;32mif\u001b[0m \u001b[0msource_address\u001b[0m\u001b[0;34m:\u001b[0m\u001b[0;34m\u001b[0m\u001b[0;34m\u001b[0m\u001b[0m\n\u001b[1;32m    712\u001b[0m                 \u001b[0msock\u001b[0m\u001b[0;34m.\u001b[0m\u001b[0mbind\u001b[0m\u001b[0;34m(\u001b[0m\u001b[0msource_address\u001b[0m\u001b[0;34m)\u001b[0m\u001b[0;34m\u001b[0m\u001b[0;34m\u001b[0m\u001b[0m\n\u001b[0;32m--> 713\u001b[0;31m             \u001b[0msock\u001b[0m\u001b[0;34m.\u001b[0m\u001b[0mconnect\u001b[0m\u001b[0;34m(\u001b[0m\u001b[0msa\u001b[0m\u001b[0;34m)\u001b[0m\u001b[0;34m\u001b[0m\u001b[0;34m\u001b[0m\u001b[0m\n\u001b[0m\u001b[1;32m    714\u001b[0m             \u001b[0;31m# Break explicitly a reference cycle\u001b[0m\u001b[0;34m\u001b[0m\u001b[0;34m\u001b[0m\u001b[0;34m\u001b[0m\u001b[0m\n\u001b[1;32m    715\u001b[0m             \u001b[0merr\u001b[0m \u001b[0;34m=\u001b[0m \u001b[0;32mNone\u001b[0m\u001b[0;34m\u001b[0m\u001b[0;34m\u001b[0m\u001b[0m\n",
      "\u001b[0;31mKeyboardInterrupt\u001b[0m: "
     ]
    }
   ],
   "source": [
    "import urllib.request\n",
    "import time\n",
    "\n",
    "price_url = \"http://beans.itcarlow.ie/prices-loyalty.html\"\n",
    "\n",
    "def get_price():\n",
    "    price_page = urllib.request.urlopen(price_url)\n",
    "    page_text = price_page.read().decode(\"utf8\")\n",
    "    price_location = page_text.find('>$') + 2\n",
    "    bean_price = float(page_text[price_location : price_location + 4])\n",
    "    \n",
    "answer = input(\"지금 살까요? \")    \n",
    "\n",
    "if answer == 'Yes':\n",
    "    get_price()\n",
    "else:     \n",
    "    price_basis = 4.8\n",
    "    bean_price = 5.0\n",
    "\n",
    "    while bean_price > price_basis:\n",
    "        time.sleep(1)\n",
    "        get_price()\n",
    "print(f\"커피 원두 현재 가격이 {bean_price} 달러입니다.\")"
   ]
  },
  {
   "cell_type": "markdown",
   "metadata": {},
   "source": [
    "### 문제 원인 설명"
   ]
  },
  {
   "cell_type": "markdown",
   "metadata": {},
   "source": [
    "발생한 문제 정리\n",
    "\n",
    "* Yes 입력할 때: `NameError`가 발생하며, `bean_price`가 정의되어 있지 않다고 한다.\n",
    "* Yes와 다른 문장, 예를 들어 No를 입력할 때: 무한루프에 빠진다."
   ]
  },
  {
   "cell_type": "markdown",
   "metadata": {},
   "source": [
    "`bean_price` 가 정의되어 있지 않다는 설명은 좀 이상하다.\n",
    "왜냐하면 `get_price` 함수의 본체에 `bean_price` 변수가 커피 원두 가격을 가리키고 있기 때문이다.\n",
    "\n",
    "No라고 입력할 때 무한루프에 빠지는 이유도 마찬가지로 수상하다.\n",
    "무엇보다도 이전에 잘 작동하던 코드인데 `get_price` 함수를 선언한 후에\n",
    "문제가 발생했다.\n",
    "`get_price` 함수는 단순히 특정 명령문에 이름을 붙인 것이며, 다른 것은 변한 게 없다.\n",
    "\n",
    "이유가 무엇일까? \n",
    "\n",
    "두 가지 경우의 문제가 겉으론 달라 보이지만 원인은 동일하다. \n",
    "문제의 원인은 `bean_price` 변수가 `get_price` 함수 본체에서 선언되어 있어서\n",
    "함수 밖에서는 사용될 수 없다는 데에 있다.\n",
    "즉, 함수 본체에서 선언된 변수는 함수 밖에서는 사용될 수 없다."
   ]
  },
  {
   "cell_type": "markdown",
   "metadata": {},
   "source": [
    "### 전역변수와 지역변수"
   ]
  },
  {
   "cell_type": "markdown",
   "metadata": {},
   "source": [
    "먼저 [PythonTuror](http://pythontutor.com/visualize.html#code=def%20get_price%28%29%3A%0A%20%20%20%20bean_price%20%3D%204.6%0A%20%20%20%20%0Aanswer%20%3D%20input%28%22Yes%20or%20No%3A%20%22%29%20%20%20%20%0A%0Aif%20answer%20%3D%3D%20'Yes'%3A%0A%20%20%20%20get_price%28%29%0Aelse%3A%20%20%20%20%20%0A%20%20%20%20price_basis%20%3D%204.8%0A%20%20%20%20bean_price%20%3D%205.0%0A%0A%20%20%20%20while%20bean_price%20%3E%20price_basis%3A%0A%20%20%20%20%20%20%20%20time.sleep%281%29%0A%20%20%20%20%20%20%20%20get_price%28%29%0Aprint%28bean_price%29&cumulative=false&curInstr=0&heapPrimitives=nevernest&mode=display&origin=opt-frontend.js&py=py3anaconda&rawInputLstJSON=%5B%5D&textReferences=false) 코드를 실행해보자."
   ]
  },
  {
   "cell_type": "markdown",
   "metadata": {},
   "source": [
    "## 코드 개선 3: `global` 키워드 활용"
   ]
  },
  {
   "cell_type": "markdown",
   "metadata": {},
   "source": [
    "위 코드의 문제점은 함수 본체에서 선언된 변수와 함수 밖에서 선언된 변수와의 관계가 서로 관계가 전혀 없기 때문에 발생한다. 즉, 두 변수가 일종의 동명이인과 같기 때문이다.\n",
    "\n",
    "전문적인 용어를 사용한다면 함수 본체에서 선언된 `price`는 **지역변수(local variable)** 이고\n",
    "함수 밖에서 선언된 `price`는 **전역변수(global variable)** 이기 때문에 기본적으로 서로 아무 연관이 없다라고 \n",
    "말한다. \n",
    "\n",
    "그렇다면 전역변수와 전역변수를 서로 연결시키는 방법을 활용한다면 문제를 해결할 수 있다.\n",
    "\n",
    "여기서는 `global` 키워드를 이용하여 두 변수를 연동시키는 방법을 먼저 소개한다.\n",
    "* 방법: 함수 본체에서 선언되는 변수들에 `global` 키워드를 붙여서 선언다.\n",
    "위 코드에 `global` 키워드만 추가하면 아래와 같으며, 잘 작동함을 확인할 수 있다."
   ]
  },
  {
   "cell_type": "code",
   "execution_count": null,
   "metadata": {},
   "outputs": [],
   "source": [
    "import urllib.request\n",
    "import time          \n",
    "\n",
    "def get_price():\n",
    "    global price\n",
    "    page = urllib.request.urlopen(\"http://beans-r-us.appspot.com/prices-loyalty.html\")\n",
    "    text = page.read().decode(\"utf8\")\n",
    "\n",
    "    where = text.find(\">$\") + 2\n",
    "    price = float(text[where : where + 4])\n",
    "\n",
    "\n",
    "answer = input(\"지금 살까요? \")    \n",
    "price = 0\n",
    "\n",
    "if answer == 'Yes':\n",
    "    get_price()\n",
    "    print(\"현재 커피 원두콩 시세가\", price, \"달러입니다.\")\n",
    "else:\n",
    "    price = 5.0\n",
    "    while price > 4.3:\n",
    "        time.sleep(1)\n",
    "        get_price()\n",
    "    \n",
    "    print(\"현재 커피 원두콩 시세가\", price, \"달러입니다. 지금 사세요.\")"
   ]
  },
  {
   "cell_type": "code",
   "execution_count": null,
   "metadata": {},
   "outputs": [],
   "source": [
    "import urllib.request\n",
    "import time          \n",
    "\n",
    "def get_price():\n",
    "    global price\n",
    "    page = urllib.request.urlopen(\"http://beans-r-us.appspot.com/prices-loyalty.html\")\n",
    "    text = page.read().decode(\"utf8\")\n",
    "\n",
    "    where = text.find(\">$\") + 2\n",
    "    price = float(text[where : where + 4])\n",
    "\n",
    "\n",
    "answer = input(\"지금 살까요? \")    \n",
    "price = 0\n",
    "\n",
    "if answer == 'Yes':\n",
    "    get_price()\n",
    "    print(\"현재 커피 원두콩 시세가\", price, \"달러입니다.\")\n",
    "else:\n",
    "    price = 5.0\n",
    "    while price > 4.3:\n",
    "        time.sleep(1)\n",
    "        get_price()\n",
    "    \n",
    "    print(\"현재 커피 원두콩 시세가\", price, \"달러입니다. 지금 사세요.\")"
   ]
  },
  {
   "cell_type": "markdown",
   "metadata": {},
   "source": [
    "#### 주의사항\n",
    "사용하는 프로그래밍언어에 따라 지역변수와 전역변수를 구분하거나 연동시키는 방법이 다를 수 있다.\n",
    "* C 언어: 지역변수와 전역변수를 연동시키는 방법은 기본적으로 없다.\n",
    "* Java 언어: 자바의 경우는 모든 코드가 클래스 안에서 선언되기 때문에 기본적으로 지역변수만 존재한다.\n",
    "    하지만 `static`이란 키워드를 사용하여 전역변수처럼 다룰 수 있는 기능이 제공된다."
   ]
  },
  {
   "cell_type": "markdown",
   "metadata": {},
   "source": [
    "## 코드 개선 4: 함수 리턴값 활용"
   ]
  },
  {
   "cell_type": "markdown",
   "metadata": {},
   "source": [
    "앞서 `global` 키워드를 이용하여 개선한 코드는 문제 없이 작동하지만 다음과 같은 이유로 만족스럽지 않다.\n",
    "* 모든 프로그래밍언어에서 전역변수와 지역변수를 기능적으로 구분한다.\n",
    "* 기능적으로 구분된 두 변수를 강제로 연동한다면 다룬 문제를 유발할 수 있다."
   ]
  },
  {
   "cell_type": "markdown",
   "metadata": {},
   "source": [
    "예를 들어, 아래 코드를 살펴보자."
   ]
  },
  {
   "cell_type": "code",
   "execution_count": null,
   "metadata": {},
   "outputs": [],
   "source": [
    "def fun_A():\n",
    "    global price\n",
    "    price = 1.74\n",
    "    \n",
    "def fun_B():\n",
    "    global price\n",
    "    price = 2\n",
    "    \n",
    "price = 0\n",
    "\n",
    "fun_A()\n",
    "fun_B()\n",
    "\n",
    "print(price)"
   ]
  },
  {
   "cell_type": "markdown",
   "metadata": {},
   "source": [
    "위 코드에서 `fun_A`와 `fun_B` 두 함수 모두 `global` 키워드를 사용하여 함수 밖에서 \n",
    "선언된 `price` 전역변수를 사용하도록 선언하였다.\n",
    "\n",
    "그리고 `fun_A` 함수와 `fun_B` 함수를 연달아 호출한 후, `price` 변수에\n",
    "할당된 값을 최종적으로 확인한다.\n",
    "확인 결과로 `fun_B` 함수에 의해 결정된 값인 2가 할당됨을 알게 된다.\n",
    "이렇듯, `global` 키워드를 여러 곳에서 사용하면 여러 함수가 하나의 전역변수를 건드리는 결과가 발생할 수 있기 때문에\n",
    "코드가 길어지고 복잡해지면 프로그램이 실행될 때 변수에 할당된 값이 어떻게 변경되는가를 추적하는 일이 매우 어렵거나\n",
    "심지어 불가능해지는 일이 발생할 수 있다.\n",
    "\n",
    "이런 문제로 인해 `global` 키워드를 사용하는 방식은 가급적 자제하는 것이 좋으며, 여기서는 \n",
    "다른 해결책을 활용하여 코드를 개선하고자 한다."
   ]
  },
  {
   "cell_type": "markdown",
   "metadata": {},
   "source": [
    "아래 코드는 함수의 리턴값을 활용하는 방식이다. \n",
    "\n",
    "**참조:** 함수의 리턴값에 대한 자세한 설명은 \n",
    "[여기](https://github.com/liganega/bpp/blob/master/notes/03-ThinkPython-Functions.ipynb)를 \n",
    "참조할 것."
   ]
  },
  {
   "cell_type": "markdown",
   "metadata": {},
   "source": [
    "* 먼저, 앞서 사용한 `get_price` 함수는 리턴값이 명시되지 않았음에 주의하라.\n",
    "* 파이썬의 경우 `return` 키워드를 이용한 리턴값이 명시되지 않으면 `None`이라는 리턴값을 기본값으로 사용한다.\n",
    "* 또한 함수의 리턴값은 변수에 할당되는 값 또는 다른 함수의 인자로 사용될 수 있다는 점을 기억해야 한다."
   ]
  },
  {
   "cell_type": "markdown",
   "metadata": {},
   "source": [
    "앞선 코드의 문제점은 `get_price` 함수를 실행하면서 얻은 시세 정보를 저장하여 제대로 재활용하지 못하는 데서 시작되었다. \n",
    "따라서 함수를 실행하면서 얻은 값 또는 정보를 리턴값으로 되돌려 주는 방식을 활용하면 문제를 해결할 수 있다.\n",
    "예를 들어 `get_price` 함수를 아래와 같이 정의할 수 있다.\n",
    "```python\n",
    "def get_price():\n",
    "    page = urllib.request.urlopen(\"http://beans-r-us.appspot.com/prices-loyalty.html\")\n",
    "    text = page.read().decode(\"utf8\")\n",
    "\n",
    "    where = text.find(\">$\") + 2\n",
    "    price = float(text[where : where + 4])\n",
    "\n",
    "    return price\n",
    "```\n",
    "\n",
    "즉, `price` 지역변수에 할당된 시세 정보를 함수가 종료되기 전에 되돌려주도록 `return` 키워드를 사용하여\n",
    "리턴값으로 명시하는 것이다.\n",
    "\n",
    "이렇게 리턴값을 명시하면 함수가 종료되면서 되될려주는 리턴값을 다른 변수에 저장하는 방식으로 재활용할 수 있다."
   ]
  },
  {
   "cell_type": "code",
   "execution_count": null,
   "metadata": {},
   "outputs": [],
   "source": [
    "import urllib.request\n",
    "import time          \n",
    "\n",
    "def get_price():\n",
    "    page = urllib.request.urlopen(\"http://beans-r-us.appspot.com/prices-loyalty.html\")\n",
    "    text = page.read().decode(\"utf8\")\n",
    "\n",
    "    where = text.find(\">$\") + 2\n",
    "    price = float(text[where : where + 4])\n",
    "    \n",
    "    return price                  # 리턴값 선언\n",
    "\n",
    "answer = input(\"지금 살까요? \")    \n",
    "\n",
    "if answer == 'Yes':\n",
    "    price = get_price()            # 리턴값을 할당받음\n",
    "    print(\"현재 커피 원두콩 시세가\", price, \"달러입니다.\")\n",
    "else:\n",
    "    price = 5.0\n",
    "    while price > 4.3:\n",
    "        time.sleep(1)\n",
    "        price = get_price()        # 리턴값을 할당받아 업데이트함\n",
    "    \n",
    "    print(\"현재 커피 원두콩 시세가\", price, \"달러입니다. 지금 사세요.\")"
   ]
  },
  {
   "cell_type": "code",
   "execution_count": null,
   "metadata": {},
   "outputs": [],
   "source": [
    "import urllib.request\n",
    "import time          \n",
    "\n",
    "def get_price():\n",
    "    page = urllib.request.urlopen(\"http://beans-r-us.appspot.com/prices-loyalty.html\")\n",
    "    text = page.read().decode(\"utf8\")\n",
    "\n",
    "    where = text.find(\">$\") + 2\n",
    "    price = float(text[where : where + 4])\n",
    "    \n",
    "    return price                  # 리턴값 선언\n",
    "\n",
    "answer = input(\"지금 살까요? \")    \n",
    "\n",
    "if answer == 'Yes':\n",
    "    price = get_price()            # 리턴값을 할당받음\n",
    "    print(\"현재 커피 원두콩 시세가\", price, \"달러입니다.\")\n",
    "else:\n",
    "    price = 5.0\n",
    "    while price > 4.3:\n",
    "        time.sleep(1)\n",
    "        price = get_price()        # 리턴값을 할당받아 업데이트함\n",
    "    \n",
    "    print(\"현재 커피 원두콩 시세가\", price, \"달러입니다. 지금 사세요.\")"
   ]
  },
  {
   "cell_type": "markdown",
   "metadata": {},
   "source": [
    "## 예제: 재귀함수"
   ]
  },
  {
   "cell_type": "markdown",
   "metadata": {},
   "source": [
    "올해의 게임(Game Of The Year, GOTY)을 담고 있는 리스트가 아래와 같이 있다."
   ]
  },
  {
   "cell_type": "code",
   "execution_count": null,
   "metadata": {},
   "outputs": [],
   "source": [
    "GOTY = [\"Zelda\", 2017, \"Uncharted\", 2016, \n",
    "           [\"Farcry5\", \n",
    "            [\"A Way Out\", \"God of War\", \"Detroit\"]]]"
   ]
  },
  {
   "cell_type": "markdown",
   "metadata": {},
   "source": [
    "위 리스트를 아래와 같이 출력하는 코드는 2중 `for`문을 이용할 수 있다.\n",
    "```\n",
    "Zelda\n",
    "2017\n",
    "Uncharted\n",
    "2016\n",
    "Farcry5\n",
    "['A Way Out', 'God of War', 'Detroit']\n",
    "```"
   ]
  },
  {
   "cell_type": "code",
   "execution_count": null,
   "metadata": {},
   "outputs": [],
   "source": [
    "for each_item in GOTY:\n",
    "    if isinstance(each_item, list):\n",
    "        for nested_item in each_item:\n",
    "            print(nested_item)\n",
    "    else:\n",
    "        print(each_item)"
   ]
  },
  {
   "cell_type": "markdown",
   "metadata": {},
   "source": [
    "이제 `GOTY`를 아래 모양으로 출력하는 코드를 구현하고자 한다.\n",
    "즉, 중첩으로 사용된 리스트를 모두 해체하는 코드가 필요하다.\n",
    "```\n",
    "Zelda\n",
    "2017\n",
    "Uncharted\n",
    "2016\n",
    "Farcry5\n",
    "A Way Out\n",
    "God of War\n",
    "Detroit\n",
    "```"
   ]
  },
  {
   "cell_type": "markdown",
   "metadata": {},
   "source": [
    "가장 먼저 떠오르는 것은 아마도 `for`문을 3중으로 겹쳐서 사용하면 된다는 것이다.\n",
    "즉, 아래와 같이 할 수 있다."
   ]
  },
  {
   "cell_type": "code",
   "execution_count": null,
   "metadata": {},
   "outputs": [],
   "source": [
    "for each_item in GOTY:\n",
    "    if isinstance(each_item, list):\n",
    "        for nested_item in each_item:\n",
    "            if isinstance(nested_item, list):\n",
    "                for double_nested_item in nested_item:\n",
    "                    print(double_nested_item)\n",
    "            else:\n",
    "                print(nested_item)\n",
    "    else:\n",
    "        print(each_item)"
   ]
  },
  {
   "cell_type": "markdown",
   "metadata": {},
   "source": [
    "그런데 이렇게 하면 한 가지 문제가 있음을 알아챘을 것이다. \n",
    "`GOTY` 리스트의 중첩 정도와 원하는 결과에 따라 사용해야 하는 `for`문의 중첩 정도가 상응해서 복잡해지기 때문이다.\n",
    "현재 `moviesw` 리스트는 3중 리스트 모양이다. 따라서 가장 안쪽에 위치한 리스트의 내용을 확인하려면 \n",
    "`for`문을 3중으로 이용해야 한다.\n",
    "그렇다면 4중, 5중, 6중 등등의 리스트를 다룬다면 4중, 5중, 6중 등등의 `for`문을 사용해야 한다는 말인데, \n",
    "이건 매우 심각하다. \n",
    "\n",
    "이와같이 대상으로 삼는 리스트의 중첩 정도에 따라 다른 식으로 구현된 프로그램은 최악 중의 최악이다. \n",
    "도대체 몇 중의 리스트를 다룰지 매번 보고 결정해야 한다는 말인데 매우 비효율적이며 \n",
    "어떠한 실용성도 없는 프로그램 작성법이다. \n",
    "\n",
    "그렇다면 리스트의 중첩 정도의 정보를 굳이 사용하지 않으면서 원하는 결과를 얻어낼 수 있는 방법이 필요하다. \n",
    "여기서 재귀함수를 이용한 해결책을 소개한다. \n",
    "\n",
    "먼저 다음에 정의되는 `print_items` 함수를 살펴보자."
   ]
  },
  {
   "cell_type": "code",
   "execution_count": null,
   "metadata": {},
   "outputs": [],
   "source": [
    "def print_items(a_list):\n",
    "    for each_item in a_list:\n",
    "        if isinstance(each_item, list):\n",
    "            print_items(each_item)\n",
    "        else:\n",
    "            print(each_item)"
   ]
  },
  {
   "cell_type": "markdown",
   "metadata": {},
   "source": [
    "`print_items` 함수는 좀 이상하다. \n",
    "정의가 끝나지 않았는데 자신을 자신 본체에서 사용한다. \n",
    "이런 함수를 __재귀함수__(recursive function)라 부른다. \n",
    "\n",
    "4번 줄에서 사용된 `print_items` 함수호출이 이루어지면 다시 2번 줄로 돌아간다.\n",
    "즉, 현재 확인하는 항목이 또다른 리스트인지를 묻는 질문을 리스트가 아닐 때까지 반복한다.\n",
    "따라서 `print_items` 함수를 이용하면 앞선 문제를 바로 해결한다.\n",
    "사실 임의로 중첩된 리스트를 인자로 받아도 중첩을 모두 풀어버린다."
   ]
  },
  {
   "cell_type": "code",
   "execution_count": null,
   "metadata": {},
   "outputs": [],
   "source": [
    "print_items(GOTY)"
   ]
  },
  {
   "cell_type": "markdown",
   "metadata": {},
   "source": [
    "## 연습문제"
   ]
  },
  {
   "cell_type": "markdown",
   "metadata": {},
   "source": [
    "1. `print_items` 수정하여 `GOTY`를 아래와 같이 출력하도록 하는 `print_items2` 함수를 구현하라.\n",
    "\n",
    "        Zelda\n",
    "        2017\n",
    "        Uncharted\n",
    "        2016\n",
    "            Farcry5\n",
    "                A Way Out\n",
    "                God of War\n",
    "                Detroit\n",
    "\n",
    "    ##### 힌트\n",
    "    * `print_items` 함수의 인자를 두 개로 수정한다. \n",
    "        하나는 리스트의 인자를 다루며, 다른 하나는 들어쓰기 정도를 다루는 \n",
    "        인자를 하나 받아서 앞 문제 코드의 for문을 재귀적으로 처리한다. \n",
    "        즉, 아래와 같은 모양을 갖는다.\n",
    "\n",
    "            def print_lol2(a_list, level):\n",
    "                함수본체\n",
    "\n",
    "        위에서 level은 탭을 사용하는 횟수를 나타내도록 한다. \n",
    "        그러면 `print_items2(GOTY, 0)`을 실행하면 원하는 결과가 나올 수 있다.\n",
    "    * 탭 출력은 `print('\\t')`를 이용하면 된다.\n",
    "    <br><br>\n",
    "1. 위 과제에서 구현한 `print_items2` 함수를 아래와 같이 수정하라.\n",
    "    * 인자수를 세 개로 늘린다.\n",
    "\n",
    "            def print_items3(a_list, level, indent=False):\n",
    "                함수본체\n",
    "\n",
    "    * `indent` 예약어인자 값이 `True`이면 연습4에서 처럼 들여쓰기를 하고, \n",
    "        `False`이면 들여쓰기를 하지 않는다."
   ]
  }
 ],
 "metadata": {
  "kernelspec": {
   "display_name": "Python 3",
   "language": "python",
   "name": "python3"
  },
  "language_info": {
   "codemirror_mode": {
    "name": "ipython",
    "version": 3
   },
   "file_extension": ".py",
   "mimetype": "text/x-python",
   "name": "python",
   "nbconvert_exporter": "python",
   "pygments_lexer": "ipython3",
   "version": "3.6.8"
  }
 },
 "nbformat": 4,
 "nbformat_minor": 2
}
