{
 "cells": [
  {
   "cell_type": "markdown",
   "metadata": {},
   "source": [
    "# 코드 추상화: 함수편"
   ]
  },
  {
   "cell_type": "markdown",
   "metadata": {},
   "source": [
    "**추상화**는 일반적으로 구체적인 사물들의 무리로부터 핵심적인 개념 또는 기능을 추출해 내는 것을 의미한다.\n",
    "대표적으로 수학에서 다루는 점, 선, 면이 추상화를 통해 생성된 개념이다.\n",
    "예를 들어, 삼각형은 점과 선이 각각 세 개로 구성되며, 면은 세 개의 선으로 제한된 영역을 의미하는데,\n",
    "이는 임의의 삼각형이 공통적으로 갖는 성질이다. \n",
    "\n",
    "프로그래밍 분야에서 다루는 구체적인 사물은 명령문(command)과 값(value)이다. \n",
    "따라서 프로그래밍 분야에서의 추상화는 특정 명령문들의 무리를 대표하는 개념을 추출하거나,\n",
    "특정 값들의 속성을 대표하는 개념을 추출하는 것이다.\n",
    "\n",
    "특정 코드를 대상으로 하는 추상화는 보통 코드에 사용된 명령문의 구체적인 형태를 숨기면서\n",
    "코드의 기능을 효율적으로 지원하는 방식으로 이루어진다. \n",
    "대표적으로 함수, 모듈, 클래스가 있다.\n",
    "\n",
    "모듈과 클래스에 대해서는 나중에 다루며, 여기서는 함수를 이용한 추상화를\n",
    "예를 이용하여 설명한다."
   ]
  },
  {
   "cell_type": "markdown",
   "metadata": {},
   "source": [
    "**코드와 명령문:** 앞으로 코드와 명령문을 혼용해서 사용한다. \n",
    "명령문은 문법적인 의미를 강조할 때 사용되며, 코드는 특정 명령문을 가리키는 의미로 사용된다.\n",
    "보다 정확한 설명은 [명령문, 코드, 소스코드, 프로그램, 소프트웨어](./PiPy01A-ProgrammingStart.ipynb#commandsCodesPrograms) \n",
    "설명을 참조하기 바란다."
   ]
  },
  {
   "cell_type": "markdown",
   "metadata": {},
   "source": [
    "## 함수 추상화"
   ]
  },
  {
   "cell_type": "markdown",
   "metadata": {},
   "source": [
    "프로그램의 소스코드가 길어질 수록 프로그램의 복잡도가 증가하며,\n",
    "경우에 따라 프로그램의 실행 과정을 제대로 추적하지 못할 수도 있다.\n",
    "따라서 프로그램은 최대한 간단명료하게 구현해야 한다.\n",
    "\n",
    "**함수 추상화**가 프로그램의 논리적 구조를 보다 명확하게 드러나게 하며,\n",
    "일반적으로 아래 두 가지 형식으로 이루어진다.\n",
    "\n",
    "* 특정 명령문에 이름을 주어 명령문의 재사용성을 높히며,\n",
    "    명령문의 전체적인 구조를 단순화시킨다.\n",
    "* 유사한 명령문을 반복적으로 작성하는 대신 일반화된 명령문을 재사용한다. \n",
    "\n",
    "함수 추상화의 구체적인 장점은 아래와 같다.\n",
    "\n",
    "* 중복사용된 명령된 제거\n",
    "* 보다 쉬운 소스코드 이해\n",
    "* 보다 쉬운 소스코드 유지보수"
   ]
  },
  {
   "cell_type": "markdown",
   "metadata": {},
   "source": [
    "## 사용 예제: 커피 원두 가격 확인 프로그램 활용"
   ]
  },
  {
   "cell_type": "markdown",
   "metadata": {},
   "source": [
    "[인터넷에서 정보 구하기](./PiPy02A-InfoFromInternet.ipynb)에서 \n",
    "다룬 프로그램에 함수 추상화를 적용하여 업그레이드한다.\n",
    "\n",
    "구체적인 개선사항은 다음과 같다.\n",
    "\n",
    "* 커피 원두 가격을 확인할 때 바로 구입할지 여부에 따라 다른 일 하기\n",
    "* 코드의 중복사용을 피하기 위해 함수 활용하기\n",
    "* 지역변수와 전역변수의 활용 및 차이점 이해하기"
   ]
  },
  {
   "cell_type": "markdown",
   "metadata": {},
   "source": [
    "## 프로그램 업그레이드 1<a id='upgrade1'></a>"
   ]
  },
  {
   "cell_type": "markdown",
   "metadata": {},
   "source": [
    "아래 코드는 [충성고객을 위한 커피 원두 가격 웹페이지](http://beans.itcarlow.ie/prices-loyalty.html)에서 \n",
    "가격 정보를 4.8달러 이하로 떨어질 때까지 기다린 최종 가격을 알려준다."
   ]
  },
  {
   "cell_type": "code",
   "execution_count": 1,
   "metadata": {},
   "outputs": [
    {
     "name": "stdout",
     "output_type": "stream",
     "text": [
      "커피 원두 현재 가격이 4.62 달러입니다.\n"
     ]
    }
   ],
   "source": [
    "import urllib.request\n",
    "import time\n",
    "\n",
    "price_basis = 4.8\n",
    "bean_price = 5.0\n",
    "price_url = \"http://beans.itcarlow.ie/prices-loyalty.html\"\n",
    "\n",
    "while bean_price > price_basis:\n",
    "    time.sleep(1)\n",
    "    price_page = urllib.request.urlopen(price_url)\n",
    "    page_text = price_page.read().decode(\"utf8\")\n",
    "    price_location = page_text.find('>$') + 2\n",
    "    bean_price = float(page_text[price_location : price_location + 4])\n",
    "\n",
    "print(f\"커피 원두 현재 가격이 {bean_price} 달러입니다.\")"
   ]
  },
  {
   "cell_type": "markdown",
   "metadata": {},
   "source": [
    "### 구상하기"
   ]
  },
  {
   "cell_type": "markdown",
   "metadata": {},
   "source": [
    "이제 위 코드를 아래 조건을 만족하도록 개선하고자 한다.\n",
    "* 프로그램이 실행될 때 지금 당장 커피 원두콩을 구입할지 여부를 묻는다.\n",
    "* `Yes`로 대답할 경우 바로 시세 정보를 알려준다.\n",
    "* 기타 경우에는 이전 처럼 특정 가격 이하로 내려갈 때까지 기다린다. "
   ]
  },
  {
   "cell_type": "markdown",
   "metadata": {},
   "source": [
    "### 구현하기\n",
    "* `if ... else...` 명령문을 이용한다.\n",
    "* 각각의 경우에 웹사이트에 접속해서 시세 정보를 확인하는 코드를 활용한다."
   ]
  },
  {
   "cell_type": "markdown",
   "metadata": {},
   "source": [
    "예를 들어 아래와 같이 구현할 수 있다."
   ]
  },
  {
   "cell_type": "markdown",
   "metadata": {},
   "source": [
    "* `Yes`라 답을 하면 바로 가격을 알려준다."
   ]
  },
  {
   "cell_type": "code",
   "execution_count": 2,
   "metadata": {},
   "outputs": [
    {
     "name": "stdout",
     "output_type": "stream",
     "text": [
      "지금 살까요? Yes\n",
      "커피 원두 현재 가격이 4.62 달러입니다.\n"
     ]
    }
   ],
   "source": [
    "import urllib.request\n",
    "import time\n",
    "\n",
    "price_url = \"http://beans.itcarlow.ie/prices-loyalty.html\"\n",
    "\n",
    "answer = input(\"지금 살까요? \")    \n",
    "\n",
    "if answer == 'Yes':\n",
    "    price_page = urllib.request.urlopen(price_url)\n",
    "    page_text = price_page.read().decode(\"utf8\")\n",
    "    price_location = page_text.find('>$') + 2\n",
    "    bean_price = float(page_text[price_location : price_location + 4])\n",
    "else:     \n",
    "    price_basis = 4.8\n",
    "    bean_price = 5.0\n",
    "\n",
    "    while bean_price > price_basis:\n",
    "        time.sleep(1)\n",
    "        price_page = urllib.request.urlopen(price_url)\n",
    "        page_text = price_page.read().decode(\"utf8\")\n",
    "        price_location = page_text.find('>$') + 2\n",
    "        bean_price = float(page_text[price_location : price_location + 4])\n",
    "\n",
    "print(f\"커피 원두 현재 가격이 {bean_price} 달러입니다.\")"
   ]
  },
  {
   "cell_type": "markdown",
   "metadata": {},
   "source": [
    "* 다르게 답하면 가격이 4.8달러 이하일 때까지 기다린 후 가격을 알려준다."
   ]
  },
  {
   "cell_type": "code",
   "execution_count": 3,
   "metadata": {},
   "outputs": [
    {
     "name": "stdout",
     "output_type": "stream",
     "text": [
      "지금 살까요? No\n",
      "커피 원두 현재 가격이 4.62 달러입니다.\n"
     ]
    }
   ],
   "source": [
    "import urllib.request\n",
    "import time\n",
    "\n",
    "price_url = \"http://beans.itcarlow.ie/prices-loyalty.html\"\n",
    "\n",
    "answer = input(\"지금 살까요? \")    \n",
    "\n",
    "if answer == 'Yes':\n",
    "    price_page = urllib.request.urlopen(price_url)\n",
    "    page_text = price_page.read().decode(\"utf8\")\n",
    "    price_location = page_text.find('>$') + 2\n",
    "    bean_price = float(page_text[price_location : price_location + 4])\n",
    "else:     \n",
    "    price_basis = 4.8\n",
    "    bean_price = 5.0\n",
    "\n",
    "    while bean_price > price_basis:\n",
    "        time.sleep(1)\n",
    "        price_page = urllib.request.urlopen(price_url)\n",
    "        page_text = price_page.read().decode(\"utf8\")\n",
    "        price_location = page_text.find('>$') + 2\n",
    "        bean_price = float(page_text[price_location : price_location + 4])\n",
    "\n",
    "print(f\"커피 원두 현재 가격이 {bean_price} 달러입니다.\")"
   ]
  },
  {
   "cell_type": "markdown",
   "metadata": {},
   "source": [
    "## 프로그램 업그레이드 2: 함수 활용 - 코드 재활용<a id='upgrade2'></a>"
   ]
  },
  {
   "cell_type": "markdown",
   "metadata": {},
   "source": [
    "[프로그램 업그레이드 1](#upgrade1)에서 개선된 프로그램은 \n",
    "아래 명령문을 중복사용하는 문제를 갖고 있다. \n",
    "\n",
    "```python\n",
    "price_page = urllib.request.urlopen(price_url)\n",
    "page_text = price_page.read().decode(\"utf8\")\n",
    "price_location = page_text.find('>$') + 2\n",
    "bean_price = float(page_text[price_location : price_location + 4])\n",
    "```\n",
    "\n",
    "이런 문제는 위 명령문에 이름을 주는 방법으로 쉽게 해결할 수 있다.\n",
    "즉, 위 명령문을 함수로 정의한다.\n",
    "예를 들어, 아래와 같이 `get_price` 라는 함수로 정의할 수 있다. \n",
    "\n",
    "```python\n",
    "def get_price():\n",
    "    price_page = urllib.request.urlopen(price_url)\n",
    "    page_text = price_page.read().decode(\"utf8\")\n",
    "    price_location = page_text.find('>$') + 2\n",
    "    bean_price = float(page_text[price_location : price_location + 4])\n",
    "```"
   ]
  },
  {
   "cell_type": "markdown",
   "metadata": {},
   "source": [
    "이제, 아래 코드를 실행하면서 Yes를 입력해 보자.\n",
    "\n",
    "**주의:** \n",
    "아래 코드를 주피터 노트북에서 실행하기 전에 커널(kernel)을 재시작해야 한다.\n",
    "그렇지 않으면 코드가 의도한 대로 작동하지 않는다.\n",
    "이유는 아래에서 설명."
   ]
  },
  {
   "cell_type": "code",
   "execution_count": 1,
   "metadata": {},
   "outputs": [
    {
     "name": "stdout",
     "output_type": "stream",
     "text": [
      "지금 살까요? Yes\n"
     ]
    },
    {
     "ename": "NameError",
     "evalue": "name 'bean_price' is not defined",
     "output_type": "error",
     "traceback": [
      "\u001b[0;31m---------------------------------------------------------------------------\u001b[0m",
      "\u001b[0;31mNameError\u001b[0m                                 Traceback (most recent call last)",
      "\u001b[0;32m<ipython-input-1-8b3690996490>\u001b[0m in \u001b[0;36m<module>\u001b[0;34m\u001b[0m\n\u001b[1;32m     22\u001b[0m         \u001b[0mget_price\u001b[0m\u001b[0;34m(\u001b[0m\u001b[0;34m)\u001b[0m\u001b[0;34m\u001b[0m\u001b[0;34m\u001b[0m\u001b[0m\n\u001b[1;32m     23\u001b[0m \u001b[0;34m\u001b[0m\u001b[0m\n\u001b[0;32m---> 24\u001b[0;31m \u001b[0mprint\u001b[0m\u001b[0;34m(\u001b[0m\u001b[0;34mf\"커피 원두 현재 가격이 {bean_price} 달러입니다.\"\u001b[0m\u001b[0;34m)\u001b[0m\u001b[0;34m\u001b[0m\u001b[0;34m\u001b[0m\u001b[0m\n\u001b[0m",
      "\u001b[0;31mNameError\u001b[0m: name 'bean_price' is not defined"
     ]
    }
   ],
   "source": [
    "import urllib.request\n",
    "import time\n",
    "\n",
    "price_url = \"http://beans.itcarlow.ie/prices-loyalty.html\"\n",
    "\n",
    "def get_price():\n",
    "    price_page = urllib.request.urlopen(price_url)\n",
    "    page_text = price_page.read().decode(\"utf8\")\n",
    "    price_location = page_text.find('>$') + 2\n",
    "    bean_price = float(page_text[price_location : price_location + 4])\n",
    "    \n",
    "answer = input(\"지금 살까요? \")    \n",
    "\n",
    "if answer == 'Yes':\n",
    "    get_price()\n",
    "else:     \n",
    "    price_basis = 4.8\n",
    "    bean_price = 5.0\n",
    "\n",
    "    while bean_price > price_basis:\n",
    "        time.sleep(1)\n",
    "        get_price()\n",
    "\n",
    "print(f\"커피 원두 현재 가격이 {bean_price} 달러입니다.\")"
   ]
  },
  {
   "cell_type": "markdown",
   "metadata": {},
   "source": [
    "이제, 위 코드를 실행하면서 No를 입력해 보자.\n",
    "\n",
    "**주의:** \n",
    "Yes와 다르게 입력하면 실행이 멈추지 않고 무한루프에 빠진다.\n",
    "따라서 실행하고 잠시 뒤에 실행을 강제로 멈추어야 한다.\n",
    "\n",
    "프로그램 강제 종료 방법은 다음과 같다.\n",
    "\n",
    "* 주피터 노트북: 키보드에서 영어 알파벳 아이(I) 키를 두 번 연속 누를 것.\n",
    "* 기타 편집기 및 터미널: 일반적으로 Ctrl-C. 운영체제, 편집기에 따라 다를 수 있음."
   ]
  },
  {
   "cell_type": "code",
   "execution_count": 2,
   "metadata": {},
   "outputs": [
    {
     "name": "stdout",
     "output_type": "stream",
     "text": [
      "지금 살까요? No\n"
     ]
    },
    {
     "ename": "KeyboardInterrupt",
     "evalue": "",
     "output_type": "error",
     "traceback": [
      "\u001b[0;31m---------------------------------------------------------------------------\u001b[0m",
      "\u001b[0;31mKeyboardInterrupt\u001b[0m                         Traceback (most recent call last)",
      "\u001b[0;32m<ipython-input-2-8b3690996490>\u001b[0m in \u001b[0;36m<module>\u001b[0;34m\u001b[0m\n\u001b[1;32m     20\u001b[0m     \u001b[0;32mwhile\u001b[0m \u001b[0mbean_price\u001b[0m \u001b[0;34m>\u001b[0m \u001b[0mprice_basis\u001b[0m\u001b[0;34m:\u001b[0m\u001b[0;34m\u001b[0m\u001b[0;34m\u001b[0m\u001b[0m\n\u001b[1;32m     21\u001b[0m         \u001b[0mtime\u001b[0m\u001b[0;34m.\u001b[0m\u001b[0msleep\u001b[0m\u001b[0;34m(\u001b[0m\u001b[0;36m1\u001b[0m\u001b[0;34m)\u001b[0m\u001b[0;34m\u001b[0m\u001b[0;34m\u001b[0m\u001b[0m\n\u001b[0;32m---> 22\u001b[0;31m         \u001b[0mget_price\u001b[0m\u001b[0;34m(\u001b[0m\u001b[0;34m)\u001b[0m\u001b[0;34m\u001b[0m\u001b[0;34m\u001b[0m\u001b[0m\n\u001b[0m\u001b[1;32m     23\u001b[0m \u001b[0;34m\u001b[0m\u001b[0m\n\u001b[1;32m     24\u001b[0m \u001b[0mprint\u001b[0m\u001b[0;34m(\u001b[0m\u001b[0;34mf\"커피 원두 현재 가격이 {bean_price} 달러입니다.\"\u001b[0m\u001b[0;34m)\u001b[0m\u001b[0;34m\u001b[0m\u001b[0;34m\u001b[0m\u001b[0m\n",
      "\u001b[0;32m<ipython-input-2-8b3690996490>\u001b[0m in \u001b[0;36mget_price\u001b[0;34m()\u001b[0m\n\u001b[1;32m      5\u001b[0m \u001b[0;34m\u001b[0m\u001b[0m\n\u001b[1;32m      6\u001b[0m \u001b[0;32mdef\u001b[0m \u001b[0mget_price\u001b[0m\u001b[0;34m(\u001b[0m\u001b[0;34m)\u001b[0m\u001b[0;34m:\u001b[0m\u001b[0;34m\u001b[0m\u001b[0;34m\u001b[0m\u001b[0m\n\u001b[0;32m----> 7\u001b[0;31m     \u001b[0mprice_page\u001b[0m \u001b[0;34m=\u001b[0m \u001b[0murllib\u001b[0m\u001b[0;34m.\u001b[0m\u001b[0mrequest\u001b[0m\u001b[0;34m.\u001b[0m\u001b[0murlopen\u001b[0m\u001b[0;34m(\u001b[0m\u001b[0mprice_url\u001b[0m\u001b[0;34m)\u001b[0m\u001b[0;34m\u001b[0m\u001b[0;34m\u001b[0m\u001b[0m\n\u001b[0m\u001b[1;32m      8\u001b[0m     \u001b[0mpage_text\u001b[0m \u001b[0;34m=\u001b[0m \u001b[0mprice_page\u001b[0m\u001b[0;34m.\u001b[0m\u001b[0mread\u001b[0m\u001b[0;34m(\u001b[0m\u001b[0;34m)\u001b[0m\u001b[0;34m.\u001b[0m\u001b[0mdecode\u001b[0m\u001b[0;34m(\u001b[0m\u001b[0;34m\"utf8\"\u001b[0m\u001b[0;34m)\u001b[0m\u001b[0;34m\u001b[0m\u001b[0;34m\u001b[0m\u001b[0m\n\u001b[1;32m      9\u001b[0m     \u001b[0mprice_location\u001b[0m \u001b[0;34m=\u001b[0m \u001b[0mpage_text\u001b[0m\u001b[0;34m.\u001b[0m\u001b[0mfind\u001b[0m\u001b[0;34m(\u001b[0m\u001b[0;34m'>$'\u001b[0m\u001b[0;34m)\u001b[0m \u001b[0;34m+\u001b[0m \u001b[0;36m2\u001b[0m\u001b[0;34m\u001b[0m\u001b[0;34m\u001b[0m\u001b[0m\n",
      "\u001b[0;32m/usr/lib/python3.6/urllib/request.py\u001b[0m in \u001b[0;36murlopen\u001b[0;34m(url, data, timeout, cafile, capath, cadefault, context)\u001b[0m\n\u001b[1;32m    221\u001b[0m     \u001b[0;32melse\u001b[0m\u001b[0;34m:\u001b[0m\u001b[0;34m\u001b[0m\u001b[0;34m\u001b[0m\u001b[0m\n\u001b[1;32m    222\u001b[0m         \u001b[0mopener\u001b[0m \u001b[0;34m=\u001b[0m \u001b[0m_opener\u001b[0m\u001b[0;34m\u001b[0m\u001b[0;34m\u001b[0m\u001b[0m\n\u001b[0;32m--> 223\u001b[0;31m     \u001b[0;32mreturn\u001b[0m \u001b[0mopener\u001b[0m\u001b[0;34m.\u001b[0m\u001b[0mopen\u001b[0m\u001b[0;34m(\u001b[0m\u001b[0murl\u001b[0m\u001b[0;34m,\u001b[0m \u001b[0mdata\u001b[0m\u001b[0;34m,\u001b[0m \u001b[0mtimeout\u001b[0m\u001b[0;34m)\u001b[0m\u001b[0;34m\u001b[0m\u001b[0;34m\u001b[0m\u001b[0m\n\u001b[0m\u001b[1;32m    224\u001b[0m \u001b[0;34m\u001b[0m\u001b[0m\n\u001b[1;32m    225\u001b[0m \u001b[0;32mdef\u001b[0m \u001b[0minstall_opener\u001b[0m\u001b[0;34m(\u001b[0m\u001b[0mopener\u001b[0m\u001b[0;34m)\u001b[0m\u001b[0;34m:\u001b[0m\u001b[0;34m\u001b[0m\u001b[0;34m\u001b[0m\u001b[0m\n",
      "\u001b[0;32m/usr/lib/python3.6/urllib/request.py\u001b[0m in \u001b[0;36mopen\u001b[0;34m(self, fullurl, data, timeout)\u001b[0m\n\u001b[1;32m    524\u001b[0m             \u001b[0mreq\u001b[0m \u001b[0;34m=\u001b[0m \u001b[0mmeth\u001b[0m\u001b[0;34m(\u001b[0m\u001b[0mreq\u001b[0m\u001b[0;34m)\u001b[0m\u001b[0;34m\u001b[0m\u001b[0;34m\u001b[0m\u001b[0m\n\u001b[1;32m    525\u001b[0m \u001b[0;34m\u001b[0m\u001b[0m\n\u001b[0;32m--> 526\u001b[0;31m         \u001b[0mresponse\u001b[0m \u001b[0;34m=\u001b[0m \u001b[0mself\u001b[0m\u001b[0;34m.\u001b[0m\u001b[0m_open\u001b[0m\u001b[0;34m(\u001b[0m\u001b[0mreq\u001b[0m\u001b[0;34m,\u001b[0m \u001b[0mdata\u001b[0m\u001b[0;34m)\u001b[0m\u001b[0;34m\u001b[0m\u001b[0;34m\u001b[0m\u001b[0m\n\u001b[0m\u001b[1;32m    527\u001b[0m \u001b[0;34m\u001b[0m\u001b[0m\n\u001b[1;32m    528\u001b[0m         \u001b[0;31m# post-process response\u001b[0m\u001b[0;34m\u001b[0m\u001b[0;34m\u001b[0m\u001b[0;34m\u001b[0m\u001b[0m\n",
      "\u001b[0;32m/usr/lib/python3.6/urllib/request.py\u001b[0m in \u001b[0;36m_open\u001b[0;34m(self, req, data)\u001b[0m\n\u001b[1;32m    542\u001b[0m         \u001b[0mprotocol\u001b[0m \u001b[0;34m=\u001b[0m \u001b[0mreq\u001b[0m\u001b[0;34m.\u001b[0m\u001b[0mtype\u001b[0m\u001b[0;34m\u001b[0m\u001b[0;34m\u001b[0m\u001b[0m\n\u001b[1;32m    543\u001b[0m         result = self._call_chain(self.handle_open, protocol, protocol +\n\u001b[0;32m--> 544\u001b[0;31m                                   '_open', req)\n\u001b[0m\u001b[1;32m    545\u001b[0m         \u001b[0;32mif\u001b[0m \u001b[0mresult\u001b[0m\u001b[0;34m:\u001b[0m\u001b[0;34m\u001b[0m\u001b[0;34m\u001b[0m\u001b[0m\n\u001b[1;32m    546\u001b[0m             \u001b[0;32mreturn\u001b[0m \u001b[0mresult\u001b[0m\u001b[0;34m\u001b[0m\u001b[0;34m\u001b[0m\u001b[0m\n",
      "\u001b[0;32m/usr/lib/python3.6/urllib/request.py\u001b[0m in \u001b[0;36m_call_chain\u001b[0;34m(self, chain, kind, meth_name, *args)\u001b[0m\n\u001b[1;32m    502\u001b[0m         \u001b[0;32mfor\u001b[0m \u001b[0mhandler\u001b[0m \u001b[0;32min\u001b[0m \u001b[0mhandlers\u001b[0m\u001b[0;34m:\u001b[0m\u001b[0;34m\u001b[0m\u001b[0;34m\u001b[0m\u001b[0m\n\u001b[1;32m    503\u001b[0m             \u001b[0mfunc\u001b[0m \u001b[0;34m=\u001b[0m \u001b[0mgetattr\u001b[0m\u001b[0;34m(\u001b[0m\u001b[0mhandler\u001b[0m\u001b[0;34m,\u001b[0m \u001b[0mmeth_name\u001b[0m\u001b[0;34m)\u001b[0m\u001b[0;34m\u001b[0m\u001b[0;34m\u001b[0m\u001b[0m\n\u001b[0;32m--> 504\u001b[0;31m             \u001b[0mresult\u001b[0m \u001b[0;34m=\u001b[0m \u001b[0mfunc\u001b[0m\u001b[0;34m(\u001b[0m\u001b[0;34m*\u001b[0m\u001b[0margs\u001b[0m\u001b[0;34m)\u001b[0m\u001b[0;34m\u001b[0m\u001b[0;34m\u001b[0m\u001b[0m\n\u001b[0m\u001b[1;32m    505\u001b[0m             \u001b[0;32mif\u001b[0m \u001b[0mresult\u001b[0m \u001b[0;32mis\u001b[0m \u001b[0;32mnot\u001b[0m \u001b[0;32mNone\u001b[0m\u001b[0;34m:\u001b[0m\u001b[0;34m\u001b[0m\u001b[0;34m\u001b[0m\u001b[0m\n\u001b[1;32m    506\u001b[0m                 \u001b[0;32mreturn\u001b[0m \u001b[0mresult\u001b[0m\u001b[0;34m\u001b[0m\u001b[0;34m\u001b[0m\u001b[0m\n",
      "\u001b[0;32m/usr/lib/python3.6/urllib/request.py\u001b[0m in \u001b[0;36mhttp_open\u001b[0;34m(self, req)\u001b[0m\n\u001b[1;32m   1344\u001b[0m \u001b[0;34m\u001b[0m\u001b[0m\n\u001b[1;32m   1345\u001b[0m     \u001b[0;32mdef\u001b[0m \u001b[0mhttp_open\u001b[0m\u001b[0;34m(\u001b[0m\u001b[0mself\u001b[0m\u001b[0;34m,\u001b[0m \u001b[0mreq\u001b[0m\u001b[0;34m)\u001b[0m\u001b[0;34m:\u001b[0m\u001b[0;34m\u001b[0m\u001b[0;34m\u001b[0m\u001b[0m\n\u001b[0;32m-> 1346\u001b[0;31m         \u001b[0;32mreturn\u001b[0m \u001b[0mself\u001b[0m\u001b[0;34m.\u001b[0m\u001b[0mdo_open\u001b[0m\u001b[0;34m(\u001b[0m\u001b[0mhttp\u001b[0m\u001b[0;34m.\u001b[0m\u001b[0mclient\u001b[0m\u001b[0;34m.\u001b[0m\u001b[0mHTTPConnection\u001b[0m\u001b[0;34m,\u001b[0m \u001b[0mreq\u001b[0m\u001b[0;34m)\u001b[0m\u001b[0;34m\u001b[0m\u001b[0;34m\u001b[0m\u001b[0m\n\u001b[0m\u001b[1;32m   1347\u001b[0m \u001b[0;34m\u001b[0m\u001b[0m\n\u001b[1;32m   1348\u001b[0m     \u001b[0mhttp_request\u001b[0m \u001b[0;34m=\u001b[0m \u001b[0mAbstractHTTPHandler\u001b[0m\u001b[0;34m.\u001b[0m\u001b[0mdo_request_\u001b[0m\u001b[0;34m\u001b[0m\u001b[0;34m\u001b[0m\u001b[0m\n",
      "\u001b[0;32m/usr/lib/python3.6/urllib/request.py\u001b[0m in \u001b[0;36mdo_open\u001b[0;34m(self, http_class, req, **http_conn_args)\u001b[0m\n\u001b[1;32m   1319\u001b[0m             \u001b[0;32mexcept\u001b[0m \u001b[0mOSError\u001b[0m \u001b[0;32mas\u001b[0m \u001b[0merr\u001b[0m\u001b[0;34m:\u001b[0m \u001b[0;31m# timeout error\u001b[0m\u001b[0;34m\u001b[0m\u001b[0;34m\u001b[0m\u001b[0m\n\u001b[1;32m   1320\u001b[0m                 \u001b[0;32mraise\u001b[0m \u001b[0mURLError\u001b[0m\u001b[0;34m(\u001b[0m\u001b[0merr\u001b[0m\u001b[0;34m)\u001b[0m\u001b[0;34m\u001b[0m\u001b[0;34m\u001b[0m\u001b[0m\n\u001b[0;32m-> 1321\u001b[0;31m             \u001b[0mr\u001b[0m \u001b[0;34m=\u001b[0m \u001b[0mh\u001b[0m\u001b[0;34m.\u001b[0m\u001b[0mgetresponse\u001b[0m\u001b[0;34m(\u001b[0m\u001b[0;34m)\u001b[0m\u001b[0;34m\u001b[0m\u001b[0;34m\u001b[0m\u001b[0m\n\u001b[0m\u001b[1;32m   1322\u001b[0m         \u001b[0;32mexcept\u001b[0m\u001b[0;34m:\u001b[0m\u001b[0;34m\u001b[0m\u001b[0;34m\u001b[0m\u001b[0m\n\u001b[1;32m   1323\u001b[0m             \u001b[0mh\u001b[0m\u001b[0;34m.\u001b[0m\u001b[0mclose\u001b[0m\u001b[0;34m(\u001b[0m\u001b[0;34m)\u001b[0m\u001b[0;34m\u001b[0m\u001b[0;34m\u001b[0m\u001b[0m\n",
      "\u001b[0;32m/usr/lib/python3.6/http/client.py\u001b[0m in \u001b[0;36mgetresponse\u001b[0;34m(self)\u001b[0m\n\u001b[1;32m   1344\u001b[0m         \u001b[0;32mtry\u001b[0m\u001b[0;34m:\u001b[0m\u001b[0;34m\u001b[0m\u001b[0;34m\u001b[0m\u001b[0m\n\u001b[1;32m   1345\u001b[0m             \u001b[0;32mtry\u001b[0m\u001b[0;34m:\u001b[0m\u001b[0;34m\u001b[0m\u001b[0;34m\u001b[0m\u001b[0m\n\u001b[0;32m-> 1346\u001b[0;31m                 \u001b[0mresponse\u001b[0m\u001b[0;34m.\u001b[0m\u001b[0mbegin\u001b[0m\u001b[0;34m(\u001b[0m\u001b[0;34m)\u001b[0m\u001b[0;34m\u001b[0m\u001b[0;34m\u001b[0m\u001b[0m\n\u001b[0m\u001b[1;32m   1347\u001b[0m             \u001b[0;32mexcept\u001b[0m \u001b[0mConnectionError\u001b[0m\u001b[0;34m:\u001b[0m\u001b[0;34m\u001b[0m\u001b[0;34m\u001b[0m\u001b[0m\n\u001b[1;32m   1348\u001b[0m                 \u001b[0mself\u001b[0m\u001b[0;34m.\u001b[0m\u001b[0mclose\u001b[0m\u001b[0;34m(\u001b[0m\u001b[0;34m)\u001b[0m\u001b[0;34m\u001b[0m\u001b[0;34m\u001b[0m\u001b[0m\n",
      "\u001b[0;32m/usr/lib/python3.6/http/client.py\u001b[0m in \u001b[0;36mbegin\u001b[0;34m(self)\u001b[0m\n\u001b[1;32m    305\u001b[0m         \u001b[0;31m# read until we get a non-100 response\u001b[0m\u001b[0;34m\u001b[0m\u001b[0;34m\u001b[0m\u001b[0;34m\u001b[0m\u001b[0m\n\u001b[1;32m    306\u001b[0m         \u001b[0;32mwhile\u001b[0m \u001b[0;32mTrue\u001b[0m\u001b[0;34m:\u001b[0m\u001b[0;34m\u001b[0m\u001b[0;34m\u001b[0m\u001b[0m\n\u001b[0;32m--> 307\u001b[0;31m             \u001b[0mversion\u001b[0m\u001b[0;34m,\u001b[0m \u001b[0mstatus\u001b[0m\u001b[0;34m,\u001b[0m \u001b[0mreason\u001b[0m \u001b[0;34m=\u001b[0m \u001b[0mself\u001b[0m\u001b[0;34m.\u001b[0m\u001b[0m_read_status\u001b[0m\u001b[0;34m(\u001b[0m\u001b[0;34m)\u001b[0m\u001b[0;34m\u001b[0m\u001b[0;34m\u001b[0m\u001b[0m\n\u001b[0m\u001b[1;32m    308\u001b[0m             \u001b[0;32mif\u001b[0m \u001b[0mstatus\u001b[0m \u001b[0;34m!=\u001b[0m \u001b[0mCONTINUE\u001b[0m\u001b[0;34m:\u001b[0m\u001b[0;34m\u001b[0m\u001b[0;34m\u001b[0m\u001b[0m\n\u001b[1;32m    309\u001b[0m                 \u001b[0;32mbreak\u001b[0m\u001b[0;34m\u001b[0m\u001b[0;34m\u001b[0m\u001b[0m\n",
      "\u001b[0;32m/usr/lib/python3.6/http/client.py\u001b[0m in \u001b[0;36m_read_status\u001b[0;34m(self)\u001b[0m\n\u001b[1;32m    266\u001b[0m \u001b[0;34m\u001b[0m\u001b[0m\n\u001b[1;32m    267\u001b[0m     \u001b[0;32mdef\u001b[0m \u001b[0m_read_status\u001b[0m\u001b[0;34m(\u001b[0m\u001b[0mself\u001b[0m\u001b[0;34m)\u001b[0m\u001b[0;34m:\u001b[0m\u001b[0;34m\u001b[0m\u001b[0;34m\u001b[0m\u001b[0m\n\u001b[0;32m--> 268\u001b[0;31m         \u001b[0mline\u001b[0m \u001b[0;34m=\u001b[0m \u001b[0mstr\u001b[0m\u001b[0;34m(\u001b[0m\u001b[0mself\u001b[0m\u001b[0;34m.\u001b[0m\u001b[0mfp\u001b[0m\u001b[0;34m.\u001b[0m\u001b[0mreadline\u001b[0m\u001b[0;34m(\u001b[0m\u001b[0m_MAXLINE\u001b[0m \u001b[0;34m+\u001b[0m \u001b[0;36m1\u001b[0m\u001b[0;34m)\u001b[0m\u001b[0;34m,\u001b[0m \u001b[0;34m\"iso-8859-1\"\u001b[0m\u001b[0;34m)\u001b[0m\u001b[0;34m\u001b[0m\u001b[0;34m\u001b[0m\u001b[0m\n\u001b[0m\u001b[1;32m    269\u001b[0m         \u001b[0;32mif\u001b[0m \u001b[0mlen\u001b[0m\u001b[0;34m(\u001b[0m\u001b[0mline\u001b[0m\u001b[0;34m)\u001b[0m \u001b[0;34m>\u001b[0m \u001b[0m_MAXLINE\u001b[0m\u001b[0;34m:\u001b[0m\u001b[0;34m\u001b[0m\u001b[0;34m\u001b[0m\u001b[0m\n\u001b[1;32m    270\u001b[0m             \u001b[0;32mraise\u001b[0m \u001b[0mLineTooLong\u001b[0m\u001b[0;34m(\u001b[0m\u001b[0;34m\"status line\"\u001b[0m\u001b[0;34m)\u001b[0m\u001b[0;34m\u001b[0m\u001b[0;34m\u001b[0m\u001b[0m\n",
      "\u001b[0;32m/usr/lib/python3.6/socket.py\u001b[0m in \u001b[0;36mreadinto\u001b[0;34m(self, b)\u001b[0m\n\u001b[1;32m    584\u001b[0m         \u001b[0;32mwhile\u001b[0m \u001b[0;32mTrue\u001b[0m\u001b[0;34m:\u001b[0m\u001b[0;34m\u001b[0m\u001b[0;34m\u001b[0m\u001b[0m\n\u001b[1;32m    585\u001b[0m             \u001b[0;32mtry\u001b[0m\u001b[0;34m:\u001b[0m\u001b[0;34m\u001b[0m\u001b[0;34m\u001b[0m\u001b[0m\n\u001b[0;32m--> 586\u001b[0;31m                 \u001b[0;32mreturn\u001b[0m \u001b[0mself\u001b[0m\u001b[0;34m.\u001b[0m\u001b[0m_sock\u001b[0m\u001b[0;34m.\u001b[0m\u001b[0mrecv_into\u001b[0m\u001b[0;34m(\u001b[0m\u001b[0mb\u001b[0m\u001b[0;34m)\u001b[0m\u001b[0;34m\u001b[0m\u001b[0;34m\u001b[0m\u001b[0m\n\u001b[0m\u001b[1;32m    587\u001b[0m             \u001b[0;32mexcept\u001b[0m \u001b[0mtimeout\u001b[0m\u001b[0;34m:\u001b[0m\u001b[0;34m\u001b[0m\u001b[0;34m\u001b[0m\u001b[0m\n\u001b[1;32m    588\u001b[0m                 \u001b[0mself\u001b[0m\u001b[0;34m.\u001b[0m\u001b[0m_timeout_occurred\u001b[0m \u001b[0;34m=\u001b[0m \u001b[0;32mTrue\u001b[0m\u001b[0;34m\u001b[0m\u001b[0;34m\u001b[0m\u001b[0m\n",
      "\u001b[0;31mKeyboardInterrupt\u001b[0m: "
     ]
    }
   ],
   "source": [
    "import urllib.request\n",
    "import time\n",
    "\n",
    "price_url = \"http://beans.itcarlow.ie/prices-loyalty.html\"\n",
    "\n",
    "def get_price():\n",
    "    price_page = urllib.request.urlopen(price_url)\n",
    "    page_text = price_page.read().decode(\"utf8\")\n",
    "    price_location = page_text.find('>$') + 2\n",
    "    bean_price = float(page_text[price_location : price_location + 4])\n",
    "    \n",
    "answer = input(\"지금 살까요? \")    \n",
    "\n",
    "if answer == 'Yes':\n",
    "    get_price()\n",
    "else:     \n",
    "    price_basis = 4.8\n",
    "    bean_price = 5.0\n",
    "\n",
    "    while bean_price > price_basis:\n",
    "        time.sleep(1)\n",
    "        get_price()\n",
    "\n",
    "print(f\"커피 원두 현재 가격이 {bean_price} 달러입니다.\")"
   ]
  },
  {
   "cell_type": "markdown",
   "metadata": {},
   "source": [
    "### 문제 원인 설명"
   ]
  },
  {
   "cell_type": "markdown",
   "metadata": {},
   "source": [
    "발생한 문제 정리\n",
    "\n",
    "* Yes 입력: `NameError`가 발생하며, `bean_price`가 정의되어 있지 않다고 한다.\n",
    "* No 입력: 무한루프에 빠진다."
   ]
  },
  {
   "cell_type": "markdown",
   "metadata": {},
   "source": [
    "`bean_price` 가 정의되어 있지 않다는 설명은 좀 이상하다.\n",
    "왜냐하면 `get_price` 함수의 본체에 `bean_price` 변수가 커피 원두 가격을 가리키고 있기 때문이다.\n",
    "\n",
    "No라고 입력할 때 무한루프에 빠지는 이유도 마찬가지로 수상하다.\n",
    "무엇보다도 이전에 잘 작동하던 코드인데 특정 명령문 대신에 `get_price` 함수를 이름으로\n",
    "지정하고 사용한 후에 문제가 발생했다.\n",
    "\n",
    "이유가 무엇일까? \n",
    "\n",
    "두 가지 경우의 문제가 겉으론 달라 보이지만 원인은 동일하다. \n",
    "문제의 원인은 `bean_price` 변수가 `get_price` 함수 본체에서 선언되어 있어서\n",
    "함수 밖에서는 사용될 수 없다는 데에 있다.\n",
    "즉, 함수 본체에서 선언된 변수는 함수 밖에서는 사용될 수 없다."
   ]
  },
  {
   "cell_type": "markdown",
   "metadata": {},
   "source": [
    "### 전역변수와 지역변수"
   ]
  },
  {
   "cell_type": "markdown",
   "metadata": {},
   "source": [
    "**주의:** 먼저 [PythonTuror: bean price](http://pythontutor.com/visualize.html#code=def%20get_price%28%29%3A%0A%20%20%20%20bean_price%20%3D%204.6%0A%20%20%20%20%0Aanswer%20%3D%20input%28%22Yes%20%EB%98%90%EB%8A%94%20No%EB%A5%BC%20%EC%9E%85%EB%A0%A5%ED%95%98%EC%84%B8%EC%9A%94%3A%20%22%29%20%20%20%20%0A%0Aif%20answer%20%3D%3D%20'Yes'%3A%0A%20%20%20%20get_price%28%29%0Aelse%3A%20%20%20%20%20%0A%20%20%20%20price_basis%20%3D%204.8%0A%20%20%20%20bean_price%20%3D%205.0%0A%20%20%20%20while%20bean_price%20%3E%20price_basis%3A%0A%20%20%20%20%20%20%20%20get_price%28%29%0A%0Aprint%28f%22%EC%BB%A4%ED%94%BC%20%EC%9B%90%EB%91%90%20%ED%98%84%EC%9E%AC%20%EA%B0%80%EA%B2%A9%EC%9D%B4%20%7Bbean_price%7D%20%EB%8B%AC%EB%9F%AC%EC%9E%85%EB%8B%88%EB%8B%A4.%22%29&cumulative=false&heapPrimitives=nevernest&mode=edit&origin=opt-frontend.js&py=3&rawInputLstJSON=%5B%5D&textReferences=false)에 있는\n",
    "코드를 실행하면서 `bean_price`의 행동을 유심히 살펴본 후 아래 내용을 읽으면 보다 잘 이해될 것이다."
   ]
  },
  {
   "cell_type": "markdown",
   "metadata": {},
   "source": [
    "[PythonTuror: bean price](http://pythontutor.com/visualize.html#code=def%20get_price%28%29%3A%0A%20%20%20%20bean_price%20%3D%204.6%0A%20%20%20%20%0Aanswer%20%3D%20input%28%22Yes%20%EB%98%90%EB%8A%94%20No%EB%A5%BC%20%EC%9E%85%EB%A0%A5%ED%95%98%EC%84%B8%EC%9A%94%3A%20%22%29%20%20%20%20%0A%0Aif%20answer%20%3D%3D%20'Yes'%3A%0A%20%20%20%20get_price%28%29%0Aelse%3A%20%20%20%20%20%0A%20%20%20%20price_basis%20%3D%204.8%0A%20%20%20%20bean_price%20%3D%205.0%0A%20%20%20%20while%20bean_price%20%3E%20price_basis%3A%0A%20%20%20%20%20%20%20%20get_price%28%29%0A%0Aprint%28f%22%EC%BB%A4%ED%94%BC%20%EC%9B%90%EB%91%90%20%ED%98%84%EC%9E%AC%20%EA%B0%80%EA%B2%A9%EC%9D%B4%20%7Bbean_price%7D%20%EB%8B%AC%EB%9F%AC%EC%9E%85%EB%8B%88%EB%8B%A4.%22%29&cumulative=false&heapPrimitives=nevernest&mode=edit&origin=opt-frontend.js&py=3&rawInputLstJSON=%5B%5D&textReferences=false)에서 \n",
    "커피 원두 가격을 알아보는 프로그램을 단순화한 코드이며, 아래와 같다.\n",
    "아래 코드는 `urllib`, `time` 등의 모듈을 사용하지 않지만 \n",
    "프로그램 작동 과정은 기본적으로 동일하다.\n",
    "\n",
    "---\n",
    "```python\n",
    "def get_price():\n",
    "    bean_price = 4.6\n",
    "    \n",
    "answer = input(\"Yes 또는 No를 입력하세요: \")    \n",
    "\n",
    "if answer == 'Yes':\n",
    "    get_price()\n",
    "else:     \n",
    "    price_basis = 4.8\n",
    "    bean_price = 5.0\n",
    "    while bean_price > price_basis:\n",
    "        get_price()\n",
    "\n",
    "print(f\"커피 원두 현재 가격이 {bean_price} 달러입니다.\")\n",
    "```\n",
    "---"
   ]
  },
  {
   "cell_type": "markdown",
   "metadata": {},
   "source": [
    "위 코드를 PythonTutor에서 실행하다 보면 `get_price` 함수의 본체에 정의된 \n",
    "`bean_price`의 역할을 확인할 수 있다.\n",
    "`bean_price`처럼 함수 본체에서 선언된 변수를 **지역변수**(local variable)라 부른다.\n",
    "지역변수가 아닌 변수들은 **전역변수**(global variable)이다.\n",
    "\n",
    "**주의:** 위 코드에서 `bean_price`가 전역변수로도 선언되었다. \n",
    "결론적으로 말하면, 동일한 이름의 변수라 하더라도 지역변수와 전역변수는 서로 아무 상관이 없다.\n",
    "바로 이 점 때문에 위 코드가 기대한 것과 다르게 작동한다. \n",
    "이유는 다음과 같다.\n",
    "\n",
    "* Yes 입력: `if`의 조건식 `answer == 'Yes'`가 참이되어,\n",
    "    `get_price()`가 실행된다. 그러면서 함수 실행과정에 함수 본체 명령문인\n",
    "\n",
    "    ```python\n",
    "    bean_price = 4.6\n",
    "    ```\n",
    "\n",
    "    이 실행된다.\n",
    "    하지만 이후에 곧바로 `get_price()`의 실행이 멈추는데, 그러면서\n",
    "    `get_price()`의 실행과정에서 생성된 모든 지역변수가 사라진다.\n",
    "    따라서 마지막 명령문에서 `print` 함수가 실행될 때 `bean_price`를 모른다고 오류가 발생하는 것이다.\n",
    "* No 입력: Yes 입력의 경우와는 달리 `else`의 본체 명령문이 실행할 때\n",
    "    `price_basis`, `bean_price` 두 **전역변수**가 선언된다.\n",
    "    \n",
    "    ```python\n",
    "    price_basis = 4.8\n",
    "    bean_price = 5.0\n",
    "    ```\n",
    "    전역변수는 프로그램 전체가 종료될 때까지 사라지지 않는다.\n",
    "    이후 `while` 반복문이 실행될 때 `get_price()`가 호출되어 실행되는 과정에\n",
    "    `bean_price`라는 **지역변수**가 또 생성된다.\n",
    "    하지만 전역변수와 지역변수는 서로 다른 변수이며 상호 영향을 주지 않는다.\n",
    "    또한 `get_price()`의 실행이 종료되면서 지역변수로 선언된 `bean_price` 또한 사라진다.\n",
    "    따라서 `bean_price`가 가리키는 값은 5달러로 고정되면 전혀 변하지 않는다.\n",
    "    따라서 `while` 반복문이 무한루프레 빠지게 된다."
   ]
  },
  {
   "cell_type": "markdown",
   "metadata": {},
   "source": [
    "### 추천 해결책: `return` 지정자 활용<a id='returnValue'></a>"
   ]
  },
  {
   "cell_type": "markdown",
   "metadata": {},
   "source": [
    "앞서 살펴본 문제는 함수 내부에서 선언된 지역변수를 함수 외부에서 사용할 수 있도록 하면 \n",
    "해결된다. \n",
    "\n",
    "함수를 실행하는 과정에서 생성된 값을 함수 외부로 보내는 방법은 \n",
    "`return` 지정자를 이용하여 함수의 실행을 종료하면서 특정 값을\n",
    "내주는 것이다.\n",
    "함수의 본질은 사실 특정 값을 전달하여 계속해서 사용될 수 있도록 하는 것이다.\n",
    "즉, 함수는 특정 인자들과 함께 실행되어 함수 본체에서 지정된 명령문을 \n",
    "실행하여 특정 값을 생성한 후 리턴값으로 내주는 것이 본연의 임무이다.\n",
    "\n",
    "앞서 선언된 `get_price` 함수는\n",
    "그런데 `return` 지정자를 사용하지 않는다.\n",
    "이런 함수는 리턴값으로 `None` 이란 값을 내준다.\n",
    "`None`은 아무런 의미도 없는 값이며, 따라서 어디에도 사용할 수 없다.\n",
    "\n",
    "따라서 `get_price` 함수가 아래와 같이 `bean_price`에 할당된 커피 원두의 가격을 \n",
    "리턴값으로 내주도록 하면 문제를 해결할 수 있다. \n",
    "\n",
    "```python\n",
    "def get_price():\n",
    "    price_page = urllib.request.urlopen(price_url)\n",
    "    page_text = price_page.read().decode(\"utf8\")\n",
    "    price_location = page_text.find('>$') + 2\n",
    "    bean_price = float(page_text[price_location : price_location + 4])\n",
    "\n",
    "    return bean_price\n",
    "```\n",
    "\n",
    "함수가 내주는 값은 변수에 할당하거나 다른 함수의 인자로 사용될 수 있다.\n",
    "즉, [제1종 객체](./PiPy01B-Variables_Expressions_Commands.ipynb#firstClass)가 된다.\n",
    "\n",
    "그래서 `get_price()`가 내주는 값을 `bean_price` 변수에 할당하면 \n",
    "원하는 대로 작동한다."
   ]
  },
  {
   "cell_type": "code",
   "execution_count": 1,
   "metadata": {},
   "outputs": [
    {
     "name": "stdout",
     "output_type": "stream",
     "text": [
      "지금 살까요? Yes\n",
      "커피 원두 현재 가격이 4.97 달러입니다.\n"
     ]
    }
   ],
   "source": [
    "import urllib.request\n",
    "import time\n",
    "\n",
    "price_url = \"http://beans.itcarlow.ie/prices-loyalty.html\"\n",
    "\n",
    "def get_price():\n",
    "    price_page = urllib.request.urlopen(price_url)\n",
    "    page_text = price_page.read().decode(\"utf8\")\n",
    "    price_location = page_text.find('>$') + 2\n",
    "    bean_price = float(page_text[price_location : price_location + 4])\n",
    "\n",
    "    return bean_price\n",
    "\n",
    "answer = input(\"지금 살까요? \")    \n",
    "\n",
    "if answer == 'Yes':\n",
    "    bean_price = get_price()\n",
    "else:     \n",
    "    price_basis = 4.8\n",
    "    bean_price = 5.0\n",
    "\n",
    "    while bean_price > price_basis:\n",
    "        time.sleep(1)\n",
    "        bean_price = get_price()\n",
    "\n",
    "print(f\"커피 원두 현재 가격이 {bean_price} 달러입니다.\")"
   ]
  },
  {
   "cell_type": "code",
   "execution_count": 2,
   "metadata": {},
   "outputs": [
    {
     "name": "stdout",
     "output_type": "stream",
     "text": [
      "지금 살까요? No\n",
      "커피 원두 현재 가격이 4.76 달러입니다.\n"
     ]
    }
   ],
   "source": [
    "import urllib.request\n",
    "import time\n",
    "\n",
    "price_url = \"http://beans.itcarlow.ie/prices-loyalty.html\"\n",
    "\n",
    "def get_price():\n",
    "    price_page = urllib.request.urlopen(price_url)\n",
    "    page_text = price_page.read().decode(\"utf8\")\n",
    "    price_location = page_text.find('>$') + 2\n",
    "    bean_price = float(page_text[price_location : price_location + 4])\n",
    "    return bean_price\n",
    "\n",
    "answer = input(\"지금 살까요? \")    \n",
    "\n",
    "if answer == 'Yes':\n",
    "    bean_price = get_price()\n",
    "else:     \n",
    "    price_basis = 4.8\n",
    "    bean_price = 5.0\n",
    "\n",
    "    while bean_price > price_basis:\n",
    "        time.sleep(1)\n",
    "        bean_price = get_price()\n",
    "\n",
    "print(f\"커피 원두 현재 가격이 {bean_price} 달러입니다.\")"
   ]
  },
  {
   "cell_type": "markdown",
   "metadata": {},
   "source": [
    "### 지역변수와 전역변수 구분"
   ]
  },
  {
   "cell_type": "markdown",
   "metadata": {},
   "source": [
    "앞서 리턴값으로 지정된 값은 함수 내부에서 선언된 `bean_price` 변수가 가리키는 값이며,\n",
    "그 값을 전역변수 `bean_price`에 할당한다.\n",
    "\n",
    "그런데 이렇게 지역변수와 전역변수를 동일한 이름으로 사용하면 소스코드를 이해하는 데에 어려움을 초래할 수 있다.\n",
    "따라서 프로그램을 구현할 때 지역변수와 전역변수는 가급적 구분해서 사용하는 것을 권장한다.\n",
    "\n",
    "예를 들어 아래와 같이 `get_price` 함수 내부에서 선언된 `bean_price` 변수이름을\n",
    "`price`라고 변경하기만 하면 된다.\n",
    "전역변수 `bean_price` 대신에 지역변수를 변경하는 게 편리하다. \n",
    "이유는 지역변수는 리턴값으로 내주면서 자신의 역할을 다하기 때문이다."
   ]
  },
  {
   "cell_type": "code",
   "execution_count": 1,
   "metadata": {},
   "outputs": [
    {
     "name": "stdout",
     "output_type": "stream",
     "text": [
      "지금 살까요? Yes\n",
      "커피 원두 현재 가격이 4.76 달러입니다.\n"
     ]
    }
   ],
   "source": [
    "import urllib.request\n",
    "import time\n",
    "\n",
    "price_url = \"http://beans.itcarlow.ie/prices-loyalty.html\"\n",
    "\n",
    "def get_price():\n",
    "    price_page = urllib.request.urlopen(price_url)\n",
    "    page_text = price_page.read().decode(\"utf8\")\n",
    "    price_location = page_text.find('>$') + 2\n",
    "    # 지역변수 이름을 price로 변경\n",
    "    price = float(page_text[price_location : price_location + 4])\n",
    "    return price\n",
    "\n",
    "answer = input(\"지금 살까요? \")    \n",
    "\n",
    "if answer == 'Yes':\n",
    "    bean_price = get_price()\n",
    "else:     \n",
    "    price_basis = 4.8\n",
    "    bean_price = 5.0\n",
    "\n",
    "    while bean_price > price_basis:\n",
    "        time.sleep(1)\n",
    "        bean_price = get_price()\n",
    "\n",
    "print(f\"커피 원두 현재 가격이 {bean_price} 달러입니다.\")"
   ]
  },
  {
   "cell_type": "markdown",
   "metadata": {},
   "source": [
    "### `global` 지정자"
   ]
  },
  {
   "cell_type": "markdown",
   "metadata": {},
   "source": [
    "함수 본체에서 선언된 지역변수를 함수 외부에서도 사용하기 위한 보다 직접적인 방법이 있다.\n",
    "지역변수를 선언할 때 `global` 지정자를 사용하면 된다.\n",
    "그러면 리턴값을 내주지 않아도 `bean_price` 지역변수를 사용할 수 있다."
   ]
  },
  {
   "cell_type": "code",
   "execution_count": 1,
   "metadata": {},
   "outputs": [
    {
     "name": "stdout",
     "output_type": "stream",
     "text": [
      "지금 살까요? Yes\n",
      "커피 원두 현재 가격이 4.3 달러입니다.\n"
     ]
    }
   ],
   "source": [
    "import urllib.request\n",
    "import time\n",
    "\n",
    "price_url = \"http://beans.itcarlow.ie/prices-loyalty.html\"\n",
    "\n",
    "def get_price():\n",
    "    global bean_price           # 전역변수로 선언\n",
    "    price_page = urllib.request.urlopen(price_url)\n",
    "    page_text = price_page.read().decode(\"utf8\")\n",
    "    price_location = page_text.find('>$') + 2\n",
    "    bean_price = float(page_text[price_location : price_location + 4])\n",
    "\n",
    "answer = input(\"지금 살까요? \")    \n",
    "\n",
    "if answer == 'Yes':\n",
    "    get_price()\n",
    "else:     \n",
    "    price_basis = 4.8\n",
    "    bean_price = 5.0\n",
    "\n",
    "    while bean_price > price_basis:\n",
    "        time.sleep(1)\n",
    "        get_price()\n",
    "\n",
    "print(f\"커피 원두 현재 가격이 {bean_price} 달러입니다.\")"
   ]
  },
  {
   "cell_type": "markdown",
   "metadata": {},
   "source": [
    "#### 'global' 지정자 사용의 문제점"
   ]
  },
  {
   "cell_type": "markdown",
   "metadata": {},
   "source": [
    "`global` 지정자의 사용은 권장되지 않는다.\n",
    "이유는 기능적으로 구분되는 전역변수와 지역변수를 강제로 연동하면\n",
    "대처하기 어려운 다룬 문제를 유발할 가능성이 높아진다.\n",
    "\n",
    "예를 들어, [PythonTutor: global 변수 사용](http://pythontutor.com/visualize.html#code=def%20fun_A%28%29%3A%0A%20%20%20%20global%20price%0A%20%20%20%20price%20%3D%201.74%0A%20%20%20%20%0Adef%20fun_B%28%29%3A%0A%20%20%20%20global%20price%0A%20%20%20%20price%20%3D%202%0A%20%20%20%20%0Aprice%20%3D%200%0A%0Afun_A%28%29%0Afun_B%28%29%0A%0Aprint%28price%29&cumulative=false&heapPrimitives=nevernest&mode=edit&origin=opt-frontend.js&py=3&rawInputLstJSON=%5B%5D&textReferences=false)에 \n",
    "있는 코드를 실행해서 `global` 지정자를 사용할 경우 발생하는 문제를 살펴보자.\n",
    "\n",
    "코드는 아래와 같다."
   ]
  },
  {
   "cell_type": "code",
   "execution_count": 2,
   "metadata": {},
   "outputs": [
    {
     "name": "stdout",
     "output_type": "stream",
     "text": [
      "2\n"
     ]
    }
   ],
   "source": [
    "def fun_A():\n",
    "    global price\n",
    "    price = 1.74\n",
    "    \n",
    "def fun_B():\n",
    "    global price\n",
    "    price = 2\n",
    "    \n",
    "price = 0\n",
    "\n",
    "fun_A()\n",
    "fun_B()\n",
    "\n",
    "print(price)"
   ]
  },
  {
   "cell_type": "markdown",
   "metadata": {},
   "source": [
    "위 코드에서 `fun_A`와 `fun_B` 두 함수 모두 `global` 키워드를 사용하여 함수 밖에서 \n",
    "선언된 `price` 전역변수를 사용하도록 선언하였다.\n",
    "\n",
    "그리고 `fun_A` 함수와 `fun_B` 함수를 연달아 호출한 후, `price` 변수에\n",
    "할당된 값을 최종적으로 확인한다.\n",
    "확인 결과로 `fun_B` 함수에 의해 결정된 값인 2가 할당됨을 알게 된다.\n",
    "이렇듯, `global` 키워드를 여러 곳에서 사용하면 여러 함수가 하나의 전역변수를 건드리는 결과가 발생할 수 있기 때문에\n",
    "코드가 길어지고 복잡해지면 프로그램이 실행될 때 변수에 할당된 값이 어떻게 변경되는가를 추적하는 일이 매우 어렵거나\n",
    "심지어 불가능해지는 일이 발생할 수 있다."
   ]
  },
  {
   "cell_type": "markdown",
   "metadata": {},
   "source": [
    "## 프로그램 업그레이드 3: 함수 활용 - 코드 일반화<a id='upgrade3'></a>"
   ]
  },
  {
   "cell_type": "markdown",
   "metadata": {},
   "source": [
    "[프로그램 업그레이드 2](#returnValue)에서 `return` 지정자를 활용하여\n",
    "선언한 `get_price` 함수는 매우 편리하다. \n",
    "`get_price()` 형식의 명령문으로 실행하면\n",
    "[충성고객을 위한 커피 원두 가격 웹페이지](http://beans.itcarlow.ie/prices-loyalty.html)에서\n",
    "가격정보를 자동으로 확인하여 알려준다.\n",
    "\n",
    "그런데 한 가지 부족한 점이 있다. 충성고객만을 위한 가격만 확인할 뿐 일반인을 위한 가격은 알려주지 않는다.\n",
    "물론 `price_url` 변수에 할당된 주소를 수정하면 되지만,\n",
    "매번 그런식으로 코드를 수정하는 일은 번거롭다.\n",
    "또한 충성고객용 가격과 일반고객용 가격을 비교하는 경우에는 \n",
    "아래와 같이 `get_price` 함수를 복제해서 하나는 충성고객용, 다른 하나는 일반고객용으로 사용해야 하는데,\n",
    "이것 또한 코드의 중복사용 문제에 해당한다.\n",
    "\n",
    "예를 들어, 아래 코드는 `get_price` 함수를 복제하여 충성고객용 `get_price_loyalty`와\n",
    "일반고객용 `get_price_general`을 정의한다."
   ]
  },
  {
   "cell_type": "code",
   "execution_count": 1,
   "metadata": {},
   "outputs": [
    {
     "name": "stdout",
     "output_type": "stream",
     "text": [
      "지금 가격을 비교합니다.\n",
      "충성고객용 가격이 일반고객용 가격보다 0.75 달러 저렴합니다.\n"
     ]
    }
   ],
   "source": [
    "import urllib.request\n",
    "import time\n",
    "\n",
    "price_url_loyal = \"http://beans.itcarlow.ie/prices-loyalty.html\"\n",
    "price_url_general = \"http://beans.itcarlow.ie/prices.html\"\n",
    "\n",
    "def get_price_loyal():\n",
    "    price_page = urllib.request.urlopen(price_url_loyal)\n",
    "    page_text = price_page.read().decode(\"utf8\")\n",
    "    price_location = page_text.find('>$') + 2\n",
    "    price = float(page_text[price_location : price_location + 4])\n",
    "\n",
    "    return price\n",
    "\n",
    "def get_price_general():\n",
    "    price_page = urllib.request.urlopen(price_url_general)\n",
    "    page_text = price_page.read().decode(\"utf8\")\n",
    "    price_location = page_text.find('>$') + 2\n",
    "    price = float(page_text[price_location : price_location + 4])\n",
    "\n",
    "    return price\n",
    "\n",
    "print(\"지금 가격을 비교합니다.\")    \n",
    "\n",
    "bean_price_loyal = get_price_loyal()\n",
    "bean_price_general = get_price_general()\n",
    "price_difference = abs(bean_price_general - bean_price_loyal)\n",
    "\n",
    "print(f\"충성고객용 가격이 일반고객용 가격보다 {price_difference:.2f} 달러 저렴합니다.\")"
   ]
  },
  {
   "cell_type": "markdown",
   "metadata": {},
   "source": [
    "이에 대한 해결책은 함수의 인자를 활용하는 것이다. \n",
    "`get_price` 함수는 입력값을 받지 않는다. \n",
    "따라서 실행할 때 매번 동일한 명령문을 수행한다.\n",
    "즉, 동일한 웹페이지만 방문한다.\n",
    "\n",
    "반면에 함수가 들어온 입력값에 따라 다르게 행동하게 만들 수 있다.\n",
    "예를 들어, 지정된 웹페이지에 따라 다른 웹페이지를 방문하게 만들 수 있다.\n",
    "\n",
    "이렇게 함수가 입력값을 받아, 입력값에 따라 \n",
    "다른 일을 하도록 하려면 다음과 같이 매개변수를 이용하여 함수를 선언해야 한다.\n",
    "\n",
    "예를 들어, `get_price` 함수를 아래와 같이 정의한다.\n",
    "\n",
    "```python\n",
    "def get_price(price_url):\n",
    "    price_page = urllib.request.urlopen(price_url)\n",
    "    page_text = price_page.read().decode(\"utf8\")\n",
    "    price_location = page_text.find('>$') + 2\n",
    "    price = float(page_text[price_location : price_location + 4])\n",
    "\n",
    "    return price\n",
    "```\n",
    "\n",
    "위 함수는 `price_url`을 매개변수로 선언하였다. \n",
    "즉, `price_url` 매개변수에 사용되는 인자에 따라 방문하는 웹페이지를 달리하여\n",
    "가격정보를 불러오게 만들었다.\n",
    "\n",
    "이제 가격정보를 확인하는 코드를 아래와 같이 작성할 수 있다.\n",
    "코드가 훨씬 간단해졌음을 확인할 수 있다."
   ]
  },
  {
   "cell_type": "code",
   "execution_count": 1,
   "metadata": {},
   "outputs": [
    {
     "name": "stdout",
     "output_type": "stream",
     "text": [
      "지금 가격을 비교합니다.\n",
      "충성고객용 가격이 일반고객용 가격보다 0.75 달러 저렴합니다.\n"
     ]
    }
   ],
   "source": [
    "import urllib.request\n",
    "import time\n",
    "\n",
    "price_url_loyal = \"http://beans.itcarlow.ie/prices-loyalty.html\"\n",
    "price_url_general = \"http://beans.itcarlow.ie/prices.html\"\n",
    "\n",
    "# price_url 매개변수 활용\n",
    "def get_price(price_url):\n",
    "    price_page = urllib.request.urlopen(price_url)\n",
    "    page_text = price_page.read().decode(\"utf8\")\n",
    "    price_location = page_text.find('>$') + 2\n",
    "    price = float(page_text[price_location : price_location + 4])\n",
    "\n",
    "    return price\n",
    "\n",
    "print(\"지금 가격을 비교합니다.\")    \n",
    "\n",
    "# get_price 함수를 인자를 달리하여 두 번 실행\n",
    "bean_price_loyal = get_price(price_url_loyal)\n",
    "bean_price_general = get_price(price_url_general)\n",
    "# abs 함수는 절댓값을 계산하는 함수. 가격의 차이를 나타내기 위해 사용\n",
    "price_difference = abs(bean_price_general - bean_price_loyal)\n",
    "\n",
    "print(f\"충성고객용 가격이 일반고객용 가격보다 {price_difference:.2f} 달러 저렴합니다.\")"
   ]
  },
  {
   "cell_type": "markdown",
   "metadata": {},
   "source": [
    "## 연습문제"
   ]
  },
  {
   "cell_type": "markdown",
   "metadata": {},
   "source": [
    "1. [PythonTutor:loyalVSgenral](http://pythontutor.com/visualize.html#code=price_loyal%20%3D%204.5%0Aprice_general%20%3D%205.8%0A%0Adef%20get_price_loyal%28%29%3A%0A%20%20%20%20return%20price_loyal%0A%0Adef%20get_price_general%28%29%3A%0A%20%20%20%20return%20price_general%0A%0Abean_price_loyal%20%3D%20get_price_loyal%28%29%0Abean_price_general%20%3D%20get_price_general%28%29%0A%20%20%20%20%0Aprice_difference%20%3D%20abs%28bean_price_general%20-%20%20bean_price_loyal%29%0A%0Aprint%28f%22%EC%B6%A9%EC%84%B1%EA%B3%A0%EA%B0%9D%EC%9A%A9%20%EA%B0%80%EA%B2%A9%EC%9D%B4%20%EC%9D%BC%EB%B0%98%EA%B3%A0%EA%B0%9D%EC%9A%A9%20%EA%B0%80%EA%B2%A9%EB%B3%B4%EB%8B%A4%20%7Bprice_difference%3A.2f%7D%20%EB%8B%AC%EB%9F%AC%20%EC%A0%80%EB%A0%B4%ED%95%A9%EB%8B%88%EB%8B%A4.%22%29%0A&cumulative=false&heapPrimitives=nevernest&mode=edit&origin=opt-frontend.js&py=3&rawInputLstJSON=%5B%5D&textReferences=false)에\n",
    "있는 코드를 함수 일반화를 이용하여 수정하여 Python Tutor에서 직접 실행하라."
   ]
  }
 ],
 "metadata": {
  "kernelspec": {
   "display_name": "Python 3",
   "language": "python",
   "name": "python3"
  },
  "language_info": {
   "codemirror_mode": {
    "name": "ipython",
    "version": 3
   },
   "file_extension": ".py",
   "mimetype": "text/x-python",
   "name": "python",
   "nbconvert_exporter": "python",
   "pygments_lexer": "ipython3",
   "version": "3.6.8"
  }
 },
 "nbformat": 4,
 "nbformat_minor": 2
}
