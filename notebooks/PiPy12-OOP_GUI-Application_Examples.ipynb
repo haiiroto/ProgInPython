{
 "cells": [
  {
   "cell_type": "markdown",
   "metadata": {},
   "source": [
    "# GUI 프로그래밍 예제"
   ]
  },
  {
   "cell_type": "markdown",
   "metadata": {},
   "source": [
    "## 이벤트, 콜백(callback), 람다(lambda) 함수"
   ]
  },
  {
   "cell_type": "markdown",
   "metadata": {},
   "source": [
    "먼저 GUI 프로그래밍과 게임 프로그래밍에서\n",
    "매우 중요한 개념 세 가지를 살펴본다. \n",
    "\n",
    "* 이벤트\n",
    "* 콜백 함수\n",
    "* 람다 함수"
   ]
  },
  {
   "cell_type": "markdown",
   "metadata": {},
   "source": [
    "### 이벤트와 이벤트 처리"
   ]
  },
  {
   "cell_type": "markdown",
   "metadata": {},
   "source": [
    "구현된 애플리케이션에 사용된 위젯(스크린, 버튼, 입력창 등)을 이용하여\n",
    "마우스 클릭, 버튼 누루기, 키 입력 등을 \n",
    "애플리케이션의 작동에 영향을 주는 행위를 **이벤트**(event)라 부른다.\n",
    "또한 애플리케이션이 발생한 이벤트에 해당하는 지정된 기능을 수행하게 만드는 것을 \n",
    "**이벤트 처리**(event handling)라 부른다.\n",
    "\n",
    "예를 들어, \n",
    "[객체 지향 프로그래밍: GUI 프로그래밍 소개](https://github.com/liganega/ProgInPython/blob/master/notebooks/PiPy11-OOP_GUI-Programming_Introduction.ipynb)\n",
    "에서 소개한 '파이썬 퀴즈 게임' 애플리케이션에서 정답/오답 버튼을 누르면\n",
    "지정된 소리를 내고, 퀴즈 수를 1씩 증가시켜야 한다.\n",
    "이때, 정답/오답 버튼 누르기가 이벤트이고, 해당 이벤트가 발생하면\n",
    "특정 기능이 수행되도록 프로그램을 작성하는 것을 이벤트 프로그래밍이다.\n",
    "\n",
    "<img src=\"images/gui02.png\" style=\"width:60%\">"
   ]
  },
  {
   "cell_type": "markdown",
   "metadata": {},
   "source": [
    "### 이벤트와 콜백 함수 연동"
   ]
  },
  {
   "cell_type": "markdown",
   "metadata": {},
   "source": [
    "위젯이 이벤트에 반응하는 기능을 가지려면 **콜백**(callback) 함수가 위젯에 연동되어야 한다.\n",
    "콜백 함수는 특정 이벤트가 발생하면 자동으로 호출(callback)되어 실행되는 함수를 가리킨다.\n",
    "즉, 연결된 이벤트가 먼저 발생한 후에 실행되며, 이벤트가 발생하지 않으면 전혀 실행되지 않는다.\n",
    "\n",
    "예를 들어, '파이썬 퀴즈 게임'에서 정답/오답 버튼을 누를 때 실행되어\n",
    "소리를 내고 정답/오답 수를 하나 키우는 기능을 수행하는 함수가 바로 콜백 함수이다. \n",
    "\n",
    "* `play_correct_sound()`: 정답 버튼이 눌렸을 때 실행\n",
    "* `play_wrong_sound()`: 오답 버튼이 눌렸을 때 실행\n",
    "\n",
    "위젯 이벤트와 콜백 함수를 연동하려면 `command` 인스턴스 속성이나\n",
    "`bind` 인스턴스 메서드를 활용해야 한다."
   ]
  },
  {
   "cell_type": "markdown",
   "metadata": {},
   "source": [
    "#### `command` 인스턴스 속성 활용"
   ]
  },
  {
   "cell_type": "markdown",
   "metadata": {},
   "source": [
    "아래 코드는 정답 버튼과 `play_correct_sound` 콜백 함수를 \n",
    "`command` 인스턴스 속성을 이용하여 연동하는 방식을 보여준다.\n",
    "\n",
    "```python\n",
    "b1 = Button(frame3, text = \"정답\", width = 7, command = play_correct_sound)\n",
    "```\n",
    "\n",
    "아래 사항에 주의해야 한다.\n",
    "\n",
    "* 콜백 함수는 인자를 전혀 사용하지 않는 함수이다.\n",
    "* `command` 속성으로 지정할 때 함수 이름만을 사용한다.\n",
    "    즉, 괄호를 사용하지 않아야 한다.\n",
    "    괄호를 사용하면 위젯이 생성되는 과정에 함수 호출이 발생하기에 콜백 기능을 갖지 못한다."
   ]
  },
  {
   "cell_type": "markdown",
   "metadata": {},
   "source": [
    "#### `bind` 인스턴스 메서드 활용"
   ]
  },
  {
   "cell_type": "markdown",
   "metadata": {},
   "source": [
    "`command` 인스턴스 속성에 콜백 함수를 지정하는 방식은 매우 편리한 기능이며 `Button` 클래스 등 일부 위젯에서 지원하지만, 다음 두 가지 한계를 갖는다.\n",
    "\n",
    "* 첫째, 모든 위젯이 `command` 속성을 활용한 콜백 함수 연동을 지원하지는 않는다.\n",
    "    예를 들어, `Frame` 클래스는 `command` 속성을 지원하지 않는다.\n",
    "* 둘째, `command` 속성으로 연동할 수 있는 이벤트가 버튼 클릭 정도이다. \n",
    "    따라서 예를 들어, 리턴(Return) 키를 누르는 이베트와의 연동은 지원되지 않는다.\n",
    "\n",
    "반면에 `bind()` 메서드를 활용한 방식은 앞서 언급한 한계를 갖지 않는다. \n",
    "특정 위젯과 콜백 함수를 연동하는 방식은 다음과 같다.\n",
    "\n",
    "```python\n",
    "widget.bind(event, handler, add='')\n",
    "```\n",
    "\n",
    "* `event`: 이벤트 지정\n",
    "* `handler`: 이벤트 처리기(핸들러)로 사용될 콜백 함수 지정\n",
    "    * 콜백 함수은 인자를 하나 받아야 한다.\n",
    "        그러면 실행될 때 발생한 이벤트가 자동으로 인자로 삽입된다.\n",
    "* `add`: 기존에 연결된 콜백 함수 함께 실행 여부 결정\n",
    "    * `add=''`: 기존에 연결된 콜백 함수 실행 취소\n",
    "    * `add='+'`: 기존에 연결된 콜백 함수와 함께 실행. 하지만\n",
    "        어떤 콜백 함수가 선택될지는 아무도 모름.\n",
    "    \n",
    "예를 들어, 정답 버튼과 play_correct_sound 함수를 연동하는 방식은 다음과 같다.\n",
    "\n",
    "```python\n",
    "b1 = Button(frame3, text = \"정답\", width = 7)\n",
    "b1.bind(\"<Button-1>\", play_correct_sound_1)\n",
    "```\n",
    "\n",
    "여기서 `play_correct_sound_1()` 함수는 인자를 하나 받도록 선언되어야 한다. \n",
    "앞서 설명한 대로 발생한 이벤트가 자동으로 인자로 사용되기에 입력된 이벤트를 활용할 수 있다.\n",
    "하지만 여기서는 굳이 그럴 필요가 없기에 예를 들어 다음과 같이 정의하면 된다.\n",
    "\n",
    "```python\n",
    "def play_correct_sound_1(event):\n",
    "    play_correct_sound()\n",
    "```\n",
    "\n",
    "아래 코드는 `Frame` 클래스에 `event` 인자를 활용하는 방법을 보여준다.\n",
    "\n",
    "* `frame.bind(\"<Button-1>\", eventCallback)`: 프레임을 클릭 이벤트 처리\n",
    "    * `\"<Button-1>\"`: 마우스 왼쪽 버튼 클릭 이벤트\n",
    "    * `eventCallback`: 이벤트 발생 후 실행되는 콜백 함수\n",
    "* `eventCallback(event)`: 콜백 함수\n",
    "    * `dir(event)`: 발생한 이벤트 객체의 속성 및 메서드 정보\n",
    "    * `event.x`, `event.y`: 마우스 클릭 지점의 좌표"
   ]
  },
  {
   "cell_type": "code",
   "execution_count": 17,
   "metadata": {},
   "outputs": [
    {
     "name": "stdout",
     "output_type": "stream",
     "text": [
      "['__class__', '__delattr__', '__dict__', '__dir__', '__doc__', '__eq__', '__format__', '__ge__', '__getattribute__', '__gt__', '__hash__', '__init__', '__init_subclass__', '__le__', '__lt__', '__module__', '__ne__', '__new__', '__reduce__', '__reduce_ex__', '__repr__', '__setattr__', '__sizeof__', '__str__', '__subclasshook__', '__weakref__', 'char', 'delta', 'height', 'keycode', 'keysym', 'keysym_num', 'num', 'send_event', 'serial', 'state', 'time', 'type', 'widget', 'width', 'x', 'x_root', 'y', 'y_root']\n",
      "\n",
      "클릭 지점 좌표: 101 36\n"
     ]
    }
   ],
   "source": [
    "from tkinter import *\n",
    "app = Tk()\n",
    "app.geometry('300x100+200+100')\n",
    "\n",
    "Label(app, text='하늘색 영역에서 마우스 클릭해보세요').pack()\n",
    "\n",
    "def eventCallback(event):\n",
    "    print(dir(event))\n",
    "    print(\"\\n클릭 지점 좌표:\", event.x, event.y)\n",
    "\n",
    "frame = Frame(app, bg='sky blue', width=250, height=70)\n",
    "frame.bind(\"<Button-1>\", eventCallback)\n",
    "frame.pack()\n",
    "\n",
    "app.mainloop()"
   ]
  },
  {
   "cell_type": "markdown",
   "metadata": {},
   "source": [
    "### 이벤트 패턴"
   ]
  },
  {
   "cell_type": "markdown",
   "metadata": {},
   "source": [
    "다양한 이벤트 패턴에 대한 설명은\n",
    "[Events and callbacks – adding life to programs](https://subscription.packtpub.com/book/application_development/9781788837460/1/ch01lvl1sec17/events-and-callbacks-adding-life-to-programs)\n",
    "을 참조하면 좋다. \n",
    "하지만 위젯 종류에 따른 사용 가능한 이벤트 처리가 달라진다.\n",
    "따라서 경우에 따른 인터넷 검색을 사용하면 보다 정확한 사용법을 확인할 수 있다."
   ]
  },
  {
   "cell_type": "markdown",
   "metadata": {},
   "source": [
    "### 콜백과 람다 함수"
   ]
  },
  {
   "cell_type": "markdown",
   "metadata": {},
   "source": [
    "파이썬에서 함수 보통 아래 방식으로 정의된다.\n",
    "\n",
    "```python\n",
    "def 함수이름(인자1, ..., 인자n):\n",
    "    함수본체\n",
    "```\n",
    "\n",
    "즉, 함수 이름을 먼저 선언하고 함수를 정의한다.\n",
    "이렇게 하면, 함수 이름을 이용하여 필요한 기능을 재사용할 수 있으며,\n",
    "함수가 어떻게 정의되었는지 굳이 몰라도 함수의 기본 기능만 알면 사용할 수 있다.\n",
    "즉, 코드 추상화의 주요 도구 중의 하나로 사용된다.\n",
    "\n",
    "하지만 경우에 따라 한 번만 사용할 간단한 함수를 이름 없이\n",
    "정의하면 좋을 때가 있으며, \n",
    "그럴 때 **람다**(lambda) 함수를 이용한다.\n",
    "\n",
    "예를 들어, 이전 코드에서 사용한 `eventCallback()` 함수를\n",
    "단순화 해서 아래와 같이 정의하자."
   ]
  },
  {
   "cell_type": "code",
   "execution_count": 23,
   "metadata": {},
   "outputs": [],
   "source": [
    "def eventCallback(event):\n",
    "    print(\"클릭 좌표:\", event.x, event.y)"
   ]
  },
  {
   "cell_type": "markdown",
   "metadata": {},
   "source": [
    "`eventCallback()` 함수와 동일한 기능을 수행하는 함수를\n",
    "람다 함수로 다음과 같이 정의할 수 있다."
   ]
  },
  {
   "cell_type": "code",
   "execution_count": 22,
   "metadata": {},
   "outputs": [
    {
     "data": {
      "text/plain": [
       "<function __main__.<lambda>(event)>"
      ]
     },
     "execution_count": 22,
     "metadata": {},
     "output_type": "execute_result"
    }
   ],
   "source": [
    "lambda event: print(\"클릭 좌표:\", event.x, event.y)"
   ]
  },
  {
   "cell_type": "markdown",
   "metadata": {},
   "source": [
    "위 람다 함수를 이용하여 이전 코드를 다시 작성하면 다음과 같다."
   ]
  },
  {
   "cell_type": "code",
   "execution_count": 31,
   "metadata": {},
   "outputs": [
    {
     "name": "stdout",
     "output_type": "stream",
     "text": [
      "클릭 좌표: 77 19\n"
     ]
    }
   ],
   "source": [
    "from tkinter import *\n",
    "app = Tk()\n",
    "app.geometry('300x100+200+100')\n",
    "\n",
    "Label(app, text='하늘색 영역에서 마우스 클릭해보세요').pack()\n",
    "\n",
    "frame = Frame(app, bg='sky blue', width=250, height=70)\n",
    "frame.bind(\"<Button-1>\", lambda event: print(\"클릭 좌표:\", event.x, event.y))\n",
    "frame.pack()\n",
    "\n",
    "app.mainloop()"
   ]
  },
  {
   "cell_type": "markdown",
   "metadata": {},
   "source": [
    "## GUI 애플리케이션 예제: 계산기"
   ]
  },
  {
   "cell_type": "markdown",
   "metadata": {},
   "source": [
    "`tkinter` 모듈을 이용하여 보다 유용한 애플리케이션을 구현하는 과정을 살펴본다.\n",
    "여기서 구현하는 애플리케이션은 실제로 작동하는 \n",
    "아래 모양의 계산기이다.\n",
    "\n",
    "<img src=\"images/calc01.png\" style=\"width:60%\">"
   ]
  },
  {
   "cell_type": "markdown",
   "metadata": {},
   "source": [
    "**참조**: 계산기 관련 코드는 \n",
    "[Python Calculator – Create A Simple GUI Calculator Using Tkinter](https://www.simplifiedpython.net/python-calculator/)\n",
    "내용을 참조하였다."
   ]
  },
  {
   "cell_type": "markdown",
   "metadata": {},
   "source": [
    "### 계산기 GUI 애플리케이션 구성 요소 확인\n",
    "\n",
    "\"계산기\" GUI 애플리케이션 구성요소는 다음과 같다.\n",
    "\n",
    "1. 입력 내용과 연산 실행 결과 창\n",
    "    * 마우스로 입력되는 내용을 표시\n",
    "    * '=' 버튼을 누르면 연산결과 표시\n",
    "1. 'C' 버튼: 초기화 버튼\n",
    "1. 기타 버튼: 숫자 입력과 사칙연산 위해 사용\n",
    "\n",
    "앞서 언급한 세 구성 요소를 하나씩 구현해 보자."
   ]
  },
  {
   "cell_type": "markdown",
   "metadata": {},
   "source": [
    "### 구성 요소 1: 입력 내용과 연산 실행 결과 창"
   ]
  },
  {
   "cell_type": "markdown",
   "metadata": {},
   "source": [
    "윈도우 창은 `tkinter` 모듈에 포함된 `Tk` 클래스의 인스턴스로 구할 수 있다.\n",
    "또한 버튼 입력 내용과 연산 결과를 보여주는 창을 생성하려면 아래 도구를 사용한다.\n",
    "\n",
    "* `StringVar` 클래스: 문자열을 저장한 후 확인 및 업데이트 기능 제공\n",
    "* `Entry` 클래스: 한 줄 문장을 입력받고 보여주는 제공\n",
    "    * `textvariable` 인스턴스 속성: `StringVar` 클래스의 객체를 지정하면 \n",
    "        창에 입력된 문자열과 `StringVar` 객체에 저장된 값이 연동됨.\n",
    "        `StringVar`의 `set`, `get` 메서드를 이용하여 화면에 보여지는 내용 업데이트 가능.\n",
    "    * 나머지 인스턴스 속성은 창의 모양과 출력 방식과 관련됨.\n",
    "        자세한 설명은 인터넷 검색 또는 \n",
    "        [tkinter 공식 문서](https://docs.python.org/3/library/tkinter.html) 참조.\n",
    "    * `pack()` 메서드 인자\n",
    "        * `side`: 지정된 윈도우 창에 추가할 때 위치 지정\n",
    "        * `expand=YES`, `fill=BOTH`: 윈도우 창을 자유자재로 조정 가능하게 만듦.\n",
    "            구체적인 사용법은 직접 실험해보거나 \n",
    "            [tkinter 공식 문서](https://docs.python.org/3/library/tkinter.html) 참조."
   ]
  },
  {
   "cell_type": "code",
   "execution_count": 32,
   "metadata": {},
   "outputs": [],
   "source": [
    "from tkinter import *\n",
    "\n",
    "calculator = Tk()\n",
    "calculator.title(\"계산기\")\n",
    "\n",
    "# 버튼 입력 내용 및 연산 결과 표시 창\n",
    "display = StringVar()\n",
    "displayFrame = Entry(calculator, relief=FLAT, textvariable=display, \n",
    "                     justify='right', bd=30, bg=\"sky blue\")\n",
    "displayFrame.pack(side=TOP, expand=YES, fill=BOTH)\n",
    "\n",
    "calculator.mainloop()"
   ]
  },
  {
   "cell_type": "markdown",
   "metadata": {},
   "source": [
    "위 프로그램을 실행하면 지정된 타이틀과 입력 내용과 연산 실행 결과를 보여주는 입력창이 생성된 윈도우 창이 \n",
    "아래와 같이 생성된다.\n",
    "\n",
    "<img src=\"images/calc02.png\" style=\"width:60%\">"
   ]
  },
  {
   "cell_type": "markdown",
   "metadata": {},
   "source": [
    "#### 주의사항\n",
    "\n",
    "`mainloop` 메소드는 생성된 윈도우 창이 사용자가 닫기 버튼(X)을 누를 때까지 유지되도록 하는 기능을 갖는다."
   ]
  },
  {
   "cell_type": "markdown",
   "metadata": {},
   "source": [
    "### 구성 요소 2: 클리어 버튼"
   ]
  },
  {
   "cell_type": "markdown",
   "metadata": {},
   "source": [
    "`Frame`과  `Button` 클래스의 활용법을 이전에 살펴보았다.\n",
    "여기서는 많은 프레임과 버튼을 생성해야 하기에 \n",
    "해당 클래스의 객체 생성과 추가하기(pack)를 지원하는\n",
    "두 개의 함수를 선언한다.\n",
    "\n",
    "* `frameInstance`: `Frame` 객체 생성 및 지정된 윈도우 창에 생성된 프레임 추가하기(pack)\n",
    "* `buttonInstance`: `Button` 객체 생성 및 지정된 프레임에 생성된 버튼 추가하기(pack)\n",
    "\n",
    "코드의 나머지 부분은 실행 결과를 모두 삭제하는 클리어('C') 버튼을 추가하는 내용이다.\n",
    "\n",
    "* `command` 속성: 클리어('C') 버튼을 누르기 이벤트 처리를 위한 콜백 함수 지정\n",
    "    * `display` 가 가리키는 `StringVar()` 객체에 담긴 문자열을 빈 문자열로 초기화."
   ]
  },
  {
   "cell_type": "code",
   "execution_count": 5,
   "metadata": {},
   "outputs": [],
   "source": [
    "from tkinter import *\n",
    "\n",
    "calculator = Tk()\n",
    "calculator.title(\"계산기\")\n",
    "\n",
    "# 버튼 입력 내용 및 연산 결과 표시 창\n",
    "display = StringVar()\n",
    "displayFrame = Entry(calculator, relief=FLAT, textvariable=display, justify='right', bd=30, bg=\"sky blue\")\n",
    "displayFrame.pack(side=TOP, expand=YES, fill=BOTH)\n",
    "\n",
    "# Frame 객체 생성 및 지정된 윈도우 창에 생성된 프레임 추가\n",
    "def frameInstance(window, side):\n",
    "    frame = Frame(window, borderwidth=4, bd=4, bg=\"sky blue\")\n",
    "    frame.pack(side=side, expand=YES, fill=BOTH)\n",
    "    return frame\n",
    "\n",
    "# Button 객체 생성 및 지정된 프레임에 생성된 버튼 추가\n",
    "def buttonInstance(frame, side, text, command=None):\n",
    "    button = Button(frame, text=text, command=command)\n",
    "    button.pack(side=side, expand=YES, fill=BOTH)\n",
    "    return button\n",
    "\n",
    "# 클리어 버튼 추가\n",
    "# C 버튼을 누르면 입력 내용과 연산 실행 결과 전부 삭제\n",
    "# 먼저 프레임을 생성한 후 그곳에 클리어 버튼만 추가\n",
    "clearButtonFrame = frameInstance(calculator, TOP)\n",
    "buttonInstance(clearButtonFrame, LEFT, \"C\", command=lambda: display.set(''))\n",
    "\n",
    "\n",
    "calculator.mainloop()"
   ]
  },
  {
   "cell_type": "markdown",
   "metadata": {},
   "source": [
    "위 프로그램을 실행하면 'C'로 표기된 클리어 버튼이 생성된다.\n",
    "'C' 버튼을 눌러도 아무런 변화가 발생하지 않는다. \n",
    "클리어할 내용이 아직 없기 때문이다.\n",
    "\n",
    "<img src=\"images/calc03.png\" style=\"width:60%\">"
   ]
  },
  {
   "cell_type": "markdown",
   "metadata": {},
   "source": [
    "### 콜백과 람다 함수 (추가 설명)"
   ]
  },
  {
   "cell_type": "markdown",
   "metadata": {},
   "source": [
    "람다 함수를 이용하면 함수에 특정 인자를 지정한 상태로 콜백 함수로 사용할 수 있다.\n",
    "예를 들어, 위 코드에서 클리어 버튼 누리기 이벤트와 연동된 콜백 함수는 \n",
    "다음과 같이 람다 함수로 정의되었다.\n",
    "\n",
    "```python\n",
    "lambda: display.set('')\n",
    "```\n",
    "\n",
    "위 함수는 인자를 전혀 사용하지 않는 함수이다. \n",
    "(`lambda`와 콜론 사이에 매개 변수가 사용되지 않았음)\n",
    "반면에, `display` 가 가리키는 `StringVar()` 객체에 담긴 문자열을\n",
    "빈 문자열로 초기화하기 위해 \n",
    "`set()` 메서드를 빈 무자열 인자와 함께 호출하였다. \n",
    "\n",
    "하지만 `command=display.set('')` 형식으로 사용하면 안된다.\n",
    "이유는 그렇게 하면 `display.set('')` 이 버튼을 생성할 때 바로 시행되기 때문이다. \n",
    "즉, 콜백 함수로서의 기능을 수행하지 못한다. \n",
    "\n",
    "이럴 때 `lambda`(람다) 기호를 위와 같이 사용하면 인자 없는 함수로 선언할 수 있게 되고,\n",
    "버튼 클릭 이벤트가 발생하면 바로 호출이 된다.\n",
    "인자가 없는 함수가 호출 되는 것이기에 \n",
    "`display.set('')` 가 직접 실행되는 것과 동일한 기능을 수행하게 된다."
   ]
  },
  {
   "cell_type": "markdown",
   "metadata": {},
   "source": [
    "### 구성 요소 3: 기타 버튼 추가"
   ]
  },
  {
   "cell_type": "markdown",
   "metadata": {},
   "source": [
    "..."
   ]
  },
  {
   "cell_type": "code",
   "execution_count": 16,
   "metadata": {},
   "outputs": [],
   "source": [
    "from tkinter import *\n",
    "\n",
    "calculator = Tk()\n",
    "calculator.title(\"계산기\")\n",
    "\n",
    "display = StringVar()\n",
    "displayFrame = Entry(calculator, relief=FLAT, textvariable=display, justify='right', bd=10, bg=\"sky blue\")\n",
    "displayFrame.pack(side=TOP, expand=YES, fill=BOTH)\n",
    "\n",
    "def frameInstance(window, side):\n",
    "    frame = Frame(window, borderwidth=4, bd=4, bg=\"sky blue\")\n",
    "    frame.pack(side=side, expand=YES, fill=BOTH)\n",
    "    return frame\n",
    "\n",
    "def buttonInstance(frame, side, text, command=None):\n",
    "    button = Button(frame, text=text, command=command)\n",
    "    button.pack(side=side, expand=YES, fill=BOTH)\n",
    "    return button\n",
    "\n",
    "clearButtonFrame = frameInstance(calculator, TOP)\n",
    "buttonInstance(clearButtonFrame, LEFT, \"C\", lambda: display.set(''))\n",
    "\n",
    "for symbols in (\"789/\", \"456*\", \"123-\", \"0.=+\"):\n",
    "    lineFrame = frameInstance(calculator, TOP)\n",
    "    for aSymbol in symbols:\n",
    "        if aSymbol != '=':\n",
    "            buttonInstance(lineFrame, LEFT, aSymbol, lambda char=aSymbol: display.set(display.get()+char))\n",
    "        else:\n",
    "            buttonInstance(lineFrame, LEFT, aSymbol, lambda: calc())\n",
    "            \n",
    "def calc():\n",
    "        try:\n",
    "            display.set(eval(display.get()))\n",
    "        except:\n",
    "            display.set(\"ERROR\")\n",
    "\n",
    "                \n",
    "calculator.mainloop()"
   ]
  },
  {
   "cell_type": "markdown",
   "metadata": {},
   "source": [
    "위 프로그램을 실행하면 ...\n",
    "\n",
    "<img src=\"images/calc04.png\" style=\"width:60%\">"
   ]
  },
  {
   "cell_type": "markdown",
   "metadata": {},
   "source": [
    "### 콜백과 람다 함수 (추가 설명)"
   ]
  },
  {
   "cell_type": "markdown",
   "metadata": {},
   "source": [
    "위 코드에 29번 줄에서 람다를 사용하지 않을 경우\n",
    "\n",
    "* `calc()` 함수를 먼저 정의해야 함."
   ]
  },
  {
   "cell_type": "code",
   "execution_count": 17,
   "metadata": {},
   "outputs": [],
   "source": [
    "from tkinter import *\n",
    "\n",
    "calculator = Tk()\n",
    "calculator.title(\"계산기\")\n",
    "\n",
    "display = StringVar()\n",
    "displayFrame = Entry(calculator, relief=FLAT, textvariable=display, justify='right', bd=10, bg=\"sky blue\")\n",
    "displayFrame.pack(side=TOP, expand=YES, fill=BOTH)\n",
    "\n",
    "def frameInstance(window, side):\n",
    "    frame = Frame(window, borderwidth=4, bd=4, bg=\"sky blue\")\n",
    "    frame.pack(side=side, expand=YES, fill=BOTH)\n",
    "    return frame\n",
    "\n",
    "def buttonInstance(frame, side, text, command=None):\n",
    "    button = Button(frame, text=text, command=command)\n",
    "    button.pack(side=side, expand=YES, fill=BOTH)\n",
    "    return button\n",
    "\n",
    "clearButtonFrame = frameInstance(calculator, TOP)\n",
    "buttonInstance(clearButtonFrame, LEFT, \"C\", lambda: display.set(''))\n",
    "\n",
    "def calc():\n",
    "        try:\n",
    "            display.set(eval(display.get()))\n",
    "        except:\n",
    "            display.set(\"ERROR\")\n",
    "\n",
    "\n",
    "for symbols in (\"789/\", \"456*\", \"123-\", \"0.=+\"):\n",
    "    lineFrame = frameInstance(calculator, TOP)\n",
    "    for aSymbol in symbols:\n",
    "        if aSymbol != '=':\n",
    "            buttonInstance(lineFrame, LEFT, aSymbol, lambda char=aSymbol: display.set(display.get()+char))\n",
    "        else:\n",
    "            buttonInstance(lineFrame, LEFT, aSymbol, calc)\n",
    "            \n",
    "                \n",
    "calculator.mainloop()"
   ]
  }
 ],
 "metadata": {
  "kernelspec": {
   "display_name": "Python 3",
   "language": "python",
   "name": "python3"
  },
  "language_info": {
   "codemirror_mode": {
    "name": "ipython",
    "version": 3
   },
   "file_extension": ".py",
   "mimetype": "text/x-python",
   "name": "python",
   "nbconvert_exporter": "python",
   "pygments_lexer": "ipython3",
   "version": "3.7.6"
  }
 },
 "nbformat": 4,
 "nbformat_minor": 2
}
