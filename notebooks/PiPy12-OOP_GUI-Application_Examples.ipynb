{
 "cells": [
  {
   "cell_type": "markdown",
   "metadata": {},
   "source": [
    "# GUI 프로그래밍 예제"
   ]
  },
  {
   "cell_type": "markdown",
   "metadata": {},
   "source": [
    "`tkinter` 모듈을 이용하여 다양한 애플리케이션을 구현하는 과정을 살펴본다.\n",
    "여기서 구현하는 애플리케이션은 실제로 작동하는 \n",
    "아래 모양의 계산기이다.\n",
    "\n",
    "<img src=\"images/calc01.png\" style=\"width:50%\">"
   ]
  },
  {
   "cell_type": "markdown",
   "metadata": {},
   "source": [
    "**참조**: 여기서 설명하는 코드는 \n",
    "[Python Calculator – Create A Simple GUI Calculator Using Tkinter](https://www.simplifiedpython.net/python-calculator/)\n",
    "내용을 응용하였다."
   ]
  },
  {
   "cell_type": "markdown",
   "metadata": {},
   "source": [
    "## GUI 애플리케이션 구성 요소 확인\n",
    "\n",
    "\"계산기\" GUI 애플리케이션 구성요소는 다음과 같다.\n",
    "\n",
    "1. 입력 내용과 연산 실행 결과 창\n",
    "    * 마우스로 입력되는 내용을 표시\n",
    "    * '=' 버튼을 누르면 연산결과 표시\n",
    "1. 'C' 버튼: 초기화 버튼\n",
    "1. 기타 버튼: 숫자 입력과 사칙연산 위해 사용"
   ]
  },
  {
   "cell_type": "markdown",
   "metadata": {},
   "source": [
    "## 이벤트, 콜백(callback), 람다(lambda) 함수"
   ]
  },
  {
   "cell_type": "markdown",
   "metadata": {},
   "source": [
    "* 참조: \n",
    "[Events and callbacks – adding life to programs](https://subscription.packtpub.com/book/application_development/9781788837460/1/ch01lvl1sec17/events-and-callbacks-adding-life-to-programs)\n"
   ]
  },
  {
   "cell_type": "markdown",
   "metadata": {},
   "source": [
    "..."
   ]
  },
  {
   "cell_type": "markdown",
   "metadata": {},
   "source": [
    "## GUI 애플리케이션 요소 구현 과정"
   ]
  },
  {
   "cell_type": "markdown",
   "metadata": {},
   "source": [
    "앞서 언급한 4개으 구성 요소를 하나씩 구현해 보자."
   ]
  },
  {
   "cell_type": "markdown",
   "metadata": {},
   "source": [
    "### 입력 내용과 연산 실행 결과 창\n",
    "\n",
    "윈도우 창은 `tkinter` 모듈에 포함된 `Tk` 클래스의 인스턴스로 구할 수 있다.\n",
    "또한 버튼 입력 내용과 연산 결과를 보여주는 창을 생성하려면 아래 도구를 사용한다.\n",
    "\n",
    "* `StringVar` 클래스: 문자열을 저장한 후 확인 및 업데이트 기능 제공\n",
    "* `Entry` 클래스: 한 줄 문장을 입력받고 보여주는 제공\n",
    "    * `textvariable` 인스턴스 속성: `StringVar` 클래스의 객체를 지정하면 \n",
    "        창에 입력된 문자열과 `StringVar` 객체에 저장된 값이 연동됨.\n",
    "        `StringVar`의 `set`, `get` 메서드를 이용하여 화면에 보여지는 내용 업데이트 가능.\n",
    "    * 나머지 인스턴스 속성은 창의 모양과 출력 방식과 관련됨.\n",
    "        자세한 설명은 인터넷 검색 또는 \n",
    "        [tkinter 공식 문서](https://docs.python.org/3/library/tkinter.html) 참조.\n",
    "    * `pack()` 메서드 인자\n",
    "        * `side`: 지정된 윈도우 창에 추가할 때 위치 지정\n",
    "        * `expand=YES`, `fill=BOTH`: 윈도우 창을 자유자재로 조정 가능하게 만듦.\n",
    "            구체적인 사용법은 직접 실험해보거나 \n",
    "            [tkinter 공식 문서](https://docs.python.org/3/library/tkinter.html) 참조."
   ]
  },
  {
   "cell_type": "code",
   "execution_count": 3,
   "metadata": {},
   "outputs": [],
   "source": [
    "from tkinter import *\n",
    "\n",
    "calculator = Tk()\n",
    "calculator.title(\"계산기\")\n",
    "\n",
    "# 버튼 입력 내용 및 연산 결과 표시 창\n",
    "display = StringVar()\n",
    "displayFrame = Entry(calculator, relief=FLAT, textvariable=display, \n",
    "                     justify='right', bd=30, bg=\"sky blue\")\n",
    "displayFrame.pack(side=TOP, expand=YES, fill=BOTH)\n",
    "\n",
    "calculator.mainloop()"
   ]
  },
  {
   "cell_type": "markdown",
   "metadata": {},
   "source": [
    "위 프로그램을 실행하면 지정된 타이틀과 입력 내용과 연산 실행 결과를 보여주는 입력창이 생성된 윈도우 창이 \n",
    "아래와 같이 생성된다.\n",
    "\n",
    "<img src=\"images/calc02.png\" style=\"width:50%\">"
   ]
  },
  {
   "cell_type": "markdown",
   "metadata": {},
   "source": [
    "#### 주의사항\n",
    "\n",
    "`mainloop` 메소드는 생성된 윈도우 창이 사용자가 닫기 버튼(X)을 누를 때까지 유지되도록 하는 기능을 갖는다."
   ]
  },
  {
   "cell_type": "markdown",
   "metadata": {},
   "source": [
    "### 클리어 버튼\n",
    "\n",
    "`Frame`과  `Button` 클래스의 활용법을 이전에 살펴보았다.\n",
    "여기서는 많은 프레임과 버튼을 생성해야 하기에 \n",
    "해당 클래스의 객체 생성과 추가하기(pack)를 지원하는\n",
    "두 개의 함수를 선언한다.\n",
    "\n",
    "* `frameInstance`: `Frame` 객체 생성 및 지정된 윈도우 창에 생성된 프레임 추가하기(pack)\n",
    "* `buttonInstance`: `Button` 객체 생성 및 지정된 프레임에 생성된 버튼 추가하기(pack)\n",
    "\n",
    "코드의 나머지 부분은 실행 결과를 모두 삭제하는 클리어 버튼을 추가하는 내용이다."
   ]
  },
  {
   "cell_type": "code",
   "execution_count": 5,
   "metadata": {},
   "outputs": [],
   "source": [
    "from tkinter import *\n",
    "\n",
    "calculator = Tk()\n",
    "calculator.title(\"계산기\")\n",
    "\n",
    "# 버튼 입력 내용 및 연산 결과 표시 창\n",
    "display = StringVar()\n",
    "displayFrame = Entry(calculator, relief=FLAT, textvariable=display, justify='right', bd=30, bg=\"sky blue\")\n",
    "displayFrame.pack(side=TOP, expand=YES, fill=BOTH)\n",
    "\n",
    "# Frame 객체 생성 및 지정된 윈도우 창에 생성된 프레임 추가\n",
    "def frameInstance(window, side):\n",
    "    frame = Frame(window, borderwidth=4, bd=4, bg=\"sky blue\")\n",
    "    frame.pack(side=side, expand=YES, fill=BOTH)\n",
    "    return frame\n",
    "\n",
    "# Button 객체 생성 및 지정된 프레임에 생성된 버튼 추가\n",
    "def buttonInstance(frame, side, text, command=None):\n",
    "    button = Button(frame, text=text, command=command)\n",
    "    button.pack(side=side, expand=YES, fill=BOTH)\n",
    "    return button\n",
    "\n",
    "# 클리어 버튼 추가\n",
    "# C 버튼을 누르면 입력 내용과 연산 실행 결과 전부 삭제\n",
    "# 먼저 프레임을 생성한 후 그곳에 클리어 버튼만 추가\n",
    "clearButtonFrame = frameInstance(calculator, TOP)\n",
    "buttonInstance(clearButtonFrame, LEFT, \"C\", command=lambda: display.set(''))\n",
    "\n",
    "\n",
    "calculator.mainloop()"
   ]
  },
  {
   "cell_type": "markdown",
   "metadata": {},
   "source": [
    "위 프로그램을 실행하면 'C'로 표기된 클리어 버튼이 생성된다.\n",
    "'C' 버튼을 눌러도 아무런 변화가 발생하지 않는다. \n",
    "클리어할 내용이 아직 없기 때문이다.\n",
    "\n",
    "<img src=\"images/calc03.png\" style=\"width:50%\">"
   ]
  },
  {
   "cell_type": "markdown",
   "metadata": {},
   "source": [
    "### 기타 버튼 추가"
   ]
  },
  {
   "cell_type": "markdown",
   "metadata": {},
   "source": [
    "..."
   ]
  },
  {
   "cell_type": "code",
   "execution_count": 10,
   "metadata": {},
   "outputs": [],
   "source": [
    "from tkinter import *\n",
    "\n",
    "calculator = Tk()\n",
    "calculator.title(\"계산기\")\n",
    "\n",
    "display = StringVar()\n",
    "displayFrame = Entry(calculator, relief=FLAT, textvariable=display, justify='right', bd=10, bg=\"sky blue\")\n",
    "displayFrame.pack(side=TOP, expand=YES, fill=BOTH)\n",
    "\n",
    "def frameInstance(window, side):\n",
    "    frame = Frame(window, borderwidth=4, bd=4, bg=\"sky blue\")\n",
    "    frame.pack(side=side, expand=YES, fill=BOTH)\n",
    "    return frame\n",
    "\n",
    "def buttonInstance(frame, side, text, command=None):\n",
    "    button = Button(frame, text=text, command=command)\n",
    "    button.pack(side=side, expand=YES, fill=BOTH)\n",
    "    return button\n",
    "\n",
    "clearButtonFrame = frameInstance(calculator, TOP)\n",
    "buttonInstance(clearButtonFrame, LEFT, \"C\", lambda: display.set(''))\n",
    "\n",
    "for symbols in (\"789/\", \"456*\", \"123-\", \"0.=+\"):\n",
    "    lineFrame = frameInstance(calculator, TOP)\n",
    "    for aSymbol in symbols:\n",
    "        if aSymbol != '=':\n",
    "            buttonInstance(lineFrame, LEFT, aSymbol, lambda q=aSymbol: display.set(display.get()+q))\n",
    "        else:\n",
    "            buttonInstance(lineFrame, LEFT, aSymbol, lambda: calc())\n",
    "            \n",
    "def calc():\n",
    "        try:\n",
    "            display.set(eval(display.get()))\n",
    "        except:\n",
    "            display.set(\"ERROR\")\n",
    "\n",
    "                \n",
    "calculator.mainloop()"
   ]
  },
  {
   "cell_type": "markdown",
   "metadata": {},
   "source": [
    "위 프로그램을 실행하면 ...\n",
    "\n",
    "<img src=\"images/calc04.png\" style=\"width:50%\">"
   ]
  }
 ],
 "metadata": {
  "kernelspec": {
   "display_name": "Python 3",
   "language": "python",
   "name": "python3"
  },
  "language_info": {
   "codemirror_mode": {
    "name": "ipython",
    "version": 3
   },
   "file_extension": ".py",
   "mimetype": "text/x-python",
   "name": "python",
   "nbconvert_exporter": "python",
   "pygments_lexer": "ipython3",
   "version": "3.7.6"
  }
 },
 "nbformat": 4,
 "nbformat_minor": 2
}
