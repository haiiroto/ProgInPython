{
 "cells": [
  {
   "cell_type": "markdown",
   "metadata": {},
   "source": [
    "# 사전 자료형"
   ]
  },
  {
   "cell_type": "markdown",
   "metadata": {},
   "source": [
    "안내: [Think Python 11장](http://greenteapress.com/thinkpython2/html/thinkpython2012.html) \n",
    "내용의 일부를 번역 및 요약수정하여 정리한 내용입니다."
   ]
  },
  {
   "cell_type": "markdown",
   "metadata": {},
   "source": [
    "사전(dictionary) 자료형은 매우 자주 사용되는 자료구조이다. \n",
    "전자영어사전에서 영어 단어의 뜻을 확인하는 방식과 유사하게 활용할 수 있는 자료구조를 갖고 있어서 사전 자료형이라 부른다."
   ]
  },
  {
   "cell_type": "markdown",
   "metadata": {},
   "source": [
    "## 사전: 키와 값들 사이의 관계"
   ]
  },
  {
   "cell_type": "markdown",
   "metadata": {},
   "source": [
    "사전 자료값은 일종의 쌍들의 집합이며, 각 쌍은 키(key)와 값(value)으로 이루어져 있다.\n",
    "\n",
    "* 키(key): 영어사전의 각 영어단어에 해당함.\n",
    "* 값(value): 특정 영어단어의 뜻에 해당함.\n",
    "\n",
    "예를 들어, 전자영어사전에서 'school'이란 단어의 뜻을 물으면 '학교'라는 뜻을 알려주는데 \n",
    "여기서 'school'이 키에 해당하고 '학교'가 값에 해당한다.\n",
    "따라서 전자영어사전은 이러한 키와 값들의 쌍을 무수히 많이 모아놓은 집합이라고 생각할 수 있다."
   ]
  },
  {
   "cell_type": "markdown",
   "metadata": {},
   "source": [
    "### 항목\n",
    "\n",
    "키와 값으로 이루어진 쌍을 사전의 항목(item)이라 부른다.\n",
    "각각의 항목은 키와 그 키와 연관된느 값들의 정보를 담고 있다고 이해하면 된다. \n",
    "\n",
    "여기서는 영한사전을 생성하는 예제를 통해 사전 자료형의 활용을 설명하고자 한다."
   ]
  },
  {
   "cell_type": "markdown",
   "metadata": {},
   "source": [
    "### 빈 사전 생성"
   ]
  },
  {
   "cell_type": "markdown",
   "metadata": {},
   "source": [
    "먼저 빈 사전을 생성한다.\n",
    "\n",
    "빈 사전을 생성하려면 `dict` 함수를 활용하거나 단순히 아래와 같이 선언하면 된다."
   ]
  },
  {
   "cell_type": "code",
   "execution_count": 1,
   "metadata": {},
   "outputs": [],
   "source": [
    "eng2kr = dict()\n",
    "print(eng2kr)"
   ]
  },
  {
   "cell_type": "markdown",
   "metadata": {},
   "source": [
    "또는"
   ]
  },
  {
   "cell_type": "code",
   "execution_count": 2,
   "metadata": {},
   "outputs": [],
   "source": [
    "eng2kr = {}\n",
    "print(eng2kr)"
   ]
  },
  {
   "cell_type": "markdown",
   "metadata": {},
   "source": [
    "**주의:** 중괄호(`{}`)는 빈 딕셔너리를 나타낸다. "
   ]
  },
  {
   "cell_type": "markdown",
   "metadata": {},
   "source": [
    "### 항목 추가\n",
    "\n",
    "사전에 항목을 추가하려면 대괄호를 사용한다."
   ]
  },
  {
   "cell_type": "code",
   "execution_count": 3,
   "metadata": {},
   "outputs": [],
   "source": [
    "eng2kr['one'] = '일'"
   ]
  },
  {
   "cell_type": "markdown",
   "metadata": {},
   "source": [
    "위 코드는 `'one'` 이라는 키에 `'일'` 이라는 값을 대응시키는 항목을 영한사전에 추가한 것이다. \n",
    "사전에 포함된 내용을 확인하면 키와 값 사이에 콜론이 들어간 키와 값의 쌍을 볼 수 있다."
   ]
  },
  {
   "cell_type": "code",
   "execution_count": 4,
   "metadata": {},
   "outputs": [],
   "source": [
    "print(eng2kr)"
   ]
  },
  {
   "cell_type": "markdown",
   "metadata": {},
   "source": [
    "한 쌍을 더 추가해보자."
   ]
  },
  {
   "cell_type": "code",
   "execution_count": 5,
   "metadata": {},
   "outputs": [],
   "source": [
    "eng2kr['three'] = '삼'"
   ]
  },
  {
   "cell_type": "code",
   "execution_count": 6,
   "metadata": {},
   "outputs": [],
   "source": [
    "print(eng2kr)"
   ]
  },
  {
   "cell_type": "markdown",
   "metadata": {},
   "source": [
    "### 사전 선언\n",
    "\n",
    "아래와 같이 사전을 바로 선언할 수도 있다."
   ]
  },
  {
   "cell_type": "code",
   "execution_count": 7,
   "metadata": {},
   "outputs": [],
   "source": [
    "dict_exp = {'one':'일', 'two':'이', 'three':'삼'}"
   ]
  },
  {
   "cell_type": "code",
   "execution_count": 8,
   "metadata": {},
   "outputs": [],
   "source": [
    "print(dict_exp)"
   ]
  },
  {
   "cell_type": "markdown",
   "metadata": {},
   "source": [
    "### 항목의 순서"
   ]
  },
  {
   "cell_type": "markdown",
   "metadata": {},
   "source": [
    "'eng2kr'에 항목을 하나 더 추가해보자."
   ]
  },
  {
   "cell_type": "code",
   "execution_count": 9,
   "metadata": {},
   "outputs": [],
   "source": [
    "eng2kr['two'] = '이'"
   ]
  },
  {
   "cell_type": "code",
   "execution_count": 10,
   "metadata": {},
   "outputs": [],
   "source": [
    "print(eng2kr)"
   ]
  },
  {
   "cell_type": "markdown",
   "metadata": {},
   "source": [
    "영어사전에 어떤 단어가 몇 번째에 위치하는가는 전혀 중요하지 않다.\n",
    "대신에 어떤 키가 사용되었는지만이 중요할 뿐이다."
   ]
  },
  {
   "cell_type": "markdown",
   "metadata": {},
   "source": [
    "### 인덱싱\n",
    "\n",
    "항목의 순서가 없기에 인덱싱은 키를 이용한다.\n",
    "\n",
    "예를 들어, 'one'에 대응하는 값을 확인하고자 하면 다음과 같이 대괄호를 사용하는 인덱싱을 이용한다."
   ]
  },
  {
   "cell_type": "code",
   "execution_count": 11,
   "metadata": {},
   "outputs": [],
   "source": [
    "print(eng2kr['one'])"
   ]
  },
  {
   "cell_type": "code",
   "execution_count": 12,
   "metadata": {},
   "outputs": [],
   "source": [
    "print(eng2kr['two'])"
   ]
  },
  {
   "cell_type": "markdown",
   "metadata": {},
   "source": [
    "만약 키가 사전에 사용되지 않았으면 키가 사용되지 않았다는 오류('KeyError')가 발생한다."
   ]
  },
  {
   "cell_type": "code",
   "execution_count": 13,
   "metadata": {},
   "outputs": [
    {
     "ename": "KeyError",
     "evalue": "'four'",
     "output_type": "error",
     "traceback": [
      "\u001b[0;31m---------------------------------------------------------------------------\u001b[0m",
      "\u001b[0;31mKeyError\u001b[0m                                  Traceback (most recent call last)",
      "\u001b[0;32m<ipython-input-13-493dea66e708>\u001b[0m in \u001b[0;36m<module>\u001b[0;34m()\u001b[0m\n\u001b[0;32m----> 1\u001b[0;31m \u001b[0mprint\u001b[0m\u001b[0;34m(\u001b[0m\u001b[0meng2kr\u001b[0m\u001b[0;34m[\u001b[0m\u001b[0;34m'four'\u001b[0m\u001b[0;34m]\u001b[0m\u001b[0;34m)\u001b[0m\u001b[0;34m\u001b[0m\u001b[0m\n\u001b[0m",
      "\u001b[0;31mKeyError\u001b[0m: 'four'"
     ]
    }
   ],
   "source": [
    "print(eng2kr['four'])"
   ]
  },
  {
   "cell_type": "markdown",
   "metadata": {},
   "source": [
    "### 'len' 함수\n",
    "\n",
    "사전에 포함된 항목의 개수를 확인시켜주는 함수이다."
   ]
  },
  {
   "cell_type": "code",
   "execution_count": 14,
   "metadata": {},
   "outputs": [
    {
     "data": {
      "text/plain": [
       "3"
      ]
     },
     "execution_count": 14,
     "metadata": {},
     "output_type": "execute_result"
    }
   ],
   "source": [
    "len(eng2kr)"
   ]
  },
  {
   "cell_type": "markdown",
   "metadata": {},
   "source": [
    "### 'in' 연산자"
   ]
  },
  {
   "cell_type": "markdown",
   "metadata": {},
   "source": [
    "특정 키가 사전에 사용되었는지 여부를 확인한다. \n",
    "\n",
    "**주의:** 키로 사용되었는가 여부만 판단한다."
   ]
  },
  {
   "cell_type": "code",
   "execution_count": 15,
   "metadata": {},
   "outputs": [
    {
     "data": {
      "text/plain": [
       "True"
      ]
     },
     "execution_count": 15,
     "metadata": {},
     "output_type": "execute_result"
    }
   ],
   "source": [
    "'one' in eng2kr"
   ]
  },
  {
   "cell_type": "code",
   "execution_count": 16,
   "metadata": {},
   "outputs": [
    {
     "data": {
      "text/plain": [
       "False"
      ]
     },
     "execution_count": 16,
     "metadata": {},
     "output_type": "execute_result"
    }
   ],
   "source": [
    "'four' in eng2kr\n",
    "False"
   ]
  },
  {
   "cell_type": "markdown",
   "metadata": {},
   "source": [
    "#### `keys` 메소드"
   ]
  },
  {
   "cell_type": "markdown",
   "metadata": {},
   "source": [
    "사전에 사용된 키들을 모두 모아서 리스트와 비슷한 자료형을 만들어서 리턴한다.\n",
    "\n",
    "**주의:** 리스트와는 다르지만 매우 비슷하다."
   ]
  },
  {
   "cell_type": "code",
   "execution_count": 17,
   "metadata": {},
   "outputs": [
    {
     "name": "stdout",
     "output_type": "stream",
     "text": [
      "dict_keys(['one', 'three', 'two'])\n"
     ]
    }
   ],
   "source": [
    "keys = eng2kr.keys()\n",
    "\n",
    "print(keys)"
   ]
  },
  {
   "cell_type": "markdown",
   "metadata": {},
   "source": [
    "아래 두 코드는 동일한 일을 수행한다."
   ]
  },
  {
   "cell_type": "code",
   "execution_count": 18,
   "metadata": {},
   "outputs": [
    {
     "data": {
      "text/plain": [
       "True"
      ]
     },
     "execution_count": 18,
     "metadata": {},
     "output_type": "execute_result"
    }
   ],
   "source": [
    "'one' in eng2kr"
   ]
  },
  {
   "cell_type": "code",
   "execution_count": 19,
   "metadata": {},
   "outputs": [
    {
     "data": {
      "text/plain": [
       "True"
      ]
     },
     "execution_count": 19,
     "metadata": {},
     "output_type": "execute_result"
    }
   ],
   "source": [
    "'one' in eng2kr.keys()"
   ]
  },
  {
   "cell_type": "markdown",
   "metadata": {},
   "source": [
    "#### `values` 메소드"
   ]
  },
  {
   "cell_type": "markdown",
   "metadata": {},
   "source": [
    "사전에 사용된 값들을 모두 모아서 리스트와 비슷한 자료형을 만들어서 리턴한다.\n",
    "\n",
    "**주의:** 리스트와는 다르지만 매우 비슷하다."
   ]
  },
  {
   "cell_type": "code",
   "execution_count": 20,
   "metadata": {},
   "outputs": [
    {
     "name": "stdout",
     "output_type": "stream",
     "text": [
      "dict_values(['일', '삼', '이'])\n"
     ]
    }
   ],
   "source": [
    "values = eng2kr.values()\n",
    "\n",
    "print(values)"
   ]
  },
  {
   "cell_type": "markdown",
   "metadata": {},
   "source": [
    "값으로 사용되었는가 여부를 이용하려면 `values` 메소드를 활용하면 된다."
   ]
  },
  {
   "cell_type": "code",
   "execution_count": 21,
   "metadata": {},
   "outputs": [
    {
     "data": {
      "text/plain": [
       "True"
      ]
     },
     "execution_count": 21,
     "metadata": {},
     "output_type": "execute_result"
    }
   ],
   "source": [
    "'이' in eng2kr.values()"
   ]
  },
  {
   "cell_type": "code",
   "execution_count": 22,
   "metadata": {},
   "outputs": [
    {
     "data": {
      "text/plain": [
       "False"
      ]
     },
     "execution_count": 22,
     "metadata": {},
     "output_type": "execute_result"
    }
   ],
   "source": [
    "'사' in eng2kr.values()"
   ]
  },
  {
   "cell_type": "markdown",
   "metadata": {},
   "source": [
    "#### `in` 연산자 처리속도\n",
    "\n",
    "리스트에서 사용되는 `in` 연산자와 사전에서 사용되는 `in` 연산자는 내부적으로 서로 다르게 작동한다.\n",
    "여기서는 처리속도 관련해서만 설명한다. \n",
    "\n",
    "* 리스트의 `in` 연산자: 사용되는 리스트의 길이에 의존해서 처리속도가 결정된다.\n",
    "* 사전의 `in` 연산자: 사용되는 사전의 길이에 상관없이 일정한 속도로 처리된다.\n",
    "\n",
    "자세한 내용은 [여기](http://greenteapress.com/thinkpython2/html/thinkpython2022.html#hashtable)를\n",
    "참조할 수 있다."
   ]
  },
  {
   "cell_type": "markdown",
   "metadata": {},
   "source": [
    "### 예제: 데이터 파일을 사전 자료형으로 추출하기"
   ]
  },
  {
   "cell_type": "markdown",
   "metadata": {},
   "source": [
    "아래 내용을 담고 있는 [results.txt](https://github.com/liganega/bpp/blob/master/notes/data/results.txt) 파일을 \n",
    "담긴 아래 내용의 데이터를 사전 자료형으로 추출하고자 한다.\n",
    "```\n",
    "Name  Score\n",
    "Johnny  8.65 \n",
    "Juan  9.12\n",
    "Joseph  8.45\n",
    "Stacey  7.81\n",
    "Aideen  8.05\n",
    "Zack  7.21\n",
    "Aaron  8.31\n",
    "```"
   ]
  },
  {
   "cell_type": "markdown",
   "metadata": {},
   "source": [
    "#### 주의 사항\n",
    "* 파일에 저장된 데이터로부터 얻고자 하는 정보를 정한다.\n",
    "* 사전 자료형을 생성할 때 어떤 항목을 키로 사용할지는 목적에 따라 달리 정해야 한다.\n",
    "\n",
    "예를 들어, 선수이름을 지정하면 해당 선수가 획득한 점수를 확인하고자 한다면 선수이름을 키로 사용해야 한다.\n",
    "반면에, 등수가 보다 중요하다면 점수를 키로 사용하는 것이 좋을 것이다. \n",
    "\n",
    "여기서는 선수이름을 지정하면 해당 선수가 획득한 점수를 확인하는 기능을 지원하는 사전을 생성하고자 한다.\n",
    "따라서 Name에 해당하는 값들을 키(key)로 사용하고 Score에 해당하는 값들을 값(value)으로 사용한다.\n",
    "\n",
    "코드는 \n",
    "[이전](https://github.com/liganega/bpp/blob/master/notes/04-HFProgramming-Files_and_Lists.ipynb)에 \n",
    "소개된 아래의 코드를 약간 수정하면 된다.\n",
    "\n",
    "```python\n",
    "result_f = open(\"data/results.txt\") \n",
    "score_list = []                        \n",
    "for line in result_f: \n",
    "    (name, score) = line.split()       \n",
    "    try:\n",
    "        score_list.append(float(score))\n",
    "    except:\n",
    "        continue\n",
    "result_f.close() \n",
    "```"
   ]
  },
  {
   "cell_type": "markdown",
   "metadata": {},
   "source": [
    "**주의:** `with open(파일명) as 변수이름` 형식으로 파일을 열고 닫는 방식은 \n",
    "[이전](https://github.com/liganega/bpp/blob/master/notes/04-HFProgramming-Files_and_Lists.ipynb)에\n",
    "설명되었다."
   ]
  },
  {
   "cell_type": "code",
   "execution_count": 23,
   "metadata": {},
   "outputs": [],
   "source": [
    "with open(\"data/results.txt\") as result_f:\n",
    "    score_dict = dict()\n",
    "    for line in result_f: \n",
    "        (name, score) = line.split()       \n",
    "        try:\n",
    "            score_dict[name] = float(score)\n",
    "        except:\n",
    "            continue"
   ]
  },
  {
   "cell_type": "markdown",
   "metadata": {},
   "source": [
    "`score_dict`에 파일의 내용이 거의 그대로 옮겨져 있다."
   ]
  },
  {
   "cell_type": "code",
   "execution_count": 24,
   "metadata": {},
   "outputs": [
    {
     "name": "stdout",
     "output_type": "stream",
     "text": [
      "{'Johnny': 8.65, 'Juan': 9.12, 'Joseph': 8.45, 'Stacey': 7.81, 'Aideen': 8.05, 'Zack': 7.21, 'Aaron': 8.31}\n"
     ]
    }
   ],
   "source": [
    "print(score_dict)"
   ]
  },
  {
   "cell_type": "markdown",
   "metadata": {},
   "source": [
    "이제 선수 이름을 지정하면 해당 선수의 점수를 인덱싱을 활용하여 확인할 수 있다."
   ]
  },
  {
   "cell_type": "code",
   "execution_count": 25,
   "metadata": {},
   "outputs": [
    {
     "data": {
      "text/plain": [
       "8.65"
      ]
     },
     "execution_count": 25,
     "metadata": {},
     "output_type": "execute_result"
    }
   ],
   "source": [
    "score_dict['Johnny']"
   ]
  },
  {
   "cell_type": "code",
   "execution_count": 26,
   "metadata": {},
   "outputs": [
    {
     "data": {
      "text/plain": [
       "8.05"
      ]
     },
     "execution_count": 26,
     "metadata": {},
     "output_type": "execute_result"
    }
   ],
   "source": [
    "score_dict['Aideen']"
   ]
  },
  {
   "cell_type": "markdown",
   "metadata": {},
   "source": [
    "## 반복문과 사전"
   ]
  },
  {
   "cell_type": "markdown",
   "metadata": {},
   "source": [
    "사전을 `for` 반복문에 사용하면 사전의 키를 기준으로 반복문을 실행한다. \n",
    "\n",
    "아래 예제는 `score_dict`에 저정된 값들을\n",
    "파일의 내용과 동일한 모양으로 하나씩 출력한다."
   ]
  },
  {
   "cell_type": "code",
   "execution_count": 27,
   "metadata": {},
   "outputs": [
    {
     "name": "stdout",
     "output_type": "stream",
     "text": [
      "Johnny 8.65\n",
      "Juan 9.12\n",
      "Joseph 8.45\n",
      "Stacey 7.81\n",
      "Aideen 8.05\n",
      "Zack 7.21\n",
      "Aaron 8.31\n"
     ]
    }
   ],
   "source": [
    "for key in score_dict:\n",
    "    print(key, score_dict[key])"
   ]
  },
  {
   "cell_type": "markdown",
   "metadata": {},
   "source": [
    "아래 코드는 위 코드와 동일한 기능을 수행한다."
   ]
  },
  {
   "cell_type": "code",
   "execution_count": 28,
   "metadata": {},
   "outputs": [
    {
     "name": "stdout",
     "output_type": "stream",
     "text": [
      "Johnny 8.65\n",
      "Juan 9.12\n",
      "Joseph 8.45\n",
      "Stacey 7.81\n",
      "Aideen 8.05\n",
      "Zack 7.21\n",
      "Aaron 8.31\n"
     ]
    }
   ],
   "source": [
    "for key in score_dict.keys():\n",
    "    print(key, score_dict[key])"
   ]
  },
  {
   "cell_type": "markdown",
   "metadata": {},
   "source": [
    "### 예제: 카운터 기능"
   ]
  },
  {
   "cell_type": "markdown",
   "metadata": {},
   "source": [
    "문자열에 사용된 각각의 문자가 몇 번씩 사용되었는지를 확인하는 함수를 사전을 이용하여 쉽게 구현할 수 있다. "
   ]
  },
  {
   "cell_type": "code",
   "execution_count": 29,
   "metadata": {},
   "outputs": [],
   "source": [
    "def histogram(word):\n",
    "    counts = dict()           # 빈 사전 생성.\n",
    "    for c in word:            # 각각의 알파벳 대상\n",
    "        if c not in counts:   # 알파벳이 처음 사용된 경우\n",
    "            counts[c] = 1     # counts 사전에 키와 카운트 값 추가\n",
    "        else:                 # 알파벳이 이미 사용된 경우\n",
    "            counts[c] += 1    # 기존의 카운트 값 1 증가\n",
    "    return counts"
   ]
  },
  {
   "cell_type": "code",
   "execution_count": 30,
   "metadata": {},
   "outputs": [
    {
     "data": {
      "text/plain": [
       "{'H': 1, 'P': 1, 'e': 1, 'h': 1, 'l': 2, 'n': 1, 'o': 2, 't': 1, 'y': 1}"
      ]
     },
     "execution_count": 30,
     "metadata": {},
     "output_type": "execute_result"
    }
   ],
   "source": [
    "histogram('HelloPython')"
   ]
  },
  {
   "cell_type": "markdown",
   "metadata": {},
   "source": [
    "아래에 정의된 함수 `print_hist`는 각 키와 대응하는 값을 인쇄한다."
   ]
  },
  {
   "cell_type": "code",
   "execution_count": 31,
   "metadata": {},
   "outputs": [],
   "source": [
    "def print_hist(a_dict):\n",
    "    for key in a_dict:\n",
    "        print(key, a_dict[key])"
   ]
  },
  {
   "cell_type": "markdown",
   "metadata": {},
   "source": [
    "앞서 구현한 'histogram' 함수의 리턴값을 활용하면 다음과 같다."
   ]
  },
  {
   "cell_type": "code",
   "execution_count": 32,
   "metadata": {},
   "outputs": [
    {
     "name": "stdout",
     "output_type": "stream",
     "text": [
      "H 1\n",
      "e 1\n",
      "l 2\n",
      "o 2\n",
      "P 1\n",
      "y 1\n",
      "t 1\n",
      "h 1\n",
      "n 1\n"
     ]
    }
   ],
   "source": [
    "h = histogram('HelloPython')\n",
    "print_hist(h)"
   ]
  },
  {
   "cell_type": "markdown",
   "metadata": {},
   "source": [
    "## 연습문제"
   ]
  },
  {
   "cell_type": "markdown",
   "metadata": {},
   "source": [
    "1. 1. [이전](https://github.com/liganega/bpp/blob/master/notes/04a-ThinkPython-Files.ipynb)에 다룬 \n",
    "    [`words.txt`](http://thinkpython2.com/code/words.txt)에 \n",
    "    특정 단어가 포함되어 있는지 여부를 확인하는 코드를 두 가지 방식으로 구현하라.\n",
    "       * 방식 1: 리스트의 `in` 연산자 활용\n",
    "       * 방식 2: 사전의 `in` 연산자 활용\n",
    "        <br>\n",
    "        힌트: `words.txt` 파일에서 단어를 읽어 들인 후 각각의 단어를 키로 사용한다. \n",
    "        값은 중요하지 않기에 임의의 값을 사용하면 된다. \n",
    "  1. 두 가지 방식으로 구현된 프로그램의 실행속도의 차이를 확인하라."
   ]
  }
 ],
 "metadata": {
  "kernelspec": {
   "display_name": "Python 3",
   "language": "python",
   "name": "python3"
  },
  "language_info": {
   "codemirror_mode": {
    "name": "ipython",
    "version": 3
   },
   "file_extension": ".py",
   "mimetype": "text/x-python",
   "name": "python",
   "nbconvert_exporter": "python",
   "pygments_lexer": "ipython3",
   "version": "3.6.8"
  }
 },
 "nbformat": 4,
 "nbformat_minor": 1
}
