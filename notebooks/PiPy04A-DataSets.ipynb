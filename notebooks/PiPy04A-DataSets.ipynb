{
 "cells": [
  {
   "cell_type": "markdown",
   "metadata": {},
   "source": [
    "# 데이터셋 다루기"
   ]
  },
  {
   "cell_type": "markdown",
   "metadata": {},
   "source": [
    "데이터의 양이 많아지면 데이터를 처리하는 일도 어려워진다.\n",
    "일단 처리 시간이 기하급수적으로 늘 수 있으며,\n",
    "무엇보다도 **데이터셋**에서 원하는 정보를 얻어내기도 보다 복잡해진다.\n",
    "\n",
    "**참고:** 데이터셋은 데이터의 모음(set)을 가리키는 전문용어이다.\n",
    "\n",
    "여기서는 다량의 데이터를 하나로 묶어서 처리할 수 있는 방법 두 가지를 소개한다.\n",
    "\n",
    "* 데이터를 파일에 저장하고 불러오기\n",
    "* 리스트로 다량의 데이터 다루기"
   ]
  },
  {
   "cell_type": "markdown",
   "metadata": {},
   "source": [
    "## 데이터셋 준비하기"
   ]
  },
  {
   "cell_type": "markdown",
   "metadata": {},
   "source": [
    "[results5m.txt](https://raw.githubusercontent.com/liganega/ProgInPython/master/notebooks/data/results5m.txt) 파일은\n",
    "다이빙 선수 열 명의 5m 경기 점수를 담고 있다.\n",
    "\n",
    "```\n",
    "이름  점수\n",
    "권준기  7.13\n",
    "김세윤  8.55\n",
    "나진서  9.02\n",
    "마동탁  8.35\n",
    "서길석  7.86\n",
    "이준용  8.17\n",
    "이차승  9.33\n",
    "차승연  7.11\n",
    "표방호  8.57\n",
    "한석준  8.93\n",
    "```"
   ]
  },
  {
   "cell_type": "markdown",
   "metadata": {},
   "source": [
    "첫째 줄은 선수이름과 점수라는 구분이 표시되어 있으며,\n",
    "둘째 줄부터 총 열 명의 이름과 점수가 기록되어 있다.\n",
    "위 파일의 내용을 아래와 같이 파이썬 코드로 확인할 수 있다.\n",
    "\n",
    "**주의:** `results5m.txt` 파일이 `data`라는 하위 디렉토리에 저장되어 있다고 가정한다.\n",
    "\n",
    "먼저 위에서 언급된 파일을 다운 받아서 파이썬 코딩을 실습하는 폴더에 저장한다.\n",
    "여기서는 `data`라는 하위폴더에 `results5m.txt`라는 파일로 저장하는 방식은 두 가지이다.\n",
    "\n",
    "* 첫째 방식: 위 링크를 눌러 해당 파일을 다운로드 한 후 현재 폴더에 위치한 `data` 폴더에 저장한다.\n",
    "* 둘째 방식: [인터넷에서 정보구하기](https://github.com/liganega/ProgInPython/blob/master/notebooks/PiPy02A-InfoFromInternet.ipynb)에서 사용했던 기법을 똑같이 사용할 수 있으며,\n",
    "    단순히 아래 코드를 실행하면 된다. \n",
    "    아래 코드에 사용된 명령문 설명은 이후 차차 설명될 것이다.   "
   ]
  },
  {
   "cell_type": "code",
   "execution_count": 35,
   "metadata": {},
   "outputs": [],
   "source": [
    "import urllib.request\n",
    "import os\n",
    "\n",
    "def myWget(dirPath, fileURL, fileName):\n",
    "    # dirPath 디렉토리 생성. 이미 존재하면 건너 뜀.\n",
    "    try:\n",
    "        os.mkdir(dirPath)\n",
    "    except FileExistsError:\n",
    "        pass\n",
    "\n",
    "    # 파일 저장 주소에서 파일 내용을 가져오기.\n",
    "    contents = urllib.request.urlopen(fileURL).read().decode(\"utf8\")\n",
    "\n",
    "    # 가져온 파일 내용을 텍스트 파일로 저장하기.\n",
    "    # words.txt 파일이 이미 존재할 경우 새파일로 생성됨.\n",
    "    # 즉, 기존 파일 내용을 덮어 씀.\n",
    "    with open(dirPath+'/'+fileName, 'w') as f_out:\n",
    "        for line in contents:\n",
    "            f_out.write(line)    \n",
    "            "
   ]
  },
  {
   "cell_type": "code",
   "execution_count": 30,
   "metadata": {},
   "outputs": [],
   "source": [
    "path = './data'\n",
    "url = 'https://raw.githubusercontent.com/liganega/ProgInPython/master/notebooks/data/results5m.txt'\n",
    "fName = 'results5m.txt'\n",
    "\n",
    "myWget(path, url, fName)"
   ]
  },
  {
   "cell_type": "markdown",
   "metadata": {},
   "source": [
    "## 파일에 저장된 데이터 불러오기"
   ]
  },
  {
   "cell_type": "markdown",
   "metadata": {},
   "source": [
    "파일에 저장된 내용을 불러와서 확인하는 자세한 방법은 \n",
    "[파일 다루기](https://github.com/liganega/ProgInPython/blob/master/notebooks/PiPy04B-Files.ipynb)를 참조한다.\n",
    "무엇보다도 파일 자료형의 `close` 메서드를 활용하여 \n",
    "더 이상 사용하지 않는 파일을 닫아주어야 하는 것을 명심해야 한다.\n",
    "그렇지 않으면 파일이 의도치 않게 오염될 수 있기 때문이다."
   ]
  },
  {
   "cell_type": "code",
   "execution_count": 12,
   "metadata": {},
   "outputs": [],
   "source": [
    "try:\n",
    "    result_f = open(\"./data/results5m.txt\", 'r') \n",
    "except FileNotFoundError:\n",
    "    print(\"열고자 하는 파일이 존재하지 않습니다.\")\n",
    "        "
   ]
  },
  {
   "cell_type": "markdown",
   "metadata": {},
   "source": [
    "**주의:** \n",
    "저장된 파일 내용을 불러오는 `open` 함수를 적용할 때,\n",
    "지정된 파일이 존재하지 않은 경우을 대비해서\n",
    "[예외처리](https://github.com/liganega/ProgInPython/blob/master/notebooks/PiPy04D-ErrorsAndExceptions.ipynb)를\n",
    "사용하였다. \n",
    "열고자 하는 파일이 존재하지 않는다는 정보를 전달하는 것이 단순히 오류가 발생하면서 실행이 멈추는 것보다 훨씬 유익하기에\n",
    "이런 경우 보통 예외처리를 사용한다."
   ]
  },
  {
   "cell_type": "markdown",
   "metadata": {},
   "source": [
    "### 불러온 데이터 확인하기"
   ]
  },
  {
   "cell_type": "markdown",
   "metadata": {},
   "source": [
    "`result_f` 변수가 가리키는 값의 자료형은 `_io.TextIOWrapper` 라는 \n",
    "이름도 생소한 자료형이다."
   ]
  },
  {
   "cell_type": "code",
   "execution_count": 13,
   "metadata": {},
   "outputs": [
    {
     "data": {
      "text/plain": [
       "_io.TextIOWrapper"
      ]
     },
     "execution_count": 13,
     "metadata": {},
     "output_type": "execute_result"
    }
   ],
   "source": [
    "type(result_f)"
   ]
  },
  {
   "cell_type": "markdown",
   "metadata": {},
   "source": [
    "하지만 자료형은 전혀 중요하지 않다.\n",
    "다만 텍스트 파일의 내용을 저장하고 있다와\n",
    "저장된 내용을 확인하려면 아래와 같이 `for` 반복문을 \n",
    "사용해야 한다는 점을 기억해야 한다."
   ]
  },
  {
   "cell_type": "code",
   "execution_count": 14,
   "metadata": {},
   "outputs": [
    {
     "name": "stdout",
     "output_type": "stream",
     "text": [
      "이름  점수\n",
      "\n",
      "권준기  7.13\n",
      "\n",
      "김세윤  8.55\n",
      "\n",
      "나진서  9.02\n",
      "\n",
      "마동탁  8.35\n",
      "\n",
      "서길석  7.86\n",
      "\n",
      "이준용  8.17\n",
      "\n",
      "이차승  9.33\n",
      "\n",
      "차승연  7.11\n",
      "\n",
      "표방호  8.57\n",
      "\n",
      "한석준  8.93\n"
     ]
    }
   ],
   "source": [
    "for line in result_f:                   # 각 줄 내용 출력하기\n",
    "    print(line)\n",
    "\n",
    "result_f.close()                        # 파일 닫기"
   ]
  },
  {
   "cell_type": "markdown",
   "metadata": {},
   "source": [
    "줄 사이가 넓은 이유는 파일을 작성하면서 줄바꾸기를 할 때 사용하는 엔터에 의해 줄바꾸기 기호(`\\n`)이\n",
    "각 줄의 맨 끝에 포함되어 있는데, `print` 함수 자체가 출력할 때마다 기본적으로 줄바꿈을 수행하기에\n",
    "줄바꿈을 결국 두 번하기 때문이다. \n",
    "\n",
    "따라서 줄바꾸기를 한 번 더 하는 것을 방지하기 위해서 문자열 자료형의 `strip` 메소드를 활용하여\n",
    "문자열의 양 끝에 있는 공백과 줄바꿈 기호를 없애는 것이 좋다."
   ]
  },
  {
   "cell_type": "code",
   "execution_count": 15,
   "metadata": {},
   "outputs": [
    {
     "name": "stdout",
     "output_type": "stream",
     "text": [
      "이름  점수\n",
      "권준기  7.13\n",
      "김세윤  8.55\n",
      "나진서  9.02\n",
      "마동탁  8.35\n",
      "서길석  7.86\n",
      "이준용  8.17\n",
      "이차승  9.33\n",
      "차승연  7.11\n",
      "표방호  8.57\n",
      "한석준  8.93\n"
     ]
    }
   ],
   "source": [
    "try:\n",
    "    result_f = open(\"./data/results5m.txt\", 'r') \n",
    "except FileNotFoundError:\n",
    "    print(\"열고자 하는 파일이 존재하지 않습니다.\")\n",
    "        \n",
    "for line in result_f: \n",
    "    print(line.strip())              # strip 메소드 활용하기\n",
    "\n",
    "result_f.close() "
   ]
  },
  {
   "cell_type": "markdown",
   "metadata": {},
   "source": [
    "**주의:** `strip` 메소드를 활용하여 데이터를 보다 깔끔하게 정리하는 것은 좋은 버릇이다.\n",
    "하지만 반드시 필요한 것은 아닐 수도 있기 때문에 사용여부를 판단해야 한다."
   ]
  },
  {
   "cell_type": "markdown",
   "metadata": {},
   "source": [
    "## 리스트 활용"
   ]
  },
  {
   "cell_type": "markdown",
   "metadata": {},
   "source": [
    "앞서 파일 내용을 확인해 보았듯 각 줄마다 선수이름과 점수가 공백을 사이로 두고 각 줄에 적혀 있다.\n",
    "따라서 아래와 같이 문자열 자료형의 `split` 메소드를 활용하여 각 줄을 쪼개어 두 번째 항목을 확인할 수 있다.\n",
    "\n",
    "예를 들어, 둘째줄의 내용은 다음과 같다."
   ]
  },
  {
   "cell_type": "code",
   "execution_count": 27,
   "metadata": {},
   "outputs": [],
   "source": [
    "secondLine = '권준기 8.55\\n'"
   ]
  },
  {
   "cell_type": "markdown",
   "metadata": {},
   "source": [
    "해당 줄을 `strip` 하면 줄바꿈 기호가 사라진다."
   ]
  },
  {
   "cell_type": "code",
   "execution_count": 28,
   "metadata": {},
   "outputs": [
    {
     "data": {
      "text/plain": [
       "'권준기 8.55'"
      ]
     },
     "execution_count": 28,
     "metadata": {},
     "output_type": "execute_result"
    }
   ],
   "source": [
    "secondLine.strip()"
   ]
  },
  {
   "cell_type": "markdown",
   "metadata": {},
   "source": [
    "이제 `split` 메서드를 사용하여 공백 기준으로 쪼개면 다음과 같다."
   ]
  },
  {
   "cell_type": "code",
   "execution_count": 29,
   "metadata": {},
   "outputs": [
    {
     "data": {
      "text/plain": [
       "['권준기', '8.55']"
      ]
     },
     "execution_count": 29,
     "metadata": {},
     "output_type": "execute_result"
    }
   ],
   "source": [
    "secondLine.strip().split()"
   ]
  },
  {
   "cell_type": "markdown",
   "metadata": {},
   "source": [
    "그런데 `strip` 메서드는 이제 굳이 필요없다.\n",
    "`split` 메소드가 공백 기준으로 쪼개기 때문에 \n",
    "끝에 있는 줄바꿈도 함께 제거하기 때문이다.\n",
    "\n",
    "**주의:** 줄바꿈도 공백으로 간주된다."
   ]
  },
  {
   "cell_type": "code",
   "execution_count": 24,
   "metadata": {},
   "outputs": [
    {
     "data": {
      "text/plain": [
       "['권준기', '8.55']"
      ]
     },
     "execution_count": 24,
     "metadata": {},
     "output_type": "execute_result"
    }
   ],
   "source": [
    "secondLine.split()"
   ]
  },
  {
   "cell_type": "markdown",
   "metadata": {},
   "source": [
    "### 리스트 자료형 간략 소개"
   ]
  },
  {
   "cell_type": "markdown",
   "metadata": {},
   "source": [
    "위에서 얻어지 값은 두 개의 항목으로 이루어진 **리스트**(`list`)이다.\n",
    "리스트는 여러 개의 항목을 하나로 묶어서 들고 다닌다. \n",
    "리스트 자료형에 대한 자세한 소개는 \n",
    "[기본 자료형: 리스트](https://github.com/liganega/ProgInPython/blob/master/notebooks/PiPy04C-Lists.ipynb)를\n",
    "참조한다.\n",
    "\n",
    "지금 당장 리스트에 알아야 할 사항은 다음과 같다.\n",
    "\n",
    "* 여러 개의 값들을 담고 있는 모음 자료형\n",
    "* 문자열처럼 왼편 항목에서부터 0, 1, 2, 3, ... 등의 인덱스 부여"
   ]
  },
  {
   "cell_type": "markdown",
   "metadata": {},
   "source": [
    "리스트의 둘째 항목, 즉 1번 인덱스의 값이 바로 점수이다."
   ]
  },
  {
   "cell_type": "code",
   "execution_count": 30,
   "metadata": {},
   "outputs": [
    {
     "data": {
      "text/plain": [
       "'8.55'"
      ]
     },
     "execution_count": 30,
     "metadata": {},
     "output_type": "execute_result"
    }
   ],
   "source": [
    "secondLine.split()[1]"
   ]
  },
  {
   "cell_type": "markdown",
   "metadata": {},
   "source": [
    "확인된 점수가 숫자가 아니라 실수 모양의 문자열임에 주의해야 한다.\n",
    "따라서 숫자로 다루고 싶다면 `float` 함수를 적용해야 한다."
   ]
  },
  {
   "cell_type": "code",
   "execution_count": 26,
   "metadata": {},
   "outputs": [
    {
     "data": {
      "text/plain": [
       "8.55"
      ]
     },
     "execution_count": 26,
     "metadata": {},
     "output_type": "execute_result"
    }
   ],
   "source": [
    "float(secondLine.split()[1])"
   ]
  },
  {
   "cell_type": "markdown",
   "metadata": {},
   "source": [
    "## 점수 확인하기"
   ]
  },
  {
   "cell_type": "markdown",
   "metadata": {},
   "source": [
    "이제 모든 줄이 동일한 모양을 갖고 있다는 점에 착안하여 아래와 같이 각각의 줄에 담긴 \n",
    "내용 중에서 점수에 해당하는 부분을 아래와 같이 확인할 수 있다.\n",
    "\n",
    "**주의:** 리스트의 색인도 문자열의 경우처럼 0부터 시작한다. \n",
    "따라서 리스트의 둘째 항목의 색인은 1인다."
   ]
  },
  {
   "cell_type": "code",
   "execution_count": 21,
   "metadata": {},
   "outputs": [
    {
     "name": "stdout",
     "output_type": "stream",
     "text": [
      "점수\n",
      "7.13\n",
      "8.55\n",
      "9.02\n",
      "8.35\n",
      "7.86\n",
      "8.17\n",
      "9.33\n",
      "7.11\n",
      "8.57\n",
      "8.93\n"
     ]
    }
   ],
   "source": [
    "try:\n",
    "    result_f = open(\"./data/results5m.txt\", 'r') \n",
    "except FileNotFoundError:\n",
    "    print(\"열고자 하는 파일이 존재하지 않습니다.\")\n",
    "\n",
    "for line in result_f: \n",
    "    record = line.split()          # 공백으로 쪼개기\n",
    "    print(record[1])\n",
    "\n",
    "result_f.close() "
   ]
  },
  {
   "cell_type": "markdown",
   "metadata": {},
   "source": [
    "### 1등 점수 확인하기"
   ]
  },
  {
   "cell_type": "markdown",
   "metadata": {},
   "source": [
    "그런데 첫째 줄 내용은 점수를 비교하는 데에 필요없다. \n",
    "따라서 무시하는 방법을 사용하도록 하자.\n",
    "특정 줄을 무시하려면 그 줄이 갖지 않는 특성을 활용해야 한다.\n",
    "실제로 첫째 줄은 `Score`라는 문자열이고\n",
    "둘째 줄부터는 부동소수점 모양의 문자열이다.\n",
    "\n",
    "1등 점수를 확인하려면 부동소수점 모양의 문자열이 아니라\n",
    "진짜로 부동소수점을 다뤄야 한다.\n",
    "따라서 `float` 함수를 이용하여 부동소수점 모양의 문자열을 \n",
    "진짜 부동소수점으로 변환해야 하는데,\n",
    "첫째줄에서 다음과 같은 `ValueError` 오류가 발생할 것이다."
   ]
  },
  {
   "cell_type": "code",
   "execution_count": 6,
   "metadata": {},
   "outputs": [
    {
     "ename": "ValueError",
     "evalue": "could not convert string to float: 'Score'",
     "output_type": "error",
     "traceback": [
      "\u001b[0;31m---------------------------------------------------------------------------\u001b[0m",
      "\u001b[0;31mValueError\u001b[0m                                Traceback (most recent call last)",
      "\u001b[0;32m<ipython-input-6-6b5ba31a249a>\u001b[0m in \u001b[0;36m<module>\u001b[0;34m\u001b[0m\n\u001b[0;32m----> 1\u001b[0;31m \u001b[0mfloat\u001b[0m\u001b[0;34m(\u001b[0m\u001b[0;34m'Score'\u001b[0m\u001b[0;34m)\u001b[0m\u001b[0;34m\u001b[0m\u001b[0;34m\u001b[0m\u001b[0m\n\u001b[0m",
      "\u001b[0;31mValueError\u001b[0m: could not convert string to float: 'Score'"
     ]
    }
   ],
   "source": [
    "float('Score')"
   ]
  },
  {
   "cell_type": "markdown",
   "metadata": {},
   "source": [
    "따라서 첫째 줄에서 이와같은 오류가 발생할 것을 예상하고\n",
    "이를 예외처리 기법으로 다루면 첫째줄을 무시할 수 있으며,\n",
    "예를 들어 다음과 같이 할 수 있다.\n",
    "\n",
    "**참고:** `for` 또는 `while` 반복문에서 `continue` 명령문이 실행되면\n",
    "실행을 정지하고 바로 해당 반복문의 처음으로 돌아가서 다음 반복을 실행한다.\n",
    "`continue`에 대한 보다 자세한 설명은 \n",
    "[처음코딩: break와 continue](https://opentutorials.org/course/2991/18056)를\n",
    "참조한다."
   ]
  },
  {
   "cell_type": "code",
   "execution_count": 7,
   "metadata": {},
   "outputs": [
    {
     "name": "stdout",
     "output_type": "stream",
     "text": [
      "1등은 9.33점 입니다.\n"
     ]
    }
   ],
   "source": [
    "try:\n",
    "    result_f = open(\"./data/results5m.txt\", 'r') \n",
    "except FileNotFoundError:\n",
    "    print(\"열고자 하는 파일이 존재하지 않습니다.\")\n",
    "\n",
    "highst_score = 0                   # 1등 점수 저장\n",
    "\n",
    "for line in result_f: \n",
    "    record = line.split()\n",
    "\n",
    "    try:                           # 첫째 줄 제외\n",
    "        score = float(record[1])\n",
    "    except ValueError:\n",
    "        continue                   # 오류가 발생하는 줄 무시\n",
    "\n",
    "    if highst_score < score:       # 1등 점수와 비교\n",
    "        highst_score = score       # 1등 점수 갱신\n",
    "\n",
    "result_f.close() \n",
    "\n",
    "print(f\"1등은 {highst_score}점 입니다.\")"
   ]
  },
  {
   "cell_type": "markdown",
   "metadata": {},
   "source": [
    "**주의:** `else` 명령문은 필요하지 않은 경우 생략이 가능하다."
   ]
  },
  {
   "cell_type": "markdown",
   "metadata": {},
   "source": [
    "### 2등, 3등 점수 확인하기"
   ]
  },
  {
   "cell_type": "markdown",
   "metadata": {},
   "source": [
    "이제 2등 점수까지 확인해보자.\n",
    "2등 점수를 기억할 변수가 하나 더 필요하며\n",
    "확인된 점수가 기존의 1등 점수보다 큰지, 2등 점수보다 큰지 여부에 따라 \n",
    "1, 2등 점수를 기억하는 변수의 값들을 \n",
    "업데이트 해야 한다."
   ]
  },
  {
   "cell_type": "code",
   "execution_count": 8,
   "metadata": {},
   "outputs": [
    {
     "name": "stdout",
     "output_type": "stream",
     "text": [
      "1등은 9.33점 입니다.\n",
      "2등은 9.02점 입니다.\n"
     ]
    }
   ],
   "source": [
    "try:\n",
    "    result_f = open(\"./data/results5m.txt\", 'r') \n",
    "except FileNotFoundError:\n",
    "    print(\"열고자 하는 파일이 존재하지 않습니다.\")\n",
    "\n",
    "highst_score = 0\n",
    "second_highst_score = 0                    # 2등 점수 저장\n",
    "\n",
    "for line in result_f: \n",
    "    record = line.split()\n",
    "\n",
    "    try: \n",
    "        score = float(record[1])\n",
    "    except ValueError:\n",
    "        continue\n",
    "\n",
    "    if highst_score < score:\n",
    "        second_highst_score = highst_score\n",
    "        highst_score = score\n",
    "    elif second_highst_score < score:      # 2등 점수와 비교\n",
    "        second_highst_score = score        # 2등 점수 갱신\n",
    "\n",
    "result_f.close() \n",
    "\n",
    "print(f\"1등은 {highst_score}점 입니다.\")\n",
    "print(f\"2등은 {second_highst_score}점 입니다.\")"
   ]
  },
  {
   "cell_type": "markdown",
   "metadata": {},
   "source": [
    "그런데 위와 같은 식으로 3등 점수까지 확인하려면 더 많은 변수와 조건문을 사용해야 하며,\n",
    "코드가 점점 길어진다."
   ]
  },
  {
   "cell_type": "code",
   "execution_count": 9,
   "metadata": {},
   "outputs": [
    {
     "name": "stdout",
     "output_type": "stream",
     "text": [
      "1등은 9.33점 입니다.\n",
      "2등은 9.02점 입니다.\n",
      "3등은 8.93점 입니다.\n"
     ]
    }
   ],
   "source": [
    "try:\n",
    "    result_f = open(\"./data/results5m.txt\", 'r') \n",
    "except FileNotFoundError:\n",
    "    print(\"열고자 하는 파일이 존재하지 않습니다.\")\n",
    "\n",
    "highst_score = 0\n",
    "second_highst_score = 0\n",
    "third_highst_score = 0                          # 3등 점수 저장\n",
    "\n",
    "for line in result_f: \n",
    "    record = line.split()\n",
    "\n",
    "    try: \n",
    "        score = float(record[1])\n",
    "    except ValueError:\n",
    "        continue\n",
    "\n",
    "    if highst_score < score:\n",
    "        third_highst_score = second_highst_score\n",
    "        second_highst_score = highst_score\n",
    "        highst_score = score\n",
    "    elif second_highst_score < score:\n",
    "        third_highst_score = second_highst_score\n",
    "        second_highst_score = score\n",
    "    elif third_highst_score < score:             # 3등 점수 확인\n",
    "        third_highst_score = score               # 3등 점수 갱신\n",
    "\n",
    "result_f.close() \n",
    "\n",
    "print(f\"1등은 {highst_score}점 입니다.\")\n",
    "print(f\"2등은 {second_highst_score}점 입니다.\")\n",
    "print(f\"3등은 {third_highst_score}점 입니다.\")"
   ]
  },
  {
   "cell_type": "markdown",
   "metadata": {},
   "source": [
    "### 프로그램 구상 문제"
   ]
  },
  {
   "cell_type": "markdown",
   "metadata": {},
   "source": [
    "4등, 5등, ... 점수는 어떻게 구하나?\n",
    "위와 같은 방식으로 진행하면 유사한 명령문을 복사-붙이기 형식으로 \n",
    "코드를 계속해서 수정해야 한다.\n",
    "그런데 이렇게 원하는 등수에 따라 코드 자체가 수정되어야 한다면\n",
    "프로그램 구상을 애초부터 잘못했다고 생각해야 한다.\n",
    "\n",
    "위 코드의 근본적인 문제는 선수들의 점수를 따라따로 관리하는 데에 있다.\n",
    "각 선수의 점수를 다른 선수의 점수와 비교해야 하는데\n",
    "선수들의 점수를 하나로 모아서 관리할 수 있으면 \n",
    "선수들간의 비교를 보다 효율적으로 할 수 있다.\n",
    "\n",
    "따라서 선수의 기록을 모아서 한꺼번에 처리하는 기술이 요구된다.\n",
    "여기서는 \n",
    "**[리스트](https://github.com/liganega/ProgInPython/blob/master/notebooks/PiPy04C-Lists.ipynb)** \n",
    "자료형을 활용하여 선수들의 점수를 모은 후\n",
    "리스트 자료형의 메서드를 활용하여 선수들간의 점수를 비교하는 \n",
    "보다 간단한 방법을 소개한다."
   ]
  },
  {
   "cell_type": "markdown",
   "metadata": {},
   "source": [
    "## 프로그램 업그레이드 1: 리스트 활용"
   ]
  },
  {
   "cell_type": "markdown",
   "metadata": {},
   "source": [
    "몇 등 점수를 알아내야 하는가와 상관없이 동일하게 작동하는\n",
    "프로그램을 구현한다.\n",
    "\n",
    "이를 위해 리스트를 활용하며, 프로그램 구상은 다음과 같다.\n",
    "\n",
    "* 서핑 대회 참가선수들의 기록들을 모아 놓은 리스트를 생성한다.\n",
    "* 선수들의 기록을 점수 순으로 정렬한다.\n",
    "* 정렬된 점수에서 원하는 등수의 점수를 추출한다.\n",
    "\n",
    "**주의:** 각 줄을 `split` 메서드로 쪼개면 길이가 2인 문자열들의 리스트가 된다.\n",
    "따라서 각 항목의 값을 동시에 서로 다른 변수에 할당할 수 있다.\n",
    "이것을 **리스트 풀어헤치기**(list unpacking)이라 부른다."
   ]
  },
  {
   "cell_type": "code",
   "execution_count": 10,
   "metadata": {},
   "outputs": [
    {
     "name": "stdout",
     "output_type": "stream",
     "text": [
      "1, 2, 3등의 점수는 다음과 같습니다.\n",
      "\n",
      "1등: 9.33\n",
      "2등: 9.02\n",
      "3등: 8.93\n"
     ]
    }
   ],
   "source": [
    "try:\n",
    "    result_f = open(\"./data/results5m.txt\", 'r') \n",
    "except FileNotFoundError:\n",
    "    print(\"열고자 하는 파일이 존재하지 않습니다.\")\n",
    "\n",
    "score_list = []                           # 점수 저장 용도 리스트 선언\n",
    "\n",
    "for line in result_f: \n",
    "    name, score = line.split()            # 각 줄을 두 단어의 리스트로 쪼갠 후 풀어헤치기\n",
    "    try:\n",
    "        score_list.append(float(score))   # 첫째 줄 제외. 숫자만 scores 리스트에 추가\n",
    "    except ValueError:\n",
    "        continue\n",
    "\n",
    "result_f.close() \n",
    "\n",
    "score_list.sort()                         # 리스트를 크기 기준 오름차순으로 정렬\n",
    "score_list.reverse()                      # 리스트를 역순으로 정렬. \n",
    "\n",
    "print(\"1, 2, 3등의 점수는 다음과 같습니다.\\n\") \n",
    "print(f\"1등: {score_list[0]}\")             # 1등 점수 = 0번 인덱스 값\n",
    "print(f\"2등: {score_list[1]}\")             # 2등 점수 = 1번 인덱스 값\n",
    "print(f\"3등: {score_list[2]}\")             # 3등 점수 = 2번 인덱스 값"
   ]
  },
  {
   "cell_type": "markdown",
   "metadata": {},
   "source": [
    "아래 두 줄의 코드는 리스트를 내림차순으로 정렬한다.\n",
    "\n",
    "```python\n",
    "score_list.sort()\n",
    "score_list.reverse()\n",
    "```\n",
    "\n",
    "위 두 줄의 코드를 아래와 같이 한 줄로 구현할 수 있다.\n",
    "\n",
    "```python\n",
    "score_list.sort(reverse=True)\n",
    "```"
   ]
  },
  {
   "cell_type": "code",
   "execution_count": 11,
   "metadata": {},
   "outputs": [
    {
     "name": "stdout",
     "output_type": "stream",
     "text": [
      "1, 2, 3등의 점수는 다음과 같습니다.\n",
      "\n",
      "1등: 9.33\n",
      "2등: 9.02\n",
      "3등: 8.93\n"
     ]
    }
   ],
   "source": [
    "try:\n",
    "    result_f = open(\"./data/results5m.txt\", 'r') \n",
    "except FileNotFoundError:\n",
    "    print(\"열고자 하는 파일이 존재하지 않습니다.\")\n",
    "\n",
    "score_list = []                           # 점수 저장 용도 리스트 선언\n",
    "\n",
    "for line in result_f: \n",
    "    name, score = line.split()            # 각 줄을 두 단어의 리스트로 쪼갠 후 풀어헤치기\n",
    "    try:\n",
    "        score_list.append(float(score))   # 첫째 줄 제외. 숫자만 scores 리스트에 추가\n",
    "    except ValueError:\n",
    "        continue\n",
    "\n",
    "result_f.close() \n",
    "\n",
    "score_list.sort(reverse=True)             # 리스트를 크기 기준 내림차순으로 정렬\n",
    "\n",
    "print(\"1, 2, 3등의 점수는 다음과 같습니다.\\n\") \n",
    "print(f\"1등: {score_list[0]}\")             # 1등 점수 = 0번 인덱스 값\n",
    "print(f\"2등: {score_list[1]}\")             # 2등 점수 = 1번 인덱스 값\n",
    "print(f\"3등: {score_list[2]}\")             # 3등 점수 = 2번 인덱스 값"
   ]
  },
  {
   "cell_type": "markdown",
   "metadata": {},
   "source": [
    "## 프로그램 업그레이드 2: 함수 활용"
   ]
  },
  {
   "cell_type": "markdown",
   "metadata": {},
   "source": [
    "앞서 살펴본 코드를 함수로 추상화하면 원하는 등수의 점수를 함수호출로 간단하게 확인할 수 있다."
   ]
  },
  {
   "cell_type": "markdown",
   "metadata": {},
   "source": [
    "### 프로그램 구상"
   ]
  },
  {
   "cell_type": "markdown",
   "metadata": {},
   "source": [
    "* 위 프로그램에서 변하는 부분은 등수와 관련된 부분이다.\n",
    "* 즉, 등수에 해당하는 것만 제외하면 다른 부분은 전혀 변하지 않는다.\n",
    "* 따라서 등수를 인자로 받는 함수로 추상화하면 된다."
   ]
  },
  {
   "cell_type": "markdown",
   "metadata": {},
   "source": [
    "따라서 함수의 본체에 해당하는 부분은 다음과 같다.\n",
    "\n",
    "```python\n",
    "try:\n",
    "    result_f = open(\"./data/results5m.txt\", 'r') \n",
    "except FileNotFoundError:\n",
    "    print(\"열고자 하는 파일이 존재하지 않습니다.\")\n",
    "\n",
    "score_list = []\n",
    "\n",
    "for line in result_f: \n",
    "    name, score = line.split()\n",
    "    try:\n",
    "        score_list.append(float(score))\n",
    "    except ValueError:\n",
    "        continue\n",
    "\n",
    "result_f.close() \n",
    "\n",
    "score_list.sort(reverse=True)\n",
    "```\n",
    "\n",
    "n등의 점수는 `score_list[n-1]`이다.\n",
    "따라서 함수의 리턴값은 아래와 같다.\n",
    "\n",
    "```python\n",
    "return score_list[n-1]\n",
    "```"
   ]
  },
  {
   "cell_type": "markdown",
   "metadata": {},
   "source": [
    "따라서 아래와 같이 랭킹(`ranking`) 함수를 정의할 수 있다."
   ]
  },
  {
   "cell_type": "code",
   "execution_count": 12,
   "metadata": {},
   "outputs": [],
   "source": [
    "def ranking(n):                                     # n등 점수 요구\n",
    "    try:\n",
    "        result_f = open(\"./data/results5m.txt\", 'r') \n",
    "    except FileNotFoundError:\n",
    "        print(\"열고자 하는 파일이 존재하지 않습니다.\")\n",
    "\n",
    "    score_list = [] \n",
    "\n",
    "    for line in result_f: \n",
    "        name, score = line.split() \n",
    "        try:\n",
    "            score_list.append(float(score)) \n",
    "        except:\n",
    "            continue\n",
    "    result_f.close() \n",
    "\n",
    "    score_list.sort(reverse=True) \n",
    "    \n",
    "    return score_list[n-1]                          # n등 점수 내주기"
   ]
  },
  {
   "cell_type": "markdown",
   "metadata": {},
   "source": [
    "이제 모든 등수의 점수를 쉽게 확일할 수 있다."
   ]
  },
  {
   "cell_type": "code",
   "execution_count": 13,
   "metadata": {},
   "outputs": [
    {
     "data": {
      "text/plain": [
       "9.33"
      ]
     },
     "execution_count": 13,
     "metadata": {},
     "output_type": "execute_result"
    }
   ],
   "source": [
    "ranking(1)"
   ]
  },
  {
   "cell_type": "code",
   "execution_count": 14,
   "metadata": {},
   "outputs": [
    {
     "data": {
      "text/plain": [
       "8.55"
      ]
     },
     "execution_count": 14,
     "metadata": {},
     "output_type": "execute_result"
    }
   ],
   "source": [
    "ranking(5)"
   ]
  },
  {
   "cell_type": "markdown",
   "metadata": {},
   "source": [
    "### 함수 일반화"
   ]
  },
  {
   "cell_type": "markdown",
   "metadata": {},
   "source": [
    "위 함수를 좀 더 일반화할 수 있다.\n",
    "예를 들어, `results5m.txt`에 포함된 내용의 형식과 동일한 어떤\n",
    "분야의 점수기록 파일도 동일한 함수로 각 분야별 등수를 확인할 수 있도록 해보자.\n",
    "\n",
    "그러려면 먼저, `ranking` 함수에서 변하는 부분을 확인해야 하는데,\n",
    "바로 점수기록을 담고 있는 파일명이 해당된다.\n",
    "따라서 그 부분을 함수의 매개변수로 돌려 활용한다.\n",
    "아래 `ranking` 함수의 정의에서 `fileName`이 파일명을 인자로 받아 함수 본체에\n",
    "전달하는 매개변수이다."
   ]
  },
  {
   "cell_type": "code",
   "execution_count": 15,
   "metadata": {},
   "outputs": [],
   "source": [
    "def ranking(n, fileName):                         # fileName 기록파일의 n등 점수 요구\n",
    "    try:\n",
    "        result_f = open(fileName, 'r') \n",
    "    except FileNotFoundError:\n",
    "        print(\"열고자 하는 파일이 존재하지 않습니다.\")\n",
    "\n",
    "    score_list = [] \n",
    "\n",
    "    for line in result_f: \n",
    "        name, score = line.split() \n",
    "        try:\n",
    "            score_list.append(float(score)) \n",
    "        except:\n",
    "            continue\n",
    "    result_f.close() \n",
    "\n",
    "    score_list.sort(reverse=True) \n",
    "    \n",
    "    return score_list[n-1]                        # fileName 기록파일의 n등 점수 내주기"
   ]
  },
  {
   "cell_type": "markdown",
   "metadata": {},
   "source": [
    "이제 `results5m.txt` 기록파일의 1등, 7등 점수는 다음과 같다.\n",
    "\n",
    "**주의:** 기록파일이 `data`라는 하위폴더에 들어있다고 가정한다."
   ]
  },
  {
   "cell_type": "code",
   "execution_count": 16,
   "metadata": {},
   "outputs": [
    {
     "data": {
      "text/plain": [
       "9.33"
      ]
     },
     "execution_count": 16,
     "metadata": {},
     "output_type": "execute_result"
    }
   ],
   "source": [
    "ranking(1,'./data/results5m.txt')"
   ]
  },
  {
   "cell_type": "code",
   "execution_count": 17,
   "metadata": {},
   "outputs": [
    {
     "data": {
      "text/plain": [
       "8.17"
      ]
     },
     "execution_count": 17,
     "metadata": {},
     "output_type": "execute_result"
    }
   ],
   "source": [
    "ranking(7,'./data/results5m.txt')"
   ]
  },
  {
   "cell_type": "markdown",
   "metadata": {},
   "source": [
    "[results10m.txt](https://raw.githubusercontent.com/liganega/ProgInPython/master/notebooks/data/results10m.txt)는\n",
    "동일한 선수들의 10m 다이빙 기록을 담고 있다."
   ]
  },
  {
   "cell_type": "code",
   "execution_count": 32,
   "metadata": {},
   "outputs": [],
   "source": [
    "path = './data'\n",
    "url = 'https://raw.githubusercontent.com/liganega/ProgInPython/master/notebooks/data/results10m.txt'\n",
    "fName = 'results10m.txt'\n",
    "\n",
    "myWget(path, url, fName)"
   ]
  },
  {
   "cell_type": "markdown",
   "metadata": {},
   "source": [
    "그러면 10m 다이빙 시합에서 1등과 7등의 점수는 다음과 같다."
   ]
  },
  {
   "cell_type": "code",
   "execution_count": 33,
   "metadata": {},
   "outputs": [
    {
     "data": {
      "text/plain": [
       "9.31"
      ]
     },
     "execution_count": 33,
     "metadata": {},
     "output_type": "execute_result"
    }
   ],
   "source": [
    "ranking(1,'./data/results10m.txt')"
   ]
  },
  {
   "cell_type": "code",
   "execution_count": 34,
   "metadata": {},
   "outputs": [
    {
     "data": {
      "text/plain": [
       "8.39"
      ]
     },
     "execution_count": 34,
     "metadata": {},
     "output_type": "execute_result"
    }
   ],
   "source": [
    "ranking(7,'./data/results10m.txt')"
   ]
  },
  {
   "cell_type": "markdown",
   "metadata": {},
   "source": [
    "## 심화예제"
   ]
  },
  {
   "cell_type": "markdown",
   "metadata": {},
   "source": [
    "다이빙 대회에 참가한 선수들의 기록을 다룬 파일보다 좀 더 많은 정보를 포함한\n",
    "데이터 파일을 분석하고자 한다.\n",
    "파일에 좀 더 많은 내용이 담겨있지만 데이터 분석 방법은 거의 동일하다."
   ]
  },
  {
   "cell_type": "markdown",
   "metadata": {},
   "source": [
    "안내: [SciPy Lecture: Basic Reductions](https://scipy-lectures.org/intro/numpy/operations.html#basic-reductions)\n",
    "내용을 참조합니다."
   ]
  },
  {
   "cell_type": "markdown",
   "metadata": {},
   "source": [
    "1900년부터 1920년까지 매년 토끼(rabbit), 스라소니(lynx), 당근(carrot)의 개체수를 조사한 자료가 \n",
    "[populations.txt](https://raw.githubusercontent.com/liganega/ProgInPython/master/notebooks/data/populations.txt)\n",
    "파일에 저장되어 있다.\n",
    "파일 내용을 확인하면 다음과 같다.\n",
    "\n",
    "**주의:** `populations.txt` 파일이 `data`라는 하위 디렉토리에 저장되어 있다고 가정하며,\n",
    "아래 코드를 실행하면 자동으로 지정된 폴더에 저장된다."
   ]
  },
  {
   "cell_type": "code",
   "execution_count": 37,
   "metadata": {},
   "outputs": [],
   "source": [
    "path = './data'\n",
    "url = 'https://raw.githubusercontent.com/liganega/ProgInPython/master/notebooks/data/populations.txt'\n",
    "fName = '.txt'\n",
    "\n",
    "myWget(path, url, fName)"
   ]
  },
  {
   "cell_type": "markdown",
   "metadata": {},
   "source": [
    "이제 저장된 파일을 열어보자. 이전과는 달리 아래 형식을 사용한다. \n",
    "\n",
    "```python\n",
    "with open(파일명) as 변수이름:\n",
    "    명령문\n",
    "```\n",
    "\n",
    "위와같이 하면 지정된 명령문이 실행된 후 자동으로 파일을 닫는다.\n",
    "따라서 위 형식은 아래 형식과 동일한 의미이다.\n",
    "\n",
    "```python\n",
    "변수이름 = open(파일명)\n",
    "    명령문\n",
    "변수이름.close()\n",
    "```\n",
    "\n",
    "먼저 파일 내용을 확인해보자."
   ]
  },
  {
   "cell_type": "code",
   "execution_count": 38,
   "metadata": {},
   "outputs": [
    {
     "name": "stdout",
     "output_type": "stream",
     "text": [
      "# 연도\t토끼\t스라소니\t당근\n",
      "1900\t30e3\t4e3\t48300\n",
      "1901\t47.2e3\t6.1e3\t48200\n",
      "1902\t70.2e3\t9.8e3\t41500\n",
      "1903\t77.4e3\t35.2e3\t38200\n",
      "1904\t36.3e3\t59.4e3\t40600\n",
      "1905\t20.6e3\t41.7e3\t39800\n",
      "1906\t18.1e3\t19e3\t38600\n",
      "1907\t21.4e3\t13e3\t42300\n",
      "1908\t22e3\t8.3e3\t44500\n",
      "1909\t25.4e3\t9.1e3\t42100\n",
      "1910\t27.1e3\t7.4e3\t46000\n",
      "1911\t40.3e3\t8e3\t46800\n",
      "1912\t57e3\t12.3e3\t43800\n",
      "1913\t76.6e3\t19.5e3\t40900\n",
      "1914\t52.3e3\t45.7e3\t39400\n",
      "1915\t19.5e3\t51.1e3\t39000\n",
      "1916\t11.2e3\t29.7e3\t36700\n",
      "1917\t7.6e3\t15.8e3\t41800\n",
      "1918\t14.6e3\t9.7e3\t43300\n",
      "1919\t16.2e3\t10.1e3\t41300\n",
      "1920\t24.7e3\t8.6e3\t47300\n"
     ]
    }
   ],
   "source": [
    "with open('./data/populations.txt', 'r') as pop_file:\n",
    "    for line in pop_file:\n",
    "        print(line.strip())            # strip 메소드로 양끝 공백 및 줄바꿈 기호 제거"
   ]
  },
  {
   "cell_type": "markdown",
   "metadata": {},
   "source": [
    "위 코드에서, 예를 들어, `47.2e3`는 47.2 곱하기 10의 3승이다.\n",
    "즉,"
   ]
  },
  {
   "cell_type": "code",
   "execution_count": 22,
   "metadata": {},
   "outputs": [
    {
     "data": {
      "text/plain": [
       "47200.0"
      ]
     },
     "execution_count": 22,
     "metadata": {},
     "output_type": "execute_result"
    }
   ],
   "source": [
    "47.2e3"
   ]
  },
  {
   "cell_type": "code",
   "execution_count": 23,
   "metadata": {},
   "outputs": [
    {
     "data": {
      "text/plain": [
       "True"
      ]
     },
     "execution_count": 23,
     "metadata": {},
     "output_type": "execute_result"
    }
   ],
   "source": [
    "47.2e3 == 47.2 * 1000"
   ]
  },
  {
   "cell_type": "markdown",
   "metadata": {},
   "source": [
    "### 당근 개체수의 최대값 구하기"
   ]
  },
  {
   "cell_type": "markdown",
   "metadata": {},
   "source": [
    "이제 당근 개체수가 가장 많았을 때의 값을 알아내고자 하며, \n",
    "앞서 사용한 기술을 그대로 따라하기 위해 `split` 메소드를 활용한다. \n",
    "\n",
    "`results5m.txt` 파일과의 차이점은 두 가지이다.\n",
    "\n",
    "* 맨 윗줄에 항목에 대한 설명이 있지만 주석을 의미하는 샵(`#`) 기호로 시작한다.\n",
    "    이 특징을 활용하여 예외처리 대신에 조건문을 사용할 수 있다.\n",
    "* 각 줄별로 세 개의 공백이 사용되어서, `split` 메소드를 실행하면 \n",
    "    네 개의 문자열로 쪼개질 것이다.\n",
    "    각각의 항목은 차례대로 연도, 토끼 개체수, 스라소니 개체수, 당근 개체수를 가리킨다.\n",
    "    따라서 길이가 4인 리스트가 생성되며, \n",
    "    풀어헤치기를 하려면, 예를 들어, year, rabbit, lynx, carrot 등 \n",
    "    네 개의 변수를 사용해야 한다."
   ]
  },
  {
   "cell_type": "code",
   "execution_count": 24,
   "metadata": {},
   "outputs": [
    {
     "name": "stdout",
     "output_type": "stream",
     "text": [
      "토끼 개체수의 최대값은 77400.0이다.\n"
     ]
    }
   ],
   "source": [
    "with open('./data/populations.txt') as pop_file:\n",
    "    populations = []                                   # 개체수 저장 리스트 선언\n",
    "\n",
    "    for line in pop_file:\n",
    "        if line.startswith('#'):                       # 샵으로 시작하는 맨 윗줄 건너뛰기\n",
    "            continue\n",
    "        else:\n",
    "            year, rabbit, lynx, carrot = line.split()  # 각 줄은 네 개의 숫자로 쪼개짐\n",
    "            populations.append(float(rabbit))           # 토끼 개체수만 저장함\n",
    "\n",
    "populations.sort(reverse=True)                        \n",
    "\n",
    "print(f\"토끼 개체수의 최대값은 {populations[0]}이다.\")"
   ]
  },
  {
   "cell_type": "markdown",
   "metadata": {},
   "source": [
    "### 함수화"
   ]
  },
  {
   "cell_type": "markdown",
   "metadata": {},
   "source": [
    "위 코드를 응용하여 연도별 토끼 개체수를 리턴하는 `rabbitNumber` 함수를 구현할 수 있다.\n",
    "아래 사항에 주의해야 한다.\n",
    "\n",
    "* 연도별로 토끼 개체수를 확인하려면 정렬(sorting)을 사용하지 말아야 한다.\n",
    "* 인자로 1900 ~ 1920 사이의 값이 사용된다.\n",
    "    * 1900년도 토끼의 개체수는 0번 색인을 가진다.\n",
    "    * 1920년도 토끼의 개체수는 20번 색인을 가진다.\n",
    "    * 따라서 특정 년도의 토끼 개체수가 위치하는 항목의 인덱스는 \n",
    "        해당 연도에서 1900을 빼야 한다."
   ]
  },
  {
   "cell_type": "code",
   "execution_count": 25,
   "metadata": {},
   "outputs": [],
   "source": [
    "def rabbitNumber(yr):\n",
    "    with open('./data/populations.txt') as pop_file:\n",
    "        populations = []                          \n",
    "\n",
    "        for line in pop_file:\n",
    "            if line.startswith('#'):              \n",
    "                continue\n",
    "            else:\n",
    "                year, rabbit, lynx, carrot = line.split() \n",
    "                populations.append(float(rabbit))           \n",
    "    \n",
    "    return populations[yr-1900]      # 연도에서 1900을 빼야 해당연도의 인덱스가 됨"
   ]
  },
  {
   "cell_type": "code",
   "execution_count": 26,
   "metadata": {},
   "outputs": [
    {
     "data": {
      "text/plain": [
       "30000.0"
      ]
     },
     "execution_count": 26,
     "metadata": {},
     "output_type": "execute_result"
    }
   ],
   "source": [
    "rabbitNumber(1900)"
   ]
  },
  {
   "cell_type": "code",
   "execution_count": 27,
   "metadata": {},
   "outputs": [
    {
     "data": {
      "text/plain": [
       "24700.0"
      ]
     },
     "execution_count": 27,
     "metadata": {},
     "output_type": "execute_result"
    }
   ],
   "source": [
    "rabbitNumber(1920)"
   ]
  },
  {
   "cell_type": "code",
   "execution_count": 28,
   "metadata": {},
   "outputs": [
    {
     "data": {
      "text/plain": [
       "40300.0"
      ]
     },
     "execution_count": 28,
     "metadata": {},
     "output_type": "execute_result"
    }
   ],
   "source": [
    "rabbitNumber(1911)"
   ]
  },
  {
   "cell_type": "markdown",
   "metadata": {},
   "source": [
    "## 연습문제"
   ]
  },
  {
   "cell_type": "markdown",
   "metadata": {},
   "source": [
    "1. 2등 점수를 확인하는 코드를 아래와 같이 구현할 경우 어떤 문제가 발생하는지 설명하라.\n",
    "```python\n",
    "result_f = open(\"./data/results5m.txt\") \n",
    "highst_score = 0\n",
    "second_highst_score = 0                    # 2등 점수 저장\n",
    "for line in result_f: \n",
    "     record = line.split()\n",
    "     try: \n",
    "        score = float(record[1])\n",
    "     except:\n",
    "        continue\n",
    "     if highst_score < score:               # 1, 2등 점수 갱신 경우 확인\n",
    "        highst_score = score\n",
    "     elif second_highst_score < score:      # 2등 점수 갱신 경우 확인\n",
    "        second_highst_score = score\n",
    "     else:\n",
    "        continue\n",
    "result_f.close() \n",
    "print(\"2등 점수는\", second_highst_score, \"입니다.\")\n",
    "```\n",
    "<br>\n",
    "1. `max` 함수를 이용하여 `ranking` 함수를 구현하라.\n",
    "<br><br>\n",
    "1. `rabbitNumber` 함수를 예를 들어 1921을 인자로 사용하여 호출하면 오류가 발생한다. \n",
    "    `rabbitNumber` 함수를 아래 조건이 만족되도록 수정하라.\n",
    "    * 예외처리를 이용하여 1900~1920을 벗어나는 년도를 인자로 사용하면 아래 문자열이 출력되도록 한다. \n",
    "\n",
    "    > \"해당년도 데이터가 존재하지 않습니다.\"\n",
    "\n",
    "1. `rabitNumber` 함수를 수정하여 연도와 함께 생물종류 또한 인자로 활용하는 함수 \n",
    "    `populationNumber` 함수를 구현하라.\n",
    "    예를 들어, 다음이 성립해야 한다.\n",
    "    \n",
    "    > populationNumber(1915, 'rabit') = rabitNumber(1915)"
   ]
  }
 ],
 "metadata": {
  "kernelspec": {
   "display_name": "Python 3",
   "language": "python",
   "name": "python3"
  },
  "language_info": {
   "codemirror_mode": {
    "name": "ipython",
    "version": 3
   },
   "file_extension": ".py",
   "mimetype": "text/x-python",
   "name": "python",
   "nbconvert_exporter": "python",
   "pygments_lexer": "ipython3",
   "version": "3.6.8"
  }
 },
 "nbformat": 4,
 "nbformat_minor": 2
}
