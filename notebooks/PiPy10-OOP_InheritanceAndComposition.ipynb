{
 "cells": [
  {
   "cell_type": "markdown",
   "metadata": {},
   "source": [
    "# 인스턴스 변수와 인스턴스 메소드"
   ]
  },
  {
   "cell_type": "markdown",
   "metadata": {},
   "source": [
    "클래스에는 속성과 메소드가 선언되어 있는데, \n",
    "이는 클래스별로 구분되는 네임스페이스(이름공간)를 이용하여 두 가지 목적을 달성하고자 함이다.\n",
    "\n",
    "1. 효율적으로 데이터(값과 함수) 관리하기\n",
    "1. 동일 코드의 반복된 사용을 줄이기\n",
    "\n",
    "클래스에서 선언되는 변수와 메소드는 크게 두 종류로 나뉘어진다.\n",
    "\n",
    "* 인스턴스 변수와 인스턴스 메소드: 생성된 인스턴스 고유의 값을 갖는 변수와 메소드\n",
    "    * 인스턴스 소속이라고 말함.\n",
    "* 클래스 변수와 클래스 메소드: 생성되는 인스턴스와 기본적으로 독립적인, 즉 아무 상관이 없는 변수와 메소드\n",
    "    * 클래스 소속이라고 말함\n",
    "    \n",
    "여기서는 인스턴스 변수와 메소드에 대해서 알아보며, 클래스 변수와 메소드에 대해서는 추후에 알아볼 예정이다.\n",
    "\n",
    "참고: 지금 당장 클래스 변수와 메소드에 알아보고자 한다면 아래 사이트를 추천한다.\n",
    "\n",
    "* [schoolofweb OOP Part 3 클래스 변수](http://schoolofweb.net/blog/posts/%ED%8C%8C%EC%9D%B4%EC%8D%AC-oop-part-3-%ED%81%B4%EB%9E%98%EC%8A%A4-%EB%B3%80%EC%88%98class-variable/)\n",
    "\n",
    "* [schoolofweb OOP Part 4 클래스 메소드와 정적 메소드](http://schoolofweb.net/blog/posts/%ED%8C%8C%EC%9D%B4%EC%8D%AC-oop-part-4-%ED%81%B4%EB%9E%98%EC%8A%A4-%EB%A9%94%EC%86%8C%EB%93%9C%EC%99%80-%EC%8A%A4%ED%83%9C%ED%8B%B1-%EB%A9%94%EC%86%8C%EB%93%9C-class-method-and-static-method/)"
   ]
  },
  {
   "cell_type": "markdown",
   "metadata": {},
   "source": [
    "## 인스턴스 변수"
   ]
  },
  {
   "cell_type": "markdown",
   "metadata": {},
   "source": [
    "앞서 다룬 캐릭터 클래스를 다시 살펴보자."
   ]
  },
  {
   "cell_type": "code",
   "execution_count": 1,
   "metadata": {},
   "outputs": [],
   "source": [
    "class Character(object):\n",
    "    \n",
    "    def __init__(self, name, health, damage, inventory):\n",
    "        print(\"제 이름은 %s입니다\" % name)\n",
    "        print(\"현재 저의 체력은 %s입니다.\" % health)\n",
    "        print(\"저는 공격할 때마다 상대방에게 %s만큼의 손상을 줍니다.\" % damage)\n",
    "        print(\"제 수트의 방어력은 %d이며 사용하는 무기는 %s입니다.\" % \\\n",
    "              (inventory['suit'], inventory['weapon']))"
   ]
  },
  {
   "cell_type": "markdown",
   "metadata": {},
   "source": [
    "`Character` 클래스의 생성자 메소드는 4개의 매개변수를 통해 전달되는 인자들을 이용하여\n",
    "고유의 인스턴스를 생성한다. \n",
    "\n",
    "예를 들어, 아래 코드는 아이언맨 캐릭터의 속성을 사용하여 인스턴스를 생성하며\n",
    "\n",
    "> Character('아이언맨', 100, 200, {'suit': 500, 'weapon': '레이저'})\n",
    "\n",
    "아래 코드는 데드풀 캐릭터의 속성을 사용하여 인스턴서를 생성한다.\n",
    "\n",
    "> Character('데드풀', 300, 30, {'suit': 300, 'weapon': '장검'})\n",
    "\n",
    "이렇듯, 인스턴스를 생성할 때 각각의 인스턴스를 특징짓는 값들이 사용된다.\n",
    "\n",
    "이제 아래 코드를 살펴보자. \n",
    "* 아래 코드는 위 코드와 완전히 동일한 기능을 갖는다.\n",
    "* 다만, `self.name`, `self.health`, `self.dama`, `self.inventory` 라는 변수들이\n",
    "    선언되어 `print` 명령문에 사용되었을 뿐이다."
   ]
  },
  {
   "cell_type": "code",
   "execution_count": 2,
   "metadata": {},
   "outputs": [],
   "source": [
    "class Character(object):\n",
    "    \n",
    "    def __init__(self, name, health, damage, inventory):\n",
    "        self.name = name\n",
    "        self.health = health\n",
    "        self.damage = damage\n",
    "        self.inventory = inventory\n",
    "        \n",
    "        print(\"제 이름은 %s입니다\" % self.name)\n",
    "        print(\"현재 저의 체력은 %s입니다.\" % self.health)\n",
    "        print(\"저는 공격할 때마다 상대방에게 %s만큼의 손상을 줍니다.\" % self.damage)\n",
    "        print(\"제 수트의 방어력은 %d이며 사용하는 무기는 %s입니다.\" % \\\n",
    "              (self.inventory['suit'], self.inventory['weapon']))"
   ]
  },
  {
   "cell_type": "markdown",
   "metadata": {},
   "source": [
    "위 코드를 이용하여 아이언맨 캐릭터 인스턴스를 생성하면 이전과 동일하게 작동한다."
   ]
  },
  {
   "cell_type": "code",
   "execution_count": 3,
   "metadata": {},
   "outputs": [
    {
     "name": "stdout",
     "output_type": "stream",
     "text": [
      "제 이름은 아이언맨입니다\n",
      "현재 저의 체력은 100입니다.\n",
      "저는 공격할 때마다 상대방에게 200만큼의 손상을 줍니다.\n",
      "제 수트의 방어력은 500이며 사용하는 무기는 레이저입니다.\n"
     ]
    }
   ],
   "source": [
    "ironman = Character('아이언맨', 100, 200, {'suit': 500, 'weapon': '레이저'})"
   ]
  },
  {
   "cell_type": "markdown",
   "metadata": {},
   "source": [
    "앞서 설명한 대로 이전 코드와의 차이점은 `self`가 붙어 있는 변수들을 사용한다는 것이다.\n",
    "이렇듯 `self`가 붙어 있으며 생성자 본문에서 선언되는 변수를 __인스턴스 변수__라 부른다.\n",
    "\n",
    "인스턴스 변수의 역할을 다음과 같다.\n",
    "\n",
    "* 생성되는 인스턴스의 속성을 지정한다.\n",
    "* 인스턴스 내부 어느 곳에서도 사용이 가능하다.\n",
    "\n",
    "인스턴스 변수의 첫째 역할은 이전 설명에서 충분히 설명되었다.\n",
    "하지만 둘째 역할인 \"인스턴스 내부 어느 곳에서 사용이 가능하다\"에 대해서는 좀 더 설명이 필요하다.\n",
    "이를 위해, `Character` 클래스를 아래와 같이 수정하자."
   ]
  },
  {
   "cell_type": "code",
   "execution_count": 4,
   "metadata": {},
   "outputs": [],
   "source": [
    "class Character(object):\n",
    "    \n",
    "    def __init__(self, name, health, damage, inventory):\n",
    "        self.name = name\n",
    "        self.health = health\n",
    "        self.damage = damage\n",
    "        self.inventory = inventory\n",
    "        \n",
    "    # 자기소개 메소드\n",
    "    def introduction(self):\n",
    "        print(\"제 이름은 %s입니다\" % self.name)\n",
    "        print(\"현재 저의 체력은 %s입니다.\" % self.health)\n",
    "        print(\"저는 공격할 때마다 상대방에게 %s만큼의 손상을 줍니다.\" % self.damage)\n",
    "        print(\"제 수트의 방어력은 %d이며 사용하는 무기는 %s입니다.\" % \\\n",
    "              (self.inventory['suit'], self.inventory['weapon']))"
   ]
  },
  {
   "cell_type": "markdown",
   "metadata": {},
   "source": [
    "위 코드 특징은 다음과 같다.\n",
    "\n",
    "* 인스턴스가 생성될 때 자기소개를 바로 하지 않는다.\n",
    "* 대신에 자기소개를 하는 기능인 `introduction` 메소드가 선언되어 있다.\n",
    "\n",
    "설명을 위해 아이언맨 캐릭터 인스턴스를 생성해 보자.\n",
    "이전과는 달리 자신을 소개하는 문장이 바로 출력되지 않는다. "
   ]
  },
  {
   "cell_type": "code",
   "execution_count": 5,
   "metadata": {},
   "outputs": [],
   "source": [
    "ironman = Character('아이언맨', 100, 200, {'suit': 500, 'weapon': '레이저'})"
   ]
  },
  {
   "cell_type": "markdown",
   "metadata": {},
   "source": [
    "하지만 생성된 인스턴스를 소개하라는 `introduction` 메소드를 호출하면\n",
    "자기소개를 할 수 있다."
   ]
  },
  {
   "cell_type": "code",
   "execution_count": 6,
   "metadata": {},
   "outputs": [
    {
     "name": "stdout",
     "output_type": "stream",
     "text": [
      "제 이름은 아이언맨입니다\n",
      "현재 저의 체력은 100입니다.\n",
      "저는 공격할 때마다 상대방에게 200만큼의 손상을 줍니다.\n",
      "제 수트의 방어력은 500이며 사용하는 무기는 레이저입니다.\n"
     ]
    }
   ],
   "source": [
    "ironman.introduction()"
   ]
  },
  {
   "cell_type": "markdown",
   "metadata": {},
   "source": [
    "`introduction` 메소드 본문에는 생성자에서 선언된 인스턴스 변수들이 사용되었다.\n",
    "이렇듯 인스턴스 변수들은 인스턴스 어디에서든 사용될 수 있다."
   ]
  },
  {
   "cell_type": "markdown",
   "metadata": {},
   "source": [
    "## 인스턴스 메소드"
   ]
  },
  {
   "cell_type": "markdown",
   "metadata": {},
   "source": [
    "클래스에서 선언된 메소드 중에서 인스턴스 메소드는 인스턴스가 생성된 후에 생성된 인스턴스에서만 사용될 수 있다.\n",
    "예를 들어, 앞서 사용한 `introduction` 메소드가 인스턴스 메소드이다.\n",
    "\n",
    "인스턴스 메소드 본문에는 인스턴스 변수들이 사용될 수 있으며, 인스턴스 메소드를 구분하는 \n",
    "가장 간단한 방법은 첫째 매개변수로 `self`가 사용되었는지 여부를 확인하는 것이다.\n",
    "\n",
    "인스턴스를 생성한 후에 인스턴스 메소드를 호출하는 방법은 다음과 같다.\n",
    "\n",
    "> 인스턴스이름.메소드이름(self를 제외한 인자들)\n",
    "\n",
    "인스턴스 메소드를 호출할 때 `self`에 대응하는 인자를 입력하지 않는다는 사실을 기억해야 한다.\n",
    "보다 자세한 설명은 여기서는 하지 않는다."
   ]
  },
  {
   "cell_type": "markdown",
   "metadata": {},
   "source": [
    "이제 `Character` 클래스에 인스턴스 메소드를 추가해 보자."
   ]
  },
  {
   "cell_type": "code",
   "execution_count": 7,
   "metadata": {},
   "outputs": [],
   "source": [
    "class Character(object):\n",
    "    \n",
    "    def __init__(self, name, health, damage, inventory):\n",
    "        self.name = name\n",
    "        self.health = health\n",
    "        self.damage = damage\n",
    "        self.inventory = inventory\n",
    "        \n",
    "    # 자기소개 매소드\n",
    "    def introduction(self):\n",
    "        print(\"제 이름은 %s입니다\" % self.name)\n",
    "        print(\"현재 저의 체력은 %s입니다.\" % self.health)\n",
    "        print(\"저는 공격할 때마다 상대방에게 %s만큼의 손상을 줍니다.\" % self.damage)\n",
    "        print(\"제 수트의 방어력은 %d이며 사용하는 무기는 %s입니다.\" % \\\n",
    "              (self.inventory['suit'], self.inventory['weapon']))\n",
    "        \n",
    "    # 체력정보 확인 메소드\n",
    "    def getHealth(self):\n",
    "        return self.health\n",
    "    \n",
    "    # 체력증강 메소드\n",
    "    def setHealth(self, health):\n",
    "        self.health = self.health + health"
   ]
  },
  {
   "cell_type": "markdown",
   "metadata": {},
   "source": [
    "두 개의 인스턴스 메소드가 추가되었다.\n",
    "\n",
    "* `getHealth`: 생성된 인스턴스의 체력을 확인해주는 메소드\n",
    "    * 실행하면 현재 인스턴스의 체력을 확인해 준다.\n",
    "* `setHealth`: 생성된 인스턴스의 체력을 증가시키는 메소드\n",
    "    * 실행하면 현재 인스턴스의 체력을 지정한만큼 증가시킨다.\n",
    "    \n",
    "예를 들어 아이언맨 인스턴스의 체력을 키우고나서 확인하는 과정은 다음과 같다."
   ]
  },
  {
   "cell_type": "code",
   "execution_count": 8,
   "metadata": {},
   "outputs": [],
   "source": [
    "ironman = Character('아이언맨', 100, 200, {'suit': 500, 'weapon': '레이저'})"
   ]
  },
  {
   "cell_type": "code",
   "execution_count": 9,
   "metadata": {},
   "outputs": [
    {
     "name": "stdout",
     "output_type": "stream",
     "text": [
      "100\n"
     ]
    }
   ],
   "source": [
    "print(ironman.getHealth())"
   ]
  },
  {
   "cell_type": "code",
   "execution_count": 10,
   "metadata": {},
   "outputs": [],
   "source": [
    "ironman.setHealth(50)"
   ]
  },
  {
   "cell_type": "code",
   "execution_count": 11,
   "metadata": {},
   "outputs": [
    {
     "name": "stdout",
     "output_type": "stream",
     "text": [
      "150\n"
     ]
    }
   ],
   "source": [
    "print(ironman.getHealth())"
   ]
  },
  {
   "cell_type": "markdown",
   "metadata": {},
   "source": [
    "## 게터/세터 메소드\n",
    "\n",
    "위 예제에서 살펴 본 `getHealth`와 `setHealth` 같이 인스턴스의 속성값을 확인하거나 지정하는 메소드를\n",
    "각각 게터 메소드(getter method)와 세터 메소드(setter method)라 부른다.\n",
    "관용적으로 게터 메소드 이름은 `get`으로 시작하며, 세터 메소드 이름은 `set`으로 시작한다. "
   ]
  },
  {
   "cell_type": "markdown",
   "metadata": {},
   "source": [
    "### 게터/세터 메소드 활용 예제"
   ]
  },
  {
   "cell_type": "markdown",
   "metadata": {},
   "source": [
    "`Character` 클래스에 상대방을 공격하는 기능을 추가해보자."
   ]
  },
  {
   "cell_type": "code",
   "execution_count": 12,
   "metadata": {},
   "outputs": [],
   "source": [
    "class Character(object):\n",
    "    \n",
    "    def __init__(self, name, health, damage, inventory):\n",
    "        self.name = name\n",
    "        self.health = health\n",
    "        self.damage = damage\n",
    "        self.inventory = inventory\n",
    "        \n",
    "    # 자기소개 매소드\n",
    "    def introduction(self):\n",
    "        print(\"제 이름은 %s입니다\" % self.name)\n",
    "        print(\"현재 저의 체력은 %s입니다.\" % self.health)\n",
    "        print(\"저는 공격할 때마다 상대방에게 %s만큼의 손상을 줍니다.\" % self.damage)\n",
    "        print(\"제 수트의 방어력은 %d이며 사용하는 무기는 %s입니다.\" % \\\n",
    "              (self.inventory['suit'], self.inventory['weapon']))\n",
    "        \n",
    "    # 체력정보 확인 메소드\n",
    "    def getHealth(self):\n",
    "        return self.health\n",
    "    \n",
    "    # 체력증강 메소드\n",
    "    def setHealth(self, health):\n",
    "        self.health = self.health + health\n",
    "        \n",
    "    # 상대 캐릭터 공격 메소드\n",
    "    # 둘째 인자로 상대 캐릭터 인스턴스가 사용될 것임.\n",
    "    def attack(self, other):\n",
    "        print(\"%s: %s 공격하기!\" % (self.name, other.name))\n",
    "        # 공격력의 10% 만큼 상대 체력 감소시킴\n",
    "        attackPower = self.damage * 0.1 \n",
    "        other.setHealth(-attackPower)"
   ]
  },
  {
   "cell_type": "markdown",
   "metadata": {},
   "source": [
    "아이언맨이 적군을 공격하는 상황을 아래와 같이 묘사할 수 있다."
   ]
  },
  {
   "cell_type": "code",
   "execution_count": 13,
   "metadata": {},
   "outputs": [],
   "source": [
    "ironman = Character('아이언맨', 100, 200, {'suit': 500, 'weapon': '레이저'})\n",
    "enemy = Character('적군', 100, 50, {'suit': 100, 'weapon': '독'})"
   ]
  },
  {
   "cell_type": "markdown",
   "metadata": {},
   "source": [
    "현재 적군의 체력은 100이다."
   ]
  },
  {
   "cell_type": "code",
   "execution_count": 14,
   "metadata": {},
   "outputs": [
    {
     "data": {
      "text/plain": [
       "100"
      ]
     },
     "execution_count": 14,
     "metadata": {},
     "output_type": "execute_result"
    }
   ],
   "source": [
    "enemy.getHealth()"
   ]
  },
  {
   "cell_type": "markdown",
   "metadata": {},
   "source": [
    "그런데 아이언맨이 데드풀을 공격하니 체력이 20 줄게 된다.\n",
    "\n",
    "**주의:** `attack` 메소의 둘째 매개변수인 `other`에 대한 인자로 다른 캐릭터 인스턴스를 사용한다."
   ]
  },
  {
   "cell_type": "code",
   "execution_count": 15,
   "metadata": {},
   "outputs": [
    {
     "name": "stdout",
     "output_type": "stream",
     "text": [
      "아이언맨: 적군 공격하기!\n"
     ]
    }
   ],
   "source": [
    "ironman.attack(enemy)"
   ]
  },
  {
   "cell_type": "code",
   "execution_count": 16,
   "metadata": {},
   "outputs": [
    {
     "data": {
      "text/plain": [
       "80.0"
      ]
     },
     "execution_count": 16,
     "metadata": {},
     "output_type": "execute_result"
    }
   ],
   "source": [
    "enemy.getHealth()"
   ]
  },
  {
   "cell_type": "markdown",
   "metadata": {},
   "source": [
    "## 연습문제"
   ]
  },
  {
   "cell_type": "markdown",
   "metadata": {},
   "source": [
    "1. `Character` 클래스에서 사용되는 모든 인스턴스 변수에 대한 게터/세터 메소드를 선언한 후에 \n",
    "    `attack` 메소드를 게터/세터 메소드만을 사용하여 선언하라. \n",
    "    즉, 인스턴스 변수를 직접 사용하지 않아야 한다."
   ]
  },
  {
   "cell_type": "markdown",
   "metadata": {},
   "source": [
    "# 상속과 메소드 오버라이딩"
   ]
  },
  {
   "cell_type": "markdown",
   "metadata": {},
   "source": [
    "지금까지 OOP에 대하여 살펴본 내용의 핵심은 다음과 같다.\n",
    "\n",
    "> 하나의 클래스를 이용하여 다양한 인스턴스를 쉽게 생성할 수 있다.\n",
    "\n",
    "그런데 한 가지 단점이 있다. \n",
    "인스턴스 변수에 저장된 값에 따라 성능의 차이가 있기는 하지만 모든 인스턴스가 \n",
    "동일한 기능을 갖는다."
   ]
  },
  {
   "cell_type": "markdown",
   "metadata": {},
   "source": [
    "## 인스턴스 생성 기술의 한계"
   ]
  },
  {
   "cell_type": "markdown",
   "metadata": {},
   "source": [
    "인스턴스 생성 기술의 한계를 설명하기 위해 지금까지 사용한 `Character` 클래스를 다시 살펴보자."
   ]
  },
  {
   "cell_type": "code",
   "execution_count": 1,
   "metadata": {},
   "outputs": [],
   "source": [
    "class Character(object):\n",
    "    \n",
    "    def __init__(self, name, health, damage, inventory):\n",
    "        self.name = name\n",
    "        self.health = health\n",
    "        self.damage = damage\n",
    "        self.inventory = inventory\n",
    "        \n",
    "    # 자기소개 매소드\n",
    "    def introduction(self):\n",
    "        print(\"제 이름은 %s입니다\" % self.name)\n",
    "        print(\"현재 저의 체력은 %s입니다.\" % self.health)\n",
    "        print(\"저는 공격할 때마다 상대방에게 %s만큼의 손상을 줍니다.\" % self.damage)\n",
    "        print(\"제 수트의 방어력은 %d이며 사용하는 무기는 %s입니다.\" % \\\n",
    "              (self.inventory['suit'], self.inventory['weapon']))\n",
    "        \n",
    "    # 체력정보 확인 메소드\n",
    "    def getHealth(self):\n",
    "        return self.health\n",
    "    \n",
    "    # 체력증강 메소드\n",
    "    def setHealth(self, health):\n",
    "        self.health = self.health + health\n",
    "        \n",
    "    # 상대 캐릭터 공격 메소드\n",
    "    # 둘째 인자로 상대 캐릭터 인스턴스가 사용될 것임.\n",
    "    def attack(self, other):\n",
    "        print(\"%s: %s 공격하기!\" % (self.name, other.name))\n",
    "        # 공격력의 10% 만큼 상대 체력 감소시킴\n",
    "        attackPower = self.damage * 0.1 \n",
    "        other.setHealth(-attackPower)"
   ]
  },
  {
   "cell_type": "markdown",
   "metadata": {},
   "source": [
    "위 `Character` 클래스의 인스턴스는 모두 공격(`attack`) 기능을 갖게 된다.\n",
    "그런데 게임 캐릭터에 따라 나는 능력을 갖는 캐릭터와 그렇지 못한 캐릭터를 구분해야 하는 경우가 있다.\n",
    "어떻게 구분할까?\n",
    "\n",
    "먼저 `Character`에 비행 기능인 `fly` 메소드를 추가해보자."
   ]
  },
  {
   "cell_type": "code",
   "execution_count": 2,
   "metadata": {},
   "outputs": [],
   "source": [
    "class Character(object):\n",
    "    \n",
    "    def __init__(self, name, health, damage, inventory):\n",
    "        self.name = name\n",
    "        self.health = health\n",
    "        self.damage = damage\n",
    "        self.inventory = inventory\n",
    "        \n",
    "    # 자기소개 매소드\n",
    "    def introduction(self):\n",
    "        print(\"제 이름은 %s입니다\" % self.name)\n",
    "        print(\"현재 저의 체력은 %s입니다.\" % self.health)\n",
    "        print(\"저는 공격할 때마다 상대방에게 %s만큼의 손상을 줍니다.\" % self.damage)\n",
    "        print(\"제 수트의 방어력은 %d이며 사용하는 무기는 %s입니다.\" % \\\n",
    "              (self.inventory['suit'], self.inventory['weapon']))\n",
    "        \n",
    "    # 체력정보 확인 메소드\n",
    "    def getHealth(self):\n",
    "        return self.health\n",
    "    \n",
    "    # 체력증강 메소드\n",
    "    def setHealth(self, health):\n",
    "        self.health = self.health + health\n",
    "        \n",
    "    # 상대 캐릭터 공격 메소드\n",
    "    # 둘째 인자로 상대 캐릭터 인스턴스가 사용될 것임.\n",
    "    def attack(self, other):\n",
    "        print(\"%s: %s 공격하기!\" % (self.name, other.name))\n",
    "        # 공격력의 10% 만큼 상대 체력 감소시킴\n",
    "        attackPower = self.damage * 0.1 \n",
    "        other.setHealth(-attackPower)\n",
    "        \n",
    "    # 지정된 속도로 날아가기 메소드\n",
    "    def fly(self, speed):\n",
    "        print(\"%s: 시속 %d 속도로 날고 있습니다.\" % (self.name, speed))        "
   ]
  },
  {
   "cell_type": "markdown",
   "metadata": {},
   "source": [
    "이렇게 하면 `Character` 클래스의 모든 인스턴스가 `fly` 기능을 갖게 된다."
   ]
  },
  {
   "cell_type": "code",
   "execution_count": 3,
   "metadata": {},
   "outputs": [
    {
     "name": "stdout",
     "output_type": "stream",
     "text": [
      "아이언맨: 시속 100 속도로 날고 있습니다.\n"
     ]
    }
   ],
   "source": [
    "ironman = Character('아이언맨', 100, 200, {'suit': 500, 'weapon': '레이저'})\n",
    "ironman.fly(100)"
   ]
  },
  {
   "cell_type": "markdown",
   "metadata": {},
   "source": [
    "그런데 예를 들어 헐크 캐릭터도 날 수 있게 된다."
   ]
  },
  {
   "cell_type": "code",
   "execution_count": 4,
   "metadata": {},
   "outputs": [
    {
     "name": "stdout",
     "output_type": "stream",
     "text": [
      "헐크: 시속 1000 속도로 날고 있습니다.\n"
     ]
    }
   ],
   "source": [
    "hulk = Character('헐크', 400, 300, {'suit': 0, 'weapon': '주먹'})\n",
    "hulk.fly(1000)"
   ]
  },
  {
   "cell_type": "markdown",
   "metadata": {},
   "source": [
    "우리가 아는 헐크 캐릭터는 날지 못하는데 이렇게 인스턴스를 생성하면 나는 능력을 기본적으로 갖게 된다.\n",
    "어떻게 할까? \n",
    "\n",
    "여러 방법이 있을 수 있다. \n",
    "먼저 `Character` 클래스의 생성자 매개변수를 하나 추가하는 방식을 사용해 보자.\n",
    "즉, 캐릭터를 생성할 때 비행능력을 추가로 입력받아서 날지 못하는 경우 `fly` 메소드가 호출되면\n",
    "\"저는 날지 못합니다\" 라는 문구를 출력하도록 해보자.\n",
    "\n",
    "아래와 같이 할 수 있다."
   ]
  },
  {
   "cell_type": "code",
   "execution_count": 5,
   "metadata": {},
   "outputs": [],
   "source": [
    "class Character(object):\n",
    "    \n",
    "    # 비행능력 여부 확인 매개변수 추가\n",
    "    def __init__(self, name, health, damage, inventory, flight=False):\n",
    "        self.name = name\n",
    "        self.health = health\n",
    "        self.damage = damage\n",
    "        self.inventory = inventory\n",
    "        self.flight = flight                  # 비행능력\n",
    "        \n",
    "    # 자기소개 매소드\n",
    "    def introduction(self):\n",
    "        print(\"제 이름은 %s입니다\" % self.name)\n",
    "        print(\"현재 저의 체력은 %s입니다.\" % self.health)\n",
    "        print(\"저는 공격할 때마다 상대방에게 %s만큼의 손상을 줍니다.\" % self.damage)\n",
    "        print(\"제 수트의 방어력은 %d이며 사용하는 무기는 %s입니다.\" % \\\n",
    "              (self.inventory['suit'], self.inventory['weapon']))\n",
    "        \n",
    "    # 체력정보 확인 메소드\n",
    "    def getHealth(self):\n",
    "        return self.health\n",
    "    \n",
    "    # 체력증강 메소드\n",
    "    def setHealth(self, health):\n",
    "        self.health = self.health + health\n",
    "        \n",
    "    # 상대 캐릭터 공격 메소드\n",
    "    # 둘째 인자로 상대 캐릭터 인스턴스가 사용될 것임.\n",
    "    def attack(self, other):\n",
    "        print(\"%s: %s 공격하기!\" % (self.name, other.name))\n",
    "        # 공격력의 10% 만큼 상대 체력 감소시킴\n",
    "        attackPower = self.damage * 0.1 \n",
    "        other.setHealth(-attackPower)\n",
    "        \n",
    "    # 지정된 속도로 날아가기 메소드\n",
    "    # 비행능력 여부에 따라 다른 행동 지정\n",
    "    def fly(self, speed):\n",
    "        if self.flight:\n",
    "            print(\"%s: 시속 %d 속도로 날고 있습니다.\" % (self.name, speed))\n",
    "        else:\n",
    "            print(\"%s: 저는 날지 못합니다.\" % self.name)"
   ]
  },
  {
   "cell_type": "markdown",
   "metadata": {},
   "source": [
    "**주의:** 생성자에 추가된 `flight` 매개변수는 __키워드 매개변수__이다.\n",
    "즉, 인스턴스를 생성할 때 `flight` 매개변수를 통해 전달하는 인자를 굳이 입력하지 않아도 되며\n",
    "그럴 경우 지정된 기본값인 `False`가 자동으로 전달되도록 설정되어 있다.\n",
    "\n",
    "이제 아이언맨과 헐크를 아래와 같이 생성할 수 있다. \n",
    "\n",
    "* 아이언맨의 경우: 다섯째 인자로 `True`를 입력하면 `flight` 매개변수에 인자로 전달 된다.\n",
    "* 헐크의 경우: 다섯째 인자가 없으면 기본값인 `False`가 `flight` 매개변수에 인자로 전달 된다."
   ]
  },
  {
   "cell_type": "code",
   "execution_count": 6,
   "metadata": {},
   "outputs": [],
   "source": [
    "ironman = Character('아이언맨', 100, 200, {'suit': 500, 'weapon': '레이저'}, True)\n",
    "hulk = Character('헐크', 400, 300, {'suit': 0, 'weapon': '주먹'})"
   ]
  },
  {
   "cell_type": "code",
   "execution_count": 7,
   "metadata": {},
   "outputs": [
    {
     "name": "stdout",
     "output_type": "stream",
     "text": [
      "아이언맨: 시속 1000 속도로 날고 있습니다.\n"
     ]
    }
   ],
   "source": [
    "ironman.fly(1000)"
   ]
  },
  {
   "cell_type": "code",
   "execution_count": 8,
   "metadata": {},
   "outputs": [
    {
     "name": "stdout",
     "output_type": "stream",
     "text": [
      "헐크: 저는 날지 못합니다.\n"
     ]
    }
   ],
   "source": [
    "hulk.fly(1000)"
   ]
  },
  {
   "cell_type": "markdown",
   "metadata": {},
   "source": [
    "`flight` 인자에 전달되는 값에 따라 비행능력을 확실하게 보여주게 되었다.\n",
    "하지만 헐크의 경우 비행능력을 묻는 것 자체가 이상하게 보일 수 있다.\n",
    "그렇다면 헐크의 경우 아예 \"난다\" 라는 개념을 모르게 만들 수는 없을까? \n",
    "지금 방식으로는 불가능하며, __상속__이라는 새로운 기술이 필요하다."
   ]
  },
  {
   "cell_type": "markdown",
   "metadata": {},
   "source": [
    "## 상속\n",
    "\n",
    "상속은 기존 클래스에서 선언된 속성(변수)과 기능(메소드)을 필요에 따라 __재활용__하거나 속성과 기능을 더 __추가__해서 보다 \n",
    "효율적으로 객체와 데이터를 관리하기 위해 사용되는 OOP의 핵심 기술 중 하나이다. "
   ]
  },
  {
   "cell_type": "markdown",
   "metadata": {},
   "source": [
    "### 상속 예제"
   ]
  },
  {
   "cell_type": "markdown",
   "metadata": {},
   "source": [
    "`fly` 기능을 추가하기 이전의 `Character` 클래스로 다시 돌아가자."
   ]
  },
  {
   "cell_type": "code",
   "execution_count": 9,
   "metadata": {},
   "outputs": [],
   "source": [
    "class Character(object):\n",
    "    \n",
    "    def __init__(self, name, health, damage, inventory):\n",
    "        self.name = name\n",
    "        self.health = health\n",
    "        self.damage = damage\n",
    "        self.inventory = inventory\n",
    "        \n",
    "    # 자기소개 매소드\n",
    "    def introduction(self):\n",
    "        print(\"제 이름은 %s입니다\" % self.name)\n",
    "        print(\"현재 저의 체력은 %s입니다.\" % self.health)\n",
    "        print(\"저는 공격할 때마다 상대방에게 %s만큼의 손상을 줍니다.\" % self.damage)\n",
    "        print(\"제 수트의 방어력은 %d이며 사용하는 무기는 %s입니다.\" % \\\n",
    "              (self.inventory['suit'], self.inventory['weapon']))\n",
    "        \n",
    "    # 체력정보 확인 메소드\n",
    "    def getHealth(self):\n",
    "        return self.health\n",
    "    \n",
    "    # 체력증강 메소드\n",
    "    def setHealth(self, health):\n",
    "        self.health = self.health + health\n",
    "        \n",
    "    # 상대 캐릭터 공격 메소드\n",
    "    # 둘째 인자로 상대 캐릭터 인스턴스가 사용될 것임.\n",
    "    def attack(self, other):\n",
    "        print(\"%s: %s 공격하기!\" % (self.name, other.name))\n",
    "        # 공격력의 10% 만큼 상대 체력 감소시킴\n",
    "        attackPower = self.damage * 0.1 \n",
    "        other.setHealth(-attackPower)"
   ]
  },
  {
   "cell_type": "markdown",
   "metadata": {},
   "source": [
    "아이언맨과 헐크를 `Character` 캐릭터 인스턴스를 생성하면서 동시에 아이언맨게만 비행능력을 주고,\n",
    "헐크는 아예 날다라는 개념을 모르게 하고 싶다고 가정하자.\n",
    "\n",
    "이렇게 하기 위해서 비행능력을 가진 클래스를 `Character` 클래스의 자식 클래스로 선언하면 된다.\n",
    "상속을 정의하는 방식은 다음과 같다.\n",
    "\n",
    "```python\n",
    "class 자식클래스(부모클래스):\n",
    "    클래스 본문\n",
    "```\n",
    "\n",
    "이제 상속을 이용하여 `Character` 클래스의 속성과 기능을 모두 물려받으면서 동시에\n",
    "나는 기능을 추가한 클래스인 `FlyingCharacter` 클래스를 선언해 보자.\n",
    "\n",
    "**주의:** `flight` 매개변수는 전혀 사용하지 않는다."
   ]
  },
  {
   "cell_type": "code",
   "execution_count": 10,
   "metadata": {},
   "outputs": [],
   "source": [
    "class FlyingCharacter(Character):\n",
    "    \n",
    "    # 지정된 속도로 날아가기 메소드\n",
    "    def fly(self, speed):\n",
    "        print(\"%s: 시속 %d 속도로 날고 있습니다.\" % (self.name, speed))"
   ]
  },
  {
   "cell_type": "markdown",
   "metadata": {},
   "source": [
    "아이언맨의 경우 비행능력이 있으므로 `Character` 클래스가 아닌 `FlyingCharacter` 클래스의 \n",
    "인스턴스로 생성해야 한다."
   ]
  },
  {
   "cell_type": "code",
   "execution_count": 11,
   "metadata": {},
   "outputs": [],
   "source": [
    "ironman = FlyingCharacter('아이언맨', 100, 200, {'suit': 500, 'weapon': '레이저'})"
   ]
  },
  {
   "cell_type": "markdown",
   "metadata": {},
   "source": [
    "반면에 헐크는 비행능력이 없으므로 `Character` 클래스의 인스턴스로 선언한다."
   ]
  },
  {
   "cell_type": "code",
   "execution_count": 12,
   "metadata": {},
   "outputs": [],
   "source": [
    "hulk = Character('헐크', 400, 300, {'suit': 0, 'weapon': '주먹'})"
   ]
  },
  {
   "cell_type": "markdown",
   "metadata": {},
   "source": [
    "아이언맨과 헐크는 비로 다른 클래스의 인스턴스 이지만, `Character` 클래스의 기능은 공유한다.\n",
    "즉, 아이언맨이 `Character`의 모든 기능을 사용할 수 있다."
   ]
  },
  {
   "cell_type": "code",
   "execution_count": 13,
   "metadata": {},
   "outputs": [
    {
     "name": "stdout",
     "output_type": "stream",
     "text": [
      "아이언맨: 헐크 공격하기!\n"
     ]
    }
   ],
   "source": [
    "ironman.attack(hulk)"
   ]
  },
  {
   "cell_type": "code",
   "execution_count": 14,
   "metadata": {},
   "outputs": [
    {
     "name": "stdout",
     "output_type": "stream",
     "text": [
      "헐크: 아이언맨 공격하기!\n"
     ]
    }
   ],
   "source": [
    "hulk.attack(ironman)"
   ]
  },
  {
   "cell_type": "markdown",
   "metadata": {},
   "source": [
    "아이언맨은 비행능력도 당연히 있다."
   ]
  },
  {
   "cell_type": "code",
   "execution_count": 15,
   "metadata": {},
   "outputs": [
    {
     "name": "stdout",
     "output_type": "stream",
     "text": [
      "아이언맨: 시속 100 속도로 날고 있습니다.\n"
     ]
    }
   ],
   "source": [
    "ironman.fly(100)"
   ]
  },
  {
   "cell_type": "markdown",
   "metadata": {},
   "source": [
    "반면에 헐크는 비행능력이 없으며 `fly` 메소드를 아예 모른다."
   ]
  },
  {
   "cell_type": "code",
   "execution_count": 16,
   "metadata": {},
   "outputs": [
    {
     "ename": "AttributeError",
     "evalue": "'Character' object has no attribute 'fly'",
     "output_type": "error",
     "traceback": [
      "\u001b[0;31m---------------------------------------------------------------------------\u001b[0m",
      "\u001b[0;31mAttributeError\u001b[0m                            Traceback (most recent call last)",
      "\u001b[0;32m<ipython-input-16-00d19cbe7e6f>\u001b[0m in \u001b[0;36m<module>\u001b[0;34m()\u001b[0m\n\u001b[0;32m----> 1\u001b[0;31m \u001b[0mhulk\u001b[0m\u001b[0;34m.\u001b[0m\u001b[0mfly\u001b[0m\u001b[0;34m(\u001b[0m\u001b[0;36m100\u001b[0m\u001b[0;34m)\u001b[0m\u001b[0;34m\u001b[0m\u001b[0m\n\u001b[0m",
      "\u001b[0;31mAttributeError\u001b[0m: 'Character' object has no attribute 'fly'"
     ]
    }
   ],
   "source": [
    "hulk.fly(100)"
   ]
  },
  {
   "cell_type": "markdown",
   "metadata": {},
   "source": [
    "### 상속과 생성자"
   ]
  },
  {
   "cell_type": "markdown",
   "metadata": {},
   "source": [
    "모든 클래스에는 생성자 메소드가 포함되어야 한다. \n",
    "그렇다면 `FlyingCharacter`의 생성자는 무엇일까?\n",
    "\n",
    "클래스를 선언할 때 생성자를 언급하지 않으면 기본값이 생성자로 선언된다.\n",
    "그런데 `FlyingCharacter`의 경우처럼 부모클래스가 있는 경우 \n",
    "생성자를 굳이 선언하지 않으면 부모클래스의 생성자를 그대로 사용한다.\n",
    "`FlyingCharacter`의 인스턴스를 생성할 때 `Character` 클래스의 인스턴스를\n",
    "생성하는 것처럼 네 개의 인자를 사용한 이유가 여기에 있다. \n",
    "실제로 `FlyingCharacter` 클래스의 생성자를 아래와 같이 선언하는 것과 동일하게 작동한다. \n",
    "\n",
    "```python\n",
    "def __init__(self, name, health, damage, inventory):\n",
    "    super().__init__(name, health, damage, inventory)\n",
    "```\n",
    "\n",
    "* 둘째 줄에 있는 `super()`는 부모클래스인 `Character` 클래스를 가리킨다.\n",
    "* 따라서 자식클래스인 `FlyingCharacter`의 생성자를 호출하면 부모클래스인 `Character` 클래스의\n",
    "    생성자가 자동으로 호출된다.\n",
    "* 부모클래스의 생성자를 호출할 때 사용되는 인자는 자식클래스의 생성자를 통해 전달되는 인자들을 이용한다.\n",
    "* __주의:__ 부모클래스의 생성자를 호출할 때 `self` 매개변수는 무시한다.\n",
    "\n",
    "이제 생성자를 구체적으로 선언하여 `FlyingCharacter`를 정의하면 다음과 같다."
   ]
  },
  {
   "cell_type": "code",
   "execution_count": 17,
   "metadata": {},
   "outputs": [],
   "source": [
    "class FlyingCharacter(Character):\n",
    "    # 자식클래스 생성자\n",
    "    def __init__(self, name, health, damage, inventory):\n",
    "        super().__init__(name, health, damage, inventory)\n",
    "    \n",
    "    # 지정된 속도로 날아가기 메소드\n",
    "    def fly(self, speed):\n",
    "        print(\"%s: 시속 %d 속도로 날고 있습니다.\" % (self.name, speed))    "
   ]
  },
  {
   "cell_type": "markdown",
   "metadata": {},
   "source": [
    "앞서 설명한 경우와 동일하게 작동함을 아래 예제가 보여주고 있다."
   ]
  },
  {
   "cell_type": "code",
   "execution_count": 18,
   "metadata": {},
   "outputs": [
    {
     "name": "stdout",
     "output_type": "stream",
     "text": [
      "아이언맨: 헐크 공격하기!\n",
      "헐크: 아이언맨 공격하기!\n",
      "아이언맨: 시속 100 속도로 날고 있습니다.\n"
     ]
    },
    {
     "ename": "AttributeError",
     "evalue": "'Character' object has no attribute 'fly'",
     "output_type": "error",
     "traceback": [
      "\u001b[0;31m---------------------------------------------------------------------------\u001b[0m",
      "\u001b[0;31mAttributeError\u001b[0m                            Traceback (most recent call last)",
      "\u001b[0;32m<ipython-input-18-50a1f6726d4b>\u001b[0m in \u001b[0;36m<module>\u001b[0;34m()\u001b[0m\n\u001b[1;32m      5\u001b[0m \u001b[0mhulk\u001b[0m\u001b[0;34m.\u001b[0m\u001b[0mattack\u001b[0m\u001b[0;34m(\u001b[0m\u001b[0mironman\u001b[0m\u001b[0;34m)\u001b[0m\u001b[0;34m\u001b[0m\u001b[0m\n\u001b[1;32m      6\u001b[0m \u001b[0mironman\u001b[0m\u001b[0;34m.\u001b[0m\u001b[0mfly\u001b[0m\u001b[0;34m(\u001b[0m\u001b[0;36m100\u001b[0m\u001b[0;34m)\u001b[0m\u001b[0;34m\u001b[0m\u001b[0m\n\u001b[0;32m----> 7\u001b[0;31m \u001b[0mhulk\u001b[0m\u001b[0;34m.\u001b[0m\u001b[0mfly\u001b[0m\u001b[0;34m(\u001b[0m\u001b[0;36m100\u001b[0m\u001b[0;34m)\u001b[0m\u001b[0;34m\u001b[0m\u001b[0m\n\u001b[0m",
      "\u001b[0;31mAttributeError\u001b[0m: 'Character' object has no attribute 'fly'"
     ]
    }
   ],
   "source": [
    "ironman = FlyingCharacter('아이언맨', 100, 200, {'suit': 500, 'weapon': '레이저'})\n",
    "hulk = Character('헐크', 400, 300, {'suit': 0, 'weapon': '주먹'})\n",
    "\n",
    "ironman.attack(hulk)\n",
    "hulk.attack(ironman)\n",
    "ironman.fly(100)\n",
    "hulk.fly(100)"
   ]
  },
  {
   "cell_type": "markdown",
   "metadata": {},
   "source": [
    "### 자식 클래스 생성자\n",
    "\n",
    "자식클래스 생성자가 부모클래스 생성자가 하는 일에 추가하여 다른 일을 할 수도 있다.\n",
    "\n",
    "예를 들어, `FlyingCharacter` 클래스의 인스턴스를 생성할 때 생성된 캐릭터가\n",
    "영웅 캐릭터인지 여부를 포함시키고자 한다고 가정하자.\n",
    "그러기 위해서 `FlyingCharacter` 클래스의 생성자에 새로운 매개변수를 추가할 수 있다."
   ]
  },
  {
   "cell_type": "code",
   "execution_count": 19,
   "metadata": {},
   "outputs": [],
   "source": [
    "class FlyingCharacter(Character):\n",
    "    # 자식클래스 생성자\n",
    "    def __init__(self, name, health, damage, inventory, hero=True):\n",
    "        super().__init__(name, health, damage, inventory)\n",
    "        \n",
    "        # 영웅 캐릭터 여부 저장\n",
    "        self.hero = hero\n",
    "        \n",
    "        # 영웅 캐릭터인 경우 스피드 2배로 키우기 위해 설정\n",
    "        if self.hero:\n",
    "            self.speedUp = 2\n",
    "        else:\n",
    "            self.speedUp = 1\n",
    "    \n",
    "    # 지정된 속도로 날아가기 메소드\n",
    "    # 영웅 캐릭터인 경우 지정 속도보다 두 배 빠르게 날게 함\n",
    "    def fly(self, speed):\n",
    "        print(\"%s: 시속 %d 속도로 날고 있습니다.\" % (self.name, speed * self.speedUp))    "
   ]
  },
  {
   "cell_type": "markdown",
   "metadata": {},
   "source": [
    "`FlyingCharacter`의 새로운 생성자는 다음과 같다.\n",
    "\n",
    "```python\n",
    "def __init__(self, name, health, damage, inventory, hero=True):\n",
    "    super().__init__(name, health, damage, inventory)\n",
    "\n",
    "    self.hero = hero\n",
    "    if self.hero:\n",
    "        self.speedUp = 2\n",
    "    else:\n",
    "        self.speedUp = 1\n",
    "```\n",
    "\n",
    "* `hero` 매개변수가 추가 되었다. 키워드 매개변수로 사용되었으며 초기값은 `True`이다.\n",
    "* 영웅 캐릭터를 생성하고자 할 경우, `hero` 매개변수는 무시하면 된다.\n",
    "* 악당 캐릭터를 생성하고자 할 경우, `hero` 매개변수에 `False`를 인자로 전달해야 한다.\n",
    "* 부모클래스인 `Character`의 생성자에는 `hero` 매개변수를 전달하지 않는다.\n",
    "    사실, 전달하면 않된다.\n",
    "* 부모클래스의 생성자를 실행한 후에, 다른 일을 추가로 한다.\n",
    "    * `self.hero` 인스턴스 변수에 영웅 캐릭터 여부 저장하기\n",
    "    * 영웅 캐릭터인 경우 두 배의 속도로 날 수 있도록 하는 `speedUp`라는\n",
    "        인스턴스 변수 선언.\n",
    "    * `speedUp` 인스턴스 변수는 `fly` 메소드를 선언할 때 사용되었음.\n",
    "        즉, `fly` 메소드가 약간 수정되었음.\n",
    "\n",
    "아래 코드는 영웅 캐릭터인 아이언맨과 악당 캐릭터인 울트론을 생성한 후에 시속 100으로 \n",
    "날으라고 할 때 두 캐릭터의 속도가 2배 차이나는 것을 보여준다."
   ]
  },
  {
   "cell_type": "code",
   "execution_count": 20,
   "metadata": {},
   "outputs": [
    {
     "name": "stdout",
     "output_type": "stream",
     "text": [
      "아이언맨: 울트론 공격하기!\n",
      "울트론: 아이언맨 공격하기!\n",
      "아이언맨: 시속 200 속도로 날고 있습니다.\n",
      "울트론: 시속 100 속도로 날고 있습니다.\n"
     ]
    }
   ],
   "source": [
    "ironman = FlyingCharacter('아이언맨', 100, 200, {'suit': 500, 'weapon': '레이저'})\n",
    "ultron = FlyingCharacter('울트론', 400, 300, {'suit': 300, 'weapon': '플라즈마 빔'}, hero=False)\n",
    "\n",
    "ironman.attack(ultron)\n",
    "ultron.attack(ironman)\n",
    "ironman.fly(100)\n",
    "ultron.fly(100)"
   ]
  },
  {
   "cell_type": "markdown",
   "metadata": {},
   "source": [
    "## 메소드 오버라이딩(overriding)\n",
    "\n",
    "부모클래스에서 선언된 메소드를 자식클래스에서 __재정의__ 하는 것을 __메소드 오버라이딩__(메소드 재정의)이라 부른다.\n",
    "즉, 상속 받은 메소드(기능)을 수정하여 사용하는 것을 말한다.\n",
    "예를 들어 설명하자.\n",
    "\n",
    "`Character` 클래스에 선언된 `attack` 메소드를 영웅 캐릭터가 공격하면 보다 치명타를 가할 수 있도록 재정의하고자 한다고 가정해 보자. \n",
    "\n",
    "* 기존의 `attack` 메소드는 공격자의 `damage` 파워의 10%만큼 상대방 체력(`health`)을 감소시켰다.\n",
    "* 이제 영웅 캐릭터가 악당 캐릭터를 공격할 때 영웅 캐릭터의 `damage` 파워의 10%가 아닌 20%만큼 \n",
    "    상대방 체력을 감소시키도록 하자.\n",
    "    \n",
    "그러려면 `FlyingCharacter`에서 `attack` 메소드를 아래와 같이 재정의(오버라이딩) 해야 한다."
   ]
  },
  {
   "cell_type": "code",
   "execution_count": 21,
   "metadata": {},
   "outputs": [],
   "source": [
    "class FlyingCharacter(Character):\n",
    "    # 자식클래스 생성자\n",
    "    def __init__(self, name, health, damage, inventory, hero=True):\n",
    "        super().__init__(name, health, damage, inventory)\n",
    "        \n",
    "        # 영웅 캐릭터 여부 저장\n",
    "        self.hero = hero\n",
    "        \n",
    "        # 영웅 캐릭터인 경우 스피드 2배로 키우기 위해 설정\n",
    "        if self.hero:\n",
    "            self.speedUp = 2\n",
    "        else:\n",
    "            self.speedUp = 1\n",
    "    \n",
    "    # 지정된 속도로 날아가기 메소드\n",
    "    # 영웅 캐릭터인 경우 지정 속도보다 두 배 빠르게 날게 함\n",
    "    def fly(self, speed):\n",
    "        print(\"%s: 시속 %d 속도로 날고 있습니다.\" % (self.name, speed * self.speedUp))    \n",
    "        \n",
    "    # attack 메소드 오버라이딩\n",
    "    # 영웅이 악당을 공격하면 타격효과가 두 배 되도록 함\n",
    "    def attack(self, other):\n",
    "        print(\"%s: %s 공격하기!\" % (self.name, other.name))\n",
    "        if self.hero and not other.hero:                  # 영웅이 악당 공격할 때\n",
    "            attackPower = self.damage * 0.2\n",
    "        else:\n",
    "            attackPower = self.damage * 0.1 \n",
    "        other.setHealth(-attackPower)"
   ]
  },
  {
   "cell_type": "markdown",
   "metadata": {},
   "source": [
    "이제 아이언맨과 울트론을 이용하여 확인해보자."
   ]
  },
  {
   "cell_type": "code",
   "execution_count": 22,
   "metadata": {},
   "outputs": [
    {
     "name": "stdout",
     "output_type": "stream",
     "text": [
      "100\n",
      "400\n",
      "아이언맨: 울트론 공격하기!\n",
      "울트론: 아이언맨 공격하기!\n",
      "70.0\n",
      "360.0\n"
     ]
    }
   ],
   "source": [
    "ironman = FlyingCharacter('아이언맨', 100, 200, {'suit': 500, 'weapon': '레이저'})\n",
    "ultron = FlyingCharacter('울트론', 400, 300, {'suit': 300, 'weapon': '플라즈마 빔'}, hero=False)\n",
    "\n",
    "print(ironman.getHealth())\n",
    "print(ultron.getHealth())\n",
    "\n",
    "ironman.attack(ultron)                                   # 타격효과 두 배\n",
    "ultron.attack(ironman)\n",
    "\n",
    "print(ironman.getHealth())\n",
    "print(ultron.getHealth())"
   ]
  }
 ],
 "metadata": {
  "kernelspec": {
   "display_name": "Python 3",
   "language": "python",
   "name": "python3"
  },
  "language_info": {
   "codemirror_mode": {
    "name": "ipython",
    "version": 3
   },
   "file_extension": ".py",
   "mimetype": "text/x-python",
   "name": "python",
   "nbconvert_exporter": "python",
   "pygments_lexer": "ipython3",
   "version": "3.7.6"
  }
 },
 "nbformat": 4,
 "nbformat_minor": 2
}
