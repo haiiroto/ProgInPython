{
 "cells": [
  {
   "cell_type": "markdown",
   "metadata": {},
   "source": [
    "# 객체 지향 프로그래밍: 상속과 구성"
   ]
  },
  {
   "cell_type": "markdown",
   "metadata": {},
   "source": [
    "[객체 지향 프로그래밍: 소개](https://github.com/liganega/ProgInPython/blob/master/notebooks/PiPy07-OOP_Introduction.ipynb) 에서\n",
    "객체를 활용하여 구현 대상인 객체(object)를 효율적으로 생성하고 활용하는 방법을 \n",
    "`turtle` 모듈의 `Turtle` 클래스 활용 예제를 통해 살펴보았다.\n",
    "또한 \n",
    "코드 추상화: 클래스와 객체 [1부](https://github.com/liganega/ProgInPython/blob/master/notebooks/PiPy08-ClassesAndInstances_Part1.ipynb)\n",
    "와\n",
    "[2부](https://github.com/liganega/ProgInPython/blob/master/notebooks/PiPy09-ClassesAndInstances_Part2.ipynb)\n",
    "에서\n",
    "클래스와 객체의 기본 개념과 활용법을 자세하게 설명하였다.\n",
    "\n",
    "여기서는 클래스와 객체를 보다 실용적으로 활용하는 두 가지 방법 **상속**과 **구성**을 소개하면서\n",
    "객체 지향 프로그래밍(OOP)의 기본 디자인 원칙을 살펴본다. "
   ]
  },
  {
   "cell_type": "markdown",
   "metadata": {},
   "source": [
    "## 주요 예제: 게임 캐릭터 설정"
   ]
  },
  {
   "cell_type": "code",
   "execution_count": 1,
   "metadata": {},
   "outputs": [],
   "source": [
    "class Character(object):\n",
    "    \n",
    "    def __init__(self, name, power, damage, inventory):\n",
    "        self.name = name\n",
    "        self.power = power\n",
    "        self.damage = damage\n",
    "        self.inventory = inventory\n",
    "        \n",
    "    # 자기소개 매소드\n",
    "    def introduction(self):\n",
    "        print(\"제 이름은 %s입니다\" % self.name)\n",
    "        print(\"현재 저의 파워는 %s입니다.\" % self.power)\n",
    "        print(\"저는 공격할 때마다 상대방에게 %s만큼의 손상을 줍니다.\" % self.damage)\n",
    "        print(\"제 수트의 방어력은 %d이며 사용하는 무기는 %s입니다.\" % \\\n",
    "              (self.inventory['suit'], self.inventory['weapon']))\n",
    "        \n",
    "    # 파워 정보 확인 메서드\n",
    "    def getPower(self):\n",
    "        return self.power\n",
    "    \n",
    "    # 파워 조절 메서드\n",
    "    def setPower(self, power):\n",
    "        self.power = self.power + power\n",
    "        \n",
    "    # 상대 캐릭터 공격 메서드\n",
    "    # 둘째 인자로 상대 캐릭터 인스턴스가 사용될 것임.\n",
    "    def attack(self, other):\n",
    "        # print(\"%s: %s 공격하기!\" % (self.name, other.name))\n",
    "        # 공격력의 10% 만큼 상대 파워 감소시킴\n",
    "        attackPower = self.damage * 0.1 \n",
    "        other.setPower(-attackPower)"
   ]
  },
  {
   "cell_type": "markdown",
   "metadata": {},
   "source": [
    "아래 코드는 어벤저스 영화의 아이언맨과 데드풀 캐릭터를 생성한다."
   ]
  },
  {
   "cell_type": "code",
   "execution_count": 2,
   "metadata": {},
   "outputs": [],
   "source": [
    "ironman = Character('아이언맨', 100, 200, {'suit': 500, 'weapon': '레이저'})\n",
    "deadpool = Character('데드풀', 300, 30, {'suit': 300, 'weapon': '장검'})"
   ]
  },
  {
   "cell_type": "markdown",
   "metadata": {},
   "source": [
    "* `introduction()` 메서드: 캐릭터 자기소개"
   ]
  },
  {
   "cell_type": "code",
   "execution_count": 3,
   "metadata": {},
   "outputs": [],
   "source": [
    "ironman.introduction()"
   ]
  },
  {
   "cell_type": "markdown",
   "metadata": {},
   "source": [
    "* `getPower()`: 캐릭터의 파워 확인\n",
    "* `setPower()`: 캐릭터의 파워 조절\n",
    "    \n",
    "예를 들어, 아이언맨 인스턴스의 파워를 키우고나서 확인하는 과정은 다음과 같다."
   ]
  },
  {
   "cell_type": "code",
   "execution_count": 4,
   "metadata": {},
   "outputs": [],
   "source": [
    "print(ironman.getPower())"
   ]
  },
  {
   "cell_type": "code",
   "execution_count": 5,
   "metadata": {},
   "outputs": [
    {
     "name": "stdout",
     "output_type": "stream",
     "text": [
      "150\n"
     ]
    }
   ],
   "source": [
    "ironman.setPower(50)\n",
    "print(ironman.getPower())"
   ]
  },
  {
   "cell_type": "markdown",
   "metadata": {},
   "source": [
    "위 예제에서 살펴 본 `getPower()`와 `setPower()` 같이 인스턴스의 속성값을 확인하거나 지정하는 메서드를\n",
    "각각 **게터(getter)** 메서드와 **세터(setter)** 메서드라 부른다.\n",
    "관용적으로 게터 메서드 이름은 `get`으로 시작하며, 세터 메서드 이름은 `set`으로 시작한다. "
   ]
  },
  {
   "cell_type": "markdown",
   "metadata": {},
   "source": [
    "* `attack()` 메서드: 게터와 세터 활용"
   ]
  },
  {
   "cell_type": "markdown",
   "metadata": {},
   "source": [
    "파워가 100인 침입자가 출현했다고 가정한다. "
   ]
  },
  {
   "cell_type": "code",
   "execution_count": 6,
   "metadata": {},
   "outputs": [],
   "source": [
    "intruder = Character('적군', 100, 50, {'suit': 100, 'weapon': '독'})"
   ]
  },
  {
   "cell_type": "markdown",
   "metadata": {},
   "source": [
    "이제 데드풀이 침입자를 공격하니 파워가 3만큼 줄게 된다.\n",
    "여기서 3은 데드풀의 공격력의 10분의 1을 가리킨다."
   ]
  },
  {
   "cell_type": "code",
   "execution_count": 7,
   "metadata": {},
   "outputs": [
    {
     "data": {
      "text/plain": [
       "97.0"
      ]
     },
     "execution_count": 7,
     "metadata": {},
     "output_type": "execute_result"
    }
   ],
   "source": [
    "deadpool.attack(intruder)\n",
    "intruder.getPower()"
   ]
  },
  {
   "cell_type": "markdown",
   "metadata": {},
   "source": [
    "### 연습문제"
   ]
  },
  {
   "cell_type": "markdown",
   "metadata": {},
   "source": [
    "1. `Character` 클래스에서 사용되는 모든 인스턴스 속성에 대한 게터/세터 메서드를 선언한 후에 \n",
    "    `attack()` 메서드를 게터/세터 메서드만을 사용하여 선언하라. \n",
    "    즉, 인스턴스 속성 변수를 직접 사용하지 않아야 한다."
   ]
  },
  {
   "cell_type": "markdown",
   "metadata": {},
   "source": [
    "## 인스턴스 생성 기술의 단점"
   ]
  },
  {
   "cell_type": "markdown",
   "metadata": {},
   "source": [
    "지금까지 OOP에 대하여 살펴본 내용의 핵심은 다음과 같다.\n",
    "\n",
    "> 하나의 클래스를 이용하여 다양한 인스턴스를 쉽게 생성할 수 있다.\n",
    "\n",
    "그런데 한 가지 단점이 있다. \n",
    "인스턴스 변수에 저장된 값에 따라 성능의 차이가 있기는 하지만 모든 인스턴스가 \n",
    "동일한 기능을 갖는다.\n",
    "\n",
    "인스턴스 생성 기술의 단점을 설명하기 위해 지금까지 사용한 `Character` 클래스를 다시 살펴보자.\n",
    "`Character` 클래스의 인스턴스는 모두 공격(`attack`) 기능을 갖게 된다.\n",
    "그런데 게임 캐릭터에 따라 비행 능력을 갖는 캐릭터와 그렇지 못한 캐릭터를 구분해야 하는 경우가 있다.\n",
    "어떻게 구분할까?\n",
    "\n",
    "먼저 `Character`에 비행 기능인 `fly` 메서드를 추가해보자."
   ]
  },
  {
   "cell_type": "code",
   "execution_count": 8,
   "metadata": {},
   "outputs": [],
   "source": [
    "class Character(object):\n",
    "    \n",
    "    def __init__(self, name, power, damage, inventory):\n",
    "        self.name = name\n",
    "        self.power = power\n",
    "        self.damage = damage\n",
    "        self.inventory = inventory\n",
    "        \n",
    "    # 자기소개 매소드\n",
    "    def introduction(self):\n",
    "        print(\"제 이름은 %s입니다\" % self.name)\n",
    "        print(\"현재 저의 파워는 %s입니다.\" % self.power)\n",
    "        print(\"저는 공격할 때마다 상대방에게 %s만큼의 손상을 줍니다.\" % self.damage)\n",
    "        print(\"제 수트의 방어력은 %d이며 사용하는 무기는 %s입니다.\" % \\\n",
    "              (self.inventory['suit'], self.inventory['weapon']))\n",
    "        \n",
    "    # 파워 정보 확인 메서드\n",
    "    def getPower(self):\n",
    "        return self.power\n",
    "    \n",
    "    # 파워 조절 메서드\n",
    "    def setPower(self, power):\n",
    "        self.power = self.power + power\n",
    "        \n",
    "    # 상대 캐릭터 공격 메서드\n",
    "    # 둘째 인자로 상대 캐릭터 인스턴스가 사용될 것임.\n",
    "    def attack(self, other):\n",
    "        print(\"%s: %s 공격하기!\" % (self.name, other.name))\n",
    "        # 공격력의 10% 만큼 상대 파워 감소시킴\n",
    "        attackPower = self.damage * 0.1 \n",
    "        other.setPower(-attackPower)"
   ]
  },
  {
   "cell_type": "markdown",
   "metadata": {},
   "source": [
    "위 `Character` 클래스의 인스턴스는 모두 공격(`attack`) 기능을 갖게 된다.\n",
    "그런데 게임 캐릭터에 따라 비행 능력을 갖는 캐릭터와 그렇지 못한 캐릭터를 구분해야 하는 경우가 있다.\n",
    "어떻게 구분할까?\n",
    "\n",
    "먼저 `Character`에 비행 기능인 `fly` 메서드를 추가해보자."
   ]
  },
  {
   "cell_type": "code",
   "execution_count": 9,
   "metadata": {},
   "outputs": [],
   "source": [
    "class Character(object):\n",
    "    \n",
    "    def __init__(self, name, power, damage, inventory):\n",
    "        self.name = name\n",
    "        self.power = power\n",
    "        self.damage = damage\n",
    "        self.inventory = inventory\n",
    "        \n",
    "    # 자기소개 매소드\n",
    "    def introduction(self):\n",
    "        print(\"제 이름은 %s입니다\" % self.name)\n",
    "        print(\"현재 저의 파워는 %s입니다.\" % self.power)\n",
    "        print(\"저는 공격할 때마다 상대방에게 %s만큼의 손상을 줍니다.\" % self.damage)\n",
    "        print(\"제 수트의 방어력은 %d이며 사용하는 무기는 %s입니다.\" % \\\n",
    "              (self.inventory['suit'], self.inventory['weapon']))\n",
    "        \n",
    "    # 파워 정보 확인 메서드\n",
    "    def getPower(self):\n",
    "        return self.power\n",
    "    \n",
    "    # 파워 조절 메서드\n",
    "    def setPower(self, power):\n",
    "        self.power = self.power + power\n",
    "        \n",
    "    # 상대 캐릭터 공격 메서드\n",
    "    # 둘째 인자로 상대 캐릭터 인스턴스가 사용될 것임.\n",
    "    def attack(self, other):\n",
    "        print(\"%s: %s 공격하기!\" % (self.name, other.name))\n",
    "        # 공격력의 10% 만큼 상대 파워 감소시킴\n",
    "        attackPower = self.damage * 0.1 \n",
    "        other.setPower(-attackPower)\n",
    "        \n",
    "    # 지정된 속도로 날아가기 메서드\n",
    "    def fly(self, speed):\n",
    "        print(\"%s: 시속 %d km로 날아갑니다.\" % (self.name, speed))        "
   ]
  },
  {
   "cell_type": "markdown",
   "metadata": {},
   "source": [
    "이렇게 하면 `Character` 클래스의 모든 인스턴스가 `fly` 기능을 갖게 된다."
   ]
  },
  {
   "cell_type": "code",
   "execution_count": 10,
   "metadata": {},
   "outputs": [
    {
     "name": "stdout",
     "output_type": "stream",
     "text": [
      "아이언맨: 시속 100 km로 날아갑니다.\n"
     ]
    }
   ],
   "source": [
    "ironman = Character('아이언맨', 100, 200, {'suit': 500, 'weapon': '레이저'})\n",
    "ironman.fly(100)"
   ]
  },
  {
   "cell_type": "markdown",
   "metadata": {},
   "source": [
    "그런데 예를 들어 헐크 캐릭터도 날 수 있게 된다."
   ]
  },
  {
   "cell_type": "code",
   "execution_count": 11,
   "metadata": {},
   "outputs": [
    {
     "name": "stdout",
     "output_type": "stream",
     "text": [
      "헐크: 시속 1000 km로 날아갑니다.\n"
     ]
    }
   ],
   "source": [
    "hulk = Character('헐크', 400, 300, {'suit': 0, 'weapon': '주먹'})\n",
    "hulk.fly(1000)"
   ]
  },
  {
   "cell_type": "markdown",
   "metadata": {},
   "source": [
    "우리가 아는 헐크 캐릭터는 날지 못하는데 이와같이 단순히 인스턴스를 생성하면 \n",
    "비행 능력을 기본적으로 갖게 된다. 어떻게 할까? \n",
    "\n",
    "여러 방법이 있을 수 있다. \n",
    "먼저 `Character` 클래스의 `__init__()` 메서드에 매개변수를 \n",
    "하나 더 추가하는 방식을 사용해 보자.\n",
    "즉, 캐릭터를 생성할 때 비행능력을 추가로 입력받아서 날지 못하는 경우 `fly` 메서드가 호출되면\n",
    "\"저는 날지 못합니다\" 라는 문구를 출력하도록 해보자.\n",
    "\n",
    "아래와 같이 할 수 있다."
   ]
  },
  {
   "cell_type": "code",
   "execution_count": 12,
   "metadata": {},
   "outputs": [],
   "source": [
    "class Character(object):\n",
    "    \n",
    "    # 비행능력 여부 확인 매개변수 flight 추가. 기본값은 False.\n",
    "    def __init__(self, name, power, damage, inventory, flight=False):\n",
    "        self.name = name\n",
    "        self.power = power\n",
    "        self.damage = damage\n",
    "        self.inventory = inventory\n",
    "        self.flight = flight                  # 비행능력\n",
    "        \n",
    "    # 자기소개 매소드\n",
    "    def introduction(self):\n",
    "        print(\"제 이름은 %s입니다\" % self.name)\n",
    "        print(\"현재 저의 파워는 %s입니다.\" % self.power)\n",
    "        print(\"저는 공격할 때마다 상대방에게 %s만큼의 손상을 줍니다.\" % self.damage)\n",
    "        print(\"제 수트의 방어력은 %d이며 사용하는 무기는 %s입니다.\" % \\\n",
    "              (self.inventory['suit'], self.inventory['weapon']))\n",
    "        \n",
    "    # 파워 정보 확인 메서드\n",
    "    def getPower(self):\n",
    "        return self.power\n",
    "    \n",
    "    # 파워 조절 메서드\n",
    "    def setPower(self, power):\n",
    "        self.power = self.power + power\n",
    "        \n",
    "    # 상대 캐릭터 공격 메서드\n",
    "    # 둘째 인자로 상대 캐릭터 인스턴스가 사용될 것임.\n",
    "    def attack(self, other):\n",
    "        print(\"%s: %s 공격하기!\" % (self.name, other.name))\n",
    "        # 공격력의 10% 만큼 상대 파워 감소시킴\n",
    "        attackPower = self.damage * 0.1 \n",
    "        other.setPower(-attackPower)\n",
    "        \n",
    "    # 지정된 속도로 날아가기 메서드\n",
    "    # 비행능력 여부에 따라 다른 행동 지정\n",
    "    def fly(self, speed):\n",
    "        if self.flight:\n",
    "            print(\"%s: 시속 %d km로 날아갑니다.\" % (self.name, speed))\n",
    "        else:\n",
    "            print(\"%s: 저는 날지 못합니다.\" % self.name)"
   ]
  },
  {
   "cell_type": "markdown",
   "metadata": {},
   "source": [
    "**주의:** `__init__()` 메서드에 추가된 `flight` 매개변수는 **키워드 매개변수**이다.\n",
    "즉, 인스턴스를 생성할 때 `flight` 매개변수를 통해 전달하는 인자를 굳이 입력하지 않아도 되며\n",
    "그럴 경우 지정된 기본값인 `False`가 자동으로 전달되도록 설정되어 있다.\n",
    "\n",
    "이제 아이언맨과 헐크를 아래와 같이 생성할 수 있다. \n",
    "\n",
    "* 아이언맨의 경우: 다섯째 인자로 `True`를 입력하면 `flight` 매개변수에 인자로 전달 된다.\n",
    "* 헐크의 경우: 다섯째 인자가 없으면 기본값인 `False`가 `flight` 매개변수에 인자로 전달 된다."
   ]
  },
  {
   "cell_type": "code",
   "execution_count": 13,
   "metadata": {},
   "outputs": [],
   "source": [
    "ironman = Character('아이언맨', 100, 200, {'suit': 500, 'weapon': '레이저'}, True)\n",
    "hulk = Character('헐크', 400, 300, {'suit': 0, 'weapon': '주먹'})"
   ]
  },
  {
   "cell_type": "code",
   "execution_count": 14,
   "metadata": {},
   "outputs": [
    {
     "name": "stdout",
     "output_type": "stream",
     "text": [
      "아이언맨: 시속 1000 km로 날아갑니다.\n"
     ]
    }
   ],
   "source": [
    "ironman.fly(1000)"
   ]
  },
  {
   "cell_type": "code",
   "execution_count": 15,
   "metadata": {},
   "outputs": [
    {
     "name": "stdout",
     "output_type": "stream",
     "text": [
      "헐크: 저는 날지 못합니다.\n"
     ]
    }
   ],
   "source": [
    "hulk.fly(1000)"
   ]
  },
  {
   "cell_type": "markdown",
   "metadata": {},
   "source": [
    "`flight` 인자에 전달되는 값에 따라 비행능력을 확실하게 보여주게 되었다.\n",
    "하지만 헐크의 경우 비행능력을 묻는 것 자체가 이상하게 보일 수 있다.\n",
    "\n",
    "또한 인스턴스를 생성할 때마다 매번 옵션인자의 값을 지정하는 일도 바람직하지 않다.\n",
    "실제 영화나 게임에 등장하는 캐릭터의 수는 경우에 따라 수천, 수만, 수십만인데\n",
    "그 모든 캐릭터의 옵션을 일일이 다르게 설정하는 일은 피해야 한다.\n",
    "\n",
    "그렇다면 헐크 캐릭터를 생성할 때 애초부터 '난다(fly)' 기능을 \n",
    "신경쓸 필요 없게 만들 수는 없을까?\n",
    "여기서는 **상속**과 **구성**을 이용한 해결책을 제시한다."
   ]
  },
  {
   "cell_type": "markdown",
   "metadata": {},
   "source": [
    "## 상속"
   ]
  },
  {
   "cell_type": "markdown",
   "metadata": {},
   "source": [
    "**상속**(inheritance)은 기존 클래스에서 선언된 속성(변수)과 기능(메서드)을 필요에 따라 \n",
    "**재활용**하거나 속성과 기능을 **추가**해서 \n",
    "보다 효율적으로 객체와 데이터를 관리하기 위해 사용되는 OOP의 핵심 기술 중 하나이다. \n",
    "\n",
    "앞서 예제에서 살펴본 인스턴스 생성의 단점을 상속을 이용하여\n",
    "해결하는 방법을 설명하기 위해 \n",
    "`fly` 기능을 추가하기 이전의 `Character` 클래스로 다시 돌아가자."
   ]
  },
  {
   "cell_type": "code",
   "execution_count": 16,
   "metadata": {},
   "outputs": [],
   "source": [
    "class Character(object):\n",
    "    \n",
    "    def __init__(self, name, power, damage, inventory):\n",
    "        self.name = name\n",
    "        self.power = power\n",
    "        self.damage = damage\n",
    "        self.inventory = inventory\n",
    "        \n",
    "    # 자기소개 매소드\n",
    "    def introduction(self):\n",
    "        print(\"제 이름은 %s입니다\" % self.name)\n",
    "        print(\"현재 저의 파워는 %s입니다.\" % self.power)\n",
    "        print(\"저는 공격할 때마다 상대방에게 %s만큼의 손상을 줍니다.\" % self.damage)\n",
    "        print(\"제 수트의 방어력은 %d이며 사용하는 무기는 %s입니다.\" % \\\n",
    "              (self.inventory['suit'], self.inventory['weapon']))\n",
    "        \n",
    "    # 파워 정보 확인 메서드\n",
    "    def getPower(self):\n",
    "        return self.power\n",
    "    \n",
    "    # 파워 조절 메서드\n",
    "    def setPower(self, power):\n",
    "        self.power = self.power + power\n",
    "        \n",
    "    # 상대 캐릭터 공격 메서드\n",
    "    # 둘째 인자로 상대 캐릭터 인스턴스가 사용될 것임.\n",
    "    def attack(self, other):\n",
    "        print(\"%s: %s 공격하기!\" % (self.name, other.name))\n",
    "        # 공격력의 10% 만큼 상대 파워 감소시킴\n",
    "        attackPower = self.damage * 0.1 \n",
    "        other.setPower(-attackPower)"
   ]
  },
  {
   "cell_type": "markdown",
   "metadata": {},
   "source": [
    "아이언맨과 헐크를 `Character` 캐릭터 인스턴스를 생성하면서 \n",
    "아이언맨에게만 비행능력을 주고,\n",
    "헐크는 아예 날다라는 개념을 모르게 하고 싶다고 가정하자.\n",
    "\n",
    "이렇게 하려면 비행능력을 가진 클래스를 `Character` 클래스의 자식 클래스로 선언하면 된다.\n",
    "상속을 정의하는 방식은 다음과 같다.\n",
    "\n",
    "```python\n",
    "class 자식클래스(부모클래스):\n",
    "    클래스 본문\n",
    "```\n",
    "\n",
    "이제 상속을 이용하여 `Character` 클래스의 속성과 기능을 모두 물려받으면서 동시에\n",
    "비행 능력을 추가한 클래스인 `FlyingCharacter` 클래스를 선언해 보자.\n",
    "\n",
    "**주의:** `flight` 매개변수는 전혀 사용하지 않는다."
   ]
  },
  {
   "cell_type": "code",
   "execution_count": 17,
   "metadata": {},
   "outputs": [],
   "source": [
    "class FlyingCharacter(Character):\n",
    "    \n",
    "    # 지정된 속도로 날아가기 메서드\n",
    "    def fly(self, speed):\n",
    "        print(\"%s: 시속 %d km로 날고 있습니다.\" % (self.name, speed))"
   ]
  },
  {
   "cell_type": "markdown",
   "metadata": {},
   "source": [
    "#### 자식클래스의 인스턴스는 부모클래스의 인스턴스!"
   ]
  },
  {
   "cell_type": "markdown",
   "metadata": {},
   "source": [
    "아이언맨의 경우 비행능력이 있으므로 `Character` 클래스가 아닌 `FlyingCharacter` 클래스의 \n",
    "인스턴스로 생성해야 한다."
   ]
  },
  {
   "cell_type": "code",
   "execution_count": 18,
   "metadata": {},
   "outputs": [],
   "source": [
    "ironman = FlyingCharacter('아이언맨', 100, 200, {'suit': 500, 'weapon': '레이저'})"
   ]
  },
  {
   "cell_type": "markdown",
   "metadata": {},
   "source": [
    "`isinstance()` 함수를 사용하여 `ironman`은 여전히 `Character` 클래스의 \n",
    "인스턴스임을 확인할 수 있다. \n",
    "즉, 자식클래스의 인스턴스는 모두 부모클래스의 인스턴스이기도 하다."
   ]
  },
  {
   "cell_type": "code",
   "execution_count": 19,
   "metadata": {},
   "outputs": [
    {
     "data": {
      "text/plain": [
       "True"
      ]
     },
     "execution_count": 19,
     "metadata": {},
     "output_type": "execute_result"
    }
   ],
   "source": [
    "isinstance(ironman, Character)"
   ]
  },
  {
   "cell_type": "markdown",
   "metadata": {},
   "source": [
    "따라서 `ironman`은 `Character` 클래스의 모든 메서드를 사용할 수 있다."
   ]
  },
  {
   "cell_type": "code",
   "execution_count": 20,
   "metadata": {},
   "outputs": [
    {
     "data": {
      "text/plain": [
       "100"
      ]
     },
     "execution_count": 20,
     "metadata": {},
     "output_type": "execute_result"
    }
   ],
   "source": [
    "ironman.getPower()"
   ]
  },
  {
   "cell_type": "markdown",
   "metadata": {},
   "source": [
    "아이언맨은 비행능력도 당연히 있다."
   ]
  },
  {
   "cell_type": "code",
   "execution_count": 21,
   "metadata": {},
   "outputs": [
    {
     "name": "stdout",
     "output_type": "stream",
     "text": [
      "아이언맨: 시속 100 km로 날고 있습니다.\n"
     ]
    }
   ],
   "source": [
    "ironman.fly(100)"
   ]
  },
  {
   "cell_type": "markdown",
   "metadata": {},
   "source": [
    "#### 부모클래스의 인스턴스는 자식클래스를 모름!"
   ]
  },
  {
   "cell_type": "markdown",
   "metadata": {},
   "source": [
    "헐크 캐릭터는 아예 비행능력이 없으므로 `Character` 클래스의 인스턴스로 선언한다."
   ]
  },
  {
   "cell_type": "code",
   "execution_count": 22,
   "metadata": {},
   "outputs": [],
   "source": [
    "hulk = Character('헐크', 400, 300, {'suit': 0, 'weapon': '주먹'})"
   ]
  },
  {
   "cell_type": "markdown",
   "metadata": {},
   "source": [
    "앞서 언급한 대로 `ironman` 역시 `Character` 클래스의 기능을 공유한다.\n",
    "따라서, 예를 들어, `ironman`이 `hulk`가 서로 공격할 수 있다."
   ]
  },
  {
   "cell_type": "code",
   "execution_count": 23,
   "metadata": {},
   "outputs": [
    {
     "name": "stdout",
     "output_type": "stream",
     "text": [
      "아이언맨: 헐크 공격하기!\n"
     ]
    }
   ],
   "source": [
    "ironman.attack(hulk)"
   ]
  },
  {
   "cell_type": "code",
   "execution_count": 24,
   "metadata": {},
   "outputs": [
    {
     "name": "stdout",
     "output_type": "stream",
     "text": [
      "헐크: 아이언맨 공격하기!\n"
     ]
    }
   ],
   "source": [
    "hulk.attack(ironman)"
   ]
  },
  {
   "cell_type": "markdown",
   "metadata": {},
   "source": [
    "헐크는 비행능력이 없으며 `fly` 메서드를 아예 모른다.\n",
    "\n",
    "**주의**: 아래 코드는 오류발생을 피하기 위해 예외처리를 사용한다."
   ]
  },
  {
   "cell_type": "code",
   "execution_count": 25,
   "metadata": {},
   "outputs": [
    {
     "name": "stdout",
     "output_type": "stream",
     "text": [
      "헐크: 전 날지 못해요!\n"
     ]
    }
   ],
   "source": [
    "try: \n",
    "    hulk.fly(100)\n",
    "except AttributeError: \n",
    "    print(\"헐크: 전 날지 못해요!\")"
   ]
  },
  {
   "cell_type": "markdown",
   "metadata": {},
   "source": [
    "### 메서드 상속과 재정의"
   ]
  },
  {
   "cell_type": "markdown",
   "metadata": {},
   "source": [
    "#### `__init__()` 메서드 상속과 재정의"
   ]
  },
  {
   "cell_type": "markdown",
   "metadata": {},
   "source": [
    "모든 클래스에는 초기 설정 메서드인 `init()` 메서드가 포함되어야 한다. \n",
    "그런데 `FlyingCharacter` 클래스에는 초기 설정 메서드가 포함되어 있지 않다.\n",
    "이럴 때는 부모 클래스인 `Character` 클래스의 `init()` 메서드를 그대로 사용한다.\n",
    "\n",
    "`FlyingCharacter`의 인스턴스를 생성할 때 `Character` 클래스의 인스턴스를\n",
    "생성하는 것처럼 네 개의 인자를 사용한 이유가 여기에 있다. \n",
    "실제로 `FlyingCharacter` 클래스의 초기 설정 메서드를 아래와 같이 선언하는 것과 동일하게 작동한다. \n",
    "\n",
    "```python\n",
    "def __init__(self, name, power, damage, inventory):\n",
    "    super().__init__(name, power, damage, inventory)\n",
    "```\n",
    "\n",
    "* 둘째 줄에 있는 `super()`는 부모클래스인 `Character` 클래스를 가리킨다.\n",
    "* 따라서 자식클래스인 `FlyingCharacter`의 초기 설정 메서드를 호출하면 부모클래스인 `Character` 클래스의\n",
    "    초기 설정 메서드가 자동으로 호출된다.\n",
    "* 부모클래스의 초기 설정 메서드를 호출할 때 사용되는 인자는 자식클래스의 초기 설정 메서드를 통해 전달되는 인자들을 이용한다.\n",
    "* __주의:__ 초기 설정 메서드를 호출할 때 `self` 매개변수는 사용하지 않는다.\n",
    "\n",
    "이제 초기 설정 메서드를 구체적으로 선언하여 `FlyingCharacter`를 정의하면 다음과 같다."
   ]
  },
  {
   "cell_type": "code",
   "execution_count": 26,
   "metadata": {},
   "outputs": [],
   "source": [
    "class FlyingCharacter(Character):\n",
    "    # 자식클래스 초기 설정 메서드\n",
    "    def __init__(self, name, power, damage, inventory):\n",
    "        super().__init__(name, power, damage, inventory)\n",
    "    \n",
    "    # 지정된 속도로 날아가기 메서드\n",
    "    def fly(self, speed):\n",
    "        print(\"%s: 시속 %d km로 날고 있습니다.\" % (self.name, speed))    "
   ]
  },
  {
   "cell_type": "markdown",
   "metadata": {},
   "source": [
    "앞서 설명한 경우와 동일하게 작동함을 아래 예제가 보여주고 있다."
   ]
  },
  {
   "cell_type": "code",
   "execution_count": 27,
   "metadata": {},
   "outputs": [
    {
     "name": "stdout",
     "output_type": "stream",
     "text": [
      "아이언맨: 헐크 공격하기!\n",
      "헐크: 아이언맨 공격하기!\n",
      "아이언맨: 시속 100 km로 날고 있습니다.\n",
      "헐크: 전 날지 못해요!\n"
     ]
    }
   ],
   "source": [
    "ironman = FlyingCharacter('아이언맨', 100, 200, {'suit': 500, 'weapon': '레이저'})\n",
    "hulk = Character('헐크', 400, 300, {'suit': 0, 'weapon': '주먹'})\n",
    "\n",
    "ironman.attack(hulk)\n",
    "hulk.attack(ironman)\n",
    "ironman.fly(100)\n",
    "\n",
    "try: \n",
    "    hulk.fly(100)\n",
    "except AttributeError: \n",
    "    print(\"헐크: 전 날지 못해요!\")"
   ]
  },
  {
   "cell_type": "markdown",
   "metadata": {},
   "source": [
    "자식클래스 초기 설정 메서드가 부모클래스 초기 설정 메서드가 하는 일에 추가하여 다른 일을 할 수도 있다.\n",
    "이렇게 자식클래를 선언할 때 부모클래스로부터 상속한 메서드의 일부를 재정의할 수 있다.\n",
    "메서드 재정의를 **오버라이딩**(overriding)이라 부르기도 한다.\n",
    "\n",
    "예를 들어, 아래에 정의된 `FlyingCharacter` 클래스의 인스턴스를 생성할 때 생성된 캐릭터의\n",
    "`suit`의 능력에 따라 비행 속도를 다르게 지정할 수 있다. "
   ]
  },
  {
   "cell_type": "code",
   "execution_count": 28,
   "metadata": {},
   "outputs": [],
   "source": [
    "class FlyingCharacter(Character):\n",
    "    # 자식클래스 초기 설정 메서드\n",
    "    # hero 매개변수 추가\n",
    "    def __init__(self, name, power, damage, inventory):\n",
    "        super().__init__(name, power, damage, inventory)\n",
    "        \n",
    "        # suit의 능력이 400 이상인 경우 두 배 속도로 비행하도록 설정\n",
    "        if self.inventory['suit'] >= 400:\n",
    "            self.speedUp = 2\n",
    "        else:\n",
    "            self.speedUp = 1\n",
    "    \n",
    "    # 지정된 속도로 날아가기 메서드\n",
    "    # 영웅 캐릭터인 경우 지정 속도보다 두 배 빠르게 날게 함\n",
    "    # fly 메서드 역시 재정의됨.\n",
    "    def fly(self, speed):\n",
    "        print(\"%s: 시속 %d km로 날고 있습니다.\" % (self.name, speed * self.speedUp))    "
   ]
  },
  {
   "cell_type": "markdown",
   "metadata": {},
   "source": [
    "`FlyingCharacter`의 새로운 초기 설정 메서드의 변화는 다음과 같다.\n",
    "\n",
    "* `self.inventory[suit]` 값의 크기에 따라 `speedUp` 속성을 다르게 설정\n",
    "* `speedUp` 속성: `fly` 메서드를 선언할 때 사용되었음.\n",
    "    \n",
    "아래 코드는 아이언맨과 울트론을 생성한 후에 시속 100으로 \n",
    "날으라고 할 때 두 캐릭터의 속도가 2배 차이나는 것을 보여준다."
   ]
  },
  {
   "cell_type": "code",
   "execution_count": 29,
   "metadata": {},
   "outputs": [
    {
     "name": "stdout",
     "output_type": "stream",
     "text": [
      "아이언맨: 울트론 공격하기!\n",
      "울트론: 아이언맨 공격하기!\n",
      "아이언맨: 시속 200 km로 날고 있습니다.\n",
      "울트론: 시속 100 km로 날고 있습니다.\n"
     ]
    }
   ],
   "source": [
    "ironman = FlyingCharacter('아이언맨', 100, 200, {'suit': 500, 'weapon': '레이저'})\n",
    "ultron = FlyingCharacter('울트론', 400, 300, {'suit': 300, 'weapon': '플라즈마 빔'})\n",
    "\n",
    "ironman.attack(ultron)\n",
    "ultron.attack(ironman)\n",
    "# 비행속도를 100으로 지정하면 아이언맨은 200으로 날아 오름.\n",
    "ironman.fly(100)\n",
    "ultron.fly(100)"
   ]
  },
  {
   "cell_type": "markdown",
   "metadata": {},
   "source": [
    "#### `*args`, `**kwargs` 활용"
   ]
  },
  {
   "cell_type": "markdown",
   "metadata": {},
   "source": [
    "`*args`와 `**kwargs`는 함수를 정의할 때\n",
    "인자의 수를 미리 지정하지 않을 때 사용하는 표현식이다. \n",
    "\n",
    "* `*args`: 임의의 개수의 매개변수를 의미함\n",
    "* `**kwargs`: 임의의 개수의 옵션 매개변수를 의미함.\n",
    "\n",
    "**참조**: args는 kwargs는 각각\n",
    "arguments(인자)와 keyword arguements(옵션 인자)의 줄임말이다.\n",
    "\n",
    "이 방식을 이용하면 `FlyingCharacter` 클래스의 `__init__()` 메서드를\n",
    "다음과 같이 정의할 수 있다.\n",
    "\n",
    "```python\n",
    "def __init__(self, *args, **kwargs):\n",
    "    super().__init__(*args, **kwargs)\n",
    "\n",
    "    # suit의 능력이 400 이상인 경우 두 배 속도로 비행하도록 설정\n",
    "    if self.inventory['suit'] >= 400:\n",
    "        self.speedUp = 2\n",
    "    else:\n",
    "        self.speedUp = 1\n",
    "```\n",
    "\n",
    "위와같이 하면 모든 매개변수가\n",
    "부모클래스의 초기 설정 메서드에 그대로 전달된다.\n",
    "\n",
    "**참조**: \n",
    "* 여기서는 `kwargs`에 해당하는 옵션 매개변수는 사용하지 않지만,\n",
    "그래도 항상 위와 같은 방식으로 사용한다.\n",
    "* 이런 방식의 장점은, 부모클래스의 메서드에 사용되는 매개변수가 달라져도\n",
    "자식클래스에서 일일이 그에 맞게 수정할 필요가 없다는 데에 있다."
   ]
  },
  {
   "cell_type": "markdown",
   "metadata": {},
   "source": [
    "#### 사용자 정의 메서드 재정의"
   ]
  },
  {
   "cell_type": "markdown",
   "metadata": {},
   "source": [
    "부모클래스에서 선언된 메서드를 자식클래스에서 모두 **재정의**할 수 있다.\n",
    "예를 들어 설명하자.\n",
    "\n",
    "`Character` 클래스에 선언된 `attack` 메서드를 영웅 캐릭터가 공격하면 보다 큰 치명타를 가할 수 있도록 하고자 한다.\n",
    "\n",
    "* 기존의 `attack` 메서드는 공격자의 `damage` 파워의 10%만큼 상대방 파워(`power`)를 감소시켰다.\n",
    "* 이제 캐릭터의 파워가 400보다 크면 캐릭터를 공격할 때 공격 캐릭터의 `damage` 파워의 10%가 아닌 20%만큼 \n",
    "    상대방 파워를 감소시키도록 하자.\n",
    "    \n",
    "그러려면 `FlyingCharacter`에서 `attack` 메서드를 아래와 같이 재정의해야 한다."
   ]
  },
  {
   "cell_type": "code",
   "execution_count": 30,
   "metadata": {},
   "outputs": [],
   "source": [
    "class FlyingCharacter(Character):\n",
    "    # 자식클래스 초기 설정 메서드\n",
    "    def __init__(self, *args, **kwargs):\n",
    "        super().__init__(*args, **kwargs)\n",
    "        \n",
    "        # suit의 능력이 400 이상인 경우 두 배 속도로 비행하도록 설정\n",
    "        if self.inventory['suit'] >= 400:\n",
    "            self.speedUp = 2\n",
    "        else:\n",
    "            self.speedUp = 1\n",
    "    \n",
    "    # 지정된 속도로 날아가기 메서드\n",
    "    # 영웅 캐릭터인 경우 지정 속도보다 두 배 빠르게 날게 함\n",
    "    def fly(self, speed):\n",
    "        print(\"%s: 시속 %d km로 날고 있습니다.\" % (self.name, speed * self.speedUp))    \n",
    "        \n",
    "    # attack 메서드 재정의\n",
    "    def attack(self, other):\n",
    "        print(\"%s: %s 공격하기!\" % (self.name, other.name))\n",
    "        # 영웅이 악당 공격할 때 타격효과 두 배\n",
    "        if self.power >= 300:\n",
    "            attackPower = self.damage * 0.2\n",
    "        else:\n",
    "            attackPower = self.damage * 0.1 \n",
    "        other.setPower(-attackPower)"
   ]
  },
  {
   "cell_type": "markdown",
   "metadata": {},
   "source": [
    "이제 아이언맨과 울트론을 이용하여 확인해보자."
   ]
  },
  {
   "cell_type": "code",
   "execution_count": 31,
   "metadata": {},
   "outputs": [
    {
     "name": "stdout",
     "output_type": "stream",
     "text": [
      "아이언맨 파워: 100\n",
      "울트론 파워: 400\n",
      "아이언맨: 울트론 공격하기!\n",
      "울트론 파워: 380.0\n",
      "울트론: 아이언맨 공격하기!\n",
      "아이언맨 파워: 40.0\n"
     ]
    }
   ],
   "source": [
    "ironman = FlyingCharacter('아이언맨', 100, 200, {'suit': 500, 'weapon': '레이저'})\n",
    "ultron = FlyingCharacter('울트론', 400, 300, {'suit': 300, 'weapon': '플라즈마 빔'})\n",
    "\n",
    "print('아이언맨 파워:', ironman.getPower())\n",
    "print('울트론 파워:', ultron.getPower())\n",
    "\n",
    "# 10% 타격\n",
    "ironman.attack(ultron)                      \n",
    "print('울트론 파워:', ultron.getPower())\n",
    "\n",
    "# 20% 타격\n",
    "ultron.attack(ironman)\n",
    "print('아이언맨 파워:', ironman.getPower())"
   ]
  },
  {
   "cell_type": "markdown",
   "metadata": {},
   "source": [
    "## 구성"
   ]
  },
  {
   "cell_type": "markdown",
   "metadata": {},
   "source": [
    "**구성**(composition)은 다른 클래스의 인스턴스를 생성되는 인스턴스의 속성으로 \n",
    "지정하여 사용하는 기법을 의미한다. \n",
    "구성을 이용한 예제를 이미 앞서 살펴보았다. \n",
    "바로 [코드 추상화: 클래스와 객체 1부](https://github.com/liganega/ProgInPython/blob/master/notebooks/PiPy08-ClassesAndInstances_Part1.ipynb)\n",
    "에서 `Person` 클래스의 인스턴스를 생성할 때 필요한\n",
    "생년월일에 대한 정보를 `datetime` 모듈의 `date` 클래스의 객체에\n",
    "담아 활용하였다.\n",
    "\n",
    "예를 들어, 아래 코드에서 Jane Doe의 개인정보를 담은 `Person` 클래스의\n",
    "객체를 생성할 때 생년월일 정보는 `datetime.date(1992, 3, 12)` 객체에 담겨져 있다.\n",
    "\n",
    "```python\n",
    "import datetime\n",
    "\n",
    "class Person:\n",
    "\n",
    "    def __init__(self, name, surname, birthdate, address, telephone, email):\n",
    "        self.name = name\n",
    "        self.surname = surname\n",
    "        self.birthdate = birthdate\n",
    "\n",
    "        self.address = address\n",
    "        self.telephone = telephone\n",
    "        self.email = email\n",
    "\n",
    "    def age(self): # 나이 계산 함수\n",
    "        today = datetime.date.today()\n",
    "        age = today.year - self.birthdate.year\n",
    "        if today < datetime.date(today.year, self.birthdate.month, self.birthdate.day):\n",
    "            age -= 1\n",
    "        return age\n",
    "    \n",
    "jDoe = Person(\n",
    "    \"Jane\",\n",
    "    \"Doe\",\n",
    "    datetime.date(1992, 3, 12), # 년, 월, 일\n",
    "    \"No. 12 Short Street, Greenville\",\n",
    "    \"555 456 0987\",\n",
    "    \"jane.doe@example.com\"\n",
    "    )    \n",
    "```"
   ]
  },
  {
   "cell_type": "markdown",
   "metadata": {},
   "source": [
    "### 프로그램 확장성"
   ]
  },
  {
   "cell_type": "markdown",
   "metadata": {},
   "source": [
    "구성 방식을 활용하면 상속을 사용하지 않으면서 보다 확장성이 좋은 프로그램을 작성할 수 있다.\n",
    "**확장성이 좋은 프로그램**이란 프로그램 전체 구조의 변화 없이 특정 기능을 추가하고 변경할 수 있는\n",
    "프로그램을 의미한다. \n",
    "\n",
    "예를 들어, 앞서 사용한 `FlyingChracter` 클래스의 경우를 보자.\n",
    "생성되는 캐릭터마다 비행 방식이 다를 수 있다. \n",
    "\n",
    "* 아이언맨: 로켓 장치 사용\n",
    "* 팔콘: 날개 사용\n",
    "* 토르: 특별한 장치 없음. 스스로 비행능력 있음.\n",
    "\n",
    "이렇게 캐릭터마다 다른 비행 방식을 어떻게 다룰 수 있을까? \n",
    "\n",
    "가장 간단한 방식은 비행 방식에 따라 `fly()` 메서드를 다르게 구현한 \n",
    "\n",
    "* `RocketFlyingCharacter`: 로켓 장치 사용 비행 캐릭터 클래스\n",
    "* `WingFlyingCharacter`: 날개 비행 캐릭터 클래스\n",
    "* `SelfFlyingCharacter`: 스스로 비행하는 캐릭터 클래스\n",
    "\n",
    "등과 같은 여러 개의 클래스를 구현하고 필요한 클래스를 상속하여 캐릭터 인스턴스를 생성하는 것이다.\n",
    "즉, 아이언맨, 팔콘, 토르를 각각 \n",
    "`RockerFlyingCharacter`, \n",
    "`WingFlyingCharacter`, \n",
    "`SelfFlyingCharacter`\n",
    "클래스의 인스턴스로 생성하는 것이다.\n",
    "\n",
    "그런데 이런 방식은 한 가지 문제를 갖는다.\n",
    "바로 비행 방식이 캐릭터 인스턴스를 생성할 때 고정된다는 것이다.\n",
    "예를 들어, 스스로 비행하는 캐릭터가 중간에 로켓 장치를 이용할 수 밖에 없는 상황에 처하면\n",
    "비행 방식을 바꾸어야 하는데 이런 것을 매번 따로 처리해야 한다. \n",
    "아마도 새로운 도구나 장치를 이용하는 기능을 캐릭터에 추가해야 할 것이다.\n",
    "하지만 이방식을 사용하려면 기존에 사용했던 클래스 자체를 수정해야 한다.\n",
    "\n",
    "반면에 만약에 상황에 따라 동적으로 비행 방식을 바꿀 수 있다면 \n",
    "기존 클래스와 코드를 수정할 필요 없이 미리 준비된 장치만 교체하는 방식으로 \n",
    "비행 방식을 동적으로 결정할 수 있다.\n",
    "\n",
    "어떻게 하면 이런 프로그램을 작성할 수 있을까? \n",
    "바로 추상클래스와 구성 방식을 이용하면 된다."
   ]
  },
  {
   "cell_type": "markdown",
   "metadata": {},
   "source": [
    "### 추상 클래스"
   ]
  },
  {
   "cell_type": "markdown",
   "metadata": {},
   "source": [
    "**추상 클래스**(abstract class)는 구현은 되지 않고 언급만 된 메서드를 포함하는 클래스를 의미한다.\n",
    "구현이 되지 않은 메서드를 **추상 메서드**(abstract method)라 부른다.\n",
    "추상 클래스와 추상 메서드를 선언하는 기본 과정은 다음과 같다.\n",
    "\n",
    "* `abc` 모듈로부터 `ABC` 클래스와 `abstractmethod` 장식자를 불러온다.\n",
    "* `ABC` 클래스를 상속한다.\n",
    "* `@abstractmethod` 장식자를 이용하여 추상 메서드를 선언한다.\n",
    "\n",
    "예를 들어, 비행 방식과 관련된 `Flying` 이란 추상 클래스를 아래와 같이 정의하자.\n",
    "`fly()` 메서드를 추상 메서드로 선언한다."
   ]
  },
  {
   "cell_type": "code",
   "execution_count": 32,
   "metadata": {},
   "outputs": [],
   "source": [
    "from abc import ABC, abstractmethod\n",
    "\n",
    "class Flying(ABC):\n",
    "\n",
    "    @abstractmethod\n",
    "    def fly(self):\n",
    "        pass"
   ]
  },
  {
   "cell_type": "markdown",
   "metadata": {},
   "source": [
    "추상 클래스는 인스턴스 생성을 허용하지 않는다.\n",
    "먼저 모든 추상 메서드를 구현한 자식 클래스를 구현한 후에야 인스턴스를 생성할 수 있다. "
   ]
  },
  {
   "cell_type": "code",
   "execution_count": 33,
   "metadata": {},
   "outputs": [
    {
     "name": "stdout",
     "output_type": "stream",
     "text": [
      "주의: 먼저 모든 추상 메서드를 구현해야 합니다.\n"
     ]
    }
   ],
   "source": [
    "try:\n",
    "    s = Flying()\n",
    "except TypeError:\n",
    "    print(\"주의: 먼저 모든 추상 메서드를 구현해야 합니다.\")"
   ]
  },
  {
   "cell_type": "markdown",
   "metadata": {},
   "source": [
    "### 구상 클래스"
   ]
  },
  {
   "cell_type": "markdown",
   "metadata": {},
   "source": [
    "추상 클래스와 구분하기 위해 메서드를 전혀 포함하지 않은 클래스를 **구상 클래스**(concrete class)라고 부른다.\n",
    "사실 지금까지 다뤄온 모든 클래스가 구상 클래스이다. \n",
    "따라서 구상 클래스란 표현은 추상 클래스와 구분하는 용도로만 사용할 것이다.\n",
    "\n",
    "여기서는 `Flying` 추상 클래스를 상속하는 구상 클래스 세 개를 비행 방식에 따라 구현한다. "
   ]
  },
  {
   "cell_type": "markdown",
   "metadata": {},
   "source": [
    "* 로켓 장치 비행"
   ]
  },
  {
   "cell_type": "code",
   "execution_count": 34,
   "metadata": {},
   "outputs": [],
   "source": [
    "class RocketFlying(Flying):\n",
    "    def fly(self):\n",
    "        print(\"로켓으로 날아요!\")"
   ]
  },
  {
   "cell_type": "markdown",
   "metadata": {},
   "source": [
    "* 날개 비행"
   ]
  },
  {
   "cell_type": "code",
   "execution_count": 35,
   "metadata": {},
   "outputs": [],
   "source": [
    "class WingFlying(Flying):\n",
    "    def fly(self):\n",
    "        print(\"날개가 멋져요!\")"
   ]
  },
  {
   "cell_type": "markdown",
   "metadata": {},
   "source": [
    "* 스스로 비행"
   ]
  },
  {
   "cell_type": "code",
   "execution_count": 36,
   "metadata": {},
   "outputs": [],
   "source": [
    "class SelfFlying(Flying):\n",
    "    def fly(self):\n",
    "        print(\"스스로 날아요!\")"
   ]
  },
  {
   "cell_type": "markdown",
   "metadata": {},
   "source": [
    "### 구성하기"
   ]
  },
  {
   "cell_type": "code",
   "execution_count": null,
   "metadata": {},
   "outputs": [],
   "source": []
  }
 ],
 "metadata": {
  "kernelspec": {
   "display_name": "Python 3",
   "language": "python",
   "name": "python3"
  },
  "language_info": {
   "codemirror_mode": {
    "name": "ipython",
    "version": 3
   },
   "file_extension": ".py",
   "mimetype": "text/x-python",
   "name": "python",
   "nbconvert_exporter": "python",
   "pygments_lexer": "ipython3",
   "version": "3.7.6"
  }
 },
 "nbformat": 4,
 "nbformat_minor": 2
}
