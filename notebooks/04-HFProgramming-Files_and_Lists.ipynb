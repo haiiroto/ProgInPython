{
 "cells": [
  {
   "cell_type": "markdown",
   "metadata": {},
   "source": [
    "# 데이터셋 다루기: 파일과 리스트"
   ]
  },
  {
   "cell_type": "markdown",
   "metadata": {},
   "source": [
    "데이터의 양이 많아지만 데이터를 처리하는 일도 어려워진다.\n",
    "일단 처리 시간이 기하급수적으로 늘 수 있으며,\n",
    "무엇보다도 데이터셋에서 원하는 정보를 얻어내기도 보다 복잡해진다.\n",
    "\n",
    "**참고:** 데이터셋은 데이터의 집합을 가리키는 전문용어이다.\n",
    "\n",
    "여기서는 다량의 데이터를 하나로 묶어서 처리할 수 있는 두 가지 방법을 소개한다.\n",
    "\n",
    "* 데이터를 파일에 저장하고 불러오기\n",
    "* 리스트 다루기"
   ]
  },
  {
   "cell_type": "markdown",
   "metadata": {},
   "source": [
    "## 파일에 저장된 데이터 불러오기"
   ]
  },
  {
   "cell_type": "markdown",
   "metadata": {},
   "source": [
    "[results.txt](./data/results.txt) 파일은 아래 내용을 담고 있다.\n",
    "\n",
    "```\n",
    "Name  Score\n",
    "Johnny  8.65 \n",
    "Juan  9.12\n",
    "Joseph  8.45\n",
    "Stacey  7.81\n",
    "Aideen  8.05\n",
    "Zack  7.21\n",
    "Aaron  8.31\n",
    "```"
   ]
  },
  {
   "cell_type": "markdown",
   "metadata": {},
   "source": [
    "첫째 줄은 선수이름(Name)과 점수(Score)라는 항목이 표시되어 있으며,\n",
    "둘째 줄부터 총 일곱 선수의 이름과 점수가 기록되어 있다.\n",
    "위 파일의 내용을 아래와 같이 파이썬 코드로 확인할 수 있다.\n",
    "\n",
    "**주의:** `results.txt` 파일이 `data`라는 하위 디렉토리에 저장되어 있다고 가정한다.\n",
    "파일에 저장된 내용을 불러와서 확인하는 자세한 방법은 \n",
    "[파일 다루기](./PiPy04B-Files.ipynb)를 참조한다."
   ]
  },
  {
   "cell_type": "code",
   "execution_count": 4,
   "metadata": {},
   "outputs": [
    {
     "name": "stdout",
     "output_type": "stream",
     "text": [
      "Name  Score\n",
      "\n",
      "Johnny  8.65 \n",
      "\n",
      "Juan  9.12\n",
      "\n",
      "Joseph  8.45\n",
      "\n",
      "Stacey  7.81\n",
      "\n",
      "Aideen  8.05\n",
      "\n",
      "Zack  7.21\n",
      "\n",
      "Aaron  8.31\n",
      "\n"
     ]
    }
   ],
   "source": [
    "try:\n",
    "    result_f = open(\"data/results.txt\") \n",
    "except :\n",
    "    print(\"열고자 하는 파일이 존재하지 않습니다.\")\n",
    "        \n",
    "for line in result_f:                   # 각 줄 내용 출력하기\n",
    "    print(line)\n",
    "\n",
    "result_f.close()                        # 파일 닫기"
   ]
  },
  {
   "cell_type": "code",
   "execution_count": 5,
   "metadata": {},
   "outputs": [
    {
     "ename": "FileNotFoundError",
     "evalue": "[Errno 2] No such file or directory: 'data/results.txt1'",
     "output_type": "error",
     "traceback": [
      "\u001b[0;31m---------------------------------------------------------------------------\u001b[0m",
      "\u001b[0;31mFileNotFoundError\u001b[0m                         Traceback (most recent call last)",
      "\u001b[0;32m<ipython-input-5-051988cfd7b6>\u001b[0m in \u001b[0;36m<module>\u001b[0;34m\u001b[0m\n\u001b[0;32m----> 1\u001b[0;31m \u001b[0mopen\u001b[0m\u001b[0;34m(\u001b[0m\u001b[0;34m\"data/results.txt1\"\u001b[0m\u001b[0;34m)\u001b[0m\u001b[0;34m\u001b[0m\u001b[0;34m\u001b[0m\u001b[0m\n\u001b[0m",
      "\u001b[0;31mFileNotFoundError\u001b[0m: [Errno 2] No such file or directory: 'data/results.txt1'"
     ]
    }
   ],
   "source": [
    "open(\"data/results.txt1\")"
   ]
  },
  {
   "cell_type": "markdown",
   "metadata": {},
   "source": [
    "**예외처리:** \n",
    "저장된 파일 내용을 불러오는 `open` 함수를 적용할 때,\n",
    "지정된 파일이 존재하지 않은 경우을 대비해서\n",
    "[예외처리](./PiPy04D-ErrorsAndExceptions.ipynb)를\n",
    "사용하였다. "
   ]
  },
  {
   "cell_type": "markdown",
   "metadata": {},
   "source": [
    "이런 경우에는 열고자 하는 파일이 존재하지 않는다는 정보를 전달하는 것이 단순히 오류가 발생하면서 실행이 멈추는 것보다 훨씬 유익하다."
   ]
  },
  {
   "cell_type": "markdown",
   "metadata": {},
   "source": [
    "줄 사이가 넓은 이유는 파일을 작성하면서 줄바꾸기를 할 때 사용하는 엔터에 의해 줄바꾸기 기호(`\\n`)이\n",
    "각 줄의 맨 끝에 포함되어 있는데, `print` 함수 자체가 출력할 때마다 기본적으로 줄바꿈을 수행하기에\n",
    "줄바꿈을 결국 두 번하기 때문이다. \n",
    "\n",
    "따라서 줄바꾸기를 한 번 더 하는 것을 방지하기 위해서 문자열 자료형의 `strip` 메소드를 활용하여\n",
    "문자열의 양 끝에 있는 공백과 줄바꿈 기호를 없애는 것이 좋다."
   ]
  },
  {
   "cell_type": "code",
   "execution_count": 3,
   "metadata": {},
   "outputs": [
    {
     "name": "stdout",
     "output_type": "stream",
     "text": [
      "Name  Score\n",
      "Johnny  8.65\n",
      "Juan  9.12\n",
      "Joseph  8.45\n",
      "Stacey  7.81\n",
      "Aideen  8.05\n",
      "Zack  7.21\n",
      "Aaron  8.31\n"
     ]
    }
   ],
   "source": [
    "try:\n",
    "    result_f = open(\"data/results.txt\") \n",
    "except:\n",
    "    print(\"열고자 하는 파일이 존재하지 않습니다.\")\n",
    "        \n",
    "for line in result_f: \n",
    "    print(line.strip())              # strip 메소드 활용하기\n",
    "\n",
    "result_f.close() "
   ]
  },
  {
   "cell_type": "markdown",
   "metadata": {},
   "source": [
    "`strip` 메소드를 활용하여 데이터를 보다 깔끔하게 정리하는 것은 좋은 버릇이다.\n",
    "하지만 반드시 필요한 것은 아닐 수도 있기 때문에 사용여부를 판단해야 한다.\n",
    "\n",
    "예를 들어, 아래와 같이 `print` 함수 자체에서 제공하는 `sep` 옵션을 활용할 수도 있다.\n",
    "\n",
    "**주의:** `print` 함수는 다양한 옵션을 제공한다. \n",
    "가장 많이 사용되는 옵션에 대한 설명은 \n",
    "[print 명령문 출력](https://it-coco.tistory.com/entry/출력-print-sep-end)을 참조한다."
   ]
  },
  {
   "cell_type": "code",
   "execution_count": 2,
   "metadata": {},
   "outputs": [
    {
     "name": "stdout",
     "output_type": "stream",
     "text": [
      "Name  Score\n",
      "Johnny  8.65 \n",
      "Juan  9.12\n",
      "Joseph  8.45\n",
      "Stacey  7.81\n",
      "Aideen  8.05\n",
      "Zack  7.21\n",
      "Aaron  8.31\n"
     ]
    }
   ],
   "source": [
    "try:\n",
    "    result_f = open(\"data/results.txt\") \n",
    "except:\n",
    "    print(\"열고자 하는 파일이 존재하지 않습니다.\")\n",
    "        \n",
    "for line in result_f: \n",
    "    print(line, end='')              # print 명령문에서 줄바꿈을 하지 않도록 설정\n",
    "\n",
    "result_f.close() "
   ]
  },
  {
   "cell_type": "markdown",
   "metadata": {},
   "source": [
    "## 1, 2, 3등 점수 확인하기"
   ]
  },
  {
   "cell_type": "markdown",
   "metadata": {},
   "source": [
    "이제 1등 점수를 확인하고자 한다. 그런데 먼저 예외처리 기술에 대해 알아보고 넘어가자."
   ]
  },
  {
   "cell_type": "markdown",
   "metadata": {},
   "source": [
    "### 1등 점수 확인하기"
   ]
  },
  {
   "cell_type": "markdown",
   "metadata": {},
   "source": [
    "앞서 파일 내용을 확인해 보았듯 각 줄마다 선수이름과 점수가 공백을 사이로 두고 각 줄에 적혀 있다.\n",
    "따라서 아래와 같이 `split` 메소드를 활용하여 각 줄을 쪼개어 두 번째 항목을 확인할 수 있다."
   ]
  },
  {
   "cell_type": "markdown",
   "metadata": {},
   "source": [
    "#### 주의사항\n",
    "\n",
    "`split` 메소드의 기능을 확인해야 한다.\n",
    "예를 들어 `Name Score`라는 문자열을 공백을 기준으로 쪼개면 길이가 두 개의 단어로 구성된 리스트가 생성된다."
   ]
  },
  {
   "cell_type": "code",
   "execution_count": 5,
   "metadata": {},
   "outputs": [
    {
     "data": {
      "text/plain": [
       "['Name', 'Score']"
      ]
     },
     "execution_count": 5,
     "metadata": {},
     "output_type": "execute_result"
    }
   ],
   "source": [
    "'Name Score'.split()"
   ]
  },
  {
   "cell_type": "markdown",
   "metadata": {},
   "source": [
    "파일의 각 줄이 동일한 모양을 갖고 있다는 점에 착안하여 아래와 같이 각줄의 내용 중에서 점수에 해당하는 부분을\n",
    "아래와 같이 확인할 수 있다.\n",
    "\n",
    "**주의:** 리스트의 색인도 문자열의 경우처럼 0부터 시작한다. 따라서 리스트의 둘 째 항목의 색인은 1인다."
   ]
  },
  {
   "cell_type": "code",
   "execution_count": 6,
   "metadata": {},
   "outputs": [
    {
     "name": "stdout",
     "output_type": "stream",
     "text": [
      "Score\n",
      "8.65\n",
      "9.12\n",
      "8.45\n",
      "7.81\n",
      "8.05\n",
      "7.21\n",
      "8.31\n"
     ]
    }
   ],
   "source": [
    "result_f = open(\"data/results.txt\") \n",
    "\n",
    "for line in result_f: \n",
    "    record = line.split()\n",
    "    print(record[1])\n",
    "\n",
    "result_f.close() "
   ]
  },
  {
   "cell_type": "markdown",
   "metadata": {},
   "source": [
    "그런데 첫째 줄 내용은 점수를 비교하는 데에 필요없다. \n",
    "따라서 무시하는 방법을 사용하도록 하자.\n",
    "\n",
    "특정 줄을 무시하는 방법은 여러 기술이 있지만 여기서는 `try ... except ...` 명령문을 이용한 **예외처리** 기술을 활용한다."
   ]
  },
  {
   "cell_type": "markdown",
   "metadata": {},
   "source": [
    "**주의:**\n",
    "여기서 예외처리 기술을 이용하는 이유는 다음과 같다.\n",
    "* `split` 메소드로 쪼개진 값들은 모두 문자열로 처리된다.\n",
    "* 하지만 점수를 비교하기 위해서는 부동소수점으로 형변환 시키는 것이 좋다.\n",
    "* 그런데 첫째 줄에 `float` 함수를 적용하면 오류가 발생한다.\n",
    "* 따라서 오류가 발생할 때 프로그램의 실행을 멈추지 않고 다른 일을 하도록 예외처리를 해주어야 한다.\n",
    "* 아래 코드에서는 `float` 함수를 실행할 때 오류가 발생하면 무시하고 다음 줄로 넘어가는 식으로 오류처리를 하였다."
   ]
  },
  {
   "cell_type": "code",
   "execution_count": 7,
   "metadata": {},
   "outputs": [
    {
     "name": "stdout",
     "output_type": "stream",
     "text": [
      "1등 점수는 9.12 입니다.\n"
     ]
    }
   ],
   "source": [
    "result_f = open(\"data/results.txt\") \n",
    "\n",
    "highst_score = 0                   # 1등 점수 저장\n",
    "\n",
    "for line in result_f: \n",
    "    record = line.split()\n",
    "\n",
    "    try:                           # 첫줄 제외 용도\n",
    "        score = float(record[1])\n",
    "    except:\n",
    "        continue\n",
    "\n",
    "    if highst_score < score:       # 1등 점수 갱신 경우 확인\n",
    "        highst_score = score\n",
    "    else:\n",
    "        continue\n",
    "\n",
    "result_f.close() \n",
    "\n",
    "print(\"1등 점수는\", highst_score, \"입니다.\")"
   ]
  },
  {
   "cell_type": "markdown",
   "metadata": {},
   "source": [
    "### 2등 점수 확인하기\n",
    "\n",
    "2등 점수까지 확인하려면 2등 점수를 기억할 변수가 하나 더 필요하며\n",
    "확인된 점수가 기존의 1등 점수보다 큰지, 2등 점수보다 큰지 여부에 따라 1, 2등 점수를 기억하는 변수의 값들을 \n",
    "업데이트 해야 한다."
   ]
  },
  {
   "cell_type": "code",
   "execution_count": 8,
   "metadata": {},
   "outputs": [
    {
     "name": "stdout",
     "output_type": "stream",
     "text": [
      "1등 점수는 9.12 입니다.\n",
      "2등 점수는 8.65 입니다.\n"
     ]
    }
   ],
   "source": [
    "result_f = open(\"data/results.txt\") \n",
    "\n",
    "highst_score = 0\n",
    "second_highst_score = 0                    # 2등 점수 저장\n",
    "\n",
    "for line in result_f: \n",
    "    record = line.split()\n",
    "\n",
    "    try: \n",
    "        score = float(record[1])\n",
    "    except:\n",
    "        continue\n",
    "\n",
    "    if highst_score < score:               # 1, 2등 점수 갱신 경우 확인\n",
    "        second_highst_score = highst_score\n",
    "        highst_score = score\n",
    "    elif second_highst_score < score:      # 2등 점수 갱신 경우 확인\n",
    "        second_highst_score = score\n",
    "    else:\n",
    "        continue\n",
    "\n",
    "result_f.close() \n",
    "\n",
    "print(\"1등 점수는\", highst_score, \"입니다.\")\n",
    "print(\"2등 점수는\", second_highst_score, \"입니다.\")"
   ]
  },
  {
   "cell_type": "markdown",
   "metadata": {},
   "source": [
    "### 3등 점수 확인하기\n",
    "\n",
    "이제 3등 점수까지 확인하려면 코드를 더 많이 수정해야 하며, 더 많은 변수와 조건문을 사용해야 한다."
   ]
  },
  {
   "cell_type": "code",
   "execution_count": 9,
   "metadata": {},
   "outputs": [
    {
     "name": "stdout",
     "output_type": "stream",
     "text": [
      "1등 점수는 9.12 입니다.\n",
      "2등 점수는 8.65 입니다.\n",
      "3등 점수는 8.45 입니다.\n"
     ]
    }
   ],
   "source": [
    "result_f = open(\"data/results.txt\") \n",
    "\n",
    "highst_score = 0\n",
    "second_highst_score = 0\n",
    "third_highst_score = 0                          # 3등 점수 저장\n",
    "\n",
    "for line in result_f: \n",
    "    record = line.split()\n",
    "\n",
    "    try: \n",
    "        score = float(record[1])\n",
    "    except:\n",
    "        continue\n",
    "\n",
    "    if highst_score < score:                     # 1, 2, 3등 점수 갱신 확인\n",
    "        third_highst_score = second_highst_score\n",
    "        second_highst_score = highst_score\n",
    "        highst_score = score\n",
    "    elif second_highst_score < score:            # 2, 3등 점수 갱신 확인\n",
    "        third_highst_score = second_highst_score\n",
    "        second_highst_score = score\n",
    "    elif third_highst_score < score:             # 3등 점수 갱신 확인\n",
    "        third_highst_score = score        \n",
    "    else:\n",
    "        continue\n",
    "\n",
    "result_f.close() \n",
    "\n",
    "print(\"1등 점수는\", highst_score, \"입니다.\")\n",
    "print(\"2등 점수는\", second_highst_score, \"입니다.\")\n",
    "print(\"3등 점수는\", third_highst_score, \"입니다.\")"
   ]
  },
  {
   "cell_type": "markdown",
   "metadata": {},
   "source": [
    "### 나쁜 프로그래밍"
   ]
  },
  {
   "cell_type": "markdown",
   "metadata": {},
   "source": [
    "앞서 1등까지, 2등까지, 3등까지 점수를 확인하는 코드는 각자 다르며, 점처 길어지고 복잡해졌다.\n",
    "코드를 이런 식으로 구현하면 안된다.\n",
    "\n",
    "무엇보다도 원하는 등수에 따라 코드 자체가 수정되어야 하는 방식으로 프로그래밍을 하면 절대 안된다.\n",
    "그럼 어떻게 할까?\n",
    "\n",
    "앞선 코드의 근본적인 문제점은 각 선수의 점수를 따라따로 관리하기 때문에 발생한다.\n",
    "따라서 선수의 기록을 모아서 한꺼번에 처리하는 기술이 요구된다.\n",
    "여기서는 리스트 자료형을 활용하여 원하는 등수와 선수의 수에 상관없이 동일한 코드로 원하는 결과를 \n",
    "리턴하는 프로그램을 구현하고자 한다."
   ]
  },
  {
   "cell_type": "markdown",
   "metadata": {},
   "source": [
    "## 리스트 활용"
   ]
  },
  {
   "cell_type": "markdown",
   "metadata": {},
   "source": [
    "몇 등 점수를 알아내야 하는가와 상관없이 모든 질문에 답을 하는 하나의 프로그램을 리스트를 활용하여\n",
    "구현하고자 하며, 아이디어는 다음과 같다.\n",
    "\n",
    "* 서핑 대회 참가선수들의 기록만을 따로 모아 놓은 리스트를 생성한다.\n",
    "* 리스트의 항목들을 숫자크기 역순으로 정렬(sorting)한다.\n",
    "* 역순, 즉 내림차순으로 정렬된 리스트의 색인을 이용하여 원하는 등수의 점수를 확인한다."
   ]
  },
  {
   "cell_type": "code",
   "execution_count": 10,
   "metadata": {},
   "outputs": [
    {
     "name": "stdout",
     "output_type": "stream",
     "text": [
      "The top scores were:\n",
      "9.12\n",
      "8.65\n",
      "8.45\n"
     ]
    }
   ],
   "source": [
    "result_f = open(\"data/results.txt\") \n",
    "\n",
    "score_list = []                         # 점수 저장 리스트 생성\n",
    "\n",
    "for line in result_f: \n",
    "    (name, score) = line.split()        # 각 줄을 두 단어의 리스트로 쪼개기\n",
    "    try:\n",
    "        score_list.append(float(score)) # 첫째 줄 제외. 숫자만 scores 리스트에 추가\n",
    "    except:\n",
    "        continue\n",
    "\n",
    "result_f.close() \n",
    "\n",
    "score_list.sort()                       # 리스트를 크기순으로 정렬(오름차순)\n",
    "score_list.reverse()                    # 리스트의 항목들의 순서 뒤집기\n",
    "\n",
    "print(\"The top scores were:\") \n",
    "print(score_list[0])                    # 0번 색인값 = 1등 점수\n",
    "print(score_list[1])                    # 1번 색인값 = 2등 점수\n",
    "print(score_list[2])                    # 2번 색인값 = 3등 점수"
   ]
  },
  {
   "cell_type": "markdown",
   "metadata": {},
   "source": [
    "#### 주의사항\n",
    "아래 두 줄의 코드는 리스를 내림차순으로 정렬한다.\n",
    "\n",
    "```python\n",
    "score_list.sort()\n",
    "score_list.reverse()\n",
    "```\n",
    "\n",
    "위 두 줄의 코드를 아래와 같이 한 줄로 구현할 수 있다.\n",
    "\n",
    "```python\n",
    "score_list.sort(reverse=True)\n",
    "```"
   ]
  },
  {
   "cell_type": "code",
   "execution_count": 11,
   "metadata": {},
   "outputs": [
    {
     "name": "stdout",
     "output_type": "stream",
     "text": [
      "The top scores were:\n",
      "9.12\n",
      "8.65\n",
      "8.45\n"
     ]
    }
   ],
   "source": [
    "result_f = open(\"data/results.txt\") \n",
    "\n",
    "score_list = []                        \n",
    "\n",
    "for line in result_f: \n",
    "    (name, score) = line.split()       \n",
    "    try:\n",
    "        score_list.append(float(score))\n",
    "    except:\n",
    "        continue\n",
    "\n",
    "result_f.close() \n",
    "\n",
    "score_list.sort(reverse=True)           # 리스트를 내림차순으로 정렬\n",
    "\n",
    "print(\"The top scores were:\") \n",
    "print(score_list[0])   \n",
    "print(score_list[1])   \n",
    "print(score_list[2])   "
   ]
  },
  {
   "cell_type": "markdown",
   "metadata": {},
   "source": [
    "## 함수 활용"
   ]
  },
  {
   "cell_type": "markdown",
   "metadata": {},
   "source": [
    "앞서 살펴본 코드를 함수로 추상화하면 원하는 등수의 점수를 함수호출로 간단하게 확인할 수 있다."
   ]
  },
  {
   "cell_type": "code",
   "execution_count": 12,
   "metadata": {},
   "outputs": [],
   "source": [
    "def ranking(rank):                        # 원하는 등수를 인자로 사용\n",
    "    result_f = open(\"data/results.txt\") \n",
    "\n",
    "    score_list = [] \n",
    "\n",
    "    for line in result_f: \n",
    "        (name, score) = line.split() \n",
    "        try:\n",
    "            score_list.append(float(score)) \n",
    "        except:\n",
    "            continue\n",
    "    result_f.close() \n",
    "\n",
    "    score_list.sort(reverse=True) \n",
    "    \n",
    "    return score_list[rank-1]               # 원하는 등수의 점수 리턴"
   ]
  },
  {
   "cell_type": "markdown",
   "metadata": {},
   "source": [
    "이제 1, 2, 3등 점수를 가볍게 확인 할 수 있다."
   ]
  },
  {
   "cell_type": "code",
   "execution_count": 13,
   "metadata": {},
   "outputs": [
    {
     "name": "stdout",
     "output_type": "stream",
     "text": [
      "9.12 8.65 8.45\n"
     ]
    }
   ],
   "source": [
    "print(ranking(1), ranking(2), ranking(3))"
   ]
  },
  {
   "cell_type": "markdown",
   "metadata": {},
   "source": [
    "## 예제: 파일 저장하기"
   ]
  },
  {
   "cell_type": "markdown",
   "metadata": {},
   "source": [
    "아래 내용을 `dialogues.txt` 파일에 저장하라.\n",
    "```\n",
    "Man: Is this the right room for an argument?\n",
    "Other Man: I've told you once.\n",
    "Man: No you haven't!\n",
    "Other Man: Yes I have.\n",
    "Man: When?\n",
    "Other Man: Just now.\n",
    "Man: No you didn't!\n",
    "Other Man: Yes I did!\n",
    "Man: You didn't!\n",
    "Other Man: I'm telling you, I did!\n",
    "Man: Oh look, this isn't an argument!\n",
    "(pause)\n",
    "Other Man: Yes it is!\n",
    "Man: No it isn't!\n",
    "(pause)\n",
    "Man: It's just contradiction!\n",
    "Other Man: No it isn't!\n",
    "Man: It IS!\n",
    "Other Man: It is NOT!\n",
    "Man: (exasperated) Oh, this is futile!!\n",
    "(pause)\n",
    "Other Man: No it isn't!\n",
    "Man: Yes it is!\n",
    "```\n",
    "이제 `dialogues.txt` 파일을 불러 들여서 각 역할 별 대사를 리스트로 저장하는 코드는 다음과 같다."
   ]
  },
  {
   "cell_type": "code",
   "execution_count": 14,
   "metadata": {},
   "outputs": [],
   "source": [
    "def role_words(file_name, role):\n",
    "    words = []\n",
    "\n",
    "    try:\n",
    "        data = open(file_name)\n",
    "\n",
    "        for each_line in data:\n",
    "            try:\n",
    "                line = each_line.split(':', 1)\n",
    "                line_spoken = line[1].strip()\n",
    "                if line[0] == role :\n",
    "                    words.append(line_spoken)\n",
    "            except IndexError:\n",
    "                pass\n",
    "\n",
    "        data.close()\n",
    "        return words\n",
    "    except IOError as err:\n",
    "        print('File Error: ' + str(err))"
   ]
  },
  {
   "cell_type": "code",
   "execution_count": 15,
   "metadata": {},
   "outputs": [
    {
     "data": {
      "text/plain": [
       "['Is this the right room for an argument?',\n",
       " \"No you haven't!\",\n",
       " 'When?',\n",
       " \"No you didn't!\",\n",
       " \"You didn't!\",\n",
       " \"Oh look, this isn't an argument!\",\n",
       " \"No it isn't!\",\n",
       " \"It's just contradiction!\",\n",
       " 'It IS!',\n",
       " '(exasperated) Oh, this is futile!!',\n",
       " 'Yes it is!']"
      ]
     },
     "execution_count": 15,
     "metadata": {},
     "output_type": "execute_result"
    }
   ],
   "source": [
    "role_words(\"data/dialogues.txt\", \"Man\")"
   ]
  },
  {
   "cell_type": "code",
   "execution_count": 16,
   "metadata": {},
   "outputs": [
    {
     "data": {
      "text/plain": [
       "[\"I've told you once.\",\n",
       " 'Yes I have.',\n",
       " 'Just now.',\n",
       " 'Yes I did!',\n",
       " \"I'm telling you, I did!\",\n",
       " 'Yes it is!',\n",
       " \"No it isn't!\",\n",
       " 'It is NOT!',\n",
       " \"No it isn't!\"]"
      ]
     },
     "execution_count": 16,
     "metadata": {},
     "output_type": "execute_result"
    }
   ],
   "source": [
    "role_words(\"data/dialogues.txt\", \"Other Man\")"
   ]
  },
  {
   "cell_type": "markdown",
   "metadata": {},
   "source": [
    "## 심화예제"
   ]
  },
  {
   "cell_type": "markdown",
   "metadata": {},
   "source": [
    "서핑 대회에 참가한 선수들의 기록을 다룬 파일보다 좀 더 많은 정보를 포함한\n",
    "데이터 파일을 분석하고자 한다.\n",
    "\n",
    "파일에 좀 더 많은 내용이 담겨 있기는 하지만 사용하는 기술은 별로 차이 없다."
   ]
  },
  {
   "cell_type": "markdown",
   "metadata": {},
   "source": [
    "### 토끼, 스라소니, 당근의 개체수 조사 데이터"
   ]
  },
  {
   "cell_type": "markdown",
   "metadata": {},
   "source": [
    "1900년부터 1920년까지 매년 토끼(rabbit), 스라소니(lynx), 당근(carrot)의 개체수를 조사한 자료가 \n",
    "[population.txt](https://github.com/liganega/bpp/blob/master/notes/data/populations.txt)\n",
    "파일에 저장되어 있다.\n",
    "파일 내용을 확인하면 다음과 같다.\n",
    "\n",
    "**주의:** `population.txt` 파일이 `data`라는 하위 디렉토리에 저장되어 있다고 가정한다."
   ]
  },
  {
   "cell_type": "code",
   "execution_count": 17,
   "metadata": {},
   "outputs": [
    {
     "name": "stdout",
     "output_type": "stream",
     "text": [
      "# 연도\t토끼\t스라소니\t당근\n",
      "1900\t30e3\t4e3\t48300\n",
      "1901\t47.2e3\t6.1e3\t48200\n",
      "1902\t70.2e3\t9.8e3\t41500\n",
      "1903\t77.4e3\t35.2e3\t38200\n",
      "1904\t36.3e3\t59.4e3\t40600\n",
      "1905\t20.6e3\t41.7e3\t39800\n",
      "1906\t18.1e3\t19e3\t38600\n",
      "1907\t21.4e3\t13e3\t42300\n",
      "1908\t22e3\t8.3e3\t44500\n",
      "1909\t25.4e3\t9.1e3\t42100\n",
      "1910\t27.1e3\t7.4e3\t46000\n",
      "1911\t40.3e3\t8e3\t46800\n",
      "1912\t57e3\t12.3e3\t43800\n",
      "1913\t76.6e3\t19.5e3\t40900\n",
      "1914\t52.3e3\t45.7e3\t39400\n",
      "1915\t19.5e3\t51.1e3\t39000\n",
      "1916\t11.2e3\t29.7e3\t36700\n",
      "1917\t7.6e3\t15.8e3\t41800\n",
      "1918\t14.6e3\t9.7e3\t43300\n",
      "1919\t16.2e3\t10.1e3\t41300\n",
      "1920\t24.7e3\t8.6e3\t47300\n"
     ]
    }
   ],
   "source": [
    "with open('data/populations.txt') as pop_file:\n",
    "    for line in pop_file:\n",
    "        print(line.strip())        # strip 메소드 활용"
   ]
  },
  {
   "cell_type": "markdown",
   "metadata": {},
   "source": [
    "위 코드에서 에를 들어 `47.2e3` 모양의 의미는 다음과 같다.\n",
    "\n",
    "> 47.2 곱하기 10의 3승\n",
    "\n",
    "즉, 다음과 같다."
   ]
  },
  {
   "cell_type": "code",
   "execution_count": 18,
   "metadata": {},
   "outputs": [
    {
     "data": {
      "text/plain": [
       "True"
      ]
     },
     "execution_count": 18,
     "metadata": {},
     "output_type": "execute_result"
    }
   ],
   "source": [
    "47.2e3 == 47.2 * 1000"
   ]
  },
  {
   "cell_type": "code",
   "execution_count": 19,
   "metadata": {},
   "outputs": [
    {
     "name": "stdout",
     "output_type": "stream",
     "text": [
      "47200.0\n"
     ]
    }
   ],
   "source": [
    "print(47.2e3)"
   ]
  },
  {
   "cell_type": "markdown",
   "metadata": {},
   "source": [
    "### 당근 개체수의 최대값 구하기"
   ]
  },
  {
   "cell_type": "markdown",
   "metadata": {},
   "source": [
    "이제 당근 개체수가 가장 많았을 때의 값을 알아내고자 하며, \n",
    "앞서 사용한 기술을 그대로 따라하기 위해 `split` 메소드를 활용한다. \n",
    "\n",
    "`results.txt` 파일과의 차이점은 두 가지이다.\n",
    "\n",
    "* 맨 윗줄에 항목에 대한 설명이 있지만 주석을 의미하는 샵(`#`) 기호로 시작한다.\n",
    "    이 특징을 활용하여 예외처리 대신에 조건문을 사용할 수 있다.\n",
    "* 각 줄별로 세 개의 공백이 사용되어서, `split` 메소드를 실행하면 \n",
    "    네 개의 문자열로 쪼개질 것이며 따라서 길이가 4인 리스트가 생성된다."
   ]
  },
  {
   "cell_type": "markdown",
   "metadata": {},
   "source": [
    "#### 주의사항\n",
    "\n",
    "아래 코드에서 사용된 아래 양식에 주의하라.\n",
    "\n",
    "```python\n",
    "with open('파일명') as 변수명:\n",
    "    코드\n",
    "```\n",
    "\n",
    "위 양식은 다음 모양의 코드와 동일한 내용이다.\n",
    "\n",
    "```python\n",
    "변수명 = open('파일명')\n",
    "코드\n",
    "변수명.close()\n",
    "```\n",
    "\n",
    "즉, `'with open('파일명') as 변수명'` 방식은 \n",
    "파일의 활용이 끝났으면 `'변수명.close()'`를 반드시 실행하도록 강요한 \n",
    "양식에 불과하다."
   ]
  },
  {
   "cell_type": "code",
   "execution_count": 20,
   "metadata": {},
   "outputs": [
    {
     "name": "stdout",
     "output_type": "stream",
     "text": [
      "토끼 개체수의 최대값은 77400.0 이다.\n"
     ]
    }
   ],
   "source": [
    "with open('data/populations.txt') as pop_file:           # 파일 열기\n",
    "    rabbits = []                                         # 토끼 개체수 저장 리스트 선언\n",
    "\n",
    "    for line in pop_file:\n",
    "        if line.startswith('#'):                         # 샵으로 시작하는 맨 윗줄 건너뛰기\n",
    "            continue\n",
    "        else:\n",
    "            (year, rabbit, lynx, carrot) = line.split()  # 각 줄은 네 개의 숫자로 쪼개짐\n",
    "            rabbits.append(float(rabbit))                # 토끼 개체수만 저장함\n",
    "\n",
    "rabbits.sort(reverse=True)                               # 내림차순으로 항목 정렬\n",
    "\n",
    "print(\"토끼 개체수의 최대값은\", rabbits[0] ,\"이다.\")"
   ]
  },
  {
   "cell_type": "markdown",
   "metadata": {},
   "source": [
    "### 함수화"
   ]
  },
  {
   "cell_type": "markdown",
   "metadata": {},
   "source": [
    "위 코드를 응용하여 연도별 토끼 개체수를 리턴하는 `rabbit_number` 함수를 구현할 수 있다.\n",
    "아래 사항에 주의해야 한다.\n",
    "\n",
    "* 연도별로 토끼 개체수를 확인하려면 정렬(sorting)을 사용하지 말아야 한다.\n",
    "* 인자로 1900 ~ 1920 사이의 값이 사용된다.\n",
    "    * 1900년도 토끼의 개체수는 0번 색인을 가진다.\n",
    "    * 1920년도 토끼의 개체수는 20번 색인을 가진다.\n",
    "    * 일반화: 19xx년도 토끼의 대체수는 (19xx-1900)번 색인을 가진다."
   ]
  },
  {
   "cell_type": "code",
   "execution_count": 21,
   "metadata": {},
   "outputs": [],
   "source": [
    "def rabbit_number(yr):\n",
    "    with open('data/populations.txt') as pop_file:\n",
    "        rabbits = []                          \n",
    "\n",
    "        for line in pop_file:\n",
    "            if line.startswith('#'):              \n",
    "                continue\n",
    "            else:\n",
    "                (year, rabbit, lynx, carrot) = line.split() \n",
    "                rabbits.append(float(rabbit))           \n",
    "    \n",
    "    return rabbits[yr-1900]      # 연도에서 1900을 빼야 해당연도의 색인이 됨"
   ]
  },
  {
   "cell_type": "code",
   "execution_count": 22,
   "metadata": {},
   "outputs": [
    {
     "data": {
      "text/plain": [
       "30000.0"
      ]
     },
     "execution_count": 22,
     "metadata": {},
     "output_type": "execute_result"
    }
   ],
   "source": [
    "rabbit_number(1900)"
   ]
  },
  {
   "cell_type": "code",
   "execution_count": 23,
   "metadata": {},
   "outputs": [
    {
     "data": {
      "text/plain": [
       "24700.0"
      ]
     },
     "execution_count": 23,
     "metadata": {},
     "output_type": "execute_result"
    }
   ],
   "source": [
    "rabbit_number(1920)"
   ]
  },
  {
   "cell_type": "code",
   "execution_count": 24,
   "metadata": {},
   "outputs": [
    {
     "data": {
      "text/plain": [
       "40300.0"
      ]
     },
     "execution_count": 24,
     "metadata": {},
     "output_type": "execute_result"
    }
   ],
   "source": [
    "rabbit_number(1911)"
   ]
  },
  {
   "cell_type": "markdown",
   "metadata": {},
   "source": [
    "## 연습문제"
   ]
  },
  {
   "cell_type": "markdown",
   "metadata": {},
   "source": [
    "1. 2등 점수를 확인하는 코드를 아래와 같이 구현할 경우 어떤 문제가 발생하는지 설명하라.\n",
    "```python\n",
    "result_f = open(\"data/results.txt\") \n",
    "highst_score = 0\n",
    "second_highst_score = 0                    # 2등 점수 저장\n",
    "for line in result_f: \n",
    "     record = line.split()\n",
    "     try: \n",
    "        score = float(record[1])\n",
    "     except:\n",
    "        continue\n",
    "     if highst_score < score:               # 1, 2등 점수 갱신 경우 확인\n",
    "        highst_score = score\n",
    "     elif second_highst_score < score:      # 2등 점수 갱신 경우 확인\n",
    "        second_highst_score = score\n",
    "     else:\n",
    "        continue\n",
    "result_f.close() \n",
    "print(\"2등 점수는\", second_highst_score, \"입니다.\")\n",
    "```\n",
    "<br>\n",
    "1. `max` 함수를 이용하여 `ranking` 함수를 구현하라.\n",
    "    <br><br>\n",
    "1. `ranking` 함수를 자바 언어로 구현하라.\n",
    "    <br><br>\n",
    "1. `rabbit_number` 함수를 예를 들어 1921을 인자로 사용하여 호출하면 오류가 발생한다. \n",
    "    `rabbit_number` 함수를 아래 조건이 만족되도록 수정하라.\n",
    "    * 예외처리를 이용하여 1900~1920을 벗어나는 년도를 인자로 사용하면 아래 문자열이 출력되도록 한다. \n",
    "\n",
    "    > \"해당년도 데이터가 존재하지 않습니다.\"\n",
    "\n",
    "1. 당근의 연도별 개체수를 리턴하는 `carrot_number` 함수를 구현하라.\n",
    "    <br><br>\n",
    "1. `continue`, `break`, `pass` 세 계의 특별한 명령문의 이해를 도와주는 문제이다.\n",
    "    1. `for` 또는 `while` 반복문에서 사용될 수 있는 `continue`와 `break`의 기능을 예를 들어 설명하라.\n",
    "    1. `continue`와 `pass`의 차이점을 예를 들어 설명하라.\n",
    "    <br><br>\n",
    "1. 아래 문장들을 `sketch1.txt` 파일에 저장한다. \n",
    "```\n",
    "Man: Is this the right room for an argument? \n",
    "Other Man: Oh I'm sorry: or the full half hour? \n",
    "(pause)\n",
    "Man: Ah! Just the five minutes.\n",
    "```\n",
    "`sketch1.txt` 파일에 저장된 문장들을 읽어 들인 후 아래 처럼 출력하도록 한다. \n",
    "```\n",
    "Man said:  Is this the right room for an argument? \n",
    "Other Man said:  Oh I'm sorry: or the full half hour? \n",
    "Man said:  Ah! Just the five minutes.\n",
    "```\n",
    "    ##### 힌트\n",
    "    * 파일을 읽어 들이기 위해 open 함수 이용\n",
    "    * split 메소드 활용. 단, split 메소드 옵션에 주의한다.\n",
    "        (두 번째 줄 문장에 콜론(`':'`) 기호가 두 번 들어가 있음에 주의한다.\n",
    "        옵션을 1로 주어야 한다.)\n",
    "    * 셋째 줄은 \":\" 기호를 갖지 않음에 주의한다.\n",
    "        따라서 `split(':')`이 이 경우 에러를 발생시킨다.\n",
    "        이 경우를 대비해서 `try ..., except ...`  를 활용할 수 있다.\n",
    "    <br><br>\n",
    "1. 앞서 예제에서 다룬 `role_words` 함수를 수정하여 각 역할별 대사를 각각 \n",
    "    `dialogues_Man.txt`와 `dialogues_Other.txt` 파일에 \n",
    "    저장하는 함수인 `role_texts` 함수를 구현하라."
   ]
  }
 ],
 "metadata": {
  "kernelspec": {
   "display_name": "Python 3",
   "language": "python",
   "name": "python3"
  },
  "language_info": {
   "codemirror_mode": {
    "name": "ipython",
    "version": 3
   },
   "file_extension": ".py",
   "mimetype": "text/x-python",
   "name": "python",
   "nbconvert_exporter": "python",
   "pygments_lexer": "ipython3",
   "version": "3.6.8"
  }
 },
 "nbformat": 4,
 "nbformat_minor": 2
}
