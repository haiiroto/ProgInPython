{
 "cells": [
  {
   "cell_type": "markdown",
   "metadata": {},
   "source": [
    "## 코드 추상화: 클래스와 객체 2부"
   ]
  },
  {
   "cell_type": "markdown",
   "metadata": {},
   "source": [
    "안내: [python-textbook.readthedocs.io의 Classes](https://python-textbok.readthedocs.io/en/1.0/Classes.html#class-attributes) 내용을 요약 및 수정한 내용입니다."
   ]
  },
  {
   "cell_type": "markdown",
   "metadata": {},
   "source": [
    "## 클래스 장식자"
   ]
  },
  {
   "cell_type": "markdown",
   "metadata": {},
   "source": [
    "**장식자**(decorator)는 다른 함수의 기능에 다른 기능을 추가할 때 사용되는 함수이다.\n",
    "즉, 장식자는 함수를 인자로 받아 그 함수가 하는 일에 더해 다른 기능도\n",
    "수행하는 함수를 리턴값으로 내준다.\n",
    "이런 장식자를 함수로 정의할 수 있는 이유는 함수가 제1종 객체이기 때문이다.\n",
    "즉, 다른 함수의 인자 또는 리턴값으로 사용될 수 있다.\n",
    "\n",
    "파이썬에서 제공하는 장식자가 매우 다양하며, 사용자가 직접 장식자를 정의할 수도 있다.\n",
    "여기서는 클래스에서 선언된 메서드의 종류를 구분하기 위해 사용되는 \n",
    "두 개의 장식자\n",
    "`@classmethod`와 `@staticmethod`를 소개한다. "
   ]
  },
  {
   "cell_type": "markdown",
   "metadata": {},
   "source": [
    "### 메서드 종류"
   ]
  },
  {
   "cell_type": "markdown",
   "metadata": {},
   "source": [
    "클래스에서 선언된 메서드는 세 종류로 나뉜다.\n",
    "\n",
    "1. 인스턴스 메서드(instance method)\n",
    "    * 첫째 매개변수로 `self` 사용 (관례)\n",
    "    * 클래스의 인스턴스가 생성된 후에 인스턴스와 함께 사용.\n",
    "1. 클래스 메서드(class method)\n",
    "    * 첫째 매개변수로 `cls` 사용 (관례)\n",
    "    * 클래스 내의 모든 속성과 메서드를 `cls` 지정자와 함께 사용 가능\n",
    "        단, 인스턴스 속성 사용 불가.\n",
    "    * 인스턴스 없이 클래스 이름과 함께 사용\n",
    "    * 해당 클래스의 모든 인스턴스에서도 사용 가능\n",
    "1. 정적 메서드(static method)\n",
    "    * 첫째 매개변수에 대한 의무사항 없음.\n",
    "    * 클래스 내의 모든 속성과 메서드를 클래스 이름을 지정자로 사용하여 사용해야 함.\n",
    "        단, 인스턴스 속성 사용 불가.\n",
    "    * 인스턴스 없이 클래스 이름과 함께 사용\n",
    "    * 해당 클래스의 모든 인스턴스에서도 사용 가능\n",
    "    \n",
    "`self`를 첫째 매개변수로 사용하는 인스턴스 메서드는 특별한 장식자가 필요 없다.\n",
    "예를 들어, \n",
    "[코드 추상화: 클래스와 객체 2부](https://github.com/liganega/ProgInPython/blob/master/notebooks/PiPy08-ClassesAndInstances_Part1.ipynb)에서 \n",
    "살펴본 모든 메서드는 인스턴스 메서드이다. \n",
    "반면에 클래스 메서드와 정적 메서드는 항상 장식자와 함께 선언된다."
   ]
  },
  {
   "cell_type": "markdown",
   "metadata": {},
   "source": [
    "### 클래스 메서드 장식자: `@classmethod`"
   ]
  },
  {
   "cell_type": "markdown",
   "metadata": {},
   "source": [
    "클래스의 인스턴스를 생성하지 않아도 클래스 이름과 함께 사용할 수 있는 \n",
    "메서드를 **클래스 메서드**(class method)라 부르며,\n",
    "`@classmethod`라는 장식자와 함께 선언된다. \n",
    "\n",
    "```python\n",
    "@classmethod\n",
    "def 함수이름(cls,인자1, ..., 인자k):\n",
    "    본문\n",
    "```\n",
    "\n",
    "클래스 메서드 역시 첫째 인자로 해당 클래스를 받을 준비를 하는 매개변수를 반드시 사용해야 한다.\n",
    "하지만 `self` 대신에 클래스(class) 자체를 가리킨다는 의미로 `cls`를 관례적으로 사용한다. \n",
    "클래스 메서드를 호출하면 `cls`에 호출 당산자가 누구인가에 따라 \n",
    "해당 클래스 이름 또는 인스턴스 이름이 자동으로 삽입된다.\n",
    "즉, 클래스 메서드를 호출할 때 또한 첫째 인자는 생략한다. \n",
    "\n",
    "클래스 메서드를 선언할 때 사용되는 `cls` 매개변수는 클래스 자신을 가리키는 \n",
    "지정자 역할을 수행한다. \n",
    "따라서 클래스 메서드 내부에서는 인스턴스 속성과 인스턴스 메서드를 활용하지 못한다. "
   ]
  },
  {
   "cell_type": "markdown",
   "metadata": {},
   "source": [
    "#### 클래스 메서드 활용법"
   ]
  },
  {
   "cell_type": "markdown",
   "metadata": {},
   "source": [
    "클래스 메서드를 사용하는 이유는 크게 두 가지이다. \n",
    "\n",
    "첫째, 상수(constant)나 클래스 속성을 직접 활용하고자 할 때 유용하다.\n",
    "이는 상수와 클래스 속성을 활용하기 위해 특정 객체가 필요하지 않기 때문이다. \n",
    "또한 경우에 따라 연관된 상수나 함수들을 하나로 클래스로 묶어서 활용할 수도 있다.\n",
    "이런 경우 굳이 객체를 생성할 필요가 없다. "
   ]
  },
  {
   "cell_type": "code",
   "execution_count": 1,
   "metadata": {},
   "outputs": [
    {
     "name": "stdout",
     "output_type": "stream",
     "text": [
      "['Mr', 'Mrs', 'Ms']\n",
      "['Mrs', 'Ms']\n"
     ]
    }
   ],
   "source": [
    "class Title:\n",
    "    TITLES = ('Dr', 'Mr', 'Mrs', 'Ms')\n",
    "\n",
    "    @classmethod\n",
    "    def allowed_titles_starting_with(cls, startswith):\n",
    "        # startwith로 시작하는 타이틀 찾기\n",
    "        return [t for t in cls.TITLES if t.startswith(startswith)]\n",
    "\n",
    "    @classmethod\n",
    "    def allowed_titles_ending_with(cls, endswith):\n",
    "        # endswith로 끝나는 타이틀 찾기\n",
    "        return [t for t in cls.TITLES if t.endswith(endswith)]\n",
    "\n",
    "\n",
    "print(Title.allowed_titles_starting_with(\"M\"))\n",
    "print(Title.allowed_titles_ending_with(\"s\"))"
   ]
  },
  {
   "cell_type": "markdown",
   "metadata": {},
   "source": [
    "둘째, 리턴값으로 해당 클래스의 인스턴스를 생성하는 클래스 메서드를 사용하는 경우가 종종 있다.\n",
    "이렇게 하면 해당 클래스의 인스턴스를 생성하기 위한 준비사항을 이 클래스 메서드가 알아서 처리해준다. \n",
    "예를 들어, 아래 `Person` 클래스의 `from_text_file` 메서드는 \n",
    "특정 텍스트 파일에 저장된 정보를 확인한 후 그 정보를 적절히 활용하여\n",
    "`Person` 클래스의 인스턴스를 생성해준다. "
   ]
  },
  {
   "cell_type": "code",
   "execution_count": 2,
   "metadata": {},
   "outputs": [
    {
     "name": "stdout",
     "output_type": "stream",
     "text": [
      "Jane\n",
      "Doe\n"
     ]
    }
   ],
   "source": [
    "class Person:\n",
    "\n",
    "    def __init__(self, name, surname):\n",
    "        self.name = name\n",
    "        self.surname = surname\n",
    "\n",
    "    @classmethod\n",
    "    def fromDict(cls, nameDict):\n",
    "        # {'이름': 'Jane', '성': 'Doe'} 형식의 사전 자료형에서\n",
    "        # 이름과 성 정보를 추출해서 Person 클래스 객체 생성\n",
    "        params = nameDict.values()\n",
    "        return cls(*params)\n",
    "    \n",
    "janeDoe = {'이름':'Jane', '성':'Doe'}\n",
    "\n",
    "jDoe = Person.fromDict(janeDoe)\n",
    "\n",
    "print(jDoe.name)\n",
    "print(jDoe.surname)"
   ]
  },
  {
   "cell_type": "markdown",
   "metadata": {},
   "source": [
    "### 정적 메서드 장식자: `@staticmethod`"
   ]
  },
  {
   "cell_type": "markdown",
   "metadata": {},
   "source": [
    "정적 메서드는 클래스나 인스터를 지정하는 인자를 사용하지 않는다.\n",
    "따라서 일반 함수를 선언하는 것과 완벽하게 동일하다.\n",
    "다만, 클래스 내부에서 선언되었기 때문에 항상 해당 클래스의 이름을 \n",
    "지정자로 사용하여 호출된다. \n",
    "\n",
    "또한 정적 메서드의 본문에서 해당 클래스의 인스턴스 속성과 인스턴스 메서드는\n",
    "전혀 활용되지 못한다.\n",
    "해당 클래스의 클래스 메서드는 클래스의 이름을 직접 지정하여 사용해야 한다.\n",
    "반면에 인스턴스 메서드는 클래스 메서드와 정적 메서드를 모두 활용할 수 있다. \n",
    "\n",
    "결론적으로, 클래스 메서드의 선언 및 활용 방식과 거의 동일하다. \n",
    "다만, 정적 메서드는 클래스를 지정할 때 `cls` 대신에 해당 클래스의 이름을 직접\n",
    "언급해야 한다는 차이점이 있을 뿐이다.\n",
    "\n",
    "아래 예제가 세 종류의 메서드 활용법을 잘 보여준다. "
   ]
  },
  {
   "cell_type": "code",
   "execution_count": 3,
   "metadata": {},
   "outputs": [
    {
     "name": "stdout",
     "output_type": "stream",
     "text": [
      "Jane Smith\n",
      "['Mr', 'Mrs', 'Ms']\n",
      "['Mr', 'Mrs', 'Ms']\n",
      "['Mrs', 'Ms']\n",
      "['Mrs', 'Ms']\n"
     ]
    }
   ],
   "source": [
    "class Person:\n",
    "    TITLES = ('Dr', 'Mr', 'Mrs', 'Ms')\n",
    "\n",
    "    def __init__(self, name, surname):\n",
    "        self.name = name\n",
    "        self.surname = surname\n",
    "\n",
    "    # 인스턴스 메서드\n",
    "    def fullname(self):\n",
    "        return \"%s %s\" % (self.name, self.surname)\n",
    "\n",
    "    # 클래스 메서드\n",
    "    @classmethod\n",
    "    def allowed_titles_starting_with(cls, startswith):\n",
    "        return [t for t in cls.TITLES if t.startswith(startswith)]\n",
    "\n",
    "    # 정적 메서드\n",
    "    @staticmethod\n",
    "    def allowed_titles_ending_with(endswith):\n",
    "        return [t for t in Person.TITLES if t.endswith(endswith)]\n",
    "\n",
    "\n",
    "jane = Person(\"Jane\", \"Smith\")\n",
    "\n",
    "print(jane.fullname())\n",
    "\n",
    "print(jane.allowed_titles_starting_with(\"M\"))\n",
    "print(Person.allowed_titles_starting_with(\"M\"))\n",
    "\n",
    "print(jane.allowed_titles_ending_with(\"s\"))\n",
    "print(Person.allowed_titles_ending_with(\"s\"))"
   ]
  },
  {
   "cell_type": "markdown",
   "metadata": {},
   "source": [
    "### 연습 4"
   ]
  },
  {
   "cell_type": "markdown",
   "metadata": {},
   "source": [
    "1. 다음 속성과 메서드를 포함하는 클래스 `Numbers`를 정의하라.  \n",
    "    * `MULTIPLIER`: 클래스 속성\n",
    "    * `__init__` 메서드: 숫자 두 개를 입력받아 각각 인스턴스 속성 `x`와 `y`로 저장.\n",
    "    1. `add`: 인스턴스 메서드. `x`와 `y`의 합 내주기\n",
    "    1. `multiply`: 클래스 메서드. 하나의 숫자 `a`를 입력 받아 `MULTIPLIER`와 곱센 결과 내주기\n",
    "    1. `subtract`: 정적 메서드. `b`와 `c` 숫자 두 개를 입력 받아 `b-c` 내주기"
   ]
  },
  {
   "cell_type": "code",
   "execution_count": 4,
   "metadata": {},
   "outputs": [],
   "source": [
    "class Numbers:\n",
    "    MULTIPLIER = 3.5\n",
    "\n",
    "    def __init__(self, x, y):\n",
    "        self.x = x\n",
    "        self.y = y\n",
    "\n",
    "    def add(self):\n",
    "        return self.x + self.y\n",
    "\n",
    "    @classmethod\n",
    "    def multiply(cls, a):\n",
    "        return cls.MULTIPLIER * a\n",
    "\n",
    "    @staticmethod\n",
    "    def subtract(b, c):\n",
    "        return b - c"
   ]
  },
  {
   "cell_type": "code",
   "execution_count": 5,
   "metadata": {},
   "outputs": [
    {
     "name": "stdout",
     "output_type": "stream",
     "text": [
      "7\n",
      "14.0\n",
      "14.0\n",
      "5\n",
      "5\n"
     ]
    }
   ],
   "source": [
    "twoAndfive = Numbers(2,5)\n",
    "\n",
    "print(twoAndfive.add())\n",
    "\n",
    "print(Numbers.multiply(4))\n",
    "print(twoAndfive.multiply(4))\n",
    "\n",
    "print(Numbers.subtract(7, 2))\n",
    "print(twoAndfive.subtract(7,2))"
   ]
  },
  {
   "cell_type": "markdown",
   "metadata": {},
   "source": [
    "## 매직 메서드"
   ]
  },
  {
   "cell_type": "code",
   "execution_count": null,
   "metadata": {},
   "outputs": [],
   "source": []
  },
  {
   "cell_type": "code",
   "execution_count": null,
   "metadata": {},
   "outputs": [],
   "source": []
  },
  {
   "cell_type": "markdown",
   "metadata": {},
   "source": [
    "## 매직 메서드 재정의"
   ]
  },
  {
   "cell_type": "code",
   "execution_count": null,
   "metadata": {},
   "outputs": [],
   "source": []
  },
  {
   "cell_type": "code",
   "execution_count": null,
   "metadata": {},
   "outputs": [],
   "source": []
  }
 ],
 "metadata": {
  "kernelspec": {
   "display_name": "Python 3",
   "language": "python",
   "name": "python3"
  },
  "language_info": {
   "codemirror_mode": {
    "name": "ipython",
    "version": 3
   },
   "file_extension": ".py",
   "mimetype": "text/x-python",
   "name": "python",
   "nbconvert_exporter": "python",
   "pygments_lexer": "ipython3",
   "version": "3.7.3"
  }
 },
 "nbformat": 4,
 "nbformat_minor": 2
}
