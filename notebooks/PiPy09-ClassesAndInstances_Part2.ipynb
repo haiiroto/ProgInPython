{
 "cells": [
  {
   "cell_type": "markdown",
   "metadata": {},
   "source": [
    "## 코드 추상화: 클래스와 객체 2부"
   ]
  },
  {
   "cell_type": "markdown",
   "metadata": {},
   "source": [
    "안내: [python-textbook.readthedocs.io의 Classes](https://python-textbok.readthedocs.io/en/1.0/Classes.html#) 내용을 요약 및 수정한 내용입니다."
   ]
  },
  {
   "cell_type": "markdown",
   "metadata": {},
   "source": [
    "## 클래스 장식자"
   ]
  },
  {
   "cell_type": "markdown",
   "metadata": {},
   "source": [
    "**장식자**(decorator)는 다른 함수의 기능에 다른 기능을 추가할 때 사용되는 함수이다.\n",
    "즉, 장식자는 함수를 인자로 받아 그 함수가 하는 일에 더해 다른 기능도\n",
    "수행하는 함수를 리턴값으로 내준다.\n",
    "이런 장식자를 함수로 정의할 수 있는 이유는 함수가 제1종 객체이기 때문이다.\n",
    "즉, 다른 함수의 인자 또는 리턴값으로 사용될 수 있다.\n",
    "\n",
    "**참고:** 장식자를 기존의 함수에 유용한 추가기능을 제공하여\n",
    "포장한다는 의미에서 **래퍼**(wrapper)의 일종으로\n",
    "간주하기도 한다. \n",
    "\n",
    "파이썬에서 기본으로 제공하는 장식자가 매우 다양하며, 사용자가 직접 장식자를 정의할 수도 있다.\n",
    "여기서는 클래스에서 선언된 메서드의 종류를 구분하기 위해 사용되는 \n",
    "두 개의 장식자\n",
    "`@classmethod`와 `@staticmethod`를 소개한다. "
   ]
  },
  {
   "cell_type": "markdown",
   "metadata": {},
   "source": [
    "### 메서드 종류"
   ]
  },
  {
   "cell_type": "markdown",
   "metadata": {},
   "source": [
    "클래스에서 선언된 메서드는 세 종류로 나뉜다.\n",
    "\n",
    "1. 인스턴스 메서드(instance method)\n",
    "    * 첫째 매개변수로 `self` 사용 (관례)\n",
    "    * 클래스의 인스턴스가 생성된 후에 인스턴스와 함께 사용.\n",
    "1. 클래스 메서드(class method)\n",
    "    * 첫째 매개변수로 `cls` 사용 (관례)\n",
    "    * 클래스 내의 모든 속성과 메서드를 `cls` 지정자와 함께 사용 가능\n",
    "        단, 인스턴스 속성 사용 불가.\n",
    "    * 인스턴스 없이 클래스 이름과 함께 사용\n",
    "    * 해당 클래스의 모든 인스턴스에서도 사용 가능\n",
    "1. 정적 메서드(static method)\n",
    "    * 첫째 매개변수에 대한 의무사항 없음.\n",
    "    * 클래스 내의 모든 속성과 메서드를 클래스 이름을 지정자로 사용하여 사용해야 함.\n",
    "        단, 인스턴스 속성 사용 불가.\n",
    "    * 인스턴스 없이 클래스 이름과 함께 사용\n",
    "    * 해당 클래스의 모든 인스턴스에서도 사용 가능\n",
    "    \n",
    "`self`를 첫째 매개변수로 사용하는 인스턴스 메서드는 특별한 장식자가 필요 없다.\n",
    "예를 들어, \n",
    "[코드 추상화: 클래스와 객체 2부](https://github.com/liganega/ProgInPython/blob/master/notebooks/PiPy08-ClassesAndInstances_Part1.ipynb)에서 \n",
    "살펴본 모든 메서드는 인스턴스 메서드이다. \n",
    "반면에 클래스 메서드와 정적 메서드는 항상 장식자와 함께 선언된다."
   ]
  },
  {
   "cell_type": "markdown",
   "metadata": {},
   "source": [
    "### 클래스 메서드 장식자: `@classmethod`"
   ]
  },
  {
   "cell_type": "markdown",
   "metadata": {},
   "source": [
    "클래스의 인스턴스를 생성하지 않아도 클래스 이름과 함께 사용할 수 있는 \n",
    "메서드를 **클래스 메서드**(class method)라 부르며,\n",
    "`@classmethod`라는 장식자와 함께 선언된다. \n",
    "\n",
    "```python\n",
    "@classmethod\n",
    "def 함수이름(cls,인자1, ..., 인자k):\n",
    "    본문\n",
    "```\n",
    "\n",
    "클래스 메서드 역시 첫째 인자로 해당 클래스를 받을 준비를 하는 매개변수를 반드시 사용해야 한다.\n",
    "하지만 `self` 대신에 클래스(class) 자체를 가리킨다는 의미로 `cls`를 관례적으로 사용한다. \n",
    "클래스 메서드를 호출하면 `cls`에 호출 당산자가 누구인가에 따라 \n",
    "해당 클래스 이름 또는 인스턴스 이름이 자동으로 삽입된다.\n",
    "즉, 클래스 메서드를 호출할 때 또한 첫째 인자는 생략한다. \n",
    "\n",
    "클래스 메서드를 선언할 때 사용되는 `cls` 매개변수는 클래스 자신을 가리키는 \n",
    "지정자 역할을 수행한다. \n",
    "따라서 클래스 메서드 내부에서는 인스턴스 속성과 인스턴스 메서드를 활용하지 못한다. "
   ]
  },
  {
   "cell_type": "markdown",
   "metadata": {},
   "source": [
    "#### 클래스 메서드 활용법"
   ]
  },
  {
   "cell_type": "markdown",
   "metadata": {},
   "source": [
    "클래스 메서드를 사용하는 이유는 크게 두 가지이다. \n",
    "\n",
    "첫째, 상수(constant)나 클래스 속성을 직접 활용하고자 할 때 유용하다.\n",
    "이는 상수와 클래스 속성을 활용하기 위해 특정 객체가 필요하지 않기 때문이다. \n",
    "또한 경우에 따라 연관된 상수나 함수들을 하나로 클래스로 묶어서 활용할 수도 있다.\n",
    "이런 경우 굳이 객체를 생성할 필요가 없다. "
   ]
  },
  {
   "cell_type": "code",
   "execution_count": 1,
   "metadata": {},
   "outputs": [
    {
     "name": "stdout",
     "output_type": "stream",
     "text": [
      "['Mr', 'Mrs', 'Ms']\n",
      "['Mrs', 'Ms']\n"
     ]
    }
   ],
   "source": [
    "class Title:\n",
    "    TITLES = ('Dr', 'Mr', 'Mrs', 'Ms')\n",
    "\n",
    "    @classmethod\n",
    "    def allowed_titles_starting_with(cls, startswith):\n",
    "        # startwith로 시작하는 타이틀 찾기\n",
    "        return [t for t in cls.TITLES if t.startswith(startswith)]\n",
    "\n",
    "    @classmethod\n",
    "    def allowed_titles_ending_with(cls, endswith):\n",
    "        # endswith로 끝나는 타이틀 찾기\n",
    "        return [t for t in cls.TITLES if t.endswith(endswith)]\n",
    "\n",
    "\n",
    "print(Title.allowed_titles_starting_with(\"M\"))\n",
    "print(Title.allowed_titles_ending_with(\"s\"))"
   ]
  },
  {
   "cell_type": "markdown",
   "metadata": {},
   "source": [
    "둘째, 리턴값으로 해당 클래스의 인스턴스를 생성하는 클래스 메서드를 사용하는 경우가 종종 있다.\n",
    "이렇게 하면 해당 클래스의 인스턴스를 생성하기 위한 준비사항을 이 클래스 메서드가 알아서 처리해준다. \n",
    "예를 들어, 아래 `Person` 클래스의 `from_text_file` 메서드는 \n",
    "특정 텍스트 파일에 저장된 정보를 확인한 후 그 정보를 적절히 활용하여\n",
    "`Person` 클래스의 인스턴스를 생성해준다. "
   ]
  },
  {
   "cell_type": "code",
   "execution_count": 2,
   "metadata": {},
   "outputs": [
    {
     "name": "stdout",
     "output_type": "stream",
     "text": [
      "Jane\n",
      "Doe\n"
     ]
    }
   ],
   "source": [
    "class Person:\n",
    "\n",
    "    def __init__(self, name, surname):\n",
    "        self.name = name\n",
    "        self.surname = surname\n",
    "\n",
    "    @classmethod\n",
    "    def fromDict(cls, nameDict):\n",
    "        # {'이름': 'Jane', '성': 'Doe'} 형식의 사전 자료형에서\n",
    "        # 이름과 성 정보를 추출해서 Person 클래스 객체 생성\n",
    "        params = nameDict.values()\n",
    "        return cls(*params)\n",
    "    \n",
    "janeDoe = {'이름':'Jane', '성':'Doe'}\n",
    "\n",
    "jDoe = Person.fromDict(janeDoe)\n",
    "\n",
    "print(jDoe.name)\n",
    "print(jDoe.surname)"
   ]
  },
  {
   "cell_type": "markdown",
   "metadata": {},
   "source": [
    "### 정적 메서드 장식자: `@staticmethod`"
   ]
  },
  {
   "cell_type": "markdown",
   "metadata": {},
   "source": [
    "정적 메서드는 클래스나 인스터를 지정하는 인자를 사용하지 않는다.\n",
    "따라서 일반 함수를 선언하는 것과 완벽하게 동일하다.\n",
    "다만, 클래스 내부에서 선언되었기 때문에 항상 해당 클래스의 이름을 \n",
    "지정자로 사용하여 호출된다. \n",
    "\n",
    "또한 정적 메서드의 본문에서 해당 클래스의 인스턴스 속성과 인스턴스 메서드는\n",
    "전혀 활용되지 못한다.\n",
    "해당 클래스의 클래스 메서드는 클래스의 이름을 직접 지정하여 사용해야 한다.\n",
    "반면에 인스턴스 메서드는 클래스 메서드와 정적 메서드를 모두 활용할 수 있다. \n",
    "\n",
    "결론적으로, 클래스 메서드의 선언 및 활용 방식과 거의 동일하다. \n",
    "다만, 정적 메서드는 클래스를 지정할 때 `cls` 대신에 해당 클래스의 이름을 직접\n",
    "언급해야 한다는 차이점이 있을 뿐이다.\n",
    "\n",
    "아래 예제가 세 종류의 메서드 활용법을 잘 보여준다. "
   ]
  },
  {
   "cell_type": "code",
   "execution_count": 3,
   "metadata": {},
   "outputs": [
    {
     "name": "stdout",
     "output_type": "stream",
     "text": [
      "Jane Smith\n",
      "['Mr', 'Mrs', 'Ms']\n",
      "['Mr', 'Mrs', 'Ms']\n",
      "['Mrs', 'Ms']\n",
      "['Mrs', 'Ms']\n"
     ]
    }
   ],
   "source": [
    "class Person:\n",
    "    TITLES = ('Dr', 'Mr', 'Mrs', 'Ms')\n",
    "\n",
    "    def __init__(self, name, surname):\n",
    "        self.name = name\n",
    "        self.surname = surname\n",
    "\n",
    "    # 인스턴스 메서드\n",
    "    def fullname(self):\n",
    "        return f\"{self.name} {self.surname}\"\n",
    "\n",
    "    # 클래스 메서드\n",
    "    @classmethod\n",
    "    def allowed_titles_starting_with(cls, startswith):\n",
    "        return [t for t in cls.TITLES if t.startswith(startswith)]\n",
    "\n",
    "    # 정적 메서드\n",
    "    @staticmethod\n",
    "    def allowed_titles_ending_with(endswith):\n",
    "        return [t for t in Person.TITLES if t.endswith(endswith)]\n",
    "\n",
    "\n",
    "jane = Person(\"Jane\", \"Smith\")\n",
    "\n",
    "print(jane.fullname())\n",
    "\n",
    "print(jane.allowed_titles_starting_with(\"M\"))\n",
    "print(Person.allowed_titles_starting_with(\"M\"))\n",
    "\n",
    "print(jane.allowed_titles_ending_with(\"s\"))\n",
    "print(Person.allowed_titles_ending_with(\"s\"))"
   ]
  },
  {
   "cell_type": "markdown",
   "metadata": {},
   "source": [
    "### 연습 4"
   ]
  },
  {
   "cell_type": "markdown",
   "metadata": {},
   "source": [
    "1. 다음 속성과 메서드를 포함하는 클래스 `Numbers`를 정의하라.  \n",
    "    * `MULTIPLIER`: 클래스 속성\n",
    "    * `__init__` 메서드: 숫자 두 개를 입력받아 각각 인스턴스 속성 `x`와 `y`로 저장.\n",
    "    * `add`: 인스턴스 메서드. `x`와 `y`의 합 내주기\n",
    "    * `multiply`: 클래스 메서드. 하나의 숫자 `a`를 입력 받아 `MULTIPLIER`와 곱센 결과 내주기\n",
    "    * `subtract`: 정적 메서드. `b`와 `c` 숫자 두 개를 입력 받아 `b-c` 내주기"
   ]
  },
  {
   "cell_type": "code",
   "execution_count": 4,
   "metadata": {},
   "outputs": [],
   "source": [
    "class Numbers:\n",
    "    MULTIPLIER = 3.5\n",
    "\n",
    "    def __init__(self, x, y):\n",
    "        self.x = x\n",
    "        self.y = y\n",
    "\n",
    "    def add(self):\n",
    "        return self.x + self.y\n",
    "\n",
    "    @classmethod\n",
    "    def multiply(cls, a):\n",
    "        return cls.MULTIPLIER * a\n",
    "\n",
    "    @staticmethod\n",
    "    def subtract(b, c):\n",
    "        return b - c"
   ]
  },
  {
   "cell_type": "code",
   "execution_count": 5,
   "metadata": {},
   "outputs": [
    {
     "name": "stdout",
     "output_type": "stream",
     "text": [
      "7\n",
      "14.0\n",
      "14.0\n",
      "5\n",
      "5\n"
     ]
    }
   ],
   "source": [
    "twoAndfive = Numbers(2,5)\n",
    "\n",
    "print(twoAndfive.add())\n",
    "\n",
    "print(Numbers.multiply(4))\n",
    "print(twoAndfive.multiply(4))\n",
    "\n",
    "print(Numbers.subtract(7, 2))\n",
    "print(twoAndfive.subtract(7,2))"
   ]
  },
  {
   "cell_type": "markdown",
   "metadata": {},
   "source": [
    "## `object` 클래스와 매직 메서드"
   ]
  },
  {
   "cell_type": "markdown",
   "metadata": {},
   "source": [
    "생성된 객체와 관련된 속성과 메서드를 확인하려면 `dir` 함수를 활용한다.\n",
    "예를 들어, 다음 `Person` 클래스의 인스턴스 `jane`을 생성해보자. "
   ]
  },
  {
   "cell_type": "code",
   "execution_count": 6,
   "metadata": {},
   "outputs": [],
   "source": [
    "class Person:\n",
    "    def __init__(self, name, surname):\n",
    "        self.name = name\n",
    "        self.surname = surname\n",
    "\n",
    "    def fullname(self):\n",
    "        return f\"{self.name} {self.surname}\"\n",
    "\n",
    "jane = Person(\"Jane\", \"Smith\")"
   ]
  },
  {
   "cell_type": "markdown",
   "metadata": {},
   "source": [
    "이제 `dir` 함수를 이용하여 `jane`이 가리키는 객체의 속성과 메서드를 확인해보자. "
   ]
  },
  {
   "cell_type": "code",
   "execution_count": 7,
   "metadata": {},
   "outputs": [
    {
     "name": "stdout",
     "output_type": "stream",
     "text": [
      "['__class__', '__delattr__', '__dict__', '__dir__', '__doc__', '__eq__', '__format__', '__ge__', '__getattribute__', '__gt__', '__hash__', '__init__', '__init_subclass__', '__le__', '__lt__', '__module__', '__ne__', '__new__', '__reduce__', '__reduce_ex__', '__repr__', '__setattr__', '__sizeof__', '__str__', '__subclasshook__', '__weakref__', 'fullname', 'name', 'surname']\n"
     ]
    }
   ],
   "source": [
    "print(dir(jane))"
   ]
  },
  {
   "cell_type": "markdown",
   "metadata": {},
   "source": [
    "리스트의 항목들을 하나씩 확인하면 다음과 같다."
   ]
  },
  {
   "cell_type": "code",
   "execution_count": 8,
   "metadata": {},
   "outputs": [
    {
     "name": "stdout",
     "output_type": "stream",
     "text": [
      "__class__\n",
      "__delattr__\n",
      "__dict__\n",
      "__dir__\n",
      "__doc__\n",
      "__eq__\n",
      "__format__\n",
      "__ge__\n",
      "__getattribute__\n",
      "__gt__\n",
      "__hash__\n",
      "__init__\n",
      "__init_subclass__\n",
      "__le__\n",
      "__lt__\n",
      "__module__\n",
      "__ne__\n",
      "__new__\n",
      "__reduce__\n",
      "__reduce_ex__\n",
      "__repr__\n",
      "__setattr__\n",
      "__sizeof__\n",
      "__str__\n",
      "__subclasshook__\n",
      "__weakref__\n",
      "fullname\n",
      "name\n",
      "surname\n"
     ]
    }
   ],
   "source": [
    "for item in dir(jane):\n",
    "    print(item)"
   ]
  },
  {
   "cell_type": "markdown",
   "metadata": {},
   "source": [
    "### 최상위 클래스: `object`"
   ]
  },
  {
   "cell_type": "markdown",
   "metadata": {},
   "source": [
    "놀랍게도 `Person` 클래스를 선언할 때 명시된 속성과 메서드 이외에 \n",
    "추가로 많은 이름이 보인다. \n",
    "이유는 다음과 같다.\n",
    "\n",
    "* 파이썬의 모든 클래스는 `object`라는 클래스를 상속한다.\n",
    "* 하나의 클래스를 상속하면 해당 클래스의 속성과 메서드도 모두 함께 상속받는다.\n",
    "* `object` 클래스에는 위에서 언급된, 두 개의 밑줄로 감싸인 속성과 메서드가 선언되어 있다.\n",
    "\n",
    "상속의 대상인 클래스를 **상위 클래스**(superclass) 또는 **부모 클래스**(parent class), \n",
    "상속하는 클래스를 **하위 클래스**(subclass) 또는 **자식 클래스**(child class)\n",
    "라고 부른다. \n",
    "이런 의미에서 `object`는 최상위에 위치한 클래스이다.\n",
    "`object` 클래스에 포함된 속성과 메서드는 모두 양끝이 밑줄 두 개로 감싸이며,\n",
    "`object` 클래스의 메서드를 특별히 **매직 메서드**(magic method)라 부른다. \n",
    "따라서 임의의 클래스는 `object` 클래스에서 선언된 매직 메서드와 속성을\n",
    "모두 상속받는다.\n",
    "\n",
    "`Person` 클래스의 엄밀한 다음과 같이, `object` 클래스를 상속하는 것을 \n",
    "함께 명시해야 한다. \n",
    "하지만 상속 대상이 `object` 클래스 뿐인 경우 굳이 괄호를 사용할 필요가 없기 때문에\n",
    "앞서 생략하였다.\n",
    "\n",
    "**주의:** 파이썬 2에서는 `object`를 반드시 명시해야 한다. \n",
    "상속에 대해서는 일단 이 정도만 알고 있으면 되며, 보다 자세한 설명은\n",
    "추후 다룬다."
   ]
  },
  {
   "cell_type": "code",
   "execution_count": 9,
   "metadata": {},
   "outputs": [],
   "source": [
    "class Person(object):\n",
    "    def __init__(self, name, surname):\n",
    "        self.name = name\n",
    "        self.surname = surname\n",
    "\n",
    "    def fullname(self):\n",
    "        return f\"{self.name} {self.surname}\"\n",
    "\n",
    "jane = Person(\"Jane\", \"Smith\")"
   ]
  },
  {
   "cell_type": "markdown",
   "metadata": {},
   "source": [
    "### `object` 클래스의 속성과 매직 메서드 기능"
   ]
  },
  {
   "cell_type": "markdown",
   "metadata": {},
   "source": [
    "초기 설정 메서드 `__init__`는 굳이 선언될 필요가 없다고 앞서 언급하였는데,\n",
    "그 이유가 바로 상속하는 부모 클래스의 `__init__` 메서드가 자동으로 사용되기 때문이다.\n",
    "하지만 위와 같이 `__init__` 메서드를 선언하면 새로 정의된 함수가 사용된다.\n",
    "\n",
    "모든 매직 메서드는 고유의 기능을 수행한다.\n",
    "따라서, 특별한 사유가 없으면 매직 메서드를 다시 정의하는 일은 피해야 한다.\n",
    "여기서는 주요 매직 메서드의 기본 기능을 조금만 확인하고 자세한 설명은 하지 않는다."
   ]
  },
  {
   "cell_type": "markdown",
   "metadata": {},
   "source": [
    "#### `__repr__` 메서드와 `__str__` 메서드"
   ]
  },
  {
   "cell_type": "markdown",
   "metadata": {},
   "source": [
    "숫자, 문자열, 리스트, 튜플, 사전 등을 확인하거나 출력하면\n",
    "우리에게 매우 친숙한 방식으로 보여진다. \n",
    "예를 들어, 리스트의 경우는 값을 확인하는 거와 출력하는 데에 차이가 없다."
   ]
  },
  {
   "cell_type": "code",
   "execution_count": 10,
   "metadata": {},
   "outputs": [
    {
     "data": {
      "text/plain": [
       "[1, 2, 3]"
      ]
     },
     "execution_count": 10,
     "metadata": {},
     "output_type": "execute_result"
    }
   ],
   "source": [
    "[1, 2, 3]"
   ]
  },
  {
   "cell_type": "code",
   "execution_count": 11,
   "metadata": {},
   "outputs": [
    {
     "name": "stdout",
     "output_type": "stream",
     "text": [
      "[1, 2, 3]\n"
     ]
    }
   ],
   "source": [
    "print([1, 2, 3])"
   ]
  },
  {
   "cell_type": "markdown",
   "metadata": {},
   "source": [
    "반면에 문자열의 경우는 조금 다르다."
   ]
  },
  {
   "cell_type": "code",
   "execution_count": 12,
   "metadata": {},
   "outputs": [
    {
     "data": {
      "text/plain": [
       "'파이썬이 최고에요!'"
      ]
     },
     "execution_count": 12,
     "metadata": {},
     "output_type": "execute_result"
    }
   ],
   "source": [
    "\"파이썬이 최고에요!\""
   ]
  },
  {
   "cell_type": "code",
   "execution_count": 13,
   "metadata": {},
   "outputs": [
    {
     "name": "stdout",
     "output_type": "stream",
     "text": [
      "파이썬이 최고에요!\n"
     ]
    }
   ],
   "source": [
    "print(\"파이썬이 최고에요!\")"
   ]
  },
  {
   "cell_type": "markdown",
   "metadata": {},
   "source": [
    "이렇게 작동하는 이유는 문자열 클래스의 내부에서\n",
    "`__repr__` 과 `__str__` 두 메서드가 조금 다르게 정의되어 있기 때문이다.\n",
    "\n",
    "값을 확인할 때는 `__repr__` 메서드가 호출되고,\n",
    "출력할 때는 `__str__` 메서드가 호출된다."
   ]
  },
  {
   "cell_type": "code",
   "execution_count": 14,
   "metadata": {},
   "outputs": [
    {
     "data": {
      "text/plain": [
       "\"'파이썬이 최고에요!'\""
      ]
     },
     "execution_count": 14,
     "metadata": {},
     "output_type": "execute_result"
    }
   ],
   "source": [
    "\"파이썬이 최고에요!\".__repr__()"
   ]
  },
  {
   "cell_type": "markdown",
   "metadata": {},
   "source": [
    "작은 인용부호가 포함된 문자열이 리턴값이다.\n",
    "반면에 `__str__` 메서드의 경우 작은 인용부호는 포함되지 않은 문자열이 사용되었다. "
   ]
  },
  {
   "cell_type": "code",
   "execution_count": 15,
   "metadata": {},
   "outputs": [
    {
     "data": {
      "text/plain": [
       "'파이썬이 최고에요!'"
      ]
     },
     "execution_count": 15,
     "metadata": {},
     "output_type": "execute_result"
    }
   ],
   "source": [
    "\"파이썬이 최고에요!\".__str__()"
   ]
  },
  {
   "cell_type": "markdown",
   "metadata": {},
   "source": [
    "이제 `jane` 객체를 확인하고 출력해보자."
   ]
  },
  {
   "cell_type": "code",
   "execution_count": 16,
   "metadata": {},
   "outputs": [
    {
     "data": {
      "text/plain": [
       "<__main__.Person at 0x7f181849f0f0>"
      ]
     },
     "execution_count": 16,
     "metadata": {},
     "output_type": "execute_result"
    }
   ],
   "source": [
    "jane"
   ]
  },
  {
   "cell_type": "code",
   "execution_count": 17,
   "metadata": {},
   "outputs": [
    {
     "name": "stdout",
     "output_type": "stream",
     "text": [
      "<__main__.Person object at 0x7f181849f0f0>\n"
     ]
    }
   ],
   "source": [
    "print(jane)"
   ]
  },
  {
   "cell_type": "markdown",
   "metadata": {},
   "source": [
    "두 경우 아주 조금 다르기는 기본적으로 동일한 정보를 보여준다. \n",
    "보여지는 정보는 `jane`이 `Person` 클래스의 객체를 가리킨다는 사실과\n",
    "해당 객체가 저장되어 있는 메모리의 주소이다. \n",
    "이렇게 나오는 이유는 `Person` 클래스에서 `__repr__`, `__str__` 모두\n",
    "재정의되어 있지 않기 때문이다. \n",
    "\n",
    "이제 `Person` 클래스에서 `__repr__`, `__str__` 두 메서드를 다음과 같이 재정의해보자. \n",
    "두 메서드 모두 리턴값은 문자열이어야 한다. "
   ]
  },
  {
   "cell_type": "code",
   "execution_count": 18,
   "metadata": {},
   "outputs": [],
   "source": [
    "class Person(object):\n",
    "    def __init__(self, name, surname):\n",
    "        self.name = name\n",
    "        self.surname = surname\n",
    "\n",
    "    def fullname(self):\n",
    "        return f\"{self.name} {self.surname}\"\n",
    "    \n",
    "    def __str__(self):\n",
    "        return f\"성: {self.surname}, 이름: {self.name}\"\n",
    "\n",
    "    def __repr__(self):\n",
    "        return f\"Person(성: {self.surname}, 이름: {self.name})\"\n",
    "\n",
    "jane = Person(\"Jane\", \"Smith\")"
   ]
  },
  {
   "cell_type": "markdown",
   "metadata": {},
   "source": [
    "다시 `jane`을 확인하고 출력해보자. "
   ]
  },
  {
   "cell_type": "code",
   "execution_count": 19,
   "metadata": {},
   "outputs": [
    {
     "data": {
      "text/plain": [
       "Person(성: Smith, 이름: Jane)"
      ]
     },
     "execution_count": 19,
     "metadata": {},
     "output_type": "execute_result"
    }
   ],
   "source": [
    "# __repr__ 메서드 사용됨.\n",
    "\n",
    "jane"
   ]
  },
  {
   "cell_type": "code",
   "execution_count": 20,
   "metadata": {},
   "outputs": [
    {
     "name": "stdout",
     "output_type": "stream",
     "text": [
      "성: Smith, 이름: Jane\n"
     ]
    }
   ],
   "source": [
    "# __str__ 메서드 사용됨.\n",
    "\n",
    "print(jane)"
   ]
  },
  {
   "cell_type": "markdown",
   "metadata": {},
   "source": [
    "그리고 `__str__` 메서드가 재정의되어 있지 않은 경우,\n",
    "`__repr__` 메서드의 정의를 사용한다."
   ]
  },
  {
   "cell_type": "code",
   "execution_count": 21,
   "metadata": {},
   "outputs": [],
   "source": [
    "class Person(object):\n",
    "    def __init__(self, name, surname):\n",
    "        self.name = name\n",
    "        self.surname = surname\n",
    "\n",
    "    def fullname(self):\n",
    "        return f\"{self.name} {self.surname}\"\n",
    "    \n",
    "    def __repr__(self):\n",
    "        return f\"Person(성: {self.surname}, 이름: {self.name})\"\n",
    "\n",
    "jane = Person(\"Jane\", \"Smith\")"
   ]
  },
  {
   "cell_type": "code",
   "execution_count": 22,
   "metadata": {},
   "outputs": [
    {
     "data": {
      "text/plain": [
       "Person(성: Smith, 이름: Jane)"
      ]
     },
     "execution_count": 22,
     "metadata": {},
     "output_type": "execute_result"
    }
   ],
   "source": [
    "jane"
   ]
  },
  {
   "cell_type": "code",
   "execution_count": 23,
   "metadata": {},
   "outputs": [
    {
     "name": "stdout",
     "output_type": "stream",
     "text": [
      "Person(성: Smith, 이름: Jane)\n"
     ]
    }
   ],
   "source": [
    "print(jane)"
   ]
  },
  {
   "cell_type": "markdown",
   "metadata": {},
   "source": [
    "##### 차이점"
   ]
  },
  {
   "cell_type": "markdown",
   "metadata": {},
   "source": [
    "`__repr__` 메서드와 `__str__` 메서드는 기본적으로 비슷한 용도로 사용된다.\n",
    "차이점은 `__str__` 메서드는 객체들을 적절하게 표현하는 데에 사용되며,\n",
    "`__repr__` 메서드는 객체들을 좀 더 형식적으로 표현할 때 사용한다.\n",
    "\n",
    "예를 들어, 시간과 관련된 `datetime` 모듈의 `date` 클래스와\n",
    "`datetime` 클래스 객체를 이용하여 두 함수가 다르게 작동하는 것을 살펴보자.\n",
    "\n",
    "아래 예제에서는 `repr`와 `str` 두 함수를 소개하면서 두 메서드의 \n",
    "차이점을 설명한다. \n",
    "`repr` 함수를 호출하면 인자로 사용된 값의 `__repr__` 메서드가,\n",
    "반면에 `str` 함수를 호출하면 인자로 사용된 값의 `__str__` 메서드가 호출된다."
   ]
  },
  {
   "cell_type": "code",
   "execution_count": 24,
   "metadata": {},
   "outputs": [],
   "source": [
    "import datetime\n",
    "\n",
    "# datetime 객체: 현재 시간 정보 저장\n",
    "now = datetime.datetime.now()\n",
    "\n",
    "# date 객체: 현재 날짜 정보 저장\n",
    "today = datetime.date.today()"
   ]
  },
  {
   "cell_type": "markdown",
   "metadata": {},
   "source": [
    "`repr` 함수는 훨씬 형식적인 표현을 사용한다."
   ]
  },
  {
   "cell_type": "code",
   "execution_count": 25,
   "metadata": {},
   "outputs": [
    {
     "data": {
      "text/plain": [
       "'datetime.datetime(2020, 5, 14, 10, 4, 22, 42256)'"
      ]
     },
     "execution_count": 25,
     "metadata": {},
     "output_type": "execute_result"
    }
   ],
   "source": [
    "repr(now)"
   ]
  },
  {
   "cell_type": "code",
   "execution_count": 26,
   "metadata": {},
   "outputs": [
    {
     "data": {
      "text/plain": [
       "'datetime.date(2020, 5, 14)'"
      ]
     },
     "execution_count": 26,
     "metadata": {},
     "output_type": "execute_result"
    }
   ],
   "source": [
    "repr(today)"
   ]
  },
  {
   "cell_type": "markdown",
   "metadata": {},
   "source": [
    "`str` 함수는 간소화된 표현을 사용한다."
   ]
  },
  {
   "cell_type": "code",
   "execution_count": 27,
   "metadata": {},
   "outputs": [
    {
     "data": {
      "text/plain": [
       "'2020-05-14 10:04:22.042256'"
      ]
     },
     "execution_count": 27,
     "metadata": {},
     "output_type": "execute_result"
    }
   ],
   "source": [
    "str(now)"
   ]
  },
  {
   "cell_type": "code",
   "execution_count": 28,
   "metadata": {},
   "outputs": [
    {
     "data": {
      "text/plain": [
       "'2020-05-14'"
      ]
     },
     "execution_count": 28,
     "metadata": {},
     "output_type": "execute_result"
    }
   ],
   "source": [
    "str(today)"
   ]
  },
  {
   "cell_type": "markdown",
   "metadata": {},
   "source": [
    "#### `__class__` 속성"
   ]
  },
  {
   "cell_type": "markdown",
   "metadata": {},
   "source": [
    "객체의 자료형을 확인할 때 `type` 함수를 사용한다.\n",
    "그러면 `type` 함수는 해당 객체의 `__class__` 속성을 확인한다."
   ]
  },
  {
   "cell_type": "code",
   "execution_count": 29,
   "metadata": {},
   "outputs": [
    {
     "data": {
      "text/plain": [
       "__main__.Person"
      ]
     },
     "execution_count": 29,
     "metadata": {},
     "output_type": "execute_result"
    }
   ],
   "source": [
    "jane.__class__"
   ]
  },
  {
   "cell_type": "code",
   "execution_count": 30,
   "metadata": {},
   "outputs": [
    {
     "data": {
      "text/plain": [
       "__main__.Person"
      ]
     },
     "execution_count": 30,
     "metadata": {},
     "output_type": "execute_result"
    }
   ],
   "source": [
    "type(jane)"
   ]
  },
  {
   "cell_type": "code",
   "execution_count": 31,
   "metadata": {},
   "outputs": [
    {
     "data": {
      "text/plain": [
       "list"
      ]
     },
     "execution_count": 31,
     "metadata": {},
     "output_type": "execute_result"
    }
   ],
   "source": [
    "[1, 2, 3].__class__"
   ]
  },
  {
   "cell_type": "code",
   "execution_count": 32,
   "metadata": {},
   "outputs": [
    {
     "data": {
      "text/plain": [
       "list"
      ]
     },
     "execution_count": 32,
     "metadata": {},
     "output_type": "execute_result"
    }
   ],
   "source": [
    "type([1, 2, 3])"
   ]
  },
  {
   "cell_type": "markdown",
   "metadata": {},
   "source": [
    "#### `__dict__` 속성"
   ]
  },
  {
   "cell_type": "markdown",
   "metadata": {},
   "source": [
    "`__dict__` 속성은 인스턴스 속성들을 사전으로 모아 둔다."
   ]
  },
  {
   "cell_type": "code",
   "execution_count": 33,
   "metadata": {},
   "outputs": [
    {
     "data": {
      "text/plain": [
       "{'name': 'Jane', 'surname': 'Smith'}"
      ]
     },
     "execution_count": 33,
     "metadata": {},
     "output_type": "execute_result"
    }
   ],
   "source": [
    "jane.__dict__"
   ]
  },
  {
   "cell_type": "markdown",
   "metadata": {},
   "source": [
    "즉, `__dict__`는 해당 인스턴스의 모든 속성을 사전 자료형으로 포함한다. \n",
    "키는 속성 변수, 값은 속성 값을 사용한다. \n",
    "\n",
    "반면에 리스트는 인스턴스 속성을 전혀 갖지 않는다."
   ]
  },
  {
   "cell_type": "code",
   "execution_count": 34,
   "metadata": {},
   "outputs": [
    {
     "ename": "AttributeError",
     "evalue": "'list' object has no attribute '__dict__'",
     "output_type": "error",
     "traceback": [
      "\u001b[0;31m---------------------------------------------------------------------------\u001b[0m",
      "\u001b[0;31mAttributeError\u001b[0m                            Traceback (most recent call last)",
      "\u001b[0;32m<ipython-input-34-1c5e42f4d9b3>\u001b[0m in \u001b[0;36m<module>\u001b[0;34m\u001b[0m\n\u001b[0;32m----> 1\u001b[0;31m \u001b[0;34m[\u001b[0m\u001b[0;36m1\u001b[0m\u001b[0;34m,\u001b[0m \u001b[0;36m2\u001b[0m\u001b[0;34m,\u001b[0m \u001b[0;36m3\u001b[0m\u001b[0;34m]\u001b[0m\u001b[0;34m.\u001b[0m\u001b[0m__dict__\u001b[0m\u001b[0;34m\u001b[0m\u001b[0;34m\u001b[0m\u001b[0m\n\u001b[0m",
      "\u001b[0;31mAttributeError\u001b[0m: 'list' object has no attribute '__dict__'"
     ]
    }
   ],
   "source": [
    "[1, 2, 3].__dict__"
   ]
  },
  {
   "cell_type": "markdown",
   "metadata": {},
   "source": [
    "#### `__iter__` 메서드, 이터러블 자료형, 이터레이터 자료형"
   ]
  },
  {
   "cell_type": "markdown",
   "metadata": {},
   "source": [
    "리스트, 튜플, 문자열 등은 **이터러블**(iterable) 자료형에 속한다. \n",
    "이터러블 자료형은 `for` 반복문과 함께 사용될 수 있는 자료형이라고 생각하면 쉽게 \n",
    "이해할 수 있다. \n",
    "보다 엄밀히 말하면 `__iter__` 메서드가 정의되어 있는 자료형이 이터러블 자료형이다.\n",
    "실제로 모든 리스트, 튜플, 문자열은 해당 메서드를 사용할 수 있다."
   ]
  },
  {
   "cell_type": "code",
   "execution_count": 35,
   "metadata": {},
   "outputs": [
    {
     "data": {
      "text/plain": [
       "<list_iterator at 0x7f18184978d0>"
      ]
     },
     "execution_count": 35,
     "metadata": {},
     "output_type": "execute_result"
    }
   ],
   "source": [
    "[1, 2, 3].__iter__()"
   ]
  },
  {
   "cell_type": "code",
   "execution_count": 36,
   "metadata": {},
   "outputs": [
    {
     "data": {
      "text/plain": [
       "<tuple_iterator at 0x7f18185047f0>"
      ]
     },
     "execution_count": 36,
     "metadata": {},
     "output_type": "execute_result"
    }
   ],
   "source": [
    "(1, 2, 3).__iter__()"
   ]
  },
  {
   "cell_type": "code",
   "execution_count": 37,
   "metadata": {},
   "outputs": [
    {
     "data": {
      "text/plain": [
       "<str_iterator at 0x7f1818504cf8>"
      ]
     },
     "execution_count": 37,
     "metadata": {},
     "output_type": "execute_result"
    }
   ],
   "source": [
    "'1, 2, 3'.__iter__()"
   ]
  },
  {
   "cell_type": "markdown",
   "metadata": {},
   "source": [
    "`__iter__` 메서드의 역할은 해당 자료형을 **이터레이터**(iterator)로\n",
    "변환시키는 일이다. \n",
    "이터레이터는 `__next__` 메서드를 포함하는 자료형이며, \n",
    "해당 메서드를 예를 들어, `for` 반목문에서 각 항목을 활용할 때 사용된다. \n",
    "\n",
    "리스트 `[1, 2, 3]`을 이용하는 예를 살펴보자."
   ]
  },
  {
   "cell_type": "code",
   "execution_count": 38,
   "metadata": {},
   "outputs": [],
   "source": [
    "aList = [1, 2, 3]"
   ]
  },
  {
   "cell_type": "markdown",
   "metadata": {},
   "source": [
    "`iter` 함수를 사용하면 `__iter__` 메서드가 사용된다."
   ]
  },
  {
   "cell_type": "code",
   "execution_count": 39,
   "metadata": {},
   "outputs": [],
   "source": [
    "aIterator = iter(aList)"
   ]
  },
  {
   "cell_type": "markdown",
   "metadata": {},
   "source": [
    "이제 `next` 함수를 호출하면 `__next__` 메서드가 호출된다."
   ]
  },
  {
   "cell_type": "code",
   "execution_count": 40,
   "metadata": {},
   "outputs": [
    {
     "data": {
      "text/plain": [
       "1"
      ]
     },
     "execution_count": 40,
     "metadata": {},
     "output_type": "execute_result"
    }
   ],
   "source": [
    "next(aIterator)"
   ]
  },
  {
   "cell_type": "markdown",
   "metadata": {},
   "source": [
    "`next` 함수를 호출할 때마다 리스트의 다음 항목이 확인된다."
   ]
  },
  {
   "cell_type": "code",
   "execution_count": 41,
   "metadata": {},
   "outputs": [
    {
     "data": {
      "text/plain": [
       "2"
      ]
     },
     "execution_count": 41,
     "metadata": {},
     "output_type": "execute_result"
    }
   ],
   "source": [
    "next(aIterator)"
   ]
  },
  {
   "cell_type": "code",
   "execution_count": 42,
   "metadata": {},
   "outputs": [
    {
     "data": {
      "text/plain": [
       "3"
      ]
     },
     "execution_count": 42,
     "metadata": {},
     "output_type": "execute_result"
    }
   ],
   "source": [
    "next(aIterator)"
   ]
  },
  {
   "cell_type": "markdown",
   "metadata": {},
   "source": [
    "마지막 항목이 확인된 후에는 `StopIteration` 오류가 발생한다. "
   ]
  },
  {
   "cell_type": "code",
   "execution_count": 43,
   "metadata": {},
   "outputs": [
    {
     "ename": "StopIteration",
     "evalue": "",
     "output_type": "error",
     "traceback": [
      "\u001b[0;31m---------------------------------------------------------------------------\u001b[0m",
      "\u001b[0;31mStopIteration\u001b[0m                             Traceback (most recent call last)",
      "\u001b[0;32m<ipython-input-43-02382458df68>\u001b[0m in \u001b[0;36m<module>\u001b[0;34m\u001b[0m\n\u001b[0;32m----> 1\u001b[0;31m \u001b[0mnext\u001b[0m\u001b[0;34m(\u001b[0m\u001b[0maIterator\u001b[0m\u001b[0;34m)\u001b[0m\u001b[0;34m\u001b[0m\u001b[0;34m\u001b[0m\u001b[0m\n\u001b[0m",
      "\u001b[0;31mStopIteration\u001b[0m: "
     ]
    }
   ],
   "source": [
    "next(aIterator)"
   ]
  },
  {
   "cell_type": "markdown",
   "metadata": {},
   "source": [
    "`next` 함수를 다시 사용하려면 이터레이터를 다시 생성해야 한다. \n",
    "이번에는 `__iter__`와 `__next__` 메서드를 직접 사용한다."
   ]
  },
  {
   "cell_type": "code",
   "execution_count": 44,
   "metadata": {},
   "outputs": [],
   "source": [
    "aIterator = aList.__iter__()"
   ]
  },
  {
   "cell_type": "code",
   "execution_count": 45,
   "metadata": {},
   "outputs": [
    {
     "data": {
      "text/plain": [
       "1"
      ]
     },
     "execution_count": 45,
     "metadata": {},
     "output_type": "execute_result"
    }
   ],
   "source": [
    "aIterator.__next__()"
   ]
  },
  {
   "cell_type": "code",
   "execution_count": 46,
   "metadata": {},
   "outputs": [
    {
     "data": {
      "text/plain": [
       "2"
      ]
     },
     "execution_count": 46,
     "metadata": {},
     "output_type": "execute_result"
    }
   ],
   "source": [
    "aIterator.__next__()"
   ]
  },
  {
   "cell_type": "code",
   "execution_count": 47,
   "metadata": {},
   "outputs": [
    {
     "data": {
      "text/plain": [
       "3"
      ]
     },
     "execution_count": 47,
     "metadata": {},
     "output_type": "execute_result"
    }
   ],
   "source": [
    "aIterator.__next__()"
   ]
  },
  {
   "cell_type": "code",
   "execution_count": 48,
   "metadata": {},
   "outputs": [
    {
     "ename": "StopIteration",
     "evalue": "",
     "output_type": "error",
     "traceback": [
      "\u001b[0;31m---------------------------------------------------------------------------\u001b[0m",
      "\u001b[0;31mStopIteration\u001b[0m                             Traceback (most recent call last)",
      "\u001b[0;32m<ipython-input-48-31285d98d373>\u001b[0m in \u001b[0;36m<module>\u001b[0;34m\u001b[0m\n\u001b[0;32m----> 1\u001b[0;31m \u001b[0maIterator\u001b[0m\u001b[0;34m.\u001b[0m\u001b[0m__next__\u001b[0m\u001b[0;34m(\u001b[0m\u001b[0;34m)\u001b[0m\u001b[0;34m\u001b[0m\u001b[0;34m\u001b[0m\u001b[0m\n\u001b[0m",
      "\u001b[0;31mStopIteration\u001b[0m: "
     ]
    }
   ],
   "source": [
    "aIterator.__next__()"
   ]
  },
  {
   "cell_type": "markdown",
   "metadata": {},
   "source": [
    "실제로 이터러블 자료형을 `for` 반복문과 함께 사용하면\n",
    "내부적으로는 앞서 설명한 대로 이터레이터로 변환한 후 \n",
    "`next` 함수를 반복적으로 사용한다. \n",
    "\n",
    "예를 들어, 아래 `for` 반복문을 살펴보자."
   ]
  },
  {
   "cell_type": "code",
   "execution_count": 49,
   "metadata": {},
   "outputs": [
    {
     "name": "stdout",
     "output_type": "stream",
     "text": [
      "1\n",
      "2\n",
      "3\n"
     ]
    }
   ],
   "source": [
    "for item in [1, 2, 3]:\n",
    "    print(item)"
   ]
  },
  {
   "cell_type": "markdown",
   "metadata": {},
   "source": [
    "위 반복문을 파이썬 해석기가 처리하는 실제 내용은 다음과 같다. "
   ]
  },
  {
   "cell_type": "code",
   "execution_count": 50,
   "metadata": {},
   "outputs": [
    {
     "name": "stdout",
     "output_type": "stream",
     "text": [
      "1\n",
      "2\n",
      "3\n"
     ]
    }
   ],
   "source": [
    "aIterator = iter([1, 2, 3])\n",
    "\n",
    "# 무한 반복문\n",
    "while True:\n",
    "    try:\n",
    "        # 다음 항목 구하기\n",
    "        item = next(aIterator)\n",
    "        print(item)\n",
    "    except StopIteration:\n",
    "        # 더 이상 확인할 항목이 없으면 반복문 종료\n",
    "        break"
   ]
  },
  {
   "cell_type": "markdown",
   "metadata": {},
   "source": [
    "이터러블 자료형과 이터레이터 자료형에 대해서는 우선 이 정도 알아두면 좋다. \n",
    "보다 많은 활용 예제에 대한 설명은 \n",
    "[programiz.com: Python Iterators](https://www.programiz.com/python-programming/iterator)을 \n",
    "참고할 것을 추천한다."
   ]
  },
  {
   "cell_type": "markdown",
   "metadata": {},
   "source": [
    "\n"
   ]
  },
  {
   "cell_type": "markdown",
   "metadata": {},
   "source": [
    "#### `__len__` 메서드, 순차 자료형, 모음 자료형"
   ]
  },
  {
   "cell_type": "markdown",
   "metadata": {},
   "source": [
    "리스트, 튜플, 문자열, `range` 등의 자료형처럼 항목들의 순서와 중복이 허용되는 \n",
    "자료형을 **순차**(sequence) 자료형이라 한다. \n",
    "반면에 집합, 사전 등의 자료형처럼 순서를 무시하고 중복이 허용되지 않는 자료형은\n",
    "단순히 **모음**(collection) 자료형이라 부른다. \n",
    "순차 자료형을 시퀀스 자료형이라 부르기도 하며, \n",
    "순차 자료형도 단순히 모음 자료형으로 간주하기도 한다. \n",
    "\n",
    "순차와 모음 자료형은 모두 항목의 개수를 확인해주는 `__len__` 메서드를 갖고 있다."
   ]
  },
  {
   "cell_type": "code",
   "execution_count": 51,
   "metadata": {},
   "outputs": [
    {
     "data": {
      "text/plain": [
       "3"
      ]
     },
     "execution_count": 51,
     "metadata": {},
     "output_type": "execute_result"
    }
   ],
   "source": [
    "[1, 2, 3].__len__()"
   ]
  },
  {
   "cell_type": "code",
   "execution_count": 52,
   "metadata": {},
   "outputs": [
    {
     "data": {
      "text/plain": [
       "6"
      ]
     },
     "execution_count": 52,
     "metadata": {},
     "output_type": "execute_result"
    }
   ],
   "source": [
    "\"Python\".__len__()"
   ]
  },
  {
   "cell_type": "markdown",
   "metadata": {},
   "source": [
    "`jane`의 `__dict__` 속성에는 두 개의 항목이 포함되어 있다."
   ]
  },
  {
   "cell_type": "code",
   "execution_count": 53,
   "metadata": {},
   "outputs": [
    {
     "data": {
      "text/plain": [
       "2"
      ]
     },
     "execution_count": 53,
     "metadata": {},
     "output_type": "execute_result"
    }
   ],
   "source": [
    "jane.__dict__.__len__()"
   ]
  },
  {
   "cell_type": "markdown",
   "metadata": {},
   "source": [
    "이와 같이 `__len__` 메소드를 포함한 자료형에 대해서\n",
    "`len` 함수를 사용하여 항목의 개수를 확인할 수 있다. "
   ]
  },
  {
   "cell_type": "code",
   "execution_count": 54,
   "metadata": {},
   "outputs": [
    {
     "data": {
      "text/plain": [
       "3"
      ]
     },
     "execution_count": 54,
     "metadata": {},
     "output_type": "execute_result"
    }
   ],
   "source": [
    "len([1, 2, 3])"
   ]
  },
  {
   "cell_type": "code",
   "execution_count": 55,
   "metadata": {},
   "outputs": [
    {
     "data": {
      "text/plain": [
       "6"
      ]
     },
     "execution_count": 55,
     "metadata": {},
     "output_type": "execute_result"
    }
   ],
   "source": [
    "len(\"Python\")"
   ]
  },
  {
   "cell_type": "code",
   "execution_count": 56,
   "metadata": {},
   "outputs": [
    {
     "data": {
      "text/plain": [
       "2"
      ]
     },
     "execution_count": 56,
     "metadata": {},
     "output_type": "execute_result"
    }
   ],
   "source": [
    "len(jane.__dict__)"
   ]
  },
  {
   "cell_type": "markdown",
   "metadata": {},
   "source": [
    "`len` 함수를 아래와 같이 정의된 것으로 생각할 수 있다. \n",
    "\n",
    "```python\n",
    "def len(s):\n",
    "    return s.__len__()\n",
    "```"
   ]
  },
  {
   "cell_type": "markdown",
   "metadata": {},
   "source": [
    "## 매직 메서드 재정의"
   ]
  },
  {
   "cell_type": "markdown",
   "metadata": {},
   "source": [
    "`Person` 클래스에서 `__init__` 메서드를 새로 정의하였다.\n",
    "이와 같이 메서드를 새로 정의하는 것을 \n",
    "**메서드 재정의** 또는 **메서드 오버라이딩**(method overriding)이라 부른다. \n",
    "따라서 모든 매직 메서드는 재정의 되든가, 아니면 부모 클래스에서 선언된 그대로 사용된다. \n",
    "여기서는 앞서 다루지 않았지만 중요한 매직 메서드 몇 개를 재정의하면서\n",
    "유용한 자료형을 정의하는 방법을 소개한다. "
   ]
  },
  {
   "cell_type": "markdown",
   "metadata": {},
   "source": [
    "### `Fractional` 클래스"
   ]
  },
  {
   "cell_type": "markdown",
   "metadata": {},
   "source": [
    "부동소수점을 다루는 `float` 자료형에 속하는 값들은 실수를 다루기 위해 구현되었다.\n",
    "하지만 컴퓨터의 함계로 인해 실제로 다룰 수 있는 값들의 소수점 이하의 자릿수가 제한되며,\n",
    "따라서 컴퓨터는 기본적으로 유리수만 다룰 수 있다. \n",
    "\n",
    "유리수의 또다른 정의는 정수들의 분수로 표현될 수 있는 실수를 말한다. \n",
    "하지만 정수들의 분수를 실제로 부동소수점으로 처리하면 또한 컴퓨터의 한계로 인해\n",
    "계산이 부정확한 경우가 종종 발생한다. \n",
    "따라서 정수들의 분수를 독립된 자료형으로 다룰 필요가 발생한다.\n",
    "이를 위해 파이썬은 `Fractional` 이란 자료형을 제공한다. \n",
    "\n",
    "`Fractional` 클래스는 `fractions` 모듈에 선언되어 있다. \n",
    "따라서 정수들의 분수를 사용하려면 먼저 해당 클래스를 불러와야 한다. "
   ]
  },
  {
   "cell_type": "code",
   "execution_count": 57,
   "metadata": {},
   "outputs": [],
   "source": [
    "from fractions import Fraction"
   ]
  },
  {
   "cell_type": "markdown",
   "metadata": {},
   "source": [
    "2/3에 해당하는 수는 아래와 같이 표현한다.\n",
    "\n",
    "**주의:** 예제에서 사용되는 변수의 접두어로 사용되는 `R`은 유리수(rational)을 가리킨다.\n",
    "유리수임을 강조하기 위해 일부러 사용할 뿐이지 관례는 아니다."
   ]
  },
  {
   "cell_type": "code",
   "execution_count": 58,
   "metadata": {},
   "outputs": [],
   "source": [
    "R12= Fraction(1, 2)\n",
    "R13= Fraction(1, 3)\n",
    "R24= Fraction(2, 4)"
   ]
  },
  {
   "cell_type": "markdown",
   "metadata": {},
   "source": [
    "사칙연산이 가능하다."
   ]
  },
  {
   "cell_type": "code",
   "execution_count": 59,
   "metadata": {},
   "outputs": [
    {
     "data": {
      "text/plain": [
       "Fraction(5, 6)"
      ]
     },
     "execution_count": 59,
     "metadata": {},
     "output_type": "execute_result"
    }
   ],
   "source": [
    "# 1/2 + 1/3 = 5/6\n",
    "\n",
    "R12 + R13"
   ]
  },
  {
   "cell_type": "code",
   "execution_count": 60,
   "metadata": {},
   "outputs": [
    {
     "data": {
      "text/plain": [
       "Fraction(1, 6)"
      ]
     },
     "execution_count": 60,
     "metadata": {},
     "output_type": "execute_result"
    }
   ],
   "source": [
    "# 1/2 * 1/3 = 1/6\n",
    "\n",
    "R12 * R13"
   ]
  },
  {
   "cell_type": "code",
   "execution_count": 61,
   "metadata": {},
   "outputs": [
    {
     "data": {
      "text/plain": [
       "Fraction(2, 3)"
      ]
     },
     "execution_count": 61,
     "metadata": {},
     "output_type": "execute_result"
    }
   ],
   "source": [
    "# (1/3) * (1/2) = 2/3\n",
    "\n",
    "R13 / R12"
   ]
  },
  {
   "cell_type": "markdown",
   "metadata": {},
   "source": [
    "`print` 함수를 사용하면 익숙한 표현으로 보여진다. \n",
    "즉, `__str__` 메소드가 적절하게 정의되어 있다."
   ]
  },
  {
   "cell_type": "code",
   "execution_count": 62,
   "metadata": {},
   "outputs": [
    {
     "name": "stdout",
     "output_type": "stream",
     "text": [
      "1/2\n"
     ]
    }
   ],
   "source": [
    "print(R12)"
   ]
  },
  {
   "cell_type": "code",
   "execution_count": 63,
   "metadata": {},
   "outputs": [
    {
     "name": "stdout",
     "output_type": "stream",
     "text": [
      "1/3\n"
     ]
    }
   ],
   "source": [
    "print(R13)"
   ]
  },
  {
   "cell_type": "code",
   "execution_count": 64,
   "metadata": {},
   "outputs": [
    {
     "name": "stdout",
     "output_type": "stream",
     "text": [
      "2/3\n"
     ]
    }
   ],
   "source": [
    "print(R13 / R12)"
   ]
  },
  {
   "cell_type": "markdown",
   "metadata": {},
   "source": [
    "### 사용자 정의 유리스 클래스 선언하기"
   ]
  },
  {
   "cell_type": "markdown",
   "metadata": {},
   "source": [
    "`Fractional` 클래스와 유사하게 작동하는 클래스를 직접 정의하면서\n",
    "다음 매직 메서드들을 재정의하는 실습을 해보자.\n",
    "재정의 대상 메서드는 다음과 같다.\n",
    "\n",
    "* `__repr__`\n",
    "* `__str__`\n",
    "* `__eq__`\n",
    "* `__lt__`\n",
    "* `__le__`\n",
    "* `__add__`"
   ]
  },
  {
   "cell_type": "code",
   "execution_count": 65,
   "metadata": {},
   "outputs": [],
   "source": [
    "import math\n",
    "\n",
    "class myFraction:\n",
    "    \"\"\"분수 클래스\n",
    "\n",
    "    정수들의 분수를 정수들의 쌍으로 구현함.\n",
    "    정부들의 분수는 기본적으로 약분 처리하여 저장.\n",
    "    n\n",
    "    \n",
    "    \"\"\"\n",
    "\n",
    "    def __init__(self, numerator, denominator, _normalize=True):\n",
    "        \n",
    "        if denominator == 0:\n",
    "            raise ZeroDivisionError(f\"myFraction({numerator}, 0)\")\n",
    "        elif denominator < 0:\n",
    "            denominator = -denominator\n",
    "            numerator = -numerator\n",
    "        \n",
    "        if _normalize:\n",
    "            g = math.gcd(numerator, denominator)\n",
    "            if denominator < 0:\n",
    "                g = -g\n",
    "        \n",
    "            numerator //= g\n",
    "            denominator //= g\n",
    "        \n",
    "        self._numerator = numerator\n",
    "        self._denominator = denominator\n",
    "                \n",
    "    def __repr__(self):\n",
    "        return f\"{self.__class__.__name__}({self._numerator},{self._denominator})\"\n",
    "    \n",
    "    def __str__(self):\n",
    "        if self._denominator == 1:\n",
    "            return str(self._numerator)\n",
    "        else:\n",
    "            return f\"{self._numerator}/{self._denominator}\"\n",
    "    \n",
    "    def __eq__(self, other):\n",
    "        return (self._numerator * other._denominator) \\\n",
    "                == (other._numerator * self._denominator)\n",
    "\n",
    "    def __lt__(self, other):\n",
    "        return (self._numerator * other._denominator) \\\n",
    "                < (other._numerator * self._denominator)\n",
    "\n",
    "    def __le__(self, other):\n",
    "        return self < other or self == other\n",
    "\n",
    "    def __add__(self, other):\n",
    "        numerator = self._numerator * other._denominator + \\\n",
    "                    self._denominator * other._numerator\n",
    "        denominator = self._denominator * other._denominator\n",
    "        return myFraction(numerator, denominator)"
   ]
  },
  {
   "cell_type": "code",
   "execution_count": 66,
   "metadata": {},
   "outputs": [],
   "source": [
    "R14 = myFraction(1, 4)"
   ]
  },
  {
   "cell_type": "code",
   "execution_count": 67,
   "metadata": {},
   "outputs": [],
   "source": [
    "Rm14 = myFraction(1, -4)"
   ]
  },
  {
   "cell_type": "code",
   "execution_count": 68,
   "metadata": {},
   "outputs": [],
   "source": [
    "R34 = myFraction(3, 4)"
   ]
  },
  {
   "cell_type": "code",
   "execution_count": 69,
   "metadata": {},
   "outputs": [],
   "source": [
    "Rm34 = myFraction(-3, 4)"
   ]
  },
  {
   "cell_type": "code",
   "execution_count": 70,
   "metadata": {},
   "outputs": [],
   "source": [
    "R28 = myFraction(2, 8)"
   ]
  },
  {
   "cell_type": "code",
   "execution_count": 71,
   "metadata": {},
   "outputs": [
    {
     "name": "stdout",
     "output_type": "stream",
     "text": [
      "1/4\n"
     ]
    }
   ],
   "source": [
    "print(R14)"
   ]
  },
  {
   "cell_type": "code",
   "execution_count": 72,
   "metadata": {},
   "outputs": [
    {
     "name": "stdout",
     "output_type": "stream",
     "text": [
      "1/4\n"
     ]
    }
   ],
   "source": [
    "print(R28)"
   ]
  },
  {
   "cell_type": "code",
   "execution_count": 73,
   "metadata": {},
   "outputs": [
    {
     "data": {
      "text/plain": [
       "True"
      ]
     },
     "execution_count": 73,
     "metadata": {},
     "output_type": "execute_result"
    }
   ],
   "source": [
    "R14 == R28"
   ]
  },
  {
   "cell_type": "code",
   "execution_count": 74,
   "metadata": {},
   "outputs": [
    {
     "data": {
      "text/plain": [
       "True"
      ]
     },
     "execution_count": 74,
     "metadata": {},
     "output_type": "execute_result"
    }
   ],
   "source": [
    "R14 < R34"
   ]
  },
  {
   "cell_type": "code",
   "execution_count": 75,
   "metadata": {},
   "outputs": [
    {
     "data": {
      "text/plain": [
       "True"
      ]
     },
     "execution_count": 75,
     "metadata": {},
     "output_type": "execute_result"
    }
   ],
   "source": [
    "Rm34 < Rm14"
   ]
  },
  {
   "cell_type": "code",
   "execution_count": 76,
   "metadata": {},
   "outputs": [
    {
     "data": {
      "text/plain": [
       "True"
      ]
     },
     "execution_count": 76,
     "metadata": {},
     "output_type": "execute_result"
    }
   ],
   "source": [
    "Rm34 <= Rm14"
   ]
  },
  {
   "cell_type": "code",
   "execution_count": 77,
   "metadata": {},
   "outputs": [
    {
     "data": {
      "text/plain": [
       "False"
      ]
     },
     "execution_count": 77,
     "metadata": {},
     "output_type": "execute_result"
    }
   ],
   "source": [
    "Rm34 >= Rm14"
   ]
  },
  {
   "cell_type": "code",
   "execution_count": 78,
   "metadata": {},
   "outputs": [
    {
     "name": "stdout",
     "output_type": "stream",
     "text": [
      "1\n"
     ]
    }
   ],
   "source": [
    "print(R14 + R34)"
   ]
  },
  {
   "cell_type": "code",
   "execution_count": 79,
   "metadata": {},
   "outputs": [
    {
     "name": "stdout",
     "output_type": "stream",
     "text": [
      "1/2\n"
     ]
    }
   ],
   "source": [
    "print(Rm14 + R34)"
   ]
  }
 ],
 "metadata": {
  "kernelspec": {
   "display_name": "Python 3",
   "language": "python",
   "name": "python3"
  },
  "language_info": {
   "codemirror_mode": {
    "name": "ipython",
    "version": 3
   },
   "file_extension": ".py",
   "mimetype": "text/x-python",
   "name": "python",
   "nbconvert_exporter": "python",
   "pygments_lexer": "ipython3",
   "version": "3.7.3"
  }
 },
 "nbformat": 4,
 "nbformat_minor": 2
}
