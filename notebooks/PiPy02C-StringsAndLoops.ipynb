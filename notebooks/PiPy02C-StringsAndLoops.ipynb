{
 "cells": [
  {
   "cell_type": "markdown",
   "metadata": {},
   "source": [
    "# 문자열과 반복문"
   ]
  },
  {
   "cell_type": "markdown",
   "metadata": {},
   "source": [
    "_[Think Python의 8장](http://greenteapress.com/thinkpython2/html/thinkpython2009.html) \n",
    "내용을 요약 및 수정한 내용입니다._"
   ]
  },
  {
   "cell_type": "markdown",
   "metadata": {},
   "source": [
    "## 메서드: 특별한 함수"
   ]
  },
  {
   "cell_type": "markdown",
   "metadata": {},
   "source": [
    "문자열을 다루기 위해 문자열 메서드를 잘 활용해야 한다.\n",
    "따라서 문자열 활용법을 더 이야기하기 전에 메서드와 함수의 정의와 차이점을 살펴본다.\n",
    "\n",
    "함수가 하는 일은 기본적으로 매우 단순하다. \n",
    "어떤 값들이 인자로 주어지면 그 값들을 적절히 이용하여 특정 값을 계산한 후 리턴값으로 내준다.\n",
    "\n",
    "예를 들어, 절댓값을 계산하는 함수 `abs`는 실수를 입력받아,\n",
    "그 값의 절댓값을 내준다."
   ]
  },
  {
   "cell_type": "code",
   "execution_count": 1,
   "metadata": {},
   "outputs": [
    {
     "data": {
      "text/plain": [
       "3.3"
      ]
     },
     "execution_count": 1,
     "metadata": {},
     "output_type": "execute_result"
    }
   ],
   "source": [
    "abs(-3.3)"
   ]
  },
  {
   "cell_type": "markdown",
   "metadata": {},
   "source": [
    "그리고 `type` 함수는 임의의 값을 입력 받아 해당 값의 자료형을 내준다."
   ]
  },
  {
   "cell_type": "code",
   "execution_count": 3,
   "metadata": {},
   "outputs": [
    {
     "data": {
      "text/plain": [
       "float"
      ]
     },
     "execution_count": 3,
     "metadata": {},
     "output_type": "execute_result"
    }
   ],
   "source": [
    "type(abs(-3.3))"
   ]
  },
  {
   "cell_type": "markdown",
   "metadata": {},
   "source": [
    "심지어 함수도 자료형을 갖는다."
   ]
  },
  {
   "cell_type": "code",
   "execution_count": 4,
   "metadata": {},
   "outputs": [
    {
     "data": {
      "text/plain": [
       "builtin_function_or_method"
      ]
     },
     "execution_count": 4,
     "metadata": {},
     "output_type": "execute_result"
    }
   ],
   "source": [
    "type(abs)"
   ]
  },
  {
   "cell_type": "markdown",
   "metadata": {},
   "source": [
    "함수는 임의의 값을 인자로 받는다. \n",
    "하지만 함수마다 다룰 수 있는 값들의 자료형이 존재하며,\n",
    "다룰 수 없는 자료형의 값이 인자로 사용되면 오류가 발생한다.\n",
    "\n",
    "예를 들어, `type` 함수는 모든 자료형의 값을 다룰 수 있다.\n",
    "즉, 임의의 값의 자료형을 확인할 수 있다.\n",
    "반면에, `abs` 함수는 정수와 실수는 다루지만, 다음과 같이 문자열을 \n",
    "인자로 사용하면 오류가 발생한다. \n",
    "\n",
    "```python\n",
    "abs('-3.3')\n",
    "```\n",
    "\n",
    "이렇듯, 파이썬 함수는 임의의 값에 적용될 수 있지만,\n",
    "인자의 자료형을 파이썬 해석기가 파악해서 적용가능 여부를 판단한다.\n",
    "즉, 처음부터 인자의 자료형을 지정하거나 확인하는 게 아니라\n",
    "프로그램을 실행하는 도중에 사용되는 함수 인자들의 자료형을 확인한다는 의미이다.\n",
    "이는 함수가 다루는 모든 값에 대해 동일하다. "
   ]
  },
  {
   "cell_type": "markdown",
   "metadata": {},
   "source": [
    "### 메서드 호출"
   ]
  },
  {
   "cell_type": "markdown",
   "metadata": {},
   "source": [
    "함수와 달리, **메서드**는 특정 자료형과 함께 사용된다.\n",
    "즉, 메서드 또한 함수이지만 사용할 때 제한사항이 따른다.\n",
    "\n",
    "예를 들어, 문자들을 모두 대문자로 바꾸는 `upper` 메서드를\n",
    "아래와 같이 사용하면 `upper` 가 정의되어 있지 않다는 오류가 발생한다.\n",
    "\n",
    "**참고:** 메서드의 작동방식은 이후에 클래스를 다룰 때 보다 자세히 설명한다."
   ]
  },
  {
   "cell_type": "code",
   "execution_count": 8,
   "metadata": {},
   "outputs": [
    {
     "ename": "NameError",
     "evalue": "name 'upper' is not defined",
     "output_type": "error",
     "traceback": [
      "\u001b[0;31m---------------------------------------------------------------------------\u001b[0m",
      "\u001b[0;31mNameError\u001b[0m                                 Traceback (most recent call last)",
      "\u001b[0;32m<ipython-input-8-7661345ceeed>\u001b[0m in \u001b[0;36m<module>\u001b[0;34m\u001b[0m\n\u001b[0;32m----> 1\u001b[0;31m \u001b[0mupper\u001b[0m\u001b[0;34m(\u001b[0m\u001b[0;34m'orange'\u001b[0m\u001b[0;34m)\u001b[0m\u001b[0;34m\u001b[0m\u001b[0;34m\u001b[0m\u001b[0m\n\u001b[0m",
      "\u001b[0;31mNameError\u001b[0m: name 'upper' is not defined"
     ]
    }
   ],
   "source": [
    "upper('orange')"
   ]
  },
  {
   "cell_type": "markdown",
   "metadata": {},
   "source": [
    "`orange` 문자열에 포함된 문자 전부를 대문자로 바꾸려면 아래와 같이 해야 한다. "
   ]
  },
  {
   "cell_type": "code",
   "execution_count": 9,
   "metadata": {},
   "outputs": [
    {
     "data": {
      "text/plain": [
       "'ORANGE'"
      ]
     },
     "execution_count": 9,
     "metadata": {},
     "output_type": "execute_result"
    }
   ],
   "source": [
    "'orange'.upper()"
   ]
  },
  {
   "cell_type": "markdown",
   "metadata": {},
   "source": [
    "또한 `upper` 메서드는 문자열과 함께 사용되며, 다른 자료형과 함께 사용하면 오류가 발생한다.  "
   ]
  },
  {
   "cell_type": "code",
   "execution_count": 10,
   "metadata": {},
   "outputs": [
    {
     "ename": "SyntaxError",
     "evalue": "invalid syntax (<ipython-input-10-72b1845651b0>, line 1)",
     "output_type": "error",
     "traceback": [
      "\u001b[0;36m  File \u001b[0;32m\"<ipython-input-10-72b1845651b0>\"\u001b[0;36m, line \u001b[0;32m1\u001b[0m\n\u001b[0;31m    117.upper()\u001b[0m\n\u001b[0m            ^\u001b[0m\n\u001b[0;31mSyntaxError\u001b[0m\u001b[0;31m:\u001b[0m invalid syntax\n"
     ]
    }
   ],
   "source": [
    "117.upper()"
   ]
  },
  {
   "cell_type": "markdown",
   "metadata": {},
   "source": [
    "### 인자 사용법"
   ]
  },
  {
   "cell_type": "markdown",
   "metadata": {},
   "source": [
    "메서드도 일반 함수처럼 인자를 받을 수 있다. \n",
    "\n",
    "```\n",
    "특정자료형값.메서드이름(인자1, 인자2, ..., 인자n)\n",
    "```"
   ]
  },
  {
   "cell_type": "code",
   "execution_count": 16,
   "metadata": {},
   "outputs": [],
   "source": [
    "iLikePython = 'I like Python.'"
   ]
  },
  {
   "cell_type": "markdown",
   "metadata": {},
   "source": [
    "`replace` 메서드는 치환 대상과 대입할 문자열을 인자로 사용한다."
   ]
  },
  {
   "cell_type": "code",
   "execution_count": 14,
   "metadata": {},
   "outputs": [
    {
     "data": {
      "text/plain": [
       "'I like Python.'"
      ]
     },
     "execution_count": 14,
     "metadata": {},
     "output_type": "execute_result"
    }
   ],
   "source": [
    "iLikePython.replace('너무', '최고로')"
   ]
  },
  {
   "cell_type": "markdown",
   "metadata": {},
   "source": [
    "인자가 필요 없더라도 괄호 열고닫기는 반드시 사용해야 한다."
   ]
  },
  {
   "cell_type": "code",
   "execution_count": 15,
   "metadata": {},
   "outputs": [
    {
     "data": {
      "text/plain": [
       "['I', 'like', 'Python.']"
      ]
     },
     "execution_count": 15,
     "metadata": {},
     "output_type": "execute_result"
    }
   ],
   "source": [
    "iLikePython.split()"
   ]
  },
  {
   "cell_type": "markdown",
   "metadata": {},
   "source": [
    "## 문자열과 반복 명령문"
   ]
  },
  {
   "cell_type": "markdown",
   "metadata": {},
   "source": [
    "문자열은 여러 개의 문자열들의 나열이라는 의미에서 **모음**(collection) \n",
    "자료형의 값이라 부르기도 한다고 앞서 설명하였다.\n",
    "즉, 여러 개의 값(문자)을 하나로 묶여 있는 것이 문자열이다.\n",
    "\n",
    "그런데 필요할 때는 항목으로 사용된 각각의 문자를 확인하여 활용할 수 있어야 한다.\n",
    "인덱싱과 슬라이싱도 이런 용도로 사용되는 도구이지만,\n",
    "문자열의 길이가 엄청 길어지면\n",
    "인덱스와 슬라이싱 구간을 수동으로 지정하기 어려운 경우가 발생한다.\n",
    "즉, **자동화** 기능이 요구된다.\n",
    "\n",
    "`while`과 `for` 반복 명령문이 바로 자동화 기능을 지원한다.\n",
    "특히, 문자열, 리스트, 튜플, 어레이, 사전 등의 자료형과 함께 사용할 때\n",
    "두 반복문의 기능을 극대화할 수 있다.\n",
    "\n",
    "**참조:** 반복 명령문을 지원하지 않는 프로그래밍 언어는 용도가 매우 제한적이며,\n",
    "그런 프로그래밍 언어는 거의 사용되지 않는다."
   ]
  },
  {
   "cell_type": "markdown",
   "metadata": {},
   "source": [
    "### `while` 반복문"
   ]
  },
  {
   "cell_type": "markdown",
   "metadata": {},
   "source": [
    "문자열과 `while` 반복문을 함께 사용하려면 인덱스를 활용해야 한다.\n",
    "\n",
    "예를 들어, 문자열 `'banana'`에 사용된 항목들을 하나씩 차례대로 출력하려면 다음과 같이 한다."
   ]
  },
  {
   "cell_type": "code",
   "execution_count": 13,
   "metadata": {},
   "outputs": [
    {
     "name": "stdout",
     "output_type": "stream",
     "text": [
      "b\n",
      "a\n",
      "n\n",
      "a\n",
      "n\n",
      "a\n",
      "최종 index = 6\n"
     ]
    }
   ],
   "source": [
    "fruit = 'banana'\n",
    "\n",
    "idx = 0\n",
    "while idx < len(fruit):\n",
    "    letter = fruit[idx]\n",
    "    print(letter)\n",
    "    idx = idx + 1\n",
    "    \n",
    "print(\"최종 index =\", idx)"
   ]
  },
  {
   "cell_type": "markdown",
   "metadata": {},
   "source": [
    "위 코드 설명:\n",
    "* `while` 반복의 조건인 `idx < len(fruit)`가 거짓이 될 때까지 `idx`의 값이 0, 1, 2 등으로 변한다.\n",
    "* `idx`가 0, 1, ..., 5의 값을 가지면 해당 인덱스가 가리키는 위치의 문자를 출력한다. \n",
    "* `idx`에 할당된 값이 `len(fruit)`인 6이 되는 순간에 `while` 반복문을 벗어난다.\n",
    "    따라서 위 프로그램의 실행이 종료될 때 `idx`가 가리키는 값은 `banana` 문자열의 길이닌 6이 된다."
   ]
  },
  {
   "cell_type": "markdown",
   "metadata": {},
   "source": [
    "#### 예제\n",
    "\n",
    "주어진 문자열에 포함된 문자들을 역순으로 인쇄하는 프로그램은 다음과 같다."
   ]
  },
  {
   "cell_type": "code",
   "execution_count": 14,
   "metadata": {},
   "outputs": [
    {
     "name": "stdout",
     "output_type": "stream",
     "text": [
      "e\n",
      "l\n",
      "p\n",
      "p\n",
      "a\n"
     ]
    }
   ],
   "source": [
    "fruit = 'apple'\n",
    "\n",
    "idx = 1\n",
    "while idx < len(fruit) + 1:\n",
    "    letter = fruit[-idx]\n",
    "    print(letter)\n",
    "    idx = idx + 1"
   ]
  },
  {
   "cell_type": "markdown",
   "metadata": {},
   "source": [
    "그런데 `print` 함수가 출력할 때마다 줄바꿈이 사용된다.\n",
    "줄바꿈이 발생하지 않도록 하려면 다음과 같이 `print` 함수의 옵션 인자 설정 하나를 바꿔야 한다."
   ]
  },
  {
   "cell_type": "code",
   "execution_count": 15,
   "metadata": {},
   "outputs": [
    {
     "name": "stdout",
     "output_type": "stream",
     "text": [
      "elppa"
     ]
    }
   ],
   "source": [
    "fruit = 'apple'\n",
    "\n",
    "idx = 1\n",
    "while idx < len(fruit) + 1:\n",
    "    letter = fruit[-idx]\n",
    "    print(letter, end='')\n",
    "    idx = idx + 1"
   ]
  },
  {
   "cell_type": "markdown",
   "metadata": {},
   "source": [
    "파이썬에서 특정 함수는 옵션 매개변수를 여러 개 가질 수 있다. \n",
    "`print` 함수도 여러 개의 옵션 매개변수를 가지면, `end` 가 그중에 하나이다.\n",
    "`end`는 출력을 마친 후 실행하는 추가 옵션을 담당하며 기본 옵션값은 줄바꿈(`'\\n'`) 이다.\n",
    "위 프로그램에서는 `end` 옵션 매개변수에 할당된 인자를 아무 것도 하지 않는 것을 의미하는\n",
    "빈 문자열로 지정한 것이다. \n",
    "\n",
    "예를 들어, 항목들을 쉼표(콤마)로 구분하고 싶다면 다음가 같이 한다."
   ]
  },
  {
   "cell_type": "code",
   "execution_count": 16,
   "metadata": {},
   "outputs": [
    {
     "name": "stdout",
     "output_type": "stream",
     "text": [
      "e, l, p, p, a, "
     ]
    }
   ],
   "source": [
    "fruit = 'apple'\n",
    "\n",
    "idx = 1\n",
    "while idx < len(fruit) + 1:\n",
    "    letter = fruit[-idx]\n",
    "    print(letter, end=', ')\n",
    "    idx = idx + 1"
   ]
  },
  {
   "cell_type": "markdown",
   "metadata": {},
   "source": [
    "`print` 함수의 기타 옵션 매개변수 중에 `sep`도 중요하다. \n",
    "`sep` 옵션 매개변수에 대한 설명은 [코딩도장: 여러 값 출력하기](https://dojang.io/mod/page/view.php?id=1223)를 참조하면 좋다.\n",
    "\n",
    "위 프로그램은 슬라이싱을 사용하면 매우 간단하게 해결된다.\n",
    "스텝이 음수이면 역순으로 슬라이싱을 적용한다."
   ]
  },
  {
   "cell_type": "code",
   "execution_count": 17,
   "metadata": {},
   "outputs": [
    {
     "data": {
      "text/plain": [
       "'elppa'"
      ]
     },
     "execution_count": 17,
     "metadata": {},
     "output_type": "execute_result"
    }
   ],
   "source": [
    "fruit[::-1]"
   ]
  },
  {
   "cell_type": "markdown",
   "metadata": {},
   "source": [
    "**주의:** 항목들 사이에 쉼표 등을 삽입하는 기능은 슬라이싱이 제공하지 않는다."
   ]
  },
  {
   "cell_type": "markdown",
   "metadata": {},
   "source": [
    "#### 예제: 문자 검색함수"
   ]
  },
  {
   "cell_type": "markdown",
   "metadata": {},
   "source": [
    "인터넷 검색에서 가장 중요한 요소는 원하는 단어 또는 문장을 포함한 웹사이트, 문서 등을 찾는 일이다. \n",
    "여기서는 문자열에 특정 문자가 포함되어 있는지 여부를 판단하는 `findChar` 함수를\n",
    "기존 문자열 메서드를 전혀 사용하지 않으면서 구현해 본다.\n",
    "\n",
    "아래 정의된 `findChar` 함수는 입력된 문자열에 특정 문자가 포함되어 있으면 \n",
    "그 문자가 가장 먼저 나타나는 곳의 인덱스를 찾아주고, 그렇지 않으면 -1을 내준다."
   ]
  },
  {
   "cell_type": "code",
   "execution_count": 18,
   "metadata": {},
   "outputs": [],
   "source": [
    "def findChar(word, letter):\n",
    "    idx = 0\n",
    "    while idx < len(word):\n",
    "        if word[idx] == letter:\n",
    "            return idx\n",
    "        idx = idx + 1\n",
    "    return -1"
   ]
  },
  {
   "cell_type": "code",
   "execution_count": 19,
   "metadata": {},
   "outputs": [
    {
     "data": {
      "text/plain": [
       "1"
      ]
     },
     "execution_count": 19,
     "metadata": {},
     "output_type": "execute_result"
    }
   ],
   "source": [
    "findChar('banana', 'a')"
   ]
  },
  {
   "cell_type": "code",
   "execution_count": 20,
   "metadata": {},
   "outputs": [
    {
     "data": {
      "text/plain": [
       "2"
      ]
     },
     "execution_count": 20,
     "metadata": {},
     "output_type": "execute_result"
    }
   ],
   "source": [
    "findChar('banana', 'n')"
   ]
  },
  {
   "cell_type": "code",
   "execution_count": 21,
   "metadata": {},
   "outputs": [
    {
     "data": {
      "text/plain": [
       "-1"
      ]
     },
     "execution_count": 21,
     "metadata": {},
     "output_type": "execute_result"
    }
   ],
   "source": [
    "findChar('banana', 'o')"
   ]
  },
  {
   "cell_type": "markdown",
   "metadata": {},
   "source": [
    "### 문자열과 `for` 반복 명령문"
   ]
  },
  {
   "cell_type": "markdown",
   "metadata": {},
   "source": [
    "파이썬에서 문자열과 같은 모음 자료형은 `while` 반복문 보다\n",
    "`for` 반복문과 사용하는 게 보다 효율적이다.\n",
    "이유는 `for` 반복문 자체가 자동으로 인덱스를 1씩 키워주는 기능을 갖고 있기 때문이다.\n",
    "\n",
    "**주의:** C와 자바는 `for` 반복문이 이런 기능을 제공하지 않는다.\n",
    "\n",
    "따라서 앞서 `while` 반복문에서 인덱스가 1씩 커지는 것을 \n",
    "지원하는 `idx` 변수가 필요없게 된다. \n",
    "예를 들어, 아래 코드는 `fruit`에 할당된 문자열의 각 항목을 차례대로 출력한다."
   ]
  },
  {
   "cell_type": "code",
   "execution_count": 22,
   "metadata": {},
   "outputs": [
    {
     "name": "stdout",
     "output_type": "stream",
     "text": [
      "a\n",
      "p\n",
      "p\n",
      "l\n",
      "e\n"
     ]
    }
   ],
   "source": [
    "for letter in fruit:\n",
    "    print(letter)"
   ]
  },
  {
   "cell_type": "markdown",
   "metadata": {},
   "source": [
    "* `letter` 변수는 처음에 `a`를 가리킨다.\n",
    "* 다음 과정을 `letter` 변수가 더 이상 가리킬 값(문자)가 없을 때까지 위 과정을 반복한다.\n",
    "    * `for` 반복문의 본체를 실행한다.\n",
    "    * `letter` 변수가 가리키는 값을 오른편에 위치한 값으로 대체한다."
   ]
  },
  {
   "cell_type": "markdown",
   "metadata": {},
   "source": [
    "#### 예제\n",
    "\n",
    "* `for` 반복 명령문을 활용하여 특정 단어들을 생성하는 예제이다. \n",
    "* `JKLMNOPQ`에 포함된 문자를 하나씩 꺼내어 `ack`라는 문자열의 맨 앞에 붙힌 단어들을 생성한다. "
   ]
  },
  {
   "cell_type": "code",
   "execution_count": 23,
   "metadata": {},
   "outputs": [
    {
     "name": "stdout",
     "output_type": "stream",
     "text": [
      "Jack\n",
      "Kack\n",
      "Lack\n",
      "Mack\n",
      "Nack\n",
      "Oack\n",
      "Pack\n",
      "Qack\n"
     ]
    }
   ],
   "source": [
    "# 접두사\n",
    "prefixes = 'JKLMNOPQ'\n",
    "\n",
    "#접미사\n",
    "suffix = 'ack'\n",
    "\n",
    "for letter in prefixes:\n",
    "    print(letter + suffix)"
   ]
  },
  {
   "cell_type": "markdown",
   "metadata": {},
   "source": [
    "#### 예제\n",
    "\n",
    "`apple`과 `orange` 두 단어에 공동으로 포함된 알파벳을 출력하는 방법은 다음과 같다."
   ]
  },
  {
   "cell_type": "code",
   "execution_count": 24,
   "metadata": {},
   "outputs": [
    {
     "name": "stdout",
     "output_type": "stream",
     "text": [
      "a\n",
      "e\n"
     ]
    }
   ],
   "source": [
    "word1 = 'apple'\n",
    "word2 = 'orange'\n",
    "\n",
    "for letter in word1:\n",
    "    if letter in word2:\n",
    "        print(letter)"
   ]
  },
  {
   "cell_type": "markdown",
   "metadata": {},
   "source": [
    "두 개의 문자열에 공동으로 사용된 문자들을 모두 출력하는 함수 `inBoth`를 \n",
    "구현하려면 `word1`과 `word2`가 임의의 문자열을 가리킬 수 있도록 하면 된다.\n",
    "즉, 두 변수를 매개변수로 사용하는 함수를 아래와 같이 선언하면 된다."
   ]
  },
  {
   "cell_type": "code",
   "execution_count": 25,
   "metadata": {},
   "outputs": [],
   "source": [
    "def inBoth(word1, word2):\n",
    "    for letter in word1:\n",
    "        if letter in word2:\n",
    "            print(letter)"
   ]
  },
  {
   "cell_type": "code",
   "execution_count": 26,
   "metadata": {},
   "outputs": [
    {
     "name": "stdout",
     "output_type": "stream",
     "text": [
      "a\n",
      "e\n"
     ]
    }
   ],
   "source": [
    "inBoth('apple', 'orange')"
   ]
  },
  {
   "cell_type": "markdown",
   "metadata": {},
   "source": [
    "#### 예제: 집계하기\n",
    "\n",
    "다음 프로그램은 문자열에서 문자 `'a'`가 나타나는 횟수를 집계(카운팅, counting)할 수 있다."
   ]
  },
  {
   "cell_type": "code",
   "execution_count": 27,
   "metadata": {},
   "outputs": [
    {
     "name": "stdout",
     "output_type": "stream",
     "text": [
      "orange에서 알파벳 a가 1 번 사용되었어요.\n"
     ]
    }
   ],
   "source": [
    "word = 'orange'\n",
    "count = 0\n",
    "for letter in word:\n",
    "    if letter == 'a':\n",
    "        count = count + 1\n",
    "print(word + '에서' + \" 알파벳 a가\", count, '번 사용되었어요.')"
   ]
  },
  {
   "cell_type": "markdown",
   "metadata": {},
   "source": [
    "**주의:** `print` 함수의 인자들을 의도적으로 복잡하게 사용하였다."
   ]
  },
  {
   "cell_type": "markdown",
   "metadata": {},
   "source": [
    "## 디버깅 연습: 인덱스 활용\n",
    "\n",
    "아래의 `is_reverse` 함수는 인자로 입력된 두 문자열이 서로 뒤집어진 관계인지를 판단하는 기능을 갖도록 정의되었다. "
   ]
  },
  {
   "cell_type": "code",
   "execution_count": 28,
   "metadata": {},
   "outputs": [],
   "source": [
    "def is_reverse(word1, word2):\n",
    "    if len(word1) != len(word2):\n",
    "        return False\n",
    "\n",
    "    i = 0\n",
    "    j = len(word2)\n",
    "\n",
    "    while j > 0:\n",
    "        if word1[i] != word2[j]:\n",
    "            return False\n",
    "        i = i+1\n",
    "        j = j-1\n",
    "\n",
    "    return True"
   ]
  },
  {
   "cell_type": "markdown",
   "metadata": {},
   "source": [
    "코드 설명:\n",
    "\n",
    "* 첫 번째 `if` 명령문은 단어들의 길이가 같은지 검사하며, 즉시 `False`를 리턴하고 실행을 종료한다. \n",
    "* 두 단어의 길이가 같을 경우, 두 단어를 탐색하기 위해 두 개의 인덱스 지수인 `i`와 `j` 선언.\n",
    "* `while` 명령문\n",
    "    * `i`는 `word1`를 순방향으로 탐색\n",
    "    * `j`는 `word2`를 역방향으로 탐색\n",
    "    * 만약 두 글자가 다른 경우를 발견하면, 즉시 `False`를 리턴하고 실행 종료.\n",
    "* `while` 명령문이 끝난 경우\n",
    "    * 두 단어가 서로 뒤집힌 관계인을 의미\n",
    "    * 따라서 `True` 리턴하고 실행 종료."
   ]
  },
  {
   "cell_type": "markdown",
   "metadata": {},
   "source": [
    "그런데 위 함수는 잘못 정의되어 있다. \n",
    "`is_reverse` 함수의 정의가 문법상으로는 하자가 없지만 실행을 하다보면 오류가 발생한다.\n",
    "이와 같은 오류를 __실행시간 오류(runtime error)__ 라 부른다."
   ]
  },
  {
   "cell_type": "code",
   "execution_count": 29,
   "metadata": {},
   "outputs": [
    {
     "ename": "IndexError",
     "evalue": "string index out of range",
     "output_type": "error",
     "traceback": [
      "\u001b[0;31m---------------------------------------------------------------------------\u001b[0m",
      "\u001b[0;31mIndexError\u001b[0m                                Traceback (most recent call last)",
      "\u001b[0;32m<ipython-input-29-d368e6954e78>\u001b[0m in \u001b[0;36m<module>\u001b[0;34m\u001b[0m\n\u001b[0;32m----> 1\u001b[0;31m \u001b[0mis_reverse\u001b[0m\u001b[0;34m(\u001b[0m\u001b[0;34m'pots'\u001b[0m\u001b[0;34m,\u001b[0m \u001b[0;34m'stop'\u001b[0m\u001b[0;34m)\u001b[0m\u001b[0;34m\u001b[0m\u001b[0;34m\u001b[0m\u001b[0m\n\u001b[0m",
      "\u001b[0;32m<ipython-input-28-762d949ae797>\u001b[0m in \u001b[0;36mis_reverse\u001b[0;34m(word1, word2)\u001b[0m\n\u001b[1;32m      7\u001b[0m \u001b[0;34m\u001b[0m\u001b[0m\n\u001b[1;32m      8\u001b[0m     \u001b[0;32mwhile\u001b[0m \u001b[0mj\u001b[0m \u001b[0;34m>\u001b[0m \u001b[0;36m0\u001b[0m\u001b[0;34m:\u001b[0m\u001b[0;34m\u001b[0m\u001b[0;34m\u001b[0m\u001b[0m\n\u001b[0;32m----> 9\u001b[0;31m         \u001b[0;32mif\u001b[0m \u001b[0mword1\u001b[0m\u001b[0;34m[\u001b[0m\u001b[0mi\u001b[0m\u001b[0;34m]\u001b[0m \u001b[0;34m!=\u001b[0m \u001b[0mword2\u001b[0m\u001b[0;34m[\u001b[0m\u001b[0mj\u001b[0m\u001b[0;34m]\u001b[0m\u001b[0;34m:\u001b[0m\u001b[0;34m\u001b[0m\u001b[0;34m\u001b[0m\u001b[0m\n\u001b[0m\u001b[1;32m     10\u001b[0m             \u001b[0;32mreturn\u001b[0m \u001b[0;32mFalse\u001b[0m\u001b[0;34m\u001b[0m\u001b[0;34m\u001b[0m\u001b[0m\n\u001b[1;32m     11\u001b[0m         \u001b[0mi\u001b[0m \u001b[0;34m=\u001b[0m \u001b[0mi\u001b[0m\u001b[0;34m+\u001b[0m\u001b[0;36m1\u001b[0m\u001b[0;34m\u001b[0m\u001b[0;34m\u001b[0m\u001b[0m\n",
      "\u001b[0;31mIndexError\u001b[0m: string index out of range"
     ]
    }
   ],
   "source": [
    "is_reverse('pots', 'stop')"
   ]
  },
  {
   "cell_type": "markdown",
   "metadata": {},
   "source": [
    "이런 종류의 오류를 디버깅할 때 오류를 발생시킨 명령문 바로 앞줄에서 인덱스의 값을 인쇄해보는 것이다."
   ]
  },
  {
   "cell_type": "code",
   "execution_count": 30,
   "metadata": {},
   "outputs": [],
   "source": [
    "def is_reverse(word1, word2):\n",
    "    if len(word1) != len(word2):\n",
    "        return False\n",
    "\n",
    "    i = 0\n",
    "    j = len(word2)\n",
    "\n",
    "    while j > 0:\n",
    "        print('i =', i, 'j = ', j)                 # print 명령문 추가\n",
    "        if word1[i] != word2[j]:\n",
    "            return False\n",
    "        i = i+1\n",
    "        j = j-1\n",
    "\n",
    "    return True"
   ]
  },
  {
   "cell_type": "markdown",
   "metadata": {},
   "source": [
    "다시 실행하면 좀 더 많은 정보를 얻는다."
   ]
  },
  {
   "cell_type": "code",
   "execution_count": 31,
   "metadata": {},
   "outputs": [
    {
     "name": "stdout",
     "output_type": "stream",
     "text": [
      "i = 0 j =  4\n"
     ]
    },
    {
     "ename": "IndexError",
     "evalue": "string index out of range",
     "output_type": "error",
     "traceback": [
      "\u001b[0;31m---------------------------------------------------------------------------\u001b[0m",
      "\u001b[0;31mIndexError\u001b[0m                                Traceback (most recent call last)",
      "\u001b[0;32m<ipython-input-31-d368e6954e78>\u001b[0m in \u001b[0;36m<module>\u001b[0;34m\u001b[0m\n\u001b[0;32m----> 1\u001b[0;31m \u001b[0mis_reverse\u001b[0m\u001b[0;34m(\u001b[0m\u001b[0;34m'pots'\u001b[0m\u001b[0;34m,\u001b[0m \u001b[0;34m'stop'\u001b[0m\u001b[0;34m)\u001b[0m\u001b[0;34m\u001b[0m\u001b[0;34m\u001b[0m\u001b[0m\n\u001b[0m",
      "\u001b[0;32m<ipython-input-30-4b4176bb5753>\u001b[0m in \u001b[0;36mis_reverse\u001b[0;34m(word1, word2)\u001b[0m\n\u001b[1;32m      8\u001b[0m     \u001b[0;32mwhile\u001b[0m \u001b[0mj\u001b[0m \u001b[0;34m>\u001b[0m \u001b[0;36m0\u001b[0m\u001b[0;34m:\u001b[0m\u001b[0;34m\u001b[0m\u001b[0;34m\u001b[0m\u001b[0m\n\u001b[1;32m      9\u001b[0m         \u001b[0mprint\u001b[0m\u001b[0;34m(\u001b[0m\u001b[0;34m'i ='\u001b[0m\u001b[0;34m,\u001b[0m \u001b[0mi\u001b[0m\u001b[0;34m,\u001b[0m \u001b[0;34m'j = '\u001b[0m\u001b[0;34m,\u001b[0m \u001b[0mj\u001b[0m\u001b[0;34m)\u001b[0m                 \u001b[0;31m# print 명령문 추가\u001b[0m\u001b[0;34m\u001b[0m\u001b[0;34m\u001b[0m\u001b[0m\n\u001b[0;32m---> 10\u001b[0;31m         \u001b[0;32mif\u001b[0m \u001b[0mword1\u001b[0m\u001b[0;34m[\u001b[0m\u001b[0mi\u001b[0m\u001b[0;34m]\u001b[0m \u001b[0;34m!=\u001b[0m \u001b[0mword2\u001b[0m\u001b[0;34m[\u001b[0m\u001b[0mj\u001b[0m\u001b[0;34m]\u001b[0m\u001b[0;34m:\u001b[0m\u001b[0;34m\u001b[0m\u001b[0;34m\u001b[0m\u001b[0m\n\u001b[0m\u001b[1;32m     11\u001b[0m             \u001b[0;32mreturn\u001b[0m \u001b[0;32mFalse\u001b[0m\u001b[0;34m\u001b[0m\u001b[0;34m\u001b[0m\u001b[0m\n\u001b[1;32m     12\u001b[0m         \u001b[0mi\u001b[0m \u001b[0;34m=\u001b[0m \u001b[0mi\u001b[0m\u001b[0;34m+\u001b[0m\u001b[0;36m1\u001b[0m\u001b[0;34m\u001b[0m\u001b[0;34m\u001b[0m\u001b[0m\n",
      "\u001b[0;31mIndexError\u001b[0m: string index out of range"
     ]
    }
   ],
   "source": [
    "is_reverse('pots', 'stop')"
   ]
  },
  {
   "cell_type": "markdown",
   "metadata": {},
   "source": [
    "### 1차 수정\n",
    "`while` 명령문을 시작하면서 `i`와 `j`에 할당된 인덱스의 값을 출력한다. \n",
    "그런데 `j`의 값은 4인데, 문자열 'pots'의 범위를 벗어나기 때문에 오류가 발생한다. \n",
    "마지막 문자의 지수는 문자열의 길이에서 1을 빼야 하므로, `j`의 초기값은 `len(word2)-1`이어야 한다."
   ]
  },
  {
   "cell_type": "code",
   "execution_count": 32,
   "metadata": {},
   "outputs": [],
   "source": [
    "def is_reverse(word1, word2):\n",
    "    if len(word1) != len(word2):\n",
    "        return False\n",
    "\n",
    "    i = 0\n",
    "    j = len(word2) - 1                   # 1차 수정\n",
    "\n",
    "    while j > 0:\n",
    "        print('i =', i, 'j = ', j)       # print 명령문 추가\n",
    "        if word1[i] != word2[j]:\n",
    "            return False\n",
    "        i = i+1\n",
    "        j = j-1\n",
    "\n",
    "    return True"
   ]
  },
  {
   "cell_type": "code",
   "execution_count": 33,
   "metadata": {},
   "outputs": [
    {
     "name": "stdout",
     "output_type": "stream",
     "text": [
      "i = 0 j =  3\n",
      "i = 1 j =  2\n",
      "i = 2 j =  1\n"
     ]
    },
    {
     "data": {
      "text/plain": [
       "True"
      ]
     },
     "execution_count": 33,
     "metadata": {},
     "output_type": "execute_result"
    }
   ],
   "source": [
    "is_reverse('pots', 'stop')"
   ]
  },
  {
   "cell_type": "markdown",
   "metadata": {},
   "source": [
    "이번에는 답은 맞았지만 `while` 순환이 세 번만 실행된 것으로 확인된다. \n",
    "실제로 아래의 경우에는 오답을 리턴한다."
   ]
  },
  {
   "cell_type": "code",
   "execution_count": 34,
   "metadata": {},
   "outputs": [
    {
     "name": "stdout",
     "output_type": "stream",
     "text": [
      "i = 0 j =  3\n",
      "i = 1 j =  2\n",
      "i = 2 j =  1\n"
     ]
    },
    {
     "data": {
      "text/plain": [
       "True"
      ]
     },
     "execution_count": 34,
     "metadata": {},
     "output_type": "execute_result"
    }
   ],
   "source": [
    "is_reverse('pota', 'stop')"
   ]
  },
  {
   "cell_type": "markdown",
   "metadata": {},
   "source": [
    "### 2차 수정\n",
    "`while` 순환이 세 번만 실행되기에 `pota`의 마지막 문자인 `a`와 `stop`의 첫째 문자인 `s`의 \n",
    "비교는 실행되지 않기 때문이다.\n",
    "\n",
    "즉, `j`의 값이 0인 경우를 다루지 않는다. 따라서 코드를 아래와 같이 추가 수정해야 한다."
   ]
  },
  {
   "cell_type": "code",
   "execution_count": 35,
   "metadata": {},
   "outputs": [],
   "source": [
    "def is_reverse(word1, word2):\n",
    "    if len(word1) != len(word2):\n",
    "        return False\n",
    "\n",
    "    i = 0\n",
    "    j = len(word2) - 1                   # 1차 수정\n",
    "\n",
    "    while j >= 0:                        # 2차 수정\n",
    "        print('i =', i, 'j = ', j)       # print 명령문 추가\n",
    "        if word1[i] != word2[j]:\n",
    "            return False\n",
    "        i = i+1\n",
    "        j = j-1\n",
    "\n",
    "    return True"
   ]
  },
  {
   "cell_type": "code",
   "execution_count": 36,
   "metadata": {},
   "outputs": [
    {
     "name": "stdout",
     "output_type": "stream",
     "text": [
      "i = 0 j =  3\n",
      "i = 1 j =  2\n",
      "i = 2 j =  1\n",
      "i = 3 j =  0\n"
     ]
    },
    {
     "data": {
      "text/plain": [
       "False"
      ]
     },
     "execution_count": 36,
     "metadata": {},
     "output_type": "execute_result"
    }
   ],
   "source": [
    "is_reverse('pota', 'stop')"
   ]
  },
  {
   "cell_type": "markdown",
   "metadata": {},
   "source": [
    "이제 `is_reverse` 함수가 제대로 작동함을 확인하였다. \n",
    "따라서 디버깅을 위해 추가한 `print` 명령문을 이제는 삭제하는 게 좋다."
   ]
  },
  {
   "cell_type": "code",
   "execution_count": 37,
   "metadata": {},
   "outputs": [],
   "source": [
    "def is_reverse(word1, word2):\n",
    "    if len(word1) != len(word2):\n",
    "        return False\n",
    "\n",
    "    i = 0\n",
    "    j = len(word2) - 1\n",
    "\n",
    "    while j >= 0:\n",
    "        if word1[i] != word2[j]:\n",
    "            return False\n",
    "        i = i+1\n",
    "        j = j-1\n",
    "\n",
    "    return True"
   ]
  },
  {
   "cell_type": "code",
   "execution_count": 38,
   "metadata": {},
   "outputs": [
    {
     "data": {
      "text/plain": [
       "True"
      ]
     },
     "execution_count": 38,
     "metadata": {},
     "output_type": "execute_result"
    }
   ],
   "source": [
    "is_reverse('pots', 'stop')"
   ]
  },
  {
   "cell_type": "code",
   "execution_count": 39,
   "metadata": {},
   "outputs": [
    {
     "data": {
      "text/plain": [
       "False"
      ]
     },
     "execution_count": 39,
     "metadata": {},
     "output_type": "execute_result"
    }
   ],
   "source": [
    "is_reverse('pota', 'stop')"
   ]
  },
  {
   "cell_type": "markdown",
   "metadata": {},
   "source": [
    "## 연습문제"
   ]
  },
  {
   "cell_type": "markdown",
   "metadata": {},
   "source": [
    "1. 아래 코드는 앞서 살펴본 `findChar` 검색함수이다. \n",
    "    ```python\n",
    "    def findChar(word, letter):\n",
    "        idx = 0\n",
    "        while idx < len(word):\n",
    "            if word[idx] == letter:\n",
    "                return idx\n",
    "            idx = idx + 1\n",
    "        return -1\n",
    "    ```\n",
    "    아래 조건을 만족시키도록 `findChar` 함수를 수정하라. \n",
    "    * 인자를 세 개 받는다. 예를 들어, `word`와 `letter` 두 개의 매개변수와 더불어 \n",
    "        `position`이라는 매개변수를 하나 더 사용하도록 한다. \n",
    "    * `position` 매개변수는 정수를 입력값으로 기대한다.\n",
    "    * `position`을 통해 전달된 정수는 탐색을 시작할 위치를 나타낸다.\n",
    "        즉, 앞서 정의된 `findChar` 함수는 `position`이 0인 특수한 경우가 되도록 한다.\n",
    "<br><br>\n",
    "1. 문자열의 `find` 메서드에 대응하는 `find` 함수를 정의하라.\n",
    "    즉, 아래 조건을 만족하는 `find` 함수를 정의해야 한다.\n",
    "    * `word1`, `word2`, `position` 세 개의 인자를 받는다.\n",
    "    * `word1`, `word2`는 문자열을 입력값으로 기대한다.\n",
    "    * `position` 매개변수는 정수를 입력값으로 기대한다.\n",
    "    * `position`을 통해 전달된 정수는 탐색을 시작할 위치를 나타낸다.\n",
    "<br><br>\n",
    "1. 아래는 집계(counting)에 사용된 코드이다.\n",
    "    ```python\n",
    "    word = 'orange'\n",
    "    count = 0\n",
    "    for letter in word:\n",
    "        if letter == 'a':\n",
    "            count = count + 1\n",
    "    print(count)\n",
    "    ```\n",
    "    1. 위 코드를 이용하여 문자열과 문자를 인자로 받는 `counting`라는 이름의 함수를 선언하라. \n",
    "    즉, `counting('orange', 'a')` 형식으로 호출되면 `orange` 문자열에서 `a` 문자가 몇 번 나타나는지를 확인해주어야 한다.\n",
    "    1. 앞서 `find` 함수의 경우처럼 `counting` 함수를 인자를 하나 더 받아서 특정 인덱스 이후 지정한 문자가 몇 번 출현하는지를 집계하도록 수정하라.\n",
    "<br><br>\n",
    "1. 영어 단어 중에서 `radar`, `noon` 등과 같이 앞으로 읽으나 뒤로 읽으나 스펠링이 동일한 단어를 \n",
    "    회문(palindrome)이라 한다.\n",
    "    문자열이 회문이면 `True`를, 아니면 `False`를 리턴하는 함수 `is_palindrome`을 구현하라.\n",
    "    즉, 아래 코드에서 `pass` 부분을 적당한 코드로 구현하라. \n",
    "    ```python\n",
    "    def is_palindrome(word)\n",
    "        pass\n",
    "    ```\n",
    "1. 앞선 문제에서 다룬 `is_palindrome` 함수를 스텝을 이용하여 구현하라.\n",
    "<br><br>    \n",
    "1. 다음 함수들은 모두 문자열이 소문자를 포함하고 있는지 여부를 조사하도록 구현되었지만 \n",
    "    일부는 제대로 작동하지 않는다. \n",
    "    각각의 함수마다, 함수가 실제로 무엇을 하는지 설명하라. (인자는 문자열이 들어오는 경우를 다룬다.)\n",
    "    ```python\n",
    "    def any_lowercase1(s):\n",
    "        for c in s:\n",
    "            if c.islower():\n",
    "                return True\n",
    "            else:\n",
    "                return False\n",
    "\n",
    "    def any_lowercase2(s):\n",
    "        for c in s:\n",
    "            if 'c'.islower():\n",
    "                return 'True'\n",
    "            else:\n",
    "                return 'False'\n",
    "\n",
    "    def any_lowercase3(s):\n",
    "        for c in s:\n",
    "            flag = c.islower()\n",
    "        return flag\n",
    "\n",
    "    def any_lowercase4(s):\n",
    "        flag = False\n",
    "        for c in s:\n",
    "            flag = flag or c.islower()\n",
    "        return flag\n",
    "\n",
    "    def any_lowercase5(s):\n",
    "        for c in s:\n",
    "            if not c.islower():\n",
    "                return False\n",
    "        return True\n",
    "    ```\n",
    "1. ROT13은 단어의 각 글자를 13자리만큼 회전 시키는 방식의 간단한 암호 법이다. \n",
    "    글자를 회전한다는 것은 알파벳 상의 위치를 이동한다는 뜻이다. \n",
    "    예를 들어, `'A'` 를 3만큼 이동하면 `'D'`가, `'Z'` 를 1만 큼 이동하면 `'A'`가 된다.\n",
    "    <br><br>\n",
    "    문자열과 정수를 매개변수로 받아들여서 원래 문자열을 요청한 양만큼 \"회전\"시킨 문자열을 \n",
    "    리턴하는 함수 `rotate_word`를 구현하라. \n",
    "    예를 들어, `'cheer'` 를 7만큼 회전시키면 `'jolly'` 이고 `'melon'` 을 -10만큼 \n",
    "    회전시키면 `'cubed'`가 되어야 한다.\n",
    "    #### 힌트:\n",
    "    문자를 숫자 코드로 형변환하는 `ord` 내장함수와 \n",
    "    숫자코드를 문자로 형변환 시키는 `chr` 내장함수를 이용할 수 있다.\n",
    "    아래 사이트에 가면 모범답안이 있다. 하지만 먼저 스스로 해결하도록 노력해 보아야 한다.\n",
    "    <br><br>\n",
    "    http://thinkpython.com/code/rotate.py\n",
    "    <br><br>\n",
    "    __내장함수란?__ 파이썬에서 이미 정의된 함수를 의미한다."
   ]
  }
 ],
 "metadata": {
  "kernelspec": {
   "display_name": "Python 3",
   "language": "python",
   "name": "python3"
  },
  "language_info": {
   "codemirror_mode": {
    "name": "ipython",
    "version": 3
   },
   "file_extension": ".py",
   "mimetype": "text/x-python",
   "name": "python",
   "nbconvert_exporter": "python",
   "pygments_lexer": "ipython3",
   "version": "3.6.8"
  }
 },
 "nbformat": 4,
 "nbformat_minor": 2
}
