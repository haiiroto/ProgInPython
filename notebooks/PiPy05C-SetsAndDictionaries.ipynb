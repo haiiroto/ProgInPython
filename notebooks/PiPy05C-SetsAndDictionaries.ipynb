{
 "cells": [
  {
   "cell_type": "markdown",
   "metadata": {},
   "source": [
    "# 기본 자료형: 집합과 사전"
   ]
  },
  {
   "cell_type": "markdown",
   "metadata": {},
   "source": [
    "## 집합"
   ]
  },
  {
   "cell_type": "markdown",
   "metadata": {},
   "source": [
    "`set` 자료형은 집합에 해당하는 자료형이며, 수학에서 배운 집합 개념과 동일하다.\n",
    "\n",
    "* 원소들 사이의 순서가 없다.\n",
    "* 중복된 원소를 인정하지 않는다."
   ]
  },
  {
   "cell_type": "code",
   "execution_count": 1,
   "metadata": {},
   "outputs": [
    {
     "data": {
      "text/plain": [
       "{2, 3, 5, 7}"
      ]
     },
     "execution_count": 1,
     "metadata": {},
     "output_type": "execute_result"
    }
   ],
   "source": [
    "primes_below_10 = {2, 3, 7, 5, 7, 3}\n",
    "primes_below_10"
   ]
  },
  {
   "cell_type": "markdown",
   "metadata": {},
   "source": [
    "원소의 개수는 `len` 함수를 이용하여 확인한다."
   ]
  },
  {
   "cell_type": "code",
   "execution_count": 2,
   "metadata": {},
   "outputs": [
    {
     "data": {
      "text/plain": [
       "4"
      ]
     },
     "execution_count": 2,
     "metadata": {},
     "output_type": "execute_result"
    }
   ],
   "source": [
    "len(primes_below_10)"
   ]
  },
  {
   "cell_type": "markdown",
   "metadata": {},
   "source": [
    "공집합은 `set()`으로 생성하며, 원소 추가는 `add` 메소드를 활용한다."
   ]
  },
  {
   "cell_type": "code",
   "execution_count": 3,
   "metadata": {},
   "outputs": [
    {
     "name": "stdout",
     "output_type": "stream",
     "text": [
      "{1, 2}\n"
     ]
    }
   ],
   "source": [
    "s = set()\n",
    "s.add(1)\n",
    "s.add(2)\n",
    "s.add(2)\n",
    "\n",
    "print(s)"
   ]
  },
  {
   "cell_type": "markdown",
   "metadata": {},
   "source": [
    "원소의 포함여부는 `in` 연산자를 활용하여 확인한다."
   ]
  },
  {
   "cell_type": "code",
   "execution_count": 4,
   "metadata": {},
   "outputs": [
    {
     "data": {
      "text/plain": [
       "True"
      ]
     },
     "execution_count": 4,
     "metadata": {},
     "output_type": "execute_result"
    }
   ],
   "source": [
    "2 in s"
   ]
  },
  {
   "cell_type": "code",
   "execution_count": 5,
   "metadata": {},
   "outputs": [
    {
     "data": {
      "text/plain": [
       "False"
      ]
     },
     "execution_count": 5,
     "metadata": {},
     "output_type": "execute_result"
    }
   ],
   "source": [
    "3 in s"
   ]
  },
  {
   "cell_type": "markdown",
   "metadata": {},
   "source": [
    "### 집합 자료형 사용 이유"
   ]
  },
  {
   "cell_type": "markdown",
   "metadata": {},
   "source": [
    "#### 예제\n",
    "\n",
    "리스트에 중복으로 포함된 항목을 쉽게 제거할 수 있다."
   ]
  },
  {
   "cell_type": "code",
   "execution_count": 6,
   "metadata": {},
   "outputs": [
    {
     "name": "stdout",
     "output_type": "stream",
     "text": [
      "[1, 2, 3]\n"
     ]
    }
   ],
   "source": [
    "item_list = [1, 2, 3, 1, 2, 3]\n",
    "\n",
    "item_set = set(item_list) \n",
    "distinct_item_list = list(item_set)\n",
    "\n",
    "print(distinct_item_list)"
   ]
  },
  {
   "cell_type": "markdown",
   "metadata": {},
   "source": [
    "#### 예제\n",
    "\n",
    "리스트에 중복으로 포함된 항목이 존재하는가를 쉽게 판단할 수 있다.\n",
    "예를 들어, 아래 함수는 중복 함수의 포함여부를 판단해준다."
   ]
  },
  {
   "cell_type": "code",
   "execution_count": 7,
   "metadata": {},
   "outputs": [],
   "source": [
    "def has_duplicates(t):\n",
    "    return len(set(t)) < len(t)"
   ]
  },
  {
   "cell_type": "code",
   "execution_count": 8,
   "metadata": {},
   "outputs": [
    {
     "data": {
      "text/plain": [
       "True"
      ]
     },
     "execution_count": 8,
     "metadata": {},
     "output_type": "execute_result"
    }
   ],
   "source": [
    "has_duplicates(item_list)"
   ]
  },
  {
   "cell_type": "markdown",
   "metadata": {},
   "source": [
    "#### 예제\n",
    "\n",
    "길이가 매우 긴 리스트를 대상으로 항목의 존재여부를 판단할 때 집합 자료형으로 형변환을 하면 \n",
    "매우 빠르게 해결할 수 있다."
   ]
  },
  {
   "cell_type": "code",
   "execution_count": 9,
   "metadata": {},
   "outputs": [
    {
     "name": "stdout",
     "output_type": "stream",
     "text": [
      "False\n",
      "False\n"
     ]
    }
   ],
   "source": [
    "hundreds_of_other_words = []  # 매우 긴 리스트라 상상한다.\n",
    "stopwords_list = [\"a\", \"an\", \"at\"] \\\n",
    "                + hundreds_of_other_words + [\"yet\", \"you\"]\n",
    "\n",
    "print(\"zip\" in stopwords_list)     # 확인 과정이 느리다.\n",
    "\n",
    "stopwords_set = set(stopwords_list)\n",
    "print(\"zip\" in stopwords_set)      # 매우 빠르게 확인한다."
   ]
  },
  {
   "cell_type": "markdown",
   "metadata": {},
   "source": [
    "#### 예제\n",
    "\n",
    "부분집합 관계를 이용할 수 있다.\n",
    "예를 들어, 아래 함수는 첫째 인자의 리스트에 포함된 모든 원소가,\n",
    "둘째 인자의 리스트에 항목으로 포하되는지 여부를 판단한다.\n",
    "\n",
    "**주의:** `<=` 연산자는 집합을 대상으로 할 경우 부분집합 관계를 결정한다."
   ]
  },
  {
   "cell_type": "code",
   "execution_count": 10,
   "metadata": {},
   "outputs": [],
   "source": [
    "def sublist(list1, list2):\n",
    "    return set(list1) <= set(list2)"
   ]
  },
  {
   "cell_type": "code",
   "execution_count": 11,
   "metadata": {},
   "outputs": [
    {
     "data": {
      "text/plain": [
       "True"
      ]
     },
     "execution_count": 11,
     "metadata": {},
     "output_type": "execute_result"
    }
   ],
   "source": [
    "sublist(item_list, distinct_item_list)"
   ]
  },
  {
   "cell_type": "markdown",
   "metadata": {},
   "source": [
    "## 사전"
   ]
  },
  {
   "cell_type": "markdown",
   "metadata": {},
   "source": [
    "안내: [Think Python 11장](http://greenteapress.com/thinkpython2/html/thinkpython2012.html) \n",
    "내용의 일부를 번역 및 요약수정하여 정리한 내용입니다."
   ]
  },
  {
   "cell_type": "markdown",
   "metadata": {},
   "source": [
    "사전 자료값은 일종의 쌍들의 집합이며, 각 쌍은 키(key)와 값(value)으로 이루어져 있다.\n",
    "\n",
    "* 키(key): 영어사전의 각 영어단어에 해당함.\n",
    "* 값(value): 특정 영어단어의 뜻에 해당함.\n",
    "\n",
    "예를 들어, 전자영어사전에서 'school'이란 단어의 뜻을 물으면 '학교'라는 뜻을 알려주는데 \n",
    "여기서 'school'이 키에 해당하고 '학교'가 값에 해당한다.\n",
    "따라서 전자영어사전은 이러한 키와 값들의 쌍을 무수히 많이 모아놓은 집합이라고 생각할 수 있다."
   ]
  },
  {
   "cell_type": "markdown",
   "metadata": {},
   "source": [
    "### 항목"
   ]
  },
  {
   "cell_type": "markdown",
   "metadata": {},
   "source": [
    "사전에 포함된 항목은 키와 값으로 이루어진 쌍이다.\n",
    "각각의 항목은 키와 그 키와 연관된 값들에 대한 정보라고 이해하면 된다.\n",
    "\n",
    "여기서는 영한사전을 생성하는 예제를 통해 사전 자료형의 활용을 설명하고자 한다."
   ]
  },
  {
   "cell_type": "markdown",
   "metadata": {},
   "source": [
    "### 빈 사전 생성"
   ]
  },
  {
   "cell_type": "markdown",
   "metadata": {},
   "source": [
    "먼저 빈 사전을 생성한다.\n",
    "\n",
    "빈 사전을 생성하려면 `dict` 함수를 활용하거나 단순히 아래와 같이 선언하면 된다."
   ]
  },
  {
   "cell_type": "code",
   "execution_count": 12,
   "metadata": {},
   "outputs": [
    {
     "name": "stdout",
     "output_type": "stream",
     "text": [
      "{}\n"
     ]
    }
   ],
   "source": [
    "eng2kr = dict()\n",
    "print(eng2kr)"
   ]
  },
  {
   "cell_type": "markdown",
   "metadata": {},
   "source": [
    "또는"
   ]
  },
  {
   "cell_type": "code",
   "execution_count": 13,
   "metadata": {},
   "outputs": [
    {
     "name": "stdout",
     "output_type": "stream",
     "text": [
      "{}\n"
     ]
    }
   ],
   "source": [
    "eng2kr = {}\n",
    "print(eng2kr)"
   ]
  },
  {
   "cell_type": "markdown",
   "metadata": {},
   "source": [
    "**주의:** 중괄호(`{}`)는 빈 딕셔너리를 나타낸다. "
   ]
  },
  {
   "cell_type": "markdown",
   "metadata": {},
   "source": [
    "### 항목 추가"
   ]
  },
  {
   "cell_type": "markdown",
   "metadata": {},
   "source": [
    "사전에 항목을 추가하려면 키와 값의 관계를 대괄호 연산자를 이용하여 지정하면 된다.\n",
    "예를 들어, 영단어 one과 한글 뜻 일, 하나를 연관지으려면 다음과 같이 한다."
   ]
  },
  {
   "cell_type": "code",
   "execution_count": 14,
   "metadata": {},
   "outputs": [],
   "source": [
    "eng2kr['one'] = '일, 하나'"
   ]
  },
  {
   "cell_type": "markdown",
   "metadata": {},
   "source": [
    "사전에 포함된 내용을 확인하면 키와 값 사이에 콜론이 들어간 키와 값의 쌍을 볼 수 있다."
   ]
  },
  {
   "cell_type": "code",
   "execution_count": 15,
   "metadata": {},
   "outputs": [
    {
     "name": "stdout",
     "output_type": "stream",
     "text": [
      "{'one': '일, 하나'}\n"
     ]
    }
   ],
   "source": [
    "print(eng2kr)"
   ]
  },
  {
   "cell_type": "markdown",
   "metadata": {},
   "source": [
    "항목을 하나 더 추가해보자."
   ]
  },
  {
   "cell_type": "code",
   "execution_count": 16,
   "metadata": {},
   "outputs": [],
   "source": [
    "eng2kr['three'] = '삼, 셋'"
   ]
  },
  {
   "cell_type": "code",
   "execution_count": 17,
   "metadata": {},
   "outputs": [
    {
     "name": "stdout",
     "output_type": "stream",
     "text": [
      "{'one': '일, 하나', 'three': '삼, 셋'}\n"
     ]
    }
   ],
   "source": [
    "print(eng2kr)"
   ]
  },
  {
   "cell_type": "markdown",
   "metadata": {},
   "source": [
    "### 사전 선언\n",
    "\n",
    "아래와 같이 사전을 바로 선언할 수도 있다."
   ]
  },
  {
   "cell_type": "code",
   "execution_count": 18,
   "metadata": {},
   "outputs": [],
   "source": [
    "dict_exp = {'one':'일, 하나', 'two':'이, 둘', 'three':'삼, 셋'}"
   ]
  },
  {
   "cell_type": "code",
   "execution_count": 19,
   "metadata": {},
   "outputs": [
    {
     "name": "stdout",
     "output_type": "stream",
     "text": [
      "{'one': '일, 하나', 'two': '이, 둘', 'three': '삼, 셋'}\n"
     ]
    }
   ],
   "source": [
    "print(dict_exp)"
   ]
  },
  {
   "cell_type": "markdown",
   "metadata": {},
   "source": [
    "### 항목의 순서"
   ]
  },
  {
   "cell_type": "markdown",
   "metadata": {},
   "source": [
    "'eng2kr'에 항목을 하나 더 추가해보자."
   ]
  },
  {
   "cell_type": "code",
   "execution_count": 20,
   "metadata": {},
   "outputs": [],
   "source": [
    "eng2kr['two'] = '이, 둘'"
   ]
  },
  {
   "cell_type": "code",
   "execution_count": 21,
   "metadata": {},
   "outputs": [
    {
     "name": "stdout",
     "output_type": "stream",
     "text": [
      "{'one': '일, 하나', 'three': '삼, 셋', 'two': '이, 둘'}\n"
     ]
    }
   ],
   "source": [
    "print(eng2kr)"
   ]
  },
  {
   "cell_type": "markdown",
   "metadata": {},
   "source": [
    "영어사전에 어떤 단어가 몇 번째에 위치하는가는 전혀 중요하지 않다.\n",
    "대신에 어떤 키가 사용되었는가만 중요하다."
   ]
  },
  {
   "cell_type": "markdown",
   "metadata": {},
   "source": [
    "### 대괄호(`[]`) 연산자"
   ]
  },
  {
   "cell_type": "markdown",
   "metadata": {},
   "source": [
    "대괄호 연산자는 항목을 추가할 때와 함게 항목을 확인하거나 업데이트 할 때도 사용한다.\n",
    "예를 들어, 'one'에 대응하는 값을 확인하고자 하면 다음과 같이 대괄호를 사용하는 인덱싱을 이용한다."
   ]
  },
  {
   "cell_type": "code",
   "execution_count": 22,
   "metadata": {},
   "outputs": [
    {
     "name": "stdout",
     "output_type": "stream",
     "text": [
      "일, 하나\n"
     ]
    }
   ],
   "source": [
    "print(eng2kr['one'])"
   ]
  },
  {
   "cell_type": "markdown",
   "metadata": {},
   "source": [
    "키와 연관된 값을 업데이트 하려면 새롭게 지정하면 된다."
   ]
  },
  {
   "cell_type": "code",
   "execution_count": 23,
   "metadata": {},
   "outputs": [
    {
     "name": "stdout",
     "output_type": "stream",
     "text": [
      "{'one': '일, 하나, 한번, 유일한', 'three': '삼, 셋', 'two': '이, 둘'}\n"
     ]
    }
   ],
   "source": [
    "eng2kr['one'] = '일, 하나, 한번, 유일한'\n",
    "print(eng2kr)"
   ]
  },
  {
   "cell_type": "markdown",
   "metadata": {},
   "source": [
    "만약 키가 사전에 사용되지 않았으면 오류(`KeyError`)가 발생한다."
   ]
  },
  {
   "cell_type": "code",
   "execution_count": 24,
   "metadata": {},
   "outputs": [
    {
     "ename": "KeyError",
     "evalue": "'four'",
     "output_type": "error",
     "traceback": [
      "\u001b[0;31m---------------------------------------------------------------------------\u001b[0m",
      "\u001b[0;31mKeyError\u001b[0m                                  Traceback (most recent call last)",
      "\u001b[0;32m<ipython-input-24-bb50ad42a120>\u001b[0m in \u001b[0;36m<module>\u001b[0;34m\u001b[0m\n\u001b[0;32m----> 1\u001b[0;31m \u001b[0mprint\u001b[0m\u001b[0;34m(\u001b[0m\u001b[0meng2kr\u001b[0m\u001b[0;34m[\u001b[0m\u001b[0;34m'four'\u001b[0m\u001b[0;34m]\u001b[0m\u001b[0;34m)\u001b[0m\u001b[0;34m\u001b[0m\u001b[0;34m\u001b[0m\u001b[0m\n\u001b[0m",
      "\u001b[0;31mKeyError\u001b[0m: 'four'"
     ]
    }
   ],
   "source": [
    "print(eng2kr['four'])"
   ]
  },
  {
   "cell_type": "markdown",
   "metadata": {},
   "source": [
    "### 'len' 함수\n",
    "\n",
    "사전에 포함된 항목의 개수를 확인시켜주는 함수이다."
   ]
  },
  {
   "cell_type": "code",
   "execution_count": 25,
   "metadata": {},
   "outputs": [
    {
     "data": {
      "text/plain": [
       "3"
      ]
     },
     "execution_count": 25,
     "metadata": {},
     "output_type": "execute_result"
    }
   ],
   "source": [
    "len(eng2kr)"
   ]
  },
  {
   "cell_type": "markdown",
   "metadata": {},
   "source": [
    "### 'in' 연산자"
   ]
  },
  {
   "cell_type": "markdown",
   "metadata": {},
   "source": [
    "특정 키가 사전에 사용되었는지 여부를 확인한다. "
   ]
  },
  {
   "cell_type": "code",
   "execution_count": 26,
   "metadata": {},
   "outputs": [
    {
     "data": {
      "text/plain": [
       "True"
      ]
     },
     "execution_count": 26,
     "metadata": {},
     "output_type": "execute_result"
    }
   ],
   "source": [
    "'one' in eng2kr"
   ]
  },
  {
   "cell_type": "code",
   "execution_count": 27,
   "metadata": {},
   "outputs": [
    {
     "data": {
      "text/plain": [
       "False"
      ]
     },
     "execution_count": 27,
     "metadata": {},
     "output_type": "execute_result"
    }
   ],
   "source": [
    "'four' in eng2kr"
   ]
  },
  {
   "cell_type": "markdown",
   "metadata": {},
   "source": [
    "### 사전 자료형 메서드"
   ]
  },
  {
   "cell_type": "markdown",
   "metadata": {},
   "source": [
    "#### `keys` 메서드"
   ]
  },
  {
   "cell_type": "markdown",
   "metadata": {},
   "source": [
    "사전에 사용된 키들을 모두 모아서 리스트와 비슷한 자료형을 만들어서 리턴한다.\n",
    "\n",
    "**주의:** 리스트와는 다르지만 매우 비슷하다."
   ]
  },
  {
   "cell_type": "code",
   "execution_count": 28,
   "metadata": {},
   "outputs": [
    {
     "name": "stdout",
     "output_type": "stream",
     "text": [
      "dict_keys(['one', 'three', 'two'])\n"
     ]
    }
   ],
   "source": [
    "keys = eng2kr.keys()\n",
    "\n",
    "print(keys)"
   ]
  },
  {
   "cell_type": "markdown",
   "metadata": {},
   "source": [
    "아래 두 코드는 동일한 일을 수행한다."
   ]
  },
  {
   "cell_type": "code",
   "execution_count": 29,
   "metadata": {},
   "outputs": [
    {
     "data": {
      "text/plain": [
       "True"
      ]
     },
     "execution_count": 29,
     "metadata": {},
     "output_type": "execute_result"
    }
   ],
   "source": [
    "'one' in eng2kr"
   ]
  },
  {
   "cell_type": "code",
   "execution_count": 30,
   "metadata": {},
   "outputs": [
    {
     "data": {
      "text/plain": [
       "True"
      ]
     },
     "execution_count": 30,
     "metadata": {},
     "output_type": "execute_result"
    }
   ],
   "source": [
    "'one' in eng2kr.keys()"
   ]
  },
  {
   "cell_type": "markdown",
   "metadata": {},
   "source": [
    "#### `values` 메서드"
   ]
  },
  {
   "cell_type": "markdown",
   "metadata": {},
   "source": [
    "사전에 사용된 값들을 모두 모아서 리스트와 비슷한 자료형을 만들어서 리턴한다.\n",
    "\n",
    "**주의:** 리스트와는 다르지만 매우 비슷하다."
   ]
  },
  {
   "cell_type": "code",
   "execution_count": 31,
   "metadata": {},
   "outputs": [
    {
     "name": "stdout",
     "output_type": "stream",
     "text": [
      "dict_values(['일, 하나, 한번, 유일한', '삼, 셋', '이, 둘'])\n"
     ]
    }
   ],
   "source": [
    "values = eng2kr.values()\n",
    "print(values)"
   ]
  },
  {
   "cell_type": "markdown",
   "metadata": {},
   "source": [
    "값으로 사용되었는가 여부를 이용하려면 `values` 메서드를 활용하면 된다."
   ]
  },
  {
   "cell_type": "code",
   "execution_count": 32,
   "metadata": {},
   "outputs": [
    {
     "data": {
      "text/plain": [
       "False"
      ]
     },
     "execution_count": 32,
     "metadata": {},
     "output_type": "execute_result"
    }
   ],
   "source": [
    "'이' in eng2kr.values()"
   ]
  },
  {
   "cell_type": "code",
   "execution_count": 33,
   "metadata": {},
   "outputs": [
    {
     "data": {
      "text/plain": [
       "False"
      ]
     },
     "execution_count": 33,
     "metadata": {},
     "output_type": "execute_result"
    }
   ],
   "source": [
    "'사' in eng2kr.values()"
   ]
  },
  {
   "cell_type": "markdown",
   "metadata": {},
   "source": [
    "#### `items` 메서드"
   ]
  },
  {
   "cell_type": "markdown",
   "metadata": {},
   "source": [
    "사전에 포함된 항목들을 순서쌍들의 리스트로 변환한다.\n",
    "각각의 순서쌍은 키와 값으로 이루어진, 즉 길이가 2인 튜플이다.\n",
    "\n",
    "**주의:** 리스트와는 다르지만 매우 비슷하다."
   ]
  },
  {
   "cell_type": "code",
   "execution_count": 34,
   "metadata": {},
   "outputs": [
    {
     "name": "stdout",
     "output_type": "stream",
     "text": [
      "dict_items([('one', '일, 하나, 한번, 유일한'), ('three', '삼, 셋'), ('two', '이, 둘')])\n"
     ]
    }
   ],
   "source": [
    "values = eng2kr.items()\n",
    "print(values)"
   ]
  },
  {
   "cell_type": "markdown",
   "metadata": {},
   "source": [
    "사전의 항목을 튜플로 하나씩 확인해보자.\n",
    "항목들이 길이가 2인 튜플로 구성되기에 변수 두 개에 각각 할당할 수 있다."
   ]
  },
  {
   "cell_type": "code",
   "execution_count": 35,
   "metadata": {},
   "outputs": [
    {
     "name": "stdout",
     "output_type": "stream",
     "text": [
      "one의 뜻은 일, 하나, 한번, 유일한입니다.\n",
      "three의 뜻은 삼, 셋입니다.\n",
      "two의 뜻은 이, 둘입니다.\n"
     ]
    }
   ],
   "source": [
    "for eng, kor in eng2kr.items():\n",
    "    print(f\"{eng}의 뜻은 {kor}입니다.\")"
   ]
  },
  {
   "cell_type": "markdown",
   "metadata": {},
   "source": [
    "영어 단어에 여러 뜻이 있을 수 있기 때문에 그것을 보다 상세히 보여줄 수도 있다.\n",
    "그러기 위해 문자열을 `split`과 `join` 메서드를 활용한다.\n",
    "\n",
    "**참고:** `split`/`join` 메서드의 활용은 [문자열 나누기/합치기](https://devpouch.tistory.com/77)에 좀 더 다양한 예제가 있음."
   ]
  },
  {
   "cell_type": "code",
   "execution_count": 36,
   "metadata": {},
   "outputs": [
    {
     "name": "stdout",
     "output_type": "stream",
     "text": [
      "one의 뜻은 일 또는 하나 또는 한번 또는 유일한입니다.\n",
      "three의 뜻은 삼 또는 셋입니다.\n",
      "two의 뜻은 이 또는 둘입니다.\n"
     ]
    }
   ],
   "source": [
    "for eng, kor in eng2kr.items():\n",
    "    meaning = kor.split(', ')\n",
    "    print(f\"{eng}의 뜻은 {' 또는 '. join(meaning)}입니다.\")"
   ]
  },
  {
   "cell_type": "markdown",
   "metadata": {},
   "source": [
    "### 예제: 다이빙 기록과 사전 자료형"
   ]
  },
  {
   "cell_type": "markdown",
   "metadata": {},
   "source": [
    "[연관배열 활용](https://github.com/liganega/ProgInPython/blob/master/notebooks/PiPy05A-AssociativeArrays.ipynb)에서\n",
    "다룬 다이빙 기록을 사전 자료형으로 저장하는 함수는 다음과 같다."
   ]
  },
  {
   "cell_type": "code",
   "execution_count": 37,
   "metadata": {},
   "outputs": [],
   "source": [
    "def scoreDict(fileName):\n",
    "    try:\n",
    "        result_f = open(fileName, 'r') \n",
    "    except FileNotFoundError:\n",
    "        print(\"열고자 하는 파일이 존재하지 않습니다.\")\n",
    "\n",
    "    score_dict = dict() \n",
    "\n",
    "    for line in result_f: \n",
    "        name, score = line.split() \n",
    "        try:\n",
    "            score_dict[float(score)] = name\n",
    "        except:\n",
    "            continue\n",
    "    result_f.close() \n",
    "\n",
    "    return score_dict"
   ]
  },
  {
   "cell_type": "markdown",
   "metadata": {},
   "source": [
    "위 함수를 5m 다이빙 기록과 함께 호출하면 기록을 사전 자료형으로 저장할 수 있다."
   ]
  },
  {
   "cell_type": "code",
   "execution_count": 38,
   "metadata": {},
   "outputs": [
    {
     "name": "stdout",
     "output_type": "stream",
     "text": [
      "{7.13: '권준기', 8.55: '김세윤', 9.02: '나진서', 8.35: '마동탁', 7.86: '서길석', 8.17: '이준용', 9.33: '이차승', 7.11: '차승연', 8.57: '표방호', 8.93: '한석준'}\n"
     ]
    }
   ],
   "source": [
    "scores = scoreDict('./data/results5m.txt')\n",
    "print(scores)"
   ]
  },
  {
   "cell_type": "markdown",
   "metadata": {},
   "source": [
    "그런데 `scoreDict` 함수는 선수들의 성적을 키로, 해당 성적을 낸 선수 이름을 값으로 사용한다.\n",
    "그렇게 한 이유는 정렬을 이용하여 등수를 정하기 위해서 였다.\n",
    "\n",
    "여기서는 선수이름을 키로, 해당 선수의 성적을 값으로 활용해보자.\n",
    "그러기 위해 `scoreDict`를 아래와 같이 약간 수정하면 된다."
   ]
  },
  {
   "cell_type": "code",
   "execution_count": 39,
   "metadata": {},
   "outputs": [],
   "source": [
    "def nameScoreDict(fileName):\n",
    "    try:\n",
    "        result_f = open(fileName, 'r') \n",
    "    except FileNotFoundError:\n",
    "        print(\"열고자 하는 파일이 존재하지 않습니다.\")\n",
    "\n",
    "    nameScore_dict = dict()                   # 이름을 키로 사용 암시\n",
    "\n",
    "    for line in result_f: \n",
    "        name, score = line.split() \n",
    "        try:\n",
    "            nameScore_dict[name] = float(score)   # 이름을 키로, 성적을 값으로.\n",
    "        except:\n",
    "            continue\n",
    "    result_f.close() \n",
    "\n",
    "    return nameScore_dict"
   ]
  },
  {
   "cell_type": "markdown",
   "metadata": {},
   "source": [
    "5m 다이빙 기록을 다시 읽어온다."
   ]
  },
  {
   "cell_type": "code",
   "execution_count": 40,
   "metadata": {},
   "outputs": [
    {
     "name": "stdout",
     "output_type": "stream",
     "text": [
      "{'권준기': 7.13, '김세윤': 8.55, '나진서': 9.02, '마동탁': 8.35, '서길석': 7.86, '이준용': 8.17, '이차승': 9.33, '차승연': 7.11, '표방호': 8.57, '한석준': 8.93}\n"
     ]
    }
   ],
   "source": [
    "nameScores = nameScoreDict('./data/results5m.txt')\n",
    "print(nameScores)"
   ]
  },
  {
   "cell_type": "markdown",
   "metadata": {},
   "source": [
    "이제 선수 이름을 지정하면 해당 선수의 점수를 인덱싱을 활용하여 확인할 수 있다."
   ]
  },
  {
   "cell_type": "code",
   "execution_count": 41,
   "metadata": {},
   "outputs": [
    {
     "data": {
      "text/plain": [
       "7.13"
      ]
     },
     "execution_count": 41,
     "metadata": {},
     "output_type": "execute_result"
    }
   ],
   "source": [
    "nameScores['권준기']"
   ]
  },
  {
   "cell_type": "code",
   "execution_count": 42,
   "metadata": {},
   "outputs": [
    {
     "data": {
      "text/plain": [
       "8.17"
      ]
     },
     "execution_count": 42,
     "metadata": {},
     "output_type": "execute_result"
    }
   ],
   "source": [
    "nameScores['이준용']"
   ]
  },
  {
   "cell_type": "markdown",
   "metadata": {},
   "source": [
    "### 반복문과 사전"
   ]
  },
  {
   "cell_type": "markdown",
   "metadata": {},
   "source": [
    "사전을 `for` 반복문에 사용하면 사전의 키를 기준으로 반복문을 실행한다. \n",
    "\n",
    "아래 예제는 `nameScores`에 저정된 값들을\n",
    "파일의 내용과 동일한 모양으로 하나씩 출력한다."
   ]
  },
  {
   "cell_type": "code",
   "execution_count": 43,
   "metadata": {},
   "outputs": [
    {
     "name": "stdout",
     "output_type": "stream",
     "text": [
      "권준기 7.13\n",
      "김세윤 8.55\n",
      "나진서 9.02\n",
      "마동탁 8.35\n",
      "서길석 7.86\n",
      "이준용 8.17\n",
      "이차승 9.33\n",
      "차승연 7.11\n",
      "표방호 8.57\n",
      "한석준 8.93\n"
     ]
    }
   ],
   "source": [
    "for key in nameScores:\n",
    "    print(key, nameScores[key])"
   ]
  },
  {
   "cell_type": "markdown",
   "metadata": {},
   "source": [
    "아래 코드는 위 코드와 동일한 기능을 수행한다."
   ]
  },
  {
   "cell_type": "code",
   "execution_count": 44,
   "metadata": {},
   "outputs": [
    {
     "name": "stdout",
     "output_type": "stream",
     "text": [
      "권준기 7.13\n",
      "김세윤 8.55\n",
      "나진서 9.02\n",
      "마동탁 8.35\n",
      "서길석 7.86\n",
      "이준용 8.17\n",
      "이차승 9.33\n",
      "차승연 7.11\n",
      "표방호 8.57\n",
      "한석준 8.93\n"
     ]
    }
   ],
   "source": [
    "for key in nameScores.keys():\n",
    "    print(key, nameScores[key])"
   ]
  },
  {
   "cell_type": "markdown",
   "metadata": {},
   "source": [
    "### 예제: 카운터"
   ]
  },
  {
   "cell_type": "markdown",
   "metadata": {},
   "source": [
    "문자열에 사용된 각각의 문자가 몇 번씩 사용되었는지를 확인하는 함수를 사전을 이용하여 쉽게 구현할 수 있다. "
   ]
  },
  {
   "cell_type": "code",
   "execution_count": 45,
   "metadata": {},
   "outputs": [],
   "source": [
    "def histogram(word):\n",
    "    counts = dict()\n",
    "    for c in word: \n",
    "        if c not in counts:   # 알파벳이 처음 사용된 경우\n",
    "            counts[c] = 1     # counts 사전에 키와 카운트 값 추가\n",
    "        else:                 # 알파벳이 이미 사용된 경우\n",
    "            counts[c] += 1    # 기존의 카운트 값 1 증가\n",
    "    return counts"
   ]
  },
  {
   "cell_type": "code",
   "execution_count": 46,
   "metadata": {},
   "outputs": [
    {
     "data": {
      "text/plain": [
       "{'H': 1, 'e': 1, 'l': 2, 'o': 2, 'P': 1, 'y': 1, 't': 1, 'h': 1, 'n': 1}"
      ]
     },
     "execution_count": 46,
     "metadata": {},
     "output_type": "execute_result"
    }
   ],
   "source": [
    "histogram('HelloPython')"
   ]
  },
  {
   "cell_type": "markdown",
   "metadata": {},
   "source": [
    "아래에 정의된 함수 `print_hist`는 각 키와 대응하는 값을 인쇄한다."
   ]
  },
  {
   "cell_type": "code",
   "execution_count": 47,
   "metadata": {},
   "outputs": [],
   "source": [
    "def print_hist(a_dict):\n",
    "    for key in a_dict:\n",
    "        print(key, a_dict[key])"
   ]
  },
  {
   "cell_type": "markdown",
   "metadata": {},
   "source": [
    "앞서 구현한 'histogram' 함수의 리턴값을 활용하면 다음과 같다."
   ]
  },
  {
   "cell_type": "code",
   "execution_count": 48,
   "metadata": {},
   "outputs": [
    {
     "name": "stdout",
     "output_type": "stream",
     "text": [
      "H 1\n",
      "e 1\n",
      "l 2\n",
      "o 2\n",
      "P 1\n",
      "y 1\n",
      "t 1\n",
      "h 1\n",
      "n 1\n"
     ]
    }
   ],
   "source": [
    "countHelloPython = histogram('HelloPython')\n",
    "print_hist(countHelloPython)"
   ]
  },
  {
   "cell_type": "markdown",
   "metadata": {},
   "source": [
    "## 동적계획, 리스트, 사전"
   ]
  },
  {
   "cell_type": "markdown",
   "metadata": {},
   "source": [
    "### 피보나찌 수열"
   ]
  },
  {
   "cell_type": "markdown",
   "metadata": {},
   "source": [
    "피보나찌(Fibonacci) 수열은 아래와 같이 전개된다.\n",
    "\n",
    "```\n",
    "1, 1, 2, 3, 5, 8, 13, 21, 34, 55, 89, 144, ...\n",
    "```\n",
    "\n",
    "즉, 수열의 첫째, 둘째 항목은 1이며, 셋째 항목은 첫째와 둘째 항목의 합, \n",
    "넷째 항목은 둘째와 셋째 항목의 합, 등으로 진행된다.\n",
    "n이 2보다 클 경우, 이를 일반화하면 (n) 번째 항목은 (n-1) 번째 항목과 (n-2) 번째 항목의 합이며,\n",
    "이를 수식으로 표현하면 다음과 같다.\n",
    "\n",
    "```\n",
    "fib(0)   = 1 \n",
    "fib(1)   = 1 \n",
    "fib(n) = fib(n-1) + fib(n-2)\n",
    "```\n",
    "\n",
    "재귀함수를 이용하면 쉽게 `fib` 함수를 구현할 수 있다."
   ]
  },
  {
   "cell_type": "code",
   "execution_count": 49,
   "metadata": {},
   "outputs": [],
   "source": [
    "def fib(n):\n",
    "    if n in {0, 1}:\n",
    "        return 1\n",
    "    else:\n",
    "        return fib(n-1) + fib(n-2)"
   ]
  },
  {
   "cell_type": "markdown",
   "metadata": {},
   "source": [
    "실제로 잘 작동하는 것으로 보인다."
   ]
  },
  {
   "cell_type": "code",
   "execution_count": 50,
   "metadata": {},
   "outputs": [
    {
     "data": {
      "text/plain": [
       "1"
      ]
     },
     "execution_count": 50,
     "metadata": {},
     "output_type": "execute_result"
    }
   ],
   "source": [
    "fib(0)"
   ]
  },
  {
   "cell_type": "code",
   "execution_count": 51,
   "metadata": {},
   "outputs": [
    {
     "data": {
      "text/plain": [
       "1"
      ]
     },
     "execution_count": 51,
     "metadata": {},
     "output_type": "execute_result"
    }
   ],
   "source": [
    "fib(1)"
   ]
  },
  {
   "cell_type": "code",
   "execution_count": 52,
   "metadata": {},
   "outputs": [
    {
     "data": {
      "text/plain": [
       "2"
      ]
     },
     "execution_count": 52,
     "metadata": {},
     "output_type": "execute_result"
    }
   ],
   "source": [
    "fib(2)"
   ]
  },
  {
   "cell_type": "code",
   "execution_count": 53,
   "metadata": {},
   "outputs": [
    {
     "data": {
      "text/plain": [
       "3"
      ]
     },
     "execution_count": 53,
     "metadata": {},
     "output_type": "execute_result"
    }
   ],
   "source": [
    "fib(3)"
   ]
  },
  {
   "cell_type": "code",
   "execution_count": 54,
   "metadata": {},
   "outputs": [
    {
     "data": {
      "text/plain": [
       "8"
      ]
     },
     "execution_count": 54,
     "metadata": {},
     "output_type": "execute_result"
    }
   ],
   "source": [
    "fib(5)"
   ]
  },
  {
   "cell_type": "code",
   "execution_count": 55,
   "metadata": {},
   "outputs": [
    {
     "data": {
      "text/plain": [
       "89"
      ]
     },
     "execution_count": 55,
     "metadata": {},
     "output_type": "execute_result"
    }
   ],
   "source": [
    "fib(10)"
   ]
  },
  {
   "cell_type": "markdown",
   "metadata": {},
   "source": [
    "그런데 40번째 피보나찌 수 계산이 올래 걸릴 수 있다.\n",
    "지금 사용하는 컴퓨터로 20초 이상 걸린다.\n",
    "현재 사용된 컴퓨터 사양은 다음과 같다.\n",
    "\n",
    "* cpu: 3.6 GHz Quad-Core Intel Core i7\n",
    "* 메모리: 16 GB 2400 MHz DDR4\n",
    "\n",
    "**주의:**\n",
    "* 실행시간을 측정하기 위해 `time` 모듈의 `time` 함수를 활용한다.\n",
    "* `int` 함수를 부동소수점을 인자로 사용하면 소수점 이하를 버린다."
   ]
  },
  {
   "cell_type": "code",
   "execution_count": 56,
   "metadata": {},
   "outputs": [
    {
     "name": "stdout",
     "output_type": "stream",
     "text": [
      "약 26초 걸렸습니다.\n"
     ]
    }
   ],
   "source": [
    "import time                              # time 모듈 불러오기\n",
    "\n",
    "start_time = time.time()                 # 실행 시작 시간 기억\n",
    "fib(39)\n",
    "end_time = time.time()                   # 실행 종료 시간 기억\n",
    "\n",
    "elapsed_time = end_time - start_time\n",
    "print(f'약 {int(elapsed_time)}초 걸렸습니다.')"
   ]
  },
  {
   "cell_type": "markdown",
   "metadata": {},
   "source": [
    "하지만 1,000번째 피보나찌 수를 구하려는 시도는 웬만하면 하지 않는 게 좋다.\n",
    "대부분 중간에 오류가 발생하거나 아니면 매우 오래 걸릴 수 있기 때문이다.\n",
    "실제로 `fib(n)`을 계산하기 위해 `fib` 함수를 대략 $2^{n-1}$번 호출해야 한다.\n",
    "예를 들어, `fib(5)`를 계산하기 위해 `fib` 함수를 15번 호출했다.\n",
    "\n",
    "<p>\n",
    "<table cellspacing=\"20\">\n",
    "<tr>\n",
    "<td>\n",
    "<img src=\"images/fibonacci-rec.png\">\n",
    "</td>\n",
    "</tr>\n",
    "</table>\n",
    "</p>\n",
    "\n",
    "<그림 출처: [피보나찌 수 계산하기](https://ko.javascript.info/task/fibonacci-numbers)>\n",
    "\n",
    "[PythonTutor: 피보나찌 재귀함수](http://pythontutor.com/visualize.html#code=def%20fib%28n%29%3A%0A%20%20%20%20if%20n%20in%20%7B0,%201%7D%3A%0A%20%20%20%20%20%20%20%20return%201%0A%20%20%20%20else%3A%0A%20%20%20%20%20%20%20%20return%20fib%28n-2%29%20%2B%20fib%28n-1%29%0A%20%20%20%20%20%20%20%20%0Aprint%28fib%2810%29%29&cumulative=false&heapPrimitives=nevernest&mode=edit&origin=opt-frontend.js&py=3&rawInputLstJSON=%5B%5D&textReferences=false)에서\n",
    "`fib` 함수의 인자를 변경해 보면서 실행을 시도해 보면 계산을 얼마나 많이 하고, \n",
    "또 메모리를 얼마나 많이 사용하는지 눈으로 확인할 수 있다.\n",
    "\n",
    "참고로 현재 Python Tutor에서 인자로 사용할 수 있는 한계는 10이다. \n",
    "실제로\n",
    "\n",
    "* n = 9: 438번의 수행 단계 필요\n",
    "* n = 10: 710번의 수행 단계 필요\n",
    "\n",
    "n > 10에 대해서는 PythonTutor 서버의 제한 때문에 실행되지 않는다."
   ]
  },
  {
   "cell_type": "markdown",
   "metadata": {},
   "source": [
    "### 동적계획과 리스트"
   ]
  },
  {
   "cell_type": "markdown",
   "metadata": {},
   "source": [
    "재귀로 구현된 `fib` 함수의 근본적인 문제는 PythonTutor 예제에서\n",
    "확인할 수 있듯이 반복적인 계산을 너무 많이 하는 것이다.\n",
    "무엇보다도 n=39와 같은 작은 인자에 대해서 20초 이상 걸리는 계산은 문제가 많으며,\n",
    "좀 더 큰 인자는 아예 계산을 할 수도 없다.\n",
    "\n",
    "이에 대한 해결책을 **동적계획**(dynamic programming)이 제공한다. \n",
    "동적계획은 반복적인 계산을 하지 않는다. \n",
    "예를 들어,`fib(5)`를 계산하려면 `fib(4)`, `fib(3)`, `fib(2)`\n",
    "`fib(1)`, `fib(0)` 등을 탑다운(top-down) 방식으로 계산해야 한다.\n",
    "하지만 `fib(0)`, `fib(1)`, `fib(2)`, `fib(3)`, `fib(4)`, `fib(5)`\n",
    "등을 바텀업(bottom-up) 방식으로 계산하여 저장하는 방식을 사용하면\n",
    "보다 빠르고 효율적으로 계산할 수 있다. \n",
    "이런 방식을 동적계획이라 부른다.\n",
    "\n",
    "이제 동적계획 방식으로 피보나찌 수열을 계산하는 함수를 구현해보자.\n",
    "이미 계산된 피보나찌 수를 기억하기 위해 리스트를 활용한다.\n",
    "\n",
    "먼저 아래와 같이 n 번째 피보나찌 수를 (n-1) 번 인덱스의 값으로 저장하는 방식을\n",
    "사용할 수 있다."
   ]
  },
  {
   "cell_type": "code",
   "execution_count": 57,
   "metadata": {},
   "outputs": [],
   "source": [
    "def fibListLong(n):\n",
    "    known_nums = [1, 1]                           # 첫번째, 두번재 피보나찌 수\n",
    "    for k in range(2, n+1):                        \n",
    "        res = known_nums[k-1] + known_nums[k-2]   # (k+1) 번째 피보나찌 수 계산\n",
    "        known_nums.append(res)                    # k번 인덱스의 값이 (k+1) 번째 피보나찌 수\n",
    "    return known_nums[-1]                         # 마지막 항목 출력"
   ]
  },
  {
   "cell_type": "markdown",
   "metadata": {},
   "source": [
    "위와 같이 하면 40번째 피보나찌 수를 단번에 구해준다."
   ]
  },
  {
   "cell_type": "code",
   "execution_count": 58,
   "metadata": {},
   "outputs": [
    {
     "data": {
      "text/plain": [
       "102334155"
      ]
     },
     "execution_count": 58,
     "metadata": {},
     "output_type": "execute_result"
    }
   ],
   "source": [
    "fibListLong(39)"
   ]
  },
  {
   "cell_type": "markdown",
   "metadata": {},
   "source": [
    "심지어 1,001 번째 값도 금방 구한다."
   ]
  },
  {
   "cell_type": "code",
   "execution_count": 59,
   "metadata": {},
   "outputs": [
    {
     "data": {
      "text/plain": [
       "70330367711422815821835254877183549770181269836358732742604905087154537118196933579742249494562611733487750449241765991088186363265450223647106012053374121273867339111198139373125598767690091902245245323403501"
      ]
     },
     "execution_count": 59,
     "metadata": {},
     "output_type": "execute_result"
    }
   ],
   "source": [
    "fibListLong(1000)"
   ]
  },
  {
   "cell_type": "markdown",
   "metadata": {},
   "source": [
    "실험 결과 십만번 째 피보나찌 수도 금방 구한다. "
   ]
  },
  {
   "cell_type": "code",
   "execution_count": 60,
   "metadata": {},
   "outputs": [
    {
     "name": "stdout",
     "output_type": "stream",
     "text": [
      "약 0.33864307403564453초 걸렸습니다.\n"
     ]
    }
   ],
   "source": [
    "start_time = time.time()                \n",
    "fibNum100000 = fibListLong(100000)\n",
    "end_time = time.time()                  \n",
    "\n",
    "elapsed_time = end_time - start_time\n",
    "print(f'약 {elapsed_time}초 걸렸습니다.')"
   ]
  },
  {
   "cell_type": "markdown",
   "metadata": {},
   "source": [
    "그런데 백만번째 피보나찌 수는 계산하지 못한다.\n",
    "이유는 `known_nums`가 가리키는 리스트의 길이가 점점 길어지면서\n",
    "동시에 항목에 사용되는 값들 역시 매우 큰 수가 되기 때문이다. \n",
    "실제로 십만일번째 피보나찌 수는 다섯 화면에 걸쳐서 표기될 정도로 크다.\n",
    "\n",
    "위 함수를 약간 업그레이드 할 수 있다. \n",
    "피보나찌 수를 계산하기 위해 필요한 거는 이전에 계산된 두 개의 수 뿐이다.\n",
    "따라서 그때까지의 모든 수를 기억할 필요가 없다. \n",
    "이 아이디어를 이용하여 아래와 같이 구현하면 백만번째 피보나찌 수도 계산할 수 있다."
   ]
  },
  {
   "cell_type": "code",
   "execution_count": 61,
   "metadata": {},
   "outputs": [],
   "source": [
    "def fibList(n):\n",
    "    known_nums = [1, 1]                         # 첫번째, 두번재 피보나찌 수\n",
    "    for k in range(2, n+1):\n",
    "        res = known_nums[1] + known_nums[0]     # 새로운 피보나찌 수 계산\n",
    "        known_nums[0] = known_nums[1]           # 리스트 업데이트\n",
    "        known_nums[1] = res\n",
    "    return known_nums[1]                        # 둘째 항목 출력"
   ]
  },
  {
   "cell_type": "code",
   "execution_count": 62,
   "metadata": {},
   "outputs": [
    {
     "data": {
      "text/plain": [
       "70330367711422815821835254877183549770181269836358732742604905087154537118196933579742249494562611733487750449241765991088186363265450223647106012053374121273867339111198139373125598767690091902245245323403501"
      ]
     },
     "execution_count": 62,
     "metadata": {},
     "output_type": "execute_result"
    }
   ],
   "source": [
    "fibList(1000)"
   ]
  },
  {
   "cell_type": "markdown",
   "metadata": {},
   "source": [
    "십만일번째 피보나찌 수도 눈깜빡할 사이에 계산한다.\n",
    "바로 출력하면 너무 큰 수이기에 변수에 할당하는 식으로 해서 계산이 \n",
    "가능한지만 확인해보자."
   ]
  },
  {
   "cell_type": "code",
   "execution_count": 63,
   "metadata": {},
   "outputs": [
    {
     "name": "stdout",
     "output_type": "stream",
     "text": [
      "약 0.19435954093933105초 걸렸습니다.\n"
     ]
    }
   ],
   "source": [
    "start_time = time.time()\n",
    "fibNum100000 = fibList(100000)\n",
    "end_time = time.time()  \n",
    "\n",
    "elapsed_time = end_time - start_time\n",
    "print(f'약 {elapsed_time}초 걸렸습니다.')"
   ]
  },
  {
   "cell_type": "markdown",
   "metadata": {},
   "source": [
    "백만일번째 피보나찌 수도 10여초 만에 계산해준다."
   ]
  },
  {
   "cell_type": "code",
   "execution_count": 64,
   "metadata": {},
   "outputs": [
    {
     "name": "stdout",
     "output_type": "stream",
     "text": [
      "약 10.604944944381714초 걸렸습니다.\n"
     ]
    }
   ],
   "source": [
    "start_time = time.time()\n",
    "fibNum1M = fibList(1000000)\n",
    "end_time = time.time()  \n",
    "\n",
    "elapsed_time = end_time - start_time\n",
    "print(f'약 {elapsed_time}초 걸렸습니다.')"
   ]
  },
  {
   "cell_type": "markdown",
   "metadata": {},
   "source": [
    "천만일번째 수는 꽤 오래 걸린다. 몇 분 기다려도 계속 계산중이라 정지시켰다."
   ]
  },
  {
   "cell_type": "markdown",
   "metadata": {},
   "source": [
    "### 동적계획과 사전"
   ]
  },
  {
   "cell_type": "markdown",
   "metadata": {},
   "source": [
    "앞서 길이가 2인 리스트를 사용하여 피보나찌 수를 업데이트 하면서 계산하였다.\n",
    "동일한 아이디어를 사전을 이용하여 구현할 수 있다.\n",
    "실행 시간과 능력은 기본적으로 `fibList`와 동일하다."
   ]
  },
  {
   "cell_type": "code",
   "execution_count": 65,
   "metadata": {},
   "outputs": [],
   "source": [
    "def fibDict(n):\n",
    "    known_nums = {0:1, 1:1}\n",
    "    for k in range(2, n+1):\n",
    "        res = known_nums[1] + known_nums[0]\n",
    "        known_nums[0] = known_nums[1]\n",
    "        known_nums[1] = res\n",
    "    return known_nums[1]"
   ]
  },
  {
   "cell_type": "code",
   "execution_count": 66,
   "metadata": {},
   "outputs": [
    {
     "name": "stdout",
     "output_type": "stream",
     "text": [
      "약 0.13864493370056152초 걸렸습니다.\n"
     ]
    }
   ],
   "source": [
    "start_time = time.time()\n",
    "fibNum100000 = fibDict(100000)\n",
    "end_time = time.time()  \n",
    "\n",
    "elapsed_time = end_time - start_time\n",
    "print(f'약 {elapsed_time}초 걸렸습니다.')"
   ]
  },
  {
   "cell_type": "code",
   "execution_count": 67,
   "metadata": {},
   "outputs": [
    {
     "name": "stdout",
     "output_type": "stream",
     "text": [
      "약 10.598241329193115초 걸렸습니다.\n"
     ]
    }
   ],
   "source": [
    "start_time = time.time()\n",
    "fibNum1M = fibDict(1000000)\n",
    "end_time = time.time()  \n",
    "\n",
    "elapsed_time = end_time - start_time\n",
    "print(f'약 {elapsed_time}초 걸렸습니다.')"
   ]
  },
  {
   "cell_type": "markdown",
   "metadata": {},
   "source": [
    "### 처리속도: `in` 연산자"
   ]
  },
  {
   "cell_type": "markdown",
   "metadata": {},
   "source": [
    "리스트에서 사용되는 `in` 연산자와 사전에서 사용되는 `in` 연산자는 내부적으로 서로 다르게 작동한다.\n",
    "여기서는 처리속도 관련해서만 설명한다. \n",
    "\n",
    "* 리스트의 `in` 연산자 검색 속도: 평균적으로 사용되는 리스트의 길이에 비례\n",
    "* 사전의 `in` 연산자 검색 속도: 평균적으로 사전의 길이에 상관없음. 다만 최악의 경우 길이에 비례.\n",
    "\n",
    "자세한 내용은 \n",
    "[시간 복잡도](https://wiki.python.org/moin/TimeComplexity)를\n",
    "참조할 수 있다."
   ]
  },
  {
   "cell_type": "markdown",
   "metadata": {},
   "source": [
    "# 연습문제"
   ]
  },
  {
   "cell_type": "markdown",
   "metadata": {},
   "source": [
    "1. [기본 자료형: 파일](https://github.com/liganega/ProgInPython/blob/master/notebooks/PiPy04B-Files.ipynb)에서 \n",
    "    다룬 [words.txt](http://thinkpython2.com/code/words.txt) 파일을 다시 이용한다.\n",
    "    words.txt 파일의 내용을 리스트 자료형으로 저장하라.\n",
    "    단, 리스트의 항목은 각 줄에 있는 단어이다.\n",
    "    <br><br>\n",
    "    힌트: `for` 반복문 활용. 리스트에 단어를 추가할 때 `append`와 `strip` 메서드 활용.\n",
    "    정답은 [wordlist.py](http://greenteapress.com/thinkpython2/code/wordlist.py) 참고.\n",
    "    <br><br>\n",
    "1. 위 문제에서 생성된 리스트에 특정 단어가 포함되어 있는지 여부를 확인하는 함수를\n",
    "    리스트 자료형의 `in` 연산자 활용하여 구현하라.\n",
    "    <br><br>\n",
    "1. 위 문제에서 구현된 함수를 이진탐색(binary search)을 이용하는 방식으로 수정하여 새로 구현하라.\n",
    "    두 함수의 실행속도의 차이를 비교하라.    \n",
    "    이진탐색의 개념과 파이썬 구현은 [이진탐색하기](https://programmers.co.kr/learn/courses/4008/lessons/13173)를\n",
    "    참조할 수 있다.\n",
    "    <br><br>\n",
    "    힌트: 정답은 [inlist.py](http://greenteapress.com/thinkpython2/code/inlist.py) 참고.\n",
    "    <br><br>    \n",
    "1. words.txt 파일의 내용을 사전 자료형으로 저장한 후에,\n",
    "    생성된 사전에 특정 단어가 키로 사용되었는지 여부를 확인하는 함수를\n",
    "    사전 자료형의 `in` 연산자 활용하여 구현하라.\n",
    "    <br><br>\n",
    "    힌트: `words.txt` 파일에서 단어를 읽어 들인 후 각각의 단어를 키로 사용한다. \n",
    "    모든 키의 값은 `True`로 정한다.\n",
    "    <br><br>\n",
    "    앞서 리스트를 활용한 구현 방식과 비교하여 사전 자료형을 이용한 `in` 연산자의 실행속도가 \n",
    "    얼마나 빠른지 확인하라.\n",
    "    <br><br>    \n",
    "1. 양의 정수 n의 팩토리얼 값은 1부터 n까지의 곱셈이다. \n",
    "\n",
    "    > `n! = n*(n-1)*(n-2)*...*2*1`\n",
    "    \n",
    "    1. `n!`을 계산하는 함수 `factorial`을 아래와 같이 재귀로 구현할 수 있다. \n",
    "\n",
    "        ```python\n",
    "        def factorial(n):\n",
    "            if n == 1:\n",
    "                return 1\n",
    "            else:\n",
    "                res = n * factorial(n-1)\n",
    "                return res\n",
    "        ```\n",
    "    \n",
    "    계산가능한 팩토리얼의 한계를 확인하라.\n",
    "    <br><br>\n",
    "    1. 팩토리얼 함수 `factorialDynamic`를 동적계획을 이용하여 구현한 후에, \n",
    "        계산가능한 팩토리얼의 한계가 달라지는지 확인하라."
   ]
  }
 ],
 "metadata": {
  "kernelspec": {
   "display_name": "Python 3",
   "language": "python",
   "name": "python3"
  },
  "language_info": {
   "codemirror_mode": {
    "name": "ipython",
    "version": 3
   },
   "file_extension": ".py",
   "mimetype": "text/x-python",
   "name": "python",
   "nbconvert_exporter": "python",
   "pygments_lexer": "ipython3",
   "version": "3.6.8"
  }
 },
 "nbformat": 4,
 "nbformat_minor": 1
}
