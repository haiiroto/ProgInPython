{
 "cells": [
  {
   "cell_type": "markdown",
   "metadata": {},
   "source": [
    "# 기본 자료형: 집합과 사전"
   ]
  },
  {
   "cell_type": "markdown",
   "metadata": {},
   "source": [
    "## 집합"
   ]
  },
  {
   "cell_type": "markdown",
   "metadata": {},
   "source": [
    "`set` 자료형은 집합에 해당하는 자료형이며, 수학에서 배운 집합 개념과 동일하다.\n",
    "\n",
    "* 원소들 사이의 순서가 없다.\n",
    "* 중복된 원소를 인정하지 않는다."
   ]
  },
  {
   "cell_type": "code",
   "execution_count": 1,
   "metadata": {},
   "outputs": [
    {
     "data": {
      "text/plain": [
       "{2, 3, 5, 7}"
      ]
     },
     "execution_count": 1,
     "metadata": {},
     "output_type": "execute_result"
    }
   ],
   "source": [
    "primes_below_10 = {2, 3, 7, 5, 7, 3}\n",
    "primes_below_10"
   ]
  },
  {
   "cell_type": "markdown",
   "metadata": {},
   "source": [
    "원소의 개수는 `len` 함수를 이용하여 확인한다."
   ]
  },
  {
   "cell_type": "code",
   "execution_count": 2,
   "metadata": {},
   "outputs": [
    {
     "data": {
      "text/plain": [
       "4"
      ]
     },
     "execution_count": 2,
     "metadata": {},
     "output_type": "execute_result"
    }
   ],
   "source": [
    "len(primes_below_10)"
   ]
  },
  {
   "cell_type": "markdown",
   "metadata": {},
   "source": [
    "공집합은 `set()`으로 생성하며, 원소 추가는 `add` 메소드를 활용한다."
   ]
  },
  {
   "cell_type": "code",
   "execution_count": 3,
   "metadata": {},
   "outputs": [
    {
     "name": "stdout",
     "output_type": "stream",
     "text": [
      "{1, 2}\n"
     ]
    }
   ],
   "source": [
    "s = set()\n",
    "s.add(1)\n",
    "s.add(2)\n",
    "s.add(2)\n",
    "\n",
    "print(s)"
   ]
  },
  {
   "cell_type": "markdown",
   "metadata": {},
   "source": [
    "원소의 포함여부는 `in` 연산자를 활용하여 확인한다."
   ]
  },
  {
   "cell_type": "code",
   "execution_count": 4,
   "metadata": {},
   "outputs": [
    {
     "data": {
      "text/plain": [
       "True"
      ]
     },
     "execution_count": 4,
     "metadata": {},
     "output_type": "execute_result"
    }
   ],
   "source": [
    "2 in s"
   ]
  },
  {
   "cell_type": "code",
   "execution_count": 5,
   "metadata": {},
   "outputs": [
    {
     "data": {
      "text/plain": [
       "False"
      ]
     },
     "execution_count": 5,
     "metadata": {},
     "output_type": "execute_result"
    }
   ],
   "source": [
    "3 in s"
   ]
  },
  {
   "cell_type": "markdown",
   "metadata": {},
   "source": [
    "### 집합 자료형 사용 이유"
   ]
  },
  {
   "cell_type": "markdown",
   "metadata": {},
   "source": [
    "#### 예제\n",
    "\n",
    "리스트에 중복으로 포함된 항목을 쉽게 제거할 수 있다."
   ]
  },
  {
   "cell_type": "code",
   "execution_count": 6,
   "metadata": {},
   "outputs": [
    {
     "name": "stdout",
     "output_type": "stream",
     "text": [
      "[1, 2, 3]\n"
     ]
    }
   ],
   "source": [
    "item_list = [1, 2, 3, 1, 2, 3]\n",
    "\n",
    "item_set = set(item_list) \n",
    "distinct_item_list = list(item_set)\n",
    "\n",
    "print(distinct_item_list)"
   ]
  },
  {
   "cell_type": "markdown",
   "metadata": {},
   "source": [
    "#### 예제\n",
    "\n",
    "리스트에 중복으로 포함된 항목이 존재하는가를 쉽게 판단할 수 있다.\n",
    "예를 들어, 아래 함수는 중복 함수의 포함여부를 판단해준다."
   ]
  },
  {
   "cell_type": "code",
   "execution_count": 7,
   "metadata": {},
   "outputs": [],
   "source": [
    "def has_duplicates(t):\n",
    "    return len(set(t)) < len(t)"
   ]
  },
  {
   "cell_type": "code",
   "execution_count": 8,
   "metadata": {},
   "outputs": [
    {
     "data": {
      "text/plain": [
       "True"
      ]
     },
     "execution_count": 8,
     "metadata": {},
     "output_type": "execute_result"
    }
   ],
   "source": [
    "has_duplicates(item_list)"
   ]
  },
  {
   "cell_type": "markdown",
   "metadata": {},
   "source": [
    "#### 예제\n",
    "\n",
    "길이가 매우 긴 리스트를 대상으로 항목의 존재여부를 판단할 때 집합 자료형으로 형변환을 하면 \n",
    "매우 빠르게 해결할 수 있다."
   ]
  },
  {
   "cell_type": "code",
   "execution_count": 9,
   "metadata": {},
   "outputs": [
    {
     "name": "stdout",
     "output_type": "stream",
     "text": [
      "False\n",
      "False\n"
     ]
    }
   ],
   "source": [
    "hundreds_of_other_words = []  # 매우 긴 리스트라 상상한다.\n",
    "stopwords_list = [\"a\", \"an\", \"at\"] \\\n",
    "                + hundreds_of_other_words + [\"yet\", \"you\"]\n",
    "\n",
    "print(\"zip\" in stopwords_list)     # 확인 과정이 느리다.\n",
    "\n",
    "stopwords_set = set(stopwords_list)\n",
    "print(\"zip\" in stopwords_set)      # 매우 빠르게 확인한다."
   ]
  },
  {
   "cell_type": "markdown",
   "metadata": {},
   "source": [
    "#### 예제\n",
    "\n",
    "부분집합 관계를 이용할 수 있다.\n",
    "예를 들어, 아래 함수는 첫째 인자의 리스트에 포함된 모든 원소가,\n",
    "둘째 인자의 리스트에 항목으로 포하되는지 여부를 판단한다.\n",
    "\n",
    "**주의:** `<=` 연산자는 집합을 대상으로 할 경우 부분집합 관계를 결정한다."
   ]
  },
  {
   "cell_type": "code",
   "execution_count": 10,
   "metadata": {},
   "outputs": [],
   "source": [
    "def sublist(list1, list2):\n",
    "    return set(list1) <= set(list2)"
   ]
  },
  {
   "cell_type": "code",
   "execution_count": 11,
   "metadata": {},
   "outputs": [
    {
     "data": {
      "text/plain": [
       "True"
      ]
     },
     "execution_count": 11,
     "metadata": {},
     "output_type": "execute_result"
    }
   ],
   "source": [
    "sublist(item_list, distinct_item_list)"
   ]
  },
  {
   "cell_type": "markdown",
   "metadata": {},
   "source": [
    "## 사전"
   ]
  },
  {
   "cell_type": "markdown",
   "metadata": {},
   "source": [
    "안내: [Think Python 11장](http://greenteapress.com/thinkpython2/html/thinkpython2012.html) \n",
    "내용의 일부를 번역 및 요약수정하여 정리한 내용입니다."
   ]
  },
  {
   "cell_type": "markdown",
   "metadata": {},
   "source": [
    "사전 자료값은 일종의 쌍들의 집합이며, 각 쌍은 키(key)와 값(value)으로 이루어져 있다.\n",
    "\n",
    "* 키(key): 영어사전의 각 영어단어에 해당함.\n",
    "* 값(value): 특정 영어단어의 뜻에 해당함.\n",
    "\n",
    "예를 들어, 전자영어사전에서 'school'이란 단어의 뜻을 물으면 '학교'라는 뜻을 알려주는데 \n",
    "여기서 'school'이 키에 해당하고 '학교'가 값에 해당한다.\n",
    "따라서 전자영어사전은 이러한 키와 값들의 쌍을 무수히 많이 모아놓은 집합이라고 생각할 수 있다."
   ]
  },
  {
   "cell_type": "markdown",
   "metadata": {},
   "source": [
    "### 항목"
   ]
  },
  {
   "cell_type": "markdown",
   "metadata": {},
   "source": [
    "사전에 포함된 항목은 키와 값으로 이루어진 쌍이다.\n",
    "각각의 항목은 키와 그 키와 연관된 값들에 대한 정보라고 이해하면 된다.\n",
    "\n",
    "여기서는 영한사전을 생성하는 예제를 통해 사전 자료형의 활용을 설명하고자 한다."
   ]
  },
  {
   "cell_type": "markdown",
   "metadata": {},
   "source": [
    "### 빈 사전 생성"
   ]
  },
  {
   "cell_type": "markdown",
   "metadata": {},
   "source": [
    "먼저 빈 사전을 생성한다.\n",
    "\n",
    "빈 사전을 생성하려면 `dict` 함수를 활용하거나 단순히 아래와 같이 선언하면 된다."
   ]
  },
  {
   "cell_type": "code",
   "execution_count": 12,
   "metadata": {},
   "outputs": [
    {
     "name": "stdout",
     "output_type": "stream",
     "text": [
      "{}\n"
     ]
    }
   ],
   "source": [
    "eng2kr = dict()\n",
    "print(eng2kr)"
   ]
  },
  {
   "cell_type": "markdown",
   "metadata": {},
   "source": [
    "또는"
   ]
  },
  {
   "cell_type": "code",
   "execution_count": 13,
   "metadata": {},
   "outputs": [
    {
     "name": "stdout",
     "output_type": "stream",
     "text": [
      "{}\n"
     ]
    }
   ],
   "source": [
    "eng2kr = {}\n",
    "print(eng2kr)"
   ]
  },
  {
   "cell_type": "markdown",
   "metadata": {},
   "source": [
    "**주의:** 중괄호(`{}`)는 빈 딕셔너리를 나타낸다. "
   ]
  },
  {
   "cell_type": "markdown",
   "metadata": {},
   "source": [
    "### 항목 추가"
   ]
  },
  {
   "cell_type": "markdown",
   "metadata": {},
   "source": [
    "사전에 항목을 추가하려면 키와 값의 관계를 대괄호 연산자를 이용하여 지정하면 된다.\n",
    "예를 들어, 영단어 one과 한글 뜻 일, 하나를 연관지으려면 다음과 같이 한다."
   ]
  },
  {
   "cell_type": "code",
   "execution_count": 14,
   "metadata": {},
   "outputs": [],
   "source": [
    "eng2kr['one'] = '일, 하나'"
   ]
  },
  {
   "cell_type": "markdown",
   "metadata": {},
   "source": [
    "사전에 포함된 내용을 확인하면 키와 값 사이에 콜론이 들어간 키와 값의 쌍을 볼 수 있다."
   ]
  },
  {
   "cell_type": "code",
   "execution_count": 15,
   "metadata": {},
   "outputs": [
    {
     "name": "stdout",
     "output_type": "stream",
     "text": [
      "{'one': '일, 하나'}\n"
     ]
    }
   ],
   "source": [
    "print(eng2kr)"
   ]
  },
  {
   "cell_type": "markdown",
   "metadata": {},
   "source": [
    "항목을 하나 더 추가해보자."
   ]
  },
  {
   "cell_type": "code",
   "execution_count": 16,
   "metadata": {},
   "outputs": [],
   "source": [
    "eng2kr['three'] = '삼, 셋'"
   ]
  },
  {
   "cell_type": "code",
   "execution_count": 17,
   "metadata": {},
   "outputs": [
    {
     "name": "stdout",
     "output_type": "stream",
     "text": [
      "{'one': '일, 하나', 'three': '삼, 셋'}\n"
     ]
    }
   ],
   "source": [
    "print(eng2kr)"
   ]
  },
  {
   "cell_type": "markdown",
   "metadata": {},
   "source": [
    "### 사전 선언\n",
    "\n",
    "아래와 같이 사전을 바로 선언할 수도 있다."
   ]
  },
  {
   "cell_type": "code",
   "execution_count": 18,
   "metadata": {},
   "outputs": [],
   "source": [
    "dict_exp = {'one':'일, 하나', 'two':'이, 둘', 'three':'삼, 셋'}"
   ]
  },
  {
   "cell_type": "code",
   "execution_count": 19,
   "metadata": {},
   "outputs": [
    {
     "name": "stdout",
     "output_type": "stream",
     "text": [
      "{'one': '일, 하나', 'two': '이, 둘', 'three': '삼, 셋'}\n"
     ]
    }
   ],
   "source": [
    "print(dict_exp)"
   ]
  },
  {
   "cell_type": "markdown",
   "metadata": {},
   "source": [
    "### 항목의 순서"
   ]
  },
  {
   "cell_type": "markdown",
   "metadata": {},
   "source": [
    "'eng2kr'에 항목을 하나 더 추가해보자."
   ]
  },
  {
   "cell_type": "code",
   "execution_count": 20,
   "metadata": {},
   "outputs": [],
   "source": [
    "eng2kr['two'] = '이, 둘'"
   ]
  },
  {
   "cell_type": "code",
   "execution_count": 21,
   "metadata": {},
   "outputs": [
    {
     "name": "stdout",
     "output_type": "stream",
     "text": [
      "{'one': '일, 하나', 'three': '삼, 셋', 'two': '이, 둘'}\n"
     ]
    }
   ],
   "source": [
    "print(eng2kr)"
   ]
  },
  {
   "cell_type": "markdown",
   "metadata": {},
   "source": [
    "영어사전에 어떤 단어가 몇 번째에 위치하는가는 전혀 중요하지 않다.\n",
    "대신에 어떤 키가 사용되었는가만 중요하다."
   ]
  },
  {
   "cell_type": "markdown",
   "metadata": {},
   "source": [
    "### 대괄호(`[]`) 연산자"
   ]
  },
  {
   "cell_type": "markdown",
   "metadata": {},
   "source": [
    "대괄호 연산자는 항목을 추가할 때와 함게 항목을 확인하거나 업데이트 할 때도 사용한다.\n",
    "예를 들어, 'one'에 대응하는 값을 확인하고자 하면 다음과 같이 대괄호를 사용하는 인덱싱을 이용한다."
   ]
  },
  {
   "cell_type": "code",
   "execution_count": 22,
   "metadata": {},
   "outputs": [
    {
     "name": "stdout",
     "output_type": "stream",
     "text": [
      "일, 하나\n"
     ]
    }
   ],
   "source": [
    "print(eng2kr['one'])"
   ]
  },
  {
   "cell_type": "markdown",
   "metadata": {},
   "source": [
    "키와 연관된 값을 업데이트 하려면 새롭게 지정하면 된다."
   ]
  },
  {
   "cell_type": "code",
   "execution_count": 23,
   "metadata": {},
   "outputs": [
    {
     "name": "stdout",
     "output_type": "stream",
     "text": [
      "{'one': '일, 하나, 한번, 유일한', 'three': '삼, 셋', 'two': '이, 둘'}\n"
     ]
    }
   ],
   "source": [
    "eng2kr['one'] = '일, 하나, 한번, 유일한'\n",
    "print(eng2kr)"
   ]
  },
  {
   "cell_type": "markdown",
   "metadata": {},
   "source": [
    "만약 키가 사전에 사용되지 않았으면 오류(`KeyError`)가 발생한다."
   ]
  },
  {
   "cell_type": "code",
   "execution_count": 24,
   "metadata": {},
   "outputs": [
    {
     "ename": "KeyError",
     "evalue": "'four'",
     "output_type": "error",
     "traceback": [
      "\u001b[0;31m---------------------------------------------------------------------------\u001b[0m",
      "\u001b[0;31mKeyError\u001b[0m                                  Traceback (most recent call last)",
      "\u001b[0;32m<ipython-input-24-bb50ad42a120>\u001b[0m in \u001b[0;36m<module>\u001b[0;34m\u001b[0m\n\u001b[0;32m----> 1\u001b[0;31m \u001b[0mprint\u001b[0m\u001b[0;34m(\u001b[0m\u001b[0meng2kr\u001b[0m\u001b[0;34m[\u001b[0m\u001b[0;34m'four'\u001b[0m\u001b[0;34m]\u001b[0m\u001b[0;34m)\u001b[0m\u001b[0;34m\u001b[0m\u001b[0;34m\u001b[0m\u001b[0m\n\u001b[0m",
      "\u001b[0;31mKeyError\u001b[0m: 'four'"
     ]
    }
   ],
   "source": [
    "print(eng2kr['four'])"
   ]
  },
  {
   "cell_type": "markdown",
   "metadata": {},
   "source": [
    "### 'len' 함수\n",
    "\n",
    "사전에 포함된 항목의 개수를 확인시켜주는 함수이다."
   ]
  },
  {
   "cell_type": "code",
   "execution_count": 25,
   "metadata": {},
   "outputs": [
    {
     "data": {
      "text/plain": [
       "3"
      ]
     },
     "execution_count": 25,
     "metadata": {},
     "output_type": "execute_result"
    }
   ],
   "source": [
    "len(eng2kr)"
   ]
  },
  {
   "cell_type": "markdown",
   "metadata": {},
   "source": [
    "### 'in' 연산자"
   ]
  },
  {
   "cell_type": "markdown",
   "metadata": {},
   "source": [
    "특정 키가 사전에 사용되었는지 여부를 확인한다. "
   ]
  },
  {
   "cell_type": "code",
   "execution_count": 26,
   "metadata": {},
   "outputs": [
    {
     "data": {
      "text/plain": [
       "True"
      ]
     },
     "execution_count": 26,
     "metadata": {},
     "output_type": "execute_result"
    }
   ],
   "source": [
    "'one' in eng2kr"
   ]
  },
  {
   "cell_type": "code",
   "execution_count": 27,
   "metadata": {},
   "outputs": [
    {
     "data": {
      "text/plain": [
       "False"
      ]
     },
     "execution_count": 27,
     "metadata": {},
     "output_type": "execute_result"
    }
   ],
   "source": [
    "'four' in eng2kr"
   ]
  },
  {
   "cell_type": "markdown",
   "metadata": {},
   "source": [
    "### 사전 자료형 메서드"
   ]
  },
  {
   "cell_type": "markdown",
   "metadata": {},
   "source": [
    "#### `keys` 메서드"
   ]
  },
  {
   "cell_type": "markdown",
   "metadata": {},
   "source": [
    "사전에 사용된 키들을 모두 모아서 리스트와 비슷한 자료형을 만들어서 리턴한다.\n",
    "\n",
    "**주의:** 리스트와는 다르지만 매우 비슷하다."
   ]
  },
  {
   "cell_type": "code",
   "execution_count": 28,
   "metadata": {},
   "outputs": [
    {
     "name": "stdout",
     "output_type": "stream",
     "text": [
      "dict_keys(['one', 'three', 'two'])\n"
     ]
    }
   ],
   "source": [
    "keys = eng2kr.keys()\n",
    "\n",
    "print(keys)"
   ]
  },
  {
   "cell_type": "markdown",
   "metadata": {},
   "source": [
    "아래 두 코드는 동일한 일을 수행한다."
   ]
  },
  {
   "cell_type": "code",
   "execution_count": 29,
   "metadata": {},
   "outputs": [
    {
     "data": {
      "text/plain": [
       "True"
      ]
     },
     "execution_count": 29,
     "metadata": {},
     "output_type": "execute_result"
    }
   ],
   "source": [
    "'one' in eng2kr"
   ]
  },
  {
   "cell_type": "code",
   "execution_count": 30,
   "metadata": {},
   "outputs": [
    {
     "data": {
      "text/plain": [
       "True"
      ]
     },
     "execution_count": 30,
     "metadata": {},
     "output_type": "execute_result"
    }
   ],
   "source": [
    "'one' in eng2kr.keys()"
   ]
  },
  {
   "cell_type": "markdown",
   "metadata": {},
   "source": [
    "#### `values` 메서드"
   ]
  },
  {
   "cell_type": "markdown",
   "metadata": {},
   "source": [
    "사전에 사용된 값들을 모두 모아서 리스트와 비슷한 자료형을 만들어서 리턴한다.\n",
    "\n",
    "**주의:** 리스트와는 다르지만 매우 비슷하다."
   ]
  },
  {
   "cell_type": "code",
   "execution_count": 31,
   "metadata": {},
   "outputs": [
    {
     "name": "stdout",
     "output_type": "stream",
     "text": [
      "dict_values(['일, 하나, 한번, 유일한', '삼, 셋', '이, 둘'])\n"
     ]
    }
   ],
   "source": [
    "values = eng2kr.values()\n",
    "print(values)"
   ]
  },
  {
   "cell_type": "markdown",
   "metadata": {},
   "source": [
    "값으로 사용되었는가 여부를 이용하려면 `values` 메서드를 활용하면 된다."
   ]
  },
  {
   "cell_type": "code",
   "execution_count": 32,
   "metadata": {},
   "outputs": [
    {
     "data": {
      "text/plain": [
       "False"
      ]
     },
     "execution_count": 32,
     "metadata": {},
     "output_type": "execute_result"
    }
   ],
   "source": [
    "'이' in eng2kr.values()"
   ]
  },
  {
   "cell_type": "code",
   "execution_count": 33,
   "metadata": {},
   "outputs": [
    {
     "data": {
      "text/plain": [
       "False"
      ]
     },
     "execution_count": 33,
     "metadata": {},
     "output_type": "execute_result"
    }
   ],
   "source": [
    "'사' in eng2kr.values()"
   ]
  },
  {
   "cell_type": "markdown",
   "metadata": {},
   "source": [
    "#### `items` 메서드"
   ]
  },
  {
   "cell_type": "markdown",
   "metadata": {},
   "source": [
    "사전에 포함된 항목들을 순서쌍들의 리스트로 변환한다.\n",
    "각각의 순서쌍은 키와 값으로 이루어진, 즉 길이가 2인 튜플이다.\n",
    "\n",
    "**주의:** 리스트와는 다르지만 매우 비슷하다."
   ]
  },
  {
   "cell_type": "code",
   "execution_count": 34,
   "metadata": {},
   "outputs": [
    {
     "name": "stdout",
     "output_type": "stream",
     "text": [
      "dict_items([('one', '일, 하나, 한번, 유일한'), ('three', '삼, 셋'), ('two', '이, 둘')])\n"
     ]
    }
   ],
   "source": [
    "values = eng2kr.items()\n",
    "print(values)"
   ]
  },
  {
   "cell_type": "markdown",
   "metadata": {},
   "source": [
    "사전의 항목을 튜플로 하나씩 확인해보자.\n",
    "항목들이 길이가 2인 튜플로 구성되기에 변수 두 개에 각각 할당할 수 있다."
   ]
  },
  {
   "cell_type": "code",
   "execution_count": 35,
   "metadata": {},
   "outputs": [
    {
     "name": "stdout",
     "output_type": "stream",
     "text": [
      "one의 뜻은 일, 하나, 한번, 유일한입니다.\n",
      "three의 뜻은 삼, 셋입니다.\n",
      "two의 뜻은 이, 둘입니다.\n"
     ]
    }
   ],
   "source": [
    "for eng, kor in eng2kr.items():\n",
    "    print(f\"{eng}의 뜻은 {kor}입니다.\")"
   ]
  },
  {
   "cell_type": "markdown",
   "metadata": {},
   "source": [
    "영어 단어에 여러 뜻이 있을 수 있기 때문에 그것을 보다 상세히 보여줄 수도 있다.\n",
    "그러기 위해 문자열을 `split`과 `join` 메서드를 활용한다.\n",
    "\n",
    "**참고:** `split`/`join` 메서드의 활용은 [문자열 나누기/합치기](https://devpouch.tistory.com/77)에 좀 더 다양한 예제가 있음."
   ]
  },
  {
   "cell_type": "code",
   "execution_count": 36,
   "metadata": {},
   "outputs": [
    {
     "name": "stdout",
     "output_type": "stream",
     "text": [
      "one의 뜻은 일 또는 하나 또는 한번 또는 유일한입니다.\n",
      "three의 뜻은 삼 또는 셋입니다.\n",
      "two의 뜻은 이 또는 둘입니다.\n"
     ]
    }
   ],
   "source": [
    "for eng, kor in eng2kr.items():\n",
    "    meaning = kor.split(', ')\n",
    "    print(f\"{eng}의 뜻은 {' 또는 '. join(meaning)}입니다.\")"
   ]
  },
  {
   "cell_type": "markdown",
   "metadata": {},
   "source": [
    "### 예제: 다이빙 기록과 사전 자료형"
   ]
  },
  {
   "cell_type": "markdown",
   "metadata": {},
   "source": [
    "[연관배열 활용](https://github.com/liganega/ProgInPython/blob/master/notebooks/PiPy05A-AssociativeArrays.ipynb)에서\n",
    "다룬 다이빙 기록을 사전 자료형으로 저장하는 함수는 다음과 같다."
   ]
  },
  {
   "cell_type": "code",
   "execution_count": 37,
   "metadata": {},
   "outputs": [],
   "source": [
    "def scoreDict(fileName):\n",
    "    try:\n",
    "        result_f = open(fileName, 'r') \n",
    "    except FileNotFoundError:\n",
    "        print(\"열고자 하는 파일이 존재하지 않습니다.\")\n",
    "\n",
    "    score_dict = dict() \n",
    "\n",
    "    for line in result_f: \n",
    "        name, score = line.split() \n",
    "        try:\n",
    "            score_dict[float(score)] = name\n",
    "        except:\n",
    "            continue\n",
    "    result_f.close() \n",
    "\n",
    "    return score_dict"
   ]
  },
  {
   "cell_type": "markdown",
   "metadata": {},
   "source": [
    "위 함수를 5m 다이빙 기록과 함께 호출하면 기록을 사전 자료형으로 저장할 수 있다."
   ]
  },
  {
   "cell_type": "code",
   "execution_count": 38,
   "metadata": {},
   "outputs": [
    {
     "name": "stdout",
     "output_type": "stream",
     "text": [
      "{7.13: '권준기', 8.55: '김세윤', 9.02: '나진서', 8.35: '마동탁', 7.86: '서길석', 8.17: '이준용', 9.33: '이차승', 7.11: '차승연', 8.57: '표방호', 8.93: '한석준'}\n"
     ]
    }
   ],
   "source": [
    "scores = scoreDict('./data/results5m.txt')\n",
    "print(scores)"
   ]
  },
  {
   "cell_type": "markdown",
   "metadata": {},
   "source": [
    "그런데 `scoreDict` 함수는 선수들의 성적을 키로, 해당 성적을 낸 선수 이름을 값으로 사용한다.\n",
    "그렇게 한 이유는 정렬을 이용하여 등수를 정하기 위해서 였다.\n",
    "\n",
    "여기서는 선수이름을 키로, 해당 선수의 성적을 값으로 활용해보자.\n",
    "그러기 위해 `scoreDict`를 아래와 같이 약간 수정하면 된다."
   ]
  },
  {
   "cell_type": "code",
   "execution_count": 39,
   "metadata": {},
   "outputs": [],
   "source": [
    "def nameScoreDict(fileName):\n",
    "    try:\n",
    "        result_f = open(fileName, 'r') \n",
    "    except FileNotFoundError:\n",
    "        print(\"열고자 하는 파일이 존재하지 않습니다.\")\n",
    "\n",
    "    nameScore_dict = dict()                   # 이름을 키로 사용 암시\n",
    "\n",
    "    for line in result_f: \n",
    "        name, score = line.split() \n",
    "        try:\n",
    "            nameScore_dict[name] = float(score)   # 이름을 키로, 성적을 값으로.\n",
    "        except:\n",
    "            continue\n",
    "    result_f.close() \n",
    "\n",
    "    return nameScore_dict"
   ]
  },
  {
   "cell_type": "markdown",
   "metadata": {},
   "source": [
    "5m 다이빙 기록을 다시 읽어온다."
   ]
  },
  {
   "cell_type": "code",
   "execution_count": 40,
   "metadata": {},
   "outputs": [
    {
     "name": "stdout",
     "output_type": "stream",
     "text": [
      "{'권준기': 7.13, '김세윤': 8.55, '나진서': 9.02, '마동탁': 8.35, '서길석': 7.86, '이준용': 8.17, '이차승': 9.33, '차승연': 7.11, '표방호': 8.57, '한석준': 8.93}\n"
     ]
    }
   ],
   "source": [
    "nameScores = nameScoreDict('./data/results5m.txt')\n",
    "print(nameScores)"
   ]
  },
  {
   "cell_type": "markdown",
   "metadata": {},
   "source": [
    "이제 선수 이름을 지정하면 해당 선수의 점수를 인덱싱을 활용하여 확인할 수 있다."
   ]
  },
  {
   "cell_type": "code",
   "execution_count": 41,
   "metadata": {},
   "outputs": [
    {
     "data": {
      "text/plain": [
       "7.13"
      ]
     },
     "execution_count": 41,
     "metadata": {},
     "output_type": "execute_result"
    }
   ],
   "source": [
    "nameScores['권준기']"
   ]
  },
  {
   "cell_type": "code",
   "execution_count": 42,
   "metadata": {},
   "outputs": [
    {
     "data": {
      "text/plain": [
       "8.17"
      ]
     },
     "execution_count": 42,
     "metadata": {},
     "output_type": "execute_result"
    }
   ],
   "source": [
    "nameScores['이준용']"
   ]
  },
  {
   "cell_type": "markdown",
   "metadata": {},
   "source": [
    "### 반복문과 사전"
   ]
  },
  {
   "cell_type": "markdown",
   "metadata": {},
   "source": [
    "사전을 `for` 반복문에 사용하면 사전의 키를 기준으로 반복문을 실행한다. \n",
    "\n",
    "아래 예제는 `nameScores`에 저정된 값들을\n",
    "파일의 내용과 동일한 모양으로 하나씩 출력한다."
   ]
  },
  {
   "cell_type": "code",
   "execution_count": 43,
   "metadata": {},
   "outputs": [
    {
     "name": "stdout",
     "output_type": "stream",
     "text": [
      "권준기 7.13\n",
      "김세윤 8.55\n",
      "나진서 9.02\n",
      "마동탁 8.35\n",
      "서길석 7.86\n",
      "이준용 8.17\n",
      "이차승 9.33\n",
      "차승연 7.11\n",
      "표방호 8.57\n",
      "한석준 8.93\n"
     ]
    }
   ],
   "source": [
    "for key in nameScores:\n",
    "    print(key, nameScores[key])"
   ]
  },
  {
   "cell_type": "markdown",
   "metadata": {},
   "source": [
    "아래 코드는 위 코드와 동일한 기능을 수행한다."
   ]
  },
  {
   "cell_type": "code",
   "execution_count": 44,
   "metadata": {},
   "outputs": [
    {
     "name": "stdout",
     "output_type": "stream",
     "text": [
      "권준기 7.13\n",
      "김세윤 8.55\n",
      "나진서 9.02\n",
      "마동탁 8.35\n",
      "서길석 7.86\n",
      "이준용 8.17\n",
      "이차승 9.33\n",
      "차승연 7.11\n",
      "표방호 8.57\n",
      "한석준 8.93\n"
     ]
    }
   ],
   "source": [
    "for key in nameScores.keys():\n",
    "    print(key, nameScores[key])"
   ]
  },
  {
   "cell_type": "markdown",
   "metadata": {},
   "source": [
    "### 예제: 카운터"
   ]
  },
  {
   "cell_type": "markdown",
   "metadata": {},
   "source": [
    "문자열에 사용된 각각의 문자가 몇 번씩 사용되었는지를 확인하는 함수를 사전을 이용하여 쉽게 구현할 수 있다. "
   ]
  },
  {
   "cell_type": "code",
   "execution_count": 45,
   "metadata": {},
   "outputs": [],
   "source": [
    "def histogram(word):\n",
    "    counts = dict()\n",
    "    for c in word: \n",
    "        if c not in counts:   # 알파벳이 처음 사용된 경우\n",
    "            counts[c] = 1     # counts 사전에 키와 카운트 값 추가\n",
    "        else:                 # 알파벳이 이미 사용된 경우\n",
    "            counts[c] += 1    # 기존의 카운트 값 1 증가\n",
    "    return counts"
   ]
  },
  {
   "cell_type": "code",
   "execution_count": 46,
   "metadata": {},
   "outputs": [
    {
     "data": {
      "text/plain": [
       "{'H': 1, 'e': 1, 'l': 2, 'o': 2, 'P': 1, 'y': 1, 't': 1, 'h': 1, 'n': 1}"
      ]
     },
     "execution_count": 46,
     "metadata": {},
     "output_type": "execute_result"
    }
   ],
   "source": [
    "histogram('HelloPython')"
   ]
  },
  {
   "cell_type": "markdown",
   "metadata": {},
   "source": [
    "아래에 정의된 함수 `print_hist`는 각 키와 대응하는 값을 인쇄한다."
   ]
  },
  {
   "cell_type": "code",
   "execution_count": 47,
   "metadata": {},
   "outputs": [],
   "source": [
    "def print_hist(a_dict):\n",
    "    for key in a_dict:\n",
    "        print(key, a_dict[key])"
   ]
  },
  {
   "cell_type": "markdown",
   "metadata": {},
   "source": [
    "앞서 구현한 'histogram' 함수의 리턴값을 활용하면 다음과 같다."
   ]
  },
  {
   "cell_type": "code",
   "execution_count": 48,
   "metadata": {},
   "outputs": [
    {
     "name": "stdout",
     "output_type": "stream",
     "text": [
      "H 1\n",
      "e 1\n",
      "l 2\n",
      "o 2\n",
      "P 1\n",
      "y 1\n",
      "t 1\n",
      "h 1\n",
      "n 1\n"
     ]
    }
   ],
   "source": [
    "countHelloPython = histogram('HelloPython')\n",
    "print_hist(countHelloPython)"
   ]
  },
  {
   "cell_type": "markdown",
   "metadata": {},
   "source": [
    "## 동적계획, 리스트, 사전"
   ]
  },
  {
   "cell_type": "markdown",
   "metadata": {},
   "source": [
    "### 피보나찌 수열"
   ]
  },
  {
   "cell_type": "markdown",
   "metadata": {},
   "source": [
    "피보나찌(Fibonacci) 수열은 아래와 같이 전개된다.\n",
    "\n",
    "```\n",
    "1, 1, 2, 3, 5, 8, 13, 21, 34, 55, 89, 144, ...\n",
    "```\n",
    "\n",
    "즉, 수열의 첫째, 둘째 항목은 1이며, 셋째 항목은 첫째와 둘째 항목의 합, \n",
    "넷째 항목은 둘째와 셋째 항목의 합, 등으로 진행된다.\n",
    "n이 2보다 클 경우, 이를 일반화하면 (n) 번째 항목은 (n-1) 번째 항목과 (n-2) 번째 항목의 합이며,\n",
    "이를 수식으로 표현하면 다음과 같다.\n",
    "\n",
    "```\n",
    "fibonacci(0)   = 1 \n",
    "fibonacci(1)   = 1 \n",
    "fibonacci(n) = fibonacci(n-1) + fibonacci(n-2)\n",
    "```\n",
    "\n",
    "재귀함수를 이용하면 쉽게 `fibonacci` 함수를 구현할 수 있다."
   ]
  },
  {
   "cell_type": "code",
   "execution_count": 49,
   "metadata": {},
   "outputs": [],
   "source": [
    "def fibonacci(n):\n",
    "    if n in {0, 1}:\n",
    "        return 1\n",
    "    else:\n",
    "        return fibonacci(n-2) + fibonacci(n-1)"
   ]
  },
  {
   "cell_type": "markdown",
   "metadata": {},
   "source": [
    "실제로 잘 작동하는 것으로 보인다."
   ]
  },
  {
   "cell_type": "code",
   "execution_count": 50,
   "metadata": {},
   "outputs": [
    {
     "data": {
      "text/plain": [
       "1"
      ]
     },
     "execution_count": 50,
     "metadata": {},
     "output_type": "execute_result"
    }
   ],
   "source": [
    "fibonacci(0)"
   ]
  },
  {
   "cell_type": "code",
   "execution_count": 51,
   "metadata": {},
   "outputs": [
    {
     "data": {
      "text/plain": [
       "1"
      ]
     },
     "execution_count": 51,
     "metadata": {},
     "output_type": "execute_result"
    }
   ],
   "source": [
    "fibonacci(1)"
   ]
  },
  {
   "cell_type": "code",
   "execution_count": 52,
   "metadata": {},
   "outputs": [
    {
     "data": {
      "text/plain": [
       "2"
      ]
     },
     "execution_count": 52,
     "metadata": {},
     "output_type": "execute_result"
    }
   ],
   "source": [
    "fibonacci(2)"
   ]
  },
  {
   "cell_type": "code",
   "execution_count": 53,
   "metadata": {},
   "outputs": [
    {
     "data": {
      "text/plain": [
       "3"
      ]
     },
     "execution_count": 53,
     "metadata": {},
     "output_type": "execute_result"
    }
   ],
   "source": [
    "fibonacci(3)"
   ]
  },
  {
   "cell_type": "code",
   "execution_count": 54,
   "metadata": {},
   "outputs": [
    {
     "data": {
      "text/plain": [
       "8"
      ]
     },
     "execution_count": 54,
     "metadata": {},
     "output_type": "execute_result"
    }
   ],
   "source": [
    "fibonacci(5)"
   ]
  },
  {
   "cell_type": "code",
   "execution_count": 55,
   "metadata": {},
   "outputs": [
    {
     "data": {
      "text/plain": [
       "89"
      ]
     },
     "execution_count": 55,
     "metadata": {},
     "output_type": "execute_result"
    }
   ],
   "source": [
    "fibonacci(10)"
   ]
  },
  {
   "cell_type": "markdown",
   "metadata": {},
   "source": [
    "그런데 40번째 피보나찌 수 계산이 올래 걸릴 수 있다.\n",
    "지금 사용하는 컴퓨터로 20초 정도 걸린다.\n",
    "현재 사용된 컴퓨터 사양은 다음과 같다.\n",
    "\n",
    "* cpu: 3.6 GHz Quad-Core Intel Core i7\n",
    "* 메모리: 16 GB 2400 MHz DDR4\n",
    "\n",
    "**주의:**\n",
    "* 실행시간을 측정하기 위해 `time` 모듈의 `time` 함수를 활용한다.\n",
    "* `int` 함수를 부동소수점을 인자로 사용하면 소수점 이하를 버린다."
   ]
  },
  {
   "cell_type": "code",
   "execution_count": 56,
   "metadata": {},
   "outputs": [
    {
     "name": "stdout",
     "output_type": "stream",
     "text": [
      "약 20초 걸렸습니다.\n"
     ]
    }
   ],
   "source": [
    "import time                              # time 모듈 불러오기\n",
    "\n",
    "start_time = time.time()                 # 실행 시작 시간 기억\n",
    "fibonacci(39)\n",
    "end_time = time.time()                   # 실행 종료 시간 기억\n",
    "\n",
    "elapsed_time = end_time - start_time\n",
    "print(f'약 {int(elapsed_time)}초 걸렸습니다.')"
   ]
  },
  {
   "cell_type": "markdown",
   "metadata": {},
   "source": [
    "하지만 1,000번째 피보나찌 수를 구하려는 시도는 웬만하면 하지 않는 게 좋다.\n",
    "대부분 중간에 오류가 발생하거나 아니면 매우 오래 걸릴 수 있기 때문이다.\n",
    "\n",
    "이렇게 재귀로 피보나찌 수열을 쉽게 구현할 수 있지만 문제는 계산이 느리고, 또\n",
    "조금 하다가 금방 불가능해진다.\n",
    "이유는 재귀함수의 정의에 의해 반복적인 계산을 기하급수적으로 많이 하기 때문이다.\n",
    "\n",
    "[PythonTutor: 피보나찌 재귀함수](http://pythontutor.com/visualize.html#code=def%20fibonacci%28n%29%3A%0A%20%20%20%20if%20n%20in%20%7B0,%201%7D%3A%0A%20%20%20%20%20%20%20%20return%201%0A%20%20%20%20else%3A%0A%20%20%20%20%20%20%20%20return%20fibonacci%28n-2%29%20%2B%20fibonacci%28n-1%29%0A%20%20%20%20%20%20%20%20%0Aprint%28fibonacci%2810%29%29&cumulative=false&heapPrimitives=nevernest&mode=edit&origin=opt-frontend.js&py=3&rawInputLstJSON=%5B%5D&textReferences=false)에서\n",
    "`fibonacci` 함수의 인자를 변경해 보면서 실행을 시도해 보면 계산을 얼마나 많이 하고, \n",
    "또 메모리를 얼마나 많이 사용하는지 눈으로 확인할 수 있다.\n",
    "\n",
    "참고로 현재 Python Tutor에서 인자로 사용할 수 있는 한계는 10이다. \n",
    "실제로\n",
    "\n",
    "* n = 9: 438번의 수행 단계 필요\n",
    "* n = 10: 710번의 수행 단계 필요\n",
    "\n",
    "n > 10에 대해서는 PythonTutor 서버의 제한 때문에 실행되지 않는다."
   ]
  },
  {
   "cell_type": "markdown",
   "metadata": {},
   "source": [
    "### 동적계획과 리스트"
   ]
  },
  {
   "cell_type": "markdown",
   "metadata": {},
   "source": [
    "재귀로 구현된 `fibonacci` 함수의 근본적인 문제는 PythonTutor 예제에서\n",
    "확인할 수 있듯이 반복적인 계산을 너무 많이 하는 것이다.\n",
    "무엇보다도 n=39와 같은 작은 인자에 대해서 19초가 걸리는 계산은 문제가 많으며,\n",
    "좀 더 큰 인자는 아예 계산을 할 수도 없다.\n",
    "\n",
    "이에 대한 해결책을 **동적계획**(dynamic programming)이 제공한다. \n",
    "동적계획은 반복적인 계산을 하지 않는다. \n",
    "\n",
    "예를 들어,`fibonacci(5)`를 계산하려면 `fibonacci(4)`, `fibonacci(3)`, `fibonacci(2)`\n",
    "`fibonacci(1)` 을 먼저 계산해야 하는데,\n",
    "그런다면 그렇게 계산된 값을 저장한 다음에 필요할 때 이용하면 된다.\n",
    "이런 방식을 동적계획이라 부른다.\n",
    "\n",
    "이제 동적계획 방식으로 피보나지 수열을 계산하는 함수를 구현해보자.\n",
    "이미 계산된 피보나찌 수를 기억하기 위해 리스트를 활용한다.\n",
    "\n",
    "**주의:** n 번째 피보나찌 수는 (n-1) 번 인덱스의 값으로 저장된다. "
   ]
  },
  {
   "cell_type": "code",
   "execution_count": 57,
   "metadata": {},
   "outputs": [],
   "source": [
    "def fibonacciList(n):\n",
    "    known_nums = [1, 1]                           # 첫번째, 두번재 피보나찌 수\n",
    "    for k in range(2, n+1):                        \n",
    "        res = known_nums[k-1] + known_nums[k-2]   # (k+1) 번째 피보나찌 수 계산\n",
    "        known_nums.append(res)                    # k번 인덱스의 값이 (k+1) 번째 피보나찌 수\n",
    "    return known_nums[-1]                         # 마지막 항목 출력"
   ]
  },
  {
   "cell_type": "code",
   "execution_count": 58,
   "metadata": {},
   "outputs": [
    {
     "data": {
      "text/plain": [
       "1"
      ]
     },
     "execution_count": 58,
     "metadata": {},
     "output_type": "execute_result"
    }
   ],
   "source": [
    "fibonacciList(0)"
   ]
  },
  {
   "cell_type": "code",
   "execution_count": 59,
   "metadata": {},
   "outputs": [
    {
     "data": {
      "text/plain": [
       "1"
      ]
     },
     "execution_count": 59,
     "metadata": {},
     "output_type": "execute_result"
    }
   ],
   "source": [
    "fibonacciList(1)"
   ]
  },
  {
   "cell_type": "code",
   "execution_count": 60,
   "metadata": {},
   "outputs": [
    {
     "data": {
      "text/plain": [
       "2"
      ]
     },
     "execution_count": 60,
     "metadata": {},
     "output_type": "execute_result"
    }
   ],
   "source": [
    "fibonacciList(2)"
   ]
  },
  {
   "cell_type": "code",
   "execution_count": 61,
   "metadata": {},
   "outputs": [
    {
     "data": {
      "text/plain": [
       "8"
      ]
     },
     "execution_count": 61,
     "metadata": {},
     "output_type": "execute_result"
    }
   ],
   "source": [
    "fibonacciList(5)"
   ]
  },
  {
   "cell_type": "code",
   "execution_count": 62,
   "metadata": {},
   "outputs": [
    {
     "data": {
      "text/plain": [
       "102334155"
      ]
     },
     "execution_count": 62,
     "metadata": {},
     "output_type": "execute_result"
    }
   ],
   "source": [
    "fibonacciList(39)"
   ]
  },
  {
   "cell_type": "markdown",
   "metadata": {},
   "source": [
    "웬만큼 큰 값의 계산도 빠르게 가능하다."
   ]
  },
  {
   "cell_type": "code",
   "execution_count": 63,
   "metadata": {},
   "outputs": [
    {
     "data": {
      "text/plain": [
       "70330367711422815821835254877183549770181269836358732742604905087154537118196933579742249494562611733487750449241765991088186363265450223647106012053374121273867339111198139373125598767690091902245245323403501"
      ]
     },
     "execution_count": 63,
     "metadata": {},
     "output_type": "execute_result"
    }
   ],
   "source": [
    "fibonacciList(1000)"
   ]
  },
  {
   "cell_type": "markdown",
   "metadata": {},
   "source": [
    "십만일번째 피보나찌 수도 눈깜빡할 사이에 계산한다.\n",
    "앞서 언급한 컴퓨터 사양보다 약한 컴퓨터의 경우는 좀 더 작은 수를 시도해야 할 것이다."
   ]
  },
  {
   "cell_type": "code",
   "execution_count": 64,
   "metadata": {},
   "outputs": [
    {
     "data": {
      "text/plain": [
       "4202692702995154386319005101293915131773915702632234503304716087198335731457276226633938477267013660962533661702858329186641162298822215333733574147268614522205177960360216576292096795530656502537998314495026330500620719088898984643619599926476236108318505023749864703859491024686621241730682736115723551647724257547502352412468746074851053353923438703547870019701586274514903943581778012410826464461823272924826749362282954004235923662667858166740323769532233540810434266661679738865959304652017245761094495566071167054301690895714604884013679491394566493844646298912078940644595782507997928878739392985610180101343882600283820398139200927163512122969924839839463533622369599880593624548314955919982731440664606860389674767846630714238798520061220948360195842828694894114956887994407533188621624706043127847588617179645038305434988777154546903665027721615391983839969917881343981419443688092501114818197984022611661046073180322923553766037586498499974540204693791793047963222486139060147413637230339253443256608485701564784891053397926289664177821919706286664135844377802876352562122389353466102826235289263234488363199404159286560829728598821205147493568392160744064818153706709889719108606083648795534004972817295465584196082602156304071901493325048737897039612705399999458459884586324576356850465902800682163360223018811383011208727253121314804106183630746333917234788155584199422004369734794567464293731590299016321476910276047953145737133530620933370013274962876666024092378144462247911861242773628847211726253860103658427961076487163331347200528488644744897867222184279861410512996912357518380420226522996351489992015929613369585992284921472840596751824858206083370375175870696347451742484480895089618955310799475473330332388074551229896105111703918074819309463129676526583523254006198015481044159254418528609134434118408385912583154979720111735082542883519942050207089706291319323705936118699708767405215366496845718246640603638302177053284851442532497454630999497577583104521012195115814606785903295807850171689359081326188293931649613908497264994236206250488864434829436295195232851838550923528889484987751381022320088255160033641645914092823188828485453780754751793048907600025512141470637066402501872547952277141425050621431726133512376491993264368219026824677798278050012296677681338164667973991346578705512745343946944045970777191879954073954276059158130792852127416568328282956215993174690589582184622213311123743528370969527697376659264209701430460262628089511749784920754475292453555824485037081169662961361437456685569229108353804447871639780202320840236093709222541404770096912820491605767773669730366536498834923648247283567638754132943595918097552972633716970745724835609042802322527268722270064679384555006784008088065427716480324882491803961614497071569285030997191355977454006784666563982465863641444396717248234018026243961781706483360371717605953991771045496130564628772749130877955433893243191369395281413812395013590807898227658488263250802618524850762756185439484575939335126157545942937679620715509540065149312865564443708655439771673542181054558453697618966155551804171330106742714737433118616111666800134742357715495644208822055262531207630247540274901297665161330833084658587180009012735858860387323290477368590430709381480698925172403629520614399575937151757870535045340264867187154085515769299670425865012093497499458084071483820091588806573538923913704024350619657151098348052986098255110975492885336115545257393042442696791158576341900753200960006019671663122779964553274124613827002842207651443127215907411334080034890407625849192846588580412869163865154796429776325124265243357090373279994090608028914324200216278403137569688793319327179281513651857484816495100553151506872893457040698364864908926339042055054701374510871324934497999408637497701279716028106056465342577613367511844757858239618765128089472486851278975083193508109837771994103670102484129663885788768053596123033251579123980971589651437698106274532939294318318049638382537268302829198532880152940714337232086321104061644358354382664864917218438210293517424553745505758090753355882025205602453784317543553853199425081002171431279765462841928691038739447760277789370517385306279744047722489086714748028855582994177874607142469064610509456252022128258329950255642602299905929046841595791167921512858860328296849951271553446508878296327611803906735633266224123093687573746634252135170679694981289617944100773168818654945023743438512318640838968116604957523873700674044602618648483425343480172570393405927238389192205890319989061851984210383082164165286102068738694744762282270671562080897567280776109321283700776536592362521370175610492010490647926435022313362357037672820456385127428485063107497131400081807697966418670920862707517582909049383024204603334049254656583584442952963370887765452655876066062446937832610287823426705006187125841909320161763987566513486927154010085083647269535513915816758710288791204561224527095476616464634423436358506846144301437379657717790829502874496253094716740270948624055817414650104670627976517803754955899088266937466501789934094158017587793129776426891242809581667986926232813625576760050205090619888399123409239688442164270550778132287725184933490420599495679264605659110257760825014193077871965880962249652458201556815237466699463967549092715904279567434739404713888403457003339771465555694947195071035775250811866532575065892797554153301608090613307672021657715401873436452152566925919864525536834568235530705981621300855049045749462125005586100312191552245274122445172305460076489568744037811637120488942481442457383881221646993921230130822937656219514811987478059283006119165854697271444230766548407257874820601218362249866393721509747526537539677353958519844769577322142446097980810172948625060754655647850574348574673760923656634582655495694500804946625600683003303969791972728978548772898691700233344838111143624421997248348373393817914540838366741137930672543630607318584213889310473297461294643309134066151220872533746202317748637999040114037035041286112690264736393397273817924315745503107186029046465168489664991484955836275210278398095989067353453771747035442365355445747127447923214040603969451728451202645051877393660878207404279794929371571338262325793789167979461085931415095683486296162401875755894130120407378671712437729188487520121912910810326749154096040648754248927534521962074102425291913766944369032132103550933382245399558387757904745511758965088027854937299536471846566637636919001351398679746388509468405284549140756479486056457920649429617829741961946109703629304530913466716238442148820189449581503029766353579703388699920365905324047373120549655643341862622777074389646423179579674577956341322830784916026813548454623362949055914885337880398436974918071336089580020123110991614556127897128629528458209067952194326976896997752127042336429246818734853834742889330980560103357922288676566480206614652444443461774011721264398205623102431248408168327688547753045794176361665903058552581366119249019699162802496454086053321275062840623398173054019398759351215711987306636178410283089779146732418239902330676994111916249584184821290161741884890744574259103285106768945456293864755738899456354943259853902533118320431113938205766012422223175295440659963277854864852984742083179611314290857560405710728212958906402305931907418946110255773607562277250486349227222087557966804673075308805002278223894683614028706639026079344344434686294556396103123818136981228794370785368388506599135026980613330934094961793563094627199853201613193153865108452721786814140586572232010017459153962501788701203805098164119780148853692024087086122573636233064502251961233974992366640735451891044862799462188815582042386580030801106890097238687055452552110829965059161245343415161008354431626917063844116549102496993880762448490819042269804160074405392450174036209847483710949092804116773547479425117696723576173189547660596984813143044906939144736572025112530913402350316579592727107140204745792181312643267980166276213539787318686784516646409043739461341058341866130194515206728071388017201750465345177683567166246451096874716792230890148549731651715426719134701779009646503713855713690614979894889941888457297282875954463903599095148708206058572338514158627674241149795154024155999938386472330121596245377182900950030617269384713599791193454044355416529598060101173170994161856361550265787123369355532596323286384309305409145251652049876541298945371331714297379550668239431873282678293074955266864563208743768540095516367311985558520002873697087726788222240830142818294228089082545681401285437906803150262330031355435708411061568390519438584930325978406002583613274547851416495855586226252253360321674766981620421827339385206593739096885252787145406142672658262177573655048328267368597269217457845651924361951505134294767813855422501312640796469744649758696322680162740933123199953154087011991048812393111727123352964379020421420583756994849612766818894376697073240511064803717146258228885676833210858702603529846510370844972539194851074168242379857338076991793231848897846533495471513960873594311483932323174971369007675150619831918752629632940698780673005828943186361408536433545182513621733366469934325860335901609292835044356195560151952535903838669632931421195319086416029491768186604338108617856893658652762599159576463089057484057012421874561183369156744400271989993859435242606882312306519905393345015702439093202555708305829478488168303432296270227178110341320372986862855706153836192552748513974514717282608166467373122237687789655395096239211535388318181125900905930703765521017233830956585103471622343721470945239512383177898180368057660537081723959944939544511007394960086606314007369726809860353148028035639179259295514035556750901346225565651200500040388964695765286839375894326641359638758981952190977233092636192929286884271506009538217214933792744247421149897522229185157042978227719340975109319968827282928000446381475380613389725119957350959904451122273439971539673040298002820751768235827912095052102735663217352194962362184727464644960226149981751908352203306342021592050720598795035239228195869165158542449929474548106605050117625206972350963702019752601985260677384221896524605299854929995338755313295340940138314907468467139499677720572636120372107374342868057717426582051294080969959563531911282739990097960539607984437523116507734719777809570433883645270239644294309466315623904013251732165782921533830102558013937152598856329347755255719232808344589151922043864806081186297548489573356845798244178775602686253784216073315926315117006546664792964827288742401180295584471128695425297779253841606405927427313508860836696395679355243026261886885752006481760497725961130073922590764478449738830065772275665777414636443696093953753681025203011970464541713411933975735103788738392769375565506845210536678318283945400401975534721292450383336003817385678921281713802749790225543274326172443844383519165927950001713682536758546723469033733698464059513247716076530428565235979898018682260049948150428797107476676459294460386409882046653439741904221084760506651625666078950470073700364878268487810943704123780820867203211027983637336090586543818602974928781155484266146415144583159391700957591524192858746462325799289808212663991897979203096513770030043332559965757095804880516280318291317892283539611806096480760588324398833851927871266308437436655196451140800936247852263042630333253021422636233953558646545567952000386740056413841503316500443196882791862089512040487190834318318720805613880482722099504496769830259462446643387340087559348080783121714848722685337702205260808038256129653712130928142868326732024547341918409543265770751846027970701058154304742603541295214529990635988000113171975043316669542398374118000586212749941657916328896392364001183403234069404287388451847652826410122033605624323121635568975986369749647596502871188585784355101687504624636539324552490154032140569865547304245954636331164655521637183906414415309758712816906121425865963519572977922422193998635333872816316775329382888285388337632233238036645089499874738060057408898360753928123721929221887935357828140069065634778202887507881813240782624394992260288324899145727374030782190991736334686587324734925180822573968054570812461164995383965527453691487340952630177567364936503105040012083733323507697152712523147323433715982381154982902092524326981085372148717838722362846968085831693638384498765389697888945985515666277324765372113023407091352370001332816569293276900781471078643097906578447793178960543143205024459597894087211433825957259050676114083777577666949879034498423616833565457642039910618453618935750101710017725620355769563378953758665795785319349166712506777600201116719824482067962138213637479996078388947476976854371179482021389349861181740828990847397711566219575730166769531616390028616437744333987950465924649624221361582556979790545498220365919158604912020715635631040315538986628041330966376721410914045182032024057167118820434464793928749803819352938145054343275764367252195300947748256245931417922605137017689402364247601489831981249881815659363767625500657693805874763140615448155779212535276526235730433689192685254054526262411911016156357795666960065908532277002703275187121877171252803456126830235101667545124754877133773716679551420426703467351042791173384629237801027761041683371686184253726562037513732843533633565163220145118782869823125951421106201364541930300041723532889519178318955856530899618414036372766242613462981832366718516227612929064474842642670720228351684614265920516762231207830828736495674753147731828095679250957455183208640720034073280476977250429065166775862662137940822216639672500136596904942830895605490951255968987922101774658817948774345231590358526032183309667099112583393485448487247848989986555106163389286689996700225455725201192468963399245341930568628287266154554977591171677234870273109994284553066290629230944606505961324859550418277938672668519564635104078617839799413872033532827843195645709007893008947027923548105184401821727997576067980745684603001508138923452502105044934874146471722564995367164821236866037139904194334377622398866638519217567726283183853832672567439807319989466480664493203325667248130169442386260260938595262185473829829655664167239056097352374183107195265095683795670742646740683849734475169685935789219642416124979114398039590666990374976005078576331036100207225998255550662603112543323693395536358218289831122170914531594780311067952757440640496806878780414499789323112454004235627907950496053532320798797946603624816863361484297838295038330096430888224575734937428832687311310335645328966004829358961398637161232521561088632564699206653873837378293823902017672262403793232643723649636576550174442401991112661121854039511616612290979354350942496682148176886761519933539302375974268295207970549690201597108189357323757477303432824688714733897849865805712867879245604618677327572104101392804594601734946451198976706954026926325977085411919015691045995552207351293138187161405499084909554845419434931917344430522376469392263403392646510051744603644570754463847534733966705557908398431759668907930084657438598561912663124717703955390006624505825330361779064559334274155743297547382435851687558291288934724053570713445458222971933730758205897144472889089781340754148110731186122936859973310507122731462503393873897738479354688284953678332216656064611036606566593132311955013694851138439291211561574498547816003618955409622344616927979949484656636148330699173829550144656063429037359575915469558527253860731802499652816768425443425889739073884352974610591022393415807247569583300801154557691634376230748190087515083604267146590376806793177153184509444555078218804371479017254048737590623414381181091777995894452851110954312451007661884236739962192456077969511122779364407990415119514440661546965008576217977093190909583132987787434522165255034445404702763169714368762469620043258522003356436848692882916179287819142433475654756287226124351664343691962489756968151414727888765534977698006480871154761766945959111922927429454384882497333914219571616022292224906364296597972099547195800025036746754894650280064556031370644217419634227831878046942804047499799250678440344926170781018652689185600559289478435620230506562090798332784054409933754325466268996342381853087817159138132409688240004900823384875229448700461035381883418217015178779468503346298941683080899357908203402596981571019152124322599142297993961017488797887830281192191238727922353623295034097047026384576950518160676657044486620981891268715888390683926816266566045504069411325517726301593005468118625314041176546254147484954209655218329262550835896721811635441831388710685040170614684768874135589248534951236185901475459798978133816784134989257021373591925918938505117120958353354468195902418584460471378852709468342796348047587156573415690896444525395795251837597314216029681638412088153036099966996188639795041806972170297532612770372422177442399757860752244275767990624899121340496474889285918528422833247118694861120447658840271122911279114792252504327153033684366578150172821878605530320299879588079217379263325468352926442085153146379821322093120797035112094626071007302778912072566743084284949202405450391750643121078577065441187219944044713259661653295743027549410956701543326099389775148130009541828402651298935227760199983004106141718321080195789503790459326081276788138994738324227512564849341286531071052868689648644035294619832639219517599262158567853308180854622517432057724041779265437756658172231185312218755767693801703046218276691467762250144758754615144514318255923066943062603732646568363555326160331715437535324349374224250967669972209569182920399221779749244067926548005910615674789500542998017635444037775787063172034013555643683051468017023738859881563516237835944674355662760135149674301440420415171928872374647867382781971827035983886036616187357262700493342349286117240506228275121275481554264228471521735497145802473814776450360970418983518376319628772221549149786891339743058279126510663209664415284380540087275689926332447230094477529152928444134842867829072123694329242420883604363950605506758772124314102728605283875613848102406526257247712999775694643500056233401552208865282718695548243000376564479084893901000536841057522363280370838897496675493411119896288413437648165762755516249385819799876190593410596588772953750592135480282406384799725149946020648503742074502433099373164782711911703171878502492156281762509092095744129027049665089185824440951849086836244861302746209634753793226318816715261107812607328110620115344977658157304987786773827545017316589662732722171023102044468910200415948303526753908200009932370035916020269727358967287596800092431351089975959771739670737705545635339787762830709652643567870591839666401171540256204228281060067944109179653941685365005272724324536997345115516175842141599701909755483073424634942570911097725362896370051831044608670285904915489785451861640485967121832187912603224446865674572002909630090732796419381087368300577008488549876326424201225775611351792112069706098584806375300143303206297900856011317453460216898549935534481242900706196770703583346771718929609650046081906453813744649270388930650195618060462577300950622064469234834931163196871839460688231399405614992896889553688544426015978917594885221304833320378882656155887963824087690654293193046677769081072048908640193133809524389871737237253005521747524415947922113766652805888438396054147567486987337167355166104543042899131993430820991650159647656208456324363081781712602217016347775564111441803592193088471289255795393642877824453654048165950323223788178060285905582700086738684883750337714980917164444693060308390225962379946272713289768929936724536553233482465794212734027070565388511936215762656298864684435370823571848084247138397525778310128785553445708026765901738206081873519050998499630965910793432366813853970202821394949406134489952453908830903545787795663963353463066176422602202105775621923781957494629716436815349210857072706316427328453577498513994637159418953720826767147133205092570099335672952611163628000805824409754601708517576411444079395720215248444116421555957828748745424226011844865906715664110802868290518210612860404454750511438922544439143868194881337928254493717003965533900634644833101037271446752357724260351165699515773967642913572637535873501670470613312527450847505213359793783861950188821929180325547521785176580032177426333023524832481849348447808439788218713542427529133485690077625718966956228062966168347006680212942597861705301218647978947398135250300005080179027045518797793505294699210802788329649160385012184940049568696199707027524548531041667993720684674742262714439058761479088895841824160373748908700112817860631624151944290572786670975635303518603594047587697599520048169851304461861034981185133385903366316421187501308774815870676228749311300865732973446153743975659991079304994892588234011350360387511421993302025047776808575499810068887160787732953050111241465547976334636931551115834357110038285979669707537501"
      ]
     },
     "execution_count": 64,
     "metadata": {},
     "output_type": "execute_result"
    }
   ],
   "source": [
    "fibonacciList(100000)"
   ]
  },
  {
   "cell_type": "markdown",
   "metadata": {},
   "source": [
    "**주의:** 백만일번째 피보나찌 수는 현재 사용하는 컴퓨터 능력을 초과해서 실행되지 않는다."
   ]
  },
  {
   "cell_type": "markdown",
   "metadata": {},
   "source": [
    "### 동적계획과 사전"
   ]
  },
  {
   "cell_type": "markdown",
   "metadata": {},
   "source": [
    "앞서 리스트에서는 n번째 피보나찌 수가 (n-1)번 인덱스의 값이었다.\n",
    "사전을 이용하면 n을 키로, n 번째 피보나찌 수를 값으로 하는 항목들로 정의할 수 있다.\n",
    "\n",
    "실행 시간과 능력은 기본적으로 `fibonacciList`와 동일하다."
   ]
  },
  {
   "cell_type": "code",
   "execution_count": 65,
   "metadata": {},
   "outputs": [],
   "source": [
    "def fibonacciDict(n):\n",
    "    known_nums = {0:1, 1:1}\n",
    "    for k in range(2, n+1):\n",
    "        res = known_nums[k-1] + known_nums[k-2]\n",
    "        known_nums[k] = res\n",
    "    return known_nums[n]"
   ]
  },
  {
   "cell_type": "code",
   "execution_count": 66,
   "metadata": {},
   "outputs": [
    {
     "data": {
      "text/plain": [
       "102334155"
      ]
     },
     "execution_count": 66,
     "metadata": {},
     "output_type": "execute_result"
    }
   ],
   "source": [
    "fibonacciDict(39)"
   ]
  },
  {
   "cell_type": "code",
   "execution_count": 67,
   "metadata": {},
   "outputs": [
    {
     "data": {
      "text/plain": [
       "70330367711422815821835254877183549770181269836358732742604905087154537118196933579742249494562611733487750449241765991088186363265450223647106012053374121273867339111198139373125598767690091902245245323403501"
      ]
     },
     "execution_count": 67,
     "metadata": {},
     "output_type": "execute_result"
    }
   ],
   "source": [
    "fibonacciDict(1000)"
   ]
  },
  {
   "cell_type": "code",
   "execution_count": 68,
   "metadata": {},
   "outputs": [
    {
     "data": {
      "text/plain": [
       "54438373113565281338734260993750380135389184554695967026247715841208582865622349017083051547938960541173822675978026317384359584751116241439174702642959169925586334117906063048089793531476108466259072759367899150677960088306597966641965824937721800381441158841042480997984696487375337180028163763317781927941101369262750979509800713596718023814710669912644214775254478587674568963808002962265133111359929762726679441400101575800043510777465935805362502461707918059226414679005690752321895868142367849593880756423483754386342639635970733756260098962462668746112041739819404875062443709868654315626847186195620146126642232711815040367018825205314845875817193533529827837800351902529239517836689467661917953884712441028463935449484614450778762529520961887597272889220768537396475869543159172434537193611263743926337313005896167248051737986306368115003088396749587102619524631352447499505204198305187168321623283859794627245919771454628218399695789223798912199431775469705216131081096559950638297261253848242007897109054754028438149611930465061866170122983288964352733750792786069444761853525144421077928045979904561298129423809156055033032338919609162236698759922782923191896688017718575555520994653320128446502371153715141749290913104897203455577507196645425232862022019506091483585223882711016708433051169942115775151255510251655931888164048344129557038825477521111577395780115868397072602565614824956460538700280331311861485399805397031555727529693399586079850381581446276433858828529535803424850845426446471681531001533180479567436396815653326152509571127480411928196022148849148284389124178520174507305538928717857923509417743383331506898239354421988805429332440371194867215543576548565499134519271098919802665184564927827827212957649240235507595558205647569365394873317659000206373126570643509709482649710038733517477713403319028105575667931789470024118803094604034362953471997461392274791549730356412633074230824051999996101549784667340458326852960388301120765629245998136251652347093963049734046445106365304163630823669242257761468288461791843224793434406079917883360676846711185597501"
      ]
     },
     "execution_count": 68,
     "metadata": {},
     "output_type": "execute_result"
    }
   ],
   "source": [
    "fibonacciDict(10000)"
   ]
  },
  {
   "cell_type": "code",
   "execution_count": 69,
   "metadata": {},
   "outputs": [
    {
     "data": {
      "text/plain": [
       "4202692702995154386319005101293915131773915702632234503304716087198335731457276226633938477267013660962533661702858329186641162298822215333733574147268614522205177960360216576292096795530656502537998314495026330500620719088898984643619599926476236108318505023749864703859491024686621241730682736115723551647724257547502352412468746074851053353923438703547870019701586274514903943581778012410826464461823272924826749362282954004235923662667858166740323769532233540810434266661679738865959304652017245761094495566071167054301690895714604884013679491394566493844646298912078940644595782507997928878739392985610180101343882600283820398139200927163512122969924839839463533622369599880593624548314955919982731440664606860389674767846630714238798520061220948360195842828694894114956887994407533188621624706043127847588617179645038305434988777154546903665027721615391983839969917881343981419443688092501114818197984022611661046073180322923553766037586498499974540204693791793047963222486139060147413637230339253443256608485701564784891053397926289664177821919706286664135844377802876352562122389353466102826235289263234488363199404159286560829728598821205147493568392160744064818153706709889719108606083648795534004972817295465584196082602156304071901493325048737897039612705399999458459884586324576356850465902800682163360223018811383011208727253121314804106183630746333917234788155584199422004369734794567464293731590299016321476910276047953145737133530620933370013274962876666024092378144462247911861242773628847211726253860103658427961076487163331347200528488644744897867222184279861410512996912357518380420226522996351489992015929613369585992284921472840596751824858206083370375175870696347451742484480895089618955310799475473330332388074551229896105111703918074819309463129676526583523254006198015481044159254418528609134434118408385912583154979720111735082542883519942050207089706291319323705936118699708767405215366496845718246640603638302177053284851442532497454630999497577583104521012195115814606785903295807850171689359081326188293931649613908497264994236206250488864434829436295195232851838550923528889484987751381022320088255160033641645914092823188828485453780754751793048907600025512141470637066402501872547952277141425050621431726133512376491993264368219026824677798278050012296677681338164667973991346578705512745343946944045970777191879954073954276059158130792852127416568328282956215993174690589582184622213311123743528370969527697376659264209701430460262628089511749784920754475292453555824485037081169662961361437456685569229108353804447871639780202320840236093709222541404770096912820491605767773669730366536498834923648247283567638754132943595918097552972633716970745724835609042802322527268722270064679384555006784008088065427716480324882491803961614497071569285030997191355977454006784666563982465863641444396717248234018026243961781706483360371717605953991771045496130564628772749130877955433893243191369395281413812395013590807898227658488263250802618524850762756185439484575939335126157545942937679620715509540065149312865564443708655439771673542181054558453697618966155551804171330106742714737433118616111666800134742357715495644208822055262531207630247540274901297665161330833084658587180009012735858860387323290477368590430709381480698925172403629520614399575937151757870535045340264867187154085515769299670425865012093497499458084071483820091588806573538923913704024350619657151098348052986098255110975492885336115545257393042442696791158576341900753200960006019671663122779964553274124613827002842207651443127215907411334080034890407625849192846588580412869163865154796429776325124265243357090373279994090608028914324200216278403137569688793319327179281513651857484816495100553151506872893457040698364864908926339042055054701374510871324934497999408637497701279716028106056465342577613367511844757858239618765128089472486851278975083193508109837771994103670102484129663885788768053596123033251579123980971589651437698106274532939294318318049638382537268302829198532880152940714337232086321104061644358354382664864917218438210293517424553745505758090753355882025205602453784317543553853199425081002171431279765462841928691038739447760277789370517385306279744047722489086714748028855582994177874607142469064610509456252022128258329950255642602299905929046841595791167921512858860328296849951271553446508878296327611803906735633266224123093687573746634252135170679694981289617944100773168818654945023743438512318640838968116604957523873700674044602618648483425343480172570393405927238389192205890319989061851984210383082164165286102068738694744762282270671562080897567280776109321283700776536592362521370175610492010490647926435022313362357037672820456385127428485063107497131400081807697966418670920862707517582909049383024204603334049254656583584442952963370887765452655876066062446937832610287823426705006187125841909320161763987566513486927154010085083647269535513915816758710288791204561224527095476616464634423436358506846144301437379657717790829502874496253094716740270948624055817414650104670627976517803754955899088266937466501789934094158017587793129776426891242809581667986926232813625576760050205090619888399123409239688442164270550778132287725184933490420599495679264605659110257760825014193077871965880962249652458201556815237466699463967549092715904279567434739404713888403457003339771465555694947195071035775250811866532575065892797554153301608090613307672021657715401873436452152566925919864525536834568235530705981621300855049045749462125005586100312191552245274122445172305460076489568744037811637120488942481442457383881221646993921230130822937656219514811987478059283006119165854697271444230766548407257874820601218362249866393721509747526537539677353958519844769577322142446097980810172948625060754655647850574348574673760923656634582655495694500804946625600683003303969791972728978548772898691700233344838111143624421997248348373393817914540838366741137930672543630607318584213889310473297461294643309134066151220872533746202317748637999040114037035041286112690264736393397273817924315745503107186029046465168489664991484955836275210278398095989067353453771747035442365355445747127447923214040603969451728451202645051877393660878207404279794929371571338262325793789167979461085931415095683486296162401875755894130120407378671712437729188487520121912910810326749154096040648754248927534521962074102425291913766944369032132103550933382245399558387757904745511758965088027854937299536471846566637636919001351398679746388509468405284549140756479486056457920649429617829741961946109703629304530913466716238442148820189449581503029766353579703388699920365905324047373120549655643341862622777074389646423179579674577956341322830784916026813548454623362949055914885337880398436974918071336089580020123110991614556127897128629528458209067952194326976896997752127042336429246818734853834742889330980560103357922288676566480206614652444443461774011721264398205623102431248408168327688547753045794176361665903058552581366119249019699162802496454086053321275062840623398173054019398759351215711987306636178410283089779146732418239902330676994111916249584184821290161741884890744574259103285106768945456293864755738899456354943259853902533118320431113938205766012422223175295440659963277854864852984742083179611314290857560405710728212958906402305931907418946110255773607562277250486349227222087557966804673075308805002278223894683614028706639026079344344434686294556396103123818136981228794370785368388506599135026980613330934094961793563094627199853201613193153865108452721786814140586572232010017459153962501788701203805098164119780148853692024087086122573636233064502251961233974992366640735451891044862799462188815582042386580030801106890097238687055452552110829965059161245343415161008354431626917063844116549102496993880762448490819042269804160074405392450174036209847483710949092804116773547479425117696723576173189547660596984813143044906939144736572025112530913402350316579592727107140204745792181312643267980166276213539787318686784516646409043739461341058341866130194515206728071388017201750465345177683567166246451096874716792230890148549731651715426719134701779009646503713855713690614979894889941888457297282875954463903599095148708206058572338514158627674241149795154024155999938386472330121596245377182900950030617269384713599791193454044355416529598060101173170994161856361550265787123369355532596323286384309305409145251652049876541298945371331714297379550668239431873282678293074955266864563208743768540095516367311985558520002873697087726788222240830142818294228089082545681401285437906803150262330031355435708411061568390519438584930325978406002583613274547851416495855586226252253360321674766981620421827339385206593739096885252787145406142672658262177573655048328267368597269217457845651924361951505134294767813855422501312640796469744649758696322680162740933123199953154087011991048812393111727123352964379020421420583756994849612766818894376697073240511064803717146258228885676833210858702603529846510370844972539194851074168242379857338076991793231848897846533495471513960873594311483932323174971369007675150619831918752629632940698780673005828943186361408536433545182513621733366469934325860335901609292835044356195560151952535903838669632931421195319086416029491768186604338108617856893658652762599159576463089057484057012421874561183369156744400271989993859435242606882312306519905393345015702439093202555708305829478488168303432296270227178110341320372986862855706153836192552748513974514717282608166467373122237687789655395096239211535388318181125900905930703765521017233830956585103471622343721470945239512383177898180368057660537081723959944939544511007394960086606314007369726809860353148028035639179259295514035556750901346225565651200500040388964695765286839375894326641359638758981952190977233092636192929286884271506009538217214933792744247421149897522229185157042978227719340975109319968827282928000446381475380613389725119957350959904451122273439971539673040298002820751768235827912095052102735663217352194962362184727464644960226149981751908352203306342021592050720598795035239228195869165158542449929474548106605050117625206972350963702019752601985260677384221896524605299854929995338755313295340940138314907468467139499677720572636120372107374342868057717426582051294080969959563531911282739990097960539607984437523116507734719777809570433883645270239644294309466315623904013251732165782921533830102558013937152598856329347755255719232808344589151922043864806081186297548489573356845798244178775602686253784216073315926315117006546664792964827288742401180295584471128695425297779253841606405927427313508860836696395679355243026261886885752006481760497725961130073922590764478449738830065772275665777414636443696093953753681025203011970464541713411933975735103788738392769375565506845210536678318283945400401975534721292450383336003817385678921281713802749790225543274326172443844383519165927950001713682536758546723469033733698464059513247716076530428565235979898018682260049948150428797107476676459294460386409882046653439741904221084760506651625666078950470073700364878268487810943704123780820867203211027983637336090586543818602974928781155484266146415144583159391700957591524192858746462325799289808212663991897979203096513770030043332559965757095804880516280318291317892283539611806096480760588324398833851927871266308437436655196451140800936247852263042630333253021422636233953558646545567952000386740056413841503316500443196882791862089512040487190834318318720805613880482722099504496769830259462446643387340087559348080783121714848722685337702205260808038256129653712130928142868326732024547341918409543265770751846027970701058154304742603541295214529990635988000113171975043316669542398374118000586212749941657916328896392364001183403234069404287388451847652826410122033605624323121635568975986369749647596502871188585784355101687504624636539324552490154032140569865547304245954636331164655521637183906414415309758712816906121425865963519572977922422193998635333872816316775329382888285388337632233238036645089499874738060057408898360753928123721929221887935357828140069065634778202887507881813240782624394992260288324899145727374030782190991736334686587324734925180822573968054570812461164995383965527453691487340952630177567364936503105040012083733323507697152712523147323433715982381154982902092524326981085372148717838722362846968085831693638384498765389697888945985515666277324765372113023407091352370001332816569293276900781471078643097906578447793178960543143205024459597894087211433825957259050676114083777577666949879034498423616833565457642039910618453618935750101710017725620355769563378953758665795785319349166712506777600201116719824482067962138213637479996078388947476976854371179482021389349861181740828990847397711566219575730166769531616390028616437744333987950465924649624221361582556979790545498220365919158604912020715635631040315538986628041330966376721410914045182032024057167118820434464793928749803819352938145054343275764367252195300947748256245931417922605137017689402364247601489831981249881815659363767625500657693805874763140615448155779212535276526235730433689192685254054526262411911016156357795666960065908532277002703275187121877171252803456126830235101667545124754877133773716679551420426703467351042791173384629237801027761041683371686184253726562037513732843533633565163220145118782869823125951421106201364541930300041723532889519178318955856530899618414036372766242613462981832366718516227612929064474842642670720228351684614265920516762231207830828736495674753147731828095679250957455183208640720034073280476977250429065166775862662137940822216639672500136596904942830895605490951255968987922101774658817948774345231590358526032183309667099112583393485448487247848989986555106163389286689996700225455725201192468963399245341930568628287266154554977591171677234870273109994284553066290629230944606505961324859550418277938672668519564635104078617839799413872033532827843195645709007893008947027923548105184401821727997576067980745684603001508138923452502105044934874146471722564995367164821236866037139904194334377622398866638519217567726283183853832672567439807319989466480664493203325667248130169442386260260938595262185473829829655664167239056097352374183107195265095683795670742646740683849734475169685935789219642416124979114398039590666990374976005078576331036100207225998255550662603112543323693395536358218289831122170914531594780311067952757440640496806878780414499789323112454004235627907950496053532320798797946603624816863361484297838295038330096430888224575734937428832687311310335645328966004829358961398637161232521561088632564699206653873837378293823902017672262403793232643723649636576550174442401991112661121854039511616612290979354350942496682148176886761519933539302375974268295207970549690201597108189357323757477303432824688714733897849865805712867879245604618677327572104101392804594601734946451198976706954026926325977085411919015691045995552207351293138187161405499084909554845419434931917344430522376469392263403392646510051744603644570754463847534733966705557908398431759668907930084657438598561912663124717703955390006624505825330361779064559334274155743297547382435851687558291288934724053570713445458222971933730758205897144472889089781340754148110731186122936859973310507122731462503393873897738479354688284953678332216656064611036606566593132311955013694851138439291211561574498547816003618955409622344616927979949484656636148330699173829550144656063429037359575915469558527253860731802499652816768425443425889739073884352974610591022393415807247569583300801154557691634376230748190087515083604267146590376806793177153184509444555078218804371479017254048737590623414381181091777995894452851110954312451007661884236739962192456077969511122779364407990415119514440661546965008576217977093190909583132987787434522165255034445404702763169714368762469620043258522003356436848692882916179287819142433475654756287226124351664343691962489756968151414727888765534977698006480871154761766945959111922927429454384882497333914219571616022292224906364296597972099547195800025036746754894650280064556031370644217419634227831878046942804047499799250678440344926170781018652689185600559289478435620230506562090798332784054409933754325466268996342381853087817159138132409688240004900823384875229448700461035381883418217015178779468503346298941683080899357908203402596981571019152124322599142297993961017488797887830281192191238727922353623295034097047026384576950518160676657044486620981891268715888390683926816266566045504069411325517726301593005468118625314041176546254147484954209655218329262550835896721811635441831388710685040170614684768874135589248534951236185901475459798978133816784134989257021373591925918938505117120958353354468195902418584460471378852709468342796348047587156573415690896444525395795251837597314216029681638412088153036099966996188639795041806972170297532612770372422177442399757860752244275767990624899121340496474889285918528422833247118694861120447658840271122911279114792252504327153033684366578150172821878605530320299879588079217379263325468352926442085153146379821322093120797035112094626071007302778912072566743084284949202405450391750643121078577065441187219944044713259661653295743027549410956701543326099389775148130009541828402651298935227760199983004106141718321080195789503790459326081276788138994738324227512564849341286531071052868689648644035294619832639219517599262158567853308180854622517432057724041779265437756658172231185312218755767693801703046218276691467762250144758754615144514318255923066943062603732646568363555326160331715437535324349374224250967669972209569182920399221779749244067926548005910615674789500542998017635444037775787063172034013555643683051468017023738859881563516237835944674355662760135149674301440420415171928872374647867382781971827035983886036616187357262700493342349286117240506228275121275481554264228471521735497145802473814776450360970418983518376319628772221549149786891339743058279126510663209664415284380540087275689926332447230094477529152928444134842867829072123694329242420883604363950605506758772124314102728605283875613848102406526257247712999775694643500056233401552208865282718695548243000376564479084893901000536841057522363280370838897496675493411119896288413437648165762755516249385819799876190593410596588772953750592135480282406384799725149946020648503742074502433099373164782711911703171878502492156281762509092095744129027049665089185824440951849086836244861302746209634753793226318816715261107812607328110620115344977658157304987786773827545017316589662732722171023102044468910200415948303526753908200009932370035916020269727358967287596800092431351089975959771739670737705545635339787762830709652643567870591839666401171540256204228281060067944109179653941685365005272724324536997345115516175842141599701909755483073424634942570911097725362896370051831044608670285904915489785451861640485967121832187912603224446865674572002909630090732796419381087368300577008488549876326424201225775611351792112069706098584806375300143303206297900856011317453460216898549935534481242900706196770703583346771718929609650046081906453813744649270388930650195618060462577300950622064469234834931163196871839460688231399405614992896889553688544426015978917594885221304833320378882656155887963824087690654293193046677769081072048908640193133809524389871737237253005521747524415947922113766652805888438396054147567486987337167355166104543042899131993430820991650159647656208456324363081781712602217016347775564111441803592193088471289255795393642877824453654048165950323223788178060285905582700086738684883750337714980917164444693060308390225962379946272713289768929936724536553233482465794212734027070565388511936215762656298864684435370823571848084247138397525778310128785553445708026765901738206081873519050998499630965910793432366813853970202821394949406134489952453908830903545787795663963353463066176422602202105775621923781957494629716436815349210857072706316427328453577498513994637159418953720826767147133205092570099335672952611163628000805824409754601708517576411444079395720215248444116421555957828748745424226011844865906715664110802868290518210612860404454750511438922544439143868194881337928254493717003965533900634644833101037271446752357724260351165699515773967642913572637535873501670470613312527450847505213359793783861950188821929180325547521785176580032177426333023524832481849348447808439788218713542427529133485690077625718966956228062966168347006680212942597861705301218647978947398135250300005080179027045518797793505294699210802788329649160385012184940049568696199707027524548531041667993720684674742262714439058761479088895841824160373748908700112817860631624151944290572786670975635303518603594047587697599520048169851304461861034981185133385903366316421187501308774815870676228749311300865732973446153743975659991079304994892588234011350360387511421993302025047776808575499810068887160787732953050111241465547976334636931551115834357110038285979669707537501"
      ]
     },
     "execution_count": 69,
     "metadata": {},
     "output_type": "execute_result"
    }
   ],
   "source": [
    "fibonacciDict(100000)"
   ]
  },
  {
   "cell_type": "markdown",
   "metadata": {},
   "source": [
    "**주의:** 백만일번째 피보나찌 수는 역시 컴퓨터 능력의 한계에 의해 계산하지 못한다."
   ]
  },
  {
   "cell_type": "markdown",
   "metadata": {},
   "source": [
    "### 처리속도: `in` 연산자"
   ]
  },
  {
   "cell_type": "markdown",
   "metadata": {},
   "source": [
    "리스트에서 사용되는 `in` 연산자와 사전에서 사용되는 `in` 연산자는 내부적으로 서로 다르게 작동한다.\n",
    "여기서는 처리속도 관련해서만 설명한다. \n",
    "\n",
    "* 리스트의 `in` 연산자 검색 속도: 평균적으로 사용되는 리스트의 길이에 비례\n",
    "* 사전의 `in` 연산자 검색 속도: 평균적으로 사전의 길이에 상관없음. 다만 최악의 경우 길이에 비례.\n",
    "\n",
    "자세한 내용은 \n",
    "[시간 복잡도](https://wiki.python.org/moin/TimeComplexity)를\n",
    "참조할 수 있다."
   ]
  },
  {
   "cell_type": "markdown",
   "metadata": {},
   "source": [
    "# 연습문제"
   ]
  },
  {
   "cell_type": "markdown",
   "metadata": {},
   "source": [
    "1. [기본 자료형: 파일](https://github.com/liganega/ProgInPython/blob/master/notebooks/PiPy04B-Files.ipynb)에서 \n",
    "    다룬 [words.txt](http://thinkpython2.com/code/words.txt) 파일을 다시 이용한다.\n",
    "    words.txt 파일의 내용을 리스트 자료형으로 저장하라.\n",
    "    단, 리스트의 항목은 각 줄에 있는 단어이다.\n",
    "    <br><br>\n",
    "    힌트: `for` 반복문 활용. 리스트에 단어를 추가할 때 `append`와 `strip` 메서드 활용.\n",
    "    정답은 [wordlist.py](http://greenteapress.com/thinkpython2/code/wordlist.py) 참고.\n",
    "    <br><br>\n",
    "1. 위 문제에서 생성된 리스트에 특정 단어가 포함되어 있는지 여부를 확인하는 함수를\n",
    "    리스트 자료형의 `in` 연산자 활용하여 구현하라.\n",
    "    <br><br>\n",
    "1. 위 문제에서 구현된 함수를 이진탐색(binary search)을 이용하는 방식으로 수정하여 새로 구현하라.\n",
    "    두 함수의 실행속도의 차이를 비교하라.    \n",
    "    이진탐색의 개념과 파이썬 구현은 [이진탐색하기](https://programmers.co.kr/learn/courses/4008/lessons/13173)를\n",
    "    참조할 수 있다.\n",
    "    <br><br>\n",
    "    힌트: 정답은 [inlist.py](http://greenteapress.com/thinkpython2/code/inlist.py) 참고.\n",
    "    <br><br>    \n",
    "1. words.txt 파일의 내용을 사전 자료형으로 저장한 후에,\n",
    "    생성된 사전에 특정 단어가 키로 사용되었는지 여부를 확인하는 함수를\n",
    "    사전 자료형의 `in` 연산자 활용하여 구현하라.\n",
    "    <br><br>\n",
    "    힌트: `words.txt` 파일에서 단어를 읽어 들인 후 각각의 단어를 키로 사용한다. \n",
    "    모든 키의 값은 `True`로 정한다.\n",
    "    <br><br>\n",
    "    앞서 리스트를 활용한 구현 방식과 비교하여 사전 자료형을 이용한 `in` 연산자의 실행속도가 \n",
    "    얼마나 빠른지 확인하라.\n",
    "    <br><br>    \n",
    "1. 양의 정수 n의 팩토리얼 값은 1부터 n까지의 곱셈이다. \n",
    "\n",
    "    > `n! = n*(n-1)*(n-2)*...*2*1`\n",
    "    \n",
    "    1. `n!`을 계산하는 함수 `factorial`을 아래와 같이 재귀로 구현할 수 있다. \n",
    "\n",
    "        ```python\n",
    "        def factorial(n):\n",
    "            if n == 1:\n",
    "                return 1\n",
    "            else:\n",
    "                res = n * factorial(n-1)\n",
    "                return res\n",
    "        ```\n",
    "    \n",
    "    계산가능한 팩토리얼의 한계를 확인하라.\n",
    "    <br><br>\n",
    "    1. 팩토리얼 함수 `factorialDynamic`를 동적계획을 이용하여 구현한 후에, \n",
    "        계산가능한 팩토리얼의 한계가 달라지는지 확인하라."
   ]
  }
 ],
 "metadata": {
  "kernelspec": {
   "display_name": "Python 3",
   "language": "python",
   "name": "python3"
  },
  "language_info": {
   "codemirror_mode": {
    "name": "ipython",
    "version": 3
   },
   "file_extension": ".py",
   "mimetype": "text/x-python",
   "name": "python",
   "nbconvert_exporter": "python",
   "pygments_lexer": "ipython3",
   "version": "3.6.8"
  }
 },
 "nbformat": 4,
 "nbformat_minor": 1
}
