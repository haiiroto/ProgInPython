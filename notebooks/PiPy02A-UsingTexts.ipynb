{
 "cells": [
  {
   "cell_type": "markdown",
   "metadata": {},
   "source": [
    "# 문서 다루기"
   ]
  },
  {
   "cell_type": "markdown",
   "metadata": {},
   "source": [
    "프로그램은 기본적으로 데이터를 처리하기 위해 사용한다.\n",
    "그런데 데이터는 기본적으로 문서에 담겨 있으며, \n",
    "이런 의미에서 **문서 데이터**가 가장 중요하다고 할 수 있다. \n",
    "\n",
    "따라서 문서 데이터를 잘 다루는 도구와 친숙해지는 것이 매우 중요하다.\n",
    "그리고 그만큼 문서 데이터를 다루는 다양한 도구가 존재한다.\n",
    "여기서는 간단한 문서 검색 도구를 활용하여 문서에서 원하는 정보를 확인하는 방법을 소개한다."
   ]
  },
  {
   "cell_type": "markdown",
   "metadata": {},
   "source": [
    "## 도구 1: 웹페이지의 소스코드 문서 가져오기"
   ]
  },
  {
   "cell_type": "markdown",
   "metadata": {},
   "source": [
    "### 웹페이지 HTML 소스코드"
   ]
  },
  {
   "cell_type": "markdown",
   "metadata": {},
   "source": [
    "먼저 웹페이지의 소스코드가 무엇인지부터 알아야 한다.\n",
    "예를 들어 아래 사이트를 웹브라우저를 이용하여 방문하면 아래 사진처럼 보인다.\n",
    "\n",
    "[Welcome to the Beans'R'Us Pricing Page](http://beans.itcarlow.ie/prices.html)"
   ]
  },
  {
   "cell_type": "markdown",
   "metadata": {},
   "source": [
    "<p>\n",
    "<table cellspacing=\"20\">\n",
    "<tr>\n",
    "<td>\n",
    "<img src=\"images/beans02.png\" style=\"width:80%\">\n",
    "<figcaption>Fig.1 - Trulli, Puglia, Italy.</figcaption></td>\n",
    "</tr>\n",
    "</table>\n",
    "</p>"
   ]
  },
  {
   "cell_type": "markdown",
   "metadata": {},
   "source": [
    "하지만 웹브라우저가 우리에게 보여주는 것은 \n",
    "**HTML**이라는 웹페이지 개발 전용 프로그래밍 언어로 작성된 \n",
    "해당 웹사이트의 소스코드를 예쁘게 포장해서 보여주는 것이다.\n",
    "웹사이트의 실제 소스코드는 아래 사진에서와 같이 전혀 다른 모습이다."
   ]
  },
  {
   "cell_type": "markdown",
   "metadata": {},
   "source": [
    "<p>\n",
    "<table cellspacing=\"20\">\n",
    "<tr>\n",
    "<td>\n",
    "<img src=\"images/beans01.png\" style=\"width:80%\">\n",
    "</td>\n",
    "</tr>\n",
    "</table>\n",
    "</p>"
   ]
  },
  {
   "cell_type": "markdown",
   "metadata": {},
   "source": [
    "위 코드 안에는 웹브라우저를 통해 전달되는 **내용 정보**뿐만 아니라,\n",
    "`<html>`, `<head>`, `<link>`, `<h2>`, `<p>` 등\n",
    "폰트, 글자 크기, 색깔, 주소 링크, 문단 구성 등과 관련된 **옵션**들를 \n",
    "지정하는 데에 사용되는 HTML 언어의 명령문도 함께 포함되어 있다.\n",
    "\n",
    "즉, 웹브라우저는 **내용 정보**와 **웹페이지 설정 옵션**을\n",
    "함께 다루어 적절한 방식으로 사용자가 원하는 내용을 문서로 전달한다. "
   ]
  },
  {
   "cell_type": "markdown",
   "metadata": {},
   "source": [
    "#### 웹사이트 소스코드 확인 방법 (윈도우 구글 크롬 부라우저 용)"
   ]
  },
  {
   "cell_type": "markdown",
   "metadata": {},
   "source": [
    "<p>\n",
    "<table cellspacing=\"20\">\n",
    "\n",
    "<tr>\n",
    "<td>\n",
    "<img src=\"images/coffee-beans05.jpg\" style=\"width:80%\">\n",
    "</td>\n",
    "</tr>\n",
    "</table>\n",
    "</p>"
   ]
  },
  {
   "cell_type": "markdown",
   "metadata": {},
   "source": [
    "<p>\n",
    "<table cellspacing=\"20\">\n",
    "<tr>\n",
    "<td>\n",
    "<img src=\"images/coffee-beans04.jpg\" style=\"width:80%\">\n",
    "</td>\n",
    "</tr>\n",
    "</table>\n",
    "</p>"
   ]
  },
  {
   "cell_type": "markdown",
   "metadata": {},
   "source": [
    "### 파이썬을 이용하여 웹페이지 소스코드 문서 내용 읽어오기"
   ]
  },
  {
   "cell_type": "markdown",
   "metadata": {},
   "source": [
    "앞서 언급한 소스코드 문서의 이름은 `prices.html`이며, \n",
    "이 문서는 아래 주소의 웹서버에 저장되어 있다.\n",
    "\n",
    "```\n",
    "http://beans.itcarlow.ie/prices.html\n",
    "```\n",
    "\n",
    "그리고 사용자가 특정 웹브라우저 주소창에\n",
    "위 주소를 입력하고 리턴키를 누르면 \n",
    "앞서 보았던 \n",
    "[Welcome to the Beans'R'Us Pricing Page](http://beans.itcarlow.ie/prices.html)와\n",
    "동일한 사이트로 이동한다.\n",
    "이유는 다음과 같다.\n",
    "\n",
    "* 웹 브라우저 주소창에 주소를 입력하고 리턴한다.\n",
    "* 웹 브라우저가 지정된 주소의 웹사이트를 관리하는 웹서버에 지정된 주소가 가리키는 HTML 문서를 요구한다.\n",
    "* 해당 웹 서버로부터 특정 HTML 문서를 받은 웹 브라우저가 해당 문서를 해석하여\n",
    "    사용자에게 적절한 방식으로 문서 내용을 화면에 보여준다.\n",
    "\n",
    "그리고 위 주소가 가리키는 문서의 파일명이 바로 \n",
    "`index.html`이다.\n",
    "\n",
    "해당 웹서버는 요청된 소스코드 문서를 웹브라우저에게 넘겨주고,\n",
    "웹브라우저는 소스코드에 포함된 정보 내용을 함께 소스코드에 함께 \n",
    "포함된 꾸미기 양식에 맞추어 예쁘게 포장하여 사용자에게 보여준다."
   ]
  },
  {
   "cell_type": "markdown",
   "metadata": {},
   "source": [
    "웹브라우저를 이용하지 않으면서 파이썬과 같은 프로그래밍언어를 이용하여 \n",
    "특정 웹페이지의 소스코드를 직접 가져올 수 있다.\n",
    "파이썬의 경우 예를 들어 `urllib.request` 라는 모듈을 활용하면 된다.\n",
    "\n",
    "먼저 언급된 모듈을 임포트 해야 한다."
   ]
  },
  {
   "cell_type": "code",
   "execution_count": 1,
   "metadata": {},
   "outputs": [],
   "source": [
    "import urllib.request"
   ]
  },
  {
   "cell_type": "markdown",
   "metadata": {},
   "source": [
    "#### 주의사항\n",
    "* 모듈과 모듈의 활용에 대해서는 이후 자세히 다룬다. \n",
    "* 여기서는 모듈을 활용해야 한다는 사실과 어떻게 활용하는지만 기억한다.\n",
    "* 모듈을 활용하는 가장 기본적인 방법은 해당 모듈을 임포트하는 것이다.\n",
    "* 여기서는 특정 모듈을 임포트해야 한다라는 점만 기억하고 넘어간다."
   ]
  },
  {
   "cell_type": "markdown",
   "metadata": {},
   "source": [
    "이제 앞서 언급된 웹사이트의 HTML 소스코드를 가져오기 위해 아래와 같이 \n",
    "`urllib.request` 모듈에 포함된 `urlopen`이란 함수를 활용하면 된다."
   ]
  },
  {
   "cell_type": "code",
   "execution_count": 2,
   "metadata": {},
   "outputs": [],
   "source": [
    "page = urllib.request.urlopen(\"http://beans-r-us.appspot.com/prices.html\")"
   ]
  },
  {
   "cell_type": "markdown",
   "metadata": {},
   "source": [
    "이제 `page` 변수에는 `urlopen` 함수가 읽어 와서 리턴하는 앞서 언급된 사이트의 HTML 소스코드가 할당된다.\n",
    "그런데 다음처럼 `page` 내용을 직접 확인하려면 무언가 이상한 정보만 보여진다."
   ]
  },
  {
   "cell_type": "code",
   "execution_count": 3,
   "metadata": {},
   "outputs": [
    {
     "name": "stdout",
     "output_type": "stream",
     "text": [
      "<http.client.HTTPResponse object at 0x10ebec358>\n"
     ]
    }
   ],
   "source": [
    "print(page)"
   ]
  },
  {
   "cell_type": "markdown",
   "metadata": {},
   "source": [
    "이유는 `urlopen` 함수가 가져와 리턴하는 값에는 소스코드 이외에 소스코드가 담겨있는 HTML 문서와 관련된 \n",
    "다른 정보도 함께 들어 있기 때문이다. 보다 자세한 사항은 지금 굳이 알 필요 없다.\n",
    "\n",
    "소스코드 문서에서 소스코드만 추출하려면 아래와 같이 하면 된다."
   ]
  },
  {
   "cell_type": "code",
   "execution_count": 4,
   "metadata": {},
   "outputs": [],
   "source": [
    "text = page.read().decode(\"utf8\")"
   ]
  },
  {
   "cell_type": "markdown",
   "metadata": {},
   "source": [
    "이제 `text` 변수에는 해당 웹사이트의 소스코드가 할당된다."
   ]
  },
  {
   "cell_type": "code",
   "execution_count": 5,
   "metadata": {},
   "outputs": [
    {
     "name": "stdout",
     "output_type": "stream",
     "text": [
      "<html><head><title>Welcome to the Beans'R'Us Pricing Page</title>\n",
      "<link rel=\"stylesheet\" type=\"text/css\" href=\"beansrus.css\" />\n",
      "</head><body>\n",
      "<h2>Welcome to the Beans'R'Us Pricing Page</h2>\n",
      "<p>Current price of coffee beans = <strong>$5.65</strong></p>\n",
      "<p>Price valid for 15 minutes from Wed Mar 28 15:30:13 2018.</p>\n",
      "</body></html>\n"
     ]
    }
   ],
   "source": [
    "print(text)"
   ]
  },
  {
   "cell_type": "markdown",
   "metadata": {},
   "source": [
    "`text` 변수에 할당된 값은 상당히 긴 문자열이다."
   ]
  },
  {
   "cell_type": "code",
   "execution_count": 6,
   "metadata": {},
   "outputs": [
    {
     "data": {
      "text/plain": [
       "str"
      ]
     },
     "execution_count": 6,
     "metadata": {},
     "output_type": "execute_result"
    }
   ],
   "source": [
    "type(text)"
   ]
  },
  {
   "cell_type": "markdown",
   "metadata": {},
   "source": [
    "앞서 사용한 `print` 함수는 문자열 자료형을 나타내는 인용부호도 보여주지 않고, 줄바꾸기 기호를 보여주는 대신에\n",
    "실제로 줄바꾸기를 실행해서 나름 예쁘게 보여주고 있다. \n",
    "하지만 `text`에 할당된 문자열의 본색은 좀 더 이상하다."
   ]
  },
  {
   "cell_type": "code",
   "execution_count": 7,
   "metadata": {},
   "outputs": [
    {
     "data": {
      "text/plain": [
       "'<html><head><title>Welcome to the Beans\\'R\\'Us Pricing Page</title>\\n<link rel=\"stylesheet\" type=\"text/css\" href=\"beansrus.css\" />\\n</head><body>\\n<h2>Welcome to the Beans\\'R\\'Us Pricing Page</h2>\\n<p>Current price of coffee beans = <strong>$5.65</strong></p>\\n<p>Price valid for 15 minutes from Wed Mar 28 15:30:13 2018.</p>\\n</body></html>'"
      ]
     },
     "execution_count": 7,
     "metadata": {},
     "output_type": "execute_result"
    }
   ],
   "source": [
    "text"
   ]
  },
  {
   "cell_type": "markdown",
   "metadata": {},
   "source": [
    "즉, 앞서 언급하였듯이 하나의 상당히 긴 문자열이다. 실제로 줄바꾸기 기호(`\\n`)가 6번 사용되었음을\n",
    "확인 할 수 있다. 실제로 앞서 `print` 함수를 호출했을 때의 결과에서 총 7줄이 보인다. 즉, \n",
    "줄바꾸기를 6번 한 결과이다."
   ]
  },
  {
   "cell_type": "markdown",
   "metadata": {},
   "source": [
    "<p>\n",
    "<table cellspacing=\"20\">\n",
    "<tr>\n",
    "<td>\n",
    "<img src=\"images/beans03.png\" style=\"width:90%\">\n",
    "</td>\n",
    "</tr>\n",
    "</table>\n",
    "</p>"
   ]
  },
  {
   "cell_type": "markdown",
   "metadata": {},
   "source": [
    "## 도구 2: 문자열에서 정보 찾기"
   ]
  },
  {
   "cell_type": "markdown",
   "metadata": {},
   "source": [
    "앞서 `text` 변수에 할당된 값은 HTML 소스코드를 하나의 긴 문장으로 담고 있는 문자열임을 확인하였다.\n",
    "실제로 줄바꾸기 기호(`\\n`)도 하나의 문자이며 공백(` `), 인용부호(`'`) 등도 모두 하나의 문자로 처리된다."
   ]
  },
  {
   "cell_type": "markdown",
   "metadata": {},
   "source": [
    "### 문자열 자료형"
   ]
  },
  {
   "cell_type": "markdown",
   "metadata": {},
   "source": [
    "문자열 자료형은 문자열, 즉, 문자들을 나열한 값들을 일컫는 자료형이다. \n",
    "모든 프로그래밍언어에 공통으로 사용되며, 프로그래밍 요소 중에 가장 핵심이라고 할 수 있다.\n",
    "파이썬에서 문자열 자료형은 `str`로 표시되며 string(스트링, 문자열)의 줄임말이다.\n",
    "\n",
    "문자열 자료형은 시퀀스(sequence) 자료형(data type)의 한 종류이며,\n",
    "문자열 자료형에 대한 보다 자세한 설명은 [2장 추가자료](https://github.com/liganega/bpp/blob/master/notes/02-ThinkPython-Strings.ipynb)를 참조하면 된다.\n",
    "문자열 이외에 시퀀스 자료형으로 불리는 자료형에는 리스트, 어레이, 튜플, 사전 등이 있으며\n",
    "이후에 함께 살펴볼 것이다."
   ]
  },
  {
   "cell_type": "markdown",
   "metadata": {},
   "source": [
    "### 문자열 색인과 `find` 메소드"
   ]
  },
  {
   "cell_type": "markdown",
   "metadata": {},
   "source": [
    "`text` 변수에 할당된 소스코드 문자열에서 커피 원두콩의 시세 정보만을 추출하고자 할 때 색인(인덱스, 오프셋) 정보를 활용한다. \n",
    "\n",
    "현재 원두콩의 시세 정보는 `5.85`인데 어떻게 시세 정보만을 프로그램이 추출할 수 있도록 할 수 있을까?\n",
    "즉, 사람이 눈으로 보면서, 영어 문장을 이해하면서 시세 정보를 찾는 방식이 아니라\n",
    "기계가 순전히 문자들의 모양만 보고 시세 정보를 알아내야 한다."
   ]
  },
  {
   "cell_type": "markdown",
   "metadata": {},
   "source": [
    "#### 주의사항\n",
    "* `5.85` 부분은 위 프로그램을 실행할 때마다 변한다. \n",
    "* 다만, 소수점을 포함해서 길이가 4인 문자열이라는 점은 변하지 않는다."
   ]
  },
  {
   "cell_type": "markdown",
   "metadata": {},
   "source": [
    "가장 간단한 방법은 `'5.85'`라는 부분 문자열이 `text`에 할당된 문자열의 어느 곳에 위치하는지를 알아내는 것이다.\n",
    "이를 위해 **색인** 정보를 활용한다.\n",
    "\n",
    "먼저, `5.85`의 첫째 `5`의 색인을 수동으로 확인해 보면 234임을 알 수 있고, 그곳에서부터 4개의 문자를 읽으면\n",
    "아래에서 보듯이 원하는 시세 정보임을 알 수 있다.\n",
    "아래 코드는 색인 정보와 슬라이싱 기술을 활용한 결과를 보여준다."
   ]
  },
  {
   "cell_type": "code",
   "execution_count": 8,
   "metadata": {},
   "outputs": [
    {
     "data": {
      "text/plain": [
       "'5.65'"
      ]
     },
     "execution_count": 8,
     "metadata": {},
     "output_type": "execute_result"
    }
   ],
   "source": [
    "text[234:238]"
   ]
  },
  {
   "cell_type": "markdown",
   "metadata": {},
   "source": [
    "그런데 위와 같이 수동으로 색인을 확인하는 방식은 아래의 문제점들을 갖고 있다. \n",
    "\n",
    "* 셈이 틀릴 수 있다.\n",
    "* 문자열이 길 경우 셈 자체가 불가능할 수 있다.\n",
    "* 문자열이 조금만 변경되어도 새로 처음부터 세어야 하기 때문에 경우에 따라 재활용이 불가능하다.\n",
    "\n",
    "예를 들어, 주요 고객에게만 제공하는 좀 더 저렴한 커피 원두콩 시세 정보를 전달하는 아래 사이트에 \n",
    "동일한 프로그램을 적용하면 엉뚱한 결과를 얻게 된다.\n",
    "\n",
    "http://beans-r-us.appspot.com/prices-loyalty.html"
   ]
  },
  {
   "cell_type": "code",
   "execution_count": 9,
   "metadata": {},
   "outputs": [],
   "source": [
    "import urllib.request\n",
    "\n",
    "page = urllib.request.urlopen(\"http://beans-r-us.appspot.com/prices-loyalty.html\")\n",
    "text = page.read().decode(\"utf8\")"
   ]
  },
  {
   "cell_type": "code",
   "execution_count": 10,
   "metadata": {},
   "outputs": [
    {
     "data": {
      "text/plain": [
       "'bean'"
      ]
     },
     "execution_count": 10,
     "metadata": {},
     "output_type": "execute_result"
    }
   ],
   "source": [
    "text[234:238]"
   ]
  },
  {
   "cell_type": "markdown",
   "metadata": {},
   "source": [
    "수동으로 색인을 확인하는 방법의 한계를 극복하기 위해 다른 도구를 활용해야 하는데,\n",
    "여기서는 `find`라는 문자열 메소드를 사용한다.\n",
    "\n",
    "다시 원래의 질문으로 돌아가서 어떻게 시세 정보가 시작하는 곳의 색인을 구할 수 있는지 생각해보자.\n",
    "원하는 색인을 특징지울 수 있는 무언가를 찾아야 한다.\n",
    "\n",
    "예를 들어, 시세 정보는 `'>$'` 라는 문자열 바로 다음부터 시작한다는 특징을 이용한다.\n",
    "즉, 문자열 `'>$'`가 `text`에 할당된 문자열의 어느 위치에서 시작하는지를 알아내기만 하면 된다.\n",
    "그리고 이 정보는 바로 `find` 메소드가 찾아준다."
   ]
  },
  {
   "cell_type": "code",
   "execution_count": 11,
   "metadata": {},
   "outputs": [
    {
     "data": {
      "text/plain": [
       "249"
      ]
     },
     "execution_count": 11,
     "metadata": {},
     "output_type": "execute_result"
    }
   ],
   "source": [
    "text.find('>$')"
   ]
  },
  {
   "cell_type": "markdown",
   "metadata": {},
   "source": [
    "즉, 249번 색인 위치에서부터 `'>$'`가 시작한다는 의미이다.\n",
    "따라서 그보다 2보다 큰 251번 색인에서 시세 정보가 시작한다는 것을 알게 되었다.\n",
    "따라서 시세 정보를 아래와 같이 알아낼 수 있다."
   ]
  },
  {
   "cell_type": "code",
   "execution_count": 12,
   "metadata": {},
   "outputs": [],
   "source": [
    "where = text.find('>$') + 2\n",
    "price = text[where : where + 4]"
   ]
  },
  {
   "cell_type": "code",
   "execution_count": 13,
   "metadata": {},
   "outputs": [
    {
     "data": {
      "text/plain": [
       "'4.32'"
      ]
     },
     "execution_count": 13,
     "metadata": {},
     "output_type": "execute_result"
    }
   ],
   "source": [
    "price"
   ]
  },
  {
   "cell_type": "markdown",
   "metadata": {},
   "source": [
    "이렇게 `find` 메소드를 활용하면 웹사이트가 조금 변경된다 하더라도 동일한 프로그램을 이용하여 가격정보를 얻어낼 수 있다."
   ]
  },
  {
   "cell_type": "markdown",
   "metadata": {},
   "source": [
    "* 커피 원두콩 시세 정보 사이트(일반고객용)"
   ]
  },
  {
   "cell_type": "code",
   "execution_count": 14,
   "metadata": {},
   "outputs": [
    {
     "name": "stdout",
     "output_type": "stream",
     "text": [
      "6.56\n"
     ]
    }
   ],
   "source": [
    "import urllib.request\n",
    "\n",
    "page = urllib.request.urlopen(\"http://beans-r-us.appspot.com/prices.html\")\n",
    "text = page.read().decode(\"utf8\")\n",
    "\n",
    "where = text.find('>$') + 2\n",
    "price = text[where : where + 4]\n",
    "\n",
    "print(price)"
   ]
  },
  {
   "cell_type": "markdown",
   "metadata": {},
   "source": [
    "* 커피 원두콩 시세 정보 사이트(주요고객용)"
   ]
  },
  {
   "cell_type": "code",
   "execution_count": 15,
   "metadata": {},
   "outputs": [
    {
     "name": "stdout",
     "output_type": "stream",
     "text": [
      "4.26\n"
     ]
    }
   ],
   "source": [
    "import urllib.request\n",
    "\n",
    "page = urllib.request.urlopen(\"http://beans-r-us.appspot.com/prices-loyalty.html\")\n",
    "text = page.read().decode(\"utf8\")\n",
    "\n",
    "where = text.find('>$') + 2\n",
    "price = text[where : where + 4]\n",
    "\n",
    "print(price)"
   ]
  },
  {
   "cell_type": "markdown",
   "metadata": {},
   "source": [
    "#### 주의사항\n",
    "\n",
    "`price` 변수에 저장된 커피콩의 가격정보는 문자열로 저장되어 있다."
   ]
  },
  {
   "cell_type": "code",
   "execution_count": 16,
   "metadata": {},
   "outputs": [
    {
     "data": {
      "text/plain": [
       "str"
      ]
     },
     "execution_count": 16,
     "metadata": {},
     "output_type": "execute_result"
    }
   ],
   "source": [
    "type(price)"
   ]
  },
  {
   "cell_type": "markdown",
   "metadata": {},
   "source": [
    "그래서 예를 들어 커피콩 가격이 6달러 이상이면 매장의 아메리카노 가격을 올리고,\n",
    "그렇지 않으면 가격을 그대로 유지하는 것을 실행하도록 하는 \n",
    "코드를 작성할 수가 없다.\n",
    "\n",
    "이유는, 문자열은 숫자가 아니라서 문자열과 숫자를 직접 비교할 수 없기 때문이다.\n",
    "하지만 숫자로만 이루어닌 문자열을 진짜 숫자로 형변환시킬 수 있다.\n",
    "예를 들어 `int` 또는 `float` 함수를 이용한다. \n",
    "\n",
    "**주의:** `int` 함수의 활용은 1장에서 보았다."
   ]
  },
  {
   "cell_type": "markdown",
   "metadata": {},
   "source": [
    "예를 들어 아래 코드는 타입 오류를 발생시킨다. \n",
    "비교하는 두 값의 자료형이 다르기 때문이다."
   ]
  },
  {
   "cell_type": "code",
   "execution_count": 17,
   "metadata": {},
   "outputs": [
    {
     "ename": "TypeError",
     "evalue": "'>' not supported between instances of 'str' and 'float'",
     "output_type": "error",
     "traceback": [
      "\u001b[0;31m---------------------------------------------------------------------------\u001b[0m",
      "\u001b[0;31mTypeError\u001b[0m                                 Traceback (most recent call last)",
      "\u001b[0;32m<ipython-input-17-9e48960d5a5f>\u001b[0m in \u001b[0;36m<module>\u001b[0;34m()\u001b[0m\n\u001b[0;32m----> 1\u001b[0;31m \u001b[0;34m'4.2'\u001b[0m \u001b[0;34m>\u001b[0m \u001b[0;36m2.1\u001b[0m\u001b[0;34m\u001b[0m\u001b[0m\n\u001b[0m",
      "\u001b[0;31mTypeError\u001b[0m: '>' not supported between instances of 'str' and 'float'"
     ]
    }
   ],
   "source": [
    "'4.2' > 2.1"
   ]
  },
  {
   "cell_type": "markdown",
   "metadata": {},
   "source": [
    "반면에 `float` 함수를 활용하면 오류가 발생하지 않는다."
   ]
  },
  {
   "cell_type": "code",
   "execution_count": 18,
   "metadata": {},
   "outputs": [
    {
     "data": {
      "text/plain": [
       "True"
      ]
     },
     "execution_count": 18,
     "metadata": {},
     "output_type": "execute_result"
    }
   ],
   "source": [
    "float('4.2') > 2.1"
   ]
  },
  {
   "cell_type": "markdown",
   "metadata": {},
   "source": [
    "#### 주의사항\n",
    "`int`와 `float` 함수는 각각 정수 모양 또는 부동소수점 모양일 경우에만 제대로 작동한다."
   ]
  },
  {
   "cell_type": "code",
   "execution_count": 19,
   "metadata": {},
   "outputs": [
    {
     "ename": "ValueError",
     "evalue": "invalid literal for int() with base 10: '4.2'",
     "output_type": "error",
     "traceback": [
      "\u001b[0;31m---------------------------------------------------------------------------\u001b[0m",
      "\u001b[0;31mValueError\u001b[0m                                Traceback (most recent call last)",
      "\u001b[0;32m<ipython-input-19-b5a62d34836a>\u001b[0m in \u001b[0;36m<module>\u001b[0;34m()\u001b[0m\n\u001b[0;32m----> 1\u001b[0;31m \u001b[0mint\u001b[0m\u001b[0;34m(\u001b[0m\u001b[0;34m'4.2'\u001b[0m\u001b[0;34m)\u001b[0m \u001b[0;34m>\u001b[0m \u001b[0;36m2.1\u001b[0m\u001b[0;34m\u001b[0m\u001b[0m\n\u001b[0m",
      "\u001b[0;31mValueError\u001b[0m: invalid literal for int() with base 10: '4.2'"
     ]
    }
   ],
   "source": [
    "int('4.2') > 2.1"
   ]
  },
  {
   "cell_type": "code",
   "execution_count": 20,
   "metadata": {},
   "outputs": [
    {
     "ename": "ValueError",
     "evalue": "could not convert string to float: '4.2g'",
     "output_type": "error",
     "traceback": [
      "\u001b[0;31m---------------------------------------------------------------------------\u001b[0m",
      "\u001b[0;31mValueError\u001b[0m                                Traceback (most recent call last)",
      "\u001b[0;32m<ipython-input-20-0ffd8171e715>\u001b[0m in \u001b[0;36m<module>\u001b[0;34m()\u001b[0m\n\u001b[0;32m----> 1\u001b[0;31m \u001b[0mfloat\u001b[0m\u001b[0;34m(\u001b[0m\u001b[0;34m'4.2g'\u001b[0m\u001b[0;34m)\u001b[0m \u001b[0;34m>\u001b[0m \u001b[0;36m2.1\u001b[0m\u001b[0;34m\u001b[0m\u001b[0m\n\u001b[0m",
      "\u001b[0;31mValueError\u001b[0m: could not convert string to float: '4.2g'"
     ]
    }
   ],
   "source": [
    "float('4.2g') > 2.1"
   ]
  },
  {
   "cell_type": "markdown",
   "metadata": {},
   "source": [
    "## 커피콩 가격 정보 활용 코드 예제 1"
   ]
  },
  {
   "cell_type": "markdown",
   "metadata": {},
   "source": [
    "지금까지 배운 내용을 이용하여 커피콩 가격이 6.0달러 이상이면 매장의 아메리카노 가격을 올리고, 그렇지 않으면 가격을 그대로 유지하는 것을 실행하도록 하는 코드를 작성하면 다음과 같다. \n",
    "가격 확인은 1초에 한 번 하는 것으로 한다. "
   ]
  },
  {
   "cell_type": "markdown",
   "metadata": {},
   "source": [
    "#### 주의사항\n",
    "* 시차를 두고 코드를 실행하기 위해 `time` 모듈의 `sleep` 함수를 활용한다.\n",
    "* 기준 가격을 높게 책정하면 너무 오랫동안 기다려야 할 수도 있다."
   ]
  },
  {
   "cell_type": "code",
   "execution_count": 21,
   "metadata": {},
   "outputs": [
    {
     "name": "stdout",
     "output_type": "stream",
     "text": [
      "커피콩 현재 가격이 6.53 입니다. 아메리카노 가격을 인상하세요!\n"
     ]
    }
   ],
   "source": [
    "import urllib.request\n",
    "import time             # 시간과 관련된 함수들의 모듈\n",
    "\n",
    "price = 5.0\n",
    "\n",
    "while price < 6.0:\n",
    "    time.sleep(1)       # 코드 실행을 1초 정지한다.\n",
    "    \n",
    "    page = urllib.request.urlopen(\"http://beans-r-us.appspot.com/prices.html\")\n",
    "    text = page.read().decode(\"utf8\")\n",
    "    \n",
    "    where = text.find(\">$\") + 2\n",
    "    price = float(text[where : where + 4])\n",
    "    \n",
    "print(\"커피콩 현재 가격이\", price, \"입니다. 아메리카노 가격을 인상하세요!\")"
   ]
  },
  {
   "cell_type": "markdown",
   "metadata": {},
   "source": [
    "## 커피콩 가격 정보 활용 코드 예제 2"
   ]
  },
  {
   "cell_type": "markdown",
   "metadata": {},
   "source": [
    "위 코드를 수정하여, 아래 내용을 수행하는 함수를 작성하라.\n",
    "\n",
    "* 함수 이름: `price_setter`\n",
    "\n",
    "\n",
    "* 함수에 사용되는 인자 두 개\n",
    "    * 첫째 인자(`b_price`): 기존의 커피콩 가격\n",
    "    * 둘째 인자(`a_price`): 아메리카노 인상 또는 인하 가격\n",
    "\n",
    "\n",
    "* `price_setter(b_price, a_price)`를 실행할 때\n",
    "    * `b_price`는 커피콩의 기존 가격을 의미한다. \n",
    "        서버의 특징 상 5.5와 6.0 사이의 숫자로 주는 게 좋다.\n",
    "    * 커피콩의 실시간 가격이 `b_price` 보다 0.5 달러 이하면\n",
    "        아메리카노 가격을 `a_price` 만큼 내릴 것을 권유\n",
    "    * 커피콩의 실시간 가격이 `b_price` 보다 0.5 달러 이상이면\n",
    "        아메리카노 가격을 `a_price` 만큼 올릴 것을 권유"
   ]
  },
  {
   "cell_type": "code",
   "execution_count": 1,
   "metadata": {},
   "outputs": [],
   "source": [
    "import urllib.request\n",
    "import time          \n",
    "\n",
    "def price_setter(b_price, a_price):\n",
    "    price = b_price\n",
    "    while 5.5 < price < 6.0:\n",
    "        time.sleep(1)       # 코드 실행을 1초 정지한다.\n",
    "\n",
    "        page = urllib.request.urlopen(\"http://beans-r-us.appspot.com/prices.html\")\n",
    "        text = page.read().decode(\"utf8\")\n",
    "\n",
    "        where = text.find(\">$\") + 2\n",
    "        price = float(text[where : where + 4])\n",
    "        \n",
    "    print(\"현재 커피콩 가격이\", price, \"달러 입니다.\")\n",
    "\n",
    "    if price <= 5.5:\n",
    "        print(\"아메리카노 가격을\", a_price, \"달러만큼 인하하세요!\")\n",
    "    else:\n",
    "        print(\"아메리카노 가격을\", a_price, \"달러만큼 인상하세요!\")"
   ]
  },
  {
   "cell_type": "markdown",
   "metadata": {},
   "source": [
    "예를 들어, 현재 커피콩의 가격이 5.7달러이고, 커피콩의 실시간 가격이\n",
    "5.2달러 이하이면 아메리카노의 가격을 50센트 내리고\n",
    "6.2달러 이상이면 50센트 올리라고 권유하고자 한다면 아래와 같이 \n",
    "`price_setter()` 함수를 호출하면 된다."
   ]
  },
  {
   "cell_type": "code",
   "execution_count": 24,
   "metadata": {},
   "outputs": [
    {
     "name": "stdout",
     "output_type": "stream",
     "text": [
      "현재 커피콩 가격이 6.29 달러 입니다.\n",
      "아메리카노 가격을 0.5 달러만큼 인상하세요!\n"
     ]
    }
   ],
   "source": [
    "price_setter(5.7, 0.5)"
   ]
  },
  {
   "cell_type": "markdown",
   "metadata": {},
   "source": [
    "## 문자열 관련 메소드\n",
    "\n",
    "`find` 메소드처럼 문자열 자료형에만 사용하는 함수들이 있다. \n",
    "이와같이 특정 자료형에만 사용하는 함수들을 __메소드__라 부른다.\n",
    "\n",
    "보다 자세한 설명은 여기서는 하지 않는다.\n",
    "다만 `find` 메소드의 활용을 통해 보았듯이 특정 자료형을 잘 다루기 위해서는 \n",
    "어떤 경우에 어떤 메소드를 유용하게 활용할 수 있는지를 잘 파악해두는 것이 매우 \n",
    "중요하다는 점만 강조한다."
   ]
  },
  {
   "cell_type": "markdown",
   "metadata": {},
   "source": [
    "### 메소드 호출 방법\n",
    "\n",
    "앞서 `find()` 메소드를 호출하는 방법을 기억해야 한다. \n",
    "\n",
    "    text.find(\"<$\")\n",
    "\n",
    "메소드는 일반적인 함수들과는 달리, 특정 자료형의 값이 먼저 언급된 다음에\n",
    "호출된다. \n",
    "\n",
    "**주의:** 메소드의 호출방식은 다른 자료형의 경우에도 동일하다. "
   ]
  },
  {
   "cell_type": "markdown",
   "metadata": {},
   "source": [
    "### 문자열 메소드 추가 예제\n",
    "\n",
    "`find()` 메소드 이외에 문자열과 관련된 메소드는 매우 많다. \n",
    "여기서는 가장 많이 사용되는 메소드 몇 개를 소개하고자 한다.\n",
    "\n",
    "* `strip()`\n",
    "* `split()`\n",
    "* `replace()`\n",
    "* `upper()`\n",
    "* `lower()`\n",
    "* `capitalize()`\n",
    "* `title()`\n",
    "* `startswith()`\n",
    "* `endswith()`\n",
    "\n",
    "예제를 통해 각 메소드의 활용법을 간략하게 확인한다.\n",
    "\n",
    "먼저 `week_days` 변수에 요일들을 저장한다."
   ]
  },
  {
   "cell_type": "code",
   "execution_count": 25,
   "metadata": {},
   "outputs": [],
   "source": [
    "week_days = \" Mon, Tue, Wed, Thu, Fri, Sat, Sun \""
   ]
  },
  {
   "cell_type": "markdown",
   "metadata": {},
   "source": [
    "* `strip()` 메소드는 문자열의 양 끝을 지정한 문자열 기준으로 삭제하는 방식으로 정리한다.\n",
    "\n",
    "예를 들어, 문자열 양끝에 있는 스페이스를 삭제하고자 할 경우 아래와 같이 실행한다."
   ]
  },
  {
   "cell_type": "code",
   "execution_count": 26,
   "metadata": {},
   "outputs": [
    {
     "data": {
      "text/plain": [
       "'Mon, Tue, Wed, Thu, Fri, Sat, Sun'"
      ]
     },
     "execution_count": 26,
     "metadata": {},
     "output_type": "execute_result"
    }
   ],
   "source": [
    "week_days.strip(\" \")"
   ]
  },
  {
   "cell_type": "markdown",
   "metadata": {},
   "source": [
    "`strip()` 메소드를 인자 없이 호출하는 경우와 동일하다."
   ]
  },
  {
   "cell_type": "code",
   "execution_count": 27,
   "metadata": {},
   "outputs": [
    {
     "data": {
      "text/plain": [
       "'Mon, Tue, Wed, Thu, Fri, Sat, Sun'"
      ]
     },
     "execution_count": 27,
     "metadata": {},
     "output_type": "execute_result"
    }
   ],
   "source": [
    "week_days.strip()"
   ]
  },
  {
   "cell_type": "markdown",
   "metadata": {},
   "source": [
    "* `split()` 메소드는 지정된 부분문자열을 기준으로 문자열을 쪼개어 문자열들의 리스트로 반환한다.\n",
    "    리스트 자료형은 이후에 자세히 다룬다. 여기서는 기본적으로 알고 있는 내용으로 이해하면 된다.\n",
    "\n",
    "아래 예제는 `\", \"`, 즉 콤마와 스페이스를 기준으로 문자열을 쪼갠다."
   ]
  },
  {
   "cell_type": "code",
   "execution_count": 28,
   "metadata": {},
   "outputs": [
    {
     "data": {
      "text/plain": [
       "[' Mon', 'Tue', 'Wed', 'Thu', 'Fri', 'Sat', 'Sun ']"
      ]
     },
     "execution_count": 28,
     "metadata": {},
     "output_type": "execute_result"
    }
   ],
   "source": [
    "week_days.split(\", \")"
   ]
  },
  {
   "cell_type": "markdown",
   "metadata": {},
   "source": [
    "두 개 이상의 메소드를 조합해서 활용할 수도 있다.\n",
    "\n",
    "예를 들어, `strip()` 메소드를 먼저 실행한 다음에 그 결과에 `split()` 메소드를 실행하면\n",
    "좀 더 산뜻한 결과를 얻을 수 있다."
   ]
  },
  {
   "cell_type": "code",
   "execution_count": 29,
   "metadata": {},
   "outputs": [
    {
     "data": {
      "text/plain": [
       "['Mon', 'Tue', 'Wed', 'Thu', 'Fri', 'Sat', 'Sun']"
      ]
     },
     "execution_count": 29,
     "metadata": {},
     "output_type": "execute_result"
    }
   ],
   "source": [
    "week_days.strip(\" \").split(\", \")"
   ]
  },
  {
   "cell_type": "markdown",
   "metadata": {},
   "source": [
    "* `replace()` 메소드는 하나의 문자열을 다른 문자열로 대체한다.\n",
    "\n",
    "예를 들어, `\" Mon\"`을 `\"Mon\"`으로 대체할 경우 아래와 같이 실행한다."
   ]
  },
  {
   "cell_type": "code",
   "execution_count": 30,
   "metadata": {},
   "outputs": [
    {
     "data": {
      "text/plain": [
       "'Mon, Tue, Wed, Thu, Fri, Sat, Sun '"
      ]
     },
     "execution_count": 30,
     "metadata": {},
     "output_type": "execute_result"
    }
   ],
   "source": [
    "week_days.replace(\" Mon\", \"Mon\")"
   ]
  },
  {
   "cell_type": "markdown",
   "metadata": {},
   "source": [
    "* `upper()` 메소드는 모든 문자를 대문자로 변환시킨다."
   ]
  },
  {
   "cell_type": "code",
   "execution_count": 31,
   "metadata": {},
   "outputs": [
    {
     "data": {
      "text/plain": [
       "' MON, TUE, WED, THU, FRI, SAT, SUN '"
      ]
     },
     "execution_count": 31,
     "metadata": {},
     "output_type": "execute_result"
    }
   ],
   "source": [
    "week_days.upper()"
   ]
  },
  {
   "cell_type": "code",
   "execution_count": 32,
   "metadata": {},
   "outputs": [
    {
     "data": {
      "text/plain": [
       "'MON, TUE, WED, THU, FRI, SAT, SUN'"
      ]
     },
     "execution_count": 32,
     "metadata": {},
     "output_type": "execute_result"
    }
   ],
   "source": [
    "week_days.strip().upper()"
   ]
  },
  {
   "cell_type": "markdown",
   "metadata": {},
   "source": [
    "* `lower()` 메소드는 모든 문자를 소문자로 변환시킨다."
   ]
  },
  {
   "cell_type": "code",
   "execution_count": 33,
   "metadata": {},
   "outputs": [
    {
     "data": {
      "text/plain": [
       "' mon, tue, wed, thu, fri, sat, sun '"
      ]
     },
     "execution_count": 33,
     "metadata": {},
     "output_type": "execute_result"
    }
   ],
   "source": [
    "week_days.lower()"
   ]
  },
  {
   "cell_type": "code",
   "execution_count": 34,
   "metadata": {},
   "outputs": [
    {
     "data": {
      "text/plain": [
       "'mon, tue, wed, thu, fri, sat, sun'"
      ]
     },
     "execution_count": 34,
     "metadata": {},
     "output_type": "execute_result"
    }
   ],
   "source": [
    "week_days.strip().lower()"
   ]
  },
  {
   "cell_type": "code",
   "execution_count": 35,
   "metadata": {},
   "outputs": [
    {
     "data": {
      "text/plain": [
       "['mon', 'tue', 'wed', 'thu', 'fri', 'sat', 'sun']"
      ]
     },
     "execution_count": 35,
     "metadata": {},
     "output_type": "execute_result"
    }
   ],
   "source": [
    "week_days.strip().lower().split(\", \")"
   ]
  },
  {
   "cell_type": "markdown",
   "metadata": {},
   "source": [
    "* `capitalize()` 메소드는 제일 첫 문자를 대문자로 변환시킨다.\n",
    "\n",
    "아래 예제는 변화가 없어 보인다. 이유는 첫 문자가 스페이스이기 때문이다."
   ]
  },
  {
   "cell_type": "code",
   "execution_count": 36,
   "metadata": {},
   "outputs": [
    {
     "data": {
      "text/plain": [
       "' mon, tue, wed, thu, fri, sat, sun '"
      ]
     },
     "execution_count": 36,
     "metadata": {},
     "output_type": "execute_result"
    }
   ],
   "source": [
    "week_days.capitalize()"
   ]
  },
  {
   "cell_type": "code",
   "execution_count": 37,
   "metadata": {},
   "outputs": [
    {
     "data": {
      "text/plain": [
       "'Mon, tue, wed, thu, fri, sat, sun'"
      ]
     },
     "execution_count": 37,
     "metadata": {},
     "output_type": "execute_result"
    }
   ],
   "source": [
    "week_days.strip().capitalize()"
   ]
  },
  {
   "cell_type": "markdown",
   "metadata": {},
   "source": [
    "* `title()` 메소드는 각각의 단어의 첫 문자를 대문자로 변환시킨다.\n",
    "\n",
    "참조: 영문 책 제목의 타이틀에서 각 단어의 첫 알파벳이 대문자로 쓰여지는 경우가 많다."
   ]
  },
  {
   "cell_type": "code",
   "execution_count": 38,
   "metadata": {},
   "outputs": [
    {
     "data": {
      "text/plain": [
       "' Mon, Tue, Wed, Thu, Fri, Sat, Sun '"
      ]
     },
     "execution_count": 38,
     "metadata": {},
     "output_type": "execute_result"
    }
   ],
   "source": [
    "week_days.title()"
   ]
  },
  {
   "cell_type": "code",
   "execution_count": 39,
   "metadata": {},
   "outputs": [
    {
     "data": {
      "text/plain": [
       "'Mon, Tue, Wed, Thu, Fri, Sat, Sun'"
      ]
     },
     "execution_count": 39,
     "metadata": {},
     "output_type": "execute_result"
    }
   ],
   "source": [
    "week_days.strip().title()"
   ]
  },
  {
   "cell_type": "markdown",
   "metadata": {},
   "source": [
    "* `startswith()` 메소드는 문자열이 특정 문자열로 시작하는지 여부를 판단해준다."
   ]
  },
  {
   "cell_type": "code",
   "execution_count": 40,
   "metadata": {},
   "outputs": [
    {
     "data": {
      "text/plain": [
       "True"
      ]
     },
     "execution_count": 40,
     "metadata": {},
     "output_type": "execute_result"
    }
   ],
   "source": [
    "week_days.startswith(\" M\")"
   ]
  },
  {
   "cell_type": "markdown",
   "metadata": {},
   "source": [
    "* `endswith()` 메소드는 문자열이 특정 문자열로 끝나는지 여부를 판단해준다."
   ]
  },
  {
   "cell_type": "code",
   "execution_count": 41,
   "metadata": {},
   "outputs": [
    {
     "data": {
      "text/plain": [
       "True"
      ]
     },
     "execution_count": 41,
     "metadata": {},
     "output_type": "execute_result"
    }
   ],
   "source": [
    "week_days.endswith(\"n \")"
   ]
  },
  {
   "cell_type": "markdown",
   "metadata": {},
   "source": [
    "## 수정이 불가능한 자료형\n",
    "\n",
    "파이썬의 문자열 자료형의 값들은 수정이 불가능하다. \n",
    "앞서  `week_days`에 할당된 문자열에 다양한 메소드를 적용하여 새로운 문자열을 생성하였지만\n",
    "`week_days`에 할당된 문자열 자체는 전혀 변하지 않았음을 아래와 같이 확인할 수 있다."
   ]
  },
  {
   "cell_type": "code",
   "execution_count": 42,
   "metadata": {},
   "outputs": [
    {
     "data": {
      "text/plain": [
       "' Mon, Tue, Wed, Thu, Fri, Sat, Sun '"
      ]
     },
     "execution_count": 42,
     "metadata": {},
     "output_type": "execute_result"
    }
   ],
   "source": [
    "week_days"
   ]
  },
  {
   "cell_type": "markdown",
   "metadata": {},
   "source": [
    "이와 같이 한 번 정해지면 절대 수정이 불가능한 자료형을 수정 불가능(immutable) 자료형이라 부른다.\n",
    "\n",
    "주어진 문자열을 이용하여 새로운 문자열을 생성하고 활용하려면 새로운 변수에 저장하여 활용해야 한다."
   ]
  },
  {
   "cell_type": "code",
   "execution_count": 43,
   "metadata": {},
   "outputs": [],
   "source": [
    "stripped_week_days = week_days.strip()"
   ]
  },
  {
   "cell_type": "code",
   "execution_count": 44,
   "metadata": {},
   "outputs": [
    {
     "data": {
      "text/plain": [
       "'Mon, Tue, Wed, Thu, Fri, Sat, Sun'"
      ]
     },
     "execution_count": 44,
     "metadata": {},
     "output_type": "execute_result"
    }
   ],
   "source": [
    "stripped_week_days"
   ]
  },
  {
   "cell_type": "markdown",
   "metadata": {},
   "source": [
    "## 이번에 배운 프로그래밍 도구\n",
    "* 문자열 자료형: 문자들의 나열로 이루어진 값들의 자료형\n",
    "* 색인: 문자열에서 개별 문자들을 참조하여 활용하는 방식\n",
    "    * 인덱스, 오프셋 등으로 불림\n",
    "    * 0부터 시작\n",
    "* 문자열 메소드: 문자열을 조작하는 도구\n",
    "* 라이브러리: 미리 구현되어 있는 코드들의 집합\n",
    "* 변수의 자료형: 변수에 할달된 값의 자료형과 동일. \n",
    "    * 할당된 값의 변하면 자료형도 변할 수 있음.\n",
    "    * C 또는 자바의 경우에는 변수의 자료형은 애초부터 선언되고 절대 변하지 않음.\n",
    "* 지금까지 다룬 자료형: 정수(`int`), 부동소수점(`float`), 문자열(`str`)"
   ]
  },
  {
   "cell_type": "markdown",
   "metadata": {},
   "source": [
    "## 이번에 사용한 파이썬 도구\n",
    "* 색인: `s[4]`는 변수 `s`에 할당된 문자열의 4번 색인에 위치한, 즉 5번째 문자\n",
    "* 슬라이싱: `s[6:12]`는 변수 `s`에 할당된 문자열 내의 6번 색인부터 11번 색인에 위치한 부분문자열\n",
    "* `find` 메소드: `s.find(부분문자열)` 는 원하는 부분문자열이 시작하는 위치의 색인을 찾아 리턴함.\n",
    "* `upper` 메소드: `s.upper()`는 모든 알파벳을 대문자로 변환시킨 새로운 문자열을 생성하여 리턴함.\n",
    "* `float` 함수: 부동소수점 모양의 문자열을 진짜 부동소수점으로 변환\n",
    "* 덧셈 연산자: `+`\n",
    "* 크기 비교 연산자: `>`, `<` 등등\n",
    "* `urllib.request` 라이브러리: 웹페이지 접속과 관련된 다양한 함수들을 담고 있는 라이브러리\n",
    "* `time` 라이브러리: 날짜 및 시간에 관한 기능을 제공하는 다양한 함수들을 담고 있는 라이브러리\n",
    "* 모듈: 파이썬에서는 하나의 라이브러리를 **모듈**이라고 부름."
   ]
  },
  {
   "cell_type": "markdown",
   "metadata": {},
   "source": [
    "## 추가 공부 사항\n",
    "\n",
    "문자열에 대한 보다 자세한 설명과 연습문제는 [여기](http://localhost:8888/notebooks/bpp/notes/02-ThinkPython-Strings.ipynb)를 참조한다."
   ]
  }
 ],
 "metadata": {
  "kernelspec": {
   "display_name": "Python 3",
   "language": "python",
   "name": "python3"
  },
  "language_info": {
   "codemirror_mode": {
    "name": "ipython",
    "version": 3
   },
   "file_extension": ".py",
   "mimetype": "text/x-python",
   "name": "python",
   "nbconvert_exporter": "python",
   "pygments_lexer": "ipython3",
   "version": "3.6.8"
  },
  "toc": {
   "base_numbering": 1,
   "nav_menu": {},
   "number_sections": false,
   "sideBar": true,
   "skip_h1_title": false,
   "title_cell": "목차",
   "title_sidebar": "Contents",
   "toc_cell": true,
   "toc_position": {
    "height": "calc(100% - 180px)",
    "left": "10px",
    "top": "150px",
    "width": "228.797px"
   },
   "toc_section_display": true,
   "toc_window_display": true
  }
 },
 "nbformat": 4,
 "nbformat_minor": 1
}
