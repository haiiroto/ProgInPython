{
 "cells": [
  {
   "cell_type": "markdown",
   "metadata": {},
   "source": [
    "# 코드 추상화: 클래스"
   ]
  },
  {
   "cell_type": "markdown",
   "metadata": {},
   "source": [
    "안내: [python-textbook.readthedocs.io의 Classes](https://python-textbok.readthedocs.io/en/1.0/Classes.html#class-attributes) 내용을 요약 및 수정한 내용입니다."
   ]
  },
  {
   "cell_type": "markdown",
   "metadata": {},
   "source": [
    "## 클래스와 자료형"
   ]
  },
  {
   "cell_type": "markdown",
   "metadata": {},
   "source": [
    "지금까지 코드 추상화와 관련하여 함수와 모듈 두 가지 프로그래밍 기본 요소를 다뤘다.\n",
    "여기서는 코드 추상화와 관련된 셋쩨 프로그래밍 기본 요소인 클래스를 소개한다.\n",
    "\n",
    "**클래스**(class)는 서로 관련된 데이터와 \n",
    "해당 데이터들을 다루는 함수들을 하나로 묶어 추상화하는 방법이다. \n",
    "\n",
    "클래스는 문자열, 정수 또는 리스트와 같은 자료형의 일종이다. \n",
    "`\"python\"`, `17`, `[1, 2, 3]`을 각각\n",
    "문자열, 정수, 리스트 자료형의 값이라 부르듯이\n",
    "특정 클래스의 값에 해당하는 대상을 정의할 수 있다.\n",
    "그런 대상을 해당 클래스의 **인스턴스**(instance)라 부른다. \n",
    "\n",
    "사실 파이썬에서 다루는 모든 것은 특정 클래스의 인스턴스이다.\n",
    "예를 들어, `\"python\"`, `17`, `[1, 2, 3]` 각각은\n",
    "`str`, `int`, `list` 클래스의 인스턴스들이다. \n",
    "이와 같이, 특정 클래스의 인스턴스를 일반적으로 **객체**(object)라 부른다.\n",
    "\n",
    "심지어 클래스 자체도 `type` 클래스의 인스턴스이다.\n",
    "특정 객체의 클래스, 즉, 자료형을 확인하려면 `type()` 함수를 활용한다.\n",
    "\n",
    "**주의:** 일부 다른 언어에서는 상황이 다르다.\n",
    "예를 들어, 자바 언어의 경우 정수, 부동소수점 등은 클래스와 아무 상관 없다. "
   ]
  },
  {
   "cell_type": "code",
   "execution_count": 1,
   "metadata": {},
   "outputs": [
    {
     "data": {
      "text/plain": [
       "type"
      ]
     },
     "execution_count": 1,
     "metadata": {},
     "output_type": "execute_result"
    }
   ],
   "source": [
    "type(str)"
   ]
  },
  {
   "cell_type": "code",
   "execution_count": 3,
   "metadata": {},
   "outputs": [
    {
     "data": {
      "text/plain": [
       "type"
      ]
     },
     "execution_count": 3,
     "metadata": {},
     "output_type": "execute_result"
    }
   ],
   "source": [
    "type(int)"
   ]
  },
  {
   "cell_type": "code",
   "execution_count": 4,
   "metadata": {},
   "outputs": [
    {
     "data": {
      "text/plain": [
       "type"
      ]
     },
     "execution_count": 4,
     "metadata": {},
     "output_type": "execute_result"
    }
   ],
   "source": [
    "type(list)"
   ]
  },
  {
   "cell_type": "markdown",
   "metadata": {},
   "source": [
    "## 속성과 메서드"
   ]
  },
  {
   "cell_type": "markdown",
   "metadata": {},
   "source": [
    "사용할 객체를 디자인할 때 어떤 특성과 모양의 데이터 값들을 사용할 것인지,\n",
    "그리고 그 값들을 어떻게 다룰 것인지 결정해야 한다. \n",
    "객체 내부에 저장하는 데이터 값을 **속성**, \n",
    "객체와 관련된 함수를 **메서드**라고 부른다.\n",
    "\n",
    "예를 들어 문자열 `\"python\"`은 어떤 형식으로든 python이라는 단어를 속성으로 갖고 있어야 하며,\n",
    "`split`, `strip`, `find` 등 문자열 메서드에 의해 이용될 수 있다.\n",
    "반면에 `[1, 2, 3]`은 어떤 형식으로든 1, 2, 3을 속성으로 갖고 있어야 하며, \n",
    "`append`, `pop`, `sort` 등 리스트 메서드에 의해 이용될 수 있다."
   ]
  },
  {
   "cell_type": "markdown",
   "metadata": {},
   "source": [
    "## 클래스 정의와 사용법"
   ]
  },
  {
   "cell_type": "markdown",
   "metadata": {},
   "source": [
    "다음은 개인정보를 저장하는 간단한 사용자 정의 클래스를 정의한다."
   ]
  },
  {
   "cell_type": "code",
   "execution_count": 48,
   "metadata": {},
   "outputs": [],
   "source": [
    "import datetime # date 객체 사용 목적\n",
    "\n",
    "class Person:\n",
    "\n",
    "    def __init__(self, name, surname, birthdate, address, telephone, email):\n",
    "        self.name = name\n",
    "        self.surname = surname\n",
    "        self.birthdate = birthdate\n",
    "\n",
    "        self.address = address\n",
    "        self.telephone = telephone\n",
    "        self.email = email\n",
    "\n",
    "    def age(self):\n",
    "        today = datetime.date.today()\n",
    "        age = today.year - self.birthdate.year\n",
    "\n",
    "        if today < datetime.date(today.year, self.birthdate.month, self.birthdate.day):\n",
    "            age -= 1\n",
    "\n",
    "        return age"
   ]
  },
  {
   "cell_type": "markdown",
   "metadata": {},
   "source": [
    "`class` 지정자와 클래스 이름 및 콜론으로 클래스 정의를 시작한다.\n",
    "클래스의 본문은 함수의 경우처럼 들여 쓴다. \n",
    "클래스 이름에 소괄호를 사용하여 상속할 부모 클래스들을 함수의 인자들처럼 나열하는 \n",
    "방식으로 명시할 수도 있다.\n",
    "\n",
    "```python\n",
    "class 클래스이름(부모클래스1, ..., 부모클래스n):\n",
    "    클래스본문\n",
    "```\n",
    "\n",
    "`Person` 클래스는 부모 클래스가 없으며, 부모 클래스가 없으면 괄호를 생략할 수 있다.\n",
    "부모 클래스와 상속 개념은 다음 시간에 다룬다. "
   ]
  },
  {
   "cell_type": "markdown",
   "metadata": {},
   "source": [
    "### 매직 메서드와 사용자 정의 메서드"
   ]
  },
  {
   "cell_type": "markdown",
   "metadata": {},
   "source": [
    "`Person` 클래스 내부에는 `__init__`와 `age` 두 함수가 정의되어 있다.\n",
    "이 중에 `__init__` 함수는 특별한 메서드이며,\n",
    "이와같이 밑줄 두 개로 감싸인 메서드를 **매직 메서드**(magic method)라 부른다.\n",
    "반면에 `age` 함수는 **사용자 정의 메서드**(user-defined method)이다.\n",
    "\n",
    "모든 클래스는 `__init__` 메서드 이외에 다수의 매직 메서드를 기본적으로 포함한다.\n",
    "하지만 클래스를 선언할 때 명시되지 않으면 기본으로 정의된 기능을 수행하며,\n",
    "이에 대해서는 이후에 다룰 것이다."
   ]
  },
  {
   "cell_type": "markdown",
   "metadata": {},
   "source": [
    "### `__init__` 메서드"
   ]
  },
  {
   "cell_type": "markdown",
   "metadata": {},
   "source": [
    "마치 함수를 호출하듯이 클래스 객체를 호출하면 해당 클래스의 새 인스턴스가 생성된다. \n",
    "예를 들어, 아래와 같이 Jane Doe라는 사람의 개인 정보를 담은 객체를 생성하여 \n",
    "`jDoe` 변수에 할당할수 있다."
   ]
  },
  {
   "cell_type": "code",
   "execution_count": 47,
   "metadata": {},
   "outputs": [],
   "source": [
    "jDoe = Person(\n",
    "    \"Jane\",\n",
    "    \"Doe\",\n",
    "    datetime.date(1992, 3, 12), # 년, 월, 일\n",
    "    \"No. 12 Short Street, Greenville\",\n",
    "    \"555 456 0987\",\n",
    "    \"jane.doe@example.com\"\n",
    "    )"
   ]
  },
  {
   "cell_type": "markdown",
   "metadata": {},
   "source": [
    "`클래스이름(인자1, ..., 인자n)` 형식을 이용하여 클래스를 호출하면\n",
    "해당 클래스의 `__init__` 함수가 지정된 인자들과 함께 호출된다.\n",
    "\n",
    "**주의:**\n",
    "`__init__` 함수를 **생성자**(constructor)라고도 부르지만 기술적으로 정확하지 않은 표현이며,\n",
    "**초기화 메서드**라고  부르는 것이 좋다. \n",
    "초기화를 위해 `Person` 클래스를 호출할 때 사용되는 인자들을 사용할 수 있다.\n",
    "실제로 `Person` 클래스의 `__init__` 함수는 생성된 객체 내부에서 사용될\n",
    "아래 변수들을 초기화하는 역할, 즉, 객체의 속성을 초기화하는 역할을 수행한다. \n",
    "\n",
    "```python\n",
    "self.name = name\n",
    "self.surname = surname\n",
    "self.birthdate = birthdate\n",
    "\n",
    "self.address = address\n",
    "self.telephone = telephone\n",
    "self.email = email\n",
    "```"
   ]
  },
  {
   "cell_type": "markdown",
   "metadata": {},
   "source": [
    "### `age` 메서드"
   ]
  },
  {
   "cell_type": "markdown",
   "metadata": {},
   "source": [
    "`age` 메서드는 입력된 생년월일과 현재 날짜를 사용하여 나이를 계산한다."
   ]
  },
  {
   "cell_type": "markdown",
   "metadata": {},
   "source": [
    "### `self` 변수"
   ]
  },
  {
   "cell_type": "markdown",
   "metadata": {},
   "source": [
    "`__init__`와 `age` 모두 첫째 매개변수로 `self`를 사용한다. \n",
    "하지만 `self`에 해당하는 인자를 사용하지 않는다.\n",
    "예를 들어, `jDoe` 객체를 생성할 때 `__init__`는 아래와 같이 `self`를 제외한 인자들을 이용하여 호출된다. \n",
    "\n",
    "```python\n",
    "__init__(\n",
    "    \"Jane\",\n",
    "    \"Doe\",\n",
    "    datetime.date(1992, 3, 12), # 년, 월, 일\n",
    "    \"No. 12 Short Street, Greenville\",\n",
    "    \"555 456 0987\",\n",
    "    \"jane.doe@example.com\"\n",
    "    )\n",
    "```\n",
    "\n",
    "이유는, `__init__` 함수가 호출될 때 이미 객체가 생성되어 있으며, \n",
    "그 객체가 자동으로 첫째 인자로 사용되기 때문이다. \n",
    "따라서 `age` 메서드의 경우 호출 될 때 아무런 인자도 사용하지 않는다.\n",
    "역시 이미 생성된 객체가 자동으로 인자로 사용되기 때문이다.\n",
    "\n",
    "**주의:**\n",
    "다른 많은 언어에서는 `self`와 같은 매개변수를 사용하지 않는다.\n",
    "따라서 해당 객체를 확인하거나 이용하려면 특별한 지정자를 활용해야 한다.\n",
    "매개변수 이름을 `self`가 아닌 다른 변수를 사용해도 되지만, \n",
    "관습적으로 `self`를 사용한다.\n",
    "\n",
    "위 `__init__` 함수는 입력된 인자들을 이용하여 생성된 객체의 \n",
    "속성을 지정한다. \n",
    "지정되는 속성과 `__init__` 함수의 매개변수 이름이 동일한 이름을\n",
    "동일하게 만들필요는 없지만 역시 관습적으로 그렇게 한다. \n",
    "다만, 객체의 속성을 담는 변수는 항상 다음과 같이 `self`와 점(`.`) 연산자로 \n",
    "구분되는 형식으로 사용되어야 한다. \n",
    "\n",
    "```python\n",
    "self.속성변수\n",
    "```"
   ]
  },
  {
   "cell_type": "markdown",
   "metadata": {},
   "source": [
    "### 제1종 객체: 인스턴스"
   ]
  },
  {
   "cell_type": "markdown",
   "metadata": {},
   "source": [
    "`birthdate` 매개변수에 의해 전달되는 값은 `datetime` 모듈에서 정의된\n",
    "`date` 클래스의 객체이다. \n",
    "즉, 크래스의 인스턴스는 변수 할당, 함수 호출, 리턴값 등에 사용될 수 있는\n",
    "제1종 객체이다. "
   ]
  },
  {
   "cell_type": "markdown",
   "metadata": {},
   "source": [
    "### 속성과 메서드 사용"
   ]
  },
  {
   "cell_type": "markdown",
   "metadata": {},
   "source": [
    "생성된 객체는 해당 객체의 속성과 메서드를 통해 활용된다.\n",
    "속성을 확인하고 메서드를 호출하는 방식은 다음과 같다.\n",
    "\n",
    "```\n",
    "객체이름.속성변수\n",
    "```\n",
    "\n",
    "또는\n",
    "\n",
    "```\n",
    "객체이름.메서드(인자1, ..., 인자k)\n",
    "```\n",
    "\n",
    "예를 들어 `jDoe`의 이름, 이메일주소에 해당하는 속성을 확인하려면 다음과 같이 실행한다. "
   ]
  },
  {
   "cell_type": "code",
   "execution_count": 50,
   "metadata": {},
   "outputs": [
    {
     "name": "stdout",
     "output_type": "stream",
     "text": [
      "Jane\n",
      "jane.doe@example.com\n"
     ]
    }
   ],
   "source": [
    "print(person.name)\n",
    "print(person.email)"
   ]
  },
  {
   "cell_type": "markdown",
   "metadata": {},
   "source": [
    "반면에 나이를 확인하려면 `age` 메서드를 아래와 같이 호출한다."
   ]
  },
  {
   "cell_type": "code",
   "execution_count": 51,
   "metadata": {},
   "outputs": [
    {
     "name": "stdout",
     "output_type": "stream",
     "text": [
      "28\n"
     ]
    }
   ],
   "source": [
    "print(person.age())"
   ]
  },
  {
   "cell_type": "markdown",
   "metadata": {},
   "source": [
    "### 연습문제 1"
   ]
  },
  {
   "cell_type": "markdown",
   "metadata": {},
   "source": [
    "다음 변수들의 역할과 활동영역(scope)을 설명할 수 있다.\n",
    "\n",
    "1. `Person`: 클래스 이름. 전역변수.\n",
    "1. `jDoe`: `Person` 클래스의 인스턴스 이름. 전역변수.\n",
    "1. `surname`: `__init__` 함수의 매개변수. \n",
    "    `__init__` 함수 본체에서만 사용되는 지역변수.\n",
    "1. `self`: 모든 메서드의 첫째 매개변수. \n",
    "    메서드가 호출될 경우 해당 객체로 대체됨. 지역변수.\n",
    "1. `age` (함수이름): `Person` 클래스의 메서드 이름. \n",
    "    `Person`클래스 내부에서만 사용되는 지역변수.\n",
    "1. `age` (`age` 함수 내부에서 선언된 변수)\n",
    "    `age` 메서드 내부에서만 사용되는 지역변수.\n",
    "1. `self.email`: 엄밀한 의미의 변수 아님. \n",
    "    `self` 가 가리키는 객체의 내부에서 선언된 속성변수 `email`을 가리키는 이름 역할 수행.\n",
    "1. `jDoe.email`: 이하 동일\n",
    "1. `self.age()`: 이하 동일\n",
    "1. `jDoe.age()`: 이하 동일"
   ]
  },
  {
   "cell_type": "markdown",
   "metadata": {},
   "source": [
    "## 인스턴스 속성과 클래스 속성"
   ]
  },
  {
   "cell_type": "code",
   "execution_count": null,
   "metadata": {},
   "outputs": [],
   "source": []
  },
  {
   "cell_type": "code",
   "execution_count": null,
   "metadata": {},
   "outputs": [],
   "source": []
  },
  {
   "cell_type": "code",
   "execution_count": null,
   "metadata": {},
   "outputs": [],
   "source": []
  },
  {
   "cell_type": "code",
   "execution_count": null,
   "metadata": {},
   "outputs": [],
   "source": []
  },
  {
   "cell_type": "code",
   "execution_count": null,
   "metadata": {},
   "outputs": [],
   "source": []
  },
  {
   "cell_type": "markdown",
   "metadata": {},
   "source": [
    "**주의:** \n",
    "아래 내용은 연습문제 2와 관련됨. 그때 추가하면 좋을 듯."
   ]
  },
  {
   "cell_type": "markdown",
   "metadata": {},
   "source": [
    "함수를 정의한다고해서 함수가 실행되는 것은 아닙니다. 클래스를 정의해도 아무것도 실행되지 않습니다. 단지 클래스에 대해 파이썬에게 알려줍니다. 파이썬은 정의 전체를 실행할 때까지 클래스가 정의되지 않으므로 동일한 클래스의 다른 메서드에서 메서드를 참조하거나 클래스의 메서드 내부에서 클래스를 참조 할 수 있습니다. 해당 메서드를 호출 할 때 전체 클래스가 확실히 정의됩니다."
   ]
  }
 ],
 "metadata": {
  "kernelspec": {
   "display_name": "Python 3",
   "language": "python",
   "name": "python3"
  },
  "language_info": {
   "codemirror_mode": {
    "name": "ipython",
    "version": 3
   },
   "file_extension": ".py",
   "mimetype": "text/x-python",
   "name": "python",
   "nbconvert_exporter": "python",
   "pygments_lexer": "ipython3",
   "version": "3.6.8"
  }
 },
 "nbformat": 4,
 "nbformat_minor": 2
}
