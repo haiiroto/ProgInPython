{
 "cells": [
  {
   "cell_type": "markdown",
   "metadata": {},
   "source": [
    "# 코드 추상화: 클래스와 객체 1부"
   ]
  },
  {
   "cell_type": "markdown",
   "metadata": {},
   "source": [
    "지금까지 코드 추상화와 관련하여 함수와 모듈 두 가지 프로그래밍 기본 요소를 다뤘다.\n",
    "여기서는 코드 추상화와 관련된 세번 째 프로그래밍 기본 요소인 클래스를 소개한다."
   ]
  },
  {
   "cell_type": "markdown",
   "metadata": {},
   "source": [
    "안내: [python-textbook.readthedocs.io의 Classes](https://python-textbok.readthedocs.io/en/1.0/Classes.html#) 내용을 요약 및 수정한 내용입니다."
   ]
  },
  {
   "cell_type": "markdown",
   "metadata": {},
   "source": [
    "## 클래스와 자료형"
   ]
  },
  {
   "cell_type": "markdown",
   "metadata": {},
   "source": [
    "**클래스**(class)는 서로 관련된 데이터와 \n",
    "해당 데이터를 다루는 함수들을 하나로 묶어 추상화하는 방법이다. \n",
    "클래스는 기본적으로 문자열, 정수 또는 리스트와 같은 자료형의 일종이다. \n",
    "`\"python\"`, `17`, `[1, 2, 3]`을 각각\n",
    "문자열, 정수, 리스트 자료형의 값이라 부르듯이\n",
    "특정 클래스의 값에 해당하는 대상을 정의할 수 있다.\n",
    "그런 대상을 해당 클래스의 **인스턴스**(instance)라 부른다. \n",
    "\n",
    "사실 파이썬에서 다루는 모든 대상은 특정 클래스의 인스턴스이다.\n",
    "예를 들어, `\"python\"`, `17`, `[1, 2, 3]` 각각은\n",
    "`str`, `int`, `list` 클래스의 인스턴스들이다. \n",
    "이와 같이, 특정 클래스의 인스턴스를 일반적으로 **객체**(object)라고 부른다.\n",
    "심지어 클래스 자체도 `type` 클래스의 인스턴스이다.\n",
    "특정 객체의 클래스, 즉, 자료형을 확인하려면 `type()` 함수를 활용한다.\n",
    "\n",
    "**주의:** 일부 다른 언어에서는 상황이 다르다.\n",
    "예를 들어, 자바 언어의 경우 정수, 부동소수점 등은 클래스와 아무 상관 없다. "
   ]
  },
  {
   "cell_type": "code",
   "execution_count": 1,
   "metadata": {},
   "outputs": [
    {
     "data": {
      "text/plain": [
       "type"
      ]
     },
     "execution_count": 1,
     "metadata": {},
     "output_type": "execute_result"
    }
   ],
   "source": [
    "type(str)"
   ]
  },
  {
   "cell_type": "code",
   "execution_count": 2,
   "metadata": {},
   "outputs": [
    {
     "data": {
      "text/plain": [
       "type"
      ]
     },
     "execution_count": 2,
     "metadata": {},
     "output_type": "execute_result"
    }
   ],
   "source": [
    "type(int)"
   ]
  },
  {
   "cell_type": "code",
   "execution_count": 3,
   "metadata": {},
   "outputs": [
    {
     "data": {
      "text/plain": [
       "type"
      ]
     },
     "execution_count": 3,
     "metadata": {},
     "output_type": "execute_result"
    }
   ],
   "source": [
    "type(list)"
   ]
  },
  {
   "cell_type": "markdown",
   "metadata": {},
   "source": [
    "## 속성과 메서드"
   ]
  },
  {
   "cell_type": "markdown",
   "metadata": {},
   "source": [
    "사용할 객체를 디자인할 때 어떤 속성의 데이터들을 사용할 것인지,\n",
    "그리고 그 값들을 어떻게 다룰 것인지 결정해야 한다. \n",
    "속성을 저장하는 변수를 **속성 변수** 또는 그냥 **속성**,\n",
    "속성을 다루는 함수를 **메서드**라고 부른다.\n",
    "\n",
    "예를 들어 문자열 `\"python\"`은 어떤 형식으로든 python이라는 단어를 속성으로 갖고 있어야 하며,\n",
    "`split`, `strip`, `find` 등 문자열 메서드에 의해 이용될 수 있다.\n",
    "반면에 `[1, 2, 3]`은 어떤 형식으로든 1, 2, 3을 속성으로 갖고 있어야 하며, \n",
    "`append`, `pop`, `sort` 등 리스트 메서드에 의해 이용될 수 있다."
   ]
  },
  {
   "cell_type": "markdown",
   "metadata": {},
   "source": [
    "## 클래스 정의와 사용법"
   ]
  },
  {
   "cell_type": "markdown",
   "metadata": {},
   "source": [
    "다음은 개인정보를 저장하는 간단한 사용자 정의 클래스를 소개한다."
   ]
  },
  {
   "cell_type": "code",
   "execution_count": 1,
   "metadata": {},
   "outputs": [],
   "source": [
    "import datetime # date 클래스 사용 목적\n",
    "\n",
    "class Person:\n",
    "\n",
    "    def __init__(self, name, surname, birthdate, address, telephone, email):\n",
    "        self.name = name\n",
    "        self.surname = surname\n",
    "        self.birthdate = birthdate\n",
    "\n",
    "        self.address = address\n",
    "        self.telephone = telephone\n",
    "        self.email = email\n",
    "\n",
    "    def age(self): # 나이 계산 함수\n",
    "        today = datetime.date.today()\n",
    "        age = today.year - self.birthdate.year\n",
    "\n",
    "        if today < datetime.date(today.year, self.birthdate.month, self.birthdate.day):\n",
    "            age -= 1\n",
    "\n",
    "        return age"
   ]
  },
  {
   "cell_type": "markdown",
   "metadata": {},
   "source": [
    "`class` 지정자와 클래스 이름 및 콜론으로 클래스 정의를 시작한다.\n",
    "클래스의 본문은 함수의 경우처럼 들여 쓴다. \n",
    "클래스 이름에 소괄호를 사용하여 상속할 부모 클래스들을 함수의 인자들처럼 나열하는 \n",
    "방식으로 명시할 수도 있다.\n",
    "\n",
    "```python\n",
    "class 클래스이름(부모클래스1, ..., 부모클래스n):\n",
    "    클래스본문\n",
    "```\n",
    "\n",
    "`Person` 클래스는 부모 클래스가 없으며, 부모 클래스가 없으면 괄호를 생략할 수 있다.\n",
    "부모 클래스와 상속 개념은 이후에 자세히 다룬다. "
   ]
  },
  {
   "cell_type": "markdown",
   "metadata": {},
   "source": [
    "### 매직 메서드와 사용자 정의 메서드"
   ]
  },
  {
   "cell_type": "markdown",
   "metadata": {},
   "source": [
    "`Person` 클래스 내부에는 `__init__`와 `age` 두 함수가 정의되어 있다.\n",
    "이 중에 `__init__` 함수는 특별한 메서드이며,\n",
    "이와같이 양끝이 밑줄 두 개로 감싸인 메서드를 **매직 메서드**(magic method)라 부른다.\n",
    "반면에 `age` 함수는 **사용자 정의 메서드**(user-defined method)이다.\n",
    "\n",
    "모든 클래스는 `__init__` 메서드 이외에 다수의 매직 메서드를 기본적으로 포함한다.\n",
    "하지만 클래스를 선언할 때 명시되지 않으면 기본으로 정의된 기능을 수행하며,\n",
    "이에 대해서는 \n",
    "[코드 추상화: 클래스와 객체 2부](https://github.com/liganega/ProgInPython/blob/master/notebooks/PiPy09-ClassesAndInstances_Part2.ipynb)에서\n",
    "다룰 것이다."
   ]
  },
  {
   "cell_type": "markdown",
   "metadata": {},
   "source": [
    "### 초기화 메서드"
   ]
  },
  {
   "cell_type": "markdown",
   "metadata": {},
   "source": [
    "마치 함수를 호출하듯이 클래스 객체를 호출하면 해당 클래스의 새 인스턴스가 생성된다. \n",
    "예를 들어, 아래와 같이 Jane Doe라는 사람의 개인 정보를 담은 객체를 생성하여 \n",
    "`jDoe` 변수에 할당할수 있다."
   ]
  },
  {
   "cell_type": "code",
   "execution_count": 5,
   "metadata": {},
   "outputs": [],
   "source": [
    "jDoe = Person(\n",
    "    \"Jane\",\n",
    "    \"Doe\",\n",
    "    datetime.date(1992, 3, 12), # 년, 월, 일\n",
    "    \"No. 12 Short Street, Greenville\",\n",
    "    \"555 456 0987\",\n",
    "    \"jane.doe@example.com\"\n",
    "    )"
   ]
  },
  {
   "cell_type": "markdown",
   "metadata": {},
   "source": [
    "`클래스이름(인자1, ..., 인자n)` 형식을 이용하여 클래스를 호출하면\n",
    "해당 클래스의 인스턴스가 생성된 후 바로\n",
    "해당 클래스의 `__init__` 함수가 지정된 인자들과 함께 호출된다.\n",
    "**클래스의 객체를 선언할 때 사용되는 인자는 따라서 `__init__` 함수 선언에서 사용된 \n",
    "매개변수에 해당하는 인자이어야 한다.**\n",
    "\n",
    "`__init__` 함수는 생성된 객체의 속성을 초기화 하는 일을 수행한다.\n",
    "이런 의미에서 **초기화 메서드**라고 불린다. \n",
    "\n",
    "**주의:**\n",
    "`__init__` 함수를 **생성자**(constructor)라고도 부르지만 기술적으로 정확하지 않은 표현이다. \n",
    "\n",
    "\n",
    "예를 들어, `jDoe` 객체가 생성되자 마자\n",
    "`__init__` 함수가 아래와 같이 호출된다. \n",
    "\n",
    "```python\n",
    "__init__(\n",
    "    \"Jane\",\n",
    "    \"Doe\",\n",
    "    datetime.date(1992, 3, 12), # 년, 월, 일\n",
    "    \"No. 12 Short Street, Greenville\",\n",
    "    \"555 456 0987\",\n",
    "    \"jane.doe@example.com\"\n",
    "    )\n",
    "```\n",
    "\n",
    "즉, Jane Doe의 개인정보를 `jDoe` 객체내부에 해당 속성에 저장한다. "
   ]
  },
  {
   "cell_type": "markdown",
   "metadata": {},
   "source": [
    "### `self` 매개변수"
   ]
  },
  {
   "cell_type": "markdown",
   "metadata": {},
   "source": [
    "#### `self`의 역할"
   ]
  },
  {
   "cell_type": "markdown",
   "metadata": {},
   "source": [
    "`__init__`와 `age` 메서드 모두 첫째 매개변수로 `self`를 사용한다. \n",
    "하지만 `self`에 해당하는 인자를 직접 요구하지는 않는다.\n",
    "예를 들어, `jDoe` 객체를 생성할 때 자동으로 호출되는\n",
    "`__init__` 메서드는 앞서 보았듯이 `self`를 제외한 인자들을 이용하여 호출된다. \n",
    "이유는, `__init__` 함수가 호출될 때 이미 객체가 생성되어 있으며, \n",
    "그 객체가 자동으로 첫째 인자로 사용되기 때문이다. \n",
    "`age` 메서드는 따라서 호출 될 때 아무런 인자도 사용하지 않는다.\n",
    "`self`에 대한 인자로 역시 이미 생성된 객체가 자동으로 입력되기 때문이다.\n",
    "예를 들어, `__init__` 함수가 실제로 호출되는 과정은 다음과 같다.\n",
    "\n",
    "```python\n",
    "__init__(\n",
    "    jDoe\n",
    "    \"Jane\",\n",
    "    \"Doe\",\n",
    "    datetime.date(1992, 3, 12), # 년, 월, 일\n",
    "    \"No. 12 Short Street, Greenville\",\n",
    "    \"555 456 0987\",\n",
    "    \"jane.doe@example.com\"\n",
    "    )\n",
    "```"
   ]
  },
  {
   "cell_type": "markdown",
   "metadata": {},
   "source": [
    "#### 속성 변수 선언"
   ]
  },
  {
   "cell_type": "markdown",
   "metadata": {},
   "source": [
    "`__init__` 함수의 매개변수 이름과 함수 본문에서 선언되는 속성 변수 이름이\n",
    "동일할 필요는 없지만 역시 관례적으로 그렇게 한다. \n",
    "다만, 속성 변수는 항상 다음과 같이 `self`와 점(`.`) 연산자로 \n",
    "구분되는 형식으로 사용되어야 한다. \n",
    "\n",
    "```python\n",
    "self.속성 변수\n",
    "```\n",
    "\n",
    "이 방식은 `__init__` 메서드에서 뿐만 아니라 모든 메서드 내부에서 선언 또는 사용되는\n",
    "속성 변수에 대해서 적용된다. \n",
    "\n",
    "**주의:**\n",
    "다른 많은 언어에서는 `self`와 같은 매개변수를 사용하지 않는다.\n",
    "따라서 해당 객체를 확인하거나 이용하려면 특별한 지정자를 활용해야 한다.\n",
    "매개변수 이름을 `self`가 아닌 다른 변수를 사용해도 되지만, \n",
    "관례적으로 `self`를 사용한다."
   ]
  },
  {
   "cell_type": "markdown",
   "metadata": {},
   "source": [
    "## 객체 활용"
   ]
  },
  {
   "cell_type": "markdown",
   "metadata": {},
   "source": [
    "`birthdate` 매개변수에 의해 전달되는 값은 `datetime` 모듈에서 정의된\n",
    "`date` 클래스의 인스턴스이다. \n",
    "즉, 모든 객체는 변수 할당, 함수 호출, 리턴값 등에 사용될 수 있는\n",
    "제1종 객체이다. "
   ]
  },
  {
   "cell_type": "markdown",
   "metadata": {},
   "source": [
    "### 속성과 메서드 사용"
   ]
  },
  {
   "cell_type": "markdown",
   "metadata": {},
   "source": [
    "생성된 객체는 해당 객체의 속성과 메서드를 통해 활용된다.\n",
    "속성을 확인하고 메서드를 호출하는 방식은 다음과 같다.\n",
    "\n",
    "```\n",
    "객체이름.속성 변수\n",
    "```\n",
    "\n",
    "또는\n",
    "\n",
    "```\n",
    "객체이름.메서드(인자1, ..., 인자k)\n",
    "```\n",
    "\n",
    "예를 들어 `jDoe`의 이름, 이메일 주소에 해당하는 속성을 확인하려면 다음과 같이 실행한다. "
   ]
  },
  {
   "cell_type": "code",
   "execution_count": 6,
   "metadata": {},
   "outputs": [
    {
     "name": "stdout",
     "output_type": "stream",
     "text": [
      "Jane\n",
      "jane.doe@example.com\n"
     ]
    }
   ],
   "source": [
    "print(jDoe.name)\n",
    "print(jDoe.email)"
   ]
  },
  {
   "cell_type": "markdown",
   "metadata": {},
   "source": [
    "반면에 나이를 확인하려면 `age` 메서드를 아래와 같이 호출한다."
   ]
  },
  {
   "cell_type": "code",
   "execution_count": 7,
   "metadata": {},
   "outputs": [
    {
     "name": "stdout",
     "output_type": "stream",
     "text": [
      "28\n"
     ]
    }
   ],
   "source": [
    "print(jDoe.age())"
   ]
  },
  {
   "cell_type": "markdown",
   "metadata": {},
   "source": [
    "#### PythonTutor 활용 1"
   ]
  },
  {
   "cell_type": "markdown",
   "metadata": {},
   "source": [
    "지금까지의 설명을 \n",
    "[PythonTutor: Person 클래스 1](http://pythontutor.com/visualize.html#code=import%20datetime%20%23%20date%20%EA%B0%9D%EC%B2%B4%20%EC%82%AC%EC%9A%A9%20%EB%AA%A9%EC%A0%81%0A%0Aclass%20Person%3A%0A%0A%20%20%20%20def%20__init__%28self,%20name,%20surname,%20birthdate,%20address,%20telephone,%20email%29%3A%0A%20%20%20%20%20%20%20%20self.name%20%3D%20name%0A%20%20%20%20%20%20%20%20self.surname%20%3D%20surname%0A%20%20%20%20%20%20%20%20self.birthdate%20%3D%20birthdate%0A%0A%20%20%20%20%20%20%20%20self.address%20%3D%20address%0A%20%20%20%20%20%20%20%20self.telephone%20%3D%20telephone%0A%20%20%20%20%20%20%20%20self.email%20%3D%20email%0A%0A%20%20%20%20def%20age%28self%29%3A%20%23%20%EB%82%98%EC%9D%B4%20%EA%B3%84%EC%82%B0%20%ED%95%A8%EC%88%98%0A%20%20%20%20%20%20%20%20today%20%3D%20datetime.date.today%28%29%0A%20%20%20%20%20%20%20%20age%20%3D%20today.year%20-%20self.birthdate.year%0A%0A%20%20%20%20%20%20%20%20if%20today%20%3C%20datetime.date%28today.year,%20self.birthdate.month,%20self.birthdate.day%29%3A%0A%20%20%20%20%20%20%20%20%20%20%20%20age%20-%3D%201%0A%0A%20%20%20%20%20%20%20%20return%20age%0A%0AjDoe%20%3D%20Person%28%0A%20%20%20%20%22Jane%22,%0A%20%20%20%20%22Doe%22,%0A%20%20%20%20datetime.date%281992,%203,%2012%29,%20%23%20%EB%85%84,%20%EC%9B%94,%20%EC%9D%BC%0A%20%20%20%20%22No.%2012%20Short%20Street,%20Greenville%22,%0A%20%20%20%20%22555%20456%200987%22,%0A%20%20%20%20%22jane.doe%40example.com%22%0A%20%20%20%20%29%0A%20%20%20%20%0Aprint%28jDoe.name%29%0Aprint%28jDoe.age%28%29%29&cumulative=false&curInstr=0&heapPrimitives=nevernest&mode=display&origin=opt-frontend.js&py=3&rawInputLstJSON=%5B%5D&textReferences=false)에서\n",
    "코드를 실행하면서 확인할 수 있다."
   ]
  },
  {
   "cell_type": "markdown",
   "metadata": {},
   "source": [
    "### 연습 1"
   ]
  },
  {
   "cell_type": "markdown",
   "metadata": {},
   "source": [
    "다음 변수들의 역할과 활동영역(scope)을 설명하라.\n",
    "\n",
    "1. `Person`\n",
    "1. `jDoe`\n",
    "1. `surname`\n",
    "1. `self`\n",
    "1. `age` (함수이름)\n",
    "1. `age` (`age` 함수 내부에서 선언된 변수)\n",
    "1. `self.email`\n",
    "1. `jDoe.email`\n",
    "1. `self.age()`\n",
    "1. `jDoe.age()`"
   ]
  },
  {
   "cell_type": "markdown",
   "metadata": {},
   "source": [
    "#### 모범답안"
   ]
  },
  {
   "cell_type": "markdown",
   "metadata": {},
   "source": [
    "1. `Person`: 클래스 이름. 전역변수.\n",
    "1. `jDoe`: `Person` 클래스의 인스턴스 이름. 전역변수.\n",
    "1. `surname`: `__init__` 함수의 매개변수. \n",
    "    `__init__` 함수 본체에서만 사용되는 지역변수.\n",
    "1. `self`: 모든 메서드의 첫째 매개변수. \n",
    "    메서드가 호출될 경우 해당 객체로 대체됨. 지역변수.\n",
    "1. `age` (함수이름): `Person` 클래스의 메서드 이름. \n",
    "    `Person`클래스 내부에서만 사용되는 지역변수.\n",
    "1. `age` (`age` 함수 내부에서 선언된 변수)\n",
    "    `age` 메서드 내부에서만 사용되는 지역변수.\n",
    "1. `self.email`: 엄밀한 의미의 변수 아님. \n",
    "    `self` 가 가리키는 객체의 내부에서 선언된 속성 변수 `email`을 가리키는 이름 역할 수행.\n",
    "1. `jDoe.email`: 이하 동일\n",
    "1. `self.age()`: 이하 동일\n",
    "1. `jDoe.age()`: 이하 동일"
   ]
  },
  {
   "cell_type": "markdown",
   "metadata": {},
   "source": [
    "## 인스턴스 속성"
   ]
  },
  {
   "cell_type": "markdown",
   "metadata": {},
   "source": [
    "클래스의 속성은 인스턴스 속성과 클래스 속성 두 종류로 나뉜다. \n",
    "먼저 인스턴스 속성을 설명하고 이후에 클래스 속성을 다룬다. \n",
    "\n",
    "`self.name` 등 메서드 내부에서 선언되는 변수를 **인스턴스 속성 변수** 또는 **인스턴스 속성**이라 부른다. \n",
    "예를 들어, 아래 `age` 메서드를 아래와 같이 수정하면 `age` 메서드가 \n",
    "호출될 때 `_age`라는 인스턴스 속성이 선언된다."
   ]
  },
  {
   "cell_type": "code",
   "execution_count": 8,
   "metadata": {},
   "outputs": [],
   "source": [
    "import datetime\n",
    "\n",
    "class Person:\n",
    "\n",
    "    def __init__(self, name, surname, birthdate, address, telephone, email):\n",
    "        self.name = name\n",
    "        self.surname = surname\n",
    "        self.birthdate = birthdate\n",
    "\n",
    "        self.address = address\n",
    "        self.telephone = telephone\n",
    "        self.email = email\n",
    "\n",
    "    def age(self):\n",
    "        if hasattr(self, \"_age\"):   # _age 속성의 존재 여부 확인\n",
    "            return self._age\n",
    "\n",
    "        today = datetime.date.today()\n",
    "        age = today.year - self.birthdate.year\n",
    "\n",
    "        if today < datetime.date(today.year, self.birthdate.month, self.birthdate.day):\n",
    "            age -= 1\n",
    "\n",
    "        self._age = age\n",
    "        return age\n",
    "    \n",
    "jDoe = Person(\n",
    "    \"Jane\",\n",
    "    \"Doe\",\n",
    "    datetime.date(1992, 3, 12), # 년, 월, 일\n",
    "    \"No. 12 Short Street, Greenville\",\n",
    "    \"555 456 0987\",\n",
    "    \"jane.doe@example.com\"\n",
    "    )    \n",
    "\n",
    "dScotty = Person(\n",
    "    \"Dana\",\n",
    "    \"Scotty\",\n",
    "    datetime.date(1970, 5, 22), # 년, 월, 일\n",
    "    \"No. 2 Long Street, Bluecity\",\n",
    "    \"444 654 0135\",\n",
    "    \"dana.scotty@example.com\"\n",
    "    )    "
   ]
  },
  {
   "cell_type": "markdown",
   "metadata": {},
   "source": [
    "### 인스턴스 속성 추가"
   ]
  },
  {
   "cell_type": "markdown",
   "metadata": {},
   "source": [
    "이미 생성된 객체에서 독립적으로 새로운 속성과 새로운 메서드를 추가할 수 있다. \n",
    "\n",
    "**주의:** C++ 등 일부 언어에서는 클래스를 정의할 때, 미리 객체 속성 목록을 지정해야 하며, \n",
    "나중에 객체에 새 속성을 추가하지 못할 수 있다. \n",
    "\n",
    "예를 들어, `Person` 클래스에는 애완동물 관련 속성을 저장하는 `pets` 인스턴스 변수가 없다.\n",
    "따라서 `jDoe` 역시 애완동물 속성을 갖지 못한다."
   ]
  },
  {
   "cell_type": "code",
   "execution_count": 9,
   "metadata": {},
   "outputs": [
    {
     "ename": "AttributeError",
     "evalue": "'Person' object has no attribute 'pets'",
     "output_type": "error",
     "traceback": [
      "\u001b[0;31m---------------------------------------------------------------------------\u001b[0m",
      "\u001b[0;31mAttributeError\u001b[0m                            Traceback (most recent call last)",
      "\u001b[0;32m<ipython-input-9-da569883283f>\u001b[0m in \u001b[0;36m<module>\u001b[0;34m\u001b[0m\n\u001b[0;32m----> 1\u001b[0;31m \u001b[0mjDoe\u001b[0m\u001b[0;34m.\u001b[0m\u001b[0mpets\u001b[0m\u001b[0;34m\u001b[0m\u001b[0;34m\u001b[0m\u001b[0m\n\u001b[0m",
      "\u001b[0;31mAttributeError\u001b[0m: 'Person' object has no attribute 'pets'"
     ]
    }
   ],
   "source": [
    "jDoe.pets"
   ]
  },
  {
   "cell_type": "markdown",
   "metadata": {},
   "source": [
    "하지만 `jDoe` 스스로 애완동물 속성을 추가할 수 있다."
   ]
  },
  {
   "cell_type": "code",
   "execution_count": 10,
   "metadata": {},
   "outputs": [],
   "source": [
    "jDoe.pets = ['고양이', '고양이', '강아지']"
   ]
  },
  {
   "cell_type": "code",
   "execution_count": 11,
   "metadata": {},
   "outputs": [
    {
     "data": {
      "text/plain": [
       "['고양이', '고양이', '강아지']"
      ]
     },
     "execution_count": 11,
     "metadata": {},
     "output_type": "execute_result"
    }
   ],
   "source": [
    "jDoe.pets"
   ]
  },
  {
   "cell_type": "markdown",
   "metadata": {},
   "source": [
    "하지만 애완동물 속성을 jDoe만 갖는다.\n",
    "예를 들어, `Person` 클래스의 다른 인스턴스는 여전히 애완동물 속성을 갖지 않는다."
   ]
  },
  {
   "cell_type": "code",
   "execution_count": 12,
   "metadata": {},
   "outputs": [
    {
     "ename": "AttributeError",
     "evalue": "'Person' object has no attribute 'pets'",
     "output_type": "error",
     "traceback": [
      "\u001b[0;31m---------------------------------------------------------------------------\u001b[0m",
      "\u001b[0;31mAttributeError\u001b[0m                            Traceback (most recent call last)",
      "\u001b[0;32m<ipython-input-12-53db20e7dd9c>\u001b[0m in \u001b[0;36m<module>\u001b[0;34m\u001b[0m\n\u001b[0;32m----> 1\u001b[0;31m \u001b[0mdScotty\u001b[0m\u001b[0;34m.\u001b[0m\u001b[0mpets\u001b[0m\u001b[0;34m\u001b[0m\u001b[0;34m\u001b[0m\u001b[0m\n\u001b[0m",
      "\u001b[0;31mAttributeError\u001b[0m: 'Person' object has no attribute 'pets'"
     ]
    }
   ],
   "source": [
    "dScotty.pets"
   ]
  },
  {
   "cell_type": "markdown",
   "metadata": {},
   "source": [
    "### 숨겨진 속성과 메서드"
   ]
  },
  {
   "cell_type": "markdown",
   "metadata": {},
   "source": [
    "밑줄로 시작하는 속성 또는 메서드의 이름은 일반적으로 클래스 외부로 알려지면 안되는 것들을 가리킨다. \n",
    "또한 `_age` 속성의 경우, 먼저 `age` 메서드가 최소 한 번 실행되어야 선언되기 때문에 \n",
    "임의로 사용하다보면 오류가 발생할 수 있다. "
   ]
  },
  {
   "cell_type": "code",
   "execution_count": 13,
   "metadata": {},
   "outputs": [
    {
     "ename": "AttributeError",
     "evalue": "'Person' object has no attribute '_age'",
     "output_type": "error",
     "traceback": [
      "\u001b[0;31m---------------------------------------------------------------------------\u001b[0m",
      "\u001b[0;31mAttributeError\u001b[0m                            Traceback (most recent call last)",
      "\u001b[0;32m<ipython-input-13-01cf54fb661e>\u001b[0m in \u001b[0;36m<module>\u001b[0;34m\u001b[0m\n\u001b[0;32m----> 1\u001b[0;31m \u001b[0mjDoe\u001b[0m\u001b[0;34m.\u001b[0m\u001b[0m_age\u001b[0m\u001b[0;34m\u001b[0m\u001b[0;34m\u001b[0m\u001b[0m\n\u001b[0m",
      "\u001b[0;31mAttributeError\u001b[0m: 'Person' object has no attribute '_age'"
     ]
    }
   ],
   "source": [
    "jDoe._age"
   ]
  },
  {
   "cell_type": "markdown",
   "metadata": {},
   "source": [
    "`age` 함수를 먼저 호출해야 한다."
   ]
  },
  {
   "cell_type": "code",
   "execution_count": 14,
   "metadata": {},
   "outputs": [
    {
     "data": {
      "text/plain": [
       "28"
      ]
     },
     "execution_count": 14,
     "metadata": {},
     "output_type": "execute_result"
    }
   ],
   "source": [
    "jDoe.age()"
   ]
  },
  {
   "cell_type": "markdown",
   "metadata": {},
   "source": [
    "이제 `_age`에 저장된 속성을 확인할 수 있다."
   ]
  },
  {
   "cell_type": "code",
   "execution_count": 15,
   "metadata": {},
   "outputs": [
    {
     "data": {
      "text/plain": [
       "28"
      ]
     },
     "execution_count": 15,
     "metadata": {},
     "output_type": "execute_result"
    }
   ],
   "source": [
    "jDoe._age"
   ]
  },
  {
   "cell_type": "markdown",
   "metadata": {},
   "source": [
    "따라서 `jDoe`의 나이를 확인하기 위해서는 `age` 메서드를 호출하도록 하는 게 좋다.\n",
    "즉, `_age` 인스턴스 변수는 외부에 노출하지 않고, 대신에 `age` 메서드를 사용하도록 권장해야 한다."
   ]
  },
  {
   "cell_type": "markdown",
   "metadata": {},
   "source": [
    "### 초기화 권장 사항"
   ]
  },
  {
   "cell_type": "markdown",
   "metadata": {},
   "source": [
    "객체에서 사용되는 속성들은 초기화 과정에서 모두 선언하는 것이 좋다.\n",
    "그렇지 않으면 앞서 `pets`와 `_age` 속성의 경우에서 보았듯이 오류가 발생할 확률이 높아진다.\n",
    "\n",
    "객체가 생성되면 바로 `__init__` 메서드가 실행되기 때문에,\n",
    "생성되는 객체와 관련된 모든 속성을 \n",
    "`__init__` 메서드 실행과정에서\n",
    "초기화되도록 하는 것이 좋다. \n",
    "예를 들어, 차라리 `pets`와 `_age`의 속성값을 아래와 같이 일단 비워두더라도\n",
    "`__init__` 메서드 본문에서 선언하는 것이 좋다."
   ]
  },
  {
   "cell_type": "code",
   "execution_count": 16,
   "metadata": {},
   "outputs": [],
   "source": [
    "import datetime\n",
    "\n",
    "class Person:\n",
    "\n",
    "    def __init__(self, name, surname, birthdate, address, telephone, email):\n",
    "        self.name = name\n",
    "        self.surname = surname\n",
    "        self.birthdate = birthdate\n",
    "\n",
    "        self.address = address\n",
    "        self.telephone = telephone\n",
    "        self.email = email\n",
    "        \n",
    "        self.pets = None   # 비워두기\n",
    "        self._age = None    # 비워두기\n",
    "\n",
    "    def age(self):\n",
    "        if hasattr(self, \"_age\"):   # _age 속성의 존재 여부 확인\n",
    "            return self._age\n",
    "\n",
    "        today = datetime.date.today()\n",
    "        age = today.year - self.birthdate.year\n",
    "\n",
    "        if today < datetime.date(today.year, self.birthdate.month, self.birthdate.day):\n",
    "            age -= 1\n",
    "\n",
    "        self._age = age\n",
    "        return age\n",
    "    \n",
    "jDoe = Person(\n",
    "    \"Jane\",\n",
    "    \"Doe\",\n",
    "    datetime.date(1992, 3, 12), # 년, 월, 일\n",
    "    \"No. 12 Short Street, Greenville\",\n",
    "    \"555 456 0987\",\n",
    "    \"jane.doe@example.com\"\n",
    "    )    \n",
    "\n",
    "dScotty = Person(\n",
    "    \"Dana\",\n",
    "    \"Scotty\",\n",
    "    datetime.date(1970, 5, 22), # 년, 월, 일\n",
    "    \"No. 2 Long Street, Bluecity\",\n",
    "    \"444 654 0135\",\n",
    "    \"dana.scotty@example.com\"\n",
    "    )    "
   ]
  },
  {
   "cell_type": "markdown",
   "metadata": {},
   "source": [
    "이제 `jDoe`에서만 왜완동물을 추가해도 `dScotty`에서 애완동물을 확인할 때 오류가\n",
    "발생하지 않는다."
   ]
  },
  {
   "cell_type": "code",
   "execution_count": 17,
   "metadata": {},
   "outputs": [],
   "source": [
    "jDoe.pets = ['고양이', '고양이', '강아지']"
   ]
  },
  {
   "cell_type": "code",
   "execution_count": 18,
   "metadata": {},
   "outputs": [],
   "source": [
    "dScotty.pets # None 값이라 출력되지 않는다. "
   ]
  },
  {
   "cell_type": "markdown",
   "metadata": {},
   "source": [
    "`_age` 역시 `age` 메서드를 실행하지 않아도 오류를 발생시키지 않는다. \n",
    "물론 아래와 같은 식으로 `_age` 속성을 확인하는 것은 피해야 한다."
   ]
  },
  {
   "cell_type": "code",
   "execution_count": 19,
   "metadata": {},
   "outputs": [],
   "source": [
    "dScotty._age"
   ]
  },
  {
   "cell_type": "markdown",
   "metadata": {},
   "source": [
    "### 인스턴스 속성 관련 내장 함수: `getattr`, `setattr`, `hasattr`"
   ]
  },
  {
   "cell_type": "markdown",
   "metadata": {},
   "source": [
    "파이썬은 인스턴스의 속성을 확인하거나 지정하는 세 개의 내장 함수를 지원한다. "
   ]
  },
  {
   "cell_type": "markdown",
   "metadata": {},
   "source": [
    "#### `getattr` 함수"
   ]
  },
  {
   "cell_type": "markdown",
   "metadata": {},
   "source": [
    "특정 객체의 특정 속성값을 확인해줄 때 사용하는 함수이다. \n",
    "예를 들어, `jDoe`의 `pets` 속성값을 다음과 같이 확인한다."
   ]
  },
  {
   "cell_type": "code",
   "execution_count": 20,
   "metadata": {},
   "outputs": [
    {
     "data": {
      "text/plain": [
       "['고양이', '고양이', '강아지']"
      ]
     },
     "execution_count": 20,
     "metadata": {},
     "output_type": "execute_result"
    }
   ],
   "source": [
    "getattr(jDoe, \"pets\")"
   ]
  },
  {
   "cell_type": "markdown",
   "metadata": {},
   "source": [
    "물론 아래와 같이 하는 게 보다 편하다."
   ]
  },
  {
   "cell_type": "code",
   "execution_count": 21,
   "metadata": {},
   "outputs": [
    {
     "data": {
      "text/plain": [
       "['고양이', '고양이', '강아지']"
      ]
     },
     "execution_count": 21,
     "metadata": {},
     "output_type": "execute_result"
    }
   ],
   "source": [
    "jDoe.pets"
   ]
  },
  {
   "cell_type": "markdown",
   "metadata": {},
   "source": [
    "하지만 특정 속성이 존재하지 않을 경우를 대비해야 할 때 `getattr`이 유용하다.\n",
    "예를 들어, 취미 속성인 `hobbies`가 선언되어 있지 않을 경우 \n",
    "아래와 같이 확인할 수 있다."
   ]
  },
  {
   "cell_type": "code",
   "execution_count": 22,
   "metadata": {},
   "outputs": [
    {
     "data": {
      "text/plain": [
       "'해당사항 없음'"
      ]
     },
     "execution_count": 22,
     "metadata": {},
     "output_type": "execute_result"
    }
   ],
   "source": [
    "getattr(jDoe, \"hobbies\", \"해당사항 없음\")"
   ]
  },
  {
   "cell_type": "markdown",
   "metadata": {},
   "source": [
    "또한 아래와 같이 여러 개의 속성에 대해 반복문 등을 작성할 때는 반드시 `getattr`을 사용해야 한다."
   ]
  },
  {
   "cell_type": "code",
   "execution_count": 23,
   "metadata": {},
   "outputs": [
    {
     "name": "stdout",
     "output_type": "stream",
     "text": [
      "['고양이', '고양이', '강아지']\n",
      "None\n"
     ]
    }
   ],
   "source": [
    "for attr in [\"pets\", \"_age\"]:\n",
    "    print(getattr(jDoe, attr))"
   ]
  },
  {
   "cell_type": "markdown",
   "metadata": {},
   "source": [
    "심지어 다음과 같이 활용할 수 있다."
   ]
  },
  {
   "cell_type": "code",
   "execution_count": 24,
   "metadata": {},
   "outputs": [
    {
     "name": "stdout",
     "output_type": "stream",
     "text": [
      "['고양이', '고양이', '강아지']\n",
      "None\n",
      "해당사항 없음.\n"
     ]
    }
   ],
   "source": [
    "for attr in [\"pets\", \"_age\", \"hobbies\"]:\n",
    "    print(getattr(jDoe, attr, \"해당사항 없음.\"))"
   ]
  },
  {
   "cell_type": "markdown",
   "metadata": {},
   "source": [
    "하지만 아래와 같이 작성하는 것은 불가능하다.\n",
    "이유는 변수를 `객체이름.변수` 형식으로 사용할 수 없기 때문이다. "
   ]
  },
  {
   "cell_type": "code",
   "execution_count": 25,
   "metadata": {},
   "outputs": [
    {
     "ename": "AttributeError",
     "evalue": "'Person' object has no attribute 'attr'",
     "output_type": "error",
     "traceback": [
      "\u001b[0;31m---------------------------------------------------------------------------\u001b[0m",
      "\u001b[0;31mAttributeError\u001b[0m                            Traceback (most recent call last)",
      "\u001b[0;32m<ipython-input-25-03a1d20e76e8>\u001b[0m in \u001b[0;36m<module>\u001b[0;34m\u001b[0m\n\u001b[1;32m      1\u001b[0m \u001b[0;32mfor\u001b[0m \u001b[0mattr\u001b[0m \u001b[0;32min\u001b[0m \u001b[0;34m[\u001b[0m\u001b[0;34m\"pets\"\u001b[0m\u001b[0;34m,\u001b[0m \u001b[0;34m\"_age\"\u001b[0m\u001b[0;34m]\u001b[0m\u001b[0;34m:\u001b[0m\u001b[0;34m\u001b[0m\u001b[0;34m\u001b[0m\u001b[0m\n\u001b[0;32m----> 2\u001b[0;31m     \u001b[0mprint\u001b[0m\u001b[0;34m(\u001b[0m\u001b[0mjDoe\u001b[0m\u001b[0;34m.\u001b[0m\u001b[0mattr\u001b[0m\u001b[0;34m)\u001b[0m\u001b[0;34m\u001b[0m\u001b[0;34m\u001b[0m\u001b[0m\n\u001b[0m",
      "\u001b[0;31mAttributeError\u001b[0m: 'Person' object has no attribute 'attr'"
     ]
    }
   ],
   "source": [
    "for attr in [\"pets\", \"_age\"]:\n",
    "    print(jDoe.attr)"
   ]
  },
  {
   "cell_type": "markdown",
   "metadata": {},
   "source": [
    "#### `setattr` 함수"
   ]
  },
  {
   "cell_type": "markdown",
   "metadata": {},
   "source": [
    "`setattr` 함수는 객체의 속성을 지정할 때 사용한다. \n",
    "예를 들어, `dScotty`의 애완동물 속성을 지정하려면 다음과 같이 한다. "
   ]
  },
  {
   "cell_type": "code",
   "execution_count": 26,
   "metadata": {},
   "outputs": [],
   "source": [
    "dScotty.pets"
   ]
  },
  {
   "cell_type": "code",
   "execution_count": 27,
   "metadata": {},
   "outputs": [],
   "source": [
    "setattr(dScotty, 'pets', ['고양이', '강아지'])"
   ]
  },
  {
   "cell_type": "code",
   "execution_count": 28,
   "metadata": {},
   "outputs": [
    {
     "data": {
      "text/plain": [
       "['고양이', '강아지']"
      ]
     },
     "execution_count": 28,
     "metadata": {},
     "output_type": "execute_result"
    }
   ],
   "source": [
    "dScotty.pets"
   ]
  },
  {
   "cell_type": "markdown",
   "metadata": {},
   "source": [
    "물론 아래와 같이 직접 지정할 수 있다."
   ]
  },
  {
   "cell_type": "code",
   "execution_count": 29,
   "metadata": {},
   "outputs": [],
   "source": [
    "dScotty.pets = ['흰고양이', '강아지', '검은고양이']"
   ]
  },
  {
   "cell_type": "code",
   "execution_count": 30,
   "metadata": {},
   "outputs": [
    {
     "data": {
      "text/plain": [
       "['흰고양이', '강아지', '검은고양이']"
      ]
     },
     "execution_count": 30,
     "metadata": {},
     "output_type": "execute_result"
    }
   ],
   "source": [
    "dScotty.pets"
   ]
  },
  {
   "cell_type": "markdown",
   "metadata": {},
   "source": [
    "새로운 속성을 지정할 수도 있다. \n",
    "예를 들어, 원래 없었던 취미 속성 `hobbies`를 아래와 같이 추가할 수도 있다."
   ]
  },
  {
   "cell_type": "code",
   "execution_count": 31,
   "metadata": {},
   "outputs": [],
   "source": [
    "setattr(dScotty, 'hobbies', ['테니스', '배드민턴'])"
   ]
  },
  {
   "cell_type": "code",
   "execution_count": 32,
   "metadata": {},
   "outputs": [
    {
     "data": {
      "text/plain": [
       "['테니스', '배드민턴']"
      ]
     },
     "execution_count": 32,
     "metadata": {},
     "output_type": "execute_result"
    }
   ],
   "source": [
    "dScotty.hobbies"
   ]
  },
  {
   "cell_type": "markdown",
   "metadata": {},
   "source": [
    "`setattr` 또한 `for` 반복문과 함께 사용될 수 있다. "
   ]
  },
  {
   "cell_type": "code",
   "execution_count": 33,
   "metadata": {},
   "outputs": [],
   "source": [
    "mydict = {'a': 10, 'b': 20, 'c':30}\n",
    "\n",
    "for attr in ['a', 'b', 'c']:\n",
    "    setattr(dScotty, attr, mydict[attr])"
   ]
  },
  {
   "cell_type": "markdown",
   "metadata": {},
   "source": [
    "`dScotty`에 추가된 세 개의 속성 `a`, `b`, `c`의 값을 다음과 같이 확인할 수 있다.\n",
    "\n",
    "**주의:** f-문자열과 r-문자열의 혼합사용에 주의하라."
   ]
  },
  {
   "cell_type": "code",
   "execution_count": 34,
   "metadata": {},
   "outputs": [
    {
     "name": "stdout",
     "output_type": "stream",
     "text": [
      "'a' : 10\n",
      "'b' : 20\n",
      "'c' : 30\n"
     ]
    }
   ],
   "source": [
    "for attr in ['a', 'b', 'c']:\n",
    "    print(fr\"'{attr}' : {getattr(dScotty, attr, mydict[attr])}\")"
   ]
  },
  {
   "cell_type": "markdown",
   "metadata": {},
   "source": [
    "#### `hasattr` 함수"
   ]
  },
  {
   "cell_type": "markdown",
   "metadata": {},
   "source": [
    "`age` 메서드의 정의에서 보았듯이 `hasattr` 함수는 특정 객체가 특정 속성을 가지고 있는지 여부를 판단한다. \n",
    "예를 들어, `dScotty` 객체는 `a` 속성을 갖지만 `d` 속성은 갖지 않는다. "
   ]
  },
  {
   "cell_type": "code",
   "execution_count": 35,
   "metadata": {},
   "outputs": [
    {
     "data": {
      "text/plain": [
       "True"
      ]
     },
     "execution_count": 35,
     "metadata": {},
     "output_type": "execute_result"
    }
   ],
   "source": [
    "hasattr(dScotty, 'a')"
   ]
  },
  {
   "cell_type": "code",
   "execution_count": 36,
   "metadata": {},
   "outputs": [
    {
     "data": {
      "text/plain": [
       "False"
      ]
     },
     "execution_count": 36,
     "metadata": {},
     "output_type": "execute_result"
    }
   ],
   "source": [
    "hasattr(dScotty, 'd')"
   ]
  },
  {
   "cell_type": "markdown",
   "metadata": {},
   "source": [
    "### 연습 2"
   ]
  },
  {
   "cell_type": "markdown",
   "metadata": {},
   "source": [
    "`Person` 클래스를 다음 조건을 만족하도록 수정하라.\n",
    "\n",
    "* 객체가 생성될 때 바로 객체의 나이를 계산한다. \n",
    "* `age` 메서드를 호출했을 때, 마지막으로 나이 계산한 후부터 하루 이상 지났을 경우 새롭게 나이를 계산한다."
   ]
  },
  {
   "cell_type": "markdown",
   "metadata": {},
   "source": [
    "#### 모범답안"
   ]
  },
  {
   "cell_type": "code",
   "execution_count": 37,
   "metadata": {},
   "outputs": [],
   "source": [
    "import datetime\n",
    "\n",
    "class Person:\n",
    "\n",
    "    def __init__(self, name, surname, birthdate, address, telephone, email):\n",
    "        self.name = name\n",
    "        self.surname = surname\n",
    "        self.birthdate = birthdate\n",
    "\n",
    "        self.address = address\n",
    "        self.telephone = telephone\n",
    "        self.email = email\n",
    "\n",
    "        self._age = None\n",
    "        self._age_last_recalculated = None\n",
    "\n",
    "        self._recalculate_age()              # 나이 확인\n",
    "\n",
    "    def _recalculate_age(self):              # 나이 계산 함수\n",
    "        today = datetime.date.today()\n",
    "        age = today.year - self.birthdate.year\n",
    "\n",
    "        if today < datetime.date(today.year, self.birthdate.month, self.birthdate.day):\n",
    "            age -= 1\n",
    "\n",
    "        self._age = age\n",
    "        self._age_last_recalculated = today   # 마지막 나이 확인 날짜 기억하기\n",
    "\n",
    "    def age(self):\n",
    "        if (datetime.date.today() > self._age_last_recalculated):\n",
    "            self._recalculate_age()\n",
    "\n",
    "        return self._age"
   ]
  },
  {
   "cell_type": "markdown",
   "metadata": {},
   "source": [
    "#### 주의사항"
   ]
  },
  {
   "cell_type": "markdown",
   "metadata": {},
   "source": [
    "함수를 정의한다고해서 바로 함수가 실행되는 것은 아니듯이,\n",
    "클래스 또한 선언된 후 아무 것도 실행하지 않는다. \n",
    "다만 클래스가 선언되었다는 것을 파이썬이 알게되는 것 뿐이다. \n",
    "따라서 클래스 내부에서 속성이나 메서드를 선언할 때 \n",
    "다른 속성이나 메서드를 활용할 수 있다. \n",
    "\n",
    "예를 들어, `__init__` 메서드 정의에 `self._recalculate` 메서드를 활용해도\n",
    "아무런 문제가 없다. \n",
    "왜냐하면, `Person` 클래스의 선언이 완료되었을 때는 이미 \n",
    "`_recalculate` 메서드가 정의되어 있을 것이기 때문이다.\n",
    "물론 그렇지 않다면 실행중에 오류가 발생할 것이다. \n",
    "그리고 `__init__` 메서드가 호출될 때는 이미 `Person` 클래스의 인스턴스가\n",
    "이미 생성되어 있어야 한다. 따라서\n",
    "이 객체가 `self._recalculate`의 `self`에 자동으로 삽입되어\n",
    "초기화가 문제 없이 진행된다. "
   ]
  },
  {
   "cell_type": "markdown",
   "metadata": {},
   "source": [
    "#### PythonTutor 활용 2"
   ]
  },
  {
   "cell_type": "markdown",
   "metadata": {},
   "source": [
    "[PythonTutor: Person 클래스 2](http://pythontutor.com/visualize.html#code=import%20datetime%0A%0Aclass%20Person%3A%0A%0A%20%20%20%20def%20__init__%28self,%20name,%20surname,%20birthdate,%20address,%20telephone,%20email%29%3A%0A%20%20%20%20%20%20%20%20self.name%20%3D%20name%0A%20%20%20%20%20%20%20%20self.surname%20%3D%20surname%0A%20%20%20%20%20%20%20%20self.birthdate%20%3D%20birthdate%0A%0A%20%20%20%20%20%20%20%20self.address%20%3D%20address%0A%20%20%20%20%20%20%20%20self.telephone%20%3D%20telephone%0A%20%20%20%20%20%20%20%20self.email%20%3D%20email%0A%0A%20%20%20%20%20%20%20%20self._age%20%3D%20None%0A%20%20%20%20%20%20%20%20self._age_last_recalculated%20%3D%20None%0A%0A%20%20%20%20%20%20%20%20self._recalculate_age%28%29%0A%0A%20%20%20%20def%20_recalculate_age%28self%29%3A%20%20%20%20%20%20%20%20%20%20%20%20%20%20%23%20%EB%82%98%EC%9D%B4%20%EC%9E%AC%EA%B3%84%EC%82%B0%20%ED%95%A8%EC%88%98%0A%20%20%20%20%20%20%20%20today%20%3D%20datetime.date.today%28%29%0A%20%20%20%20%20%20%20%20age%20%3D%20today.year%20-%20self.birthdate.year%0A%0A%20%20%20%20%20%20%20%20if%20today%20%3C%20datetime.date%28today.year,%20self.birthdate.month,%20self.birthdate.day%29%3A%0A%20%20%20%20%20%20%20%20%20%20%20%20age%20-%3D%201%0A%0A%20%20%20%20%20%20%20%20self._age%20%3D%20age%0A%20%20%20%20%20%20%20%20self._age_last_recalculated%20%3D%20today%20%20%20%23%20%EB%A7%88%EC%A7%80%EB%A7%89%20%EB%82%98%EC%9D%B4%20%EA%B3%84%EC%82%B0%20%EB%82%A0%EC%A7%9C%20%EA%B8%B0%EC%96%B5%ED%95%98%EA%B8%B0%0A%0A%20%20%20%20def%20age%28self%29%3A%0A%20%20%20%20%20%20%20%20if%20%28datetime.date.today%28%29%20%3E%20self._age_last_recalculated%29%3A%0A%20%20%20%20%20%20%20%20%20%20%20%20self._recalculate_age%28%29%0A%0A%20%20%20%20%20%20%20%20return%20self._age%0A%20%20%20%20%20%20%20%20%0AjDoe%20%3D%20Person%28%0A%20%20%20%20%22Jane%22,%0A%20%20%20%20%22Doe%22,%0A%20%20%20%20datetime.date%281992,%203,%2012%29,%20%23%20%EB%85%84,%20%EC%9B%94,%20%EC%9D%BC%0A%20%20%20%20%22No.%2012%20Short%20Street,%20Greenville%22,%0A%20%20%20%20%22555%20456%200987%22,%0A%20%20%20%20%22jane.doe%40example.com%22%0A%20%20%20%20%29&cumulative=false&curInstr=0&heapPrimitives=nevernest&mode=display&origin=opt-frontend.js&py=3&rawInputLstJSON=%5B%5D&textReferences=false)에서\n",
    "위 설명을 실행하면서 확인할 수 있다."
   ]
  },
  {
   "cell_type": "markdown",
   "metadata": {},
   "source": [
    "## 클래스 속성"
   ]
  },
  {
   "cell_type": "markdown",
   "metadata": {},
   "source": [
    "`__init__` 메서드에 의해 `Person` 클래스의 인스턴스를 초기화할 때 선언되는 \n",
    "속성 변수는 생성된 인스턴스 고유의 속성을 다룬다. \n",
    "반면에 **클래스 속성**은 기본적으로 특정 클래스와 밀접하게 관련된 **상수**의 역할을 수행하는 값을 정의하는 데에 사용되며,\n",
    "해당 클래스의 모든 인스턴스에서 공유된다. \n",
    "클래스 속성은 많은 면에서 인스턴스 속성과 유사한 기능을 갖지만\n",
    "주의해야 할 사항이 있다."
   ]
  },
  {
   "cell_type": "markdown",
   "metadata": {},
   "source": [
    "### 클래스 속성 활용법 1"
   ]
  },
  {
   "cell_type": "markdown",
   "metadata": {},
   "source": [
    "클래스 속성은 메서드 밖에서 선언되며, \n",
    "`self`를 사용하지 않고 일반적인 변수 선언 방식을 사용한다.\n",
    "들여쓰기는 메서드와 동일한 수준으로 사용된다.\n",
    "예를 들어, `Person` 클래스에 호칭(title)으로 사용될 항목들을 `TITLES` 라는 클래스 변수에\n",
    "선언하려면 다음과 같이 한다. "
   ]
  },
  {
   "cell_type": "code",
   "execution_count": 38,
   "metadata": {},
   "outputs": [],
   "source": [
    "class Person:\n",
    "\n",
    "    TITLES = ('Dr', 'Mr', 'Mrs', 'Ms')\n",
    "\n",
    "    def __init__(self, title, name, surname):\n",
    "        if title not in self.TITLES:               # 메서드 내부에서 클래스 변수 사용\n",
    "            raise ValueError(\"%s is not a valid title.\" % title)\n",
    "\n",
    "        self.title = title\n",
    "        self.name = name\n",
    "        self.surname = surname"
   ]
  },
  {
   "cell_type": "markdown",
   "metadata": {},
   "source": [
    "메서드 내부에서 클래스 속성을 사용하려면 인스턴스 속성의 경우처럼 \n",
    "`self`와 함께 사용된다. \n",
    "여기서 `self`는 기본적으로 클래스 자신, 즉 위의 경우에는 `Person` 클래스를 가리킨다.\n",
    "하지만 해당 클래스의 모든 인스턴스도 클래스 속성을 공유한다.\n",
    "따라서 경우에 따라서는 `self.TITLES`의 `self`가 해당 클래스의 인스턴스가 될 수도 있다.\n",
    "예를 들어, 다음 `jDoe` 객체 역시 `TITLES` 속성을 공유한다. "
   ]
  },
  {
   "cell_type": "code",
   "execution_count": 39,
   "metadata": {},
   "outputs": [],
   "source": [
    "jDoe = Person(\"Dr\", \"Jane\", \"Doe\")    "
   ]
  },
  {
   "cell_type": "code",
   "execution_count": 40,
   "metadata": {},
   "outputs": [
    {
     "data": {
      "text/plain": [
       "('Dr', 'Mr', 'Mrs', 'Ms')"
      ]
     },
     "execution_count": 40,
     "metadata": {},
     "output_type": "execute_result"
    }
   ],
   "source": [
    "jDoe.TITLES"
   ]
  },
  {
   "cell_type": "markdown",
   "metadata": {},
   "source": [
    "그런데 클래스 속성은 인스턴스 없이도 확인이 가능하다.\n",
    "클래스 속성이라 불리는 이유가 바로 여기에 있다."
   ]
  },
  {
   "cell_type": "code",
   "execution_count": 41,
   "metadata": {},
   "outputs": [
    {
     "data": {
      "text/plain": [
       "('Dr', 'Mr', 'Mrs', 'Ms')"
      ]
     },
     "execution_count": 41,
     "metadata": {},
     "output_type": "execute_result"
    }
   ],
   "source": [
    "Person.TITLES"
   ]
  },
  {
   "cell_type": "markdown",
   "metadata": {},
   "source": [
    "#### 주의사항"
   ]
  },
  {
   "cell_type": "markdown",
   "metadata": {},
   "source": [
    "클래스는 인스턴스 속성에 액세스 할 수 없다. \n",
    "이유는 인스턴스 속성은 인스턴스를 생성할 때만 의미를 갖기 때문이다."
   ]
  },
  {
   "cell_type": "code",
   "execution_count": 42,
   "metadata": {},
   "outputs": [
    {
     "ename": "AttributeError",
     "evalue": "type object 'Person' has no attribute 'surname'",
     "output_type": "error",
     "traceback": [
      "\u001b[0;31m---------------------------------------------------------------------------\u001b[0m",
      "\u001b[0;31mAttributeError\u001b[0m                            Traceback (most recent call last)",
      "\u001b[0;32m<ipython-input-42-dfa90b2620d2>\u001b[0m in \u001b[0;36m<module>\u001b[0;34m\u001b[0m\n\u001b[0;32m----> 1\u001b[0;31m \u001b[0mPerson\u001b[0m\u001b[0;34m.\u001b[0m\u001b[0msurname\u001b[0m\u001b[0;34m\u001b[0m\u001b[0;34m\u001b[0m\u001b[0m\n\u001b[0m",
      "\u001b[0;31mAttributeError\u001b[0m: type object 'Person' has no attribute 'surname'"
     ]
    }
   ],
   "source": [
    "Person.surname"
   ]
  },
  {
   "cell_type": "markdown",
   "metadata": {},
   "source": [
    "### 클래스 속성 업데이트 주의점 1"
   ]
  },
  {
   "cell_type": "markdown",
   "metadata": {},
   "source": [
    "클래스와 객체 모두 클래스 속성을 업데이트 할 수 있다.\n",
    "하지만 클래스 속성을 업데이트 하면 경우에 따라 특정 인스턴스에 혼란을 야기할 수 있다.\n",
    "따라서 **클래스 속성은 변하지 않는 상수처럼 취급해야 한다.**"
   ]
  },
  {
   "cell_type": "markdown",
   "metadata": {},
   "source": [
    "#### PythonTutor 활용 3"
   ]
  },
  {
   "cell_type": "markdown",
   "metadata": {},
   "source": [
    "아래 코드를 \n",
    "[PythonTutor: 클래스 속성 업데이트](http://pythontutor.com/visualize.html#code=class%20Person%3A%0A%0A%20%20%20%20TITLES%20%3D%20%28'Dr',%20'Mr',%20'Mrs',%20'Ms'%29%0A%0A%20%20%20%20def%20__init__%28self,%20title,%20name,%20surname%29%3A%0A%20%20%20%20%20%20%20%20if%20title%20not%20in%20self.TITLES%3A%20%20%20%20%20%20%20%20%20%20%20%20%20%20%20%23%20%EB%A9%94%EC%84%9C%EB%93%9C%20%EB%82%B4%EB%B6%80%EC%97%90%EC%84%9C%20%ED%81%B4%EB%9E%98%EC%8A%A4%20%EB%B3%80%EC%88%98%20%EC%82%AC%EC%9A%A9%0A%20%20%20%20%20%20%20%20%20%20%20%20raise%20ValueError%28%22%25s%20is%20not%20a%20valid%20title.%22%20%25%20title%29%0A%0A%20%20%20%20%20%20%20%20self.title%20%3D%20title%0A%20%20%20%20%20%20%20%20self.name%20%3D%20name%0A%20%20%20%20%20%20%20%20self.surname%20%3D%20surname%0A%20%20%20%20%20%20%20%20%0AjDoe%20%3D%20Person%28'Dr',%20%22Jane%22,%20%22Doe%22%29%0Aprint%28f%22Person%3A%5Ct%20%7BPerson.TITLES%7D%22%29%0Aprint%28f%22jDoe%3A%5Ct%20%7BjDoe.TITLES%7D%5Cn%22%29%0A%0APerson.TITLES%20%3D%20%28'Prof',%20'Dr',%20'Mr',%20'Mrs',%20'Ms'%29%0Aprint%28f%22Person%3A%5Ct%20%7BPerson.TITLES%7D%22%29%0Aprint%28f%22jDoe%3A%5Ct%20%7BjDoe.TITLES%7D%5Cn%22%29%0A%0AjDoe.TITLES%20%3D%20%28'Dr',%20'Mr',%20'Ms'%29%0Aprint%28f%22Person%3A%5Ct%20%7BPerson.TITLES%7D%22%29%0Aprint%28f%22jDoe%3A%5Ct%20%7BjDoe.TITLES%7D%5Cn%22%29%0A%0APerson.TITLES%20%3D%20%28'Dr',%20'Mr',%20'Mrs',%20'Ms'%29%0Aprint%28f%22Person%3A%5Ct%20%7BPerson.TITLES%7D%22%29%0Aprint%28f%22jDoe%3A%5Ct%20%7BjDoe.TITLES%7D%22%29&cumulative=false&curInstr=0&heapPrimitives=nevernest&mode=display&origin=opt-frontend.js&py=3&rawInputLstJSON=%5B%5D&textReferences=false)에서\n",
    "실행하면서 클래스 변수를 업데이트할 때 발생할 수 있는 문제를 확인해볼 수 있다."
   ]
  },
  {
   "cell_type": "code",
   "execution_count": 43,
   "metadata": {},
   "outputs": [
    {
     "name": "stdout",
     "output_type": "stream",
     "text": [
      "Person:\t ('Dr', 'Mr', 'Mrs', 'Ms')\n",
      "jDoe:\t ('Dr', 'Mr', 'Mrs', 'Ms')\n",
      "\n",
      "Person:\t ('Prof', 'Dr', 'Mr', 'Mrs', 'Ms')\n",
      "jDoe:\t ('Prof', 'Dr', 'Mr', 'Mrs', 'Ms')\n",
      "\n",
      "Person:\t ('Prof', 'Dr', 'Mr', 'Mrs', 'Ms')\n",
      "jDoe:\t ('Dr', 'Mr', 'Ms')\n",
      "\n",
      "Person:\t ('Dr', 'Mr', 'Mrs', 'Ms')\n",
      "jDoe:\t ('Dr', 'Mr', 'Ms')\n"
     ]
    }
   ],
   "source": [
    "class Person:\n",
    "\n",
    "    TITLES = ('Dr', 'Mr', 'Mrs', 'Ms')             # 튜플 사용\n",
    "\n",
    "    def __init__(self, title, name, surname):\n",
    "        if title not in self.TITLES:               # 메서드 내부에서 클래스 변수 사용\n",
    "            raise ValueError(\"%s is not a valid title.\" % title)\n",
    "\n",
    "        self.title = title\n",
    "        self.name = name\n",
    "        self.surname = surname\n",
    "        \n",
    "jDoe = Person('Dr', \"Jane\", \"Doe\")\n",
    "print(f\"Person:\\t {Person.TITLES}\")\n",
    "print(f\"jDoe:\\t {jDoe.TITLES}\\n\")\n",
    "\n",
    "Person.TITLES = ('Prof', 'Dr', 'Mr', 'Mrs', 'Ms')   # 모든 인스턴스에 영향끼침\n",
    "print(f\"Person:\\t {Person.TITLES}\")\n",
    "print(f\"jDoe:\\t {jDoe.TITLES}\\n\")\n",
    "\n",
    "jDoe.TITLES = ('Dr', 'Mr', 'Ms')                    # 이 경우 jDoe 만의 TITLES 속성 생성됨.\n",
    "print(f\"Person:\\t {Person.TITLES}\")                 # 따라서 클래스의 TITLES와 별개 속성을 가짐 \n",
    "print(f\"jDoe:\\t {jDoe.TITLES}\\n\")  \n",
    "\n",
    "Person.TITLES = ('Dr', 'Mr', 'Mrs', 'Ms')           # 이제 클래스 속성을 업데이트 하더라도\n",
    "print(f\"Person:\\t {Person.TITLES}\")                 # jDoe의 TITLES 속성에 영향 없음.\n",
    "print(f\"jDoe:\\t {jDoe.TITLES}\")"
   ]
  },
  {
   "cell_type": "markdown",
   "metadata": {},
   "source": [
    "### 클래스 속성 활용법 2"
   ]
  },
  {
   "cell_type": "markdown",
   "metadata": {},
   "source": [
    "클래스 속성을 사용하여 기본 속성 값을 제공 할 수도 있습니다."
   ]
  },
  {
   "cell_type": "code",
   "execution_count": 44,
   "metadata": {},
   "outputs": [],
   "source": [
    "class Person:\n",
    "    married = False              # 결혼 여부 확인. 기본값은 미혼\n",
    "\n",
    "    def mark_as_married(self):   # 기혼자 처리\n",
    "        self.married = True"
   ]
  },
  {
   "cell_type": "markdown",
   "metadata": {},
   "source": [
    "클래스 속성을 업데이트할 때 주의해야할 사항에서 설명하였듯이 \n",
    "클래스 속성 변수와 동일한 이름의 속성 변수를 인스턴스에서 새로 설정하면 \n",
    "클래스 속성이 인스턴스 속성으로 전환된다.\n",
    "그리고 동일한 이름의 속성 변수가 존재할 때 객체는 인스턴스 속성을 우선적으로 사용한다. \n",
    "\n",
    "위 코드에서 `married` 클래스 변수는 결혼여부를 저장하여 기본값으로 `False`, \n",
    "즉, 미혼으로 지정해 놓았다.\n",
    "그런데 아래와 같이 인스턴스를 생성할 때마다\n",
    "각각 독립적으로 결혼여부를 지정할 수 있다.\n",
    "\n",
    "**주의:** `__init__` 메서드가 선언되어 있지 않다. \n",
    "즉, 인스턴스를 생성할 때 초기화를 진행하지 않는다. "
   ]
  },
  {
   "cell_type": "code",
   "execution_count": 45,
   "metadata": {},
   "outputs": [
    {
     "name": "stdout",
     "output_type": "stream",
     "text": [
      "True\n"
     ]
    }
   ],
   "source": [
    "jDoe = Person()\n",
    "jDoe.mark_as_married()\n",
    "print(jDoe.married)"
   ]
  },
  {
   "cell_type": "markdown",
   "metadata": {},
   "source": [
    "클래스 변수로서는 속성값이 변하지 않았다."
   ]
  },
  {
   "cell_type": "code",
   "execution_count": 46,
   "metadata": {},
   "outputs": [
    {
     "data": {
      "text/plain": [
       "False"
      ]
     },
     "execution_count": 46,
     "metadata": {},
     "output_type": "execute_result"
    }
   ],
   "source": [
    "Person.married"
   ]
  },
  {
   "cell_type": "markdown",
   "metadata": {},
   "source": [
    "따라서 새로운 인스턴스를 생성하도 기본값은 미혼이다."
   ]
  },
  {
   "cell_type": "code",
   "execution_count": 47,
   "metadata": {},
   "outputs": [
    {
     "name": "stdout",
     "output_type": "stream",
     "text": [
      "False\n"
     ]
    }
   ],
   "source": [
    "dScotty = Person()\n",
    "print(dScotty.married)"
   ]
  },
  {
   "cell_type": "markdown",
   "metadata": {},
   "source": [
    "### 클래스 속성 업데이트 주의점 2"
   ]
  },
  {
   "cell_type": "markdown",
   "metadata": {},
   "source": [
    "클래스 속성값이 리스트, 사전 처럼 수정 가능한 가능한 자료형(mutable data type)의 경우 \n",
    "인스턴스 속성 변경이 클래스 속성 변경에 영향을 끼칠 수 있다."
   ]
  },
  {
   "cell_type": "code",
   "execution_count": 48,
   "metadata": {},
   "outputs": [
    {
     "name": "stdout",
     "output_type": "stream",
     "text": [
      "jane:\t['cat']\n",
      "bob:\t['cat']\n"
     ]
    }
   ],
   "source": [
    "class Person:\n",
    "    pets = []\n",
    "\n",
    "    def add_pet(self, pet):\n",
    "        self.pets.append(pet)\n",
    "\n",
    "jane = Person()\n",
    "bob = Person()\n",
    "\n",
    "jane.add_pet(\"cat\")             # jane의 고양이 애완동물 추가\n",
    "                                # pets의 값이 리스트임. 기존 리스트를 수정함.\n",
    "\n",
    "print(f\"jane:\\t{jane.pets}\")\n",
    "print(f\"bob:\\t{bob.pets}\")      # 그런데 bob까지 영향 받음."
   ]
  },
  {
   "cell_type": "markdown",
   "metadata": {},
   "source": [
    "#### PythonTutor 활용 4"
   ]
  },
  {
   "cell_type": "markdown",
   "metadata": {},
   "source": [
    "위 코드를 \n",
    "[PythonTutor: 클래스 속성 주의점 2](http://pythontutor.com/visualize.html#code=class%20Person%3A%0A%20%20%20%20pets%20%3D%20%5B%5D%0A%0A%20%20%20%20def%20add_pet%28self,%20pet%29%3A%0A%20%20%20%20%20%20%20%20self.pets.append%28pet%29%0A%0Ajane%20%3D%20Person%28%29%0Abob%20%3D%20Person%28%29%0A%0Ajane.add_pet%28%22cat%22%29%0A%0Aprint%28f%22jane%3A%5Ct%7Bjane.pets%7D%22%29%0Aprint%28f%22bob%3A%5Ct%7Bbob.pets%7D%22%29&cumulative=false&curInstr=0&heapPrimitives=nevernest&mode=display&origin=opt-frontend.js&py=3&rawInputLstJSON=%5B%5D&textReferences=false)에서\n",
    "실행하며 문제점을 확인할 수 있다."
   ]
  },
  {
   "cell_type": "markdown",
   "metadata": {},
   "source": [
    "#### 문제 해결책"
   ]
  },
  {
   "cell_type": "markdown",
   "metadata": {},
   "source": [
    "클래스 속성을 사용하는 대신에 `__init__` 메서드를 이용하여\n",
    "인스턴스를 생성할 때마다 기본값으로 초기화하는 방식을 사용해야 한다.\n",
    "이유는 `pets`와 같은 속성은 속성값을 공유하는 목적이 아니라\n",
    "모든 인스턴스에서 사용될 속성 변수를 미리 지정하는 역할을 수행하기 때문이다."
   ]
  },
  {
   "cell_type": "code",
   "execution_count": 49,
   "metadata": {},
   "outputs": [
    {
     "name": "stdout",
     "output_type": "stream",
     "text": [
      "jane:\t['cat']\n",
      "bob:\t[]\n"
     ]
    }
   ],
   "source": [
    "class Person:\n",
    "\n",
    "    def __init__(self):\n",
    "        self.pets = []\n",
    "\n",
    "    def add_pet(self, pet):\n",
    "        self.pets.append(pet)\n",
    "\n",
    "jane = Person()\n",
    "bob = Person()\n",
    "\n",
    "jane.add_pet(\"cat\")\n",
    "\n",
    "print(f\"jane:\\t{jane.pets}\")\n",
    "print(f\"bob:\\t{bob.pets}\")      # 서로 영향 주지 않음."
   ]
  },
  {
   "cell_type": "markdown",
   "metadata": {},
   "source": [
    "### 클래스 변수를 메서드 인자로 사용하기"
   ]
  },
  {
   "cell_type": "markdown",
   "metadata": {},
   "source": [
    "클래스 변수를 메서드 내에서 사용하려면 `self`와 함께 사용해야 한다.\n",
    "하지만 메서드 매개변수의 인자로 사용할 때는 `self`가 필요없다.\n",
    "\n",
    "**주의:** 메서드 내부에서만 `self`가 클래스 자신, 또는 생성된 인스턴스\n",
    "둘 중 하나의 의미를 갖는다. \n",
    "`self`를 사용하는 진짜 이유가 여기에 있다.\n",
    "\n",
    "예를 들어, 아래 정의에서 클래스 변수인 `TITLES`가 \n",
    "`__init__` 메서드의 `allowed_titles` 라는 옵션변수의 기본값으로\n",
    "사용되었다. "
   ]
  },
  {
   "cell_type": "code",
   "execution_count": 50,
   "metadata": {},
   "outputs": [],
   "source": [
    "class Person:\n",
    "    TITLES = ('Dr', 'Mr', 'Mrs', 'Ms')\n",
    "\n",
    "    def __init__(self, title, name, surname, allowed_titles=TITLES):\n",
    "        if title not in allowed_titles:\n",
    "            raise ValueError(\"%s is not a valid title.\" % title)\n",
    "\n",
    "        self.title = title\n",
    "        self.name = name\n",
    "        self.surname = surname"
   ]
  },
  {
   "cell_type": "markdown",
   "metadata": {},
   "source": [
    "### 연습 3"
   ]
  },
  {
   "cell_type": "markdown",
   "metadata": {},
   "source": [
    "아래 정의에서 사용된 세 개의 속성 `name`, `surname`, `profession` 의 차이점을 설명하라.\n",
    "또한 서로 다른 객체에서 해당 속성들이 가질 수 있는 값들을 설명하라. "
   ]
  },
  {
   "cell_type": "code",
   "execution_count": 51,
   "metadata": {},
   "outputs": [],
   "source": [
    "class Smith:\n",
    "    surname = \"Smith\"\n",
    "    profession = \"smith\"\n",
    "\n",
    "    def __init__(self, name, profession=None):\n",
    "        self.name = name\n",
    "        if profession is not None:\n",
    "            self.profession = profession"
   ]
  },
  {
   "cell_type": "markdown",
   "metadata": {},
   "source": [
    "#### 모범답안"
   ]
  },
  {
   "cell_type": "markdown",
   "metadata": {},
   "source": [
    "* `name`:\n",
    "    * 인스턴스 속성.\n",
    "    * 인스턴스를 생성할 때 지정되는 이름을 속성값으로 사용.\n",
    "* `surname`:\n",
    "    * 클래스 속성.\n",
    "    * 생성되는 모든 인스턴스의 성으로 사용됨.\n",
    "    * 인스턴스 스스로 개명하더라도 클래스 속성값은 변하지 않음.\n",
    "* `profession`:\n",
    "    * 클래스 속성.\n",
    "    * 인스턴스를 생성할 때 직업을 따로 지정하지 않으면 기본값 smith(대장장이) 사용.\n",
    "    * 하지만 인스턴스를 생성할 때 직업을 지정하면 인스턴스 속성으로 변경되어\n",
    "        객체 고유의 직업이 저장됨."
   ]
  },
  {
   "cell_type": "markdown",
   "metadata": {},
   "source": [
    "#### PythonTutor 활용 5"
   ]
  },
  {
   "cell_type": "markdown",
   "metadata": {},
   "source": [
    "[PythonTutor: 대장장이](http://pythontutor.com/visualize.html#code=class%20Smith%3A%0A%20%20%20%20surname%20%3D%20%22Smith%22%0A%20%20%20%20profession%20%3D%20%22smith%22%0A%0A%20%20%20%20def%20__init__%28self,%20name,%20profession%3DNone%29%3A%0A%20%20%20%20%20%20%20%20self.name%20%3D%20name%0A%20%20%20%20%20%20%20%20if%20profession%20is%20not%20None%3A%0A%20%20%20%20%20%20%20%20%20%20%20%20self.profession%20%3D%20profession%0A%0Ajane%20%3D%20Smith%28'jane'%29%0Abob%20%3D%20Smith%28'bob',%20'teacher'%29%0A%20%20%20%20%20%20%20%20%20%20%20%20%0Aprint%28f%22jane's%20name%3A%5Ct%7Bjane.name%7D%22%29%0Aprint%28f%22jane's%20surname%3A%5Ct%7Bjane.surname%7D%22%29%0Aprint%28f%22jane's%20prof%3A%5Ct%7Bjane.profession%7D%5Cn%22%29%0A%0Aprint%28f%22bob's%20name%3A%5Ct%7Bbob.name%7D%22%29%0Aprint%28f%22bob's%20surname%3A%5Ct%7Bbob.surname%7D%22%29%0Aprint%28f%22bob's%20prof%3A%5Ct%7Bbob.profession%7D%22%29%0A&cumulative=false&curInstr=0&heapPrimitives=nevernest&mode=display&origin=opt-frontend.js&py=3&rawInputLstJSON=%5B%5D&textReferences=false)에서\n",
    "코드를 실행하며 위 내용을 확인할 수 있다."
   ]
  }
 ],
 "metadata": {
  "kernelspec": {
   "display_name": "Python 3",
   "language": "python",
   "name": "python3"
  },
  "language_info": {
   "codemirror_mode": {
    "name": "ipython",
    "version": 3
   },
   "file_extension": ".py",
   "mimetype": "text/x-python",
   "name": "python",
   "nbconvert_exporter": "python",
   "pygments_lexer": "ipython3",
   "version": "3.7.3"
  }
 },
 "nbformat": 4,
 "nbformat_minor": 2
}
