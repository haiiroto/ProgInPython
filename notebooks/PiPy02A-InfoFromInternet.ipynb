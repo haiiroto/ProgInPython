{
 "cells": [
  {
   "cell_type": "markdown",
   "metadata": {},
   "source": [
    "# 인터넷에서 정보 구하기"
   ]
  },
  {
   "cell_type": "markdown",
   "metadata": {},
   "source": [
    "프로그램은 기본적으로 데이터를 처리하기 위해 사용한다.\n",
    "즉, 데이터를 조작해서 원하는 결과를 만들어 낸다. \n",
    "데이터는 증권시장과 관련된 숫자,\n",
    "인터넷 검색창에서 언급되는 검색어,\n",
    "지난 30년간의 기후 정보\n",
    "등을 가리킨다.\n",
    "\n",
    "인터넷이 발전하면서 점점 더 데이터를 인터넷에서\n",
    "구할 수밖에 없는 경우가 많아진다.\n",
    "이를 위해 다음, 네이버, 구글 등이 제공하는 다양한 검색엔진이 사용되며, \n",
    "사용자가 원하는 정보를 빠르고 정확하게 찾아주는 검색엔진의\n",
    "중요성은 그만큼 크다.\n",
    "\n",
    "여기서는 간단한 인터넷 문서 검색 도구를 활용하여 인터넷 상에 존재하는 문서에서 원하는 정보를 확인하는 방법을 소개한다."
   ]
  },
  {
   "cell_type": "markdown",
   "metadata": {},
   "source": [
    "## 사용 예제: 커피 원두 가격 정보 확인하기"
   ]
  },
  {
   "cell_type": "markdown",
   "metadata": {},
   "source": [
    "아래 웹페이지를 웹브라우저를 이용하여 방문하면 아래 사진처럼 보인다.\n",
    "\n",
    "http://beans.itcarlow.ie/prices.html\n",
    "\n",
    "**주의: Head First Programming 교재에서 언급된 웹페이지 주소와 다름.**"
   ]
  },
  {
   "cell_type": "markdown",
   "metadata": {},
   "source": [
    "<p>\n",
    "<table cellspacing=\"20\">\n",
    "<tr>\n",
    "<td>\n",
    "<img src=\"images/beans01.png\">\n",
    "</td>\n",
    "</tr>\n",
    "</table>\n",
    "</p>"
   ]
  },
  {
   "cell_type": "markdown",
   "metadata": {},
   "source": [
    "웹페이지에 포함된 내용은 아래와 같다.\n",
    "\n",
    "---\n",
    "```\n",
    "Welcome to the Beans'R'Us Pricing Page\n",
    "Current price of coffee beans = $5.17\n",
    "Price valid for 15 minutes from Tue Mar 17 18:21:01 2020.\n",
    "\n",
    "```\n",
    "---\n",
    "\n",
    "즉, **2020년 3월 17일 오후 6시 21분 01초에 커피 원두 가격이 \n",
    "5달러 17센트(\\$5.17)이다** 라는 것이다."
   ]
  },
  {
   "cell_type": "markdown",
   "metadata": {},
   "source": [
    "### 주의사항"
   ]
  },
  {
   "cell_type": "markdown",
   "metadata": {},
   "source": [
    "1. 원두 가격과 시간은 웹페이지에 접속할 때마다 달라진다.\n",
    "1. 위 웹페이지 서버가 작동하지 않을 수도 있다.\n",
    "    그럴 경우 [prices.html](https://raw.githubusercontent.com/liganega/ProgInPython/master/notebooks/data/prices.html)\n",
    "    파일을 다운로드 받은 후 더블클릭하여 웹브라우저로 열면 동일한 내용을 확인할 수 있다.\n",
    "    다만, 배경화면 색상과 디자인은 다르다."
   ]
  },
  {
   "cell_type": "markdown",
   "metadata": {},
   "source": [
    "### 인터넷 검색을 통한 정보 구하기"
   ]
  },
  {
   "cell_type": "markdown",
   "metadata": {},
   "source": [
    "사람들은 보통 이런 식으로 커피 원두 가격을 확인한다.\n",
    "예를 들어, 인터넷 검색창에 아래 세 단어를 입력하고 검색해보자\n",
    "\n",
    "```\n",
    "beans pricing page\n",
    "```\n",
    "\n",
    "현재 강의노트를 작성하는 시점에서 구글검색 결과는 아래와 같으며,\n",
    "상단에 위치한 세 개의 사이트는 모두 커피 원두 가격과 관련되어 있다.\n",
    "특히, 맨 상단에 위치한 사이트는 앞서 언급한 Beans'R'Us 웹페이지와 관련되어 보인다.\n",
    "실제로 두 웹페이지는 동일한 웹서버에 의해 작동된다.\n",
    "나머지 두 웹사이트는 실제 커피 원두를 판매하는 온라인 쇼핑몰이다.\n",
    "\n",
    "**주의:** 검색결과는 사용자와 브라우저에 따라 다를 수 있다."
   ]
  },
  {
   "cell_type": "markdown",
   "metadata": {},
   "source": [
    "<p>\n",
    "<table cellspacing=\"20\">\n",
    "<tr>\n",
    "<td>\n",
    "<img src=\"images/search-beans-page.png\">\n",
    "</td>\n",
    "</tr>\n",
    "</table>\n",
    "</p>"
   ]
  },
  {
   "cell_type": "markdown",
   "metadata": {},
   "source": [
    "이런 식으로 커피 원두의 가격을 인터넷 검색을 통해 찾은 웹페이지에 접속에서 쉽게 확인할 수 있다.\n",
    "하지만 찾아야 하는 정보가 매우 많거나, \n",
    "인터넷 문서가 길거나 복잡하면 원하는 정보를\n",
    "눈으로 확인하기가 불가능해진다. \n",
    "\n",
    "매우 긴 문서에서 원하는 정보를 찾기 위해 보통 `Ctrl-F` 키조합을 사용하여\n",
    "검색을 시도한다. \n",
    "하지만 매우 많은 문서에서 검색을 그런 방식으로 시도할 수는 없다.\n",
    "이렇듯 웹브라우저를 이용하여 일일이 필요한 정보를 검색하는 일은 매우 불편하며\n",
    "일반적으로 한계가 많다."
   ]
  },
  {
   "cell_type": "markdown",
   "metadata": {},
   "source": [
    "## 웹페이지와 소스코드"
   ]
  },
  {
   "cell_type": "markdown",
   "metadata": {},
   "source": [
    "웹브라우저를 이용하여 웹페이지를 방문하지 않으면서 \n",
    "파이썬과 같은 프로그래밍언어를 이용해서\n",
    "웹페이지의 소스코드를 불러와서 필요한 정보를 찾아내도록 할 수 있다.\n",
    "\n",
    "작동방식은 다음과 같다.\n",
    "\n",
    "1. 파이썬이 제공하는 특정 함수에게 특정 웹페이지의 주소를 인자로 전달하여 실행한다.\n",
    "1. 그러면 해당 함수는 주소의 웹페이지를 관리하는 웹서버에게 웹페이지의 소스코드인\n",
    "    HTML 파일을 요구한다.\n",
    "1. 해당 함수는 웹서버로부터 받은 HTML 문서에 포함된 웹페이지 소스코드를 특정 문서로 만들어준다."
   ]
  },
  {
   "cell_type": "markdown",
   "metadata": {},
   "source": [
    "### 웹페이지 HTML 소스코드"
   ]
  },
  {
   "cell_type": "markdown",
   "metadata": {},
   "source": [
    "먼저 웹페이지의 소스코드가 무엇인지부터 알아야 한다.\n",
    "예를 들어, [Beans'R'Us Pricing Page](http://beans.itcarlow.ie/prices.html)에\n",
    "방문했을 때 웹브라우저가 우리에게 보여주는 것은 \n",
    "**HTML**이라는 웹페이지 개발 전용 프로그래밍 언어로 작성된 \n",
    "해당 웹페이지의 **소스코드**(source code)를 예쁘게 포장해서 보여주는 것이다.\n",
    "\n",
    "웹페이지 소스코드 확인법 웹브라우저에 따라 다르다.\n",
    "크롬 브라우저의 경우 마우스 오른쪽 버튼을 누른 후 \n",
    "'페이지 소스 보기(V)'를 선택하여 확인할 수 있다.\n",
    "\n",
    "<p>\n",
    "<table cellspacing=\"20\">\n",
    "<tr>\n",
    "<td>\n",
    "<img src=\"images/beans03.png\" style=\"width:80%\"></td>\n",
    "</tr>\n",
    "</table>\n",
    "</p>"
   ]
  },
  {
   "cell_type": "markdown",
   "metadata": {},
   "source": [
    "[Beans'R'Us Pricing Page](http://beans.itcarlow.ie/prices.html)의\n",
    "웹페이지 소스코드는 다음과 같다."
   ]
  },
  {
   "cell_type": "markdown",
   "metadata": {},
   "source": [
    "<p>\n",
    "<table cellspacing=\"20\">\n",
    "<tr>\n",
    "<td>\n",
    "<img src=\"images/beans02.png\">\n",
    "</td>\n",
    "</tr>\n",
    "</table>\n",
    "</p>"
   ]
  },
  {
   "cell_type": "markdown",
   "metadata": {},
   "source": [
    "**주의:**\n",
    "위 웹주소가 작동하지 않을 경우\n",
    "[prices.html](https://raw.githubusercontent.com/liganega/ProgInPython/master/notebooks/data/prices.html)를\n",
    "다운로드 하지 말고 마우스로 클릭하면 동일한 소스코드를 바로 확인할 수 있다.\n",
    "아니면 다운로드한 파일을 **인터넷 브라우저가 아닌 일반 텍스트 편집기**로 열어도 동일한 내용을 확인할 수 있다."
   ]
  },
  {
   "cell_type": "markdown",
   "metadata": {},
   "source": [
    "위 그림에서 보이는 소스코드는 커피 원두 가격과 같은 원하는 **정보**뿐만 아니라,\n",
    "`<html>`, `<head>`, `<link>`, `<h2>`, `<p>` 등\n",
    "폰트, 글자 크기, 주소 링크, 문단 구성 등과 관련된 **웹페이지 설정 옵션** 지정을 \n",
    "위한 HTML 언어 명령문도 포함하고 있다. \n",
    "\n",
    "따라서 웹브라우저는 소스코드에 포함된 정보와 웹페이지 설정 옵션을 함께 고려하여 \n",
    "적절한 방식으로 내용을 사용자에게 전달한다."
   ]
  },
  {
   "cell_type": "markdown",
   "metadata": {},
   "source": [
    "### 웹브라우저 역할: 서버와 클라이언트"
   ]
  },
  {
   "cell_type": "markdown",
   "metadata": {},
   "source": [
    "앞서 언급한 소스코드 문서의 이름은 `prices.html`이며, \n",
    "이 문서는 아래 주소의 웹서버에 저장되어 있다.\n",
    "\n",
    "```\n",
    "http://beans.itcarlow.ie/prices.html\n",
    "```\n",
    "\n",
    "그리고 사용자가 특정 웹브라우저 주소창에\n",
    "위 주소를 입력하고 리턴키를 누르면 \n",
    "웹브라우저는 아래 과정을 수행한다.\n",
    "\n",
    "1. 주소의 웹페이지를 관리하는 웹서버에게 주소가 가리키는 HTML 문서인\n",
    "    `prices.html` 파일을 요구한다.\n",
    "1. 해당 웹서버로부터 받은 HTML 문서의 내용을 **해석**하여\n",
    "    사용자에게 적절한 방식으로 문서 내용을 화면에 보여준다.\n",
    "\n",
    "웹브라우저와 웹서버의 관계가 아래 그림에서처럼 클라이언트와 서버의 관계로 설명될 수 있다."
   ]
  },
  {
   "cell_type": "markdown",
   "metadata": {},
   "source": [
    "<p>\n",
    "<table cellspacing=\"20\">\n",
    "<tr>\n",
    "<td>\n",
    "<img src=\"images/server-client.jpeg\">\n",
    "</td>\n",
    "</tr>\n",
    "</table>\n",
    "</p>\n",
    "\n",
    "<클라이언트와 서버, 출처: [생활코딩](https://opentutorials.org/course/3084/18890)>"
   ]
  },
  {
   "cell_type": "markdown",
   "metadata": {},
   "source": [
    "### 생활코딩 소개"
   ]
  },
  {
   "cell_type": "markdown",
   "metadata": {},
   "source": [
    "HTML 언어를 이용하여 간단한 웹페이지와 웹서버를 구현하는 방법은 생각하는 것보다 훨씬 쉽다.\n",
    "관련된 공부를 하고 싶다면\n",
    "[생활코딩](https://opentutorials.org/course/1) 사이트에서 제공하는\n",
    "[WEB1 - HTML & Internet](https://opentutorials.org/course/3084)\n",
    "강좌를 강추한다.\n",
    "\n",
    "생활코딩은 웹서버 구현을 위해 필요한 지식과 정보를 다양한 실전 프로그래밍 예제를 학습하는 방법으로 전달하며,\n",
    "학습주제에 따른 다양한 동영상 강좌를 제공한다.\n",
    "이외에 파이썬을 포함하여 다양한 언어를 이용한 프로그래밍 기초 강좌도 함께 제공한다.\n",
    "프로그래밍 학습에 관심 있는 초보자들이 효율적으로 프로그래밍을 학습할 수 있는 허브 역할을 수행한다."
   ]
  },
  {
   "cell_type": "markdown",
   "metadata": {},
   "source": [
    "## 웹페이지 소스코드 가져오기"
   ]
  },
  {
   "cell_type": "markdown",
   "metadata": {},
   "source": [
    "웹브라우저를 이용하여 특정 웹페이지의 소스코드를 확인하여 그 안에서 원하는 정보를 구하는 일은\n",
    "웹페이지를 직접 방문하여 정보를 구하는 일보다 더욱 힘든 일이다.\n",
    "\n",
    "그런데 컴퓨터 프로그래밍을 이용하면 소스코드를 가져오고, \n",
    "원하는 정보를 구하는 일을 자동으로 해결할 수 있다. \n",
    "여기서는 파이썬이 제공하는 도구의 활용법을 예를 들어 설명한다."
   ]
  },
  {
   "cell_type": "markdown",
   "metadata": {},
   "source": [
    "### `urllib.request` 모듈의 `urlopen` 함수"
   ]
  },
  {
   "cell_type": "markdown",
   "metadata": {},
   "source": [
    "파이썬은 웹페이지 정보를 다루는 다양한 함수를 제공한다.\n",
    "여기서는 `urllib.request` 라는 모듈에 포함된 `urlopen` 함수의 사용법을 소개한다."
   ]
  },
  {
   "cell_type": "markdown",
   "metadata": {},
   "source": [
    "#### 전문 용어: 패키지와 모듈"
   ]
  },
  {
   "cell_type": "markdown",
   "metadata": {},
   "source": [
    "`urlopen` 함수를 사용하려면 먼저 `urllib.request` 모듈을 불러와야(import) 한다.\n",
    "\n",
    "그런데 그 전에 `urllib`, `request`, `urlopen` 등 전문용어로 사용된\n",
    "단어들의 어원과 사용된 단어들의 순서의 의미를 살펴보는 것도 의미가 있다.\n",
    "왜냐하면, 단어의 어원과 해당 단어의 역할이 서로 연관되어 있기 때문이다.\n",
    "\n",
    "* 어원\n",
    "    * `url`: 통합자원식별자(Uniform Resource Locator)의 약어.\n",
    "        * 네트워크 상에서 자원이 위치한 주소 가리킴.\n",
    "    * `lib`: **라이브러리**(library)의 줄임말. \n",
    "    * 라이브러리: 파이썬 코드파일(모듈)들의 폴더\n",
    "        * 특정 분야와 연관된 함수들을 기능별로 여러 개의 파이썬 코드파일에 \n",
    "            나누어 저장한 후 해당 코드파일들을 하나의 폴더에서 관리.\n",
    "        * **패키지**(package)라고 불림.\n",
    "* 의미\n",
    "    * `urllib`: url과 관련된 패키지, 즉, 특정 파일들의 폴더.\n",
    "    * `urllib.request`: `urllib` 패키지에 포함된 파이썬 코드 파일.\n",
    "        * 리크웨스트(request) 단어가 암시하듯이 인터넷 상에서\n",
    "            정보를 구해오는 것과 관련된 함수들이 정의되어 있는 파이썬 코드파일.\n",
    "        * 파이썬 코드파일을 보통 **모듈**(module)이라 부름.\n",
    "        * 패키지와 모듈의 관계는 두 이름 사이에 점(`'.'`)을 찍어 구분.\n",
    "    * `urlopen`: `request` 모듈에서 정의된 함수.\n",
    "        * 지정된 웹주소의 소스코드를 가져와서 리턴값으로 내준다."
   ]
  },
  {
   "cell_type": "markdown",
   "metadata": {},
   "source": [
    "### `urlopen` 함수 활용"
   ]
  },
  {
   "cell_type": "markdown",
   "metadata": {},
   "source": [
    "`urlopen` 함수를 이용하여 \n",
    "[Beans'R'Us Pricing Page](http://beans.itcarlow.ie/prices.html)의\n",
    "웹페이지 소스코드는 다음과 같이 불러온다."
   ]
  },
  {
   "cell_type": "code",
   "execution_count": 49,
   "metadata": {},
   "outputs": [
    {
     "name": "stdout",
     "output_type": "stream",
     "text": [
      "<html><head><title>Welcome to the Beans'R'Us Pricing Page</title>\n",
      "<link rel=\"stylesheet\" type=\"text/css\" href=\"beansrus.css\" />\n",
      "</head><body>\n",
      "<h2>Welcome to the Beans'R'Us Pricing Page</h2>\n",
      "<p>Current price of coffee beans = <strong>$5.84</strong></p>\n",
      "<p>Price valid for 15 minutes from Wed Mar 18 14:51:02 2020.</p>\n",
      "</body></html>\n",
      "\n"
     ]
    }
   ],
   "source": [
    "import urllib.request\n",
    "\n",
    "price_url = \"http://beans.itcarlow.ie/prices.html\"\n",
    "\n",
    "price_page = urllib.request.urlopen(price_url)\n",
    "page_text = price_page.read().decode(\"utf8\")\n",
    "\n",
    "print(page_text)"
   ]
  },
  {
   "cell_type": "markdown",
   "metadata": {},
   "source": [
    "위 코드를 하나씩 살펴보면 다음과 같다."
   ]
  },
  {
   "cell_type": "markdown",
   "metadata": {},
   "source": [
    "**`urlopen` 함수를 사용하려면 먼저 아래와 같이 `urllib.request` 모듈을 불러와야(import) 한다.**"
   ]
  },
  {
   "cell_type": "code",
   "execution_count": 44,
   "metadata": {},
   "outputs": [],
   "source": [
    "import urllib.request"
   ]
  },
  {
   "cell_type": "markdown",
   "metadata": {},
   "source": [
    "**주의:** 모듈과 모듈의 활용에 대해서는 이후 자세히 다룬다. \n",
    "여기서는 모듈을 활용해야 한다는 사실과 어떻게 활용하는지만 기억한다."
   ]
  },
  {
   "cell_type": "markdown",
   "metadata": {},
   "source": [
    "**`urlopen` 함수를 활용하여 앞서 언급된 웹페이지의 HTML 소스코드를 가져오기 위해 아래와 같이 가져온다.**"
   ]
  },
  {
   "cell_type": "code",
   "execution_count": 45,
   "metadata": {},
   "outputs": [],
   "source": [
    "price_url = \"http://beans.itcarlow.ie/prices.html\"\n",
    "price_page = urllib.request.urlopen(price_url)"
   ]
  },
  {
   "cell_type": "markdown",
   "metadata": {},
   "source": [
    "이제 `price_page` 변수에는 `urlopen` 함수가 읽어 와서 내주는 값이 저장된다.\n",
    "내주는 값에는 앞서 언급된 사이트의 HTML 소스코드가 포함되어 있다."
   ]
  },
  {
   "cell_type": "markdown",
   "metadata": {},
   "source": [
    "**문서 내용을 확인한다.**"
   ]
  },
  {
   "cell_type": "code",
   "execution_count": 46,
   "metadata": {},
   "outputs": [],
   "source": [
    "page_text = price_page.read().decode(\"utf8\")"
   ]
  },
  {
   "cell_type": "markdown",
   "metadata": {},
   "source": [
    "위 변수 할당 명령문에서 사용된 전문용어들의 어원과 의미는 다음과 같다.\n",
    "\n",
    "* 어원\n",
    "    * 디코드(decode): 보텅 암호를 푼다, 즉 원래대로 돌려놓는다는 의미로 사용.\n",
    "    * utf8: 문자 인코딩(암호화)하는 방식\n",
    "        * 프로그래밍 언어 분야에서 거의 표준으로 사용되는 인코딩 방식임.\n",
    "        * MS 워드, 한컴오피스 등이 사용하는 인코딩 방식과 다름.\n",
    "        * utf8로 인코딩 된 문서는 거의 모든 문서편집기를 이용하여 다룰 수 있음.\n",
    "* 의미\n",
    "    * `price_page.read()`: `price_page` 변수에 값으로 할당된 문서에 포함된 내용을 읽음.\n",
    "    * `price_page.read().decode(\"utf8\")`: 읽은 내용을 utf8 방식으로 디코딩."
   ]
  },
  {
   "cell_type": "markdown",
   "metadata": {},
   "source": [
    "#### 객체와 메서드"
   ]
  },
  {
   "cell_type": "markdown",
   "metadata": {},
   "source": [
    "`price_page`, `read()`, `decode(\"utf8\")`를 점을 찍어 서로 구분하였지만 \n",
    "앞서 패키지와 모듈의 관계가 아니다.\n",
    "\n",
    "여기서 점으로 구분되는 것은 **객체**(object)와 **메서드**(method)이다.\n",
    "\n",
    "* 어원\n",
    "    * 객체: 여기서는 특정 자료형(클래스)의 값으로 이해할 수 있음.\n",
    "    * 메서드: 특정 자료형의 값에만 적용되는 함수.\n",
    "* 의미\n",
    "    * `price_page`: `HTTPResponse`라는 클래스의 객체\n",
    "    * `price_page.read()`: `price_page` 객체에 포함된 내용을 가리킴.\n",
    "        * `read()`는 `HTTPResponse` 클래스의 객체에만 적용되는 함수임.\n",
    "        * `read()`가 내주는 값은 `bytes` 자료형의 값임.\n",
    "    * `price_page.read().decode(\"utf8\")`\n",
    "        * `read()` 함수가 읽어온 문서 내용을 인자로 받아 utf8 방식으로 디코딩함.\n",
    "        * 디코딩 결과는 문자열 자료형 `str`의 값, 즉 문자열임.\n",
    "        \n",
    "실제로 각 객체의 자료형을 확인하면 다음과 같다."
   ]
  },
  {
   "cell_type": "code",
   "execution_count": 53,
   "metadata": {},
   "outputs": [
    {
     "data": {
      "text/plain": [
       "http.client.HTTPResponse"
      ]
     },
     "execution_count": 53,
     "metadata": {},
     "output_type": "execute_result"
    }
   ],
   "source": [
    "type(price_page)"
   ]
  },
  {
   "cell_type": "code",
   "execution_count": 54,
   "metadata": {},
   "outputs": [
    {
     "data": {
      "text/plain": [
       "bytes"
      ]
     },
     "execution_count": 54,
     "metadata": {},
     "output_type": "execute_result"
    }
   ],
   "source": [
    "type(price_page.read())"
   ]
  },
  {
   "cell_type": "code",
   "execution_count": 55,
   "metadata": {},
   "outputs": [
    {
     "data": {
      "text/plain": [
       "str"
      ]
     },
     "execution_count": 55,
     "metadata": {},
     "output_type": "execute_result"
    }
   ],
   "source": [
    "type(price_page.read().decode(\"utf8\"))"
   ]
  },
  {
   "cell_type": "markdown",
   "metadata": {},
   "source": [
    "#### `print` 함수의 역할"
   ]
  },
  {
   "cell_type": "markdown",
   "metadata": {},
   "source": [
    "`print` 함수는 문자열 자료형을 나타내는 인용부호도 보여주지 않으며\n",
    "줄바꾸기 기호(`\\n`)를 보여주는 대신에\n",
    "실제로 줄바꾸기를 실행해서 \n",
    "격식을 갖춘 문장으로 보여준다. \n",
    "`print` 함수를 사용하지 않으면 \n",
    "훨씬 읽기 어려운 순수 문자열에 불과함을 \n",
    "아래와 같이 확인할 수 있다."
   ]
  },
  {
   "cell_type": "code",
   "execution_count": 56,
   "metadata": {},
   "outputs": [
    {
     "data": {
      "text/plain": [
       "'<html><head><title>Welcome to the Beans\\'R\\'Us Pricing Page</title>\\n<link rel=\"stylesheet\" type=\"text/css\" href=\"beansrus.css\" />\\n</head><body>\\n<h2>Welcome to the Beans\\'R\\'Us Pricing Page</h2>\\n<p>Current price of coffee beans = <strong>$5.84</strong></p>\\n<p>Price valid for 15 minutes from Wed Mar 18 14:51:02 2020.</p>\\n</body></html>\\n'"
      ]
     },
     "execution_count": 56,
     "metadata": {},
     "output_type": "execute_result"
    }
   ],
   "source": [
    "page_text"
   ]
  },
  {
   "cell_type": "markdown",
   "metadata": {},
   "source": [
    "즉, 앞서 언급하였듯이 하나의 상당히 긴 문자열이다. 실제로 줄바꾸기 기호(`\\n`)가 일곱 번 사용되었음을\n",
    "확인 할 수 있다. "
   ]
  },
  {
   "cell_type": "markdown",
   "metadata": {},
   "source": [
    "<p>\n",
    "<table cellspacing=\"20\">\n",
    "<tr>\n",
    "<td>\n",
    "<img src=\"images/without-print.png\">\n",
    "</td>\n",
    "</tr>\n",
    "</table>\n",
    "</p>"
   ]
  },
  {
   "cell_type": "markdown",
   "metadata": {},
   "source": [
    "아래와 같이 `print` 함수를 호출했을 때의 결과에서 총 일곱 줄이 보인다. \n",
    "줄바꾸기를 일곱 번하면 여덟 줄이 나와야 하지만 마지막 줄바꾸기 이후에 나오는 문장이 없어서\n",
    "마지막 줄이 눈에 보이지 않아 일곱 줄로 보인다."
   ]
  },
  {
   "cell_type": "code",
   "execution_count": 57,
   "metadata": {},
   "outputs": [
    {
     "name": "stdout",
     "output_type": "stream",
     "text": [
      "<html><head><title>Welcome to the Beans'R'Us Pricing Page</title>\n",
      "<link rel=\"stylesheet\" type=\"text/css\" href=\"beansrus.css\" />\n",
      "</head><body>\n",
      "<h2>Welcome to the Beans'R'Us Pricing Page</h2>\n",
      "<p>Current price of coffee beans = <strong>$5.84</strong></p>\n",
      "<p>Price valid for 15 minutes from Wed Mar 18 14:51:02 2020.</p>\n",
      "</body></html>\n",
      "\n"
     ]
    }
   ],
   "source": [
    "print(page_text)"
   ]
  },
  {
   "cell_type": "markdown",
   "metadata": {},
   "source": [
    "## 문자열에서 정보 찾기"
   ]
  },
  {
   "cell_type": "markdown",
   "metadata": {},
   "source": [
    "앞서 `text` 변수에 할당된 값은 HTML 소스코드를 하나의 긴 문장으로 담고 있는 문자열임을 확인하였다.\n",
    "실제로 줄바꾸기 기호(`\\n`)도 하나의 문자이며 공백(` `), 인용부호(`'`) 등도 모두 하나의 문자로 처리된다."
   ]
  },
  {
   "cell_type": "markdown",
   "metadata": {},
   "source": [
    "### 문자열 자료형"
   ]
  },
  {
   "cell_type": "markdown",
   "metadata": {},
   "source": [
    "문자열 자료형은 문자열, 즉, 문자들을 나열한 값들을 일컫는 자료형이다. \n",
    "모든 프로그래밍언어에 공통으로 사용되며, 프로그래밍 요소 중에 가장 핵심이라고 할 수 있다.\n",
    "파이썬에서 문자열 자료형은 `str`로 표시되며 string(스트링, 문자열)의 줄임말이다.\n",
    "\n",
    "문자열 자료형은 시퀀스(sequence) 자료형(data type)의 한 종류이며,\n",
    "문자열 자료형에 대한 보다 자세한 설명은 [2장 추가자료](https://github.com/liganega/bpp/blob/master/notes/02-ThinkPython-Strings.ipynb)를 참조하면 된다.\n",
    "문자열 이외에 시퀀스 자료형으로 불리는 자료형에는 리스트, 어레이, 튜플, 사전 등이 있으며\n",
    "이후에 함께 살펴볼 것이다."
   ]
  },
  {
   "cell_type": "markdown",
   "metadata": {},
   "source": [
    "### 문자열 색인과 `find` 메소드"
   ]
  },
  {
   "cell_type": "markdown",
   "metadata": {},
   "source": [
    "`text` 변수에 할당된 소스코드 문자열에서 커피 원두콩의 시세 정보만을 추출하고자 할 때 색인(인덱스, 오프셋) 정보를 활용한다. \n",
    "\n",
    "현재 원두콩의 시세 정보는 `5.85`인데 어떻게 시세 정보만을 프로그램이 추출할 수 있도록 할 수 있을까?\n",
    "즉, 사람이 눈으로 보면서, 영어 문장을 이해하면서 시세 정보를 찾는 방식이 아니라\n",
    "기계가 순전히 문자들의 모양만 보고 시세 정보를 알아내야 한다."
   ]
  },
  {
   "cell_type": "markdown",
   "metadata": {},
   "source": [
    "#### 주의사항\n",
    "* `5.85` 부분은 위 프로그램을 실행할 때마다 변한다. \n",
    "* 다만, 소수점을 포함해서 길이가 4인 문자열이라는 점은 변하지 않는다."
   ]
  },
  {
   "cell_type": "markdown",
   "metadata": {},
   "source": [
    "가장 간단한 방법은 `'5.85'`라는 부분 문자열이 `text`에 할당된 문자열의 어느 곳에 위치하는지를 알아내는 것이다.\n",
    "이를 위해 **색인** 정보를 활용한다.\n",
    "\n",
    "먼저, `5.85`의 첫째 `5`의 색인을 수동으로 확인해 보면 234임을 알 수 있고, 그곳에서부터 4개의 문자를 읽으면\n",
    "아래에서 보듯이 원하는 시세 정보임을 알 수 있다.\n",
    "아래 코드는 색인 정보와 슬라이싱 기술을 활용한 결과를 보여준다."
   ]
  },
  {
   "cell_type": "code",
   "execution_count": 8,
   "metadata": {},
   "outputs": [
    {
     "data": {
      "text/plain": [
       "'5.65'"
      ]
     },
     "execution_count": 8,
     "metadata": {},
     "output_type": "execute_result"
    }
   ],
   "source": [
    "text[234:238]"
   ]
  },
  {
   "cell_type": "markdown",
   "metadata": {},
   "source": [
    "그런데 위와 같이 수동으로 색인을 확인하는 방식은 아래의 문제점들을 갖고 있다. \n",
    "\n",
    "* 셈이 틀릴 수 있다.\n",
    "* 문자열이 길 경우 셈 자체가 불가능할 수 있다.\n",
    "* 문자열이 조금만 변경되어도 새로 처음부터 세어야 하기 때문에 경우에 따라 재활용이 불가능하다.\n",
    "\n",
    "예를 들어, 주요 고객에게만 제공하는 좀 더 저렴한 커피 원두콩 시세 정보를 전달하는 아래 사이트에 \n",
    "동일한 프로그램을 적용하면 엉뚱한 결과를 얻게 된다.\n",
    "\n",
    "http://beans-r-us.appspot.com/prices-loyalty.html"
   ]
  },
  {
   "cell_type": "code",
   "execution_count": 9,
   "metadata": {},
   "outputs": [],
   "source": [
    "import urllib.request\n",
    "\n",
    "page = urllib.request.urlopen(\"http://beans-r-us.appspot.com/prices-loyalty.html\")\n",
    "text = page.read().decode(\"utf8\")"
   ]
  },
  {
   "cell_type": "code",
   "execution_count": 10,
   "metadata": {},
   "outputs": [
    {
     "data": {
      "text/plain": [
       "'bean'"
      ]
     },
     "execution_count": 10,
     "metadata": {},
     "output_type": "execute_result"
    }
   ],
   "source": [
    "text[234:238]"
   ]
  },
  {
   "cell_type": "markdown",
   "metadata": {},
   "source": [
    "수동으로 색인을 확인하는 방법의 한계를 극복하기 위해 다른 도구를 활용해야 하는데,\n",
    "여기서는 `find`라는 문자열 메소드를 사용한다.\n",
    "\n",
    "다시 원래의 질문으로 돌아가서 어떻게 시세 정보가 시작하는 곳의 색인을 구할 수 있는지 생각해보자.\n",
    "원하는 색인을 특징지울 수 있는 무언가를 찾아야 한다.\n",
    "\n",
    "예를 들어, 시세 정보는 `'>$'` 라는 문자열 바로 다음부터 시작한다는 특징을 이용한다.\n",
    "즉, 문자열 `'>$'`가 `text`에 할당된 문자열의 어느 위치에서 시작하는지를 알아내기만 하면 된다.\n",
    "그리고 이 정보는 바로 `find` 메소드가 찾아준다."
   ]
  },
  {
   "cell_type": "code",
   "execution_count": 11,
   "metadata": {},
   "outputs": [
    {
     "data": {
      "text/plain": [
       "249"
      ]
     },
     "execution_count": 11,
     "metadata": {},
     "output_type": "execute_result"
    }
   ],
   "source": [
    "text.find('>$')"
   ]
  },
  {
   "cell_type": "markdown",
   "metadata": {},
   "source": [
    "즉, 249번 색인 위치에서부터 `'>$'`가 시작한다는 의미이다.\n",
    "따라서 그보다 2보다 큰 251번 색인에서 시세 정보가 시작한다는 것을 알게 되었다.\n",
    "따라서 시세 정보를 아래와 같이 알아낼 수 있다."
   ]
  },
  {
   "cell_type": "code",
   "execution_count": 12,
   "metadata": {},
   "outputs": [],
   "source": [
    "where = text.find('>$') + 2\n",
    "price = text[where : where + 4]"
   ]
  },
  {
   "cell_type": "code",
   "execution_count": 13,
   "metadata": {},
   "outputs": [
    {
     "data": {
      "text/plain": [
       "'4.32'"
      ]
     },
     "execution_count": 13,
     "metadata": {},
     "output_type": "execute_result"
    }
   ],
   "source": [
    "price"
   ]
  },
  {
   "cell_type": "markdown",
   "metadata": {},
   "source": [
    "이렇게 `find` 메소드를 활용하면 웹페이지가 조금 변경된다 하더라도 동일한 프로그램을 이용하여 가격정보를 얻어낼 수 있다."
   ]
  },
  {
   "cell_type": "markdown",
   "metadata": {},
   "source": [
    "* 커피 원두콩 시세 정보 사이트(일반고객용)"
   ]
  },
  {
   "cell_type": "code",
   "execution_count": 14,
   "metadata": {},
   "outputs": [
    {
     "name": "stdout",
     "output_type": "stream",
     "text": [
      "6.56\n"
     ]
    }
   ],
   "source": [
    "import urllib.request\n",
    "\n",
    "page = urllib.request.urlopen(\"http://beans-r-us.appspot.com/prices.html\")\n",
    "text = page.read().decode(\"utf8\")\n",
    "\n",
    "where = text.find('>$') + 2\n",
    "price = text[where : where + 4]\n",
    "\n",
    "print(price)"
   ]
  },
  {
   "cell_type": "markdown",
   "metadata": {},
   "source": [
    "* 커피 원두콩 시세 정보 사이트(주요고객용)"
   ]
  },
  {
   "cell_type": "code",
   "execution_count": 15,
   "metadata": {},
   "outputs": [
    {
     "name": "stdout",
     "output_type": "stream",
     "text": [
      "4.26\n"
     ]
    }
   ],
   "source": [
    "import urllib.request\n",
    "\n",
    "page = urllib.request.urlopen(\"http://beans-r-us.appspot.com/prices-loyalty.html\")\n",
    "text = page.read().decode(\"utf8\")\n",
    "\n",
    "where = text.find('>$') + 2\n",
    "price = text[where : where + 4]\n",
    "\n",
    "print(price)"
   ]
  },
  {
   "cell_type": "markdown",
   "metadata": {},
   "source": [
    "#### 주의사항\n",
    "\n",
    "`price` 변수에 저장된 커피콩의 가격정보는 문자열로 저장되어 있다."
   ]
  },
  {
   "cell_type": "code",
   "execution_count": 16,
   "metadata": {},
   "outputs": [
    {
     "data": {
      "text/plain": [
       "str"
      ]
     },
     "execution_count": 16,
     "metadata": {},
     "output_type": "execute_result"
    }
   ],
   "source": [
    "type(price)"
   ]
  },
  {
   "cell_type": "markdown",
   "metadata": {},
   "source": [
    "그래서 예를 들어 커피콩 가격이 6달러 이상이면 매장의 아메리카노 가격을 올리고,\n",
    "그렇지 않으면 가격을 그대로 유지하는 것을 실행하도록 하는 \n",
    "코드를 작성할 수가 없다.\n",
    "\n",
    "이유는, 문자열은 숫자가 아니라서 문자열과 숫자를 직접 비교할 수 없기 때문이다.\n",
    "하지만 숫자로만 이루어닌 문자열을 진짜 숫자로 형변환시킬 수 있다.\n",
    "예를 들어 `int` 또는 `float` 함수를 이용한다. \n",
    "\n",
    "**주의:** `int` 함수의 활용은 1장에서 보았다."
   ]
  },
  {
   "cell_type": "markdown",
   "metadata": {},
   "source": [
    "예를 들어 아래 코드는 타입 오류를 발생시킨다. \n",
    "비교하는 두 값의 자료형이 다르기 때문이다."
   ]
  },
  {
   "cell_type": "code",
   "execution_count": 17,
   "metadata": {},
   "outputs": [
    {
     "ename": "TypeError",
     "evalue": "'>' not supported between instances of 'str' and 'float'",
     "output_type": "error",
     "traceback": [
      "\u001b[0;31m---------------------------------------------------------------------------\u001b[0m",
      "\u001b[0;31mTypeError\u001b[0m                                 Traceback (most recent call last)",
      "\u001b[0;32m<ipython-input-17-9e48960d5a5f>\u001b[0m in \u001b[0;36m<module>\u001b[0;34m()\u001b[0m\n\u001b[0;32m----> 1\u001b[0;31m \u001b[0;34m'4.2'\u001b[0m \u001b[0;34m>\u001b[0m \u001b[0;36m2.1\u001b[0m\u001b[0;34m\u001b[0m\u001b[0m\n\u001b[0m",
      "\u001b[0;31mTypeError\u001b[0m: '>' not supported between instances of 'str' and 'float'"
     ]
    }
   ],
   "source": [
    "'4.2' > 2.1"
   ]
  },
  {
   "cell_type": "markdown",
   "metadata": {},
   "source": [
    "반면에 `float` 함수를 활용하면 오류가 발생하지 않는다."
   ]
  },
  {
   "cell_type": "code",
   "execution_count": 18,
   "metadata": {},
   "outputs": [
    {
     "data": {
      "text/plain": [
       "True"
      ]
     },
     "execution_count": 18,
     "metadata": {},
     "output_type": "execute_result"
    }
   ],
   "source": [
    "float('4.2') > 2.1"
   ]
  },
  {
   "cell_type": "markdown",
   "metadata": {},
   "source": [
    "#### 주의사항\n",
    "`int`와 `float` 함수는 각각 정수 모양 또는 부동소수점 모양일 경우에만 제대로 작동한다."
   ]
  },
  {
   "cell_type": "code",
   "execution_count": 19,
   "metadata": {},
   "outputs": [
    {
     "ename": "ValueError",
     "evalue": "invalid literal for int() with base 10: '4.2'",
     "output_type": "error",
     "traceback": [
      "\u001b[0;31m---------------------------------------------------------------------------\u001b[0m",
      "\u001b[0;31mValueError\u001b[0m                                Traceback (most recent call last)",
      "\u001b[0;32m<ipython-input-19-b5a62d34836a>\u001b[0m in \u001b[0;36m<module>\u001b[0;34m()\u001b[0m\n\u001b[0;32m----> 1\u001b[0;31m \u001b[0mint\u001b[0m\u001b[0;34m(\u001b[0m\u001b[0;34m'4.2'\u001b[0m\u001b[0;34m)\u001b[0m \u001b[0;34m>\u001b[0m \u001b[0;36m2.1\u001b[0m\u001b[0;34m\u001b[0m\u001b[0m\n\u001b[0m",
      "\u001b[0;31mValueError\u001b[0m: invalid literal for int() with base 10: '4.2'"
     ]
    }
   ],
   "source": [
    "int('4.2') > 2.1"
   ]
  },
  {
   "cell_type": "code",
   "execution_count": 20,
   "metadata": {},
   "outputs": [
    {
     "ename": "ValueError",
     "evalue": "could not convert string to float: '4.2g'",
     "output_type": "error",
     "traceback": [
      "\u001b[0;31m---------------------------------------------------------------------------\u001b[0m",
      "\u001b[0;31mValueError\u001b[0m                                Traceback (most recent call last)",
      "\u001b[0;32m<ipython-input-20-0ffd8171e715>\u001b[0m in \u001b[0;36m<module>\u001b[0;34m()\u001b[0m\n\u001b[0;32m----> 1\u001b[0;31m \u001b[0mfloat\u001b[0m\u001b[0;34m(\u001b[0m\u001b[0;34m'4.2g'\u001b[0m\u001b[0;34m)\u001b[0m \u001b[0;34m>\u001b[0m \u001b[0;36m2.1\u001b[0m\u001b[0;34m\u001b[0m\u001b[0m\n\u001b[0m",
      "\u001b[0;31mValueError\u001b[0m: could not convert string to float: '4.2g'"
     ]
    }
   ],
   "source": [
    "float('4.2g') > 2.1"
   ]
  },
  {
   "cell_type": "markdown",
   "metadata": {},
   "source": [
    "## 커피콩 가격 정보 활용 코드 예제 1"
   ]
  },
  {
   "cell_type": "markdown",
   "metadata": {},
   "source": [
    "지금까지 배운 내용을 이용하여 커피콩 가격이 6.0달러 이상이면 매장의 아메리카노 가격을 올리고, 그렇지 않으면 가격을 그대로 유지하는 것을 실행하도록 하는 코드를 작성하면 다음과 같다. \n",
    "가격 확인은 1초에 한 번 하는 것으로 한다. "
   ]
  },
  {
   "cell_type": "markdown",
   "metadata": {},
   "source": [
    "#### 주의사항\n",
    "* 시차를 두고 코드를 실행하기 위해 `time` 모듈의 `sleep` 함수를 활용한다.\n",
    "* 기준 가격을 높게 책정하면 너무 오랫동안 기다려야 할 수도 있다."
   ]
  },
  {
   "cell_type": "code",
   "execution_count": 21,
   "metadata": {},
   "outputs": [
    {
     "name": "stdout",
     "output_type": "stream",
     "text": [
      "커피콩 현재 가격이 6.53 입니다. 아메리카노 가격을 인상하세요!\n"
     ]
    }
   ],
   "source": [
    "import urllib.request\n",
    "import time             # 시간과 관련된 함수들의 모듈\n",
    "\n",
    "price = 5.0\n",
    "\n",
    "while price < 6.0:\n",
    "    time.sleep(1)       # 코드 실행을 1초 정지한다.\n",
    "    \n",
    "    page = urllib.request.urlopen(\"http://beans-r-us.appspot.com/prices.html\")\n",
    "    text = page.read().decode(\"utf8\")\n",
    "    \n",
    "    where = text.find(\">$\") + 2\n",
    "    price = float(text[where : where + 4])\n",
    "    \n",
    "print(\"커피콩 현재 가격이\", price, \"입니다. 아메리카노 가격을 인상하세요!\")"
   ]
  },
  {
   "cell_type": "markdown",
   "metadata": {},
   "source": [
    "## 커피콩 가격 정보 활용 코드 예제 2"
   ]
  },
  {
   "cell_type": "markdown",
   "metadata": {},
   "source": [
    "위 코드를 수정하여, 아래 내용을 수행하는 함수를 작성하라.\n",
    "\n",
    "* 함수 이름: `price_setter`\n",
    "\n",
    "\n",
    "* 함수에 사용되는 인자 두 개\n",
    "    * 첫째 인자(`b_price`): 기존의 커피콩 가격\n",
    "    * 둘째 인자(`a_price`): 아메리카노 인상 또는 인하 가격\n",
    "\n",
    "\n",
    "* `price_setter(b_price, a_price)`를 실행할 때\n",
    "    * `b_price`는 커피콩의 기존 가격을 의미한다. \n",
    "        서버의 특징 상 5.5와 6.0 사이의 숫자로 주는 게 좋다.\n",
    "    * 커피콩의 실시간 가격이 `b_price` 보다 0.5 달러 이하면\n",
    "        아메리카노 가격을 `a_price` 만큼 내릴 것을 권유\n",
    "    * 커피콩의 실시간 가격이 `b_price` 보다 0.5 달러 이상이면\n",
    "        아메리카노 가격을 `a_price` 만큼 올릴 것을 권유"
   ]
  },
  {
   "cell_type": "code",
   "execution_count": 1,
   "metadata": {},
   "outputs": [],
   "source": [
    "import urllib.request\n",
    "import time          \n",
    "\n",
    "def price_setter(b_price, a_price):\n",
    "    price = b_price\n",
    "    while 5.5 < price < 6.0:\n",
    "        time.sleep(1)       # 코드 실행을 1초 정지한다.\n",
    "\n",
    "        page = urllib.request.urlopen(\"http://beans-r-us.appspot.com/prices.html\")\n",
    "        text = page.read().decode(\"utf8\")\n",
    "\n",
    "        where = text.find(\">$\") + 2\n",
    "        price = float(text[where : where + 4])\n",
    "        \n",
    "    print(\"현재 커피콩 가격이\", price, \"달러 입니다.\")\n",
    "\n",
    "    if price <= 5.5:\n",
    "        print(\"아메리카노 가격을\", a_price, \"달러만큼 인하하세요!\")\n",
    "    else:\n",
    "        print(\"아메리카노 가격을\", a_price, \"달러만큼 인상하세요!\")"
   ]
  },
  {
   "cell_type": "markdown",
   "metadata": {},
   "source": [
    "예를 들어, 현재 커피콩의 가격이 5.7달러이고, 커피콩의 실시간 가격이\n",
    "5.2달러 이하이면 아메리카노의 가격을 50센트 내리고\n",
    "6.2달러 이상이면 50센트 올리라고 권유하고자 한다면 아래와 같이 \n",
    "`price_setter()` 함수를 호출하면 된다."
   ]
  },
  {
   "cell_type": "code",
   "execution_count": 24,
   "metadata": {},
   "outputs": [
    {
     "name": "stdout",
     "output_type": "stream",
     "text": [
      "현재 커피콩 가격이 6.29 달러 입니다.\n",
      "아메리카노 가격을 0.5 달러만큼 인상하세요!\n"
     ]
    }
   ],
   "source": [
    "price_setter(5.7, 0.5)"
   ]
  },
  {
   "cell_type": "markdown",
   "metadata": {},
   "source": [
    "## 문자열 관련 메소드\n",
    "\n",
    "`find` 메소드처럼 문자열 자료형에만 사용하는 함수들이 있다. \n",
    "이와같이 특정 자료형에만 사용하는 함수들을 __메소드__라 부른다.\n",
    "\n",
    "보다 자세한 설명은 여기서는 하지 않는다.\n",
    "다만 `find` 메소드의 활용을 통해 보았듯이 특정 자료형을 잘 다루기 위해서는 \n",
    "어떤 경우에 어떤 메소드를 유용하게 활용할 수 있는지를 잘 파악해두는 것이 매우 \n",
    "중요하다는 점만 강조한다."
   ]
  },
  {
   "cell_type": "markdown",
   "metadata": {},
   "source": [
    "### 메소드 호출 방법\n",
    "\n",
    "앞서 `find()` 메소드를 호출하는 방법을 기억해야 한다. \n",
    "\n",
    "    text.find(\"<$\")\n",
    "\n",
    "메소드는 일반적인 함수들과는 달리, 특정 자료형의 값이 먼저 언급된 다음에\n",
    "호출된다. \n",
    "\n",
    "**주의:** 메소드의 호출방식은 다른 자료형의 경우에도 동일하다. "
   ]
  },
  {
   "cell_type": "markdown",
   "metadata": {},
   "source": [
    "### 문자열 메소드 추가 예제\n",
    "\n",
    "`find()` 메소드 이외에 문자열과 관련된 메소드는 매우 많다. \n",
    "여기서는 가장 많이 사용되는 메소드 몇 개를 소개하고자 한다.\n",
    "\n",
    "* `strip()`\n",
    "* `split()`\n",
    "* `replace()`\n",
    "* `upper()`\n",
    "* `lower()`\n",
    "* `capitalize()`\n",
    "* `title()`\n",
    "* `startswith()`\n",
    "* `endswith()`\n",
    "\n",
    "예제를 통해 각 메소드의 활용법을 간략하게 확인한다.\n",
    "\n",
    "먼저 `week_days` 변수에 요일들을 저장한다."
   ]
  },
  {
   "cell_type": "code",
   "execution_count": 25,
   "metadata": {},
   "outputs": [],
   "source": [
    "week_days = \" Mon, Tue, Wed, Thu, Fri, Sat, Sun \""
   ]
  },
  {
   "cell_type": "markdown",
   "metadata": {},
   "source": [
    "* `strip()` 메소드는 문자열의 양 끝을 지정한 문자열 기준으로 삭제하는 방식으로 정리한다.\n",
    "\n",
    "예를 들어, 문자열 양끝에 있는 스페이스를 삭제하고자 할 경우 아래와 같이 실행한다."
   ]
  },
  {
   "cell_type": "code",
   "execution_count": 26,
   "metadata": {},
   "outputs": [
    {
     "data": {
      "text/plain": [
       "'Mon, Tue, Wed, Thu, Fri, Sat, Sun'"
      ]
     },
     "execution_count": 26,
     "metadata": {},
     "output_type": "execute_result"
    }
   ],
   "source": [
    "week_days.strip(\" \")"
   ]
  },
  {
   "cell_type": "markdown",
   "metadata": {},
   "source": [
    "`strip()` 메소드를 인자 없이 호출하는 경우와 동일하다."
   ]
  },
  {
   "cell_type": "code",
   "execution_count": 27,
   "metadata": {},
   "outputs": [
    {
     "data": {
      "text/plain": [
       "'Mon, Tue, Wed, Thu, Fri, Sat, Sun'"
      ]
     },
     "execution_count": 27,
     "metadata": {},
     "output_type": "execute_result"
    }
   ],
   "source": [
    "week_days.strip()"
   ]
  },
  {
   "cell_type": "markdown",
   "metadata": {},
   "source": [
    "* `split()` 메소드는 지정된 부분문자열을 기준으로 문자열을 쪼개어 문자열들의 리스트로 반환한다.\n",
    "    리스트 자료형은 이후에 자세히 다룬다. 여기서는 기본적으로 알고 있는 내용으로 이해하면 된다.\n",
    "\n",
    "아래 예제는 `\", \"`, 즉 콤마와 스페이스를 기준으로 문자열을 쪼갠다."
   ]
  },
  {
   "cell_type": "code",
   "execution_count": 28,
   "metadata": {},
   "outputs": [
    {
     "data": {
      "text/plain": [
       "[' Mon', 'Tue', 'Wed', 'Thu', 'Fri', 'Sat', 'Sun ']"
      ]
     },
     "execution_count": 28,
     "metadata": {},
     "output_type": "execute_result"
    }
   ],
   "source": [
    "week_days.split(\", \")"
   ]
  },
  {
   "cell_type": "markdown",
   "metadata": {},
   "source": [
    "두 개 이상의 메소드를 조합해서 활용할 수도 있다.\n",
    "\n",
    "예를 들어, `strip()` 메소드를 먼저 실행한 다음에 그 결과에 `split()` 메소드를 실행하면\n",
    "좀 더 산뜻한 결과를 얻을 수 있다."
   ]
  },
  {
   "cell_type": "code",
   "execution_count": 29,
   "metadata": {},
   "outputs": [
    {
     "data": {
      "text/plain": [
       "['Mon', 'Tue', 'Wed', 'Thu', 'Fri', 'Sat', 'Sun']"
      ]
     },
     "execution_count": 29,
     "metadata": {},
     "output_type": "execute_result"
    }
   ],
   "source": [
    "week_days.strip(\" \").split(\", \")"
   ]
  },
  {
   "cell_type": "markdown",
   "metadata": {},
   "source": [
    "* `replace()` 메소드는 하나의 문자열을 다른 문자열로 대체한다.\n",
    "\n",
    "예를 들어, `\" Mon\"`을 `\"Mon\"`으로 대체할 경우 아래와 같이 실행한다."
   ]
  },
  {
   "cell_type": "code",
   "execution_count": 30,
   "metadata": {},
   "outputs": [
    {
     "data": {
      "text/plain": [
       "'Mon, Tue, Wed, Thu, Fri, Sat, Sun '"
      ]
     },
     "execution_count": 30,
     "metadata": {},
     "output_type": "execute_result"
    }
   ],
   "source": [
    "week_days.replace(\" Mon\", \"Mon\")"
   ]
  },
  {
   "cell_type": "markdown",
   "metadata": {},
   "source": [
    "* `upper()` 메소드는 모든 문자를 대문자로 변환시킨다."
   ]
  },
  {
   "cell_type": "code",
   "execution_count": 31,
   "metadata": {},
   "outputs": [
    {
     "data": {
      "text/plain": [
       "' MON, TUE, WED, THU, FRI, SAT, SUN '"
      ]
     },
     "execution_count": 31,
     "metadata": {},
     "output_type": "execute_result"
    }
   ],
   "source": [
    "week_days.upper()"
   ]
  },
  {
   "cell_type": "code",
   "execution_count": 32,
   "metadata": {},
   "outputs": [
    {
     "data": {
      "text/plain": [
       "'MON, TUE, WED, THU, FRI, SAT, SUN'"
      ]
     },
     "execution_count": 32,
     "metadata": {},
     "output_type": "execute_result"
    }
   ],
   "source": [
    "week_days.strip().upper()"
   ]
  },
  {
   "cell_type": "markdown",
   "metadata": {},
   "source": [
    "* `lower()` 메소드는 모든 문자를 소문자로 변환시킨다."
   ]
  },
  {
   "cell_type": "code",
   "execution_count": 33,
   "metadata": {},
   "outputs": [
    {
     "data": {
      "text/plain": [
       "' mon, tue, wed, thu, fri, sat, sun '"
      ]
     },
     "execution_count": 33,
     "metadata": {},
     "output_type": "execute_result"
    }
   ],
   "source": [
    "week_days.lower()"
   ]
  },
  {
   "cell_type": "code",
   "execution_count": 34,
   "metadata": {},
   "outputs": [
    {
     "data": {
      "text/plain": [
       "'mon, tue, wed, thu, fri, sat, sun'"
      ]
     },
     "execution_count": 34,
     "metadata": {},
     "output_type": "execute_result"
    }
   ],
   "source": [
    "week_days.strip().lower()"
   ]
  },
  {
   "cell_type": "code",
   "execution_count": 35,
   "metadata": {},
   "outputs": [
    {
     "data": {
      "text/plain": [
       "['mon', 'tue', 'wed', 'thu', 'fri', 'sat', 'sun']"
      ]
     },
     "execution_count": 35,
     "metadata": {},
     "output_type": "execute_result"
    }
   ],
   "source": [
    "week_days.strip().lower().split(\", \")"
   ]
  },
  {
   "cell_type": "markdown",
   "metadata": {},
   "source": [
    "* `capitalize()` 메소드는 제일 첫 문자를 대문자로 변환시킨다.\n",
    "\n",
    "아래 예제는 변화가 없어 보인다. 이유는 첫 문자가 스페이스이기 때문이다."
   ]
  },
  {
   "cell_type": "code",
   "execution_count": 36,
   "metadata": {},
   "outputs": [
    {
     "data": {
      "text/plain": [
       "' mon, tue, wed, thu, fri, sat, sun '"
      ]
     },
     "execution_count": 36,
     "metadata": {},
     "output_type": "execute_result"
    }
   ],
   "source": [
    "week_days.capitalize()"
   ]
  },
  {
   "cell_type": "code",
   "execution_count": 37,
   "metadata": {},
   "outputs": [
    {
     "data": {
      "text/plain": [
       "'Mon, tue, wed, thu, fri, sat, sun'"
      ]
     },
     "execution_count": 37,
     "metadata": {},
     "output_type": "execute_result"
    }
   ],
   "source": [
    "week_days.strip().capitalize()"
   ]
  },
  {
   "cell_type": "markdown",
   "metadata": {},
   "source": [
    "* `title()` 메소드는 각각의 단어의 첫 문자를 대문자로 변환시킨다.\n",
    "\n",
    "참조: 영문 책 제목의 타이틀에서 각 단어의 첫 알파벳이 대문자로 쓰여지는 경우가 많다."
   ]
  },
  {
   "cell_type": "code",
   "execution_count": 38,
   "metadata": {},
   "outputs": [
    {
     "data": {
      "text/plain": [
       "' Mon, Tue, Wed, Thu, Fri, Sat, Sun '"
      ]
     },
     "execution_count": 38,
     "metadata": {},
     "output_type": "execute_result"
    }
   ],
   "source": [
    "week_days.title()"
   ]
  },
  {
   "cell_type": "code",
   "execution_count": 39,
   "metadata": {},
   "outputs": [
    {
     "data": {
      "text/plain": [
       "'Mon, Tue, Wed, Thu, Fri, Sat, Sun'"
      ]
     },
     "execution_count": 39,
     "metadata": {},
     "output_type": "execute_result"
    }
   ],
   "source": [
    "week_days.strip().title()"
   ]
  },
  {
   "cell_type": "markdown",
   "metadata": {},
   "source": [
    "* `startswith()` 메소드는 문자열이 특정 문자열로 시작하는지 여부를 판단해준다."
   ]
  },
  {
   "cell_type": "code",
   "execution_count": 40,
   "metadata": {},
   "outputs": [
    {
     "data": {
      "text/plain": [
       "True"
      ]
     },
     "execution_count": 40,
     "metadata": {},
     "output_type": "execute_result"
    }
   ],
   "source": [
    "week_days.startswith(\" M\")"
   ]
  },
  {
   "cell_type": "markdown",
   "metadata": {},
   "source": [
    "* `endswith()` 메소드는 문자열이 특정 문자열로 끝나는지 여부를 판단해준다."
   ]
  },
  {
   "cell_type": "code",
   "execution_count": 41,
   "metadata": {},
   "outputs": [
    {
     "data": {
      "text/plain": [
       "True"
      ]
     },
     "execution_count": 41,
     "metadata": {},
     "output_type": "execute_result"
    }
   ],
   "source": [
    "week_days.endswith(\"n \")"
   ]
  },
  {
   "cell_type": "markdown",
   "metadata": {},
   "source": [
    "## 수정이 불가능한 자료형\n",
    "\n",
    "파이썬의 문자열 자료형의 값들은 수정이 불가능하다. \n",
    "앞서  `week_days`에 할당된 문자열에 다양한 메소드를 적용하여 새로운 문자열을 생성하였지만\n",
    "`week_days`에 할당된 문자열 자체는 전혀 변하지 않았음을 아래와 같이 확인할 수 있다."
   ]
  },
  {
   "cell_type": "code",
   "execution_count": 42,
   "metadata": {},
   "outputs": [
    {
     "data": {
      "text/plain": [
       "' Mon, Tue, Wed, Thu, Fri, Sat, Sun '"
      ]
     },
     "execution_count": 42,
     "metadata": {},
     "output_type": "execute_result"
    }
   ],
   "source": [
    "week_days"
   ]
  },
  {
   "cell_type": "markdown",
   "metadata": {},
   "source": [
    "이와 같이 한 번 정해지면 절대 수정이 불가능한 자료형을 수정 불가능(immutable) 자료형이라 부른다.\n",
    "\n",
    "주어진 문자열을 이용하여 새로운 문자열을 생성하고 활용하려면 새로운 변수에 저장하여 활용해야 한다."
   ]
  },
  {
   "cell_type": "code",
   "execution_count": 43,
   "metadata": {},
   "outputs": [],
   "source": [
    "stripped_week_days = week_days.strip()"
   ]
  },
  {
   "cell_type": "code",
   "execution_count": 44,
   "metadata": {},
   "outputs": [
    {
     "data": {
      "text/plain": [
       "'Mon, Tue, Wed, Thu, Fri, Sat, Sun'"
      ]
     },
     "execution_count": 44,
     "metadata": {},
     "output_type": "execute_result"
    }
   ],
   "source": [
    "stripped_week_days"
   ]
  },
  {
   "cell_type": "markdown",
   "metadata": {},
   "source": [
    "## 이번에 배운 프로그래밍 도구\n",
    "* 문자열 자료형: 문자들의 나열로 이루어진 값들의 자료형\n",
    "* 색인: 문자열에서 개별 문자들을 참조하여 활용하는 방식\n",
    "    * 인덱스, 오프셋 등으로 불림\n",
    "    * 0부터 시작\n",
    "* 문자열 메소드: 문자열을 조작하는 도구\n",
    "* 라이브러리: 미리 구현되어 있는 코드들의 집합\n",
    "* 변수의 자료형: 변수에 할달된 값의 자료형과 동일. \n",
    "    * 할당된 값의 변하면 자료형도 변할 수 있음.\n",
    "    * C 또는 자바의 경우에는 변수의 자료형은 애초부터 선언되고 절대 변하지 않음.\n",
    "* 지금까지 다룬 자료형: 정수(`int`), 부동소수점(`float`), 문자열(`str`)"
   ]
  },
  {
   "cell_type": "markdown",
   "metadata": {},
   "source": [
    "## 이번에 사용한 파이썬 도구\n",
    "* 색인: `s[4]`는 변수 `s`에 할당된 문자열의 4번 색인에 위치한, 즉 5번째 문자\n",
    "* 슬라이싱: `s[6:12]`는 변수 `s`에 할당된 문자열 내의 6번 색인부터 11번 색인에 위치한 부분문자열\n",
    "* `find` 메소드: `s.find(부분문자열)` 는 원하는 부분문자열이 시작하는 위치의 색인을 찾아 리턴함.\n",
    "* `upper` 메소드: `s.upper()`는 모든 알파벳을 대문자로 변환시킨 새로운 문자열을 생성하여 리턴함.\n",
    "* `float` 함수: 부동소수점 모양의 문자열을 진짜 부동소수점으로 변환\n",
    "* 덧셈 연산자: `+`\n",
    "* 크기 비교 연산자: `>`, `<` 등등\n",
    "* `urllib.request` 라이브러리: 웹페이지 접속과 관련된 다양한 함수들을 담고 있는 라이브러리\n",
    "* `time` 라이브러리: 날짜 및 시간에 관한 기능을 제공하는 다양한 함수들을 담고 있는 라이브러리\n",
    "* 모듈: 파이썬에서는 하나의 라이브러리를 **모듈**이라고 부름."
   ]
  },
  {
   "cell_type": "markdown",
   "metadata": {},
   "source": [
    "## 추가 공부 사항\n",
    "\n",
    "문자열에 대한 보다 자세한 설명과 연습문제는 [여기](http://localhost:8888/notebooks/bpp/notes/02-ThinkPython-Strings.ipynb)를 참조한다."
   ]
  }
 ],
 "metadata": {
  "kernelspec": {
   "display_name": "Python 3",
   "language": "python",
   "name": "python3"
  },
  "language_info": {
   "codemirror_mode": {
    "name": "ipython",
    "version": 3
   },
   "file_extension": ".py",
   "mimetype": "text/x-python",
   "name": "python",
   "nbconvert_exporter": "python",
   "pygments_lexer": "ipython3",
   "version": "3.6.8"
  },
  "toc": {
   "base_numbering": 1,
   "nav_menu": {},
   "number_sections": false,
   "sideBar": true,
   "skip_h1_title": false,
   "title_cell": "목차",
   "title_sidebar": "Contents",
   "toc_cell": true,
   "toc_position": {
    "height": "calc(100% - 180px)",
    "left": "10px",
    "top": "150px",
    "width": "228.797px"
   },
   "toc_section_display": true,
   "toc_window_display": true
  }
 },
 "nbformat": 4,
 "nbformat_minor": 1
}
