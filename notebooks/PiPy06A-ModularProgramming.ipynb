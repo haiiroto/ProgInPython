{
 "cells": [
  {
   "cell_type": "markdown",
   "metadata": {},
   "source": [
    "# 코드 추상화: 모듈"
   ]
  },
  {
   "cell_type": "markdown",
   "metadata": {},
   "source": [
    "프로그램과 라이브러리를 모듈 단위로 나누어 관리하는 것을\n",
    "**모듈식 프로그래밍**(modular programming)이라 부른다.\n",
    "\n",
    "파이썬에서 모듈은 간단하게 말하면 하나의 파이썬 소스코드 파일이다. \n",
    "파일의 확장자가 `py`이며, \n",
    "모듈에는 서로 연관된 기능을 수행하는 함수, 변수, 클래스, 객체 등이 저장된다."
   ]
  },
  {
   "cell_type": "markdown",
   "metadata": {},
   "source": [
    "## 모듈 종류"
   ]
  },
  {
   "cell_type": "markdown",
   "metadata": {},
   "source": [
    "모듈은 크게 세 종류로 나뉜다.\n",
    "\n",
    "* 내장 모듈(built-in module): 파이썬에서 기본적으로 제공하는 모듈\n",
    "    * 파이썬을 설치할 때 기본으로 제공되는 모듈\n",
    "    * 예제: `math`, `urllib.request`, `random`, `turtle` 등등\n",
    "* 추가 라이브러리 모듈: 제3자에 의해 제공된 라이브러리에 포함된 모듈\n",
    "    * 제3자가 제공한 라이브러리를 설치할 때 제공되는 모듈\n",
    "    * 예제: `matplotlib.pyplot`, `pygame.mixer` 등등\n",
    "* 사용자 정의 모듈: 개인 프로젝트를 진행하면서 작성한 모듈\n",
    "    * 프로젝트 관리를 위해 사용되는 모듈\n",
    "    * 예제: `mywget` 함수의 정의가 포함된 파일 `wgetFiles.py`, \n",
    "        챕터별로 작성한 프로그램을 담은 소스코드 파일 등등 "
   ]
  },
  {
   "cell_type": "markdown",
   "metadata": {},
   "source": [
    "## 패키지와 라이브러리"
   ]
  },
  {
   "cell_type": "markdown",
   "metadata": {},
   "source": [
    "**패키지**는 모듈을 계층적으로 관리할 수 있게 도와주는 체계이다. \n",
    "보통 관련된 여러 개의 모듈을 하나의 디렉토리(폴더)에 담는 형식으로 패키지를 생성한다. \n",
    "**라이브러리**는 하나의 패키지 또는 관련된 패키지의 모음을 가리킨다. \n",
    "\n",
    "예를 들어, `urllib.request` 모듈은 `urllib` 패키지(디렉토리)에 포함되어 있다.\n",
    "패키지와 모듈을 점(`.`)으로 구분된다.\n",
    "또한 간단한 그래프 관련 도구(함수, 클래스, 객체 등)가 정의되어 있는 `matplotlib.pyplot`은 \n",
    "`matplotlib` 이라는 패키지 않에 포함되어 있으며,\n",
    "게임 프로그래밍을 위해 가장 많이 사용되는 패키지는 `pygame`이며,\n",
    "그 안에서 소리(사운드) 관련 도구가 포함된 모듈이 `mixer`이다. "
   ]
  },
  {
   "cell_type": "markdown",
   "metadata": {},
   "source": [
    "### `__init__.py`  파일"
   ]
  },
  {
   "cell_type": "markdown",
   "metadata": {},
   "source": [
    "특정 디렉토리가 파이썬 패키지임을 명확하기 만들려면 디렉토리 안에 `__init__.py` 라는 \n",
    "파일이 포함되어야 한다. \n",
    "그렇게 하면 파이썬 패키지로서 아래와 같은 기능을 수행하게 만들 수 있다.\n",
    "\n",
    "* 파이썬 인터프리터가 다룰 수 있는 패키지의 경로로 지정할 수 있다.\n",
    "* 해당 패키지를 불러올 때, 기본적으로 수행하는 일을 지정할 수 있다.\n",
    "\n",
    "예를 들어, 파이썬 표준 라이브러리에 포함된 `tkinter` 패키지는 \n",
    "그래픽 유저 인터페이스(GUI)와 관련된 다양한 도구를 제공한다.\n",
    "그런데 `tkinter` 패키지를 불러오면 `__init__.py` 에서\n",
    "정의된 도구들을 바로 사용한다.\n",
    "즉, 다른 모듈을 굳이 불러올 필요가 없다. \n",
    "`tkinter` 패키지 내용은 \n",
    "[cpython/Lib/tkinter/](https://github.com/python/cpython/tree/3.8/Lib/tkinter)에서\n",
    "확인할 수 있다."
   ]
  },
  {
   "cell_type": "markdown",
   "metadata": {},
   "source": [
    "## 주요 예제"
   ]
  },
  {
   "cell_type": "markdown",
   "metadata": {},
   "source": [
    "카페 두 곳에서 사용하는 POS(Point-Of-Sale)기에서\n",
    "신용카드 회사에 대금을 청구하는 프로그램을 모듈을 활용하여 구현한다."
   ]
  },
  {
   "cell_type": "markdown",
   "metadata": {},
   "source": [
    "## 파이썬 카페"
   ]
  },
  {
   "cell_type": "markdown",
   "metadata": {},
   "source": [
    "아래 프로그램은 파이썬 카페의 POS기에 사용되는 프로그램이다.\n",
    "손님이 선택하는 메뉴를 고를 때마다 개수와 가격을 저장한 후에\n",
    "합계 가격을 알려주는 동시에 \n",
    "주문 내용과 가격을 `receipt.txt` 파일에 저장한다.\n",
    "\n",
    "**주의사항**\n",
    "* 아래 코드는 `receipt.txt` 파일을 `codes` 라는 하위폴더에 저장한다.\n",
    "* 저장 정보: 메뉴와 가격, 그리고 가격 합계"
   ]
  },
  {
   "cell_type": "code",
   "execution_count": 61,
   "metadata": {},
   "outputs": [
    {
     "name": "stdout",
     "output_type": "stream",
     "text": [
      "점원: 아래 메뉴 중에서 고르세요\n",
      "============\n",
      "     Donut: 2000원\n",
      "Cafe Latte: 4000원\n",
      " Americano: 3500원\n",
      "  Espresso: 3000원\n",
      "============\n",
      "점원: 선택하실래요? Donut\n",
      "점원: 몇 개 드릴까요2\n",
      "점원: 선택하실래요? Cafe Latte\n",
      "점원: 몇 개 드릴까요1\n",
      "점원: 선택하실래요? Americano\n",
      "점원: 몇 개 드릴까요1\n",
      "점원: 선택하실래요? Espresso\n",
      "점원: 몇 개 드릴까요3\n",
      "점원: 선택하실래요? no\n",
      "점원: 알겠습니다.\n",
      "다 합해서 20500원입니다.\n"
     ]
    }
   ],
   "source": [
    "# 메뉴와 가격 리스트\n",
    "items = {\"Donut\":2000, \"Cafe Latte\":4000, \"Americano\":3500, \"Espresso\":3000}\n",
    "\n",
    "# 주문내역을 영수증 파일에 저장하는 함수\n",
    "def saveReceipt(selections, price):\n",
    "    with open(\"./codes/receipt.txt\", \"w\") as receipt:\n",
    "        for item in selections:                             # 선택된 항목 나열\n",
    "            receipt.write(f'{item:>10}\\t{items[item]:5}\\t{selections[item]:2}\\n')\n",
    "            \n",
    "        receipt.write(\"==========\\n\")\n",
    "        receipt.write(f'     Total\\t{price}\\n')        # 가격 합계 표시\n",
    "\n",
    "print(\"점원: 아래 메뉴 중에서 고르세요\")\n",
    "\n",
    "print(\"============\")\n",
    "for item in items:\n",
    "    print(f\"{item:>10}: {items[item]}원\")  # 메뉴 오른쪽 정렬\n",
    "print(\"============\")\n",
    "\n",
    "# 손님이 주문하기\n",
    "running = True                                 # 아래 while 문이 실행되는 조건\n",
    "selected = {}                                  # 선택한 메뉴 및 개수 목록\n",
    "totalPrice = 0                                 # 가격 합계\n",
    "\n",
    "while running:\n",
    "    choice = input(\"점원: 선택하실래요? \")\n",
    "\n",
    "    if choice not in items:                    # 목록에 없는 표현 언급하는 경우\n",
    "        running = False                        # 주문 종료\n",
    "        print(\"점원: 알겠습니다.\")\n",
    "    else:                                      # 목록에 있는 메뉴를 선택한 경우\n",
    "        count = int(input(\"점원: 몇 개 드릴까요\"))\n",
    "        selected[choice] = count               # 선택 메뉴 및 개수 추가\n",
    "        totalPrice += items[choice] * count    # 가격 합계 계산\n",
    "\n",
    "# 주문내역 저장하기\n",
    "saveReceipt(selected, totalPrice)\n",
    "        \n",
    "print(f'다 합해서 {totalPrice}원입니다.')"
   ]
  },
  {
   "cell_type": "markdown",
   "metadata": {},
   "source": [
    "위 코드의 실행결과로 `receipt.txt` 파일에 아래 내용으로 저장된다."
   ]
  },
  {
   "cell_type": "code",
   "execution_count": 62,
   "metadata": {},
   "outputs": [
    {
     "name": "stdout",
     "output_type": "stream",
     "text": [
      "     Donut\t 2000\t 2\n",
      "Cafe Latte\t 4000\t 1\n",
      " Americano\t 3500\t 1\n",
      "  Espresso\t 3000\t 3\n",
      "==========\n",
      "     Total\t20500\n"
     ]
    }
   ],
   "source": [
    "with open(\"./codes/receipt.txt\", \"r\") as receipt:\n",
    "    for line in receipt:\n",
    "        print(line,end='')                          # 사용된 서식 그대로 출력"
   ]
  },
  {
   "cell_type": "markdown",
   "metadata": {},
   "source": [
    "## 아나콘다 커피"
   ]
  },
  {
   "cell_type": "markdown",
   "metadata": {},
   "source": [
    "아래 프로그램은 아나콘다 커피의 POS에서 사용되는 프로그램이다.\n",
    "\n",
    "**전제조건**\n",
    "* 파이썬 카페와 아나콘다 커피는 주인이 동일하다.\n",
    "* 영수증 내용은 앞서 사용한 `receipt.txt` 파일을 사용한다.\n",
    "\n",
    "따라서 아래 프로그램은 메뉴와 가격만이 다를 뿐 나머지는 동일하다."
   ]
  },
  {
   "cell_type": "code",
   "execution_count": 63,
   "metadata": {},
   "outputs": [
    {
     "name": "stdout",
     "output_type": "stream",
     "text": [
      "점원: 아래 메뉴 중에서 고르세요\n",
      "============\n",
      "     Bagle: 2500원\n",
      "Caffuccino: 4000원\n",
      " Americano: 3500원\n",
      "  Affogato: 4500원\n",
      "============\n",
      "점원: 선택하실래요? Affogato\n",
      "점원: 몇 개 드릴까요1\n",
      "점원: 선택하실래요? Bagle\n",
      "점원: 몇 개 드릴까요2\n",
      "점원: 선택하실래요? no\n",
      "점원: 알겠습니다.\n",
      "다 합해서 9500원입니다.\n"
     ]
    }
   ],
   "source": [
    "# 메뉴와 가격 리스트\n",
    "items = {\"Bagle\":2500, \"Caffuccino\":4000, \"Americano\":3500, \"Affogato\":4500}\n",
    "\n",
    "# 주문내역을 영수증 파일에 저장하는 함수\n",
    "def saveReceipt(selections, price):\n",
    "    with open(\"./codes/receipt.txt\", \"w\") as receipt:\n",
    "        for item in selections:                             # 선택된 항목 나열\n",
    "            receipt.write(f'{item:>10}\\t{items[item]:5}\\t{selections[item]:2}\\n')\n",
    "            \n",
    "        receipt.write(\"==========\\n\")\n",
    "        receipt.write(f'     Total\\t{price}\\n')        # 가격 합계 표시\n",
    "\n",
    "print(\"점원: 아래 메뉴 중에서 고르세요\")\n",
    "\n",
    "print(\"============\")\n",
    "for item in items:\n",
    "    print(f\"{item:>10}: {items[item]}원\")  # 메뉴 오른쪽 정렬\n",
    "print(\"============\")\n",
    "\n",
    "# 손님이 주문하기\n",
    "running = True                                 # 아래 while 문이 실행되는 조건\n",
    "selected = {}                                  # 선택한 메뉴 및 개수 목록\n",
    "totalPrice = 0                                 # 가격 합계\n",
    "\n",
    "while running:\n",
    "    choice = input(\"점원: 선택하실래요? \")\n",
    "\n",
    "    if choice not in items:                    # 목록에 없는 표현 언급하는 경우\n",
    "        running = False                        # 주문 종료\n",
    "        print(\"점원: 알겠습니다.\")\n",
    "    else:                                      # 목록에 있는 메뉴를 선택한 경우\n",
    "        count = int(input(\"점원: 몇 개 드릴까요\"))\n",
    "        selected[choice] = count               # 선택 메뉴 및 개수 추가\n",
    "        totalPrice += items[choice] * count    # 가격 합계 계산\n",
    "\n",
    "# 주문내역 저장하기\n",
    "saveReceipt(selected, totalPrice)\n",
    "        \n",
    "print(f'다 합해서 {totalPrice}원입니다.')"
   ]
  },
  {
   "cell_type": "markdown",
   "metadata": {},
   "source": [
    "위 코드의 실행결과로 `receipt.txt` 파일에 아래 내용으로 저장된다."
   ]
  },
  {
   "cell_type": "code",
   "execution_count": 64,
   "metadata": {},
   "outputs": [
    {
     "name": "stdout",
     "output_type": "stream",
     "text": [
      "  Affogato\t 4500\t 1\n",
      "     Bagle\t 2500\t 2\n",
      "==========\n",
      "     Total\t9500\n"
     ]
    }
   ],
   "source": [
    "with open(\"./codes/receipt.txt\", \"r\") as receipt:\n",
    "    for line in receipt:\n",
    "        print(line,end='')                          # 사용된 서식 그대로 출력"
   ]
  },
  {
   "cell_type": "markdown",
   "metadata": {},
   "source": [
    "## 코드 중복 피하기: 모듈 활용"
   ]
  },
  {
   "cell_type": "markdown",
   "metadata": {},
   "source": [
    "파이썬 카페의 POS와 아나콘다 커피의 POS는 거래내역을 \n",
    "`codes` 디렉토리에 `receipt.txt` 파일로 저장한다.\n",
    "그런데 두 코드는 `saveReceipt` 함수를 동일하게 사용한다."
   ]
  },
  {
   "cell_type": "markdown",
   "metadata": {},
   "source": [
    "### 모듈 사용"
   ]
  },
  {
   "cell_type": "markdown",
   "metadata": {},
   "source": [
    "`save_transaction` 함수를 두 개의 POS 에서 공유하도록 하려면 `save_transaction` 함수를\n",
    "독립된 파일에 저장해야 한다.\n",
    "\n",
    "**주의사항**\n",
    "* 위 함수가 `codes` 디렉토리의 `transactions.py` 파일에 저장되었다고 가정한다.\n",
    "* `codes` 디렉토리에 `__init__.py` 파일이 생성되어 있어야 한다. \n",
    "    내용은 비어있어도 된다."
   ]
  },
  {
   "cell_type": "markdown",
   "metadata": {},
   "source": [
    "<p>\n",
    "<table cellspacing=\"20\">\n",
    "<tr>\n",
    "<td>\n",
    "<img src=\"images/transactions03.png\" style=\"width:600px\">\n",
    "</td>\n",
    "</tr>\n",
    "</table>\n",
    "</p>"
   ]
  },
  {
   "cell_type": "markdown",
   "metadata": {},
   "source": [
    "이제 두 매장에서 사용하는 코드는 아래와 같이 모듈을 불러오는 형식으로 구현될 수 있다.\n",
    "\n",
    "* `transactions` 모듈에 포함되어 있는 모든 함수를 모듈 이름을 지정하지 않고 사용하기 위해 아래와 같이 불러온다.\n",
    "\n",
    "```python\n",
    "from codes.transaction import *\n",
    "```\n",
    "\n",
    "__주의:__ 만약에 `transactions.py` 파일이 현재 작업디렉토리에 있거나  \n",
    "[강의노트 06b](https://github.com/liganega/bpp/blob/master/notes/06b-ThinkPython-Modules.ipynb)에서\n",
    "설명되었듯이 `codes` 디렉토리가 파이썬 라이브러리 경로에 추가되어 있다면\n",
    "아래와 같이 불러온다.\n",
    "\n",
    "```python\n",
    "from transaction import *\n",
    "```"
   ]
  },
  {
   "cell_type": "markdown",
   "metadata": {},
   "source": [
    "* 파이썬 카페"
   ]
  },
  {
   "cell_type": "code",
   "execution_count": 3,
   "metadata": {},
   "outputs": [
    {
     "name": "stdout",
     "output_type": "stream",
     "text": [
      "점원: 아래 항목들을 보시고 원하시는 번호를 기억하세요.\n",
      "============\n",
      "1. Donut\n",
      "2. Latte\n",
      "3. Filter\n",
      "4. Muffin\n",
      "5. Espresso\n",
      "6. 이상입니다.\n",
      "============\n",
      "점원: 몇 번 선택하실래요? 3\n",
      "점원: 신용카드 번호 알려주세요! 5555666677778888\n",
      "점원: 몇 번 선택하실래요? 6\n"
     ]
    }
   ],
   "source": [
    "'''\n",
    "파이썬 카페의 POS(Point-of-Sale) 계산대에 사용되는 프로그램 구현하기\n",
    "\n",
    "- 카드 정보를 알고 있을 때 카드 정보와 물품 가격 및 정보를 파일에 저장하는 프로그램을 구현하고자 함\n",
    "- 사용할 정보: 카드 번호 16자리, 물품 가격 7자리, 물품 내용 10자리\n",
    "'''\n",
    "\n",
    "# transactions.py 모듈 불러오기\n",
    "from codes.transactions import *           # 모듈에 포함된 모든 함수 불러오기\n",
    "\n",
    "# 카페의 상품 리스트\n",
    "items = [\"도넛\", \"카페라떼\", \"아메리카노\", \"바닐라머핀\", \"에스프레소\"]\n",
    "\n",
    "# 각 상품들의 가격 (단위: 달러)\n",
    "prices = [1.50, 2.2, 1.80, 1.20, 1.30]\n",
    "\n",
    "# 매장에서 파는 물품 목록 알려주기\n",
    "print(\"점원: 아래 항목들을 보시고 원하시는 번호를 기억하세요.\")\n",
    "\n",
    "print(\"============\")\n",
    "option = 1\n",
    "for item in items:\n",
    "    print(str(option)+\". \"+item)\n",
    "    option += 1\n",
    "\n",
    "print(str(option)+\". \"+ \"이상입니다.\")\n",
    "print(\"============\")\n",
    "\n",
    "# 손님이 주문하기\n",
    "running = True                          # 아래 while 문이 실행되는 조건\n",
    "while running:\n",
    "    choice = int(input(\"점원: 몇 번 선택하실래요? \"))\n",
    "\n",
    "    if choice >= option:                # 주의: 현재 option = len(items) + 1\n",
    "        running = False                 # 물품 개수보다 큰 번호를 선택하면 주문 종료\n",
    "    else:                               # 특정 물품을 선택한 경우\n",
    "        item = items[choice -1]\n",
    "        price = prices[choice-1]\n",
    "        \n",
    "        card_number = input(\"점원: 신용카드 번호 알려주세요! \")\n",
    "\n",
    "        # 주문내역 파일에 저장하기(codes 디렉토리에 파일 저장)\n",
    "        save_transaction(card_number, price, item)"
   ]
  },
  {
   "cell_type": "markdown",
   "metadata": {},
   "source": [
    "<p>\n",
    "<table cellspacing=\"20\">\n",
    "<tr>\n",
    "<td>\n",
    "<img src=\"images/transactions04.png\" style=\"width:600px\">\n",
    "</td>\n",
    "</tr>\n",
    "</table>\n",
    "</p>"
   ]
  },
  {
   "cell_type": "markdown",
   "metadata": {},
   "source": [
    "* 아나콘다 커피"
   ]
  },
  {
   "cell_type": "code",
   "execution_count": 4,
   "metadata": {},
   "outputs": [
    {
     "name": "stdout",
     "output_type": "stream",
     "text": [
      "점원: 아래 항목들을 보시고 원하시는 번호를 기억하세요.\n",
      "============\n",
      "1. Donut1\n",
      "2. Latte1\n",
      "3. Filter1\n",
      "4. Muffin1\n",
      "5. Espresso1\n",
      "6. Bagle1\n",
      "7. 이상입니다.\n",
      "============\n",
      "점원: 몇 번 선택하실래요? 2\n",
      "점원: 신용카드 번호 알려주세요! 8888777766665555\n",
      "점원: 몇 번 선택하실래요? 7\n"
     ]
    }
   ],
   "source": [
    "'''\n",
    "아나콘다 커피의 POS(Point-of-Sale) 계산대에 사용되는 프로그램 구현하기\n",
    "\n",
    "- 카드 정보를 알고 있을 때 카드 정보와 물품 가격 및 정보를 파일에 저장하는 프로그램을 구현하고자 함\n",
    "- 사용할 정보: 카드 번호 16자리, 물품 가격 7자리, 물품 내용 10자리\n",
    "'''\n",
    "\n",
    "# transactions.py 모듈 불러오기\n",
    "from codes.transactions import *           # 모듈에 포함된 모든 함수 불러오기\n",
    "\n",
    "# 파이썬 카페의 상품 리스트\n",
    "items = [\"와플\", \"카푸치노\", \"더치커피\", \"초코머핀\", \"에스프레소\", \"Bagle1\"]\n",
    "\n",
    "# 각 상품들의 가격 (단위: 달러)\n",
    "prices = [1.40, 2.6, 1.90, 1.10, 1.20, 1.5]\n",
    "\n",
    "# 매장에서 파는 물품 목록 알려주기\n",
    "print(\"점원: 아래 항목들을 보시고 원하시는 번호를 기억하세요.\")\n",
    "\n",
    "print(\"============\")\n",
    "option = 1\n",
    "for item in items:\n",
    "    print(str(option)+\". \"+item)\n",
    "    option += 1\n",
    "\n",
    "print(str(option)+\". \"+ \"이상입니다.\")\n",
    "print(\"============\")\n",
    "\n",
    "# 손님이 주문하기\n",
    "running = True                          # 아래 while 문이 실행되는 조건\n",
    "while running:\n",
    "    choice = int(input(\"점원: 몇 번 선택하실래요? \"))\n",
    "\n",
    "    if choice >= option:                # 주의: 현재 option = len(items) + 1\n",
    "        running = False                 # 물품 개수보다 큰 번호를 선택하면 주문 종료\n",
    "    else:                               # 특정 물품을 선택한 경우\n",
    "        item = items[choice -1]\n",
    "        price = prices[choice-1]\n",
    "        \n",
    "        card_number = input(\"점원: 신용카드 번호 알려주세요! \")\n",
    "\n",
    "        # 주문내역 파일에 저장하기(codes 디렉토리에 파일 저장)\n",
    "        save_transaction(card_number, price, item)"
   ]
  },
  {
   "cell_type": "markdown",
   "metadata": {},
   "source": [
    "<p>\n",
    "<table cellspacing=\"20\">\n",
    "<tr>\n",
    "<td>\n",
    "<img src=\"images/transactions05.png\" style=\"width:600px\">\n",
    "</td>\n",
    "</tr>\n",
    "</table>\n",
    "</p>"
   ]
  },
  {
   "cell_type": "markdown",
   "metadata": {},
   "source": [
    "## 함수 이름 충돌 피하기\n",
    "\n",
    "멤버십 카드를 가지고 있는 사람들에게 10% 할인혜택을 주고자 한다면 예를 들어 다음 코드를 사용할 수 있다.\n",
    "\n",
    "```python\n",
    "def discount_10(price):\n",
    "    return price * 0.9         # 10% 할인\n",
    "```\n",
    "\n",
    "반면에 특별한 날 모든 손님에게 20% 할인혜택을 주고자 할 때도 가격을 낮추는 함수를 사용할 수 있다.\n",
    "\n",
    "```python\n",
    "def discount_20(price):\n",
    "    return price * 0.8         # 20% 할인\n",
    "```\n",
    "\n",
    "하지만 위와 같이 함수 이름을 매번 달리 하면서 코딩을 하면 여러 모로 불편하다. \n",
    "무엇보다도 사실상 동일한 일을 수행하는 함수를 매번 다른 이름을 주면 \n",
    "나중에 프로그램을 관리하거나 수정할 때 불편하다."
   ]
  },
  {
   "cell_type": "markdown",
   "metadata": {},
   "source": [
    "그렇다고 해서 아래와 같이 동일한 이름을 사용하면 문제가 발생할 수 있다.\n",
    "\n",
    "```python\n",
    "def discount(price):\n",
    "    return price * 0.9         # 10% 할인\n",
    "\n",
    "def discount(price):\n",
    "    return price * 0.8         # 20% 할인\n",
    "```\n",
    "\n",
    "위와 같이 하면 `discount` 함수가 호출될 때 가격을 무조건 20% 할인한다.\n",
    "\n",
    "이런 문제를 해결하기 위해서는 두 함수를 서로 다른 모듈에 저장하는 것이다.\n",
    "예를 들어, 멤버십 할인함수는 앞서 언급한 `transactions.py` 모듈에 저장하고\n",
    "특별한 날 할인행사용 함수는 `codes` 디렉토리의 `special.py` 모듈에 저장하도록 하자."
   ]
  },
  {
   "cell_type": "markdown",
   "metadata": {},
   "source": [
    "<p>\n",
    "<table cellspacing=\"20\">\n",
    "<tr>\n",
    "<td>\n",
    "<img src=\"images/transactions06.png\" style=\"width:600px\">\n",
    "</td>\n",
    "</tr>\n",
    "</table>\n",
    "</p>"
   ]
  },
  {
   "cell_type": "markdown",
   "metadata": {},
   "source": [
    "<p>\n",
    "<table cellspacing=\"20\">\n",
    "<tr>\n",
    "<td>\n",
    "<img src=\"images/transactions07.png\" style=\"width:600px\">\n",
    "</td>\n",
    "</tr>\n",
    "</table>\n",
    "</p>"
   ]
  },
  {
   "cell_type": "markdown",
   "metadata": {},
   "source": [
    "이제 멤버십 할인과 특별한 날 할인행사를 지원하는 코드를 아래와 같이 작성할 수 있다.\n",
    "`special` 모듈을 불러올 때 `transactions` 모듈을 불러오는 방식과는 다른 방식을 사용해야 한다. 즉,\n",
    "\n",
    "```python\n",
    "import coses.special\n",
    "```\n",
    "\n",
    "이렇게 하면 `special` 모듈에 포함된 `discount` 함수를 호출할 때 모듈이름을 함께 사용해야 한다.\n",
    "\n",
    "```python\n",
    "codes.special.discount(price)\n",
    "```"
   ]
  },
  {
   "cell_type": "markdown",
   "metadata": {},
   "source": [
    "__주의:__ 만약에 `special.py` 파일이 현재 작업디렉토리에 있다면 \n",
    "모듈을 불러오고 포함된 함수를 호출하는 방식은 다음과 같다.\n",
    "\n",
    "```python\n",
    "import special\n",
    "special.discount(price)\n",
    "```"
   ]
  },
  {
   "cell_type": "markdown",
   "metadata": {},
   "source": [
    "아래 코드는 파이썬 카페에서 `도넛`을 구입할 때 특별한 날 할인, 멤버십 할인 여부를 확인하여\n",
    "경우에 따라 동일한 제품을 다른 가격으로 판매되는 것을 보여준다.\n",
    "\n",
    "**주의:** 중복할인을 __지원하지 않는__ 코드이다."
   ]
  },
  {
   "cell_type": "code",
   "execution_count": 7,
   "metadata": {},
   "outputs": [
    {
     "name": "stdout",
     "output_type": "stream",
     "text": [
      "점원: 아래 항목들을 보시고 원하시는 번호를 기억하세요.\n",
      "============\n",
      "1. Donut\n",
      "2. Latte\n",
      "3. Filter\n",
      "4. Muffin\n",
      "5. Espresso\n",
      "6. 이상입니다.\n",
      "============\n",
      "점원: 몇 번 선택하실래요? 1\n",
      "특별한 날 확인: Y\n",
      "점원: 신용카드 번호 알려주세요! 1111222233334444\n",
      "점원: 몇 번 선택하실래요? 1\n",
      "특별한 날 확인: N\n",
      "점원: 멤버십 카드 있으세요? Y\n",
      "점원: 신용카드 번호 알려주세요! 1111222233334444\n",
      "점원: 몇 번 선택하실래요? 1\n",
      "특별한 날 확인: N\n",
      "점원: 멤버십 카드 있으세요? N\n",
      "점원: 신용카드 번호 알려주세요! 2222333344445555\n",
      "점원: 몇 번 선택하실래요? 6\n"
     ]
    }
   ],
   "source": [
    "'''\n",
    "파이썬 카페의 POS(Point-of-Sale) 계산대에 사용되는 프로그램 구현하기\n",
    "\n",
    "- 카드 정보를 알고 있을 때 카드 정보와 물품 가격 및 정보를 파일에 저장하는 프로그램을 구현하고자 함\n",
    "- 사용할 정보: 카드 번호 16자리, 물품 가격 7자리, 물품 내용 10자리\n",
    "'''\n",
    "\n",
    "# transactions.py 모듈 불러오기\n",
    "from codes.transactions import *           # 모듈에 포함된 모든 함수 불러오기\n",
    "\n",
    "# special.py 모듈 불러오기\n",
    "import codes.special                       # transactions 모듈과 다른 방식으로 불러오기\n",
    "\n",
    "# 카페의 상품 리스트\n",
    "items = [\"도넛\", \"카페라떼\", \"아메리카노\", \"바닐라머핀\", \"에스프레소\"]\n",
    "\n",
    "# 각 상품들의 가격 (단위: 달러)\n",
    "prices = [1.50, 2.2, 1.80, 1.20, 1.30]\n",
    "\n",
    "# 매장에서 파는 물품 목록 알려주기\n",
    "print(\"점원: 아래 항목들을 보시고 원하시는 번호를 기억하세요.\")\n",
    "\n",
    "print(\"============\")\n",
    "option = 1\n",
    "for item in items:\n",
    "    print(str(option)+\". \"+item)\n",
    "    option += 1\n",
    "\n",
    "print(str(option)+\". \"+ \"이상입니다.\")\n",
    "print(\"============\")\n",
    "\n",
    "# 손님이 주문하기\n",
    "running = True                          # 아래 while 문이 실행되는 조건\n",
    "while running:\n",
    "    choice = int(input(\"점원: 몇 번 선택하실래요? \"))\n",
    "\n",
    "    if choice >= option:                # 주의: 현재 option = len(items) + 1\n",
    "        running = False                 # 물품 개수보다 큰 번호를 선택하면 주문 종료\n",
    "    else:                               # 특정 물품을 선택한 경우\n",
    "        item = items[choice -1]\n",
    "        price = prices[choice-1]\n",
    "\n",
    "        # 중복할인 없음\n",
    "        if input(\"특별한 날 확인: \") == \"Y\":\n",
    "            price = codes.special.discount(price)\n",
    "        elif input(\"점원: 멤버십 카드 있으세요? \") == \"Y\":\n",
    "            price = discount(price)\n",
    "\n",
    "        '''\n",
    "        # 중복할인 적용\n",
    "        if input(\"특별한 날 확인: \") == \"Y\":\n",
    "            price = special.discount(price)\n",
    "        if input(\"점원: 멤버십 카드 있으세요? \") == \"Y\":\n",
    "            price = discount(price)\n",
    "        '''\n",
    "        \n",
    "        card_number = input(\"점원: 신용카드 번호 알려주세요! \")\n",
    "\n",
    "        # 주문내역 파일에 저장하기(codes 디렉토리에 파일 저장)\n",
    "        save_transaction(card_number, price, item)"
   ]
  },
  {
   "cell_type": "markdown",
   "metadata": {},
   "source": [
    "<p>\n",
    "<table cellspacing=\"20\">\n",
    "<tr>\n",
    "<td>\n",
    "<img src=\"images/transactions08.png\" style=\"width:600px\">\n",
    "</td>\n",
    "</tr>\n",
    "</table>\n",
    "</p>"
   ]
  },
  {
   "cell_type": "markdown",
   "metadata": {},
   "source": [
    "`transactions` 모듈과 `special` 모듈 모두 동일한 방식으로 불러오려면 \n",
    "`transactions` 모듈을 `special` 모듈을 불러오는 방식으로 하면 된다.\n",
    "\n",
    "아래 코드는 파이썬 카페에서 도넛을 구입할 때 특별한 날 할인, 멤버십 할인 여부를 확인하여 경우에 따라 동일한 제품을 다른 가격으로 판매되는 것을 보여준다.\n",
    "\n",
    "**주의:** 중복할인을 __지원하는__ 코드이다."
   ]
  },
  {
   "cell_type": "code",
   "execution_count": 11,
   "metadata": {},
   "outputs": [
    {
     "name": "stdout",
     "output_type": "stream",
     "text": [
      "점원: 아래 항목들을 보시고 원하시는 번호를 기억하세요.\n",
      "============\n",
      "1. Donut\n",
      "2. Latte\n",
      "3. Filter\n",
      "4. Muffin\n",
      "5. Espresso\n",
      "6. 이상입니다.\n",
      "============\n",
      "점원: 몇 번 선택하실래요? 1\n",
      "특별한 날 확인: Y\n",
      "점원: 멤버십 카드 있으세요? Y\n",
      "점원: 신용카드 번호 알려주세요! 1111222233334444\n",
      "점원: 몇 번 선택하실래요? 1\n",
      "특별한 날 확인: Y\n",
      "점원: 멤버십 카드 있으세요? N\n",
      "점원: 신용카드 번호 알려주세요! 2222333344445555\n",
      "점원: 몇 번 선택하실래요? 1\n",
      "특별한 날 확인: N\n",
      "점원: 멤버십 카드 있으세요? N\n",
      "점원: 신용카드 번호 알려주세요! 3333444455556666\n",
      "점원: 몇 번 선택하실래요? 6\n"
     ]
    }
   ],
   "source": [
    "'''\n",
    "파이썬 카페의 POS(Point-of-Sale) 계산대에 사용되는 프로그램 구현하기\n",
    "\n",
    "- 카드 정보를 알고 있을 때 카드 정보와 물품 가격 및 정보를 파일에 저장하는 프로그램을 구현하고자 함\n",
    "- 사용할 정보: 카드 번호 16자리, 물품 가격 7자리, 물품 내용 10자리\n",
    "'''\n",
    "\n",
    "# transactions.py 모듈 불러오기\n",
    "import codes.transactions                  # special 모듈과 동일한 방식으로 불러오기\n",
    "\n",
    "# special.py 모듈 불러오기\n",
    "import codes.special\n",
    "\n",
    "# 카페의 상품 리스트\n",
    "items = [\"도넛\", \"카페라떼\", \"아메리카노\", \"바닐라머핀\", \"에스프레소\"]\n",
    "\n",
    "# 각 상품들의 가격 (단위: 달러)\n",
    "prices = [1.50, 2.2, 1.80, 1.20, 1.30]\n",
    "\n",
    "# 매장에서 파는 물품 목록 알려주기\n",
    "print(\"점원: 아래 항목들을 보시고 원하시는 번호를 기억하세요.\")\n",
    "\n",
    "print(\"============\")\n",
    "option = 1\n",
    "for item in items:\n",
    "    print(str(option)+\". \"+item)\n",
    "    option += 1\n",
    "\n",
    "print(str(option)+\". \"+ \"이상입니다.\")\n",
    "print(\"============\")\n",
    "\n",
    "# 손님이 주문하기\n",
    "running = True                          # 아래 while 문이 실행되는 조건\n",
    "while running:\n",
    "    choice = int(input(\"점원: 몇 번 선택하실래요? \"))\n",
    "\n",
    "    if choice >= option:                # 주의: 현재 option = len(items) + 1\n",
    "        running = False                 # 물품 개수보다 큰 번호를 선택하면 주문 종료\n",
    "    else:                               # 특정 물품을 선택한 경우\n",
    "        item = items[choice -1]\n",
    "        price = prices[choice-1]\n",
    "\n",
    "        '''\n",
    "        # 중복할인 없음\n",
    "        if input(\"특별한 날 확인: \") == \"Y\":\n",
    "            price = codes.special.discount(price)\n",
    "        elif input(\"점원: 멤버십 카드 있으세요? \") == \"Y\":\n",
    "            price = codes.transactions.discount(price)                  # 모듈 이름 추가\n",
    "        '''\n",
    "\n",
    "        # 중복할인 적용\n",
    "        if input(\"특별한 날 확인: \") == \"Y\":\n",
    "            price = codes.special.discount(price)\n",
    "        if input(\"점원: 멤버십 카드 있으세요? \") == \"Y\":\n",
    "            price = codes.transactions.discount(price)\n",
    "        \n",
    "        card_number = input(\"점원: 신용카드 번호 알려주세요! \")\n",
    "\n",
    "        # 주문내역 파일에 저장하기(codes 디렉토리에 파일 저장)\n",
    "        codes.transactions.save_transaction(card_number, price, item)   # 모듈 이름 추가"
   ]
  },
  {
   "cell_type": "markdown",
   "metadata": {},
   "source": [
    "<p>\n",
    "<table cellspacing=\"20\">\n",
    "<tr>\n",
    "<td>\n",
    "<img src=\"images/transactions09.png\" style=\"width:600px\">\n",
    "</td>\n",
    "</tr>\n",
    "</table>\n",
    "</p>"
   ]
  }
 ],
 "metadata": {
  "kernelspec": {
   "display_name": "Python 3",
   "language": "python",
   "name": "python3"
  },
  "language_info": {
   "codemirror_mode": {
    "name": "ipython",
    "version": 3
   },
   "file_extension": ".py",
   "mimetype": "text/x-python",
   "name": "python",
   "nbconvert_exporter": "python",
   "pygments_lexer": "ipython3",
   "version": "3.6.8"
  }
 },
 "nbformat": 4,
 "nbformat_minor": 2
}
