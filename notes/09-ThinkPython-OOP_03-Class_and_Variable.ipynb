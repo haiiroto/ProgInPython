{
 "cells": [
  {
   "cell_type": "markdown",
   "metadata": {},
   "source": [
    "준비중의 파일입니다."
   ]
  },
  {
   "cell_type": "markdown",
   "metadata": {},
   "source": [
    "# 클래스와 변수"
   ]
  },
  {
   "cell_type": "code",
   "execution_count": 1,
   "metadata": {},
   "outputs": [
    {
     "name": "stdout",
     "output_type": "stream",
     "text": [
      "제 이름은 아이언맨입니다\n",
      "현재 저의 체력은 100입니다.\n",
      "저는 공격할 때마다 상대방에게 200만큼의 손상을 줍니다.\n",
      "제 수트의 방어력은 500이며 사용하는 무기는 레이저입니다.\n",
      "=====\n",
      "제 이름은 데드풀입니다\n",
      "현재 저의 체력은 300입니다.\n",
      "저는 공격할 때마다 상대방에게 30만큼의 손상을 줍니다.\n",
      "제 수트의 방어력은 300이며 사용하는 무기는 장검입니다.\n",
      "=====\n",
      "제 이름은 울버린입니다\n",
      "현재 저의 체력은 200입니다.\n",
      "저는 공격할 때마다 상대방에게 50만큼의 손상을 줍니다.\n",
      "제 수트의 방어력은 350이며 사용하는 무기는 클로입니다.\n",
      "=====\n",
      "제 이름은 고블린입니다\n",
      "현재 저의 체력은 90입니다.\n",
      "저는 공격할 때마다 상대방에게 30만큼의 손상을 줍니다.\n",
      "제 수트의 방어력은 50이며 사용하는 무기는 창입니다.\n",
      "=====\n",
      "제 이름은 드래곤입니다\n",
      "현재 저의 체력은 200입니다.\n",
      "저는 공격할 때마다 상대방에게 80만큼의 손상을 줍니다.\n",
      "제 수트의 방어력은 200이며 사용하는 무기는 화염입니다.\n",
      "=====\n",
      "제 이름은 뱀파이어입니다\n",
      "현재 저의 체력은 80입니다.\n",
      "저는 공격할 때마다 상대방에게 120만큼의 손상을 줍니다.\n",
      "제 수트의 방어력은 1000이며 사용하는 무기는 최면술입니다.\n"
     ]
    }
   ],
   "source": [
    "# 캐릭터 클래스 선언\n",
    "class Character(object):\n",
    "    \n",
    "    def __init__(self, name, health, damage, inventory):\n",
    "        print(\"제 이름은 %s입니다\" % name)\n",
    "        print(\"현재 저의 체력은 %s입니다.\" % health)\n",
    "        print(\"저는 공격할 때마다 상대방에게 %s만큼의 손상을 줍니다.\" % damage)\n",
    "        print(\"제 수트의 방어력은 %d이며 사용하는 무기는 %s입니다.\" % \\\n",
    "              (inventory['suit'], inventory['weapon']))\n",
    "\n",
    "# 캐릭터 인스턴스 생성        \n",
    "ironman = Character('아이언맨', 100, 200, {'suit': 500, 'weapon': '레이저'})\n",
    "print(\"=====\")\n",
    "deadpool = Character('데드풀', 300, 30, {'suit': 300, 'weapon': '장검'})\n",
    "print(\"=====\")\n",
    "wolverine = Character('울버린', 200, 50, {'suit': 350, 'weapon': '클로'})\n",
    "print(\"=====\")\n",
    "goblin = Character('고블린', 90, 30, {'suit': 50, 'weapon': '창'})\n",
    "print(\"=====\")\n",
    "dragon = Character('드래곤', 200, 80, {'suit': 200, 'weapon': '화염'})\n",
    "print(\"=====\")\n",
    "vampire = Character('뱀파이어', 80, 120, {'suit': 1000, 'weapon': '최면술'})"
   ]
  },
  {
   "cell_type": "code",
   "execution_count": null,
   "metadata": {},
   "outputs": [],
   "source": []
  },
  {
   "cell_type": "code",
   "execution_count": 12,
   "metadata": {},
   "outputs": [
    {
     "name": "stdout",
     "output_type": "stream",
     "text": [
      "<__main__.Character object at 0x10d5d4128>\n"
     ]
    }
   ],
   "source": [
    "print(ironman)"
   ]
  },
  {
   "cell_type": "code",
   "execution_count": null,
   "metadata": {},
   "outputs": [],
   "source": []
  },
  {
   "cell_type": "code",
   "execution_count": 17,
   "metadata": {},
   "outputs": [],
   "source": [
    "# class 정의\n",
    "class Character(object):\n",
    "    def __init__(self, name, health, damage, inventory):\n",
    "        self.name = name\n",
    "        self.health = health\n",
    "        self.damage = damage\n",
    "        self.inventory = inventory"
   ]
  },
  {
   "cell_type": "code",
   "execution_count": 13,
   "metadata": {},
   "outputs": [
    {
     "name": "stdout",
     "output_type": "stream",
     "text": [
      "제 이름은 아이언맨입니다\n",
      "현재 저의 체력은 100입니다.\n",
      "저는 공격할 때마다 상대방에게 200만큼의 손상을 줍니다.\n",
      "제 수트의 방어력은 500이며 사용하는 무기는 레이저입니다.\n"
     ]
    }
   ],
   "source": [
    "ironman = Character('아이언맨', 100, 200, {'suit': 500, 'weapon': '레이저'})"
   ]
  },
  {
   "cell_type": "markdown",
   "metadata": {},
   "source": [
    "실제로 이름을 확인하면 다음과 같다."
   ]
  },
  {
   "cell_type": "code",
   "execution_count": 26,
   "metadata": {},
   "outputs": [
    {
     "name": "stdout",
     "output_type": "stream",
     "text": [
      "아이언맨\n"
     ]
    }
   ],
   "source": [
    "print(ironman.name)"
   ]
  },
  {
   "cell_type": "code",
   "execution_count": 27,
   "metadata": {},
   "outputs": [
    {
     "name": "stdout",
     "output_type": "stream",
     "text": [
      "100\n"
     ]
    }
   ],
   "source": [
    "print(ironman.health)"
   ]
  },
  {
   "cell_type": "code",
   "execution_count": null,
   "metadata": {},
   "outputs": [],
   "source": []
  },
  {
   "cell_type": "code",
   "execution_count": null,
   "metadata": {},
   "outputs": [],
   "source": []
  },
  {
   "cell_type": "code",
   "execution_count": 18,
   "metadata": {},
   "outputs": [],
   "source": [
    "# class 정의\n",
    "class Character(object):\n",
    "    def __init__(self, name, health, damage, inventory):\n",
    "        self.name = name\n",
    "        self.health = health\n",
    "        self.damage = damage\n",
    "        self.inventory = inventory\n",
    "\n",
    "    def __repr__(self):\n",
    "        return self.name"
   ]
  },
  {
   "cell_type": "code",
   "execution_count": 31,
   "metadata": {},
   "outputs": [],
   "source": [
    "ironman = Character('아이언맨', 100, 200, {'gold': 500, 'weapon': '레이저'})"
   ]
  },
  {
   "cell_type": "code",
   "execution_count": 32,
   "metadata": {},
   "outputs": [
    {
     "name": "stdout",
     "output_type": "stream",
     "text": [
      "아이언맨\n"
     ]
    }
   ],
   "source": [
    "print(ironman)"
   ]
  },
  {
   "cell_type": "code",
   "execution_count": null,
   "metadata": {},
   "outputs": [],
   "source": []
  },
  {
   "cell_type": "code",
   "execution_count": null,
   "metadata": {},
   "outputs": [],
   "source": []
  },
  {
   "cell_type": "code",
   "execution_count": null,
   "metadata": {},
   "outputs": [],
   "source": []
  },
  {
   "cell_type": "code",
   "execution_count": 39,
   "metadata": {},
   "outputs": [],
   "source": [
    "# -*- coding: utf-8 -*-\n",
    "\n",
    "# class 정의\n",
    "class Character(object):\n",
    "    def __init__(self, name, health, damage, inventory):\n",
    "        self.name = name\n",
    "        self.health = health\n",
    "        self.damage = damage\n",
    "        self.inventory = inventory\n",
    "\n",
    "    def __repr__(self):\n",
    "        return \"저는 %s입니다.\" % self.name"
   ]
  },
  {
   "cell_type": "code",
   "execution_count": 40,
   "metadata": {},
   "outputs": [],
   "source": [
    "ironman = Character('아이언맨', 100, 200, {'gold': 500, 'weapon': '레이저'})"
   ]
  },
  {
   "cell_type": "code",
   "execution_count": 41,
   "metadata": {},
   "outputs": [
    {
     "name": "stdout",
     "output_type": "stream",
     "text": [
      "저는 아이언맨입니다.\n"
     ]
    }
   ],
   "source": [
    "print(ironman)"
   ]
  },
  {
   "cell_type": "code",
   "execution_count": null,
   "metadata": {},
   "outputs": [],
   "source": []
  },
  {
   "cell_type": "code",
   "execution_count": null,
   "metadata": {},
   "outputs": [],
   "source": []
  },
  {
   "cell_type": "code",
   "execution_count": 2,
   "metadata": {},
   "outputs": [
    {
     "name": "stdout",
     "output_type": "stream",
     "text": [
      "[<__main__.Character object at 0x10d5c8cf8>, <__main__.Character object at 0x10d5c8d68>, <__main__.Character object at 0x10d5c8d30>]\n",
      "[<__main__.Character object at 0x10d5c8da0>, <__main__.Character object at 0x10d5c8cc0>, <__main__.Character object at 0x10d5c8dd8>]\n",
      "[<__main__.Character object at 0x10d5c8d68>, <__main__.Character object at 0x10d5c8d30>]\n"
     ]
    }
   ],
   "source": [
    "        \n",
    "# Character 클래스의 오브젝트 생성\n",
    "heroes = []\n",
    "heroes.append(Character('아이언맨', 100, 200, {'gold': 500, 'weapon': '레이저'}))\n",
    "heroes.append(Character('데드풀', 300, 30, {'gold': 300, 'weapon': '장검'}))\n",
    "heroes.append(Character('울버린', 200, 50, {'gold': 350, 'weapon': '클로'}))\n",
    "\n",
    "monsters = []\n",
    "monsters.append(Character('고블린', 90, 30, {'gold': 50, 'weapon': '창'}))\n",
    "monsters.append(Character('드래곤', 200, 80, {'gold': 200, 'weapon': '화염'}))\n",
    "monsters.append(Character('뱀파이어', 80, 120, {'gold': 1000, 'weapon': '최면술'}))\n",
    "\n",
    "print(heroes)  # 히어로 리스트 확인\n",
    "print(monsters)  # 몬스터 리스트 확인\n",
    "del(heroes[0])  # 히어로 리스트에서 아이언맨 삭제\n",
    "print(heroes)  # 히어로 리스트 재확인"
   ]
  },
  {
   "cell_type": "markdown",
   "metadata": {},
   "source": [
    "__객체__는 생각하고 다룰 수 있는 구체적인 대상(Object)를 일컫는다. \n",
    "그런데 "
   ]
  },
  {
   "cell_type": "markdown",
   "metadata": {},
   "source": [
    "## 연습문제"
   ]
  },
  {
   "cell_type": "markdown",
   "metadata": {},
   "source": [
    "1."
   ]
  }
 ],
 "metadata": {
  "kernelspec": {
   "display_name": "Python 3",
   "language": "python",
   "name": "python3"
  },
  "language_info": {
   "codemirror_mode": {
    "name": "ipython",
    "version": 3
   },
   "file_extension": ".py",
   "mimetype": "text/x-python",
   "name": "python",
   "nbconvert_exporter": "python",
   "pygments_lexer": "ipython3",
   "version": "3.6.3"
  }
 },
 "nbformat": 4,
 "nbformat_minor": 2
}
