{
 "cells": [
  {
   "cell_type": "markdown",
   "metadata": {},
   "source": [
    "# 클래스와 변수"
   ]
  },
  {
   "cell_type": "markdown",
   "metadata": {},
   "source": [
    "안내: [schoolofweb.net](http://schoolofweb.net/blog/posts/%ED%8C%8C%EC%9D%B4%EC%8D%AC-oop-part-1-%EA%B0%9D%EC%B2%B4-%EC%A7%80%ED%96%A5-%ED%94%84%EB%A1%9C%EA%B7%B8%EB%9E%98%EB%B0%8Doop%EC%9D%80-%EB%AC%B4%EC%97%87%EC%9D%B8%EA%B0%80-%EC%99%9C-%EC%82%AC%EC%9A%A9%ED%95%98%EB%8A%94%EA%B0%80/)에서 사용한 코드 일부를 수정하여 설명에 활용하였음. \n",
    "코드 사용에 대한 보다 자세한 설명은 해당 사이트를 이용할 것 추천함."
   ]
  },
  {
   "cell_type": "code",
   "execution_count": null,
   "metadata": {},
   "outputs": [],
   "source": []
  },
  {
   "cell_type": "code",
   "execution_count": null,
   "metadata": {},
   "outputs": [],
   "source": []
  },
  {
   "cell_type": "code",
   "execution_count": 12,
   "metadata": {},
   "outputs": [
    {
     "name": "stdout",
     "output_type": "stream",
     "text": [
      "<__main__.Character object at 0x10d5d4128>\n"
     ]
    }
   ],
   "source": [
    "print(ironman)"
   ]
  },
  {
   "cell_type": "code",
   "execution_count": null,
   "metadata": {},
   "outputs": [],
   "source": []
  },
  {
   "cell_type": "code",
   "execution_count": 17,
   "metadata": {},
   "outputs": [],
   "source": [
    "# class 정의\n",
    "class Character(object):\n",
    "    def __init__(self, name, health, damage, inventory):\n",
    "        self.name = name\n",
    "        self.health = health\n",
    "        self.damage = damage\n",
    "        self.inventory = inventory"
   ]
  },
  {
   "cell_type": "code",
   "execution_count": 13,
   "metadata": {},
   "outputs": [
    {
     "name": "stdout",
     "output_type": "stream",
     "text": [
      "제 이름은 아이언맨입니다\n",
      "현재 저의 체력은 100입니다.\n",
      "저는 공격할 때마다 상대방에게 200만큼의 손상을 줍니다.\n",
      "제 수트의 방어력은 500이며 사용하는 무기는 레이저입니다.\n"
     ]
    }
   ],
   "source": [
    "ironman = Character('아이언맨', 100, 200, {'suit': 500, 'weapon': '레이저'})"
   ]
  },
  {
   "cell_type": "markdown",
   "metadata": {},
   "source": [
    "실제로 이름을 확인하면 다음과 같다."
   ]
  },
  {
   "cell_type": "code",
   "execution_count": 26,
   "metadata": {},
   "outputs": [
    {
     "name": "stdout",
     "output_type": "stream",
     "text": [
      "아이언맨\n"
     ]
    }
   ],
   "source": [
    "print(ironman.name)"
   ]
  },
  {
   "cell_type": "code",
   "execution_count": 27,
   "metadata": {},
   "outputs": [
    {
     "name": "stdout",
     "output_type": "stream",
     "text": [
      "100\n"
     ]
    }
   ],
   "source": [
    "print(ironman.health)"
   ]
  },
  {
   "cell_type": "code",
   "execution_count": null,
   "metadata": {},
   "outputs": [],
   "source": []
  },
  {
   "cell_type": "code",
   "execution_count": null,
   "metadata": {},
   "outputs": [],
   "source": []
  },
  {
   "cell_type": "code",
   "execution_count": 18,
   "metadata": {},
   "outputs": [],
   "source": [
    "# class 정의\n",
    "class Character(object):\n",
    "    def __init__(self, name, health, damage, inventory):\n",
    "        self.name = name\n",
    "        self.health = health\n",
    "        self.damage = damage\n",
    "        self.inventory = inventory\n",
    "\n",
    "    def __repr__(self):\n",
    "        return self.name"
   ]
  },
  {
   "cell_type": "code",
   "execution_count": 31,
   "metadata": {},
   "outputs": [],
   "source": [
    "ironman = Character('아이언맨', 100, 200, {'gold': 500, 'weapon': '레이저'})"
   ]
  },
  {
   "cell_type": "code",
   "execution_count": 32,
   "metadata": {},
   "outputs": [
    {
     "name": "stdout",
     "output_type": "stream",
     "text": [
      "아이언맨\n"
     ]
    }
   ],
   "source": [
    "print(ironman)"
   ]
  },
  {
   "cell_type": "code",
   "execution_count": null,
   "metadata": {},
   "outputs": [],
   "source": []
  },
  {
   "cell_type": "code",
   "execution_count": null,
   "metadata": {},
   "outputs": [],
   "source": []
  },
  {
   "cell_type": "code",
   "execution_count": null,
   "metadata": {},
   "outputs": [],
   "source": []
  },
  {
   "cell_type": "code",
   "execution_count": 39,
   "metadata": {},
   "outputs": [],
   "source": [
    "# -*- coding: utf-8 -*-\n",
    "\n",
    "# class 정의\n",
    "class Character(object):\n",
    "    def __init__(self, name, health, damage, inventory):\n",
    "        self.name = name\n",
    "        self.health = health\n",
    "        self.damage = damage\n",
    "        self.inventory = inventory\n",
    "\n",
    "    def __repr__(self):\n",
    "        return \"저는 %s입니다.\" % self.name"
   ]
  },
  {
   "cell_type": "code",
   "execution_count": 40,
   "metadata": {},
   "outputs": [],
   "source": [
    "ironman = Character('아이언맨', 100, 200, {'gold': 500, 'weapon': '레이저'})"
   ]
  },
  {
   "cell_type": "code",
   "execution_count": 41,
   "metadata": {},
   "outputs": [
    {
     "name": "stdout",
     "output_type": "stream",
     "text": [
      "저는 아이언맨입니다.\n"
     ]
    }
   ],
   "source": [
    "print(ironman)"
   ]
  },
  {
   "cell_type": "code",
   "execution_count": null,
   "metadata": {},
   "outputs": [],
   "source": []
  },
  {
   "cell_type": "code",
   "execution_count": null,
   "metadata": {},
   "outputs": [],
   "source": []
  },
  {
   "cell_type": "code",
   "execution_count": 2,
   "metadata": {},
   "outputs": [
    {
     "name": "stdout",
     "output_type": "stream",
     "text": [
      "[<__main__.Character object at 0x10d5c8cf8>, <__main__.Character object at 0x10d5c8d68>, <__main__.Character object at 0x10d5c8d30>]\n",
      "[<__main__.Character object at 0x10d5c8da0>, <__main__.Character object at 0x10d5c8cc0>, <__main__.Character object at 0x10d5c8dd8>]\n",
      "[<__main__.Character object at 0x10d5c8d68>, <__main__.Character object at 0x10d5c8d30>]\n"
     ]
    }
   ],
   "source": [
    "        \n",
    "# Character 클래스의 오브젝트 생성\n",
    "heroes = []\n",
    "heroes.append(Character('아이언맨', 100, 200, {'gold': 500, 'weapon': '레이저'}))\n",
    "heroes.append(Character('데드풀', 300, 30, {'gold': 300, 'weapon': '장검'}))\n",
    "heroes.append(Character('울버린', 200, 50, {'gold': 350, 'weapon': '클로'}))\n",
    "\n",
    "monsters = []\n",
    "monsters.append(Character('고블린', 90, 30, {'gold': 50, 'weapon': '창'}))\n",
    "monsters.append(Character('드래곤', 200, 80, {'gold': 200, 'weapon': '화염'}))\n",
    "monsters.append(Character('뱀파이어', 80, 120, {'gold': 1000, 'weapon': '최면술'}))\n",
    "\n",
    "print(heroes)  # 히어로 리스트 확인\n",
    "print(monsters)  # 몬스터 리스트 확인\n",
    "del(heroes[0])  # 히어로 리스트에서 아이언맨 삭제\n",
    "print(heroes)  # 히어로 리스트 재확인"
   ]
  },
  {
   "cell_type": "code",
   "execution_count": 4,
   "metadata": {},
   "outputs": [
    {
     "name": "stdout",
     "output_type": "stream",
     "text": [
      "[아이언맨, 데드풀, 울버린]\n",
      "[고블린, 드래곤, 뱀파이어]\n",
      "[데드풀, 울버린]\n"
     ]
    }
   ],
   "source": [
    "# -*- coding: utf-8 -*-\n",
    "\n",
    "# class 정의\n",
    "class Character(object):\n",
    "    def __init__(self, name, health, damage, inventory):\n",
    "        self.name = name\n",
    "        self.health = health\n",
    "        self.damage = damage\n",
    "        self.inventory = inventory\n",
    "        \n",
    "    def __repr__(self):\n",
    "        return self.name\n",
    "        \n",
    "# Character 클래스의 오브젝트 생성\n",
    "heroes = []\n",
    "heroes.append(Character('아이언맨', 100, 200, {'gold': 500, 'weapon': '레이저'}))\n",
    "heroes.append(Character('데드풀', 300, 30, {'gold': 300, 'weapon': '장검'}))\n",
    "heroes.append(Character('울버린', 200, 50, {'gold': 350, 'weapon': '클로'}))\n",
    "\n",
    "monsters = []\n",
    "monsters.append(Character('고블린', 90, 30, {'gold': 50, 'weapon': '창'}))\n",
    "monsters.append(Character('드래곤', 200, 80, {'gold': 200, 'weapon': '화염'}))\n",
    "monsters.append(Character('뱀파이어', 80, 120, {'gold': 1000, 'weapon': '최면술'}))\n",
    "\n",
    "print(heroes)  # 히어로 리스트 확인\n",
    "print(monsters)  # 몬스터 리스트 확인\n",
    "del(heroes[0])  # 히어로 리스트에서 아이언맨 삭제\n",
    "print(heroes)  # 히어로 리스트 재확인"
   ]
  },
  {
   "cell_type": "markdown",
   "metadata": {},
   "source": [
    "__객체__는 생각하고 다룰 수 있는 구체적인 대상(Object)를 일컫는다. \n",
    "그런데 "
   ]
  },
  {
   "cell_type": "markdown",
   "metadata": {},
   "source": [
    "## 연습문제"
   ]
  },
  {
   "cell_type": "markdown",
   "metadata": {},
   "source": [
    "1."
   ]
  }
 ],
 "metadata": {
  "kernelspec": {
   "display_name": "Python 3",
   "language": "python",
   "name": "python3"
  },
  "language_info": {
   "codemirror_mode": {
    "name": "ipython",
    "version": 3
   },
   "file_extension": ".py",
   "mimetype": "text/x-python",
   "name": "python",
   "nbconvert_exporter": "python",
   "pygments_lexer": "ipython3",
   "version": "3.6.3"
  }
 },
 "nbformat": 4,
 "nbformat_minor": 2
}
