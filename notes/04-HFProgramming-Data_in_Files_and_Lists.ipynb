{
 "cells": [
  {
   "cell_type": "code",
   "execution_count": 39,
   "metadata": {},
   "outputs": [
    {
     "name": "stdout",
     "output_type": "stream",
     "text": [
      "Name  Score\r\n",
      "Johnny  8.65 \r\n",
      "Juan  9.12\r\n",
      "Joseph  8.45\r\n",
      "Stacey  7.81\r\n",
      "Aideen  8.05\r\n",
      "Zack  7.21\r\n",
      "Aaron  8.31\r\n"
     ]
    }
   ],
   "source": [
    "%cat data/results.txt"
   ]
  },
  {
   "cell_type": "code",
   "execution_count": 32,
   "metadata": {},
   "outputs": [
    {
     "name": "stdout",
     "output_type": "stream",
     "text": [
      "1등 점수는 9.12 입니다.\n"
     ]
    }
   ],
   "source": [
    "result_f = open(\"data/results.txt\") \n",
    "\n",
    "highst_score = 0\n",
    "\n",
    "for line in result_f: \n",
    "    record = line.split()\n",
    "\n",
    "    try: \n",
    "        score = float(record[1])\n",
    "    except:\n",
    "        continue\n",
    "\n",
    "    if highst_score < score:\n",
    "        highst_score = score\n",
    "    else:\n",
    "        continue\n",
    "\n",
    "result_f.close() \n",
    "\n",
    "print(\"1등 점수는\", highst_score, \"입니다.\")"
   ]
  },
  {
   "cell_type": "code",
   "execution_count": 36,
   "metadata": {},
   "outputs": [
    {
     "name": "stdout",
     "output_type": "stream",
     "text": [
      "1등 점수는 9.12 입니다.\n",
      "2등 점수는 8.65 입니다.\n"
     ]
    }
   ],
   "source": [
    "result_f = open(\"data/results.txt\") \n",
    "\n",
    "highst_score = 0\n",
    "second_highst_score = 0\n",
    "\n",
    "for line in result_f: \n",
    "    record = line.split()\n",
    "\n",
    "    try: \n",
    "        score = float(record[1])\n",
    "    except:\n",
    "        continue\n",
    "\n",
    "    if highst_score < score:\n",
    "        second_highst_score = highst_score\n",
    "        highst_score = score\n",
    "    elif second_highst_score < score:\n",
    "        second_highst_score = score\n",
    "    else:\n",
    "        continue\n",
    "\n",
    "result_f.close() \n",
    "\n",
    "print(\"1등 점수는\", highst_score, \"입니다.\")\n",
    "print(\"2등 점수는\", second_highst_score, \"입니다.\")"
   ]
  },
  {
   "cell_type": "code",
   "execution_count": 38,
   "metadata": {},
   "outputs": [
    {
     "name": "stdout",
     "output_type": "stream",
     "text": [
      "1등 점수는 9.12 입니다.\n",
      "2등 점수는 8.65 입니다.\n",
      "3등 점수는 8.45 입니다.\n"
     ]
    }
   ],
   "source": [
    "result_f = open(\"data/results.txt\") \n",
    "\n",
    "highst_score = 0\n",
    "second_highst_score = 0\n",
    "third_highst_score = 0\n",
    "\n",
    "for line in result_f: \n",
    "    record = line.split()\n",
    "\n",
    "    try: \n",
    "        score = float(record[1])\n",
    "    except:\n",
    "        continue\n",
    "\n",
    "    if highst_score < score:\n",
    "        third_highst_score = second_highst_score\n",
    "        second_highst_score = highst_score\n",
    "        highst_score = score\n",
    "    elif second_highst_score < score:\n",
    "        third_highst_score = second_highst_score\n",
    "        second_highst_score = score\n",
    "    elif third_highst_score < score:\n",
    "        third_highst_score = score        \n",
    "    else:\n",
    "        continue\n",
    "\n",
    "result_f.close() \n",
    "\n",
    "print(\"1등 점수는\", highst_score, \"입니다.\")\n",
    "print(\"2등 점수는\", second_highst_score, \"입니다.\")\n",
    "print(\"3등 점수는\", third_highst_score, \"입니다.\")"
   ]
  },
  {
   "cell_type": "code",
   "execution_count": 4,
   "metadata": {},
   "outputs": [
    {
     "name": "stdout",
     "output_type": "stream",
     "text": [
      "The top scores were:\n",
      "9.12\n",
      "8.65\n",
      "8.45\n"
     ]
    }
   ],
   "source": [
    "scores = [] \n",
    "result_f = open(\"data/results.txt\") \n",
    "for line in result_f: \n",
    "    (name, score) = line.split() \n",
    "    try:\n",
    "        scores.append(float(score)) \n",
    "    except:\n",
    "        continue\n",
    "result_f.close() \n",
    "scores.sort() \n",
    "scores.reverse() \n",
    "\n",
    "print(\"The top scores were:\") \n",
    "print(scores[0]) \n",
    "print(scores[1]) \n",
    "print(scores[2])"
   ]
  },
  {
   "cell_type": "code",
   "execution_count": 6,
   "metadata": {},
   "outputs": [],
   "source": [
    "def ranking(rank):\n",
    "    scores = [] \n",
    "    result_f = open(\"data/results.txt\") \n",
    "    for line in result_f: \n",
    "        (name, score) = line.split() \n",
    "        try:\n",
    "            scores.append(float(score)) \n",
    "        except:\n",
    "            continue\n",
    "    result_f.close() \n",
    "    scores.sort() \n",
    "    scores.reverse()\n",
    "    \n",
    "    return scores[rank-1]"
   ]
  },
  {
   "cell_type": "code",
   "execution_count": 7,
   "metadata": {},
   "outputs": [
    {
     "data": {
      "text/plain": [
       "9.12"
      ]
     },
     "execution_count": 7,
     "metadata": {},
     "output_type": "execute_result"
    }
   ],
   "source": [
    "ranking(1)"
   ]
  },
  {
   "cell_type": "code",
   "execution_count": 9,
   "metadata": {},
   "outputs": [
    {
     "data": {
      "text/plain": [
       "8.65"
      ]
     },
     "execution_count": 9,
     "metadata": {},
     "output_type": "execute_result"
    }
   ],
   "source": [
    "ranking(2)"
   ]
  },
  {
   "cell_type": "code",
   "execution_count": 10,
   "metadata": {},
   "outputs": [
    {
     "data": {
      "text/plain": [
       "8.45"
      ]
     },
     "execution_count": 10,
     "metadata": {},
     "output_type": "execute_result"
    }
   ],
   "source": [
    "ranking(3)"
   ]
  },
  {
   "cell_type": "markdown",
   "metadata": {},
   "source": [
    "#### `ranking` 함수의 특징\n",
    "* "
   ]
  },
  {
   "cell_type": "markdown",
   "metadata": {},
   "source": [
    "## 연습문제"
   ]
  }
 ],
 "metadata": {
  "kernelspec": {
   "display_name": "Python 3",
   "language": "python",
   "name": "python3"
  },
  "language_info": {
   "codemirror_mode": {
    "name": "ipython",
    "version": 3
   },
   "file_extension": ".py",
   "mimetype": "text/x-python",
   "name": "python",
   "nbconvert_exporter": "python",
   "pygments_lexer": "ipython3",
   "version": "3.6.3"
  }
 },
 "nbformat": 4,
 "nbformat_minor": 2
}
