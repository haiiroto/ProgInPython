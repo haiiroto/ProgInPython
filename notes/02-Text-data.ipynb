{
 "cells": [
  {
   "cell_type": "markdown",
   "metadata": {},
   "source": [
    "# 2. 텍스트 데이터"
   ]
  },
  {
   "cell_type": "markdown",
   "metadata": {},
   "source": [
    "#### 다룰 내용\n",
    "\n",
    "* 문자열 정의 및 기본 성질\n",
    "* 문자열 활용 기본\n",
    "* 문자열 관련 메소드 활용"
   ]
  },
  {
   "cell_type": "markdown",
   "metadata": {},
   "source": [
    "## 문자열 자료형"
   ]
  },
  {
   "cell_type": "markdown",
   "metadata": {},
   "source": [
    "문자열 자료형은 문자열, 즉, 문자들을 나열한 값들의 일컫는 자료형이다. \n",
    "모든 프로그래밍언어에 공통으로 사용되며, 프로그래밍 요소 중에 가장 핵심이라고 할 수 있다.\n",
    "문자열 자료형은 보통 `str`로 표시되면 string의 줄임말이다.\n",
    "\n",
    "문자열 자료형은 시퀀스(sequence) 자료형(data type)의 한 종류이다.\n",
    "앞으로 리스트, 튜플, 사전 등 다른 종류의 시퀀스 자료형을 다룰 것이다."
   ]
  },
  {
   "cell_type": "markdown",
   "metadata": {},
   "source": [
    "## 문자 집합"
   ]
  },
  {
   "cell_type": "markdown",
   "metadata": {},
   "source": [
    "문자열에 사용되는 문자들을 모아 놓은 집합을 문자 집합이라 한다. \n",
    "파이썬을 포함해서 대부분의 프로그래밍언어들이 문자 타입을 `chr`로 표시하는 데 이는 character의 줄임말이다.\n",
    "\n",
    "프로그래밍언어에서 사용하는 문자 집합에는 여러 종류가 있지만 대표적으로 아스키코드(ASCII)와 유니코드(Unicode)가 사용된다. "
   ]
  },
  {
   "cell_type": "markdown",
   "metadata": {},
   "source": [
    "### 아스키코드 (American Standard Code for Information Interchange)\n",
    "\n",
    "아스키코드는 미국정보교환표준부호의 약자이며 영문 알파벳을 사용하는 대표적인 문자 인코딩이다. \n",
    "아스키는 컴퓨터와 통신 장비를 비롯한 문자를 사용하는 많은 장치에서 사용되며, 대부분의 문자 인코딩이 아스키에 기초를 두고 있다.\n",
    "\n",
    "아스키는 1967년에 표준으로 제정되어 1986년에 마지막으로 개정되었다. 아스키는 7비트 인코딩으로, 33개의 출력 불가능한 제어 문자들과 공백을 비롯한 95개의 출력 가능한 문자들로 이루어진다. 제어 문자들은 역사적인 이유로 남아 있으며 대부분은 더 이상 사용되지 않는다. 출력 가능한 문자들은 52개의 영문 알파벳 대소문자와, 10개의 숫자, 32개의 특수 문자, 그리고 하나의 공백 문자로 이루어진다.\n",
    "\n",
    "총 128개의 문자를 다루기에 문자별로 1바이트를 사용한다. 아스키코드에서 다루는 문자들의 표는 아래 사이트에서 확인할 수 있다.\n",
    "\n",
    "https://ko.wikipedia.org/wiki/미국정보교환표준부호"
   ]
  },
  {
   "cell_type": "markdown",
   "metadata": {},
   "source": [
    "### 유니코드 (Unicode)\n",
    "\n",
    "유니코드(Unicode)는 전 세계의 모든 문자를 컴퓨터에서 일관되게 표현하고 다룰 수 있도록 설계된 산업 표준이며, 유니코드 협회(Unicode Consortium)가 제정한다. \n",
    "\n",
    "유니코드의 목적은 현존하는 문자 인코딩 방법들을 모두 유니코드로 교체하려는 것이다. \n",
    "기존의 인코딩들은 그 규모나 범위 면에서 한정되어 있고, 다국어 환경에서는 서로 호환되지 않는 문제점이 있었다. \n",
    "유니코드가 다양한 문자 집합들을 통합하는 데 성공하면서 유니코드는 컴퓨터 소프트웨어의 국제화와 지역화에 널리 사용되게 되었으며, \n",
    "비교적 최근의 기술인 XML, 자바, 그리고 최신 운영 체제 등에서도 지원하고 있다.\n",
    "유니코드에서 한국어 발음을 나타날 때는 예일 로마자 표기법의 변형인 ISO/TR 11941을 사용하고 있다.\n",
    "\n",
    "유니코드는 아스키코드를 포함한다. 또한 보다 많은 문자들을 다루기 위해 문자별로 2바이트 크기를 사용한다.\n",
    "\n",
    "파이썬에서 한글을 사용하기 위해서는 따라서 유니코드를 사용해야 한다.\n",
    "파이썬 파일을 작성할 때 아래 명령문을 맨 윗줄에 포함시켜야 한다.\n",
    "\n",
    "    # coding: utf-8\n",
    "\n",
    "(샵(`#`) 기호도 포함된다.)\n",
    "\n",
    "유니코드에 대해 보다 자세히 알고자 한다면 아래 사이트를 참조할 수 있다.\n",
    "\n",
    "https://namu.wiki/w/유니코드"
   ]
  },
  {
   "cell_type": "markdown",
   "metadata": {},
   "source": [
    "## 인덱싱"
   ]
  },
  {
   "cell_type": "markdown",
   "metadata": {},
   "source": [
    "문자열에 사용된 문자 각각을 확인하는 방법으로 인덱싱을 이용한다.\n",
    "즉, 문자열 처음부터 0, 1, 2, 등으로 위치를 나타내는 인덱스를 이용하여 해당 위치의 정보를 확인할 수 있다.\n",
    "이를 인덱싱이라 부른다.\n",
    "\n",
    "아래 예제를 살펴보면서 인덱싱 사용법을 익힌다."
   ]
  },
  {
   "cell_type": "code",
   "execution_count": 1,
   "metadata": {
    "collapsed": false
   },
   "outputs": [
    {
     "name": "stdout",
     "output_type": "stream",
     "text": [
      "a\n"
     ]
    }
   ],
   "source": [
    "fruit = 'banana'\n",
    "letter = fruit[1]\n",
    "print(letter)"
   ]
  },
  {
   "cell_type": "code",
   "execution_count": 2,
   "metadata": {
    "collapsed": false
   },
   "outputs": [
    {
     "data": {
      "text/plain": [
       "'b'"
      ]
     },
     "execution_count": 2,
     "metadata": {},
     "output_type": "execute_result"
    }
   ],
   "source": [
    "fruit[0]"
   ]
  },
  {
   "cell_type": "markdown",
   "metadata": {},
   "source": [
    "## 문자열 길이"
   ]
  },
  {
   "cell_type": "markdown",
   "metadata": {},
   "source": [
    "`len`이란 함수를 이용하여 문자열에 사용된 문자의 개수를 확인할 수 있다."
   ]
  },
  {
   "cell_type": "code",
   "execution_count": 3,
   "metadata": {
    "collapsed": false
   },
   "outputs": [
    {
     "data": {
      "text/plain": [
       "6"
      ]
     },
     "execution_count": 3,
     "metadata": {},
     "output_type": "execute_result"
    }
   ],
   "source": [
    "len(fruit)"
   ]
  },
  {
   "cell_type": "markdown",
   "metadata": {},
   "source": [
    "#### 질문\n",
    "\n",
    "문자열의 맨 마지막 자리의 인덱스는?\n",
    "\n",
    "#### 답변\n",
    "\n",
    "문자열의 길이에 1을 뺀 수이다."
   ]
  },
  {
   "cell_type": "code",
   "execution_count": 4,
   "metadata": {
    "collapsed": false
   },
   "outputs": [
    {
     "data": {
      "text/plain": [
       "'a'"
      ]
     },
     "execution_count": 4,
     "metadata": {},
     "output_type": "execute_result"
    }
   ],
   "source": [
    "length = len(fruit)\n",
    "fruit[length-1]"
   ]
  },
  {
   "cell_type": "markdown",
   "metadata": {},
   "source": [
    "문자열의 인덱스로 사용할 수 있는 숫자는 문자열의 길이보다 작아야 한다.\n",
    "그렇지 않으면 `IndexError` 라는 오류가 발생한다."
   ]
  },
  {
   "cell_type": "code",
   "execution_count": 5,
   "metadata": {
    "collapsed": false
   },
   "outputs": [
    {
     "ename": "IndexError",
     "evalue": "string index out of range",
     "output_type": "error",
     "traceback": [
      "\u001b[0;31m---------------------------------------------------------------------------\u001b[0m",
      "\u001b[0;31mIndexError\u001b[0m                                Traceback (most recent call last)",
      "\u001b[0;32m<ipython-input-5-ffe9f25ee584>\u001b[0m in \u001b[0;36m<module>\u001b[0;34m()\u001b[0m\n\u001b[0;32m----> 1\u001b[0;31m \u001b[0mfruit\u001b[0m\u001b[0;34m[\u001b[0m\u001b[0mlength\u001b[0m\u001b[0;34m]\u001b[0m\u001b[0;34m\u001b[0m\u001b[0m\n\u001b[0m",
      "\u001b[0;31mIndexError\u001b[0m: string index out of range"
     ]
    }
   ],
   "source": [
    "fruit[length]"
   ]
  },
  {
   "cell_type": "markdown",
   "metadata": {},
   "source": [
    "반면에 음수도 일부 사용 가능하다. \n",
    "문자열을 역순으로 확인하는 데에 사용한다."
   ]
  },
  {
   "cell_type": "code",
   "execution_count": 6,
   "metadata": {
    "collapsed": false
   },
   "outputs": [
    {
     "data": {
      "text/plain": [
       "'a'"
      ]
     },
     "execution_count": 6,
     "metadata": {},
     "output_type": "execute_result"
    }
   ],
   "source": [
    "fruit[-1]"
   ]
  },
  {
   "cell_type": "code",
   "execution_count": null,
   "metadata": {
    "collapsed": true
   },
   "outputs": [],
   "source": [
    "fruit[-2]"
   ]
  },
  {
   "cell_type": "code",
   "execution_count": 8,
   "metadata": {
    "collapsed": false
   },
   "outputs": [
    {
     "data": {
      "text/plain": [
       "'b'"
      ]
     },
     "execution_count": 8,
     "metadata": {},
     "output_type": "execute_result"
    }
   ],
   "source": [
    "fruit[-6]"
   ]
  },
  {
   "cell_type": "markdown",
   "metadata": {},
   "source": [
    "#### 인덱스 범위 정리\n",
    "\n",
    "문자열 `s`가 주어졌다가 가정하자.\n",
    "그러면 인덱스로 사용할 수 있는 수 `i`는 아래 성질을 만족해야 한다.\n",
    "\n",
    "    -len(s) <= i < len(s)\n",
    "    \n",
    "위 조건이 성립하지 않으면 `IndexError` 오류가 발생한다."
   ]
  },
  {
   "cell_type": "markdown",
   "metadata": {},
   "source": [
    "## 문자열과 반복문"
   ]
  },
  {
   "cell_type": "markdown",
   "metadata": {},
   "source": [
    "문자열에 사용된 각각의 문자들을 이용하여 어떤 행위를 반복적으로 실행하고자 할 경우 `while`문 또는 `for`문을 이용한다. \n",
    "\n",
    "예를 들어, 아래 코드에서 정의된 함수 `print_letter` 함수는 문자열을 입력받아 사용된 모든 문자들을 하나씩 보여준다."
   ]
  },
  {
   "cell_type": "code",
   "execution_count": 9,
   "metadata": {
    "collapsed": true
   },
   "outputs": [],
   "source": [
    "def print_letter(s):\n",
    "    index = 0\n",
    "    while index < len(s):\n",
    "        letter = s[index]\n",
    "        print(letter)\n",
    "        index = index + 1"
   ]
  },
  {
   "cell_type": "code",
   "execution_count": 10,
   "metadata": {
    "collapsed": false
   },
   "outputs": [
    {
     "name": "stdout",
     "output_type": "stream",
     "text": [
      "b\n",
      "a\n",
      "n\n",
      "a\n",
      "n\n",
      "a\n"
     ]
    }
   ],
   "source": [
    "print_letter(fruit)"
   ]
  },
  {
   "cell_type": "markdown",
   "metadata": {},
   "source": [
    "`end` 키워드값을 변경하면 원하는 모양으로 출력할 수 있다."
   ]
  },
  {
   "cell_type": "code",
   "execution_count": 11,
   "metadata": {
    "collapsed": true
   },
   "outputs": [],
   "source": [
    "def print_letter(s):\n",
    "    index = 0\n",
    "    while index < len(s):\n",
    "        letter = s[index]\n",
    "        print(letter, end=\", \")\n",
    "        index = index + 1"
   ]
  },
  {
   "cell_type": "code",
   "execution_count": 12,
   "metadata": {
    "collapsed": false
   },
   "outputs": [
    {
     "name": "stdout",
     "output_type": "stream",
     "text": [
      "b, a, n, a, n, a, "
     ]
    }
   ],
   "source": [
    "print_letter(fruit)"
   ]
  },
  {
   "cell_type": "markdown",
   "metadata": {},
   "source": [
    "### 연습 1 (TP8.1)\n",
    "\n",
    "문자열에 사용된 각각의 문자가 한 줄에 하나씩 역순으로 인쇄하도록 `print_letter` 함수를 수정하라."
   ]
  },
  {
   "cell_type": "markdown",
   "metadata": {},
   "source": [
    "`for` 문을 이용하여 동일한 일을 할 수 있다.\n",
    "아래 코드를 먼저 이해하도록 해보자.\n",
    "\n",
    "힌트: 덧셈 기호(`+`)는 두 개의 문자열을 이어붙이는 연산이다. "
   ]
  },
  {
   "cell_type": "code",
   "execution_count": 13,
   "metadata": {
    "collapsed": false
   },
   "outputs": [
    {
     "name": "stdout",
     "output_type": "stream",
     "text": [
      "Jack\n",
      "Kack\n",
      "Lack\n",
      "Mack\n",
      "Nack\n",
      "Oack\n",
      "Pack\n",
      "Qack\n"
     ]
    }
   ],
   "source": [
    "prefixes = 'JKLMNOPQ'\n",
    "suffix = 'ack'\n",
    "\n",
    "for letter in prefixes:\n",
    "    print(letter + suffix)"
   ]
  },
  {
   "cell_type": "markdown",
   "metadata": {},
   "source": [
    "### 연습 2 (TP8.2)\n",
    "\n",
    "`Oack` 대신에 `Ouack`, `Qack` 대신에 `Quack`가 출력되도록 위 코드를 수정하라."
   ]
  },
  {
   "cell_type": "markdown",
   "metadata": {},
   "source": [
    "## 슬라이싱"
   ]
  },
  {
   "cell_type": "markdown",
   "metadata": {},
   "source": [
    "문자열의 일부분을 확인하는 방법을 슬라이싱(slicing)이라고 부르며, 사용법은 인덱싱과 비슷하다.\n",
    "다만, 확인하고자 하는 부분의 처음과 끝의 인덱스를 동시에 사용해야 한다. \n",
    "\n",
    "아래 예제를 통해 슬라이싱을 연습한다."
   ]
  },
  {
   "cell_type": "code",
   "execution_count": 14,
   "metadata": {
    "collapsed": true
   },
   "outputs": [],
   "source": [
    "s = \"Monty Python\""
   ]
  },
  {
   "cell_type": "code",
   "execution_count": 15,
   "metadata": {
    "collapsed": false
   },
   "outputs": [
    {
     "data": {
      "text/plain": [
       "'Monty'"
      ]
     },
     "execution_count": 15,
     "metadata": {},
     "output_type": "execute_result"
    }
   ],
   "source": [
    "s[0:5]"
   ]
  },
  {
   "cell_type": "code",
   "execution_count": 16,
   "metadata": {
    "collapsed": false
   },
   "outputs": [
    {
     "data": {
      "text/plain": [
       "'Python'"
      ]
     },
     "execution_count": 16,
     "metadata": {},
     "output_type": "execute_result"
    }
   ],
   "source": [
    "s[6:12]"
   ]
  },
  {
   "cell_type": "markdown",
   "metadata": {},
   "source": [
    "##### 주의사항\n",
    "\n",
    "* 사용할 수 있는 인덱스는 앞서 설명한 것과 동일하다.\n",
    "* 슬라이싱에 사용되는 구간의 오른쪽 끝을 나타내는 인덱스 보다 하나 적은 인덱스까지 읽는다. "
   ]
  },
  {
   "cell_type": "markdown",
   "metadata": {},
   "source": [
    "콜론 왼쪽에 인덱스를 생략하면 `0`을 의미한다."
   ]
  },
  {
   "cell_type": "code",
   "execution_count": 17,
   "metadata": {
    "collapsed": false
   },
   "outputs": [
    {
     "data": {
      "text/plain": [
       "'Mon'"
      ]
     },
     "execution_count": 17,
     "metadata": {},
     "output_type": "execute_result"
    }
   ],
   "source": [
    "s[:3]"
   ]
  },
  {
   "cell_type": "markdown",
   "metadata": {},
   "source": [
    "콜론 오른쪽에 인덱스를 생략하면 마지막 인덱스를 의미한다."
   ]
  },
  {
   "cell_type": "code",
   "execution_count": 18,
   "metadata": {
    "collapsed": false
   },
   "outputs": [
    {
     "data": {
      "text/plain": [
       "'ty Python'"
      ]
     },
     "execution_count": 18,
     "metadata": {},
     "output_type": "execute_result"
    }
   ],
   "source": [
    "s[3:]"
   ]
  },
  {
   "cell_type": "markdown",
   "metadata": {},
   "source": [
    "### 연습 3 (TP8.3)\n",
    "\n",
    "콜론 양쪽의 수를 모두 생략하면 어떻게 되는가?"
   ]
  },
  {
   "cell_type": "markdown",
   "metadata": {},
   "source": [
    "#### 간격(step) 활용\n",
    "\n",
    "정해진 구간의 값들을 특정 간격으로 확인할 수 있다.\n",
    "\n",
    "예를 들어, 매 두 번째 인덱스 값을 확인하려면 콜론을 추가해야 한다."
   ]
  },
  {
   "cell_type": "code",
   "execution_count": 19,
   "metadata": {
    "collapsed": false
   },
   "outputs": [
    {
     "data": {
      "text/plain": [
       "'Mny'"
      ]
     },
     "execution_count": 19,
     "metadata": {},
     "output_type": "execute_result"
    }
   ],
   "source": [
    "s[0:6:2]"
   ]
  },
  {
   "cell_type": "markdown",
   "metadata": {},
   "source": [
    "간격을 -1로 하면 역순으로 구간을 확인할 수 있다."
   ]
  },
  {
   "cell_type": "code",
   "execution_count": 20,
   "metadata": {
    "collapsed": false
   },
   "outputs": [
    {
     "data": {
      "text/plain": [
       "'P ytno'"
      ]
     },
     "execution_count": 20,
     "metadata": {},
     "output_type": "execute_result"
    }
   ],
   "source": [
    "s[6:0:-1]"
   ]
  },
  {
   "cell_type": "markdown",
   "metadata": {},
   "source": [
    "물론 간격을 -2, -3 등도 가능하다."
   ]
  },
  {
   "cell_type": "code",
   "execution_count": 21,
   "metadata": {
    "collapsed": false
   },
   "outputs": [
    {
     "data": {
      "text/plain": [
       "'Pyn'"
      ]
     },
     "execution_count": 21,
     "metadata": {},
     "output_type": "execute_result"
    }
   ],
   "source": [
    "s[6:0:-2]"
   ]
  },
  {
   "cell_type": "markdown",
   "metadata": {},
   "source": [
    "## 수정 가능성"
   ]
  },
  {
   "cell_type": "markdown",
   "metadata": {},
   "source": [
    "기존의 문자열을 수정하는 것은 불가능하다. 따라서 비가변(immutable) 또는 불변 자료형 이라 불린다.\n",
    "따라서 원하는 문자열을 얻고자 한다면 기존의 문자열을 이용하여 새로운 문자열을 생성해야 한다. \n",
    "\n",
    "예를 들어 \"Hello\" 와 \"Python\" 두 개의 문자열을 이어 붙혀서 \"Hello Python\"을 만들기 위해서는 다음과 같이 할 수 있다."
   ]
  },
  {
   "cell_type": "code",
   "execution_count": 22,
   "metadata": {
    "collapsed": false
   },
   "outputs": [
    {
     "data": {
      "text/plain": [
       "'Hello Python'"
      ]
     },
     "execution_count": 22,
     "metadata": {},
     "output_type": "execute_result"
    }
   ],
   "source": [
    "\"Hello\" + \" \" + \"Python\""
   ]
  },
  {
   "cell_type": "markdown",
   "metadata": {},
   "source": [
    "그런데 아래와 같이 기존의 문자열의 내용을 수정하려고 하면 오류가 발생한다."
   ]
  },
  {
   "cell_type": "code",
   "execution_count": 23,
   "metadata": {
    "collapsed": false
   },
   "outputs": [
    {
     "ename": "TypeError",
     "evalue": "'str' object does not support item assignment",
     "output_type": "error",
     "traceback": [
      "\u001b[0;31m---------------------------------------------------------------------------\u001b[0m",
      "\u001b[0;31mTypeError\u001b[0m                                 Traceback (most recent call last)",
      "\u001b[0;32m<ipython-input-23-230884f26c44>\u001b[0m in \u001b[0;36m<module>\u001b[0;34m()\u001b[0m\n\u001b[1;32m      1\u001b[0m \u001b[0mgreeting\u001b[0m \u001b[0;34m=\u001b[0m \u001b[0;34m'Hello, world!'\u001b[0m\u001b[0;34m\u001b[0m\u001b[0m\n\u001b[0;32m----> 2\u001b[0;31m \u001b[0mgreeting\u001b[0m\u001b[0;34m[\u001b[0m\u001b[0;36m0\u001b[0m\u001b[0;34m]\u001b[0m \u001b[0;34m=\u001b[0m \u001b[0;34m'J'\u001b[0m\u001b[0;34m\u001b[0m\u001b[0m\n\u001b[0m",
      "\u001b[0;31mTypeError\u001b[0m: 'str' object does not support item assignment"
     ]
    }
   ],
   "source": [
    "greeting = 'Hello, world!'\n",
    "greeting[0] = 'J'"
   ]
  },
  {
   "cell_type": "markdown",
   "metadata": {},
   "source": [
    "위에서 `TypeError`라는 오류가 발생한다. 문자열 자료형(`str`)은 인덱싱을 이용하여 값을 변경하는 것을 허락하지 않기 때문이다."
   ]
  },
  {
   "cell_type": "markdown",
   "metadata": {},
   "source": [
    "## 문자열 다루기 연습\n",
    "\n",
    "문자열을 활용하는 방법 중에서 가장 기본적인 것들을 연습한다. "
   ]
  },
  {
   "cell_type": "markdown",
   "metadata": {},
   "source": [
    "### 검색"
   ]
  },
  {
   "cell_type": "markdown",
   "metadata": {},
   "source": [
    "먼저 아래에 정의된 함수 `find`가 하는 일을 이해해 보자."
   ]
  },
  {
   "cell_type": "code",
   "execution_count": 24,
   "metadata": {
    "collapsed": true
   },
   "outputs": [],
   "source": [
    "def find(word, letter):\n",
    "    index = 0\n",
    "    while index < len(word):\n",
    "        if word[index] == letter:\n",
    "            return index\n",
    "        index = index + 1\n",
    "    return -1"
   ]
  },
  {
   "cell_type": "markdown",
   "metadata": {},
   "source": [
    "`find` 함수는 인덱싱과 반대되는 일을 한다. \n",
    "즉, 문자열에 특정 단어가 사용되었을 경우 그 문자가 처음 사용된 곳의 인덱스를 리턴하고, 아니면 -1을 리턴한다. "
   ]
  },
  {
   "cell_type": "markdown",
   "metadata": {},
   "source": [
    "### 연습 4 (TP8.4)\n",
    "\n",
    "`find`를 인자를 하나 더 받도록 수정하라.\n",
    "추가된 인자는 정수형이며 `word` 문자열 어디서부터 검색할지를 지정하는 역할을 수행하도록 한다."
   ]
  },
  {
   "cell_type": "markdown",
   "metadata": {},
   "source": [
    "### 숫자 세기"
   ]
  },
  {
   "cell_type": "markdown",
   "metadata": {},
   "source": [
    "문자열에서 특정 문자가 몇 번 사용되었는지 확인할 수 있다.\n",
    "\n",
    "#### 예제 \n",
    "\n",
    "아래 코드를 이해해 보자."
   ]
  },
  {
   "cell_type": "code",
   "execution_count": 25,
   "metadata": {
    "collapsed": false
   },
   "outputs": [
    {
     "name": "stdout",
     "output_type": "stream",
     "text": [
      "2\n"
     ]
    }
   ],
   "source": [
    "word = 'banana'\n",
    "count = 0\n",
    "for letter in word:\n",
    "    if letter == 'n':\n",
    "        count = count + 1\n",
    "print(count)"
   ]
  },
  {
   "cell_type": "markdown",
   "metadata": {},
   "source": [
    "위 코드는 `'banana'` 문자열에서 문자 `'a'`가 몇 번 사용되었는지를 세어준다"
   ]
  },
  {
   "cell_type": "markdown",
   "metadata": {},
   "source": [
    "### 연습 5 (TP8.5)\n",
    "\n",
    "위 코드를 수정하여 다음의 일을 수행하는 함수 `count`를 정의하라.\n",
    "\n",
    "* 문자열과 문자를 인자로 받는다.\n",
    "* 문자열 안에 해당 문자가 사용된 횟수를 리턴한다."
   ]
  },
  {
   "cell_type": "markdown",
   "metadata": {},
   "source": [
    "### 연습 6 (TP8.6)\n",
    "\n",
    "앞서의 연습문제에서 구현한 `count` 함수를 연습 4의 `find` 함수의 경우처럼 한 개의 인자를 더 사용하는 함수로 수정하라.\n",
    "\n",
    "* 문자열, 문자, 인덱스를 인자로 받는다.\n",
    "* 문자열 안에 해당 문자가 인덱스 이후부터 사용된 횟수를 리턴한다."
   ]
  },
  {
   "cell_type": "markdown",
   "metadata": {},
   "source": [
    "## 문자열 메소드"
   ]
  },
  {
   "cell_type": "markdown",
   "metadata": {},
   "source": [
    "앞서 `find`, `count` 함수를 구현하여 이용하는 방법을 연습하였다.\n",
    "그런데 두 함수와 비슷한 기능을 갖고 있는 함수가 이미 존재한다. \n",
    "이와 같이 문자열과 관련하여 특수한 기능을 수행하는 함수를 문자열 메소드라 부른다.\n",
    "\n",
    "##### 주의사항\n",
    "\n",
    "* 메소드는 함수이다.\n",
    "* 하지만 모든 메소드는 특정 자료형과 함께 사용된다.\n",
    "* 문자열 자료형, 정수 자료형, 리스트 자료형 등 자료형이 달라지면 사용할 수 있는 메소드도 달라진다.\n",
    "* 반면에 함수는 일반적으로 모든 자료형을 인자로 받을 수 있다. 물론 이상한 자료형이 들어오면 실행 중에 오류가 날 수 있다.\n",
    "* 함수는 보통 아래 방식으로 호출한다.\n",
    "        \n",
    "        함수(인자, ...)\n",
    "        \n",
    "* 반면에 메소드는 호출방식 모양이 다르다.        \n",
    "        \n",
    "        자료값.메소드(인자,...)\n",
    "\n",
    "문자열 메소드는 매우 다양하다.\n",
    "여기서는 몇 개의 메소드만 다룬다. \n",
    "보다 다양한 종류의 메소드 예제들은 아래 사이트에서 확인할 수 있다.\n",
    "\n",
    "http://egloos.zum.com/itbaby/v/4243381"
   ]
  },
  {
   "cell_type": "markdown",
   "metadata": {},
   "source": [
    "#### `upper` 메소드\n",
    "\n",
    "소문자를 모두 대문자로 바꿀 때 사용한다."
   ]
  },
  {
   "cell_type": "code",
   "execution_count": 26,
   "metadata": {
    "collapsed": false
   },
   "outputs": [
    {
     "name": "stdout",
     "output_type": "stream",
     "text": [
      "BANANA\n"
     ]
    }
   ],
   "source": [
    "word = \"banana\"\n",
    "new_world = word.upper()\n",
    "print(new_world)"
   ]
  },
  {
   "cell_type": "markdown",
   "metadata": {},
   "source": [
    "#### `find` 메소드\n",
    "\n",
    "특정 문자열이 다른 문자열에서 사용된 위치를 알려준다."
   ]
  },
  {
   "cell_type": "code",
   "execution_count": 27,
   "metadata": {
    "collapsed": false
   },
   "outputs": [
    {
     "name": "stdout",
     "output_type": "stream",
     "text": [
      "3\n"
     ]
    }
   ],
   "source": [
    "word = 'banana'\n",
    "index = 'banana'.find('a',2)\n",
    "print(index)"
   ]
  },
  {
   "cell_type": "markdown",
   "metadata": {},
   "source": [
    "찾는 구간을 지정할 수도 있다. 이 기능을 이용하려면 `print` 함수의 경우처럼 키워드 인자를 활용해야 한다.\n",
    "먼저 `find` 함수에 사용되는 키워드 인자가 어떤 것들이 있는지를 확인해야 한다.\n",
    "\n",
    "##### 주의사항\n",
    "\n",
    "* `find` 처럼 일반 함수가 아닌 특정 자료형의 메소드에 대한 정보를 확인하고자 하면 다음과 같이 `help` 함수를 호출해야 한다.\n",
    "        \n",
    "         help(자료값.메소드)\n",
    "         \n",
    "* 일반 함수의 경우처럼 `help(함수)`를 실행하면 오류가 발생한다.         "
   ]
  },
  {
   "cell_type": "code",
   "execution_count": 28,
   "metadata": {
    "collapsed": false
   },
   "outputs": [
    {
     "name": "stdout",
     "output_type": "stream",
     "text": [
      "Help on built-in function find:\n",
      "\n",
      "find(...) method of builtins.str instance\n",
      "    S.find(sub[, start[, end]]) -> int\n",
      "    \n",
      "    Return the lowest index in S where substring sub is found,\n",
      "    such that sub is contained within S[start:end].  Optional\n",
      "    arguments start and end are interpreted as in slice notation.\n",
      "    \n",
      "    Return -1 on failure.\n",
      "\n"
     ]
    }
   ],
   "source": [
    "help(\"banana\".find)"
   ]
  },
  {
   "cell_type": "markdown",
   "metadata": {},
   "source": [
    "##### 주의사항\n",
    "\n",
    "* 위 설명에서 여는 대괄호(`[`)는 선택 인자임을 나타낸다.\n",
    "* `sub`에 해당하는 인자는 반드시 필요하고 나머지 인자는 선택사항이다.\n",
    "* 그리고 `start` 인자를 사용하면 `end` 인자는 선택사항이다.\n",
    "* `start`와 `end`의 각각 찾는 구간의 처음과 끝을 나타낸다."
   ]
  },
  {
   "cell_type": "code",
   "execution_count": 29,
   "metadata": {
    "collapsed": false
   },
   "outputs": [
    {
     "data": {
      "text/plain": [
       "3"
      ]
     },
     "execution_count": 29,
     "metadata": {},
     "output_type": "execute_result"
    }
   ],
   "source": [
    "word.find('a', 2)"
   ]
  },
  {
   "cell_type": "code",
   "execution_count": 30,
   "metadata": {
    "collapsed": false
   },
   "outputs": [
    {
     "data": {
      "text/plain": [
       "3"
      ]
     },
     "execution_count": 30,
     "metadata": {},
     "output_type": "execute_result"
    }
   ],
   "source": [
    "word.find('a', 2, 5)"
   ]
  },
  {
   "cell_type": "markdown",
   "metadata": {},
   "source": [
    "`find` 메소드는 임의의 문자열을 인자로 받는다."
   ]
  },
  {
   "cell_type": "code",
   "execution_count": 31,
   "metadata": {
    "collapsed": false
   },
   "outputs": [
    {
     "data": {
      "text/plain": [
       "2"
      ]
     },
     "execution_count": 31,
     "metadata": {},
     "output_type": "execute_result"
    }
   ],
   "source": [
    "word.find('na')"
   ]
  },
  {
   "cell_type": "markdown",
   "metadata": {},
   "source": [
    "### 연습 7 (TP8.7)\n",
    "\n",
    "`count` 함수에 해당하는 동일한 이름의 문자열 메소드가 존재한다. `count` 메소드의 활용법을 조사하라."
   ]
  },
  {
   "cell_type": "markdown",
   "metadata": {},
   "source": [
    "### 연습 8 (TP8.8)\n",
    "\n",
    "문자열 메소드 중에 `split`와 `replace`는 매우 유용하다.\n",
    "두 문자열의 사용법을 예를 들어 설명하라."
   ]
  },
  {
   "cell_type": "markdown",
   "metadata": {},
   "source": [
    "## `in` 연산자"
   ]
  },
  {
   "cell_type": "markdown",
   "metadata": {},
   "source": [
    "`in`은 두 개의 문자열을 인자로 받아들여서, 첫 번째가 두 번째에 부분 문자열로 등장하면 True를 돌려주는 논리 연산자이다."
   ]
  },
  {
   "cell_type": "code",
   "execution_count": 32,
   "metadata": {
    "collapsed": false
   },
   "outputs": [
    {
     "data": {
      "text/plain": [
       "True"
      ]
     },
     "execution_count": 32,
     "metadata": {},
     "output_type": "execute_result"
    }
   ],
   "source": [
    "'a' in 'banana'"
   ]
  },
  {
   "cell_type": "code",
   "execution_count": 33,
   "metadata": {
    "collapsed": false
   },
   "outputs": [
    {
     "data": {
      "text/plain": [
       "True"
      ]
     },
     "execution_count": 33,
     "metadata": {},
     "output_type": "execute_result"
    }
   ],
   "source": [
    "'na' in 'banana'"
   ]
  },
  {
   "cell_type": "code",
   "execution_count": 34,
   "metadata": {
    "collapsed": false
   },
   "outputs": [
    {
     "data": {
      "text/plain": [
       "False"
      ]
     },
     "execution_count": 34,
     "metadata": {},
     "output_type": "execute_result"
    }
   ],
   "source": [
    "'naa' in 'banana'"
   ]
  },
  {
   "cell_type": "markdown",
   "metadata": {},
   "source": [
    "#### 예제\n",
    "\n",
    "다음 함수는 word2에도 동시에 등장하는 word1의 모든 문자들을 인쇄한다."
   ]
  },
  {
   "cell_type": "code",
   "execution_count": 35,
   "metadata": {
    "collapsed": true
   },
   "outputs": [],
   "source": [
    "def in_both(word1, word2):\n",
    "    for letter in word1:\n",
    "        if letter in word2:\n",
    "            print(letter)"
   ]
  },
  {
   "cell_type": "code",
   "execution_count": 36,
   "metadata": {
    "collapsed": false
   },
   "outputs": [
    {
     "name": "stdout",
     "output_type": "stream",
     "text": [
      "a\n",
      "e\n",
      "s\n"
     ]
    }
   ],
   "source": [
    "in_both('apples', 'oragnes')"
   ]
  },
  {
   "cell_type": "markdown",
   "metadata": {},
   "source": [
    "## 문자열 비교"
   ]
  },
  {
   "cell_type": "markdown",
   "metadata": {},
   "source": [
    "두 개의 문자열 비교할 수 있다.\n",
    "\n",
    "* 동일 여부: `==` 이용"
   ]
  },
  {
   "cell_type": "code",
   "execution_count": 37,
   "metadata": {
    "collapsed": false
   },
   "outputs": [
    {
     "name": "stdout",
     "output_type": "stream",
     "text": [
      "All right, bananas.\n"
     ]
    }
   ],
   "source": [
    "if word == 'banana':\n",
    "    print('All right, bananas.')"
   ]
  },
  {
   "cell_type": "markdown",
   "metadata": {},
   "source": [
    "문자열에서 순서가 있는데 사전식 순서를 이용한다.\n",
    "또한 모든 대문자는 어떤 소문자보다도 앞 순서를 갖는다."
   ]
  },
  {
   "cell_type": "code",
   "execution_count": 38,
   "metadata": {
    "collapsed": false
   },
   "outputs": [],
   "source": [
    "def order_word(word):\n",
    "    if word < 'banana':\n",
    "        print('Your word,' + word + ', comes before banana.')\n",
    "    elif word > 'banana':\n",
    "        print('Your word,' + word + ', comes after banana.')\n",
    "    else:\n",
    "        print('All right, bananas.')"
   ]
  },
  {
   "cell_type": "code",
   "execution_count": 39,
   "metadata": {
    "collapsed": false
   },
   "outputs": [
    {
     "name": "stdout",
     "output_type": "stream",
     "text": [
      "Your word,apple, comes before banana.\n"
     ]
    }
   ],
   "source": [
    "order_word(\"apple\")"
   ]
  },
  {
   "cell_type": "code",
   "execution_count": 40,
   "metadata": {
    "collapsed": false
   },
   "outputs": [
    {
     "name": "stdout",
     "output_type": "stream",
     "text": [
      "Your word,tomato, comes after banana.\n"
     ]
    }
   ],
   "source": [
    "order_word(\"tomato\")"
   ]
  },
  {
   "cell_type": "code",
   "execution_count": 41,
   "metadata": {
    "collapsed": false
   },
   "outputs": [
    {
     "name": "stdout",
     "output_type": "stream",
     "text": [
      "Your word,Tomato, comes before banana.\n"
     ]
    }
   ],
   "source": [
    "order_word(\"Tomato\")"
   ]
  },
  {
   "cell_type": "markdown",
   "metadata": {},
   "source": [
    "### 연습 9 (TP8.9)\n",
    "\n",
    "시퀀스의 값들을 탐색하려고 지수를 사용할 때, 탐색의 처음과 끝에서 틀리기 쉽다. \n",
    "\n",
    "예를 들어 두 단어를 비교해서, 한 단어가 다른 하나의 역이면 True를 돌려주는 함수 `is_reverse`를 아래와 같이 구현했다고 가정해보자."
   ]
  },
  {
   "cell_type": "code",
   "execution_count": 42,
   "metadata": {
    "collapsed": false
   },
   "outputs": [],
   "source": [
    "def is_reverse(word1, word2):\n",
    "    if len(word1) != len(word2):\n",
    "        return False\n",
    "    \n",
    "    i = 0\n",
    "    j = len(word2)\n",
    "\n",
    "    while j > 0:\n",
    "        if word1[i] != word2[j]:\n",
    "            return False\n",
    "        i = i+1\n",
    "        j = j-1\n",
    "\n",
    "    return True"
   ]
  },
  {
   "cell_type": "markdown",
   "metadata": {},
   "source": [
    "위 함수를 두 군데에 잘못 정의되어 있다. \n",
    "`is_reverse` 함수의 정의가 문법상으로는 하자가 없지만 실행을 하다보면 오류가 발생한다.\n",
    "이와 같은 오류를 실행시간 오류(runtime error)라 부른다.\n",
    "\n",
    "##### 힌트\n",
    "\n",
    "`is_reverse` 함수를 다음의 두 가지 방식으로 호출하면 어디에서 오류가 났는지 확인할 수 있다.\n",
    "또한 `print` 함수를 적절히 이용하여서 실행 중에 어떤 일들이 벌어지는지 확인할 수 있다.\n",
    "\n",
    "* `is_reverse(\"stop\", \"pots\")`\n",
    "* `is_reverse(\"stoa\", \"pots\")`"
   ]
  },
  {
   "cell_type": "markdown",
   "metadata": {},
   "source": [
    "### 연습 10 (TP8.10)\n",
    "\n",
    "영어 단어 중에서 `radar`, `noon` 등과 같이 앞으로 읽으나 뒤로 읽으나 스펠링이 동일한 단어를 회문(palindrome)이라 한다.\n",
    "\n",
    "문자열이 회문이면 True를, 아니면 False를 리턴하는 함수 `is_palindrome`을 아래 코드에서 완성하라.\n",
    "\n",
    "##### 힌트\n",
    "\n",
    "* 아래 코드에서 `pass` 부분을 한 줄로 완성하라.\n",
    "* 앞서 슬라이싱 설명한 부분에서 간격(step)을 잘 활용하면 된다."
   ]
  },
  {
   "cell_type": "markdown",
   "metadata": {},
   "source": [
    "### 연습 11 (TP8.11)\n",
    "\n",
    "다음 함수들은 모두 문자열이 소문자를 포함하고 있는지를 조사하기로 되어있지만, 적어도 일부는 잘못되었다. \n",
    "각각의 함수마다, 함수가 실제로 무엇을 하는지 설명하라. (매개변수는 문자열이라고 가정한다)."
   ]
  },
  {
   "cell_type": "code",
   "execution_count": 43,
   "metadata": {
    "collapsed": true
   },
   "outputs": [],
   "source": [
    "def any_lowercase1(s):\n",
    "    for c in s:\n",
    "        if c.islower():\n",
    "            return True\n",
    "        else:\n",
    "            return False\n",
    "\n",
    "def any_lowercase2(s):\n",
    "    for c in s:\n",
    "        if 'c'.islower():\n",
    "            return 'True'\n",
    "        else:\n",
    "            return 'False'\n",
    "\n",
    "def any_lowercase3(s):\n",
    "    for c in s:\n",
    "        flag = c.islower()\n",
    "    return flag\n",
    "\n",
    "def any_lowercase4(s):\n",
    "    flag = False\n",
    "    for c in s:\n",
    "        flag = flag or c.islower()\n",
    "    return flag\n",
    "\n",
    "def any_lowercase5(s):\n",
    "    for c in s:\n",
    "        if not c.islower():\n",
    "            return False\n",
    "    return True"
   ]
  },
  {
   "cell_type": "markdown",
   "metadata": {},
   "source": [
    "### 연습 12 (TP8.12)\n",
    "\n",
    "ROT13은 단어의 각 글자를 13자리만큼 회전 시키는 방식의 간단한 암호 법이다. 글자를 회전한다는 것은 알파벳 상의 위치를 이동, 필요하면 처음으로 돌아가서, 한다는 뜻이다. 예를 들어, `'A'` 를 3만큼 이동하면 `'D'`가, `'Z'` 를 1만 큼 이동하면 `'A'`가 된다.\n",
    "\n",
    "#### 문제\n",
    "문자열과 정수를 매개변수로 받아들여서 원래 문자열을 요청한 양만큼 \"회전\"시킨 문자열을 돌려주는 함수 `rotate_word`를 작성하라. \n",
    "예를 들어, `'cheer'` 를 7만큼 회전하면 `'jolly'` 이고 `'melon'` 을 -10만큼 회전하면 `'cubed'`가 된다.\n",
    "\n",
    "##### 힌트:\n",
    "문자를 숫자 코드로 형변환하는 ord 내장함수와 숫자코드를 문자로 형변환하는  chr 내장함수를 이용할 수 있다.\n",
    "아래 사이트에 가면 모범답안이 있다. 하지만 먼저 스스로 해결하도록 노력해 보아야 한다.\n",
    "\n",
    "http://thinkpython.com/code/rotate.py"
   ]
  }
 ],
 "metadata": {
  "kernelspec": {
   "display_name": "Python 3",
   "language": "python",
   "name": "python3"
  },
  "language_info": {
   "codemirror_mode": {
    "name": "ipython",
    "version": 3
   },
   "file_extension": ".py",
   "mimetype": "text/x-python",
   "name": "python",
   "nbconvert_exporter": "python",
   "pygments_lexer": "ipython3",
   "version": "3.5.1"
  }
 },
 "nbformat": 4,
 "nbformat_minor": 0
}
