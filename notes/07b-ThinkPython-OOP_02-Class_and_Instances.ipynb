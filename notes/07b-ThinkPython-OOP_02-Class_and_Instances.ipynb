{
 "cells": [
  {
   "cell_type": "markdown",
   "metadata": {},
   "source": [
    "# 클래스와 인스턴스"
   ]
  },
  {
   "cell_type": "markdown",
   "metadata": {},
   "source": [
    "안내: [schoolofweb.net](http://schoolofweb.net/blog/posts/%ED%8C%8C%EC%9D%B4%EC%8D%AC-oop-part-1-%EA%B0%9D%EC%B2%B4-%EC%A7%80%ED%96%A5-%ED%94%84%EB%A1%9C%EA%B7%B8%EB%9E%98%EB%B0%8Doop%EC%9D%80-%EB%AC%B4%EC%97%87%EC%9D%B8%EA%B0%80-%EC%99%9C-%EC%82%AC%EC%9A%A9%ED%95%98%EB%8A%94%EA%B0%80/)에서 사용한 코드 일부를 수정하여 설명에 활용하였음. \n",
    "코드 사용에 대한 보다 자세한 설명은 해당 사이트를 이용할 것 추천함."
   ]
  },
  {
   "cell_type": "markdown",
   "metadata": {},
   "source": [
    "## OOP 이해 방법"
   ]
  },
  {
   "cell_type": "markdown",
   "metadata": {},
   "source": [
    "OOP를 이론적으로 이해하려는 접근은 매우 어렵다.\n",
    "오히려 일종의 프로그래밍 기법으로 간주하고 해당 기법을 습득하기 위해 다양한 예제를 살펴보는 것이 \n",
    "OOP에 대한 보다 빠르고 정확한 이해를 얻을 수 있다.\n",
    "\n",
    "여기서는 \"클래스를 선언한 후에 인스턴스를 생성하여 프로그램을 구현하는 기법이 \n",
    "그렇지 않은 기법보다 효율적으로 프로그램을 구현하는 데에 도움을 준다\"는 명제를\n",
    "적절하게 보여주는 예제를 이용하여 OOP에 대한 이해를 돕고자 한다."
   ]
  },
  {
   "cell_type": "markdown",
   "metadata": {},
   "source": [
    "## 예제: OOP가 아닌 방식"
   ]
  },
  {
   "cell_type": "markdown",
   "metadata": {},
   "source": [
    "히어로 캐릭터를 묘사하는 프로그램을 구현하고자 한다.\n",
    "\n",
    "#### 주의사항\n",
    "\n",
    "여기서는 `turtle` 모듈을 사용할 때와는 달리 그래픽을 전혀 사용하지 않는다.\n",
    "게임을 구현할 때 그래픽 요소가 매우 중요하지만 여기서는 게임 캐릭터 관련 프로그램의 핵심을\n",
    "OOP 방식으로 구현하는 과정을 소개한다."
   ]
  },
  {
   "cell_type": "markdown",
   "metadata": {},
   "source": [
    "### 게임 캐릭터 하나 구현하기\n",
    "\n",
    "아래 코드는 아이언맨 캐릭터를 묘사하는 코드이며,\n",
    "묘사를 위해 4가지 요소를 고려하였다.\n",
    "\n",
    "* 이름(name)\n",
    "* 체력(health power)\n",
    "* 타격력(damage power)\n",
    "* 장비(inventory)\n",
    "    * 수트 방어력(suit power)\n",
    "    * 사용 무기(weapon)\n",
    "\n",
    "코드를 실행하면 아이언맨 캐릭터가 자신을 소개하도록 만들었다.\n",
    "\n",
    "__주의:__ 컴퓨터 게임을 시작하면서 캐릭터를 선택할 때 선택된 캐릭터가 자기소개를 한다고 상상하면 된다."
   ]
  },
  {
   "cell_type": "code",
   "execution_count": 25,
   "metadata": {},
   "outputs": [
    {
     "name": "stdout",
     "output_type": "stream",
     "text": [
      "제 이름은 아이언맨입니다\n",
      "현재 저의 체력은 100입니다.\n",
      "저는 공격할 때마다 상대방에게 200만큼의 손상을 줍니다.\n",
      "제 수트의 방어력은 500이며 사용하는 무기는 레이저입니다.\n"
     ]
    }
   ],
   "source": [
    "# -*- coding: utf-8 -*-\n",
    "\n",
    "hero_name = '아이언맨'\n",
    "hero_health = 100\n",
    "hero_damage = 200\n",
    "hero_inventory = [\n",
    "    {'suit': 500},\n",
    "    {'weapon': '레이저'}\n",
    "]\n",
    "\n",
    "print(\"제 이름은 %s입니다\" % hero_name)\n",
    "print(\"현재 저의 체력은 %s입니다.\" % hero_health)\n",
    "print(\"저는 공격할 때마다 상대방에게 %s만큼의 손상을 줍니다.\" % hero_damage)\n",
    "print(\"제 수트의 방어력은 %d이며 사용하는 무기는 %s입니다.\" % \\\n",
    "      (hero_inventory[0]['suit'], hero_inventory[1]['weapon']))"
   ]
  },
  {
   "cell_type": "markdown",
   "metadata": {},
   "source": [
    "#### 주의사항\n",
    "장비(inventory)에 할당된 값의 자료형에 주의해야 한다.\n",
    "지금까지 배우 자료형을 거의 총망라해서 활용하였다.\n",
    "\n",
    "* `hero_inventory`에 할당된 값: 길이가 2인 리스트\n",
    "* 리스트의 각 항목에 사용된 값: 사전\n",
    "* 첫째 사전의 항목\n",
    "    * 키: 문자열\n",
    "    * 값: 정수\n",
    "* 둘째 사전의 항목\n",
    "    * 키: 문자열\n",
    "    * 값: 문자열\n",
    "    \n",
    "따라서 마지막 `print` 문에서 사용된 `hero_inventory[0]['suit']`는 바로 리스트와 사전의 인덱싱을 활용하였다.\n",
    "\n",
    "* `hero_inventory[0]` = 리스트의 첫째 항목 = `{'suit':500}`\n",
    "    * `hero_inventory[0]['suit']` = `{'suit':500}['suit']` = `500`\n",
    "* `hero_inventory[1]` = 리스트의 둘째 항목 = `{'weapon':'레이저'}`\n",
    "    * `hero_inventory[1]['weapon']` = `{'weapon':'레이저'}['weapon']` = `'레이저'`"
   ]
  },
  {
   "cell_type": "markdown",
   "metadata": {},
   "source": [
    "### 많은 게임 캐릭터 구현하기\n",
    "\n",
    "하나의 게임 캐릭터를 구현한다면 위와 같이 해도 전혀 문제 없다.\n",
    "하지만 어벤져스 영화에서처럼 많은 영웅과 악당들을 구현한다면 어떻게 해야 하나?\n",
    "\n",
    "한 가지 방식은 아래 코드에서처럼 카피-앤-페이스트(copy-and-paste)를 열심히 사용하는 것이다."
   ]
  },
  {
   "cell_type": "code",
   "execution_count": 10,
   "metadata": {},
   "outputs": [
    {
     "name": "stdout",
     "output_type": "stream",
     "text": [
      "제 이름은 아이언맨입니다\n",
      "현재 저의 체력은 100입니다.\n",
      "저는 공격할 때마다 상대방에게 200만큼의 손상을 줍니다.\n",
      "제 수트의 방어력은 500이며 사용하는 무기는 레이저입니다.\n",
      "=====\n",
      "제 이름은 데드풀입니다\n",
      "현재 저의 체력은 300입니다.\n",
      "저는 공격할 때마다 상대방에게 30만큼의 손상을 줍니다.\n",
      "제 수트의 방어력은 300이며 사용하는 무기는 장검입니다.\n",
      "=====\n",
      "제 이름은 울버린입니다\n",
      "현재 저의 체력은 200입니다.\n",
      "저는 공격할 때마다 상대방에게 50만큼의 손상을 줍니다.\n",
      "제 수트의 방어력은 350이며 사용하는 무기는 클로입니다.\n",
      "=====\n",
      "제 이름은 고블린입니다\n",
      "현재 저의 체력은 90입니다.\n",
      "저는 공격할 때마다 상대방에게 30만큼의 손상을 줍니다.\n",
      "제 수트의 방어력은 50이며 사용하는 무기는 창입니다.\n",
      "=====\n",
      "제 이름은 드래곤입니다\n",
      "현재 저의 체력은 200입니다.\n",
      "저는 공격할 때마다 상대방에게 80만큼의 손상을 줍니다.\n",
      "제 수트의 방어력은 200이며 사용하는 무기는 화염입니다.\n",
      "=====\n",
      "제 이름은 뱀파이어입니다\n",
      "현재 저의 체력은 80입니다.\n",
      "저는 공격할 때마다 상대방에게 120만큼의 손상을 줍니다.\n",
      "제 수트의 방어력은 1000이며 사용하는 무기는 최면술입니다.\n"
     ]
    }
   ],
   "source": [
    "# -*- coding: utf-8 -*-\n",
    "\n",
    "# 히어로 1\n",
    "hero_1_name = '아이언맨'\n",
    "hero_1_health = 100\n",
    "hero_1_damage = 200\n",
    "hero_1_inventory = [\n",
    "    {'suit': 500},\n",
    "    {'weapon': '레이저'}\n",
    "]\n",
    "\n",
    "print(\"제 이름은 %s입니다\" % hero_1_name)\n",
    "print(\"현재 저의 체력은 %s입니다.\" % hero_1_health)\n",
    "print(\"저는 공격할 때마다 상대방에게 %s만큼의 손상을 줍니다.\" % hero_1_damage)\n",
    "print(\"제 수트의 방어력은 %d이며 사용하는 무기는 %s입니다.\" % \\\n",
    "      (hero_1_inventory[0]['suit'], hero_1_inventory[1]['weapon']))\n",
    "\n",
    "print(\"=====\")\n",
    "\n",
    "# 히어로 2\n",
    "hero_2_name = '데드풀'\n",
    "hero_2_health = 300\n",
    "hero_2_damage = 30\n",
    "hero_2_inventory = [\n",
    "    {'suit': 300},\n",
    "    {'weapon': '장검'}\n",
    "]\n",
    "\n",
    "print(\"제 이름은 %s입니다\" % hero_2_name)\n",
    "print(\"현재 저의 체력은 %s입니다.\" % hero_2_health)\n",
    "print(\"저는 공격할 때마다 상대방에게 %s만큼의 손상을 줍니다.\" % hero_2_damage)\n",
    "print(\"제 수트의 방어력은 %d이며 사용하는 무기는 %s입니다.\" % \\\n",
    "      (hero_2_inventory[0]['suit'], hero_2_inventory[1]['weapon']))\n",
    "\n",
    "print(\"=====\")\n",
    "\n",
    "# 히어로 3\n",
    "hero_3_name = '울버린'\n",
    "hero_3_health = 200\n",
    "hero_3_damage = 50\n",
    "hero_3_inventory = [\n",
    "    {'suit': 350},\n",
    "    {'weapon': '클로'}\n",
    "]\n",
    "\n",
    "print(\"제 이름은 %s입니다\" % hero_3_name)\n",
    "print(\"현재 저의 체력은 %s입니다.\" % hero_3_health)\n",
    "print(\"저는 공격할 때마다 상대방에게 %s만큼의 손상을 줍니다.\" % hero_3_damage)\n",
    "print(\"제 수트의 방어력은 %d이며 사용하는 무기는 %s입니다.\" % \\\n",
    "      (hero_3_inventory[0]['suit'], hero_3_inventory[1]['weapon']))\n",
    "\n",
    "print(\"=====\")\n",
    "\n",
    "# 몬스터 1\n",
    "monster_1_name = '고블린'\n",
    "monster_1_health = 90\n",
    "monster_1_damage = 30\n",
    "monster_1_inventory = [\n",
    "    {'suit': 50},\n",
    "    {'weapon': '창'}\n",
    "]\n",
    "\n",
    "print(\"제 이름은 %s입니다\" % monster_1_name)\n",
    "print(\"현재 저의 체력은 %s입니다.\" % monster_1_health)\n",
    "print(\"저는 공격할 때마다 상대방에게 %s만큼의 손상을 줍니다.\" % monster_1_damage)\n",
    "print(\"제 수트의 방어력은 %d이며 사용하는 무기는 %s입니다.\" % \\\n",
    "      (monster_1_inventory[0]['suit'], monster_1_inventory[1]['weapon']))\n",
    "\n",
    "print(\"=====\")\n",
    "\n",
    "# 몬스터 2\n",
    "monster_2_name = '드래곤'\n",
    "monster_2_health = 200\n",
    "monster_2_damage = 80\n",
    "monster_2_inventory = [\n",
    "    {'suit': 200},\n",
    "    {'weapon': '화염'}\n",
    "]\n",
    "\n",
    "print(\"제 이름은 %s입니다\" % monster_2_name)\n",
    "print(\"현재 저의 체력은 %s입니다.\" % monster_2_health)\n",
    "print(\"저는 공격할 때마다 상대방에게 %s만큼의 손상을 줍니다.\" % monster_2_damage)\n",
    "print(\"제 수트의 방어력은 %d이며 사용하는 무기는 %s입니다.\" % \\\n",
    "      (monster_2_inventory[0]['suit'], monster_2_inventory[1]['weapon']))\n",
    "\n",
    "print(\"=====\")\n",
    "\n",
    "# 몬스터 3\n",
    "monster_3_name = '뱀파이어'\n",
    "monster_3_health = 80\n",
    "monster_3_damage = 120\n",
    "monster_3_inventory = [\n",
    "    {'suit': 1000},\n",
    "    {'weapon': '최면술'}\n",
    "]\n",
    "\n",
    "print(\"제 이름은 %s입니다\" % monster_3_name)\n",
    "print(\"현재 저의 체력은 %s입니다.\" % monster_3_health)\n",
    "print(\"저는 공격할 때마다 상대방에게 %s만큼의 손상을 줍니다.\" % monster_3_damage)\n",
    "print(\"제 수트의 방어력은 %d이며 사용하는 무기는 %s입니다.\" % \\\n",
    "      (monster_3_inventory[0]['suit'], monster_3_inventory[1]['weapon']))"
   ]
  },
  {
   "cell_type": "markdown",
   "metadata": {},
   "source": [
    "### 위 코드의 문제점\n",
    "\n"
   ]
  },
  {
   "cell_type": "markdown",
   "metadata": {},
   "source": [
    "위 코드는 많은 문제를 갖고 있다. \n",
    "무엇보다도 카피-앤-페이스트의 남용이 심각하다.\n",
    "그리고 아무리 카피-앤-페이스트를 활용한다 하더라도 위와 같이 코딩하면 많은 문제가\n",
    "발생할 수 있다. 예를 들어,\n",
    "\n",
    "* 캐릭터 수가 엄청 늘어난다면?\n",
    "* 캐릭터를 묘사하는 내용이나 방법이 달라진다면?\n",
    "\n",
    "그러면 코드의 모든 부분을 일일이 손으로 수정해야 하며,\n",
    "카피-앤-페이스트가 별 도움이 되지 않는다.\n",
    "생성해야 할 캐릭터가 몇 백, 몇 천개, 몇 만개 이면 어떨지 한 번 상상해본다면\n",
    "끔찍해질 것이다.\n",
    "\n",
    "이제 이런 문제를 어떻게 해결할 것인가를 물어야 한다."
   ]
  },
  {
   "cell_type": "markdown",
   "metadata": {},
   "source": [
    "## 카피-앤-페이스트(copy-and-paster)의 문제"
   ]
  },
  {
   "cell_type": "markdown",
   "metadata": {},
   "source": [
    "문제를 해결하려면 발생한 문제를 다시 잘 살펴 보아야 한다.\n",
    "문제의 왜 발생하는가?\n",
    "모순적이게도 문제의 원인을 카피-앤-페이스트를 활용할 수 있다는 데서 찾을 수 있다.\n",
    "\n",
    "다른 말이 아니라, 카피-앤-페이스트를 활용한다는 것은 코드가 기본적으로 동일하다는 것을 반영한다.\n",
    "즉, 코드의 전체 모양은 동일한데 단지 코드의 일부 값들만 수정하면 되기 때문에 \n",
    "우리는 보통 카피-앤-페이스트를 사용한다.\n",
    "그런데 앞서의 예에서 보았듯이 카피-앤-페이스트를 많이 사용한다는 것은 결국 프로그래밍기법에 문제가 \n",
    "있다는 것을 반영한다.\n",
    "\n",
    "그렇다면 어떻게 해야 할까?"
   ]
  },
  {
   "cell_type": "markdown",
   "metadata": {},
   "source": [
    "## 코드의 추상화"
   ]
  },
  {
   "cell_type": "markdown",
   "metadata": {},
   "source": [
    "답은 간단하다. \n",
    "카피-앤-페이스트의 활용을 최대한 줄이는 방안을 모색해야 한다.\n",
    "\n",
    "어떻게 줄이나? \n",
    "역시 답은 간단하다.\n",
    "__반복되는 부분을 따로 떼어내면 된다__.\n",
    "\n",
    "어떻게 따로 떼어내나?\n",
    "답은 \"__추상화를 이용한다__\" 이다.\n",
    "\n",
    "지금까지 추상화 개념을 구현하는 두 가지 도구를 사용했다.\n",
    "바로 함수와 모듈이다.\n",
    "\n",
    "* 함수: 반복적으로 사용되는 코드를 함수로 만들어서 필요한 경우 해당 함수를 호출한다.\n",
    "* 모듈: 여러 파일에서 공동으로 사용되는 함수들을 하나의 모듈로 묶어서 필요한 경우 불러와서 사용한다.\n",
    "\n",
    "이제 추상화 도구를 하나 더 소개한다.\n",
    "바로 __클래스__이다. \n",
    "클래스는 어찌 보면 모듈과 비슷하다.\n",
    "모듈은 단순히 하나의 파이썬 파일이며 그 안에는 다양한 변수, 함수를 포함한 어떤 파이썬 코드도\n",
    "포함될 수 있다.\n",
    "반면에 클래스 안에는 변수와 함수가 선언되어 있다."
   ]
  },
  {
   "cell_type": "markdown",
   "metadata": {},
   "source": [
    "### 개념의 크기 비교\n",
    "\n",
    "클래스도 파이썬 코드의 구성요소 중에 하나이므로 클래스를 선언하는 코드도 모듈에 포함될 수 있다.\n",
    "따라서 추상화 도구로 언급한 함수, 모듈, 클래스를 개념상의 크기로 나열한다면 다음과 같다.\n",
    "\n",
    "    함수 < 클래스 < 모듈\n",
    "\n",
    "즉, 다음이 성립한다. \n",
    "* 모듈(파이썬 코드 파일) 안에는 임의의 함수, 변수, 클래스를 사용한 코드가 포함된다.\n",
    "* 클래스 안에는 변수화 함수가 포함된다."
   ]
  },
  {
   "cell_type": "markdown",
   "metadata": {},
   "source": [
    "## OOP 방식으로 게임 캐릭터 구현하기"
   ]
  },
  {
   "cell_type": "markdown",
   "metadata": {},
   "source": [
    "이제 많은 캐릭터를 소개하는 위 코드를 OOP 방식으로 구현해 보자.\n",
    "\n",
    "그러기 위해 캐릭터를 소개하는 기본적인 방식을 담은 클래스를 선언하고,\n",
    "선언된 클래스로부터 원하는 캐릭터를 손쉽게 만들어 내는 도구인 __인스턴스 생성__ 과정을 \n",
    "이용하는 방법을 소개한다."
   ]
  },
  {
   "cell_type": "markdown",
   "metadata": {},
   "source": [
    "### 캐릭터 클래스 선언"
   ]
  },
  {
   "cell_type": "markdown",
   "metadata": {},
   "source": [
    "카피-앤-페이스트를 사용하는 이유가 기본적으로 동일한 모양의 코드를 사용하기 때문이라고 하였다.\n",
    "바로 __기본적으로 동일한 모양의 코드__를 클래스로 선언하면 된다.\n",
    "\n",
    "위 캐릭터 구현 코드에서 기본적으로 반복되는 동일한 모양의 코드는 무엇인가를 먼저 확인하면 다음과 같다.\n",
    "\n",
    "```\n",
    "name\n",
    "health\n",
    "damage\n",
    "inventory\n",
    "```\n",
    "\n",
    "즉, 변수 네 개를 선언하는 것이 반복된다.\n",
    "따라서 네 개의 변수를 하나의 클래스로 묶우면 되며, 클래스의 선언은 아래 모양을 갖는다.\n",
    "\n",
    "```python\n",
    "class 클래스명(부모클래스):\n",
    "    본문\n",
    "```\n",
    "\n",
    "__주의:__ 부모클래스는 뒤에서 상속을 다룰 때 설명한다. 여기서는 일단 `object`를 사용하도록 한다.\n",
    "`object`는 시조클래스를 가리킨다. 즉, 어떤 클래스도 `object` 클래스를 상속받는다는 의미이다.\n",
    "\n",
    "\n",
    "\n",
    "이제 캐릭터 클래스를 선언해보자"
   ]
  },
  {
   "cell_type": "code",
   "execution_count": 24,
   "metadata": {},
   "outputs": [],
   "source": [
    "# -*- coding: utf-8 -*-\n",
    "\n",
    "# class 정의\n",
    "class Character(object):\n",
    "    def __init__(self, name, health, damage, inventory):\n",
    "        self.name = name\n",
    "        self.health = health\n",
    "        self.damage = damage\n",
    "        self.inventory = inventory"
   ]
  },
  {
   "cell_type": "markdown",
   "metadata": {},
   "source": [
    "이제 원하는 캐릭터를 손쉽게 구현할 수 있다.\n",
    "예를 들어, 아이언맨 캐릭터를 아래와 같이 만들면 된다."
   ]
  },
  {
   "cell_type": "code",
   "execution_count": 25,
   "metadata": {},
   "outputs": [],
   "source": [
    "ironman = Character('아이언맨', 100, 200, {'gold': 500, 'weapon': '레이저'})"
   ]
  },
  {
   "cell_type": "markdown",
   "metadata": {},
   "source": [
    "실제로 이름을 확인하면 다음과 같다."
   ]
  },
  {
   "cell_type": "code",
   "execution_count": 26,
   "metadata": {},
   "outputs": [
    {
     "name": "stdout",
     "output_type": "stream",
     "text": [
      "아이언맨\n"
     ]
    }
   ],
   "source": [
    "print(ironman.name)"
   ]
  },
  {
   "cell_type": "code",
   "execution_count": 27,
   "metadata": {},
   "outputs": [
    {
     "name": "stdout",
     "output_type": "stream",
     "text": [
      "100\n"
     ]
    }
   ],
   "source": [
    "print(ironman.health)"
   ]
  },
  {
   "cell_type": "code",
   "execution_count": null,
   "metadata": {
    "collapsed": true
   },
   "outputs": [],
   "source": []
  },
  {
   "cell_type": "code",
   "execution_count": 12,
   "metadata": {},
   "outputs": [
    {
     "name": "stdout",
     "output_type": "stream",
     "text": [
      "<__main__.Character object at 0x10d5d4128>\n"
     ]
    }
   ],
   "source": [
    "print(ironman)"
   ]
  },
  {
   "cell_type": "code",
   "execution_count": null,
   "metadata": {},
   "outputs": [],
   "source": []
  },
  {
   "cell_type": "code",
   "execution_count": 30,
   "metadata": {},
   "outputs": [],
   "source": [
    "# -*- coding: utf-8 -*-\n",
    "\n",
    "# class 정의\n",
    "class Character(object):\n",
    "    def __init__(self, name, health, damage, inventory):\n",
    "        self.name = name\n",
    "        self.health = health\n",
    "        self.damage = damage\n",
    "        self.inventory = inventory\n",
    "\n",
    "    def __repr__(self):\n",
    "        return self.name"
   ]
  },
  {
   "cell_type": "code",
   "execution_count": 31,
   "metadata": {},
   "outputs": [],
   "source": [
    "ironman = Character('아이언맨', 100, 200, {'gold': 500, 'weapon': '레이저'})"
   ]
  },
  {
   "cell_type": "code",
   "execution_count": 32,
   "metadata": {},
   "outputs": [
    {
     "name": "stdout",
     "output_type": "stream",
     "text": [
      "아이언맨\n"
     ]
    }
   ],
   "source": [
    "print(ironman)"
   ]
  },
  {
   "cell_type": "code",
   "execution_count": null,
   "metadata": {},
   "outputs": [],
   "source": []
  },
  {
   "cell_type": "code",
   "execution_count": null,
   "metadata": {},
   "outputs": [],
   "source": []
  },
  {
   "cell_type": "code",
   "execution_count": null,
   "metadata": {},
   "outputs": [],
   "source": []
  },
  {
   "cell_type": "code",
   "execution_count": 39,
   "metadata": {},
   "outputs": [],
   "source": [
    "# -*- coding: utf-8 -*-\n",
    "\n",
    "# class 정의\n",
    "class Character(object):\n",
    "    def __init__(self, name, health, damage, inventory):\n",
    "        self.name = name\n",
    "        self.health = health\n",
    "        self.damage = damage\n",
    "        self.inventory = inventory\n",
    "\n",
    "    def __repr__(self):\n",
    "        return \"저는 %s입니다.\" % self.name"
   ]
  },
  {
   "cell_type": "code",
   "execution_count": 40,
   "metadata": {},
   "outputs": [],
   "source": [
    "ironman = Character('아이언맨', 100, 200, {'gold': 500, 'weapon': '레이저'})"
   ]
  },
  {
   "cell_type": "code",
   "execution_count": 41,
   "metadata": {},
   "outputs": [
    {
     "name": "stdout",
     "output_type": "stream",
     "text": [
      "저는 아이언맨입니다.\n"
     ]
    }
   ],
   "source": [
    "print(ironman)"
   ]
  },
  {
   "cell_type": "code",
   "execution_count": null,
   "metadata": {},
   "outputs": [],
   "source": []
  },
  {
   "cell_type": "code",
   "execution_count": 42,
   "metadata": {},
   "outputs": [],
   "source": [
    "deadpool = Character('데드풀', 300, 30, {'gold': 300, 'weapon': '장검'})"
   ]
  },
  {
   "cell_type": "code",
   "execution_count": 43,
   "metadata": {},
   "outputs": [
    {
     "name": "stdout",
     "output_type": "stream",
     "text": [
      "저는 데드풀입니다.\n"
     ]
    }
   ],
   "source": [
    "print(deadpool)"
   ]
  },
  {
   "cell_type": "code",
   "execution_count": null,
   "metadata": {},
   "outputs": [],
   "source": []
  },
  {
   "cell_type": "code",
   "execution_count": null,
   "metadata": {},
   "outputs": [],
   "source": []
  },
  {
   "cell_type": "code",
   "execution_count": 2,
   "metadata": {},
   "outputs": [
    {
     "name": "stdout",
     "output_type": "stream",
     "text": [
      "[<__main__.Character object at 0x10d5c8cf8>, <__main__.Character object at 0x10d5c8d68>, <__main__.Character object at 0x10d5c8d30>]\n",
      "[<__main__.Character object at 0x10d5c8da0>, <__main__.Character object at 0x10d5c8cc0>, <__main__.Character object at 0x10d5c8dd8>]\n",
      "[<__main__.Character object at 0x10d5c8d68>, <__main__.Character object at 0x10d5c8d30>]\n"
     ]
    }
   ],
   "source": [
    "        \n",
    "# Character 클래스의 오브젝트 생성\n",
    "heroes = []\n",
    "heroes.append(Character('아이언맨', 100, 200, {'gold': 500, 'weapon': '레이저'}))\n",
    "heroes.append(Character('데드풀', 300, 30, {'gold': 300, 'weapon': '장검'}))\n",
    "heroes.append(Character('울버린', 200, 50, {'gold': 350, 'weapon': '클로'}))\n",
    "\n",
    "monsters = []\n",
    "monsters.append(Character('고블린', 90, 30, {'gold': 50, 'weapon': '창'}))\n",
    "monsters.append(Character('드래곤', 200, 80, {'gold': 200, 'weapon': '화염'}))\n",
    "monsters.append(Character('뱀파이어', 80, 120, {'gold': 1000, 'weapon': '최면술'}))\n",
    "\n",
    "print(heroes)  # 히어로 리스트 확인\n",
    "print(monsters)  # 몬스터 리스트 확인\n",
    "del(heroes[0])  # 히어로 리스트에서 아이언맨 삭제\n",
    "print(heroes)  # 히어로 리스트 재확인"
   ]
  },
  {
   "cell_type": "code",
   "execution_count": 4,
   "metadata": {},
   "outputs": [
    {
     "name": "stdout",
     "output_type": "stream",
     "text": [
      "[아이언맨, 데드풀, 울버린]\n",
      "[고블린, 드래곤, 뱀파이어]\n",
      "[데드풀, 울버린]\n"
     ]
    }
   ],
   "source": [
    "# -*- coding: utf-8 -*-\n",
    "\n",
    "# class 정의\n",
    "class Character(object):\n",
    "    def __init__(self, name, health, damage, inventory):\n",
    "        self.name = name\n",
    "        self.health = health\n",
    "        self.damage = damage\n",
    "        self.inventory = inventory\n",
    "        \n",
    "    def __repr__(self):\n",
    "        return self.name\n",
    "        \n",
    "# Character 클래스의 오브젝트 생성\n",
    "heroes = []\n",
    "heroes.append(Character('아이언맨', 100, 200, {'gold': 500, 'weapon': '레이저'}))\n",
    "heroes.append(Character('데드풀', 300, 30, {'gold': 300, 'weapon': '장검'}))\n",
    "heroes.append(Character('울버린', 200, 50, {'gold': 350, 'weapon': '클로'}))\n",
    "\n",
    "monsters = []\n",
    "monsters.append(Character('고블린', 90, 30, {'gold': 50, 'weapon': '창'}))\n",
    "monsters.append(Character('드래곤', 200, 80, {'gold': 200, 'weapon': '화염'}))\n",
    "monsters.append(Character('뱀파이어', 80, 120, {'gold': 1000, 'weapon': '최면술'}))\n",
    "\n",
    "print(heroes)  # 히어로 리스트 확인\n",
    "print(monsters)  # 몬스터 리스트 확인\n",
    "del(heroes[0])  # 히어로 리스트에서 아이언맨 삭제\n",
    "print(heroes)  # 히어로 리스트 재확인"
   ]
  },
  {
   "cell_type": "markdown",
   "metadata": {},
   "source": [
    "__객체__는 생각하고 다룰 수 있는 구체적인 대상(Object)를 일컫는다. \n",
    "그런데 "
   ]
  },
  {
   "cell_type": "markdown",
   "metadata": {},
   "source": [
    "## 연습문제"
   ]
  },
  {
   "cell_type": "markdown",
   "metadata": {},
   "source": [
    "1."
   ]
  }
 ],
 "metadata": {
  "kernelspec": {
   "display_name": "Python 3",
   "language": "python",
   "name": "python3"
  },
  "language_info": {
   "codemirror_mode": {
    "name": "ipython",
    "version": 3
   },
   "file_extension": ".py",
   "mimetype": "text/x-python",
   "name": "python",
   "nbconvert_exporter": "python",
   "pygments_lexer": "ipython3",
   "version": "3.6.3"
  }
 },
 "nbformat": 4,
 "nbformat_minor": 2
}
