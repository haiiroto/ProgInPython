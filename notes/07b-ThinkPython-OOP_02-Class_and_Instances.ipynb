{
 "cells": [
  {
   "cell_type": "markdown",
   "metadata": {},
   "source": [
    "# 클래스와 인스턴스"
   ]
  },
  {
   "cell_type": "markdown",
   "metadata": {},
   "source": [
    "안내: [schoolofweb.net](http://schoolofweb.net/blog/posts/%ED%8C%8C%EC%9D%B4%EC%8D%AC-oop-part-1-%EA%B0%9D%EC%B2%B4-%EC%A7%80%ED%96%A5-%ED%94%84%EB%A1%9C%EA%B7%B8%EB%9E%98%EB%B0%8Doop%EC%9D%80-%EB%AC%B4%EC%97%87%EC%9D%B8%EA%B0%80-%EC%99%9C-%EC%82%AC%EC%9A%A9%ED%95%98%EB%8A%94%EA%B0%80/)에서 사용한 코드 일부를 수정하여 설명에 활용하였음. \n",
    "코드 사용에 대한 보다 자세한 설명은 해당 사이트를 이용할 것 추천함."
   ]
  },
  {
   "cell_type": "markdown",
   "metadata": {},
   "source": [
    "## OOP 이해 방법"
   ]
  },
  {
   "cell_type": "markdown",
   "metadata": {},
   "source": [
    "OOP를 이론적으로 이해하려는 접근은 매우 어렵다.\n",
    "오히려 일종의 프로그래밍 기법으로 간주하고 해당 기법을 습득하기 위해 다양한 예제를 살펴보는 것이 \n",
    "OOP에 대한 보다 빠르고 정확한 이해를 얻을 수 있다.\n",
    "\n",
    "여기서는 \"클래스를 선언한 후에 인스턴스를 생성하여 프로그램을 구현하는 기법이 \n",
    "그렇지 않은 기법보다 효율적으로 프로그램을 구현하는 데에 도움을 준다\"는 명제를\n",
    "적절하게 보여주는 예제를 이용하여 OOP에 대한 이해를 돕고자 한다."
   ]
  },
  {
   "cell_type": "markdown",
   "metadata": {},
   "source": [
    "## 예제: OOP가 아닌 방식"
   ]
  },
  {
   "cell_type": "markdown",
   "metadata": {},
   "source": [
    "히어로 캐릭터를 묘사하는 프로그램을 구현하고자 한다.\n",
    "\n",
    "#### 주의사항\n",
    "\n",
    "여기서는 `turtle` 모듈을 사용할 때와는 달리 그래픽을 전혀 사용하지 않는다.\n",
    "게임을 구현할 때 그래픽 요소가 매우 중요하지만 여기서는 게임 캐릭터 관련 프로그램의 핵심을\n",
    "OOP 방식으로 구현하는 과정을 소개한다."
   ]
  },
  {
   "cell_type": "markdown",
   "metadata": {},
   "source": [
    "### 게임 캐릭터 하나 구현하기\n",
    "\n",
    "아래 코드는 아이언맨 캐릭터를 묘사하는 코드이며,\n",
    "묘사를 위해 4가지 요소를 고려하였다.\n",
    "\n",
    "* 이름(name)\n",
    "* 체력(health power)\n",
    "* 타격력(damage power)\n",
    "* 장비(inventory)\n",
    "    * 수트 방어력(suit power)\n",
    "    * 사용 무기(weapon)\n",
    "\n",
    "코드를 실행하면 아이언맨 캐릭터가 자신을 소개하도록 만들었다.\n",
    "\n",
    "__주의:__ 컴퓨터 게임을 시작하면서 캐릭터를 선택할 때 선택된 캐릭터가 자기소개를 한다고 상상하면 된다."
   ]
  },
  {
   "cell_type": "code",
   "execution_count": 25,
   "metadata": {},
   "outputs": [
    {
     "name": "stdout",
     "output_type": "stream",
     "text": [
      "제 이름은 아이언맨입니다\n",
      "현재 저의 체력은 100입니다.\n",
      "저는 공격할 때마다 상대방에게 200만큼의 손상을 줍니다.\n",
      "제 수트의 방어력은 500이며 사용하는 무기는 레이저입니다.\n"
     ]
    }
   ],
   "source": [
    "# -*- coding: utf-8 -*-\n",
    "\n",
    "hero_name = '아이언맨'\n",
    "hero_health = 100\n",
    "hero_damage = 200\n",
    "hero_inventory = [\n",
    "    {'suit': 500},\n",
    "    {'weapon': '레이저'}\n",
    "]\n",
    "\n",
    "print(\"제 이름은 %s입니다\" % hero_name)\n",
    "print(\"현재 저의 체력은 %s입니다.\" % hero_health)\n",
    "print(\"저는 공격할 때마다 상대방에게 %s만큼의 손상을 줍니다.\" % hero_damage)\n",
    "print(\"제 수트의 방어력은 %d이며 사용하는 무기는 %s입니다.\" % \\\n",
    "      (hero_inventory[0]['suit'], hero_inventory[1]['weapon']))"
   ]
  },
  {
   "cell_type": "markdown",
   "metadata": {},
   "source": [
    "### 많은 게임 캐릭터 구현하기\n",
    "\n",
    "하나의 게임 캐릭터를 구현한다면 위와 같이 해도 전혀 문제 없다.\n",
    "하지만 어벤져스 영화에서처럼 많은 영웅과 악당들을 구현한다면 어떻게 해야 하나?\n",
    "\n",
    "한 가지 방식은 아래 코드에서처럼 카피-앤-페이스트(copy-and-paste)를 열심히 사용하는 것이다."
   ]
  },
  {
   "cell_type": "code",
   "execution_count": 30,
   "metadata": {},
   "outputs": [
    {
     "name": "stdout",
     "output_type": "stream",
     "text": [
      "제 이름은 아이언맨입니다\n",
      "현재 저의 체력은 100입니다.\n",
      "저는 공격할 때마다 상대방에게 200만큼의 손상을 줍니다.\n",
      "제 수트의 방어력은 500이며 사용하는 무기는 레이저입니다.\n",
      "=====\n",
      "제 이름은 데드풀입니다\n",
      "현재 저의 체력은 300입니다.\n",
      "저는 공격할 때마다 상대방에게 30만큼의 손상을 줍니다.\n",
      "제 수트의 방어력은 300이며 사용하는 무기는 장검입니다.\n",
      "=====\n",
      "제 이름은 울버린입니다\n",
      "현재 저의 체력은 200입니다.\n",
      "저는 공격할 때마다 상대방에게 50만큼의 손상을 줍니다.\n",
      "제 수트의 방어력은 350이며 사용하는 무기는 클로입니다.\n",
      "=====\n",
      "제 이름은 고블린입니다\n",
      "현재 저의 체력은 90입니다.\n",
      "저는 공격할 때마다 상대방에게 30만큼의 손상을 줍니다.\n",
      "제 수트의 방어력은 50이며 사용하는 무기는 창입니다.\n",
      "=====\n",
      "제 이름은 드래곤입니다\n",
      "현재 저의 체력은 200입니다.\n",
      "저는 공격할 때마다 상대방에게 80만큼의 손상을 줍니다.\n",
      "제 수트의 방어력은 200이며 사용하는 무기는 화염입니다.\n",
      "=====\n",
      "제 이름은 뱀파이어입니다\n",
      "현재 저의 체력은 80입니다.\n",
      "저는 공격할 때마다 상대방에게 120만큼의 손상을 줍니다.\n",
      "제 수트의 방어력은 1000이며 사용하는 무기는 최면술입니다.\n"
     ]
    }
   ],
   "source": [
    "# -*- coding: utf-8 -*-\n",
    "\n",
    "# 히어로 1\n",
    "hero_1_name = '아이언맨'\n",
    "hero_1_health = 100\n",
    "hero_1_damage = 200\n",
    "hero_1_inventory = [\n",
    "    {'suit': 500},\n",
    "    {'weapon': '레이저'}\n",
    "]\n",
    "\n",
    "print(\"제 이름은 %s입니다\" % hero_1_name)\n",
    "print(\"현재 저의 체력은 %s입니다.\" % hero_1_health)\n",
    "print(\"저는 공격할 때마다 상대방에게 %s만큼의 손상을 줍니다.\" % hero_1_damage)\n",
    "print(\"제 수트의 방어력은 %d이며 사용하는 무기는 %s입니다.\" % \\\n",
    "      (hero_1_inventory[0]['suit'], hero_1_inventory[1]['weapon']))\n",
    "\n",
    "print(\"=====\")\n",
    "\n",
    "# 히어로 2\n",
    "hero_2_name = '데드풀'\n",
    "hero_2_health = 300\n",
    "hero_2_damage = 30\n",
    "hero_2_inventory = [\n",
    "    {'suit': 300},\n",
    "    {'weapon': '장검'}\n",
    "]\n",
    "\n",
    "print(\"제 이름은 %s입니다\" % hero_2_name)\n",
    "print(\"현재 저의 체력은 %s입니다.\" % hero_2_health)\n",
    "print(\"저는 공격할 때마다 상대방에게 %s만큼의 손상을 줍니다.\" % hero_2_damage)\n",
    "print(\"제 수트의 방어력은 %d이며 사용하는 무기는 %s입니다.\" % \\\n",
    "      (hero_2_inventory[0]['suit'], hero_2_inventory[1]['weapon']))\n",
    "\n",
    "print(\"=====\")\n",
    "\n",
    "# 히어로 3\n",
    "hero_3_name = '울버린'\n",
    "hero_3_health = 200\n",
    "hero_3_damage = 50\n",
    "hero_3_inventory = [\n",
    "    {'suit': 350},\n",
    "    {'weapon': '클로'}\n",
    "]\n",
    "\n",
    "print(\"제 이름은 %s입니다\" % hero_3_name)\n",
    "print(\"현재 저의 체력은 %s입니다.\" % hero_3_health)\n",
    "print(\"저는 공격할 때마다 상대방에게 %s만큼의 손상을 줍니다.\" % hero_3_damage)\n",
    "print(\"제 수트의 방어력은 %d이며 사용하는 무기는 %s입니다.\" % \\\n",
    "      (hero_3_inventory[0]['suit'], hero_3_inventory[1]['weapon']))\n",
    "\n",
    "print(\"=====\")\n",
    "\n",
    "# 몬스터 1\n",
    "monster_1_name = '고블린'\n",
    "monster_1_health = 90\n",
    "monster_1_damage = 30\n",
    "monster_1_inventory = [\n",
    "    {'suit': 50},\n",
    "    {'weapon': '창'}\n",
    "]\n",
    "\n",
    "print(\"제 이름은 %s입니다\" % monster_1_name)\n",
    "print(\"현재 저의 체력은 %s입니다.\" % monster_1_health)\n",
    "print(\"저는 공격할 때마다 상대방에게 %s만큼의 손상을 줍니다.\" % monster_1_damage)\n",
    "print(\"제 수트의 방어력은 %d이며 사용하는 무기는 %s입니다.\" % \\\n",
    "      (monster_1_inventory[0]['suit'], monster_1_inventory[1]['weapon']))\n",
    "\n",
    "print(\"=====\")\n",
    "\n",
    "# 몬스터 2\n",
    "monster_2_name = '드래곤'\n",
    "monster_2_health = 200\n",
    "monster_2_damage = 80\n",
    "monster_2_inventory = [\n",
    "    {'suit': 200},\n",
    "    {'weapon': '화염'}\n",
    "]\n",
    "\n",
    "print(\"제 이름은 %s입니다\" % monster_2_name)\n",
    "print(\"현재 저의 체력은 %s입니다.\" % monster_2_health)\n",
    "print(\"저는 공격할 때마다 상대방에게 %s만큼의 손상을 줍니다.\" % monster_2_damage)\n",
    "print(\"제 수트의 방어력은 %d이며 사용하는 무기는 %s입니다.\" % \\\n",
    "      (monster_2_inventory[0]['suit'], monster_2_inventory[1]['weapon']))\n",
    "\n",
    "print(\"=====\")\n",
    "\n",
    "# 몬스터 3\n",
    "monster_3_name = '뱀파이어'\n",
    "monster_3_health = 80\n",
    "monster_3_damage = 120\n",
    "monster_3_inventory = [\n",
    "    {'suit': 1000},\n",
    "    {'weapon': '최면술'}\n",
    "]\n",
    "\n",
    "print(\"제 이름은 %s입니다\" % monster_3_name)\n",
    "print(\"현재 저의 체력은 %s입니다.\" % monster_3_health)\n",
    "print(\"저는 공격할 때마다 상대방에게 %s만큼의 손상을 줍니다.\" % monster_3_damage)\n",
    "print(\"제 수트의 방어력은 %d이며 사용하는 무기는 %s입니다.\" % \\\n",
    "      (monster_3_inventory[0]['suit'], monster_3_inventory[1]['weapon']))"
   ]
  },
  {
   "cell_type": "markdown",
   "metadata": {},
   "source": [
    "### 위 코드의 문제점\n",
    "\n"
   ]
  },
  {
   "cell_type": "markdown",
   "metadata": {},
   "source": [
    "## OOP 방식으로 게임 캐릭터 구현하기"
   ]
  },
  {
   "cell_type": "markdown",
   "metadata": {},
   "source": [
    "## 객체와 추상화"
   ]
  },
  {
   "cell_type": "code",
   "execution_count": 4,
   "metadata": {},
   "outputs": [
    {
     "name": "stdout",
     "output_type": "stream",
     "text": [
      "[아이언맨, 데드풀, 울버린]\n",
      "[고블린, 드래곤, 뱀파이어]\n",
      "[데드풀, 울버린]\n"
     ]
    }
   ],
   "source": [
    "# -*- coding: utf-8 -*-\n",
    "\n",
    "# class 정의\n",
    "class Character(object):\n",
    "    def __init__(self, name, health, damage, inventory):\n",
    "        self.name = name\n",
    "        self.health = health\n",
    "        self.damage = damage\n",
    "        self.inventory = inventory\n",
    "        \n",
    "    def __repr__(self):\n",
    "        return self.name\n",
    "        \n",
    "# Character 클래스의 오브젝트 생성\n",
    "heroes = []\n",
    "heroes.append(Character('아이언맨', 100, 200, {'gold': 500, 'weapon': '레이저'}))\n",
    "heroes.append(Character('데드풀', 300, 30, {'gold': 300, 'weapon': '장검'}))\n",
    "heroes.append(Character('울버린', 200, 50, {'gold': 350, 'weapon': '클로'}))\n",
    "\n",
    "monsters = []\n",
    "monsters.append(Character('고블린', 90, 30, {'gold': 50, 'weapon': '창'}))\n",
    "monsters.append(Character('드래곤', 200, 80, {'gold': 200, 'weapon': '화염'}))\n",
    "monsters.append(Character('뱀파이어', 80, 120, {'gold': 1000, 'weapon': '최면술'}))\n",
    "\n",
    "print(heroes)  # 히어로 리스트 확인\n",
    "print(monsters)  # 몬스터 리스트 확인\n",
    "del(heroes[0])  # 히어로 리스트에서 아이언맨 삭제\n",
    "print(heroes)  # 히어로 리스트 재확인"
   ]
  },
  {
   "cell_type": "markdown",
   "metadata": {},
   "source": [
    "__객체__는 생각하고 다룰 수 있는 구체적인 대상(Object)를 일컫는다. \n",
    "그런데 "
   ]
  },
  {
   "cell_type": "markdown",
   "metadata": {},
   "source": [
    "## 연습문제"
   ]
  },
  {
   "cell_type": "markdown",
   "metadata": {},
   "source": [
    "1."
   ]
  }
 ],
 "metadata": {
  "kernelspec": {
   "display_name": "Python 3",
   "language": "python",
   "name": "python3"
  },
  "language_info": {
   "codemirror_mode": {
    "name": "ipython",
    "version": 3
   },
   "file_extension": ".py",
   "mimetype": "text/x-python",
   "name": "python",
   "nbconvert_exporter": "python",
   "pygments_lexer": "ipython3",
   "version": "3.6.3"
  }
 },
 "nbformat": 4,
 "nbformat_minor": 2
}
