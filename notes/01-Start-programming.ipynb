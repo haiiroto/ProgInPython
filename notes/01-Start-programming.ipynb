{
 "cells": [
  {
   "cell_type": "markdown",
   "metadata": {},
   "source": [
    "# 1. 처음으로 하는 코딩"
   ]
  },
  {
   "cell_type": "markdown",
   "metadata": {},
   "source": [
    "프로그래밍을 스스로 할줄 알면, 우선\n",
    "컴퓨터를 단순히 사용하는 것을 넘어 제어하는 방법을 배우게 된다. \n",
    "또한\n",
    "프로그래밍을 할 수록 더 창의적이 되며, 더 정확하게 생각하게 되고, 문제를 논리적으로 분석하고 해결하는 능력도 배양하게 된다. \n",
    "\n",
    "그런데 프로그래밍을 하려면 어떻게 해야 하는가? \n",
    "카카오톡, 트위터, 페이스북과 같은 소프트웨어를 구현하려면 무엇을 어떻게 배워야 하는가? \n",
    "\n",
    "물론 처음부터 그러한 위대한 소프트웨어를 프로그래밍할 수는 없다. \n",
    "하지만 그러한 소프트웨어를 구현하기 위해서는 프로그래밍을 제대로 할 수 있어야 한다는 사실은 너무나도 자명하다. \n",
    "결국, 프로그래밍을 먼저 배워야 한다. \n",
    "쉽고 간단한 것부터 시작해보자.\n",
    "\n",
    "먼저, 아래 파이썬 코드를 읽어 보면서 아래 코드의 의미, 즉\n",
    "아래 코드를 실행하면 어떤 일을 하는지 알아본다.\n",
    "찬찬히 읽으면 파이썬 언어를 전혀 모른다 해도 코드가 하는 일을 이해할 수 있다."
   ]
  },
  {
   "cell_type": "markdown",
   "metadata": {},
   "source": [
    "## 프로그램1: if-else 문 코드 이해하기"
   ]
  },
  {
   "cell_type": "code",
   "execution_count": 1,
   "metadata": {},
   "outputs": [
    {
     "name": "stdout",
     "output_type": "stream",
     "text": [
      "Welcome\n",
      "Guess the number: 6\n",
      "You lose!\n",
      "Game over!\n"
     ]
    }
   ],
   "source": [
    "print(\"Welcome\")\n",
    "g = input(\"Guess the number: \")\n",
    "guess = int(g)\n",
    "if guess == 5:\n",
    "    print(\"You win!\")\n",
    "else:\n",
    "    print(\"You lose!\")\n",
    "print(\"Game over!\")"
   ]
  },
  {
   "cell_type": "markdown",
   "metadata": {},
   "source": [
    "위 코드는 숫자 5를 맞추는 게임이다.\n",
    "참여자가 임의의 숫자를 입력하여 숫자 5를 맞추면 \"You win\"을,\n",
    "아니면 \"You lose!\"를 출력한다. \n",
    "\n",
    "위 코드에서 `if`, `else`는 파이썬 키워드, \n",
    "`g`, `guess`는 변수,\n",
    "`print`, `input`, `int`는 함수이다.\n",
    "이중에 아마도 `int`의 의미만 불확실할 것이며 다른 것들은 의미가 명확하다. (`int` 함수의 의미는 나중에 배운다.)"
   ]
  },
  {
   "cell_type": "markdown",
   "metadata": {},
   "source": [
    "## 파이썬 프로그램 실행하기\n",
    "\n",
    "위 코드가 어떻게 실행되는 것일까? 1학년 때 배운 C 언어의 경우 코드 상단에 헤더, 그 다음에는 main 함수 등이 있어야 한다.\n",
    "또한 먼저 소스코드를 컴파일하여 목적코드로 변환한 다음에야 실행할 수 있다.\n",
    "그런데 위 파이썬 코드는 헤더와 메인함수 모두 없고 또 컴파일 과정 없이 바로 실행되었다.\n",
    "즉, 파이썬은 소스코드를 컴파일 없이 바로 실행시킬 수 있다.\n",
    "물론 파이썬 언어를 컴퓨터 CPU가 바로 이해하지는 못한다.\n",
    "따라서 파이썬 소스코드를 컴퓨터가 이해할 수 있는 언어로 해석을 해주어야 하는 데 이 기능을 수행하는 것을 해석기(인터프리터)라고 한다.\n",
    "즉, 파이썬 언어는 컴파일러 대신에 해석기를 이용하여 코드의 의미를 CPU에 전달하며, CPU는 전달된 내용을 바로 실행한다.\n",
    "C 언어 또는 Java와 달리 소스코드를 한줄한줄 실행시킬 수도 있다. \n",
    "예를 들어 위 코드의 처음 몇 줄을 따로따로 실행하면 다음과 같다."
   ]
  },
  {
   "cell_type": "code",
   "execution_count": null,
   "metadata": {},
   "outputs": [],
   "source": [
    "print(\"Welcome\")"
   ]
  },
  {
   "cell_type": "code",
   "execution_count": null,
   "metadata": {},
   "outputs": [],
   "source": [
    "g = input(\"Guess the number: \")"
   ]
  },
  {
   "cell_type": "code",
   "execution_count": null,
   "metadata": {
    "collapsed": true
   },
   "outputs": [],
   "source": [
    "guess = int(g)"
   ]
  },
  {
   "cell_type": "markdown",
   "metadata": {},
   "source": [
    "`input` 함수는 키보드를 이용하여 입력받은 임의의 키보드 조합을 문자열로 리턴하는 함수이다.\n",
    "위 코드에서 변수 `g`에는 `input` 함수에 의해 리턴되는 값이 할당된다.\n",
    "\n",
    "##### 주의사항\n",
    "\n",
    "* `input`은 입력된 값을 모두 문자열로 처리해서 리턴한다.\n",
    "* 따라서 숫자 8을 입력하다라도 숫자가 아닌 문자열 `\"8\"`이 변수 `g`에 할당된다.\n",
    "    이것은 `g`의 자료형을 `type` 함수를 이용하여 확인할 수 있다."
   ]
  },
  {
   "cell_type": "code",
   "execution_count": null,
   "metadata": {},
   "outputs": [],
   "source": [
    "type(g)"
   ]
  },
  {
   "cell_type": "markdown",
   "metadata": {},
   "source": [
    "실제로 `g`에 할당된 값을 확인해도 문자열 `8`이 보여진다."
   ]
  },
  {
   "cell_type": "code",
   "execution_count": null,
   "metadata": {},
   "outputs": [],
   "source": [
    "g"
   ]
  },
  {
   "cell_type": "markdown",
   "metadata": {},
   "source": [
    "그런데 문자열 `'8'`과 숫자 5는 비교할 수 없는 대상이다. \n",
    "실제로 동일여부를 확인하면 틀리다라도 답이 나온다."
   ]
  },
  {
   "cell_type": "code",
   "execution_count": null,
   "metadata": {},
   "outputs": [],
   "source": [
    "'8' == 5"
   ]
  },
  {
   "cell_type": "markdown",
   "metadata": {},
   "source": [
    "##### 주의사항\n",
    "\n",
    "* `'8'`과 5가 숫자가 다르다고 해서 `False`가 나온 것이 아니라 두 값의 자료형이 다르기 때문이다.\n",
    "* `'8'`과 8을 비교해도 다르다고 나온다."
   ]
  },
  {
   "cell_type": "code",
   "execution_count": null,
   "metadata": {},
   "outputs": [],
   "source": [
    "'8' == 8"
   ]
  },
  {
   "cell_type": "markdown",
   "metadata": {},
   "source": [
    "문자열과 정수는 문법적으로 서로 다른 자료형이고\n",
    "서로 다른 자료형에 속하는 값들은 무조건 다르다고 판단된다.\n",
    "\n",
    "따라서, `input`을 이용하여 입력된 값을 정수 `5`와 비교하려면 먼저 두 값의 자료형을 통일시켜야 한다.\n",
    "여기서는 `int` 함수를 이용하여 숫자로만 이루어진 문자열을 정수 자료형으로 변환하는 것을 선택하였다.\n",
    "\n",
    "여기까지 실행하고 `guess` 변수에 할당된 값을 확인하면 앞서 입력한 값을 확인할 수 있다."
   ]
  },
  {
   "cell_type": "code",
   "execution_count": null,
   "metadata": {},
   "outputs": [],
   "source": [
    "guess"
   ]
  },
  {
   "cell_type": "markdown",
   "metadata": {},
   "source": [
    "`guess`에 저장된 값의 자료형을 확인하면 정수형임을 알 수 있다."
   ]
  },
  {
   "cell_type": "code",
   "execution_count": null,
   "metadata": {},
   "outputs": [],
   "source": [
    "type(guess)"
   ]
  },
  {
   "cell_type": "markdown",
   "metadata": {},
   "source": [
    "### 인터프리터 vs 컴파일러\n",
    "\n",
    "이와같이 코드를 한줄한줄 실행할 수 있는 언어를 __스크립트언어__라 부르며,\n",
    "파이썬 코드를 해석하여 실행할 수 있도록 하는 것을 __인터프리터__라고 한다.\n",
    "인터프리터가 작동하는 방식은 아래 그림과 같다."
   ]
  },
  {
   "cell_type": "code",
   "execution_count": null,
   "metadata": {},
   "outputs": [],
   "source": [
    "from IPython.display import Image\n",
    "\n",
    "Image(filename='images/interpreter.jpg', width=500)"
   ]
  },
  {
   "cell_type": "markdown",
   "metadata": {},
   "source": [
    "반면에 C 언어와 Java 언어의 경우는 __컴파일러 언어__라 불린다.\n",
    "컴파이러는 소스코드를 일괄적으로 대상코드(object code)로 변환시킨다.\n",
    "변화 과정에서 소스코드 전체를 기계가 이해할 수 있는 저수준 언어로 번역하면서 링크과정 등 기타 다른 일들을 수행한다. \n",
    "파이썬의 경우와는 달리 소스코드가 아닌 대상코드를 실행하게 된다. \n",
    "컴파일 과정은 그림으로 나타내면 아래와 같다."
   ]
  },
  {
   "cell_type": "code",
   "execution_count": null,
   "metadata": {},
   "outputs": [],
   "source": [
    "from IPython.display import Image\n",
    "\n",
    "Image(filename='images/compiler.png', width=550)"
   ]
  },
  {
   "cell_type": "markdown",
   "metadata": {},
   "source": [
    "## 파이썬 언어 통합개발환경\n",
    "\n",
    "파이썬 인터프리터는 C 언어 또는 Java 언어의 컴파일어처럼 컴퓨터 내부에서 작동한다.\n",
    "그러한 인터프리터와 소스코드를 연결해주는 역할은 다양한 에디터를 이용해야 한다. \n",
    "파이썬을 설치하면 IDLE라는 에디터가 파이썬 통합개발환경을 제공한다. \n",
    "하지만 우리가 사용하는 Anaconda는 spyder-app이라는 좀 더 효율적인 에디터를 제공한다.\n",
    "spider-app을 실행시키기 위해서는 Launcher를 실행하면 된다.\n",
    "보다 전문적인 개발을 위해서 vim, emacs, eclipse 등의 에디터를 사용하기도 한다. \n",
    "\n",
    "현재 일종의 전자칠판으로 사용하는 소프트웨어는 ipython-notebook이라 불리며 \n",
    "일반 텍스트와 파이썬 코드를 함께 처리할 수 있도록 도와주는 강의 전용 에디터이다.\n",
    "\n",
    "### 연습하기\n",
    "IDLE와 spider-app을 이용하여 위 코드를 실행하는 연습을 해본다. "
   ]
  },
  {
   "cell_type": "markdown",
   "metadata": {},
   "source": [
    "## 프로그램2: 프로그램 수준 높이기 1\n",
    "\n",
    "앞서 '프로그램1'에서 사용한 코드는 사용자에게 불공평한 게임을 제공한다. \n",
    "맞춰야 하는 숫자에 대한 아무런 정보를 주지 않기 때문이다.\n",
    "공평성을 높이기 위해 사용자가 입력한 값이 맞추어야 하는 숫자와 비교해서 큰지, 작은지, 같은지 여부를 알려줄 수 있도록 프로그램을 개선해보자.\n",
    "즉, 아래 그림에서처럼 5를 맞추어야 하는데 예를 들어 3을 입력하면 \"너무 작다\"(\"Too low\")를, \n",
    "7을 입력하면 \"너무 크다\"(\"Too high\")를 출력하도록 해보자."
   ]
  },
  {
   "cell_type": "code",
   "execution_count": null,
   "metadata": {},
   "outputs": [],
   "source": [
    "from IPython.display import Image\n",
    "\n",
    "Image(filename='images/if-else.jpg', width=700)"
   ]
  },
  {
   "cell_type": "markdown",
   "metadata": {},
   "source": [
    "개선한 코드는 다음과 같다."
   ]
  },
  {
   "cell_type": "code",
   "execution_count": null,
   "metadata": {},
   "outputs": [],
   "source": [
    "print(\"Welcome\")\n",
    "g = input(\"Guess the number: \")\n",
    "guess = int(g)\n",
    "if guess == 5:\n",
    "    print(\"You win!\")\n",
    "else:\n",
    "    if guess > 5:\n",
    "        print(\"Too high\")\n",
    "    else:\n",
    "        print(\"Too low\")\n",
    "print(\"Game over!\")"
   ]
  },
  {
   "cell_type": "markdown",
   "metadata": {},
   "source": [
    "##### 주의사항: 들여쓰기\n",
    "\n",
    "* 파이썬에서는 들여쓰기가 선택사항이 아니다.\n",
    "* 위 코드에서 5번 줄은 `if`문의 본체이므로 반드시 한 번 들여쓰기를 해야 한다.\n",
    "* 7번, 9번 줄도 `else`문의 본체이므로 동일하게 들여쓰기를 해야 한다.\n",
    "* 반면에 8번 줄의 경우 중첩된 `if` 문의 본체이므로 들여쓰기를 두 번 해야한다.\n",
    "* 10번 줄도 동일한 규칙이 적용된다.\n",
    "* `if`, `else`, `while`, `for` 문은 기본적으로 콜론(`:`)을 문장 끝에 사용해야 하고 본체는 들여 써야 한다.\n",
    "* 들여쓰기는 기본적으로 탭키를 이용한다."
   ]
  },
  {
   "cell_type": "markdown",
   "metadata": {},
   "source": [
    "## 프로그램3: 프로그램 수준 높이기 2\n",
    "\n",
    "바로 위에서 수정한 코드는 원래 코드보다 공평성을 좀 더 보장한다.\n",
    "그런데 추측한 값이 틀려도 게임이 바로 멈춘다.\n",
    "새로운 추측을 하려면 게임을 다시 실행시켜야 해서 불편하다.\n",
    "답을 맞출 때까지 게임이 반복되도록 코드를 수정해보자.\n",
    "즉, 아래 그림처럼 작동해야 한다. \n",
    "\n",
    "##### 힌트: \n",
    "`while` 문을 이용하면 된다."
   ]
  },
  {
   "cell_type": "code",
   "execution_count": null,
   "metadata": {},
   "outputs": [],
   "source": [
    "from IPython.display import Image\n",
    "\n",
    "Image(filename='images/while.jpg', width=600)"
   ]
  },
  {
   "cell_type": "markdown",
   "metadata": {},
   "source": [
    "`while`문은 특정 조건이 성립하는 조건에서 특정 코드를 반복해서 실행하기 위해서 사용된다.\n",
    "따라서 아래와 같은 모양을 갖는다.\n",
    "\n",
    "    while 조건문:\n",
    "        본체\n",
    "        \n",
    "여기서 조건문은 참(`True`)과 거짓(`False`)으로 판별될 수 있는 문장을 말하며, 본체에는 임의의 파이썬 코드가 올 수 있다.\n",
    "또한 본체는 들여쓰기를 한다는 것에 주의해야 한다.\n",
    "\n",
    "이제 우리가 원하는 대로 `while` 문을 작성하기 위해서는 조건문과 본체에 들어갈 코드를 선택해야 한다. \n",
    "\n",
    "* 본체 선택 기준: 무슨 일을 반복할 것인지 판단해야 함.\n",
    "* 조건문 선택 기준: 동일한 일을 어떤 조건하에서 반복할지 판단해야 함.\n",
    "\n",
    "##### 예제: 숫자 맞추기 게임의 경우\n",
    "\n",
    "* 본체: 숫자를 선택하고 선택된 숫자를 정수 5와 비교하여 이겼다, 너무 크다, 너무 작다를 판단하는 일.\n",
    "* 조건문: 선택된 숫자가 정수 5와 다르다는 조건. 그래야만 새로운 숫자를 선택할 수 있기 때문.\n",
    "\n",
    "따라서 아래와 같이 `while`문을 이용하여 코드를 작성할 수 있다."
   ]
  },
  {
   "cell_type": "code",
   "execution_count": null,
   "metadata": {},
   "outputs": [],
   "source": [
    "print(\"Welcome\")\n",
    "guess = 0\n",
    "while guess != 5:\n",
    "    g = input(\"Guess the number: \")\n",
    "    guess = int(g)\n",
    "    if guess == 5:\n",
    "        print(\"You win!\")\n",
    "    else:\n",
    "        if guess > 5:\n",
    "            print(\"Too high\")\n",
    "        else:\n",
    "            print(\"Too low\")\n",
    "print(\"Game over!\")"
   ]
  },
  {
   "cell_type": "markdown",
   "metadata": {},
   "source": [
    "##### 주의사항\n",
    "\n",
    "* 위 코드에서 2번 줄에서 `guess` 변수를 초기화 하는 과정이 필요함에 주의한다.\n",
    "    `while` 조건문에서 `guess` 변수의 값을 확인하려면 `guess` 변수가 이미 선언되어 있어야 한다."
   ]
  },
  {
   "cell_type": "markdown",
   "metadata": {},
   "source": [
    "## 프로그램4: 프로그램 수준 높이기 3\n",
    "\n",
    "'프로그램3'에서 개선한 코드는 상당히 훌륭하다. \n",
    "사용자가 숨은 값을 맞출 수 있도록 유도하며, 숫자 5을 맞추어야만 종료된다.\n",
    "\n",
    "그런데 위 게임은 한 번 하면 더 이상 사용하지 않는다. \n",
    "맞추어야 하는 숫자가 항상 5이기 때문이다.\n",
    "따라서 위 게임을 좀 더 흥미롭게 만들기 위해서 맞추어야 하는 숫자를 게임이 실행될 때마다 임의로 변하도록 바꿀 필요가 있다.\n",
    "파이썬에서 정수 숫자를 임의로 만들어주는 `randint` 라는 함수를 이용할 수 있다.\n",
    "\n",
    "나머지 과정은 앞서의 코드와 동일하다. 다만, 정수 `5` 대신에 `randint`가 임의로 생성하는 값을 기억해 두고 \n",
    "그것을 맞추는 게임이 되도록 코드 일부만 수정하면 된다.\n",
    "아래 코드에서는 숫자 `5` 대신에 `secret` 이란 변수가 임의로 생성되어 맞추어야 하는 숫자를 담는 그릇 역할을 수행한다.\n",
    "\n",
    "##### 주의사항\n",
    "* `randint` 함수는 `random` 이라는 모듈에 정의되어 있다.\n",
    "    두 개의 정수 인자를 받으면 두 정수를 양끝으로 갖는 구간에서 임의의 값을 정하여 리턴한다.\n",
    "    예를 들어, 1부터 10사이의 정수 중에서 임의의 값을 선택하려면 `randint(1, 10)`이라 작성하면 된다.\n",
    "* `randint` 함수를 사용하기 위해서 `random` 모듈을 사용하겠다는 명령을 내려야 한다.\n",
    "* 전문용어로 `random` 모듈을 임포트한다 또는 _불러 들인다_ 라고 하며 아래와 같이 `import` 키워드를 이용한다.\n",
    "* 특정 모듈을 임포트하는 방법엔 여러 방식이 있다. 여기서는 특정 모듈에서 특정 함수만을 임포트하는 방법을 배운다.\n",
    "\n",
    "        from random import randint"
   ]
  },
  {
   "cell_type": "code",
   "execution_count": 5,
   "metadata": {
    "collapsed": true
   },
   "outputs": [],
   "source": [
    "from random import randint"
   ]
  },
  {
   "cell_type": "code",
   "execution_count": 27,
   "metadata": {},
   "outputs": [
    {
     "data": {
      "text/plain": [
       "1"
      ]
     },
     "execution_count": 27,
     "metadata": {},
     "output_type": "execute_result"
    }
   ],
   "source": [
    "secret = randint(1, 10)\n",
    "secret            "
   ]
  },
  {
   "cell_type": "code",
   "execution_count": null,
   "metadata": {},
   "outputs": [],
   "source": [
    "from random import randint\n",
    "secret = randint(1, 10)\n",
    "\n",
    "print(\"Welcome\")\n",
    "guess = 0\n",
    "while guess != secret:\n",
    "    g = input(\"Guess the number: \")\n",
    "    guess = int(g)\n",
    "    if guess == secret:\n",
    "        print(\"You win!\")\n",
    "    else:\n",
    "        if guess > secret:\n",
    "            print(\"Too high\")\n",
    "        else:\n",
    "            print(\"Too low\")\n",
    "print(\"Game over!\")"
   ]
  },
  {
   "cell_type": "markdown",
   "metadata": {},
   "source": [
    "## 지금까지 사용한 파이썬 도구\n",
    "\n",
    "* `if`/`else` 문\n",
    "* `while` 문\n",
    "* 할당 연산자: `=`\n",
    "* 동치비교 연산자: `==`\n",
    "* 비동치비교 연산자: `!=`\n",
    "* 크기비교 연산자: `>`\n",
    "* `print()` 함수: 문자열을 터미널에 출력\n",
    "* `input()` 함수: 사용자의 입력값을 받아 문자열로 처리해서 리턴함 \n",
    "* `int()` 함수: 순수하게 숫자로만 이루어진 문자열을 정수형 자료형으로 변화하여 리턴함.\n",
    "* `randint()` 함수: 정해진 구간 내에서 난수를 생성하여 리턴함"
   ]
  },
  {
   "cell_type": "markdown",
   "metadata": {},
   "source": [
    "## 지금까지 사용한 일반적인 프로그래밍 도구\n",
    "\n",
    "* 명령은 주어진 일을 수행한다.\n",
    "\n",
    "* 분기문은 무엇을 할지 결정한다.\n",
    "\n",
    "* 루프는 일을 반복해서 한다.\n",
    "\n",
    "* 조건문은 어떤 것이 사실인지, 거짓인지를 결정한다.\n",
    "\n",
    "* 할당문은 변수에 값을 할당한다.\n",
    "\n",
    "* 변수에 할당되는 대상을 '값(value)'이라 부른다."
   ]
  },
  {
   "cell_type": "markdown",
   "metadata": {},
   "source": [
    "## 연습문제\n",
    "\n",
    "아래 유머의 핵심을 담은 코드를 작성해보자.\n",
    "\n",
    "=====\n",
    "\n",
    "    아내가 프로그래머 남편에게 심부름을 시키며 말했다. \n",
    "    “우유 하나 사와. 아, 계란 있으면 여섯 개 사와.”\n",
    "    남편은 잠시 후, 우유를 여섯 개 사왔다. \n",
    "    아내가 물었다. “왜 우유를 여섯 개나 사왔어!”\n",
    "    남편이 말했다. “계란이 있길래 여섯 개 사왔지.”"
   ]
  }
 ],
 "metadata": {
  "kernelspec": {
   "display_name": "Python 3",
   "language": "python",
   "name": "python3"
  },
  "language_info": {
   "codemirror_mode": {
    "name": "ipython",
    "version": 3
   },
   "file_extension": ".py",
   "mimetype": "text/x-python",
   "name": "python",
   "nbconvert_exporter": "python",
   "pygments_lexer": "ipython3",
   "version": "3.6.4"
  }
 },
 "nbformat": 4,
 "nbformat_minor": 1
}
