{
 "cells": [
  {
   "cell_type": "markdown",
   "metadata": {},
   "source": [
    "# 인스턴스 변수와 인스턴스 메소드"
   ]
  },
  {
   "cell_type": "markdown",
   "metadata": {},
   "source": [
    "클래스에는 속성과 메소드가 선언되어 있는데, \n",
    "이는 클래스별로 구분되는 네임스페이스(이름공간)를 이용하여 두 가지 목적을 달성하고자 함이다.\n",
    "\n",
    "1. 효율적으로 데이터(값과 함수) 관리하기\n",
    "1. 동일 코드의 반복된 사용을 줄이기\n",
    "\n",
    "클래스에서 선언되는 변수와 메소드는 크게 두 종류로 나뉘어진다.\n",
    "\n",
    "* 인스턴스 변수와 인스턴스 메소드: 생성된 인스턴스 고유의 값을 갖는 변수와 메소드\n",
    "    * 인스턴스 소속이라고 말함.\n",
    "* 클래스 변수와 클래스 메소드: 생성되는 인스턴스와 기본적으로 독립적인, 즉 아무 상관이 없는 변수와 메소드\n",
    "    * 클래스 소속이라고 말함\n",
    "    \n",
    "여기서는 인스턴스 변수와 메소드에 대해서 알아보며, 클래스 변수와 메소드에 대해서는 추후에 알아볼 예정이다.\n",
    "\n",
    "참고: 지금 당장 클래스 변수와 메소드에 알아보고자 한다면 아래 사이트를 추천한다.\n",
    "\n",
    "* [schoolofweb OOP Part 3 클래스 변수](http://schoolofweb.net/blog/posts/%ED%8C%8C%EC%9D%B4%EC%8D%AC-oop-part-3-%ED%81%B4%EB%9E%98%EC%8A%A4-%EB%B3%80%EC%88%98class-variable/)\n",
    "\n",
    "* [schoolofweb OOP Part 4 클래스 메소드와 정적 메소드](http://schoolofweb.net/blog/posts/%ED%8C%8C%EC%9D%B4%EC%8D%AC-oop-part-4-%ED%81%B4%EB%9E%98%EC%8A%A4-%EB%A9%94%EC%86%8C%EB%93%9C%EC%99%80-%EC%8A%A4%ED%83%9C%ED%8B%B1-%EB%A9%94%EC%86%8C%EB%93%9C-class-method-and-static-method/)"
   ]
  },
  {
   "cell_type": "markdown",
   "metadata": {},
   "source": [
    "## 인스턴스 변수"
   ]
  },
  {
   "cell_type": "markdown",
   "metadata": {},
   "source": [
    "앞서 다룬 캐릭터 클래스를 다시 살펴보자."
   ]
  },
  {
   "cell_type": "code",
   "execution_count": 1,
   "metadata": {},
   "outputs": [],
   "source": [
    "class Character(object):\n",
    "    \n",
    "    def __init__(self, name, health, damage, inventory):\n",
    "        print(\"제 이름은 %s입니다\" % name)\n",
    "        print(\"현재 저의 체력은 %s입니다.\" % health)\n",
    "        print(\"저는 공격할 때마다 상대방에게 %s만큼의 손상을 줍니다.\" % damage)\n",
    "        print(\"제 수트의 방어력은 %d이며 사용하는 무기는 %s입니다.\" % \\\n",
    "              (inventory['suit'], inventory['weapon']))"
   ]
  },
  {
   "cell_type": "markdown",
   "metadata": {},
   "source": [
    "`Character` 클래스의 생성자 메소드는 4개의 매개변수를 통해 전달되는 인자들을 이용하여\n",
    "고유의 인스턴스를 생성한다. \n",
    "\n",
    "예를 들어, 아래 코드는 아이언맨 캐릭터의 속성을 사용하여 인스턴스를 생성하며\n",
    "\n",
    "> Character('아이언맨', 100, 200, {'suit': 500, 'weapon': '레이저'})\n",
    "\n",
    "아래 코드는 데드풀 캐릭터의 속성을 사용하여 인스턴서를 생성한다.\n",
    "\n",
    "> Character('데드풀', 300, 30, {'suit': 300, 'weapon': '장검'})\n",
    "\n",
    "이렇듯, 인스턴스를 생성할 때 각각의 인스턴스를 특징짓는 값들이 사용된다.\n",
    "\n",
    "이제 아래 코드를 살펴보자. \n",
    "* 아래 코드는 위 코드와 완전히 동일한 기능을 갖는다.\n",
    "* 다만, `self.name`, `self.health`, `self.dama`, `self.inventory` 라는 변수들이\n",
    "    선언되어 `print` 명령문에 사용되었을 뿐이다."
   ]
  },
  {
   "cell_type": "code",
   "execution_count": 2,
   "metadata": {},
   "outputs": [],
   "source": [
    "class Character(object):\n",
    "    \n",
    "    def __init__(self, name, health, damage, inventory):\n",
    "        self.name = name\n",
    "        self.health = health\n",
    "        self.damage = damage\n",
    "        self.inventory = inventory\n",
    "        \n",
    "        print(\"제 이름은 %s입니다\" % self.name)\n",
    "        print(\"현재 저의 체력은 %s입니다.\" % self.health)\n",
    "        print(\"저는 공격할 때마다 상대방에게 %s만큼의 손상을 줍니다.\" % self.damage)\n",
    "        print(\"제 수트의 방어력은 %d이며 사용하는 무기는 %s입니다.\" % \\\n",
    "              (self.inventory['suit'], self.inventory['weapon']))"
   ]
  },
  {
   "cell_type": "markdown",
   "metadata": {},
   "source": [
    "위 코드를 이용하여 아이언맨 캐릭터 인스턴스를 생성하면 이전과 동일하게 작동한다."
   ]
  },
  {
   "cell_type": "code",
   "execution_count": 3,
   "metadata": {},
   "outputs": [
    {
     "name": "stdout",
     "output_type": "stream",
     "text": [
      "제 이름은 아이언맨입니다\n",
      "현재 저의 체력은 100입니다.\n",
      "저는 공격할 때마다 상대방에게 200만큼의 손상을 줍니다.\n",
      "제 수트의 방어력은 500이며 사용하는 무기는 레이저입니다.\n"
     ]
    }
   ],
   "source": [
    "ironman = Character('아이언맨', 100, 200, {'suit': 500, 'weapon': '레이저'})"
   ]
  },
  {
   "cell_type": "markdown",
   "metadata": {},
   "source": [
    "앞서 설명한 대로 이전 코드와의 차이점은 `self`가 붙어 있는 변수들을 사용한다는 것이다.\n",
    "이렇듯 `self`가 붙어 있으며 생성자 본문에서 선언되는 변수를 __인스턴스 변수__라 부른다.\n",
    "\n",
    "인스턴스 변수의 역할을 다음과 같다.\n",
    "\n",
    "* 생성되는 인스턴스의 속성을 지정한다.\n",
    "* 인스턴스 내부 어느 곳에서도 사용이 가능하다.\n",
    "\n",
    "인스턴스 변수의 첫째 역할은 이전 설명에서 충분히 설명되었다.\n",
    "하지만 둘째 역할인 \"인스턴스 내부 어느 곳에서 사용이 가능하다\"에 대해서는 좀 더 설명이 필요하다.\n",
    "이를 위해, `Character` 클래스를 아래와 같이 수정하자."
   ]
  },
  {
   "cell_type": "code",
   "execution_count": 4,
   "metadata": {},
   "outputs": [],
   "source": [
    "class Character(object):\n",
    "    \n",
    "    def __init__(self, name, health, damage, inventory):\n",
    "        self.name = name\n",
    "        self.health = health\n",
    "        self.damage = damage\n",
    "        self.inventory = inventory\n",
    "        \n",
    "    # 자기소개 메소드\n",
    "    def introduction(self):\n",
    "        print(\"제 이름은 %s입니다\" % self.name)\n",
    "        print(\"현재 저의 체력은 %s입니다.\" % self.health)\n",
    "        print(\"저는 공격할 때마다 상대방에게 %s만큼의 손상을 줍니다.\" % self.damage)\n",
    "        print(\"제 수트의 방어력은 %d이며 사용하는 무기는 %s입니다.\" % \\\n",
    "              (self.inventory['suit'], self.inventory['weapon']))"
   ]
  },
  {
   "cell_type": "markdown",
   "metadata": {},
   "source": [
    "위 코드 특징은 다음과 같다.\n",
    "\n",
    "* 인스턴스가 생성될 때 자기소개를 바로 하지 않는다.\n",
    "* 대신에 자기소개를 하는 기능인 `introduction` 메소드가 선언되어 있다.\n",
    "\n",
    "설명을 위해 아이언맨 캐릭터 인스턴스를 생성해 보자.\n",
    "이전과는 달리 자신을 소개하는 문장이 바로 출력되지 않는다. "
   ]
  },
  {
   "cell_type": "code",
   "execution_count": 5,
   "metadata": {},
   "outputs": [],
   "source": [
    "ironman = Character('아이언맨', 100, 200, {'suit': 500, 'weapon': '레이저'})"
   ]
  },
  {
   "cell_type": "markdown",
   "metadata": {},
   "source": [
    "하지만 생성된 인스턴스를 소개하라는 `introduction` 메소드를 호출하면\n",
    "자기소개를 할 수 있다."
   ]
  },
  {
   "cell_type": "code",
   "execution_count": 6,
   "metadata": {},
   "outputs": [
    {
     "name": "stdout",
     "output_type": "stream",
     "text": [
      "제 이름은 아이언맨입니다\n",
      "현재 저의 체력은 100입니다.\n",
      "저는 공격할 때마다 상대방에게 200만큼의 손상을 줍니다.\n",
      "제 수트의 방어력은 500이며 사용하는 무기는 레이저입니다.\n"
     ]
    }
   ],
   "source": [
    "ironman.introduction()"
   ]
  },
  {
   "cell_type": "markdown",
   "metadata": {},
   "source": [
    "`introduction` 메소드 본문에는 생성자에서 선언된 인스턴스 변수들이 사용되었다.\n",
    "이렇듯 인스턴스 변수들은 인스턴스 어디에서든 사용될 수 있다."
   ]
  },
  {
   "cell_type": "markdown",
   "metadata": {},
   "source": [
    "## 인스턴스 메소드"
   ]
  },
  {
   "cell_type": "markdown",
   "metadata": {},
   "source": [
    "클래스에서 선언된 메소드 중에서 인스턴스 메소드는 인스턴스가 생성된 후에 생성된 인스턴스에서만 사용될 수 있다.\n",
    "예를 들어, 앞서 사용한 `introduction` 메소드가 인스턴스 메소드이다.\n",
    "\n",
    "인스턴스 메소드 본문에는 인스턴스 변수들이 사용될 수 있으며, 인스턴스 메소드를 구분하는 \n",
    "가장 간단한 방법은 첫째 매개변수로 `self`가 사용되었는지 여부를 확인하는 것이다.\n",
    "\n",
    "인스턴스를 생성한 후에 인스턴스 메소드를 호출하는 방법은 다음과 같다.\n",
    "\n",
    "> 인스턴스이름.메소드이름(self를 제외한 인자들)\n",
    "\n",
    "인스턴스 메소드를 호출할 때 `self`에 대응하는 인자를 입력하지 않는다는 사실을 기억해야 한다.\n",
    "보다 자세한 설명은 여기서는 하지 않는다."
   ]
  },
  {
   "cell_type": "markdown",
   "metadata": {},
   "source": [
    "이제 `Character` 클래스에 인스턴스 메소드를 추가해 보자."
   ]
  },
  {
   "cell_type": "code",
   "execution_count": 7,
   "metadata": {},
   "outputs": [],
   "source": [
    "class Character(object):\n",
    "    \n",
    "    def __init__(self, name, health, damage, inventory):\n",
    "        self.name = name\n",
    "        self.health = health\n",
    "        self.damage = damage\n",
    "        self.inventory = inventory\n",
    "        \n",
    "    # 자기소개 매소드\n",
    "    def introduction(self):\n",
    "        print(\"제 이름은 %s입니다\" % self.name)\n",
    "        print(\"현재 저의 체력은 %s입니다.\" % self.health)\n",
    "        print(\"저는 공격할 때마다 상대방에게 %s만큼의 손상을 줍니다.\" % self.damage)\n",
    "        print(\"제 수트의 방어력은 %d이며 사용하는 무기는 %s입니다.\" % \\\n",
    "              (self.inventory['suit'], self.inventory['weapon']))\n",
    "        \n",
    "    # 체력정보 확인 메소드\n",
    "    def getHealth(self):\n",
    "        return self.health\n",
    "    \n",
    "    # 체력증강 메소드\n",
    "    def setHealth(self, health):\n",
    "        self.health = self.health + health"
   ]
  },
  {
   "cell_type": "markdown",
   "metadata": {},
   "source": [
    "두 개의 인스턴스 메소드가 추가되었다.\n",
    "\n",
    "* `getHealth`: 생성된 인스턴스의 체력을 확인해주는 메소드\n",
    "    * 실행하면 현재 인스턴스의 체력을 확인해 준다.\n",
    "* `setHealth`: 생성된 인스턴스의 체력을 증가시키는 메소드\n",
    "    * 실행하면 현재 인스턴스의 체력을 지정한만큼 증가시킨다.\n",
    "    \n",
    "예를 들어 아이언맨 인스턴스의 체력을 키우고나서 확인하는 과정은 다음과 같다."
   ]
  },
  {
   "cell_type": "code",
   "execution_count": 8,
   "metadata": {},
   "outputs": [],
   "source": [
    "ironman = Character('아이언맨', 100, 200, {'suit': 500, 'weapon': '레이저'})"
   ]
  },
  {
   "cell_type": "code",
   "execution_count": 9,
   "metadata": {},
   "outputs": [
    {
     "name": "stdout",
     "output_type": "stream",
     "text": [
      "100\n"
     ]
    }
   ],
   "source": [
    "print(ironman.getHealth())"
   ]
  },
  {
   "cell_type": "code",
   "execution_count": 10,
   "metadata": {},
   "outputs": [],
   "source": [
    "ironman.setHealth(50)"
   ]
  },
  {
   "cell_type": "code",
   "execution_count": 11,
   "metadata": {},
   "outputs": [
    {
     "name": "stdout",
     "output_type": "stream",
     "text": [
      "150\n"
     ]
    }
   ],
   "source": [
    "print(ironman.getHealth())"
   ]
  },
  {
   "cell_type": "markdown",
   "metadata": {},
   "source": [
    "## 게터/세터 메소드\n",
    "\n",
    "위 예제에서 살펴 본 `getHealth`와 `setHealth` 같이 인스턴스의 속성값을 확인하거나 지정하는 메소드를\n",
    "각각 게터 메소드(getter method)와 세터 메소드(setter method)라 부른다.\n",
    "관용적으로 게터 메소드 이름은 `get`으로 시작하며, 세터 메소드 이름은 `set`으로 시작한다. "
   ]
  },
  {
   "cell_type": "markdown",
   "metadata": {},
   "source": [
    "### 게터/세터 메소드 활용 예제"
   ]
  },
  {
   "cell_type": "markdown",
   "metadata": {},
   "source": [
    "`Character` 클래스에 상대방을 공격하는 기능을 추가해보자."
   ]
  },
  {
   "cell_type": "code",
   "execution_count": 12,
   "metadata": {},
   "outputs": [],
   "source": [
    "class Character(object):\n",
    "    \n",
    "    def __init__(self, name, health, damage, inventory):\n",
    "        self.name = name\n",
    "        self.health = health\n",
    "        self.damage = damage\n",
    "        self.inventory = inventory\n",
    "        \n",
    "    # 자기소개 매소드\n",
    "    def introduction(self):\n",
    "        print(\"제 이름은 %s입니다\" % self.name)\n",
    "        print(\"현재 저의 체력은 %s입니다.\" % self.health)\n",
    "        print(\"저는 공격할 때마다 상대방에게 %s만큼의 손상을 줍니다.\" % self.damage)\n",
    "        print(\"제 수트의 방어력은 %d이며 사용하는 무기는 %s입니다.\" % \\\n",
    "              (self.inventory['suit'], self.inventory['weapon']))\n",
    "        \n",
    "    # 체력정보 확인 메소드\n",
    "    def getHealth(self):\n",
    "        return self.health\n",
    "    \n",
    "    # 체력증강 메소드\n",
    "    def setHealth(self, health):\n",
    "        self.health = self.health + health\n",
    "        \n",
    "    # 상대 캐릭터 공격 메소드\n",
    "    # 둘째 인자로 상대 캐릭터 인스턴스가 사용될 것임.\n",
    "    def attack(self, other):\n",
    "        print(\"%s: %s 공격하기!\" % (self.name, other.name))\n",
    "        # 공격력의 10% 만큼 상대 체력 감소시킴\n",
    "        attackPower = self.damage * 0.1 \n",
    "        other.setHealth(-attackPower)"
   ]
  },
  {
   "cell_type": "markdown",
   "metadata": {},
   "source": [
    "아이언맨이 적군을 공격하는 상황을 아래와 같이 묘사할 수 있다."
   ]
  },
  {
   "cell_type": "code",
   "execution_count": 13,
   "metadata": {},
   "outputs": [],
   "source": [
    "ironman = Character('아이언맨', 100, 200, {'suit': 500, 'weapon': '레이저'})\n",
    "enemy = Character('적군', 100, 50, {'suit': 100, 'weapon': '독'})"
   ]
  },
  {
   "cell_type": "markdown",
   "metadata": {},
   "source": [
    "현재 적군의 체력은 100이다."
   ]
  },
  {
   "cell_type": "code",
   "execution_count": 14,
   "metadata": {},
   "outputs": [
    {
     "data": {
      "text/plain": [
       "100"
      ]
     },
     "execution_count": 14,
     "metadata": {},
     "output_type": "execute_result"
    }
   ],
   "source": [
    "enemy.getHealth()"
   ]
  },
  {
   "cell_type": "markdown",
   "metadata": {},
   "source": [
    "그런데 아이언맨이 데드풀을 공격하니 체력이 20 줄게 된다.\n",
    "\n",
    "**주의:** `attack` 메소의 둘째 매개변수인 `other`에 대한 인자로 다른 캐릭터 인스턴스를 사용한다."
   ]
  },
  {
   "cell_type": "code",
   "execution_count": 15,
   "metadata": {},
   "outputs": [
    {
     "name": "stdout",
     "output_type": "stream",
     "text": [
      "아이언맨: 적군 공격하기!\n"
     ]
    }
   ],
   "source": [
    "ironman.attack(enemy)"
   ]
  },
  {
   "cell_type": "code",
   "execution_count": 16,
   "metadata": {},
   "outputs": [
    {
     "data": {
      "text/plain": [
       "80.0"
      ]
     },
     "execution_count": 16,
     "metadata": {},
     "output_type": "execute_result"
    }
   ],
   "source": [
    "enemy.getHealth()"
   ]
  },
  {
   "cell_type": "markdown",
   "metadata": {},
   "source": [
    "## 연습문제"
   ]
  },
  {
   "cell_type": "markdown",
   "metadata": {},
   "source": [
    "1. `Character` 클래스에서 사용되는 모든 인스턴스 변수에 대한 게터/세터 메소드를 선언한 후에 \n",
    "    `attack` 메소드를 게터/세터 메소드만을 사용하여 선언하라. \n",
    "    즉, 인스턴스 변수를 직접 사용하지 않아야 한다."
   ]
  }
 ],
 "metadata": {
  "kernelspec": {
   "display_name": "Python 3",
   "language": "python",
   "name": "python3"
  },
  "language_info": {
   "codemirror_mode": {
    "name": "ipython",
    "version": 3
   },
   "file_extension": ".py",
   "mimetype": "text/x-python",
   "name": "python",
   "nbconvert_exporter": "python",
   "pygments_lexer": "ipython3",
   "version": "3.6.3"
  }
 },
 "nbformat": 4,
 "nbformat_minor": 2
}
