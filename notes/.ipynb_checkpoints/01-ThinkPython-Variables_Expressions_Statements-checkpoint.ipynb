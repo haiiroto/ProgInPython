{
 "cells": [
  {
   "cell_type": "markdown",
   "metadata": {},
   "source": [
    "# 프로그래밍 기본 요소: 변수, 표현식, 명령문"
   ]
  },
  {
   "cell_type": "markdown",
   "metadata": {},
   "source": [
    "_[Think Python의 2장](http://greenteapress.com/thinkpython2/html/thinkpython2003.html)\n",
    "내용을 요약 및 수정한 내용입니다._"
   ]
  },
  {
   "cell_type": "markdown",
   "metadata": {},
   "source": [
    "## 변수와 변수 할당"
   ]
  },
  {
   "cell_type": "markdown",
   "metadata": {},
   "source": [
    "변수는 특정한 값을 가리키도록 하는 도구이며, 기본 역할은 두 가지이다.\n",
    "\n",
    "* 특정 값을 컴퓨터 메모리에 기억해둔다. \n",
    "    변수가 가리키는 값을 변수를 이용하여 언제든지 활용할 수 있다.\n",
    "* 지정된 값을 다른 용도로 사용되도록 전달하는 기능을 갖는다.\n",
    "    예를 들어, 함수를 정의할 때 사용되는 매개변수는 함수의 인자로 지정된 값을 \n",
    "    함수 본체에 사용된 코드에 전달한다. "
   ]
  },
  {
   "cell_type": "markdown",
   "metadata": {},
   "source": [
    "### 변수 할당"
   ]
  },
  {
   "cell_type": "markdown",
   "metadata": {},
   "source": [
    "변수 할당은 변수가 특정 값을 가리키도록 하는 것을 의미하며 명령형 프로그래밍의 기본 명령문 중의 하나이며,\n",
    "아래의 형식으로 사용된다.\n",
    "\n",
    "```python\n",
    "변수 = 표현식\n",
    "```\n",
    "\n",
    "예를 들어, 아래 세 개의 할당 명령문은 특정 변수에 특정 표현식을 지정하는 기본적인 방식을 보여준다."
   ]
  },
  {
   "cell_type": "code",
   "execution_count": 1,
   "metadata": {},
   "outputs": [],
   "source": [
    "message = '이제부터 변수 할당 명령문을 다룹니다.'\n",
    "n = 17\n",
    "pi = 3.1415926535897932"
   ]
  },
  {
   "cell_type": "markdown",
   "metadata": {},
   "source": [
    "위 명령문을 실행하면 \n",
    "\n",
    "* 변수 `message`는 '이제부터 변수 할당 명령문을 다룹니다.' 라는 문자열을, \n",
    "* 변수 `n`는 정수 17을\n",
    "* 변수 `pi`는 원주율 $\\pi$에 해당하는 값을\n",
    "\n",
    "각각 가리킨다.\n",
    "\n",
    "변수가 가리키는 값은 프로그램 실행과정에서 달라질 수 있다.\n",
    "예를 들어, 변수 `n`에 18을 새롭게 할당할 수 있다."
   ]
  },
  {
   "cell_type": "code",
   "execution_count": 2,
   "metadata": {},
   "outputs": [],
   "source": [
    "n = 18"
   ]
  },
  {
   "cell_type": "markdown",
   "metadata": {},
   "source": [
    "그러면 이제부터는 `n`은 저웃 18처럼 다룰 수 있다."
   ]
  },
  {
   "cell_type": "code",
   "execution_count": 3,
   "metadata": {},
   "outputs": [
    {
     "name": "stdout",
     "output_type": "stream",
     "text": [
      "17\n"
     ]
    }
   ],
   "source": [
    "print(n - 1)"
   ]
  },
  {
   "cell_type": "markdown",
   "metadata": {},
   "source": [
    "### 프레임"
   ]
  },
  {
   "cell_type": "markdown",
   "metadata": {},
   "source": [
    "변수 할당은 **컴퓨터 메모리** 상에서 이루어지며,\n",
    "변수들과 변수들에 할당된 값들 사이의 관계는 **프레임**(frame)을 통해 관리된다.\n",
    "즉, 변수 할당 명령문을 실행하면 컴퓨터 메모리 상에서 변수들과 변수들에 할당된 값들 사이의 관계에\n",
    "변화가 발생하며, 이는 프레임에 변화를 초래한다."
   ]
  },
  {
   "cell_type": "markdown",
   "metadata": {},
   "source": [
    "#### 파이썬튜터(pythontutor)와 프레임"
   ]
  },
  {
   "cell_type": "markdown",
   "metadata": {},
   "source": [
    "컴퓨터 메모리 상에서 일어나는 변화를 사람이 직접 눈으로 볼 수는 없다. \n",
    "하지만 파이썬튜터가 프레임의 변화를 시각적으로 보여주는 기능을 지원한다.\n",
    "앞서 변수 세 개의 할당을 실행하면 프레임이 어떻게 변화하는지를\n",
    "[pythontutor.com](http://pythontutor.com/visualize.html#code=message%20%3D%20'%EC%9D%B4%EC%A0%9C%EB%B6%80%ED%84%B0%20%EB%B3%80%EC%88%98%20%ED%95%A0%EB%8B%B9%20%EB%AA%85%EB%A0%B9%EB%AC%B8%EC%9D%84%20%EB%8B%A4%EB%A3%B9%EB%8B%88%EB%8B%A4.'%0An%20%3D%2017%0Api%20%3D%203.1415926535897932&cumulative=false&heapPrimitives=nevernest&mode=edit&origin=opt-frontend.js&py=3&rawInputLstJSON=%5B%5D&textReferences=false)에 \n",
    "접속해서 확인할 수 있다.\n",
    "\n",
    "파이썬튜터 사용법은 다음과 같다."
   ]
  },
  {
   "cell_type": "markdown",
   "metadata": {},
   "source": [
    "* 해당 사이트 접속해서 코드 확인 및 수정 후 'Visualize Execution' 버튼 누름."
   ]
  },
  {
   "cell_type": "markdown",
   "metadata": {},
   "source": [
    "<img src=\"images/pythontutor06.png\" style=\"width:700px\">"
   ]
  },
  {
   "cell_type": "markdown",
   "metadata": {},
   "source": [
    "* 이후 아래 화면에서 'Forward' 버튼을 반복해서 누르면 \n",
    "    각각의 명령문이 차례대로 실행되는 과정에서 일어나는 프레임(Global frame)의 변화를 확인할 수 있다.\n",
    "    'Global frame'은 전역 변수를 담당하는 전역 프레임을 가리킨다.\n",
    "    전역 변수에 대한 정의는 이후에 다룬다."
   ]
  },
  {
   "cell_type": "markdown",
   "metadata": {},
   "source": [
    "<img src=\"images/pythontutor02.png\" style=\"width:700px\">"
   ]
  },
  {
   "cell_type": "markdown",
   "metadata": {},
   "source": [
    "<img src=\"images/pythontutor03.png\" style=\"width:700px\">"
   ]
  },
  {
   "cell_type": "markdown",
   "metadata": {},
   "source": [
    "<img src=\"images/pythontutor04.png\" style=\"width:700px\">"
   ]
  },
  {
   "cell_type": "markdown",
   "metadata": {},
   "source": [
    "<img src=\"images/pythontutor05.png\" style=\"width:700px\">"
   ]
  },
  {
   "cell_type": "markdown",
   "metadata": {},
   "source": [
    "### 변수 이름"
   ]
  },
  {
   "cell_type": "markdown",
   "metadata": {},
   "source": [
    "변수의 이름을 정할 때 할당되는 값과 연관된 이름으로 정하는 것이 좋으며, \n",
    "아무리 길어도 상관 없다. \n",
    "다만 아래의 제한 사항을 지키지 않으면 오류가 발생한다.\n",
    "\n",
    "* 영어 알파벳, 숫자, 언더바(`_`) 등을 사용한다.\n",
    "* 한글은 사용할 수 없다.\n",
    "* 숫자로 시작할 수 없다.\n",
    "* 골뱅이 기호(`@`)와 물결 기호(`~`)는 사용할 수 없다.\n",
    "* 이름에 공백을 사용할 수 없다.\n",
    "* 파이썬에서 특별한 역할을 수행하는 지정어(keyword)들를 사용할 수 없다.\n",
    "\n",
    "사용하면 안되는 사례 몇 가지를 살펴보자."
   ]
  },
  {
   "cell_type": "markdown",
   "metadata": {},
   "source": [
    "* 숫자로 시작"
   ]
  },
  {
   "cell_type": "code",
   "execution_count": 4,
   "metadata": {},
   "outputs": [
    {
     "ename": "SyntaxError",
     "evalue": "invalid syntax (<ipython-input-4-fffd082f1bec>, line 1)",
     "output_type": "error",
     "traceback": [
      "\u001b[0;36m  File \u001b[0;32m\"<ipython-input-4-fffd082f1bec>\"\u001b[0;36m, line \u001b[0;32m1\u001b[0m\n\u001b[0;31m    7trombones = 'big parade'\u001b[0m\n\u001b[0m             ^\u001b[0m\n\u001b[0;31mSyntaxError\u001b[0m\u001b[0;31m:\u001b[0m invalid syntax\n"
     ]
    }
   ],
   "source": [
    "7trombones = 'big parade'"
   ]
  },
  {
   "cell_type": "markdown",
   "metadata": {},
   "source": [
    "* 공백 사용"
   ]
  },
  {
   "cell_type": "code",
   "execution_count": 5,
   "metadata": {},
   "outputs": [
    {
     "ename": "SyntaxError",
     "evalue": "invalid syntax (<ipython-input-5-a60a52f44533>, line 1)",
     "output_type": "error",
     "traceback": [
      "\u001b[0;36m  File \u001b[0;32m\"<ipython-input-5-a60a52f44533>\"\u001b[0;36m, line \u001b[0;32m1\u001b[0m\n\u001b[0;31m    big number = 1000000\u001b[0m\n\u001b[0m             ^\u001b[0m\n\u001b[0;31mSyntaxError\u001b[0m\u001b[0;31m:\u001b[0m invalid syntax\n"
     ]
    }
   ],
   "source": [
    "big number = 1000000"
   ]
  },
  {
   "cell_type": "markdown",
   "metadata": {},
   "source": [
    "* 지정어 사용: 예를 들어, `class`는 파이썬에서 클래스를 선언할 때 사용되는 특수한 기능을 갖는다.\n",
    "    클래스는 이후에 다룬다."
   ]
  },
  {
   "cell_type": "code",
   "execution_count": 6,
   "metadata": {},
   "outputs": [
    {
     "ename": "SyntaxError",
     "evalue": "invalid syntax (<ipython-input-6-73fc4ce1a15a>, line 1)",
     "output_type": "error",
     "traceback": [
      "\u001b[0;36m  File \u001b[0;32m\"<ipython-input-6-73fc4ce1a15a>\"\u001b[0;36m, line \u001b[0;32m1\u001b[0m\n\u001b[0;31m    class = 'Advanced Theoretical Zymurgy'\u001b[0m\n\u001b[0m          ^\u001b[0m\n\u001b[0;31mSyntaxError\u001b[0m\u001b[0;31m:\u001b[0m invalid syntax\n"
     ]
    }
   ],
   "source": [
    "class = 'Advanced Theoretical Zymurgy'"
   ]
  },
  {
   "cell_type": "markdown",
   "metadata": {},
   "source": [
    "파이썬의 지정어들은 다음과 같다.\n",
    "\n",
    "```python\n",
    "False      class      finally    is         return\n",
    "None       continue   for        lambda     try\n",
    "True       def        from       nonlocal   while\n",
    "and        del        global     not        with\n",
    "as         elif       if         or         yield\n",
    "assert     else       import     pass\n",
    "break      except     in         raise\n",
    "```"
   ]
  },
  {
   "cell_type": "markdown",
   "metadata": {},
   "source": [
    "## 값과 표현식"
   ]
  },
  {
   "cell_type": "markdown",
   "metadata": {},
   "source": [
    "### 값"
   ]
  },
  {
   "cell_type": "markdown",
   "metadata": {},
   "source": [
    "정수, 실수, 문자, 문자열, 진리값, 리스트, 튜플, 사전 등 프로그램이 다루는 가장 기본적인 대상을 \n",
    "**값**(value)이라 부른다.\n",
    "예를 들어, 1, 2, 3.2, 'Hello, World!' 등이 지금까지 이 수업에서 본 값들이다."
   ]
  },
  {
   "cell_type": "markdown",
   "metadata": {},
   "source": [
    "### 자료형"
   ]
  },
  {
   "cell_type": "markdown",
   "metadata": {},
   "source": [
    "모든 값들은 자신들만의 **자료형**을 갖는다.\n",
    "예를 들어,\n",
    "\n",
    "* 1과 2는 정수 자료형(`int`)이고,\n",
    "* 3.2는 부동 소수점(`float`) 자료형이고,\n",
    "* 'Hello, World!'의 자료형은 문자열('str')이다. \n",
    "\n",
    "만약 값이 어떤 자료형에 속하는지 모르겠다면 아래와 같이 확인한다."
   ]
  },
  {
   "cell_type": "code",
   "execution_count": 7,
   "metadata": {},
   "outputs": [
    {
     "data": {
      "text/plain": [
       "int"
      ]
     },
     "execution_count": 7,
     "metadata": {},
     "output_type": "execute_result"
    }
   ],
   "source": [
    "type(1)"
   ]
  },
  {
   "cell_type": "code",
   "execution_count": 8,
   "metadata": {},
   "outputs": [
    {
     "data": {
      "text/plain": [
       "float"
      ]
     },
     "execution_count": 8,
     "metadata": {},
     "output_type": "execute_result"
    }
   ],
   "source": [
    "type(3.2)"
   ]
  },
  {
   "cell_type": "code",
   "execution_count": 9,
   "metadata": {},
   "outputs": [
    {
     "data": {
      "text/plain": [
       "str"
      ]
     },
     "execution_count": 9,
     "metadata": {},
     "output_type": "execute_result"
    }
   ],
   "source": [
    "type('Hello, World!')"
   ]
  },
  {
   "cell_type": "markdown",
   "metadata": {},
   "source": [
    "#### 숫자 표기 주의사항"
   ]
  },
  {
   "cell_type": "markdown",
   "metadata": {},
   "source": [
    "숫자를 표기할 때 다음 세 가지 사항들에 주의해야 한다.\n",
    "\n",
    "첫째, `'17'`, `'3.2'` 등은 숫자처럼 보이지만 따옴표로 둘러싸여 있으며,\n",
    "숫자가 아닌 숫자 기호로 이루어진 문자열이다."
   ]
  },
  {
   "cell_type": "code",
   "execution_count": 10,
   "metadata": {},
   "outputs": [
    {
     "data": {
      "text/plain": [
       "str"
      ]
     },
     "execution_count": 10,
     "metadata": {},
     "output_type": "execute_result"
    }
   ],
   "source": [
    "type('17')"
   ]
  },
  {
   "cell_type": "code",
   "execution_count": 11,
   "metadata": {},
   "outputs": [
    {
     "data": {
      "text/plain": [
       "str"
      ]
     },
     "execution_count": 11,
     "metadata": {},
     "output_type": "execute_result"
    }
   ],
   "source": [
    "type('3.2')"
   ]
  },
  {
   "cell_type": "markdown",
   "metadata": {},
   "source": [
    "둘째, 숫자를 적을 대 쉼표(콤마)를 사용하면 안된다. \n",
    "쉼표는 파이썬에서 특수한 역할을 수행한다. \n",
    "나중에 튜플 자료형에서 쉼표의 역할을 다룰 것이다.\n",
    "\n",
    "예를 들어, `1,000,000` 이라고 입력하면 백만이 아니라 1과 0과 0을 항목으로 갖는 \n",
    "길이가 3인 튜플 자료형으로 인식된다.\n",
    "튜플은 여러 개의 값을 하나로 묶어서 사용하는 값들의 자료형이며\n",
    "나중에 자세히 다룬다."
   ]
  },
  {
   "cell_type": "code",
   "execution_count": 12,
   "metadata": {},
   "outputs": [
    {
     "name": "stdout",
     "output_type": "stream",
     "text": [
      "(1, 0, 0)\n"
     ]
    }
   ],
   "source": [
    "not_a_number = 1,000,000\n",
    "print(not_a_number)"
   ]
  },
  {
   "cell_type": "markdown",
   "metadata": {},
   "source": [
    "실제로 `not_a_number`의 지료형은 튜플이다."
   ]
  },
  {
   "cell_type": "code",
   "execution_count": 13,
   "metadata": {},
   "outputs": [
    {
     "data": {
      "text/plain": [
       "tuple"
      ]
     },
     "execution_count": 13,
     "metadata": {},
     "output_type": "execute_result"
    }
   ],
   "source": [
    "type(not_a_number)"
   ]
  },
  {
   "cell_type": "markdown",
   "metadata": {},
   "source": [
    "셋째, 숫자는 0으로 시작하면 안된다."
   ]
  },
  {
   "cell_type": "code",
   "execution_count": 14,
   "metadata": {},
   "outputs": [
    {
     "ename": "SyntaxError",
     "evalue": "invalid token (<ipython-input-14-ad5082053b72>, line 2)",
     "output_type": "error",
     "traceback": [
      "\u001b[0;36m  File \u001b[0;32m\"<ipython-input-14-ad5082053b72>\"\u001b[0;36m, line \u001b[0;32m2\u001b[0m\n\u001b[0;31m    zipcode = 03048\u001b[0m\n\u001b[0m                  ^\u001b[0m\n\u001b[0;31mSyntaxError\u001b[0m\u001b[0;31m:\u001b[0m invalid token\n"
     ]
    }
   ],
   "source": [
    "# 청와대 우편번호\n",
    "zipcode = 03048"
   ]
  },
  {
   "cell_type": "markdown",
   "metadata": {},
   "source": [
    "우편번호는 연산이 아니라 구역 식별용으로 사용되기에,\n",
    "고유명사처럼 문자열로 처리하는 것이 좋다."
   ]
  },
  {
   "cell_type": "code",
   "execution_count": 15,
   "metadata": {},
   "outputs": [],
   "source": [
    "# 청와대 우편번호\n",
    "zipcode = '03048'"
   ]
  },
  {
   "cell_type": "markdown",
   "metadata": {},
   "source": [
    "### 변수의 자료형"
   ]
  },
  {
   "cell_type": "markdown",
   "metadata": {},
   "source": [
    "변수의 자료형은 가리키는 값의 자료형을 사용한다.\n",
    "따라서, 변수의 자료형은 할당된 값이 수정되면 함께 수정된 값의 자료형을 갖는다."
   ]
  },
  {
   "cell_type": "code",
   "execution_count": 16,
   "metadata": {},
   "outputs": [
    {
     "data": {
      "text/plain": [
       "int"
      ]
     },
     "execution_count": 16,
     "metadata": {},
     "output_type": "execute_result"
    }
   ],
   "source": [
    "x = 18\n",
    "type(x)"
   ]
  },
  {
   "cell_type": "code",
   "execution_count": 17,
   "metadata": {},
   "outputs": [
    {
     "data": {
      "text/plain": [
       "float"
      ]
     },
     "execution_count": 17,
     "metadata": {},
     "output_type": "execute_result"
    }
   ],
   "source": [
    "x = 3.14\n",
    "type(x)"
   ]
  },
  {
   "cell_type": "markdown",
   "metadata": {},
   "source": [
    "### 연산자와 함수"
   ]
  },
  {
   "cell_type": "markdown",
   "metadata": {},
   "source": [
    "**함수**는 특정 기능을 수행하는 코드에 이름을 붙힌거라고 생각할 수 있다.\n",
    "**연산자**는 사칙연산 등 숫자들을 이용하여 계산을 하는 함수를 가리키는 의미로 사용한다.\n",
    "함수에 대한 엄밀한 정의는 이후에 다룬다.\n",
    "\n",
    "여기서는 지금까지 살펴 본 코드에서 사용된 함수들의 기능을 확인한다.\n",
    "\n",
    "* 연산자\n",
    "    * 사칙 연산자: 덧셈(`+`), 뺄셈(`-`), 곱셈(`*`), 나눗셈(`/`)\n",
    "    * 비교 연산자: 작다(`<`), 크다(`>`), 작거나 같다(`<=`), 크거나 같다(`>=`)\n",
    "* 함수\n",
    "    * `input`: 사용자가 키보드로 입력한 값을 받아 문자열로 처리하여 내준다(return).\n",
    "    * `print`: 인자로 지정된 값을 화면에 출력한다.\n",
    "    * `int`: 정수 모양의 문자열을 진짜 정수로 변환해서 내준다.\n",
    "    * `type`: 인자로 지정된 값의 자료형을 내준다.\n",
    "    \n",
    "함수는 실행되면 지정된 코드를 실행한다.\n",
    "실행이 영원히 멈추지 않을 수도 있다. \n",
    "하지만 일정 시간이 지나 멈춘다면 특정 값을 내준다(리턴한다).\n",
    "'내준다'의 영어 표현은 **리턴**(return)이라서 함수가 내주는 값을 **리턴값**이라고도 부른다."
   ]
  },
  {
   "cell_type": "markdown",
   "metadata": {},
   "source": [
    "#### `None` 값"
   ]
  },
  {
   "cell_type": "markdown",
   "metadata": {},
   "source": [
    "`print` 함수는 어떠한 값도 계산하지 않으며, 단순히 지정된 값을 화면에 출력한다.\n",
    "이런 경우 내주는 값은 `None`이 된다. \n",
    "`None`은 \"아무 의미도 없는 값\"을 나타내는 값이며, \n",
    "어떤 용도로도 사용하지 못한다.\n",
    "\n",
    "암튼 파이썬에서 사용되는 함수는 실행이 멈추면 무조건 특정 값을 내준다는 사실은 기억해 두어야 한다."
   ]
  },
  {
   "cell_type": "markdown",
   "metadata": {},
   "source": [
    "#### 부수효과"
   ]
  },
  {
   "cell_type": "markdown",
   "metadata": {},
   "source": [
    "`print` 함수는 지정된 값을 화면에 출력한 후 `None`이라는 값을 내준다.\n",
    "그런데 화면에 출력된 값은 `print` 함수가 내주는 값과 아무 상관이 없다.\n",
    "이렇게 함수가 실행되는 과정에서 내주는 값과 상관 없이 하는 일을 **부수효과**(side effect)라 부른다.\n",
    "즉, `print` 함수가 실행될 때 화면에 출력된 값은 `print` 함수의 부수효과의 결과이다. \n",
    "\n",
    "이 점에 주의하면서 아래 코드를 살펴보자."
   ]
  },
  {
   "cell_type": "code",
   "execution_count": 30,
   "metadata": {},
   "outputs": [
    {
     "name": "stdout",
     "output_type": "stream",
     "text": [
      "1\n",
      "2\n",
      "None None\n"
     ]
    }
   ],
   "source": [
    "print(print(1), print(2))"
   ]
  },
  {
   "cell_type": "markdown",
   "metadata": {},
   "source": [
    "위 코드의 실행결과에 대한 설명은 다음과 같다.\n",
    "\n",
    "* 맨 왼편에 위치한 `print` 함수의 인자는 `print(1)`과 `print(2)`이다.\n",
    "    * `print(1)`을 실행할 때 내주는 값은 `None`이다.\n",
    "        `print(2)` 또한 동일하다.\n",
    "    * 결국 `print(None, None)`을 실행하게 된다. \n",
    "* 그런데 `print(1)`을 실행할 때 `1`을 먼저 화면에 출력하고,\n",
    "    `print(2)`를 실행할 때 `2`를 먼저 화면에 출력한다.\n",
    "* 따라서 `1`, `2`, `None None` 순서로 화면에 출력된다.\n",
    "* 물론 `print(None, None)`의 실행결과는 `None`인데, \n",
    "    `None`은 아무 의미도 없는 값이기 때문에 달리 보여지지 않는다."
   ]
  },
  {
   "cell_type": "markdown",
   "metadata": {},
   "source": [
    "#### 고계함수와 제1종객체"
   ]
  },
  {
   "cell_type": "markdown",
   "metadata": {},
   "source": [
    "파이썬에서는 함수도 하나의 값으로 간주된다.\n",
    "이렇게 하나의 값으로 간주되는 대상을 **제1종 객체**(first-class object)라고 부른다.\n",
    "제1종 객체로 간주되는 변수에 할당되거나, 함수의 인자 또는 리턴값으로 사용될 수 있다.\n",
    "따라서 함수가 함수를 인자로 받거나 내주는 값(리턴값)으로 사용할 수 있다.\n",
    "\n",
    "함수를 인자로 받거나 내주는 값으로 사용하는 함수를 **고계함수**(higher-order function)라 부른다."
   ]
  },
  {
   "cell_type": "markdown",
   "metadata": {},
   "source": [
    "#### 문자열 연산"
   ]
  },
  {
   "cell_type": "markdown",
   "metadata": {},
   "source": [
    "덧셈 기호 `+`와 곱셈 기호 `*`는 숫자뿐만 아니라 문자열에 대해서도\n",
    "작동하는 연산자이다.\n",
    "물론 숫자들의 덧셈, 곱셈과는 다르게 작동한다. \n",
    "\n",
    "**주의:** 뺄셈 기호 `-`와 나눗셈 기호 `/`는 문자열 연산자로 사용되지 않는다."
   ]
  },
  {
   "cell_type": "markdown",
   "metadata": {},
   "source": [
    "##### 문자열 이어붙이기\n",
    "\n",
    "덧셈 기호는 두 문자열을 이어붙일 때 사용한다. "
   ]
  },
  {
   "cell_type": "code",
   "execution_count": 31,
   "metadata": {},
   "outputs": [
    {
     "name": "stdout",
     "output_type": "stream",
     "text": [
      "파이썬, 안녕!\n"
     ]
    }
   ],
   "source": [
    "first = '파이썬, '\n",
    "second = '안녕!'\n",
    "print(first + second)"
   ]
  },
  {
   "cell_type": "markdown",
   "metadata": {},
   "source": [
    "##### 문자열 복제해서 이어붙이기\n",
    "\n",
    "문자열을 정수와 곱하면 해당 문자열을 정수만큼 복제하여 모두 이어붙인다."
   ]
  },
  {
   "cell_type": "code",
   "execution_count": 32,
   "metadata": {},
   "outputs": [
    {
     "data": {
      "text/plain": [
       "'spamspamspam'"
      ]
     },
     "execution_count": 32,
     "metadata": {},
     "output_type": "execute_result"
    }
   ],
   "source": [
    "'spam'*3"
   ]
  },
  {
   "cell_type": "code",
   "execution_count": 33,
   "metadata": {},
   "outputs": [
    {
     "data": {
      "text/plain": [
       "'I love you! I love you! I love you! I love you! '"
      ]
     },
     "execution_count": 33,
     "metadata": {},
     "output_type": "execute_result"
    }
   ],
   "source": [
    "'I love you! '*4"
   ]
  },
  {
   "cell_type": "markdown",
   "metadata": {},
   "source": [
    "### 표현식"
   ]
  },
  {
   "cell_type": "markdown",
   "metadata": {},
   "source": [
    "**표현식**(expression)은 '값을 나타내는 식'이며\n",
    "값, 변수, 함수 등을 규칙에 맞게 조합하여 만든다.\n",
    "\n",
    "예를 들어, 만약에 변수 `x`에 할당된 값이 정수 `3`이라고 가정한다.\n",
    "아래 표는 표현식과 해당 표현식이 표현하는 값, 그리고 값의 자료형 사이의 관계를 보여준다.\n",
    "\n",
    "| 표현식 | 값 | 자료형 |\n",
    "|---|---|---|\n",
    "| `17`  | `17`  | `int` |\n",
    "| `\"abc\"`  | `\"abc\"`  | `str` |\n",
    "| `x`  | `3`  | `int` |\n",
    "| `x/2`  | `1.5`  | `float` |\n",
    "| `(x/2 - 1) < 0` | `False` | `bool` |\n",
    "| `(1, x/2-1, x+x+1)`  | `(1, 0.5, 7)`  | `tuple` |\n",
    "| `[x, x*3/2, x**3+1]`  | `[3, 4.5, 28]`  | `list` |\n",
    "| `print(x)`  | `None`   | `NoneType` |\n",
    "| `int('17')`  | `17` | `int` |\n",
    "| `input`  | `input` | `method` |\n",
    "\n",
    "* `None`의 자료형은 `NoneType`이다.\n",
    "* 마지막 줄에 있는 `input` 함수는 자체로 하나의 값이다. \n",
    "     `input` 함수의 자료형은 `method`라고 한다. "
   ]
  },
  {
   "cell_type": "code",
   "execution_count": 29,
   "metadata": {},
   "outputs": [
    {
     "data": {
      "text/plain": [
       "method"
      ]
     },
     "execution_count": 29,
     "metadata": {},
     "output_type": "execute_result"
    }
   ],
   "source": [
    "type(input)"
   ]
  },
  {
   "cell_type": "markdown",
   "metadata": {},
   "source": [
    "#### 표현식 계산과 연산자 우선순위"
   ]
  },
  {
   "cell_type": "markdown",
   "metadata": {},
   "source": [
    "표현식이 나타내는 값은 파이썬 해석기에 의해 계산된다.\n",
    "계산 과정에서 연산자 별로 지정된 우선순위를 따른다. \n",
    "사칙연산 등 많이 사용되는 수학 함수들의 우선순위는 일반적으로 알려진 것과 동일하다.\n",
    "\n",
    "* 괄호 안에 있는 표현식을 가장 먼저 계산한다. \n",
    "    * `2*(3-1) = 2*2 = 4`\n",
    "    * `(1+1)**(5-2) = 2**(5-2) = 2**3 = 8`\n",
    "* 거듭제곱의 우선순위가 사칙연산보다 높다.\n",
    "    * `3**2*2 = (3**2)*2 = 9*2 = 18`\n",
    "    * `3*2**2 = 3*(2**2) = 3*4 = 12`\n",
    "* 곱셈과 나눗셈을 덧셈과 뺄셈보다 먼저 계산한다. \n",
    "    * `2*3-1 = (2*3)-1 = 6-1 = 5`\n",
    "    * `6+4/2 = 6+(4/2) = 6+2 = 8`\n",
    "* 곱셈과 나눗셈은 서로 우선순위가 같다.\n",
    "* 덧셈과 뺄쎔도 서로 우선순위가 같다.\n",
    "* 같은 우선순위를 갖는 연산자가 연속해서 나오면 (거듭제곱을 제외하고) 왼쪽에서 오른쪽으로 계산됩니다. \n",
    "    * `60/2*3 = (60/2)*3 = 30*3 = 90`\n",
    "* 거듭제곱이 연속해서 나오면 오른쪽에서 왼쪽으로 계산된다. \n",
    "    * `2**3**2 = 2**(3**2) = 2**9 = 512`"
   ]
  },
  {
   "cell_type": "markdown",
   "metadata": {},
   "source": [
    "## 명령문"
   ]
  },
  {
   "cell_type": "markdown",
   "metadata": {},
   "source": [
    "컴퓨터에 의해 실행될 수 있는 문장을 **명령문**이라 부른다.\n",
    "프로그래밍 언어에 따라 명령문 작성 규칙이 정해져 있다.\n",
    "명령문들을 규칙에 맞게 적절히 구상하여 원하는 프로그램을 구현한다.\n",
    "\n",
    "명령문은 기본 명령문들을 조합해서 생성된다.\n",
    "지금까지 살펴본 기본 명령문들은 다음과 같다.\n",
    "\n",
    "* 변수 할당\n",
    "* `print`\n",
    "* 조건 제어문\n",
    "* `while` 반복문\n",
    "\n",
    "위 명령문들만을 이용하여 숫자맞히기 게임을 구현하였다.\n",
    "\n",
    "```python\n",
    "print(\"숫자맞추기 게임에 환영합니다.\")\n",
    "\n",
    "secret = 9\n",
    "guess = -1\n",
    "\n",
    "while guess != secret:\n",
    "    guess = int(input(\"0부터 20 사이의 숫자 하나를 입력하세요: \"))\n",
    "    if guess == secret:\n",
    "        print(\"맞았습니다!\")\n",
    "    elif guess > secret:\n",
    "        print(\"너무 커요!\")\n",
    "    else:\n",
    "        print(\"너무 작아요!\")\n",
    "\n",
    "print(\"게임 종료!\")\n",
    "```"
   ]
  },
  {
   "cell_type": "markdown",
   "metadata": {},
   "source": [
    "## 튜링 기계"
   ]
  },
  {
   "cell_type": "markdown",
   "metadata": {},
   "source": [
    "**튜링기계**(Turing machine)는 계산을 기계적으로 다루기 위한 수학적 모형의 일종이며,\n",
    "1936년에 튜링(A. Turing)이 고안한 가상장치이다. \n",
    "튜링기계에 대한 자세한 소개는 [위키피디아: 튜링기계](https://ko.wikipedia.org/wiki/튜링_기계)를 \n",
    "참조하기 바란다."
   ]
  },
  {
   "cell_type": "markdown",
   "metadata": {},
   "source": [
    "### 튜링 완전성과 처치-튜링 테제"
   ]
  },
  {
   "cell_type": "markdown",
   "metadata": {},
   "source": [
    "앞서 언급된 기본 명령문들만으로도 파이썬 프로그래밍 언어가 충분히 강력하다.\n",
    "여기서 충분하다는 의미는 기존에 알려진 가장 강력한 프로그래밍 언어와 동급이란 의미이다.\n",
    "보다 전문적으로 **튜링 완전**(Turing complete)하다라고 말하며,\n",
    "이는 튜링기계와 원칙적으로 동일한 성능을 갖는다 것을 의미한다.\n",
    "\n",
    "`for` 반복문 등과 같은 다른 기본 명령문들이 있다. \n",
    "하지만 프로그래밍의 편의성을 높이는 데에 유용하지만 이론적으로 더 강력한\n",
    "프로그래밍 언어를 만들지는 못한다.\n",
    "즉, 튜링 완전성을 벗어나지는 못한다.\n",
    "\n",
    "어떤 프로그래밍 언어도 튜링 완전성 이상의 성능을 내지 못한다는 주장이 있다.\n",
    "즉, 미래의 어떤 컴퓨터도 튜링 완전성을 뛰어 넘지 못할 것이다 라는 주장이며\n",
    "이를 처치-튜링 테제(Church-Turing thesis)라고 부른다.\n",
    "처치-튜링 테제는 하나의 주장이다. \n",
    "왜냐하면 미리애 어떤 종류의 컴퓨터가 출현할지 모르기 때문이다.\n",
    "하지만 현 시점까지는 튜링 완전성을 뛰어 넘는 컴퓨터나 프로그래밍 언어는 \n",
    "존재하지 않았다."
   ]
  },
  {
   "cell_type": "markdown",
   "metadata": {},
   "source": [
    "### 정지문제"
   ]
  },
  {
   "cell_type": "markdown",
   "metadata": {},
   "source": [
    "앞서 언급한 튜링 완전성은 약간 오해의 소지가 있다.\n",
    "왜냐하면 튜링기계가 완전하다, 즉, 모든 문제를 해결할 수 있다라는 생각을 하게 만들기 때문이다.\n",
    "하지만 튜링 완전성은 다른 기계 또는 프로그래밍 언어가 튜링 기계와 이론적으로 동일한 능력을 보유한다라는 \n",
    "의미이지, 튜링기계가 완전하다는 의미가 아니다.\n",
    "\n",
    "실제로 튜링기계는 완전하지 않으며, 튜링기계의 불완전성은 튜링 자신이 소위 \n",
    "**정지문제**(halting problem)로 알려진 문제의 답을 내려는 시도 과정에서 증명하였다.\n",
    "정지문제에 대한 쉽고 재밌는 설명은 한글자막이 지원되는 유튜브 동영상\n",
    "[컴퓨터가 모든 것을 해결할 수 없다는 증명 (정지 문제)](https://www.youtube.com/watch?time_continue=308&v=92WHN-pAFCs&feature=emb_logo)에서\n",
    "들을 수 있다."
   ]
  },
  {
   "cell_type": "markdown",
   "metadata": {},
   "source": [
    "## 주석"
   ]
  },
  {
   "cell_type": "markdown",
   "metadata": {},
   "source": [
    "프로그램 코드 중간중간에 사용된 명령문과 관련된 설명을 적어 놓으면 코드를 보다 쉽게 이해할 수 있게 된다.\n",
    "이와 같이 코드의 실행과 무관한 설명 문장을 **주석**(comment)이라 부르며,\n",
    "코드가 실행될 때 파이썬 해석기에 의해 무시된다.\n",
    "\n",
    "* 한 줄 주석: 우물 정 또는 영어로 샵(sharp)이라 불리는 기호(`#`, 샵)로 시작하며\n",
    "    `#` 이후의 문장은 실행과정에서 무시된다."
   ]
  },
  {
   "cell_type": "code",
   "execution_count": 37,
   "metadata": {},
   "outputs": [],
   "source": [
    "# speed는 시속을 가리키는 변수이다.\n",
    "\n",
    "speed = 90 # 속도 단위는 km이다."
   ]
  },
  {
   "cell_type": "markdown",
   "metadata": {},
   "source": [
    "* 여러 줄 주석: 작은 따옴표 세 개(`'''`)로 감싼다."
   ]
  },
  {
   "cell_type": "code",
   "execution_count": 36,
   "metadata": {},
   "outputs": [
    {
     "name": "stdout",
     "output_type": "stream",
     "text": [
      "0\n",
      "1\n"
     ]
    }
   ],
   "source": [
    "print(0)\n",
    "'''\n",
    "여러 줄 주석은\n",
    "이렇게 사용합니다.\n",
    "'''\n",
    "print(1)"
   ]
  },
  {
   "cell_type": "markdown",
   "metadata": {},
   "source": [
    "## 프로그램 오류와 디버깅"
   ]
  },
  {
   "cell_type": "markdown",
   "metadata": {},
   "source": [
    "변수 이름으로 `class` 등의 지정어를 사용하거나, `odd~job` 나 `US$`처럼 \n",
    "허용되지 않은 문자나 기호를 포함하는 경우에 파이썬 해석기는 오류를 발생시키며 프로그램의 실행을 멈춘다.\n",
    "예를 들어, 아래와 같이 변수 이름에 공백을 사용하여 실행한 결과를 확인해 보자."
   ]
  },
  {
   "cell_type": "code",
   "execution_count": 38,
   "metadata": {},
   "outputs": [
    {
     "ename": "SyntaxError",
     "evalue": "invalid syntax (<ipython-input-38-67877bfd5d2a>, line 1)",
     "output_type": "error",
     "traceback": [
      "\u001b[0;36m  File \u001b[0;32m\"<ipython-input-38-67877bfd5d2a>\"\u001b[0;36m, line \u001b[0;32m1\u001b[0m\n\u001b[0;31m    bad name = 5\u001b[0m\n\u001b[0m           ^\u001b[0m\n\u001b[0;31mSyntaxError\u001b[0m\u001b[0;31m:\u001b[0m invalid syntax\n"
     ]
    }
   ],
   "source": [
    " bad name = 5"
   ]
  },
  {
   "cell_type": "markdown",
   "metadata": {},
   "source": [
    "이와 같이 오류가 발생하면 오류의 원인을 찾아 해결해야 한다.\n",
    "이렇게 프로그램의 오류를 찾아 해결하는 과정을 **디버깅**(debugging)이라 부른다.\n",
    "\n",
    "프로그램의 오류는 크게 세 가지 유형이 있다."
   ]
  },
  {
   "cell_type": "markdown",
   "metadata": {},
   "source": [
    "### 구문 오류"
   ]
  },
  {
   "cell_type": "markdown",
   "metadata": {},
   "source": [
    "변수 이름을 잘못 지정하는 경우 위와 같이 구문 오류(`SyntaxError: invalid syntax`)가 발생한다.\n",
    "구문 오류는 해석기가 프로그램을 실행하기 전에 일종의 문법 검사를 통해 찾아낸다."
   ]
  },
  {
   "cell_type": "markdown",
   "metadata": {},
   "source": [
    "### 런타임 오류\n",
    "\n",
    "런타임 오류는 구문 오류를 포함하지 않는 프로그램이 실행되는 과정에서 발생하는 오류이다.\n",
    "런타임 오류는 다양한 경우에 발생한다.\n",
    "여기서는 두 가지 경우를 살펴본다."
   ]
  },
  {
   "cell_type": "markdown",
   "metadata": {},
   "source": [
    "#### 0으로 나누기 오류(ZeroDivisionError)\n",
    "\n",
    "런타임 에러의 또다는 대표적인 예는 0으로 나누기이다."
   ]
  },
  {
   "cell_type": "code",
   "execution_count": 41,
   "metadata": {},
   "outputs": [
    {
     "ename": "ZeroDivisionError",
     "evalue": "division by zero",
     "output_type": "error",
     "traceback": [
      "\u001b[0;31m---------------------------------------------------------------------------\u001b[0m",
      "\u001b[0;31mZeroDivisionError\u001b[0m                         Traceback (most recent call last)",
      "\u001b[0;32m<ipython-input-41-3df8eca315da>\u001b[0m in \u001b[0;36m<module>\u001b[0;34m\u001b[0m\n\u001b[1;32m      1\u001b[0m \u001b[0mnum\u001b[0m \u001b[0;34m=\u001b[0m \u001b[0;36m0\u001b[0m\u001b[0;34m\u001b[0m\u001b[0;34m\u001b[0m\u001b[0m\n\u001b[0;32m----> 2\u001b[0;31m \u001b[0mprint\u001b[0m\u001b[0;34m(\u001b[0m\u001b[0;36m3\u001b[0m\u001b[0;34m/\u001b[0m\u001b[0mnum\u001b[0m\u001b[0;34m)\u001b[0m\u001b[0;34m\u001b[0m\u001b[0;34m\u001b[0m\u001b[0m\n\u001b[0m",
      "\u001b[0;31mZeroDivisionError\u001b[0m: division by zero"
     ]
    }
   ],
   "source": [
    "num = 0\n",
    "print(3/num)"
   ]
  },
  {
   "cell_type": "markdown",
   "metadata": {},
   "source": [
    "`ZeroDivisionError` 라고 표시되는데,\n",
    "이는 0으로 나눗셈을 시도하는 경우 발생한다. \n",
    "`num` 변수가 가리키는 값과 3 모두 정수이고,\n",
    "나눗셈 연산자는 정수들을 대상으로 작동하도록 정의되었기 때문에\n",
    "`0/num`은 문법적으로 전혀 문제가 없다.\n",
    "하지만 실제로 실행을 하다보면 `num`에 할당된 값이 0이라는 것으로 확인되어\n",
    "오류를 발생시키는 것이다."
   ]
  },
  {
   "cell_type": "markdown",
   "metadata": {},
   "source": [
    "#### 이름 오류(NameError)\n",
    "\n",
    "예를 들어 아래 코드에는 문법적인 오류가 없다.\n",
    "하지만 실행을 하면 'a_number' 라는 이름이 선언되어 있지 없기 때문에 문제가 발생한다."
   ]
  },
  {
   "cell_type": "code",
   "execution_count": 42,
   "metadata": {},
   "outputs": [
    {
     "ename": "NameError",
     "evalue": "name 'a_number' is not defined",
     "output_type": "error",
     "traceback": [
      "\u001b[0;31m---------------------------------------------------------------------------\u001b[0m",
      "\u001b[0;31mNameError\u001b[0m                                 Traceback (most recent call last)",
      "\u001b[0;32m<ipython-input-42-d991d12a2fd0>\u001b[0m in \u001b[0;36m<module>\u001b[0;34m\u001b[0m\n\u001b[1;32m      1\u001b[0m \u001b[0ma_Number\u001b[0m \u001b[0;34m=\u001b[0m \u001b[0;36m327.68\u001b[0m\u001b[0;34m\u001b[0m\u001b[0;34m\u001b[0m\u001b[0m\n\u001b[0;32m----> 2\u001b[0;31m \u001b[0mb\u001b[0m \u001b[0;34m=\u001b[0m \u001b[0ma_number\u001b[0m \u001b[0;34m*\u001b[0m \u001b[0;36m3\u001b[0m\u001b[0;34m\u001b[0m\u001b[0;34m\u001b[0m\u001b[0m\n\u001b[0m",
      "\u001b[0;31mNameError\u001b[0m: name 'a_number' is not defined"
     ]
    }
   ],
   "source": [
    "a_Number = 327.68\n",
    "b = a_number * 3"
   ]
  },
  {
   "cell_type": "markdown",
   "metadata": {},
   "source": [
    "자세히 살펴보면 'a_number'와 'a_Number' 둘 중에 하나는 오타임을 알 수 있다."
   ]
  },
  {
   "cell_type": "markdown",
   "metadata": {},
   "source": [
    "## 연습문제"
   ]
  },
  {
   "cell_type": "markdown",
   "metadata": {},
   "source": [
    "1. 아래 명령문들을 실행하였을 때 무슨 일이 발생하는지를 확인하라.\n",
    "\n",
    "```python\n",
    "print(\"Hello World\"\n",
    "print(\"Hello World)\n",
    "print('Hello World\")\n",
    "print(+2)\n",
    "print(2++2)\n",
    "print(023)\n",
    "print(21 8)\n",
    "```\n",
    "\n",
    "1. 변수 선언과 할당 관련 주의해야할 점들을 다룬다.\n",
    "    아래 명령문들을 실행하였을 때 무슨 일이 발생하는지를 확인하라.\n",
    "\n",
    "```python\n",
    "23 = n\n",
    "x = y = 1\n",
    "x = 2;\n",
    "y = x + 1.\n",
    "z = x y\n",
    "```\n",
    "\n",
    "1. 아래와 같이 변수들이 선언 및 할당되었다고 가정하자.\n",
    "    ```python\n",
    "    width = 17\n",
    "    height = 12.0\n",
    "    delimiter = '.'\n",
    "    ```\n",
    "    다음에 오는 각각의 표현식들에 대해, 표현식의 값과 (표현식의 값이 갖는) 자료형을 확인해본다.\n",
    "    ```python\n",
    "    width//2\n",
    "    width/2\n",
    "    width/2.0\n",
    "    height/3\n",
    "    1 + 2 * 5\n",
    "    delimiter * 5\n",
    "    ```\n",
    "1. 파이썬을 계산기로 사용하는 연습이다.\n",
    "    1. 반지름이 r인 구의 부피는 $\\frac{4}{3} π r^3$ 이다. 반지름이 5인 구의 부피는 얼마인가? \n",
    "        (힌트: 392.7은 아니다.)\n",
    "    1. 책의 정가는 권당 $24,950$원이지만, 각 권당 $10\\%$ 의 할인을 받는다고 가정하자.\n",
    "        첫 한 권의 운송료는 $2,000$원 이고, 두 권째 부터는 권당 500원을 추가로 내야 한다.\n",
    "        60권을 사서 배송을 받고자 하면 얼마를 지불해야 하는가?\n",
    "    1. 오전 6:52 에 집을 떠나서, 가볍게 (km당 8분 15초 소요) 1km을 뛰고, \n",
    "        이어서 좀 빠르게 (km당 7분 12초 소요) 3km를 뛴 후, 다시 가볍게 1km를 마저 달린다면, \n",
    "        아침 식사를 위해 집에 돌아오는 시간은 언제인가?\n",
    "    1. 만약 10 킬로미터를 43분 30초 만에 달렸다면, 마일당 소요 시간은 얼마인가? \n",
    "        시간당 마일로 계산한 평균 속도는 얼마인가? \n",
    "        (__힌트:__ 1마일은 1.61 킬로미터로 계산한다.)\n",
    "        <br><br>\n",
    "1. `print` 함수의 성질을 조사한다. \n",
    "    즉, `print` 함수가 받아들일 수 있는 인자와 리턴값에 대해 알아본다.\n",
    "    설명을 예를 들면서 하면 더욱 좋다.\n",
    "    <br>\n",
    "    __참고:__ `help(print)` 명령문을 실행하면 `print` 함수에 대한 기초정보를 확인할 수 있다."
   ]
  }
 ],
 "metadata": {
  "kernelspec": {
   "display_name": "Python 3",
   "language": "python",
   "name": "python3"
  },
  "language_info": {
   "codemirror_mode": {
    "name": "ipython",
    "version": 3
   },
   "file_extension": ".py",
   "mimetype": "text/x-python",
   "name": "python",
   "nbconvert_exporter": "python",
   "pygments_lexer": "ipython3",
   "version": "3.6.8"
  }
 },
 "nbformat": 4,
 "nbformat_minor": 2
}
