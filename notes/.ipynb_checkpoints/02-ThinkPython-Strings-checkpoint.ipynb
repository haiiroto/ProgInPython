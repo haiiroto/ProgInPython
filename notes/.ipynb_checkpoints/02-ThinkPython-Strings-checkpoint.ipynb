{
 "cells": [
  {
   "cell_type": "markdown",
   "metadata": {},
   "source": [
    "# 문자열 자료형"
   ]
  },
  {
   "cell_type": "markdown",
   "metadata": {},
   "source": [
    "주의: [Think Python](http://greenteapress.com/thinkpython2/html/thinkpython2009.html) 내용을 번역 및 요약수정한 내용입니다."
   ]
  },
  {
   "cell_type": "markdown",
   "metadata": {},
   "source": [
    "## 주요 내용\n",
    "* 문자열 다루기\n",
    "* 문자열 관련 메소드 활용"
   ]
  },
  {
   "cell_type": "markdown",
   "metadata": {},
   "source": [
    "## 문자열이란?\n",
    "\n",
    "문자열은 문자들의 나열(시퀀스, sequence)이다. "
   ]
  },
  {
   "cell_type": "markdown",
   "metadata": {},
   "source": [
    "문자열에 포함된 항목에 접근하기 위해서 대괄호(`[]`)를 이용한다."
   ]
  },
  {
   "cell_type": "code",
   "execution_count": 47,
   "metadata": {
    "collapsed": true
   },
   "outputs": [],
   "source": [
    "fruit = 'banana'\n",
    "letter = fruit[1]"
   ]
  },
  {
   "cell_type": "markdown",
   "metadata": {},
   "source": [
    "둘째 변수 할당 명령문에서 `fruit` 문자열의 1번 색인에 해당하는 문자를 선택해서 `letter` 변수에 할당한다.\n",
    "대괄호 안의 표현식을 __색인(인덱스, index)__라 부른다. \n",
    "그런데 색인은 0부터 시작하는 자연수로 왼쪽 문자부터 번호를 붙혀서 사용한다.\n",
    "따라서 1번 색인 문자열은 'b'가 아니라 'a'가 된다."
   ]
  },
  {
   "cell_type": "code",
   "execution_count": 48,
   "metadata": {},
   "outputs": [
    {
     "name": "stdout",
     "output_type": "stream",
     "text": [
      "a\n"
     ]
    }
   ],
   "source": [
    "print(letter)"
   ]
  },
  {
   "cell_type": "markdown",
   "metadata": {},
   "source": [
    "즉, `b`는 `banana`의 0번 문자, `a`는 1번 문자, `n`은 2번 문자가 된다. \n",
    "\n",
    "__주의:__ \n",
    "* 색인은 0부터 시작한다. \n",
    "* 색인은 문자열의 처음부터 몇 번째에 위치하는가를 나타내는 __오프셋(offset)__ 개념과 동일하다.\n",
    "* 색인으로 정수만 사용하며 다른 경우엔 오류가 발생한다. "
   ]
  },
  {
   "cell_type": "code",
   "execution_count": 49,
   "metadata": {},
   "outputs": [
    {
     "ename": "TypeError",
     "evalue": "string indices must be integers",
     "output_type": "error",
     "traceback": [
      "\u001b[0;31m---------------------------------------------------------------------------\u001b[0m",
      "\u001b[0;31mTypeError\u001b[0m                                 Traceback (most recent call last)",
      "\u001b[0;32m<ipython-input-49-2bd018f0559d>\u001b[0m in \u001b[0;36m<module>\u001b[0;34m()\u001b[0m\n\u001b[0;32m----> 1\u001b[0;31m \u001b[0mletter\u001b[0m \u001b[0;34m=\u001b[0m \u001b[0mfruit\u001b[0m\u001b[0;34m[\u001b[0m\u001b[0;36m1.5\u001b[0m\u001b[0;34m]\u001b[0m\u001b[0;34m\u001b[0m\u001b[0m\n\u001b[0m",
      "\u001b[0;31mTypeError\u001b[0m: string indices must be integers"
     ]
    }
   ],
   "source": [
    "letter = fruit[1.5]"
   ]
  },
  {
   "cell_type": "markdown",
   "metadata": {},
   "source": [
    "물론 정수를 할당 받은 변수를 색인으로 사용해도 된다."
   ]
  },
  {
   "cell_type": "code",
   "execution_count": 50,
   "metadata": {},
   "outputs": [
    {
     "data": {
      "text/plain": [
       "'a'"
      ]
     },
     "execution_count": 50,
     "metadata": {},
     "output_type": "execute_result"
    }
   ],
   "source": [
    "i = 1\n",
    "fruit[i]"
   ]
  },
  {
   "cell_type": "code",
   "execution_count": 51,
   "metadata": {},
   "outputs": [
    {
     "data": {
      "text/plain": [
       "'n'"
      ]
     },
     "execution_count": 51,
     "metadata": {},
     "output_type": "execute_result"
    }
   ],
   "source": [
    "fruit[i+1]"
   ]
  },
  {
   "cell_type": "markdown",
   "metadata": {},
   "source": [
    "## `len` 함수\n",
    "\n",
    "`len` 함수는 문자열에 포함된 문자의 개수를 알아내어 되돌려준다."
   ]
  },
  {
   "cell_type": "code",
   "execution_count": 6,
   "metadata": {},
   "outputs": [
    {
     "data": {
      "text/plain": [
       "6"
      ]
     },
     "execution_count": 6,
     "metadata": {},
     "output_type": "execute_result"
    }
   ],
   "source": [
    "fruit = 'banana'\n",
    "len(fruit)"
   ]
  },
  {
   "cell_type": "markdown",
   "metadata": {},
   "source": [
    "__주의:__\n",
    "* `len` 함수는 문자열 이외에 리스트, 튜플 등 다른 자료형도 인자로 받을 수 있다.\n",
    "* 즉, 여러 값을 동시에 들고 다니는 컨테이너 자료형에도 사용된 값들의 개수를 계산하는 데에 사용된다.\n",
    "* 이후에 좀 더 다룰 것이다.\n",
    "\n",
    "* 색인이 0부터 시작하기 때문에 문자열에 포함된 마지막 문자를 가리키는 색인은 \n",
    "`len` 함수가 되돌려 주는 값보다 1이 작아야 한다."
   ]
  },
  {
   "cell_type": "code",
   "execution_count": 52,
   "metadata": {},
   "outputs": [
    {
     "ename": "IndexError",
     "evalue": "string index out of range",
     "output_type": "error",
     "traceback": [
      "\u001b[0;31m---------------------------------------------------------------------------\u001b[0m",
      "\u001b[0;31mIndexError\u001b[0m                                Traceback (most recent call last)",
      "\u001b[0;32m<ipython-input-52-15d81308bbc3>\u001b[0m in \u001b[0;36m<module>\u001b[0;34m()\u001b[0m\n\u001b[1;32m      1\u001b[0m \u001b[0mlength\u001b[0m \u001b[0;34m=\u001b[0m \u001b[0mlen\u001b[0m\u001b[0;34m(\u001b[0m\u001b[0mfruit\u001b[0m\u001b[0;34m)\u001b[0m\u001b[0;34m\u001b[0m\u001b[0m\n\u001b[0;32m----> 2\u001b[0;31m \u001b[0mlast\u001b[0m \u001b[0;34m=\u001b[0m \u001b[0mfruit\u001b[0m\u001b[0;34m[\u001b[0m\u001b[0mlength\u001b[0m\u001b[0;34m]\u001b[0m\u001b[0;34m\u001b[0m\u001b[0m\n\u001b[0m",
      "\u001b[0;31mIndexError\u001b[0m: string index out of range"
     ]
    }
   ],
   "source": [
    "length = len(fruit)\n",
    "last = fruit[length]"
   ]
  },
  {
   "cell_type": "markdown",
   "metadata": {},
   "source": [
    "색인 오류(`IndexError`)가 발생하는 이유는 ’banana’의 길이가 6이지만 마지막 문자의 색인은 5이기 때문이다. \n",
    "따라서 아래와 같이 실행하면 마지막 문자를 얻을 수 있다."
   ]
  },
  {
   "cell_type": "code",
   "execution_count": 55,
   "metadata": {},
   "outputs": [
    {
     "name": "stdout",
     "output_type": "stream",
     "text": [
      "a\n"
     ]
    }
   ],
   "source": [
    "length = len(fruit)\n",
    "last = fruit[length-1]\n",
    "print(last)"
   ]
  },
  {
   "cell_type": "markdown",
   "metadata": {},
   "source": [
    "### 거꾸로 세는 색인\n",
    "\n",
    "마지막 문자열부터 색인을 정할 수 있으며, -1, -2, -3 등등으로 사용한다. \n",
    "따라서 `fruit[-1]` 표현식은 마지막 문자를, `fruit[-2]`는 끝에서 두 번째 문자를 추출한다."
   ]
  },
  {
   "cell_type": "code",
   "execution_count": 56,
   "metadata": {},
   "outputs": [
    {
     "data": {
      "text/plain": [
       "'a'"
      ]
     },
     "execution_count": 56,
     "metadata": {},
     "output_type": "execute_result"
    }
   ],
   "source": [
    "fruit[-1]"
   ]
  },
  {
   "cell_type": "code",
   "execution_count": 58,
   "metadata": {},
   "outputs": [
    {
     "data": {
      "text/plain": [
       "'n'"
      ]
     },
     "execution_count": 58,
     "metadata": {},
     "output_type": "execute_result"
    }
   ],
   "source": [
    "fruit[-2]"
   ]
  },
  {
   "cell_type": "markdown",
   "metadata": {},
   "source": [
    "## 문자열과 반복 명령문\n",
    "\n",
    "반복 명령문은 프로그래밍의 주요 요소 중의 하나이며, \n",
    "특히 문자열을 이용한 반복 명령문이 자주 활용된다. "
   ]
  },
  {
   "cell_type": "markdown",
   "metadata": {},
   "source": [
    "### 색인과 `while` 반복 명령문\n",
    "\n",
    "아래 예제는 문자열의 길이 정보를 활용하여 문자열에 사용된 항목들을 하나씩 차례대로 추출하는 코드이다. "
   ]
  },
  {
   "cell_type": "code",
   "execution_count": 59,
   "metadata": {},
   "outputs": [
    {
     "name": "stdout",
     "output_type": "stream",
     "text": [
      "b\n",
      "a\n",
      "n\n",
      "a\n",
      "n\n",
      "a\n"
     ]
    }
   ],
   "source": [
    "index = 0\n",
    "while index < len(fruit):\n",
    "    letter = fruit[index]\n",
    "    print(letter)\n",
    "    index = index + 1"
   ]
  },
  {
   "cell_type": "markdown",
   "metadata": {},
   "source": [
    "위 코드 설명:\n",
    "* `while` 반복의 조건인 `index < len(fruit)`가 거짓이 될 때까지 `index`의 값이 0, 1, 2 등으로 변한다.\n",
    "* `index`에 할당된 값이 `len(fruit)`인 6이 되는 순간에 `while` 반복을 멈춘다.\n",
    "* `index`가 0, 1, ..., 5의 값을 가지면 해당 색인이 가리키는 위치의 문자를 출력한다. "
   ]
  },
  {
   "cell_type": "markdown",
   "metadata": {},
   "source": [
    "#### 예제\n",
    "\n",
    "문자열을 인자로 받아서 한 줄에 하나씩 문자를 역순으로 인쇄하는 함수를 아래와 같이 작성할 수 있다."
   ]
  },
  {
   "cell_type": "code",
   "execution_count": 63,
   "metadata": {},
   "outputs": [],
   "source": [
    "def reverse_str(s):\n",
    "    index = 1\n",
    "    while index < len(s) + 1:\n",
    "        letter = fruit[-index]\n",
    "        print(letter)\n",
    "        index = index + 1"
   ]
  },
  {
   "cell_type": "markdown",
   "metadata": {},
   "source": [
    "이제 `fruit` 변수에 할당된 문자열을 역순으로 출력하기 위해 `reverse_str` 함수를 호출하면 된다."
   ]
  },
  {
   "cell_type": "code",
   "execution_count": 64,
   "metadata": {},
   "outputs": [
    {
     "name": "stdout",
     "output_type": "stream",
     "text": [
      "a\n",
      "n\n",
      "a\n",
      "n\n",
      "a\n",
      "b\n"
     ]
    }
   ],
   "source": [
    "reverse_str(fruit)"
   ]
  },
  {
   "cell_type": "markdown",
   "metadata": {},
   "source": [
    "### 문자열과 `for` 반복 명령문"
   ]
  },
  {
   "cell_type": "markdown",
   "metadata": {},
   "source": [
    "문자열의 각 항목을 탐색하면서 특정 일을 반복적으로 하는 명령문을 만들 수 있으며,\n",
    "이를 위해 `for` 반복 명령문을 활용한다.\n",
    "예를 들어, 아래 코드는 `fruit`에 할당된 문자열의 각 항목을 차례대로 출력한다."
   ]
  },
  {
   "cell_type": "code",
   "execution_count": 65,
   "metadata": {},
   "outputs": [
    {
     "name": "stdout",
     "output_type": "stream",
     "text": [
      "b\n",
      "a\n",
      "n\n",
      "a\n",
      "n\n",
      "a\n"
     ]
    }
   ],
   "source": [
    "for char in fruit:\n",
    "    print(char)"
   ]
  },
  {
   "cell_type": "markdown",
   "metadata": {},
   "source": [
    "위 코드 설명:\n",
    "* `car` 변수에 `b`, `a`, `n`, `a`, `n`, `a` 의 문자가 순서대로 할당된다.\n",
    "* 반복은 `car` 변수에 더 이상 할당한 문자가 없을 때까지 진행된다."
   ]
  },
  {
   "cell_type": "markdown",
   "metadata": {},
   "source": [
    "#### 예제\n",
    "\n",
    "* `for` 반복 명령문을 활용하여 특정 단어들을 생성하는 예제이다. \n",
    "* `JKLMNOPQ`에 포함된 문자를 하나씩 꺼내어 `ack`라는 문자열의 맨 앞에 붙힌 단어들을 생성한다. "
   ]
  },
  {
   "cell_type": "code",
   "execution_count": 66,
   "metadata": {},
   "outputs": [
    {
     "name": "stdout",
     "output_type": "stream",
     "text": [
      "Jack\n",
      "Kack\n",
      "Lack\n",
      "Mack\n",
      "Nack\n",
      "Oack\n",
      "Pack\n",
      "Qack\n"
     ]
    }
   ],
   "source": [
    "prefixes = 'JKLMNOPQ'\n",
    "suffix = 'ack'\n",
    "\n",
    "for letter in prefixes:\n",
    "    print(letter + suffix)"
   ]
  },
  {
   "cell_type": "markdown",
   "metadata": {},
   "source": [
    "#### 연습\n",
    "\n",
    "위 코드를 수정하여 `Qack` 대신에 `Quack`가 출력되도록 하라.\n",
    "\n",
    "__힌트:__ `if ... else ...` 명령문을 활용할 수 있다."
   ]
  },
  {
   "cell_type": "markdown",
   "metadata": {},
   "source": [
    "## 문자열 슬라이싱\n",
    "\n",
    "문자열의 일부분을 __슬라이스(slice)__, 슬라이스를 선택하는 방법을 __슬라이싱(slicing)__이라 부른다.\n",
    "슬라이싱은 해당 슬라이스의 처음 문자와 끝문자의 색인을 이용한다.\n",
    "\n",
    "예를 들어, `\"파이썬이 너무 좋다\"`라는 문자열에서 `\"파이썬이\"`를 추출하려면 \n",
    "0번 색인부터 4번 색인까지의 문자를 추출하면 된다."
   ]
  },
  {
   "cell_type": "code",
   "execution_count": 72,
   "metadata": {},
   "outputs": [
    {
     "name": "stdout",
     "output_type": "stream",
     "text": [
      "파이썬이 \n"
     ]
    }
   ],
   "source": [
    "like_python = '파이썬이 너무 좋다'\n",
    "print(like_python[0:5])"
   ]
  },
  {
   "cell_type": "markdown",
   "metadata": {},
   "source": [
    "__주의사항:__\n",
    "* `like_python[0:4]` 가 아님에 주의한다.\n",
    "* 슬라이싱의 구간을 적을 때 끝나는 색인은 마지막 문자의 색인보다 1이 큰 숫자를 사용한다."
   ]
  },
  {
   "cell_type": "markdown",
   "metadata": {},
   "source": [
    "#### 예제"
   ]
  },
  {
   "cell_type": "code",
   "execution_count": 73,
   "metadata": {},
   "outputs": [
    {
     "name": "stdout",
     "output_type": "stream",
     "text": [
      "Monty\n"
     ]
    }
   ],
   "source": [
    "s = 'Monty Python'\n",
    "print(s[0:5])"
   ]
  },
  {
   "cell_type": "code",
   "execution_count": 74,
   "metadata": {},
   "outputs": [
    {
     "name": "stdout",
     "output_type": "stream",
     "text": [
      "Python\n"
     ]
    }
   ],
   "source": [
    "print(s[6:12])"
   ]
  },
  {
   "cell_type": "markdown",
   "metadata": {},
   "source": [
    "콜론(`:`) 앞에 있는 첫째 색인을 생략하면, 슬라이스는 문자열의 처음부터 시작한다. "
   ]
  },
  {
   "cell_type": "code",
   "execution_count": 13,
   "metadata": {},
   "outputs": [
    {
     "data": {
      "text/plain": [
       "'ban'"
      ]
     },
     "execution_count": 13,
     "metadata": {},
     "output_type": "execute_result"
    }
   ],
   "source": [
    "fruit = 'banana'\n",
    "fruit[:3]"
   ]
  },
  {
   "cell_type": "markdown",
   "metadata": {},
   "source": [
    "즉, `fruit[:3]`과 `fruit[0:3]`은 동일하다."
   ]
  },
  {
   "cell_type": "code",
   "execution_count": 76,
   "metadata": {},
   "outputs": [
    {
     "data": {
      "text/plain": [
       "True"
      ]
     },
     "execution_count": 76,
     "metadata": {},
     "output_type": "execute_result"
    }
   ],
   "source": [
    "fruit[:3] == fruit[0:3]"
   ]
  },
  {
   "cell_type": "markdown",
   "metadata": {},
   "source": [
    "반면에 콜론(`:`) 뒤에 있는 둘째 색인을 생략하면, 슬라이스는 문자열의 끝까지를 의미한다."
   ]
  },
  {
   "cell_type": "code",
   "execution_count": 77,
   "metadata": {},
   "outputs": [
    {
     "data": {
      "text/plain": [
       "'ana'"
      ]
     },
     "execution_count": 77,
     "metadata": {},
     "output_type": "execute_result"
    }
   ],
   "source": [
    "fruit[3:]"
   ]
  },
  {
   "cell_type": "markdown",
   "metadata": {},
   "source": [
    "즉, `fruit[3:]`과 `fruit[3:len(fruit)]`은 동일하다."
   ]
  },
  {
   "cell_type": "code",
   "execution_count": 80,
   "metadata": {},
   "outputs": [
    {
     "data": {
      "text/plain": [
       "True"
      ]
     },
     "execution_count": 80,
     "metadata": {},
     "output_type": "execute_result"
    }
   ],
   "source": [
    "fruit[3:] == fruit[3:len(fruit)]"
   ]
  },
  {
   "cell_type": "markdown",
   "metadata": {},
   "source": [
    "첫 번째 지수가 두 번째보다 크거나 같으면 결과는 빈 문자열(`''`)이 슬라이싱 된다."
   ]
  },
  {
   "cell_type": "code",
   "execution_count": 81,
   "metadata": {},
   "outputs": [
    {
     "data": {
      "text/plain": [
       "''"
      ]
     },
     "execution_count": 81,
     "metadata": {},
     "output_type": "execute_result"
    }
   ],
   "source": [
    "fruit = 'banana'\n",
    "fruit[3:3]"
   ]
  },
  {
   "cell_type": "markdown",
   "metadata": {},
   "source": [
    "__주의:__ 빈 문자열(`''`)은 문자를 포함하지 않고 길이가 0인 특수한 문자열이다."
   ]
  },
  {
   "cell_type": "markdown",
   "metadata": {},
   "source": [
    "#### 연습\n",
    "\n",
    "`fruit[:]`는 어떤 의미의 슬라이싱인가?"
   ]
  },
  {
   "cell_type": "markdown",
   "metadata": {},
   "source": [
    "## 수정이 불가능한 문자열\n",
    "\n",
    "인덱싱을 이용하여 기존의 문자열을 수정하려 시도하면 오류가 발생한다.\n",
    "\n",
    "아래 예제는, `greeting` 이라는 변수에 할당된 `Hello, world!` 문자열의 맨 첫문자인\n",
    "`H`를 `J`로 교체하고자 하면서 발생하는 오류를 보여준다."
   ]
  },
  {
   "cell_type": "code",
   "execution_count": 82,
   "metadata": {},
   "outputs": [
    {
     "ename": "TypeError",
     "evalue": "'str' object does not support item assignment",
     "output_type": "error",
     "traceback": [
      "\u001b[0;31m---------------------------------------------------------------------------\u001b[0m",
      "\u001b[0;31mTypeError\u001b[0m                                 Traceback (most recent call last)",
      "\u001b[0;32m<ipython-input-82-230884f26c44>\u001b[0m in \u001b[0;36m<module>\u001b[0;34m()\u001b[0m\n\u001b[1;32m      1\u001b[0m \u001b[0mgreeting\u001b[0m \u001b[0;34m=\u001b[0m \u001b[0;34m'Hello, world!'\u001b[0m\u001b[0;34m\u001b[0m\u001b[0m\n\u001b[0;32m----> 2\u001b[0;31m \u001b[0mgreeting\u001b[0m\u001b[0;34m[\u001b[0m\u001b[0;36m0\u001b[0m\u001b[0;34m]\u001b[0m \u001b[0;34m=\u001b[0m \u001b[0;34m'J'\u001b[0m\u001b[0;34m\u001b[0m\u001b[0m\n\u001b[0m",
      "\u001b[0;31mTypeError\u001b[0m: 'str' object does not support item assignment"
     ]
    }
   ],
   "source": [
    "greeting = 'Hello, world!'\n",
    "greeting[0] = 'J'"
   ]
  },
  {
   "cell_type": "markdown",
   "metadata": {},
   "source": [
    "앞서 자료형 오류(TypeError)가 발생하는 이유는 간단하다.\n",
    "> __문자열은 수정이 불가능하다!__\n",
    "\n",
    "따라서 `'Hello, world!'`를 이용하여 `'Jello, world!'`를 생성하고자 한다면\n",
    "아래와 같이 기존의 문자열은 건드리지 않으면서 활용만 해야 한다."
   ]
  },
  {
   "cell_type": "code",
   "execution_count": 84,
   "metadata": {},
   "outputs": [
    {
     "name": "stdout",
     "output_type": "stream",
     "text": [
      "Jello, world!\n"
     ]
    }
   ],
   "source": [
    "greeting = 'Hello, world!'\n",
    "new_greeting = 'J' + greeting[1:]\n",
    "print(new_greeting)"
   ]
  },
  {
   "cell_type": "markdown",
   "metadata": {},
   "source": [
    "위 코드에서 사용한 기술은 다음과 같다.\n",
    "* 문자열 이어 붙이기\n",
    "* 문자열 슬라이싱"
   ]
  },
  {
   "cell_type": "markdown",
   "metadata": {},
   "source": [
    "## 검색함수 구현하기\n",
    "\n",
    "인터넷 검색에서 가장 중요한 요소는 원하는 단어 또는 문장을 포함한 웹사이트, 문서 등을 찾는 일이다. \n",
    "그리고 인터넷 검색엔진은 기본적으로 문자열만을 대상으로 해서 \n",
    "사용자가 지정한 단어 또는 문장이 포함되어 있는지 여부를 판단한다. \n",
    "반면에 사진 또는 그림에 함께 그려진 문자는 검색 대상에서 제외된다. \n",
    "\n",
    "이제 아래 코드를 잘 살펴보고 `find`라는 함수가 어떤 기능을 갖고 있는지 생각해 보자."
   ]
  },
  {
   "cell_type": "code",
   "execution_count": 85,
   "metadata": {
    "collapsed": true
   },
   "outputs": [],
   "source": [
    "def find(word, letter):\n",
    "    index = 0\n",
    "    while index < len(word):\n",
    "        if word[index] == letter:\n",
    "            return index\n",
    "        index = index + 1\n",
    "    return -1"
   ]
  },
  {
   "cell_type": "markdown",
   "metadata": {},
   "source": [
    "`find` 함수의 특성은 다음과 같다.\n",
    "* 두 개의 인자를 받는다.\n",
    "* 각각의 인자는 `word`와 `letter` 두 개의 매개변수를 통해 `find` 함수에 전달된다.\n",
    "    즉, `find` 함수를 호출하려면 아래와 같이 사용해야 한다.\n",
    "    ```python\n",
    "    find(주어진문자열, 찾고자하는문자)\n",
    "    ```\n",
    "* 즉, `find` 함수는 어떤 주어진 문자열에 특정 문자가 포함되어 있으면 그 문자가 가장 먼저 나타나는 곳의\n",
    "    색인을 찾아주고, 그렇지 않으면 -1을 리턴한다. \n",
    "    * `while index < len(word)`: `word` 매개변수를 통해 전달된 문자열 전체를 대상으로 탐색함을 의미한다.\n",
    "    * `if word[index] == letter`: `index`가 가리키는 곳의 문자가 `letter` 매개변수를 \n",
    "        통해 전달된 찾고자 하는 문자인지를 확인하고, 확인결과에 따라 탐색을 지속할지 여부를 결정한다.\n",
    "        * 확인 결과가 `True`이면, 즉, 찾고자 하는 문자를 만났다면, 그 자리에서 그 위치의 색인을 리턴하고\n",
    "            프로그램을 멈춘다.\n",
    "        * 확인 결과가 `False`이며, 즉, 찾고자 하는 문자가 아니면 `word`에 전달된 문자열 끝까지\n",
    "            문자열 검색을 이어간다. \n",
    "        * 문자열 끝까지 확인했지만 원하는 문자열을 만나지 못했다면 `while`문을 종료하고, 즉, 탐색을 \n",
    "            중지하고 -1을 리턴하고 프로그램을 종료한다.\n",
    "    \n",
    "            __주의:__ 색인은 0부터 시작함에 주의하라."
   ]
  },
  {
   "cell_type": "markdown",
   "metadata": {},
   "source": [
    "### 함수의 실행과 리턴값\n",
    "\n",
    "함수를 호출하여 실행하다가 실행과정 중에 `return` 명령문이 실행되면 그 함수의 실행은 바로 멈춘다."
   ]
  },
  {
   "cell_type": "markdown",
   "metadata": {},
   "source": [
    "#### 연습\n",
    "\n",
    "아래 조건을 만족시키도록 `find` 함수를 수정하라. \n",
    "\n",
    "* 인자를 세 개 받는다. 예를 들어, `word`와 `letter` 두 개의 매개변수와 더불어 \n",
    "    `position`이라는 매개변수를 하나 더 사용하도록 한다. \n",
    "* `position` 매개변수는 정수가 `find` 함수에 전달되는 기능을 수행한다.\n",
    "* `position`을 통해 전달된 정수는 탐색을 시작할 위치를 나타내도록 한다.\n",
    "    즉, 앞서 정의된 `find` 함수는 `position`이 0인 특수한 경우가 되도록 한다."
   ]
  },
  {
   "cell_type": "code",
   "execution_count": null,
   "metadata": {
    "collapsed": true
   },
   "outputs": [],
   "source": []
  },
  {
   "cell_type": "code",
   "execution_count": null,
   "metadata": {
    "collapsed": true
   },
   "outputs": [],
   "source": []
  },
  {
   "cell_type": "code",
   "execution_count": null,
   "metadata": {
    "collapsed": true
   },
   "outputs": [],
   "source": []
  },
  {
   "cell_type": "markdown",
   "metadata": {},
   "source": [
    "## 순환과 세기\n",
    "\n",
    "다음 프로그램은 문자열에서 a가 나타나는 횟수를 셉니다:\n",
    "```python\n",
    "word = 'banana'\n",
    "count = 0\n",
    "for letter in word:\n",
    "    if letter == 'a':\n",
    "        count = count + 1\n",
    "print(count)\n",
    "```\n",
    "이 프로그램은 계수기(counter)라고 불리는 다른 하나의 계산 유형을 예시합니다. 변수 count는 0으로 초기화된 다음 a가 발견될 때마다 1씩 증가합니다. 순환이 종료할 때, count는 결과를 갖게 됩니다—a의 총 개수."
   ]
  },
  {
   "cell_type": "markdown",
   "metadata": {},
   "source": [
    "### 연습 8.5.\n",
    "\n",
    "이 코드를 count라는 이름의 함수로 캡슐화하고, 문자열과 문자를 인자로 받아들이도록 일반화하세요.\n",
    "\n",
    "### 연습 8.6.\n",
    "\n",
    "문자열을 탐색하는 대신, 앞 절에서 나온 인자 세 개 버전의 find를 사용하도록 이 함수를 다시 작성하세요."
   ]
  },
  {
   "cell_type": "markdown",
   "metadata": {},
   "source": [
    "## 문자열 메쏘드\n",
    "메쏘드(method)는 함수와 비슷합니다—인자를 받아들이고 값을 돌려줍니다—. 하지만 문법이 다릅니다. 예를 들어, 메쏘드 upper는 문자열을 받아들여서 모두 대문자로 된 새 문자열을 돌려줍니다:\n",
    "\n",
    "함수 문법 upper(word) 대신에, 메쏘드 문법 word.upper()를 사용합니다."
   ]
  },
  {
   "cell_type": "code",
   "execution_count": 18,
   "metadata": {},
   "outputs": [
    {
     "name": "stdout",
     "output_type": "stream",
     "text": [
      "BANANA\n"
     ]
    }
   ],
   "source": [
    "word = 'banana'\n",
    "new_word = word.upper()\n",
    "print(new_word)"
   ]
  },
  {
   "cell_type": "markdown",
   "metadata": {},
   "source": [
    "이런 형식의 점 표기법은 메쏘드의 이름, upper,와 메쏘드를 적용할 문자열의 이름, word,을 지정합니다. 빈 괄호는 이 메쏘드가 아무런 인자도 받아들이지 않음을 가리킵니다.\n",
    "\n",
    "메쏘드를 실행하는 것을 호출(invocation)이라고 부릅니다; 이 경우에, word에 대해 upper를 호출한다고 말합니다.\n",
    "\n",
    "알고 보면, 우리가 작성한 함수와 아주 비슷한 find 라는 이름의 문자열 메쏘드가 있습니다:"
   ]
  },
  {
   "cell_type": "code",
   "execution_count": 19,
   "metadata": {},
   "outputs": [
    {
     "name": "stdout",
     "output_type": "stream",
     "text": [
      "1\n"
     ]
    }
   ],
   "source": [
    "word = 'banana'\n",
    "index = word.find('a')\n",
    "print(index)"
   ]
  },
  {
   "cell_type": "markdown",
   "metadata": {},
   "source": [
    "이 예에서, 우리는 word에 대해 find를 호출하고, 우리가 찾는 문자를 매개변수로 전달했습니다.\n",
    "\n",
    "사실, find 메쏘드는 우리 함수보다 더 일반적입니다; 문자뿐만 아니라 부분 문자열을 찾을 수 있습니다."
   ]
  },
  {
   "cell_type": "code",
   "execution_count": 20,
   "metadata": {},
   "outputs": [
    {
     "data": {
      "text/plain": [
       "2"
      ]
     },
     "execution_count": 20,
     "metadata": {},
     "output_type": "execute_result"
    }
   ],
   "source": [
    "word.find('na')"
   ]
  },
  {
   "cell_type": "markdown",
   "metadata": {},
   "source": [
    "검색을 시작할 지수를 두 번째 인자로 받을 수 있습니다:"
   ]
  },
  {
   "cell_type": "code",
   "execution_count": 21,
   "metadata": {},
   "outputs": [
    {
     "data": {
      "text/plain": [
       "4"
      ]
     },
     "execution_count": 21,
     "metadata": {},
     "output_type": "execute_result"
    }
   ],
   "source": [
    "word.find('na', 3)"
   ]
  },
  {
   "cell_type": "markdown",
   "metadata": {},
   "source": [
    "그리고 세 번째 인자는 멈춰야 할 지수를 가리킵니다:"
   ]
  },
  {
   "cell_type": "code",
   "execution_count": 22,
   "metadata": {},
   "outputs": [
    {
     "data": {
      "text/plain": [
       "-1"
      ]
     },
     "execution_count": 22,
     "metadata": {},
     "output_type": "execute_result"
    }
   ],
   "source": [
    "name = 'bob'\n",
    "name.find('b', 1, 2)"
   ]
  },
  {
   "cell_type": "markdown",
   "metadata": {},
   "source": [
    "이 검색이 실패하는 이유는 b가 1 에서 2까지의 지수 범위(2는 포함하지 않음)에 나타나지 않기 때문입니다."
   ]
  },
  {
   "cell_type": "markdown",
   "metadata": {},
   "source": [
    "### 연습 8.7.\n",
    "\n",
    "count라는 이름의 문자열 메쏘드가 있는데, 앞의 연습에서 나온 함수와 유사합니다. 이 메쏘드에 관한 설명서를 읽고, 'banana'에 등장하는 a를 세는 호출을 작성하세요.\n",
    "\n",
    "[연습 8.8.]\n",
    "\n",
    "http://docs.python.org/2/library/stdtypes.html#string-methods에서 문자열 메쏘드에 관한 설명서를 읽으세요. 어떻게 동작하는지 정확히 이해하기 위해, 그 중 몇 가지로 실험해 보고 싶을 겁니다 strip 과 replace는 특히 유용합니다.\n",
    "\n",
    "설명서는 헛갈릴 수 있는 문법을 사용합니다. 예를 들어, find(sub[, start[, end]]) 에서, 대괄호는 생략 가능한 인자를 나타냅니다. 그래서, sub는 필수고, start는 선택사항입니다. 그리고, 만약 start 를 포함시킨다면, end가 선택사항이 됩니다."
   ]
  },
  {
   "cell_type": "markdown",
   "metadata": {},
   "source": [
    "## in 연산자\n",
    "\n",
    "in은 두 개의 문자열을 받아들여서, 첫 번째가 두 번째에 부분 문자열로 등장하면 True를 돌려주는 논리 연산자입니다:"
   ]
  },
  {
   "cell_type": "code",
   "execution_count": 23,
   "metadata": {},
   "outputs": [
    {
     "data": {
      "text/plain": [
       "True"
      ]
     },
     "execution_count": 23,
     "metadata": {},
     "output_type": "execute_result"
    }
   ],
   "source": [
    "'a' in 'banana'"
   ]
  },
  {
   "cell_type": "code",
   "execution_count": 24,
   "metadata": {},
   "outputs": [
    {
     "data": {
      "text/plain": [
       "False"
      ]
     },
     "execution_count": 24,
     "metadata": {},
     "output_type": "execute_result"
    }
   ],
   "source": [
    "'seed' in 'banana'"
   ]
  },
  {
   "cell_type": "markdown",
   "metadata": {},
   "source": [
    "예를 들어, 다음 함수는 word2에도 동시에 등장하는 word1의 모든 문자들을 인쇄합니다:"
   ]
  },
  {
   "cell_type": "code",
   "execution_count": 26,
   "metadata": {
    "collapsed": true
   },
   "outputs": [],
   "source": [
    "def in_both(word1, word2):\n",
    "    for letter in word1:\n",
    "        if letter in word2:\n",
    "            print(letter)"
   ]
  },
  {
   "cell_type": "markdown",
   "metadata": {},
   "source": [
    "잘 선택된 변수 명을 사용할 때, 파이썬은 때로 영어처럼 읽힙니다. 여러분은 이 순환을 이렇게 읽을 수 있습니다, “for (each) letter in (the first) word, if (the) letter (appears) in (the second) word, print (the) letter.”\n",
    "\n",
    "apples 과 oranges를 비교하면 이렇게 됩니다:"
   ]
  },
  {
   "cell_type": "code",
   "execution_count": 27,
   "metadata": {},
   "outputs": [
    {
     "name": "stdout",
     "output_type": "stream",
     "text": [
      "a\n",
      "e\n",
      "s\n"
     ]
    }
   ],
   "source": [
    "in_both('apples', 'oranges')"
   ]
  },
  {
   "cell_type": "markdown",
   "metadata": {},
   "source": [
    "## 문자열 비교\n",
    "비교 연산자를 문자열에 사용할 수 있습니다. 두 문자열이 같은지 보기 위해:"
   ]
  },
  {
   "cell_type": "code",
   "execution_count": 30,
   "metadata": {},
   "outputs": [
    {
     "name": "stdout",
     "output_type": "stream",
     "text": [
      "All right, bananas.\n"
     ]
    }
   ],
   "source": [
    "if word == 'banana':\n",
    "    print('All right, bananas.')"
   ]
  },
  {
   "cell_type": "markdown",
   "metadata": {},
   "source": [
    "다른 비교 연산자들은 단어들을 알파벳 순으로 배치하는데 유용합니다:"
   ]
  },
  {
   "cell_type": "code",
   "execution_count": 32,
   "metadata": {},
   "outputs": [
    {
     "name": "stdout",
     "output_type": "stream",
     "text": [
      "All right, bananas.\n"
     ]
    }
   ],
   "source": [
    "if word < 'banana':\n",
    "    print('Your word,' + word + ', comes before banana.')\n",
    "elif word > 'banana':\n",
    "    print('Your word,' + word + ', comes after banana.')\n",
    "else:\n",
    "    print('All right, bananas.')"
   ]
  },
  {
   "cell_type": "markdown",
   "metadata": {},
   "source": [
    "파이썬은 대문자와 소문자를 사람들과 같은 방식으로 다루지 않습니다. 모든 대문자는 모든 소문자 앞에 옵니다, 그래서:\n",
    "```\n",
    "Your word, Pineapple, comes before banana.\n",
    "```\n",
    "이런 문제를 다루는 일반적인 방법은 비교전에 문자열들을 표준 형식, 가령 모두 소문자,으로 바꾸는 것입니다. 수류탄(Pineapple)으로 무장한 사람으로부터 스스로를 지켜야 할 때를 위해 명심해 두세요."
   ]
  },
  {
   "cell_type": "markdown",
   "metadata": {},
   "source": [
    "## 디버깅\n",
    "\n",
    "시퀀스의 값들을 탐색하려고 지수를 사용할 때, 탐색의 처음과 끝에서 틀리기 쉽습니다. 두 단어를 비교해서, 한 단어가 다른 하나의 역이면 True를 돌려주기로 되어있는 함수가 있습니다만, 두 개의 오류를 갖고 있습니다:"
   ]
  },
  {
   "cell_type": "code",
   "execution_count": 33,
   "metadata": {
    "collapsed": true
   },
   "outputs": [],
   "source": [
    "def is_reverse(word1, word2):\n",
    "    if len(word1) != len(word2):\n",
    "        return False\n",
    "\n",
    "    i = 0\n",
    "    j = len(word2)\n",
    "\n",
    "    while j > 0:\n",
    "        if word1[i] != word2[j]:\n",
    "            return False\n",
    "        i = i+1\n",
    "        j = j-1\n",
    "\n",
    "    return True"
   ]
  },
  {
   "cell_type": "markdown",
   "metadata": {},
   "source": [
    "첫 번째 if 문은 단어들의 길이가 같은지 검사합니다. 다르면 즉시 False를 돌려줄 수 있습니다. 그러고는, 함수의 남은 부분에서, 우리는 단어들의 길이가 같다고 가정할 수 있습니다. 이 것은 [guardian] 절에서 나온 파수꾼 패턴의 예입니다.\n",
    "\n",
    "i 와 j는 지수입니다: i 는 word1를 정 방향으로 탐색하고, j는 word2를 역방향으로 탐색합니다. 만약 두 글자가 다른 경우를 발견하면, 즉시 False를 돌려줄 수 있습니다. 순환 전체를 통과해서 모든 글자들이 같음이 확인되면 True를 돌려줍니다.\n",
    "\n",
    "이 함수를 단어 “pots” 와 “stop” 으로 검사하면, True를 돌려주리라고 기대합니다만, IndexError가 발생합니다:"
   ]
  },
  {
   "cell_type": "code",
   "execution_count": 34,
   "metadata": {},
   "outputs": [
    {
     "ename": "IndexError",
     "evalue": "string index out of range",
     "output_type": "error",
     "traceback": [
      "\u001b[0;31m---------------------------------------------------------------------------\u001b[0m",
      "\u001b[0;31mIndexError\u001b[0m                                Traceback (most recent call last)",
      "\u001b[0;32m<ipython-input-34-675f5fef8649>\u001b[0m in \u001b[0;36m<module>\u001b[0;34m()\u001b[0m\n\u001b[0;32m----> 1\u001b[0;31m \u001b[0mis_reverse\u001b[0m\u001b[0;34m(\u001b[0m\u001b[0;34m'pots'\u001b[0m\u001b[0;34m,\u001b[0m \u001b[0;34m'stop'\u001b[0m\u001b[0;34m)\u001b[0m\u001b[0;34m\u001b[0m\u001b[0m\n\u001b[0m",
      "\u001b[0;32m<ipython-input-33-6ac5eac2af26>\u001b[0m in \u001b[0;36mis_reverse\u001b[0;34m(word1, word2)\u001b[0m\n\u001b[1;32m      7\u001b[0m \u001b[0;34m\u001b[0m\u001b[0m\n\u001b[1;32m      8\u001b[0m     \u001b[0;32mwhile\u001b[0m \u001b[0mj\u001b[0m \u001b[0;34m>\u001b[0m \u001b[0;36m0\u001b[0m\u001b[0;34m:\u001b[0m\u001b[0;34m\u001b[0m\u001b[0m\n\u001b[0;32m----> 9\u001b[0;31m         \u001b[0;32mif\u001b[0m \u001b[0mword1\u001b[0m\u001b[0;34m[\u001b[0m\u001b[0mi\u001b[0m\u001b[0;34m]\u001b[0m \u001b[0;34m!=\u001b[0m \u001b[0mword2\u001b[0m\u001b[0;34m[\u001b[0m\u001b[0mj\u001b[0m\u001b[0;34m]\u001b[0m\u001b[0;34m:\u001b[0m\u001b[0;34m\u001b[0m\u001b[0m\n\u001b[0m\u001b[1;32m     10\u001b[0m             \u001b[0;32mreturn\u001b[0m \u001b[0;32mFalse\u001b[0m\u001b[0;34m\u001b[0m\u001b[0m\n\u001b[1;32m     11\u001b[0m         \u001b[0mi\u001b[0m \u001b[0;34m=\u001b[0m \u001b[0mi\u001b[0m\u001b[0;34m+\u001b[0m\u001b[0;36m1\u001b[0m\u001b[0;34m\u001b[0m\u001b[0m\n",
      "\u001b[0;31mIndexError\u001b[0m: string index out of range"
     ]
    }
   ],
   "source": [
    "is_reverse('pots', 'stop')"
   ]
  },
  {
   "cell_type": "markdown",
   "metadata": {},
   "source": [
    "이런 종류의 오류를 디버깅할 때, 제가 첫 번째로 하는 일은, 오류가 발생한 줄 바로 앞에서 지수의 값을 인쇄해보는 것입니다."
   ]
  },
  {
   "cell_type": "code",
   "execution_count": 37,
   "metadata": {
    "collapsed": true
   },
   "outputs": [],
   "source": [
    "def is_reverse(word1, word2):\n",
    "    if len(word1) != len(word2):\n",
    "        return False\n",
    "\n",
    "    i = 0\n",
    "    j = len(word2)\n",
    "\n",
    "    while j > 0:\n",
    "        print(i, j)\n",
    "        if word1[i] != word2[j]:\n",
    "            return False\n",
    "        i = i+1\n",
    "        j = j-1\n",
    "\n",
    "    return True"
   ]
  },
  {
   "cell_type": "markdown",
   "metadata": {},
   "source": [
    "이제 프로그램을 다시 실행하면, 정보를 좀 더 얻게 됩니다:"
   ]
  },
  {
   "cell_type": "code",
   "execution_count": 39,
   "metadata": {},
   "outputs": [
    {
     "name": "stdout",
     "output_type": "stream",
     "text": [
      "0 4\n"
     ]
    },
    {
     "ename": "IndexError",
     "evalue": "string index out of range",
     "output_type": "error",
     "traceback": [
      "\u001b[0;31m---------------------------------------------------------------------------\u001b[0m",
      "\u001b[0;31mIndexError\u001b[0m                                Traceback (most recent call last)",
      "\u001b[0;32m<ipython-input-39-675f5fef8649>\u001b[0m in \u001b[0;36m<module>\u001b[0;34m()\u001b[0m\n\u001b[0;32m----> 1\u001b[0;31m \u001b[0mis_reverse\u001b[0m\u001b[0;34m(\u001b[0m\u001b[0;34m'pots'\u001b[0m\u001b[0;34m,\u001b[0m \u001b[0;34m'stop'\u001b[0m\u001b[0;34m)\u001b[0m\u001b[0;34m\u001b[0m\u001b[0m\n\u001b[0m",
      "\u001b[0;32m<ipython-input-37-1430c46dc42f>\u001b[0m in \u001b[0;36mis_reverse\u001b[0;34m(word1, word2)\u001b[0m\n\u001b[1;32m      8\u001b[0m     \u001b[0;32mwhile\u001b[0m \u001b[0mj\u001b[0m \u001b[0;34m>\u001b[0m \u001b[0;36m0\u001b[0m\u001b[0;34m:\u001b[0m\u001b[0;34m\u001b[0m\u001b[0m\n\u001b[1;32m      9\u001b[0m         \u001b[0mprint\u001b[0m\u001b[0;34m(\u001b[0m\u001b[0mi\u001b[0m\u001b[0;34m,\u001b[0m \u001b[0mj\u001b[0m\u001b[0;34m)\u001b[0m\u001b[0;34m\u001b[0m\u001b[0m\n\u001b[0;32m---> 10\u001b[0;31m         \u001b[0;32mif\u001b[0m \u001b[0mword1\u001b[0m\u001b[0;34m[\u001b[0m\u001b[0mi\u001b[0m\u001b[0;34m]\u001b[0m \u001b[0;34m!=\u001b[0m \u001b[0mword2\u001b[0m\u001b[0;34m[\u001b[0m\u001b[0mj\u001b[0m\u001b[0;34m]\u001b[0m\u001b[0;34m:\u001b[0m\u001b[0;34m\u001b[0m\u001b[0m\n\u001b[0m\u001b[1;32m     11\u001b[0m             \u001b[0;32mreturn\u001b[0m \u001b[0;32mFalse\u001b[0m\u001b[0;34m\u001b[0m\u001b[0m\n\u001b[1;32m     12\u001b[0m         \u001b[0mi\u001b[0m \u001b[0;34m=\u001b[0m \u001b[0mi\u001b[0m\u001b[0;34m+\u001b[0m\u001b[0;36m1\u001b[0m\u001b[0;34m\u001b[0m\u001b[0m\n",
      "\u001b[0;31mIndexError\u001b[0m: string index out of range"
     ]
    }
   ],
   "source": [
    "is_reverse('pots', 'stop')"
   ]
  },
  {
   "cell_type": "markdown",
   "metadata": {},
   "source": [
    "첫 번째 순환에서, j의 값은 4인데, 문자열 'pots'의 범위를 벗어납니다. 마지막 문자의 지수는 3이기 때문에 j의 초기값은 len(word2)-1이 되어야 합니다.\n",
    "\n",
    "이 오류를 고치고 프로그램을 다시 실행하면, 이렇게 됩니다:"
   ]
  },
  {
   "cell_type": "code",
   "execution_count": 44,
   "metadata": {
    "collapsed": true
   },
   "outputs": [],
   "source": [
    "def is_reverse(word1, word2):\n",
    "    if len(word1) != len(word2):\n",
    "        return False\n",
    "\n",
    "    i = 0\n",
    "    j = len(word2)-1\n",
    "\n",
    "    while j > 0:\n",
    "        print(i, j)\n",
    "        if word1[i] != word2[j]:\n",
    "            return False\n",
    "        i = i+1\n",
    "        j = j-1\n",
    "\n",
    "    return True"
   ]
  },
  {
   "cell_type": "code",
   "execution_count": 45,
   "metadata": {},
   "outputs": [
    {
     "name": "stdout",
     "output_type": "stream",
     "text": [
      "0 3\n",
      "1 2\n",
      "2 1\n"
     ]
    },
    {
     "data": {
      "text/plain": [
       "True"
      ]
     },
     "execution_count": 45,
     "metadata": {},
     "output_type": "execute_result"
    }
   ],
   "source": [
    "is_reverse('pots', 'stop')"
   ]
  },
  {
   "cell_type": "markdown",
   "metadata": {},
   "source": [
    "이번에는 올바를 답을 얻었지만, 순환이 단지 세 번만 실행된 것처럼 보이는 게 수상쩍습니다. 무슨 일이 일어나고 있는지 더 잘 파악하는데, 상태도가 유용합니다. 첫 번째 반복에서, is_reverse의 프레임이 그림 [fig.state4]에 나와있습니다.\n",
    "```\n",
    "state4\n",
    "\n",
    "[fig.state4]\n",
    "```\n",
    "프레임에 변수들을 배치하고, i 와 j의 값이 word1 와 word2의 문자를 가리키는 것을 보이도록 점선을 추가함으로써 약간의 융통성을 발휘했습니다."
   ]
  },
  {
   "cell_type": "markdown",
   "metadata": {},
   "source": [
    "### 연습 8.9.\n",
    "\n",
    "이 다이어그램으로 시작해서, 각 반복마다 i 와 j 의 값을 바꾸면서, 프로그램을 종이에서 실행해 보세요. 이 함수의 두 번째 오류를 찾아서 고치세요."
   ]
  },
  {
   "cell_type": "markdown",
   "metadata": {},
   "source": [
    "## 연습문제\n",
    "1. 문자열 슬라이스는 “스텝(step size)”을 지정하는 세 번째 지수를 취할 수 있습니다. \n",
    "    스텝은 연속된 문자 사이에 있는 공백의 수입니다. 스텝 2는 하나 건너 한 글자를, 3은 3개에 한 글자를 뜻합니다.\n",
    "    ```python\n",
    "    fruit = 'banana'\n",
    "    fruit[0:5:2]\n",
    "    'bnn'\n",
    "    ```\n",
    "    스텝 -1은 단어를 역순으로 만드는데, 슬라이스 [::-1] 는 뒤집힌 문자열을 만듭니다.\n",
    "    이 숙어를 사용해서, 연습 [palindrome]에서 나온 is_palindrome의 한 줄짜리 버전을 작성하세요.\n",
    "1. 다음 함수들은 모두 문자열이 소문자를 포함하고 있는지를 조사하기로 되어있습니다만, \n",
    "    적어도 일부는 잘못되었습니다. \n",
    "    각각의 함수마다, 함수가 실제로 무엇을 하는지 설명하세요(매개변수는 문자열이라고 가정합니다).\n",
    "    ```python\n",
    "    def any_lowercase1(s):\n",
    "        for c in s:\n",
    "            if c.islower():\n",
    "                return True\n",
    "            else:\n",
    "                return False\n",
    "\n",
    "    def any_lowercase2(s):\n",
    "        for c in s:\n",
    "            if 'c'.islower():\n",
    "                return 'True'\n",
    "            else:\n",
    "                return 'False'\n",
    "\n",
    "    def any_lowercase3(s):\n",
    "        for c in s:\n",
    "            flag = c.islower()\n",
    "        return flag\n",
    "\n",
    "    def any_lowercase4(s):\n",
    "        flag = False\n",
    "        for c in s:\n",
    "            flag = flag or c.islower()\n",
    "        return flag\n",
    "\n",
    "    def any_lowercase5(s):\n",
    "        for c in s:\n",
    "            if not c.islower():\n",
    "                return False\n",
    "        return True\n",
    "    ```\n",
    "1. ROT13은 단어의 각 글자를 13자리만큼 “회전” 시키는 방식의 간단한 암호 법입니다.\n",
    "    글자를 회전한다는 것은 알파벳 상의 위치를 이동, 필요하면 처음으로 돌아가서, 한다는 뜻인데, \n",
    "    ’A’ 를 3만큼 이동하면 ’D’가, ’Z’ 를 1만 큼 이동하면 ’A’가 됩니다.\n",
    "\n",
    "    문자열과 정수를 매개변수로 받아들여서 원래 문자열을 요청한 양만큼 “회전”시킨 \n",
    "    문자열을 돌려주는 함수 rotate_word를 작성하세요.\n",
    "\n",
    "    예를 들어, “cheer” 를 7만큼 회전하면 “jolly” 이고 “melon” 을 -10만큼 회전하면 “cubed”가 됩니다.\n",
    "\n",
    "    아마 내장함수 ord, 문자를 숫자 코드로 바꿉니다, 와 chr, 숫자 코드를 문자로 바꿉니다,를 \n",
    "    사용하고 싶을 겁니다.\n",
    "\n",
    "    인터넷 상에서 잠재적으로 공격적인 농담들은 때로 ROT13으로 암호화됩니다. \n",
    "    쉽게 상처입지 않는다면, 찾아서 해독해보세요. 답: http://thinkpython.com/code/rotate.py."
   ]
  }
 ],
 "metadata": {
  "kernelspec": {
   "display_name": "Python 3",
   "language": "python",
   "name": "python3"
  },
  "language_info": {
   "codemirror_mode": {
    "name": "ipython",
    "version": 3
   },
   "file_extension": ".py",
   "mimetype": "text/x-python",
   "name": "python",
   "nbconvert_exporter": "python",
   "pygments_lexer": "ipython3",
   "version": "3.6.3"
  }
 },
 "nbformat": 4,
 "nbformat_minor": 2
}
