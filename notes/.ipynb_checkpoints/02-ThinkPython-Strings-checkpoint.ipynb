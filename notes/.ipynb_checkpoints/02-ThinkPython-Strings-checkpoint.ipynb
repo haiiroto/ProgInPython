{
 "cells": [
  {
   "cell_type": "markdown",
   "metadata": {},
   "source": [
    "# 문자열 자료형"
   ]
  },
  {
   "cell_type": "markdown",
   "metadata": {},
   "source": [
    "주의: [Think Python](http://greenteapress.com/thinkpython2/html/thinkpython2009.html) 내용을 번역 및 요약수정한 내용입니다."
   ]
  },
  {
   "cell_type": "markdown",
   "metadata": {},
   "source": [
    "## 주요 내용\n",
    "* 문자열 다루기\n",
    "* 문자열 관련 메소드 활용"
   ]
  },
  {
   "cell_type": "markdown",
   "metadata": {},
   "source": [
    "## 문자열이란?\n",
    "\n",
    "문자열은 문자들 여러 개를 동시에 갖고 다니는 자료형이다.\n",
    "여럿 문자들을 나열했다는 의미에서 __시퀀스(sequence)__ 라 불리기도 한다. "
   ]
  },
  {
   "cell_type": "markdown",
   "metadata": {},
   "source": [
    "## 색인"
   ]
  },
  {
   "cell_type": "markdown",
   "metadata": {},
   "source": [
    "문자열에 포함된 항목에 접근하기 위해서 대괄호(`[]`)를 이용한다."
   ]
  },
  {
   "cell_type": "code",
   "execution_count": 1,
   "metadata": {},
   "outputs": [],
   "source": [
    "fruit = 'banana'"
   ]
  },
  {
   "cell_type": "code",
   "execution_count": 2,
   "metadata": {},
   "outputs": [],
   "source": [
    "letter = fruit[1]"
   ]
  },
  {
   "cell_type": "markdown",
   "metadata": {},
   "source": [
    "위 명령문은 `fruit` 문자열의 1번 색인에 해당하는 문자를 선택해서 `letter` 변수에 할당하는 것을 나타낸다.\n",
    "대괄호 안의 사용되는 값을 __색인(인덱스, index)__ 이라 부른다. "
   ]
  },
  {
   "cell_type": "markdown",
   "metadata": {},
   "source": [
    "#### 주의사항\n",
    "* 색인은 0부터 시작하는 자연수로 왼쪽 문자부터 번호를 붙혀서 사용한다.\n",
    "    따라서 1번 색인 문자열은 'b'가 아니라 'a'가 된다.\n",
    "* 색인은 어떤 기준으로부터 몇 번째에 해당하는가를 나타내는 __오프셋(offset)__ 이라는 컴퓨터용어의 특수한 사용 예제이다.\n",
    "    * 오프셋 개념은 다양한 경우에 사용된다는 점만 우선 기억한다."
   ]
  },
  {
   "cell_type": "code",
   "execution_count": 3,
   "metadata": {},
   "outputs": [
    {
     "name": "stdout",
     "output_type": "stream",
     "text": [
      "a\n"
     ]
    }
   ],
   "source": [
    "print(letter)"
   ]
  },
  {
   "cell_type": "markdown",
   "metadata": {},
   "source": [
    "즉, `b`는 `banana`의 0번 문자, `a`는 1번 문자, `n`은 2번 문자가 된다. \n",
    "\n",
    "색인으로 정수만 사용하며 다른 경우엔 오류가 발생한다. "
   ]
  },
  {
   "cell_type": "code",
   "execution_count": 4,
   "metadata": {},
   "outputs": [
    {
     "ename": "TypeError",
     "evalue": "string indices must be integers",
     "output_type": "error",
     "traceback": [
      "\u001b[0;31m---------------------------------------------------------------------------\u001b[0m",
      "\u001b[0;31mTypeError\u001b[0m                                 Traceback (most recent call last)",
      "\u001b[0;32m<ipython-input-4-2bd018f0559d>\u001b[0m in \u001b[0;36m<module>\u001b[0;34m()\u001b[0m\n\u001b[0;32m----> 1\u001b[0;31m \u001b[0mletter\u001b[0m \u001b[0;34m=\u001b[0m \u001b[0mfruit\u001b[0m\u001b[0;34m[\u001b[0m\u001b[0;36m1.5\u001b[0m\u001b[0;34m]\u001b[0m\u001b[0;34m\u001b[0m\u001b[0m\n\u001b[0m",
      "\u001b[0;31mTypeError\u001b[0m: string indices must be integers"
     ]
    }
   ],
   "source": [
    "letter = fruit[1.5]"
   ]
  },
  {
   "cell_type": "markdown",
   "metadata": {},
   "source": [
    "물론 정수를 할당 받은 변수를 색인으로 사용해도 된다."
   ]
  },
  {
   "cell_type": "code",
   "execution_count": 5,
   "metadata": {},
   "outputs": [
    {
     "data": {
      "text/plain": [
       "'a'"
      ]
     },
     "execution_count": 5,
     "metadata": {},
     "output_type": "execute_result"
    }
   ],
   "source": [
    "i = 1\n",
    "fruit[i]"
   ]
  },
  {
   "cell_type": "code",
   "execution_count": 6,
   "metadata": {},
   "outputs": [
    {
     "data": {
      "text/plain": [
       "'n'"
      ]
     },
     "execution_count": 6,
     "metadata": {},
     "output_type": "execute_result"
    }
   ],
   "source": [
    "fruit[i+1]"
   ]
  },
  {
   "cell_type": "markdown",
   "metadata": {},
   "source": [
    "### 거꾸로 세는 색인\n",
    "\n",
    "마지막 문자열부터 색인을 정할 수 있으며, -1, -2, -3 등등으로 사용한다. \n",
    "따라서 `fruit[-1]` 표현식은 마지막 문자를, `fruit[-2]`는 끝에서 두 번째 문자를 추출한다."
   ]
  },
  {
   "cell_type": "code",
   "execution_count": 7,
   "metadata": {},
   "outputs": [
    {
     "data": {
      "text/plain": [
       "'a'"
      ]
     },
     "execution_count": 7,
     "metadata": {},
     "output_type": "execute_result"
    }
   ],
   "source": [
    "fruit[-1]"
   ]
  },
  {
   "cell_type": "code",
   "execution_count": 8,
   "metadata": {},
   "outputs": [
    {
     "data": {
      "text/plain": [
       "'n'"
      ]
     },
     "execution_count": 8,
     "metadata": {},
     "output_type": "execute_result"
    }
   ],
   "source": [
    "fruit[-2]"
   ]
  },
  {
   "cell_type": "markdown",
   "metadata": {},
   "source": [
    "## 문자열의 길이: `len` 함수\n",
    "\n",
    "`len` 함수는 문자열에 포함된 문자의 개수를 확인해준다."
   ]
  },
  {
   "cell_type": "code",
   "execution_count": 9,
   "metadata": {},
   "outputs": [
    {
     "data": {
      "text/plain": [
       "6"
      ]
     },
     "execution_count": 9,
     "metadata": {},
     "output_type": "execute_result"
    }
   ],
   "source": [
    "fruit = 'banana'\n",
    "len(fruit)"
   ]
  },
  {
   "cell_type": "markdown",
   "metadata": {},
   "source": [
    "__주의:__\n",
    "* `len` 함수는 문자열 이외에 리스트, 튜플 등 다른 자료형에도 활용할 수 있다.\n",
    "* 즉, 여러 값을 동시에 들고 다니는 컨테이너 자료형에도 사용된 값들의 개수를 계산하는 데에 사용된다.\n",
    "* 이후에 좀 더 다룰 것이다.\n",
    "\n",
    "* 색인이 0부터 시작하기 때문에 문자열에 포함된 마지막 문자를 가리키는 색인은 \n",
    "`len` 함수가 되돌려 주는 값보다 1이 작아야 한다."
   ]
  },
  {
   "cell_type": "code",
   "execution_count": 10,
   "metadata": {},
   "outputs": [
    {
     "ename": "IndexError",
     "evalue": "string index out of range",
     "output_type": "error",
     "traceback": [
      "\u001b[0;31m---------------------------------------------------------------------------\u001b[0m",
      "\u001b[0;31mIndexError\u001b[0m                                Traceback (most recent call last)",
      "\u001b[0;32m<ipython-input-10-15d81308bbc3>\u001b[0m in \u001b[0;36m<module>\u001b[0;34m()\u001b[0m\n\u001b[1;32m      1\u001b[0m \u001b[0mlength\u001b[0m \u001b[0;34m=\u001b[0m \u001b[0mlen\u001b[0m\u001b[0;34m(\u001b[0m\u001b[0mfruit\u001b[0m\u001b[0;34m)\u001b[0m\u001b[0;34m\u001b[0m\u001b[0m\n\u001b[0;32m----> 2\u001b[0;31m \u001b[0mlast\u001b[0m \u001b[0;34m=\u001b[0m \u001b[0mfruit\u001b[0m\u001b[0;34m[\u001b[0m\u001b[0mlength\u001b[0m\u001b[0;34m]\u001b[0m\u001b[0;34m\u001b[0m\u001b[0m\n\u001b[0m",
      "\u001b[0;31mIndexError\u001b[0m: string index out of range"
     ]
    }
   ],
   "source": [
    "length = len(fruit)\n",
    "last = fruit[length]"
   ]
  },
  {
   "cell_type": "markdown",
   "metadata": {},
   "source": [
    "색인 오류(`IndexError`)가 발생하는 이유는 ’banana’의 길이가 6이지만 마지막 문자의 색인은 5이기 때문이다. \n",
    "따라서 아래와 같이 실행하면 마지막 문자를 얻을 수 있다."
   ]
  },
  {
   "cell_type": "code",
   "execution_count": 11,
   "metadata": {},
   "outputs": [
    {
     "name": "stdout",
     "output_type": "stream",
     "text": [
      "a\n"
     ]
    }
   ],
   "source": [
    "length = len(fruit)\n",
    "last = fruit[length-1]\n",
    "print(last)"
   ]
  },
  {
   "cell_type": "markdown",
   "metadata": {},
   "source": [
    "## 문자열과 반복 명령문\n",
    "\n",
    "반복 명령문은 프로그래밍의 주요 요소 중의 하나이며, \n",
    "특히 문자열을 이용한 반복 명령문이 자주 활용된다. "
   ]
  },
  {
   "cell_type": "markdown",
   "metadata": {},
   "source": [
    "### 색인과 `while` 반복 명령문\n",
    "\n",
    "아래 예제는 문자열의 길이 정보를 활용하여 문자열에 사용된 항목들을 하나씩 차례대로 추출하는 코드이다. "
   ]
  },
  {
   "cell_type": "code",
   "execution_count": 12,
   "metadata": {},
   "outputs": [
    {
     "name": "stdout",
     "output_type": "stream",
     "text": [
      "b\n",
      "a\n",
      "n\n",
      "a\n",
      "n\n",
      "a\n"
     ]
    }
   ],
   "source": [
    "index = 0\n",
    "while index < len(fruit):\n",
    "    letter = fruit[index]\n",
    "    print(letter)\n",
    "    index = index + 1"
   ]
  },
  {
   "cell_type": "markdown",
   "metadata": {},
   "source": [
    "위 코드 설명:\n",
    "* `while` 반복의 조건인 `index < len(fruit)`가 거짓이 될 때까지 `index`의 값이 0, 1, 2 등으로 변한다.\n",
    "* `index`에 할당된 값이 `len(fruit)`인 6이 되는 순간에 `while` 반복을 멈춘다.\n",
    "* `index`가 0, 1, ..., 5의 값을 가지면 해당 색인이 가리키는 위치의 문자를 출력한다. "
   ]
  },
  {
   "cell_type": "markdown",
   "metadata": {},
   "source": [
    "#### 예제\n",
    "\n",
    "문자열을 인자로 받아서 한 줄에 하나씩 문자를 역순으로 인쇄하는 함수를 아래와 같이 작성할 수 있다.\n",
    "\n",
    "__주의:__\n",
    "* 함수에 대해서는 이후에 자세히 다룬다.\n",
    "* 여기서는 함수를 어떻게 선언하는지를 살펴보기만 해도 된다."
   ]
  },
  {
   "cell_type": "code",
   "execution_count": 13,
   "metadata": {},
   "outputs": [],
   "source": [
    "def reverse_str(s):\n",
    "    index = 1\n",
    "    while index < len(s) + 1:\n",
    "        letter = fruit[-index]\n",
    "        print(letter)\n",
    "        index = index + 1"
   ]
  },
  {
   "cell_type": "markdown",
   "metadata": {},
   "source": [
    "`reverse_str` 함수는 매개변수 `s`를 통해 인자로 입력 받은 임의의 문자열을 역순으로 출력하는 기능을 갖고 있다.\n",
    "\n",
    "예를 들어, `fruit` 변수에 할당된 문자열을 역순으로 출력하기 위해 `reverse_str` 함수를 \n",
    "아래와 같이 호출하는 방식으로 이용하면 된다."
   ]
  },
  {
   "cell_type": "code",
   "execution_count": 14,
   "metadata": {},
   "outputs": [
    {
     "name": "stdout",
     "output_type": "stream",
     "text": [
      "a\n",
      "n\n",
      "a\n",
      "n\n",
      "a\n",
      "b\n"
     ]
    }
   ],
   "source": [
    "reverse_str(fruit)"
   ]
  },
  {
   "cell_type": "markdown",
   "metadata": {},
   "source": [
    "### 문자열과 `for` 반복 명령문"
   ]
  },
  {
   "cell_type": "markdown",
   "metadata": {},
   "source": [
    "문자열의 각 항목을 탐색하면서 특정 일을 반복적으로 하는 명령문을 만들 수 있으며,\n",
    "이를 위해 `for` 반복 명령문을 활용한다.\n",
    "예를 들어, 아래 코드는 `fruit`에 할당된 문자열의 각 항목을 차례대로 출력한다."
   ]
  },
  {
   "cell_type": "code",
   "execution_count": 15,
   "metadata": {},
   "outputs": [
    {
     "name": "stdout",
     "output_type": "stream",
     "text": [
      "b\n",
      "a\n",
      "n\n",
      "a\n",
      "n\n",
      "a\n"
     ]
    }
   ],
   "source": [
    "for char in fruit:\n",
    "    print(char)"
   ]
  },
  {
   "cell_type": "markdown",
   "metadata": {},
   "source": [
    "위 코드 설명:\n",
    "* `char` 변수에 `b`, `a`, `n`, `a`, `n`, `a` 의 문자가 순서대로 할당된다.\n",
    "* 반복은 `char` 변수에 더 이상 할당한 문자가 없을 때까지, \n",
    "    즉 `fruit` 변수에 할당된 문자열 끝에 도착할 때 까지 진행한다."
   ]
  },
  {
   "cell_type": "markdown",
   "metadata": {},
   "source": [
    "#### 예제\n",
    "\n",
    "* `for` 반복 명령문을 활용하여 특정 단어들을 생성하는 예제이다. \n",
    "* `JKLMNOPQ`에 포함된 문자를 하나씩 꺼내어 `ack`라는 문자열의 맨 앞에 붙힌 단어들을 생성한다. "
   ]
  },
  {
   "cell_type": "code",
   "execution_count": 16,
   "metadata": {},
   "outputs": [
    {
     "name": "stdout",
     "output_type": "stream",
     "text": [
      "Jack\n",
      "Kack\n",
      "Lack\n",
      "Mack\n",
      "Nack\n",
      "Oack\n",
      "Pack\n",
      "Qack\n"
     ]
    }
   ],
   "source": [
    "prefixes = 'JKLMNOPQ'\n",
    "suffix = 'ack'\n",
    "\n",
    "for letter in prefixes:\n",
    "    print(letter + suffix)"
   ]
  },
  {
   "cell_type": "markdown",
   "metadata": {},
   "source": [
    "## 문자열 슬라이싱\n",
    "\n",
    "문자열의 일부분을 선택하는 방법을 __슬라이싱(slicing)__ 이라 부른다.\n",
    "슬라이싱은 해당 부분문자열의 처음 문자와 끝문자의 색인 정보를 이용한다.\n",
    "\n",
    "예를 들어, `\"파이썬이 너무 좋다\"`라는 문자열에서 `\"파이썬이\"`를 추출하려면 \n",
    "0번 색인부터 4번 색인까지의 문자를 추출하면 된다."
   ]
  },
  {
   "cell_type": "code",
   "execution_count": 17,
   "metadata": {},
   "outputs": [
    {
     "name": "stdout",
     "output_type": "stream",
     "text": [
      "파이썬이 \n"
     ]
    }
   ],
   "source": [
    "like_python = '파이썬이 너무 좋다'\n",
    "print(like_python[0:5])"
   ]
  },
  {
   "cell_type": "markdown",
   "metadata": {},
   "source": [
    "__주의사항:__\n",
    "* `like_python[0:4]` 가 아님에 주의한다.\n",
    "* 슬라이싱의 구간을 적을 때 끝나는 색인은 마지막 문자의 색인보다 1이 큰 숫자를 사용한다."
   ]
  },
  {
   "cell_type": "markdown",
   "metadata": {},
   "source": [
    "#### 예제"
   ]
  },
  {
   "cell_type": "code",
   "execution_count": 18,
   "metadata": {},
   "outputs": [
    {
     "name": "stdout",
     "output_type": "stream",
     "text": [
      "I love\n"
     ]
    }
   ],
   "source": [
    "s = 'I love Python'\n",
    "print(s[0:6])"
   ]
  },
  {
   "cell_type": "markdown",
   "metadata": {},
   "source": [
    "__주의:__ `I`와 `love` 사이에 위치한 공백도 하나의 문자로 취급된다."
   ]
  },
  {
   "cell_type": "code",
   "execution_count": 19,
   "metadata": {},
   "outputs": [
    {
     "name": "stdout",
     "output_type": "stream",
     "text": [
      "Python\n"
     ]
    }
   ],
   "source": [
    "print(s[7:13])"
   ]
  },
  {
   "cell_type": "markdown",
   "metadata": {},
   "source": [
    "콜론(`:`) 앞에 있는 첫째 색인을 생략하면, 슬라이스는 문자열의 처음부터 시작한다. "
   ]
  },
  {
   "cell_type": "code",
   "execution_count": 20,
   "metadata": {},
   "outputs": [
    {
     "data": {
      "text/plain": [
       "'ban'"
      ]
     },
     "execution_count": 20,
     "metadata": {},
     "output_type": "execute_result"
    }
   ],
   "source": [
    "fruit = 'banana'\n",
    "fruit[:3]"
   ]
  },
  {
   "cell_type": "markdown",
   "metadata": {},
   "source": [
    "즉, `fruit[:3]`과 `fruit[0:3]`은 동일하다."
   ]
  },
  {
   "cell_type": "code",
   "execution_count": 21,
   "metadata": {},
   "outputs": [
    {
     "data": {
      "text/plain": [
       "True"
      ]
     },
     "execution_count": 21,
     "metadata": {},
     "output_type": "execute_result"
    }
   ],
   "source": [
    "fruit[:3] == fruit[0:3]"
   ]
  },
  {
   "cell_type": "markdown",
   "metadata": {},
   "source": [
    "반면에 콜론(`:`) 뒤에 있는 둘째 색인을 생략하면, 슬라이스는 문자열의 끝까지를 의미한다."
   ]
  },
  {
   "cell_type": "code",
   "execution_count": 22,
   "metadata": {},
   "outputs": [
    {
     "data": {
      "text/plain": [
       "'ana'"
      ]
     },
     "execution_count": 22,
     "metadata": {},
     "output_type": "execute_result"
    }
   ],
   "source": [
    "fruit[3:]"
   ]
  },
  {
   "cell_type": "markdown",
   "metadata": {},
   "source": [
    "즉, `fruit[3:]`과 `fruit[3:len(fruit)]`은 동일하다."
   ]
  },
  {
   "cell_type": "code",
   "execution_count": 23,
   "metadata": {},
   "outputs": [
    {
     "data": {
      "text/plain": [
       "True"
      ]
     },
     "execution_count": 23,
     "metadata": {},
     "output_type": "execute_result"
    }
   ],
   "source": [
    "fruit[3:] == fruit[3:len(fruit)]"
   ]
  },
  {
   "cell_type": "markdown",
   "metadata": {},
   "source": [
    "첫 번째 지수가 두 번째보다 크거나 같으면 결과는 빈 문자열(`''`)이 슬라이싱 된다."
   ]
  },
  {
   "cell_type": "code",
   "execution_count": 24,
   "metadata": {},
   "outputs": [
    {
     "data": {
      "text/plain": [
       "''"
      ]
     },
     "execution_count": 24,
     "metadata": {},
     "output_type": "execute_result"
    }
   ],
   "source": [
    "fruit = 'banana'\n",
    "fruit[3:3]"
   ]
  },
  {
   "cell_type": "markdown",
   "metadata": {},
   "source": [
    "__주의:__ \n",
    "* 빈 문자열(`''`)은 문자를 포함하지 않고 길이가 0인 특수한 문자열이다.\n",
    "* 빈 문자열(`''`)과 하나의 공백으로 이루어진 문자열(`' '`)은 서로 다르다.\n",
    "    * 빈 문자열의 길이는 0이다.\n",
    "    * 하나의 공백으로 이루어진 문자열은 길이가 1이다."
   ]
  },
  {
   "cell_type": "code",
   "execution_count": 25,
   "metadata": {},
   "outputs": [
    {
     "data": {
      "text/plain": [
       "0"
      ]
     },
     "execution_count": 25,
     "metadata": {},
     "output_type": "execute_result"
    }
   ],
   "source": [
    "len('')"
   ]
  },
  {
   "cell_type": "code",
   "execution_count": 26,
   "metadata": {},
   "outputs": [
    {
     "data": {
      "text/plain": [
       "1"
      ]
     },
     "execution_count": 26,
     "metadata": {},
     "output_type": "execute_result"
    }
   ],
   "source": [
    "len(' ')"
   ]
  },
  {
   "cell_type": "markdown",
   "metadata": {},
   "source": [
    "#### 질문\n",
    "\n",
    "`fruit[:]`는 어떤 의미의 슬라이싱인가?"
   ]
  },
  {
   "cell_type": "markdown",
   "metadata": {},
   "source": [
    "## 수정이 불가능한 문자열(immutability)\n",
    "\n",
    "인덱싱을 이용하여 기존의 문자열을 수정하려 시도하면 오류가 발생한다.\n",
    "\n",
    "아래 예제는, `greeting` 이라는 변수에 할당된 `Hello, world!` 문자열의 맨 첫문자인\n",
    "`H`를 `J`로 교체하고자 하면서 발생하는 오류를 보여준다."
   ]
  },
  {
   "cell_type": "code",
   "execution_count": 27,
   "metadata": {},
   "outputs": [
    {
     "ename": "TypeError",
     "evalue": "'str' object does not support item assignment",
     "output_type": "error",
     "traceback": [
      "\u001b[0;31m---------------------------------------------------------------------------\u001b[0m",
      "\u001b[0;31mTypeError\u001b[0m                                 Traceback (most recent call last)",
      "\u001b[0;32m<ipython-input-27-230884f26c44>\u001b[0m in \u001b[0;36m<module>\u001b[0;34m()\u001b[0m\n\u001b[1;32m      1\u001b[0m \u001b[0mgreeting\u001b[0m \u001b[0;34m=\u001b[0m \u001b[0;34m'Hello, world!'\u001b[0m\u001b[0;34m\u001b[0m\u001b[0m\n\u001b[0;32m----> 2\u001b[0;31m \u001b[0mgreeting\u001b[0m\u001b[0;34m[\u001b[0m\u001b[0;36m0\u001b[0m\u001b[0;34m]\u001b[0m \u001b[0;34m=\u001b[0m \u001b[0;34m'J'\u001b[0m\u001b[0;34m\u001b[0m\u001b[0m\n\u001b[0m",
      "\u001b[0;31mTypeError\u001b[0m: 'str' object does not support item assignment"
     ]
    }
   ],
   "source": [
    "greeting = 'Hello, world!'\n",
    "greeting[0] = 'J'"
   ]
  },
  {
   "cell_type": "markdown",
   "metadata": {},
   "source": [
    "앞서 자료형 오류(TypeError)가 발생하는 이유는 간단하다.\n",
    "> __문자열은 수정이 불가능하다!__\n",
    "\n",
    "따라서 `'Hello, world!'`를 이용하여 `'Jello, world!'`를 생성하고자 한다면\n",
    "아래와 같이 기존의 문자열은 건드리지 않으면서 활용만 해야 한다."
   ]
  },
  {
   "cell_type": "code",
   "execution_count": 28,
   "metadata": {},
   "outputs": [
    {
     "name": "stdout",
     "output_type": "stream",
     "text": [
      "Jello, world!\n"
     ]
    }
   ],
   "source": [
    "greeting = 'Hello, world!'\n",
    "new_greeting = 'J' + greeting[1:]\n",
    "print(new_greeting)"
   ]
  },
  {
   "cell_type": "markdown",
   "metadata": {},
   "source": [
    "위 코드에서 사용한 기술은 다음과 같다.\n",
    "* 문자열 이어 붙이기\n",
    "* 문자열 슬라이싱"
   ]
  },
  {
   "cell_type": "markdown",
   "metadata": {},
   "source": [
    "#### 주의사항\n",
    "* 문자열의 수정불가능성은 사용하는 언어에 따라 달라질 수 있다.\n",
    "    * 파이썬과 자바에서에는 수정 불가능(immutable)함.\n",
    "    * C, C++, Ruby 언어에서는 수정 가능함(mutable)."
   ]
  },
  {
   "cell_type": "markdown",
   "metadata": {},
   "source": [
    "## 검색함수 구현하기\n",
    "\n",
    "인터넷 검색에서 가장 중요한 요소는 원하는 단어 또는 문장을 포함한 웹사이트, 문서 등을 찾는 일이다. \n",
    "그리고 인터넷 검색엔진은 기본적으로 문자열만을 대상으로 해서 \n",
    "사용자가 지정한 단어 또는 문장이 포함되어 있는지 여부를 판단한다. \n",
    "반면에 사진 또는 그림에 함께 그려진 문자는 검색 대상에서 제외된다. \n",
    "\n",
    "아래 코드를 잘 살펴보고 `find`라는 함수가 어떤 기능을 갖고 있는지 생각해 보자."
   ]
  },
  {
   "cell_type": "code",
   "execution_count": 29,
   "metadata": {},
   "outputs": [],
   "source": [
    "def find(word, letter):\n",
    "    index = 0\n",
    "    while index < len(word):\n",
    "        if word[index] == letter:\n",
    "            return index\n",
    "        index = index + 1\n",
    "    return -1"
   ]
  },
  {
   "cell_type": "markdown",
   "metadata": {},
   "source": [
    "`find` 함수의 특성은 다음과 같다.\n",
    "* 두 개의 인자를 받는다.\n",
    "* 각각의 인자는 `word`와 `letter` 두 개의 매개변수를 통해 `find` 함수에 전달된다.\n",
    "    즉, `find` 함수를 호출하려면 아래와 같이 사용해야 한다.\n",
    "    ```python\n",
    "    find(주어진문자열, 찾고자하는문자)\n",
    "    ```\n",
    "* 즉, `find` 함수는 어떤 주어진 문자열에 특정 문자가 포함되어 있으면 그 문자가 가장 먼저 나타나는 곳의\n",
    "    색인을 찾아주고, 그렇지 않으면 -1을 리턴한다. \n",
    "    * `while index < len(word)`: `word` 매개변수를 통해 전달된 문자열 전체를 대상으로 탐색함을 의미한다.\n",
    "    * `if word[index] == letter`: `index`가 가리키는 곳의 문자가 `letter` 매개변수를 \n",
    "        통해 전달된 찾고자 하는 문자인지를 확인하고, 확인결과에 따라 탐색을 지속할지 여부를 결정한다.\n",
    "        * 확인 결과가 `True`이면, 즉, 찾고자 하는 문자를 만났다면, 그 자리에서 그 위치의 색인을 리턴하고\n",
    "            프로그램을 멈춘다.\n",
    "        * 확인 결과가 `False`이며, 즉, 찾고자 하는 문자가 아니면 `word`에 전달된 문자열 끝까지\n",
    "            문자열 검색을 이어간다. \n",
    "        * 문자열 끝까지 확인했지만 원하는 문자열을 만나지 못했다면 `while`문을 종료하고, 즉, 탐색을 \n",
    "            중지하고 -1을 리턴하고 프로그램을 종료한다.\n",
    "    \n",
    "            __주의:__ 색인은 0부터 시작함에 주의하라."
   ]
  },
  {
   "cell_type": "markdown",
   "metadata": {},
   "source": [
    "### 함수의 실행과 리턴값\n",
    "\n",
    "함수를 호출하여 실행하다가 실행과정 중에 `return` 명령문이 실행되면 그 함수의 실행은 바로 멈춘다."
   ]
  },
  {
   "cell_type": "markdown",
   "metadata": {},
   "source": [
    "## 순환을 이용한 집계(counting)\n",
    "\n",
    "다음 프로그램은 문자열에서 a가 나타나는 횟수를 집계한다:"
   ]
  },
  {
   "cell_type": "code",
   "execution_count": 30,
   "metadata": {},
   "outputs": [
    {
     "name": "stdout",
     "output_type": "stream",
     "text": [
      "3\n"
     ]
    }
   ],
   "source": [
    "word = 'banana'\n",
    "count = 0\n",
    "for letter in word:\n",
    "    if letter == 'a':\n",
    "        count = count + 1\n",
    "print(count)"
   ]
  },
  {
   "cell_type": "markdown",
   "metadata": {},
   "source": [
    "* 변수 count는 0으로 초기화된 다음 a가 발견될 때마다 1씩 증가합니다. \n",
    "* 순환이 종료할 때, count는 결과를 갖게 됩니다—a의 총 개수."
   ]
  },
  {
   "cell_type": "markdown",
   "metadata": {},
   "source": [
    "## 문자열 메소드\n",
    "메소드(method)는 특정 자료형에만 사용되는 함수이며, 사용 방식도 약간 다르다.\n",
    "예를 들어, `banana` 문자열을 이용하여 `BANANA` 처럼 모두 대문자로만 구성된 \n",
    "문자열을 생성하고자 한다면 `upper` 라는 메소드를 아래와 같이 사용한다. \n",
    "\n",
    ">'banana'.upper()"
   ]
  },
  {
   "cell_type": "code",
   "execution_count": 31,
   "metadata": {},
   "outputs": [
    {
     "name": "stdout",
     "output_type": "stream",
     "text": [
      "BANANA\n"
     ]
    }
   ],
   "source": [
    "word = 'banana'\n",
    "new_word = word.upper()\n",
    "print(new_word)"
   ]
  },
  {
   "cell_type": "markdown",
   "metadata": {},
   "source": [
    "__주의:__ \n",
    "\n",
    "* `upper` 메소드는 절대로 아래와 같이 호출하지 않는다.\n",
    "\n",
    "> upper('banana')\n",
    "\n",
    "위와 같이 `upper` 메소드를 호출하면 `upper` 라는 함수를 모른다는 오류(NameError)를 발생한다."
   ]
  },
  {
   "cell_type": "code",
   "execution_count": 32,
   "metadata": {},
   "outputs": [
    {
     "ename": "NameError",
     "evalue": "name 'upper' is not defined",
     "output_type": "error",
     "traceback": [
      "\u001b[0;31m---------------------------------------------------------------------------\u001b[0m",
      "\u001b[0;31mNameError\u001b[0m                                 Traceback (most recent call last)",
      "\u001b[0;32m<ipython-input-32-f75851478dac>\u001b[0m in \u001b[0;36m<module>\u001b[0;34m()\u001b[0m\n\u001b[0;32m----> 1\u001b[0;31m \u001b[0mupper\u001b[0m\u001b[0;34m(\u001b[0m\u001b[0;34m'banana'\u001b[0m\u001b[0;34m)\u001b[0m\u001b[0;34m\u001b[0m\u001b[0m\n\u001b[0m",
      "\u001b[0;31mNameError\u001b[0m: name 'upper' is not defined"
     ]
    }
   ],
   "source": [
    "upper('banana')"
   ]
  },
  {
   "cell_type": "markdown",
   "metadata": {},
   "source": [
    "* 메소드는 특정 자료형에만 사용할 수 있다. \n",
    "    예를 들어, `upper` 메소드는 문자열을 다룰 때만 사용되며, 다른 자료형에 사용하면 오류가 발생한다.    "
   ]
  },
  {
   "cell_type": "code",
   "execution_count": 33,
   "metadata": {},
   "outputs": [
    {
     "ename": "SyntaxError",
     "evalue": "invalid syntax (<ipython-input-33-5f3aef758883>, line 1)",
     "output_type": "error",
     "traceback": [
      "\u001b[0;36m  File \u001b[0;32m\"<ipython-input-33-5f3aef758883>\"\u001b[0;36m, line \u001b[0;32m1\u001b[0m\n\u001b[0;31m    117.upper()\u001b[0m\n\u001b[0m            ^\u001b[0m\n\u001b[0;31mSyntaxError\u001b[0m\u001b[0;31m:\u001b[0m invalid syntax\n"
     ]
    }
   ],
   "source": [
    "117.upper()"
   ]
  },
  {
   "cell_type": "markdown",
   "metadata": {},
   "source": [
    "### 호출과 인자\n",
    "함수 또는 메소드를 특정 값들과 함께 실행하는 것을 __호출__ 이라고 부르며, \n",
    "함수를 호출할 때 사용되는 값들을 __인자__ 라고 부른다.\n",
    "* 함수를 호출할 때:\n",
    "    > 함수이름(인자1, 인자2, ...)\n",
    "* 메소드를 호출할 때:\n",
    "    > 특정자료형값.메소드이름(인자1, 인자2, ...)\n",
    "\n",
    "* 인자가 필요하지 않은 경우에는 빈 괄호를 사용한다. "
   ]
  },
  {
   "cell_type": "markdown",
   "metadata": {},
   "source": [
    "### `find` 문자열 메소드\n",
    "앞서 구현한 `find` 함수와 동일한 기능을 수행하는 문자열 메소드가 이미 존재하며,\n",
    "메소드의 이름은 역시 `find`이다."
   ]
  },
  {
   "cell_type": "code",
   "execution_count": 34,
   "metadata": {},
   "outputs": [
    {
     "name": "stdout",
     "output_type": "stream",
     "text": [
      "1\n"
     ]
    }
   ],
   "source": [
    "word = 'banana'\n",
    "index = word.find('a')\n",
    "print(index)"
   ]
  },
  {
   "cell_type": "markdown",
   "metadata": {},
   "source": [
    "`find` 메소드는 문자뿐만 아니라 부분문자열을 둘 째 인자로 활용하여 특정 부분문자열이 시작하는 색인의 위치를 알려준다."
   ]
  },
  {
   "cell_type": "code",
   "execution_count": 35,
   "metadata": {},
   "outputs": [
    {
     "data": {
      "text/plain": [
       "2"
      ]
     },
     "execution_count": 35,
     "metadata": {},
     "output_type": "execute_result"
    }
   ],
   "source": [
    "word.find('na')"
   ]
  },
  {
   "cell_type": "markdown",
   "metadata": {},
   "source": [
    "또한 검색을 시작할 색인을 추가 인자로 받을 수 있다."
   ]
  },
  {
   "cell_type": "code",
   "execution_count": 36,
   "metadata": {},
   "outputs": [
    {
     "data": {
      "text/plain": [
       "4"
      ]
     },
     "execution_count": 36,
     "metadata": {},
     "output_type": "execute_result"
    }
   ],
   "source": [
    "word.find('na', 3)"
   ]
  },
  {
   "cell_type": "markdown",
   "metadata": {},
   "source": [
    "심지어 검색을 어디서 멈춰야 할지를 추가 인자로 지정할 수도 있다."
   ]
  },
  {
   "cell_type": "code",
   "execution_count": 37,
   "metadata": {},
   "outputs": [
    {
     "data": {
      "text/plain": [
       "-1"
      ]
     },
     "execution_count": 37,
     "metadata": {},
     "output_type": "execute_result"
    }
   ],
   "source": [
    "name = 'bob'\n",
    "name.find('b', 1, 2)"
   ]
  },
  {
   "cell_type": "markdown",
   "metadata": {},
   "source": [
    "결과가 -1이라는 것은 검색이 실패했다는 의미이다. \n",
    "위 검색이 실패하는 이유는 `b`가 1 에서 2까지의 색인 범위(2는 포함하지 않음)에 나타나지 않기 때문이다."
   ]
  },
  {
   "cell_type": "markdown",
   "metadata": {},
   "source": [
    "## 문자열 관련 논리 연산자"
   ]
  },
  {
   "cell_type": "markdown",
   "metadata": {},
   "source": [
    "### 부분 문자열 여부 연산자: `in`\n",
    "\n",
    "`in`은 두 개의 문자열을 받아들여서, 첫 째 문자열이 둘 째 문자열의 부분 문자열로 등장하는지 \n",
    "여부를 알려주는 논리 연산자이다."
   ]
  },
  {
   "cell_type": "code",
   "execution_count": 38,
   "metadata": {},
   "outputs": [
    {
     "data": {
      "text/plain": [
       "True"
      ]
     },
     "execution_count": 38,
     "metadata": {},
     "output_type": "execute_result"
    }
   ],
   "source": [
    "'an' in 'banana'"
   ]
  },
  {
   "cell_type": "code",
   "execution_count": 39,
   "metadata": {},
   "outputs": [
    {
     "data": {
      "text/plain": [
       "False"
      ]
     },
     "execution_count": 39,
     "metadata": {},
     "output_type": "execute_result"
    }
   ],
   "source": [
    "'seed' in 'banana'"
   ]
  },
  {
   "cell_type": "markdown",
   "metadata": {},
   "source": [
    "#### 예제\n",
    "아래 정의된 `in_both` 함수를 두 개의 문자열과 함께 호출하면 \n",
    "두 개의 문자열에 공동으로 사용된 문자들을 모두 출력한다."
   ]
  },
  {
   "cell_type": "code",
   "execution_count": 40,
   "metadata": {},
   "outputs": [],
   "source": [
    "def in_both(word1, word2):\n",
    "    for letter in word1:\n",
    "        if letter in word2:\n",
    "            print(letter)"
   ]
  },
  {
   "cell_type": "code",
   "execution_count": 41,
   "metadata": {},
   "outputs": [
    {
     "name": "stdout",
     "output_type": "stream",
     "text": [
      "a\n",
      "e\n",
      "s\n"
     ]
    }
   ],
   "source": [
    "in_both('apples', 'oranges')"
   ]
  },
  {
   "cell_type": "markdown",
   "metadata": {},
   "source": [
    "### 문자열 비교 연산자: `==`, `!=`, `<`, `>`, \n",
    "비교 연산자를 문자열에 사용할 수 있다. \n",
    "* 두 문자열의 동일성 여부 판단"
   ]
  },
  {
   "cell_type": "code",
   "execution_count": 42,
   "metadata": {},
   "outputs": [
    {
     "name": "stdout",
     "output_type": "stream",
     "text": [
      "바나나 맞아요\n"
     ]
    }
   ],
   "source": [
    "word = 'banana'\n",
    "if word == 'banana':\n",
    "    print('바나나 맞아요')"
   ]
  },
  {
   "cell_type": "code",
   "execution_count": 43,
   "metadata": {},
   "outputs": [
    {
     "name": "stdout",
     "output_type": "stream",
     "text": [
      "바나나 아니에요\n"
     ]
    }
   ],
   "source": [
    "word = 'pineapple'\n",
    "if word != 'banana':\n",
    "    print('바나나 아니에요')"
   ]
  },
  {
   "cell_type": "markdown",
   "metadata": {},
   "source": [
    "크기 비교 연산자들은 영어 사전식의 알파벳 순서를 사용하며, 단어들을 알파벳 순으로 배치하는데 유용하다."
   ]
  },
  {
   "cell_type": "code",
   "execution_count": 44,
   "metadata": {},
   "outputs": [
    {
     "name": "stdout",
     "output_type": "stream",
     "text": [
      "Your word,pineapple, comes after banana.\n"
     ]
    }
   ],
   "source": [
    "if word < 'banana':\n",
    "    print('Your word,' + word + ', comes before banana.')\n",
    "elif word > 'banana':\n",
    "    print('Your word,' + word + ', comes after banana.')\n",
    "else:\n",
    "    print('All right, bananas.')"
   ]
  },
  {
   "cell_type": "markdown",
   "metadata": {},
   "source": [
    "__주의:__ \n",
    "* 영어 알파벳의 경우 대문자가 소문자보다 작다고 판단한다. \n",
    "* 따라서 문자열을 다룰 때 소문자 또는 대문자로 통일시킨 후에 비교를 해야 사전식으로 제대로 정렬할 수 있다."
   ]
  },
  {
   "cell_type": "code",
   "execution_count": 45,
   "metadata": {},
   "outputs": [
    {
     "data": {
      "text/plain": [
       "True"
      ]
     },
     "execution_count": 45,
     "metadata": {},
     "output_type": "execute_result"
    }
   ],
   "source": [
    "'Pineapple' < 'banana'"
   ]
  },
  {
   "cell_type": "markdown",
   "metadata": {},
   "source": [
    "## 디버깅 연습\n",
    "\n",
    "아래의 `is_reverse` 함수는 인자로 입력된 두 문자열이 서로 뒤집어진 관계인지를 판단하는 기능을 갖도록 정의되었다. "
   ]
  },
  {
   "cell_type": "code",
   "execution_count": 46,
   "metadata": {},
   "outputs": [],
   "source": [
    "def is_reverse(word1, word2):\n",
    "    if len(word1) != len(word2):\n",
    "        return False\n",
    "\n",
    "    i = 0\n",
    "    j = len(word2)\n",
    "\n",
    "    while j > 0:\n",
    "        if word1[i] != word2[j]:\n",
    "            return False\n",
    "        i = i+1\n",
    "        j = j-1\n",
    "\n",
    "    return True"
   ]
  },
  {
   "cell_type": "markdown",
   "metadata": {},
   "source": [
    "코드 설명:\n",
    "\n",
    "* 첫 번째 `if` 명령문은 단어들의 길이가 같은지 검사하며, 즉시 `False`를 리턴하고 실행을 종료한다. \n",
    "* 두 단어의 길이가 같을 경우, 두 단어를 탐색하기 위해 두 개의 색인 지수인 `i`와 `j` 선언.\n",
    "* `while` 명령문\n",
    "    * `i`는 `word1`를 순방향으로 탐색\n",
    "    * `j`는 `word2`를 역방향으로 탐색\n",
    "    * 만약 두 글자가 다른 경우를 발견하면, 즉시 `False`를 리턴하고 실행 종료.\n",
    "* `while` 명령문이 끝난 경우\n",
    "    * 두 단어가 서로 뒤집힌 관계인을 의미\n",
    "    * 따라서 `True` 리턴하고 실행 종료."
   ]
  },
  {
   "cell_type": "markdown",
   "metadata": {},
   "source": [
    "그런데 위 함수는 잘못 정의되어 있다. \n",
    "`is_reverse` 함수의 정의가 문법상으로는 하자가 없지만 실행을 하다보면 오류가 발생한다.\n",
    "이와 같은 오류를 __실행시간 오류(runtime error)__ 라 부른다."
   ]
  },
  {
   "cell_type": "code",
   "execution_count": 47,
   "metadata": {},
   "outputs": [
    {
     "ename": "IndexError",
     "evalue": "string index out of range",
     "output_type": "error",
     "traceback": [
      "\u001b[0;31m---------------------------------------------------------------------------\u001b[0m",
      "\u001b[0;31mIndexError\u001b[0m                                Traceback (most recent call last)",
      "\u001b[0;32m<ipython-input-47-675f5fef8649>\u001b[0m in \u001b[0;36m<module>\u001b[0;34m()\u001b[0m\n\u001b[0;32m----> 1\u001b[0;31m \u001b[0mis_reverse\u001b[0m\u001b[0;34m(\u001b[0m\u001b[0;34m'pots'\u001b[0m\u001b[0;34m,\u001b[0m \u001b[0;34m'stop'\u001b[0m\u001b[0;34m)\u001b[0m\u001b[0;34m\u001b[0m\u001b[0m\n\u001b[0m",
      "\u001b[0;32m<ipython-input-46-6ac5eac2af26>\u001b[0m in \u001b[0;36mis_reverse\u001b[0;34m(word1, word2)\u001b[0m\n\u001b[1;32m      7\u001b[0m \u001b[0;34m\u001b[0m\u001b[0m\n\u001b[1;32m      8\u001b[0m     \u001b[0;32mwhile\u001b[0m \u001b[0mj\u001b[0m \u001b[0;34m>\u001b[0m \u001b[0;36m0\u001b[0m\u001b[0;34m:\u001b[0m\u001b[0;34m\u001b[0m\u001b[0m\n\u001b[0;32m----> 9\u001b[0;31m         \u001b[0;32mif\u001b[0m \u001b[0mword1\u001b[0m\u001b[0;34m[\u001b[0m\u001b[0mi\u001b[0m\u001b[0;34m]\u001b[0m \u001b[0;34m!=\u001b[0m \u001b[0mword2\u001b[0m\u001b[0;34m[\u001b[0m\u001b[0mj\u001b[0m\u001b[0;34m]\u001b[0m\u001b[0;34m:\u001b[0m\u001b[0;34m\u001b[0m\u001b[0m\n\u001b[0m\u001b[1;32m     10\u001b[0m             \u001b[0;32mreturn\u001b[0m \u001b[0;32mFalse\u001b[0m\u001b[0;34m\u001b[0m\u001b[0m\n\u001b[1;32m     11\u001b[0m         \u001b[0mi\u001b[0m \u001b[0;34m=\u001b[0m \u001b[0mi\u001b[0m\u001b[0;34m+\u001b[0m\u001b[0;36m1\u001b[0m\u001b[0;34m\u001b[0m\u001b[0m\n",
      "\u001b[0;31mIndexError\u001b[0m: string index out of range"
     ]
    }
   ],
   "source": [
    "is_reverse('pots', 'stop')"
   ]
  },
  {
   "cell_type": "markdown",
   "metadata": {},
   "source": [
    "이런 종류의 오류를 디버깅할 때 오류가 발생한 줄 바로 앞에서 색인의 값을 인쇄해보는 것이다."
   ]
  },
  {
   "cell_type": "code",
   "execution_count": 48,
   "metadata": {},
   "outputs": [],
   "source": [
    "def is_reverse(word1, word2):\n",
    "    if len(word1) != len(word2):\n",
    "        return False\n",
    "\n",
    "    i = 0\n",
    "    j = len(word2)\n",
    "\n",
    "    while j > 0:\n",
    "        print(i, j)                 # print 명령문 추가\n",
    "        if word1[i] != word2[j]:\n",
    "            return False\n",
    "        i = i+1\n",
    "        j = j-1\n",
    "\n",
    "    return True"
   ]
  },
  {
   "cell_type": "markdown",
   "metadata": {},
   "source": [
    "다시 실행하면 좀 더 많은 정보를 얻는다."
   ]
  },
  {
   "cell_type": "code",
   "execution_count": 49,
   "metadata": {},
   "outputs": [
    {
     "name": "stdout",
     "output_type": "stream",
     "text": [
      "0 4\n"
     ]
    },
    {
     "ename": "IndexError",
     "evalue": "string index out of range",
     "output_type": "error",
     "traceback": [
      "\u001b[0;31m---------------------------------------------------------------------------\u001b[0m",
      "\u001b[0;31mIndexError\u001b[0m                                Traceback (most recent call last)",
      "\u001b[0;32m<ipython-input-49-675f5fef8649>\u001b[0m in \u001b[0;36m<module>\u001b[0;34m()\u001b[0m\n\u001b[0;32m----> 1\u001b[0;31m \u001b[0mis_reverse\u001b[0m\u001b[0;34m(\u001b[0m\u001b[0;34m'pots'\u001b[0m\u001b[0;34m,\u001b[0m \u001b[0;34m'stop'\u001b[0m\u001b[0;34m)\u001b[0m\u001b[0;34m\u001b[0m\u001b[0m\n\u001b[0m",
      "\u001b[0;32m<ipython-input-48-2bb5a8f33caa>\u001b[0m in \u001b[0;36mis_reverse\u001b[0;34m(word1, word2)\u001b[0m\n\u001b[1;32m      8\u001b[0m     \u001b[0;32mwhile\u001b[0m \u001b[0mj\u001b[0m \u001b[0;34m>\u001b[0m \u001b[0;36m0\u001b[0m\u001b[0;34m:\u001b[0m\u001b[0;34m\u001b[0m\u001b[0m\n\u001b[1;32m      9\u001b[0m         \u001b[0mprint\u001b[0m\u001b[0;34m(\u001b[0m\u001b[0mi\u001b[0m\u001b[0;34m,\u001b[0m \u001b[0mj\u001b[0m\u001b[0;34m)\u001b[0m                 \u001b[0;31m# print 명령문 추가\u001b[0m\u001b[0;34m\u001b[0m\u001b[0m\n\u001b[0;32m---> 10\u001b[0;31m         \u001b[0;32mif\u001b[0m \u001b[0mword1\u001b[0m\u001b[0;34m[\u001b[0m\u001b[0mi\u001b[0m\u001b[0;34m]\u001b[0m \u001b[0;34m!=\u001b[0m \u001b[0mword2\u001b[0m\u001b[0;34m[\u001b[0m\u001b[0mj\u001b[0m\u001b[0;34m]\u001b[0m\u001b[0;34m:\u001b[0m\u001b[0;34m\u001b[0m\u001b[0m\n\u001b[0m\u001b[1;32m     11\u001b[0m             \u001b[0;32mreturn\u001b[0m \u001b[0;32mFalse\u001b[0m\u001b[0;34m\u001b[0m\u001b[0m\n\u001b[1;32m     12\u001b[0m         \u001b[0mi\u001b[0m \u001b[0;34m=\u001b[0m \u001b[0mi\u001b[0m\u001b[0;34m+\u001b[0m\u001b[0;36m1\u001b[0m\u001b[0;34m\u001b[0m\u001b[0m\n",
      "\u001b[0;31mIndexError\u001b[0m: string index out of range"
     ]
    }
   ],
   "source": [
    "is_reverse('pots', 'stop')"
   ]
  },
  {
   "cell_type": "markdown",
   "metadata": {},
   "source": [
    "### 1차 수정\n",
    "`while` 명령문을 시작하면서 `i`와 `j`에 할당된 색인값을 출력한다. \n",
    "그런데 `j`의 값은 4인데, 문자열 'pots'의 범위를 벗어나기 때문에 오류가 발생한다. \n",
    "마지막 문자의 지수는 문자열의 길이에서 1을 빼야 하므로, `j`의 초기값은 `len(word2)-1`이어야 한다."
   ]
  },
  {
   "cell_type": "code",
   "execution_count": 50,
   "metadata": {},
   "outputs": [],
   "source": [
    "def is_reverse(word1, word2):\n",
    "    if len(word1) != len(word2):\n",
    "        return False\n",
    "\n",
    "    i = 0\n",
    "    j = len(word2) - 1              # 1차 수정\n",
    "\n",
    "    while j > 0:\n",
    "        print(i, j)                 # print 명령문 추가\n",
    "        if word1[i] != word2[j]:\n",
    "            return False\n",
    "        i = i+1\n",
    "        j = j-1\n",
    "\n",
    "    return True"
   ]
  },
  {
   "cell_type": "code",
   "execution_count": 51,
   "metadata": {},
   "outputs": [
    {
     "name": "stdout",
     "output_type": "stream",
     "text": [
      "0 3\n",
      "1 2\n",
      "2 1\n"
     ]
    },
    {
     "data": {
      "text/plain": [
       "True"
      ]
     },
     "execution_count": 51,
     "metadata": {},
     "output_type": "execute_result"
    }
   ],
   "source": [
    "is_reverse('pots', 'stop')"
   ]
  },
  {
   "cell_type": "markdown",
   "metadata": {},
   "source": [
    "이번에는 답은 맞았지만 `while` 순환이 세 번만 실행된 것으로 확인된다. \n",
    "실제로 아래의 경우에는 오답을 리턴한다."
   ]
  },
  {
   "cell_type": "code",
   "execution_count": 52,
   "metadata": {},
   "outputs": [
    {
     "name": "stdout",
     "output_type": "stream",
     "text": [
      "0 3\n",
      "1 2\n",
      "2 1\n"
     ]
    },
    {
     "data": {
      "text/plain": [
       "True"
      ]
     },
     "execution_count": 52,
     "metadata": {},
     "output_type": "execute_result"
    }
   ],
   "source": [
    "is_reverse('pota', 'stop')"
   ]
  },
  {
   "cell_type": "markdown",
   "metadata": {},
   "source": [
    "### 2차 수정\n",
    "`while` 순환이 세 번만 실행되기에 `pota`의 마지막 문자인 `a`와 `stop`의 첫째 문자인 `s`의 \n",
    "비교는 실행되지 않기 때문이다.\n",
    "\n",
    "즉, `j`의 값이 0인 경우를 다루지 않는다. 따라서 코드를 아래와 같이 추가 수정해야 한다."
   ]
  },
  {
   "cell_type": "code",
   "execution_count": 53,
   "metadata": {},
   "outputs": [],
   "source": [
    "def is_reverse(word1, word2):\n",
    "    if len(word1) != len(word2):\n",
    "        return False\n",
    "\n",
    "    i = 0\n",
    "    j = len(word2) - 1              # 1차 수정\n",
    "\n",
    "    while j >= 0:                   # 2차 수정\n",
    "        print(i, j)                 # print 명령문 추가\n",
    "        if word1[i] != word2[j]:\n",
    "            return False\n",
    "        i = i+1\n",
    "        j = j-1\n",
    "\n",
    "    return True"
   ]
  },
  {
   "cell_type": "code",
   "execution_count": 54,
   "metadata": {},
   "outputs": [
    {
     "name": "stdout",
     "output_type": "stream",
     "text": [
      "0 3\n",
      "1 2\n",
      "2 1\n",
      "3 0\n"
     ]
    },
    {
     "data": {
      "text/plain": [
       "False"
      ]
     },
     "execution_count": 54,
     "metadata": {},
     "output_type": "execute_result"
    }
   ],
   "source": [
    "is_reverse('pota', 'stop')"
   ]
  },
  {
   "cell_type": "markdown",
   "metadata": {},
   "source": [
    "이제 `is_reverse` 함수가 제대로 작동함을 확인하였다. \n",
    "따라서 디버깅을 위해 추가한 `print` 명령문을 이제는 삭제하는 게 좋다."
   ]
  },
  {
   "cell_type": "code",
   "execution_count": 55,
   "metadata": {},
   "outputs": [],
   "source": [
    "def is_reverse(word1, word2):\n",
    "    if len(word1) != len(word2):\n",
    "        return False\n",
    "\n",
    "    i = 0\n",
    "    j = len(word2) - 1\n",
    "\n",
    "    while j >= 0:\n",
    "        if word1[i] != word2[j]:\n",
    "            return False\n",
    "        i = i+1\n",
    "        j = j-1\n",
    "\n",
    "    return True"
   ]
  },
  {
   "cell_type": "markdown",
   "metadata": {},
   "source": [
    "## 연습문제"
   ]
  },
  {
   "cell_type": "markdown",
   "metadata": {},
   "source": [
    "1. 아래 코드를 수정하여 `Qack` 대신에 `Quack`가 출력되도록 하라.\n",
    "    ```python\n",
    "    prefixes = 'JKLMNOPQ'\n",
    "    suffix = 'ack'\n",
    "\n",
    "    for letter in prefixes:\n",
    "        print(letter + suffix)\n",
    "    ```\n",
    "    __힌트:__ `if ... else ...` 명령문을 활용할 수 있다.\n",
    "<br><br>\n",
    "1. 아래 코드는 앞서 살펴본 `find` 검색함수이다. \n",
    "    ```python\n",
    "    def find(word, letter):\n",
    "        index = 0\n",
    "        while index < len(word):\n",
    "            if word[index] == letter:\n",
    "                return index\n",
    "            index = index + 1\n",
    "        return -1\n",
    "    ```\n",
    "    아래 조건을 만족시키도록 `find` 함수를 수정하라. \n",
    "    * 인자를 세 개 받는다. 예를 들어, `word`와 `letter` 두 개의 매개변수와 더불어 \n",
    "        `position`이라는 매개변수를 하나 더 사용하도록 한다. \n",
    "    * `position` 매개변수는 정수가 `find` 함수에 전달되는 기능을 수행한다.\n",
    "    * `position`을 통해 전달된 정수는 탐색을 시작할 위치를 나타내도록 한다.\n",
    "    즉, 앞서 정의된 `find` 함수는 `position`이 0인 특수한 경우가 되도록 한다.\n",
    "<br><br>\n",
    "1. 아래는 순환을 이용한 집계(counting)에 사용된 코드이다.\n",
    "    ```python\n",
    "    word = 'banana'\n",
    "    count = 0\n",
    "    for letter in word:\n",
    "        if letter == 'a':\n",
    "            count = count + 1\n",
    "    print(count)\n",
    "    ```\n",
    "    1. 위 코드를 이용하여 문자열과 문자를 인자로 받는 `counting`라는 이름의 함수를 선언하라. \n",
    "    즉, `counting('banana', 'a')` 형식으로 호출되면 `banana` 문자열에서 `a` 문자가 몇 번 나타나는지를 확인해주어야 한다.\n",
    "    1. 앞서 `find` 함수의 경우처럼 `counting` 함수를 인자를 하나 더 받아서 특정 색인 이후 지정한 문자가 몇 번 출현하는지를 집계하도록 수정하라.\n",
    "<br><br>\n",
    "1. `count`라는 문자열 메소드의 활요예제를 3개 들어라. \n",
    "<br><br>\n",
    "1. `strip`라는 문자열 메소드의 활요예제를 3개 들어라. \n",
    "<br><br>\n",
    "1. `replace`라는 문자열 메소드의 활요예제를 3개 들어라. \n",
    "<br><br>\n",
    "1. 영어 단어 중에서 `radar`, `noon` 등과 같이 앞으로 읽으나 뒤로 읽으나 스펠링이 동일한 단어를 \n",
    "    회문(palindrome)이라 한다.\n",
    "    문자열이 회문이면 `True`를, 아니면 `False`를 리턴하는 함수 `is_palindrome`을 구현하라.\n",
    "    즉, 아래 코드에서 `pass` 부분을 적당한 코드로 구현하라. \n",
    "    ```python\n",
    "    def is_palindrome(word)\n",
    "        pass\n",
    "    ```\n",
    "1. 문자열 슬라이싱은 __간격(step)__ 의 크기를 지정하는 세 번째 값을 취할 수 있다.\n",
    "    스텝은 몇 개 건너 하나씩 문자를 선택할지를 지정할 때 사용한다. \n",
    "    예를 들어, 스텝이 2이면 하나 건너 한 글자씩, 3이면 두 개 건너 한 글자씩 취한다는 의미이다.\n",
    "    ```python\n",
    "    fruit = 'banana'\n",
    "    fruit[0:5:2]\n",
    "    'bnn'\n",
    "    ```\n",
    "    스텝이 -1이면 슬라이싱을 역순으로 한다는 의미이며, [::-1]을 사용하면 문자열을 뒤집어서 추출한다는 의미이다.\n",
    "    이제 앞선 문제에서 다룬 `is_palindrome` 함수를 스텝을 이용하여 구현하라.\n",
    "<br><br>    \n",
    "1. 다음 함수들은 모두 문자열이 소문자를 포함하고 있는지 여부를 조사하도록 구현되었지만 \n",
    "    일부는 제대로 작동하지 않는다. \n",
    "    각각의 함수마다, 함수가 실제로 무엇을 하는지 설명하라. (인자는 문자열이 들어오는 경우를 다룬다.)\n",
    "    ```python\n",
    "    def any_lowercase1(s):\n",
    "        for c in s:\n",
    "            if c.islower():\n",
    "                return True\n",
    "            else:\n",
    "                return False\n",
    "\n",
    "    def any_lowercase2(s):\n",
    "        for c in s:\n",
    "            if 'c'.islower():\n",
    "                return 'True'\n",
    "            else:\n",
    "                return 'False'\n",
    "\n",
    "    def any_lowercase3(s):\n",
    "        for c in s:\n",
    "            flag = c.islower()\n",
    "        return flag\n",
    "\n",
    "    def any_lowercase4(s):\n",
    "        flag = False\n",
    "        for c in s:\n",
    "            flag = flag or c.islower()\n",
    "        return flag\n",
    "\n",
    "    def any_lowercase5(s):\n",
    "        for c in s:\n",
    "            if not c.islower():\n",
    "                return False\n",
    "        return True\n",
    "    ```\n",
    "1. ROT13은 단어의 각 글자를 13자리만큼 회전 시키는 방식의 간단한 암호 법이다. \n",
    "    글자를 회전한다는 것은 알파벳 상의 위치를 이동한다는 뜻이다. \n",
    "    예를 들어, `'A'` 를 3만큼 이동하면 `'D'`가, `'Z'` 를 1만 큼 이동하면 `'A'`가 된다.\n",
    "    <br><br>\n",
    "    문자열과 정수를 매개변수로 받아들여서 원래 문자열을 요청한 양만큼 \"회전\"시킨 문자열을 \n",
    "    리턴하는 함수 `rotate_word`를 구현하라. \n",
    "    예를 들어, `'cheer'` 를 7만큼 회전시키면 `'jolly'` 이고 `'melon'` 을 -10만큼 \n",
    "    회전시키면 `'cubed'`가 되어야 한다.\n",
    "    #### 힌트:\n",
    "    문자를 숫자 코드로 형변환하는 `ord` 내장함수와 \n",
    "    숫자코드를 문자로 형변환 시키는 `chr` 내장함수를 이용할 수 있다.\n",
    "    아래 사이트에 가면 모범답안이 있다. 하지만 먼저 스스로 해결하도록 노력해 보아야 한다.\n",
    "    <br><br>\n",
    "    http://thinkpython.com/code/rotate.py\n",
    "    <br><br>\n",
    "    __내장함수란?__ 파이썬에서 이미 정의된 함수를 의미한다."
   ]
  }
 ],
 "metadata": {
  "kernelspec": {
   "display_name": "Python 3",
   "language": "python",
   "name": "python3"
  },
  "language_info": {
   "codemirror_mode": {
    "name": "ipython",
    "version": 3
   },
   "file_extension": ".py",
   "mimetype": "text/x-python",
   "name": "python",
   "nbconvert_exporter": "python",
   "pygments_lexer": "ipython3",
   "version": "3.6.3"
  }
 },
 "nbformat": 4,
 "nbformat_minor": 2
}
