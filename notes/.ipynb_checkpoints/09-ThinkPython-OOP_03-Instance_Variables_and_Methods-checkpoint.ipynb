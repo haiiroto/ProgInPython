{
 "cells": [
  {
   "cell_type": "markdown",
   "metadata": {},
   "source": [
    "# 인스턴스 변수와 인스턴스 메소드"
   ]
  },
  {
   "cell_type": "markdown",
   "metadata": {},
   "source": [
    "클래스에 포함되는 코드는 기본적은 변수 선언과 함수 정의로 구성된다.\n",
    "[이전](https://github.com/liganega/bpp/blob/master/notes/08-ThinkPython-OOP_02-Class_and_Instance.ipynb)에\n",
    "다룬 `Character` 클래스를 다시 살펴보자.\n",
    "\n",
    "---\n",
    "```python\n",
    "class Character(object):\n",
    "    \n",
    "    def __init__(self, name, health, damage, inventory):\n",
    "        print(\"제 이름은 %s입니다\" % name)\n",
    "        print(\"현재 저의 체력은 %s입니다.\" % health)\n",
    "        print(\"저는 공격할 때마다 상대방에게 %s만큼의 손상을 줍니다.\" % damage)\n",
    "        print(\"제 수트의 방어력은 %d이며 사용하는 무기는 %s입니다.\" % \\\n",
    "              (inventory['suit'], inventory['weapon']))\n",
    "```\n",
    "---\n",
    "\n",
    "현재 상태의 `Character` 클래스에서는 생성자 메소드 이외에 어떠한 변수 또는 함수가 정의되어 있지 않다.\n",
    "이런 경우, 인스턴스를 생성한다 해도 생성된 캐릭터는 자기 소개 이외에 달리 할 수 있는 일이 없다.\n",
    "이제 기능을 하나씩 추가해보자."
   ]
  },
  {
   "cell_type": "markdown",
   "metadata": {},
   "source": [
    "## 인스턴스 변수"
   ]
  },
  {
   "cell_type": "markdown",
   "metadata": {},
   "source": [
    "먼저 자기 이름을 밝히라고 할 때 이름을 말하는 기능을 추가해보자.\n",
    "그러려면 `Character` 클래스 내부에 캐릭터이름을 말하는 메소드가 추가되어야 한다.\n",
    "\n",
    "아래와 같이 시도해 보자."
   ]
  },
  {
   "cell_type": "code",
   "execution_count": 1,
   "metadata": {},
   "outputs": [],
   "source": [
    "class Character(object):\n",
    "    \n",
    "    def __init__(self, name, health, damage, inventory):\n",
    "        print(\"제 이름은 %s입니다\" % name)\n",
    "        print(\"현재 저의 체력은 %s입니다.\" % health)\n",
    "        print(\"저는 공격할 때마다 상대방에게 %s만큼의 손상을 줍니다.\" % damage)\n",
    "        print(\"제 수트의 방어력은 %d이며 사용하는 무기는 %s입니다.\" % \\\n",
    "              (inventory['suit'], inventory['weapon']))\n",
    "\n",
    "    # 이름말하기 메소드\n",
    "    def nameCall(self):\n",
    "        print(\"제 이름은 %s입니다.\" % name)"
   ]
  },
  {
   "cell_type": "markdown",
   "metadata": {},
   "source": [
    "즉, `nameCall` 메소드를 호출하면 `name` 변수에 할당된 값을 출력해야 한다.\n",
    "이제 `ironman` 인스턴스를 생성해서 이름을 말하라고 명령을 내려보자."
   ]
  },
  {
   "cell_type": "code",
   "execution_count": 2,
   "metadata": {},
   "outputs": [
    {
     "name": "stdout",
     "output_type": "stream",
     "text": [
      "제 이름은 아이언맨입니다\n",
      "현재 저의 체력은 100입니다.\n",
      "저는 공격할 때마다 상대방에게 200만큼의 손상을 줍니다.\n",
      "제 수트의 방어력은 500이며 사용하는 무기는 레이저입니다.\n"
     ]
    }
   ],
   "source": [
    "ironman = Character('아이언맨', 100, 200, {'suit': 500, 'weapon': '레이저'})"
   ]
  },
  {
   "cell_type": "code",
   "execution_count": 3,
   "metadata": {},
   "outputs": [
    {
     "ename": "NameError",
     "evalue": "name 'name' is not defined",
     "output_type": "error",
     "traceback": [
      "\u001b[0;31m---------------------------------------------------------------------------\u001b[0m",
      "\u001b[0;31mNameError\u001b[0m                                 Traceback (most recent call last)",
      "\u001b[0;32m<ipython-input-3-3020132df1c6>\u001b[0m in \u001b[0;36m<module>\u001b[0;34m()\u001b[0m\n\u001b[0;32m----> 1\u001b[0;31m \u001b[0mironman\u001b[0m\u001b[0;34m.\u001b[0m\u001b[0mnameCall\u001b[0m\u001b[0;34m(\u001b[0m\u001b[0;34m)\u001b[0m\u001b[0;34m\u001b[0m\u001b[0m\n\u001b[0m",
      "\u001b[0;32m<ipython-input-1-6638d91cb10a>\u001b[0m in \u001b[0;36mnameCall\u001b[0;34m(self)\u001b[0m\n\u001b[1;32m      9\u001b[0m     \u001b[0;31m# 이름말하기 메소드\u001b[0m\u001b[0;34m\u001b[0m\u001b[0;34m\u001b[0m\u001b[0m\n\u001b[1;32m     10\u001b[0m     \u001b[0;32mdef\u001b[0m \u001b[0mnameCall\u001b[0m\u001b[0;34m(\u001b[0m\u001b[0mself\u001b[0m\u001b[0;34m)\u001b[0m\u001b[0;34m:\u001b[0m\u001b[0;34m\u001b[0m\u001b[0m\n\u001b[0;32m---> 11\u001b[0;31m         \u001b[0mprint\u001b[0m\u001b[0;34m(\u001b[0m\u001b[0;34m\"제 이름은 %s입니다.\"\u001b[0m \u001b[0;34m%\u001b[0m \u001b[0mname\u001b[0m\u001b[0;34m)\u001b[0m\u001b[0;34m\u001b[0m\u001b[0m\n\u001b[0m",
      "\u001b[0;31mNameError\u001b[0m: name 'name' is not defined"
     ]
    }
   ],
   "source": [
    "ironman.nameCall()"
   ]
  },
  {
   "cell_type": "markdown",
   "metadata": {},
   "source": [
    "`name` 이라는 이름을 모른다는 `NameError` 오류가 발생한다.\n",
    "반면에 `ironman` 인스턴스를 생성할 때 분명이 오류 없이 '아이언맨' 이란 이름이 잘 전달되었다.\n",
    "이유가 무엇일까? \n",
    "이유는 간단하다.\n",
    "생성자 메소드를 통해 입력된 인자들이 생성자 메소드 밖으로 전달되지 않기 때문이며,\n",
    "이는 함수의 매개변수들이 소위 \"지역변수\"로서 갖는 한계이다. \n",
    "\n",
    "**주의:** 매개변수는 지정된 함수를 벗어나서는 사용되지 못한다.\n",
    "\n",
    "그렇다면 어떻게 해야 하나?\n",
    "생성자 메소드의 매개변수를 통해 전달되는 인자들이 생성자 메소드 밖으로 전달되어\n",
    "생성된 인스턴스의 어디에서도 사용될 수 있도록 하는 기능이 필요하다.\n",
    "그리고 바로 이런 기능을 위해 소위 __인스턴스 변수__를 사용한다."
   ]
  },
  {
   "cell_type": "markdown",
   "metadata": {},
   "source": [
    "### 인스턴스 변수의 기능"
   ]
  },
  {
   "cell_type": "markdown",
   "metadata": {},
   "source": [
    "인스턴스 변수는 인스턴스를 생성할 때 생성자의 매개변수를 통해 전달되는 값들을 저장하여 생성되는 인스턴스가 언제든 사용할 수 있도록 하는 기능을 갖는다. \n",
    "\n",
    "예를 들어, `nameCall` 함수가 호출되었을 때 필요한 캐릭터 이름을 기억해 두는 인스턴스 변수가 생성자가 호출되어 실행될 때 함께 선언되어야 한다.\n",
    "파이썬의 클래스에서 선언되는 인스턴스 변수는 항상 `self` 키워드를 함께 사용한다는 점을 기억해야 한다."
   ]
  },
  {
   "cell_type": "code",
   "execution_count": 4,
   "metadata": {},
   "outputs": [],
   "source": [
    "class Character(object):\n",
    "    \n",
    "    def __init__(self, name, health, damage, inventory):\n",
    "        self.name = name                         # 입력된 캐릭터 이름을 기억하는 인스턴스 변수 선언\n",
    "        print(\"제 이름은 %s입니다\" % name)\n",
    "        print(\"현재 저의 체력은 %s입니다.\" % health)\n",
    "        print(\"저는 공격할 때마다 상대방에게 %s만큼의 손상을 줍니다.\" % damage)\n",
    "        print(\"제 수트의 방어력은 %d이며 사용하는 무기는 %s입니다.\" % \\\n",
    "              (inventory['suit'], inventory['weapon']))\n",
    "\n",
    "    # 이름말하기 메소드\n",
    "    def nameCall(self):\n",
    "        print(\"제 이름은 %s입니다.\" % self.name)    # 인스턴스 변수는 항상 self와 함께 사용"
   ]
  },
  {
   "cell_type": "code",
   "execution_count": 5,
   "metadata": {},
   "outputs": [
    {
     "name": "stdout",
     "output_type": "stream",
     "text": [
      "제 이름은 아이언맨입니다\n",
      "현재 저의 체력은 100입니다.\n",
      "저는 공격할 때마다 상대방에게 200만큼의 손상을 줍니다.\n",
      "제 수트의 방어력은 500이며 사용하는 무기는 레이저입니다.\n"
     ]
    }
   ],
   "source": [
    "ironman = Character('아이언맨', 100, 200, {'suit': 500, 'weapon': '레이저'})"
   ]
  },
  {
   "cell_type": "markdown",
   "metadata": {},
   "source": [
    "이제 `nameCall` 메소드가 작동하는 것을 확인할 수 있다."
   ]
  },
  {
   "cell_type": "code",
   "execution_count": 6,
   "metadata": {},
   "outputs": [
    {
     "name": "stdout",
     "output_type": "stream",
     "text": [
      "제 이름은 아이언맨입니다.\n"
     ]
    }
   ],
   "source": [
    "ironman.nameCall()"
   ]
  },
  {
   "cell_type": "markdown",
   "metadata": {},
   "source": [
    "#### 주의사항: `self.name` 에 사용된 `self`의 기능\n",
    "\n",
    "(설명이 어려우면 건너 띄어도 되는 내용이다.)\n",
    "\n",
    "앞서 `ironman.nameCall()`을 호출하면 원래 `nameCall` 메소드의 첫째 매개변수로 \n",
    "사용된 `self`를 통해 지금 `nameCall` 메소드를 사용하는 인스턴스인 `ironman`이 대입된다.\n",
    "따라서  `ironman.nameCall()`을 실행하면 내부적으로 아래 명령문이 실행된다.\n",
    "\n",
    "```python\n",
    "Character.nameCall(ironman)\n",
    "```\n",
    "\n",
    "즉, 아래 명령문이 실행되게 된다.\n",
    "\n",
    "```python\n",
    "print(\"제 이름은 %s입니다.\" % ironman.name)\n",
    "```"
   ]
  },
  {
   "cell_type": "markdown",
   "metadata": {},
   "source": [
    "### 인스턴스 변수라고 부르는 이유"
   ]
  },
  {
   "cell_type": "markdown",
   "metadata": {},
   "source": [
    "클래스 내부에서 `self`와 함께 선언된 변수는 모두 인스턴스 변수인데,\n",
    "그렇게 불리는 이유는 인스턴스가 생성된 후에야 인스턴스 변수들을 사용할 수 있기 때문이다.\n",
    "예를 들어, `ironman.name` 처럼 반드시 인스턴스 이름과 함께 사용해야 한다.\n",
    "\n",
    "반면에 클래스 이름을 이용하여 인스턴스 변수값을 확인하면 오류가 발생한다."
   ]
  },
  {
   "cell_type": "code",
   "execution_count": 7,
   "metadata": {},
   "outputs": [
    {
     "ename": "AttributeError",
     "evalue": "type object 'Character' has no attribute 'name'",
     "output_type": "error",
     "traceback": [
      "\u001b[0;31m---------------------------------------------------------------------------\u001b[0m",
      "\u001b[0;31mAttributeError\u001b[0m                            Traceback (most recent call last)",
      "\u001b[0;32m<ipython-input-7-b69b11e1532a>\u001b[0m in \u001b[0;36m<module>\u001b[0;34m()\u001b[0m\n\u001b[0;32m----> 1\u001b[0;31m \u001b[0mprint\u001b[0m\u001b[0;34m(\u001b[0m\u001b[0mCharacter\u001b[0m\u001b[0;34m.\u001b[0m\u001b[0mname\u001b[0m\u001b[0;34m)\u001b[0m\u001b[0;34m\u001b[0m\u001b[0m\n\u001b[0m",
      "\u001b[0;31mAttributeError\u001b[0m: type object 'Character' has no attribute 'name'"
     ]
    }
   ],
   "source": [
    "print(Character.name)"
   ]
  },
  {
   "cell_type": "markdown",
   "metadata": {},
   "source": [
    "오류 설명: `AttributeError`는 `Character`가 `name` 이란 변수를 모른다는 의미이다.\n",
    "\n",
    "반면에 이미 생성된 `ironman`을 이용하면 해당 `ironman`의 이름을 알려준다."
   ]
  },
  {
   "cell_type": "code",
   "execution_count": 8,
   "metadata": {},
   "outputs": [
    {
     "name": "stdout",
     "output_type": "stream",
     "text": [
      "아이언맨\n"
     ]
    }
   ],
   "source": [
    "print(ironman.name)"
   ]
  },
  {
   "cell_type": "markdown",
   "metadata": {},
   "source": [
    "### 인스턴스 변수 활용"
   ]
  },
  {
   "cell_type": "markdown",
   "metadata": {},
   "source": [
    "캐릭터 인스턴스를 생성할 때 마다 바로바로 캐릭터 소개를 보여주는 대신에\n",
    "필요할 때 소개하는 기능을 추가해보자.\n",
    "그러려면, 생성자 메소드의 본문에 `name`, `health`, `damage`, `inventory` 각각에 해당하는 \n",
    "인스턴스 변수를 선언하고, \n",
    "자기소개를 하는 메소드를 추가하면 된다."
   ]
  },
  {
   "cell_type": "code",
   "execution_count": 9,
   "metadata": {},
   "outputs": [],
   "source": [
    "class Character(object):\n",
    "    \n",
    "    def __init__(self, name, health, damage, inventory):\n",
    "        self.name = name\n",
    "        self.health = health\n",
    "        self.damage = damage\n",
    "        self.inventory = inventory\n",
    "        \n",
    "    # 이름말하기 메소드\n",
    "    def nameCall(self):  \n",
    "        print(\"제 이름은 %s입니다.\" % self.name)    \n",
    "\n",
    "    # 자기소개 메소드\n",
    "    def introduction(self): \n",
    "        print(\"제 이름은 %s입니다\" % self.name)\n",
    "        print(\"현재 저의 체력은 %s입니다.\" % self.health)\n",
    "        print(\"저는 공격할 때마다 상대방에게 %s만큼의 손상을 줍니다.\" % self.damage)\n",
    "        print(\"제 수트의 방어력은 %d이며 사용하는 무기는 %s입니다.\" % \\\n",
    "              (self.inventory['suit'], self.inventory['weapon']))"
   ]
  },
  {
   "cell_type": "markdown",
   "metadata": {},
   "source": [
    "이제 인스턴스를 생성해도 겉으로는 아무런 일도 벌어지지 않는다."
   ]
  },
  {
   "cell_type": "code",
   "execution_count": 10,
   "metadata": {},
   "outputs": [],
   "source": [
    "ironman = Character('아이언맨', 100, 200, {'suit': 500, 'weapon': '레이저'})"
   ]
  },
  {
   "cell_type": "markdown",
   "metadata": {},
   "source": [
    "하지만 자기소개를 하라고 하면 된다."
   ]
  },
  {
   "cell_type": "code",
   "execution_count": 11,
   "metadata": {},
   "outputs": [
    {
     "name": "stdout",
     "output_type": "stream",
     "text": [
      "제 이름은 아이언맨입니다\n",
      "현재 저의 체력은 100입니다.\n",
      "저는 공격할 때마다 상대방에게 200만큼의 손상을 줍니다.\n",
      "제 수트의 방어력은 500이며 사용하는 무기는 레이저입니다.\n"
     ]
    }
   ],
   "source": [
    "ironman.introduction()"
   ]
  },
  {
   "cell_type": "markdown",
   "metadata": {},
   "source": [
    "### 인스턴스 변수가 아닌 변수\n",
    "\n",
    "클래스에서 선언된 변수 종류에는 인스턴스 변수가 아닌 변수도 있다.\n",
    "앞서 설명한 대로 모든 인스턴스 변수에는 `self`가 따라 붙지만,\n",
    "그렇지 않은 변수도 선언될 수 있다.\n",
    "그러한 변수를 __클래스 변수__라 부르며, 나중에 보다 자세히 설명할 예정이다."
   ]
  },
  {
   "cell_type": "markdown",
   "metadata": {},
   "source": [
    "## 인스턴스 메소드"
   ]
  },
  {
   "cell_type": "markdown",
   "metadata": {},
   "source": [
    "지금까지 `Character` 클래스에서 정의된 메소드들은 모두 __인스턴스 메소드__ 이다.\n",
    "파이썬 클래서에서 선언된 메소드 중에서 인스턴스 메소드를 구분하는 기준은 간단하다. \n",
    "첫째 매개변수로 `self`가 사용된 메소드를 인스턴스 메소드라고 부르기 때문이다.\n",
    "인스턴스 메소드가 아닌 메소드 또한 존재하며 __클래스 메소드__ 와 __스태틱 메소드__로 구분되는데,\n",
    "이에 대해서는 나중에 자세히 다룰 예정이다."
   ]
  },
  {
   "cell_type": "markdown",
   "metadata": {},
   "source": [
    "### 인스턴스 메소드라고 부르는 이유\n",
    "\n",
    "인스턴스 변수의 경우처럼 인스턴스 메소드 또한 인스턴스가 생성된 후에야 의미를 갖는다.\n",
    "\n",
    "앞서 `ironman.name` 명령문을 실행하여 캐릭터 이름을 확인할 때 `self` 매개변수에 `ironman`이 자동으로 대입된다고\n",
    "설명하였듯이 `nameCall` 메소드와 같은 인스턴스 메소드를 호출할 때 첫째 인자로 사용된 `self` 매개변수에\n",
    "대입할 값이 필요한 데, 거기에는 해당 클래스의 인스턴스만 사용될 수 있다.\n",
    "\n",
    "예를 들어, `ironman.nameCall()`을 실행하면 내부적으로 아래 명령문이 실행된다.\n",
    "\n",
    "```python\n",
    "Character.nameCall(ironman)\n",
    "```"
   ]
  },
  {
   "cell_type": "markdown",
   "metadata": {},
   "source": [
    "## 매직 메소드와 매직 변수"
   ]
  },
  {
   "cell_type": "markdown",
   "metadata": {},
   "source": [
    "클래스에는 `__init__` 메소드처럼 특별한 기능을 갖는 메소드가 포함될 수 있으며,\n",
    "이와같이 특수 기능을 수행하는 메소드를 __매직 메소드(magic method)__라고 부른다.\n",
    "\n",
    "또한 매직 메소드와 더불어 특수한 기능을 수행하는 __매직 변수(magic variable)__도 \n",
    "클래스에 포함될 수 있다.\n",
    "\n",
    "모든 매직 메소드와 매직 변수는 기능에 따라 지정된 이름을 사용하며,\n",
    "모든 이름은 두 개의 언더스코어(`_`)를 좌우 양쪽 끝에 붙혀서 사용한다.\n",
    "\n",
    "**알아두기:** 언더스코어를 밑줄긋기를 의미하는 언더바(underbar)라고 부르기도 하지만 \n",
    "언더스코어(underscore)가 정확한 표현이다."
   ]
  },
  {
   "cell_type": "markdown",
   "metadata": {},
   "source": [
    "### `dir` 함수 활용\n",
    "\n",
    "선언된 모든 클래스에는 기본적으로 사용할 수 있는 몇 개의 매직 메소드와 매직 변수들이 포함되어 있다.\n",
    "아래와 같이 `dir` 함수를 사용하여 `Character` 클래스에서 사용할 수 있는\n",
    "메소드와 변수들을 확인하면 많은 매직 메소드들과 매직 변수들을 확인할 수 있다."
   ]
  },
  {
   "cell_type": "code",
   "execution_count": 12,
   "metadata": {},
   "outputs": [
    {
     "data": {
      "text/plain": [
       "['__class__',\n",
       " '__delattr__',\n",
       " '__dict__',\n",
       " '__dir__',\n",
       " '__doc__',\n",
       " '__eq__',\n",
       " '__format__',\n",
       " '__ge__',\n",
       " '__getattribute__',\n",
       " '__gt__',\n",
       " '__hash__',\n",
       " '__init__',\n",
       " '__init_subclass__',\n",
       " '__le__',\n",
       " '__lt__',\n",
       " '__module__',\n",
       " '__ne__',\n",
       " '__new__',\n",
       " '__reduce__',\n",
       " '__reduce_ex__',\n",
       " '__repr__',\n",
       " '__setattr__',\n",
       " '__sizeof__',\n",
       " '__str__',\n",
       " '__subclasshook__',\n",
       " '__weakref__',\n",
       " 'introduction',\n",
       " 'nameCall']"
      ]
     },
     "execution_count": 12,
     "metadata": {},
     "output_type": "execute_result"
    }
   ],
   "source": [
    "dir(Character)"
   ]
  },
  {
   "cell_type": "markdown",
   "metadata": {},
   "source": [
    "그런데 `__init__` 메소드를 제외한 다른 매직 메소드와 매직 변수는 우리가 직접 선언하지 않았다.\n",
    "하지만 우리가 직접 선언하지 않은 매직 메소드와 매직 변수는 기본적으로 정의된 값과 함수를 사용하도록\n",
    "설정되어 있다.\n",
    "\n",
    "여기서는 `__dict__`와 `__repr__`의 기능을 살펴보면서 매직 메소드와 매직 변수의 활용법을 살펴보고자 한다."
   ]
  },
  {
   "cell_type": "markdown",
   "metadata": {},
   "source": [
    "### `__dict__` 매직 변수\n",
    "\n",
    "아래와 같이 `__dict__` 매직 변수에 할당된 값을 확인해 보자."
   ]
  },
  {
   "cell_type": "code",
   "execution_count": 13,
   "metadata": {},
   "outputs": [
    {
     "data": {
      "text/plain": [
       "{'damage': 200,\n",
       " 'health': 100,\n",
       " 'inventory': {'suit': 500, 'weapon': '레이저'},\n",
       " 'name': '아이언맨'}"
      ]
     },
     "execution_count": 13,
     "metadata": {},
     "output_type": "execute_result"
    }
   ],
   "source": [
    "ironman.__dict__"
   ]
  },
  {
   "cell_type": "markdown",
   "metadata": {},
   "source": [
    "`ironman`에서 선언된 인스턴스 변수들과 할당된 값들을 항목으로 포함한 사전 자료형 값을 확인된다."
   ]
  },
  {
   "cell_type": "markdown",
   "metadata": {},
   "source": [
    "### `__repr__` 매직 메소드\n",
    "\n",
    "`__repr__` 메소드의 기능은 생성된 인스턴스를 출력(print)하는 것이다."
   ]
  },
  {
   "cell_type": "code",
   "execution_count": 14,
   "metadata": {},
   "outputs": [
    {
     "data": {
      "text/plain": [
       "'<__main__.Character object at 0x10e0c6c18>'"
      ]
     },
     "execution_count": 14,
     "metadata": {},
     "output_type": "execute_result"
    }
   ],
   "source": [
    "ironman.__repr__()"
   ]
  },
  {
   "cell_type": "markdown",
   "metadata": {},
   "source": [
    "* 리턴값 설명: `ironman` 변수에 할당된 복잡한 구조를 갖는 클래스 인스턴스를 간단하게 설명한다.\n",
    "* 이유: 앞서 `Character` 클래스를 선언할 때 `__repr__` 메소드를 선언하지 않았기 때문에\n",
    "기본적으로 설정된 사용된 클래스 이름과 생성된 인스턴스가 저장된 메모리의 주소를 보여준다."
   ]
  },
  {
   "cell_type": "markdown",
   "metadata": {},
   "source": [
    "그리고 아래와 같이 `print(ironman)`을 실행하면 위 `__repr__` 메소드가 실행되도록 설정되어 있다."
   ]
  },
  {
   "cell_type": "code",
   "execution_count": 15,
   "metadata": {},
   "outputs": [
    {
     "name": "stdout",
     "output_type": "stream",
     "text": [
      "<__main__.Character object at 0x10e0c6c18>\n"
     ]
    }
   ],
   "source": [
    "print(ironman)"
   ]
  },
  {
   "cell_type": "markdown",
   "metadata": {},
   "source": [
    "이제 `__repr__` 메소드를 재정의(오버라이딩, overriding)해서 보다 이해할 수 있는 설명을 보여주도록 해보자."
   ]
  },
  {
   "cell_type": "code",
   "execution_count": 16,
   "metadata": {},
   "outputs": [],
   "source": [
    "class Character(object):\n",
    "    \n",
    "    def __init__(self, name, health, damage, inventory):\n",
    "        self.name = name\n",
    "        self.health = health\n",
    "        self.damage = damage\n",
    "        self.inventory = inventory\n",
    "    \n",
    "    # 인스턴스 출력하기 메소드\n",
    "    def __repr__(self):\n",
    "        return self.name + ' 캐릭터'\n",
    "        \n",
    "    # 이름말하기 메소드\n",
    "    def nameCall(self):  \n",
    "        print(\"제 이름은 %s입니다.\" % self.name)    \n",
    "\n",
    "    # 자기소개 메소드\n",
    "    def introduction(self): \n",
    "        print(\"제 이름은 %s입니다\" % self.name)\n",
    "        print(\"현재 저의 체력은 %s입니다.\" % self.health)\n",
    "        print(\"저는 공격할 때마다 상대방에게 %s만큼의 손상을 줍니다.\" % self.damage)\n",
    "        print(\"제 수트의 방어력은 %d이며 사용하는 무기는 %s입니다.\" % \\\n",
    "              (self.inventory['suit'], self.inventory['weapon']))"
   ]
  },
  {
   "cell_type": "code",
   "execution_count": 17,
   "metadata": {},
   "outputs": [],
   "source": [
    "ironman = Character('아이언맨', 100, 200, {'suit': 500, 'weapon': '레이저'})"
   ]
  },
  {
   "cell_type": "markdown",
   "metadata": {},
   "source": [
    "이제 `ironman` 인스턴스 자체를 출력하면 `__repr__` 메소드에서 새로 지정된 방식으로 출력한다."
   ]
  },
  {
   "cell_type": "code",
   "execution_count": 18,
   "metadata": {},
   "outputs": [
    {
     "name": "stdout",
     "output_type": "stream",
     "text": [
      "아이언맨 캐릭터\n"
     ]
    }
   ],
   "source": [
    "print(ironman)"
   ]
  },
  {
   "cell_type": "markdown",
   "metadata": {},
   "source": [
    "## OOP를 위한 생성자 메소드 활용 예제\n",
    "\n",
    "[이전](https://github.com/liganega/bpp/blob/master/notes/08-ThinkPython-OOP_02-Class_and_Instance.ipynb)\n",
    "강의노트 마지막 결론 부분에서 언급한 아래 내용을 지지하는 예제를 보여주고자 한다.\n",
    "\n",
    "* 캐릭터를 묘사하는 내용이나 방법이 달라진다면?\n",
    "    * 해결: 클래스 본문을 수정한 후에 인스턴스를 생성할 때 필요하다면 인자들을 적당히 수정하여 지정하면 된다."
   ]
  },
  {
   "cell_type": "markdown",
   "metadata": {},
   "source": [
    "To Do: `Character` 클래스의 `__init__` 메소드를 `speed` 라는 키워드 인자를 추가할 것.\n",
    "`speed`의 초기값은 0으로 지정.\n",
    "\n",
    "이후 각각의 캐릭터 인스턴스가 나를 때 속도를 지정된 속도를 사용하는 `fly` 인스턴스 메소드를 추가할 것."
   ]
  },
  {
   "cell_type": "markdown",
   "metadata": {},
   "source": [
    "## 연습문제"
   ]
  },
  {
   "cell_type": "markdown",
   "metadata": {},
   "source": [
    "추가 예정"
   ]
  }
 ],
 "metadata": {
  "kernelspec": {
   "display_name": "Python 3",
   "language": "python",
   "name": "python3"
  },
  "language_info": {
   "codemirror_mode": {
    "name": "ipython",
    "version": 3
   },
   "file_extension": ".py",
   "mimetype": "text/x-python",
   "name": "python",
   "nbconvert_exporter": "python",
   "pygments_lexer": "ipython3",
   "version": "3.6.3"
  }
 },
 "nbformat": 4,
 "nbformat_minor": 2
}
