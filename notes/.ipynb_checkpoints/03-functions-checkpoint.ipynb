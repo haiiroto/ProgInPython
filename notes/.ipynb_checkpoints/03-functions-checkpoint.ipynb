{
 "cells": [
  {
   "cell_type": "markdown",
   "metadata": {},
   "source": [
    "# 함수와 함수 호출"
   ]
  },
  {
   "cell_type": "markdown",
   "metadata": {},
   "source": [
    "프로그램을 구현한다는 것은 기본적으로 특정 종류의 값들을 조작하여 원하는 값을 구하는 것이다. \n",
    "지금가지 여러 종류의 값들을 살펴 보았다.\n",
    "\n",
    "* 정수: -1, 0, 2, -3, ...\n",
    "* 실수: 0.25, -3.54, ...\n",
    "* 불 값: True, False\n",
    "* 문자열: \"python\", \"a3ge\", ...\n",
    "* 함수 등등\n",
    "\n",
    "이번 장에서는 함수를 이용하여 값을 표현하고 조작하는 법을 배운다."
   ]
  },
  {
   "cell_type": "markdown",
   "metadata": {},
   "source": [
    "## 표현식"
   ]
  },
  {
   "cell_type": "markdown",
   "metadata": {},
   "source": [
    "모든 프로그래밍언어마다 값을 표현하는 고유의 방식이 있다.\n",
    "정수와 실수는 거의 모든 언어에서 표현하는 방식이 동일하지만 이외의 자료형을 가진 값들은 비슷하지만 조금씩 다르다. \n",
    "따라서 특정 자료형을 어떻게 표현하는지 정확하게 알고 있어야 하며,\n",
    "문법에 맞지 않게 사용할 경우 기본적으로 오류가 발생한다. \n",
    "여기서는 함수를 이용하여 값을 표현하는 방식을 알아본다. "
   ]
  },
  {
   "cell_type": "markdown",
   "metadata": {},
   "source": [
    "### 함수를 이용해서 값을 표현하기"
   ]
  },
  {
   "cell_type": "markdown",
   "metadata": {},
   "source": [
    "함수를 이용해서 값을 표현할 수 있다.\n",
    "그런데 이 과정을 이해하기 위해서는 먼저 함수가 무엇인지를 이해해야 한다. "
   ]
  },
  {
   "cell_type": "markdown",
   "metadata": {},
   "source": [
    "#### 함수 이해하기\n",
    "\n",
    "함수가 하는 일은 매우 간단하다. \n",
    "특정 값들을 먼저 받아들인 다음에 그 값을 조작하여 어떤 값을 돌려준다. \n",
    "\n",
    "아래 그림에서 절대값을 돌려주는 `abs` 함수와 두 숫자의 합을 돌려주는 `add` 함수를 예를 들어 \n",
    "함수를 설명하고 있다.\n",
    "기본적인 아이디어는 왼쪽에 입구를 통해 값을 받아들이고, 오른쪽 출구를 통해 값을 전달하는 것이다."
   ]
  },
  {
   "cell_type": "markdown",
   "metadata": {},
   "source": [
    "<p>\n",
    "<table cellspacing=\"20\">\n",
    "<tr>\n",
    "<td>\n",
    "<img src=\"images/fun_name.png\" style=\"width:350px\">\n",
    "</td>\n",
    "</tr>\n",
    "</table>\n",
    "</p>"
   ]
  },
  {
   "cell_type": "markdown",
   "metadata": {},
   "source": [
    "* `abs` 함수"
   ]
  },
  {
   "cell_type": "code",
   "execution_count": 28,
   "metadata": {},
   "outputs": [
    {
     "data": {
      "text/plain": [
       "3"
      ]
     },
     "execution_count": 28,
     "metadata": {},
     "output_type": "execute_result"
    }
   ],
   "source": [
    "abs(-3)"
   ]
  },
  {
   "cell_type": "markdown",
   "metadata": {},
   "source": [
    "* `add` 함수는 일상적으로 덧셈(`+`) 기호로 표시되는 함수의 원래 이름이다.\n",
    "    `add` 함수를 사용하려면 `operator` 모듈을 임포트해야 한다."
   ]
  },
  {
   "cell_type": "code",
   "execution_count": 32,
   "metadata": {},
   "outputs": [
    {
     "data": {
      "text/plain": [
       "True"
      ]
     },
     "execution_count": 32,
     "metadata": {},
     "output_type": "execute_result"
    }
   ],
   "source": [
    "from operator import add\n",
    "\n",
    "add(3, 5) == 3 + 5"
   ]
  },
  {
   "cell_type": "markdown",
   "metadata": {},
   "source": [
    "위 그림에서 `number`, `left`, `right` 등은 함수의 인자를 받아들이는데 사용되는 **매개변수**들을 나타낸다. \n",
    "매개변수의 개수가 **인자**의 개수를 결정한다.\n",
    "\n",
    "함수와 매개변수들의 이름은 각각의 역할에 맞게 정하는 것을 권유한다.\n",
    "그러면 함수와 매개변수들의 이름을 보고 함수와 각 매개변수들의 의미와 역할을 파악하는 데에 보다 유리하다.\n",
    "\n",
    "도구가 이미 준비되어 있을 때 그 도구가 어떻게 만들어졌는지 알 필요가 없듯이\n",
    "이미 정의된 함수가 어떻게 정의되어 있는가는 굳이 알 필요가 없다.\n",
    "대신에 도구 사용법을 알아야 하는 것처럼 함수의 경우는 \n",
    "어떤 종류의 값이 함수를 통해 생성되는지를 반드시 알아야 한다.\n",
    "\n",
    "일반적으로 함수에 대해서는 이정도만 알고 있어도 충분하다."
   ]
  },
  {
   "cell_type": "markdown",
   "metadata": {},
   "source": [
    "#### 함수호출 표현식\n",
    "\n",
    "함수를 이용해서 값을 표현하는 방식 __함수호출 표현식(call expression)__이라 부른다. \n",
    "예를 들어 제곱근을 생성하는 함수인 `sqrt`의 경우 실수 하나를 인자로 받아서 그 실수의 제곱근을 생성하여 돌려준다.\n",
    "`sqrt` 함수를 이용하여 실수 `r`의 제곱근을 아래와 같이 표현할 수 있다.\n",
    "\n",
    "    sqrt(r)\n",
    "    \n",
    "또한, 실수 `r`의 제곱근에다가 `2`를 더한 값은 다음과 같이 표현된다.\n",
    "\n",
    "    add(sqrt(r),2)\n",
    "    \n",
    "이와같이 함수에다가 인자를 적용한 표현식을 함수호출 표현식이라 한다.     "
   ]
  },
  {
   "cell_type": "markdown",
   "metadata": {},
   "source": [
    "## 함수호출"
   ]
  },
  {
   "cell_type": "markdown",
   "metadata": {},
   "source": [
    "함수호출 표현식은 특정 값을 표현하기 위해 사용된다.\n",
    "하지만 그 표현식이 어떤 값을 나타내는지를 알려면 사용된 함수들을 호출해서 실행해야만 한다. \n",
    "\n",
    "예를 들어, `sqrt(8)`은 `8`의 제곱근을 나타내는 값이지만 실제로 `8`의 제곱근이 정확히 얼마인지는 말하지 않는다.\n",
    "`8`의 제곱근이 얼마인지를 확인하기 위해서는 이제 `sqrt`에 `8`을 인자로 입력하여 호출해야 한다.\n",
    "\n",
    "\"`sqrt`에 `8`을 인자로 입력하여 호출한다\" 란 말이 좀 복잡하게 들리지만 실제로는 매우 간단하다.\n",
    "바로 아래 명령을 실행하기만 하면 된다.\n",
    "```python\n",
    "sqrt(8)\n",
    "```"
   ]
  },
  {
   "cell_type": "markdown",
   "metadata": {},
   "source": [
    "#### 주의사항\n",
    "    \n",
    "`sqrt`를 사용하려면 먼저 `math` 모듈을 임포트해야 한다. \n",
    "파이썬의 특정 모듈에서 특정 함수를 임포트 하는 방식은 다음과 같이 할 수 있다.\n",
    "```python    \n",
    "from math import sqrt\n",
    "```"
   ]
  },
  {
   "cell_type": "code",
   "execution_count": 34,
   "metadata": {},
   "outputs": [
    {
     "data": {
      "text/plain": [
       "2.8284271247461903"
      ]
     },
     "execution_count": 34,
     "metadata": {},
     "output_type": "execute_result"
    }
   ],
   "source": [
    "from math import sqrt\n",
    "\n",
    "sqrt(8)"
   ]
  },
  {
   "cell_type": "markdown",
   "metadata": {},
   "source": [
    "즉, `sqrt(8)`의 정확한 값은 `2.8284271247461903`이다.\n",
    "8의 제곱근이 무리수이기 때문에 근사값에 불과하다.\n",
    "하지만 8의 제곱근의 정확한 값에 매우 근사한 값이다.\n",
    "\n",
    "이와 같은 방식으로 `add(sqrt(r),2)`의 정확한 값을 계산할 수 있다."
   ]
  },
  {
   "cell_type": "code",
   "execution_count": 35,
   "metadata": {},
   "outputs": [
    {
     "data": {
      "text/plain": [
       "4.82842712474619"
      ]
     },
     "execution_count": 35,
     "metadata": {},
     "output_type": "execute_result"
    }
   ],
   "source": [
    "add(sqrt(8), 2)"
   ]
  },
  {
   "cell_type": "markdown",
   "metadata": {},
   "source": [
    "이와 같이 함수호출 표현식의 정확한 값을 계산하는 과정을 **함수호출**이라 부른다.\n",
    "즉, 함수를 정말로 실행하여 특정 값을 얻어내는 과정이 함수호출이다."
   ]
  },
  {
   "cell_type": "markdown",
   "metadata": {},
   "source": [
    "### 함수호출 실행과정"
   ]
  },
  {
   "cell_type": "markdown",
   "metadata": {},
   "source": [
    "함수호출 표현식을 실행하여 결과값을 확인하는 것을 함수호출이라 하였다.\n",
    "여기서는 함수호출이 실행되는 과정을 예제들을 통해 좀 더 자세히 살펴본다. \n",
    "\n",
    "먼저 아래의 함수호출 표현식의 결과값이 어떤 순서대로 정해지는가를 확인해보자.\n",
    "```python\n",
    "mul(add(2, mul(0x4, 0x6)), add(0x3, 0o5))\n",
    "```    \n",
    "* `mul` 함수의 정의를 확인한다.\n",
    "* `mul`의 첫 번째 인자인 `add(2, mul(0x4, 0x6))`를 확인하고 함수호출을 실행한다.\n",
    "    + `add` 함수의 정의를 확인한다. \n",
    "    + `add`의 첫 번째 인자인 `2`를 확인한다. `2`는 더 이상 계산할 필요가 없다.\n",
    "    + `add`의 두 번째 인자닌 `mul(0x4, 0x6)`를 확인하고 함수호출을 실행한다. \n",
    "        - `mul` 함수의 정의를 확인한다. \n",
    "        - `mul`의 첫 번째 인자인 `0x4`를 확인한다. `0x4`는 16진법으로 표시된 정수 4임을 확인한다.\n",
    "        - `mul`의 두 번재 인자인 `0x6`를 확인한다. `0x6`는 16진법으로 표시된 정수 6임을 확인한다.\n",
    "        - `mul(4,6)`을 실행하여 `24`를 리턴한다.\n",
    "    + `add(2, 24)`를 실행하여 `26`을 리턴한다.\n",
    "* `mul`의 두 번째 인자인 `add(0x3, 0o5)`를 확인한다. \n",
    "    + `add` 함수의 정의를 확인한다.\n",
    "    + `add`의 첫 번째 인자인 `0x3`를 확인한다. `0x3`는 16진법으로 표시된 정수 3임을 확인한다.\n",
    "    + `add`의 두 번째 인자인 `0o5`를 확인한다. `0o5`는 8진법으로 표시된 정수 5임을 확인한다.\n",
    "    + `add(3, 5)`실행하여 `8`을 리턴한다.\n",
    "* `mul(26, 8)`을 실행하여 `208`을 리턴한다.\n",
    "\n",
    "위 설명에서 들여쓰기에 주의해야 한다.\n",
    "더 들여서 쓴 문장이 모두 실행이 된 뒤에야 그 아랫부분에서 덜 들여서 쓴 문장이 실행된다. \n",
    "그림을 나타내면 다음과 같다.\n",
    "\n",
    "아래 그림에 상자로 둘러싸인 부분이 현재 실행중인 함수호출 또는 함수호출의 결과값을 나타낸다."
   ]
  },
  {
   "cell_type": "markdown",
   "metadata": {},
   "source": [
    "<p>\n",
    "<table cellspacing=\"20\">\n",
    "<tr>\n",
    "<td>\n",
    "<img src=\"images/fun_call.png\" style=\"width:600px\">\n",
    "</td>\n",
    "</tr>\n",
    "</table>\n",
    "</p>"
   ]
  },
  {
   "cell_type": "markdown",
   "metadata": {},
   "source": [
    "부수기능을 갖는 함수호출의 실행과정도 기본적으로 동일하다.\n",
    "하지만 중간중간에 부가적인 일도 함께 벌어진다.\n",
    "아래의 그림은 \n",
    "```python\n",
    "print(print(1), print(2))\n",
    "```    \n",
    "를 호출하는 과정이다.\n",
    "\n",
    "기본적으로 앞서 설명한 방식으로 진행되지만 3번 사용된 각각의 `print` 함수 호출과정에서 특정값을 부가적으로 출력한다. \n",
    "\n",
    "* 가장 먼저 첫 번째 인자에 사용된 `print` 함수에 의해 `1`을 출력하고\n",
    "* 다음으로 두 번째 인자에 사용된 `print` 함수에 의해 `2`를 출력하고\n",
    "* 마지막으로 제일 먼저 호출된 `print` 함수에 의해 각 인자의 리턴값으로 이루어진 `None None`을 출력한다. "
   ]
  },
  {
   "cell_type": "markdown",
   "metadata": {},
   "source": [
    "<p>\n",
    "<table cellspacing=\"20\">\n",
    "<tr>\n",
    "<td>\n",
    "<img src=\"images/fun_print.png\" style=\"width:400px\">\n",
    "</td>\n",
    "</tr>\n",
    "</table>\n",
    "</p>"
   ]
  },
  {
   "cell_type": "markdown",
   "metadata": {},
   "source": [
    "## 부수기능이 없는 함수와 부수기능을 갖는 함수"
   ]
  },
  {
   "cell_type": "markdown",
   "metadata": {},
   "source": [
    "프로그램에서 사용되는 함수를 구분하는 다양한 기준이 있다.\n",
    "여기서는 부수기능의 존재여부에 따른 함수 분류 기준을 살펴본다."
   ]
  },
  {
   "cell_type": "markdown",
   "metadata": {},
   "source": [
    "### 부수효과가 없는 함수 (Pure functions)\n",
    "\n",
    "함수가 호출되어 실행되어 실행결과를 돌려줄 때까지 실행결과를 생성하기 위한 일 이외에 다른 어떤 일도 하지 않는다면 그 함수를 부수효과가없는 함수라 부른다.\n",
    "\n",
    "예를 들어 절대값을 계산하는 `abs` 함수와 덧셈을 행하는 `add` 함수 등이 순수한 함수이다. \n",
    "아래 그림에서 보듯이 인자를 입력받은 후에 각각 절대값과 덧셈을 실행하여 결과값을 돌려주는 일 이외에는 다른 일을 행하지 않는다."
   ]
  },
  {
   "cell_type": "markdown",
   "metadata": {},
   "source": [
    "<p>\n",
    "<table cellspacing=\"20\">\n",
    "<tr>\n",
    "<td>\n",
    "<img src=\"images/fun_pure.png\" style=\"width:300px\">\n",
    "</td>\n",
    "</tr>\n",
    "</table>\n",
    "</p>"
   ]
  },
  {
   "cell_type": "markdown",
   "metadata": {},
   "source": [
    "### 부수효과가 있는 함수 (Impure functions)\n",
    "\n",
    "부수효과가 있는 함수는 부수효과가 없는 함수와는 달리 결과값을 돌려주는 것 이외에 부수적인 일을 한다.\n",
    "대표적으로 파이썬 내장함수인 `print` 함수가 부수효과를 갖는 함수이다.\n",
    "\n",
    "그런데 `print`가 부수효과를 갖는 함수라는 것을 확인하려면 아래 두 가지를 알아야 한다.\n",
    "\n",
    "* 리턴하는 값이 무엇인가?\n",
    "* 부수적으로 어떤 일을 하는가?\n",
    "\n",
    "먼저, `print`가 리턴하는 값은 널 값(null value)이다. \n",
    "널 값은 말 그대로 어무런 내용도 없는 값을 의미한다.\n",
    "즉, 값은 값인데 아무 데도 사용할 수 없는 값을 의미한다.\n",
    "즉, 무늬만 값인 것이다. \n",
    "파이썬은 이러한 널값을 `None`으로 표시한다.\n",
    "\n",
    "다음으로, `print` 함수가 부수적으로 하는 일은 예를 들어 터미널 창에 어떤 문자열을 출력하는 것이다.\n",
    "`print(\"Hello Python\")` 방식으로 `print` 함수를 호출하면 아래와 같이 `'Hello Python'` 이란 문자열을 출력한다."
   ]
  },
  {
   "cell_type": "code",
   "execution_count": 5,
   "metadata": {},
   "outputs": [
    {
     "name": "stdout",
     "output_type": "stream",
     "text": [
      "Hello Python\n"
     ]
    }
   ],
   "source": [
    "print(\"Hello Python\")"
   ]
  },
  {
   "cell_type": "markdown",
   "metadata": {},
   "source": [
    "`print(\"Hello Python\")`을 실행하였을 때 보여주는 `'Hello Python'`은 실행 결과값이 아니라 `print` 함수가 부수적으로 하는 일이라는 점을 절대적으로 명심해야 한다."
   ]
  },
  {
   "cell_type": "markdown",
   "metadata": {},
   "source": [
    "## 연습문제\n",
    "추가예정"
   ]
  }
 ],
 "metadata": {
  "kernelspec": {
   "display_name": "Python 3",
   "language": "python",
   "name": "python3"
  },
  "language_info": {
   "codemirror_mode": {
    "name": "ipython",
    "version": 3
   },
   "file_extension": ".py",
   "mimetype": "text/x-python",
   "name": "python",
   "nbconvert_exporter": "python",
   "pygments_lexer": "ipython3",
   "version": "3.6.3"
  }
 },
 "nbformat": 4,
 "nbformat_minor": 1
}
