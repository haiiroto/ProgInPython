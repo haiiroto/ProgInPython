{
 "cells": [
  {
   "cell_type": "markdown",
   "metadata": {},
   "source": [
    "# 3. 함수"
   ]
  },
  {
   "cell_type": "markdown",
   "metadata": {},
   "source": [
    "프로그램을 개발할 때 구현된 코드를 보다 간단명료하게 정리할 수 있어야 한다. \n",
    "하지만 코드가 길어질 수록 코드는 점점 복잡해지며 경우에 따라 어떤 결과가 어떻게 해서 나오게 되었는지 \n",
    "추적하지 못하는 경우도 발생한다. \n",
    "\n",
    "여기서는 함수를 사용하여 코드를 보다 간단명료하게 정리하는 방법을 살펴보고자 한다.\n",
    "함수를 사용하는 이유는 다음과 같다.\n",
    "* 중복으로 사용되는 코드를 제거할 수 있다.\n",
    "* 구현된 코드를 보다 읽기 쉽게 할 수 있다.\n",
    "* 코드의 유지보수를 보다 쉽게 할 수 있다.\n",
    "* 코딩을 보다 재밌고 쉽게 할 수 있다."
   ]
  },
  {
   "cell_type": "markdown",
   "metadata": {},
   "source": [
    "**참조:** 함수의 일반적인 소개와 개념 및 활용에 대한 설명은 [여기](https://github.com/liganega/bpp/blob/master/notes/03-ThinkPython-Functions.ipynb)를 참조할 것."
   ]
  },
  {
   "cell_type": "markdown",
   "metadata": {},
   "source": [
    "## 다루는 내용"
   ]
  },
  {
   "cell_type": "markdown",
   "metadata": {},
   "source": [
    "[2장 문서 데이터](https://github.com/liganega/bpp/blob/master/notes/02-HFProgramming-Textual-Data.ipynb)에서 구현한 코드를 개선하여 함수활용의 여러 의미와 특징을 알아보고자 한다.\n",
    "* 커피 원두콩 시세를 확인하는 프로그램을 돌릴 때마다 바로 구입할지 여부에 따라 다른 일을 하는 프로그램 구현하기\n",
    "* 코드의 중복사용을 피하기 위해 함수 활용하기\n",
    "* 지역변수와 전역변수의 활용 및 차이점 이해하기"
   ]
  },
  {
   "cell_type": "markdown",
   "metadata": {},
   "source": [
    "## 코드 개선 1: 커피 원두콩 바로 구입여부 확인하기"
   ]
  },
  {
   "cell_type": "markdown",
   "metadata": {},
   "source": [
    "아래 코드는 인터넷에서 커피 원두콩 시세 웹사이트에서 시세 정보만 확인하는 코드이다. \n",
    "\n",
    "**주의:** 코드에 대한 자세한 설명은 [2장 문서 데이터](https://github.com/liganega/bpp/blob/master/notes/02-HFProgramming-Textual-Data.ipynb)를 참조한다."
   ]
  },
  {
   "cell_type": "code",
   "execution_count": 1,
   "metadata": {},
   "outputs": [
    {
     "name": "stdout",
     "output_type": "stream",
     "text": [
      "현재 커피 원두콩 시세가 4.17 달러입니다.\n"
     ]
    }
   ],
   "source": [
    "import urllib.request\n",
    "import time\n",
    "\n",
    "price = 5.0\n",
    "\n",
    "while price > 4.3:\n",
    "    time.sleep(1)\n",
    "    \n",
    "    page = urllib.request.urlopen(\"http://beans-r-us.appspot.com/prices-loyalty.html\")\n",
    "    text = page.read().decode(\"utf8\")\n",
    "    \n",
    "    where = text.find(\">$\") + 2\n",
    "    price = float(text[where : where + 4])\n",
    "    \n",
    "print(\"현재 커피 원두콩 시세가\", price, \"달러입니다.\")"
   ]
  },
  {
   "cell_type": "markdown",
   "metadata": {},
   "source": [
    "이제 위 코드를 아래 조건을 만족하도록 개선하고자 한다.\n",
    "* 프로그램이 실행될 때 지금 당장 커피 원두콩을 구입할지 여부를 묻는다.\n",
    "* `Yes`로 대답할 경우 바로 시세 정보를 알려준다.\n",
    "* 기타 경우에는 이전 처럼 특정 가격 이하로 내려갈 때까지 기다린다. "
   ]
  },
  {
   "cell_type": "markdown",
   "metadata": {},
   "source": [
    "### 개선방법\n",
    "* `if ... else...` 명령문을 이용한다.\n",
    "* 각각의 경우에 웹사이트에 접속해서 시세 정보를 확인하는 코드를 활용한다.\n",
    "\n",
    "예를 들어 아래와 같이 구현할 수 있다."
   ]
  },
  {
   "cell_type": "markdown",
   "metadata": {},
   "source": [
    "* `Yes`라 답을 하면 바로 시레를 알려준다."
   ]
  },
  {
   "cell_type": "code",
   "execution_count": 2,
   "metadata": {},
   "outputs": [
    {
     "name": "stdout",
     "output_type": "stream",
     "text": [
      "지금 살까요? Yes\n",
      "현재 커피 원두콩 시세가 4.15 달러입니다.\n"
     ]
    }
   ],
   "source": [
    "import urllib.request\n",
    "import time          \n",
    "\n",
    "answer = input(\"지금 살까요? \")    \n",
    "\n",
    "if answer == 'Yes':\n",
    "    page = urllib.request.urlopen(\"http://beans-r-us.appspot.com/prices-loyalty.html\")\n",
    "    text = page.read().decode(\"utf8\")\n",
    "    where = text.find(\">$\") + 2\n",
    "    price = float(text[where : where + 4])\n",
    "\n",
    "    print(\"현재 커피 원두콩 시세가\", price, \"달러입니다.\")\n",
    "else:\n",
    "    price = 5.0\n",
    "    while price > 4.3:\n",
    "        time.sleep(1)\n",
    "        page = urllib.request.urlopen(\"http://beans-r-us.appspot.com/prices-loyalty.html\")\n",
    "        text = page.read().decode(\"utf8\")\n",
    "        where = text.find(\">$\") + 2\n",
    "        price = float(text[where : where + 4])\n",
    "    \n",
    "    print(\"현재 커피콩 시세가\", price, \"달러입니다. 지금 사세요.\")"
   ]
  },
  {
   "cell_type": "markdown",
   "metadata": {},
   "source": [
    "* `No`라 답하면 시세가 4.3달러 이하일 때까지 기다린 후 시세를 알려준다."
   ]
  },
  {
   "cell_type": "code",
   "execution_count": 3,
   "metadata": {},
   "outputs": [
    {
     "name": "stdout",
     "output_type": "stream",
     "text": [
      "지금 살까요? No\n",
      "현재 커피콩 시세가 4.25 달러입니다. 지금 사세요.\n"
     ]
    }
   ],
   "source": [
    "import urllib.request\n",
    "import time          \n",
    "\n",
    "answer = input(\"지금 살까요? \")    \n",
    "\n",
    "if answer == 'Yes':\n",
    "    page = urllib.request.urlopen(\"http://beans-r-us.appspot.com/prices-loyalty.html\")\n",
    "    text = page.read().decode(\"utf8\")\n",
    "    where = text.find(\">$\") + 2\n",
    "    price = float(text[where : where + 4])\n",
    "\n",
    "    print(\"현재 커피 원두콩 시세가\", price, \"달러입니다.\")\n",
    "else:\n",
    "    price = 5.0\n",
    "    while price > 4.3:\n",
    "        time.sleep(1)\n",
    "        page = urllib.request.urlopen(\"http://beans-r-us.appspot.com/prices-loyalty.html\")\n",
    "        text = page.read().decode(\"utf8\")\n",
    "        where = text.find(\">$\") + 2\n",
    "        price = float(text[where : where + 4])\n",
    "    \n",
    "    print(\"현재 커피콩 시세가\", price, \"달러입니다. 지금 사세요.\")"
   ]
  },
  {
   "cell_type": "markdown",
   "metadata": {},
   "source": [
    "## 코드 개선 2: 코드 중복 없애기"
   ]
  },
  {
   "cell_type": "markdown",
   "metadata": {},
   "source": [
    "앞서 개선된 프로그램은 아래 코드 부분을 중복해서 사용하는 문제를 갖고 있다. \n",
    "```python\n",
    "page = urllib.request.urlopen(\"http://beans-r-us.appspot.com/prices-loyalty.html\")\n",
    "text = page.read().decode(\"utf8\")\n",
    "where = text.find(\">$\") + 2\n",
    "price = float(text[where : where + 4])\n",
    "```\n",
    "이런 문제를 해결하기 위해 위 코드에 이름을 주는 방법으로 추상화시킨다. \n",
    "즉, 함수로 정의함다.\n",
    "\n",
    "예를 들어, 위 코드를 아래와 같이 `get_price` 라는 함수로 정의할 수 있다. \n",
    "```python\n",
    "def get_price():\n",
    "    page = urllib.request.urlopen(\"http://beans-r-us.appspot.com/prices-loyalty.html\")\n",
    "    text = page.read().decode(\"utf8\")\n",
    "\n",
    "    where = text.find(\">$\") + 2\n",
    "    price = float(text[where : where + 4])\n",
    "```"
   ]
  },
  {
   "cell_type": "markdown",
   "metadata": {},
   "source": [
    "이제 중복되는 코드를 `get_price` 함수를 호출하는 것으로 단순하게 대체하면 \n",
    "아래와 같다. "
   ]
  },
  {
   "cell_type": "code",
   "execution_count": 4,
   "metadata": {},
   "outputs": [
    {
     "name": "stdout",
     "output_type": "stream",
     "text": [
      "지금 살까요? Yes\n",
      "현재 커피 원두콩 시세가 0 달러입니다.\n"
     ]
    }
   ],
   "source": [
    "import urllib.request\n",
    "import time          \n",
    "\n",
    "def get_price():\n",
    "    page = urllib.request.urlopen(\"http://beans-r-us.appspot.com/prices-loyalty.html\")\n",
    "    text = page.read().decode(\"utf8\")\n",
    "\n",
    "    where = text.find(\">$\") + 2\n",
    "    price = float(text[where : where + 4])\n",
    "\n",
    "\n",
    "answer = input(\"지금 살까요? \")    \n",
    "price = 0\n",
    "\n",
    "if answer == 'Yes':\n",
    "    get_price()\n",
    "    print(\"현재 커피 원두콩 시세가\", price, \"달러입니다.\")\n",
    "else:\n",
    "    price = 5.0\n",
    "    while price > 4.3:\n",
    "        time.sleep(1)\n",
    "        get_price()\n",
    "    \n",
    "    print(\"현재 커피 원두콩 시세가\", price, \"달러입니다. 지금 사세요.\")"
   ]
  },
  {
   "cell_type": "markdown",
   "metadata": {},
   "source": [
    "그런데 위 코드는 두 가지 문제가 있다.\n",
    "\n",
    "* `Yes`를 입력하면 프로그램이 답을 주기는 하는데 시세가 항상 0 달러라고 한다.\n",
    "* 기타의 경우에는 무한루프에 빠져서 프로그램이 멈추지 않는다.\n",
    "\n",
    "왜 그럴까?"
   ]
  },
  {
   "cell_type": "markdown",
   "metadata": {},
   "source": [
    "문제의 근원은 다음과 같다.\n",
    "\n",
    "* `get_price` 함수 본체에서 선언된 `price` 변수와 함수 밖에서 선언된 `price`간에 서로 관련이 없다.\n",
    "* 따라서 `get_price`를 실행해서 함수 본체에서 선언된 `price` 변수에 할당된 값을 수정한다 하더라도\n",
    "    함수 밖에서 선언된 `price` 변수에 할당된 값은 전혀 변경되지 않고 애초에 할당된 값인 `0`으로 유지된다."
   ]
  },
  {
   "cell_type": "markdown",
   "metadata": {},
   "source": [
    "## 코드 개선 3: `global` 키워드 활용"
   ]
  },
  {
   "cell_type": "markdown",
   "metadata": {},
   "source": [
    "위 코드의 문제점은 함수 본체에서 선언된 변수와 함수 밖에서 선언된 변수와의 관계가 서로 관계가 전혀 없기 때문에 발생한다. 즉, 두 변수가 일종의 동명이인과 같기 때문이다.\n",
    "\n",
    "전문적인 용어를 사용한다면 함수 본체에서 선언된 `price`는 **지역변수(local variable)** 이고\n",
    "함수 밖에서 선언된 `price`는 **전역변수(global variable)** 이기 때문에 기본적으로 서로 아무 연관이 없다라고 \n",
    "말한다. \n",
    "\n",
    "그렇다면 전역변수와 전역변수를 서로 연결시키는 방법을 활용한다면 문제를 해결할 수 있다.\n",
    "\n",
    "여기서는 `global` 키워드를 이용하여 두 변수를 연동시키는 방법을 먼저 소개한다.\n",
    "* 방법: 함수 본체에서 선언되는 변수들에 `global` 키워드를 붙여서 선언다.\n",
    "위 코드에 `global` 키워드만 추가하면 아래와 같으며, 잘 작동함을 확인할 수 있다."
   ]
  },
  {
   "cell_type": "code",
   "execution_count": 5,
   "metadata": {},
   "outputs": [
    {
     "name": "stdout",
     "output_type": "stream",
     "text": [
      "지금 살까요? Yes\n",
      "현재 커피 원두콩 시세가 4.69 달러입니다.\n"
     ]
    }
   ],
   "source": [
    "import urllib.request\n",
    "import time          \n",
    "\n",
    "def get_price():\n",
    "    global price\n",
    "    page = urllib.request.urlopen(\"http://beans-r-us.appspot.com/prices-loyalty.html\")\n",
    "    text = page.read().decode(\"utf8\")\n",
    "\n",
    "    where = text.find(\">$\") + 2\n",
    "    price = float(text[where : where + 4])\n",
    "\n",
    "\n",
    "answer = input(\"지금 살까요? \")    \n",
    "price = 0\n",
    "\n",
    "if answer == 'Yes':\n",
    "    get_price()\n",
    "    print(\"현재 커피 원두콩 시세가\", price, \"달러입니다.\")\n",
    "else:\n",
    "    price = 5.0\n",
    "    while price > 4.3:\n",
    "        time.sleep(1)\n",
    "        get_price()\n",
    "    \n",
    "    print(\"현재 커피 원두콩 시세가\", price, \"달러입니다. 지금 사세요.\")"
   ]
  },
  {
   "cell_type": "code",
   "execution_count": 6,
   "metadata": {},
   "outputs": [
    {
     "name": "stdout",
     "output_type": "stream",
     "text": [
      "지금 살까요? No\n",
      "현재 커피 원두콩 시세가 4.06 달러입니다. 지금 사세요.\n"
     ]
    }
   ],
   "source": [
    "import urllib.request\n",
    "import time          \n",
    "\n",
    "def get_price():\n",
    "    global price\n",
    "    page = urllib.request.urlopen(\"http://beans-r-us.appspot.com/prices-loyalty.html\")\n",
    "    text = page.read().decode(\"utf8\")\n",
    "\n",
    "    where = text.find(\">$\") + 2\n",
    "    price = float(text[where : where + 4])\n",
    "\n",
    "\n",
    "answer = input(\"지금 살까요? \")    \n",
    "price = 0\n",
    "\n",
    "if answer == 'Yes':\n",
    "    get_price()\n",
    "    print(\"현재 커피 원두콩 시세가\", price, \"달러입니다.\")\n",
    "else:\n",
    "    price = 5.0\n",
    "    while price > 4.3:\n",
    "        time.sleep(1)\n",
    "        get_price()\n",
    "    \n",
    "    print(\"현재 커피 원두콩 시세가\", price, \"달러입니다. 지금 사세요.\")"
   ]
  },
  {
   "cell_type": "markdown",
   "metadata": {},
   "source": [
    "#### 주의사항\n",
    "사용하는 프로그래밍언어에 따라 지역변수와 전역변수를 구분하거나 연동시키는 방법이 다를 수 있다.\n",
    "* C 언어: 지역변수와 전역변수를 연동시키는 방법은 기본적으로 없다.\n",
    "* Java 언어: 자바의 경우는 모든 코드가 클래스 안에서 선언되기 때문에 기본적으로 지역변수만 존재한다.\n",
    "    하지만 `static`이란 키워드를 사용하여 전역변수처럼 다룰 수 있는 기능이 제공된다."
   ]
  },
  {
   "cell_type": "markdown",
   "metadata": {},
   "source": [
    "## 코드 개선 4: 함수 리턴값 활용"
   ]
  },
  {
   "cell_type": "markdown",
   "metadata": {},
   "source": [
    "앞서 `global` 키워드를 이용하여 개선한 코드는 문제 없이 작동하지만 다음과 같은 이유로 만족스럽지 않다.\n",
    "* 모든 프로그래밍언어에서 전역변수와 지역변수를 기능적으로 구분한다.\n",
    "* 기능적으로 구분된 두 변수를 강제로 연동한다면 다룬 문제를 유발할 수 있다."
   ]
  },
  {
   "cell_type": "markdown",
   "metadata": {},
   "source": [
    "예를 들어, 아래 코드를 살펴보자."
   ]
  },
  {
   "cell_type": "code",
   "execution_count": 7,
   "metadata": {},
   "outputs": [
    {
     "name": "stdout",
     "output_type": "stream",
     "text": [
      "2\n"
     ]
    }
   ],
   "source": [
    "def fun_A():\n",
    "    global price\n",
    "    price = 1.74\n",
    "    \n",
    "def fun_B():\n",
    "    global price\n",
    "    price = 2\n",
    "    \n",
    "price = 0\n",
    "\n",
    "fun_A()\n",
    "fun_B()\n",
    "\n",
    "print(price)"
   ]
  },
  {
   "cell_type": "markdown",
   "metadata": {},
   "source": [
    "위 코드에서 `fun_A`와 `fun_B` 두 함수 모두 `global` 키워드를 사용하여 함수 밖에서 \n",
    "선언된 `price` 전역변수를 사용하도록 선언하였다.\n",
    "\n",
    "그리고 `fun_A` 함수와 `fun_B` 함수를 연달아 호출한 후, `price` 변수에\n",
    "할당된 값을 최종적으로 확인한다.\n",
    "확인 결과로 `fun_B` 함수에 의해 결정된 값인 2가 할당됨을 알게 된다.\n",
    "이렇듯, `global` 키워드를 여러 곳에서 사용하면 여러 함수가 하나의 전역변수를 건드리는 결과가 발생할 수 있기 때문에\n",
    "코드가 길어지고 복잡해지면 프로그램이 실행될 때 변수에 할당된 값이 어떻게 변경되는가를 추적하는 일이 매우 어렵거나\n",
    "심지어 불가능해지는 일이 발생할 수 있다.\n",
    "\n",
    "이런 문제로 인해 `global` 키워드를 사용하는 방식은 가급적 자제하는 것이 좋으며, 여기서는 \n",
    "다른 해결책을 활용하여 코드를 개선하고자 한다."
   ]
  },
  {
   "cell_type": "markdown",
   "metadata": {},
   "source": [
    "아래 코드는 함수의 리턴값을 활용하는 방식이다. \n",
    "\n",
    "**참조:** 함수의 리턴값에 대한 자세한 설명은 \n",
    "[여기](https://github.com/liganega/bpp/blob/master/notes/03-ThinkPython-Functions.ipynb)를 \n",
    "참조할 것."
   ]
  },
  {
   "cell_type": "markdown",
   "metadata": {},
   "source": [
    "* 먼저, 앞서 사용한 `get_price` 함수는 리턴값이 명시되지 않았음에 주의하라.\n",
    "* 파이썬의 경우 `return` 키워드를 이용한 리턴값이 명시되지 않으면 `None`이라는 리턴값을 기본값으로 사용한다.\n",
    "* 또한 함수의 리턴값은 변수에 할당되는 값 또는 다른 함수의 인자로 사용될 수 있다는 점을 기억해야 한다."
   ]
  },
  {
   "cell_type": "markdown",
   "metadata": {},
   "source": [
    "앞선 코드의 문제점은 `get_price` 함수를 실행하면서 얻은 시세 정보를 저장하여 제대로 재활용하지 못하는 데서 시작되었다. \n",
    "따라서 함수를 실행하면서 얻은 값 또는 정보를 리턴값으로 되돌려 주는 방식을 활용하면 문제를 해결할 수 있다.\n",
    "예를 들어 `get_price` 함수를 아래와 같이 정의할 수 있다.\n",
    "```python\n",
    "def get_price():\n",
    "    page = urllib.request.urlopen(\"http://beans-r-us.appspot.com/prices-loyalty.html\")\n",
    "    text = page.read().decode(\"utf8\")\n",
    "\n",
    "    where = text.find(\">$\") + 2\n",
    "    price = float(text[where : where + 4])\n",
    "\n",
    "    return price\n",
    "```\n",
    "\n",
    "즉, `price` 지역변수에 할당된 시세 정보를 함수가 종료되기 전에 되돌려주도록 `return` 키워드를 사용하여\n",
    "리턴값으로 명시하는 것이다.\n",
    "\n",
    "이렇게 리턴값을 명시하면 함수가 종료되면서 되될려주는 리턴값을 다른 변수에 저장하는 방식으로 재활용할 수 있다."
   ]
  },
  {
   "cell_type": "code",
   "execution_count": 8,
   "metadata": {},
   "outputs": [
    {
     "name": "stdout",
     "output_type": "stream",
     "text": [
      "지금 살까요? Yes\n",
      "현재 커피 원두콩 시세가 4.6 달러입니다.\n"
     ]
    }
   ],
   "source": [
    "import urllib.request\n",
    "import time          \n",
    "\n",
    "def get_price():\n",
    "    page = urllib.request.urlopen(\"http://beans-r-us.appspot.com/prices-loyalty.html\")\n",
    "    text = page.read().decode(\"utf8\")\n",
    "\n",
    "    where = text.find(\">$\") + 2\n",
    "    price = float(text[where : where + 4])\n",
    "    \n",
    "    return price                  # 리턴값 선언\n",
    "\n",
    "answer = input(\"지금 살까요? \")    \n",
    "\n",
    "if answer == 'Yes':\n",
    "    price = get_price()            # 리턴값을 할당받음\n",
    "    print(\"현재 커피 원두콩 시세가\", price, \"달러입니다.\")\n",
    "else:\n",
    "    price = 5.0\n",
    "    while price > 4.3:\n",
    "        time.sleep(1)\n",
    "        price = get_price()        # 리턴값을 할당받아 업데이트함\n",
    "    \n",
    "    print(\"현재 커피 원두콩 시세가\", price, \"달러입니다. 지금 사세요.\")"
   ]
  },
  {
   "cell_type": "code",
   "execution_count": 9,
   "metadata": {},
   "outputs": [
    {
     "name": "stdout",
     "output_type": "stream",
     "text": [
      "지금 살까요? No\n",
      "현재 커피 원두콩 시세가 3.99 달러입니다. 지금 사세요.\n"
     ]
    }
   ],
   "source": [
    "import urllib.request\n",
    "import time          \n",
    "\n",
    "def get_price():\n",
    "    page = urllib.request.urlopen(\"http://beans-r-us.appspot.com/prices-loyalty.html\")\n",
    "    text = page.read().decode(\"utf8\")\n",
    "\n",
    "    where = text.find(\">$\") + 2\n",
    "    price = float(text[where : where + 4])\n",
    "    \n",
    "    return price                  # 리턴값 선언\n",
    "\n",
    "answer = input(\"지금 살까요? \")    \n",
    "\n",
    "if answer == 'Yes':\n",
    "    price = get_price()            # 리턴값을 할당받음\n",
    "    print(\"현재 커피 원두콩 시세가\", price, \"달러입니다.\")\n",
    "else:\n",
    "    price = 5.0\n",
    "    while price > 4.3:\n",
    "        time.sleep(1)\n",
    "        price = get_price()        # 리턴값을 할당받아 업데이트함\n",
    "    \n",
    "    print(\"현재 커피 원두콩 시세가\", price, \"달러입니다. 지금 사세요.\")"
   ]
  },
  {
   "cell_type": "markdown",
   "metadata": {},
   "source": [
    "## 예제: 재귀함수"
   ]
  },
  {
   "cell_type": "markdown",
   "metadata": {},
   "source": [
    "아래와 같은 리스트가 있다."
   ]
  },
  {
   "cell_type": "code",
   "execution_count": 10,
   "metadata": {},
   "outputs": [],
   "source": [
    "GOTY = [\"Zelda\", 2017, \"Uncharted\", 2016, \n",
    "           [\"Farcry5\", \n",
    "            [\"A Way Out\", \"God of War\", \"Detroit\"]]]"
   ]
  },
  {
   "cell_type": "markdown",
   "metadata": {},
   "source": [
    "위 리스트를 아래와 같이 출력하는 코드는 2중 `for`문을 이용할 수 있다.\n",
    "```\n",
    "Zelda\n",
    "2017\n",
    "Uncharted\n",
    "2016\n",
    "Farcry5\n",
    "['A Way Out', 'God of War', 'Detroit']\n",
    "```"
   ]
  },
  {
   "cell_type": "code",
   "execution_count": 11,
   "metadata": {},
   "outputs": [
    {
     "name": "stdout",
     "output_type": "stream",
     "text": [
      "Zelda\n",
      "2017\n",
      "Uncharted\n",
      "2016\n",
      "Farcry5\n",
      "['A Way Out', 'God of War', 'Detroit']\n"
     ]
    }
   ],
   "source": [
    "for each_item in GOTY:\n",
    "    if isinstance(each_item, list):\n",
    "        for nested_item in each_item:\n",
    "            print(nested_item)\n",
    "    else:\n",
    "        print(each_item)"
   ]
  },
  {
   "cell_type": "markdown",
   "metadata": {},
   "source": [
    "이제 `GOTY`를 아래 모양으로 출력하는 코드를 구현하고자 한다.\n",
    "즉, 중첩으로 사용된 리스트를 모두 해체하는 코드가 필요하다.\n",
    "```\n",
    "Zelda\n",
    "2017\n",
    "Uncharted\n",
    "2016\n",
    "Farcry5\n",
    "A Way Out\n",
    "God of War\n",
    "Detroit\n",
    "```"
   ]
  },
  {
   "cell_type": "markdown",
   "metadata": {},
   "source": [
    "가장 먼저 떠오르는 것은 아마도 `for`문을 3중으로 겹쳐서 사용하면 된다는 것이다.\n",
    "즉, 아래와 같이 할 수 있다."
   ]
  },
  {
   "cell_type": "code",
   "execution_count": 12,
   "metadata": {},
   "outputs": [
    {
     "name": "stdout",
     "output_type": "stream",
     "text": [
      "Zelda\n",
      "2017\n",
      "Uncharted\n",
      "2016\n",
      "Farcry5\n",
      "A Way Out\n",
      "God of War\n",
      "Detroit\n"
     ]
    }
   ],
   "source": [
    "for each_item in GOTY:\n",
    "    if isinstance(each_item, list):\n",
    "        for nested_item in each_item:\n",
    "            if isinstance(nested_item, list):\n",
    "                for double_nested_item in nested_item:\n",
    "                    print(double_nested_item)\n",
    "            else:\n",
    "                print(nested_item)\n",
    "    else:\n",
    "        print(each_item)"
   ]
  },
  {
   "cell_type": "markdown",
   "metadata": {},
   "source": [
    "그런데 이렇게 하면 한 가지 문제가 있음을 알아챘을 것이다. \n",
    "`GOTY` 리스트의 중첩 정도와 원하는 결과에 따라 사용해야 하는 `for`문의 중첩 정도가 상응해서 복잡해지기 때문이다.\n",
    "현재 `moviesw` 리스트는 3중 리스트 모양이다. 따라서 가장 안쪽에 위치한 리스트의 내용을 확인하려면 \n",
    "`for`문을 3중으로 이용해야 한다.\n",
    "그렇다면 4중, 5중, 6중 등등의 리스트를 다룬다면 4중, 5중, 6중 등등의 `for`문을 사용해야 한다는 말인데, \n",
    "이건 매우 심각하다. \n",
    "\n",
    "이와같이 대상으로 삼는 리스트의 중첩 정도에 따라 다른 식으로 구현된 프로그램은 최악 중의 최악이다. \n",
    "도대체 몇 중의 리스트를 다룰지 매번 보고 결정해야 한다는 말인데 매우 비효율적이며 \n",
    "어떠한 실용성도 없는 프로그램 작성법이다. \n",
    "\n",
    "그렇다면 리스트의 중첩 정도의 정보를 굳이 사용하지 않으면서 원하는 결과를 얻어낼 수 있는 방법이 필요하다. \n",
    "여기서 재귀함수를 이용한 해결책을 소개한다. \n",
    "\n",
    "먼저 다음에 정의되는 `print_items` 함수를 살펴보자."
   ]
  },
  {
   "cell_type": "code",
   "execution_count": 13,
   "metadata": {},
   "outputs": [],
   "source": [
    "def print_items(a_list):\n",
    "    for each_item in a_list:\n",
    "        if isinstance(each_item, list):\n",
    "            print_items(each_item)\n",
    "        else:\n",
    "            print(each_item)"
   ]
  },
  {
   "cell_type": "markdown",
   "metadata": {},
   "source": [
    "`print_items` 함수는 좀 이상하다. \n",
    "정의가 끝나지 않았는데 자신을 자신 본체에서 사용한다. \n",
    "이런 함수를 __재귀함수__(recursive function)라 부른다. \n",
    "\n",
    "4번 줄에서 사용된 `print_items` 함수호출이 이루어지면 다시 2번 줄로 돌아간다.\n",
    "즉, 현재 확인하는 항목이 또다른 리스트인지를 묻는 질문을 리스트가 아닐 때까지 반복한다.\n",
    "따라서 `print_items` 함수를 이용하면 앞선 문제를 바로 해결한다.\n",
    "사실 임의로 중첩된 리스트를 인자로 받아도 중첩을 모두 풀어버린다."
   ]
  },
  {
   "cell_type": "code",
   "execution_count": 14,
   "metadata": {},
   "outputs": [
    {
     "name": "stdout",
     "output_type": "stream",
     "text": [
      "Zelda\n",
      "2017\n",
      "Uncharted\n",
      "2016\n",
      "Farcry5\n",
      "A Way Out\n",
      "God of War\n",
      "Detroit\n"
     ]
    }
   ],
   "source": [
    "print_items(GOTY)"
   ]
  },
  {
   "cell_type": "markdown",
   "metadata": {},
   "source": [
    "## 연습문제"
   ]
  },
  {
   "cell_type": "markdown",
   "metadata": {},
   "source": [
    "1. `print_items` 수정하여 `GOTY`를 아래와 같이 출력하도록 하는 `print_items2` 함수를 구현하라.\n",
    "\n",
    "        Zelda\n",
    "        2017\n",
    "        Uncharted\n",
    "        2016\n",
    "            Farcry5\n",
    "                A Way Out\n",
    "                God of War\n",
    "                Detroit\n",
    "\n",
    "    ##### 힌트\n",
    "    * `print_items` 함수의 인자를 두 개로 수정한다. \n",
    "        하나는 리스트의 인자를 다루며, 다른 하나는 들어쓰기 정도를 다루는 \n",
    "        인자를 하나 받아서 앞 문제 코드의 for문을 재귀적으로 처리한다. \n",
    "        즉, 아래와 같은 모양을 갖는다.\n",
    "\n",
    "            def print_lol2(a_list, level):\n",
    "                함수본체\n",
    "\n",
    "        위에서 level은 탭을 사용하는 횟수를 나타내도록 한다. \n",
    "        그러면 `print_items2(GOTY, 0)`을 실행하면 원하는 결과가 나올 수 있다.\n",
    "    * 탭 출력은 `print('\\t')`를 이용하면 된다.\n",
    "    <br><br>\n",
    "1. 위 과제에서 구현한 `print_items2` 함수를 아래와 같이 수정하라.\n",
    "    * 인자수를 세 개로 늘린다.\n",
    "\n",
    "            def print_items3(a_list, level, indent=False):\n",
    "                함수본체\n",
    "\n",
    "    * `indent` 예약어인자 값이 `True`이면 연습4에서 처럼 들여쓰기를 하고, \n",
    "        `False`이면 들여쓰기를 하지 않는다."
   ]
  }
 ],
 "metadata": {
  "kernelspec": {
   "display_name": "Python 3",
   "language": "python",
   "name": "python3"
  },
  "language_info": {
   "codemirror_mode": {
    "name": "ipython",
    "version": 3
   },
   "file_extension": ".py",
   "mimetype": "text/x-python",
   "name": "python",
   "nbconvert_exporter": "python",
   "pygments_lexer": "ipython3",
   "version": "3.6.3"
  }
 },
 "nbformat": 4,
 "nbformat_minor": 2
}
