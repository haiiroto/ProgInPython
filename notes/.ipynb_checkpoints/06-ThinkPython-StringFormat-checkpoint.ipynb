{
 "cells": [
  {
   "cell_type": "markdown",
   "metadata": {},
   "source": [
    "# 문자열 포맷"
   ]
  },
  {
   "cell_type": "markdown",
   "metadata": {},
   "source": [
    "파이썬의 문자열 자료형은 수정이 불가능하다.\n",
    "\n",
    "예를 들어, 아래 문장을 살펴보자.\n",
    "\n",
    "> Ruby은(는) 배우기 쉬운 정도가 100입니다.\n",
    "\n",
    "위 문장에서 Ruby를 Python으로, 100를 90로 바꾸어서 아래 문장을 얻고자 한다고 가정하자. \n",
    "\n",
    "> Python은(는) 배우기 쉬운 정도가 90입니다.\n",
    "\n",
    "하지만 경우에 따라 문자열의 특정 부분을 다른 값으로 대체하는 방식으로 문자열을 재활용하고 싶을 때가 있다.\n",
    "예를 들어, 다양한 프로그래밍언어의 어려움 정도를 나타내고자 한다고 가정하자.\n",
    "그렇다면 위 문장에서 Python, Ruby 등은 다른 언어로 대체될 수 있어야 하고,\n",
    "쉬운 정도를 나타내는 숫자도 언어에 따라 다른 값으로 대체되어야 한다. \n",
    "즉, 예를 들어 아래와 같은 결과를 얻고자 한다고 가정하자.\n",
    "\n",
    "```\n",
    "Ruby      은(는) 배우기 쉬운 정도가 100입니다.\n",
    "Python    은(는) 배우기 쉬운 정도가  90입니다.\n",
    "Object C  은(는) 배우기 쉬운 정도가  80입니다.\n",
    "Javascript은(는) 배우기 쉬운 정도가  70입니다.\n",
    "Java      은(는) 배우기 쉬운 정도가  60입니다.\n",
    "HTML      은(는) 배우기 쉬운 정도가  50입니다.\n",
    "C         은(는) 배우기 쉬운 정도가  40입니다.\n",
    "```\n",
    "\n",
    "위 예제를 자세히 살펴보면 또 하나 주목해야 하는 부분이 있다. \n",
    "즉, 사용하는 프로그래밍언어와 쉬운 정도가 위치하는 부분의 자리크기가 사용되는 값과 상관없이\n",
    "일정한 크기를 갖는다는 것이다. \n",
    "\n",
    "위와 같은 결과를 얻기 위해서는 포맷 양식을 사용하면 된다."
   ]
  },
  {
   "cell_type": "markdown",
   "metadata": {},
   "source": [
    "## 대입 위치 지정하기\n",
    "\n",
    "문자열의 특정 위치에 값을 대입하기 위해서는 대입할 위치를 지정해야 하며, 퍼센트 기호(`%`)와 대입할 값의 자료형을 이용한다.\n",
    "예를 들어 위 문장에서 프로그래밍언어의 이름이 위치한 부분을 대입 위치로 지정하려면 `%s` 기호를 아래와 같이 사용하면 된다.\n",
    "\n",
    "> \"%s은(는) 배우기 쉬운 정도가 100입니다.\"\n",
    "\n",
    "이제 `%s` 위치에 원하는 프로그래밍언어를 입력하려면 문자열 뒤에 퍼센트 기호를 다시 사용하고\n",
    "그 뒤에 대입하고자 하는 문자열을 지정하면 된다."
   ]
  },
  {
   "cell_type": "code",
   "execution_count": 7,
   "metadata": {},
   "outputs": [
    {
     "name": "stdout",
     "output_type": "stream",
     "text": [
      "Ruby은(는) 배우기 쉬운 정도가 100입니다.\n"
     ]
    }
   ],
   "source": [
    "language_level = \"%s은(는) 배우기 쉬운 정도가 100입니다.\" % \"Ruby\"\n",
    "print(language_level)"
   ]
  },
  {
   "cell_type": "markdown",
   "metadata": {},
   "source": [
    "프로그래밍언어 뿐만 아니라 쉬운 정도를 나타내는 숫자도 대입할 수 있도록 만들려면 퍼센트 기호와 정수 자료형을 의미하는 `d`를 \n",
    "함께 사용하면 된다. 즉, 문자열 포매팅은 아래 모양을 갖는다.\n",
    "\n",
    "> \"%s은(는) 배우기 쉬운 정도가 %d입니다.\"\n",
    "\n",
    "이제 `%s`와 `%d` 위치에 대입할 값을 아래와 같이 지정하면 된다.\n",
    "\n",
    "**주의:** 대치할 값이 두 개 이상이면 값들을 튜플로 묶어서 사용한다."
   ]
  },
  {
   "cell_type": "code",
   "execution_count": 8,
   "metadata": {},
   "outputs": [
    {
     "name": "stdout",
     "output_type": "stream",
     "text": [
      "Ruby은(는) 배우기 쉬운 정도가 100입니다.\n"
     ]
    }
   ],
   "source": [
    "language_level = \"%s은(는) 배우기 쉬운 정도가 %d입니다.\" % (\"Ruby\", 100)\n",
    "print(language_level)"
   ]
  },
  {
   "cell_type": "markdown",
   "metadata": {},
   "source": [
    "## 문자열 포맷 양식\n",
    "\n",
    "대치할 값들의 자료형에 따른 포맷 양식은 다음과 같다.\n",
    "\n",
    "자료형 코드 | 입력값 \n",
    ":----------:| :--------------:\n",
    "`%s` | 문자열(string)\n",
    "`%c` | 문자 1개(character)\n",
    "`%d` | 정수(integer)\n",
    "`%f` | 부동소수점(floating point)"
   ]
  },
  {
   "cell_type": "markdown",
   "metadata": {},
   "source": [
    "#### 주의사항\n",
    "문자열 포맷에서 퍼센트 기호는 특별한 의미를 갖는 기호이다.\n",
    "따라서 문자열 내에 `100%` 등을 사용하려면 퍼센트 기호(`%`) 한 번 더 사용하여\n",
    "`%%`로 표기해야 오류가 발생하지 않는다."
   ]
  },
  {
   "cell_type": "code",
   "execution_count": 9,
   "metadata": {},
   "outputs": [
    {
     "name": "stdout",
     "output_type": "stream",
     "text": [
      "Ruby은(는) 배우기 쉬운 정도가 100%입니다.\n"
     ]
    }
   ],
   "source": [
    "language_level = \"%s은(는) 배우기 쉬운 정도가 %d%%입니다.\" % (\"Ruby\", 100)\n",
    "print(language_level)"
   ]
  },
  {
   "cell_type": "markdown",
   "metadata": {},
   "source": [
    "## 포맷 양식과 숫자 사용하기"
   ]
  },
  {
   "cell_type": "markdown",
   "metadata": {},
   "source": [
    "포맷 양식에 숫자를 사용하면 값들이 대치되는 위치의 크기를 지정하여 일정한 양식으로 정렬된 느낌을 줄 수 있다.\n",
    "\n",
    "예를 들어, 아래와 같이 프로그래밍언어들의 리스트가 있다고 가정하자."
   ]
  },
  {
   "cell_type": "code",
   "execution_count": 10,
   "metadata": {},
   "outputs": [],
   "source": [
    "languages = ['Ruby', 'Python', 'Object C', 'Javascript', 'Java', 'HTML', 'C']"
   ]
  },
  {
   "cell_type": "markdown",
   "metadata": {},
   "source": [
    "그러면 사용하는 언어의 길이에 따라 출력값이 규칙적이지 않게 된다."
   ]
  },
  {
   "cell_type": "code",
   "execution_count": 16,
   "metadata": {},
   "outputs": [
    {
     "name": "stdout",
     "output_type": "stream",
     "text": [
      "Ruby은(는) 배우기 쉬운 정도가 100%입니다.\n",
      "Python은(는) 배우기 쉬운 정도가 100%입니다.\n",
      "Object C은(는) 배우기 쉬운 정도가 100%입니다.\n",
      "Javascript은(는) 배우기 쉬운 정도가 100%입니다.\n",
      "Java은(는) 배우기 쉬운 정도가 100%입니다.\n",
      "HTML은(는) 배우기 쉬운 정도가 100%입니다.\n",
      "C은(는) 배우기 쉬운 정도가 100%입니다.\n"
     ]
    }
   ],
   "source": [
    "languages = ['Ruby', 'Python', 'Object C', 'Javascript', 'Java', 'HTML', 'C']\n",
    "\n",
    "for lang in languages:\n",
    "    print(\"%s은(는) 배우기 쉬운 정도가 100%%입니다.\" % lang)"
   ]
  },
  {
   "cell_type": "markdown",
   "metadata": {},
   "source": [
    "반면에 아래와 같이 출력되면 보다 보기에 좋다고 할 수 있다.\n",
    "\n",
    "```\n",
    "Ruby      은(는) 배우기 쉬운 정도가 100%입니다.\n",
    "Python    은(는) 배우기 쉬운 정도가 100%입니다.\n",
    "Object C  은(는) 배우기 쉬운 정도가 100%입니다.\n",
    "Javascript은(는) 배우기 쉬운 정도가 100%입니다.\n",
    "Java      은(는) 배우기 쉬운 정도가 100%입니다.\n",
    "HTML      은(는) 배우기 쉬운 정도가 100%입니다.\n",
    "C         은(는) 배우기 쉬운 정도가 100%입니다.\n",
    "```"
   ]
  },
  {
   "cell_type": "markdown",
   "metadata": {},
   "source": [
    "위와 같은 결과를 얻으려면 프로그래밍언어의 이름의 길이에 의존하지 않도록\n",
    "문자열의 길이를 예를 들어 가장 긴 이름의 길이로 지정하면 된다.\n",
    "위 예제에서는 Javascript의 길이가 가장 길며 길이가 10이기에 `%s` 대신에 `%10s`를 사용하면 된다."
   ]
  },
  {
   "cell_type": "code",
   "execution_count": 18,
   "metadata": {},
   "outputs": [
    {
     "name": "stdout",
     "output_type": "stream",
     "text": [
      "      Ruby은(는) 배우기 쉬운 정도가 100%입니다.\n",
      "    Python은(는) 배우기 쉬운 정도가 100%입니다.\n",
      "  Object C은(는) 배우기 쉬운 정도가 100%입니다.\n",
      "Javascript은(는) 배우기 쉬운 정도가 100%입니다.\n",
      "      Java은(는) 배우기 쉬운 정도가 100%입니다.\n",
      "      HTML은(는) 배우기 쉬운 정도가 100%입니다.\n",
      "         C은(는) 배우기 쉬운 정도가 100%입니다.\n"
     ]
    }
   ],
   "source": [
    "languages = ['Ruby', 'Python', 'Object C', 'Javascript', 'Java', 'HTML', 'C']\n",
    "\n",
    "for lang in languages:\n",
    "    print(\"%10s은(는) 배우기 쉬운 정도가 100%%입니다.\" % lang)"
   ]
  },
  {
   "cell_type": "markdown",
   "metadata": {},
   "source": [
    "그런데 여전히 원하는 결과가 아니다.\n",
    "프로그래밍언어의 이름들이 오른쪽으로 정렬되었는데 왼쪽으로 정렬을 시키고자 한다면 숫자 앞에 빼기 기호(`-`)를 \n",
    "추가해서 `%-10s`를 사용해야 한다."
   ]
  },
  {
   "cell_type": "code",
   "execution_count": 20,
   "metadata": {},
   "outputs": [
    {
     "name": "stdout",
     "output_type": "stream",
     "text": [
      "Ruby      은(는) 배우기 쉬운 정도가 100%입니다.\n",
      "Python    은(는) 배우기 쉬운 정도가 100%입니다.\n",
      "Object C  은(는) 배우기 쉬운 정도가 100%입니다.\n",
      "Javascript은(는) 배우기 쉬운 정도가 100%입니다.\n",
      "Java      은(는) 배우기 쉬운 정도가 100%입니다.\n",
      "HTML      은(는) 배우기 쉬운 정도가 100%입니다.\n",
      "C         은(는) 배우기 쉬운 정도가 100%입니다.\n"
     ]
    }
   ],
   "source": [
    "languages = ['Ruby', 'Python', 'Object C', 'Javascript', 'Java', 'HTML', 'C']\n",
    "\n",
    "for lang in languages:\n",
    "    print(\"%-10s은(는) 배우기 쉬운 정도가 100%%입니다.\" % lang)"
   ]
  },
  {
   "cell_type": "markdown",
   "metadata": {},
   "source": [
    "이제 언어에 따른 쉬운 정도를 계산하여 함께 사용하도록 해보자.\n",
    "예를 들어, `languages` 리스트에 포함된 순서대로 쉬운 정도가 10%씩 줄어든다고 \n",
    "한다면 아래와 같이 `degree` 함수를 정의하여 사용할 수 있다.\n",
    "\n",
    "**주의:** 숫자는 최대 세자리 이므로 `%3d`를 포맷양식으로 사용한다."
   ]
  },
  {
   "cell_type": "code",
   "execution_count": 22,
   "metadata": {},
   "outputs": [
    {
     "name": "stdout",
     "output_type": "stream",
     "text": [
      "Ruby      은(는) 배우기 쉬운 정도가 100%입니다.\n",
      "Python    은(는) 배우기 쉬운 정도가  90%입니다.\n",
      "Object C  은(는) 배우기 쉬운 정도가  80%입니다.\n",
      "Javascript은(는) 배우기 쉬운 정도가  70%입니다.\n",
      "Java      은(는) 배우기 쉬운 정도가  60%입니다.\n",
      "HTML      은(는) 배우기 쉬운 정도가  50%입니다.\n",
      "C         은(는) 배우기 쉬운 정도가  40%입니다.\n"
     ]
    }
   ],
   "source": [
    "languages = ['Ruby', 'Python', 'Object C', 'Javascript', 'Java', 'HTML', 'C']\n",
    "\n",
    "def degree(lang):\n",
    "    if lang in languages:\n",
    "        ind = languages.index(lang)\n",
    "        return (100 - ind * 10)\n",
    "\n",
    "for lang in languages:\n",
    "    print(\"%-10s은(는) 배우기 쉬운 정도가 %3d%%입니다.\" % (lang, degree(lang)))"
   ]
  },
  {
   "cell_type": "markdown",
   "metadata": {},
   "source": [
    "## 부동소수점 포맷 양식"
   ]
  },
  {
   "cell_type": "markdown",
   "metadata": {},
   "source": [
    "부동소수점의 경우 소수점 이하의 자릿수도 함께 지정할 수 있다.\n",
    "예를 들어, 소수점 이하 둘째 자리까지만 표기하려면 `%.2f` 포맷 양식을 사용한다."
   ]
  },
  {
   "cell_type": "code",
   "execution_count": 23,
   "metadata": {},
   "outputs": [
    {
     "name": "stdout",
     "output_type": "stream",
     "text": [
      "원주율은 3.14입니다.\n"
     ]
    }
   ],
   "source": [
    "pi = 3.141592\n",
    "print(\"원주율은 %.2f입니다.\"% pi)"
   ]
  },
  {
   "cell_type": "markdown",
   "metadata": {},
   "source": [
    "정수와 소수점을 모두 활용하면 대입할 위치의 크기와 소수점 이하 자리수를 함께 지정할 수 있다."
   ]
  },
  {
   "cell_type": "code",
   "execution_count": 25,
   "metadata": {},
   "outputs": [
    {
     "name": "stdout",
     "output_type": "stream",
     "text": [
      "원주율은       3.14입니다.\n"
     ]
    }
   ],
   "source": [
    "pi = 3.141592\n",
    "print(\"원주율은 %10.2f입니다.\"% pi)"
   ]
  },
  {
   "cell_type": "code",
   "execution_count": 26,
   "metadata": {},
   "outputs": [
    {
     "name": "stdout",
     "output_type": "stream",
     "text": [
      "원주율은 3.14      입니다.\n"
     ]
    }
   ],
   "source": [
    "pi = 3.141592\n",
    "print(\"원주율은 %-10.2f입니다.\"% pi)"
   ]
  },
  {
   "cell_type": "markdown",
   "metadata": {},
   "source": [
    "## `format` 키워드를 활용한 포맷 양식\n",
    "\n",
    "보다 다양한 포맷 기능을 지원하는 방식을 파이썬이 지원한다.\n",
    "`format` 키워드를 이용한 문자열 포맷 양식인데, 여기서는 다루지 않으며,\n",
    "자세한 설명은 [이곳](https://wikidocs.net/13#_12)을 참조하면 된다."
   ]
  }
 ],
 "metadata": {
  "kernelspec": {
   "display_name": "Python 3",
   "language": "python",
   "name": "python3"
  },
  "language_info": {
   "codemirror_mode": {
    "name": "ipython",
    "version": 3
   },
   "file_extension": ".py",
   "mimetype": "text/x-python",
   "name": "python",
   "nbconvert_exporter": "python",
   "pygments_lexer": "ipython3",
   "version": "3.6.3"
  }
 },
 "nbformat": 4,
 "nbformat_minor": 2
}
