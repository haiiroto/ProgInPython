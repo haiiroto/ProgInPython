{
 "cells": [
  {
   "cell_type": "markdown",
   "metadata": {},
   "source": [
    "# 파일"
   ]
  },
  {
   "cell_type": "markdown",
   "metadata": {},
   "source": [
    "안내: [Think Python 14장](http://greenteapress.com/thinkpython2/html/thinkpython2015.html) 내용을 번역 및 요약수정한 내용입니다."
   ]
  },
  {
   "cell_type": "markdown",
   "metadata": {},
   "source": [
    "## 데이터 보관하기"
   ]
  },
  {
   "cell_type": "markdown",
   "metadata": {},
   "source": [
    "지금까지 실행한 프로그램은 데이터를 일시적으로 생성하여 활용한다. \n",
    "여기서 일시적이라 함은 프로그램이 종료되면 사용되었던 데이터가 사라진다는 의미다. \n",
    "따라서 프로그램을 새로 시작하면 데이터를 새로 생성하여 활용하고, 종료되면 역시 사용했던 모든 데이터는 사라진다.\n",
    "\n",
    "하지만 경우에 따라 사용할 또는 사용했던 데이터를 프로그램의 실행 및 종료에 상관 없이 오랫동안 보관하고자 할 필요가 있다.\n",
    "\n",
    "여기서 파일에 저장된 데이터를 활용하거나 사용된/생성된 데이터를 파일에 저장하는 여러 방법을 소개한다.  "
   ]
  },
  {
   "cell_type": "markdown",
   "metadata": {},
   "source": [
    "## 파일 읽기"
   ]
  },
  {
   "cell_type": "markdown",
   "metadata": {},
   "source": [
    "아래 링크에 있는 파일을 가지고 연습하고자 한다.\n",
    "먼저 아래 파일을 다운 받아서 파이썬 코딩을 실습하는 폴더에 저장한다.\n",
    "여기서는 `data`라는 하위폴더에 `words.txt`라는 파일로 저장되었다고 가정한다.\n",
    "\n",
    "http://thinkpython2.com/code/words.txt\n",
    "\n",
    "위 파일에는 그레이디 워드(Grady Ward)가 수집한 113,809개 단어를 담고 있다. \n",
    "\n",
    "이 파일은 일반 텍스트라서, 텍스트 편집기 뿐만 아니라, 파이썬으로 읽을 수 있다. \n",
    "이를 위해 내장 함수인 `open` 함수를 아래와 같이 활용한다."
   ]
  },
  {
   "cell_type": "code",
   "execution_count": 18,
   "metadata": {},
   "outputs": [],
   "source": [
    "fin = open('data/words.txt')"
   ]
  },
  {
   "cell_type": "markdown",
   "metadata": {},
   "source": [
    "`open` 함수는 컴퓨터에 저장된 파일의 경로를 문자열 인자로 사용하여 파일 내용 뿐만 아니라 \n",
    "파일과 관련된 모든 정보를 가져와서 리턴값으로 되돌려 준다.\n",
    "하지만 저장된 파일은 단순히 파일 내용 뿐만 아니라 파일의 크기, 작성 시간, 작성자, 수정 시간 등 다양한 정보도 함께 포함한다는\n",
    "사실에 주의해야 한다."
   ]
  },
  {
   "cell_type": "markdown",
   "metadata": {},
   "source": [
    "`open` 함수의 리턴값은 파일과 관련된 모든 정보를 저장한 `_io.TextIOWrapper`라는 파일 클래스의 객체이다. \n",
    "* 클래스 이름을 기억할 필요는 없다."
   ]
  },
  {
   "cell_type": "code",
   "execution_count": 23,
   "metadata": {},
   "outputs": [
    {
     "data": {
      "text/plain": [
       "_io.TextIOWrapper"
      ]
     },
     "execution_count": 23,
     "metadata": {},
     "output_type": "execute_result"
    }
   ],
   "source": [
    "type(fin)"
   ]
  },
  {
   "cell_type": "markdown",
   "metadata": {},
   "source": [
    "따라서 단순히 `print` 명령으로는 파일 내용을 확인할 수 없다."
   ]
  },
  {
   "cell_type": "code",
   "execution_count": 24,
   "metadata": {},
   "outputs": [
    {
     "name": "stdout",
     "output_type": "stream",
     "text": [
      "<_io.TextIOWrapper name='data/words.txt' mode='r' encoding='UTF-8'>\n"
     ]
    }
   ],
   "source": [
    "print(fin)"
   ]
  },
  {
   "cell_type": "markdown",
   "metadata": {},
   "source": [
    "* 모드(mode)의 'r'은 이 파일이 읽기전용(read only)으로 열렸다는 것을 나타냄.\n",
    "* 인코딩(encoding)의 `UTF-8`은 텍스트 파일이 `UTF-8` 방식으로 인코딩되었음을 나타냄."
   ]
  },
  {
   "cell_type": "markdown",
   "metadata": {},
   "source": [
    "`fin` 변수에 할당된 파일 객체의 내용을 `readline` 메소드를 활용하여 파일 내용을 한 줄씩 확인할 수 있다. "
   ]
  },
  {
   "cell_type": "code",
   "execution_count": 25,
   "metadata": {},
   "outputs": [
    {
     "data": {
      "text/plain": [
       "'aa\\n'"
      ]
     },
     "execution_count": 25,
     "metadata": {},
     "output_type": "execute_result"
    }
   ],
   "source": [
    "fin.readline()"
   ]
  },
  {
   "cell_type": "code",
   "execution_count": 26,
   "metadata": {},
   "outputs": [
    {
     "data": {
      "text/plain": [
       "'aah\\n'"
      ]
     },
     "execution_count": 26,
     "metadata": {},
     "output_type": "execute_result"
    }
   ],
   "source": [
    "fin.readline()"
   ]
  },
  {
   "cell_type": "code",
   "execution_count": 27,
   "metadata": {},
   "outputs": [
    {
     "data": {
      "text/plain": [
       "'aahed\\n'"
      ]
     },
     "execution_count": 27,
     "metadata": {},
     "output_type": "execute_result"
    }
   ],
   "source": [
    "fin.readline()"
   ]
  },
  {
   "cell_type": "markdown",
   "metadata": {},
   "source": [
    "`readline` 메소드는 몇 번째 줄까지 읽었는지 기억한다.\n",
    "* 몇 번 줄까지 읽었는가는 오프셋(offset)이란 장치에 저장된다.\n",
    "* 줄의 끝은 줄바꾸기(newline)를 의미하는 '\\n'의 존재여부로 확인한다.\n",
    "* 위에서 모든 단어의 끝에 줄바꾸기 기호(`\\n`)가 존재함을 볼 수 있다."
   ]
  },
  {
   "cell_type": "markdown",
   "metadata": {},
   "source": [
    "이 목록의 경우에 첫 번째 단어는 “aa” 인데, 용암의 일종입니다. 시퀀스 \\r\\n 은 이 단어를 다음에 오는 것과 분리하는 두 개의 공백문자, 캐리지 리턴과 줄 넘김,를 나타냅니다.\n",
    "\n",
    "The file object keeps track of where it is in the file, so if you call readline again, you get the next word:"
   ]
  },
  {
   "cell_type": "code",
   "execution_count": 12,
   "metadata": {},
   "outputs": [
    {
     "data": {
      "text/plain": [
       "'aah\\n'"
      ]
     },
     "execution_count": 12,
     "metadata": {},
     "output_type": "execute_result"
    }
   ],
   "source": [
    "fin.readline()"
   ]
  },
  {
   "cell_type": "markdown",
   "metadata": {},
   "source": [
    "다음 단어는 “aah”인데 완벽히 규칙에 맞는 단어입니다, 그러니 그런 식으로 저를 그만 보세요. 또는, 공백문자가 거슬린다면, 문자열 메쏘드 strip으로 없앨 수 있습니다:"
   ]
  },
  {
   "cell_type": "code",
   "execution_count": 13,
   "metadata": {},
   "outputs": [
    {
     "name": "stdout",
     "output_type": "stream",
     "text": [
      "aahed\n"
     ]
    }
   ],
   "source": [
    "line = fin.readline()\n",
    "word = line.strip()\n",
    "print(word)"
   ]
  },
  {
   "cell_type": "markdown",
   "metadata": {},
   "source": [
    "파일 객체를 for 순환의 일부로 쓸 수도 있습니다. 이 프로그램은 words.txt 를 읽어서, 한 줄에 하나씩 각 단어를 인쇄합니다:"
   ]
  },
  {
   "cell_type": "markdown",
   "metadata": {},
   "source": [
    "```python\n",
    "fin = open('data/words.txt')\n",
    "for line in fin:\n",
    "    word = line.strip()\n",
    "    print(word)\n",
    "```"
   ]
  },
  {
   "cell_type": "code",
   "execution_count": 17,
   "metadata": {},
   "outputs": [
    {
     "name": "stdout",
     "output_type": "stream",
     "text": [
      "aa\n",
      "aah\n",
      "aahed\n",
      "aahing\n",
      "aahs\n",
      "aal\n",
      "aalii\n",
      "aaliis\n",
      "aals\n",
      "aardvark\n"
     ]
    }
   ],
   "source": [
    "fin = open('data/words.txt')\n",
    "line_num = 0\n",
    "for line in fin:\n",
    "    if line_num < 10:\n",
    "        word = line.strip()\n",
    "        print(word)\n",
    "        line_num += 1\n",
    "    else:\n",
    "        break"
   ]
  },
  {
   "cell_type": "markdown",
   "metadata": {},
   "source": [
    "[연습 9.1.]\n",
    "\n",
    "words.txt 를 읽어서 (공백문자를 제외하고) 20자가 넘는 단어들만 인쇄하는 프로그램을 작성하세요."
   ]
  },
  {
   "cell_type": "markdown",
   "metadata": {},
   "source": [
    "## 파일 생성 및 쓰기"
   ]
  },
  {
   "cell_type": "markdown",
   "metadata": {},
   "source": [
    "텍스트 파일은 하드 드라이브, 플래시 메모리, 시디롬(CD-ROM) 과 같은 영구적인 매체에 저장된 일련의 문자들입니다. [wordlist] 절에서 파일을 어떻게 열고 읽는지 보았습니다.\n",
    "\n",
    "파일을 쓰기 위해서는, 두 번째 매개변수로 'w' 모드(mode)를 사용해서 열어야만 합니다:"
   ]
  },
  {
   "cell_type": "code",
   "execution_count": 5,
   "metadata": {},
   "outputs": [
    {
     "name": "stdout",
     "output_type": "stream",
     "text": [
      "<_io.TextIOWrapper name='output.txt' mode='w' encoding='UTF-8'>\n"
     ]
    }
   ],
   "source": [
    "fout = open('output.txt', 'w')\n",
    "print(fout)"
   ]
  },
  {
   "cell_type": "markdown",
   "metadata": {},
   "source": [
    "파일이 이미 존재할 때, 쓰기 모드로 열면 예전의 데이터를 모두 지우고 새로 시작하게 되니 조심하세요! 파일이 없으면 새 파일이 생깁니다."
   ]
  },
  {
   "cell_type": "markdown",
   "metadata": {},
   "source": [
    "write 메쏘드는 데이터를 파일에 넣습니다."
   ]
  },
  {
   "cell_type": "code",
   "execution_count": 6,
   "metadata": {},
   "outputs": [
    {
     "data": {
      "text/plain": [
       "24"
      ]
     },
     "execution_count": 6,
     "metadata": {},
     "output_type": "execute_result"
    }
   ],
   "source": [
    "line1 = \"This here's the wattle,\\n\"\n",
    "fout.write(line1)"
   ]
  },
  {
   "cell_type": "markdown",
   "metadata": {},
   "source": [
    "늘 그렇듯이, 파일 객체는 어디쯤 있는지를 기억하기 때문에, write 를 한 번 더 호출하면, 새 데이터를 끝에 붙입니다."
   ]
  },
  {
   "cell_type": "code",
   "execution_count": 7,
   "metadata": {},
   "outputs": [
    {
     "data": {
      "text/plain": [
       "24"
      ]
     },
     "execution_count": 7,
     "metadata": {},
     "output_type": "execute_result"
    }
   ],
   "source": [
    "line2 = \"the emblem of our land.\\n\"\n",
    "fout.write(line2)"
   ]
  },
  {
   "cell_type": "markdown",
   "metadata": {},
   "source": [
    "쓰기가 끝나면, 파일을 닫아야만 합니다."
   ]
  },
  {
   "cell_type": "code",
   "execution_count": 8,
   "metadata": {},
   "outputs": [],
   "source": [
    "fout.close()"
   ]
  },
  {
   "cell_type": "markdown",
   "metadata": {},
   "source": [
    "## 형식 연산자"
   ]
  },
  {
   "cell_type": "markdown",
   "metadata": {},
   "source": [
    "write의 인자는 문자열이어야 하기 때문에, 다른 값들을 파일에 넣고 싶다면, 문자열로 바꿔야만 합니다. 그렇게 하는 가장 쉬운 방법은 str을 쓰는 겁니다:\n",
    "\n",
    ">>> x = 52\n",
    ">>> f.write(str(x))\n",
    "다른 방법은 형식 연산자(format operator), %,를 사용하는 것입니다. 정수에 적용될 때 %는 나머지 연산자입니다. 그러나 첫 번째 피연산자가 문자열일 때, %는 형식 연산자입니다.\n",
    "\n",
    "첫 번째 피연산자는 형식 문자열(format string)인데, 두 번째 피연산자가 형식화되는 방법을 지정하는 하나나 그 이상의 형식 시퀀스(format sequence)를 포함합니다. 결과는 문자열입니다.\n",
    "\n",
    "예를 들어, 형식 시퀀스 '%d'는 두 번째 피연산자가 정수(d 는 “십진수(decimal)”를 나타냅니다)로 형식화되어야 함을 뜻합니다:\n",
    "\n",
    ">>> camels = 42\n",
    ">>> '%d' % camels\n",
    "'42'\n",
    "결과는 문자열 '42'인데, 정수 값 42와는 다릅니다.\n",
    "\n",
    "형식 시퀀스는 문자열의 어느 곳에건 나타날 수 있기 때문에, 구문 중에 값을 내장시킬 수 있습니다:\n",
    "\n",
    ">>> camels = 42\n",
    ">>> 'I have spotted %d camels.' % camels\n",
    "'I have spotted 42 camels.'\n",
    "만약 문자열에 여러 개의 형식 시퀀스가 있으면, 두 번째 피연산자는 튜플이 되어야 합니다. 각 형식 시퀀스는 차례대로 튜플의 요소들과 대응됩니다.\n",
    "\n",
    "다음 예는 '%d' 를 정수를 형식화하는데, '%g' 를 실수(이유는 묻지 마세요)를 형식화하는데, '%s'를 문자열을 형식화하는데 사용합니다:\n",
    "\n",
    ">>> 'In %d years I have spotted %g %s.' % (3, 0.1, 'camels')\n",
    "'In 3 years I have spotted 0.1 camels.'\n",
    "튜플에 있는 요소의 개수는 문자열에 있는 형식 시퀀스의 개수와 일치해야 합니다. 또, 요소들의 형도 형식 시퀀스와 맞아야 합니다.\n",
    "\n",
    ">>> '%d %d %d' % (1, 2)\n",
    "TypeError: not enough arguments for format string\n",
    ">>> '%d' % 'dollars'\n",
    "TypeError: illegal argument type for built-in operation\n",
    "첫 번째 예에서는 요소가 모자라고, 두 번째 예에서는 요소의 형이 틀립니다.\n",
    "\n",
    "형식 연산자는 강력합니다만, 사용하기에 어려울 수 있습니다. http://docs.python.org/2/library/stdtypes.html#string-formatting에서 더 많은 정보를 얻을 수 있습니다.\n",
    "\n",
    "파일명과 경로\n",
    "[paths]\n",
    "\n",
    "파일들은 디렉터리(directory)(“폴더(folder)”라고도 부릅니다)들 안에 정돈됩니다. 실행중인 모든 프로그램은 “현재 디렉터리(current directory)”를 갖는데, 대부분의 연산들에서 내정(default) 디렉터리가 됩니다. 예를 들어, 읽기 위해 파일을 열 때, 파이썬은 현재 디렉터리에서 파일을 찾습니다.\n",
    "\n",
    "os 모듈은 파일과 디렉터리를 다루는데 필요한 함수들을 제공합니다 (“os”는 “운영 체제(operating system)”을 나타냅니다). os.getcwd 는 현재 디렉터리의 이름을 돌려줍니다:\n",
    "\n",
    ">>> import os\n",
    ">>> cwd = os.getcwd()\n",
    ">>> print cwd\n",
    "/home/dinsdale\n",
    "cwd 는 “현재 작업 디렉터리(current working directory)”를 나타냅니다. 이 예에서 결과는 /home/dinsdale인데, dinsdale이라는 사용자의 홈 디렉터리입니다.\n",
    "\n",
    "cwd와 같이 파일을 지정하는 문자열을 경로(path)라고 부릅니다. 상대 경로(relative path)는 현재 디렉터리에서 시작합니다; 절대 경로(absolute path)는 파일 시스템(file system)의 최 상단 디렉터리에서 시작합니다.\n",
    "\n",
    "지금까지 우리가 본 경로들은 단순한 파일명이라서, 현재 디렉터리에 상대적입니다. 파일의 절대 경로를 찾으려면, os.path.abspath를 사용하면 됩니다:\n",
    "\n",
    ">>> os.path.abspath('memo.txt')\n",
    "'/home/dinsdale/memo.txt'\n",
    "os.path.exists는 파일이나 디렉터리가 존재하는지 검사합니다:\n",
    "\n",
    ">>> os.path.exists('memo.txt')\n",
    "True\n",
    "존재할 경우에, os.path.isdir은 디렉터리인지 검사합니다:\n",
    "\n",
    ">>> os.path.isdir('memo.txt')\n",
    "False\n",
    ">>> os.path.isdir('music')\n",
    "True\n",
    "비슷하게, os.path.isfile은 파일인지 검사합니다.\n",
    "\n",
    "os.listdir은 주어진 디렉터리에 있는 파일들 (과 다른 디렉터리들)의 리스트를 돌려줍니다:\n",
    "\n",
    ">>> os.listdir(cwd)\n",
    "['music', 'photos', 'memo.txt']\n",
    "이 함수들을 예시하기 위해, 다음 예는 디렉터리를 “탐색(walk)”하면서 모든 파일들의 이름을 인쇄하고, 모든 디렉터리들에 대해 재귀적으로 자신을 호출합니다.\n",
    "\n",
    "def walk(dirname):\n",
    "    for name in os.listdir(dirname):\n",
    "        path = os.path.join(dirname, name)\n",
    "\n",
    "        if os.path.isfile(path):\n",
    "            print path\n",
    "        else:\n",
    "            walk(path)\n",
    "os.path.join은 디렉터리와 파일 이름을 받아서 완전한 경로로 결합합니다.\n",
    "\n",
    "[연습 14.1.]\n",
    "\n",
    "os 모듈은 walk 라는 이름의 함수를 제공하는데 이 것과 비슷하지만 좀 더 풍부한 기능을 제공합니다. 설명서를 읽고 주어진 디렉터리와 그 하위디렉터리들에 있는 파일들의 이름을 인쇄하는데 사용하세요.\n",
    "\n",
    "답: http://thinkpython.com/code/walk.py.\n",
    "\n",
    "예외 잡기\n",
    "[catch]\n",
    "\n",
    "여러분이 파일을 읽고 쓰려고 할 때 많은 것들이 잘못될 수 있습니다. 없는 파일을 열려고 하면, IOError를 만나게 됩니다:\n",
    "\n",
    ">>> fin = open('bad_file')\n",
    "IOError: [Errno 2] No such file or directory: 'bad_file'\n",
    "파일에 접근할 수 있는 권한이 없다면:\n",
    "\n",
    ">>> fout = open('/etc/passwd', 'w')\n",
    "IOError: [Errno 13] Permission denied: '/etc/passwd'\n",
    "그리고 만약 디렉터리를 읽기 위해 열려고 한다면, 이렇게 됩니다\n",
    "\n",
    ">>> fin = open('/home')\n",
    "IOError: [Errno 21] Is a directory\n",
    "이런 오류들을 피하기 위해, os.path.exists과 os.path.isfile같은 함수들을 사용할 수 있습니다만, 모든 가능성을 검사하는 데는 많은 시간과 코드가 들어갑니다 (만약 “Errno 21”이 뭔가를 뜻한다면, 잘못될 수 있는 방법이 적어도 21가지 있다는 뜻입니다.).\n",
    "\n",
    "전진하면서 시도(try)하고 문제가 발생한다면 처리하는 것이 더 좋은 방법인데, try 문이 하는 것이 바로 이것입니다. 문법은 if 문과 유사합니다:\n",
    "\n",
    "try:\n",
    "    fin = open('bad_file')\n",
    "    for line in fin:\n",
    "        print line\n",
    "    fin.close()\n",
    "except:\n",
    "    print 'Something went wrong.'\n",
    "파이썬은 try 구절을 실행하는 것으로 시작합니다. 문제가 없다면, except 구절을 건너뛰고 진행합니다. 만약 예외가 발생하면, try 구절에서 빠져 나와 except 구절을 실행합니다.\n",
    "\n",
    "try 문으로 예외를 다루는 것을 예외를 잡는다(catch)라고 합니다. 이 예에서, except 구절은 그리 도움이 되지 않는 오류 메시지를 인쇄합니다. 일반적으로, 예외를 잡는 것은 문제를 바로잡거나, 다시 시도하거나, 적어도 프로그램을 우아하게 끝낼 기회를 줍니다.\n",
    "\n",
    "[연습 14.2.]\n",
    "\n",
    "인자로 패턴(pattern) 문자열과 치환(replacement) 문자열과 두 개의 파일명을 인자로 받아들이는 함수 sed를 작성하세요; 첫 번째 파일을 읽어서 콘텐트를 두 번째 파일에 (필요하면 만드세요) 써야 합니다. 만약 패턴 문자열이 파일에 등장하면, 치환 문자열로 바꿔야 합니다.\n",
    "\n",
    "만약 파일을 열거나, 읽거나, 쓰거나, 닫을 때 오류가 발생한다면, 예외를 잡아서 오류 메시지를 인쇄한 후 종료해야 합니다. 답: http://thinkpython.com/code/sed.py.\n",
    "\n",
    "데이터베이스\n",
    "데이터베이스(database)는 데이터를 저장하기 위해 조직화된 파일입니다. 대부분의 데이터베이스는 키를 값에 대응시킨다는 의미에서 딕셔너리처럼 조직화됩니다. 가장 큰 차이는 데이터베이스의 경우 디스크(또는 다른 영구적 저장소)에 있어서 프로그램 종료 후에도 지속한다는 점입니다.\n",
    "\n",
    "anydbm 모듈은 데이터베이스 파일들을 만들고 갱신하는 인터페이스를 제공합니다. 예로, 이미지 파일의 캡션(caption)을 저장하는 데이터베이스를 만들겠습니다.\n",
    "\n",
    "데이터베이스를 여는 것은 다른 파일들을 여는 것과 유사합니다:\n",
    "\n",
    ">>> import anydbm\n",
    ">>> db = anydbm.open('captions.db', 'c')\n",
    "'c' 모드는 이미 존재하지 않을 경우 데이터베이스를 만들어야 한다는 뜻입니다. 결과는 (대부분의 연산에서) 딕셔너리처럼 사용할 수 있는 데이터베이스 객체입니다. 새 항목을 만들면, anydbm은 데이터베이스 파일을 갱신합니다.\n",
    "\n",
    ">>> db['cleese.png'] = 'Photo of John Cleese.'\n",
    "항목들 중 하나에 접근하면, anydbm은 파일을 읽습니다:\n",
    "\n",
    ">>> print db['cleese.png']\n",
    "Photo of John Cleese.\n",
    "이미 존재하는 키에 새로 대입하면, anydbm은 예전 값을 대체합니다:\n",
    "\n",
    ">>> db['cleese.png'] = 'Photo of John Cleese doing a silly walk.'\n",
    ">>> print db['cleese.png']\n",
    "Photo of John Cleese doing a silly walk.\n",
    "많은 딕셔너리 메쏘드들, keys 나 items와 같은,도 데이터베이스 객체에 적용됩니다. for 문으로 순환하는 것도 마찬가지입니다.\n",
    "\n",
    "for key in db:\n",
    "    print key\n",
    "다른 파일들처럼, 사용을 마치면 데이터베이스를 닫아야 합니다:\n",
    "\n",
    ">>> db.close()\n",
    "피클링\n",
    "anydbm의 제약은 키와 값이 문자열이어야 한다는 것입니다. 만약 다른 형을 사용하려고 하면, 오류를 만나게 됩니다.\n",
    "\n",
    "pickle 모듈이 도움을 줄 수 있습니다. 이 모듈은 거의 모든 종류의 객체를 데이터베이스에 저장하기 적합한 문자열로 변환하고, 문자열을 객체로 역 변환합니다.\n",
    "\n",
    "pickle.dumps는 액체를 매개변수로 받아서 문자열 표현을 돌려줍니다(dumps 는 “dump string”의 줄임 말입니다):\n",
    "\n",
    ">>> import pickle\n",
    ">>> t = [1, 2, 3]\n",
    ">>> pickle.dumps(t)\n",
    "'(lp0\\nI1\\naI2\\naI3\\na.'\n",
    "이 형식은 사람이 읽기에 적합하지 않습니다; pickle이 해석하기 용이하게 하기 위함입니다. pickle.loads(“load string”)는 객체를 재구성합니다:\n",
    "\n",
    ">>> t1 = [1, 2, 3]\n",
    ">>> s = pickle.dumps(t1)\n",
    ">>> t2 = pickle.loads(s)\n",
    ">>> print t2\n",
    "[1, 2, 3]\n",
    "새 객체가 예전 것과 같은 값을 갖고 있기는 하지만, (일반적으로) 같은 객체는 아닙니다:\n",
    "\n",
    ">>> t1 == t2\n",
    "True\n",
    ">>> t1 is t2\n",
    "False\n",
    "다른 말로 하면, 피클링(pickling)한 후의 언피클링(unpickling)은 객체를 복사하는 것과 같은 효과입니다.\n",
    "\n",
    "여러분은 문자열이 아닌 것들을 데이터베이스에 저장하기 위해 pickle을 사용할 수 있습니다. 사실, 이 조합은 아주 널리 사용되기 때문에 shelve라는 이름의 모듈에 캡슐화되었습니다.\n",
    "\n",
    "[연습 14.3.]\n",
    "\n",
    "연습 [anagrams]에 대한 제 답을 http://thinkpython.com/code/anagram_sets.py에서 다운로드 한다면, 글자들의 정렬된 문자열을 그 글자들로 철자가 구성된 단어들의 리스트로 대응하는 딕셔너리를 만드는 것을 보게 됩니다. 예를 들어, ’opst’ 는 리스트 로 대응됩니다.\n",
    "\n",
    "anagram_sets 를 들여오고(import) 두 개의 새 함수를 제공하는 모듈을 작성하세요: store_anagrams 은 애너그램(anagram) 딕셔너리를 “쉘프(shelf)”에 저장해야 합니다; read_anagrams 은 단어를 찾아서 애너그램의 리스트를 돌려줘야 합니다. 답: http://thinkpython.com/code/anagram_db.py\n",
    "\n",
    "파이프\n",
    "대부분의 운영 체제는 명령 행 인터페이스(command-line interface)를 제공하는데, 쉘(shell)이라고 알려져 있기도 합니다. 쉘은 보통 파일 시스템을 찾아 다니고 애플리케이션을 시동시키는 명령들을 제공합니다. 예를 들어, 유닉스(Unix)에서 cd 로 디렉터리를 변경하고, ls로 디렉터리의 내용을 표시하고, (예를 들어) firefox 를 입력해서 웹 브라우저를 시작시킵니다.\n",
    "\n",
    "쉘에서 시작시킬 수 있는 모든 프로그램은 파이프(pipe)를 사용해서 파이썬에서도 시작시킬 수 있습니다. 파이프는 실행중인 프로그램을 나타내는 객체입니다.\n",
    "\n",
    "예를 들어, 유닉스 명령 ls -l은 보통 현재 디렉터리의 내용을 (긴 형식으로) 표시합니다. 여러분은 os.popen [1] 으로 ls를 시작시킬 수 있습니다:\n",
    "\n",
    ">>> cmd = 'ls -l'\n",
    ">>> fp = os.popen(cmd)\n",
    "인자는 쉘 명령어를 포함하는 문자열입니다. 반환 값은 열린 파일과 똑같이 동작하는 객체입니다. 여러분은 ls 프로세스로부터의 출력을 readline으로 한번에 한 줄씩 읽거나 read로 전부 한 번에 읽을 수 있습니다:\n",
    "\n",
    ">>> res = fp.read()\n",
    "다 끝나면, 파일처럼 파이프를 닫아줍니다:\n",
    "\n",
    ">>> stat = fp.close()\n",
    ">>> print stat\n",
    "None\n",
    "반환 값은 ls 프로세스의 최종 상태입니다; None 은 정상적으로 (오류 없이) 종료했다는 뜻입니다.\n",
    "\n",
    "예를 들어, 대부분의 유닉스 시스템들은 md5sum 이라는 명령을 제공하는데, 파일의 내용을 읽어서 “체크 섬(checksum)”을 계산합니다. MD5에 대한 내용은 http://en.wikipedia.org/wiki/Md5에서 읽을 수 있습니다. 이 명령은 두 파일의 내용이 같은 지를 검사하는 효율적인 방법을 제공합니다. 다른 내용이 같은 체크 섬을 줄 확률은 아주 작습니다(즉, 우주가 붕괴하기 전에 발생할 것 같지 않습니다).\n",
    "\n",
    "여러분은 파이프로 파이썬에서 md5sum을 실행하고 이런 결과를 얻을 수 있습니다:\n",
    "\n",
    ">>> filename = 'book.tex'\n",
    ">>> cmd = 'md5sum ' + filename\n",
    ">>> fp = os.popen(cmd)\n",
    ">>> res = fp.read()\n",
    ">>> stat = fp.close()\n",
    ">>> print res\n",
    "1e0033f0ed0656636de0d75144ba32e0  book.tex\n",
    ">>> print stat\n",
    "None\n",
    "[연습 14.4.] [checksum]\n",
    "\n",
    "MP3 파일들의 커다란 컬렉션에서, 같은 노래가 다른 디렉터리나 다른 파일명으로 저장되어서 여러 개가 있을 수 있습니다. 이 연습의 목표는 중복을 찾는 것입니다.\n",
    "\n",
    "[1]\t디렉터리와 하위 디렉터리들을 재귀적으로 검색해서 주어진 확장 자(.mp3와 같은)를 가진 모든 파일들의 완전한 경로들의 리스트를 돌려주는 프로그램을 작성하세요. 힌트: os.path는 파일과 경로의 이름을 조작하는데 유용한 함수들을 여러 개 제공합니다.\n",
    "[2]\t중복을 감지하기 위해서, md5sum을 사용해서 각 파일들의 “체크 섬(checksum)’’을 계산할 수 있습니다. 만약 두 파일이 같은 체크 섬을 갖는다면, 아마도 그들은 내용이 같을 것입니다.\n",
    "[3]\t이중으로 검사하기 위해, 유닉스 명령어 diff를 사용할 수 있습니다.\n",
    "답: http://thinkpython.com/code/find_duplicates.py.\n",
    "\n",
    "모듈 작성하기\n",
    "[modules]\n",
    "\n",
    "파이썬 코드를 포함하는 모든 파일은 모듈로 들여오기 할 수 있습니다. 예를 들어, 다음과 같은 코드가 들어있는 wc.py 라는 파일이 있다고 합시다:\n",
    "\n",
    "def linecount(filename):\n",
    "    count = 0\n",
    "    for line in open(filename):\n",
    "        count += 1\n",
    "    return count\n",
    "\n",
    "print linecount('wc.py')\n",
    "이 프로그램을 실행하면, 자지 자신을 읽어서 파일에 있는 줄의 개수, 7입니다,를 인쇄합니다. 여러분인 이런 식으로 들여오기 할 수도 있습니다:\n",
    "\n",
    ">>> import wc\n",
    "7\n",
    "이제 여러분은 모듈 객체 wc를 얻게 됩니다:\n",
    "\n",
    ">>> print wc\n",
    "<module 'wc' from 'wc.py'>\n",
    "이 모듈은 linecount 라는 함수를 제공합니다:\n",
    "\n",
    ">>> wc.linecount('wc.py')\n",
    "7\n",
    "이 것이 파이썬에서 모듈을 작성하는 방법입니다.\n",
    "\n",
    "이 예에서 단 한가지 문제는 모듈을 들여오기 할 때 그 끝에 있는 테스트 코드를 실행한다는 것입니다. 보통 모듈을 들여오기 할 때, 새 함수를 정의하기는 하지만 그 것들을 실행하지는 않습니다.\n",
    "\n",
    "모듈로 들여오기 될 프로그램들은 종종 다음과 같은 관용 표현을 사용합니다:\n",
    "\n",
    "if __name__ == '__main__':\n",
    "    print linecount('wc.py')\n",
    "__name__ 은 프로그램이 시작할 때 설정되는 내장 변수입니다. 만약 프로그램이 스크립트로 실행되고 있다면, __name__ 은 __main__ 이라는 값을 갖습니다; 그 경우 테스트 코드가 실행됩니다. 그렇지 않으면, 모듈이 들여오기 되는 중이면, 테스트 코드는 건너뜁니다.\n",
    "\n",
    "[연습 14.5.]\n",
    "\n",
    "이 예를 wc.py 라는 파일에 입력하고 스크립트로 실행하세요. 그런 다음 파이썬 인터프리터를 실행하고 import wc 하세요. 모듈이 들여오기 중일 때 __name__ 의 값은 뭔가요?\n",
    "\n",
    "경고: 이미 들여오기 된 모듈을 들여오기 하면, 파이썬은 아무 일도 하지 않습니다. 파일이 변경되었다 하더라도, 파일을 다시 읽지 않습니다.\n",
    "\n",
    "모듈을 다시 읽어오기를 원한다면, 내장 함수 reload를 사용할 수 있습니다만, 까다로울 수 있어서, 할 수 있는 가장 안전한 것은 인터프리터를 다시 시작시킨 후에 모듈을 다시 들여오기 하는 것입니다.\n",
    "\n",
    "디버깅\n",
    "파일을 읽고 쓸 때, 공백문자들과 관련된 문제에 부딪힐 수 있습니다. 이 오류들은 스페이스, 탭, 개행문자들이 보통 보이지 않기 때문에 디버깅하기 어려울 수 있습니다:\n",
    "\n",
    ">>> s = '1 2\\t 3\\n 4'\n",
    ">>> print s\n",
    "1 2  3\n",
    " 4\n",
    "내장 함수 repr이 도움이 될 수 있습니다. 임의의 객체를 인자로 받아 객체의 문자열 표현을 돌려줍니다. 문자열의 경우, 공백 문자들을 역 슬래시 시퀀스로 표현합니다:\n",
    "\n",
    ">>> print repr(s)\n",
    "'1 2\\t 3\\n 4'\n",
    "이 것은 디버깅에 도움이 될 수 있습니다.\n",
    "\n",
    "여러분이 만날 또 다른 문제는 서로 다른 시스템들이 줄의 끝을 표현하는데 다른 문자들을 사용한다는 것입니다. 어떤 시스템은 \\n 로 표현되는 개행문자(newline)을 사용합니다. 어떤 시스템은 \\r 로 표현되는 리턴(return) 문자를 사용합니다. 또 어떤 시스템은 둘 다 사용합니다. 만약 여러분이 다른 시스템으로 옮긴다면, 이런 비 일관성은 문제를 일으킬 수 있습니다.\n",
    "\n",
    "대부분의 시스템에, 한 형식을 다른 형식으로 바꿔주는 애플리케이션이 있습니다. 여러분은 http://en.wikipedia.org/wiki/Newline에서 그 것들을 찾을 (또는 이 이슈에 대해 더 읽을) 수 있습니다. 또는, 물론, 여러분은 여러분 스스로 하나 만들 수 있습니다.\n",
    "\n",
    "용어\n",
    "지속적 persistent:\n",
    "무기한 실행하고 적어도 데이터의 일부를 영구적인 기억장소에 보관하는 프로그램을 가리키는 표현.\n",
    "형식 연산자 format operator:\n",
    "형식 문자열과 튜플을 받아서 형식 문자열에 의해 지정된 방식으로 형식화된 튜플의 요소들을 포함하는 문자열을 만드는 연산자 %.\n",
    "형식 문자열 format string:\n",
    "형식 연산자와 함께 사용되는 문자열로 형식 시퀀스들을 포함한다.\n",
    "형식 시퀀스 format sequence:\n",
    "형식 문자열에 있는 문자들의 시퀀스, %d과 같은,로 값이 어떻게 형식화되어야 하는지 지정한다.\n",
    "텍스트 파일 text file:\n",
    "하드 드라이브와 같은 영구 기억장치에 저장된 문자들의 시퀀스.\n",
    "디렉터리 directory:\n",
    "파일들의 이름 붙은 컬렉션으로 폴더(folder)라고도 부른다.\n",
    "경로 path:\n",
    "파일을 지정하는 문자열.\n",
    "상태 경로 relative path:\n",
    "현재 디렉터리에서 시작하는 경로.\n",
    "절대 경로 absolute path:\n",
    "파일 시스템(file system)의 최 상단 디렉터리에서 시작하는 경로.\n",
    "잡기 catch:\n",
    "try 와 except 문을 사용해서, 예외가 프로그램을 종료시키는 것을 막는 것.\n",
    "데이터베이스 database:\n",
    "값에 대응되는 키를 갖는 딕셔너리처럼 조직화된 내용을 갖는 파일.\n",
    "연습\n",
    "[연습 14.6.] [urllib]\n",
    "\n",
    "urllib 모듈은 URL을 다루고 웹에서 정보를 다운로드 하는 메쏘드들을 제공합니다. 다음 예는 thinkpython.com 에서 비밀 메시지를 다운로드하고 인쇄합니다:\n",
    "\n",
    "import urllib\n",
    "\n",
    "conn = urllib.urlopen('http://thinkpython.com/secret.html')\n",
    "for line in conn:\n",
    "    print line.strip()\n",
    "이 코드를 실행하고 보이는 지시를 따르세요. 답: http://thinkpython.com/code/zip_code.py."
   ]
  }
 ],
 "metadata": {
  "kernelspec": {
   "display_name": "Python 3",
   "language": "python",
   "name": "python3"
  },
  "language_info": {
   "codemirror_mode": {
    "name": "ipython",
    "version": 3
   },
   "file_extension": ".py",
   "mimetype": "text/x-python",
   "name": "python",
   "nbconvert_exporter": "python",
   "pygments_lexer": "ipython3",
   "version": "3.6.4"
  }
 },
 "nbformat": 4,
 "nbformat_minor": 2
}
