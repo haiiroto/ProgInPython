{
 "cells": [
  {
   "cell_type": "markdown",
   "metadata": {},
   "source": [
    "# 해시 예제: 사전 자료형"
   ]
  },
  {
   "cell_type": "markdown",
   "metadata": {},
   "source": [
    "아래 내용을 담고 있는 [results.txt](https://github.com/liganega/bpp/blob/master/notes/data/results.txt) 파일을 계속해서 다루고자 한다.\n",
    "```\n",
    "Name  Score\n",
    "Johnny  8.65 \n",
    "Juan  9.12\n",
    "Joseph  8.45\n",
    "Stacey  7.81\n",
    "Aideen  8.05\n",
    "Zack  7.21\n",
    "Aaron  8.31\n",
    "```"
   ]
  },
  {
   "cell_type": "markdown",
   "metadata": {},
   "source": [
    "## 다루는 내용\n",
    "\n",
    "results.txt 파일에 저장된 정보에서 1, 2, 3등을 차지한 선수와 점수를 확인하고자 한다."
   ]
  },
  {
   "cell_type": "markdown",
   "metadata": {},
   "source": [
    "## 서핑 선수들의 등수 확인하기\n",
    "\n",
    "앞서 리스트 자료형을 활용하여 1, 2, 3등의 점수를 확인할 수 있었다.\n",
    "하지만 어떤 선수의 점수인지를 확인할 수는 없었다. \n",
    "\n",
    "앞서 살펴 본 코드는 아래와 같다."
   ]
  },
  {
   "cell_type": "code",
   "execution_count": 1,
   "metadata": {},
   "outputs": [
    {
     "name": "stdout",
     "output_type": "stream",
     "text": [
      "1, 2, 3등 점수:\n",
      "9.12\n",
      "8.65\n",
      "8.45\n"
     ]
    }
   ],
   "source": [
    "result_f = open(\"data/results.txt\") \n",
    "\n",
    "score_list = []                        \n",
    "\n",
    "for line in result_f: \n",
    "    (name, score) = line.split()       \n",
    "    try:\n",
    "        score_list.append(float(score))\n",
    "    except:\n",
    "        continue\n",
    "\n",
    "result_f.close() \n",
    "\n",
    "score_list.sort(reverse=True)\n",
    "\n",
    "print(\"1, 2, 3등 점수:\") \n",
    "print(score_list[0])   \n",
    "print(score_list[1])   \n",
    "print(score_list[2])   "
   ]
  },
  {
   "cell_type": "markdown",
   "metadata": {},
   "source": [
    "위 코드의 핵심은 각 줄을 공백을 기준으로 두 개의 문자열로 쪼개어 점수 부분만을 따로 리스트로 \n",
    "저장하는 것이다.\n",
    "\n",
    "그런데 그렇게 점수를 따로 다루면 점수와 선수이름 사이의 관계를 잃어버린다.\n",
    "따라서 점수와 선수이름과의 관계 정보를 유지하는 방법을 고안해야 하는 것이 해결해야할 과제이다."
   ]
  },
  {
   "cell_type": "markdown",
   "metadata": {},
   "source": [
    "### 잘못된 시도\n",
    "\n",
    "위 코드에서 선수이름과 점수를 분리하여 점수만 따로 리스트로 저장하였다.\n",
    "그렇다면 비슷한 방식으로 선수이름만 따로 리스트로 저장하면 어떠할까 라는 질문이 들 수 있다.\n",
    "\n",
    "예를 들어, 아래 코드는 선수이름도 따로 리스트로 저장한 후에 점수를 내림차순으로 정렬하듯,\n",
    "이름도 내림차순으로 정렬한 후에 동일한 색인을 사용하여 1, 2, 3 등을 확인하는 코드이다."
   ]
  },
  {
   "cell_type": "code",
   "execution_count": 2,
   "metadata": {},
   "outputs": [
    {
     "name": "stdout",
     "output_type": "stream",
     "text": [
      "1, 2, 3등 선수와 점수:\n",
      "Zack 9.12\n",
      "Stacey 8.65\n",
      "Juan 8.45\n"
     ]
    }
   ],
   "source": [
    "result_f = open(\"data/results.txt\") \n",
    "\n",
    "score_list = []                        \n",
    "name_list = []                           # 선수이름 리스트 생성\n",
    "\n",
    "for line in result_f: \n",
    "    (name, score) = line.split()       \n",
    "    try:\n",
    "        score_list.append(float(score))\n",
    "        name_list.append(name)          # 선수이름 추가\n",
    "    except:\n",
    "        continue\n",
    "\n",
    "result_f.close() \n",
    "\n",
    "score_list.sort(reverse=True)\n",
    "name_list.sort(reverse=True)\n",
    "\n",
    "print(\"1, 2, 3등 선수와 점수:\") \n",
    "print(name_list[0], score_list[0])   \n",
    "print(name_list[1], score_list[1])   \n",
    "print(name_list[2], score_list[2])   "
   ]
  },
  {
   "cell_type": "markdown",
   "metadata": {},
   "source": [
    "그런데 매우 이상하다. Z로 시작하는 Zack이 1등이고, 다음에 Stacey가 2등 순으로 나타난다.\n",
    "\n",
    "위 코드의 문제점은 알파벳의 역순으로 1, 2, 3등이 가려진다는 점이다. \n",
    "앞서 말했듯 선수이름과 점수를 따로따로 리스트에 저장하였기 때문에 선수이름과 점수가 더 이상 어떤 관계도 갖지 않게 되는\n",
    "문제때문에 분리 후에는 선수이름과 점수 사이의 관계 정보를 확인할 수 없다."
   ]
  },
  {
   "cell_type": "markdown",
   "metadata": {},
   "source": [
    "### 사전 활용"
   ]
  },
  {
   "cell_type": "markdown",
   "metadata": {},
   "source": [
    "점수와 선수이름과의 관계를 유지하기 위해 사전 자료형을 활용한다.\n",
    "그리고 1, 2, 3 등처럼 등수를 구하기 위해서 여기서는 점수를 키(key)로 사용하고, 해당 점수를 얻은 선수이름을 값(value)으로 사용한다.\n",
    "\n",
    "위 코드를 조금만 수정하면 원하는 내용을 담은 사전을 쉽게 구할 수 있다."
   ]
  },
  {
   "cell_type": "code",
   "execution_count": 3,
   "metadata": {},
   "outputs": [
    {
     "name": "stdout",
     "output_type": "stream",
     "text": [
      "{8.65: 'Johnny', 9.12: 'Juan', 8.45: 'Joseph', 7.81: 'Stacey', 8.05: 'Aideen', 7.21: 'Zack', 8.31: 'Aaron'}\n"
     ]
    }
   ],
   "source": [
    "result_f = open(\"data/results.txt\") \n",
    "\n",
    "score_dict = dict()                        # 빈 사전 생성\n",
    "# 아래와 같이 선언해도 된다.\n",
    "# score_dict = {}\n",
    "\n",
    "for line in result_f: \n",
    "    (name, score) = line.split()       \n",
    "    try:\n",
    "        score_dict[float(score)] = name   # 점수와 선수이름의 쌍을 사전에 추가\n",
    "    except:\n",
    "        continue\n",
    "\n",
    "result_f.close() \n",
    "\n",
    "print(score_dict)"
   ]
  },
  {
   "cell_type": "markdown",
   "metadata": {},
   "source": [
    "얻은 사전을 이용하여 등수별로 선수이름과 점수를 출력하는 프로그램은 다음과 같다."
   ]
  },
  {
   "cell_type": "code",
   "execution_count": 4,
   "metadata": {},
   "outputs": [
    {
     "name": "stdout",
     "output_type": "stream",
     "text": [
      "Name: Juan , Score: 9.12\n",
      "Name: Johnny , Score: 8.65\n",
      "Name: Joseph , Score: 8.45\n",
      "Name: Aaron , Score: 8.31\n",
      "Name: Aideen , Score: 8.05\n",
      "Name: Stacey , Score: 7.81\n",
      "Name: Zack , Score: 7.21\n"
     ]
    }
   ],
   "source": [
    "result_f = open(\"data/results.txt\") \n",
    "\n",
    "score_dict = dict()                        # 빈 사전 생성\n",
    "# 아래와 같이 선언해도 된다.\n",
    "# score_dict = {}\n",
    "\n",
    "for line in result_f: \n",
    "    (name, score) = line.split()       \n",
    "    try:\n",
    "        score_dict[float(score)] = name   # 점수와 선수이름의 쌍을 사전에 추가\n",
    "    except:\n",
    "        continue\n",
    "\n",
    "result_f.close() \n",
    "\n",
    "score_keys = sorted(score_dict.keys(), reverse=True)\n",
    "\n",
    "\n",
    "for key in score_keys:\n",
    "    print(\"Name:\", score_dict[key], \", Score:\", key)"
   ]
  },
  {
   "cell_type": "markdown",
   "metadata": {},
   "source": [
    "위 코드를 좀 더 수정하면 등수까지도 보여줄 수 있다."
   ]
  },
  {
   "cell_type": "code",
   "execution_count": 5,
   "metadata": {},
   "outputs": [
    {
     "name": "stdout",
     "output_type": "stream",
     "text": [
      "1등은 Juan 이고, 점수는 9.12 입니다.\n",
      "2등은 Johnny 이고, 점수는 8.65 입니다.\n",
      "3등은 Joseph 이고, 점수는 8.45 입니다.\n",
      "4등은 Aaron 이고, 점수는 8.31 입니다.\n",
      "5등은 Aideen 이고, 점수는 8.05 입니다.\n",
      "6등은 Stacey 이고, 점수는 7.81 입니다.\n",
      "7등은 Zack 이고, 점수는 7.21 입니다.\n"
     ]
    }
   ],
   "source": [
    "result_f = open(\"data/results.txt\") \n",
    "\n",
    "score_dict = dict()                        # 빈 사전 생성\n",
    "# 아래와 같이 선언해도 된다.\n",
    "# score_dict = {}\n",
    "\n",
    "for line in result_f: \n",
    "    (name, score) = line.split()       \n",
    "    try:\n",
    "        score_dict[float(score)] = name   # 점수와 선수이름의 쌍을 사전에 추가\n",
    "    except:\n",
    "        continue\n",
    "\n",
    "result_f.close() \n",
    "\n",
    "score_keys = sorted(score_dict.keys(), reverse=True)\n",
    "\n",
    "count = 1\n",
    "for key in score_keys:\n",
    "    print(str(count)+\"등은\", score_dict[key], \"이고, 점수는\", key, \"입니다.\")\n",
    "    count = count+1"
   ]
  },
  {
   "cell_type": "markdown",
   "metadata": {},
   "source": [
    "그런데 사전 또는 리스트와 `for` 반복문을 함께 사용하면서 `count` 와 같은 변수를 사용하는 것은 좋지 않다.\n",
    "이유는 사전 또는 리스트가 `for` 문에 사용될 경우 카운트 기능을 이미 내포하고 있기 때문이다.\n",
    "\n",
    "따라서 아래와 같이 프로그램을 구현할 수도 있다.\n",
    "\n",
    "* 리스트 자료형의 `index` 메소드 활용"
   ]
  },
  {
   "cell_type": "code",
   "execution_count": 6,
   "metadata": {},
   "outputs": [
    {
     "name": "stdout",
     "output_type": "stream",
     "text": [
      "1등은 Juan 이고, 점수는 9.12 입니다.\n",
      "2등은 Johnny 이고, 점수는 8.65 입니다.\n",
      "3등은 Joseph 이고, 점수는 8.45 입니다.\n",
      "4등은 Aaron 이고, 점수는 8.31 입니다.\n",
      "5등은 Aideen 이고, 점수는 8.05 입니다.\n",
      "6등은 Stacey 이고, 점수는 7.81 입니다.\n",
      "7등은 Zack 이고, 점수는 7.21 입니다.\n"
     ]
    }
   ],
   "source": [
    "result_f = open(\"data/results.txt\") \n",
    "\n",
    "score_dict = dict()                        # 빈 사전 생성\n",
    "# 아래와 같이 선언해도 된다.\n",
    "# score_dict = {}\n",
    "\n",
    "for line in result_f: \n",
    "    (name, score) = line.split()       \n",
    "    try:\n",
    "        score_dict[float(score)] = name   # 점수와 선수이름의 쌍을 사전에 추가\n",
    "    except:\n",
    "        continue\n",
    "\n",
    "result_f.close() \n",
    "\n",
    "score_keys = sorted(score_dict.keys(), reverse=True)\n",
    "score_list = list(score_keys)             # 리스트 자료형으로 형변환\n",
    "\n",
    "for key in score_list:\n",
    "    print(str(score_list.index(key)+1)+\"등은\", score_dict[key], \"이고, 점수는\", key, \"입니다.\")"
   ]
  },
  {
   "cell_type": "markdown",
   "metadata": {},
   "source": [
    "## 예제: 선수정보 추출\n",
    "\n",
    "좀 더 복잡한 데이터를 쪼개어 사전으로 저장하는 방식을 살펴보고자 한다.\n",
    "주어진 데이터와 목표는 다음과 같다.\n",
    "\n",
    "* 주어진 데이터: 아래 내용의 문자열\n",
    "> \"101;Johnny 'wave-boy' Jones;USA;8.32;Fish;21\"\n",
    "* 목표: 아래 내용으로 출력하고자 함\n",
    "```\n",
    "번호:    101\n",
    "이름:    Johnny 'wave-boy' Jones \n",
    "국적:    USA\n",
    "기록:    8.32\n",
    "보드타입: Fish\n",
    "나이:    21\n",
    "```"
   ]
  },
  {
   "cell_type": "markdown",
   "metadata": {},
   "source": [
    "위 목표를 달성하기 위해 여기서는 아래 모양의 사전을 생성하고자 한다.\n",
    "> {'번호': '101', '이름': \"Johnny 'wave-boy' Jones\", '국적': 'USA', '기록': '8.32', '보드타입': 'Fish', '나이': '21'}"
   ]
  },
  {
   "cell_type": "markdown",
   "metadata": {},
   "source": [
    "* 수동 방식 1: \n",
    "    주어진 데이터를 세미콜론(`;`)을 기준으로 쪼개어\n",
    "    얻어진 리스트의 각각의 항목을 값으로 사용하여 \n",
    "    수동으로 사전을 생성할 수 있다."
   ]
  },
  {
   "cell_type": "code",
   "execution_count": 1,
   "metadata": {},
   "outputs": [],
   "source": [
    "surfer_info = \"101;Johnny 'wave-boy' Jones;USA;8.32;Fish;21\""
   ]
  },
  {
   "cell_type": "code",
   "execution_count": 2,
   "metadata": {},
   "outputs": [
    {
     "name": "stdout",
     "output_type": "stream",
     "text": [
      "['101', \"Johnny 'wave-boy' Jones\", 'USA', '8.32', 'Fish', '21']\n"
     ]
    }
   ],
   "source": [
    "surfer_info_list = surfer_info.split(';')\n",
    "print(surfer_info_list)"
   ]
  },
  {
   "cell_type": "code",
   "execution_count": 3,
   "metadata": {},
   "outputs": [],
   "source": [
    "surfer_info_dict = dict()\n",
    "surfer_info_dict['번호'] = surfer_info_list[0]\n",
    "surfer_info_dict['이름'] = surfer_info_list[1]\n",
    "surfer_info_dict['국적'] = surfer_info_list[2]\n",
    "surfer_info_dict['기록'] = surfer_info_list[3]\n",
    "surfer_info_dict['보드타입'] = surfer_info_list[4]\n",
    "surfer_info_dict['나이'] = surfer_info_list[5]"
   ]
  },
  {
   "cell_type": "code",
   "execution_count": 4,
   "metadata": {},
   "outputs": [
    {
     "name": "stdout",
     "output_type": "stream",
     "text": [
      "{'번호': '101', '이름': \"Johnny 'wave-boy' Jones\", '국적': 'USA', '기록': '8.32', '보드타입': 'Fish', '나이': '21'}\n"
     ]
    }
   ],
   "source": [
    "print(surfer_info_dict)"
   ]
  },
  {
   "cell_type": "markdown",
   "metadata": {},
   "source": [
    "* 수동 방식 2: 아래와 같이 쪼개진 각각의 항목을 동시에 이용할 수도 있다."
   ]
  },
  {
   "cell_type": "code",
   "execution_count": 5,
   "metadata": {},
   "outputs": [
    {
     "name": "stdout",
     "output_type": "stream",
     "text": [
      "{'번호': '101', '이름': \"Johnny 'wave-boy' Jones\", '국적': 'USA', '기록': '8.32', '보드타입': 'Fish', '나이': '21'}\n"
     ]
    }
   ],
   "source": [
    "surfer_info = \"101;Johnny 'wave-boy' Jones;USA;8.32;Fish;21\"\n",
    "surfer_info_dict = dict()\n",
    "surfer_info_dict['번호'], surfer_info_dict['이름'], \\\n",
    "surfer_info_dict['국적'], surfer_info_dict['기록'], \\\n",
    "surfer_info_dict['보드타입'], surfer_info_dict['나이'] \\\n",
    "= surfer_info.split(';')\n",
    "\n",
    "print(surfer_info_dict)"
   ]
  },
  {
   "cell_type": "markdown",
   "metadata": {},
   "source": [
    "**주의:** 역 슬래시(`\\`)는 파이썬 명령문이 다음 줄에 이어서 계속된다는 것을 의미함."
   ]
  },
  {
   "cell_type": "markdown",
   "metadata": {},
   "source": [
    "* 자동 방식: 세미콜론으로 쪼갠 리스트 각각의 항목을 값으로 하는 사전을 직접 생성할 수 있다."
   ]
  },
  {
   "cell_type": "code",
   "execution_count": 6,
   "metadata": {},
   "outputs": [
    {
     "name": "stdout",
     "output_type": "stream",
     "text": [
      "번호:\t 101\n",
      "이름:\t Johnny 'wave-boy' Jones\n",
      "국적:\t USA\n",
      "기록:\t 8.32\n",
      "보드타입:\t Fish\n",
      "나이:\t 21\n"
     ]
    }
   ],
   "source": [
    "surfer_info = \"101;Johnny 'wave-boy' Jones;USA;8.32;Fish;21\"\n",
    "info_items = ['번호', '이름', '국적', '기록', '보드타입', '나이']\n",
    "surfer_info_list = surfer_info.split(';')\n",
    "surfer_info_dict = dict()\n",
    "\n",
    "index = 0\n",
    "while index < len(info_items):\n",
    "    surfer_info_dict[info_items[index]] = surfer_info_list[index]\n",
    "    index += 1\n",
    "\n",
    "for info in surfer_info_dict:    \n",
    "    print(info +':\\t', surfer_info_dict[info])     # \\t는 탭을 의미함"
   ]
  },
  {
   "cell_type": "markdown",
   "metadata": {},
   "source": [
    "`index`와 같은 임시변수를 사용하는 것은 별로 추천되지 않는다.\n",
    "아래 코드는 `for ... in ...` 반복문을 사용하는 코드이다."
   ]
  },
  {
   "cell_type": "code",
   "execution_count": 7,
   "metadata": {},
   "outputs": [
    {
     "name": "stdout",
     "output_type": "stream",
     "text": [
      "번호:\t 101\n",
      "이름:\t Johnny 'wave-boy' Jones\n",
      "국적:\t USA\n",
      "기록:\t 8.32\n",
      "보드타입:\t Fish\n",
      "나이:\t 21\n"
     ]
    }
   ],
   "source": [
    "surfer_info = \"101;Johnny 'wave-boy' Jones;USA;8.32;Fish;21\"\n",
    "info_items = ['번호', '이름', '국적', '기록', '보드타입', '나이']\n",
    "surfer_info_list = surfer_info.split(';')\n",
    "surfer_info_dict = dict()\n",
    "\n",
    "for item in info_items:\n",
    "    item_index = info_items.index(item)                   # 리스트의 index 메소드 활용\n",
    "    surfer_info_dict[item] = surfer_info_list[item_index]\n",
    "\n",
    "for info in surfer_info_dict:    \n",
    "    print(info +':\\t', surfer_info_dict[info])     "
   ]
  },
  {
   "cell_type": "code",
   "execution_count": 36,
   "metadata": {},
   "outputs": [
    {
     "name": "stdout",
     "output_type": "stream",
     "text": [
      "번호:  \t101\n",
      "이름:  \tJohnny 'wave-boy' Jones\n",
      "국적:  \tUSA\n",
      "기록:  \t8.32\n",
      "보드타입:\tFish\n",
      "나이:  \t21\n"
     ]
    }
   ],
   "source": [
    "surfer_info = \"101;Johnny 'wave-boy' Jones;USA;8.32;Fish;21\"\n",
    "info_items = ['번호', '이름', '국적', '기록', '보드타입', '나이']\n",
    "surfer_info_list = surfer_info.split(';')\n",
    "surfer_info_dict = dict()\n",
    "\n",
    "for item in info_items:\n",
    "    item_index = info_items.index(item)                   # 리스트의 index 메소드 활용\n",
    "    surfer_info_dict[item] = surfer_info_list[item_index]\n",
    "\n",
    "for info in surfer_info_dict:    \n",
    "    print(\"%-5s\\t%s\" % (info+\":\", surfer_info_dict[info]))"
   ]
  },
  {
   "cell_type": "markdown",
   "metadata": {},
   "source": [
    "## 예제: 선수기록 정리"
   ]
  },
  {
   "cell_type": "markdown",
   "metadata": {},
   "source": [
    "아래 내용을 `james2.txt` 파일에 저장하라.\n",
    "```\n",
    "James Lee,2002-3-14,2-34,3:21,2.34,2.45,3.01,2:01,2:01,3:10,2-22,2-01,2.01,2:16\n",
    "```\n",
    "아래 내용을 `julie2.txt` 파일에 저장하라.\n",
    "```\n",
    "Julie Jones,2002-8-17,2.59,2.11,2:11,2:23,3-10,2-23,3:10,3.21,3-21,3.01,3.02,2:59\n",
    "```\n",
    "파일에 저장된 내용은 각각 `James`와 `Julie`의 1000m 기록이다.\n",
    "\n",
    "아래 코드를 설명하라. \n",
    "특히 `sanitize` 함수와 `get_coach_data` 함수가 하는 일을 중심으로 설명하라. "
   ]
  },
  {
   "cell_type": "code",
   "execution_count": 2,
   "metadata": {},
   "outputs": [
    {
     "name": "stdout",
     "output_type": "stream",
     "text": [
      "James Lee's fastest times are: ['2.01', '2.16', '2.22']\n",
      "Julie Jones's fastest times are: ['2.11', '2.23', '2.59']\n"
     ]
    }
   ],
   "source": [
    "def sanitize(time_string):\n",
    "    if '-' in time_string:\n",
    "        splitter = '-'\n",
    "    elif ':' in time_string:\n",
    "        splitter = ':'\n",
    "    else:\n",
    "        return(time_string)\n",
    "    (mins, secs) = time_string.split(splitter)\n",
    "    return(mins + '.' + secs)\n",
    "\n",
    "def get_coach_data(filename):\n",
    "    try:\n",
    "        with open(filename) as f:\n",
    "            data = f.readline()\n",
    "        templ = data.strip().split(',')\n",
    "        return({'Name' : templ.pop(0),\n",
    "                'DOB'  : templ.pop(0),\n",
    "                'Times': str(sorted(set([sanitize(t) for t in templ]))[0:3])})\n",
    "    except IOError as ioerr:\n",
    "        print('File error: ' + str(ioerr))\n",
    "        return(None)\n",
    "    \n",
    "james = get_coach_data('data/james2.txt')\n",
    "julie = get_coach_data('data/julie2.txt')\n",
    "\n",
    "print(james['Name'] + \"'s fastest times are: \" + james['Times'])\n",
    "print(julie['Name'] + \"'s fastest times are: \" + julie['Times'])"
   ]
  },
  {
   "cell_type": "markdown",
   "metadata": {},
   "source": [
    "## 연습문제"
   ]
  },
  {
   "cell_type": "markdown",
   "metadata": {},
   "source": [
    "1. 아래 내용의 데이터가 \n",
    "    [surfing_data.csv](https://github.com/liganega/bpp/blob/master/notes/data/surfing_data.csv) \n",
    "    파일에 저장되어 있다.\n",
    "```\n",
    "101;Johnny 'wave-boy' Jones;USA;8.32;Fish;21\n",
    "102;Juan Martino;Spain;9.01;Gun;36\n",
    "103;Joseph 'smitty' Smyth;USA;8.85;Cruizer;18\n",
    "104;Stacey O'Neill;Ireland;8.91;Malibu;22\n",
    "105;Aideen 'board babe' Wu;Japan;8.65;Fish;24\n",
    "106;Zack 'bonnie-lad' MacFadden;Scotland;7.82;Thruster;26\n",
    "107;Aaron Valentino;Italy;8.98;Gun;19\n",
    "```\n",
    "    다음 기능을 수행하는 함수 `find_details`를 구현하라.\n",
    "    * 선수의 번호를 인자로 받는다.\n",
    "    * 선수의 번호에 해당하는 선수의 정보를 앞서 선수정보를 추출하는 예제에서 다룬 모양의 사전으로 리턴한다."
   ]
  }
 ],
 "metadata": {
  "kernelspec": {
   "display_name": "Python 3",
   "language": "python",
   "name": "python3"
  },
  "language_info": {
   "codemirror_mode": {
    "name": "ipython",
    "version": 3
   },
   "file_extension": ".py",
   "mimetype": "text/x-python",
   "name": "python",
   "nbconvert_exporter": "python",
   "pygments_lexer": "ipython3",
   "version": "3.6.3"
  }
 },
 "nbformat": 4,
 "nbformat_minor": 2
}
