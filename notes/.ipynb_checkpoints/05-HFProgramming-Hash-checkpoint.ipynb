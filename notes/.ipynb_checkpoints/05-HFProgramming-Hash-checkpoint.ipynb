{
 "cells": [
  {
   "cell_type": "markdown",
   "metadata": {},
   "source": [
    "# 해시 예제: 사전 자료형"
   ]
  },
  {
   "cell_type": "markdown",
   "metadata": {},
   "source": [
    "아래 내용을 담고 있는 [results.txt](https://github.com/liganega/bpp/blob/master/notes/data/results.txt) 파일을 계속해서 다루고자 한다.\n",
    "```\n",
    "Name  Score\n",
    "Johnny  8.65 \n",
    "Juan  9.12\n",
    "Joseph  8.45\n",
    "Stacey  7.81\n",
    "Aideen  8.05\n",
    "Zack  7.21\n",
    "Aaron  8.31\n",
    "```"
   ]
  },
  {
   "cell_type": "markdown",
   "metadata": {},
   "source": [
    "## 다루는 내용\n",
    "\n",
    "results.txt 파일에 저장된 정보에서 1, 2, 3등을 차지한 선수와 점수를 확인하고자 한다."
   ]
  },
  {
   "cell_type": "markdown",
   "metadata": {},
   "source": [
    "## 사전 자료형 활용\n",
    "\n",
    "앞서 리스트 자료형을 활용하여 1, 2, 3등의 점수를 확인할 수 있었다.\n",
    "하지만 어떤 선수의 점수인지를 확인할 수는 없었다. \n",
    "\n",
    "앞서 살펴 본 코드는 아래와 같다."
   ]
  },
  {
   "cell_type": "code",
   "execution_count": 1,
   "metadata": {},
   "outputs": [
    {
     "name": "stdout",
     "output_type": "stream",
     "text": [
      "1, 2, 3등 점수:\n",
      "9.12\n",
      "8.65\n",
      "8.45\n"
     ]
    }
   ],
   "source": [
    "result_f = open(\"data/results.txt\") \n",
    "\n",
    "score_list = []                        \n",
    "\n",
    "for line in result_f: \n",
    "    (name, score) = line.split()       \n",
    "    try:\n",
    "        score_list.append(float(score))\n",
    "    except:\n",
    "        continue\n",
    "\n",
    "result_f.close() \n",
    "\n",
    "score_list.sort(reverse=True)\n",
    "\n",
    "print(\"1, 2, 3등 점수:\") \n",
    "print(score_list[0])   \n",
    "print(score_list[1])   \n",
    "print(score_list[2])   "
   ]
  },
  {
   "cell_type": "markdown",
   "metadata": {},
   "source": [
    "위 코드의 핵심은 각 줄을 공백을 기준으로 두 개의 문자열로 쪼개어 점수 부분만을 따로 리스트로 \n",
    "저장하는 것이다.\n",
    "\n",
    "그런데 그렇게 점수를 따로 다루면 점수와 선수이름 사이의 관계를 잃어버린다.\n",
    "따라서 점수와 선수이름과의 관계 정보를 유지하는 방법을 고안해야 하는 것이 해결해야할 과제이다."
   ]
  },
  {
   "cell_type": "markdown",
   "metadata": {},
   "source": [
    "### 잘못된 시도\n",
    "\n",
    "위 코드에서 선수이름과 점수를 분리하여 점수만 따로 리스트로 저장하였다.\n",
    "그렇다면 비슷한 방식으로 선수이름만 따로 리스트로 저장하면 어떠할까 라는 질문이 들 수 있다.\n",
    "\n",
    "예를 들어, 아래 코드는 선수이름도 따로 리스트로 저장한 후에 점수를 내림차순으로 정렬하듯,\n",
    "이름도 내림차순으로 정렬한 후에 동일한 색인을 사용하여 1, 2, 3 등을 확인하는 코드이다."
   ]
  },
  {
   "cell_type": "code",
   "execution_count": 2,
   "metadata": {},
   "outputs": [
    {
     "name": "stdout",
     "output_type": "stream",
     "text": [
      "1, 2, 3등 선수와 점수:\n",
      "Zack 9.12\n",
      "Stacey 8.65\n",
      "Juan 8.45\n"
     ]
    }
   ],
   "source": [
    "result_f = open(\"data/results.txt\") \n",
    "\n",
    "score_list = []                        \n",
    "name_list = []                           # 선수이름 리스트 생성\n",
    "\n",
    "for line in result_f: \n",
    "    (name, score) = line.split()       \n",
    "    try:\n",
    "        score_list.append(float(score))\n",
    "        name_list.append(name)          # 선수이름 추가\n",
    "    except:\n",
    "        continue\n",
    "\n",
    "result_f.close() \n",
    "\n",
    "score_list.sort(reverse=True)\n",
    "name_list.sort(reverse=True)\n",
    "\n",
    "print(\"1, 2, 3등 선수와 점수:\") \n",
    "print(name_list[0], score_list[0])   \n",
    "print(name_list[1], score_list[1])   \n",
    "print(name_list[2], score_list[2])   "
   ]
  },
  {
   "cell_type": "markdown",
   "metadata": {},
   "source": [
    "그런데 매우 이상하다. Z로 시작하는 Zack이 1등이고, 다음에 Stacey가 2등 순으로 나타난다.\n",
    "\n",
    "위 코드의 문제점은 알파벳의 역순으로 1, 2, 3등이 가려진다는 점이다. \n",
    "앞서 말했듯 선수이름과 점수를 따로따로 리스트에 저장하였기 때문에 선수이름과 점수가 더 이상 어떤 관계도 갖지 않게 되는\n",
    "문제때문에 분리 후에는 다시 관계 정보를 확인할 수 없다."
   ]
  },
  {
   "cell_type": "markdown",
   "metadata": {},
   "source": [
    "### 사전 활용"
   ]
  },
  {
   "cell_type": "markdown",
   "metadata": {},
   "source": [
    "점수와 선수이름과의 관계를 유지하기 위해 사전 자료형을 활용한다.\n",
    "그리고 1, 2, 3 등처럼 등수를 구하기 위해서 여기서는 점수를 키(key)로 사용하고, 해당 점수를 얻은 선수이름을 값(value)으로 사용한다.\n",
    "\n",
    "위 코드를 조금만 수정하면 원하는 내용을 담은 사전을 쉽게 구할 수 있다."
   ]
  },
  {
   "cell_type": "code",
   "execution_count": 3,
   "metadata": {},
   "outputs": [
    {
     "name": "stdout",
     "output_type": "stream",
     "text": [
      "{8.65: 'Johnny', 9.12: 'Juan', 8.45: 'Joseph', 7.81: 'Stacey', 8.05: 'Aideen', 7.21: 'Zack', 8.31: 'Aaron'}\n"
     ]
    }
   ],
   "source": [
    "result_f = open(\"data/results.txt\") \n",
    "\n",
    "score_dict = dict()                        # 빈 사전 생성\n",
    "# 아래와 같이 선언해도 된다.\n",
    "# score_dict = {}\n",
    "\n",
    "for line in result_f: \n",
    "    (name, score) = line.split()       \n",
    "    try:\n",
    "        score_dict[float(score)] = name   # 점수와 선수이름의 쌍을 사전에 추가\n",
    "    except:\n",
    "        continue\n",
    "\n",
    "result_f.close() \n",
    "\n",
    "print(score_dict)"
   ]
  },
  {
   "cell_type": "markdown",
   "metadata": {},
   "source": [
    "얻은 사전을 이용하여 등수별로 선수이름과 점수를 출력하는 프로그램은 다음과 같다."
   ]
  },
  {
   "cell_type": "code",
   "execution_count": 4,
   "metadata": {},
   "outputs": [
    {
     "name": "stdout",
     "output_type": "stream",
     "text": [
      "Name: Juan , Score: 9.12\n",
      "Name: Johnny , Score: 8.65\n",
      "Name: Joseph , Score: 8.45\n",
      "Name: Aaron , Score: 8.31\n",
      "Name: Aideen , Score: 8.05\n",
      "Name: Stacey , Score: 7.81\n",
      "Name: Zack , Score: 7.21\n"
     ]
    }
   ],
   "source": [
    "result_f = open(\"data/results.txt\") \n",
    "\n",
    "score_dict = dict()                        # 빈 사전 생성\n",
    "# 아래와 같이 선언해도 된다.\n",
    "# score_dict = {}\n",
    "\n",
    "for line in result_f: \n",
    "    (name, score) = line.split()       \n",
    "    try:\n",
    "        score_dict[float(score)] = name   # 점수와 선수이름의 쌍을 사전에 추가\n",
    "    except:\n",
    "        continue\n",
    "\n",
    "result_f.close() \n",
    "\n",
    "score_keys = sorted(score_dict.keys(), reverse=True)\n",
    "\n",
    "\n",
    "for key in score_keys:\n",
    "    print(\"Name:\", score_dict[key], \", Score:\", key)"
   ]
  },
  {
   "cell_type": "markdown",
   "metadata": {},
   "source": [
    "위 코드를 좀 더 수정하면 등수까지도 보여줄 수 있다."
   ]
  },
  {
   "cell_type": "code",
   "execution_count": 5,
   "metadata": {},
   "outputs": [
    {
     "name": "stdout",
     "output_type": "stream",
     "text": [
      "1등은 Juan 이고, 점수는 9.12 입니다.\n",
      "2등은 Johnny 이고, 점수는 8.65 입니다.\n",
      "3등은 Joseph 이고, 점수는 8.45 입니다.\n",
      "4등은 Aaron 이고, 점수는 8.31 입니다.\n",
      "5등은 Aideen 이고, 점수는 8.05 입니다.\n",
      "6등은 Stacey 이고, 점수는 7.81 입니다.\n",
      "7등은 Zack 이고, 점수는 7.21 입니다.\n"
     ]
    }
   ],
   "source": [
    "result_f = open(\"data/results.txt\") \n",
    "\n",
    "score_dict = dict()                        # 빈 사전 생성\n",
    "# 아래와 같이 선언해도 된다.\n",
    "# score_dict = {}\n",
    "\n",
    "for line in result_f: \n",
    "    (name, score) = line.split()       \n",
    "    try:\n",
    "        score_dict[float(score)] = name   # 점수와 선수이름의 쌍을 사전에 추가\n",
    "    except:\n",
    "        continue\n",
    "\n",
    "result_f.close() \n",
    "\n",
    "score_keys = sorted(score_dict.keys(), reverse=True)\n",
    "\n",
    "count = 1\n",
    "for key in score_keys:\n",
    "    print(str(count)+\"등은\", score_dict[key], \"이고, 점수는\", key, \"입니다.\")\n",
    "    count = count+1"
   ]
  },
  {
   "cell_type": "markdown",
   "metadata": {},
   "source": [
    "그런데 사전 또는 리스트와 `for` 반복문을 함께 사용하면서 `count` 와 같은 변수를 사용하는 것은 좋지 않다.\n",
    "이유는 사전 또는 리스트가 `for` 문에 사용될 경우 카운트 기능을 이미 내포하고 있기 때문이다.\n",
    "\n",
    "따라서 아래와 같이 프로그램을 구현할 수도 있다.\n",
    "\n",
    "* 리스트 자료형의 `index` 메소드 활용"
   ]
  },
  {
   "cell_type": "code",
   "execution_count": 6,
   "metadata": {},
   "outputs": [
    {
     "name": "stdout",
     "output_type": "stream",
     "text": [
      "1등은 Juan 이고, 점수는 9.12 입니다.\n",
      "2등은 Johnny 이고, 점수는 8.65 입니다.\n",
      "3등은 Joseph 이고, 점수는 8.45 입니다.\n",
      "4등은 Aaron 이고, 점수는 8.31 입니다.\n",
      "5등은 Aideen 이고, 점수는 8.05 입니다.\n",
      "6등은 Stacey 이고, 점수는 7.81 입니다.\n",
      "7등은 Zack 이고, 점수는 7.21 입니다.\n"
     ]
    }
   ],
   "source": [
    "result_f = open(\"data/results.txt\") \n",
    "\n",
    "score_dict = dict()                        # 빈 사전 생성\n",
    "# 아래와 같이 선언해도 된다.\n",
    "# score_dict = {}\n",
    "\n",
    "for line in result_f: \n",
    "    (name, score) = line.split()       \n",
    "    try:\n",
    "        score_dict[float(score)] = name   # 점수와 선수이름의 쌍을 사전에 추가\n",
    "    except:\n",
    "        continue\n",
    "\n",
    "result_f.close() \n",
    "\n",
    "score_keys = sorted(score_dict.keys(), reverse=True)\n",
    "score_list = list(score_keys)\n",
    "\n",
    "for key in score_list:\n",
    "    print(str(score_list.index(key)+1)+\"등은\", score_dict[key], \"이고, 점수는\", key, \"입니다.\")"
   ]
  }
 ],
 "metadata": {
  "kernelspec": {
   "display_name": "Python 3",
   "language": "python",
   "name": "python3"
  },
  "language_info": {
   "codemirror_mode": {
    "name": "ipython",
    "version": 3
   },
   "file_extension": ".py",
   "mimetype": "text/x-python",
   "name": "python",
   "nbconvert_exporter": "python",
   "pygments_lexer": "ipython3",
   "version": "3.6.4"
  }
 },
 "nbformat": 4,
 "nbformat_minor": 2
}
