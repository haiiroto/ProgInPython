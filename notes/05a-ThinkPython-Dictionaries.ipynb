{
 "cells": [
  {
   "cell_type": "markdown",
   "metadata": {},
   "source": [
    "# 사전 자료형"
   ]
  },
  {
   "cell_type": "markdown",
   "metadata": {},
   "source": [
    "사전(dictionary) 자료형은 매우 자주 사용되는 자료구조이다. \n",
    "전자영어사전에서 영어 단어의 뜻을 확인하는 방식과 유사하게 활용할 수 있는 자료구조를 갖고 있어서 사전 자료형이라 부른다.\n",
    "\n",
    "사전 자료값은 일종의 쌍들의 집합이며, 각 쌍은 키(key)와 값(value)로 이루어져 있다.\n",
    "\n",
    "* 키(key): 영어사전의 각 영어단어에 해당함.\n",
    "* 값(value): 특정 영어단어의 뜻에 해당함.\n",
    "\n",
    "예를 들어, 전자영어사전에서 'school'이란 단어의 뜻을 물으면 '학교'라는 뜻을 알려주는데 \n",
    "여기서 'school'이 키에 해당하고 '학교'가 값에 해당한다.\n",
    "따라서 전자영어사전은 이러한 키와 값들의 쌍을 무수히 많이 모아놓은 집합이라고 생각할 수 있다."
   ]
  },
  {
   "cell_type": "markdown",
   "metadata": {},
   "source": [
    "## 사전 활용 예제"
   ]
  },
  {
   "cell_type": "markdown",
   "metadata": {},
   "source": [
    "증시현황을 담고 있는 데이터를 생성하고자 할 때 사전자료형을 이용할 수 있다.\n",
    "주식 종목별로 현재가를 저장해야 하는 경우 리스트나 튜플을 이용하기는 쉽지 않다. \n",
    "리스트나 튜플의 경우에는 '종목'과 '종목에 대한 현재가'를 연관시켜서 함께 다룰 수 있는 기능을 제공하지 기본적으로 제공하지 못하기 때문이다.\n",
    "\n",
    "사전자료형을 활용하려면 먼저 공 사전을 생성하면 된다.\n",
    "앞서 설명한대로 집합기호를 이용한다."
   ]
  },
  {
   "cell_type": "code",
   "execution_count": 1,
   "metadata": {
    "collapsed": true
   },
   "outputs": [],
   "source": [
    "current_price = {}"
   ]
  },
  {
   "cell_type": "markdown",
   "metadata": {},
   "source": [
    "'current_price'의 자료형을 확인하면 사전자료형(dict)라고 알려준다."
   ]
  },
  {
   "cell_type": "code",
   "execution_count": 2,
   "metadata": {},
   "outputs": [
    {
     "data": {
      "text/plain": [
       "dict"
      ]
     },
     "execution_count": 2,
     "metadata": {},
     "output_type": "execute_result"
    }
   ],
   "source": [
    "type(current_price)"
   ]
  },
  {
   "cell_type": "markdown",
   "metadata": {},
   "source": [
    "이제 몇 개의 종목의 현재가를 추가해보자.\n",
    "사전에 키와 값의 쌍을 추가하는 방식은 다음과 같다.\n",
    "\n",
    "    사전[키] = 값"
   ]
  },
  {
   "cell_type": "code",
   "execution_count": 3,
   "metadata": {
    "collapsed": true
   },
   "outputs": [],
   "source": [
    "current_price['다음카카오'] = 250000"
   ]
  },
  {
   "cell_type": "code",
   "execution_count": 4,
   "metadata": {
    "collapsed": true
   },
   "outputs": [],
   "source": [
    "current_price['엘지전자'] = 300000"
   ]
  },
  {
   "cell_type": "code",
   "execution_count": 5,
   "metadata": {
    "collapsed": true
   },
   "outputs": [],
   "source": [
    "current_price['한화'] = 150000"
   ]
  },
  {
   "cell_type": "code",
   "execution_count": 6,
   "metadata": {},
   "outputs": [
    {
     "data": {
      "text/plain": [
       "{'다음카카오': 250000, '엘지전자': 300000, '한화': 150000}"
      ]
     },
     "execution_count": 6,
     "metadata": {},
     "output_type": "execute_result"
    }
   ],
   "source": [
    "current_price"
   ]
  },
  {
   "cell_type": "markdown",
   "metadata": {},
   "source": [
    "`len` 함수를 이용하여 사전자료값의 크기를 알 수 있다."
   ]
  },
  {
   "cell_type": "code",
   "execution_count": 7,
   "metadata": {},
   "outputs": [
    {
     "data": {
      "text/plain": [
       "3"
      ]
     },
     "execution_count": 7,
     "metadata": {},
     "output_type": "execute_result"
    }
   ],
   "source": [
    "len(current_price)"
   ]
  },
  {
   "cell_type": "markdown",
   "metadata": {},
   "source": [
    "사전의 내용을 확인하는 방식은 전자영어사전을 이용하는 방식과 유사하다."
   ]
  },
  {
   "cell_type": "code",
   "execution_count": 8,
   "metadata": {},
   "outputs": [
    {
     "data": {
      "text/plain": [
       "250000"
      ]
     },
     "execution_count": 8,
     "metadata": {},
     "output_type": "execute_result"
    }
   ],
   "source": [
    "current_price['다음카카오']"
   ]
  },
  {
   "cell_type": "markdown",
   "metadata": {},
   "source": [
    "##### 주의사항\n",
    "\n",
    "인덱싱은 작동하지 않는다. \n",
    "사전자료형은 순서개념이 없기 때문이다."
   ]
  },
  {
   "cell_type": "code",
   "execution_count": 9,
   "metadata": {},
   "outputs": [
    {
     "ename": "KeyError",
     "evalue": "0",
     "output_type": "error",
     "traceback": [
      "\u001b[0;31m---------------------------------------------------------------------------\u001b[0m",
      "\u001b[0;31mKeyError\u001b[0m                                  Traceback (most recent call last)",
      "\u001b[0;32m<ipython-input-9-289e72c1dcaa>\u001b[0m in \u001b[0;36m<module>\u001b[0;34m()\u001b[0m\n\u001b[0;32m----> 1\u001b[0;31m \u001b[0mcurrent_price\u001b[0m\u001b[0;34m[\u001b[0m\u001b[0;36m0\u001b[0m\u001b[0;34m]\u001b[0m\u001b[0;34m\u001b[0m\u001b[0m\n\u001b[0m",
      "\u001b[0;31mKeyError\u001b[0m: 0"
     ]
    }
   ],
   "source": [
    "current_price[0]"
   ]
  },
  {
   "cell_type": "markdown",
   "metadata": {},
   "source": [
    "사전자료값을 생성하기 위해 아래와 같이 선언해도 된다.\n",
    "\n",
    "    사전이름 = {키1:값1, 키2:값2, ..., 키n:값n}\n",
    "    \n",
    "* 키에는 변경시킬 수 없는 자료형이 온다. 숫자 또는 문자열이 대표적이다.\n",
    "* 값에는 임의의 파이썬 값을 사용할 수 있다."
   ]
  },
  {
   "cell_type": "code",
   "execution_count": 10,
   "metadata": {
    "collapsed": true
   },
   "outputs": [],
   "source": [
    "current_price1 = {\"삼성전자\": 450000, \"삼양라면\": 50000}"
   ]
  },
  {
   "cell_type": "markdown",
   "metadata": {},
   "source": [
    "사전자료값에서 특정 항목을 삭제하려면 `del` 함수를 활용하면 된다.\n",
    "\n",
    "    del 사전이름[키]"
   ]
  },
  {
   "cell_type": "code",
   "execution_count": 11,
   "metadata": {
    "collapsed": true
   },
   "outputs": [],
   "source": [
    "del current_price1[\"삼성전자\"]"
   ]
  },
  {
   "cell_type": "code",
   "execution_count": 12,
   "metadata": {},
   "outputs": [
    {
     "data": {
      "text/plain": [
       "{'삼양라면': 50000}"
      ]
     },
     "execution_count": 12,
     "metadata": {},
     "output_type": "execute_result"
    }
   ],
   "source": [
    "current_price1"
   ]
  },
  {
   "cell_type": "markdown",
   "metadata": {},
   "source": [
    "### 키의 사용 여부 확인 방법\n",
    "\n",
    "`in` 표현식을 이용할 수 있다."
   ]
  },
  {
   "cell_type": "code",
   "execution_count": 13,
   "metadata": {},
   "outputs": [
    {
     "data": {
      "text/plain": [
       "True"
      ]
     },
     "execution_count": 13,
     "metadata": {},
     "output_type": "execute_result"
    }
   ],
   "source": [
    "'한화' in current_price"
   ]
  },
  {
   "cell_type": "code",
   "execution_count": 14,
   "metadata": {},
   "outputs": [
    {
     "data": {
      "text/plain": [
       "False"
      ]
     },
     "execution_count": 14,
     "metadata": {},
     "output_type": "execute_result"
    }
   ],
   "source": [
    "'한겨레' in current_price"
   ]
  },
  {
   "cell_type": "markdown",
   "metadata": {},
   "source": [
    "## 사전 자료형의 메소드\n",
    "\n",
    "사전자료값을 쉽게 활용할 수 있도록 도와주는 다양한 메소드들이 있다.\n",
    "주요 메소드는 다음과 같다.\n",
    "\n",
    "* `keys`\n",
    "* `values`\n",
    "* `items`\n",
    "* `get`\n",
    "* `clear`"
   ]
  },
  {
   "cell_type": "markdown",
   "metadata": {},
   "source": [
    "### `keys` 메소드\n",
    "\n",
    "키만을 모은 리스트 형태의 값을 리턴한다.\n",
    "\n",
    "##### 주의사항\n",
    "* 리스트 형태이지만 리스트 자료형은 아니다.\n",
    "* 하지만 `list` 함수를 이용하여 리스트로 쉽게 변경할 수 있다."
   ]
  },
  {
   "cell_type": "code",
   "execution_count": 15,
   "metadata": {},
   "outputs": [
    {
     "data": {
      "text/plain": [
       "dict_keys(['한화', '엘지전자', '다음카카오'])"
      ]
     },
     "execution_count": 15,
     "metadata": {},
     "output_type": "execute_result"
    }
   ],
   "source": [
    "current_price.keys()"
   ]
  },
  {
   "cell_type": "code",
   "execution_count": 16,
   "metadata": {},
   "outputs": [
    {
     "data": {
      "text/plain": [
       "['한화', '엘지전자', '다음카카오']"
      ]
     },
     "execution_count": 16,
     "metadata": {},
     "output_type": "execute_result"
    }
   ],
   "source": [
    "list(current_price.keys())"
   ]
  },
  {
   "cell_type": "markdown",
   "metadata": {},
   "source": [
    "`keys` 메소드가 리턴한 값을 이용하여 사전의 내부를 들여다 볼 수 있다."
   ]
  },
  {
   "cell_type": "code",
   "execution_count": 17,
   "metadata": {},
   "outputs": [
    {
     "name": "stdout",
     "output_type": "stream",
     "text": [
      "한화\n",
      "엘지전자\n",
      "다음카카오\n"
     ]
    }
   ],
   "source": [
    "for k in current_price.keys():\n",
    "    print(k)"
   ]
  },
  {
   "cell_type": "code",
   "execution_count": 18,
   "metadata": {},
   "outputs": [
    {
     "name": "stdout",
     "output_type": "stream",
     "text": [
      "한화의 현재 종목가는 150000원이다\n",
      "엘지전자의 현재 종목가는 300000원이다\n",
      "다음카카오의 현재 종목가는 250000원이다\n"
     ]
    }
   ],
   "source": [
    "for k in current_price.keys():\n",
    "    print(\"%s의 현재 종목가는 %d원이다\" % (k, current_price[k]))"
   ]
  },
  {
   "cell_type": "markdown",
   "metadata": {},
   "source": [
    "### `values` 메소드\n",
    "\n",
    "`values` 메소드는 `keys` 메소드와는 달리 값들만을 모은 리스트 형태의 값을 리턴한다."
   ]
  },
  {
   "cell_type": "code",
   "execution_count": 19,
   "metadata": {},
   "outputs": [
    {
     "data": {
      "text/plain": [
       "dict_values([150000, 300000, 250000])"
      ]
     },
     "execution_count": 19,
     "metadata": {},
     "output_type": "execute_result"
    }
   ],
   "source": [
    "current_price.values()"
   ]
  },
  {
   "cell_type": "code",
   "execution_count": 20,
   "metadata": {},
   "outputs": [
    {
     "data": {
      "text/plain": [
       "[150000, 300000, 250000]"
      ]
     },
     "execution_count": 20,
     "metadata": {},
     "output_type": "execute_result"
    }
   ],
   "source": [
    "list(current_price.values())"
   ]
  },
  {
   "cell_type": "markdown",
   "metadata": {},
   "source": [
    "### `items` 메소드\n",
    "\n",
    "키와 값들의 쌍을 모은 리스트 형태의 값을 리턴한다."
   ]
  },
  {
   "cell_type": "code",
   "execution_count": 21,
   "metadata": {},
   "outputs": [
    {
     "data": {
      "text/plain": [
       "dict_items([('한화', 150000), ('엘지전자', 300000), ('다음카카오', 250000)])"
      ]
     },
     "execution_count": 21,
     "metadata": {},
     "output_type": "execute_result"
    }
   ],
   "source": [
    "current_price.items()"
   ]
  },
  {
   "cell_type": "code",
   "execution_count": 22,
   "metadata": {},
   "outputs": [
    {
     "data": {
      "text/plain": [
       "[('한화', 150000), ('엘지전자', 300000), ('다음카카오', 250000)]"
      ]
     },
     "execution_count": 22,
     "metadata": {},
     "output_type": "execute_result"
    }
   ],
   "source": [
    "list(current_price.items())"
   ]
  },
  {
   "cell_type": "markdown",
   "metadata": {},
   "source": [
    "### `get` 메소드\n",
    "\n",
    "키값을 인자로 넣으면 해당 값을 리턴한다."
   ]
  },
  {
   "cell_type": "code",
   "execution_count": 23,
   "metadata": {},
   "outputs": [
    {
     "data": {
      "text/plain": [
       "300000"
      ]
     },
     "execution_count": 23,
     "metadata": {},
     "output_type": "execute_result"
    }
   ],
   "source": [
    "current_price.get('엘지전자')"
   ]
  },
  {
   "cell_type": "markdown",
   "metadata": {},
   "source": [
    "키를 인덱스값으로 활용하는 것과 비슷하지만 차이가 있다.\n",
    "예를 들어 사전에 사용되지 않은 키를 이용할 경우 차이점을 쉽게 확인할 수 있다."
   ]
  },
  {
   "cell_type": "code",
   "execution_count": 24,
   "metadata": {
    "collapsed": true
   },
   "outputs": [],
   "source": [
    "current_price.get(\"한겨레\")"
   ]
  },
  {
   "cell_type": "code",
   "execution_count": 25,
   "metadata": {},
   "outputs": [
    {
     "ename": "KeyError",
     "evalue": "'한겨레'",
     "output_type": "error",
     "traceback": [
      "\u001b[0;31m---------------------------------------------------------------------------\u001b[0m",
      "\u001b[0;31mKeyError\u001b[0m                                  Traceback (most recent call last)",
      "\u001b[0;32m<ipython-input-25-e69fb2645f68>\u001b[0m in \u001b[0;36m<module>\u001b[0;34m()\u001b[0m\n\u001b[0;32m----> 1\u001b[0;31m \u001b[0mcurrent_price\u001b[0m\u001b[0;34m[\u001b[0m\u001b[0;34m\"한겨레\"\u001b[0m\u001b[0;34m]\u001b[0m\u001b[0;34m\u001b[0m\u001b[0m\n\u001b[0m",
      "\u001b[0;31mKeyError\u001b[0m: '한겨레'"
     ]
    }
   ],
   "source": [
    "current_price[\"한겨레\"]"
   ]
  },
  {
   "cell_type": "markdown",
   "metadata": {},
   "source": [
    "`get` 메소드의 경우는 사용되지 않은 키를 사용할 경우 지정된 값을 리턴하도록 할 수 있다."
   ]
  },
  {
   "cell_type": "code",
   "execution_count": 26,
   "metadata": {},
   "outputs": [
    {
     "data": {
      "text/plain": [
       "'해당사항 없음'"
      ]
     },
     "execution_count": 26,
     "metadata": {},
     "output_type": "execute_result"
    }
   ],
   "source": [
    "current_price.get(\"한겨레\", '해당사항 없음')"
   ]
  },
  {
   "cell_type": "code",
   "execution_count": 27,
   "metadata": {},
   "outputs": [
    {
     "data": {
      "text/plain": [
       "150000"
      ]
     },
     "execution_count": 27,
     "metadata": {},
     "output_type": "execute_result"
    }
   ],
   "source": [
    "current_price.get(\"한화\", '해당사항 없음')"
   ]
  },
  {
   "cell_type": "markdown",
   "metadata": {},
   "source": [
    "### `clear` 메소드\n",
    "\n",
    "사전 내용을 비워 공사전으로 만든다."
   ]
  },
  {
   "cell_type": "code",
   "execution_count": 28,
   "metadata": {
    "collapsed": true
   },
   "outputs": [],
   "source": [
    "current_price.clear()"
   ]
  },
  {
   "cell_type": "code",
   "execution_count": 29,
   "metadata": {},
   "outputs": [
    {
     "data": {
      "text/plain": [
       "{}"
      ]
     },
     "execution_count": 29,
     "metadata": {},
     "output_type": "execute_result"
    }
   ],
   "source": [
    "current_price"
   ]
  },
  {
   "cell_type": "markdown",
   "metadata": {},
   "source": [
    "# 데이터베이스"
   ]
  },
  {
   "cell_type": "markdown",
   "metadata": {},
   "source": [
    "데이터베이스(DB)란 \"여러 종류의 데이터를 효율적으로 활용하는 데에 도움을 줄 수 있도록 '__잘__' 정리된 놈\" 라고 할 수 있다.\n",
    "그런 DB들을 운영하는 시스템을 보통 DBMS(DataBase Management System)라 부른다. \n",
    "\n",
    "DBMS는 말 그대로 \"여러 종류의 데이터를 효율적으로 활용하는 데에 도움을 주기 위한 시스템\"이며, 오라클(Oracle), SQL, MySQL 등이 대표적으로 많이 사용되는 시스템들이며, 대용량 서버에서 주로 활용된다.\n",
    "예를 들어, 다음, 네이버, 구글, MS 등은 수천만, 수억 명의 계정정보등을 저장해서 관리해야 하기 때문에 대용량 서버를 필요로 한다.\n",
    "\n",
    "반면에 스마트폰의 애플리케이션 등에서 사용하는 사용자 정보등은 그러한 서버급 DBMS를 사용할 필요가 없다.\n",
    "여기서는 보다 적은 용량의 DB를 지원하는 SQLite라는 DBMS를 이용하여 DB에 대해 간략히 알아본다."
   ]
  },
  {
   "cell_type": "markdown",
   "metadata": {},
   "source": [
    "### SQLite\n",
    "\n",
    "SQLite는 구글 안드로이드 운영체제에 기본으로 탑제되었을 정도로 유명한 DBMS이다.\n",
    "또한 파이썬3에 기본 팩키지로 설치되어 있어서 사용하거나 배우기도 매우 쉽다.\n",
    "여기서는 증권가에서 사용되는 예제를 이용하여 SQLite와 데이터베이스의 활용법을 배운다."
   ]
  },
  {
   "cell_type": "markdown",
   "metadata": {},
   "source": [
    "### 파이썬에서 SQLite 팩키지 사용하기\n",
    "\n",
    "`sqlite3`라는 모듈을 임포트하면 바로 사용할 수 있다."
   ]
  },
  {
   "cell_type": "code",
   "execution_count": 30,
   "metadata": {
    "collapsed": true
   },
   "outputs": [],
   "source": [
    "import sqlite3"
   ]
  },
  {
   "cell_type": "markdown",
   "metadata": {},
   "source": [
    "현재 사용하는 sqlite 버전을 확인할 수 있다."
   ]
  },
  {
   "cell_type": "code",
   "execution_count": 31,
   "metadata": {},
   "outputs": [
    {
     "data": {
      "text/plain": [
       "'2.6.0'"
      ]
     },
     "execution_count": 31,
     "metadata": {},
     "output_type": "execute_result"
    }
   ],
   "source": [
    "sqlite3.version"
   ]
  },
  {
   "cell_type": "markdown",
   "metadata": {},
   "source": [
    "이제 우리나라 증권정보를 알려주는 코스피(kospi)지수의 모형 데이터베이스를 생성해보자.\n",
    "\n",
    "일단, 아래와 같이 데이터베이스 객체를 생성해야 한다.\n",
    "\n",
    "    sqlite3.connect(데이터베이스파일이름)\n",
    "    \n",
    "물론, 생성된 데이터베이스 객체에 이름을 엮을 수 있다.\n",
    "예를 들어 코스피 데이터베이스 객체를 아래와 같이 만든다."
   ]
  },
  {
   "cell_type": "code",
   "execution_count": 32,
   "metadata": {},
   "outputs": [],
   "source": [
    "con = sqlite3.connect(\"kospi_db.sdb\")"
   ]
  },
  {
   "cell_type": "markdown",
   "metadata": {},
   "source": [
    "`connect`함수는 `Connection` 이라는 데이터베이스 클래스의 객체를 생성한다.\n",
    "`con`의 자료형을 아래와 같이 확인하면 `Connection` 클래스의 객체임을 확인할 수 있다."
   ]
  },
  {
   "cell_type": "code",
   "execution_count": 33,
   "metadata": {},
   "outputs": [
    {
     "data": {
      "text/plain": [
       "sqlite3.Connection"
      ]
     },
     "execution_count": 33,
     "metadata": {},
     "output_type": "execute_result"
    }
   ],
   "source": [
    "type(con)"
   ]
  },
  {
   "cell_type": "markdown",
   "metadata": {},
   "source": [
    "현재 폴더를 확인하면 `kospi.sdb`라는 파일이 생성되었을 것이다.\n",
    "예를 들어, 새로운 엑셀파일을 하나 생성한 것이며, 아직 아무런 내용도 들어 있지 않다.\n",
    "즉, `con` 이름에 엮인 Connection 자료값에는 현재 아무런 데이터도 들어있지 않다. \n",
    "\n",
    "이와 같이, sqlite3를 이용해 DB 파일을 만드는 전체 과정을 요약하면 아래와 같다.\n",
    "\n",
    "1. `sqlite3.connect` 메소드를 이용해서 DB 파일에 연결한 후 `Connection` 객체를 생성한다.\n",
    "2. `Connection` 객체를 통해 `Cursor` 객체를 생성한다.\n",
    "3. `Cursor` 객체의 `execute` 메소드를 통해서 해당 DB를 조작한다.\n",
    "4. `Connection` 객체의 `commit`를 이용하여 변경된 내용을 커밋한다.\n",
    "5. DB와의 연결을 닫는다.\n",
    "\n",
    "현재까지 1번 단계를 살펴본 것이다. \n",
    "즉, DB를 담을 파일을 생성하고 내용을 채울 준비까지 끝냈다.\n",
    "이제 내용을 채우기 시작하자.\n",
    "\n",
    "2번 단계를 실행해야 하며, 커서 객체를 생성한다. \n",
    "커서는 일반적으로 사용되는 마우스 커서가 하는 기능과 비슷하게 이해하면 도움이 된다.\n",
    "즉, 엑셀 창에서 커서를 이동하여 특정 위치에 테이블을 만들 영역을 지정하는 것과 비슷한 기능을 수행한다. \n",
    "(아래 그림 참조)"
   ]
  },
  {
   "cell_type": "code",
   "execution_count": 34,
   "metadata": {},
   "outputs": [
    {
     "data": {
      "image/png": "[encoded data removed]",
      "text/plain": [
       "<IPython.core.display.Image object>"
      ]
     },
     "execution_count": 34,
     "metadata": {
      "image/png": {
       "width": 300
      }
     },
     "output_type": "execute_result"
    }
   ],
   "source": [
    "from IPython.display import Image\n",
    "\n",
    "Image(filename='images/sqlite-table.png', width=300)"
   ]
  },
  {
   "cell_type": "markdown",
   "metadata": {},
   "source": [
    "커서 객체를 생성하는 명령문은 아래와 같다. \n",
    "\n",
    "    커넥션이름.cursor()"
   ]
  },
  {
   "cell_type": "code",
   "execution_count": 35,
   "metadata": {
    "collapsed": true
   },
   "outputs": [],
   "source": [
    "cursor1 = con.cursor()"
   ]
  },
  {
   "cell_type": "markdown",
   "metadata": {},
   "source": [
    "이제 위 그림과 같은 표를 만들수 있다.\n",
    "전문용어로 `query`를 실행한다고 하며 `execute` 메소드를 이용한다.\n",
    "(한국말로 보통 __쿼리__라 하지만 정확한 영어발음은 아니다.)\n",
    "\n",
    "    커서이름.execute(\"CREATE TABLE 표이름(항목1 자료형1, 항목2 자료형2, ..., 항목n 자료형n)\")\n",
    "    \n",
    "예를 들어 위 그림의 표의 파란색 부분은 아래와 같이 생성한다."
   ]
  },
  {
   "cell_type": "code",
   "execution_count": 36,
   "metadata": {},
   "outputs": [
    {
     "ename": "OperationalError",
     "evalue": "table kospi already exists",
     "output_type": "error",
     "traceback": [
      "\u001b[0;31m---------------------------------------------------------------------------\u001b[0m",
      "\u001b[0;31mOperationalError\u001b[0m                          Traceback (most recent call last)",
      "\u001b[0;32m<ipython-input-36-f24dc577bfc4>\u001b[0m in \u001b[0;36m<module>\u001b[0;34m()\u001b[0m\n\u001b[0;32m----> 1\u001b[0;31m \u001b[0mcursor1\u001b[0m\u001b[0;34m.\u001b[0m\u001b[0mexecute\u001b[0m\u001b[0;34m(\u001b[0m\u001b[0;34m\"CREATE TABLE kospi(종목 text, 종가 int)\"\u001b[0m\u001b[0;34m)\u001b[0m\u001b[0;34m\u001b[0m\u001b[0m\n\u001b[0m",
      "\u001b[0;31mOperationalError\u001b[0m: table kospi already exists"
     ]
    }
   ],
   "source": [
    "cursor1.execute(\"CREATE TABLE kospi(종목 text, 종가 int)\")"
   ]
  },
  {
   "cell_type": "markdown",
   "metadata": {},
   "source": [
    "이제 표의 내용을 구체적으로 채울 수 있다.\n",
    "\n",
    "    커서이름.execute(\"INSERT INTO 표이름(항목값1, 항목값2, ..., 항목값n\")\n",
    "    \n",
    "예를 들어 위 표 내용을 아래와 같이 채운다.    "
   ]
  },
  {
   "cell_type": "code",
   "execution_count": 37,
   "metadata": {},
   "outputs": [
    {
     "data": {
      "text/plain": [
       "<sqlite3.Cursor at 0x10472cf80>"
      ]
     },
     "execution_count": 37,
     "metadata": {},
     "output_type": "execute_result"
    }
   ],
   "source": [
    "cursor1.execute(\"INSERT INTO kospi values('LG전자', 74500)\")"
   ]
  },
  {
   "cell_type": "code",
   "execution_count": 38,
   "metadata": {},
   "outputs": [
    {
     "data": {
      "text/plain": [
       "<sqlite3.Cursor at 0x10472cf80>"
      ]
     },
     "execution_count": 38,
     "metadata": {},
     "output_type": "execute_result"
    }
   ],
   "source": [
    "cursor1.execute(\"INSERT INTO kospi values('네이버', 774000)\")"
   ]
  },
  {
   "cell_type": "code",
   "execution_count": 39,
   "metadata": {},
   "outputs": [
    {
     "data": {
      "text/plain": [
       "<sqlite3.Cursor at 0x10472cf80>"
      ]
     },
     "execution_count": 39,
     "metadata": {},
     "output_type": "execute_result"
    }
   ],
   "source": [
    "cursor1.execute(\"INSERT INTO kospi values('다음', 169100)\")"
   ]
  },
  {
   "cell_type": "markdown",
   "metadata": {},
   "source": [
    "표를 다 채웠으면 커밋해야 한다.\n",
    "이 과정은 수정 내용을 하드에 저장하는 것과 동일하다."
   ]
  },
  {
   "cell_type": "code",
   "execution_count": 40,
   "metadata": {
    "collapsed": true
   },
   "outputs": [],
   "source": [
    "con.commit()"
   ]
  },
  {
   "cell_type": "markdown",
   "metadata": {},
   "source": [
    "더 이상 커넥션 파일을 수정하거나 활용하지 않으려면 커넥션을 끊으면 된다."
   ]
  },
  {
   "cell_type": "code",
   "execution_count": 41,
   "metadata": {
    "collapsed": true
   },
   "outputs": [],
   "source": [
    "con.close()"
   ]
  },
  {
   "cell_type": "markdown",
   "metadata": {},
   "source": [
    "커넥션을 끊으면 해당 DB 파일 내부를 들여다 볼 수 없다.\n",
    "다시 활용하고자 한다면 다시 커넥트 해야 한다.\n",
    "\n",
    "예를 들어 `kospi_db.sdb` 파일 내용을 확인하고 이용하고자 한다면 다시 열어야 한다."
   ]
  },
  {
   "cell_type": "code",
   "execution_count": 42,
   "metadata": {
    "collapsed": true
   },
   "outputs": [],
   "source": [
    "con = sqlite3.connect(\"kospi_db.sdb\")"
   ]
  },
  {
   "cell_type": "code",
   "execution_count": 43,
   "metadata": {
    "collapsed": true
   },
   "outputs": [],
   "source": [
    "cursor2 = con.cursor()"
   ]
  },
  {
   "cell_type": "markdown",
   "metadata": {},
   "source": [
    "예를 들어 `kospi` 표에 저장된 DB에서 데이터를 읽어오기 위해서는 다음과 같은 query를 실행해야 한다."
   ]
  },
  {
   "cell_type": "code",
   "execution_count": 44,
   "metadata": {},
   "outputs": [
    {
     "data": {
      "text/plain": [
       "<sqlite3.Cursor at 0x10472c7a0>"
      ]
     },
     "execution_count": 44,
     "metadata": {},
     "output_type": "execute_result"
    }
   ],
   "source": [
    "cursor2.execute(\"SELECT * FROM kospi\")"
   ]
  },
  {
   "cell_type": "markdown",
   "metadata": {},
   "source": [
    "이제 `kospi` 표 내용을 출력해보자.\n",
    "\n",
    "`for`문을 이용해서 한꺼번에 내용 전체를 읽어서 처리할 수 있다."
   ]
  },
  {
   "cell_type": "code",
   "execution_count": 45,
   "metadata": {},
   "outputs": [
    {
     "name": "stdout",
     "output_type": "stream",
     "text": [
      "('LG전자', 74500)\n",
      "('네이버', 774000)\n",
      "('다음', 169100)\n",
      "('LG전자', 74500)\n",
      "('네이버', 774000)\n",
      "('다음', 169100)\n"
     ]
    }
   ],
   "source": [
    "for row in cursor2:\n",
    "    print(row)"
   ]
  },
  {
   "cell_type": "markdown",
   "metadata": {
    "collapsed": true
   },
   "source": [
    "하지만 한 줄씩 읽어올 수도 있다.\n",
    "그런데 앞서 내용 전체를 이미 읽었기 때문에 다시 한 번 query실 실행해야 처음부터 읽을 수 있다."
   ]
  },
  {
   "cell_type": "code",
   "execution_count": 46,
   "metadata": {},
   "outputs": [
    {
     "data": {
      "text/plain": [
       "('LG전자', 74500)"
      ]
     },
     "execution_count": 46,
     "metadata": {},
     "output_type": "execute_result"
    }
   ],
   "source": [
    "cursor2.execute(\"SELECT * FROM kospi\")\n",
    "cursor2.fetchone()"
   ]
  },
  {
   "cell_type": "code",
   "execution_count": 47,
   "metadata": {},
   "outputs": [
    {
     "data": {
      "text/plain": [
       "('네이버', 774000)"
      ]
     },
     "execution_count": 47,
     "metadata": {},
     "output_type": "execute_result"
    }
   ],
   "source": [
    "cursor2.fetchone()"
   ]
  },
  {
   "cell_type": "code",
   "execution_count": 48,
   "metadata": {},
   "outputs": [
    {
     "data": {
      "text/plain": [
       "('다음', 169100)"
      ]
     },
     "execution_count": 48,
     "metadata": {},
     "output_type": "execute_result"
    }
   ],
   "source": [
    "cursor2.fetchone()"
   ]
  },
  {
   "cell_type": "markdown",
   "metadata": {},
   "source": [
    "모든 줄을 다 읽었으면 더 이상 읽을 게 없다.\n",
    "따라서 `fetchone` 메소드가 아무 것도 리턴하지 않는다."
   ]
  },
  {
   "cell_type": "code",
   "execution_count": 49,
   "metadata": {},
   "outputs": [
    {
     "data": {
      "text/plain": [
       "('LG전자', 74500)"
      ]
     },
     "execution_count": 49,
     "metadata": {},
     "output_type": "execute_result"
    }
   ],
   "source": [
    "cursor2.fetchone()"
   ]
  },
  {
   "cell_type": "markdown",
   "metadata": {
    "collapsed": true
   },
   "source": [
    "한 꺼번에 모든 줄을 읽을 수도 있다."
   ]
  },
  {
   "cell_type": "code",
   "execution_count": 50,
   "metadata": {},
   "outputs": [
    {
     "data": {
      "text/plain": [
       "[('LG전자', 74500),\n",
       " ('네이버', 774000),\n",
       " ('다음', 169100),\n",
       " ('LG전자', 74500),\n",
       " ('네이버', 774000),\n",
       " ('다음', 169100)]"
      ]
     },
     "execution_count": 50,
     "metadata": {},
     "output_type": "execute_result"
    }
   ],
   "source": [
    "cursor2.execute(\"SELECT * FROM kospi\")\n",
    "cursor2.fetchall()"
   ]
  },
  {
   "cell_type": "markdown",
   "metadata": {
    "collapsed": true
   },
   "source": [
    "물론 리턴값을 받아 저장할 수도 있다. "
   ]
  },
  {
   "cell_type": "code",
   "execution_count": 51,
   "metadata": {},
   "outputs": [
    {
     "data": {
      "text/plain": [
       "[('LG전자', 74500),\n",
       " ('네이버', 774000),\n",
       " ('다음', 169100),\n",
       " ('LG전자', 74500),\n",
       " ('네이버', 774000),\n",
       " ('다음', 169100)]"
      ]
     },
     "execution_count": 51,
     "metadata": {},
     "output_type": "execute_result"
    }
   ],
   "source": [
    "cursor2.execute(\"SELECT * FROM kospi\")\n",
    "mydata = cursor2.fetchall()\n",
    "mydata"
   ]
  },
  {
   "cell_type": "markdown",
   "metadata": {
    "collapsed": true
   },
   "source": [
    "## SQLite 활용 예제"
   ]
  },
  {
   "cell_type": "markdown",
   "metadata": {},
   "source": [
    "수업시간에 다룬 서핑대회 참가자들의 기록부가 `surfersDB.sdb` 파일에 저장되어 있다.\n",
    "저장된 내용은 5장 강의에서 다룬 아래 내용과 동일하다.\n",
    "\n",
    "| id\t  | name                \t    | country  | average | board    | age |\n",
    "|---------|-----------------------------|----------|---------|----------|-----|\n",
    "| 101     |\tJohnny 'wave-boy' Jones     | USA\t   | 8.32    | Fish\t    | 21  |\n",
    "| 102\t  | Juan Martino\t            | Spain    | 9.01    | Gun\t    | 36  |\n",
    "| 103\t  | Joseph 'smitty' Smyth       | USA\t   | 8.85    | Cruizer\t| 18  |\n",
    "| 104\t  | Stacey O'Neill\t            | Ireland  | 8.91    | Malibu\t| 22  |\n",
    "| 105\t  | Aideen 'board babe' Wu\t    | Japan\t   | 8.65    | Fish\t    | 24  |\n",
    "| 106\t  | Zack 'bonnie-lad' MacFadden\t| Scotland | 7.82    | Thruster | 26  |\n",
    "| 107\t  | Aaron Valentino\t            | Italy\t   | 8.98    | Gun\t    | 19  |"
   ]
  },
  {
   "cell_type": "markdown",
   "metadata": {},
   "source": [
    "`surfersDB.sdb`에 어떤 테이이블들이 저장되어 있는지를 먼저 확인한다."
   ]
  },
  {
   "cell_type": "code",
   "execution_count": 52,
   "metadata": {},
   "outputs": [
    {
     "name": "stdout",
     "output_type": "stream",
     "text": [
      "[('surfers',)]\n"
     ]
    }
   ],
   "source": [
    "import sqlite3\n",
    "\n",
    "db = sqlite3.connect(\"surfersDB.sdb\") \n",
    "cursor3 = db.cursor() \n",
    "cursor3.execute(\"SELECT name FROM sqlite_master WHERE type='table';\")\n",
    "print(cursor3.fetchall())"
   ]
  },
  {
   "cell_type": "markdown",
   "metadata": {},
   "source": [
    "즉, 위 파일에는 `surfers` 라는 이름을 가진 테이블 하나만 들어 있다. \n",
    "이제 커서 객체를 생성한 후 확인된 테이블 이름을 이용하여 해당 테이블 저장된 내용을 확인할 수 있다. "
   ]
  },
  {
   "cell_type": "code",
   "execution_count": 53,
   "metadata": {},
   "outputs": [
    {
     "name": "stdout",
     "output_type": "stream",
     "text": [
      "[(101, \"Johnny 'wave-boy' Jones\", 'USA', 8.32, 'Fish', 21), (102, 'Juan Martino', 'Spain', 9.01, 'Gun', 36), (103, \"Joseph 'smitty' Smyth\", 'USA', 8.85, 'Cruizer', 18), (104, \"Stacey O'Neill\", 'Ireland', 8.91, 'Malibu', 22), (105, \"Aideen 'board babe' Wu\", 'Japan', 8.65, 'Fish', 24), (106, \"Zack 'bonnie-lad' MacFadden\", 'Scotland', 7.82, 'Thruster', 26), (107, 'Aaron Valentino', 'Italy', 8.98, 'Gun', 19)]\n"
     ]
    }
   ],
   "source": [
    "# sdb 파일을 연다.\n",
    "db = sqlite3.connect(\"surfersDB.sdb\") \n",
    "\n",
    "# 커서 객체를 생성한다. \n",
    "cursor3 = db.cursor() \n",
    "\n",
    "# 튜플 대신 사전 자료형 양식으로 변경해서 각 항목을 읽음.\n",
    "db.row_factory = sqlite3.Row \n",
    "\n",
    "# 내용을 확인할 수 있다.\n",
    "cursor3.execute(\"SELECT * FROM surfers\")\n",
    "print(cursor3.fetchall()) "
   ]
  },
  {
   "cell_type": "markdown",
   "metadata": {},
   "source": [
    "지금까지 설명한 것을 이용하여 `surfersDB` 파일에 저장된 내용을 보다 쉽게 확인해주는 코드를 구현하면 아래와 같다.\n",
    "\n",
    "아래 코드를 실행하면 선수의 참가번호를 요구하며 번호를 입력하면 해당 선수의 자료를 정리하여 보여준다. "
   ]
  },
  {
   "cell_type": "code",
   "execution_count": 54,
   "metadata": {},
   "outputs": [
    {
     "name": "stdout",
     "output_type": "stream",
     "text": [
      "Enter the id of the surfer: 101\n",
      "ID:         101\n",
      "Name:       Johnny 'wave-boy' Jones\n",
      "Country:    USA\n",
      "Average:    8.32\n",
      "Board type: Fish\n",
      "Age:        21\n"
     ]
    }
   ],
   "source": [
    "import sqlite3 \n",
    "def find_details(id2find): \n",
    "    db = sqlite3.connect(\"surfersDB.sdb\") \n",
    "    db.row_factory = sqlite3.Row # 튜플 대신 사전 자료형 양식으로 변경해서 각 항목을 읽음.\n",
    "    cursor = db.cursor() \n",
    "    cursor.execute(\"SELECT * FROM surfers\") \n",
    "    rows = cursor.fetchall() \n",
    "    for row in rows: \n",
    "        if row['id'] == id2find: \n",
    "            s = {} \n",
    "            s['id']      = str(row['id']) \n",
    "            s['name']    = row['name'] \n",
    "            s['country'] = row['country'] \n",
    "            s['average'] = str(row['average']) \n",
    "            s['board']   = row['board'] \n",
    "            s['age']     = str(row['age']) \n",
    "            cursor.close() \n",
    "            return(s) \n",
    "    cursor.close() \n",
    "    return({})\n",
    "\n",
    "lookup_id = int(input(\"Enter the id of the surfer: \")) \n",
    "surfer = find_details(lookup_id) \n",
    "if surfer: \n",
    "    print(\"ID:         \" + surfer['id']) \n",
    "    print(\"Name:       \" + surfer['name']) \n",
    "    print(\"Country:    \" + surfer['country']) \n",
    "    print(\"Average:    \" + surfer['average']) \n",
    "    print(\"Board type: \" + surfer['board']) \n",
    "    print(\"Age:        \" + surfer['age'])"
   ]
  }
 ],
 "metadata": {
  "kernelspec": {
   "display_name": "Python 3",
   "language": "python",
   "name": "python3"
  },
  "language_info": {
   "codemirror_mode": {
    "name": "ipython",
    "version": 3
   },
   "file_extension": ".py",
   "mimetype": "text/x-python",
   "name": "python",
   "nbconvert_exporter": "python",
   "pygments_lexer": "ipython3",
   "version": "3.6.4"
  }
 },
 "nbformat": 4,
 "nbformat_minor": 1
}
