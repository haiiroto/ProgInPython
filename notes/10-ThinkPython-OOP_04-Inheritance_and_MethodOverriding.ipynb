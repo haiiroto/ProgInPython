{
 "cells": [
  {
   "cell_type": "markdown",
   "metadata": {},
   "source": [
    "# 상속과 메소드 오버라이딩"
   ]
  },
  {
   "cell_type": "markdown",
   "metadata": {},
   "source": [
    "지금까지 OOP에 대하여 살펴본 내용의 핵심은 다음과 같다.\n",
    "\n",
    "> 하나의 클래스를 이용하여 다양한 인스턴스를 쉽게 생성할 수 있다.\n",
    "\n",
    "그런데 한 가지 단점이 있다. \n",
    "인스턴스 변수에 저장된 값에 따라 성능의 차이가 있기는 하지만 모든 인스턴스가 \n",
    "동일한 기능을 갖는다."
   ]
  },
  {
   "cell_type": "markdown",
   "metadata": {},
   "source": [
    "예를 위해 지금까지 사용한 `Character` 클래스를 다시 살펴보자."
   ]
  },
  {
   "cell_type": "code",
   "execution_count": 3,
   "metadata": {},
   "outputs": [],
   "source": [
    "class Character(object):\n",
    "    \n",
    "    def __init__(self, name, health, damage, inventory):\n",
    "        self.name = name\n",
    "        self.health = health\n",
    "        self.damage = damage\n",
    "        self.inventory = inventory\n",
    "        \n",
    "    # 자기소개 매소드\n",
    "    def introduction(self):\n",
    "        print(\"제 이름은 %s입니다\" % self.name)\n",
    "        print(\"현재 저의 체력은 %s입니다.\" % self.health)\n",
    "        print(\"저는 공격할 때마다 상대방에게 %s만큼의 손상을 줍니다.\" % self.damage)\n",
    "        print(\"제 수트의 방어력은 %d이며 사용하는 무기는 %s입니다.\" % \\\n",
    "              (self.inventory['suit'], self.inventory['weapon']))\n",
    "        \n",
    "    # 체력정보 확인 메소드\n",
    "    def getHealth(self):\n",
    "        return self.health\n",
    "    \n",
    "    # 체력증강 메소드\n",
    "    def setHealth(self, health):\n",
    "        self.health = self.health + health\n",
    "        \n",
    "    # 상대 캐릭터 공격 메소드\n",
    "    # 둘째 인자로 상대 캐릭터 인스턴스가 사용될 것임.\n",
    "    def attack(self, other):\n",
    "        print(\"%s 공격하기!\" % other.name)\n",
    "        # 공격력의 10% 만큼 상대 체력 감소시킴\n",
    "        attackPower = self.damage * 0.1 \n",
    "        other.setHealth(-attackPower)"
   ]
  },
  {
   "cell_type": "markdown",
   "metadata": {},
   "source": [
    "위 `Character` 클래스의 인스턴스는 모두 공격(`attack`) 기능을 갖게 된다.\n",
    "그런데 게임 캐릭터에 따라 나는 능력을 갖는 캐릭터와 그렇지 못한 캐릭터를 구분해야 하는 경우가 있다.\n",
    "어떻게 구분할까?\n",
    "\n",
    "먼저 `Character`에 나는 기능인 `fly` 메소드를 추가해보자."
   ]
  },
  {
   "cell_type": "code",
   "execution_count": 11,
   "metadata": {},
   "outputs": [],
   "source": [
    "class Character(object):\n",
    "    \n",
    "    def __init__(self, name, health, damage, inventory):\n",
    "        self.name = name\n",
    "        self.health = health\n",
    "        self.damage = damage\n",
    "        self.inventory = inventory\n",
    "        \n",
    "    # 자기소개 매소드\n",
    "    def introduction(self):\n",
    "        print(\"제 이름은 %s입니다\" % self.name)\n",
    "        print(\"현재 저의 체력은 %s입니다.\" % self.health)\n",
    "        print(\"저는 공격할 때마다 상대방에게 %s만큼의 손상을 줍니다.\" % self.damage)\n",
    "        print(\"제 수트의 방어력은 %d이며 사용하는 무기는 %s입니다.\" % \\\n",
    "              (self.inventory['suit'], self.inventory['weapon']))\n",
    "        \n",
    "    # 체력정보 확인 메소드\n",
    "    def getHealth(self):\n",
    "        return self.health\n",
    "    \n",
    "    # 체력증강 메소드\n",
    "    def setHealth(self, health):\n",
    "        self.health = self.health + health\n",
    "        \n",
    "    # 상대 캐릭터 공격 메소드\n",
    "    # 둘째 인자로 상대 캐릭터 인스턴스가 사용될 것임.\n",
    "    def attack(self, other):\n",
    "        print(\"%s 공격하기!\" % other.name)\n",
    "        # 공격력의 10% 만큼 상대 체력 감소시킴\n",
    "        attackPower = self.damage * 0.1 \n",
    "        other.setHealth(-attackPower)\n",
    "        \n",
    "    # 지정된 속도로 날아가기 메소드\n",
    "    def fly(self, speed):\n",
    "        print(\"시속 %d 속도로 날고 있습니다.\" % speed)\n",
    "        "
   ]
  },
  {
   "cell_type": "markdown",
   "metadata": {},
   "source": [
    "이렇게 하면 `Character` 클래스의 모든 인스턴스가 나는 기능을 갖게 된다."
   ]
  },
  {
   "cell_type": "code",
   "execution_count": 12,
   "metadata": {},
   "outputs": [
    {
     "name": "stdout",
     "output_type": "stream",
     "text": [
      "시속 100 속도로 날고 있습니다.\n"
     ]
    }
   ],
   "source": [
    "ironman = Character('아이언맨', 100, 200, {'suit': 500, 'weapon': '레이저'})\n",
    "ironman.fly(100)"
   ]
  },
  {
   "cell_type": "markdown",
   "metadata": {},
   "source": [
    "그런데 예를 들어 헐크 캐릭터도 날 수 있게 된다."
   ]
  },
  {
   "cell_type": "code",
   "execution_count": 13,
   "metadata": {},
   "outputs": [
    {
     "name": "stdout",
     "output_type": "stream",
     "text": [
      "시속 1000 속도로 날고 있습니다.\n"
     ]
    }
   ],
   "source": [
    "hulk = Character('헐크', 400, 300, {'suit': 0, 'weapon': '주먹'})\n",
    "ironman.fly(1000)"
   ]
  },
  {
   "cell_type": "markdown",
   "metadata": {},
   "source": [
    "우리가 아는 헐크 캐릭터는 날지 못하는데 이렇게 인스턴스를 생성하면 나는 능력을 기본적으로 갖게 된다.\n",
    "어떻게 할까? \n",
    "\n",
    "여러 방법이 있을 수 있다. \n",
    "먼저 `Character` 클래스의 생성자 매개변수를 하나 추가하는 방식을 사용해 보자.\n",
    "즉, 캐릭터를 생성할 때 비행능력을 추가로 입력받아서 날지 못하는 경우 `fly` 메소드가 호출되면\n",
    "\"저는 날지 못합니다\" 라는 문구를 출력하도록 해보자.\n",
    "\n",
    "아래와 같이 할 수 있다."
   ]
  },
  {
   "cell_type": "code",
   "execution_count": 15,
   "metadata": {},
   "outputs": [],
   "source": [
    "class Character(object):\n",
    "    \n",
    "    # 비행능력 여부 확인 매개변수 추가\n",
    "    def __init__(self, name, health, damage, inventory, flight=False):\n",
    "        self.name = name\n",
    "        self.health = health\n",
    "        self.damage = damage\n",
    "        self.inventory = inventory\n",
    "        self.flight = flight                  # 비행능력\n",
    "        \n",
    "    # 자기소개 매소드\n",
    "    def introduction(self):\n",
    "        print(\"제 이름은 %s입니다\" % self.name)\n",
    "        print(\"현재 저의 체력은 %s입니다.\" % self.health)\n",
    "        print(\"저는 공격할 때마다 상대방에게 %s만큼의 손상을 줍니다.\" % self.damage)\n",
    "        print(\"제 수트의 방어력은 %d이며 사용하는 무기는 %s입니다.\" % \\\n",
    "              (self.inventory['suit'], self.inventory['weapon']))\n",
    "        \n",
    "    # 체력정보 확인 메소드\n",
    "    def getHealth(self):\n",
    "        return self.health\n",
    "    \n",
    "    # 체력증강 메소드\n",
    "    def setHealth(self, health):\n",
    "        self.health = self.health + health\n",
    "        \n",
    "    # 상대 캐릭터 공격 메소드\n",
    "    # 둘째 인자로 상대 캐릭터 인스턴스가 사용될 것임.\n",
    "    def attack(self, other):\n",
    "        print(\"%s 공격하기!\" % other.name)\n",
    "        # 공격력의 10% 만큼 상대 체력 감소시킴\n",
    "        attackPower = self.damage * 0.1 \n",
    "        other.setHealth(-attackPower)\n",
    "        \n",
    "    # 지정된 속도로 날아가기 메소드\n",
    "    # 비행능력 여부에 따라 다른 행동 지정\n",
    "    def fly(self, speed):\n",
    "        if flight == False:\n",
    "            print(\"저는 날지 못합니다.\")\n",
    "        else:\n",
    "            print(\"시속 %d 속도로 날고 있습니다.\" % speed)\n",
    "        "
   ]
  },
  {
   "cell_type": "code",
   "execution_count": null,
   "metadata": {},
   "outputs": [],
   "source": []
  },
  {
   "cell_type": "code",
   "execution_count": null,
   "metadata": {},
   "outputs": [],
   "source": []
  },
  {
   "cell_type": "code",
   "execution_count": null,
   "metadata": {},
   "outputs": [],
   "source": []
  },
  {
   "cell_type": "markdown",
   "metadata": {},
   "source": [
    "#### 극복 방법\n",
    "\n",
    "따라서 경우에 따라 인스턴스 간에 완전히 다른 기능을 발휘할 수 있도록 수단이 필요하며\n",
    "이 수단을 상속과 메소드 오버라이딩이 제공한다."
   ]
  },
  {
   "cell_type": "markdown",
   "metadata": {},
   "source": [
    "## 상속\n",
    "\n",
    "상속은 기존 클래스에서 선언된 속성(변수)과 기능(메소드)을 필요에 따라 재활용하거나 속성과 기능을 추가해서 보다 \n",
    "효율적으로 객체와 데이터를 관리하기 위해 사용되는 OOP의 핵심 기술중 하나이다. "
   ]
  },
  {
   "cell_type": "markdown",
   "metadata": {},
   "source": [
    "### 상속 예제"
   ]
  },
  {
   "cell_type": "code",
   "execution_count": null,
   "metadata": {},
   "outputs": [],
   "source": []
  },
  {
   "cell_type": "code",
   "execution_count": null,
   "metadata": {},
   "outputs": [],
   "source": []
  },
  {
   "cell_type": "code",
   "execution_count": null,
   "metadata": {},
   "outputs": [],
   "source": []
  },
  {
   "cell_type": "markdown",
   "metadata": {},
   "source": [
    "## 메소드 오버라이딩(overriding)\n",
    "\n",
    "메소드 오버라이딩은 ..."
   ]
  }
 ],
 "metadata": {
  "kernelspec": {
   "display_name": "Python 3",
   "language": "python",
   "name": "python3"
  },
  "language_info": {
   "codemirror_mode": {
    "name": "ipython",
    "version": 3
   },
   "file_extension": ".py",
   "mimetype": "text/x-python",
   "name": "python",
   "nbconvert_exporter": "python",
   "pygments_lexer": "ipython3",
   "version": "3.6.3"
  }
 },
 "nbformat": 4,
 "nbformat_minor": 2
}
