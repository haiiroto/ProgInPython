{
 "cells": [
  {
   "cell_type": "markdown",
   "metadata": {},
   "source": [
    "# 강의소개"
   ]
  },
  {
   "cell_type": "markdown",
   "metadata": {},
   "source": [
    "## 강의 핵심 주제\n",
    "\n",
    "생각하는 방식 (how-to-think)를 배우는 것이 필요하다. "
   ]
  },
  {
   "cell_type": "markdown",
   "metadata": {},
   "source": [
    "아래 질문에 답하기 위해서는 How-To-Think를 배워야 함.\n",
    "\n",
    "* 프로그래밍을 어떻게 하면 잘 배울 수 있는가?\n",
    "* 이미 배웠거나 앞으로 배울 내용을 어떻게 잘 기억할 수 있는가?\n",
    "* 배우는 내용을 어떻게 하면 잘 이해할 수 있는가?\n",
    "* 어떻게 해야 내 뇌가 지금 배우는 내용을 중요하다고 생각하게 만들 수 있는가?\n",
    "\n",
    "정말 배우기를 원하고, 더 빠르고 더 자세히, 더 정확히 배우고 싶다면, 자신이 어떤 식으로 생각하는가에 대해 주의를 기울여야 한다.\n",
    "그리고 생각하는 방법에 대해 생각해 보고, 배우는 방법을 배워야 한다."
   ]
  },
  {
   "cell_type": "markdown",
   "metadata": {},
   "source": [
    "## 강의 도구 소개\n",
    "\n",
    "강의에서 사용하는 프로그래밍 언어는 파이썬(Python)이다.  \n",
    "\n",
    "#### 주의사항\n",
    "파이썬이라는 프로그래밍 언어의 특수한 사용법을 배우는 것이 아니라\n",
    "파이썬을 도구로 사용하여 “프로그래밍을 어떻게 할 것인가?”에 대해 배울 것이다.\n",
    "즉, How To Program?에 대해 배울 것이다. \n",
    "\n",
    "파이썬 프로그래밍 언어는 C나 Java에 비해 배우기 쉽고 사용하기 편리하다.\n",
    "파이썬이 왜 배우기 쉽고 사용하기 쉬운지는 차차 알게 될 것이다.\n",
    "\n",
    "파이썬은 세계에서 가장 많이 사용되는 언어 중의 하나이다.\n",
    "아래 [TIOBE Index](https://www.tiobe.com/tiobe-index/)에서 파이썬의 위력을 확인할 수 있다."
   ]
  },
  {
   "cell_type": "markdown",
   "metadata": {},
   "source": [
    "## 강의 교재\n",
    "\n",
    "* 주교재: \n",
    "    + Head First Programming\n",
    "    + 한빛미디어 출판사\n",
    "    + 저자: 폴 배리, 데이빗 그리피스 (강권학 옮김)\n",
    "    + 책 안내 및 예제 소스코드:\n",
    "        - http://www.hanbit.co.kr/book/look.html?isbn=978-89-7914-819-0\n",
    "        - http://examples.hanb.co.kr/1819\u000b",
    "\n",
    "* 부교재:\n",
    "    + Think Python: How to think like a computer scientist\n",
    "    + 원본: http://greenteapress.com/wp/think-python-2e/\n",
    "    + 번역: http://www.flowdas.com/thinkpython/\n",
    "* 파이썬3 설치:\n",
    "    + https://www.continuum.io/downloads\t"
   ]
  },
  {
   "cell_type": "markdown",
   "metadata": {},
   "source": [
    "### 강의 내용\n",
    "\n",
    "* 처음으로 하는 코딩: 길 찾아가기\n",
    "* 텍스트 데이터: 모든 것은 제 자리가 있다\n",
    "* 함수: 같은 코딩 반복 하지 않기\n",
    "* 파일과 배열 안의 데이터: 데이터 정렬하기\n",
    "* 해쉬와 데이터베이스: 데이터 제자리에 넣기 \n",
    "* 모듈화 프로그래밍: 일처리 명확하게\n",
    "* 그래픽 사용자 인터페이스(GUI) 구현하기\n",
    "* GUI와 데이터: 데이터 입력 위젯\n",
    "* 예외와 메시지 상자\n",
    "* 그래픽 인터페이스 요소: 올바른 도구 선택하기\n",
    "* 사용자 정의 위젯과 클래스: 객체 사용하기"
   ]
  }
 ],
 "metadata": {
  "kernelspec": {
   "display_name": "Python 3",
   "language": "python",
   "name": "python3"
  },
  "language_info": {
   "codemirror_mode": {
    "name": "ipython",
    "version": 3
   },
   "file_extension": ".py",
   "mimetype": "text/x-python",
   "name": "python",
   "nbconvert_exporter": "python",
   "pygments_lexer": "ipython3",
   "version": "3.6.8"
  }
 },
 "nbformat": 4,
 "nbformat_minor": 1
}
