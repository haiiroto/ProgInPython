{
 "cells": [
  {
   "cell_type": "markdown",
   "metadata": {},
   "source": [
    "# 강의소개"
   ]
  },
  {
   "cell_type": "markdown",
   "metadata": {},
   "source": [
    "## 목적"
   ]
  },
  {
   "cell_type": "markdown",
   "metadata": {},
   "source": [
    "\"컴퓨터 프로그래밍을 어떻게 하는가?\"를 전달한다.\n",
    "즉, 프로그래밍을 통해 컴퓨터를 제어하고, 원하는 기능을 갖춘 다양한 앱을 만드는 방법을 배운다."
   ]
  },
  {
   "cell_type": "markdown",
   "metadata": {},
   "source": [
    "## 프로그래밍 도구"
   ]
  },
  {
   "cell_type": "markdown",
   "metadata": {},
   "source": [
    "파이썬(Python) 프로그래밍 언어를 사용한다.\n",
    "파이썬은 다루기 쉬우며,\n",
    "세계에서 가장 많이 사용되는 프로그래밍 언어 중의 하나이다.\n",
    "프로그래밍 언어들의 인기도를 측정하는 \n",
    "[TIOBE Index](https://www.tiobe.com/tiobe-index/)에서 \n",
    "파이썬의 위력을 확인할 수 있다."
   ]
  },
  {
   "cell_type": "markdown",
   "metadata": {},
   "source": [
    "## 개발환경"
   ]
  },
  {
   "cell_type": "markdown",
   "metadata": {},
   "source": [
    "컴퓨터 프로그래밍을 하려면 개발환경을 준비해야 하며, 두 가지 방식이 있다.\n",
    "\n",
    "1. 온라인 개발환경\n",
    "    * 인터넷만 지원되면 사용가능\n",
    "    * 특정한 설정 필요 없음.\n",
    "    * 여기서는 [repl.it](https://repl.it) 사이트 활용\n",
    "        * 개인 계정을 생성해야 함.\n",
    "        * 사용법은 [동영상](https://...) 참조\n",
    "1. 오프라인 개발환경\n",
    "    * 개인 컴퓨터에 파이썬을 설치한 후 사용.\n",
    "    * 초보자에게 조금 어려울 수 있음.\n",
    "    * 하지만 시도하는 자체가 컴퓨터 프로그래밍을 배우는 과정임.\n",
    "    * 추천 개발환경: 파이썬 + Visual Studio Code\n",
    "        * 윈도우용 참고 사이트\n",
    "            * [Visual Studio Code를 사용하여 Python 프로그래밍 환경 만들기](https://www.youtube.com/watch?v=e4n2VnhiI28)\n",
    "            * [초보자를 위한 Windows에서 Python 사용 시작](https://docs.microsoft.com/ko-kr/windows/python/beginners)\n",
    "        * 맥 OSX용\n",
    "            * 프로그래밍 초보자에게는 좀 어려움.\n",
    "            * 인터넷 검색을 통해 아래 두 가지 방법 중 하나 선택 추천\n",
    "                * Homebrew + Python 3 + Visual Studio Code\n",
    "                * Anaconda 패키지 + Visual Stuidio Code"
   ]
  }
 ],
 "metadata": {
  "kernelspec": {
   "display_name": "Python 3",
   "language": "python",
   "name": "python3"
  },
  "language_info": {
   "codemirror_mode": {
    "name": "ipython",
    "version": 3
   },
   "file_extension": ".py",
   "mimetype": "text/x-python",
   "name": "python",
   "nbconvert_exporter": "python",
   "pygments_lexer": "ipython3",
   "version": "3.6.8"
  }
 },
 "nbformat": 4,
 "nbformat_minor": 1
}
