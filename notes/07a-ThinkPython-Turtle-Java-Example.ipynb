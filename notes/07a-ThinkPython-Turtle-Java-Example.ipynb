{
 "cells": [
  {
   "cell_type": "markdown",
   "metadata": {},
   "source": [
    "# 자바 언어로 구현한 Turtle 클래스"
   ]
  },
  {
   "cell_type": "markdown",
   "metadata": {},
   "source": [
    "자바에는 Turtle 클래스가 기본 팩키지에 포함되어 있지 않다.\n",
    "여기서는 미국 프린스턴 대학교의 컴퓨터공학과에서 자바 강의를 위해 구현한 \n",
    "[Turtle.java](https://introcs.cs.princeton.edu/java/32class/Turtle.java)\n",
    "파일을 응용하여 Turtle 클래스의 활용법을 보여주고자 한다."
   ]
  },
  {
   "cell_type": "markdown",
   "metadata": {},
   "source": [
    "## 주요 내용\n",
    "\n",
    "* 자바에서 구현한 Turtle.java 예제 소개\n",
    "* 자바에서 간단한 도형 그리기 활용 예제"
   ]
  },
  {
   "cell_type": "markdown",
   "metadata": {},
   "source": [
    "## 내용 핵심\n",
    "\n",
    "여기서 전달하고자 하는 내용의 핵심은 파이썬과 자바에서 OOP를 사용하는 방식이 기본적으로 동일하다는 점을 보여주는 것이다.\n",
    "즉, 두 언어의 문법이 다르기 때문에 형식상 약간의 차이가 존재하지만 클래스, 인스턴스, 매소드 활용 등은 전적으로 동일하다."
   ]
  },
  {
   "cell_type": "markdown",
   "metadata": {},
   "source": [
    "## 주의 사항\n",
    "\n",
    "자바 언어로 구현된 Turtle 클래스의 내부를 보면서 아래 요소들을 주의깊게 살펴보도록 한다.\n",
    "\n",
    "* 클래스 선언\n",
    "* 생성자 선언\n",
    "* 메소드 활용"
   ]
  },
  {
   "cell_type": "markdown",
   "metadata": {},
   "source": [
    "## 자바 코드 실행 방법\n",
    "\n",
    "이클립스(eclipse)에디터를 이용하여 여기서 사용하는 자바 코드를 실행하는 방법을 설명한다.\n",
    "\n",
    "1. [이곳](https://github.com/liganega/bpp/tree/master/notes/codes/turtle_princeton)에 \n",
    "    포함된 모든 코드를 다운로드 하여 컴퓨터에 저장한다.\n",
    "1. eclipse를 실행한다.\n",
    "2. 새로운 java project를 만들고 그 안에 package 하나를 만든다.(project와 package 이름은 임의로 짓는다)\n",
    "3. 이 package 안에 'Turtle'이라는 이름의 class 하나를 만든다.\n",
    "4. 이 Turtle class의 내용 중 맨 상단의 'package 패키지 이름;' 만 남겨놓고 나머지는 지운다.\n",
    "5. 다운로드 받은 Turtle.java 파일의 내용 중 맨 상단의 'package 패키지 이름;' 만 제외한\n",
    "    나머지 전체를 앞서 생성한 Turtle class에 붙여넣기 한다.\n",
    "6. 동일한 방식으로 다른 파일들을 동일한 이름의 클래스로 생성한다.\n",
    "7. Turtle 과 StdDraw class 코드 이외의 클래스들은 run 하면 잘 지정된 도형을 그리는 것을 확인할 수 있다."
   ]
  },
  {
   "cell_type": "markdown",
   "metadata": {},
   "source": [
    "## Turtle.java 파일 들여다 보기"
   ]
  },
  {
   "cell_type": "markdown",
   "metadata": {},
   "source": [
    "앞서 언급한 Turtle.java 파일의 내용은 다음과 같다.\n",
    "\n",
    "**주의:** `StdDraw` 클래스가 동일한 패키지에 존재한다고 가정한다."
   ]
  },
  {
   "cell_type": "markdown",
   "metadata": {},
   "source": [
    "---\n",
    "```java\n",
    "import java.awt.Color;\n",
    "\n",
    "public class Turtle {\n",
    "    /** 인스턴스 변수 */\n",
    "    private double x, y;     // 거북이의 초기 위치 좌표값: (x, y)\n",
    "    private double angle;    // 거북이가 처음에 바라보는 방향: x-축으로부터 반시계방향으로 잰 각도\n",
    "\n",
    "    /** Turtle 클래스 생성자\n",
    "    \t3 개의 인자 사용: 초기 위치 좌표값 (x0, y0) 및 바라보는 방향 */\n",
    "    public Turtle(double x0, double y0, double a0) {\n",
    "        x = x0;\n",
    "        y = y0;\n",
    "        angle = a0;\n",
    "    }\n",
    "    \n",
    "    /** 인스턴스 메소드 */\n",
    "    \n",
    "    // 지정된 거리만큼 바라보는 방향으로 전진하기(픽셀 기준)\n",
    "    public void goForward(double step) {\n",
    "        double oldx = x;\n",
    "        double oldy = y;\n",
    "        x += step * Math.cos(Math.toRadians(angle));\n",
    "        y += step * Math.sin(Math.toRadians(angle));\n",
    "        StdDraw.line(oldx, oldy, x, y);\n",
    "    }\n",
    "\n",
    "    // 반시계 방향으로 지정된 각도만큼 회전하기\n",
    "    public void turnLeft(double delta) {\n",
    "        angle += delta;\n",
    "    }\n",
    "\n",
    "    // 지정된 시간(1000분의 1초 기준) 동안 멈추기\n",
    "    public void pause(int t) {\n",
    "        StdDraw.pause(t);\n",
    "    }\n",
    "\n",
    "    // 선 색깔 지정하기\n",
    "    public void setPenColor(Color color) {\n",
    "        StdDraw.setPenColor(color);\n",
    "    }\n",
    "\n",
    "    // 선 두께 지정하기\n",
    "    public void setPenRadius(double radius) {\n",
    "        StdDraw.setPenRadius(radius);\n",
    "    }\n",
    "    \n",
    "}\n",
    "```\n",
    "---"
   ]
  },
  {
   "cell_type": "markdown",
   "metadata": {},
   "source": [
    "### `Turtle` 클래스의 생성자\n",
    "\n",
    "자바의 경우 클래스의 생성자는 클래스 이름과 동일하다.\n",
    "`Turtle` 클래스의 생성자는 세 개의 인자를 받는다.\n",
    "\n",
    "```java\n",
    "public Turtle(double x0, double y0, double a0) {\n",
    "        x = x0;\n",
    "        y = y0;\n",
    "        angle = a0;\n",
    "    }\n",
    "```\n",
    "\n",
    "#### 생성자 메소드 매개변수\n",
    "* `x0`: 초기 위치 x-좌표\n",
    "* `y0`: 초기 위치 y-좌표\n",
    "* `a0`: 초기 위치에서 바라보는 각도(x-축에서 반시계 방향으로 벌어진 각도)\n",
    "* __주의:__ 파이썬의 `self`에 해당하는 매개변수는 자바에서는 사용하지 않는다."
   ]
  },
  {
   "cell_type": "markdown",
   "metadata": {},
   "source": [
    "### `Turtle` 클래스의 메소드\n",
    "\n",
    "* `goForward`: 바라보는 방향으로 전진하기\n",
    "* `turnLeft`: 반시계 방향으로 회전하기\n",
    "* `pause`: 잠시 멈추기\n",
    "* `setPenColor`: 펜 색깔 지정하기\n",
    "* `setPenRadius`: 펜 두께 지정하기"
   ]
  },
  {
   "cell_type": "markdown",
   "metadata": {},
   "source": [
    "### `Turtle` 클래스의 인스턴스 변수\n",
    "\n",
    "* `x`: 생성된 인스턴스 위치의 x-좌표 저장\n",
    "* `y`: 생성된 인스턴스 위치의 y-좌표 저장\n",
    "* `angle`: 생성된 인스턴스가 처음에 바라보는 각도"
   ]
  },
  {
   "cell_type": "markdown",
   "metadata": {},
   "source": [
    "### 예제: Turtle 인스턴스 생성 "
   ]
  },
  {
   "cell_type": "markdown",
   "metadata": {},
   "source": [
    "아래 코드는 정삼각형과 정사각형을 그리는 코드이다.\n",
    "\n",
    "**주의:** `Turtle`, `StdDraw` 클래스가 동일 패키지에 존재한다고 가정함."
   ]
  },
  {
   "cell_type": "markdown",
   "metadata": {},
   "source": [
    "---\n",
    "```java\n",
    "public class Rect_Triangle {\n",
    "\n",
    "    public static void main(String[] args) {\n",
    "    \t\n",
    "    \t// 캔버스 설정\n",
    "    \tStdDraw.setCanvasSize(600,600);\t\t\t\t// 캔버스 사이즈 지정 \n",
    "        StdDraw.setXscale(-1, 1);\t\t\t\t\t  // 캔버스 X 좌표 스케일 기준 설정하기 \n",
    "        StdDraw.setYscale(-1, 1);\t\t\t\t\t  // 캔버스 X, Y 좌표 스케일 기준 설정하기 \n",
    "        StdDraw.setPenColor(StdDraw.BLUE);\t\t\t // 펜 색깔 지정: BLUE\n",
    "        \t\t\t\t\t\t\t\t\t\t\t   // 펜 색깔은 모든 거북이 인스턴스에 적용됨\n",
    "        \n",
    "        // 거북이 인스턴스 생성하기\n",
    "        double step = 1;\t\t\t\t\t\t\t   // 이동 거리 \n",
    "        double x0 = -step/2;\t\t\t\t\t\t   // 초기 위치 x 좌표값 \n",
    "        double y0 = -0.4;\t\t\t\t\t\t\t  // 초기 위치 y 좌표값 \n",
    "        double a0 = 0.0;\t\t\t\t\t\t\t   // 초기 바라보는 방향 \n",
    "        Turtle turtle_tri = new Turtle(x0, y0, a0);\t// 첫째 거북이 인스턴스 생성 \n",
    "        Turtle turtle_rect = new Turtle(x0, y0, a0);   // 둘째 거북이 인스턴스 생성 \n",
    "        \n",
    "        // 정삼각형 그리기 \n",
    "        int count1 = 0;\n",
    "        while (count1 < 3) {\t\t\t\t\t       // 3번 반복\n",
    "            turtle_tri.goForward(step);\t\t\t\t   // step 만큼 전\n",
    "\t        turtle_tri.turnLeft(120.0);\t\t\t\t   // 시계반대 방향으로 120도 회전\n",
    "\t        count1++;\n",
    "        }\n",
    "        // 정사각형 그리기 \n",
    "        int count2 = 0;\n",
    "        while (count2 < 4) {\t\t\t\t\t\t  // 4번 반복\n",
    "\t        turtle_rect.goForward(step);\t\t\t     // step 만큼 전\n",
    "\t        turtle_rect.turnLeft(90.0);\t\t\t\t  // 시계반대 방향으로 90도 회전\n",
    "\t        count2++;\n",
    "\t    }\n",
    "    }\n",
    "}\n",
    "```\n",
    "---"
   ]
  },
  {
   "cell_type": "markdown",
   "metadata": {},
   "source": [
    "<p>\n",
    "<table cellspacing=\"20\">\n",
    "<tr>\n",
    "<td>\n",
    "<img src=\"images/turtle08.png\" style=\"width:400px\">\n",
    "</td>\n",
    "</tr>\n",
    "</table>\n",
    "</p>"
   ]
  },
  {
   "cell_type": "markdown",
   "metadata": {},
   "source": [
    "#### 위 예제에서 사용된 클래스와 인스턴스\n",
    "\n",
    "* `turtle_tri`: `Turtle` 클래스의 인스턴스\n",
    "* `turtle_rect`: `Turtle` 클래스의 인스턴스\n",
    "\n",
    "__주의:__ 파이썬 `Turtle` 코드에서 사용되는 `Screen` 클래스의 인스턴스에 해당하는 코드는 위 코드에서는 보이지 않는다.\n",
    "이유는 `Turtle` 클래스의 인스턴스가 움직이기 시작하면 그때서야 비로소 `Screen` 클래스와 비슷한 일을 하는 클래스의\n",
    "인스턴스가 생성되기 때문이다. \n",
    "즉, `goForward` 메소드가 윈도우 창을 인스턴스로 생성하는 클래스를 내부적으로 눈에 보이지 않게 호출하여 사용한다. "
   ]
  },
  {
   "cell_type": "markdown",
   "metadata": {},
   "source": [
    "### `Turtle` 클래스 생성자 함수의 특징\n",
    "\n",
    "파이썬의 `Turtle` 클래스의 생성자와는 달리 여기서 사용하는 자바 `Turtle` 클래스의 생성자는 단순히\n",
    "생성될 인스턴스의 위치 좌표와 바라보는 각도만을 기억한다.\n",
    "\n",
    "예를 들어, 아래 코드를 실행하면 어떠한 윈도우 창도 생성되지 않는다."
   ]
  },
  {
   "cell_type": "markdown",
   "metadata": {},
   "source": [
    "---\n",
    "```java\n",
    "public class No_Graphic {\n",
    "\n",
    "    public static void main(String[] args) {\n",
    "        // 거북이 인스턴스 생성하기\n",
    "        double step = 1;\t\t\t\t\t\t\t   // 이동 거리 \n",
    "        double x0 = -step/2;\t\t\t\t\t\t   // 초기 위치 x 좌표값 \n",
    "        double y0 = -0.4;\t\t\t\t\t\t\t  // 초기 위치 y 좌표값 \n",
    "        double a0 = 0.0;\t\t\t\t\t\t\t   // 초기 바라보는 방향 \n",
    "        Turtle turtle_tri = new Turtle(x0, y0, a0);\t// 첫째 거북이 인스턴스 생성 \n",
    "    }\n",
    "}\n",
    "```\n",
    "---"
   ]
  },
  {
   "cell_type": "markdown",
   "metadata": {},
   "source": [
    "이유는 앞서 설명한 대로 생성자가 실행될 때 단순히 위치 좌표값과 바라보는 각도만을 저장하기 때문이다.\n",
    "반면에 움직이기 명령을 내리면 그제서야 비로소 캔버스와 거북이 모양의 객체가 생성되어\n",
    "그림을 그리기 시작한다.\n",
    "\n",
    "암튼 `Turtle` 클래스의 인스턴스를 생성하는 것만으로는 그래픽 관련하여 아무런 일도 하지 않으며,\n",
    "대신에 거북이 객체의 위치와 바라보는 방향의 정보만을 기억해 둔다.\n",
    "이처럼 클래스는 단순히 관련된 정보만을 함께 관리하는 기능으로도 많이 사용된다.\n",
    "\n",
    "**주의:** 파이썬의 `Turtle` 클래스는 인스턴스를 생성하는 것만으로도 그래픽 도구를 자동적으로 사용하도록 \n",
    "설정되어 있다. \n",
    "[이곳](https://github.com/liganega/bpp/blob/master/notes/07-ThinkPython-OOP_01-Introduction.ipynb) \n",
    "설명 참고할 것."
   ]
  },
  {
   "cell_type": "markdown",
   "metadata": {},
   "source": [
    "## 연습문제"
   ]
  },
  {
   "cell_type": "markdown",
   "metadata": {},
   "source": [
    "1. 아래 그림의 도형을 그리는 함수들을 자바로 구현하라.\n",
    "<p>\n",
    "<table cellspacing=\"20\">\n",
    "<tr>\n",
    "<td>\n",
    "<img src=\"images/turtle04.png\" style=\"width:400px\">\n",
    "</td>\n",
    "</tr>\n",
    "</table>\n",
    "</p>\n",
    "    힌트: [여기](http://greenteapress.com/thinkpython2/code/pie.py)에 있는\n",
    "    파이썬 코드 참고할 것.\n",
    "    <br><br>\n",
    "1. 아래 그림의 도형을 그리는 함수들을 자바로 구현하라.\n",
    "<p>\n",
    "<table cellspacing=\"20\">\n",
    "<tr>\n",
    "<td>\n",
    "<img src=\"images/turtle05.png\" style=\"width:450px\">\n",
    "</td>\n",
    "</tr>\n",
    "</table>\n",
    "</p>\n",
    "    힌트: [여기](http://greenteapress.com/thinkpython2/code/letters.py)에 있는\n",
    "    파이썬 코드 참고할 것.\n",
    "    <br><br>\n",
    "1. 자바 `Turtle` 클래스 방식으로 정의된 클래스인 `Turtle_Java`를 파이썬을 이용하여 구현하라.\n",
    "    즉, `Turtle_Java` 클래스의 인스턴스를 생성할 때 기존의 파이썬 `Turtle` 클래스의 경우와는 \n",
    "    달리 어떠한 그래픽 작업이 이루어지지 않아야 한다. "
   ]
  }
 ],
 "metadata": {
  "kernelspec": {
   "display_name": "Python 3",
   "language": "python",
   "name": "python3"
  },
  "language_info": {
   "codemirror_mode": {
    "name": "ipython",
    "version": 3
   },
   "file_extension": ".py",
   "mimetype": "text/x-python",
   "name": "python",
   "nbconvert_exporter": "python",
   "pygments_lexer": "ipython3",
   "version": "3.6.4"
  }
 },
 "nbformat": 4,
 "nbformat_minor": 2
}
