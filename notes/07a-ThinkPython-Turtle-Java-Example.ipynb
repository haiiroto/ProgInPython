{
 "cells": [
  {
   "cell_type": "markdown",
   "metadata": {},
   "source": [
    "# 자바 언어로 구현한 Turtle 클래스"
   ]
  },
  {
   "cell_type": "markdown",
   "metadata": {},
   "source": [
    "자바에는 Turtle 클래스가 기본 팩키지에 포함되어 있지 않다.\n",
    "\n",
    "여기서는 미국 프린스턴 대학교의 컴퓨터공학과에서 자바 강의를 위해 구혀한 \n",
    "[Turtle.java](https://introcs.cs.princeton.edu/java/32class/Turtle.java)\n",
    "파일을 이용하여 Turtle 클래스의 활용법을 보여주고자 한다."
   ]
  },
  {
   "cell_type": "markdown",
   "metadata": {},
   "source": [
    "## 주요 내용\n",
    "\n",
    "* 자바에서 구현한 Turtle.java 예제 소개\n",
    "* 자바에서 간단한 도형 그리기 활용 예제"
   ]
  },
  {
   "cell_type": "markdown",
   "metadata": {},
   "source": [
    "## 내용 핵심\n",
    "\n",
    "여기서 전달하고자 하는 내용의 핵심은 파이썬과 자바에서 OOP를 사용하는 방식이 기본적으로 동일하다는 점을 보여주는 것이다.\n",
    "즉, 두 언어의 문법이 다르기 때문에 형식상 약간의 차이가 존재하지만 클래스, 인스턴스, 매소드 활용 등은 전적으로 동일하다."
   ]
  },
  {
   "cell_type": "markdown",
   "metadata": {},
   "source": [
    "## 주의 사항\n",
    "\n",
    "자바 언어로 구현된 Turtle 클래스의 내부를 보면서 아래 요소들을 주의깊게 살펴보도록 한다.\n",
    "\n",
    "* 클래스 선언\n",
    "* 생성자 선언\n",
    "* 메소드 활용"
   ]
  },
  {
   "cell_type": "markdown",
   "metadata": {},
   "source": [
    "## Turtle.java 예제 파일"
   ]
  },
  {
   "cell_type": "markdown",
   "metadata": {},
   "source": [
    "앞서 언급한 Turtle.java 파일의 내용은 다음과 같다."
   ]
  },
  {
   "cell_type": "markdown",
   "metadata": {},
   "source": [
    "```java\n",
    "import java.awt.Color;\n",
    "\n",
    "public class Turtle {\n",
    "    private double x, y;     // turtle is at (x, y)\n",
    "    private double angle;    // facing this many degrees counterclockwise from the x-axis\n",
    "\n",
    "    // start at (x0, y0), facing a0 degrees counterclockwise from the x-axis\n",
    "    public Turtle(double x0, double y0, double a0) {\n",
    "        x = x0;\n",
    "        y = y0;\n",
    "        angle = a0;\n",
    "    }\n",
    "\n",
    "    // rotate orientation delta degrees counterclockwise\n",
    "    public void turnLeft(double delta) {\n",
    "        angle += delta;\n",
    "    }\n",
    "\n",
    "    // move forward the given amount, with the pen down\n",
    "    public void goForward(double step) {\n",
    "        double oldx = x;\n",
    "        double oldy = y;\n",
    "        x += step * Math.cos(Math.toRadians(angle));\n",
    "        y += step * Math.sin(Math.toRadians(angle));\n",
    "        StdDraw.line(oldx, oldy, x, y);\n",
    "    }\n",
    "\n",
    "    // copy to onscreen\n",
    "    public void show() {\n",
    "        StdDraw.show();\n",
    "    }\n",
    "\n",
    "    // pause t milliseconds\n",
    "    public void pause(int t) {\n",
    "        StdDraw.pause(t);\n",
    "    }\n",
    "\n",
    "\n",
    "    public void setPenColor(Color color) {\n",
    "        StdDraw.setPenColor(color);\n",
    "    }\n",
    "\n",
    "    public void setPenRadius(double radius) {\n",
    "        StdDraw.setPenRadius(radius);\n",
    "    }\n",
    "\n",
    "    public void setCanvasSize(int width, int height) {\n",
    "        StdDraw.setCanvasSize(width, height);\n",
    "    }\n",
    "\n",
    "    public void setXscale(double min, double max) {\n",
    "        StdDraw.setXscale(min, max);\n",
    "    }\n",
    "\n",
    "    public void setYscale(double min, double max) {\n",
    "        StdDraw.setYscale(min, max);\n",
    "    }\n",
    "\n",
    "\n",
    "    // sample client for testing\n",
    "    public static void main(String[] args) {\n",
    "        StdDraw.enableDoubleBuffering();\n",
    "        double x0 = 0.5;\n",
    "        double y0 = 0.0;\n",
    "        double a0 = 60.0;\n",
    "        double step = Math.sqrt(3)/2;\n",
    "        Turtle turtle = new Turtle(x0, y0, a0);\n",
    "        turtle.goForward(step);\n",
    "        turtle.turnLeft(120.0);\n",
    "        turtle.goForward(step);\n",
    "        turtle.turnLeft(120.0);\n",
    "        turtle.goForward(step);\n",
    "        turtle.turnLeft(120.0);\n",
    "    }\n",
    "\n",
    "}\n",
    "```"
   ]
  },
  {
   "cell_type": "code",
   "execution_count": null,
   "metadata": {},
   "outputs": [],
   "source": []
  },
  {
   "cell_type": "code",
   "execution_count": null,
   "metadata": {},
   "outputs": [],
   "source": []
  },
  {
   "cell_type": "markdown",
   "metadata": {},
   "source": [
    "---\n",
    "```python\n",
    "import turtle\n",
    "\n",
    "wn = turtle.Screen()\n",
    "\n",
    "# bob 생성\n",
    "bob = turtle.Turtle()\n",
    "\n",
    "# alice 생성\n",
    "alice = turtle.Turtle()\n",
    "alice.shape(\"turtle\")       # 펜 모양을 거북이로 변경\n",
    "alice.color(\"red\")          # 선 색깔을 빨강으로 변경\n",
    "\n",
    "alice.penup()               # 펜 들기: 선 그리지 않음\n",
    "alice.backward(100)         # 뒤로 100픽셀 이동\n",
    "alice.pendown()             # 펜 내리기: 선 그리기 시작함\n",
    "\n",
    "# bob 으로 사각형 그리기\n",
    "for i in range(4):\n",
    "    bob.forward(100)\n",
    "    bob.left(90)\n",
    "\n",
    "# alice로 삼각형 그리기\n",
    "for i in range(3):\n",
    "    alice.forward(100)\n",
    "    alice.right(120)        # 시계방향으로 회전\n",
    "\n",
    "wn.mainloop()\n",
    "```\n",
    "---"
   ]
  },
  {
   "cell_type": "markdown",
   "metadata": {},
   "source": [
    "<p>\n",
    "<table cellspacing=\"20\">\n",
    "<tr>\n",
    "<td>\n",
    "<img src=\"images/turtle06.png\" style=\"width:400px\">\n",
    "</td>\n",
    "</tr>\n",
    "</table>\n",
    "</p>"
   ]
  },
  {
   "cell_type": "markdown",
   "metadata": {},
   "source": [
    "#### 예제 2에서 사용된 클래스와 인스턴스\n",
    "\n",
    "* `wn`: `Screen` 클래스의 인스턴스\n",
    "* `bob`: `Turtle` 클래스의 인스턴스\n",
    "* `alice`: `Turtle` 클래스의 인스턴스"
   ]
  },
  {
   "cell_type": "markdown",
   "metadata": {},
   "source": [
    "#### 주의사항\n",
    "\n",
    "`Screen` 클래스의 인스턴스는 하나만 만들 수 있다.\n",
    "인스턴스를 하나만 허용하는 클래스를 __싱글턴 클래스(singleton class)__라 부른다."
   ]
  },
  {
   "cell_type": "markdown",
   "metadata": {},
   "source": [
    "### 예제 3\n",
    "아래 코드를 `mypolygon3.py` 파일에 저장하고 실행하면\n",
    "이전 코드와는 달리 배경화면의 색깔과 그림 제목을 다르게 지정한 것을 확인 할 수 있다.\n",
    "\n",
    "* `bgcolor`: `Screen` 클래스의 인스턴스 메소드. 그림의 배경화면 색 지정\n",
    "* `title`: `Screen` 클래스의 인스턴스 메소드. 그림의 제목 지정"
   ]
  },
  {
   "cell_type": "markdown",
   "metadata": {},
   "source": [
    "---\n",
    "```python\n",
    "import turtle\n",
    "\n",
    "wn = turtle.Screen()\n",
    "wn.bgcolor(\"lightyellow\")               # 배경화면 색깔 정하기\n",
    "wn.title(\"Hello, Bob and Alice!\")       # 그래픽 제목 정하기\n",
    "\n",
    "# bob 생성\n",
    "bob = turtle.Turtle()\n",
    "\n",
    "# alice 생성\n",
    "alice = turtle.Turtle()\n",
    "alice.shape(\"turtle\")\n",
    "alice.color(\"red\")\n",
    "\n",
    "alice.penup()\n",
    "alice.backward(120)\n",
    "alice.pendown()\n",
    "\n",
    "# bob 으로 사각형 그리기\n",
    "for i in range(4):\n",
    "    bob.forward(100)\n",
    "    bob.left(90)\n",
    "\n",
    "# alice로 삼각형 그리기\n",
    "for i in range(3):\n",
    "    alice.forward(100)\n",
    "    alice.right(120)\n",
    "\n",
    "wn.mainloop()\n",
    "```\n",
    "---"
   ]
  },
  {
   "cell_type": "markdown",
   "metadata": {},
   "source": [
    "<p>\n",
    "<table cellspacing=\"20\">\n",
    "<tr>\n",
    "<td>\n",
    "<img src=\"images/turtle07.png\" style=\"width:400px\">\n",
    "</td>\n",
    "</tr>\n",
    "</table>\n",
    "</p>"
   ]
  },
  {
   "cell_type": "markdown",
   "metadata": {},
   "source": [
    "### 예제 4\n",
    "아래 코드를 `mypolygon4.py` 파일에 저장하고 실행하면\n",
    "회오리 모양으로 움직이면서 점차 가속도가 붙는 거북이를 확인할 수 있다.\n",
    "\n",
    "* `penup`: `Turtle` 클래스의 인스턴스 메소드. 도장 찍기."
   ]
  },
  {
   "cell_type": "markdown",
   "metadata": {},
   "source": [
    "---\n",
    "```python\n",
    "import turtle\n",
    "wn = turtle.Screen()\n",
    "wn.bgcolor(\"lightyellow\")\n",
    "bob = turtle.Turtle()\n",
    "bob.shape(\"turtle\")        # 화살표 대신 거북이 모양 선택\n",
    "bob.color(\"blue\")\n",
    "\n",
    "bob.penup()                # 펜 들기 (이동할 때 선을 그리지 않게 됨)\n",
    "size = 20\n",
    "for i in range(30):\n",
    "   bob.stamp()             # 거북이 모양 도장 찍기\n",
    "   size = size + 3         # 회전을 점차 크게 돌도록 만들기\n",
    "   bob.forward(size)       # size 크기만큼 전진하기\n",
    "   bob.right(24)           # 24도 우회전하기\n",
    "\n",
    "wn.mainloop()\n",
    "```\n",
    "---"
   ]
  },
  {
   "cell_type": "markdown",
   "metadata": {},
   "source": [
    "<p>\n",
    "<table cellspacing=\"20\">\n",
    "<tr>\n",
    "<td>\n",
    "<img src=\"images/turtle03.png\" style=\"width:400px\">\n",
    "</td>\n",
    "</tr>\n",
    "</table>\n",
    "</p>"
   ]
  },
  {
   "cell_type": "markdown",
   "metadata": {},
   "source": [
    "## 연습문제"
   ]
  },
  {
   "cell_type": "markdown",
   "metadata": {},
   "source": [
    "1. 아래 그림의 도형을 그리는 함수들을 구현하라.\n",
    "<p>\n",
    "<table cellspacing=\"20\">\n",
    "<tr>\n",
    "<td>\n",
    "<img src=\"images/turtle04.png\" style=\"width:400px\">\n",
    "</td>\n",
    "</tr>\n",
    "</table>\n",
    "</p>\n",
    "    힌트: 모범답안을 담고 있는 파이썬 코드가 \n",
    "    [여기](http://greenteapress.com/thinkpython2/code/pie.py)에 \n",
    "    있음.\n",
    "    <br><br>\n",
    "1. 아래 그림의 도형을 그리는 함수들을 구현하라.\n",
    "<p>\n",
    "<table cellspacing=\"20\">\n",
    "<tr>\n",
    "<td>\n",
    "<img src=\"images/turtle05.png\" style=\"width:450px\">\n",
    "</td>\n",
    "</tr>\n",
    "</table>\n",
    "</p>\n",
    "    힌트: 모범답안을 담고 있는 파이썬 코드가 \n",
    "    [여기](http://greenteapress.com/thinkpython2/code/letters.py)에 \n",
    "    있음. 단, 앞 링크에 있는 코드는 \n",
    "    [이곳](http://greenteapress.com/thinkpython2/code/polygon.py)의 \n",
    "    모듈을 불러와야 함."
   ]
  }
 ],
 "metadata": {
  "kernelspec": {
   "display_name": "Python 3",
   "language": "python",
   "name": "python3"
  },
  "language_info": {
   "codemirror_mode": {
    "name": "ipython",
    "version": 3
   },
   "file_extension": ".py",
   "mimetype": "text/x-python",
   "name": "python",
   "nbconvert_exporter": "python",
   "pygments_lexer": "ipython3",
   "version": "3.6.3"
  }
 },
 "nbformat": 4,
 "nbformat_minor": 2
}
