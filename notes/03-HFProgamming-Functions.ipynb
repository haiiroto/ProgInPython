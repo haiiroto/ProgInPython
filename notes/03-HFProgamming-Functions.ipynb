{
 "cells": [
  {
   "cell_type": "markdown",
   "metadata": {},
   "source": [
    "# 함수"
   ]
  },
  {
   "cell_type": "markdown",
   "metadata": {},
   "source": [
    "함수의 일반적인 소개와 개념 및 활용에 대한 설명은 [여기](https://github.com/liganega/bpp/blob/master/notes/03-ThinkPython-Functions.ipynb)를 참조할 것."
   ]
  },
  {
   "cell_type": "code",
   "execution_count": 35,
   "metadata": {},
   "outputs": [
    {
     "name": "stdout",
     "output_type": "stream",
     "text": [
      "현재 커피 원두콩 시세가 4.12 달러입니다.\n"
     ]
    }
   ],
   "source": [
    "import urllib.request\n",
    "import time             # 시간과 관련된 함수들의 모듈\n",
    "\n",
    "price = 5.0\n",
    "\n",
    "while price > 4.2:\n",
    "    time.sleep(1)       # 코드 실행을 1초 정지한다.\n",
    "    \n",
    "    page = urllib.request.urlopen(\"http://beans-r-us.appspot.com/prices-loyalty.html\")\n",
    "    text = page.read().decode(\"utf8\")\n",
    "    \n",
    "    where = text.find(\">$\") + 2\n",
    "    price = float(text[where : where + 4])\n",
    "    \n",
    "print(\"현재 커피 원두콩 시세가\", price, \"달러입니다.\")"
   ]
  },
  {
   "cell_type": "code",
   "execution_count": 34,
   "metadata": {},
   "outputs": [
    {
     "name": "stdout",
     "output_type": "stream",
     "text": [
      "지금 살까요? yes\n",
      "현재 커피 원두콩 시세가 4.73 달러입니다.\n"
     ]
    }
   ],
   "source": [
    "import urllib.request\n",
    "import time          \n",
    "\n",
    "answer = input(\"지금 살까요? \")    \n",
    "\n",
    "if answer == 'yes':\n",
    "    page = urllib.request.urlopen(\"http://beans-r-us.appspot.com/prices-loyalty.html\")\n",
    "    text = page.read().decode(\"utf8\")\n",
    "    where = text.find(\">$\") + 2\n",
    "    price = float(text[where : where + 4])\n",
    "\n",
    "    print(\"현재 커피 원두콩 시세가\", price, \"달러입니다.\")\n",
    "else:\n",
    "    price = 5.0\n",
    "    while price > 4.3:\n",
    "        time.sleep(1)\n",
    "        page = urllib.request.urlopen(\"http://beans-r-us.appspot.com/prices-loyalty.html\")\n",
    "        text = page.read().decode(\"utf8\")\n",
    "        where = text.find(\">$\") + 2\n",
    "        price = float(text[where : where + 4])\n",
    "    \n",
    "    print(\"현재 커피콩 시세가\", price, \"달러입니다. 지금 사세요.\")"
   ]
  },
  {
   "cell_type": "markdown",
   "metadata": {},
   "source": [
    "#### 코드중복 문제\n",
    "위 프로그램은 아래 코드 부분을 중복해서 사용하는 문제를 갖고 있다. \n",
    "```python\n",
    "page = urllib.request.urlopen(\"http://beans-r-us.appspot.com/prices-loyalty.html\")\n",
    "text = page.read().decode(\"utf8\")\n",
    "where = text.find(\">$\") + 2\n",
    "price = float(text[where : where + 4])\n",
    "```\n",
    "이런 문제를 해결하기 위해 위 코드에 이름을 주는 방법으로 추상화시킨다. \n",
    "즉, 함수로 정의함다.\n",
    "예를 들어, 위 코드를 아래와 같이 `get_price` 라는 함수로 정의할 수 있다. \n",
    "```python\n",
    "def get_price():\n",
    "    page = urllib.request.urlopen(\"http://beans-r-us.appspot.com/prices-loyalty.html\")\n",
    "    text = page.read().decode(\"utf8\")\n",
    "\n",
    "    where = text.find(\">$\") + 2\n",
    "    price = float(text[where : where + 4])\n",
    "```"
   ]
  },
  {
   "cell_type": "markdown",
   "metadata": {},
   "source": [
    "이제 프로그램을 좀 더 간결하게 구현할 수 있다."
   ]
  },
  {
   "cell_type": "code",
   "execution_count": 36,
   "metadata": {},
   "outputs": [
    {
     "name": "stdout",
     "output_type": "stream",
     "text": [
      "지금 살까요? yes\n",
      "현재 커피 원두콩 시세가 0 달러입니다.\n"
     ]
    }
   ],
   "source": [
    "import urllib.request\n",
    "import time          \n",
    "\n",
    "def get_price():\n",
    "    page = urllib.request.urlopen(\"http://beans-r-us.appspot.com/prices-loyalty.html\")\n",
    "    text = page.read().decode(\"utf8\")\n",
    "\n",
    "    where = text.find(\">$\") + 2\n",
    "    price = float(text[where : where + 4])\n",
    "\n",
    "\n",
    "answer = input(\"지금 살까요? \")    \n",
    "price = 0\n",
    "\n",
    "if answer == 'yes':\n",
    "    get_price()\n",
    "    print(\"현재 커피 원두콩 시세가\", price, \"달러입니다.\")\n",
    "else:\n",
    "    price = 5.0\n",
    "    while price > 4.1:\n",
    "        time.sleep(1)\n",
    "        get_price()\n",
    "    \n",
    "    print(\"현재 커피 원두콩 시세가\", price, \"달러입니다. 지금 사세요.\")"
   ]
  },
  {
   "cell_type": "markdown",
   "metadata": {},
   "source": [
    "그런데 위 프로그램을 실행하면 제대로 작동하지 않는다.\n",
    "* \"지금 살까요?\" 에 대한 답으로 yes를 입력하면 아래와 같이 출력된다.\n",
    "    > 현재 커피 원두콩 시세가 0 달러입니다.\n",
    "* \"지금 살까요?\" 에 대한 답으로 no를 입력하면 프로그램이 종료되지 않고 무한루프에 빠진다. \n",
    "\n",
    "왜 그럴까?    "
   ]
  }
 ],
 "metadata": {
  "kernelspec": {
   "display_name": "Python 3",
   "language": "python",
   "name": "python3"
  },
  "language_info": {
   "codemirror_mode": {
    "name": "ipython",
    "version": 3
   },
   "file_extension": ".py",
   "mimetype": "text/x-python",
   "name": "python",
   "nbconvert_exporter": "python",
   "pygments_lexer": "ipython3",
   "version": "3.6.4"
  }
 },
 "nbformat": 4,
 "nbformat_minor": 2
}
