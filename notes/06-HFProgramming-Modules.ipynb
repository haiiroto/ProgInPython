{
 "cells": [
  {
   "cell_type": "code",
   "execution_count": 2,
   "metadata": {},
   "outputs": [
    {
     "name": "stdout",
     "output_type": "stream",
     "text": [
      "점원: 주문 하실래요?\n",
      "손님: 뭐가 있나요?\n",
      "점원: 아래 항목들을 보시고 원하시는 번호를 기억하세요.\n",
      "============\n",
      "1. Donut\n",
      "2. Latte\n",
      "3. Filter\n",
      "4. Muffin\n",
      "5. Espresso\n",
      "6. 이상입니다.\n",
      "============\n",
      "점원: 몇 번 선택하실래요? 5\n",
      "특별한 날 확인: Y\n",
      "점원: 멤버십 카드 있으세요? Y\n",
      "점원: 신용카드 번호 알려주세요! 6666\n",
      "점원: 몇 번 선택하실래요? 6\n"
     ]
    }
   ],
   "source": [
    "'''\n",
    "커피숍의 POS(Point-of-Sale) 계산대에 사용되는 프로그램 구현하기\n",
    "\n",
    "- 카드 정보를 알고 있을 때 카드 정보와 물품 가격 및 정보를 파일에 저장하는 프로그램을 구현하고자 함\n",
    "- 사용할 정보: 카드 번호 16자리, 물품 가격 7자리, 물품 내용 6자리\n",
    "'''\n",
    "\n",
    "# 모듈 불러오기: transactions와 special\n",
    "# 커피숍과 커피숍1의 두 POS에서 공유하는 모듈 두 개임.\n",
    "from codes.transactions import *\n",
    "import codes.special\n",
    "\n",
    "# 커피숍의 상품 리스트\n",
    "items = [\"Donut\", \"Latte\", \"Filter\", \"Muffin\", \"Espresso\"]\n",
    "\n",
    "# 각 상품들의 가격 (단위: 달러)\n",
    "prices = [1.50, 2.2, 1.80, 1.20, 1.30]\n",
    "\n",
    "# 매장에서 파는 물품 목록 알려주기\n",
    "print(\"점원: 주문 하실래요?\")\n",
    "print(\"손님: 뭐가 있나요?\")\n",
    "print(\"점원: 아래 항목들을 보시고 원하시는 번호를 기억하세요.\")\n",
    "\n",
    "print(\"============\")\n",
    "option = 1\n",
    "for item in items:\n",
    "    print(str(option)+\". \"+item)\n",
    "    option += 1\n",
    "\n",
    "print(str(option)+\". \"+ \"이상입니다.\")\n",
    "print(\"============\")\n",
    "\n",
    "# 손님이 주문하기\n",
    "running = True                          # 아래 while 문이 실행되는 조건\n",
    "while running:\n",
    "    choice = int(input(\"점원: 몇 번 선택하실래요? \"))\n",
    "\n",
    "    if choice >= option:                # 주의: 현재 option = len(items) + 1\n",
    "        running = False                 # 물품 개수보다 큰 번호를 선택하면 주문 종료\n",
    "    else:                               # 특정 물품을 선택한 경우\n",
    "        item = items[choice -1]\n",
    "        price = prices[choice-1]\n",
    "\n",
    "        '''\n",
    "        # 중복할인 없음\n",
    "        if input(\"특별한 날 확인: \") == \"Y\":\n",
    "            price = special.discount(price)\n",
    "        elif input(\"점원: 멤버십 카드 있으세요? \") == \"Y\":\n",
    "            price = discount(price)\n",
    "        '''\n",
    "\n",
    "        # 중복할인 적용\n",
    "        if input(\"특별한 날 확인: \") == \"Y\":\n",
    "            price = codes.special.discount(price)\n",
    "        if input(\"점원: 멤버십 카드 있으세요? \") == \"Y\":\n",
    "            price = discount(price)\n",
    "\n",
    "        card_number = input(\"점원: 신용카드 번호 알려주세요! \")\n",
    "\n",
    "        # 주문내역 파일에 저장하기\n",
    "        save_transaction(card_number, price, item)"
   ]
  }
 ],
 "metadata": {
  "kernelspec": {
   "display_name": "Python 3",
   "language": "python",
   "name": "python3"
  },
  "language_info": {
   "codemirror_mode": {
    "name": "ipython",
    "version": 3
   },
   "file_extension": ".py",
   "mimetype": "text/x-python",
   "name": "python",
   "nbconvert_exporter": "python",
   "pygments_lexer": "ipython3",
   "version": "3.6.3"
  }
 },
 "nbformat": 4,
 "nbformat_minor": 2
}
