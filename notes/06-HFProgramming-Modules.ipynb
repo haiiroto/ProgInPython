{
 "cells": [
  {
   "cell_type": "markdown",
   "metadata": {},
   "source": [
    "# 6. 모듈 활용"
   ]
  },
  {
   "cell_type": "markdown",
   "metadata": {},
   "source": [
    "한 번 구현한 함수들을 여러 파일에서 공유하여 사용하면 프로그램을 보다 효율적으로 구현할 수 있다.\n",
    "이와 같이, 함수를 공유하기 위해 모듈을 활용한다.\n",
    "\n",
    "여기서는 두 커피숍에서 있는 두 대의 POS(Point-Of-Sale) 계산대에서 사용되는 프로그램을 \n",
    "모듈을 활용하여 신용카드 회사에 대금을 청구하는 코드를 공유하도록 구현하고자 한다."
   ]
  },
  {
   "cell_type": "markdown",
   "metadata": {},
   "source": [
    "## 커피숍1의 POS 프로그램\n",
    "\n",
    "아래 프로그램은 커피숍1의 POS에서 사용되는 프로그램이다.\n",
    "손님에게 선택할 수 있는 메뉴를 번호로 소개하고 손님이 메뉴를 선택할 때마다 선택메뉴와 가격, 신용카드 번호를 \n",
    "`transactions.txt` 파일에 추가한다.\n",
    "\n",
    "**주의사항**\n",
    "* 아래 코드는 `transactions.txt` 파일이 `codes` 라는 하위폴더에 저장되어 있음을 가정한다.\n",
    "* 가격(`price`)을 저장할 때 100을 곱하는 이유는 소수점을 없애기 위해서이다."
   ]
  },
  {
   "cell_type": "code",
   "execution_count": 1,
   "metadata": {},
   "outputs": [
    {
     "name": "stdout",
     "output_type": "stream",
     "text": [
      "점원: 아래 항목들을 보시고 원하시는 번호를 기억하세요.\n",
      "============\n",
      "1. Donut\n",
      "2. Latte\n",
      "3. Filter\n",
      "4. Muffin\n",
      "5. Espresso\n",
      "6. 이상입니다.\n",
      "============\n",
      "점원: 몇 번 선택하실래요? 1\n",
      "점원: 신용카드 번호 알려주세요! 1111222233334444\n",
      "점원: 몇 번 선택하실래요? 2\n",
      "점원: 신용카드 번호 알려주세요! 1111222233334444\n",
      "점원: 몇 번 선택하실래요? 6\n"
     ]
    }
   ],
   "source": [
    "'''\n",
    "커피숍1의 POS(Point-of-Sale) 계산대에 사용되는 프로그램 구현하기\n",
    "\n",
    "- 카드 정보를 알고 있을 때 카드 정보와 물품 가격 및 정보를 파일에 저장하는 프로그램을 구현하고자 함\n",
    "- 사용할 정보: 카드 번호 16자리, 물품 가격 7자리, 물품 내용 10자리\n",
    "'''\n",
    "\n",
    "# 커피숍의 상품 리스트\n",
    "items = [\"Donut\", \"Latte\", \"Filter\", \"Muffin\", \"Espresso\"]\n",
    "\n",
    "# 각 상품들의 가격 (단위: 달러)\n",
    "prices = [1.50, 2.2, 1.80, 1.20, 1.30]\n",
    "\n",
    "# 매장에서 파는 물품 목록 알려주기\n",
    "print(\"점원: 아래 항목들을 보시고 원하시는 번호를 기억하세요.\")\n",
    "\n",
    "print(\"============\")\n",
    "option = 1\n",
    "for item in items:\n",
    "    print(str(option)+\". \"+item)\n",
    "    option += 1\n",
    "\n",
    "print(str(option)+\". \"+ \"이상입니다.\")\n",
    "print(\"============\")\n",
    "\n",
    "# 손님이 주문하기\n",
    "running = True                          # 아래 while 문이 실행되는 조건\n",
    "while running:\n",
    "    choice = int(input(\"점원: 몇 번 선택하실래요? \"))\n",
    "\n",
    "    if choice >= option:                # 주의: 현재 option = len(items) + 1\n",
    "        running = False                 # 물품 개수보다 큰 번호를 선택하면 주문 종료\n",
    "    else:                               # 특정 물품을 선택한 경우\n",
    "        item = items[choice -1]\n",
    "        price = prices[choice-1]\n",
    "        \n",
    "        card_number = input(\"점원: 신용카드 번호 알려주세요! \")\n",
    "\n",
    "        # 주문내역 파일에 저장하기(codes 디렉토리에 파일 저장)\n",
    "        file = open(\"codes/transactions.txt\", \"a\")\n",
    "        file.write(\"%16s%07d%10s\\n\" % (card_number, price * 100, item))\n",
    "        file.close()"
   ]
  },
  {
   "cell_type": "markdown",
   "metadata": {},
   "source": [
    "위 코드의 실행결과로 `transactions.txt` 파일에 아래 내용으로 저장된다."
   ]
  },
  {
   "cell_type": "markdown",
   "metadata": {},
   "source": [
    "<p>\n",
    "<table cellspacing=\"20\">\n",
    "<tr>\n",
    "<td>\n",
    "<img src=\"images/transactions01.png\" style=\"width:600px\">\n",
    "</td>\n",
    "</tr>\n",
    "</table>\n",
    "</p>"
   ]
  },
  {
   "cell_type": "markdown",
   "metadata": {},
   "source": [
    "## 커피숍2의 POS 프로그램\n",
    "\n",
    "아래 프로그램은 커피숍2의 POS에서 사용되는 프로그램이다.\n",
    "\n",
    "**전제조건**\n",
    "* 커피숍1과 커피숍2는 주인이 동일하다.\n",
    "* 거래내역 정리는 앞서 사용한 `transactions.txt` 파일을 사용한다.\n",
    "\n",
    "따라서 아래 프로그램은 메뉴와 메뉴별 가격만이 다를 뿐 나머지는 동일하다."
   ]
  },
  {
   "cell_type": "code",
   "execution_count": 2,
   "metadata": {},
   "outputs": [
    {
     "name": "stdout",
     "output_type": "stream",
     "text": [
      "점원: 아래 항목들을 보시고 원하시는 번호를 기억하세요.\n",
      "============\n",
      "1. Donut1\n",
      "2. Latte1\n",
      "3. Filter1\n",
      "4. Muffin1\n",
      "5. Espresso1\n",
      "6. Bagle1\n",
      "7. 이상입니다.\n",
      "============\n",
      "점원: 몇 번 선택하실래요? 6\n",
      "점원: 신용카드 번호 알려주세요! 4444333322221111\n",
      "점원: 몇 번 선택하실래요? 5\n",
      "점원: 신용카드 번호 알려주세요! 4444333322221111\n",
      "점원: 몇 번 선택하실래요? 4\n",
      "점원: 신용카드 번호 알려주세요! 4444333322221111\n",
      "점원: 몇 번 선택하실래요? 7\n"
     ]
    }
   ],
   "source": [
    "'''\n",
    "커피숍2의 POS(Point-of-Sale) 계산대에 사용되는 프로그램 구현하기\n",
    "\n",
    "- 카드 정보를 알고 있을 때 카드 정보와 물품 가격 및 정보를 파일에 저장하는 프로그램을 구현하고자 함\n",
    "- 사용할 정보: 카드 번호 16자리, 물품 가격 7자리, 물품 내용 10자리\n",
    "'''\n",
    "\n",
    "# 커피숍1의 상품 리스트\n",
    "items = [\"Donut1\", \"Latte1\", \"Filter1\", \"Muffin1\", \"Espresso1\", \"Bagle1\"]\n",
    "\n",
    "# 각 상품들의 가격 (단위: 달러)\n",
    "prices = [1.40, 2.6, 1.90, 1.10, 1.20, 1.5]\n",
    "\n",
    "# 매장에서 파는 물품 목록 알려주기\n",
    "print(\"점원: 아래 항목들을 보시고 원하시는 번호를 기억하세요.\")\n",
    "\n",
    "print(\"============\")\n",
    "option = 1\n",
    "for item in items:\n",
    "    print(str(option)+\". \"+item)\n",
    "    option += 1\n",
    "\n",
    "print(str(option)+\". \"+ \"이상입니다.\")\n",
    "print(\"============\")\n",
    "\n",
    "# 손님이 주문하기\n",
    "running = True                          # 아래 while 문이 실행되는 조건\n",
    "while running:\n",
    "    choice = int(input(\"점원: 몇 번 선택하실래요? \"))\n",
    "\n",
    "    if choice >= option:                # 주의: 현재 option = len(items) + 1\n",
    "        running = False                 # 물품 개수보다 큰 번호를 선택하면 주문 종료\n",
    "    else:                               # 특정 물품을 선택한 경우\n",
    "        item = items[choice -1]\n",
    "        price = prices[choice-1]\n",
    "        \n",
    "        card_number = input(\"점원: 신용카드 번호 알려주세요! \")\n",
    "\n",
    "        # 주문내역 파일에 저장하기(codes 디렉토리에 파일 저장)\n",
    "        file = open(\"codes/transactions.txt\", \"a\")\n",
    "        file.write(\"%16s%07d%10s\\n\" % (card_number, price * 100, item))\n",
    "        file.close()"
   ]
  },
  {
   "cell_type": "markdown",
   "metadata": {},
   "source": [
    "위 코드의 실행결과로 `transactions.txt` 파일에 3줄이 추가 된 것을 아래 그림에서 확인할 수 있다.\n",
    "\n",
    "**주의:** 메뉴 이름에 숫자 1이 붙어 있다는 것은 커피숍2에서 주문한 내역이라는 것을 의미한다."
   ]
  },
  {
   "cell_type": "markdown",
   "metadata": {},
   "source": [
    "<p>\n",
    "<table cellspacing=\"20\">\n",
    "<tr>\n",
    "<td>\n",
    "<img src=\"images/transactions02.png\" style=\"width:600px\">\n",
    "</td>\n",
    "</tr>\n",
    "</table>\n",
    "</p>"
   ]
  },
  {
   "cell_type": "markdown",
   "metadata": {},
   "source": [
    "## 코드 중복 피하기: 모듈 활용"
   ]
  },
  {
   "cell_type": "markdown",
   "metadata": {},
   "source": [
    "커피숍1의 POS와 커피숍2의 POS는 거래내역을 `codes` 디렉토리에 포함된 `transactions.txt` 파일에 저장한다.\n",
    "이와 같이 \"거래내역을 `codes/transactions.txt` 파일에 저장하라\" 는 명령은 두 프로그램에서 중복되어\n",
    "사용된다.\n",
    "\n",
    "이와 같은 경우 중복을 피하기 위해 보통 함수와 모듈을 추상화 작업을 진행한다."
   ]
  },
  {
   "cell_type": "markdown",
   "metadata": {},
   "source": [
    "### 함수 사용"
   ]
  },
  {
   "cell_type": "markdown",
   "metadata": {},
   "source": [
    "\"거래내역을 codes/transactions.txt 파일에 저장하라\"는 코드는 다음과 같다.\n",
    "\n",
    "```python\n",
    "file = open(\"codes/transactions.txt\", \"a\")\n",
    "    file.write(\"%16s%7d%6s\\n\" % (card_number, price * 100, item))\n",
    "    file.close()\n",
    "```\n",
    "\n",
    "따라서 위 코드를 `save_transactions` 함수로 지정하도록 하자.\n",
    "특정 코드를 함수로 정의하기 위해서는 아래 과정을 밟아야 한다.\n",
    "\n",
    "1. 함수로 정의할 코드 지정하기\n",
    "    * 예: 여기서는 앞서 언급한 코드를 사용\n",
    "1. 지정된 코드에 이름 주기\n",
    "    * 예: `save_transaction` 이름 사용\n",
    "1. 함수에 사용될 인자 개수 및 매개변수 지정하기\n",
    "    * 예: 인자 3개(card_number, price, item)\n",
    "1. 함수가 리턴할 값 지정하기\n",
    "    * 예: None(거래내역을 기존에 있는 파일에 저장하는 용도로 사용하기 때문)"
   ]
  },
  {
   "cell_type": "markdown",
   "metadata": {},
   "source": [
    "위 과정을 밟으면 `save_transaction` 함수를 아래와 같이 정의할 수 있다.\n",
    "\n",
    "```python\n",
    "def save_transaction(card_number, price, item):\n",
    "    file = open(\"codes/transactions.txt\", \"a\")\n",
    "    file.write(\"%16s%7d%6s\\n\" % (card_number, price * 100, item))\n",
    "    file.close()\n",
    "```    "
   ]
  },
  {
   "cell_type": "markdown",
   "metadata": {},
   "source": [
    "**주의:** `price` 매개변수를 통해 가격이 인자로 들어오면 그 가격에 100을 곱한 값이 파일에 저장되도록 하였다."
   ]
  },
  {
   "cell_type": "markdown",
   "metadata": {},
   "source": [
    "### 모듈 사용"
   ]
  },
  {
   "cell_type": "markdown",
   "metadata": {},
   "source": [
    "`save_transaction` 함수를 두 개의 POS 에서 공유하도록 하려면 `save_transaction` 함수를\n",
    "독립된 파일에 저장해야 한다.\n",
    "\n",
    "**주의사항**\n",
    "* 위 함수가 `codes` 디렉토리의 `transactions.py` 파일에 저장되었다고 가정한다.\n",
    "* `codes` 디렉토리에 `__init__.py` 파일이 생성되어 있어야 한다. \n",
    "    내용은 비어있어도 된다."
   ]
  },
  {
   "cell_type": "markdown",
   "metadata": {},
   "source": [
    "<p>\n",
    "<table cellspacing=\"20\">\n",
    "<tr>\n",
    "<td>\n",
    "<img src=\"images/transactions03.png\" style=\"width:600px\">\n",
    "</td>\n",
    "</tr>\n",
    "</table>\n",
    "</p>"
   ]
  },
  {
   "cell_type": "markdown",
   "metadata": {},
   "source": [
    "이제 두 매장에서 사용하는 코드는 아래와 같이 모듈을 불러오는 형식으로 구현될 수 있다.\n",
    "\n",
    "* `transactions` 모듈에 포함되어 있는 모든 함수를 모듈 이름을 지정하지 않고 사용하기 위해 아래와 같이 불러온다.\n",
    "\n",
    "```python\n",
    "from codes.transaction import *\n",
    "```\n",
    "\n",
    "__주의:__ 만약에 `transactions.py` 파일이 현재 작업디렉토리에 있다면 아래와 같이 불러온다.\n",
    "\n",
    "```python\n",
    "from transaction import *\n",
    "```"
   ]
  },
  {
   "cell_type": "markdown",
   "metadata": {},
   "source": [
    "* 커피숍1"
   ]
  },
  {
   "cell_type": "code",
   "execution_count": 3,
   "metadata": {},
   "outputs": [
    {
     "name": "stdout",
     "output_type": "stream",
     "text": [
      "점원: 아래 항목들을 보시고 원하시는 번호를 기억하세요.\n",
      "============\n",
      "1. Donut\n",
      "2. Latte\n",
      "3. Filter\n",
      "4. Muffin\n",
      "5. Espresso\n",
      "6. 이상입니다.\n",
      "============\n",
      "점원: 몇 번 선택하실래요? 3\n",
      "점원: 신용카드 번호 알려주세요! 5555666677778888\n",
      "점원: 몇 번 선택하실래요? 6\n"
     ]
    }
   ],
   "source": [
    "'''\n",
    "커피숍1의 POS(Point-of-Sale) 계산대에 사용되는 프로그램 구현하기\n",
    "\n",
    "- 카드 정보를 알고 있을 때 카드 정보와 물품 가격 및 정보를 파일에 저장하는 프로그램을 구현하고자 함\n",
    "- 사용할 정보: 카드 번호 16자리, 물품 가격 7자리, 물품 내용 10자리\n",
    "'''\n",
    "\n",
    "# transactions.py 모듈 불러오기\n",
    "from codes.transactions import *           # 모듈에 포함된 모든 함수 불러오기\n",
    "\n",
    "# 커피숍의 상품 리스트\n",
    "items = [\"Donut\", \"Latte\", \"Filter\", \"Muffin\", \"Espresso\"]\n",
    "\n",
    "# 각 상품들의 가격 (단위: 달러)\n",
    "prices = [1.50, 2.2, 1.80, 1.20, 1.30]\n",
    "\n",
    "# 매장에서 파는 물품 목록 알려주기\n",
    "print(\"점원: 아래 항목들을 보시고 원하시는 번호를 기억하세요.\")\n",
    "\n",
    "print(\"============\")\n",
    "option = 1\n",
    "for item in items:\n",
    "    print(str(option)+\". \"+item)\n",
    "    option += 1\n",
    "\n",
    "print(str(option)+\". \"+ \"이상입니다.\")\n",
    "print(\"============\")\n",
    "\n",
    "# 손님이 주문하기\n",
    "running = True                          # 아래 while 문이 실행되는 조건\n",
    "while running:\n",
    "    choice = int(input(\"점원: 몇 번 선택하실래요? \"))\n",
    "\n",
    "    if choice >= option:                # 주의: 현재 option = len(items) + 1\n",
    "        running = False                 # 물품 개수보다 큰 번호를 선택하면 주문 종료\n",
    "    else:                               # 특정 물품을 선택한 경우\n",
    "        item = items[choice -1]\n",
    "        price = prices[choice-1]\n",
    "        \n",
    "        card_number = input(\"점원: 신용카드 번호 알려주세요! \")\n",
    "\n",
    "        # 주문내역 파일에 저장하기(codes 디렉토리에 파일 저장)\n",
    "        save_transaction(card_number, price, item)"
   ]
  },
  {
   "cell_type": "markdown",
   "metadata": {},
   "source": [
    "<p>\n",
    "<table cellspacing=\"20\">\n",
    "<tr>\n",
    "<td>\n",
    "<img src=\"images/transactions04.png\" style=\"width:600px\">\n",
    "</td>\n",
    "</tr>\n",
    "</table>\n",
    "</p>"
   ]
  },
  {
   "cell_type": "markdown",
   "metadata": {},
   "source": [
    "* 커피숍2"
   ]
  },
  {
   "cell_type": "code",
   "execution_count": 4,
   "metadata": {},
   "outputs": [
    {
     "name": "stdout",
     "output_type": "stream",
     "text": [
      "점원: 아래 항목들을 보시고 원하시는 번호를 기억하세요.\n",
      "============\n",
      "1. Donut1\n",
      "2. Latte1\n",
      "3. Filter1\n",
      "4. Muffin1\n",
      "5. Espresso1\n",
      "6. Bagle1\n",
      "7. 이상입니다.\n",
      "============\n",
      "점원: 몇 번 선택하실래요? 2\n",
      "점원: 신용카드 번호 알려주세요! 8888777766665555\n",
      "점원: 몇 번 선택하실래요? 7\n"
     ]
    }
   ],
   "source": [
    "'''\n",
    "커피숍2의 POS(Point-of-Sale) 계산대에 사용되는 프로그램 구현하기\n",
    "\n",
    "- 카드 정보를 알고 있을 때 카드 정보와 물품 가격 및 정보를 파일에 저장하는 프로그램을 구현하고자 함\n",
    "- 사용할 정보: 카드 번호 16자리, 물품 가격 7자리, 물품 내용 10자리\n",
    "'''\n",
    "\n",
    "# transactions.py 모듈 불러오기\n",
    "from codes.transactions import *           # 모듈에 포함된 모든 함수 불러오기\n",
    "\n",
    "# 커피숍1의 상품 리스트\n",
    "items = [\"Donut1\", \"Latte1\", \"Filter1\", \"Muffin1\", \"Espresso1\", \"Bagle1\"]\n",
    "\n",
    "# 각 상품들의 가격 (단위: 달러)\n",
    "prices = [1.40, 2.6, 1.90, 1.10, 1.20, 1.5]\n",
    "\n",
    "# 매장에서 파는 물품 목록 알려주기\n",
    "print(\"점원: 아래 항목들을 보시고 원하시는 번호를 기억하세요.\")\n",
    "\n",
    "print(\"============\")\n",
    "option = 1\n",
    "for item in items:\n",
    "    print(str(option)+\". \"+item)\n",
    "    option += 1\n",
    "\n",
    "print(str(option)+\". \"+ \"이상입니다.\")\n",
    "print(\"============\")\n",
    "\n",
    "# 손님이 주문하기\n",
    "running = True                          # 아래 while 문이 실행되는 조건\n",
    "while running:\n",
    "    choice = int(input(\"점원: 몇 번 선택하실래요? \"))\n",
    "\n",
    "    if choice >= option:                # 주의: 현재 option = len(items) + 1\n",
    "        running = False                 # 물품 개수보다 큰 번호를 선택하면 주문 종료\n",
    "    else:                               # 특정 물품을 선택한 경우\n",
    "        item = items[choice -1]\n",
    "        price = prices[choice-1]\n",
    "        \n",
    "        card_number = input(\"점원: 신용카드 번호 알려주세요! \")\n",
    "\n",
    "        # 주문내역 파일에 저장하기(codes 디렉토리에 파일 저장)\n",
    "        save_transaction(card_number, price, item)"
   ]
  },
  {
   "cell_type": "markdown",
   "metadata": {},
   "source": [
    "<p>\n",
    "<table cellspacing=\"20\">\n",
    "<tr>\n",
    "<td>\n",
    "<img src=\"images/transactions05.png\" style=\"width:600px\">\n",
    "</td>\n",
    "</tr>\n",
    "</table>\n",
    "</p>"
   ]
  },
  {
   "cell_type": "markdown",
   "metadata": {},
   "source": [
    "## 함수 이름 충돌 피하기\n",
    "\n",
    "멤버십 카드를 가지고 있는 사람들에게 10% 할인혜택을 주고자 한다면 예를 들어 다음 코드를 사용할 수 있다.\n",
    "\n",
    "```python\n",
    "def discount_10(price):\n",
    "    return price * 0.9         # 10% 할인\n",
    "```\n",
    "\n",
    "반면에 특별한 날 모든 손님에게 20% 할인혜택을 주고자 할 때도 가격을 낮추는 함수를 사용할 수 있다.\n",
    "\n",
    "```python\n",
    "def discount_20(price):\n",
    "    return price * 0.8         # 20% 할인\n",
    "```\n",
    "\n",
    "하지만 위와 같이 함수 이름을 매번 달리 하면서 코딩을 하면 여러 모로 불편하다. \n",
    "무엇보다도 사실상 동일한 일을 수행하는 함수를 매번 다른 이름을 주면 \n",
    "나중에 프로그램을 관리하거나 수정할 때 불편하다."
   ]
  },
  {
   "cell_type": "markdown",
   "metadata": {},
   "source": [
    "그렇다고 해서 아래와 같이 동일한 이름을 사용하면 문제가 발생할 수 있다.\n",
    "\n",
    "```python\n",
    "def discount(price):\n",
    "    return price * 0.9         # 10% 할인\n",
    "\n",
    "def discount(price):\n",
    "    return price * 0.8         # 20% 할인\n",
    "```\n",
    "\n",
    "위와 같이 하면 `discount` 함수가 호출될 때 가격을 무조건 20% 할인한다.\n",
    "\n",
    "이런 문제를 해결하기 위해서는 두 함수를 서로 다른 모듈에 저장하는 것이다.\n",
    "예를 들어, 멤버십 할인함수는 앞서 언급한 `transactions.py` 모듈에 저장하고\n",
    "특별한 날 할인행사용 함수는 `codes` 디렉토리의 `special.py` 모듈에 저장하도록 하자."
   ]
  },
  {
   "cell_type": "markdown",
   "metadata": {},
   "source": [
    "<p>\n",
    "<table cellspacing=\"20\">\n",
    "<tr>\n",
    "<td>\n",
    "<img src=\"images/transactions06.png\" style=\"width:600px\">\n",
    "</td>\n",
    "</tr>\n",
    "</table>\n",
    "</p>"
   ]
  },
  {
   "cell_type": "markdown",
   "metadata": {},
   "source": [
    "<p>\n",
    "<table cellspacing=\"20\">\n",
    "<tr>\n",
    "<td>\n",
    "<img src=\"images/transactions07.png\" style=\"width:600px\">\n",
    "</td>\n",
    "</tr>\n",
    "</table>\n",
    "</p>"
   ]
  },
  {
   "cell_type": "markdown",
   "metadata": {},
   "source": [
    "이제 멤버십 할인과 특별한 날 할인행사를 지원하는 코드를 아래와 같이 작성할 수 있다.\n",
    "`special` 모듈을 불러올 때 `transactions` 모듈을 불러오는 방식과는 다른 방식을 사용해야 한다. 즉,\n",
    "\n",
    "```python\n",
    "import coses.special\n",
    "```\n",
    "\n",
    "이렇게 하면 `special` 모듈에 포함된 `discount` 함수를 호출할 때 모듈이름을 함께 사용해야 한다.\n",
    "\n",
    "```python\n",
    "codes.special.discount(price)\n",
    "```"
   ]
  },
  {
   "cell_type": "markdown",
   "metadata": {},
   "source": [
    "__주의:__ 만약에 `special.py` 파일이 현재 작업디렉토리에 있다면 \n",
    "모듈을 불러오고 포함된 함수를 호출하는 방식은 다음과 같다.\n",
    "\n",
    "```python\n",
    "import special\n",
    "special.discount(price)\n",
    "```"
   ]
  },
  {
   "cell_type": "markdown",
   "metadata": {},
   "source": [
    "아래 코드는 커피숍1에서 `Donut`을 구입할 때 특별한 날 할인, 멤버십 할인 여부를 확인하여\n",
    "경우에 따라 동일한 제품을 다른 가격으로 판매되는 것을 보여준다.\n",
    "\n",
    "**주의:** 중복할인을 __지원하지 않는__ 코드이다."
   ]
  },
  {
   "cell_type": "code",
   "execution_count": 7,
   "metadata": {},
   "outputs": [
    {
     "name": "stdout",
     "output_type": "stream",
     "text": [
      "점원: 아래 항목들을 보시고 원하시는 번호를 기억하세요.\n",
      "============\n",
      "1. Donut\n",
      "2. Latte\n",
      "3. Filter\n",
      "4. Muffin\n",
      "5. Espresso\n",
      "6. 이상입니다.\n",
      "============\n",
      "점원: 몇 번 선택하실래요? 1\n",
      "특별한 날 확인: Y\n",
      "점원: 신용카드 번호 알려주세요! 1111222233334444\n",
      "점원: 몇 번 선택하실래요? 1\n",
      "특별한 날 확인: N\n",
      "점원: 멤버십 카드 있으세요? Y\n",
      "점원: 신용카드 번호 알려주세요! 1111222233334444\n",
      "점원: 몇 번 선택하실래요? 1\n",
      "특별한 날 확인: N\n",
      "점원: 멤버십 카드 있으세요? N\n",
      "점원: 신용카드 번호 알려주세요! 2222333344445555\n",
      "점원: 몇 번 선택하실래요? 6\n"
     ]
    }
   ],
   "source": [
    "'''\n",
    "커피숍1의 POS(Point-of-Sale) 계산대에 사용되는 프로그램 구현하기\n",
    "\n",
    "- 카드 정보를 알고 있을 때 카드 정보와 물품 가격 및 정보를 파일에 저장하는 프로그램을 구현하고자 함\n",
    "- 사용할 정보: 카드 번호 16자리, 물품 가격 7자리, 물품 내용 10자리\n",
    "'''\n",
    "\n",
    "# transactions.py 모듈 불러오기\n",
    "from codes.transactions import *           # 모듈에 포함된 모든 함수 불러오기\n",
    "\n",
    "# special.py 모듈 불러오기\n",
    "import codes.special                       # transactions 모듈과 다른 방식으로 불러오기\n",
    "\n",
    "# 커피숍의 상품 리스트\n",
    "items = [\"Donut\", \"Latte\", \"Filter\", \"Muffin\", \"Espresso\"]\n",
    "\n",
    "# 각 상품들의 가격 (단위: 달러)\n",
    "prices = [1.50, 2.2, 1.80, 1.20, 1.30]\n",
    "\n",
    "# 매장에서 파는 물품 목록 알려주기\n",
    "print(\"점원: 아래 항목들을 보시고 원하시는 번호를 기억하세요.\")\n",
    "\n",
    "print(\"============\")\n",
    "option = 1\n",
    "for item in items:\n",
    "    print(str(option)+\". \"+item)\n",
    "    option += 1\n",
    "\n",
    "print(str(option)+\". \"+ \"이상입니다.\")\n",
    "print(\"============\")\n",
    "\n",
    "# 손님이 주문하기\n",
    "running = True                          # 아래 while 문이 실행되는 조건\n",
    "while running:\n",
    "    choice = int(input(\"점원: 몇 번 선택하실래요? \"))\n",
    "\n",
    "    if choice >= option:                # 주의: 현재 option = len(items) + 1\n",
    "        running = False                 # 물품 개수보다 큰 번호를 선택하면 주문 종료\n",
    "    else:                               # 특정 물품을 선택한 경우\n",
    "        item = items[choice -1]\n",
    "        price = prices[choice-1]\n",
    "\n",
    "        # 중복할인 없음\n",
    "        if input(\"특별한 날 확인: \") == \"Y\":\n",
    "            price = codes.special.discount(price)\n",
    "        elif input(\"점원: 멤버십 카드 있으세요? \") == \"Y\":\n",
    "            price = discount(price)\n",
    "\n",
    "        '''\n",
    "        # 중복할인 적용\n",
    "        if input(\"특별한 날 확인: \") == \"Y\":\n",
    "            price = special.discount(price)\n",
    "        if input(\"점원: 멤버십 카드 있으세요? \") == \"Y\":\n",
    "            price = discount(price)\n",
    "        '''\n",
    "        \n",
    "        card_number = input(\"점원: 신용카드 번호 알려주세요! \")\n",
    "\n",
    "        # 주문내역 파일에 저장하기(codes 디렉토리에 파일 저장)\n",
    "        save_transaction(card_number, price, item)"
   ]
  },
  {
   "cell_type": "markdown",
   "metadata": {},
   "source": [
    "<p>\n",
    "<table cellspacing=\"20\">\n",
    "<tr>\n",
    "<td>\n",
    "<img src=\"images/transactions08.png\" style=\"width:600px\">\n",
    "</td>\n",
    "</tr>\n",
    "</table>\n",
    "</p>"
   ]
  },
  {
   "cell_type": "markdown",
   "metadata": {},
   "source": [
    "`transactions` 모듈과 `special` 모듈 모두 동일한 방식으로 불러오려면 \n",
    "`transactions` 모듈을 `special` 모듈을 불러오는 방식으로 하면 된다.\n",
    "\n",
    "아래 코드는 커피숍1에서 Donut을 구입할 때 특별한 날 할인, 멤버십 할인 여부를 확인하여 경우에 따라 동일한 제품을 다른 가격으로 판매되는 것을 보여준다.\n",
    "\n",
    "**주의:** 중복할인을 __지원하는__ 코드이다."
   ]
  },
  {
   "cell_type": "code",
   "execution_count": 11,
   "metadata": {},
   "outputs": [
    {
     "name": "stdout",
     "output_type": "stream",
     "text": [
      "점원: 아래 항목들을 보시고 원하시는 번호를 기억하세요.\n",
      "============\n",
      "1. Donut\n",
      "2. Latte\n",
      "3. Filter\n",
      "4. Muffin\n",
      "5. Espresso\n",
      "6. 이상입니다.\n",
      "============\n",
      "점원: 몇 번 선택하실래요? 1\n",
      "특별한 날 확인: Y\n",
      "점원: 멤버십 카드 있으세요? Y\n",
      "점원: 신용카드 번호 알려주세요! 1111222233334444\n",
      "점원: 몇 번 선택하실래요? 1\n",
      "특별한 날 확인: Y\n",
      "점원: 멤버십 카드 있으세요? N\n",
      "점원: 신용카드 번호 알려주세요! 2222333344445555\n",
      "점원: 몇 번 선택하실래요? 1\n",
      "특별한 날 확인: N\n",
      "점원: 멤버십 카드 있으세요? N\n",
      "점원: 신용카드 번호 알려주세요! 3333444455556666\n",
      "점원: 몇 번 선택하실래요? 6\n"
     ]
    }
   ],
   "source": [
    "'''\n",
    "커피숍1의 POS(Point-of-Sale) 계산대에 사용되는 프로그램 구현하기\n",
    "\n",
    "- 카드 정보를 알고 있을 때 카드 정보와 물품 가격 및 정보를 파일에 저장하는 프로그램을 구현하고자 함\n",
    "- 사용할 정보: 카드 번호 16자리, 물품 가격 7자리, 물품 내용 10자리\n",
    "'''\n",
    "\n",
    "# transactions.py 모듈 불러오기\n",
    "import codes.transactions                  # special 모듈과 동일한 방식으로 불러오기\n",
    "\n",
    "# special.py 모듈 불러오기\n",
    "import codes.special\n",
    "\n",
    "# 커피숍의 상품 리스트\n",
    "items = [\"Donut\", \"Latte\", \"Filter\", \"Muffin\", \"Espresso\"]\n",
    "\n",
    "# 각 상품들의 가격 (단위: 달러)\n",
    "prices = [1.50, 2.2, 1.80, 1.20, 1.30]\n",
    "\n",
    "# 매장에서 파는 물품 목록 알려주기\n",
    "print(\"점원: 아래 항목들을 보시고 원하시는 번호를 기억하세요.\")\n",
    "\n",
    "print(\"============\")\n",
    "option = 1\n",
    "for item in items:\n",
    "    print(str(option)+\". \"+item)\n",
    "    option += 1\n",
    "\n",
    "print(str(option)+\". \"+ \"이상입니다.\")\n",
    "print(\"============\")\n",
    "\n",
    "# 손님이 주문하기\n",
    "running = True                          # 아래 while 문이 실행되는 조건\n",
    "while running:\n",
    "    choice = int(input(\"점원: 몇 번 선택하실래요? \"))\n",
    "\n",
    "    if choice >= option:                # 주의: 현재 option = len(items) + 1\n",
    "        running = False                 # 물품 개수보다 큰 번호를 선택하면 주문 종료\n",
    "    else:                               # 특정 물품을 선택한 경우\n",
    "        item = items[choice -1]\n",
    "        price = prices[choice-1]\n",
    "\n",
    "        '''\n",
    "        # 중복할인 없음\n",
    "        if input(\"특별한 날 확인: \") == \"Y\":\n",
    "            price = codes.special.discount(price)\n",
    "        elif input(\"점원: 멤버십 카드 있으세요? \") == \"Y\":\n",
    "            price = codes.transactions.discount(price)                  # 모듈 이름 추가\n",
    "        '''\n",
    "\n",
    "        # 중복할인 적용\n",
    "        if input(\"특별한 날 확인: \") == \"Y\":\n",
    "            price = codes.special.discount(price)\n",
    "        if input(\"점원: 멤버십 카드 있으세요? \") == \"Y\":\n",
    "            price = codes.transactions.discount(price)\n",
    "        \n",
    "        card_number = input(\"점원: 신용카드 번호 알려주세요! \")\n",
    "\n",
    "        # 주문내역 파일에 저장하기(codes 디렉토리에 파일 저장)\n",
    "        codes.transactions.save_transaction(card_number, price, item)   # 모듈 이름 추가"
   ]
  },
  {
   "cell_type": "markdown",
   "metadata": {},
   "source": [
    "<p>\n",
    "<table cellspacing=\"20\">\n",
    "<tr>\n",
    "<td>\n",
    "<img src=\"images/transactions09.png\" style=\"width:600px\">\n",
    "</td>\n",
    "</tr>\n",
    "</table>\n",
    "</p>"
   ]
  }
 ],
 "metadata": {
  "kernelspec": {
   "display_name": "Python 3",
   "language": "python",
   "name": "python3"
  },
  "language_info": {
   "codemirror_mode": {
    "name": "ipython",
    "version": 3
   },
   "file_extension": ".py",
   "mimetype": "text/x-python",
   "name": "python",
   "nbconvert_exporter": "python",
   "pygments_lexer": "ipython3",
   "version": "3.6.3"
  }
 },
 "nbformat": 4,
 "nbformat_minor": 2
}
