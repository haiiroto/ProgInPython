{
 "cells": [
  {
   "cell_type": "markdown",
   "metadata": {},
   "source": [
    "# 클래스의 변수와 메소드"
   ]
  },
  {
   "cell_type": "markdown",
   "metadata": {},
   "source": [
    "클래스 포함되는 코드는 기본적은 변수 선언과 함수 정의로 구성된다.\n",
    "[이전](https://github.com/liganega/bpp/blob/master/notes/08-ThinkPython-OOP_02-Class_and_Instance.ipynb)에\n",
    "다루어떤 `Character` 클래스를 다시 살펴보자.\n",
    "\n",
    "---\n",
    "```python\n",
    "class Character(object):\n",
    "    \n",
    "    def __init__(self, name, health, damage, inventory):\n",
    "        print(\"제 이름은 %s입니다\" % name)\n",
    "        print(\"현재 저의 체력은 %s입니다.\" % health)\n",
    "        print(\"저는 공격할 때마다 상대방에게 %s만큼의 손상을 줍니다.\" % damage)\n",
    "        print(\"제 수트의 방어력은 %d이며 사용하는 무기는 %s입니다.\" % \\\n",
    "              (inventory['suit'], inventory['weapon']))\n",
    "```\n",
    "---\n",
    "\n",
    "현재 상태의 `Character` 클래스에서는 생성자 메소드 이외에 어떠한 변수 또는 함수가 정의되어 있지 않다.\n",
    "이런 경우, 인스턴스를 생성한다 해도 생성된 캐릭터는 자기 소개 이외에 달리 할 수 있는 일이 없다.\n",
    "이제 기능을 하나씩 추가해보자."
   ]
  },
  {
   "cell_type": "markdown",
   "metadata": {},
   "source": [
    "## 인스턴스 변수"
   ]
  },
  {
   "cell_type": "markdown",
   "metadata": {},
   "source": [
    "먼저 자기 이름을 밝히라고 할 때 이름을 말하는 기능을 추가해보자.\n",
    "그러려면 `Character` 클래스 내부에, 예를 들어 `nameCall` 이라는 캐릭터이름을 말하는 메소드가 추가되어야 한다.\n",
    "\n",
    "아래와 같이 시도해 보자."
   ]
  },
  {
   "cell_type": "code",
   "execution_count": 3,
   "metadata": {},
   "outputs": [],
   "source": [
    "class Character(object):\n",
    "    \n",
    "    def __init__(self, name, health, damage, inventory):\n",
    "        print(\"제 이름은 %s입니다\" % name)\n",
    "        print(\"현재 저의 체력은 %s입니다.\" % health)\n",
    "        print(\"저는 공격할 때마다 상대방에게 %s만큼의 손상을 줍니다.\" % damage)\n",
    "        print(\"제 수트의 방어력은 %d이며 사용하는 무기는 %s입니다.\" % \\\n",
    "              (inventory['suit'], inventory['weapon']))\n",
    "\n",
    "    def nameCall(self):\n",
    "        print(\"제 이름은 %s입니다.\" % name)"
   ]
  },
  {
   "cell_type": "markdown",
   "metadata": {},
   "source": [
    "즉, `nameCall` 메소드를 호출하면 `name` 변수에 할당된 값을 출력해야 한다.\n",
    "\n",
    "이제 `ironman` 인스턴스를 생성해서 이름을 말하라고 명령을 내려보자."
   ]
  },
  {
   "cell_type": "code",
   "execution_count": 4,
   "metadata": {},
   "outputs": [
    {
     "name": "stdout",
     "output_type": "stream",
     "text": [
      "제 이름은 아이언맨입니다\n",
      "현재 저의 체력은 100입니다.\n",
      "저는 공격할 때마다 상대방에게 200만큼의 손상을 줍니다.\n",
      "제 수트의 방어력은 500이며 사용하는 무기는 레이저입니다.\n"
     ]
    }
   ],
   "source": [
    "ironman = Character('아이언맨', 100, 200, {'suit': 500, 'weapon': '레이저'})"
   ]
  },
  {
   "cell_type": "code",
   "execution_count": 5,
   "metadata": {},
   "outputs": [
    {
     "ename": "NameError",
     "evalue": "name 'name' is not defined",
     "output_type": "error",
     "traceback": [
      "\u001b[0;31m---------------------------------------------------------------------------\u001b[0m",
      "\u001b[0;31mNameError\u001b[0m                                 Traceback (most recent call last)",
      "\u001b[0;32m<ipython-input-5-4110c8ed12fd>\u001b[0m in \u001b[0;36m<module>\u001b[0;34m()\u001b[0m\n\u001b[0;32m----> 1\u001b[0;31m \u001b[0mironman\u001b[0m\u001b[0;34m.\u001b[0m\u001b[0mnameCall\u001b[0m\u001b[0;34m(\u001b[0m\u001b[0;34m)\u001b[0m\u001b[0;34m\u001b[0m\u001b[0m\n\u001b[0m",
      "\u001b[0;32m<ipython-input-3-9a1db1023ecc>\u001b[0m in \u001b[0;36mnameCall\u001b[0;34m(self)\u001b[0m\n\u001b[1;32m      8\u001b[0m \u001b[0;34m\u001b[0m\u001b[0m\n\u001b[1;32m      9\u001b[0m     \u001b[0;32mdef\u001b[0m \u001b[0mnameCall\u001b[0m\u001b[0;34m(\u001b[0m\u001b[0mself\u001b[0m\u001b[0;34m)\u001b[0m\u001b[0;34m:\u001b[0m\u001b[0;34m\u001b[0m\u001b[0m\n\u001b[0;32m---> 10\u001b[0;31m         \u001b[0mprint\u001b[0m\u001b[0;34m(\u001b[0m\u001b[0;34m\"제 이름은 %s입니다.\"\u001b[0m \u001b[0;34m%\u001b[0m \u001b[0mname\u001b[0m\u001b[0;34m)\u001b[0m\u001b[0;34m\u001b[0m\u001b[0m\n\u001b[0m",
      "\u001b[0;31mNameError\u001b[0m: name 'name' is not defined"
     ]
    }
   ],
   "source": [
    "ironman.nameCall()"
   ]
  },
  {
   "cell_type": "markdown",
   "metadata": {},
   "source": [
    "`name` 이라는 이름을 모른다는 `NameError` 오류가 발생한다.\n",
    "반면에 `ironman` 인스턴스를 생성할 때 분명이 오류 없이 '아이언맨' 이란 이름이 잘 전달되었다.\n",
    "이유가 무엇일까? \n",
    "이유는 간단하다.\n",
    "생성자 메소드를 통해 입력된 인자들이 생성자 메소드 밖으로 전달되지 않기 때문이며,\n",
    "이는 함수의 매개변수들이 소위 \"지역변수\"로서 갖는 한계이다. \n",
    "\n",
    "그렇다면 어떻게 해야 하나?\n",
    "생성자 메소드의 매개변수를 통해 전달되는 인자들이 생성자 메소드 밖으로 전달되어\n",
    "생성된 인스턴스의 어디서도 사용될 수 있도록 하는 기능이 필요하다.\n",
    "그리고 바로 이런 기능을 위해 소위 __인스턴스 변수__ 들을 사용한다."
   ]
  },
  {
   "cell_type": "markdown",
   "metadata": {},
   "source": [
    "### 인스턴스 변수의 기능"
   ]
  },
  {
   "cell_type": "markdown",
   "metadata": {},
   "source": [
    "인스턴스 변수는 인스턴스를 생성할 때 생성자의 매개변수를 통해 전달되는 값들을 저장하여 생성되는 인스턴스가 언제든 사용할 수 있도록 값을 저장해 두는 기능을 갖는다. \n",
    "\n",
    "예를 들어, `nameCall` 함수가 호출되었을 때 필요한 캐릭터 이름을 기억해 두는 인스턴스 변수가 생성자가 호출되어 실행될 때 함께 선언되어야 한다.\n",
    "파이썬의 클래스에서 선언되는 인스턴스 변수는 항상 `self` 키워드를 함께 사용한다.\n",
    "\n",
    "**주의:** `self`의 역할은 여기서는 설명하지 않는다. 일단은 그냥 그렇다는 정도만 기억해 두어야 한다."
   ]
  },
  {
   "cell_type": "code",
   "execution_count": 15,
   "metadata": {},
   "outputs": [],
   "source": [
    "class Character(object):\n",
    "    \n",
    "    def __init__(self, name, health, damage, inventory):\n",
    "        self.name = name                         # 입력된 캐릭터 이름을 기억하는 인스턴스 변수 선언\n",
    "        print(\"제 이름은 %s입니다\" % name)\n",
    "        print(\"현재 저의 체력은 %s입니다.\" % health)\n",
    "        print(\"저는 공격할 때마다 상대방에게 %s만큼의 손상을 줍니다.\" % damage)\n",
    "        print(\"제 수트의 방어력은 %d이며 사용하는 무기는 %s입니다.\" % \\\n",
    "              (inventory['suit'], inventory['weapon']))\n",
    "\n",
    "    # 이름말하기 메소드\n",
    "    def nameCall(self):\n",
    "        print(\"제 이름은 %s입니다.\" % self.name)    # 인스턴스 변수는 항상 self와 함께 사용"
   ]
  },
  {
   "cell_type": "code",
   "execution_count": 11,
   "metadata": {},
   "outputs": [
    {
     "name": "stdout",
     "output_type": "stream",
     "text": [
      "제 이름은 아이언맨입니다\n",
      "현재 저의 체력은 100입니다.\n",
      "저는 공격할 때마다 상대방에게 200만큼의 손상을 줍니다.\n",
      "제 수트의 방어력은 500이며 사용하는 무기는 레이저입니다.\n"
     ]
    }
   ],
   "source": [
    "ironman = Character('아이언맨', 100, 200, {'suit': 500, 'weapon': '레이저'})"
   ]
  },
  {
   "cell_type": "markdown",
   "metadata": {},
   "source": [
    "이제 `nameCall` 메소드가 작동하는 것을 확인할 수 있다."
   ]
  },
  {
   "cell_type": "code",
   "execution_count": 12,
   "metadata": {},
   "outputs": [
    {
     "name": "stdout",
     "output_type": "stream",
     "text": [
      "제 이름은 아이언맨입니다.\n"
     ]
    }
   ],
   "source": [
    "ironman.nameCall()"
   ]
  },
  {
   "cell_type": "markdown",
   "metadata": {},
   "source": [
    "### 인스턴스 변수라고 불리는 이유"
   ]
  },
  {
   "cell_type": "markdown",
   "metadata": {},
   "source": [
    "인스턴스 변수라 불리는 이유는 ...."
   ]
  },
  {
   "cell_type": "code",
   "execution_count": null,
   "metadata": {},
   "outputs": [],
   "source": []
  },
  {
   "cell_type": "code",
   "execution_count": null,
   "metadata": {},
   "outputs": [],
   "source": []
  },
  {
   "cell_type": "code",
   "execution_count": null,
   "metadata": {},
   "outputs": [],
   "source": []
  },
  {
   "cell_type": "markdown",
   "metadata": {},
   "source": [
    "`Character` 클래스를 좀 더 수정하자.\n",
    "\n",
    "캐릭터 인스턴스를 생성할 때 마다 바로바로 캐릭터 소개를 보여주는 대신에\n",
    "필요할 때 소개하는 기능을 추가해보자.\n",
    "그러려면, 생성자 메소드의 본문에 `name`, `health`, `damage`, `inventory` 각각에 해당하는 \n",
    "인스턴스 변수 선언을 하고, \n",
    "자기소개를 하는 메소드를 추가하면 된다."
   ]
  },
  {
   "cell_type": "code",
   "execution_count": 17,
   "metadata": {},
   "outputs": [],
   "source": [
    "class Character(object):\n",
    "    \n",
    "    def __init__(self, name, health, damage, inventory):\n",
    "        self.name = name\n",
    "        self.health = health\n",
    "        self.damage = damage\n",
    "        self.inventory = inventory\n",
    "        \n",
    "    # 이름말하기 메소드\n",
    "    def nameCall(self):  \n",
    "        print(\"제 이름은 %s입니다.\" % self.name)    \n",
    "\n",
    "    # 자기소개 메소드\n",
    "    def introduction(self): \n",
    "        print(\"제 이름은 %s입니다\" % self.name)\n",
    "        print(\"현재 저의 체력은 %s입니다.\" % self.health)\n",
    "        print(\"저는 공격할 때마다 상대방에게 %s만큼의 손상을 줍니다.\" % self.damage)\n",
    "        print(\"제 수트의 방어력은 %d이며 사용하는 무기는 %s입니다.\" % \\\n",
    "              (self.inventory['suit'], self.inventory['weapon']))"
   ]
  },
  {
   "cell_type": "markdown",
   "metadata": {},
   "source": [
    "이제 인스턴스를 생성해도 겉으로는 아무런 일도 벌어지지 않는다."
   ]
  },
  {
   "cell_type": "code",
   "execution_count": 18,
   "metadata": {},
   "outputs": [],
   "source": [
    "ironman = Character('아이언맨', 100, 200, {'suit': 500, 'weapon': '레이저'})"
   ]
  },
  {
   "cell_type": "markdown",
   "metadata": {},
   "source": [
    "하지만 자기소개를 하라고 하면 된다."
   ]
  },
  {
   "cell_type": "code",
   "execution_count": 19,
   "metadata": {},
   "outputs": [
    {
     "name": "stdout",
     "output_type": "stream",
     "text": [
      "제 이름은 아이언맨입니다\n",
      "현재 저의 체력은 100입니다.\n",
      "저는 공격할 때마다 상대방에게 200만큼의 손상을 줍니다.\n",
      "제 수트의 방어력은 500이며 사용하는 무기는 레이저입니다.\n"
     ]
    }
   ],
   "source": [
    "ironman.introduction()"
   ]
  },
  {
   "cell_type": "markdown",
   "metadata": {},
   "source": [
    "## 인스턴스 메소드"
   ]
  },
  {
   "cell_type": "markdown",
   "metadata": {},
   "source": [
    "지금까지 `Character` 클래스에서 정의된 메소드들은 모두 __인스턴스 메소드__ 이다.\n",
    "인스턴스 메소드를 구분하는 기준은 간단하다. \n",
    "첫째 매개변수로 `self`가 사용된 메소드를 인스턴스 메소드라고 부른다.\n",
    "인스턴스 메소드가 아닌 메소드를 __클래스 메소드__ 라고 하는데 이에 대해서는 나중에 다룰 예정이다.\n",
    "\n",
    "인스턴스 메소드의 의미는 \"인스턴스가 생성된 후에야 의미를 갖는 메소드\" 라는 의미이다.\n"
   ]
  },
  {
   "cell_type": "code",
   "execution_count": 23,
   "metadata": {},
   "outputs": [],
   "source": [
    "Character.__init__(Character, 2, 3, 4, 5)"
   ]
  },
  {
   "cell_type": "code",
   "execution_count": 26,
   "metadata": {},
   "outputs": [
    {
     "name": "stdout",
     "output_type": "stream",
     "text": [
      "제 이름은 아이언맨입니다.\n"
     ]
    }
   ],
   "source": [
    "Character.nameCall(ironman)"
   ]
  },
  {
   "cell_type": "code",
   "execution_count": 17,
   "metadata": {},
   "outputs": [],
   "source": [
    "# class 정의\n",
    "class Character(object):\n",
    "    def __init__(self, name, health, damage, inventory):\n",
    "        self.name = name\n",
    "        self.health = health\n",
    "        self.damage = damage\n",
    "        self.inventory = inventory"
   ]
  },
  {
   "cell_type": "code",
   "execution_count": 13,
   "metadata": {},
   "outputs": [
    {
     "name": "stdout",
     "output_type": "stream",
     "text": [
      "제 이름은 아이언맨입니다\n",
      "현재 저의 체력은 100입니다.\n",
      "저는 공격할 때마다 상대방에게 200만큼의 손상을 줍니다.\n",
      "제 수트의 방어력은 500이며 사용하는 무기는 레이저입니다.\n"
     ]
    }
   ],
   "source": [
    "ironman = Character('아이언맨', 100, 200, {'suit': 500, 'weapon': '레이저'})"
   ]
  },
  {
   "cell_type": "markdown",
   "metadata": {},
   "source": [
    "실제로 이름을 확인하면 다음과 같다."
   ]
  },
  {
   "cell_type": "code",
   "execution_count": 26,
   "metadata": {},
   "outputs": [
    {
     "name": "stdout",
     "output_type": "stream",
     "text": [
      "아이언맨\n"
     ]
    }
   ],
   "source": [
    "print(ironman.name)"
   ]
  },
  {
   "cell_type": "code",
   "execution_count": 27,
   "metadata": {},
   "outputs": [
    {
     "name": "stdout",
     "output_type": "stream",
     "text": [
      "100\n"
     ]
    }
   ],
   "source": [
    "print(ironman.health)"
   ]
  },
  {
   "cell_type": "code",
   "execution_count": null,
   "metadata": {},
   "outputs": [],
   "source": []
  },
  {
   "cell_type": "code",
   "execution_count": null,
   "metadata": {},
   "outputs": [],
   "source": []
  },
  {
   "cell_type": "code",
   "execution_count": 18,
   "metadata": {},
   "outputs": [],
   "source": [
    "# class 정의\n",
    "class Character(object):\n",
    "    def __init__(self, name, health, damage, inventory):\n",
    "        self.name = name\n",
    "        self.health = health\n",
    "        self.damage = damage\n",
    "        self.inventory = inventory\n",
    "\n",
    "    def __repr__(self):\n",
    "        return self.name"
   ]
  },
  {
   "cell_type": "code",
   "execution_count": 31,
   "metadata": {},
   "outputs": [],
   "source": [
    "ironman = Character('아이언맨', 100, 200, {'gold': 500, 'weapon': '레이저'})"
   ]
  },
  {
   "cell_type": "code",
   "execution_count": 32,
   "metadata": {},
   "outputs": [
    {
     "name": "stdout",
     "output_type": "stream",
     "text": [
      "아이언맨\n"
     ]
    }
   ],
   "source": [
    "print(ironman)"
   ]
  },
  {
   "cell_type": "code",
   "execution_count": null,
   "metadata": {},
   "outputs": [],
   "source": []
  },
  {
   "cell_type": "code",
   "execution_count": null,
   "metadata": {},
   "outputs": [],
   "source": []
  },
  {
   "cell_type": "code",
   "execution_count": null,
   "metadata": {},
   "outputs": [],
   "source": []
  },
  {
   "cell_type": "code",
   "execution_count": 39,
   "metadata": {},
   "outputs": [],
   "source": [
    "# -*- coding: utf-8 -*-\n",
    "\n",
    "# class 정의\n",
    "class Character(object):\n",
    "    def __init__(self, name, health, damage, inventory):\n",
    "        self.name = name\n",
    "        self.health = health\n",
    "        self.damage = damage\n",
    "        self.inventory = inventory\n",
    "\n",
    "    def __repr__(self):\n",
    "        return \"저는 %s입니다.\" % self.name"
   ]
  },
  {
   "cell_type": "code",
   "execution_count": 40,
   "metadata": {},
   "outputs": [],
   "source": [
    "ironman = Character('아이언맨', 100, 200, {'gold': 500, 'weapon': '레이저'})"
   ]
  },
  {
   "cell_type": "code",
   "execution_count": 41,
   "metadata": {},
   "outputs": [
    {
     "name": "stdout",
     "output_type": "stream",
     "text": [
      "저는 아이언맨입니다.\n"
     ]
    }
   ],
   "source": [
    "print(ironman)"
   ]
  },
  {
   "cell_type": "code",
   "execution_count": null,
   "metadata": {},
   "outputs": [],
   "source": []
  },
  {
   "cell_type": "code",
   "execution_count": null,
   "metadata": {},
   "outputs": [],
   "source": []
  },
  {
   "cell_type": "code",
   "execution_count": 2,
   "metadata": {},
   "outputs": [
    {
     "name": "stdout",
     "output_type": "stream",
     "text": [
      "[<__main__.Character object at 0x10d5c8cf8>, <__main__.Character object at 0x10d5c8d68>, <__main__.Character object at 0x10d5c8d30>]\n",
      "[<__main__.Character object at 0x10d5c8da0>, <__main__.Character object at 0x10d5c8cc0>, <__main__.Character object at 0x10d5c8dd8>]\n",
      "[<__main__.Character object at 0x10d5c8d68>, <__main__.Character object at 0x10d5c8d30>]\n"
     ]
    }
   ],
   "source": [
    "        \n",
    "# Character 클래스의 오브젝트 생성\n",
    "heroes = []\n",
    "heroes.append(Character('아이언맨', 100, 200, {'gold': 500, 'weapon': '레이저'}))\n",
    "heroes.append(Character('데드풀', 300, 30, {'gold': 300, 'weapon': '장검'}))\n",
    "heroes.append(Character('울버린', 200, 50, {'gold': 350, 'weapon': '클로'}))\n",
    "\n",
    "monsters = []\n",
    "monsters.append(Character('고블린', 90, 30, {'gold': 50, 'weapon': '창'}))\n",
    "monsters.append(Character('드래곤', 200, 80, {'gold': 200, 'weapon': '화염'}))\n",
    "monsters.append(Character('뱀파이어', 80, 120, {'gold': 1000, 'weapon': '최면술'}))\n",
    "\n",
    "print(heroes)  # 히어로 리스트 확인\n",
    "print(monsters)  # 몬스터 리스트 확인\n",
    "del(heroes[0])  # 히어로 리스트에서 아이언맨 삭제\n",
    "print(heroes)  # 히어로 리스트 재확인"
   ]
  },
  {
   "cell_type": "markdown",
   "metadata": {},
   "source": [
    "__객체__는 생각하고 다룰 수 있는 구체적인 대상(Object)를 일컫는다. \n",
    "그런데 "
   ]
  },
  {
   "cell_type": "markdown",
   "metadata": {},
   "source": [
    "## 연습문제"
   ]
  },
  {
   "cell_type": "markdown",
   "metadata": {},
   "source": [
    "1."
   ]
  }
 ],
 "metadata": {
  "kernelspec": {
   "display_name": "Python 3",
   "language": "python",
   "name": "python3"
  },
  "language_info": {
   "codemirror_mode": {
    "name": "ipython",
    "version": 3
   },
   "file_extension": ".py",
   "mimetype": "text/x-python",
   "name": "python",
   "nbconvert_exporter": "python",
   "pygments_lexer": "ipython3",
   "version": "3.6.4"
  }
 },
 "nbformat": 4,
 "nbformat_minor": 2
}
