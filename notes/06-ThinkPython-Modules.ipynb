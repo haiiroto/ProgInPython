{
 "cells": [
  {
   "cell_type": "markdown",
   "metadata": {},
   "source": [
    "## 모듈 작성하기"
   ]
  },
  {
   "cell_type": "markdown",
   "metadata": {},
   "source": [
    "파이썬 코드를 포함하는 모든 파일은 모듈로 들여오기 할 수 있습니다. 예를 들어, 다음과 같은 코드가 들어있는 wc.py 라는 파일이 있다고 합시다:"
   ]
  },
  {
   "cell_type": "code",
   "execution_count": null,
   "metadata": {},
   "outputs": [],
   "source": [
    "def linecount(filename):\n",
    "    count = 0\n",
    "    for line in open(filename):\n",
    "        count += 1\n",
    "    return count"
   ]
  },
  {
   "cell_type": "code",
   "execution_count": null,
   "metadata": {},
   "outputs": [],
   "source": [
    "print(linecount('wc.py'))"
   ]
  },
  {
   "cell_type": "markdown",
   "metadata": {},
   "source": [
    "이 프로그램을 실행하면, 자지 자신을 읽어서 파일에 있는 줄의 개수, 7입니다,를 인쇄합니다. 여러분인 이런 식으로 들여오기 할 수도 있습니다:"
   ]
  },
  {
   "cell_type": "code",
   "execution_count": null,
   "metadata": {},
   "outputs": [],
   "source": [
    "import wc"
   ]
  },
  {
   "cell_type": "markdown",
   "metadata": {},
   "source": [
    "이제 여러분은 모듈 객체 `wc`를 얻게 됩니다:"
   ]
  },
  {
   "cell_type": "code",
   "execution_count": null,
   "metadata": {},
   "outputs": [],
   "source": [
    "print(wc)"
   ]
  },
  {
   "cell_type": "markdown",
   "metadata": {},
   "source": [
    "이 모듈은 `linecount`라는 함수를 제공합니다:"
   ]
  },
  {
   "cell_type": "code",
   "execution_count": null,
   "metadata": {},
   "outputs": [],
   "source": [
    "wc.linecount('wc.py')"
   ]
  },
  {
   "cell_type": "markdown",
   "metadata": {},
   "source": [
    "이 것이 파이썬에서 모듈을 작성하는 방법입니다.\n",
    "\n",
    "이 예에서 단 한가지 문제는 모듈을 들여오기 할 때 그 끝에 있는 테스트 코드를 실행한다는 것입니다. 보통 모듈을 들여오기 할 때, 새 함수를 정의하기는 하지만 그 것들을 실행하지는 않습니다.\n",
    "\n",
    "모듈로 들여오기 될 프로그램들은 종종 다음과 같은 관용 표현을 사용합니다:"
   ]
  },
  {
   "cell_type": "markdown",
   "metadata": {},
   "source": [
    "```python\n",
    "if __name__ == '__main__':\n",
    "    print linecount('wc.py')\n",
    "```"
   ]
  },
  {
   "cell_type": "markdown",
   "metadata": {},
   "source": [
    "`__name__` 은 프로그램이 시작할 때 설정되는 내장 변수입니다. 만약 프로그램이 스크립트로 실행되고 있다면, \n",
    "`__name__` 은 `__main__` 이라는 값을 갖습니다; 그 경우 테스트 코드가 실행됩니다. 그렇지 않으면, 모듈이 들여오기 되는 중이면, 테스트 코드는 건너뜁니다."
   ]
  },
  {
   "cell_type": "markdown",
   "metadata": {},
   "source": [
    "## 연습\n",
    "\n",
    "1. 이 예를 `wc.py` 라는 파일에 입력하고 스크립트로 실행하세요. \n",
    "    그런 다음 파이썬 인터프리터를 실행하고 `import wc` 하세요. \n",
    "    모듈이 들여오기 중일 때 `__name__` 의 값은 뭔가요?\n",
    "    <br><br>\n",
    "    경고: 이미 들여오기 된 모듈을 들여오기 하면, 파이썬은 아무 일도 하지 않습니다. \n",
    "    파일이 변경되었다 하더라도, 파일을 다시 읽지 않습니다.\n",
    "    모듈을 다시 읽어오기를 원한다면, 내장 함수 `reload`를 사용할 수 있습니다만, \n",
    "    까다로울 수 있어서, 할 수 있는 가장 안전한 것은 인터프리터를 다시 시작시킨 후에 모듈을 다시 들여오기 하는 것입니다.\n",
    "    <br><br>\n",
    "1. "
   ]
  }
 ],
 "metadata": {
  "kernelspec": {
   "display_name": "Python 3",
   "language": "python",
   "name": "python3"
  },
  "language_info": {
   "codemirror_mode": {
    "name": "ipython",
    "version": 3
   },
   "file_extension": ".py",
   "mimetype": "text/x-python",
   "name": "python",
   "nbconvert_exporter": "python",
   "pygments_lexer": "ipython3",
   "version": "3.6.3"
  }
 },
 "nbformat": 4,
 "nbformat_minor": 2
}
