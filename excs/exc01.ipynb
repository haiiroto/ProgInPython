{
 "cells": [
  {
   "cell_type": "markdown",
   "metadata": {},
   "source": [
    "## 과제 1"
   ]
  },
  {
   "cell_type": "markdown",
   "metadata": {},
   "source": [
    "아래와 같은 리스트가 있다."
   ]
  },
  {
   "cell_type": "code",
   "execution_count": 1,
   "metadata": {},
   "outputs": [],
   "source": [
    "movies2 = [\"The Holy Grail\", 1975, \"Terry Jones & Terry Gilliam\", 91, \n",
    "           [\"Graham Chapman\", \n",
    "            [\"Michael Palin\", \"John cleese\", \"Terry Gilliam\", \"Eric Idle\", \"Terry Jones\"]]]"
   ]
  },
  {
   "cell_type": "markdown",
   "metadata": {},
   "source": [
    "* 위 리스트를 아래와 같이 출력하는 코드는 2중 `for`문을 이용할 수 있다.\n",
    "\n",
    "        The Holy Grail\n",
    "        1975\n",
    "        Terry Jones & Terry Gilliam\n",
    "        91\n",
    "        Graham Chapman\n",
    "        ['Michael Palin', 'John cleese', 'Terry Gilliam', 'Eric Idle', 'Terry Jones']"
   ]
  },
  {
   "cell_type": "code",
   "execution_count": 2,
   "metadata": {},
   "outputs": [
    {
     "name": "stdout",
     "output_type": "stream",
     "text": [
      "The Holy Grail\n",
      "1975\n",
      "Terry Jones & Terry Gilliam\n",
      "91\n",
      "Graham Chapman\n",
      "['Michael Palin', 'John cleese', 'Terry Gilliam', 'Eric Idle', 'Terry Jones']\n"
     ]
    }
   ],
   "source": [
    "for each_item in movies2:\n",
    "    if isinstance(each_item, list):\n",
    "        for nested_item in each_item:\n",
    "            print(nested_item)\n",
    "    else:\n",
    "        print(each_item)"
   ]
  },
  {
   "cell_type": "markdown",
   "metadata": {},
   "source": [
    "이제 `movies2`를 아래 모양으로 출력하는 코드를 구현하라.\n",
    "즉, 중첩으로 사용된 리스트를 모두 해체하는 코드가 필요하다.\n",
    "\n",
    "    The Holy Grail\n",
    "    1975\n",
    "    Terry Jones & Terry Gilliam\n",
    "    91\n",
    "    Graham Chapman\n",
    "    Michael Palin\n",
    "    John cleese\n",
    "    Terry Gilliam\n",
    "    Eric Idle\n",
    "    Terry Jones\n",
    "    \n",
    "##### 힌트\n",
    "\n",
    "* `isinstance` 함수와 3중 `for`문 활용"
   ]
  },
  {
   "cell_type": "markdown",
   "metadata": {},
   "source": [
    "## 재귀함수"
   ]
  },
  {
   "cell_type": "markdown",
   "metadata": {},
   "source": [
    "연습1의 문제를 풀면서 한 가지 문제가 있음을 알아챘을 것이다. \n",
    "`movies2` 리스트의 중첩 정도와 원하는 결과에 따라 사용해야 하는 `for`문의 중첩 정도가 상응해서 복잡해지기 때문이다.\n",
    "현재 `moviesw` 리스트는 3중 리스트 모양이다. 따라서 가장 안쪽에 위치한 리스트의 내용을 확인하려면 `for`문을 3중으로 이용해야 한다.\n",
    "\n",
    "그렇다면 4중, 5중, 6중 등등의 리스트를 다룬다면 4중, 5중, 6중 등등의 `for`문을 사용해야 한다는 말인데, 이건 매우 심각하다. 그런식으로 구현된 프로그램은 최악 중의 최악이다. 도대체 몇 중의 리스트를 다룰지 매번 보고 결정해야 한다는 말인데 매우 비효율적이며 어떠한 실용성도 없는 프로그램 작성법이다. \n",
    "\n",
    "그렇다면 리스트의 중첩 정도의 정보를 굳이 사용하지 않으면서 연습5의 결과를 얻어낼 수 있는 방법이 필요하다. \n",
    "여기서 재귀함수를 이용한 해결책을 소개한다. \n",
    "\n",
    "먼저 다음에 정의되는 `print_lol` 함수를 살펴보자."
   ]
  },
  {
   "cell_type": "code",
   "execution_count": 3,
   "metadata": {},
   "outputs": [],
   "source": [
    "def print_lol(a_list):\n",
    "    for each_item in a_list:\n",
    "        if isinstance(each_item, list):\n",
    "            print_lol(each_item)\n",
    "        else:\n",
    "            print(each_item)"
   ]
  },
  {
   "cell_type": "markdown",
   "metadata": {},
   "source": [
    "`print_lol` 함수는 좀 이상하다. \n",
    "정의가 끝나지 않았는데 자신을 자신 본체에서 사용한다. \n",
    "이런 함수를 __재귀함수__(recursive function)라 부른다. \n",
    "\n",
    "4번 줄에서 사용된 `print_lol` 함수호출이 이루어지면 다시 2번 줄로 돌아간다.\n",
    "즉, 현재 확인하는 항목이 또다른 리스트인지를 묻는 질문을 리스트가 아닐 때까지 반복한다.\n",
    "따라서 `print_lol` 함수를 이용하면 연습4의 문제를 바로 해결한다.\n",
    "사실 임의로 중첩된 리스트를 인자로 받아도 중첩을 모두 풀어버린다."
   ]
  },
  {
   "cell_type": "code",
   "execution_count": 4,
   "metadata": {},
   "outputs": [
    {
     "name": "stdout",
     "output_type": "stream",
     "text": [
      "The Holy Grail\n",
      "1975\n",
      "Terry Jones & Terry Gilliam\n",
      "91\n",
      "Graham Chapman\n",
      "Michael Palin\n",
      "John cleese\n",
      "Terry Gilliam\n",
      "Eric Idle\n",
      "Terry Jones\n"
     ]
    }
   ],
   "source": [
    "print_lol(movies2)"
   ]
  },
  {
   "cell_type": "markdown",
   "metadata": {},
   "source": [
    "## 과제 2"
   ]
  },
  {
   "cell_type": "markdown",
   "metadata": {},
   "source": [
    "`print_lol` 함수를 수정하여 `movies2`를 아래와 같이 출력하도록 구현하라.\n",
    "\n",
    "    The Holy Grail\n",
    "    1975\n",
    "    Terry Jones & Terry Gilliam\n",
    "    91\n",
    "        Graham Chapman\n",
    "                Michael Palin\n",
    "                John cleese\n",
    "                Terry Gilliam\n",
    "                Eric Idle\n",
    "                Terry Jones\n",
    "                \n",
    "##### 힌트\n",
    "* `print_lol` 함수의 인자를 두 개로 수정한다. \n",
    "    하나는 리스트의 인자를 다루며, 다른 하나는 들어쓰기 정도를 다루는 \n",
    "    인자를 하나 받아서 앞 문제 코드의 for문을 재귀적으로 처리한다. \n",
    "    즉, 아래와 같은 모양을 갖는다.\n",
    " \n",
    "        def print_lol(the_list, level):\n",
    "            함수본체\n",
    "\n",
    "    위에서 level은 탭을 사용하는 횟수를 나타내도록 한다. \n",
    "    그러면 `print_lol(movies2, 0)`을 실행하면 원하는 결과가 나올 수 있다.\n",
    "    \n",
    "* 탭 출력은 `print('\\t')`를 이용하면 된다."
   ]
  },
  {
   "cell_type": "markdown",
   "metadata": {},
   "source": [
    "## 과제 3"
   ]
  },
  {
   "cell_type": "markdown",
   "metadata": {},
   "source": [
    "과제 2에서 구현한 `print_lol` 함수를 아래와 같이 수정하라.\n",
    "\n",
    "* 인자수를 세 개로 늘린다.\n",
    "```python\n",
    "def print_lol(movie_list, level, indent=False):\n",
    "    함수본체\n",
    "```            \n",
    "* `indent` 예약어인자 값이 `True`이면 연습4에서 처럼 들여쓰기를 하고, `False`이면 연습3에서 처럼 들여쓰기를 하지 않는다."
   ]
  },
  {
   "cell_type": "markdown",
   "metadata": {},
   "source": [
    "## 과제 4"
   ]
  },
  {
   "cell_type": "markdown",
   "metadata": {},
   "source": [
    "아래 문장들을 `sketch1.txt` 파일에 저장한다. \n",
    "```\n",
    "Man: Is this the right room for an argument? \n",
    "Other Man: Oh I'm sorry: or the full half hour? \n",
    "(pause)\n",
    "Man: Ah! Just the five minutes.\n",
    "```\n",
    "`sketch1.txt` 파일에 저장된 문장들을 읽어 들인 후 아래 처럼 출력하도록 한다. \n",
    "```\n",
    "Man said:  Is this the right room for an argument? \n",
    "Other Man said:  Oh I'm sorry: or the full half hour? \n",
    "Man said:  Ah! Just the five minutes.\n",
    "```\n",
    "##### 힌트\n",
    "* 파일을 읽어 들이기 위해 open 함수 이용\n",
    "* split 메소드 활용. 단, split 메소드 옵션에 주의한다.\n",
    "    (두 번째 줄 문장에 콜론(`':'`) 기호가 두 번 들어가 있음에 주의한다.\n",
    "    옵션을 1로 주어야 한다.)\n",
    "* 셋째 줄은 \":\" 기호를 갖지 않음에 주의한다.\n",
    "    따라서 `split(':')`이 이 경우 에러를 발생시킨다.\n",
    "    이 경우를 대비해서 `try ..., except ...`  를 활용할 수 있다."
   ]
  }
 ],
 "metadata": {
  "kernelspec": {
   "display_name": "Python 3",
   "language": "python",
   "name": "python3"
  },
  "language_info": {
   "codemirror_mode": {
    "name": "ipython",
    "version": 3
   },
   "file_extension": ".py",
   "mimetype": "text/x-python",
   "name": "python",
   "nbconvert_exporter": "python",
   "pygments_lexer": "ipython3",
   "version": "3.6.3"
  }
 },
 "nbformat": 4,
 "nbformat_minor": 1
}
